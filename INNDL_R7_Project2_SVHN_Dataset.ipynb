{
 "cells": [
  {
   "cell_type": "markdown",
   "metadata": {
    "colab_type": "text",
    "id": "24CRfVepJxji"
   },
   "source": [
    "# Introduction to Neural Netwoks and Deep Learning : INNDL_R7_Project2"
   ]
  },
  {
   "cell_type": "markdown",
   "metadata": {
    "colab_type": "text",
    "id": "sicjDTBdJxjl"
   },
   "source": [
    "# The Street View House Numbers (SVHN) Dataset"
   ]
  },
  {
   "cell_type": "markdown",
   "metadata": {
    "colab_type": "text",
    "id": "MHCHJj1aJxjm"
   },
   "source": [
    "### Set up the Environment - Install and load tensorflow"
   ]
  },
  {
   "cell_type": "code",
   "execution_count": 0,
   "metadata": {
    "colab": {},
    "colab_type": "code",
    "id": "V0I8WkVaJxjn"
   },
   "outputs": [],
   "source": [
    "#Check if tensorFlow is already installed\n",
    "\n",
    "#!pip list"
   ]
  },
  {
   "cell_type": "code",
   "execution_count": 2,
   "metadata": {
    "colab": {
     "base_uri": "https://localhost:8080/",
     "height": 68
    },
    "colab_type": "code",
    "id": "UAdF5XRKJxjr",
    "outputId": "48344964-d613-4c34-fcd6-c0c0277c3d48"
   },
   "outputs": [
    {
     "name": "stdout",
     "output_type": "stream",
     "text": [
      "\u001b[K     |████████████████████████████████| 86.3MB 51kB/s \n",
      "\u001b[K     |████████████████████████████████| 3.8MB 29.0MB/s \n",
      "\u001b[K     |████████████████████████████████| 450kB 52.3MB/s \n",
      "\u001b[?25h"
     ]
    }
   ],
   "source": [
    "#Make sure we have the latest version tensorflow 2.x installed\n",
    "\n",
    "!pip install -U tensorflow==2.0 --quiet"
   ]
  },
  {
   "cell_type": "code",
   "execution_count": 3,
   "metadata": {
    "colab": {
     "base_uri": "https://localhost:8080/",
     "height": 34
    },
    "colab_type": "code",
    "id": "PX7m57T7Jxjv",
    "outputId": "cb3e5c2a-1bbd-4bea-c0d9-bf6d36b93b45"
   },
   "outputs": [
    {
     "data": {
      "text/plain": [
       "'2.0.0'"
      ]
     },
     "execution_count": 3,
     "metadata": {
      "tags": []
     },
     "output_type": "execute_result"
    }
   ],
   "source": [
    "#Import tensorflow and check version\n",
    "\n",
    "import tensorflow as tf\n",
    "tf.__version__"
   ]
  },
  {
   "cell_type": "code",
   "execution_count": 4,
   "metadata": {
    "colab": {
     "base_uri": "https://localhost:8080/",
     "height": 34
    },
    "colab_type": "code",
    "id": "R-6CxI6oJxj0",
    "outputId": "aa3248d5-6fa9-418b-a034-111c87a56102"
   },
   "outputs": [
    {
     "data": {
      "text/plain": [
       "True"
      ]
     },
     "execution_count": 4,
     "metadata": {
      "tags": []
     },
     "output_type": "execute_result"
    }
   ],
   "source": [
    "#Using executing_eagerly() to execute and evaluate operations immediately, without building graphs\n",
    "\n",
    "tf.executing_eagerly()"
   ]
  },
  {
   "cell_type": "code",
   "execution_count": 5,
   "metadata": {
    "colab": {
     "base_uri": "https://localhost:8080/",
     "height": 122
    },
    "colab_type": "code",
    "id": "VdHNmXY_KS0b",
    "outputId": "57615590-0a83-4ca4-a660-f6081cabcb3d"
   },
   "outputs": [
    {
     "name": "stdout",
     "output_type": "stream",
     "text": [
      "Go to this URL in a browser: https://accounts.google.com/o/oauth2/auth?client_id=947318989803-6bn6qk8qdgf4n4g3pfee6491hc0brc4i.apps.googleusercontent.com&redirect_uri=urn%3aietf%3awg%3aoauth%3a2.0%3aoob&response_type=code&scope=email%20https%3a%2f%2fwww.googleapis.com%2fauth%2fdocs.test%20https%3a%2f%2fwww.googleapis.com%2fauth%2fdrive%20https%3a%2f%2fwww.googleapis.com%2fauth%2fdrive.photos.readonly%20https%3a%2f%2fwww.googleapis.com%2fauth%2fpeopleapi.readonly\n",
      "\n",
      "Enter your authorization code:\n",
      "··········\n",
      "Mounted at /gdrive\n"
     ]
    }
   ],
   "source": [
    "from google.colab import drive\n",
    "drive.mount('/gdrive')"
   ]
  },
  {
   "cell_type": "markdown",
   "metadata": {
    "colab_type": "text",
    "id": "Pk5W-1vjJxj3"
   },
   "source": [
    "### Import required Python and Skikitlearn libraries"
   ]
  },
  {
   "cell_type": "code",
   "execution_count": 0,
   "metadata": {
    "colab": {},
    "colab_type": "code",
    "id": "tdCunfnYJxj4"
   },
   "outputs": [],
   "source": [
    "import pandas as pd\n",
    "import numpy as np\n",
    "\n",
    "#Import The h5py package which is a Pythonic interface to the HDF5 binary data format\n",
    "#h5py files are used to store huge HDF5 binary data format amounts of numerical data, and easily manipulate that data from NumPy.\n",
    "import h5py\n",
    "\n",
    "import matplotlib.pyplot as plt\n",
    "%matplotlib inline\n",
    "\n",
    "import seaborn as sns\n",
    "\n",
    "from sklearn.metrics import accuracy_score,f1_score,precision_score,recall_score,confusion_matrix,classification_report\n",
    "\n",
    "#Set default figure size\n",
    "plt.rcParams['figure.figsize'] = (16.0, 4.0)"
   ]
  },
  {
   "cell_type": "markdown",
   "metadata": {
    "colab_type": "text",
    "id": "SCBjT74MJxj8"
   },
   "source": [
    "### Problem Statement :\n",
    "### Given the Street View House Numbers (SVHN) Dataset, implement a simple image classification pipeline based on a deep neural network."
   ]
  },
  {
   "cell_type": "markdown",
   "metadata": {
    "colab_type": "text",
    "id": "9hcDJjv9Jxj9"
   },
   "source": [
    "### About the Data:"
   ]
  },
  {
   "cell_type": "markdown",
   "metadata": {
    "colab_type": "text",
    "id": "IaLborL_Jxj-"
   },
   "source": [
    "- **Objective:**\n",
    "\n",
    "Given the Street View House Numbers (SVHN) Dataset, implement a simple image classification pipeline based on a deep neural network.\n",
    "\n",
    "- **The Real Problem**\n",
    "\n",
    "Recognizing multi-digit numbers in photographs captured at street level is an important component of modern day map making. A classic example of a corpus of such street-level photographs is Google’s Street View imagery comprised of hundreds of millions of geo-located 360 degree panoramic images. The ability to automatically transcribe an address number from a geo-located patch of pixels and associate the transcribed number with a known street address helps pinpoint, with a high degree of accuracy, the location of the building it represents.\n",
    "\n",
    "- **The Problem of Interest**\n",
    "\n",
    "Recognizing numbers in photographs is a problem of interest to the optical character recognition community. While OCR on constrained domains like document processing is well studied, arbitrary multi-character text recognition in photographs is still highly challenging. This difficulty arises due to the wide variability in the visual appearance of text in the wild on account of a large range of fonts, colors, styles,\n",
    "orientations, and character arrangements. The recognition problem is further complicated by environmental factors such as lighting, shadows, specularities, and occlusions as well as by image acquisition factors such as resolution, motion, and focus blurs.\n",
    "\n",
    "- **Data Description:**\n",
    "\n",
    "In this project, we will use a dataset with images centered around a single digit (many of the\n",
    "images do contain some distractors at the sides). Although we are taking a sample of\n",
    "the data which is simpler, it is more complex than MNIST because of the distractors.\n",
    "\n",
    "- **The Street View House Numbers (SVHN) Dataset)**\n",
    "\n",
    "SVHN is a real-world image dataset for developing machine learning and object recognition algorithms with the minimal requirement on data formatting but comes from a significantly harder, unsolved, real-world problem (recognizing digits and numbers in natural scene images). SVHN is obtained from house numbers in Google Street View images.\n",
    "\n",
    "- **Acknowledgment for the datasets.**\n",
    "\n",
    "Yuval Netzer, Tao Wang, Adam Coates, Alessandro Bissacco, Bo Wu, Andrew Y. Ng\n",
    "Reading Digits in Natural Images with Unsupervised Feature Learning NIPS Workshop\n",
    "on Deep Learning and Unsupervised Feature Learning 2011. PDF\n",
    "http://ufldl.stanford.edu/housenumbers as the URL for this site when necessary"
   ]
  },
  {
   "cell_type": "markdown",
   "metadata": {
    "colab_type": "text",
    "id": "gSDmryeQJxkB"
   },
   "source": [
    "##  Data fetching and understand the train/val/test splits"
   ]
  },
  {
   "cell_type": "code",
   "execution_count": 0,
   "metadata": {
    "colab": {},
    "colab_type": "code",
    "id": "SJQpEWmgJxkD"
   },
   "outputs": [],
   "source": [
    "#Open the h5py file which is stored in HDF5 binary data format using a file handler\n",
    "#Read the file in 'read' mode\n",
    "\n",
    "#f = h5py.File(\"SVHN_single_grey1-2.h5\", 'r')\n",
    "f = h5py.File('/gdrive/My Drive/AIML/INNDL-Project-2_R7/SVHN_single_grey1-2.h5')"
   ]
  },
  {
   "cell_type": "code",
   "execution_count": 8,
   "metadata": {
    "colab": {
     "base_uri": "https://localhost:8080/",
     "height": 34
    },
    "colab_type": "code",
    "id": "4hUCy-doet7A",
    "outputId": "b14a93f8-71c0-4259-e01a-dc34f3a6bb11"
   },
   "outputs": [
    {
     "data": {
      "text/plain": [
       "'/gdrive/My Drive/AIML/INNDL-Project-2_R7/SVHN_single_grey1-2.h5'"
      ]
     },
     "execution_count": 8,
     "metadata": {
      "tags": []
     },
     "output_type": "execute_result"
    }
   ],
   "source": [
    "#Check the file name with the filehandler f\n",
    "\n",
    "f.filename"
   ]
  },
  {
   "cell_type": "code",
   "execution_count": 9,
   "metadata": {
    "colab": {
     "base_uri": "https://localhost:8080/",
     "height": 34
    },
    "colab_type": "code",
    "id": "5TNvLvqhet7D",
    "outputId": "a56eee45-24bf-46a2-be6e-e617829ef932"
   },
   "outputs": [
    {
     "data": {
      "text/plain": [
       "['X_test', 'X_train', 'X_val', 'y_test', 'y_train', 'y_val']"
      ]
     },
     "execution_count": 9,
     "metadata": {
      "tags": []
     },
     "output_type": "execute_result"
    }
   ],
   "source": [
    "#list all keys, which are the dataset names stored in the h5py file \n",
    "\n",
    "list(f.keys())"
   ]
  },
  {
   "cell_type": "code",
   "execution_count": 10,
   "metadata": {
    "colab": {
     "base_uri": "https://localhost:8080/",
     "height": 119
    },
    "colab_type": "code",
    "id": "GYFCAwzwet7L",
    "outputId": "cc0d1e9d-18ed-42c2-b450-fefa0b292068"
   },
   "outputs": [
    {
     "data": {
      "text/plain": [
       "(h5py._hl.dataset.Dataset,\n",
       " h5py._hl.dataset.Dataset,\n",
       " h5py._hl.dataset.Dataset,\n",
       " h5py._hl.dataset.Dataset,\n",
       " h5py._hl.dataset.Dataset,\n",
       " h5py._hl.dataset.Dataset)"
      ]
     },
     "execution_count": 10,
     "metadata": {
      "tags": []
     },
     "output_type": "execute_result"
    }
   ],
   "source": [
    "#Check that all the components in the hyp5 file are Datasets\n",
    "\n",
    "type(f['X_train']), type(f['y_train']), type(f['X_test']), type(f['y_test']), type(f['X_val']), type(f['y_val'])"
   ]
  },
  {
   "cell_type": "code",
   "execution_count": 0,
   "metadata": {
    "colab": {},
    "colab_type": "code",
    "id": "wcL2rpbret7P"
   },
   "outputs": [],
   "source": [
    "#Convert all the datasets to numpy arrays\n",
    "\n",
    "X_train = np.array(f.get('X_train'))\n",
    "y_train = np.array(f.get('y_train'))\n",
    "X_test = np.array(f.get('X_test'))\n",
    "y_test = np.array(f.get('y_test'))\n",
    "X_val = np.array(f.get('X_val'))\n",
    "y_val = np.array(f.get('y_val'))"
   ]
  },
  {
   "cell_type": "code",
   "execution_count": 12,
   "metadata": {
    "colab": {
     "base_uri": "https://localhost:8080/",
     "height": 119
    },
    "colab_type": "code",
    "id": "kA__Pb6xet7R",
    "outputId": "acfc9fa4-63bb-40de-a606-cd564330be0f"
   },
   "outputs": [
    {
     "data": {
      "text/plain": [
       "((42000, 32, 32),\n",
       " (18000, 32, 32),\n",
       " (42000,),\n",
       " (18000,),\n",
       " (60000, 32, 32),\n",
       " (60000,))"
      ]
     },
     "execution_count": 12,
     "metadata": {
      "tags": []
     },
     "output_type": "execute_result"
    }
   ],
   "source": [
    "#Check the shape of the training, test and validation datasets\n",
    "\n",
    "X_train.shape, X_test.shape, y_train.shape, y_test.shape, X_val.shape, y_val.shape"
   ]
  },
  {
   "cell_type": "code",
   "execution_count": 13,
   "metadata": {
    "colab": {
     "base_uri": "https://localhost:8080/",
     "height": 119
    },
    "colab_type": "code",
    "id": "Q0lXUGBxet7W",
    "outputId": "6a02b79d-e09c-4211-8c27-aef65c2bfed0"
   },
   "outputs": [
    {
     "data": {
      "text/plain": [
       "(numpy.ndarray,\n",
       " numpy.ndarray,\n",
       " numpy.ndarray,\n",
       " numpy.ndarray,\n",
       " numpy.ndarray,\n",
       " numpy.ndarray)"
      ]
     },
     "execution_count": 13,
     "metadata": {
      "tags": []
     },
     "output_type": "execute_result"
    }
   ],
   "source": [
    "#Check the type of the training, test and validation datasets\n",
    "\n",
    "type(X_train), type(X_test), type(y_train), type(y_test), type(X_val), type(y_val)"
   ]
  },
  {
   "cell_type": "code",
   "execution_count": 14,
   "metadata": {
    "colab": {
     "base_uri": "https://localhost:8080/",
     "height": 119
    },
    "colab_type": "code",
    "id": "4o2qlUCtet7a",
    "outputId": "2fca2053-9801-4325-a91a-ed0963dca123"
   },
   "outputs": [
    {
     "data": {
      "text/plain": [
       "(dtype('<f4'),\n",
       " dtype('<f4'),\n",
       " dtype('uint8'),\n",
       " dtype('uint8'),\n",
       " dtype('<f4'),\n",
       " dtype('uint8'))"
      ]
     },
     "execution_count": 14,
     "metadata": {
      "tags": []
     },
     "output_type": "execute_result"
    }
   ],
   "source": [
    "#Check the datatype of the training, test and validation datasets\n",
    "\n",
    "X_train.dtype, X_test.dtype, y_train.dtype, y_test.dtype, X_val.dtype, y_val.dtype"
   ]
  },
  {
   "cell_type": "code",
   "execution_count": 15,
   "metadata": {
    "colab": {
     "base_uri": "https://localhost:8080/",
     "height": 102
    },
    "colab_type": "code",
    "id": "h7-j1EmHet7d",
    "outputId": "a8aa4516-a92c-44dc-ca0f-a49d911a282c"
   },
   "outputs": [
    {
     "name": "stdout",
     "output_type": "stream",
     "text": [
      "Classes in Training-set:  [0 1 2 3 4 5 6 7 8 9]\n",
      "\n",
      "Classes in Test-set:  [0 1 2 3 4 5 6 7 8 9]\n",
      "\n",
      "Classes in Validation-set:  [0 1 2 3 4 5 6 7 8 9]\n"
     ]
    }
   ],
   "source": [
    "#Check unique classes in y_train, ytest and y_val datasets\n",
    "\n",
    "print('Classes in Training-set: ',np.unique(y_train))\n",
    "print('\\nClasses in Test-set: ',np.unique(y_test))\n",
    "print('\\nClasses in Validation-set: ',np.unique(y_val))"
   ]
  },
  {
   "cell_type": "markdown",
   "metadata": {
    "colab_type": "text",
    "id": "LCecjOViet7h"
   },
   "source": [
    "### Visualize random images in Training and Test sets"
   ]
  },
  {
   "cell_type": "code",
   "execution_count": 0,
   "metadata": {
    "colab": {},
    "colab_type": "code",
    "id": "-Tl6vN1Qet7i"
   },
   "outputs": [],
   "source": [
    "def plot_image(img, labels, nrows, ncols):\n",
    "  fig, axes = plt.subplots( nrows, ncols)\n",
    "  for i, ax in enumerate(axes.flat):\n",
    "    if(img[i].shape == (32,32)):\n",
    "      #print(img[i].shape)\n",
    "      ax.imshow(img[i])\n",
    "    else:\n",
    "      #print(img[i,:,:,0].shape)\n",
    "      ax.imshow(img[i,:,:,0])\n",
    "    ax.set_xticks([]), ax.set_yticks([])\n",
    "    ax.set_title(labels[i])"
   ]
  },
  {
   "cell_type": "code",
   "execution_count": 17,
   "metadata": {
    "colab": {
     "base_uri": "https://localhost:8080/",
     "height": 264
    },
    "colab_type": "code",
    "id": "GhN1Q6GDet7l",
    "outputId": "2b4a3f3b-be57-47c0-d073-ac0b83e30b81"
   },
   "outputs": [
    {
     "data": {
      "image/png": "[encoded data removed]",
      "text/plain": [
       "<Figure size 1152x288 with 16 Axes>"
      ]
     },
     "metadata": {
      "tags": []
     },
     "output_type": "display_data"
    }
   ],
   "source": [
    "#Plot some random training set images\n",
    "plot_image(X_train,y_train,2,8)"
   ]
  },
  {
   "cell_type": "code",
   "execution_count": 18,
   "metadata": {
    "colab": {
     "base_uri": "https://localhost:8080/",
     "height": 264
    },
    "colab_type": "code",
    "id": "XjWYpBmjet7n",
    "outputId": "486d5878-3825-480b-e08c-f8fe8d02cad5"
   },
   "outputs": [
    {
     "data": {
      "image/png": "[encoded data removed]",
      "text/plain": [
       "<Figure size 1152x288 with 16 Axes>"
      ]
     },
     "metadata": {
      "tags": []
     },
     "output_type": "display_data"
    }
   ],
   "source": [
    "#Plot some random test set images\n",
    "plot_image(X_test,y_test,2,8)"
   ]
  },
  {
   "cell_type": "markdown",
   "metadata": {
    "colab_type": "text",
    "id": "fH8gVR4PJxmu"
   },
   "source": [
    "## Build a Deep Neural Networks Classification Model using Keras"
   ]
  },
  {
   "cell_type": "code",
   "execution_count": 20,
   "metadata": {
    "colab": {
     "base_uri": "https://localhost:8080/",
     "height": 68
    },
    "colab_type": "code",
    "id": "ZWrglIDpet7t",
    "outputId": "cc375194-87eb-4d98-c9ee-77eaf4506c79"
   },
   "outputs": [
    {
     "name": "stdout",
     "output_type": "stream",
     "text": [
      "No of classes: 10\n",
      "batch_size: 128\n",
      "No of epochs: 20\n"
     ]
    }
   ],
   "source": [
    "#Initialize the no of classes, batch_size and no of epochs for the model\n",
    "\n",
    "num_classes = 10\n",
    "batch_size = 128\n",
    "epochs = 20\n",
    "print(\"No of classes: {}\\nbatch_size: {}\\nNo of epochs: {}\".format(num_classes, batch_size, epochs))"
   ]
  },
  {
   "cell_type": "code",
   "execution_count": 0,
   "metadata": {
    "colab": {},
    "colab_type": "code",
    "id": "RSKbUviwJxkH"
   },
   "outputs": [],
   "source": [
    "#Convert the datatype of the training, test and validation datasets to float32\n",
    "\n",
    "X_train = X_train.astype('float32')\n",
    "y_train = y_train.astype('float32')\n",
    "X_test = X_test.astype('float32')\n",
    "y_test = y_test.astype('float32')\n",
    "X_val = X_val.astype('float32')\n",
    "y_val = y_val.astype('float32')"
   ]
  },
  {
   "cell_type": "markdown",
   "metadata": {
    "colab_type": "text",
    "id": "CkV9lRt1JxnC"
   },
   "source": [
    "### One-hot encoding of labels to convert them into binary data of 0's and 1's"
   ]
  },
  {
   "cell_type": "code",
   "execution_count": 0,
   "metadata": {
    "colab": {},
    "colab_type": "code",
    "id": "qjyfMLEyJxnC"
   },
   "outputs": [],
   "source": [
    "#Convert to binary data by One-hot encoding using to_categorical\n",
    "\n",
    "y_train_enc = tf.keras.utils.to_categorical(y_train, num_classes=num_classes)\n",
    "y_test_enc = tf.keras.utils.to_categorical(y_test, num_classes=num_classes)\n",
    "y_val_enc = tf.keras.utils.to_categorical(y_val, num_classes=num_classes)"
   ]
  },
  {
   "cell_type": "markdown",
   "metadata": {
    "colab_type": "text",
    "id": "ocozI5udJxnH"
   },
   "source": [
    "## Build a Neural Network Classification Model using Keras API in TensorFlow"
   ]
  },
  {
   "cell_type": "markdown",
   "metadata": {
    "colab_type": "text",
    "id": "b56xjo6wet74"
   },
   "source": [
    "### Implement and apply a deep neural network classifier including (feedforward neural network, RELU, activations)\n",
    "### Implement batch normalization for training the neural network\n",
    "### Understand and be able to implement (vectorized) backpropagation (cost stochastic gradient descent, cross-entropy loss, cost functions)"
   ]
  },
  {
   "cell_type": "code",
   "execution_count": 0,
   "metadata": {
    "colab": {},
    "colab_type": "code",
    "id": "pmSWqmwmBJ2X"
   },
   "outputs": [],
   "source": [
    "#Initialize Sequential model\n",
    "model = tf.keras.models.Sequential()"
   ]
  },
  {
   "cell_type": "code",
   "execution_count": 0,
   "metadata": {
    "colab": {},
    "colab_type": "code",
    "id": "A4sPtT9sBMVy"
   },
   "outputs": [],
   "source": [
    "#Add input layer and Reshape data from 2D to 1D -> 32x32 to 1024\n",
    "model.add(tf.keras.layers.Reshape(target_shape=(1024,), input_shape=(32,32,)))\n",
    "\n",
    "#Inplementing BatchNormalization\n",
    "model.add(tf.keras.layers.BatchNormalization())"
   ]
  },
  {
   "cell_type": "code",
   "execution_count": 0,
   "metadata": {
    "colab": {},
    "colab_type": "code",
    "id": "oqYAiRivJxnI"
   },
   "outputs": [],
   "source": [
    "#Adding First Hidden layer with 300 neyrons and activation function 'relu'\n",
    "model.add(tf.keras.layers.Dense(300, activation='relu'))\n",
    "\n",
    "#Adding Second Hidden Layer with 200 neurons and activation function 'relu'\n",
    "model.add(tf.keras.layers.Dense(200, activation='relu'))\n",
    "\n",
    "#Adding dropout layer with 20% dropout\n",
    "model.add(tf.keras.layers.Dropout(0.20))\n",
    "\n",
    "#Add Output layer with 10 classes as the output and apply softmax to predict probabilities\n",
    "model.add(tf.keras.layers.Dense(num_classes, activation='softmax'))"
   ]
  },
  {
   "cell_type": "code",
   "execution_count": 0,
   "metadata": {
    "colab": {},
    "colab_type": "code",
    "id": "b2MMIk3bBXDN"
   },
   "outputs": [],
   "source": [
    "#Compile the model with a cross entropy loss function and sgd optimizer and accuracy as metrics\n",
    "model.compile(optimizer='sgd', loss='categorical_crossentropy', metrics=['accuracy'])"
   ]
  },
  {
   "cell_type": "code",
   "execution_count": 52,
   "metadata": {
    "colab": {
     "base_uri": "https://localhost:8080/",
     "height": 357
    },
    "colab_type": "code",
    "id": "M4-Qx4vpJxnK",
    "outputId": "cd57b8b6-0438-4165-d739-2c173c23703a",
    "scrolled": false
   },
   "outputs": [
    {
     "name": "stdout",
     "output_type": "stream",
     "text": [
      "Model: \"sequential_4\"\n",
      "_________________________________________________________________\n",
      "Layer (type)                 Output Shape              Param #   \n",
      "=================================================================\n",
      "reshape_3 (Reshape)          (None, 1024)              0         \n",
      "_________________________________________________________________\n",
      "batch_normalization_3 (Batch (None, 1024)              4096      \n",
      "_________________________________________________________________\n",
      "dense_9 (Dense)              (None, 300)               307500    \n",
      "_________________________________________________________________\n",
      "dense_10 (Dense)             (None, 200)               60200     \n",
      "_________________________________________________________________\n",
      "dropout_3 (Dropout)          (None, 200)               0         \n",
      "_________________________________________________________________\n",
      "dense_11 (Dense)             (None, 10)                2010      \n",
      "=================================================================\n",
      "Total params: 373,806\n",
      "Trainable params: 371,758\n",
      "Non-trainable params: 2,048\n",
      "_________________________________________________________________\n"
     ]
    }
   ],
   "source": [
    "#Model summary\n",
    "model.summary()"
   ]
  },
  {
   "cell_type": "code",
   "execution_count": 53,
   "metadata": {
    "colab": {
     "base_uri": "https://localhost:8080/",
     "height": 714
    },
    "colab_type": "code",
    "id": "u4m9vrGsJxnL",
    "outputId": "fc7b93eb-f418-494a-b449-b0a99f2c6e2f"
   },
   "outputs": [
    {
     "name": "stdout",
     "output_type": "stream",
     "text": [
      "Train on 42000 samples, validate on 18000 samples\n",
      "Epoch 1/20\n",
      "42000/42000 [==============================] - 5s 122us/sample - loss: 2.1364 - accuracy: 0.2485 - val_loss: 1.7990 - val_accuracy: 0.4475\n",
      "Epoch 2/20\n",
      "42000/42000 [==============================] - 5s 110us/sample - loss: 1.6395 - accuracy: 0.4805 - val_loss: 1.3946 - val_accuracy: 0.5874\n",
      "Epoch 3/20\n",
      "42000/42000 [==============================] - 5s 111us/sample - loss: 1.3436 - accuracy: 0.5879 - val_loss: 1.1792 - val_accuracy: 0.6626\n",
      "Epoch 4/20\n",
      "42000/42000 [==============================] - 5s 110us/sample - loss: 1.1846 - accuracy: 0.6415 - val_loss: 1.0713 - val_accuracy: 0.6847\n",
      "Epoch 5/20\n",
      "42000/42000 [==============================] - 5s 109us/sample - loss: 1.0835 - accuracy: 0.6720 - val_loss: 0.9838 - val_accuracy: 0.7119\n",
      "Epoch 6/20\n",
      "42000/42000 [==============================] - 5s 111us/sample - loss: 1.0104 - accuracy: 0.6945 - val_loss: 0.9279 - val_accuracy: 0.7295\n",
      "Epoch 7/20\n",
      "42000/42000 [==============================] - 5s 109us/sample - loss: 0.9492 - accuracy: 0.7114 - val_loss: 0.8979 - val_accuracy: 0.7332\n",
      "Epoch 8/20\n",
      "42000/42000 [==============================] - 5s 109us/sample - loss: 0.9034 - accuracy: 0.7283 - val_loss: 0.8714 - val_accuracy: 0.7368\n",
      "Epoch 9/20\n",
      "42000/42000 [==============================] - 5s 109us/sample - loss: 0.8599 - accuracy: 0.7422 - val_loss: 0.8183 - val_accuracy: 0.7586\n",
      "Epoch 10/20\n",
      "42000/42000 [==============================] - 5s 111us/sample - loss: 0.8237 - accuracy: 0.7533 - val_loss: 0.9236 - val_accuracy: 0.7205\n",
      "Epoch 11/20\n",
      "42000/42000 [==============================] - 5s 110us/sample - loss: 0.7977 - accuracy: 0.7618 - val_loss: 0.8155 - val_accuracy: 0.7571\n",
      "Epoch 12/20\n",
      "42000/42000 [==============================] - 5s 111us/sample - loss: 0.7652 - accuracy: 0.7695 - val_loss: 0.7621 - val_accuracy: 0.7759\n",
      "Epoch 13/20\n",
      "42000/42000 [==============================] - 5s 108us/sample - loss: 0.7399 - accuracy: 0.7782 - val_loss: 0.8236 - val_accuracy: 0.7532\n",
      "Epoch 14/20\n",
      "42000/42000 [==============================] - 5s 110us/sample - loss: 0.7170 - accuracy: 0.7829 - val_loss: 0.7276 - val_accuracy: 0.7842\n",
      "Epoch 15/20\n",
      "42000/42000 [==============================] - 5s 109us/sample - loss: 0.6977 - accuracy: 0.7919 - val_loss: 0.7400 - val_accuracy: 0.7805\n",
      "Epoch 16/20\n",
      "42000/42000 [==============================] - 5s 110us/sample - loss: 0.6771 - accuracy: 0.7963 - val_loss: 0.7161 - val_accuracy: 0.7873\n",
      "Epoch 17/20\n",
      "42000/42000 [==============================] - 5s 109us/sample - loss: 0.6601 - accuracy: 0.8023 - val_loss: 0.7480 - val_accuracy: 0.7798\n",
      "Epoch 18/20\n",
      "42000/42000 [==============================] - 5s 109us/sample - loss: 0.6432 - accuracy: 0.8073 - val_loss: 0.6877 - val_accuracy: 0.7993\n",
      "Epoch 19/20\n",
      "42000/42000 [==============================] - 5s 111us/sample - loss: 0.6220 - accuracy: 0.8125 - val_loss: 0.6587 - val_accuracy: 0.8102\n",
      "Epoch 20/20\n",
      "42000/42000 [==============================] - 5s 111us/sample - loss: 0.6138 - accuracy: 0.8154 - val_loss: 0.6506 - val_accuracy: 0.8121\n"
     ]
    }
   ],
   "source": [
    "#Fit the model on X_train,Y_train and validate using X_test,Y_test for 20 epochs for batch size of 128\n",
    "history_model = model.fit(X_train, y_train_enc, batch_size=batch_size,\n",
    "        validation_data=(X_test, y_test_enc),\n",
    "        epochs=epochs)"
   ]
  },
  {
   "cell_type": "markdown",
   "metadata": {
    "colab_type": "text",
    "id": "mLO4iBulJxnS"
   },
   "source": [
    "#### Inference:\n",
    "- By adding two hidden layers with 300 and 200 neurons in each and activation function as 'RELU' in the hidden layers,and output layer with softmax function for predicting the probabilities, optimizer as SGD with default learning rate of 0.01, the model is giving an accuracy of approximately 81% for both training and validation sets\n",
    "- The loss is minimized to 0.6 after training for 20 epochs\n",
    "- The model is performing well without any overfit"
   ]
  },
  {
   "cell_type": "code",
   "execution_count": 0,
   "metadata": {
    "colab": {},
    "colab_type": "code",
    "id": "_l9eWJoxJxnT"
   },
   "outputs": [],
   "source": [
    "#get the weights for model\n",
    "model_weights = model.get_weights()"
   ]
  },
  {
   "cell_type": "markdown",
   "metadata": {
    "colab_type": "text",
    "id": "zTy-Oc8Hsbbg"
   },
   "source": [
    "### Evaluate the model on Training and Test datasets"
   ]
  },
  {
   "cell_type": "code",
   "execution_count": 55,
   "metadata": {
    "colab": {
     "base_uri": "https://localhost:8080/",
     "height": 51
    },
    "colab_type": "code",
    "id": "6uPVs_oXJxnV",
    "outputId": "4fc8e720-c335-45fb-c138-e58eca107530"
   },
   "outputs": [
    {
     "name": "stdout",
     "output_type": "stream",
     "text": [
      "The loss using train data is:  0.537\n",
      "The accuracy of train data is:  0.844\n"
     ]
    }
   ],
   "source": [
    "#Evaluate the model's loss and accuracy on Training-set\n",
    "\n",
    "score_train = model.evaluate(X_train, y_train_enc, verbose=0)\n",
    "print(\"The loss using train data is: \",round(score_train[0],3))\n",
    "print(\"The accuracy of train data is: \",round(score_train[1],3))"
   ]
  },
  {
   "cell_type": "code",
   "execution_count": 56,
   "metadata": {
    "colab": {
     "base_uri": "https://localhost:8080/",
     "height": 51
    },
    "colab_type": "code",
    "id": "Ak8DJqiuJxnW",
    "outputId": "87915611-e0b0-498c-b508-84835420f717"
   },
   "outputs": [
    {
     "name": "stdout",
     "output_type": "stream",
     "text": [
      "The loss using test data is:  0.651\n",
      "The accuracy of test data is:  0.812\n"
     ]
    }
   ],
   "source": [
    "#Evaluate the model's loss and accuracy on Test-set\n",
    "\n",
    "score_test = model.evaluate(X_test, y_test_enc, verbose=0)\n",
    "print(\"The loss using test data is: \",round(score_test[0],3))\n",
    "print(\"The accuracy of test data is: \",round(score_test[1],3))"
   ]
  },
  {
   "cell_type": "markdown",
   "metadata": {
    "colab_type": "text",
    "id": "5E2aIoCZJxof"
   },
   "source": [
    "### Model Performance : Plot loss and accuracy over no of epochs"
   ]
  },
  {
   "cell_type": "code",
   "execution_count": 0,
   "metadata": {
    "colab": {},
    "colab_type": "code",
    "id": "Zg_swK9-oMZ9"
   },
   "outputs": [],
   "source": [
    "def plot_metrics(ax, fontsize, col1, col2, x_label, y_label, title):\n",
    "    ax.plot((history_model.history[col1]))\n",
    "    ax.plot((history_model.history[col2]))\n",
    "    #ax.locator_params(nbins=3)\n",
    "    ax.set_xlabel(x_label)\n",
    "    ax.set_ylabel(y_label)\n",
    "    ax.legend(['Training-data', 'Test-data'])\n",
    "    ax.set_title(title)"
   ]
  },
  {
   "cell_type": "code",
   "execution_count": 72,
   "metadata": {
    "colab": {
     "base_uri": "https://localhost:8080/",
     "height": 369
    },
    "colab_type": "code",
    "id": "teo6oEqmod3O",
    "outputId": "ee34bdb7-db9f-4d56-ef26-ddc6f18e0730"
   },
   "outputs": [
    {
     "data": {
      "image/png": "[encoded data removed]",
      "text/plain": [
       "<Figure size 720x360 with 2 Axes>"
      ]
     },
     "metadata": {
      "tags": []
     },
     "output_type": "display_data"
    }
   ],
   "source": [
    "plt.close('all')\n",
    "fig, ((ax1, ax2)) = plt.subplots(nrows=1, ncols=2, figsize=(10,5))\n",
    "plot_metrics(ax1, 30, 'loss', 'val_loss', 'no of epochs', 'Loss', 'Loss over no of epochs')\n",
    "plot_metrics(ax2, 30, 'accuracy', 'val_accuracy', 'no of epochs', 'Accuracy', 'Accuracy over no of epochs')\n",
    "plt.tight_layout()\n",
    "plt.show()"
   ]
  },
  {
   "cell_type": "markdown",
   "metadata": {
    "colab_type": "text",
    "id": "rb8BRNxjJxoj"
   },
   "source": [
    "#### Observations:\n",
    "- loss over 20 epochs is reducing continuously at a constant pace for the training dataset.The smooth curve which shows constant decrease without any peaks or lows indicates this.\n",
    "- loss over the epochs for test dataset is reducing constantly till 7 epochs but has peaks and lows after that and nearing the loss obtained by training for 20 epochs\n",
    "- From the plot of loss, we can see that as the curves for training and test are very close to each other the model has comparable performance on both train and test datasets\n",
    "- From the plot of accuracy we observe that the model is not an overfit over the training dataset, and the model is showing comparable performance on both datasets.\n",
    "- The model could probably be trained a little more as the trend for accuracy on both datasets is still rising for the last few epochs."
   ]
  },
  {
   "cell_type": "markdown",
   "metadata": {
    "colab_type": "text",
    "id": "rpQDgXqpso12"
   },
   "source": [
    "### Predict the classes using above model on Test dataset"
   ]
  },
  {
   "cell_type": "code",
   "execution_count": 0,
   "metadata": {
    "colab": {},
    "colab_type": "code",
    "id": "gWcnCrp6et8N"
   },
   "outputs": [],
   "source": [
    "#Predict the Probabilities and Classes on Test-set\n",
    "y_predict_test = model.predict(X_test)\n",
    "y_predict_test_classes = model.predict_classes(X_test)"
   ]
  },
  {
   "cell_type": "code",
   "execution_count": 74,
   "metadata": {
    "colab": {
     "base_uri": "https://localhost:8080/",
     "height": 1000
    },
    "colab_type": "code",
    "id": "nyLBvTl9Byxm",
    "outputId": "80a59169-5cb1-4b0d-d10c-f67c1ba0024e"
   },
   "outputs": [
    {
     "data": {
      "text/plain": [
       "array([[2.14172900e-02, 9.62761641e-02, 4.01585479e-04, 1.15258631e-03,\n",
       "        1.76880844e-02, 9.53509472e-03, 8.03891361e-01, 2.92589478e-02,\n",
       "        1.90376528e-02, 1.34117075e-03],\n",
       "       [1.14155980e-02, 3.76117945e-01, 3.37146558e-02, 1.17838830e-01,\n",
       "        9.94895920e-02, 1.30026611e-02, 1.11924959e-02, 3.04387182e-01,\n",
       "        6.19323133e-03, 2.66478714e-02],\n",
       "       [4.45927717e-02, 4.58572298e-01, 7.58309383e-03, 5.68756182e-03,\n",
       "        3.92275363e-01, 1.22309085e-02, 1.00754760e-02, 3.80571447e-02,\n",
       "        1.35682849e-02, 1.73570961e-02],\n",
       "       [9.23689641e-03, 2.57402286e-02, 1.22308157e-01, 3.28680217e-01,\n",
       "        2.90359277e-03, 7.83865079e-02, 1.68638099e-02, 5.76317757e-02,\n",
       "        1.74983069e-01, 1.83265731e-01],\n",
       "       [3.00824409e-04, 9.89464641e-01, 7.39535259e-04, 8.53771344e-04,\n",
       "        4.60458035e-03, 1.87796730e-04, 5.95691497e-04, 1.51696266e-04,\n",
       "        1.69111951e-03, 1.41036685e-03],\n",
       "       [6.32135123e-02, 2.34814867e-01, 9.87678319e-02, 1.90579426e-02,\n",
       "        1.87305167e-01, 6.33968413e-02, 8.35316405e-02, 3.64423804e-02,\n",
       "        1.33011773e-01, 8.04580674e-02],\n",
       "       [1.08137680e-03, 4.45504673e-04, 2.09767051e-04, 1.04744984e-02,\n",
       "        5.12141793e-04, 8.78211737e-01, 8.23501125e-02, 1.44471240e-04,\n",
       "        1.37999859e-02, 1.27703752e-02],\n",
       "       [3.09525603e-06, 3.56715173e-04, 1.61950069e-04, 9.95448411e-01,\n",
       "        2.06230106e-05, 2.54409690e-03, 1.70220592e-05, 8.47901276e-04,\n",
       "        5.94814483e-04, 5.39722350e-06],\n",
       "       [6.60865851e-07, 9.99866843e-01, 7.72186979e-07, 8.67184826e-06,\n",
       "        3.87822984e-05, 1.84543126e-06, 4.29305032e-07, 7.84695148e-05,\n",
       "        2.11686506e-06, 1.45669253e-06],\n",
       "       [3.42676183e-04, 3.68338797e-11, 5.17239473e-10, 7.80038423e-10,\n",
       "        2.65461665e-07, 4.36606524e-06, 9.99620318e-01, 4.95703869e-12,\n",
       "        3.20693252e-05, 2.39675558e-07],\n",
       "       [5.77997006e-02, 8.91016498e-06, 5.48812677e-04, 1.12540449e-03,\n",
       "        9.97826864e-05, 6.25854067e-04, 7.08407909e-03, 1.84354412e-05,\n",
       "        8.95832479e-02, 8.43105733e-01],\n",
       "       [2.40465198e-02, 1.38037968e-02, 1.24323806e-02, 7.84115493e-02,\n",
       "        9.16785300e-02, 1.83504615e-02, 1.13146901e-01, 9.06566856e-04,\n",
       "        6.18850529e-01, 2.83727758e-02],\n",
       "       [2.30549648e-01, 8.34783248e-04, 1.47027057e-02, 4.55706604e-02,\n",
       "        6.25095610e-03, 5.84248714e-02, 3.21188830e-02, 3.81911267e-03,\n",
       "        1.06359683e-01, 5.01368701e-01],\n",
       "       [1.79933303e-03, 1.06748822e-03, 1.17287331e-04, 1.80817646e-04,\n",
       "        1.72238579e-05, 3.59826081e-05, 1.13799770e-05, 6.89298759e-05,\n",
       "        1.45350304e-03, 9.95248139e-01],\n",
       "       [3.16777368e-06, 1.67002636e-05, 5.12305589e-04, 9.95244682e-01,\n",
       "        4.79047230e-06, 1.37910087e-04, 1.98254634e-06, 9.79360630e-05,\n",
       "        5.35566825e-04, 3.44506232e-03],\n",
       "       [1.14159098e-04, 9.53783214e-01, 5.66516165e-03, 4.74737305e-03,\n",
       "        4.55918210e-03, 5.14282845e-04, 8.01337301e-05, 2.85234842e-02,\n",
       "        1.11520989e-03, 8.97884136e-04],\n",
       "       [8.78814161e-01, 5.41446672e-04, 2.69120559e-04, 3.37012694e-04,\n",
       "        3.36138206e-03, 3.08470405e-03, 3.54338586e-02, 6.83059276e-04,\n",
       "        1.22336801e-02, 6.52415603e-02],\n",
       "       [8.79834965e-02, 1.48146152e-02, 2.03477502e-01, 1.90430611e-01,\n",
       "        6.30104989e-02, 1.83510944e-01, 8.28109160e-02, 1.38251325e-02,\n",
       "        9.56530496e-02, 6.44833222e-02],\n",
       "       [4.99443570e-03, 8.21120862e-04, 3.22666131e-02, 4.24348703e-03,\n",
       "        2.33745974e-04, 7.54136941e-04, 1.16449701e-04, 9.49094415e-01,\n",
       "        1.51438217e-04, 7.32428581e-03],\n",
       "       [9.34219360e-03, 2.10054480e-02, 9.55996197e-03, 2.57885873e-01,\n",
       "        5.97391510e-03, 4.25534904e-01, 6.16840199e-02, 2.28072368e-02,\n",
       "        4.86292988e-02, 1.37577206e-01],\n",
       "       [6.05486393e-01, 6.89045712e-02, 6.94357418e-03, 4.63574892e-03,\n",
       "        4.40388322e-02, 1.25886723e-02, 9.42458734e-02, 8.73438362e-03,\n",
       "        3.30112539e-02, 1.21410839e-01],\n",
       "       [2.32402977e-04, 5.46218175e-03, 1.19043374e-03, 2.51151592e-01,\n",
       "        7.56468144e-05, 5.96167386e-01, 1.40765654e-02, 1.98360227e-04,\n",
       "        1.25496119e-01, 5.94928907e-03],\n",
       "       [2.84623220e-05, 9.09908395e-03, 9.77769911e-01, 5.41260606e-03,\n",
       "        4.77107853e-04, 5.46507305e-04, 7.08682928e-05, 5.53042488e-03,\n",
       "        7.21231860e-04, 3.43734107e-04],\n",
       "       [2.26244447e-03, 7.33515263e-01, 5.05718514e-02, 5.11078238e-02,\n",
       "        4.36934829e-02, 1.05821183e-02, 3.49151320e-03, 7.23747686e-02,\n",
       "        1.76698621e-02, 1.47309145e-02],\n",
       "       [1.88902172e-03, 1.43635748e-02, 1.99451670e-03, 7.82962423e-03,\n",
       "        4.05095314e-04, 8.76686070e-03, 3.24016158e-03, 3.90077883e-04,\n",
       "        9.46602076e-02, 8.66460860e-01],\n",
       "       [4.80842330e-02, 2.34893516e-01, 4.66897003e-02, 8.09153616e-02,\n",
       "        3.09918582e-01, 3.32525559e-02, 4.79579940e-02, 9.45959464e-02,\n",
       "        6.62006959e-02, 3.74913961e-02],\n",
       "       [9.44398751e-04, 3.08558205e-03, 4.63473611e-04, 4.40128416e-01,\n",
       "        3.74178868e-03, 3.01112652e-01, 1.96455494e-02, 3.67482644e-05,\n",
       "        2.06211060e-01, 2.46304851e-02],\n",
       "       [5.37444896e-04, 5.29162469e-04, 7.28259693e-05, 1.07479449e-02,\n",
       "        3.21368279e-04, 9.36723173e-01, 4.62644584e-02, 5.75137441e-04,\n",
       "        2.34401412e-03, 1.88443309e-03],\n",
       "       [2.71709432e-05, 6.46934132e-06, 9.75871742e-01, 8.83046887e-05,\n",
       "        2.90165212e-06, 8.45533208e-08, 2.47394105e-08, 2.34528370e-02,\n",
       "        3.46264346e-06, 5.47041534e-04],\n",
       "       [2.56389139e-05, 1.53609936e-03, 4.61680065e-05, 1.61805277e-04,\n",
       "        9.56252217e-01, 6.08799921e-04, 4.00090180e-02, 5.36529251e-06,\n",
       "        1.29174336e-03, 6.32077790e-05],\n",
       "       [9.38868225e-01, 6.51102921e-04, 2.03833939e-03, 5.11611765e-03,\n",
       "        2.08107973e-04, 4.28239582e-05, 7.17402290e-05, 9.47336014e-03,\n",
       "        2.64732167e-04, 4.32655811e-02],\n",
       "       [9.79359746e-01, 2.95490376e-04, 6.37387202e-05, 2.04104406e-04,\n",
       "        5.14282146e-04, 2.82396446e-04, 4.60252771e-03, 2.07861012e-04,\n",
       "        1.36095297e-03, 1.31090051e-02],\n",
       "       [7.74141654e-07, 4.65677876e-04, 1.49317002e-05, 6.83445396e-05,\n",
       "        9.98770773e-01, 1.55410235e-04, 1.81370255e-04, 8.43962980e-08,\n",
       "        3.42523068e-04, 4.78777942e-08],\n",
       "       [1.32122761e-04, 9.52090323e-01, 4.26547136e-03, 1.53732644e-02,\n",
       "        8.46236199e-03, 6.65810250e-04, 4.98878399e-05, 1.57019328e-02,\n",
       "        8.10878177e-04, 2.44796532e-03],\n",
       "       [1.50097266e-03, 7.20455229e-01, 3.17965373e-02, 2.71088611e-02,\n",
       "        7.72360107e-03, 5.08852815e-03, 8.09753838e-04, 1.79751873e-01,\n",
       "        5.03222691e-03, 2.07325090e-02],\n",
       "       [9.83446807e-06, 1.99372812e-06, 5.95017127e-07, 8.52604985e-01,\n",
       "        1.00248360e-06, 1.45579740e-01, 3.47340974e-04, 2.64394203e-06,\n",
       "        1.39628176e-03, 5.56646482e-05],\n",
       "       [8.80403742e-02, 3.66510674e-02, 2.26336554e-01, 2.57471967e-02,\n",
       "        1.23492228e-02, 5.38061978e-03, 5.12763951e-03, 4.97332573e-01,\n",
       "        1.83774550e-02, 8.46573114e-02],\n",
       "       [5.74421212e-02, 1.63706660e-01, 5.72348237e-02, 2.92801797e-01,\n",
       "        1.23116039e-01, 3.01855840e-02, 7.33293593e-02, 1.41727421e-02,\n",
       "        1.67011246e-01, 2.09996123e-02],\n",
       "       [7.25558698e-02, 1.83766335e-02, 2.25235168e-02, 1.69226304e-01,\n",
       "        6.61768764e-02, 2.00486377e-01, 1.14133179e-01, 1.77137740e-02,\n",
       "        1.96258992e-01, 1.22548535e-01],\n",
       "       [1.75927162e-01, 2.56878440e-04, 9.63067450e-03, 2.07832083e-02,\n",
       "        5.22920513e-04, 3.11884331e-03, 1.01978853e-02, 2.76353620e-02,\n",
       "        4.29254677e-03, 7.47634590e-01],\n",
       "       [2.79142141e-01, 1.12253055e-01, 3.30186747e-02, 4.61511798e-02,\n",
       "        1.44127816e-01, 3.89999859e-02, 6.14296272e-02, 7.58079812e-02,\n",
       "        7.83755854e-02, 1.30693883e-01],\n",
       "       [9.31494196e-06, 3.71671777e-05, 5.21518756e-04, 1.83711480e-03,\n",
       "        5.91876706e-05, 1.32863992e-04, 7.28237443e-03, 7.87695899e-06,\n",
       "        9.87046123e-01, 3.06648668e-03],\n",
       "       [1.96737183e-05, 2.09199177e-04, 9.47982192e-01, 1.91475649e-03,\n",
       "        7.52920969e-05, 9.49644709e-06, 1.45028516e-05, 3.47746623e-04,\n",
       "        3.25681530e-02, 1.68590993e-02],\n",
       "       [5.45779467e-02, 6.29426390e-02, 1.06240725e-02, 3.78780253e-02,\n",
       "        1.52859613e-02, 3.65045629e-02, 2.21887574e-01, 3.51212546e-03,\n",
       "        5.31917274e-01, 2.48697754e-02],\n",
       "       [1.85097684e-03, 6.91745663e-03, 5.20079061e-02, 8.83563936e-01,\n",
       "        1.68800708e-02, 3.60412570e-03, 1.22210803e-03, 9.38815717e-03,\n",
       "        1.04864035e-02, 1.40787046e-02],\n",
       "       [9.21663642e-03, 1.56462118e-02, 1.80289410e-02, 4.57193963e-02,\n",
       "        6.06781477e-03, 4.99355756e-02, 1.52186593e-02, 1.79353915e-02,\n",
       "        7.74962530e-02, 7.44735062e-01],\n",
       "       [1.35722598e-06, 5.83654673e-06, 3.78369325e-04, 3.27387970e-05,\n",
       "        2.51838639e-08, 6.27715337e-07, 9.16039333e-09, 9.99580801e-01,\n",
       "        1.09022949e-07, 1.21436472e-07],\n",
       "       [3.14260047e-04, 2.35052750e-01, 8.02673341e-04, 1.04349491e-03,\n",
       "        7.51852155e-01, 2.48181843e-03, 2.98205717e-03, 6.07492577e-04,\n",
       "        4.33805678e-03, 5.25205047e-04],\n",
       "       [4.96592547e-04, 3.71702801e-04, 4.98075620e-04, 9.60532188e-01,\n",
       "        1.45035668e-03, 1.65872183e-02, 7.99884845e-04, 1.99408278e-05,\n",
       "        1.90485548e-02, 1.95472021e-04],\n",
       "       [2.84154862e-02, 1.23706060e-02, 3.34950723e-03, 1.13966409e-03,\n",
       "        7.94867158e-01, 6.51884498e-03, 1.28283396e-01, 4.59512230e-04,\n",
       "        2.09652949e-02, 3.63056990e-03]], dtype=float32)"
      ]
     },
     "execution_count": 74,
     "metadata": {
      "tags": []
     },
     "output_type": "execute_result"
    }
   ],
   "source": [
    "#Predicted Probabilities on Test-set\n",
    "#pick any few indices\n",
    "y_predict_test[870:920]"
   ]
  },
  {
   "cell_type": "code",
   "execution_count": 60,
   "metadata": {
    "colab": {
     "base_uri": "https://localhost:8080/",
     "height": 68
    },
    "colab_type": "code",
    "id": "oYxIyPGyC9Pv",
    "outputId": "22c8b8c8-121d-4662-ef1a-cad2b505b7b9"
   },
   "outputs": [
    {
     "data": {
      "text/plain": [
       "array([6, 1, 1, 3, 1, 1, 5, 3, 1, 6, 9, 8, 9, 9, 3, 1, 0, 2, 7, 5, 0, 5,\n",
       "       2, 1, 9, 4, 3, 5, 2, 4, 0, 0, 4, 1, 1, 3, 7, 3, 5, 9, 0, 8, 2, 8,\n",
       "       3, 9, 7, 4, 3, 4])"
      ]
     },
     "execution_count": 60,
     "metadata": {
      "tags": []
     },
     "output_type": "execute_result"
    }
   ],
   "source": [
    "#Predicted Classes for Test-set\n",
    "y_predict_test_classes[870:920]"
   ]
  },
  {
   "cell_type": "code",
   "execution_count": 63,
   "metadata": {
    "colab": {
     "base_uri": "https://localhost:8080/",
     "height": 68
    },
    "colab_type": "code",
    "id": "xHRS6B7YDJv2",
    "outputId": "d334a84a-9f82-4701-9195-253ed370a484"
   },
   "outputs": [
    {
     "data": {
      "text/plain": [
       "array([6, 5, 6, 0, 1, 6, 5, 3, 1, 6, 9, 8, 9, 9, 3, 1, 0, 0, 7, 5, 0, 3,\n",
       "       2, 1, 9, 4, 9, 5, 2, 4, 0, 0, 4, 1, 1, 3, 7, 8, 3, 9, 0, 8, 2, 8,\n",
       "       3, 9, 7, 4, 3, 4])"
      ]
     },
     "execution_count": 63,
     "metadata": {
      "tags": []
     },
     "output_type": "execute_result"
    }
   ],
   "source": [
    "#Actual Classes for Test-set\n",
    "np.argmax(y_test_enc[870:920], axis=1)"
   ]
  },
  {
   "cell_type": "markdown",
   "metadata": {
    "colab_type": "text",
    "id": "Ao0I5ikWsB3q"
   },
   "source": [
    "### Print the classification accuracy metrics, \n",
    "### Confusion Matrix and Classification Report using the built model for Test dataset"
   ]
  },
  {
   "cell_type": "code",
   "execution_count": 64,
   "metadata": {
    "colab": {
     "base_uri": "https://localhost:8080/",
     "height": 34
    },
    "colab_type": "code",
    "id": "6rf-XGFlsJhE",
    "outputId": "7bc0a191-4068-443c-f81b-c0fbab822724"
   },
   "outputs": [
    {
     "data": {
      "text/plain": [
       "0.8120555555555555"
      ]
     },
     "execution_count": 64,
     "metadata": {
      "tags": []
     },
     "output_type": "execute_result"
    }
   ],
   "source": [
    "#accuracy score on Test dataset\n",
    "accuracy_score(y_test, y_predict_test_classes)"
   ]
  },
  {
   "cell_type": "code",
   "execution_count": 65,
   "metadata": {
    "colab": {
     "base_uri": "https://localhost:8080/",
     "height": 34
    },
    "colab_type": "code",
    "id": "tyKW0eCXEjZY",
    "outputId": "417a3d26-759a-4dbf-eb86-abaf314eaefb"
   },
   "outputs": [
    {
     "data": {
      "text/plain": [
       "0.8137473003120853"
      ]
     },
     "execution_count": 65,
     "metadata": {
      "tags": []
     },
     "output_type": "execute_result"
    }
   ],
   "source": [
    "#precision score on Test dataset\n",
    "precision_score(y_test, y_predict_test_classes, average='weighted')"
   ]
  },
  {
   "cell_type": "code",
   "execution_count": 66,
   "metadata": {
    "colab": {
     "base_uri": "https://localhost:8080/",
     "height": 34
    },
    "colab_type": "code",
    "id": "Jx_G8dP5EuZW",
    "outputId": "529a35ca-8702-4795-ab3d-457a1c85254e"
   },
   "outputs": [
    {
     "data": {
      "text/plain": [
       "0.8120555555555555"
      ]
     },
     "execution_count": 66,
     "metadata": {
      "tags": []
     },
     "output_type": "execute_result"
    }
   ],
   "source": [
    "#recall score on Test dataset\n",
    "recall_score(y_test, y_predict_test_classes, average='weighted')"
   ]
  },
  {
   "cell_type": "code",
   "execution_count": 67,
   "metadata": {
    "colab": {
     "base_uri": "https://localhost:8080/",
     "height": 34
    },
    "colab_type": "code",
    "id": "DwYAFQM3FG8P",
    "outputId": "fe2da607-7d4d-45d8-9b23-3583e2b93b09"
   },
   "outputs": [
    {
     "data": {
      "text/plain": [
       "0.8119912932336045"
      ]
     },
     "execution_count": 67,
     "metadata": {
      "tags": []
     },
     "output_type": "execute_result"
    }
   ],
   "source": [
    "#f1 score on Test dataset\n",
    "f1_score(y_test, y_predict_test_classes, average='weighted')"
   ]
  },
  {
   "cell_type": "code",
   "execution_count": 68,
   "metadata": {
    "colab": {
     "base_uri": "https://localhost:8080/",
     "height": 187
    },
    "colab_type": "code",
    "id": "HIwqEWhFFRYD",
    "outputId": "51322b4f-b187-48f2-cda3-88de34bcf589"
   },
   "outputs": [
    {
     "data": {
      "text/plain": [
       "array([[1562,   38,   10,   31,   25,   10,   30,   19,   18,   71],\n",
       "       [  34, 1562,   15,   42,   54,   18,   22,   45,   14,   22],\n",
       "       [  34,   45, 1438,   63,   33,   21,    6,   94,   30,   39],\n",
       "       [  21,   63,   32, 1321,   29,  120,   14,   43,   35,   41],\n",
       "       [  25,   73,   25,   22, 1555,   16,   36,   13,   12,   35],\n",
       "       [  14,   43,   10,  104,   15, 1423,   61,   18,   38,   42],\n",
       "       [  54,   39,   11,   26,   76,   65, 1455,   10,   70,   26],\n",
       "       [  18,   92,   37,   33,   15,   15,    7, 1551,    9,   31],\n",
       "       [  44,   58,   21,   70,   43,   44,  107,   14, 1340,   71],\n",
       "       [  89,   55,   25,   53,   27,   38,   24,   32,   51, 1410]])"
      ]
     },
     "execution_count": 68,
     "metadata": {
      "tags": []
     },
     "output_type": "execute_result"
    }
   ],
   "source": [
    "#Confusion Matrix for Test dataset\n",
    "confusion_matrix(y_test, y_predict_test_classes)"
   ]
  },
  {
   "cell_type": "code",
   "execution_count": 69,
   "metadata": {
    "colab": {
     "base_uri": "https://localhost:8080/",
     "height": 306
    },
    "colab_type": "code",
    "id": "1hDw-alwFk61",
    "outputId": "a692ee44-bb4d-4d26-e801-cf548bc9396c"
   },
   "outputs": [
    {
     "name": "stdout",
     "output_type": "stream",
     "text": [
      "              precision    recall  f1-score   support\n",
      "\n",
      "         0.0       0.82      0.86      0.84      1814\n",
      "         1.0       0.76      0.85      0.80      1828\n",
      "         2.0       0.89      0.80      0.84      1803\n",
      "         3.0       0.75      0.77      0.76      1719\n",
      "         4.0       0.83      0.86      0.84      1812\n",
      "         5.0       0.80      0.80      0.80      1768\n",
      "         6.0       0.83      0.79      0.81      1832\n",
      "         7.0       0.84      0.86      0.85      1808\n",
      "         8.0       0.83      0.74      0.78      1812\n",
      "         9.0       0.79      0.78      0.79      1804\n",
      "\n",
      "    accuracy                           0.81     18000\n",
      "   macro avg       0.81      0.81      0.81     18000\n",
      "weighted avg       0.81      0.81      0.81     18000\n",
      "\n"
     ]
    }
   ],
   "source": [
    "#Classification Report for Test dataset\n",
    "print(classification_report(y_test, y_predict_test_classes))"
   ]
  },
  {
   "cell_type": "markdown",
   "metadata": {
    "colab_type": "text",
    "id": "gLdWiYsCJxoJ"
   },
   "source": [
    "### Predict the classes using above model on Validation datset"
   ]
  },
  {
   "cell_type": "code",
   "execution_count": 0,
   "metadata": {
    "colab": {},
    "colab_type": "code",
    "id": "7oGp7UhbJxoJ"
   },
   "outputs": [],
   "source": [
    "#Predict the probability percentages and the classes which were predicted using above model for Validation-set\n",
    "y_predict_val = model.predict(X_val)\n",
    "y_predict_val_classes = model.predict_classes(X_val)"
   ]
  },
  {
   "cell_type": "code",
   "execution_count": 77,
   "metadata": {
    "colab": {
     "base_uri": "https://localhost:8080/",
     "height": 1000
    },
    "colab_type": "code",
    "id": "7g-jCO7iJxoK",
    "outputId": "7c3877ee-15c2-413c-d9fa-fb28b8e30675"
   },
   "outputs": [
    {
     "data": {
      "text/plain": [
       "array([[1.22416846e-03, 1.01423904e-03, 9.78361189e-01, 2.16997950e-03,\n",
       "        2.11985040e-04, 1.84472330e-04, 2.96339917e-04, 9.37200058e-03,\n",
       "        4.30970406e-03, 2.85583967e-03],\n",
       "       [8.05466843e-05, 5.11911465e-04, 9.77248132e-01, 2.17847619e-03,\n",
       "        4.21981131e-05, 3.56126225e-06, 2.10563212e-06, 1.95106566e-02,\n",
       "        2.28221819e-04, 1.94219087e-04],\n",
       "       [2.06859870e-04, 7.36703258e-03, 9.25401151e-01, 2.82310136e-03,\n",
       "        8.92134674e-04, 4.36496994e-05, 2.07971025e-05, 6.23722263e-02,\n",
       "        5.65904309e-04, 3.07109760e-04],\n",
       "       [7.26020720e-04, 1.30865176e-03, 9.83092785e-01, 1.78924820e-03,\n",
       "        2.91223641e-05, 7.20054049e-06, 5.19224195e-05, 1.06644118e-02,\n",
       "        2.09034630e-03, 2.40204754e-04],\n",
       "       [2.12926790e-03, 3.94555867e-01, 4.06810880e-01, 1.03458697e-02,\n",
       "        1.28791556e-01, 1.68294215e-03, 1.04294103e-02, 9.82824527e-03,\n",
       "        2.85860337e-02, 6.83995010e-03],\n",
       "       [6.29617199e-02, 8.29936191e-02, 3.39558959e-01, 2.91706938e-02,\n",
       "        5.76951802e-02, 1.04017956e-02, 2.45803427e-02, 2.66600728e-01,\n",
       "        4.63484637e-02, 7.96884522e-02],\n",
       "       [6.99338443e-07, 3.68265802e-07, 9.98697102e-01, 2.84305884e-06,\n",
       "        6.65090667e-08, 1.41326351e-09, 1.53322888e-09, 6.77704111e-06,\n",
       "        2.07188350e-06, 1.29012193e-03],\n",
       "       [1.00410233e-07, 1.54523377e-06, 9.99964237e-01, 3.51807466e-06,\n",
       "        2.32942021e-08, 6.96364211e-08, 1.56599644e-09, 2.92959230e-05,\n",
       "        2.12740645e-07, 9.32437047e-07],\n",
       "       [2.49682236e-02, 9.94061157e-02, 5.11102259e-01, 4.00809199e-02,\n",
       "        5.86702116e-02, 3.99592891e-03, 2.34272284e-03, 1.85934842e-01,\n",
       "        2.00320799e-02, 5.34666739e-02],\n",
       "       [2.65499053e-04, 5.21597965e-03, 9.30263162e-01, 1.02776531e-02,\n",
       "        2.89851404e-03, 1.56380627e-02, 3.40798462e-04, 2.75521483e-02,\n",
       "        2.18686066e-03, 5.36134141e-03],\n",
       "       [6.27484312e-03, 4.77921814e-02, 5.27166963e-01, 9.66864452e-02,\n",
       "        1.41866589e-02, 1.26036452e-02, 2.93882913e-03, 2.24559680e-01,\n",
       "        1.81238838e-02, 4.96668555e-02],\n",
       "       [2.61214755e-05, 1.39261938e-05, 9.95855153e-01, 1.40699602e-04,\n",
       "        1.93909818e-05, 1.32518664e-07, 5.36096991e-07, 2.76519451e-03,\n",
       "        3.24417895e-04, 8.54371639e-04],\n",
       "       [6.72143660e-11, 2.11852758e-10, 9.99999642e-01, 4.40222649e-08,\n",
       "        2.14911977e-11, 2.51440416e-13, 4.65917113e-14, 2.74304966e-07,\n",
       "        9.73936765e-11, 7.93726151e-09],\n",
       "       [9.52277769e-05, 1.49532978e-04, 9.89509106e-01, 1.70176278e-03,\n",
       "        5.25786960e-03, 4.71055791e-05, 5.56294763e-05, 4.05462721e-04,\n",
       "        6.36611017e-04, 2.14170502e-03],\n",
       "       [3.18444520e-02, 1.03903368e-01, 7.10441947e-01, 4.22846712e-02,\n",
       "        1.44970091e-02, 3.27363648e-02, 3.79863637e-03, 1.92954093e-02,\n",
       "        8.48724879e-03, 3.27108987e-02],\n",
       "       [3.07932311e-07, 1.55657210e-06, 9.99818265e-01, 1.92549510e-06,\n",
       "        4.24836522e-08, 1.80966069e-07, 1.67416605e-08, 1.21571553e-04,\n",
       "        4.83144231e-06, 5.12884653e-05],\n",
       "       [1.07633299e-04, 2.53530074e-04, 9.91116405e-01, 1.37073791e-03,\n",
       "        4.48394247e-04, 1.77071452e-05, 8.48231939e-05, 2.09094817e-03,\n",
       "        2.72735115e-03, 1.78244989e-03],\n",
       "       [3.35350516e-03, 9.65528539e-04, 9.37193394e-01, 9.11343005e-03,\n",
       "        1.44970091e-03, 3.52281873e-04, 1.74846296e-04, 4.15079519e-02,\n",
       "        2.20886315e-03, 3.68062593e-03],\n",
       "       [8.41241889e-03, 2.30924278e-01, 6.96092844e-02, 1.02536399e-02,\n",
       "        4.61928517e-01, 1.23917678e-04, 1.84917625e-03, 1.67688474e-01,\n",
       "        6.40031928e-03, 4.28100489e-02],\n",
       "       [9.03288368e-04, 1.48812439e-02, 6.81591153e-01, 5.08643948e-02,\n",
       "        1.44556665e-03, 1.71598839e-03, 1.90588995e-04, 2.41585016e-01,\n",
       "        4.40759026e-03, 2.41512433e-03],\n",
       "       [1.21255084e-06, 8.06925709e-06, 9.99811471e-01, 4.05370847e-05,\n",
       "        2.93645462e-06, 3.73027014e-08, 6.59143353e-08, 1.04472507e-04,\n",
       "        9.90078479e-06, 2.11845745e-05],\n",
       "       [1.42017527e-07, 4.37972801e-07, 9.87102926e-01, 5.65941227e-05,\n",
       "        2.89669844e-09, 1.01821473e-09, 1.47496015e-10, 1.28090587e-02,\n",
       "        6.16952184e-06, 2.46435629e-05],\n",
       "       [4.98452282e-05, 4.84873512e-04, 9.51309800e-01, 1.24639701e-02,\n",
       "        5.07639088e-05, 1.17863492e-04, 8.06396838e-06, 3.42736244e-02,\n",
       "        4.63255448e-04, 7.78007030e-04],\n",
       "       [3.62470892e-05, 5.12225097e-06, 9.97377634e-01, 1.76731322e-04,\n",
       "        1.96744993e-04, 1.15726834e-06, 1.91647741e-05, 8.60739892e-05,\n",
       "        1.81574642e-03, 2.85424583e-04],\n",
       "       [7.38497972e-02, 6.05093054e-02, 2.59932995e-01, 2.92486429e-01,\n",
       "        4.08860631e-02, 2.83819083e-02, 4.28954549e-02, 3.07930540e-02,\n",
       "        1.40362561e-01, 2.99024731e-02],\n",
       "       [1.02552762e-02, 3.47963162e-03, 7.62031496e-01, 1.59296505e-02,\n",
       "        2.43567070e-03, 3.51698534e-03, 2.06935592e-03, 1.85324967e-01,\n",
       "        1.13409683e-02, 3.61595373e-03],\n",
       "       [1.70755840e-04, 1.31744053e-02, 8.56060147e-01, 8.46324787e-02,\n",
       "        1.37705292e-05, 3.14179169e-06, 1.42963785e-07, 2.66997125e-02,\n",
       "        6.32213123e-05, 1.91822890e-02],\n",
       "       [3.94413718e-07, 6.72955537e-07, 9.99743879e-01, 1.14551469e-04,\n",
       "        4.14228907e-06, 8.21297608e-09, 1.64606575e-07, 1.20418925e-04,\n",
       "        1.29880773e-05, 2.86758132e-06],\n",
       "       [6.59624464e-04, 8.80083651e-04, 9.70597386e-01, 5.04954765e-03,\n",
       "        3.04837129e-04, 7.45112717e-04, 3.36047087e-04, 2.31466620e-04,\n",
       "        8.55757110e-03, 1.26384022e-02],\n",
       "       [8.15218017e-02, 2.75581218e-02, 2.39238292e-01, 3.43829989e-02,\n",
       "        1.53667763e-01, 3.57530825e-02, 2.69134372e-01, 7.65504166e-02,\n",
       "        6.11960739e-02, 2.09970437e-02],\n",
       "       [2.59214066e-05, 1.82184649e-05, 9.99740183e-01, 6.20911960e-05,\n",
       "        2.76845913e-06, 3.44970488e-07, 4.25733532e-07, 3.28066526e-05,\n",
       "        6.45605687e-05, 5.25689757e-05],\n",
       "       [1.36554497e-03, 2.27439590e-02, 6.47995770e-01, 1.93655699e-01,\n",
       "        2.79835367e-04, 1.12556783e-03, 2.13363033e-04, 1.26145020e-01,\n",
       "        4.90562106e-03, 1.56962429e-03],\n",
       "       [1.90214678e-06, 2.11422616e-07, 9.99758661e-01, 5.52976453e-05,\n",
       "        9.67214419e-07, 2.35206876e-09, 3.40019817e-08, 1.16461852e-05,\n",
       "        1.26222803e-04, 4.51953347e-05],\n",
       "       [2.27153646e-06, 1.40463490e-05, 9.98729646e-01, 6.50193761e-05,\n",
       "        7.68023313e-07, 3.36104500e-09, 8.92161367e-09, 1.15335977e-03,\n",
       "        6.09743893e-06, 2.86777868e-05],\n",
       "       [5.10704098e-03, 1.87218159e-01, 5.42434037e-01, 2.76167318e-02,\n",
       "        1.36812031e-01, 7.69631891e-03, 7.56512070e-03, 6.65664300e-02,\n",
       "        1.37027800e-02, 5.28132310e-03],\n",
       "       [7.87412034e-07, 3.21880657e-06, 9.99831915e-01, 3.12029370e-05,\n",
       "        4.61639456e-06, 2.56409116e-08, 1.72034991e-08, 1.14047034e-04,\n",
       "        1.31258375e-05, 1.06930361e-06],\n",
       "       [3.58082354e-02, 6.25869557e-02, 3.42263460e-01, 1.18580095e-01,\n",
       "        2.48410460e-02, 6.45533875e-02, 8.02731514e-02, 1.09473303e-01,\n",
       "        1.29114360e-01, 3.25060263e-02],\n",
       "       [7.67726124e-06, 9.26161883e-05, 9.89940822e-01, 2.65402079e-04,\n",
       "        2.56524472e-05, 5.21948459e-06, 1.83640186e-05, 2.69398952e-05,\n",
       "        6.72077201e-03, 2.89657270e-03],\n",
       "       [1.32353767e-03, 6.72131171e-03, 8.20618749e-01, 1.26231894e-01,\n",
       "        2.27517216e-03, 1.63495969e-02, 4.00559418e-03, 7.29841646e-04,\n",
       "        2.10853536e-02, 6.59006881e-04],\n",
       "       [1.41972792e-04, 1.16545381e-02, 9.51061070e-01, 1.06878560e-02,\n",
       "        1.49812142e-03, 1.57490125e-04, 1.76065805e-04, 9.25832428e-03,\n",
       "        7.89024401e-03, 7.47430930e-03],\n",
       "       [7.29448802e-04, 2.05718307e-03, 9.39181864e-01, 8.85690935e-03,\n",
       "        4.25238308e-04, 4.32520974e-05, 5.40036963e-05, 3.81172635e-02,\n",
       "        2.69045448e-03, 7.84450863e-03],\n",
       "       [1.22587726e-01, 4.31794040e-02, 4.73880209e-02, 3.15861106e-01,\n",
       "        3.87786664e-02, 1.48677304e-02, 4.90433276e-02, 1.95313007e-01,\n",
       "        2.51885522e-02, 1.47792444e-01],\n",
       "       [7.07467378e-04, 1.05739869e-02, 8.87533128e-01, 9.23359394e-03,\n",
       "        4.56840178e-04, 7.35395472e-04, 4.36974697e-05, 8.08220431e-02,\n",
       "        1.11116073e-03, 8.78261961e-03],\n",
       "       [8.25270824e-03, 3.42507102e-02, 1.40347242e-01, 6.29727304e-01,\n",
       "        2.15247413e-03, 3.80850509e-02, 1.62836374e-03, 1.22208424e-01,\n",
       "        1.45913260e-02, 8.75640661e-03],\n",
       "       [1.17463962e-04, 1.04039479e-02, 6.75094903e-01, 1.92404643e-01,\n",
       "        1.23465003e-03, 4.99826390e-03, 8.60452419e-05, 1.12259842e-01,\n",
       "        1.44579832e-03, 1.95449148e-03],\n",
       "       [5.39045024e-04, 6.99493239e-06, 9.80993629e-01, 9.25301760e-03,\n",
       "        7.05377242e-05, 4.29817192e-05, 2.05205550e-04, 1.38138898e-03,\n",
       "        7.48735759e-03, 1.97290319e-05],\n",
       "       [3.40132033e-06, 2.50007462e-04, 9.94002163e-01, 2.08332800e-04,\n",
       "        1.28863510e-04, 6.15985300e-06, 9.35009575e-06, 7.35044378e-05,\n",
       "        2.62237689e-03, 2.69590970e-03],\n",
       "       [3.83919552e-02, 1.21522948e-01, 2.79310614e-01, 5.56654781e-02,\n",
       "        2.11595464e-02, 2.20670067e-02, 5.58658428e-02, 2.93739885e-02,\n",
       "        2.30571181e-01, 1.46071434e-01],\n",
       "       [1.73505814e-05, 3.24220327e-03, 9.79801893e-01, 1.08102467e-02,\n",
       "        2.09427613e-04, 1.76273261e-05, 4.63711649e-06, 5.52351400e-03,\n",
       "        1.95195156e-04, 1.77860144e-04],\n",
       "       [1.15960394e-03, 5.47195897e-02, 9.12811100e-01, 8.75374395e-03,\n",
       "        1.47879194e-03, 9.21184954e-04, 2.52099388e-04, 8.42056051e-03,\n",
       "        7.39538437e-03, 4.08796920e-03]], dtype=float32)"
      ]
     },
     "execution_count": 77,
     "metadata": {
      "tags": []
     },
     "output_type": "execute_result"
    }
   ],
   "source": [
    "#Predicted Probabilities on Validation-set\n",
    "#pick any few indices\n",
    "y_predict_val[9720:9770]"
   ]
  },
  {
   "cell_type": "code",
   "execution_count": 78,
   "metadata": {
    "colab": {
     "base_uri": "https://localhost:8080/",
     "height": 68
    },
    "colab_type": "code",
    "id": "hv536N88JxoN",
    "outputId": "c80bb721-3f46-4636-8b1a-166ed8ce2d16"
   },
   "outputs": [
    {
     "data": {
      "text/plain": [
       "array([2, 2, 2, 2, 2, 2, 2, 2, 2, 2, 2, 2, 2, 2, 2, 2, 2, 2, 4, 2, 2, 2,\n",
       "       2, 2, 3, 2, 2, 2, 2, 6, 2, 2, 2, 2, 2, 2, 2, 2, 2, 2, 2, 3, 2, 3,\n",
       "       2, 2, 2, 2, 2, 2])"
      ]
     },
     "execution_count": 78,
     "metadata": {
      "tags": []
     },
     "output_type": "execute_result"
    }
   ],
   "source": [
    "#Predicted Classes on Validation-set\n",
    "\n",
    "y_predict_val_classes[9720:9770]"
   ]
  },
  {
   "cell_type": "code",
   "execution_count": 79,
   "metadata": {
    "colab": {
     "base_uri": "https://localhost:8080/",
     "height": 68
    },
    "colab_type": "code",
    "id": "AMhiw50JJxoO",
    "outputId": "65bcef07-a2e7-41a2-e197-156da3beb221"
   },
   "outputs": [
    {
     "data": {
      "text/plain": [
       "array([2, 2, 2, 2, 2, 2, 2, 2, 2, 2, 2, 2, 2, 2, 2, 2, 2, 2, 2, 2, 2, 2,\n",
       "       2, 2, 2, 2, 2, 2, 2, 2, 2, 2, 2, 2, 2, 2, 2, 2, 2, 2, 2, 2, 2, 2,\n",
       "       2, 2, 2, 2, 2, 2])"
      ]
     },
     "execution_count": 79,
     "metadata": {
      "tags": []
     },
     "output_type": "execute_result"
    }
   ],
   "source": [
    "#Actual classes from y_val on Validation-set\n",
    "np.argmax(y_val_enc[9720:9770], axis=1)"
   ]
  },
  {
   "cell_type": "markdown",
   "metadata": {
    "colab_type": "text",
    "id": "iScdSPBAJxoT"
   },
   "source": [
    "### Print the classification accuracy metrics, Confusion Matrix and Classification Report using the built model for Validation dataset"
   ]
  },
  {
   "cell_type": "code",
   "execution_count": 80,
   "metadata": {
    "colab": {
     "base_uri": "https://localhost:8080/",
     "height": 34
    },
    "colab_type": "code",
    "id": "2mbOOrAwJxoW",
    "outputId": "b2852ff2-bc2a-4235-891c-a100398d08ea"
   },
   "outputs": [
    {
     "data": {
      "text/plain": [
       "0.8345"
      ]
     },
     "execution_count": 80,
     "metadata": {
      "tags": []
     },
     "output_type": "execute_result"
    }
   ],
   "source": [
    "#accuracy score on Validation dataset\n",
    "accuracy_score(y_val, y_predict_val_classes)"
   ]
  },
  {
   "cell_type": "code",
   "execution_count": 81,
   "metadata": {
    "colab": {
     "base_uri": "https://localhost:8080/",
     "height": 34
    },
    "colab_type": "code",
    "id": "XlM7MDuMJxoX",
    "outputId": "654ecdec-0aba-4a97-f4ca-0bc13c3a569b"
   },
   "outputs": [
    {
     "data": {
      "text/plain": [
       "0.8362133599918673"
      ]
     },
     "execution_count": 81,
     "metadata": {
      "tags": []
     },
     "output_type": "execute_result"
    }
   ],
   "source": [
    "#precision-score on Validation dataset\n",
    "precision_score(y_val, y_predict_val_classes, average='weighted')"
   ]
  },
  {
   "cell_type": "code",
   "execution_count": 82,
   "metadata": {
    "colab": {
     "base_uri": "https://localhost:8080/",
     "height": 34
    },
    "colab_type": "code",
    "id": "FfP6k0joJxoZ",
    "outputId": "6d2b397a-ff5c-4941-ba61-990edb262c6f"
   },
   "outputs": [
    {
     "data": {
      "text/plain": [
       "0.8345"
      ]
     },
     "execution_count": 82,
     "metadata": {
      "tags": []
     },
     "output_type": "execute_result"
    }
   ],
   "source": [
    "#recall-score on Validation dataset\n",
    "recall_score(y_val, y_predict_val_classes, average='weighted')"
   ]
  },
  {
   "cell_type": "code",
   "execution_count": 83,
   "metadata": {
    "colab": {
     "base_uri": "https://localhost:8080/",
     "height": 34
    },
    "colab_type": "code",
    "id": "pp9Z5G3DJxoa",
    "outputId": "98e2fbfc-41ff-4c6c-a2c8-f6303ce55ecc"
   },
   "outputs": [
    {
     "data": {
      "text/plain": [
       "0.834475670429933"
      ]
     },
     "execution_count": 83,
     "metadata": {
      "tags": []
     },
     "output_type": "execute_result"
    }
   ],
   "source": [
    "#f1_score on Validation dataset\n",
    "f1_score(y_val, y_predict_val_classes, average='weighted')"
   ]
  },
  {
   "cell_type": "code",
   "execution_count": 84,
   "metadata": {
    "colab": {
     "base_uri": "https://localhost:8080/",
     "height": 187
    },
    "colab_type": "code",
    "id": "6r-uuJE-Jxob",
    "outputId": "551504f2-3735-436e-cf48-341c2a13d41f"
   },
   "outputs": [
    {
     "data": {
      "text/plain": [
       "array([[5215,  151,   41,   66,   85,   29,  112,   57,   63,  181],\n",
       "       [ 112, 5310,   39,  111,  125,   48,   44,  122,   34,   55],\n",
       "       [  65,  139, 4994,  161,  105,   49,   32,  278,   77,  100],\n",
       "       [  64,  225,   96, 4771,   78,  352,   43,  123,  122,  126],\n",
       "       [  74,  258,   74,   53, 5230,   58,   88,   29,   44,   92],\n",
       "       [  53,  136,   34,  353,   82, 4866,  207,   45,  112,  112],\n",
       "       [ 172,  130,   35,   76,  215,  175, 4876,   35,  217,   69],\n",
       "       [  59,  267,  114,   96,   36,   36,   27, 5276,   20,   69],\n",
       "       [ 137,  198,   76,  170,  143,  134,  280,   44, 4616,  202],\n",
       "       [ 246,  179,   81,  128,   74,  113,   66,   71,  126, 4916]])"
      ]
     },
     "execution_count": 84,
     "metadata": {
      "tags": []
     },
     "output_type": "execute_result"
    }
   ],
   "source": [
    "#Confusion Matrix for Validation dataset\n",
    "confusion_matrix(y_val, y_predict_val_classes)"
   ]
  },
  {
   "cell_type": "code",
   "execution_count": 85,
   "metadata": {
    "colab": {
     "base_uri": "https://localhost:8080/",
     "height": 306
    },
    "colab_type": "code",
    "id": "tzHfrKe7Jxod",
    "outputId": "29b93453-dd8c-45e5-d04b-4aa2bff851e8"
   },
   "outputs": [
    {
     "name": "stdout",
     "output_type": "stream",
     "text": [
      "              precision    recall  f1-score   support\n",
      "\n",
      "         0.0       0.84      0.87      0.86      6000\n",
      "         1.0       0.76      0.89      0.82      6000\n",
      "         2.0       0.89      0.83      0.86      6000\n",
      "         3.0       0.80      0.80      0.80      6000\n",
      "         4.0       0.85      0.87      0.86      6000\n",
      "         5.0       0.83      0.81      0.82      6000\n",
      "         6.0       0.84      0.81      0.83      6000\n",
      "         7.0       0.87      0.88      0.87      6000\n",
      "         8.0       0.85      0.77      0.81      6000\n",
      "         9.0       0.83      0.82      0.82      6000\n",
      "\n",
      "    accuracy                           0.83     60000\n",
      "   macro avg       0.84      0.83      0.83     60000\n",
      "weighted avg       0.84      0.83      0.83     60000\n",
      "\n"
     ]
    }
   ],
   "source": [
    "#Classification Report for Validation dataset\n",
    "print(classification_report(y_val, y_predict_val_classes))"
   ]
  },
  {
   "cell_type": "markdown",
   "metadata": {
    "colab_type": "text",
    "id": "XlireQAjJxoe"
   },
   "source": [
    "### Inference:\n",
    "- The accuracy score on test dataset is 81% and the precision, recall and f1 scores are 81%\n",
    "- The accuracy score on Validation dataset  is 83% and the precision, recall and f1 scores are all 83%\n",
    "- The model is performong comapritively well on both test and validation datasets"
   ]
  }
 ],
 "metadata": {
  "accelerator": "GPU",
  "colab": {
   "collapsed_sections": [],
   "name": "INNDL_R7_Project2_SVHN_Datset.ipynb",
   "provenance": []
  },
  "kernelspec": {
   "display_name": "Python 3",
   "language": "python",
   "name": "python3"
  },
  "language_info": {
   "codemirror_mode": {
    "name": "ipython",
    "version": 3
   },
   "file_extension": ".py",
   "mimetype": "text/x-python",
   "name": "python",
   "nbconvert_exporter": "python",
   "pygments_lexer": "ipython3",
   "version": "3.7.3"
  }
 },
 "nbformat": 4,
 "nbformat_minor": 1
}
