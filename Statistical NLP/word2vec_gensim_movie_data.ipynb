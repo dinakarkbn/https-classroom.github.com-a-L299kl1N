{
 "cells": [
  {
   "cell_type": "markdown",
   "metadata": {},
   "source": [
    "## Building Word2Vec model"
   ]
  },
  {
   "cell_type": "markdown",
   "metadata": {
    "colab_type": "text",
    "id": "C2WAFZueaivk"
   },
   "source": [
    "### Load Gensim Library"
   ]
  },
  {
   "cell_type": "code",
   "execution_count": 1,
   "metadata": {
    "colab": {},
    "colab_type": "code",
    "executionInfo": {
     "elapsed": 1584,
     "status": "ok",
     "timestamp": 1593786298221,
     "user": {
      "displayName": "Dinakar K.B.N",
      "photoUrl": "https://lh3.googleusercontent.com/a-/AOh14Ghm5Gw1nVMe9l0MEepP0Gr56OopX1xDm1cAMPOnFA=s64",
      "userId": "06643686747511876348"
     },
     "user_tz": -330
    },
    "id": "iSrla7q8aivn"
   },
   "outputs": [],
   "source": [
    "import gensim"
   ]
  },
  {
   "cell_type": "markdown",
   "metadata": {
    "colab_type": "text",
    "id": "t_X-ql4CyIkM"
   },
   "source": [
    "Example text"
   ]
  },
  {
   "cell_type": "code",
   "execution_count": 2,
   "metadata": {
    "colab": {},
    "colab_type": "code",
    "executionInfo": {
     "elapsed": 1634,
     "status": "ok",
     "timestamp": 1593786303585,
     "user": {
      "displayName": "Dinakar K.B.N",
      "photoUrl": "https://lh3.googleusercontent.com/a-/AOh14Ghm5Gw1nVMe9l0MEepP0Gr56OopX1xDm1cAMPOnFA=s64",
      "userId": "06643686747511876348"
     },
     "user_tz": -330
    },
    "id": "Imo7J97NyHml"
   },
   "outputs": [],
   "source": [
    "from gensim.models import Word2Vec\n",
    "from sklearn.decomposition import PCA\n",
    "from matplotlib import pyplot"
   ]
  },
  {
   "cell_type": "code",
   "execution_count": 3,
   "metadata": {
    "colab": {},
    "colab_type": "code",
    "executionInfo": {
     "elapsed": 1635,
     "status": "ok",
     "timestamp": 1593786308266,
     "user": {
      "displayName": "Dinakar K.B.N",
      "photoUrl": "https://lh3.googleusercontent.com/a-/AOh14Ghm5Gw1nVMe9l0MEepP0Gr56OopX1xDm1cAMPOnFA=s64",
      "userId": "06643686747511876348"
     },
     "user_tz": -330
    },
    "id": "WKGsc9j5yZDm"
   },
   "outputs": [],
   "source": [
    "# define training data\n",
    "sentences = [['this', 'is', 'the', 'first', 'sentence', 'for', 'word2vec'], \n",
    "             ['this', 'is', 'the', 'second', 'sentence'], \n",
    "             ['yet', 'another', 'sentence'], \n",
    "             ['one', 'more', 'sentence'], \n",
    "             ['and', 'the', 'final', 'sentence']]"
   ]
  },
  {
   "cell_type": "code",
   "execution_count": 45,
   "metadata": {
    "colab": {},
    "colab_type": "code",
    "executionInfo": {
     "elapsed": 848,
     "status": "ok",
     "timestamp": 1593786343439,
     "user": {
      "displayName": "Dinakar K.B.N",
      "photoUrl": "https://lh3.googleusercontent.com/a-/AOh14Ghm5Gw1nVMe9l0MEepP0Gr56OopX1xDm1cAMPOnFA=s64",
      "userId": "06643686747511876348"
     },
     "user_tz": -330
    },
    "id": "Xbz-EURvyZJE"
   },
   "outputs": [],
   "source": [
    "# train model\n",
    "model = Word2Vec(sentences, min_count=1)"
   ]
  },
  {
   "cell_type": "code",
   "execution_count": 46,
   "metadata": {
    "colab": {
     "base_uri": "https://localhost:8080/",
     "height": 34
    },
    "colab_type": "code",
    "executionInfo": {
     "elapsed": 1626,
     "status": "ok",
     "timestamp": 1593786351762,
     "user": {
      "displayName": "Dinakar K.B.N",
      "photoUrl": "https://lh3.googleusercontent.com/a-/AOh14Ghm5Gw1nVMe9l0MEepP0Gr56OopX1xDm1cAMPOnFA=s64",
      "userId": "06643686747511876348"
     },
     "user_tz": -330
    },
    "id": "qAdm6xOZyZPg",
    "outputId": "f846d384-74c3-4373-b1a2-f09aeb8a2d1d"
   },
   "outputs": [
    {
     "name": "stdout",
     "output_type": "stream",
     "text": [
      "Word2Vec(vocab=14, size=100, alpha=0.025)\n"
     ]
    }
   ],
   "source": [
    "# summarize the loaded model\n",
    "print(model)"
   ]
  },
  {
   "cell_type": "code",
   "execution_count": 47,
   "metadata": {
    "colab": {
     "base_uri": "https://localhost:8080/",
     "height": 34
    },
    "colab_type": "code",
    "executionInfo": {
     "elapsed": 1648,
     "status": "ok",
     "timestamp": 1593786356849,
     "user": {
      "displayName": "Dinakar K.B.N",
      "photoUrl": "https://lh3.googleusercontent.com/a-/AOh14Ghm5Gw1nVMe9l0MEepP0Gr56OopX1xDm1cAMPOnFA=s64",
      "userId": "06643686747511876348"
     },
     "user_tz": -330
    },
    "id": "4vioiumaypot",
    "outputId": "35eb7842-086a-433a-b60e-4265c549c2d6"
   },
   "outputs": [
    {
     "name": "stdout",
     "output_type": "stream",
     "text": [
      "['this', 'is', 'the', 'first', 'sentence', 'for', 'word2vec', 'second', 'yet', 'another', 'one', 'more', 'and', 'final']\n"
     ]
    }
   ],
   "source": [
    "# summarize vocabulary\n",
    "words = list(model.wv.vocab)\n",
    "print(words)"
   ]
  },
  {
   "cell_type": "code",
   "execution_count": 48,
   "metadata": {
    "colab": {
     "base_uri": "https://localhost:8080/",
     "height": 442
    },
    "colab_type": "code",
    "executionInfo": {
     "elapsed": 1176,
     "status": "ok",
     "timestamp": 1593786548473,
     "user": {
      "displayName": "Dinakar K.B.N",
      "photoUrl": "https://lh3.googleusercontent.com/a-/AOh14Ghm5Gw1nVMe9l0MEepP0Gr56OopX1xDm1cAMPOnFA=s64",
      "userId": "06643686747511876348"
     },
     "user_tz": -330
    },
    "id": "_yhgDAfoypsN",
    "outputId": "8b1a37a3-6fb4-49b4-ec1b-e1037c0cc031"
   },
   "outputs": [
    {
     "name": "stdout",
     "output_type": "stream",
     "text": [
      "[-1.8163706e-04  2.8151902e-03 -4.0430184e-03  4.5586200e-03\n",
      " -9.6109441e-05 -2.7914704e-03  2.0515486e-03  3.5308616e-03\n",
      " -2.5904484e-03  2.1422505e-03  2.5270437e-03  6.8969821e-04\n",
      "  3.2835144e-03 -2.6631854e-03 -3.8498947e-03  1.6855812e-03\n",
      " -3.5759099e-03  3.3392604e-03 -4.6539451e-03  2.1219924e-03\n",
      " -4.8686904e-03 -4.7202581e-03 -2.5472192e-03  3.6825592e-04\n",
      " -1.7845040e-03  3.2774203e-03 -1.3261018e-03  1.5705308e-03\n",
      "  2.0605084e-03  2.5921012e-03  2.0706267e-03 -5.1088369e-04\n",
      "  3.2500371e-03  2.4303424e-04  4.8714774e-03  4.3945943e-04\n",
      " -3.5572345e-03  7.6966925e-04  3.9976286e-03  3.8072788e-03\n",
      "  2.4789260e-03  7.0605421e-04 -4.9717845e-03 -1.9823073e-03\n",
      " -2.8952563e-03 -4.4882847e-03  1.2302322e-03 -4.4047465e-03\n",
      "  6.1034248e-04 -2.0707757e-03 -6.7740586e-04  6.3182937e-04\n",
      " -1.4504662e-04  2.5152322e-03 -4.5392308e-03 -4.6771718e-03\n",
      "  2.9089286e-03  2.3872850e-03 -3.1097010e-03  6.2324863e-04\n",
      " -6.7716016e-04  3.1906842e-05 -1.4048539e-03 -1.0524305e-03\n",
      " -6.7111413e-04 -1.6109152e-03  3.6148140e-03  4.5705228e-03\n",
      " -4.7204653e-03 -1.9768404e-03  4.9045850e-03 -3.5625007e-03\n",
      "  4.1016457e-03 -3.1592231e-03 -1.2552083e-03  1.6830738e-03\n",
      "  4.2659505e-03  2.7084532e-03 -1.6030411e-03  1.6182829e-03\n",
      " -1.5489197e-03 -4.1406336e-03  9.9040091e-04 -5.0710677e-04\n",
      " -6.4809871e-04  4.7092889e-03  3.0866480e-03  1.4044846e-03\n",
      "  3.9552064e-03 -1.3698656e-03 -6.0184469e-04  3.4793271e-04\n",
      "  2.5953753e-03  2.2960084e-03  4.5480272e-03 -2.5187279e-03\n",
      " -4.1238298e-03  3.9076371e-04  2.6742676e-03 -8.9914602e-04]\n"
     ]
    }
   ],
   "source": [
    "# access vector for one word\n",
    "print(model.wv.word_vec('sentence'))"
   ]
  },
  {
   "cell_type": "code",
   "execution_count": 49,
   "metadata": {
    "colab": {
     "base_uri": "https://localhost:8080/",
     "height": 156
    },
    "colab_type": "code",
    "executionInfo": {
     "elapsed": 1607,
     "status": "ok",
     "timestamp": 1593786618836,
     "user": {
      "displayName": "Dinakar K.B.N",
      "photoUrl": "https://lh3.googleusercontent.com/a-/AOh14Ghm5Gw1nVMe9l0MEepP0Gr56OopX1xDm1cAMPOnFA=s64",
      "userId": "06643686747511876348"
     },
     "user_tz": -330
    },
    "id": "MVLLppKmy_tu",
    "outputId": "e1c48459-f062-4039-c25d-2d3328305152"
   },
   "outputs": [
    {
     "data": {
      "text/plain": [
       "[('yet', 0.15105977654457092),\n",
       " ('the', 0.1153249517083168),\n",
       " ('word2vec', 0.04173220694065094),\n",
       " ('is', 0.031835511326789856),\n",
       " ('more', 0.014091253280639648)]"
      ]
     },
     "execution_count": 49,
     "metadata": {},
     "output_type": "execute_result"
    }
   ],
   "source": [
    "model.wv.most_similar('first', topn=5)"
   ]
  },
  {
   "cell_type": "code",
   "execution_count": 56,
   "metadata": {
    "colab": {
     "base_uri": "https://localhost:8080/",
     "height": 71
    },
    "colab_type": "code",
    "executionInfo": {
     "elapsed": 3262,
     "status": "ok",
     "timestamp": 1593784957609,
     "user": {
      "displayName": "Dinakar K.B.N",
      "photoUrl": "https://lh3.googleusercontent.com/a-/AOh14Ghm5Gw1nVMe9l0MEepP0Gr56OopX1xDm1cAMPOnFA=s64",
      "userId": "06643686747511876348"
     },
     "user_tz": -330
    },
    "id": "VD8uk_VWypvj",
    "outputId": "ae0fb4ab-ba9b-4fea-b4ab-9dcf292c003e"
   },
   "outputs": [
    {
     "name": "stderr",
     "output_type": "stream",
     "text": [
      "C:\\ProgramData\\Anaconda3\\lib\\site-packages\\ipykernel_launcher.py:2: DeprecationWarning: Call to deprecated `__getitem__` (Method will be removed in 4.0.0, use self.wv.__getitem__() instead).\n",
      "  \n"
     ]
    }
   ],
   "source": [
    "# fit a 2d PCA model to the vectors\n",
    "X = model[model.wv.vocab]\n",
    "pca = PCA(n_components=2)\n",
    "result = pca.fit_transform(X)"
   ]
  },
  {
   "cell_type": "code",
   "execution_count": 57,
   "metadata": {
    "colab": {
     "base_uri": "https://localhost:8080/",
     "height": 269
    },
    "colab_type": "code",
    "executionInfo": {
     "elapsed": 3245,
     "status": "ok",
     "timestamp": 1593784957609,
     "user": {
      "displayName": "Dinakar K.B.N",
      "photoUrl": "https://lh3.googleusercontent.com/a-/AOh14Ghm5Gw1nVMe9l0MEepP0Gr56OopX1xDm1cAMPOnFA=s64",
      "userId": "06643686747511876348"
     },
     "user_tz": -330
    },
    "id": "zwzCcj6_yp0Z",
    "outputId": "40991437-5973-4358-f28d-e0dc9ef1e3f0"
   },
   "outputs": [
    {
     "data": {
      "image/png": "[encoded data removed]",
      "text/plain": [
       "<Figure size 432x288 with 1 Axes>"
      ]
     },
     "metadata": {
      "needs_background": "light"
     },
     "output_type": "display_data"
    }
   ],
   "source": [
    "# create a scatter plot of the projection\n",
    "pyplot.scatter(result[:, 0], result[:, 1])\n",
    "words = list(model.wv.vocab)\n",
    "for i, word in enumerate(words):\n",
    "    pyplot.annotate(word, xy=(result[i, 0], result[i, 1]))\n",
    "pyplot.show()"
   ]
  },
  {
   "cell_type": "markdown",
   "metadata": {
    "colab_type": "text",
    "id": "rOTbE9ZPaivu"
   },
   "source": [
    "### Load Text Data\n",
    "\n",
    "Data can be downloaded from https://www.kaggle.com/c/word2vec-nlp-tutorial/data"
   ]
  },
  {
   "cell_type": "code",
   "execution_count": 11,
   "metadata": {
    "colab": {},
    "colab_type": "code",
    "executionInfo": {
     "elapsed": 33667,
     "status": "ok",
     "timestamp": 1593784988051,
     "user": {
      "displayName": "Dinakar K.B.N",
      "photoUrl": "https://lh3.googleusercontent.com/a-/AOh14Ghm5Gw1nVMe9l0MEepP0Gr56OopX1xDm1cAMPOnFA=s64",
      "userId": "06643686747511876348"
     },
     "user_tz": -330
    },
    "id": "TfMZ0Ud-vpP6"
   },
   "outputs": [],
   "source": [
    "import pandas as pd"
   ]
  },
  {
   "cell_type": "code",
   "execution_count": 12,
   "metadata": {
    "colab": {},
    "colab_type": "code",
    "executionInfo": {
     "elapsed": 38986,
     "status": "ok",
     "timestamp": 1593784993374,
     "user": {
      "displayName": "Dinakar K.B.N",
      "photoUrl": "https://lh3.googleusercontent.com/a-/AOh14Ghm5Gw1nVMe9l0MEepP0Gr56OopX1xDm1cAMPOnFA=s64",
      "userId": "06643686747511876348"
     },
     "user_tz": -330
    },
    "id": "tZm5jp6BuoME"
   },
   "outputs": [],
   "source": [
    "df = pd.read_csv('labeledTrainData.tsv.zip', header=0, delimiter=\"\\t\", quoting=3)"
   ]
  },
  {
   "cell_type": "code",
   "execution_count": 13,
   "metadata": {
    "colab": {
     "base_uri": "https://localhost:8080/",
     "height": 221
    },
    "colab_type": "code",
    "executionInfo": {
     "elapsed": 38970,
     "status": "ok",
     "timestamp": 1593784993375,
     "user": {
      "displayName": "Dinakar K.B.N",
      "photoUrl": "https://lh3.googleusercontent.com/a-/AOh14Ghm5Gw1nVMe9l0MEepP0Gr56OopX1xDm1cAMPOnFA=s64",
      "userId": "06643686747511876348"
     },
     "user_tz": -330
    },
    "id": "Kp4QSkBKvt_t",
    "outputId": "b1b597a6-c6f6-47e3-ad3a-dedb1d16eb50"
   },
   "outputs": [
    {
     "name": "stdout",
     "output_type": "stream",
     "text": [
      "Number of examples in Dataset:  (25000, 3)\n"
     ]
    },
    {
     "data": {
      "text/html": [
       "<div>\n",
       "<style scoped>\n",
       "    .dataframe tbody tr th:only-of-type {\n",
       "        vertical-align: middle;\n",
       "    }\n",
       "\n",
       "    .dataframe tbody tr th {\n",
       "        vertical-align: top;\n",
       "    }\n",
       "\n",
       "    .dataframe thead th {\n",
       "        text-align: right;\n",
       "    }\n",
       "</style>\n",
       "<table border=\"1\" class=\"dataframe\">\n",
       "  <thead>\n",
       "    <tr style=\"text-align: right;\">\n",
       "      <th></th>\n",
       "      <th>id</th>\n",
       "      <th>sentiment</th>\n",
       "      <th>review</th>\n",
       "    </tr>\n",
       "  </thead>\n",
       "  <tbody>\n",
       "    <tr>\n",
       "      <th>0</th>\n",
       "      <td>\"5814_8\"</td>\n",
       "      <td>1</td>\n",
       "      <td>\"With all this stuff going down at the moment ...</td>\n",
       "    </tr>\n",
       "    <tr>\n",
       "      <th>1</th>\n",
       "      <td>\"2381_9\"</td>\n",
       "      <td>1</td>\n",
       "      <td>\"\\\"The Classic War of the Worlds\\\" by Timothy ...</td>\n",
       "    </tr>\n",
       "    <tr>\n",
       "      <th>2</th>\n",
       "      <td>\"7759_3\"</td>\n",
       "      <td>0</td>\n",
       "      <td>\"The film starts with a manager (Nicholas Bell...</td>\n",
       "    </tr>\n",
       "    <tr>\n",
       "      <th>3</th>\n",
       "      <td>\"3630_4\"</td>\n",
       "      <td>0</td>\n",
       "      <td>\"It must be assumed that those who praised thi...</td>\n",
       "    </tr>\n",
       "    <tr>\n",
       "      <th>4</th>\n",
       "      <td>\"9495_8\"</td>\n",
       "      <td>1</td>\n",
       "      <td>\"Superbly trashy and wondrously unpretentious ...</td>\n",
       "    </tr>\n",
       "  </tbody>\n",
       "</table>\n",
       "</div>"
      ],
      "text/plain": [
       "         id  sentiment                                             review\n",
       "0  \"5814_8\"          1  \"With all this stuff going down at the moment ...\n",
       "1  \"2381_9\"          1  \"\\\"The Classic War of the Worlds\\\" by Timothy ...\n",
       "2  \"7759_3\"          0  \"The film starts with a manager (Nicholas Bell...\n",
       "3  \"3630_4\"          0  \"It must be assumed that those who praised thi...\n",
       "4  \"9495_8\"          1  \"Superbly trashy and wondrously unpretentious ..."
      ]
     },
     "execution_count": 13,
     "metadata": {},
     "output_type": "execute_result"
    }
   ],
   "source": [
    "print('Number of examples in Dataset: ', df.shape)\n",
    "df.head()"
   ]
  },
  {
   "cell_type": "markdown",
   "metadata": {
    "colab_type": "text",
    "id": "j1DHNFNsaivy"
   },
   "source": [
    "### Function to Clean up data"
   ]
  },
  {
   "cell_type": "code",
   "execution_count": 14,
   "metadata": {
    "colab": {},
    "colab_type": "code",
    "executionInfo": {
     "elapsed": 38967,
     "status": "ok",
     "timestamp": 1593784993377,
     "user": {
      "displayName": "Dinakar K.B.N",
      "photoUrl": "https://lh3.googleusercontent.com/a-/AOh14Ghm5Gw1nVMe9l0MEepP0Gr56OopX1xDm1cAMPOnFA=s64",
      "userId": "06643686747511876348"
     },
     "user_tz": -330
    },
    "id": "qazs9SVQwgr6"
   },
   "outputs": [],
   "source": [
    "import re, string"
   ]
  },
  {
   "cell_type": "code",
   "execution_count": 15,
   "metadata": {
    "colab": {},
    "colab_type": "code",
    "executionInfo": {
     "elapsed": 38965,
     "status": "ok",
     "timestamp": 1593784993378,
     "user": {
      "displayName": "Dinakar K.B.N",
      "photoUrl": "https://lh3.googleusercontent.com/a-/AOh14Ghm5Gw1nVMe9l0MEepP0Gr56OopX1xDm1cAMPOnFA=s64",
      "userId": "06643686747511876348"
     },
     "user_tz": -330
    },
    "id": "PJf9rUeLaiv0"
   },
   "outputs": [],
   "source": [
    "def clean_str(string):\n",
    "  \"\"\"\n",
    "  String cleaning before vectorization\n",
    "  \n",
    "  \"\"\"\n",
    "  try:    \n",
    "    string = re.sub(r'^https?:\\/\\/<>.*[\\r\\n]*', '', string, flags=re.MULTILINE)\n",
    "    string = re.sub(r\"[^A-Za-z]\", \" \", string)         \n",
    "    words = string.strip().lower().split()    \n",
    "    words = [w for w in words if len(w)>=1]\n",
    "    return \" \".join(words)\t\n",
    "  except:\n",
    "    return \"\""
   ]
  },
  {
   "cell_type": "markdown",
   "metadata": {
    "colab_type": "text",
    "id": "ON-JT9fPaiv2"
   },
   "source": [
    "### Clean the Data using routine above"
   ]
  },
  {
   "cell_type": "code",
   "execution_count": 16,
   "metadata": {
    "colab": {
     "base_uri": "https://localhost:8080/",
     "height": 204
    },
    "colab_type": "code",
    "executionInfo": {
     "elapsed": 41140,
     "status": "ok",
     "timestamp": 1593784995569,
     "user": {
      "displayName": "Dinakar K.B.N",
      "photoUrl": "https://lh3.googleusercontent.com/a-/AOh14Ghm5Gw1nVMe9l0MEepP0Gr56OopX1xDm1cAMPOnFA=s64",
      "userId": "06643686747511876348"
     },
     "user_tz": -330
    },
    "id": "iVOxnQg3aiv4",
    "outputId": "2d5a18c2-d155-43f5-847c-1ad37e53d414",
    "scrolled": true
   },
   "outputs": [
    {
     "data": {
      "text/html": [
       "<div>\n",
       "<style scoped>\n",
       "    .dataframe tbody tr th:only-of-type {\n",
       "        vertical-align: middle;\n",
       "    }\n",
       "\n",
       "    .dataframe tbody tr th {\n",
       "        vertical-align: top;\n",
       "    }\n",
       "\n",
       "    .dataframe thead th {\n",
       "        text-align: right;\n",
       "    }\n",
       "</style>\n",
       "<table border=\"1\" class=\"dataframe\">\n",
       "  <thead>\n",
       "    <tr style=\"text-align: right;\">\n",
       "      <th></th>\n",
       "      <th>id</th>\n",
       "      <th>sentiment</th>\n",
       "      <th>review</th>\n",
       "      <th>clean_review</th>\n",
       "    </tr>\n",
       "  </thead>\n",
       "  <tbody>\n",
       "    <tr>\n",
       "      <th>0</th>\n",
       "      <td>\"5814_8\"</td>\n",
       "      <td>1</td>\n",
       "      <td>\"With all this stuff going down at the moment ...</td>\n",
       "      <td>with all this stuff going down at the moment w...</td>\n",
       "    </tr>\n",
       "    <tr>\n",
       "      <th>1</th>\n",
       "      <td>\"2381_9\"</td>\n",
       "      <td>1</td>\n",
       "      <td>\"\\\"The Classic War of the Worlds\\\" by Timothy ...</td>\n",
       "      <td>the classic war of the worlds by timothy hines...</td>\n",
       "    </tr>\n",
       "    <tr>\n",
       "      <th>2</th>\n",
       "      <td>\"7759_3\"</td>\n",
       "      <td>0</td>\n",
       "      <td>\"The film starts with a manager (Nicholas Bell...</td>\n",
       "      <td>the film starts with a manager nicholas bell g...</td>\n",
       "    </tr>\n",
       "    <tr>\n",
       "      <th>3</th>\n",
       "      <td>\"3630_4\"</td>\n",
       "      <td>0</td>\n",
       "      <td>\"It must be assumed that those who praised thi...</td>\n",
       "      <td>it must be assumed that those who praised this...</td>\n",
       "    </tr>\n",
       "    <tr>\n",
       "      <th>4</th>\n",
       "      <td>\"9495_8\"</td>\n",
       "      <td>1</td>\n",
       "      <td>\"Superbly trashy and wondrously unpretentious ...</td>\n",
       "      <td>superbly trashy and wondrously unpretentious s...</td>\n",
       "    </tr>\n",
       "  </tbody>\n",
       "</table>\n",
       "</div>"
      ],
      "text/plain": [
       "         id  sentiment                                             review  \\\n",
       "0  \"5814_8\"          1  \"With all this stuff going down at the moment ...   \n",
       "1  \"2381_9\"          1  \"\\\"The Classic War of the Worlds\\\" by Timothy ...   \n",
       "2  \"7759_3\"          0  \"The film starts with a manager (Nicholas Bell...   \n",
       "3  \"3630_4\"          0  \"It must be assumed that those who praised thi...   \n",
       "4  \"9495_8\"          1  \"Superbly trashy and wondrously unpretentious ...   \n",
       "\n",
       "                                        clean_review  \n",
       "0  with all this stuff going down at the moment w...  \n",
       "1  the classic war of the worlds by timothy hines...  \n",
       "2  the film starts with a manager nicholas bell g...  \n",
       "3  it must be assumed that those who praised this...  \n",
       "4  superbly trashy and wondrously unpretentious s...  "
      ]
     },
     "execution_count": 16,
     "metadata": {},
     "output_type": "execute_result"
    }
   ],
   "source": [
    "df['clean_review'] = df['review'].apply(clean_str)\n",
    "df.head()"
   ]
  },
  {
   "cell_type": "code",
   "execution_count": 17,
   "metadata": {
    "colab": {
     "base_uri": "https://localhost:8080/",
     "height": 204
    },
    "colab_type": "code",
    "executionInfo": {
     "elapsed": 41131,
     "status": "ok",
     "timestamp": 1593784995571,
     "user": {
      "displayName": "Dinakar K.B.N",
      "photoUrl": "https://lh3.googleusercontent.com/a-/AOh14Ghm5Gw1nVMe9l0MEepP0Gr56OopX1xDm1cAMPOnFA=s64",
      "userId": "06643686747511876348"
     },
     "user_tz": -330
    },
    "id": "x32-x6FeLTTo",
    "outputId": "cb49592f-110c-4993-a358-59c178a8dd50"
   },
   "outputs": [
    {
     "data": {
      "text/html": [
       "<div>\n",
       "<style scoped>\n",
       "    .dataframe tbody tr th:only-of-type {\n",
       "        vertical-align: middle;\n",
       "    }\n",
       "\n",
       "    .dataframe tbody tr th {\n",
       "        vertical-align: top;\n",
       "    }\n",
       "\n",
       "    .dataframe thead th {\n",
       "        text-align: right;\n",
       "    }\n",
       "</style>\n",
       "<table border=\"1\" class=\"dataframe\">\n",
       "  <thead>\n",
       "    <tr style=\"text-align: right;\">\n",
       "      <th></th>\n",
       "      <th>id</th>\n",
       "      <th>sentiment</th>\n",
       "      <th>review</th>\n",
       "      <th>clean_review</th>\n",
       "    </tr>\n",
       "  </thead>\n",
       "  <tbody>\n",
       "    <tr>\n",
       "      <th>0</th>\n",
       "      <td>\"5814_8\"</td>\n",
       "      <td>1</td>\n",
       "      <td>\"With all this stuff going down at the moment ...</td>\n",
       "      <td>with all this stuff going down at the moment w...</td>\n",
       "    </tr>\n",
       "    <tr>\n",
       "      <th>1</th>\n",
       "      <td>\"2381_9\"</td>\n",
       "      <td>1</td>\n",
       "      <td>\"\\\"The Classic War of the Worlds\\\" by Timothy ...</td>\n",
       "      <td>the classic war of the worlds by timothy hines...</td>\n",
       "    </tr>\n",
       "    <tr>\n",
       "      <th>2</th>\n",
       "      <td>\"7759_3\"</td>\n",
       "      <td>0</td>\n",
       "      <td>\"The film starts with a manager (Nicholas Bell...</td>\n",
       "      <td>the film starts with a manager nicholas bell g...</td>\n",
       "    </tr>\n",
       "    <tr>\n",
       "      <th>3</th>\n",
       "      <td>\"3630_4\"</td>\n",
       "      <td>0</td>\n",
       "      <td>\"It must be assumed that those who praised thi...</td>\n",
       "      <td>it must be assumed that those who praised this...</td>\n",
       "    </tr>\n",
       "    <tr>\n",
       "      <th>4</th>\n",
       "      <td>\"9495_8\"</td>\n",
       "      <td>1</td>\n",
       "      <td>\"Superbly trashy and wondrously unpretentious ...</td>\n",
       "      <td>superbly trashy and wondrously unpretentious s...</td>\n",
       "    </tr>\n",
       "  </tbody>\n",
       "</table>\n",
       "</div>"
      ],
      "text/plain": [
       "         id  sentiment                                             review  \\\n",
       "0  \"5814_8\"          1  \"With all this stuff going down at the moment ...   \n",
       "1  \"2381_9\"          1  \"\\\"The Classic War of the Worlds\\\" by Timothy ...   \n",
       "2  \"7759_3\"          0  \"The film starts with a manager (Nicholas Bell...   \n",
       "3  \"3630_4\"          0  \"It must be assumed that those who praised thi...   \n",
       "4  \"9495_8\"          1  \"Superbly trashy and wondrously unpretentious ...   \n",
       "\n",
       "                                        clean_review  \n",
       "0  with all this stuff going down at the moment w...  \n",
       "1  the classic war of the worlds by timothy hines...  \n",
       "2  the film starts with a manager nicholas bell g...  \n",
       "3  it must be assumed that those who praised this...  \n",
       "4  superbly trashy and wondrously unpretentious s...  "
      ]
     },
     "execution_count": 17,
     "metadata": {},
     "output_type": "execute_result"
    }
   ],
   "source": [
    "df.head()"
   ]
  },
  {
   "cell_type": "markdown",
   "metadata": {
    "colab_type": "text",
    "id": "LJJyLx1Vaiv7"
   },
   "source": [
    "### Convert Review to a Word List"
   ]
  },
  {
   "cell_type": "code",
   "execution_count": 18,
   "metadata": {
    "colab": {
     "base_uri": "https://localhost:8080/",
     "height": 71
    },
    "colab_type": "code",
    "executionInfo": {
     "elapsed": 41813,
     "status": "ok",
     "timestamp": 1593784996279,
     "user": {
      "displayName": "Dinakar K.B.N",
      "photoUrl": "https://lh3.googleusercontent.com/a-/AOh14Ghm5Gw1nVMe9l0MEepP0Gr56OopX1xDm1cAMPOnFA=s64",
      "userId": "06643686747511876348"
     },
     "user_tz": -330
    },
    "id": "5jEV1hl0aiv8",
    "outputId": "78d5ef2b-ae75-45e8-bbf2-d4c016ac8396"
   },
   "outputs": [
    {
     "name": "stdout",
     "output_type": "stream",
     "text": [
      "25000\n",
      "['with', 'all', 'this', 'stuff', 'going', 'down', 'at', 'the', 'moment', 'with', 'mj', 'i', 've', 'started', 'listening', 'to', 'his', 'music', 'watching', 'the', 'odd', 'documentary', 'here', 'and', 'there', 'watched', 'the', 'wiz', 'and', 'watched', 'moonwalker', 'again', 'maybe', 'i', 'just', 'want', 'to', 'get', 'a', 'certain', 'insight', 'into', 'this', 'guy', 'who', 'i', 'thought', 'was', 'really', 'cool', 'in', 'the', 'eighties', 'just', 'to', 'maybe', 'make', 'up', 'my', 'mind', 'whether', 'he', 'is', 'guilty', 'or', 'innocent', 'moonwalker', 'is', 'part', 'biography', 'part', 'feature', 'film', 'which', 'i', 'remember', 'going', 'to', 'see', 'at', 'the', 'cinema', 'when', 'it', 'was', 'originally', 'released', 'some', 'of', 'it', 'has', 'subtle', 'messages', 'about', 'mj', 's', 'feeling', 'towards', 'the', 'press', 'and', 'also', 'the', 'obvious', 'message', 'of', 'drugs', 'are', 'bad', 'm', 'kay', 'br', 'br', 'visually', 'impressive', 'but', 'of', 'course', 'this', 'is', 'all', 'about', 'michael', 'jackson', 'so', 'unless', 'you', 'remotely', 'like', 'mj', 'in', 'anyway', 'then', 'you', 'are', 'going', 'to', 'hate', 'this', 'and', 'find', 'it', 'boring', 'some', 'may', 'call', 'mj', 'an', 'egotist', 'for', 'consenting', 'to', 'the', 'making', 'of', 'this', 'movie', 'but', 'mj', 'and', 'most', 'of', 'his', 'fans', 'would', 'say', 'that', 'he', 'made', 'it', 'for', 'the', 'fans', 'which', 'if', 'true', 'is', 'really', 'nice', 'of', 'him', 'br', 'br', 'the', 'actual', 'feature', 'film', 'bit', 'when', 'it', 'finally', 'starts', 'is', 'only', 'on', 'for', 'minutes', 'or', 'so', 'excluding', 'the', 'smooth', 'criminal', 'sequence', 'and', 'joe', 'pesci', 'is', 'convincing', 'as', 'a', 'psychopathic', 'all', 'powerful', 'drug', 'lord', 'why', 'he', 'wants', 'mj', 'dead', 'so', 'bad', 'is', 'beyond', 'me', 'because', 'mj', 'overheard', 'his', 'plans', 'nah', 'joe', 'pesci', 's', 'character', 'ranted', 'that', 'he', 'wanted', 'people', 'to', 'know', 'it', 'is', 'he', 'who', 'is', 'supplying', 'drugs', 'etc', 'so', 'i', 'dunno', 'maybe', 'he', 'just', 'hates', 'mj', 's', 'music', 'br', 'br', 'lots', 'of', 'cool', 'things', 'in', 'this', 'like', 'mj', 'turning', 'into', 'a', 'car', 'and', 'a', 'robot', 'and', 'the', 'whole', 'speed', 'demon', 'sequence', 'also', 'the', 'director', 'must', 'have', 'had', 'the', 'patience', 'of', 'a', 'saint', 'when', 'it', 'came', 'to', 'filming', 'the', 'kiddy', 'bad', 'sequence', 'as', 'usually', 'directors', 'hate', 'working', 'with', 'one', 'kid', 'let', 'alone', 'a', 'whole', 'bunch', 'of', 'them', 'performing', 'a', 'complex', 'dance', 'scene', 'br', 'br', 'bottom', 'line', 'this', 'movie', 'is', 'for', 'people', 'who', 'like', 'mj', 'on', 'one', 'level', 'or', 'another', 'which', 'i', 'think', 'is', 'most', 'people', 'if', 'not', 'then', 'stay', 'away', 'it', 'does', 'try', 'and', 'give', 'off', 'a', 'wholesome', 'message', 'and', 'ironically', 'mj', 's', 'bestest', 'buddy', 'in', 'this', 'movie', 'is', 'a', 'girl', 'michael', 'jackson', 'is', 'truly', 'one', 'of', 'the', 'most', 'talented', 'people', 'ever', 'to', 'grace', 'this', 'planet', 'but', 'is', 'he', 'guilty', 'well', 'with', 'all', 'the', 'attention', 'i', 've', 'gave', 'this', 'subject', 'hmmm', 'well', 'i', 'don', 't', 'know', 'because', 'people', 'can', 'be', 'different', 'behind', 'closed', 'doors', 'i', 'know', 'this', 'for', 'a', 'fact', 'he', 'is', 'either', 'an', 'extremely', 'nice', 'but', 'stupid', 'guy', 'or', 'one', 'of', 'the', 'most', 'sickest', 'liars', 'i', 'hope', 'he', 'is', 'not', 'the', 'latter']\n"
     ]
    }
   ],
   "source": [
    "#List to hold all words in each review\n",
    "documents = []\n",
    "\n",
    "#Iterate over each review\n",
    "for doc in df['clean_review']:\n",
    "    documents.append(doc.split(' '))\n",
    "\n",
    "print(len(documents))\n",
    "print(documents[0])"
   ]
  },
  {
   "cell_type": "code",
   "execution_count": 19,
   "metadata": {
    "colab": {
     "base_uri": "https://localhost:8080/",
     "height": 34
    },
    "colab_type": "code",
    "executionInfo": {
     "elapsed": 41797,
     "status": "ok",
     "timestamp": 1593784996281,
     "user": {
      "displayName": "Dinakar K.B.N",
      "photoUrl": "https://lh3.googleusercontent.com/a-/AOh14Ghm5Gw1nVMe9l0MEepP0Gr56OopX1xDm1cAMPOnFA=s64",
      "userId": "06643686747511876348"
     },
     "user_tz": -330
    },
    "id": "O3D6hiEAcRkf",
    "outputId": "ddf91aaf-48f4-4472-db2e-a7e9c1c0f023"
   },
   "outputs": [
    {
     "data": {
      "text/plain": [
       "376"
      ]
     },
     "execution_count": 19,
     "metadata": {},
     "output_type": "execute_result"
    }
   ],
   "source": [
    "len(documents[108])"
   ]
  },
  {
   "cell_type": "markdown",
   "metadata": {
    "colab_type": "text",
    "id": "EHhZ8ncUaiv_"
   },
   "source": [
    "### Build the Model"
   ]
  },
  {
   "cell_type": "code",
   "execution_count": 20,
   "metadata": {
    "colab": {},
    "colab_type": "code",
    "executionInfo": {
     "elapsed": 119706,
     "status": "ok",
     "timestamp": 1593785074194,
     "user": {
      "displayName": "Dinakar K.B.N",
      "photoUrl": "https://lh3.googleusercontent.com/a-/AOh14Ghm5Gw1nVMe9l0MEepP0Gr56OopX1xDm1cAMPOnFA=s64",
      "userId": "06643686747511876348"
     },
     "user_tz": -330
    },
    "id": "KsB8HpGwaiwA"
   },
   "outputs": [],
   "source": [
    "#Build the model\n",
    "model = gensim.models.Word2Vec(documents, #Word list\n",
    "                               min_count=10, #Ignore all words with total frequency lower than this                           \n",
    "                               workers=4, #Number of CPU Cores\n",
    "                               size=50,  #Embedding size\n",
    "                               window=5, #Maximum Distance between current and predicted word\n",
    "                               iter=10   #Number of iterations over the text corpus\n",
    "                              )  "
   ]
  },
  {
   "cell_type": "markdown",
   "metadata": {
    "colab_type": "text",
    "id": "gDY9oFflaiwC"
   },
   "source": [
    "# Exploring the model"
   ]
  },
  {
   "cell_type": "markdown",
   "metadata": {
    "colab_type": "text",
    "id": "Wnn8dzYTaiwD"
   },
   "source": [
    "### How many words in the model"
   ]
  },
  {
   "cell_type": "code",
   "execution_count": 42,
   "metadata": {
    "colab": {
     "base_uri": "https://localhost:8080/",
     "height": 88
    },
    "colab_type": "code",
    "executionInfo": {
     "elapsed": 119691,
     "status": "ok",
     "timestamp": 1593785074196,
     "user": {
      "displayName": "Dinakar K.B.N",
      "photoUrl": "https://lh3.googleusercontent.com/a-/AOh14Ghm5Gw1nVMe9l0MEepP0Gr56OopX1xDm1cAMPOnFA=s64",
      "userId": "06643686747511876348"
     },
     "user_tz": -330
    },
    "id": "O8jRdfO3aiwF",
    "outputId": "017a84c3-ce62-4571-f2af-53462fc85bd2"
   },
   "outputs": [
    {
     "data": {
      "text/plain": [
       "(400000, 100)"
      ]
     },
     "execution_count": 42,
     "metadata": {},
     "output_type": "execute_result"
    }
   ],
   "source": [
    "#Model size\n",
    "model.vectors.shape"
   ]
  },
  {
   "cell_type": "code",
   "execution_count": 22,
   "metadata": {
    "colab": {
     "base_uri": "https://localhost:8080/",
     "height": 54
    },
    "colab_type": "code",
    "executionInfo": {
     "elapsed": 119676,
     "status": "ok",
     "timestamp": 1593785074197,
     "user": {
      "displayName": "Dinakar K.B.N",
      "photoUrl": "https://lh3.googleusercontent.com/a-/AOh14Ghm5Gw1nVMe9l0MEepP0Gr56OopX1xDm1cAMPOnFA=s64",
      "userId": "06643686747511876348"
     },
     "user_tz": -330
    },
    "id": "fq_VqrrpaiwJ",
    "outputId": "a82f4892-0a1f-40fd-9ce3-5d2bbe873d42"
   },
   "outputs": [
    {
     "data": {
      "text/plain": [
       "dict_keys(['with', 'all', 'this', 'stuff', 'going', 'down', 'at', 'the', 'moment', 'mj', 'i', 've', 'started', 'listening', 'to', 'his', 'music', 'watching', 'odd', 'documentary', 'here', 'and', 'there', 'watched', 'wiz', 'moonwalker', 'again', 'maybe', 'just', 'want', 'get', 'a', 'certain', 'insight', 'into', 'guy', 'who', 'thought', 'was', 'really', 'cool', 'in', 'eighties', 'make', 'up', 'my', 'mind', 'whether', 'he', 'is', 'guilty', 'or', 'innocent', 'part', 'biography', 'feature', 'film', 'which', 'remember', 'see', 'cinema', 'when', 'it', 'originally', 'released', 'some', 'of', 'has', 'subtle', 'messages', 'about', 's', 'feeling', 'towards', 'press', 'also', 'obvious', 'message', 'drugs', 'are', 'bad', 'm', 'kay', 'br', 'visually', 'impressive', 'but', 'course', 'michael', 'jackson', 'so', 'unless', 'you', 'remotely', 'like', 'anyway', 'then', 'hate', 'find', 'boring', 'may', 'call', 'an', 'for', 'making', 'movie', 'most', 'fans', 'would', 'say', 'that', 'made', 'if', 'true', 'nice', 'him', 'actual', 'bit', 'finally', 'starts', 'only', 'on', 'minutes', 'excluding', 'smooth', 'criminal', 'sequence', 'joe', 'pesci', 'convincing', 'as', 'psychopathic', 'powerful', 'drug', 'lord', 'why', 'wants', 'dead', 'beyond', 'me', 'because', 'plans', 'nah', 'character', 'wanted', 'people', 'know', 'supplying', 'etc', 'dunno', 'hates', 'lots', 'things', 'turning', 'car', 'robot', 'whole', 'speed', 'demon', 'director', 'must', 'have', 'had', 'patience', 'saint', 'came', 'filming', 'usually', 'directors', 'working', 'one', 'kid', 'let', 'alone', 'bunch', 'them', 'performing', 'complex', 'dance', 'scene', 'bottom', 'line', 'level', 'another', 'think', 'not', 'stay', 'away', 'does', 'try', 'give', 'off', 'wholesome', 'ironically', 'buddy', 'girl', 'truly', 'talented', 'ever', 'grace', 'planet', 'well', 'attention', 'gave', 'subject', 'hmmm', 'don', 't', 'can', 'be', 'different', 'behind', 'closed', 'doors', 'fact', 'either', 'extremely', 'stupid', 'sickest', 'liars', 'hope', 'latter', 'classic', 'war', 'worlds', 'by', 'timothy', 'hines', 'very', 'entertaining', 'obviously', 'goes', 'great', 'effort', 'lengths', 'faithfully', 'recreate', 'h', 'g', 'wells', 'book', 'mr', 'succeeds', 'doing', 'those', 'appreciated', 'standard', 'predictable', 'hollywood', 'fare', 'comes', 'out', 'every', 'year', 'e', 'spielberg', 'version', 'tom', 'cruise', 'slightest', 'resemblance', 'everyone', 'looks', 'themselves', 'amateur', 'critics', 'look', 'criticize', 'everything', 'they', 'others', 'rate', 'more', 'important', 'bases', 'being', 'entertained', 'never', 'agree', 'we', 'enjoyed', 'put', 'faithful', 'novel', 'found', 'easy', 'overlook', 'what', 'perceive', 'its', 'shortcomings', 'manager', 'nicholas', 'bell', 'giving', 'welcome', 'investors', 'robert', 'carradine', 'primal', 'park', 'secret', 'project', 'animal', 'using', 'dna', 'scientists', 'resurrect', 'nature', 'fearsome', 'predators', 'sabretooth', 'tiger', 'scientific', 'ambition', 'turns', 'deadly', 'however', 'high', 'fence', 'opened', 'creature', 'escape', 'begins', 'savagely', 'stalking', 'prey', 'human', 'visitors', 'tourists', 'meanwhile', 'youngsters', 'enter', 'restricted', 'area', 'security', 'center', 'attacked', 'pack', 'large', 'pre', 'historical', 'animals', 'bigger', 'addition', 'agent', 'stacy', 'her', 'mate', 'brian', 'fight', 'hardly', 'against', 'real', 'star', 'stars', 'astounding', 'terrifyingly', 'though', 'giant', 'group', 'run', 'afoul', 'furthermore', 'third', 'dangerous', 'slow', 'stalks', 'victims', 'delivers', 'goods', 'blood', 'gore', 'beheading', 'hair', 'raising', 'chills', 'full', 'scares', 'appear', 'mediocre', 'special', 'effects', 'story', 'provides', 'exciting', 'stirring', 'entertainment', 'results', 'quite', 'majority', 'computer', 'generator', 'seem', 'totally', 'lousy', 'middling', 'performances', 'players', 'reacting', 'appropriately', 'becoming', 'food', 'actors', 'physical', 'dodging', 'beasts', 'running', 'bound', 'leaps', 'dangling', 'over', 'walls', 'packs', 'ridiculous', 'final', 'no', 'small', 'kids', 'realistic', 'gory', 'violent', 'attack', 'scenes', 'other', 'films', 'following', 'james', 'r', 'vanessa', 'angel', 'david', 'keith', 'john', 'rhys', 'davies', 'much', 'better', 'bc', 'roland', 'steven', 'strait', 'cliff', 'curtis', 'camilla', 'belle', 'motion', 'picture', 'filled', 'bloody', 'moments', 'badly', 'directed', 'george', 'miller', 'originality', 'takes', 'too', 'many', 'elements', 'from', 'previous', 'australian', 'television', 'wave', 'journey', 'earth', 'occasionally', 'man', 'snowy', 'river', 'robinson', 'rating', 'below', 'average', 'barrel', 'assumed', 'praised', 'greatest', 'filmed', 'opera', 'didn', 'read', 'somewhere', 'care', 'wagner', 'anything', 'except', 'their', 'desire', 'cultured', 'representation', 'swan', 'song', 'strikes', 'disaster', 'leaden', 'reading', 'score', 'matched', 'realisation', 'text', 'questionable', 'ideas', 'matter', 'play', 'especially', 'shakespeare', 'should', 'allowed', 'anywhere', 'near', 'theatre', 'studio', 'syberberg', 'without', 'smallest', 'justification', 'decided', 'parsifal', 'bisexual', 'integration', 'title', 'stages', 'kind', 'babe', 'continues', 'sing', 'tenor', 'few', 'any', 'singers', 'double', 'dose', 'jordan', 'conductor', 'seen', 'face', 'heard', 'voice', 'appears', 'exposure', 'ate', 'during', 'playing', 'good', 'friday', 'way', 'represented', 'flaccid', 'stuck', 'ill', 'laid', 'turf', 'baffles', 'sometimes', 'piece', 'such', 'imperfections', 'our', 'thoughts', 'couldn', 'mountain', 'lush', 'provided', 'julie', 'andrews', 'sound', 'hard', 'endure', 'voices', 'particular', 'possessing', 'aural', 'adds', 'sort', 'fatigue', 'uninspired', 'conducting', 'unfolding', 'ritual', 'someone', 'review', 'mentioned', 'recording', 'often', 'altogether', 'lacks', 'sense', 'pulse', 'flow', 'after', 'half', 'century', 'orchestral', 'set', 'modern', 'still', 'superior', 'superbly', 'trashy', 'unpretentious', 'exploitation', 'hooray', 'credits', 'opening', 'sequences', 'somewhat', 'false', 'impression', 're', 'dealing', 'serious', 'harrowing', 'drama', 'need', 'fear', 'barely', 'ten', 'later', 'until', 'necks', 'nonsensical', 'chainsaw', 'battles', 'rough', 'fist', 'fights', 'lurid', 'dialogs', 'gratuitous', 'nudity', 'bo', 'ingrid', 'two', 'orphaned', 'siblings', 'unusually', 'close', 'even', 'slightly', 'perverted', 'relationship', 'imagine', 'playfully', 'ripping', 'towel', 'covers', 'your', 'sister', 'naked', 'body', 'stare', 'genitals', 'several', 'judging', 'dubbed', 'laughter', 'she', 'doesn', 'sick', 'dude', 'fled', 'russia', 'parents', 'nasty', 'soldiers', 'brutally', 'slaughtered', 'mommy', 'daddy', 'friendly', 'took', 'custody', 'raised', 'trained', 'expert', 'plot', 'lifts', 'years', 'facing', 'ultimate', 'quest', 'mythical', 'incredibly', 'valuable', 'white', 'fire', 'diamond', 'coincidentally', 'mine', 'life', 'little', 'narrative', 'structure', 'sure', 'lot', 'fun', 'watch', 'time', 'clue', 'beating', 'cause', 'bet', 'understood', 'less', 'whatever', 'violence', 'magnificently', 'grotesque', 'single', 'twist', 'retarded', 'script', 'bonkers', 'repair', 'suddenly', 'won', 'reveal', 'reason', 'needs', 'replacement', 'fred', 'williamson', 'enters', 'big', 'cigar', 'mouth', 'sleazy', 'black', 'fingers', 'local', 'prostitutes', 'principal', 'opponent', 'italian', 'chick', 'breasts', 'hideous', 'accent', 'preposterous', 'catchy', 'theme', 'plays', 'least', 'dozen', 'times', 'throughout', 'obligatory', 'falling', 'love', 'montage', 'loads', 'attractions', 'god', 'brilliant', 'experience', 'original', 'french', 'translates', 'itself', 'survive', 'uniquely', 'appropriate', 'makes', 'rest', 'none', 'dont', 'got', 'pretty', 'action', 'change', 'location', 'harry', 'hurt', 'offensive', 'eastwood', 'form', 'dirty', 'liked', 'pat', 'hingle', 'town', 'cop', 'than', 'pool', 'could', 'been', 'short', 'cheesy', 'acting', 'looked', 'past', 'wasn', 'background', 'centers', 'around', 'evil', 'witch', 'linked', 'woman', 'gets', 'drags', 'clearly', 'explains', 'keeps', 'plodding', 'christopher', 'walken', 'completely', 'senseless', 'potential', 'tv', 'avoid', 'video', 'friend', 'house', 'glad', 'did', 'waste', 'money', 'buying', 'cover', 'clips', 'rocket', 'blow', 'ups', 'related', 'flight', 'sibrel', 'smoking', 'gun', 'clip', 'astronauts', 'preparing', 'broadcast', 'edits', 'own', 'instead', 'letting', 'us', 'listen', 'crew', 'curiously', 'ends', 'showing', 'claims', 'radiation', 'photography', 'lead', 'believe', 'ignorant', 'ax', 'grind', 'nasa', 'american', 'general', 'science', 'bought', 'grossly', 'despite', 'featuring', 'names', 'adam', 'sandler', 'billy', 'bob', 'thornton', 'burt', 'young', 'funny', 'taking', 'straight', 'through', 'uses', 'tired', 'comedic', 'techniques', 'consistently', 'breaking', 'fourth', 'wall', 'talks', 'audience', 'seemingly', 'pointless', 'montages', 'hot', 'girls', 'waiter', 'ship', 'successful', 'comedian', 'order', 'become', 'women', 'resident', 'shamelessly', 'named', 'due', 'unfathomable', 'success', 'opposite', 'gender', 'presumed', 'lost', 'sea', 'break', 'rather', 'locked', 'bathroom', 'presumably', 'perhaps', 'worst', 'references', 'mad', 'max', 'ii', 'wild', 'clear', 'reference', 'tribute', 'peter', 'lorre', 'masterpiece', 'll', 'talk', 'future', 'happens', 'army', 'eastern', 'european', 'commies', 'gather', 'forces', 'south', 'border', 'gary', 'busey', 'kicks', 'butts', 'laughable', 'example', 'reagan', 'era', 'cultural', 'fallout', 'wastes', 'decent', 'supporting', 'cast', 'headed', 'l', 'q', 'jones', 'although', 'generally', 'do', 'remakes', 'believing', 'exception', 'actually', 'far', 'comment', 'remake', 'opinion', 'purely', 'comparison', 'written', 'question', 'capote', 'words', 'anthony', 'edwards', 'eric', 'roberts', 'superb', 'movies', 'each', 'case', 'always', 'wondered', 'number', 'famous', 'brother', 'certainty', 'top', 'profession', 'recommend', 'keep', 'dvd', 'shelves', 'harvey', 'lights', 'candle', 'performance', 'spall', 'while', 'predict', 'titular', 'morose', 'tight', 'teacher', 'will', 'catharsis', 'based', 'deep', 'how', 'emotions', 'surprising', 'range', 'feelings', 'conveyed', 'moving', 'portray', 'mike', 'leigh', 'expected', 'school', 'bus', 'trip', 'used', 'comic', 'purposes', 'simpsons', 'central', 'situation', 'visit', 'cathedral', 'brook', 'contained', 'structured', 'dramatic', 'almost', 'divided', 'acts', 'introduced', 'urban', 'british', 'racially', 'religiously', 'diverse', 'uniforms', 'tell', 'private', 'public', 'rapping', 'asians', 'muslims', 'bullies', 'mean', 'naturally', 'individually', 'whom', 'recognized', 'shameless', 'were', 'exuberant', 'representing', 'usual', 'junior', 'social', 'pressures', 'celia', 'puts', 'warmth', 'supervisor', 'role', 'leads', 'crisis', 'remain', 'amusingly', 'oblivious', 'portrayed', 'ben', 'miles', 'coupling', 'spoon', 'fed', 'didactic', 'lesson', 'religious', 'tolerance', 'faith', 'bbc', 'showed', 'england', 'easter', 'america', 'u', 'christmas', 'summer', 'key', 'redemption', 'played', 'week', 'preaching', 'touching', 'reach', 'unexpected', 'unfortunately', 'saw', 'intense', 'interrupted', 'commercials', 'heavy', 'handed', 'calling', 'road', 'pilgrimage', 'quiet', 'best', 'men', 'holiday', 'themed', 'submerged', 'wouldn', 'right', 'looking', 'champagne', 'product', 'repeatedly', 'stranger', 'sounds', 'nothing', 'editing', 'grade', 'above', 'amateurish', 'b', 'c', 'enough', 'hire', 'couple', 'cameramen', 'ok', 'designer', 'poster', 'said', 'problems', 'post', 'production', 'dubbing', 'sg', 'flick', 'rent', 'asking', 'forgiveness', 'miss', 'kelly', 'note', 'mystery', 'theater', 'riff', 'favorite', 'simply', 'complete', 'absurdity', 'credit', 'mst', 'k', 'trying', 'ridicule', 'dialog', 'bill', 'playwright', 'hand', 'club', 'buy', 'hamlet', 'stephen', 'king', 'adaptation', 'scripted', 'himself', 'family', 'newcomers', 'rural', 'maine', 'pet', 'cemetery', 'home', 'father', 'dale', 'midkiff', 'finds', 'burial', 'ground', 'powers', 'resurrection', 'buried', 'back', 'horror', 'clumsy', 'insulting', 'inept', 'absolute', 'element', 'worthless', 'toward', 'end', 'genuinely', 'disturbing', 'finale', 'point', 'dismiss', 'something', 'memorable', 'gwynne', 'wise', 'old', 'aged', 'neighbor', 'brad', 'disfigured', 'spirit', 'victor', 'redeem', 'cameo', 'minister', 'followed', 'sequel', 'mary', 'lambert', 'wonder', 'mainstream', 'work', 'since', 'matrix', 'blockbuster', 'fantastic', 'provoking', 'twilight', 'zone', 'ish', 'manner', 'rule', 'applies', 'match', 'predecessor', 'worse', 'compare', 'reloaded', 'explodes', 'onto', 'screen', 'un', 'professional', 'fashion', 'seconds', 'first', 'trinity', 'shot', 'dream', 'immediately', 'nose', 'dives', 'disastrous', 'gradually', 'gains', 'momentum', 'smith', 'battle', 'place', 'loses', 'reaches', 'minute', 'chase', 'groan', 'worthy', 'overlong', 'zion', 'rave', 'absolutely', 'pathetic', 'excuse', 'porn', 'depressive', 'bullet', 'aspect', 'overuse', 'interesting', 'linear', 'basically', 'series', 'stylish', 'prevent', 'realising', 'empty', 'works', 'incorrect', 'principle', 'franchise', 'quickly', 'descended', 'drenched', 'misfire', 'wars', 'saga', 'poor', 'hugo', 'weaving', 'keanu', 'reeves', 'definitive', 'neo', 'room', 'impact', 'academy', 'award', 'nominee', 'laurence', 'fishburne', 'reduced', 'monotonous', 'mentor', 'dialogue', 'carrie', 'ann', 'moss', 'done', 'actress', 'thrown', 'together', 'disappointment', 'unlikely', 'flock', 'die', 'sub', 'genre', 'effect', 'minority', 'report', 'imdb', 'ulli', 'lommel', 'low', 'budget', 'chiller', 'worth', 'ultimately', 'taken', 'seriously', 'now', 'left', 'door', 'open', 'minded', 'seeing', 'day', 'browsing', 'videos', 'store', 'mall', 'across', 'entitled', 'return', 'earlier', 'happy', 'shell', 'bucks', 'known', 'pros', 'ha', 'laugh', 'hunk', 'cow', 'dung', 'footage', 'um', 'mercifully', 'yeah', 'cons', 'where', 'start', 'decisions', 'total', 'bore', 'next', 'scary', 'happening', 'stiff', 'likely', 'friends', 'whatsoever', 'before', 'probably', 'nonexistent', 'direction', 'plain', 'awful', 'tries', 'artsy', 'camera', 'move', 'flicker', 'filters', 'dull', 'hear', 'parts', 'ties', 'botched', 'natalie', 'events', 'depicted', 'beginning', 'take', 'mention', 'happened', 'new', 'ashamed', 'thing', 'sucked', 'supposed', 'damn', 'doubt', 'forget', 'handled', 'idea', 'among', 'indian', 'fade', 'passage', 'nor', 'spell', 'binding', 'appeal', 'diminish', 'transforms', 'abyss', 'artificially', 'styled', 'pop', 'culture', 'drill', 'oriented', 'extras', 'p', 'songs', 'cinematography', 'speaks', 'excellent', 'skills', 'monumental', 'scope', 'entirety', 'gone', 'days', 'clipped', 'meticulous', 'paid', 'crafting', 'poignant', 'sublime', 'emotional', 'intensity', 'instance', 'meena', 'kumari', 'refuses', 'yes', 'approval', 'marriage', 'bond', 'climbs', 'hill', 'berserk', 'traumatized', 'frenzy', 'raj', 'kumar', 'follows', 'strong', 'gale', 'wind', 'blew', 'veil', 'legs', 'kamal', 'shall', 'remembered', 'golden', 'annals', 'history', 'record', 'setting', 'manage', 'vital', 'lady', 'terminally', 'fighting', 'early', 'understand', 'loss', 'feel', 'loneliness', 'johnson', 'reflected', 'fineman', 'felt', 'trapped', 'same', 'perspective', 'jada', 'wonderful', 'pulls', 'tears', 'cheadle', 'supporter', 'oscars', 'fine', 'assure', 'jerry', 'soylent', 'green', 'fiction', 'persuasive', 'today', 'standards', 'flawed', 'dated', 'apocalyptic', 'touch', 'environmental', 'premise', 'typical', 'unsettling', 'quality', 'surpasses', 'contemporary', 'sf', 'flicks', 'personally', 'consider', 'york', 'depressing', 'alive', 'population', 'unemployment', 'unhealthy', 'climate', 'available', 'synthetic', 'distributed', 'company', 'charlton', 'heston', 'shape', 'investigating', 'murder', 'eminent', 'executives', 'stumbles', 'upon', 'scandals', 'dark', 'secrets', 'sentimental', 'climax', 'come', 'surprise', 'atmosphere', 'tense', 'uncanny', 'riot', 'grueling', 'easily', 'macabre', 'edward', 'last', 'modest', 'supportive', 'joseph', 'cotton', 'baron', 'abominable', 'dr', 'nightmarish', 'inevitable', 'humanity', 'fancy', 'space', 'ships', 'hairy', 'monsters', 'attacking', 'sexually', 'frustrated', 'individual', 'moral', 'attitude', 'sexuality', 'problem', 'ogling', 'dancers', 'having', 'sex', 'believes', 'lose', 'innocence', 'beauty', 'hills', 'lovemaking', 'couples', 'distance', 'shooting', 'powered', 'rifle', 'seeming', 'primary', 'existence', 'indulge', 'sexual', 'activity', 'afterthought', 'happily', 'heterosexual', 'male', 'pleased', 'treated', 'protracted', 'ladies', 'awfully', 'sans', 'clothes', 'serve', 'major', 'titillation', 'fair', 'deal', 'creepiness', 'factor', 'considerably', 'illustrates', 'compulsion', 'voyeurism', 'eyes', 'pulling', 'trigger', 'underscored', 'intrusive', 'atmospheric', 'soundtrack', 'penchant', 'trash', 'enjoy', 'degree', 'includes', 'lesbian', 'renders', 'uncertain', 'react', 'unfolds', 'pace', 'wraps', 'amusing', 'ironic', 'kinky', 'twisted', 'rarity', 'else', 'definitely', 'viewers', 'glued', 'go', 'luck', 'military', 'loosely', 'rudyard', 'kipling', 'poem', 'three', 'qualifies', 'imperial', 'india', 'cary', 'grant', 'knock', 'blows', 'fists', 'six', 'fisted', 'yarn', 'dwells', 'exploits', 'rugged', 'sergeants', 'native', 'water', 'bearer', 'gunga', 'din', 'sam', 'jaffe', 'contend', 'bloodthirsty', 'cult', 'murderous', 'indians', 'called', 'sergeant', 'archibald', 'cutter', 'oscar', 'winner', 'mclaglen', 'informer', 'ballantine', 'douglas', 'fairbanks', 'jr', 'dawn', 'patrol', 'competitive', 'trio', 'drinking', 'loving', 'alpha', 'males', 'whose', 'frolic', 'marry', 'emmy', 'joan', 'fontaine', 'tea', 'business', 'drum', 'assorted', 'schemes', 'superiors', 'sgt', 'steps', 'cannot', 'accompany', 'replace', 'principals', 'hating', 'stevens', 'celebrates', 'adventure', 'grand', 'style', 'heroes', 'august', 'received', 'nomination', 'outstanding', 'hours', 'seemed', 'steve', 'spliced', 'constructed', 'wait', 'ball', 'recently', 'dog', 'mostly', 'lame', 'fx', 'zeta', 'fanatics', 'credibility', 'binks', 'quo', 'wow', 'amazing', 'ken', 'russell', 'quirky', 'stylized', 'artistic', 'presented', 'wacky', 'unfulfilled', 'emperor', 'circus', 'career', 'position', 'leading', 'empire', 'longed', 'maria', 'tremendous', 'persecuted', 'christians', 'vengeance', 'henchmen', 'protecting', 'ourselves', 'everywhere', 'turn', 'son', 'genetically', 'mutated', 'monster', 'scarier', 'name', 'paul', 'frightening', 'hammerhead', 'shark', 'dagger', 'sharp', 'teeth', 'ability', 'ambush', 'dry', 'land', 'rock', 'eats', 'sit', 'laughing', 'load', 'shreds', 'referred', 'entire', 'silly', 'aren', 'campy', 'contrived', 'spend', 'wandering', 'along', 'island', 'sudden', 'madly', 'walking', 'forest', 'pour', 'feet', 'relive', 'allows', 'kill', 'scifi', 'channel', 'hottie', 'live', 'silver', 'lining', 'otherwise', 'disappointing', 'biggest', 'settings', 'expectations', 'slasher', 'urge', 'claim', 'stinks', 'killer', 'motivations', 'possible', 'makers', 'garbage', 'create', 'tiny', 'tension', 'carpenter', 'guess', 'easier', 'kindred', 'enjoyable', 'soul', 'survivors', 'crap', 'eliza', 'dushku', 'junk', 'debut', 'daphne', 'zuniga', 'melrose', 'dies', 'min', 'second', 'person', 'victim', 'directly', 'nobody', 'seems', 'afterwards', 'cares', 'deserve', 'term', 'uninteresting', 'hoping', 'quick', 'painful', 'death', 'characters', 'humble', 'intrigued', 'synopsis', 'gay', 'these', 'necessarily', 'sign', 'purchased', 'arthur', 'knowing', 'purchase', 'connection', 'am', 'concerned', 'blatant', 'rip', 'observation', 'lightly', 'collector', 'state', 'authority', 'hesitation', 'sat', 'period', 'collection', 'boasts', 'comfortable', 'stating', 'interest', 'pleasant', 'aimee', 'normal', 'examples', 'titles', 'stumbled', 'accidentally', 'box', 'conflict', 'between', 'lovers', 'christian', 'subjects', 'plunge', 'sight', 'unseen', 'previously', 'visions', 'sugar', 'compared', 'viewed', 'wrong', 'plenty', 'begin', 'sympathetic', 'asked', 'church', 'member', 'priest', 'mob', 'execution', 'save', 'souls', 'writing', 'points', 'reflect', 'logic', 'follow', 'acceptable', 'activist', 'wing', 'both', 'sides', 'difficult', 'anybody', 'hired', 'stereotypes', 'boot', 'neither', 'sexy', 'forever', 'distributors', 'advantage', 'distinction', 'insipid', 'understanding', 'serves', 'aware', 'embarrassment', 'queer', 'intend', 'warn', 'possibly', 'soon', 'priced', 'under', 'highway', 'robbery', 'price', 'cheated', 'connected', 'drivel', 'reviews', 'user', 'numerous', 'websites', 'praise', 'writer', 'actor', 'reviewer', 'ed', 'wood', 'wannabe', 'sad', 'desperate', 'wish', 'allow', 'zero', 'minus', 'deserved', 'anyone', 'rubbish', 'contain', 'children', 'nude', 'cinematic', 'view', 'encountered', 'dire', 'woke', 'art', 'stick', 'countryside', 'isn', 'explanation', 'haven', 'ticked', 'spoilers', 'yourself', 'proper', 'unremarkable', 'unmemorable', 'celebrated', 'english', 'overly', 'maligned', 'builds', 'betrays', 'origins', 'richard', 'burton', 'sleepwalks', 'sophia', 'loren', 'display', 'passion', 'simon', 'pegg', 'rude', 'crude', 'control', 'celebrity', 'journalist', 'brought', 'magazine', 'winning', 'ways', 'sorts', 'complications', 'comedy', 'co', 'kristen', 'dunst', 'grown', 'danny', 'huston', 'jeff', 'bridges', 'primarily', 'behavior', 'frequent', 'screw', 'cap', 'evening', 'sitting', 'couch', 'witty', 'cynical', 'depressed', 'middle', 'software', 'engineer', 'relying', 'heavily', 'narration', 'downbeat', 'bourgeois', 'philosophical', 'humorous', 'describe', 'intellectual', 'charles', 'disrespect', 'cb', 'intended', 'bleak', 'analysis', 'relations', 'achievement', 'reflects', 'recognisable', 'ask', 'rare', 'equally', 'eva', 'hedy', 'lamarr', 'married', 'older', 'honeymoon', 'realizes', 'husband', 'returning', 'farm', 'leaving', 'afternoon', 'bathing', 'lake', 'horse', 'escapes', 'worker', 'gives', 'fall', 'misses', 'fortune', 'ending', 'affair', 'tragic', 'remark', 'relative', 'horrible', 'vhs', 'brazil', 'brazilian', 'distributor', 'network', 'reels', 'damaged', 'therefore', 'images', 'achieved', 'viewer', 'chance', 'rental', 'sale', 'practically', 'silent', 'lines', 'consequently', 'developed', 'daring', 'beautiful', 'fat', 'present', 'poetic', 'flowers', 'intercourse', 'lover', 'conducts', 'show', 'non', 'unusual', 'restored', 'vote', 'eight', 'ecstasy', 'allegedly', 'joke', 'response', 'commit', 'jeroen', 'krabb', 'gerard', 'depardieu', 'iron', 'mask', 'office', 'poison', 'th', 'critique', 'saying', 'satire', 'tricky', 'becomes', 'butt', 'miserable', 'disgusting', 'worthwhile', 'application', 'luis', 'bunuel', 'spoiler', 'alert', 'job', 'attain', 'maker', 'benefit', 'assume', 'guessing', 'pretentious', 'ass', 'incompetent', 'weird', 'caricature', 'purpose', 'dilemma', 'faced', 'involved', 'knew', 'patch', 'adams', 'duped', 'deceptively', 'alluring', 'packaging', 'reputation', 'eye', 'candy', 'sky', 'captain', 'game', 'injected', 'performers', 'visuals', 'thirty', 'walk', 'kept', 'growing', 'five', 'yet', 'main', 'pitiful', 'jude', 'law', 'affleck', 'gigli', 'paltrow', 'article', 'thinking', 'staying', 'mother', 'applaud', 'decision', 'soap', 'operas', 'continually', 'progresses', 'directing', 'suffer', 'greatly', 'phantom', 'menace', 'paying', 'prices', 'release', 'graduate', 'explaining', 'desires', 'ruined', 'develop', 'revealed', 'slowly', 'realistically', 'believably', 'sensitive', 'tried', 'happen', 'highly', 'confess', 'mom', 'light', 'dumb', 'thoroughly', 'essentially', 'chris', 'klein', 'maintain', 'profile', 'eventually', 'morphs', 'laughs', 'outrageous', 'spirited', 'nut', 'jobs', 'imitation', 'simple', 'plan', 'jake', 'merk', 'accident', 'kenneth', 'branagh', 'stealing', 'helena', 'bonham', 'carter', 'chemistry', 'emma', 'thompson', 'disabled', 'seeking', 'herself', 'female', 'long', 'portraying', 'pull', 'pain', 'believable', 'current', 'roles', 'charlize', 'theron', 'halle', 'berry', 'fell', 'consideration', 'cable', 'late', 'night', 'trust', 'sleep', 'dispense', 'comparisons', 'legendary', 'filmmaker', 'neurotic', 'yorker', 'persona', 'frankly', 'draw', 'bumbling', 'loser', 'josh', 'kornbluth', 'insult', 'mentioning', 'spot', 'breath', 'celluloid', 'catastrophe', 'waking', 'surgery', 'haiku', 'tunnel', 'd', 'pulled', 'plug', 'cruel', 'result', 'audiences', 'world', 'indeed', 'discussing', 'sake', 'caution', 'temp', 'severe', 'commitment', 'phobia', 'offered', 'permanent', 'duty', 'mail', 'priority', 'letters', 'boss', 'ludicrously', 'unable', 'perform', 'task', 'reaction', 'passing', 'passed', 'self', 'respecting', 'buffoon', 'chubby', 'features', 'facial', 'expressions', 'cringe', 'o', 'oh', 'mistake', 'screenplay', 'suspect', 'assured', 'means', 'aimless', 'assassination', 'presence', 'frustration', 'further', 'incessant', 'monologues', 'ounce', 'intelligence', 'comprehend', 'insults', 'filmmaking', 'exposition', 'charisma', 'charm', 'hawaiian', 'shirts', 'casting', 'blank', 'relieve', 'boredom', 'patricia', 'appearance', 'helen', 'ex', 'secretary', 'driven', 'insane', 'phone', 'calls', 'basement', 'holding', 'flashlight', 'chuckle', 'myself', 'checking', 'remainder', 'ancient', 'japanese', 'poetry', 'fooled', 'sounding', 'handful', 'cinemas', 'bette', 'davis', 'votes', 'turned', 'delightful', 'expect', 'formulaic', 'surprisingly', 'helps', 'carried', 'brent', 'helped', 'mainly', 'involves', 'clever', 'perfectly', 'hour', 'needless', 'development', 'fast', 'paced', 'watchable', 'todays', 'expense', 'romantic', 'deserves', 'nicholson', 'shallow', 'drained', 'power', 'kathleen', 'turner', 'filthy', 'slut', 'notion', 'accept', 'falls', 'absurd', 'strike', 'hype', 'antonio', 'margheriti', 'danza', 'castle', 'eerie', 'fronts', 'wonderfully', 'creepy', 'gothic', 'vibe', 'alan', 'foster', 'pursues', 'interview', 'visiting', 'edgar', 'allan', 'poe', 'bets', 'abandoned', 'mansion', 'thomas', 'blackwood', 'accepting', 'wager', 'scared', 'hell', 'crypt', 'unbearable', 'barbara', 'steele', 'sinister', 'elisabeth', 'sue', 'kramer', 'suspicion', 'somehow', 'participate', 'prove', 'homophobic', 'pedestrian', 'keeping', 'mouths', 'shut', 'labeled', 'anti', 'lifestyle', 'reviewing', 'sincerity', 'believability', 'clich', 'hated', 'afraid', 'bomb', 'weren', 'unbiased', 'judgment', 'starz', 'improved', 'lighting', 'writers', 'apparently', 'dollar', 'stronger', 'super', 'advanced', 'stealth', 'bomber', 'invisible', 'million', 'cost', 'billion', 'cant', 'fly', 'east', 'random', 'attempt', 'guys', 'randomly', 'zoom', 'skip', 'segal', 'rank', 'snakes', 'plane', 'loved', 'episode', 'getting', 'punished', 'effectively', 'accomplice', 'columbo', 'unpredictable', 'resolution', 'conclusion', 'uncovering', 'murderer', 'interplay', 'falk', 'ruth', 'gordon', 'priceless', 'lt', 'tongue', 'cheek', 'allusion', 'detective', 'fame', 'crime', 'installments', 'massive', 'yawn', 'proving', 'americans', 'hang', 'farce', 'already', 'errors', 'translation', 'chains', 'skipped', 'entirely', 'robbing', 'farcical', 'cheap', 'oops', 'trousers', 'screenwriters', 'conference', 'themes', 'inspiring', 'deals', 'dare', 'parental', 'figures', 'overcome', 'embrace', 'possibilities', 'treasured', 'hyped', 'mandy', 'bloke', 'vintage', 'lacklustre', 'previews', 'teen', 'generous', 'terrible', 'sympathy', 'morbid', 'waiting', 'secondly', 'relation', 'somebody', 'please', 'explain', 'girlish', 'boy', 'screaming', 'pancakes', 'lungs', 'jackie', 'chan', 'moves', 'biting', 'virus', 'proceed', 'angry', 'infected', 'redneck', 'hunting', 'spree', 'confusion', 'utter', 'disbelief', 'literally', 'loud', 'cabin', 'fever', 'tops', 'puke', 'brains', 'productive', 'grass', 'grow', 'alternative', 'okay', 'sorry', 'anymore', 'imitating', 'popular', 'lives', 'living', 'pick', 'nerdy', 'marty', 'fatal', 'pranks', 'reunion', 'ones', 'receiving', 'knocked', 'disappointed', 'critical', 'rideau', 'tour', 'de', 'force', 'france', 'indie', 'cedric', 'meets', 'mathieu', 'newcomer', 'jamie', 'stunning', 'nuanced', 'ethereal', 'beach', 'demanding', 'aunt', 'fractured', 'comprised', 'lengthy', 'flash', 'backs', 'bits', 'pieces', 'forward', 'movement', 'lifshitz', 'signal', 'engrossing', 'able', 'heart', 'uplifting', 'ranks', 'misfortune', 'hit', 'festival', 'circuit', 'austin', 'sxsw', 'elizabeth', 'inside', 'staging', 'scottish', 'macbeth', 'producing', 'curse', 'crisp', 'efficient', 'treatment', 'treachery', 'troupe', 'evocative', 'suggest', 'gem', 'class', 'satisfying', 'yikes', 'transfer', 'favours', 'decide', 'treat', 'material', 'theatrical', 'occasional', 'glances', 'observing', 'jumpy', 'reminding', 'whereas', 'remind', 'overwhelmed', 'mira', 'sorvino', 'stage', 'y', 'via', 'merchant', 'ivory', 'oeuvre', 'fiona', 'shaw', 'pedigree', 'handle', 'truthful', 'kingsley', 'diana', 'rigg', 'daughter', 'rachel', 'sadly', 'magic', 'rubbed', 'wife', 'evidence', 'weekly', 'nielsen', 'ratings', 'veronica', 'mars', 'supposedly', 'aired', 'twice', 'ranked', 'lowest', 'rated', 'deservedly', 'coverage', 'nonsense', 'reality', 'unrealistic', 'richly', 'canceled', 'compelled', 'schedule', 'memory', 'continued', 'commercial', 'failure', 'crappy', 'signing', 'advise', 'catch', 'ward', 'clinton', 'bimbo', 'pills', 'weakest', 'formula', 'hero', 'immortal', 'encounters', 'flashbacks', 'met', 'sword', 'nick', 'wolf', 'storyline', 'types', 'joint', 'canadian', 'vancouver', 'paris', 'laughed', 'bogdanovich', 'recognition', 'reasons', 'sets', 'tone', 'appealing', 'gazzara', 'ritter', 'audrey', 'hepburn', 'breezy', 'vein', 'screwball', 'thirties', 'odyssey', 'agency', 'fellow', 'detectives', 'pot', 'roller', 'skating', 'eccentric', 'blaine', 'novak', 'producer', 'rich', 'tycoon', 'dorothy', 'stratten', 'murdered', 'essential', 'viewing', 'excellence', 'beautifully', 'noir', 'shadows', 'stark', 'spoil', 'presentation', 'homosexuals', 'tragedy', 'issue', 'torn', 'edge', 'ran', 'spine', 'dylan', 'gorgeous', 'ah', 'younger', 'sung', 'spooky', 'flaw', 'chinese', 'hong', 'kong', 'infamous', 'cat', 'disappeared', 'cambodian', 'judge', 'lawyer', 'arrangements', 'threatening', 'within', 'given', 'cops', 'locate', 'arrest', 'police', 'officers', 'civilians', 'killed', 'eludes', 'race', 'cambodia', 'stops', 'proves', 'track', 'hide', 'dump', 'raped', 'mistreated', 'saves', 'persuades', 'coaster', 'incident', 'exceptionally', 'breathtaking', 'incredible', 'unbelievable', 'fitting', 'brutal', 'socks', 'eat', 'including', 'recommended', 'anthology', 'stories', 'stuffy', 'four', 'connects', 'involve', 'investigate', 'tenants', 'segment', 'starred', 'denholm', 'elliott', 'block', 'scenery', 'vanishes', 'steadily', 'tale', 'serial', 'amazingly', 'fictional', 'psychotic', 'disappears', 'losing', 'might', 'cushing', 'bachelor', 'pining', 'died', 'ago', 'chamber', 'horrors', 'wax', 'museum', 'sees', 'figure', 'reminds', 'fascinated', 'joss', 'ackland', 'visits', 'entranced', 'letdown', 'lee', 'harsh', 'stern', 'idiot', 'demeanor', 'ended', 'silliest', 'meant', 'parody', 'jon', 'pertwee', 'doctor', 'temperamental', 'portrayals', 'dracula', 'according', 'fit', 'props', 'vampire', 'natural', 'vampires', 'recent', 'incarnations', 'bela', 'lugosi', 'considering', 'charming', 'nowhere', 'cats', 'sums', 'admit', 'freaked', 'seriousness', 'spite', 'overall', 'caricatures', 'basis', 'instincts', 'rely', 'greed', 'pride', 'lust', 'anger', 'motivate', 'argued', 'failing', 'actuality', 'telling', 'supernatural', 'specific', 'nicely', 'supported', 'makeup', 'suitable', 'alice', 'krige', 'brady', 'otherworldly', 'manages', 'outsider', 'twists', 'fan', 'rented', 'genres', 'romance', 'western', 'canyon', 'expecting', 'pure', 'puberty', 'child', 'leering', 'sickening', 'fonda', 'virtuous', 'resist', 'attraction', 'brooke', 'shields', 'drive', 'revolting', 'teenager', 'metal', 'ruled', 'trick', 'rocks', 'skippy', 'gene', 'simmons', 'kiss', 'ozzy', 'osbourne', 'preacher', 'backwards', 'vinyl', 'thats', 'use', 'records', 'eddie', 'rockstar', 'player', 'speakers', 'stereo', 'possessed', 'funniest', 'sarcastic', 'jealous', 'hey', 'whats', 'wearing', 'ignored', 'axe', 'exact', 'chop', 'premiered', 'station', 'janine', 'chasing', 'trivia', 'buffs', 'noted', 'weekend', 'melissa', 'warning', 'utterly', 'addicted', 'spoof', 'list', 'playful', 'kitsch', 'cartoon', 'stills', 'enchanting', 'uncredited', 'grunts', 'unmistakable', 'familiar', 'kathy', 'plus', 'teri', 'hatcher', 'superman', 'imbued', 'injustices', 'flung', 'various', 'actresses', 'producers', 'daytime', 'careers', 'fashioned', 'delicious', 'penned', 'riotous', 'feels', 'gift', 'cliched', 'dim', 'jealousy', 'celeste', 'sally', 'field', 'perennial', 'sweetheart', 'awards', 'introduce', 'sun', 'vain', 'fears', 'contrary', 'wins', 'genuine', 'thrill', 'absence', 'instantly', 'neuroses', 'cries', 'hands', 'constantly', 'fog', 'paranoia', 'indulges', 'taste', 'tammy', 'faye', 'baker', 'specifically', 'rosie', 'whoopi', 'goldberg', 'head', 'support', 'networks', 'freaks', 'offers', 'write', 'months', 'maggie', 'went', 'dalai', 'lama', 'doubts', 'moved', 'la', 'fernando', 'lamas', 'beefcake', 'lorenzo', 'aforementioned', 'stein', 'ferris', 'bueller', 'roll', 'pleasure', 'hidden', 'include', 'garry', 'marshall', 'penny', 'command', 'says', 'likes', 'fisher', 'betsy', 'sharon', 'bitch', 'geoffrey', 'anderson', 'kevin', 'kline', 'yummy', 'dinner', 'rescued', 'barnes', 'downey', 'canned', 'presents', 'logical', 'challenges', 'scriptwriters', 'rod', 'randall', 'decapitated', 'difficulties', 'washington', 'bridge', 'longer', 'shake', 'degenerates', 'stalker', 'rid', 'promised', 'hold', 'promise', 'florida', 'argues', 'willie', 'front', 'eating', 'amongst', 'accidents', 'hilarious', 'suit', 'forced', 'crawled', 'shoe', 'broken', 'analog', 'surgeon', 'dating', 'laurie', 'craven', 'ingenue', 'shue', 'rounds', 'ensemble', 'smoothly', 'montana', 'moorehead', 'cathy', 'moriarty', 'impatient', 'rise', 'publicity', 'plots', 'succeed', 'settle', 'nerves', 'fuzzy', 'lovable', 'malicious', 'reads', 'glasses', 'stitches', 'stomach', 'heaving', 'pouring', 'free', 'demand', 'soapdish', 'unmissable', 'deliver', 'crafted', 'humor', 'blazing', 'saddles', 'uproarious', 'value', 'weep', 'source', 'addiction', 'weak', 'pay', 'dani', 'pants', 'masks', 'told', 'pits', 'familial', 'preference', 'companionship', 'china', 'meet', 'wang', 'elderly', 'street', 'performer', 'talents', 'magical', 'capture', 'awe', 'witness', 'operatic', 'befriends', 'invites', 'join', 'learn', 'tradition', 'pass', 'learning', 'encouraged', 'heir', 'advice', 'fulfill', 'legacy', 'teach', 'doggie', 'silk', 'discovers', 'threatens', 'dying', 'invariably', 'absorbing', 'serene', 'costuming', 'international', 'help', 'inspire', 'ridicules', 'worry', 'sloppy', 'cowboy', 'ride', 'ridge', 'bar', 'mustache', 'shoot', 'clean', 'sometime', 'shave', 'solid', 'verite', 'honestly', 'awesome', 'concept', 'inspired', 'columbine', 'killings', 'killers', 'weaknesses', 'detracts', 'realism', 'shaky', 'distraction', 'coccio', 'approach', 'criticizing', 'band', 'wagon', 'syndrome', 'bash', 'freely', 'backlash', 'flaws', 'universal', 'sixteen', 'alcohol', 'competition', 'sink', 'acquire', 'failures', 'site', 'glory', 'pursuing', 'impressions', 'warned', 'drink', 'cups', 'coffee', 'suggestion', 'vodka', 'failed', 'entertain', 'obnoxiously', 'intentionally', 'overkill', 'shoved', 'throats', 'profound', 'sincerely', 'promotional', 'literature', 'trouble', 'obnoxious', 'till', 'grin', 'intentional', 'spiced', 'prevented', 'commentary', 'significantly', 'myers', 'cod', 'runs', 'sludge', 'ma', 'beaten', 'submission', 'statements', 'femme', 'fatale', 'guns', 'n', 'gals', 'breed', 'ninja', 'cracked', 'suffers', 'preventing', 'nuclear', 'holocaust', 'martial', 'arts', 'gunfire', 'earned', 'cash', 'singing', 'tank', 'answers', 'questions', 'mission', 'section', 'ho', 'hardcore', 'addicts', 'wit', 'operates', 'reaching', 'length', 'jokes', 'realize', 'punchline', 'santa', 'claus', 'gag', 'needed', 'students', 'nearly', 'artistry', 'frontal', 'huge', 'lynn', 'peterson', 'breakthrough', 'north', 'francis', 'strongest', 'driver', 'creativity', 'remove', 'profanity', 'bye', 'classes', 'beverly', 'zip', 'code', 'granny', 'jed', 'clampett', 'bed', 'employer', 'woronov', 'manuel', 'debt', 'asian', 'gang', 'raunchy', 'fairly', 'humour', 'beneath', 'surface', 'bartel', 'sensual', 'teenaged', 'niece', 'missionary', 'africa', 'student', 'thesis', 'likable', 'villain', 'admire', 'veteran', 'willem', 'dafoe', 'ham', 'plentiful', 'picnic', 'wretched', 'employee', 'beer', 'hangover', 'stop', 'throw', 'places', 'blurb', 'suggests', 'pictures', 'betrayal', 'hurts', 'remains', 'embarrassed', 'hopelessly', 'muddled', 'demille', 'frederic', 'march', 'brings', 'starring', 'yul', 'brynner', 'andrew', 'stroke', 'genius', 'tend', 'once', 'jenna', 'jameson', 'armstrong', 'asia', 'capable', 'stephanie', 'swift', 'lovely', 'disappoint', 'adult', 'aside', 'technical', 'jeanette', 'macdonald', 'nelson', 'eddy', 'musical', 'showcases', 'abilities', 'surreal', 'fashions', 'vogue', 'popping', 'costumes', 'w', 'add', 'dreamlike', 'twinkle', 'highlight', 'binnie', 'everett', 'horton', 'owen', 'mona', 'anne', 'extended', 'esther', 'sessions', 'gertrude', 'hoffman', 'cecil', 'cunningham', 'vamp', 'routines', 'marcus', 'hastings', 'spectacular', 'thumbs', 'ruin', 'bouncy', 'cassandra', 'alter', 'ego', 'elvira', 'mistress', 'heroine', 'gravity', 'defying', 'boobs', 'hers', 'anxious', 'raise', 'las', 'vegas', 'decides', 'hopes', 'massachusetts', 'cookbook', 'residents', 'mixed', 'reactions', 'teens', 'community', 'uncle', 'vincent', 'morgan', 'sheppard', 'spells', 'warlock', 'tomorrow', 'heads', 'edie', 'chastity', 'hardest', 'perfect', 'peek', 'disney', 'dalmations', 'cruella', 'devil', 'glenn', 'prison', 'cured', 'obsession', 'fur', 'psychologist', 'ugh', 'cure', 'hears', 'toll', 'coat', 'hides', 'levels', 'starting', 'thanksgiving', 'schlock', 'designed', 'suck', 'dime', 'marketing', 'machine', 'endless', 'baked', 'cake', 'paycheck', 'speaking', 'factory', 'bakery', 'rube', 'assembly', 'restaurant', 'located', 'building', 'dogs', 'macaulay', 'culkin', 'gags', 'villains', 'crotch', 'luggage', 'icing', 'ad', 'nauseum', 'humans', 'wasted', 'rehashed', 'spaghetti', 'cuts', 'forth', 'tramp', 'charlie', 'sheen', 'shots', 'deux', 'strand', 'pushing', 'meatball', 'annoying', 'parrot', 'idle', 'nominated', 'dreck', 'inexplicable', 'cowgirls', 'assembled', 'talent', 'tie', 'bring', 'somethings', 'costner', 'imitations', 'page', 'wide', 'meat', 'packing', 'plant', 'twenty', 'cutting', 'defines', 'rarely', 'rings', 'trainspotting', 'occurrence', 'louis', 'masses', 'sticks', 'unique', 'mix', 'mature', 'adults', 'alike', 'enthusiasm', 'overboard', 'cgi', 'image', 'holes', 'birds', 'breathes', 'transitions', 'steady', 'nonstop', 'finish', 'added', 'liners', 'smart', 'smile', 'cry', 'tug', 'heartstrings', 'fallen', 'punk', 'rocker', 'link', 'extra', 'jazz', 'centres', 'contains', 'chorus', 'favourite', 'instant', 'surfing', 'caught', 'logo', 'horribly', 'joy', 'atrocious', 'inane', 'epic', 'tossed', 'ski', 'retreat', 'ordinary', 'choose', 'x', 'gushing', 'news', 'bears', 'training', 'hotel', 'check', 'toilet', 'routine', 'smells', 'plague', 'edit', 'reviewers', 'disliked', 'hater', 'crazy', 'content', 'mere', 'refreshing', 'equate', 'tighter', 'catalogue', 'romeo', 'division', 'spring', 'viewings', 'masterful', 'singular', 'echo', 'splendid', 'palette', 'helmer', 'establish', 'canvas', 'traditional', 'format', 'accustomed', 'deeply', 'revenge', 'importance', 'core', 'undertaking', 'tim', 'sheridan', 'precise', 'direct', 'reveals', 'chilling', 'endings', 'towne', 'feat', 'scott', 'bruckheimer', 'witnessed', 'detail', 'combines', 'creative', 'arrives', 'desired', 'groundbreaking', 'importantly', 'creators', 'nuke', 'em', 'overshadowed', 'turkey', 'ages', 'hewlett', 'spoiling', 'recall', 'aircraft', 'investigation', 'overplayed', 'card', 'extreme', 'shouting', 'implausible', 'memorial', 'requisite', 'umbrellas', 'rain', 'fictitious', 'crash', 'costs', 'revel', 'attracts', 'selection', 'upset', 'apart', 'considers', 'illogical', 'behave', 'behaves', 'represents', 'endear', 'amount', 'scenario', 'destroy', 'selfish', 'unfortunate', 'manifestation', 'hypocritical', 'toxic', 'decade', 'regrets', 'slavery', 'redhead', 'feeding', 'rice', 'slaves', 'west', 'capturing', 'ponder', 'fared', 'miniseries', 'promptly', 'impaled', 'gotten', 'mundane', 'creating', 'fiasco', 'whenever', 'flat', 'deaths', 'download', 'hits', 'destroys', 'intelligent', 'forms', 'behalf', 'category', 'brand', 'brain', 'closest', 'suffering', 'drives', 'speechless', 'members', 'numb', 'strange', 'wishing', 'blind', 'deaf', 'word', 'finished', 'ordeal', 'outrage', 'lifetime', 'episodes', 'cancelled', 'abc', 'city', 'bridget', 'moynahan', 'todd', 'jared', 'jay', 'hernandez', 'carlito', 'erika', 'christensen', 'propel', 'wb', 'season', 'meantime', 'website', 'sci', 'fi', 'sober', 'paranoid', 'inclusion', 'insert', 'stock', 'humanly', 'venture', 'apocalypse', 'renegade', 'missile', 'angle', 'utilized', 'greater', 'aplomb', 'strangelove', 'fail', 'safe', 'unintentional', 'particularly', 'involving', 'imminent', 'clueless', 'juvenile', 'delinquents', 'southwest', 'gloria', 'reuben', 'chewing', 'glover', 'nyc', 'fabulous', 'whirl', 'rehearsal', 'mounting', 'exhibits', 'rage', 'games', 'accomplished', 'replaced', 'crowds', 'eyed', 'deleted', 'ettore', 'scola', 'giancarlo', 'giannini', 'vittorio', 'radically', 'mamet', 'mantegna', 'annoyed', 'superficiality', 'lack', 'racial', 'meaning', 'identity', 'apparent', 'relatively', 'harm', 'performs', 'illegal', 'minor', 'subplot', 'advertised', 'stretch', 'credulity', 'reasonable', 'limits', 'thriller', 'critic', 'cinemax', 'snowman', 'scare', 'besides', 'ketchup', 'uk', 'edition', 'extravagant', 'kitchen', 'bedroom', 'grateful', 'shouldn', 'improvements', 'occupants', 'afford', 'rebuilt', 'welfare', 'system', 'exists', 'beg', 'receive', 'vulgar', 'placement', 'deprived', 'spending', 'hundreds', 'thousands', 'dollars', 'build', 'tools', 'borrowed', 'returned', 'materials', 'enormous', 'resentment', 'houses', 'hello', 'lou', 'prom', 'hamilton', 'lisa', 'cheating', 'date', 'atkinson', 'bud', 'cooper', 'lewis', 'devastated', 'announced', 'queen', 'hurting', 'practical', 'throws', 'lit', 'fuse', 'catches', 'dress', 'toast', 'annual', 'micheal', 'ironside', 'teenage', 'craig', 'justin', 'vicki', 'wendy', 'lyon', 'planning', 'haunt', 'schools', 'trunk', 'opens', 'vengeful', 'intent', 'claiming', 'crown', 'spare', 'avenge', 'untimely', 'jess', 'browning', 'beth', 'suicide', 'draws', 'nearer', 'disposing', 'terri', 'fix', 'liven', 'party', 'bruce', 'ron', 'oliver', 'concentrates', 'depend', 'suppose', 'gel', 'mark', 'plods', 'picks', 'kills', 'defeated', 'ready', 'count', 'graphic', 'monica', 'shower', 'locker', 'crushed', 'resulting', 'oozing', 'side', 'hallucinations', 'controlling', 'objects', 'rocking', 'blackboard', 'zombie', 'drag', 'homages', 'sharing', 'normally', 'dependable', 'uninterested', 'hanged', 'stabbing', 'crucifix', 'neon', 'someones', 'bursts', 'rotting', 'values', 'uneventful', 'properly', 'emotionally', 'detached', 'host', 'anyways', 'striking', 'peace', 'neighbours', 'adventures', 'halloween', 'mood', 'renaissance', 'ai', 'cooking', 'complexity', 'expectation', 'cliche', 'locations', 'gritty', 'antidote', 'hbo', 'relationships', 'treats', 'notable', 'buscemi', 'rosario', 'dawson', 'forgot', 'bach', 'stumble', 'memorized', 'weeks', 'dudley', 'moore', 'portrays', 'liza', 'minelli', 'kick', 'fianc', 'conversation', 'butler', 'susan', 'spitting', 'library', 'reply', 'schepisi', 'directs', 'intentioned', 'inferior', 'albert', 'einstein', 'matthau', 'hook', 'ryan', 'robbins', 'relax', 'scientist', 'cute', 'corny', 'situations', 'meg', 'terrific', 'afloat', 'rescue', 'lackluster', 'learned', 'rules', 'countless', 'ahead', 'shred', 'irony', 'described', 'kung', 'fu', 'proud', 'figured', 'nausea', 'howard', 'guarantee', 'choice', 'notice', 'cousin', 'rap', 'politely', 'decline', 'killing', 'zombies', 'preferably', 'gruesome', 'asks', 'bare', 'helicopter', 'boom', 'magically', 'drop', 'romero', 'mortal', 'showtime', 'mid', 'channels', 'bizarre', 'fascinating', 'discovered', 'blown', 'wilder', 'napalm', 'girlfriend', 'impressed', 'affected', 'dynamic', 'fluid', 'complexities', 'cleverness', 'movements', 'immediate', 'strength', 'debra', 'winger', 'manic', 'glee', 'wedding', 'dennis', 'quaid', 'clown', 'displayed', 'delivery', 'slit', 'span', 'hiding', 'lying', 'unleash', 'mischievous', 'diabolical', 'weirdness', 'internal', 'gunslinger', 'square', 'offs', 'darkly', 'energy', 'hip', 'imagination', 'parties', 'funded', 'expensive', 'conventional', 'thank', 'slip', 'awhile', 'bright', 'carnival', 'colors', 'warped', 'enthralling', 'grosse', 'pointe', 'compliment', 'dreadful', 'initially', 'disguised', 'accents', 'fake', 'nz', 'surely', 'team', 'attempts', 'surprised', 'lasted', 'willis', 'type', 'revolution', 'treasury', 'reeling', 'pun', 'continue', 'fanatic', 'step', 'talking', 'topic', 'exactly', 'hoped', 'choosing', 'primitive', 'provokes', 'discussion', 'criticism', 'suggested', 'summary', 'alibi', 'produce', 'arnold', 'schwarzenegger', 'policeman', 'cheering', 'predator', 'country', 'industry', 'sane', 'artist', 'hundstage', 'austria', 'society', 'disturbed', 'hateful', 'tuned', 'cars', 'viewpoint', 'disgusted', 'cave', 'standing', 'corner', 'disco', 'richest', 'countries', 'ugly', 'persons', 'riding', 'destroying', 'folk', 'built', 'pessimistic', 'talked', 'yuck', 'redeeming', 'altering', 'moon', 'bloch', 'novelist', 'obsessed', 'resembling', 'chloe', 'franks', 'pitt', 'cape', 'terrifying', 'pleasurable', 'touches', 'lions', 'gate', 'al', 'global', 'warming', 'lie', 'fable', 'lies', 'tree', 'mislead', 'google', 'politician', 'sucking', 'survived', 'surviving', 'amazon', 'narrates', 'vividly', 'bugs', 'skin', 'copy', 'email', 'com', 'curious', 'thanks', 'advance', 'marine', 'modicum', 'whale', 'abortion', 'harris', 'accepted', 'cents', 'hitting', 'beatings', 'wanting', 'wondering', 'wake', 'spiritual', 'perry', 'prepared', 'confusing', 'merit', 'accusations', 'horrific', 'programmer', 'aspirations', 'attempted', 'ms', 'barbeau', 'miracle', 'behold', 'carries', 'squarely', 'shoulders', 'unholy', 'collapses', 'weight', 'unexplained', 'subplots', 'loopholes', 'created', 'travel', 'addressed', 'knows', 'beat', 'traveling', 'surprises', 'confused', 'neighborhood', 'books', 'naughty', 'heck', 'snaps', 'crowd', 'watches', 'terror', 'targets', 'unsuccessful', 'proceeds', 'squeezing', 'fireplace', 'grabs', 'throat', 'stopped', 'torches', 'unresolved', 'tune', 'explained', 'van', 'lets', 'praising', 'herein', 'possibility', 'thereof', 'craft', 'competent', 'ear', 'purse', 'target', 'bravery', 'courage', 'loyalty', 'sold', 'uncaring', 'appreciate', 'pearl', 'luise', 'rainer', 'exotic', 'shows', 'act', 'erased', 'shy', 'timid', 'inner', 'convey', 'muni', 'likeable', 'sweet', 'dedicated', 'age', 'yea', 'maiden', 'partly', 'acted', 'dancing', 'topless', 'knife', 'tied', 'chest', 'requires', 'liberal', 'seat', 'nudie', 'began', 'exploit', 'seats', 'hacks', 'limited', 'comedies', 'approaching', 'infantile', 'cross', 'dressed', 'rapist', 'bobby', 'manson', 'arrested', 'murdering', 'wrapped', 'peoples', 'zombi', 'language', 'credited', 'lucio', 'fulci', 'coherency', 'blame', 'bruno', 'mattei', 'carry', 'staggering', 'ineptitude', 'thin', 'skill', 'pushes', 'boat', 'funnier', 'nightmare', 'gas', 'stolen', 'base', 'thief', 'steal', 'cannibalistic', 'legions', 'answered', 'tracked', 'foolishly', 'dispose', 'corpse', 'burn', 'sending', 'cannibals', 'horny', 'pressed', 'flies', 'undead', 'damned', 'appalling', 'honored', 'engage', 'charge', 'gimmick', 'horrifying', 'gunshots', 'punch', 'emphasis', 'resemble', 'v', 'sap', 'fright', 'bushes', 'roofs', 'underneath', 'pregnant', 'stairs', 'push', 'limbs', 'hacked', 'wounds', 'flesh', 'faces', 'originals', 'eyeball', 'piercing', 'bag', 'flying', 'stand', 'ingenious', 'radio', 'overrun', 'dj', 'escaping', 'print', 'destroyed', 'richer', 'shorter', 'seven', 'pounds', 'morally', 'italy', 'research', 'refers', 'venice', 'pound', 'repay', 'characterized', 'cultivated', 'cold', 'rational', 'rooted', 'aimed', 'lacking', 'authentic', 'empathy', 'programmed', 'incapable', 'conveying', 'involvement', 'devoured', 'beloved', 'caused', 'guilt', 'improbable', 'positive', 'abandon', 'committing', 'thus', 'helping', 'saved', 'miraculously', 'constructive', 'initial', 'creation', 'bible', 'disease', 'prevents', 'donated', 'organs', 'physically', 'impaired', 'condition', 'explore', 'clash', 'born', 'cultures', 'tokyo', 'inability', 'opposites', 'attract', 'differences', 'marries', 'kyoto', 'united', 'states', 'temporary', 'legal', 'status', 'liking', 'urging', 'dumping', 'commitments', 'hearts', 'strict', 'upbringing', 'japan', 'thinks', 'techno', 'nintendo', 'picked', 'reminded', 'singer', 'joins', 'opinions', 'convinced', 'f', 'hi', 'tech', 'changed', 'bother', 'comments', 'listener', 'intriguing', 'ghost', 'complaint', 'pacing', 'awkward', 'deliberate', 'realm', 'flashy', 'shattering', 'revelations', 'showdown', 'heaven', 'reservations', 'conventionally', 'williams', 'generic', 'everyman', 'toni', 'collette', 'win', 'percent', 'coming', 'reese', 'witherspoon', 'outing', 'fresh', 'slight', 'undeniably', 'gained', 'respect', 'portrayal', 'lived', 'red', 'hood', 'kiefer', 'sutherland', 'bat', 'swarming', 'bats', 'employed', 'effective', 'hanging', 'ceilings', 'caves', 'swirling', 'swarm', 'forty', 'downright', 'inappropriately', 'windshield', 'eggs', 'fifty', 'consists', 'waving', 'arms', 'goofball', 'managed', 'bitten', 'vacation', 'rabies', 'getaway', 'bravely', 'raving', 'convince', 'covered', 'sweat', 'boggling', 'cheaper', 'muppets', 'scenic', 'morons', 'insist', 'brink', 'flips', 'secondary', 'forgets', 'psychological', 'study', 'chill', 'pill', 'fifteen', 'eighty', 'steam', 'sketches', 'carr', 'physician', 'dreadfully', 'missed', 'opportunity', 'forgettable', 'mutant', 'amok', 'cuban', 'sleeper', 'sailing', 'cuba', 'caribbean', 'details', 'spent', 'socialist', 'regime', 'property', 'arise', 'relate', 'tells', 'mistakes', 'triumphs', 'posters', 'jane', 'powell', 'deanna', 'durbin', 'sopranos', 'indication', 'polar', 'impulsive', 'reunite', 'divorced', 'semi', 'daughters', 'stepfather', 'jose', 'iturbi', 'rejecting', 'disparate', 'qualities', 'shrill', 'readings', 'energetic', 'confident', 'subdued', 'tender', 'projects', 'prior', 'consisted', 'exclusively', 'vocal', 'instruction', 'impossibly', 'stressful', 'novice', 'ease', 'assurance', 'displays', 'developing', 'experienced', 'contemporaries', 'garland', 'rooney', 'connor', 'extraordinary', 'immensely', 'tempered', 'coy', 'arch', 'afflicted', 'lyric', 'soprano', 'remarkable', 'glorious', 'instrument', 'lily', 'influenced', 'ray', 'milland', 'mischa', 'auer', 'grapes', 'wrath', 'triumph', 'charismatic', 'gifted', 'adolescent', 'trailer', 'sluggish', 'julia', 'stiles', 'giddy', 'carefree', 'conformity', 'glows', 'testosterone', 'elegant', 'jim', 'bride', 'slowness', 'route', 'cleverly', 'layers', 'motif', 'scenarios', 'program', 'selma', 'blair', 'echoed', 'risky', 'jason', 'chef', 'squandered', 'everybody', 'bills', 'vietnam', 'discover', 'heading', 'pows', 'massacre', 'colombian', 'split', 'promising', 'cut', 'el', 'crush', 'folks', 'surrender', 'shown', 'telly', 'squad', 'invade', 'colombia', 'mcbain', 'packed', 'berth', 'fighter', 'pilot', 'window', 'scores', 'dealers', 'bothering', 'madness', 'chew', 'heroic', 'splitting', 'confrontation', 'impassioned', 'speech', 'rebel', 'leader', 'brown', 'tear', 'quid', 'grew', 'scooby', 'doo', 'cartoons', 'duck', 'talespin', 'pan', 'pirates', 'casey', 'shaggy', 'tolerable', 'animation', 'scrappy', 'catchphrase', 'puppy', 'missing', 'unoriginal', 'baddies', 'bethany', 'cox', 'baby', 'boomer', 'inevitably', 'mccartney', 'hermit', 'certainly', 'reports', 'meeting', 'plausible', 'cbc', 'goodness', 'beatles', 'paraphrasing', 'melodies', 'currently', 'airing', 'pm', 'monday', 'air', 'december', 'da', 'nope', 'counted', 'brewster', 'vomit', 'farmer', 'pigs', 'birth', 'calf', 'fluids', 'drove', 'widow', 'keeper', 'hardship', 'accurate', 'statistics', 'researched', 'actions', 'speak', 'louder', 'political', 'sprinkled', 'jimmy', 'unlike', 'integrity', 'walks', 'warm', 'sweater', 'travels', 'jet', 'pollution', 'heat', 'swimming', 'electricity', 'smaller', 'appliances', 'losses', 'rates', 'veiled', 'saving', 'pity', 'abysmal', 'lindsay', 'paint', 'tedious', 'hopefully', 'color', 'adaptations', 'stands', 'versions', 'sykes', 'hes', 'reed', 'gladiator', 'fits', 'ethel', 'mental', 'institution', 'delivered', 'halfway', 'criminally', 'holy', 'millard', 'pseudonym', 'phillips', 'tape', 'translate', 'padding', 'worn', 'weaker', 'audio', 'hooked', 'downs', 'attractive', 'excessive', 'swimsuit', 'debbie', 'rochon', 'casual', 'rolling', 'stones', 'hippy', 'purist', 'propaganda', 'active', 'galore', 'similar', 'sunday', 'paper', 'visual', 'master', 'ridley', 'hellish', 'navy', 'seals', 'instructor', 'neil', 'demi', 'statement', 'rights', 'sinks', 'zooms', 'desert', 'sooooo', 'irritating', 'technique', 'latest', 'hawk', 'brainless', 'significant', 'widescreen', 'classics', 'blade', 'runner', 'thelma', 'louise', 'alien', 'landmark', 'achievements', 'lawyers', 'association', 'cameroon', 'legally', 'domestic', 'muslim', 'difficulty', 'imposing', 'secular', 'efforts', 'leaders', 'share', 'victorious', 'reform', 'vera', 'prosecutor', 'beatrice', 'senior', 'court', 'president', 'spontaneously', 'subsequent', 'cases', 'reviewed', 'repeated', 'concerns', 'wives', 'divorce', 'complaints', 'outcomes', 'trials', 'favorable', 'perpetrators', 'terms', 'granted', 'aggressive', 'prosecution', 'demonstrates', 'justice', 'officials', 'neutral', 'noteworthy', 'iranian', 'dealt', 'tehran', 'subtitles', 'unprofessional', 'causes', 'powerless', 'weakness', 'amazed', 'jury', 'prize', 'cannes', 'awarded', 'stereotype', 'chief', 'leno', 'karate', 'prototype', 'rush', 'partner', 'officer', 'solve', 'farmers', 'market', 'downtown', 'detroit', 'memories', 'lookout', 'listings', 'flipping', 'stores', 'internet', 'month', 'sleepy', 'caliber', 'misrepresentation', 'blunders', 'mis', 'identifying', 'loading', 'passengers', 'baggage', 'existed', 'placing', 'hollow', 'bullets', 'damage', 'landing', 'procedure', 'sr', 'planes', 'pressure', 'seal', 'hatch', 'outward', 'nuts', 'gotta', 'vision', 'everytown', 'enemy', 'height', 'prediction', 'borne', 'marred', 'par', 'model', 'strongly', 'reminiscent', 'german', 'expressionist', 'design', 'william', 'cameron', 'menzies', 'ruins', 'seductive', 'st', 'compelling', 'contrast', 'rushing', 'elevated', 'laughably', 'technology', 'redeemed', 'raymond', 'massey', 'magnificent', 'concludes', 'ideal', 'progress', 'expressed', 'relevant', 'severely', 'aided', 'sir', 'bliss', 'proudly', 'edited', 'futuristic', 'workers', 'machines', 'independent', 'gentleman', 'programs', 'nonetheless', 'hometown', 'serling', 'worked', 'media', 'dad', 'nostalgic', 'viewpoints', 'decades', 'depicts', 'elsewhere', 'locale', 'provide', 'implies', 'prompted', 'doomsday', 'buttons', 'worldly', 'stretched', 'considerable', 'jeremy', 'london', 'brides', 'dropping', 'altar', 'fiend', 'ignore', 'danger', 'aging', 'sickly', 'healthy', 'keystone', 'bodies', 'hearse', 'lois', 'lane', 'reporter', 'solving', 'haunted', 'stranded', 'guest', 'dwarf', 'igor', 'assistant', 'aim', 'gunbuster', 'anime', 'animated', 'ova', 'sports', 'ace', 'noriko', 'mankind', 'encounter', 'insect', 'combat', 'confidence', 'falters', 'chosen', 'coach', 'personal', 'survivor', 'freud', 'russian', 'assigned', 'squadron', 'belong', 'childhood', 'roughly', 'fifties', 'mecha', 'artwork', 'evolve', 'solely', 'upper', 'misconception', 'civil', 'servants', 'colonies', 'recruited', 'begun', 'aristocracy', 'sent', 'educated', 'tended', 'favour', 'became', 'parent', 'vast', 'pupils', 'lower', 'scale', 'pupil', 'earl', 'throes', 'colonial', 'former', 'harold', 'wilson', 'mac', 'greeted', 'cathartic', 'mild', 'october', 'event', 'policemen', 'bruised', 'embassy', 'windows', 'reached', 'disgruntled', 'revolutionaries', 'vicariously', 'malcolm', 'mcdowell', 'victory', 'ruthlessly', 'gunned', 'fate', 'undoubtedly', 'succeeded', 'homosexuality', 'bullying', 'showers', 'teachers', 'traditions', 'declared', 'allegory', 'comparing', 'britain', 'corrupt', 'crumbling', 'forgotten', 'completed', 'trilogy', 'buck', 'successfully', 'lent', 'quietly', 'literary', 'declaring', 'goth', 'rainbow', 'harvest', 'winona', 'ryder', 'wronged', 'mirror', 'mainstay', 'karen', 'travesty', 'suspense', 'inexplicably', 'spawned', 'sequels', 'similarly', 'endeavor', 'advised', 'search', 'geeky', 'cursed', 'compact', 'scant', 'indifferent', 'reliable', 'labor', 'emerges', 'captured', 'pleasantly', 'graham', 'greene', 'translated', 'masterpieces', 'lesser', 'vehicles', 'confidential', 'bacall', 'boyer', 'depictions', 'respectively', 'spanish', 'favor', 'blossom', 'fascism', 'capitalism', 'arises', 'ridden', 'psychology', 'detracted', 'claustrophobic', 'marvelous', 'managing', 'mixture', 'yearning', 'spiraling', 'slim', 'oppression', 'profit', 'answer', 'murders', 'drawn', 'glitz', 'bubble', 'bounce', 'wrote', 'tower', 'pitched', 'camaraderie', 'yrs', 'amitabh', 'bachchan', 'romances', 'yr', 'tabu', 'cracks', 'bitter', 'unconventional', 'pair', 'locales', 'rainy', 'captivating', 'opposition', 'extent', 'test', 'cancer', 'maureen', 'emily', 'sisters', 'heartbreaking', 'midst', 'gorilla', 'frightened', 'rene', 'russo', 'feminine', 'straw', 'adversary', 'territory', 'contemplate', 'similarity', 'eg', 'britney', 'bashing', 'focus', 'spears', 'realised', 'sang', 'recognise', 'worried', 'promotion', 'epidemic', 'esteem', 'texan', 'hannibal', 'commented', 'fr', 'doktor', 'pulp', 'unscrupulous', 'wwi', 'paths', 'et', 'rien', 'horses', 'riders', 'taped', 'massimo', 'ring', 'ole', 'chunk', 'italians', 'dough', 'rehash', 'government', 'experiments', 'foremost', 'godfather', 'spice', 'substance', 'terrorists', 'soulless', 'personality', 'guts', 'defies', 'munching', 'jack', 'existent', 'gripe', 'unfinished', 'closer', 'z', 'philippines', 'islands', 'sucks', 'passes', 'impress', 'goo', 'pointlessly', 'splattered', 'coolness', 'occasions', 'nail', 'assed', 'organized', 'variety', 'dreams', 'strides', 'romp', 'underworld', 'choices', 'norm', 'regardless', 'personalities', 'pattern', 'permeates', 'favourites', 'ingredients', 'outdated', 'birthplace', 'balance', 'moods', 'hk', 'stinker', 'sparse', 'dragon', 'dynasty', 'releases', 'regarded', 'infernal', 'affairs', 'disjointed', 'spoken', 'continuity', 'monologue', 'ignoring', 'biehn', 'sammo', 'hung', 'stunt', 'reb', 'backyard', 'swear', 'homoerotic', 'cage', 'punches', 'inches', 'horrid', 'frank', 'stallone', 'leaves', 'christ', 'rapture', 'quote', 'tribulation', 'boiled', 'changing', 'correct', 'truth', 'upcoming', 'miami', 'vice', 'charmingly', 'hugely', 'legend', 'boggy', 'creek', 'abound', 'fishing', 'vicious', 'bigfoot', 'bay', 'resides', 'bratty', 'brothers', 'sensible', 'tomboy', 'sweetly', 'feisty', 'strokes', 'sitcom', 'dana', 'plato', 'venturing', 'treacherous', 'marsh', 'fierce', 'storm', 'furry', 'bear', 'gentle', 'benevolent', 'sasquatch', 'relates', 'leisurely', 'astutely', 'compellingly', 'drawing', 'affection', 'thankfully', 'sentiment', 'organic', 'restrained', 'sticky', 'sappy', 'mush', 'adorable', 'gilligan', 'plucky', 'offer', 'enjoyably', 'irascible', 'ol', 'sunny', 'achingly', 'fragile', 'untouched', 'civilization', 'splendor', 'deck', 'blends', 'crawling', 'synthesizer', 'banjo', 'sonic', 'brew', 'warrants', 'kiddie', 'johnny', 'prestigious', 'palm', 'triad', 'democratic', 'machinations', 'tony', 'leung', 'ka', 'fai', 'yu', 'train', 'ashes', 'baton', 'yam', 'koo', 'tung', 'lam', 'iii', 'mafia', 'ceremonies', 'gasp', 'unsatisfactory', 'veterans', 'coburn', 'chain', 'retired', 'lays', 'trap', 'kidnapping', 'hershey', 'lawman', 'accompanied', 'mitchum', 'pursuit', 'followers', 'broke', 'jail', 'handling', 'proceedings', 'customary', 'peckinpah', 'fully', 'repellent', 'generated', 'lusty', 'incidentally', 'appeared', 'troubled', 'dundee', 'scan', 'tcm', 'strives', 'garrett', 'maintains', 'dignity', 'ageing', 'attempting', 'anticipating', 'tackles', 'brutish', 'forcing', 'associates', 'rape', 'fool', 'villainous', 'practiced', 'obsolete', 'protagonists', 'demise', 'sacrifice', 'parks', 'ineffectual', 'sheriff', 'jorge', 'mexican', 'lieutenant', 'larry', 'wilcox', 'chips', 'youngest', 'drooling', 'mates', 'goldsmith', 'contributes', 'interaction', 'mouse', 'manhattan', 'exploration', 'apple', 'j', 'indulgent', 'buys', 'busy', 'aag', 'bollywood', 'outside', 'risk', 'billing', 'humiliation', 'cinematographer', 'rehearsing', 'cigarette', 'bulb', 'pole', 'flame', 'burning', 'forgiven', 'promote', 'dimension', 'sholay', 'willing', 'participants', 'eager', 'begs', 'abomination', 'demonstration', 'hence', 'satisfied', 'relevance', 'embarrassingly', 'rising', 'grave', 'steel', 'continuous', 'drummond', 'entry', 'silliness', 'occurring', 'darkness', 'leo', 'suspicious', 'reasonably', 'nigel', 'rathbone', 'sherlock', 'holmes', 'cargo', 'utilizing', 'produced', 'suitably', 'moody', 'fails', 'dismally', 'intrusion', 'fantasy', 'upsets', 'metaphors', 'parallels', 'biblical', 'impossible', 'bathed', 'ian', 'hunter', 'smug', 'censors', 'boston', 'agreed', 'banned', 'moviegoers', 'complained', 'cities', 'gable', 'crawford', 'flopped', 'oddly', 'revival', 'flows', 'moralistic', 'destiny', 'whoever', 'foot', 'classical', 'admitted', 'violin', 'applying', 'teaching', 'theory', 'professor', 'necessity', 'angela', 'professors', 'holly', 'carmen', 'notes', 'lighter', 'shocking', 'ignorance', 'sings', 'mutilated', 'painfully', 'recital', 'disgraceful', 'sounded', 'drums', 'electric', 'anyhow', 'suspend', 'elaborated', 'feminist', 'hypocrisy', 'shapely', 'beside', 'assault', 'uncomfortable', 'presenting', 'rapists', 'engaging', 'associated', 'cannibal', 'commended', 'financial', 'stationed', 'nasties', 'envelope', 'poorly', 'occurs', 'hum', 'notorious', 'ppv', 'wwe', 'hulk', 'hogan', 'warrior', 'flair', 'crop', 'pushed', 'lex', 'luger', 'nwa', 'heavyweight', 'champion', 'yokozuna', 'travelled', 'express', 'bid', 'championship', 'anticipation', 'razor', 'ramon', 'defeating', 'ted', 'dibiase', 'slave', 'shock', 'raw', 'july', 'teamed', 'inc', 'tag', 'irwin', 'matches', 'vs', 'steiner', 'putting', 'heavenly', 'interference', 'tennis', 'racket', 'shawn', 'michaels', 'feuding', 'wrestlemania', 'confronted', 'intercontinental', 'distracted', 'ally', 'bodyguard', 'diesel', 'proved', 'difference', 'throwing', 'bret', 'hart', 'lawler', 'undisputed', 'injured', 'arranged', 'passable', 'jumped', 'ban', 'wrestle', 'refused', 'referee', 'reversed', 'undertaker', 'rivalry', 'client', 'taker', 'rumble', 'bart', 'bam', 'bigelow', 'board', 'slam', 'knocking', 'balloons', 'ceiling', 'congratulate', 'retained', 'mawkish', 'unnecessarily', 'manipulative', 'issues', 'ie', 'nash', 'context', 'crowe', 'shuffle', 'clutching', 'briefcase', 'grungy', 'hat', 'qualify', 'health', 'realise', 'vierde', 'considered', 'thrillers', 'dutch', 'verhoeven', 'basic', 'instinct', 'starship', 'troopers', 'disillusioned', 'author', 'krabbe', 'seaside', 'recovering', 'mysterious', 'renee', 'husbands', 'circumstances', 'noire', 'psycho', 'alfred', 'hitchcock', 'orson', 'gripping', 'dario', 'argento', 'mentally', 'fugitive', 'occasion', 'ink', 'skeletons', 'luckily', 'xiao', 'needle', 'wu', 'hysterical', 'swords', 'chanting', 'wolves', 'timing', 'notch', 'southern', 'unreal', 'scripts', 'guessed', 'washed', 'bland', 'platform', 'screams', 'mazes', 'heyday', 'dungeons', 'dragons', 'pen', 'rpg', 'millions', 'geeks', 'tho', 'controversy', 'satan', 'blah', 'legitimate', 'concern', 'dates', 'horrendously', 'college', 'aptly', 'allure', 'gaming', 'request', 'robbie', 'kate', 'daniel', 'entrance', 'cardboard', 'cutout', 'forbidden', 'payoff', 'atop', 'towers', 'unintentionally', 'hanks', 'awake', 'breakdown', 'listing', 'whilst', 'included', 'disorders', 'buddies', 'stable', 'consequences', 'someplace', 'impersonating', 'carrying', 'spoiled', 'brat', 'doris', 'prostitute', 'likewise', 'sole', 'weller', 'assassinate', 'arab', 'cocktail', 'waitress', 'national', 'reward', 'protocol', 'department', 'unknown', 'agenda', 'map', 'borders', 'arabia', 'barren', 'rub', 'quarter', 'virtually', 'immense', 'keen', 'ruler', 'transpires', 'harem', 'ruse', 'ensure', 'opportunities', 'satirical', 'toned', 'foreign', 'policy', 'ronald', 'nine', 'presidential', 'election', 'soviet', 'union', 'voters', 'iran', 'contra', 'vehicle', 'goldie', 'hawn', 'cuteness', 'natured', 'naive', 'limit', 'automatically', 'blonde', 'recipe', 'inconsistent', 'oregon', 'wears', 'revealing', 'costume', 'imagining', 'rebecca', 'bunny', 'comedienne', 'unfunny', 'strained', 'blue', 'kinski', 'lascivious', 'kidnaps', 'mini', 'identical', 'wisdom', 'uttering', 'platitudes', 'democracy', 'constitution', 'citizen', 'liberty', 'eternal', 'parable', 'flower', 'penn', 'teller', 'briggs', 'nights', 'bloom', 'cynthia', 'rothrock', 'admittedly', 'patient', 'hospital', 'university', 'semester', 'batch', 'quotes', 'substandard', 'splatter', 'vcr', 'cleaner', 'nite', 'brief', 'thousand', 'cheaply', 'documentaries', 'frame', 'artists', 'varied', 'concepts', 'shared', 'tragedies', 'abstract', 'censored', 'controversial', 'conservative', 'segments', 'tick', 'egypt', 'soldier', 'palestinian', 'spirits', 'recounts', 'backed', 'overthrow', 'chile', 'sept', 'resulted', 'atrocities', 'mexico', 'recounting', 'vivid', 'uneven', 'vary', 'liu', 'shines', 'comical', 'unorthodox', 'tying', 'stunts', 'choreography', 'mess', 'manchu', 'thugs', 'ruthless', 'tigers', 'financing', 'warriors', 'rocky', 'lo', 'wes', 'electrical', 'freddie', 'krueger', 'scream', 'owed', 'pic', 'lincoln', 'combined', 'placed', 'asleep', 'wheel', 'phrase', 'herbie', 'loaded', 'lindsey', 'confession', 'selling', 'respected', 'matt', 'dillon', 'climb', 'faster', 'beatle', 'thirteen', 'martin', 'nolte', 'vic', 'morrow', 'tests', 'ford', 'generations', 'lynch', 'affirming', 'chronicle', 'alvin', 'strangers', 'isolation', 'reconciliation', 'farnsworth', 'caps', 'caring', 'sissy', 'spacek', 'rose', 'preached', 'positively', 'brass', 'hustler', 'con', 'sidekick', 'dustin', 'friendship', 'survival', 'landscape', 'explored', 'symbolic', 'mat', 'ilk', 'befriended', 'leave', 'confines', 'sunshine', 'losers', 'schlesinger', 'finesse', 'waldo', 'salt', 'barry', 'haunting', 'midnight', 'desperation', 'summing', 'tough', 'underbelly', 'aspects', 'lasting', 'republicans', 'extremist', 'remarks', 'confront', 'darkest', 'liberated', 'questioning', 'bravo', 'mraovich', 'magnum', 'opus', 'shining', 'web', 'alas', 'education', 'guides', 'shade', 'vermont', 'finest', 'trees', 'posturing', 'merely', 'bass', 'held', 'keyboard', 'holds', 'shame', 'rentals', 'maturity', 'shocked', 'account', 'topics', 'prostitution', 'slang', 'abuse', 'noting', 'pg', 'briefly', 'voight', 'texas', 'roy', 'rogers', 'outfit', 'rejected', 'enrico', 'ratso', 'rizzo', 'convinces', 'kinds', 'conned', 'homeless', 'invited', 'dilapidated', 'apartment', 'gigolo', 'regain', 'cab', 'bangs', 'walkin', 'hurry', 'sends', 'recruit', 'excited', 'arguing', 'defense', 'wayne', 'gonna', 'nd', 'cleaned', 'prevalent', 'smashed', 'impresses', 'matured', 'influence', 'flashback', 'interpretation', 'shannon', 'kicking', 'spades', 'exhilarating', 'brandon', 'chip', 'quotient', 'innovative', 'unit', 'marking', 'offspring', 'pleasing', 'michel', 'wong', 'supreme', 'whistling', 'football', 'parminder', 'nagra', 'kiera', 'knightley', 'archie', 'punjabi', 'jonathon', 'meyers', 'loves', 'cook', 'secretly', 'juliet', 'abroad', 'reda', 'frenchman', 'descent', 'heritage', 'attitudes', 'announces', 'driving', 'mecca', 'agrees', 'obligation', 'discuss', 'misgivings', 'rigid', 'stubborn', 'undercurrent', 'hostility', 'repression', 'phony', 'westerners', 'islam', 'juxtaposition', 'generation', 'clarity', 'annoy', 'latex', 'arm', 'lesbians', 'hookers', 'fades', 'wipes', 'separate', 'bands', 'werewolves', 'rubber', 'attached', 'apply', 'wrists', 'hrs', 'useful', 'experiment', 'ads', 'recollection', 'bait', 'switch', 'campaign', 'millennium', 'hybrid', 'pond', 'prince', 'tides', 'erratic', 'shifting', 'melodrama', 'pitch', 'focuses', 'unraveling', 'lilly', 'san', 'francisco', 'hull', 'grandmother', 'georgia', 'replete', 'shift', 'veers', 'haphazardly', 'alcoholism', 'molestation', 'dysfunctional', 'families', 'settles', 'varying', 'degrees', 'lohan', 'promiscuity', 'tactics', 'palpable', 'credible', 'resentful', 'alcoholic', 'recognize', 'seventy', 'weather', 'dimensions', 'stares', 'execrable', 'counterparts', 'surfer', 'na', 'devout', 'mormon', 'delay', 'stint', 'omnipresent', 'dermot', 'mulroney', 'triple', 'wounded', 'widower', 'paula', 'regular', 'hector', 'elizondo', 'cameos', 'trademark', 'laconic', 'variations', 'reel', 'featurette', 'ducks', 'banality', 'common', 'decency', 'bounces', 'ludicrous', 'kor', 'conan', 'abundance', 'neck', 'swinging', 'gut', 'idiocy', 'sheer', 'mindedness', 'storytelling', 'yep', 'celebrating', 'naval', 'knowledge', 'finer', 'hackman', 'peg', 'submarine', 'argue', 'daniels', 'ruby', 'keeler', 'breaks', 'ankle', 'styles', 'dressing', 'swing', 'trumpet', 'horn', 'gabriel', 'blowing', 'dancer', 'adding', 'info', 'blues', 'nosy', 'amanda', 'randolph', 'hazel', 'diaz', 'entertainer', 'harlem', 'reunites', 'guardian', 'lena', 'engle', 'drunk', 'leg', 'tall', 'handsome', 'aspiring', 'seymour', 'highlights', 'jaw', 'tap', 'blacks', 'whites', 'frequently', 'integrated', 'bold', 'stormy', 'signs', 'glimpse', 'classy', 'afforded', 'spencer', 'nina', 'mae', 'waters', 'rex', 'ingram', 'nightclub', 'historic', 'paradise', 'punching', 'strings', 'sepia', 'cinderella', 'beers', 'enjoyment', 'introduction', 'executed', 'colour', 'safely', 'austen', 'fluffy', 'darker', 'edges', 'intricacies', 'churchill', 'glossed', 'fleshed', 'beckinsale', 'quirks', 'casually', 'harriet', 'remorse', 'proposal', 'ruining', 'marital', 'happiness', 'narcissism', 'mirrors', 'achieve', 'aims', 'suffered', 'governess', 'securing', 'treating', 'crushing', 'awakening', 'childlike', 'stagnant', 'transition', 'thoughtful', 'prefer', 'roman', 'gesture', 'troops', 'arriving', 'korean', 'jump', 'warner', 'bros', 'salute', 'patriotism', 'celebrities', 'appearances', 'develops', 'budding', 'starlet', 'skinny', 'delivering', 'newspapers', 'bicycle', 'airplane', 'carrier', 'childish', 'females', 'distinct', 'numbers', 'glamorous', 'cagney', 'pokes', 'bedside', 'reprise', 'causing', 'undemanding', 'adequate', 'render', 'strictly', 'shuttle', 'launched', 'gold', 'dimensional', 'exist', 'pieced', 'olds', 'incomprehensible', 'multiple', 'shockingly', 'equal', 'outdo', 'expression', 'charms', 'grasp', 'applied', 'nation', 'voodoo', 'snake', 'romanian', 'dean', 'cher', 'require', 'stewart', 'lend', 'experiencing', 'leslie', 'bondage', 'robbed', 'cockney', 'boyfriend', 'mildred', 'afi', 'joyce', 'heath', 'interviews', 'advertisements', 'wwii', 'hindsight', 'yo', 'carpet', 'rko', 'greatness', 'warners', 'astute', 'instrumental', 'bringing', 'onward', 'statue', 'doubtless', 'exemplary', 'depth', 'characterization', 'sidewalk', 'stardom', 'peer', 'measure', 'anna', 'nicole', 'struck', 'verge', 'goal', 'arrived', 'led', 'dom', 'troubling', 'distract', 'dust', 'shelf', 'standouts', 'asylum', 'yesterday', 'bored', 'cards', 'indicating', 'progression', 'clothing', 'unclear', 'breast', 'slicing', 'forehead', 'poisoned', 'cheerleader', 'rear', 'photo', 'graduation', 'gown', 'menacing', 'dorm', 'views', 'information', 'process', 'unto', 'mass', 'amounts', 'marijuana', 'cocaine', 'shed', 'intervention', 'suburbia', 'evident', 'hints', 'endorse', 'outright', 'archival', 'honesty', 'staunch', 'ridiculously', 'hammer', 'overview', 'interviewees', 'marketplace', 'burns', 'summertime', 'peaks', 'careless', 'disillusionment', 'biased', 'untrue', 'conditions', 'uniform', 'definite', 'magician', 'salvage', 'recognised', 'professionalism', 'lilith', 'whining', 'grates', 'nervous', 'disinterested', 'curly', 'porter', 'potter', 'disagree', 'devilish', 'wrecks', 'havoc', 'amy', 'adopts', 'asinine', 'cradle', 'filth', 'bandwagon', 'popped', 'camcorder', 'surroundings', 'disliking', 'evolved', 'noticed', 'shoes', 'skull', 'helper', 'employs', 'joined', 'steals', 'beats', 'unmotivated', 'originated', 'stuffed', 'substances', 'size', 'complicated', 'functional', 'marks', 'hardy', 'committed', 'responsible', 'marion', 'beau', 'andy', 'escort', 'polly', 'reluctant', 'understands', 'lionel', 'barrymore', 'conviction', 'glue', 'mickey', 'cecilia', 'parker', 'sara', 'hayden', 'margaret', 'marquis', 'featured', 'observe', 'painted', 'guard', 'cafe', 'arizona', 'grieco', 'bothered', 'trooper', 'loose', 'nancy', 'allen', 'hewitt', 'scoop', 'winds', 'tub', 'omen', 'didnt', 'wasnt', 'screening', 'risible', 'reject', 'lessons', 'timeless', 'injustice', 'changes', 'sought', 'oppressed', 'freedom', 'apartheid', 'biko', 'journalism', 'donald', 'woods', 'higher', 'shaking', 'rodney', 'dangerfield', 'athletic', 'stiller', 'phoning', 'nods', 'correctness', 'politically', 'pc', 'apologies', 'ins', 'racy', 'kidding', 'peculiar', 'disclaimer', 'suggesting', 'mormons', 'saints', 'religion', 'utah', 'brigham', 'inert', 'turgid', 'staged', 'enduring', 'duke', 'vile', 'relieved', 'ali', 'rohmer', 'pointed', 'alienating', 'consciousness', 'elitist', 'akira', 'kurosawa', 'den', 'partnership', 'formed', 'knights', 'arguably', 'cheese', 'slum', 'woes', 'contributed', 'dramas', 'strengths', 'adversity', 'backdrop', 'fault', 'challenge', 'cohesive', 'stopping', 'pray', 'branch', 'restaurants', 'descriptions', 'rapes', 'meek', 'constant', 'drunks', 'stumbling', 'clockwork', 'demands', 'spouses', 'swapping', 'salesman', 'bike', 'watering', 'hole', 'erotic', 'streets', 'bergman', 'dissect', 'shattered', 'deathly', 'sits', 'cloth', 'silence', 'painter', 'silences', 'tics', 'improvise', 'compositions', 'amid', 'designs', 'scheme', 'paintings', 'sprawling', 'spilling', 'seams', 'vibrant', 'edged', 'indelible', 'beard', 'truths', 'sentimentality', 'freddy', 'roseanne', 'backstory', 'abusive', 'zane', 'yaphet', 'kotto', 'incidents', 'abnormal', 'jock', 'roberto', 'spectrum', 'exaggerated', 'combination', 'pedophilia', 'worship', 'undercover', 'jesus', 'alright', 'gospel', 'gosh', 'premier', 'ranting', 'slate', 'wooden', 'rupert', 'expressionless', 'jennifer', 'mannerisms', 'stays', 'wentworth', 'overlooked', 'concert', 'kissing', 'sum', 'vet', 'backwoods', 'rednecks', 'billed', 'josie', 'sheep', 'cam', 'jumps', 'devoid', 'bourne', 'chased', 'deeper', 'armed', 'battered', 'mm', 'exaggerating', 'astonishingly', 'winding', 'navigate', 'shook', 'greengrass', 'disciples', 'editor', 'nauseous', 'flashing', 'pages', 'boys', 'stocks', 'allowing', 'monstrosity', 'cia', 'misunderstood', 'traitor', 'operative', 'drops', 'floor', 'oppressive', 'threat', 'eh', 'assassin', 'undergoes', 'deputy', 'wonders', 'cease', 'senate', 'hearing', 'courts', 'round', 'ultimatum', 'delirious', 'pryor', 'murphy', 'inspiration', 'comedians', 'lovingly', 'provocative', 'stargate', 'spin', 'expand', 'neill', 'companion', 'samantha', 'teal', 'compassionate', 'parasites', 'inserted', 'deeds', 'deemed', 'jaffa', 'parasitic', 'planets', 'device', 'pressing', 'knit', 'understandable', 'instances', 'braveheart', 'darth', 'vader', 'stayed', 'astonished', 'luke', 'tortured', 'sith', 'eliminates', 'vessels', 'mon', 'ewoks', 'lando', 'fatally', 'obi', 'wan', 'yoda', 'anakin', 'skywalker', 'sebastian', 'leia', 'jabba', 'strangling', 'endor', 'duel', 'bikini', 'channeling', 'woody', 'pause', 'edgy', 'sixties', 'seventies', 'cd', 'bin', 'dear', 'angles', 'raimi', 'raptor', 'raptors', 'rudolph', 'breakfast', 'champions', 'slides', 'theaters', 'derision', 'kurt', 'vonnegut', 'unfilmable', 'treatments', 'slaughter', 'stilted', 'endorsement', 'neglected', 'encourage', 'familiarity', 'affecting', 'polanski', 'masterfully', 'variation', 'repulsion', 'honest', 'goer', 'acknowledge', 'le', 'satisfactory', 'torture', 'irreversible', 'tangible', 'elaborate', 'tortures', 'opposed', 'fooling', 'fulfilling', 'rosemary', 'struggle', 'identify', 'lured', 'lure', 'dumber', 'noises', 'pamela', 'denise', 'chock', 'favorites', 'rightly', 'providing', 'commits', 'faux', 'pas', 'exam', 'molly', 'spat', 'senator', 'eugene', 'acquainted', 'stereotypical', 'refugee', 'henry', 'wallace', 'communist', 'newspaper', 'reporters', 'philip', 'drastically', 'reminder', 'tunes', 'armageddon', 'inferno', 'kane', 'mvp', 'wrestling', 'spots', 'opener', 'teddy', 'kendrick', 'defend', 'regal', 'taylor', 'ladder', 'carnage', 'teams', 'chaos', 'fest', 'shortly', 'rope', 'nearby', 'joey', 'mercury', 'busted', 'grab', 'retain', 'announce', 'increase', 'replay', 'miz', 'boogeyman', 'dud', 'benoit', 'chavo', 'helms', 'yang', 'kennedy', 'slug', 'exceptions', 'tomb', 'stoned', 'screwed', 'diva', 'ashley', 'cena', 'batista', 'finlay', 'booker', 'knee', 'chair', 'scored', 'savior', 'osama', 'catwoman', 'september', 'tapes', 'journalists', 'afghanistan', 'unprepared', 'vendetta', 'laden', 'document', 'terrorist', 'convenient', 'idiotic', 'protagonist', 'speeches', 'macgyver', 'mishaps', 'wear', 'translator', 'whine', 'baffled', 'doom', 'rooting', 'deliverance', 'canoe', 'victimized', 'toothless', 'hillbillies', 'anal', 'bow', 'arrow', 'shootings', 'bones', 'immature', 'pile', 'masters', 'pro', 'suckers', 'describes', 'praises', 'notices', 'technically', 'attenborough', 'sensation', 'broadway', 'moron', 'irons', 'musicals', 'danced', 'projection', 'unforgettable', 'colorful', 'grainy', 'mtv', 'texture', 'sweeping', 'snatch', 'keira', 'lucy', 'coherent', 'domino', 'affluent', 'bounty', 'hunters', 'suspected', 'robbers', 'removed', 'crack', 'obese', 'afro', 'springer', 'struggles', 'granddaughter', 'collectors', 'fee', 'noses', 'dragged', 'sporadically', 'bent', 'liberating', 'fbi', 'surveillance', 'operation', 'veritable', 'pam', 'grier', 'coffy', 'nurse', 'seeks', 'blaxploitation', 'racist', 'desserts', 'demeaning', 'degrading', 'threads', 'chases', 'crazed', 'populated', 'mobsters', 'scum', 'heroines', 'nails', 'unwatchable', 'foxy', 'sleaze', 'degrades', 'stoop', 'bearable', 'inaccurate', 'misleading', 'eloquent', 'academic', 'disrespectful', 'region', 'invention', 'en', 'suspiciously', 'freeway', 'hitch', 'hiker', 'destination', 'tales', 'adulterous', 'campers', 'outlaw', 'chronicles', 'woefully', 'ebenezer', 'strangest', 'dreary', 'beggars', 'belief', 'gimmicky', 'tad', 'overused', 'castro', 'cheapo', 'enthusiastic', 'eyeballs', 'plucked', 'messy', 'decapitation', 'positives', 'ain', 'stroll', 'seasoned', 'sneaking', 'siege', 'sas', 'argentina', 'gung', 'creates', 'hostage', 'collins', 'woodward', 'professionals', 'ditch', 'touted', 'roger', 'atlanta', 'aficionado', 'morning', 'stale', 'robotic', 'exceedingly', 'online', 'godzilla', 'cried', 'creepiest', 'mixing', 'aztec', 'beliefs', 'theology', 'jolly', 'suited', 'rosy', 'cheeks', 'pedophile', 'heavens', 'whichever', 'harder', 'shops', 'african', 'mammy', 'peeping', 'pervert', 'listens', 'mrs', 'elves', 'reindeer', 'mechanical', 'toys', 'floating', 'freak', 'cloud', 'nemesis', 'minions', 'prancing', 'purest', 'redundant', 'doll', 'praying', 'resists', 'temptation', 'thee', 'rewarded', 'chucky', 'uh', 'huh', 'merlin', 'stake', 'hundred', 'drank', 'bars', 'california', 'correctly', 'inmates', 'rehearsed', 'performed', 'tempest', 'crimes', 'adapt', 'loopy', 'oz', 'robin', 'dramatization', 'per', 'se', 'sandra', 'rory', 'achieving', 'guide', 'amuse', 'subscribe', 'saturday', 'showcase', 'dances', 'majestic', 'corn', 'singin', 'definately', 'greats', 'caron', 'levant', 'filling', 'perfection', 'ballet', 'minnelli', 'nod', 'reynolds', 'recommendation', 'chuck', 'soil', 'explosions', 'superpowers', 'hay', 'milk', 'looney', 'toons', 'titan', 'batman', 'traits', 'mario', 'greedy', 'calculated', 'dug', 'err', 'pirate', 'charged', 'studios', 'simpson', 'peanut', 'freaking', 'charley', 'defeat', 'warlord', 'import', 'outfits', 'relief', 'kinda', 'spinal', 'nighy', 'kilter', 'recapture', 'rea', 'succeeding', 'regret', 'indescribable', 'myra', 'breckinridge', 'vidal', 'disowned', 'studded', 'bizarrely', 'operations', 'booed', 'gain', 'sarne', 'incoherent', 'hazzard', 'fox', 'vaults', 'intervals', 'judy', 'shirley', 'temple', 'laced', 'newly', 'uproar', 'loretta', 'sued', 'permission', 'scrawny', 'emerge', 'goddess', 'raquel', 'welch', 'seduce', 'nubile', 'farrah', 'fawcett', 'raping', 'depending', 'symbol', 'nineteen', 'formidable', 'upscale', 'hunky', 'selleck', 'endured', 'closely', 'resembles', 'meaningful', 'handedly', 'endearingly', 'description', 'adapting', 'mores', 'violating', 'brainer', 'leather', 'disconcerting', 'morita', 'fluff', 'engine', 'dislike', 'distrust', 'suits', 'output', 'lawrence', 'zany', 'streetwise', 'cos', 'upside', 'insanity', 'snow', 'fairy', 'coke', 'swiss', 'dope', 'pale', 'haired', 'switzerland', 'tagline', 'authenticity', 'spectator', 'remained', 'housewife', 'musician', 'fraction', 'spain', 'confesses', 'admiration', 'dealer', 'heartless', 'owner', 'playboy', 'photographer', 'exposes', 'pornographic', 'baghdad', 'akin', 'pseudo', 'typically', 'swallow', 'acceptance', 'homophobia', 'ram', 'conceived', 'woeful', 'homo', 'camp', 'creator', 'wreck', 'distribution', 'czech', 'highest', 'republic', 'kundera', 'uncompromising', 'beings', 'optimism', 'trojan', 'deathbed', 'appearing', 'hallucination', 'redgrave', 'simplicity', 'skirts', 'admirable', 'slick', 'pairs', 'mothers', 'natasha', 'richardson', 'meryl', 'streep', 'mamie', 'gummer', 'youthful', 'incarnation', 'claire', 'danes', 'eileen', 'atkins', 'hugh', 'dancy', 'patrick', 'hungarian', 'continental', 'environment', 'fraught', 'connections', 'selfless', 'triangle', 'understandably', 'woven', 'symphony', 'shine', 'discovery', 'vaguely', 'admission', 'inviting', 'raises', 'thereafter', 'popcorn', 'artistically', 'justify', 'aesthetically', 'challenged', 'retard', 'summarize', 'unrelated', 'legends', 'depicting', 'nutshell', 'lung', 'contestant', 'prodigy', 'contestants', 'homosexual', 'bartender', 'oral', 'subsequently', 'womanizing', 'guru', 'rains', 'frogs', 'unbelievably', 'rambling', 'rhyme', 'crosses', 'classified', 'sentences', 'swayze', 'solomon', 'mines', 'indiana', 'dropped', 'chamberlain', 'stone', 'andrea', 'struggling', 'hooker', 'wielding', 'leak', 'unanswered', 'dreaming', 'crouching', 'groove', 'overacted', 'consuming', 'liquor', 'pathetically', 'hitler', 'faint', 'spark', 'valley', 'dolls', 'equals', 'brow', 'pacino', 'warns', 'chopped', 'shotgun', 'smattering', 'table', 'hammy', 'screeching', 'halt', 'recovers', 'lingers', 'scholars', 'filmmakers', 'lastly', 'ethnic', 'slashing', 'clarence', 'necessary', 'fury', 'nada', 'finding', 'lucky', 'drift', 'prepare', 'gangster', 'racism', 'nicky', 'musicians', 'gangsters', 'horrendous', 'taft', 'determination', 'kyle', 'yards', 'yard', 'royal', 'sufficient', 'slap', 'banal', 'tedium', 'required', 'rushed', 'cole', 'shaun', 'cassidy', 'enjoys', 'interested', 'contract', 'accordingly', 'comet', 'trial', 'seedy', 'vaudeville', 'logically', 'unaware', 'kidnapped', 'somber', 'hesitate', 'monkeys', 'voyage', 'denzel', 'almighty', 'carrey', 'freeman', 'messing', 'anchor', 'painting', 'elite', 'vague', 'subjective', 'ross', 'kitschy', 'offending', 'stated', 'tables', 'handicapped', 'expressing', 'definition', 'bullshit', 'chose', 'grades', 'bull', 'oil', 'honky', 'graffiti', 'giants', 'surf', 'breathing', 'waves', 'tara', 'options', 'dial', 'snag', 'flawlessly', 'spread', 'users', 'flawless', 'spoke', 'lip', 'cunningly', 'devised', 'gloss', 'der', 'untergang', 'downfall', 'rosenstrasse', 'marriages', 'usa', 'hannah', 'orthodox', 'jew', 'hasn', 'digging', 'nazi', 'jews', 'concentration', 'camps', 'relatives', 'situated', 'berlin', 'gunfights', 'di', 'ke', 'lyrics', 'pakeezah', 'describing', 'grandson', 'revive', 'richards', 'filmography', 'slipped', 'customers', 'nikhil', 'advani', 'trek', 'frontier', 'improving', 'graphics', 'volunteer', 'league', 'volume', 'congratulations', 'complement', 'derek', 'bon', 'jovi', 'weapons', 'net', 'searching', 'enable', 'sunlight', 'diego', 'luna', 'catholic', 'darius', 'simplest', 'hal', 'hartley', 'wary', 'terrorism', 'kudos', 'ensues', 'crossing', 'tickets', 'grim', 'caine', 'bacon', 'visible', 'serum', 'celebrate', 'persuade', 'desperately', 'grip', 'realises', 'laboratory', 'owes', 'petty', 'blend', 'subtlety', 'rat', 'sadistic', 'cup', 'climatic', 'layer', 'veins', 'reverse', 'eaten', 'spike', 'faultless', 'hose', 'streak', 'panic', 'elia', 'kazan', 'orleans', 'fill', 'improvisation', 'urgency', 'dispute', 'dumped', 'dock', 'coroner', 'official', 'widmark', 'examination', 'confirms', 'pneumonic', 'insists', 'contacts', 'infectious', 'commissioner', 'potentially', 'obstacles', 'hampered', 'cooperation', 'immigrant', 'proprietor', 'immigrants', 'blackie', 'palance', 'mostel', 'vince', 'poldi', 'tommy', 'ongoing', 'assumes', 'efficiently', 'responsibilities', 'determined', 'convincingly', 'thug', 'distinctive', 'docu', 'realist', 'influences', 'tandem', 'precision', 'excels', 'warehouse', 'resume', 'housewives', 'credentials', 'accompanying', 'squeeze', 'pine', 'maddy', 'lauren', 'hopkins', 'infant', 'ice', 'auto', 'diane', 'keaton', 'mutual', 'greeting', 'receives', 'overbearing', 'grief', 'friction', 'uncovers', 'thirst', 'departed', 'thread', 'filler', 'privacy', 'altered', 'grady', 'harp', 'clerk', 'renting', 'mel', 'brooks', 'knockout', 'rob', 'stole', 'corpses', 'crapfest', 'trite', 'amateurs', 'residence', 'attribute', 'ireland', 'dismisses', 'superstitious', 'hokum', 'crossed', 'spends', 'dragging', 'aching', 'substantive', 'revered', 'emerging', 'kar', 'wai', 'dripping', 'beads', 'accessible', 'wasting', 'nothingness', 'meditation', 'alienation', 'deer', 'headlight', 'auteur', 'applauded', 'mastered', 'drafted', 'corporations', 'identities', 'lazy', 'winded', 'trips', 'smash', 'drew', 'workplace', 'industrial', 'hunt', 'stevenson', 'rep', 'motor', 'collapse', 'liaison', 'trade', 'devoted', 'satisfaction', 'chat', 'misunderstandings', 'answering', 'delicate', 'balancing', 'buster', 'wendt', 'turturro', 'clint', 'watanabe', 'candles', 'volunteers', 'shadowed', 'nephew', 'ceo', 'dominating', 'dunk', 'string', 'beetle', 'juice', 'ribbons', 'teaming', 'supplies', 'lowell', 'incidental', 'composed', 'newman', 'paramount', 'surround', 'dolby', 'digital', 'grain', 'helpful', 'complain', 'shelley', 'duvall', 'stepsisters', 'eve', 'arden', 'wicked', 'beals', 'garden', 'matthew', 'broderick', 'jean', 'stapleton', 'godmother', 'orchestra', 'quintessential', 'misplaced', 'wry', 'bumps', 'transformation', 'occurred', 'gray', 'conveys', 'complements', 'helplessness', 'hopelessness', 'addresses', 'startling', 'innocents', 'bone', 'bush', 'endowed', 'mentality', 'henchman', 'lair', 'domain', 'ra', 'princess', 'lion', 'hiking', 'flushed', 'excruciatingly', 'ramones', 'static', 'togar', 'approaches', 'decrepit', 'attended', 'nurses', 'hall', 'monitors', 'announcing', 'solution', 'kicked', 'dey', 'pj', 'soles', 'submit', 'skelton', 'lahr', 'brien', 'dynamite', 'dorsey', 'exceptional', 'walmart', 'mildly', 'stride', 'preachy', 'possess', 'carefully', 'cramped', 'underground', 'lab', 'clearer', 'undermined', 'predictability', 'swearing', 'darn', 'swears', 'despised', 'fathers', 'slime', 'hindi', 'buff', 'educational', 'sympathize', 'bust', 'connoisseur', 'iconic', 'inter', 'ambient', 'noise', 'planted', 'caan', 'duval', 'snooping', 'intimate', 'ensuing', 'homage', 'depalma', 'garcia', 'lecture', 'snl', 'skit', 'meadows', 'leon', 'phelps', 'consisting', 'largely', 'tiffany', 'amber', 'dee', 'reliving', 'mindless', 'eminently', 'quotable', 'ooh', 'youth', 'tricked', 'censorship', 'unbalanced', 'emptiness', 'gutter', 'rotten', 'cinematographic', 'succumb', 'ww', 'olivier', 'witnesses', 'eagerly', 'awaiting', 'europeans', 'dvds', 'circumstance', 'sharpe', 'sean', 'connery', 'punishing', 'hobby', 'outcast', 'solace', 'learns', 'antique', 'collect', 'foe', 'nuff', 'rival', 'breakin', 'tip', 'cusack', 'snappy', 'walker', 'sooo', 'nathan', 'thick', 'tips', 'duo', 'conquer', 'frankenheimer', 'leonard', 'taut', 'consultant', 'scheider', 'trebor', 'stood', 'blackmail', 'porno', 'vanity', 'preston', 'exploitive', 'shtick', 'cutesy', 'stream', 'outs', 'buildings', 'alec', 'hilton', 'seuss', 'directorial', 'prowess', 'factual', 'parallel', 'stellar', 'entourage', 'hickok', 'buffalo', 'cody', 'calamity', 'custer', 'abraham', 'interact', 'floats', 'dangerously', 'unabashed', 'spectacle', 'heap', 'manufactured', 'zeitgeist', 'relic', 'moderately', 'artifacts', 'minimum', 'mono', 'balanced', 'jodorowsky', 'peripheral', 'bewildered', 'horrified', 'surrounded', 'entrails', 'haunts', 'crispin', 'slide', 'devastating', 'dazed', 'prophetic', 'superhero', 'scantily', 'clad', 'wet', 'expects', 'negative', 'valid', 'feed', 'titanic', 'sleepless', 'seattle', 'shudder', 'additionally', 'outrageously', 'proof', 'beavis', 'mummy', 'monte', 'sell', 'phenomenon', 'nineties', 'marlee', 'matlin', 'piano', 'fewer', 'scent', 'forrest', 'gump', 'aroused', 'adverse', 'suggestions', 'jodie', 'nell', 'preferred', 'hawthorne', 'autobiography', 'irish', 'christy', 'dublin', 'cerebral', 'palsy', 'wrongly', 'chalk', 'toes', 'published', 'poet', 'forties', 'grey', 'isle', 'believed', 'crippled', 'exterior', 'specially', 'cart', 'factors', 'principally', 'christie', 'jerky', 'intellectually', 'conor', 'brenda', 'fricker', 'warts', 'portrait', 'foul', 'prone', 'outbursts', 'disability', 'facets', 'misguided', 'dozens', 'grease', 'fortunately', 'michelle', 'pfeiffer', 'evidently', 'humiliating', 'maxwell', 'caulfield', 'gamut', 'catatonic', 'hormones', 'sassy', 'deadpan', 'linger', 'connie', 'sid', 'caesar', 'lorna', 'clunker', 'frenetic', 'exhausted', 'nostalgia', 'evoked', 'choreographer', 'polite', 'inflicted', 'seek', 'rehashing', 'blockbusters', 'recovered', 'plunges', 'avid', 'liberties', 'seasons', 'bonus', 'reasoning', 'atrocity', 'unsure', 'proceeded', 'joker', 'begging', 'penguin', 'knockoff', 'freeze', 'jewel', 'ivy', 'hippie', 'shameful', 'rethink', 'experiences', 'sucker', 'pyun', 'photographed', 'sigh', 'corman', 'offended', 'nerds', 'chooses', 'elected', 'republican', 'inventive', 'cruelty', 'protect', 'carol', 'bing', 'crosby', 'grating', 'continual', 'brave', 'visitor', 'fish', 'spaced', 'waltz', 'roosevelt', 'wig', 'bendix', 'moe', 'stooges', 'delve', 'trend', 'wholeheartedly', 'intentions', 'associate', 'palatable', 'function', 'robots', 'meaningless', 'underdog', 'mandatory', 'quasi', 'slapped', 'stirred', 'template', 'noticeable', 'goofs', 'wishes', 'eventual', 'emphasize', 'loop', 'miraculous', 'universe', 'exploded', 'evils', 'pedestal', 'conversion', 'novels', 'theories', 'thinner', 'intends', 'terribly', 'penalty', 'crusader', 'underwood', 'ventures', 'meddling', 'unravel', 'climactic', 'sterile', 'warfare', 'composition', 'commander', 'deepest', 'treason', 'mister', 'regarding', 'dien', 'crossroads', 'prisoner', 'cell', 'padded', 'interminable', 'boiler', 'spit', 'roasted', 'appallingly', 'sailors', 'towns', 'extremes', 'deter', 'aid', 'dispatch', 'anansa', 'medicine', 'snatched', 'arabic', 'trader', 'suleiman', 'ustinov', 'hopeless', 'englishman', 'acknowledges', 'harrison', 'holden', 'malik', 'rides', 'miserably', 'camel', 'morality', 'plotting', 'forgivable', 'sells', 'omar', 'sharif', 'cleese', 'stinking', 'unscathed', 'exploding', 'minimal', 'gestures', 'boundaries', 'ostensibly', 'belonging', 'reinforce', 'attentive', 'explosive', 'sin', 'jagged', 'clone', 'muse', 'attorney', 'manipulated', 'stalked', 'unforgivable', 'sidney', 'lumet', 'lay', 'butch', 'hartman', 'lol', 'underwear', 'australians', 'coup', 'cosmo', 'battery', 'sentence', 'mistaken', 'nickelodeon', 'stations', 'everyday', 'raven', 'izzard', 'brits', 'noll', 'blunt', 'expletives', 'knowledgeable', 'pioneers', 'nevermind', 'medical', 'wrapping', 'peak', 'denouement', 'portions', 'estranged', 'fires', 'whiz', 'moonlighting', 'kooky', 'functions', 'perplexed', 'keitel', 'europe', 'immaculate', 'realized', 'mega', 'burned', 'extremities', 'nt', 'babies', 'accidental', 'tons', 'stan', 'ollie', 'spinning', 'graves', 'fundamental', 'laurel', 'impersonate', 'nephews', 'bronson', 'pinchot', 'foreigner', 'schtick', 'welsh', 'pakistani', 'overdone', 'sartain', 'stepping', 'dirt', 'teamwork', 'innate', 'absent', 'gaps', 'summed', 'panels', 'fraternity', 'nadir', 'leagues', 'harmon', 'copyright', 'fart', 'glass', 'bottles', 'spear', 'poker', 'forcibly', 'holliday', 'cukor', 'warmed', 'hearted', 'lemmon', 'muster', 'recycled', 'enamored', 'soft', 'wimp', 'threesome', 'jan', 'alot', 'unfair', 'assessment', 'bygone', 'topher', 'geek', 'perpetual', 'donna', 'laura', 'masterson', 'hyde', 'fez', 'ashton', 'kutcher', 'kelso', 'exchange', 'promiscuous', 'jo', 'phenomenal', 'kitty', 'marie', 'tanya', 'chauvinistic', 'chong', 'stoner', 'anachronistic', 'deplorable', 'ferrer', 'switched', 'dopey', 'boorish', 'attach', 'maid', 'elegance', 'portion', 'renoir', 'switches', 'estate', 'appreciating', 'nuances', 'pinter', 'nobel', 'sixth', 'sleuth', 'terrifically', 'slippers', 'distinctly', 'longevity', 'palmer', 'hughes', 'precocious', 'orphan', 'cared', 'infancy', 'wits', 'yuppie', 'vocabulary', 'heartwarming', 'rendered', 'proverbial', 'carrot', 'enticing', 'babble', 'alternate', 'shane', 'les', 'attendant', 'shares', 'unhinged', 'milieu', 'concealed', 'trades', 'exquisitely', 'monochrome', 'frames', 'grimy', 'cliches', 'ambitions', 'pidgeon', 'epiphany', 'despair', 'steer', 'philosophy', 'tastes', 'ned', 'myth', 'exaggeration', 'ensures', 'odds', 'plates', 'sparks', 'victorian', 'hadn', 'australia', 'inhuman', 'superhuman', 'unfeeling', 'armour', 'wore', 'establishes', 'reversal', 'corruption', 'convicted', 'nearest', 'versus', 'wildly', 'seamlessly', 'ledger', 'orlando', 'desolate', 'naomi', 'watts', 'bum', 'dried', 'established', 'rockets', 'closing', 'ditto', 'conclude', 'fixed', 'collage', 'linking', 'shootout', 'annoyingly', 'depict', 'shootouts', 'glance', 'noirish', 'otto', 'preminger', 'tierney', 'posh', 'sophisticated', 'weapon', 'hoods', 'routinely', 'confessions', 'crooks', 'det', 'dixon', 'brighter', 'tully', 'accused', 'standout', 'quibble', 'unsavory', 'polished', 'trusting', 'penultimate', 'spock', 'mccoy', 'kirk', 'beam', 'atoz', 'librarian', 'periods', 'vulcan', 'reprises', 'unhappy', 'witchcraft', 'jailed', 'doorway', 'beta', 'enterprise', 'shatner', 'nimoy', 'behaving', 'executive', 'donkey', 'hippies', 'eden', 'emotion', 'error', 'imagined', 'inhabitants', 'doomed', 'travelling', 'dove', 'problematic', 'belongs', 'tos', 'ritchie', 'demanded', 'refund', 'walked', 'madonna', 'lagoon', 'precious', 'masked', 'stalk', 'comers', 'bentley', 'drowning', 'sagemiller', 'miscast', 'vanilla', 'churning', 'perplexing', 'resolved', 'ss', 'slice', 'throwaway', 'sustain', 'unrated', 'tame', 'patiently', 'clothed', 'pounding', 'lively', 'staple', 'firstly', 'stanley', 'allison', 'kimberly', 'kisses', 'riveting', 'theo', 'robertson', 'adequately', 'volumes', 'existing', 'germany', 'lease', 'boats', 'allies', 'patton', 'clark', 'racing', 'monty', 'rome', 'bombing', 'auschwitz', 'wrap', 'egregious', 'cannibalism', 'experimentation', 'prisoners', 'dave', 'jarring', 'aliens', 'speedy', 'sock', 'puppet', 'cattle', 'spaceship', 'pompous', 'hillary', 'nu', 'masterwork', 'similarities', 'dimwit', 'promoting', 'harmony', 'silently', 'protest', 'mumbling', 'rochester', 'ny', 'feline', 'inexperienced', 'ameche', 'retriever', 'suspenseful', 'guaranteed', 'bubbling', 'slept', 'peril', 'sponge', 'divers', 'springs', 'lloyd', 'reruns', 'underwater', 'narrating', 'voting', 'convoluted', 'connect', 'subversive', 'futility', 'unnoticed', 'tripe', 'lingering', 'hendrix', 'pee', 'guitar', 'cameras', 'fools', 'operate', 'wander', 'keener', 'chicks', 'documenting', 'bleeding', 'wally', 'interspersed', 'tracks', 'protesting', 'berkeley', 'woodstock', 'phoned', 'myrna', 'loy', 'voyager', 'careful', 'casts', 'repugnant', 'inconceivable', 'packaged', 'gackt', 'sho', 'kei', 'grows', 'immortality', 'ripe', 'adolf', 'boothe', 'snare', 'minds', 'authors', 'contact', 'heinlein', 'terry', 'gilliam', 'conception', 'conclusions', 'regard', 'schizophrenic', 'wrenching', 'visited', 'manipulating', 'psychiatrist', 'railly', 'madeleine', 'stowe', 'airport', 'path', 'external', 'boggles', 'dwell', 'send', 'drunken', 'debacle', 'accurately', 'observes', 'arising', 'goines', 'distracting', 'coincidence', 'hitchhiker', 'galaxy', 'stimulation', 'chess', 'recreation', 'bernhard', 'spoofs', 'lounge', 'superstars', 'bravado', 'nicolas', 'roeg', 'served', 'chilly', 'signature', 'appalled', 'affects', 'lucci', 'concerning', 'del', 'replaces', 'entering', 'illegally', 'crucial', 'secrecy', 'flee', 'clock', 'uneasy', 'alliance', 'waterfront', 'employing', 'contrasting', 'ethical', 'blackout', 'outcome', 'warren', 'barbera', 'bel', 'tensions', 'impressively', 'mcdonald', 'slimy', 'reprehensible', 'walter', 'dominates', 'ample', 'allegorical', 'brando', 'lends', 'heightened', 'prophecy', 'studying', 'posts', 'facts', 'witnessing', 'tool', 'inducing', 'snails', 'snail', 'committee', 'nominees', 'inspirational', 'tangent', 'twins', 'successes', 'chocolat', 'spelling', 'hut', 'inch', 'flimsy', 'threw', 'exorcist', 'evp', 'feared', 'instill', 'degraded', 'kruger', 'stupidest', 'betty', 'grable', 'ravishing', 'irresistible', 'dashing', 'mariette', 'creaky', 'village', 'attributed', 'locals', 'frankenstein', 'compounded', 'atwill', 'niemann', 'advancement', 'arbitrary', 'herring', 'simpleton', 'herman', 'dwight', 'frye', 'torch', 'rampage', 'fay', 'wray', 'collaborations', 'tendency', 'stray', 'derivative', 'outlines', 'islanders', 'homeland', 'governments', 'anglo', 'perception', 'ocean', 'aerial', 'orbit', 'viable', 'option', 'removal', 'displaced', 'beset', 'substantially', 'damning', 'papers', 'suspects', 'appeals', 'exile', 'astonishing', 'nevertheless', 'concluded', 'rightful', 'satisfy', 'autistic', 'motives', 'chow', 'mash', 'weepy', 'topping', 'basketball', 'shaolin', 'monastery', 'manual', 'monk', 'teaches', 'assisted', 'monks', 'pretending', 'basket', 'sharply', 'defined', 'shadow', 'uma', 'thurman', 'underrated', 'nailed', 'lunatic', 'faris', 'ivan', 'virginia', 'niven', 'wodehouse', 'watered', 'goof', 'narrator', 'grodin', 'mcgavin', 'sweetness', 'neighbors', 'ralphie', 'bb', 'bully', 'resource', 'jewels', 'resources', 'progressed', 'tends', 'espionage', 'pickup', 'directions', 'humane', 'toby', 'mill', 'forwards', 'magazines', 'cricket', 'scripting', 'antics', 'splendidly', 'bosses', 'megan', 'transformers', 'hyperbole', 'sophie', 'myles', 'teresa', 'brit', 'contrasted', 'tabloid', 'lapses', 'soapy', 'bloopers', 'collective', 'gratification', 'acre', 'baddie', 'decaying', 'disappearance', 'larger', 'enigmatic', 'clues', 'resonates', 'watcher', 'interpret', 'subtleties', 'achilles', 'alexander', 'heel', 'mythology', 'neat', 'redone', 'simplistic', 'sixty', 'westerns', 'dastardly', 'minimalist', 'truck', 'shop', 'tavern', 'alongside', 'corrupted', 'woo', 'rises', 'knees', 'enemies', 'launcher', 'commandments', 'assumption', 'giovanni', 'decameron', 'medieval', 'peasant', 'diatribe', 'adventurous', 'ironies', 'assumptions', 'norwegian', 'norway', 'trusted', 'sexo', 'inject', 'freshness', 'listened', 'dared', 'newer', 'behaviour', 'trailers', 'pleaser', 'sexes', 'mocks', 'lonely', 'sleek', 'sophistication', 'elevates', 'foreboding', 'bootleg', 'amc', 'curtain', 'rogue', 'loner', 'marc', 'smacking', 'promoted', 'karl', 'malden', 'robust', 'commanding', 'rats', 'spits', 'rolls', 'bureau', 'matters', 'relies', 'syndicate', 'sworn', 'bogart', 'fodder', 'passionate', 'melodramatic', 'angelic', 'psychosis', 'destruction', 'frighteningly', 'nit', 'sterling', 'glaringly', 'dub', 'serving', 'ghetto', 'sonny', 'quarters', 'lifeless', 'snafu', 'shorts', 'risqu', 'strippers', 'preview', 'bigoted', 'canada', 'bursting', 'angie', 'rosanna', 'ubiquitous', 'bath', 'posing', 'midget', 'midgets', 'virgin', 'stitzer', 'carell', 'crass', 'heartfelt', 'curiosity', 'ferrell', 'anchorman', 'daily', 'electronics', 'signals', 'paints', 'belonged', 'pals', 'theirs', 'conceal', 'rudd', 'cal', 'seth', 'rogen', 'tattooed', 'sack', 'optimistic', 'trish', 'catherine', 'chagrin', 'worrying', 'judd', 'apatow', 'renowned', 'glowing', 'reception', 'combine', 'naivety', 'unlikable', 'jerks', 'tumultuous', 'bittersweet', 'chord', 'innuendo', 'offend', 'entries', 'pie', 'offering', 'trashes', 'hinted', 'shady', 'appreciates', 'sensibilities', 'boone', 'drivers', 'april', 'brennan', 'hint', 'burst', 'captures', 'stress', 'thereby', 'accomplishment', 'investment', 'ghastly', 'oedipal', 'lone', 'tonight', 'warnings', 'heder', 'chin', 'eli', 'wallach', 'lands', 'hooks', 'arty', 'remarkably', 'tennessee', 'fort', 'dictates', 'loudly', 'memoirs', 'determine', 'intention', 'unappealing', 'mumbles', 'noel', 'coward', 'fleeting', 'spelled', 'diluted', 'joanna', 'resourceful', 'dunn', 'blossomed', 'kissed', 'wilderness', 'greets', 'stab', 'slashes', 'camping', 'token', 'unexpectedly', 'arrive', 'disappearing', 'ralph', 'ghosts', 'papa', 'stir', 'grabbing', 'exclaims', 'splits', 'blindly', 'starving', 'panther', 'allergic', 'stabbed', 'erupts', 'shelter', 'disappear', 'unharmed', 'reunited', 'suspension', 'toad', 'ang', 'apology', 'unlikeable', 'easiest', 'mimic', 'banner', 'fought', 'poodle', 'concede', 'tanks', 'helicopters', 'heroics', 'interacting', 'cartoonish', 'muscle', 'programmers', 'emotionless', 'relentlessly', 'unconvincing', 'liv', 'tyler', 'connelly', 'blake', 'overacts', 'erase', 'norton', 'roth', 'liam', 'neeson', 'jessica', 'lange', 'scotland', 'essence', 'infatuation', 'manly', 'coastal', 'wiped', 'abigail', 'mitchell', 'testimony', 'irritates', 'embarrassing', 'realities', 'abby', 'squirm', 'wardrobe', 'payroll', 'absurdities', 'unfold', 'finnish', 'blond', 'swedish', 'scarlet', 'hara', 'hoop', 'skirt', 'sporting', 'hairdo', 'finland', 'mansfield', 'ears', 'geisha', 'polish', 'samurai', 'crowning', 'gail', 'barton', 'abducted', 'burke', 'virtue', 'threatened', 'traffic', 'traders', 'claimed', 'panning', 'tucker', 'ideals', 'luther', 'balls', 'ies', 'invasion', 'splash', 'nashville', 'honed', 'canon', 'flowing', 'comfort', 'cleansing', 'lillian', 'christianity', 'bathhouse', 'represent', 'joys', 'fetched', 'arguments', 'mentions', 'narrated', 'csi', 'flew', 'mckenzie', 'strip', 'bazza', 'interests', 'fosters', 'outings', 'tempting', 'wisely', 'sellers', 'notably', 'edna', 'dame', 'ernest', 'sydney', 'solicitor', 'inherit', 'absorb', 'tow', 'customs', 'duties', 'suitcase', 'tubes', 'crafty', 'taxi', 'bernard', 'landlord', 'milligan', 'meter', 'escapades', 'curry', 'schoolboy', 'charity', 'vomiting', 'centre', 'hosted', 'cans', 'flames', 'breaker', 'daisy', 'zest', 'urinating', 'percy', 'dick', 'presenter', 'premiere', 'blast', 'crocodile', 'aussie', 'unemployed', 'goofy', 'amused', 'cocky', 'wished', 'sullivan', 'admired', 'calm', 'heartily', 'paulie', 'bird', 'janitor', 'hop', 'mockumentary', 'overacting', 'subjected', 'momma', 'inherently', 'hysterically', 'angus', 'unofficial', 'colonel', 'northern', 'vincenzo', 'undetected', 'bombs', 'sands', 'seagal', 'unsuspecting', 'spared', 'collaboration', 'thunder', 'dudikoff', 'procedures', 'excitement', 'abruptly', 'consist', 'shoddy', 'romania', 'relentless', 'theatrics', 'pets', 'askey', 'murdoch', 'stalwart', 'histrionics', 'linden', 'travers', 'herbert', 'rail', 'bargained', 'ghostly', 'trains', 'repartee', 'fifth', 'nowadays', 'harmless', 'norman', 'jewison', 'chances', 'pays', 'broad', 'salon', 'angst', 'brooklyn', 'moonlight', 'romanticized', 'greek', 'subtly', 'blending', 'amicus', 'disappoints', 'rd', 'sweets', 'method', 'dominic', 'waxworks', 'cloak', 'duffell', 'bennett', 'vulnerable', 'rocked', 'stunningly', 'focused', 'ton', 'wolfe', 'morris', 'babysitter', 'heighten', 'doctors', 'heed', 'plea', 'dominant', 'pregnancy', 'sarcasm', 'recognizable', 'glenda', 'farrell', 'bottle', 'waits', 'macmahon', 'limitations', 'spout', 'scratch', 'fairness', 'katherine', 'eclipsed', 'brilliance', 'grudgingly', 'firefighters', 'id', 'attacks', 'vapid', 'earnest', 'fireman', 'recalls', 'colleagues', 'fragments', 'provoked', 'overwhelmingly', 'antoine', 'bitterly', 'compromised', 'alain', 'chabat', 'morvern', 'reader', 'construct', 'substitute', 'violated', 'nuisance', 'illusion', 'poking', 'inconsistencies', 'sections', 'tentative', 'implications', 'scots', 'irritation', 'deny', 'encountering', 'graceful', 'unconsciously', 'responses', 'exposing', 'illuminate', 'offscreen', 'morton', 'dramatized', 'amusement', 'distaste', 'brisk', 'genteel', 'melancholy', 'ought', 'icy', 'winter', 'dam', 'frozen', 'pub', 'precisely', 'refusal', 'poverty', 'widowed', 'swoon', 'sons', 'dads', 'solutions', 'airhead', 'latino', 'origin', 'ira', 'hoodlum', 'paired', 'rookie', 'homicide', 'gruff', 'imo', 'swayed', 'insightful', 'disservice', 'merle', 'oberon', 'barrister', 'logan', 'dense', 'guests', 'pretends', 'wuthering', 'heights', 'uptight', 'fuller', 'harlow', 'eyebrows', 'birthday', 'restoration', 'flooding', 'majesty', 'elvis', 'gusto', 'heartbreak', 'roaring', 'admirer', 'informs', 'invested', 'assist', 'outer', 'debatable', 'conquers', 'martians', 'lithgow', 'clause', 'sized', 'weir', 'flirting', 'arcane', 'aborigines', 'confronts', 'tightly', 'ordered', 'aborigine', 'aboriginal', 'normalcy', 'readily', 'framework', 'buckle', 'collide', 'awareness', 'picking', 'riddle', 'register', 'revelation', 'resonance', 'symbolism', 'suv', 'barrels', 'terrain', 'interior', 'tribal', 'reservation', 'destructive', 'sport', 'peralta', 'virtual', 'surfers', 'greg', 'rode', 'maverick', 'centerpiece', 'laird', 'messiah', 'adopted', 'stripped', 'syrupy', 'trails', 'brutality', 'elisha', 'cuthbert', 'fourteen', 'communicate', 'elevator', 'hottest', 'gong', 'snapshot', 'prominent', 'murderers', 'peach', 'oldest', 'blamed', 'danish', 'sonja', 'surrounding', 'suicidal', 'wheelchair', 'muted', 'frits', 'respond', 'whimsical', 'imposed', 'clausen', 'ponderous', 'businessman', 'promises', 'coffin', 'terrified', 'plastic', 'skulls', 'grader', 'composer', 'offed', 'eighteen', 'sitter', 'tomatoes', 'enjoying', 'los', 'angeles', 'applause', 'checked', 'cg', 'sorrows', 'cheezy', 'dolph', 'detention', 'grindhouse', 'punks', 'glow', 'gods', 'wrought', 'overrated', 'melange', 'merits', 'streetcar', 'abbott', 'costello', 'arthouse', 'claptrap', 'winners', 'raves', 'anticlimactic', 'guiness', 'inventing', 'fabric', 'wrinkle', 'prospect', 'setup', 'tax', 'intertwined', 'reno', 'footed', 'supporters', 'pedro', 'dentist', 'root', 'canal', 'sail', 'centered', 'alex', 'shrieking', 'hysterics', 'crashes', 'funeral', 'progressively', 'clara', 'controlled', 'nest', 'comprehensive', 'overwhelming', 'appreciation', 'counts', 'excepting', 'motivated', 'prequel', 'unneeded', 'manipulation', 'mocking', 'communism', 'comparable', 'competitors', 'absurdly', 'charging', 'fellas', 'iraq', 'haha', 'lied', 'unleashed', 'exposed', 'tate', 'donovan', 'depiction', 'anguish', 'accommodate', 'exhausting', 'madsen', 'lynne', 'dash', 'alley', 'buzz', 'sniper', 'bagdad', 'hardened', 'daredevil', 'iraqi', 'shaken', 'jacket', 'platoon', 'longing', 'sweetest', 'diamonds', 'whisper', 'whip', 'cringed', 'smarmy', 'salacious', 'remote', 'click', 'readers', 'clicked', 'forlorn', 'torment', 'succumbed', 'sacred', 'throne', 'cognac', 'conflicts', 'parsons', 'chicago', 'proclaimed', 'boyfriends', 'spouse', 'lance', 'smiling', 'juan', 'cohorts', 'delight', 'lester', 'valentine', 'outlandish', 'rant', 'damon', 'narrate', 'patriotic', 'instruments', 'refuse', 'lunch', 'wisecracks', 'judgement', 'ruthlessness', 'suburban', 'jersey', 'subtext', 'humdrum', 'criminals', 'weigh', 'screenplays', 'landscapes', 'victoria', 'bettany', 'broadbent', 'economic', 'monarch', 'evokes', 'screenwriter', 'julian', 'fellowes', 'federal', 'hoover', 'founding', 'hardesty', 'graduated', 'practice', 'twenties', 'administration', 'appointed', 'enforcement', 'competence', 'arresting', 'prologue', 'airline', 'insurance', 'creeps', 'perpetrator', 'fondness', 'murray', 'equivalent', 'oates', 'valerie', 'conspicuous', 'consumption', 'trafficking', 'finance', 'materialism', 'conscience', 'partners', 'rewrites', 'restore', 'nihilistic', 'prominently', 'abandons', 'gunpoint', 'hopping', 'banks', 'rio', 'disposed', 'clumsily', 'underwhelming', 'borderline', 'goldsworthy', 'taoist', 'ephemeral', 'fundamentally', 'outdoors', 'sand', 'mud', 'extend', 'weary', 'utmost', 'gratitude', 'eustache', 'whore', 'hur', 'alexandre', 'pierre', 'leaud', 'bernadette', 'veronika', 'fran', 'torrid', 'inhibitions', 'ing', 'refer', 'dread', 'stimulating', 'intellect', 'pretentiousness', 'covering', 'sunrise', 'sunset', 'talky', 'revels', 'trivial', 'nouvelle', 'beforehand', 'scathing', 'faking', 'naturalistic', 'staggeringly', 'dip', 'contemplation', 'agony', 'jarmusch', 'lifted', 'parisian', 'tracking', 'lucid', 'dribble', 'aiming', 'nc', 'historically', 'fiennes', 'schindler', 'amazes', 'desk', 'slapping', 'hack', 'dig', 'nazis', 'genetic', 'cassel', 'dozed', 'lock', 'lips', 'bradford', 'wincott', 'brigitte', 'hues', 'macho', 'creatures', 'eliminate', 'sexist', 'albeit', 'voted', 'enthusiasts', 'melodramas', 'imaginable', 'blandly', 'wei', 'zhang', 'wealthy', 'li', 'kite', 'intolerable', 'risks', 'purposely', 'glamor', 'torments', 'europa', 'exercise', 'knox', 'thankless', 'cope', 'kindly', 'improve', 'sufficiently', 'midway', 'distraught', 'downhill', 'terminal', 'illness', 'needing', 'pit', 'rossellini', 'humphrey', 'suspended', 'dodge', 'errol', 'flynn', 'hale', 'mc', 'miriam', 'bogie', 'tougher', 'mighty', 'terminator', 'rambo', 'lethal', 'invincible', 'choreographed', 'marvel', 'resounding', 'blob', 'pa', 'mismatched', 'ultra', 'excrement', 'meteorite', 'excellently', 'blanket', 'consumed', 'inflated', 'cooperate', 'lamb', 'conversations', 'negotiate', 'liz', 'debts', 'peaceful', 'dealings', 'sharks', 'firm', 'believer', 'knives', 'explosives', 'cocktails', 'pops', 'fond', 'masochistic', 'endearing', 'ariel', 'melody', 'morgana', 'triton', 'trident', 'gaping', 'wuss', 'clashing', 'backgrounds', 'bite', 'unbearably', 'dept', 'lacked', 'lightness', 'scandal', 'ellen', 'banana', 'droll', 'whimsy', 'cesar', 'essayed', 'adolph', 'adore', 'aiello', 'headstrong', 'letter', 'olympia', 'dukakis', 'delusion', 'quit', 'wisconsin', 'minnesota', 'engagement', 'colleague', 'jumping', 'arrival', 'companies', 'tourist', 'contests', 'rebuild', 'granger', 'violently', 'paget', 'nolan', 'skinner', 'russ', 'tamblyn', 'constance', 'technicolor', 'distant', 'prairie', 'noble', 'outdoor', 'myths', 'freezes', 'scaring', 'mum', 'woken', 'tearful', 'ramblings', 'eleven', 'immune', 'thrilled', 'evacuated', 'unspoken', 'management', 'sites', 'touched', 'uttered', 'thaw', 'copies', 'hauser', 'successor', 'grips', 'bordering', 'factions', 'compete', 'affect', 'citizens', 'sauce', 'tiniest', 'marisa', 'tomei', 'slumming', 'hilary', 'duff', 'whines', 'wigs', 'shivers', 'pasolini', 'echoes', 'fassbinder', 'conventions', 'civilized', 'deserted', 'hotels', 'castles', 'defence', 'mechanism', 'functioning', 'violation', 'seidl', 'repetitious', 'aggression', 'intimacy', 'repetition', 'werner', 'domination', 'ownership', 'tactic', 'mechanisms', 'proximity', 'responsibility', 'replied', 'immoral', 'gielgud', 'linda', 'parasite', 'verdict', 'bulk', 'magnolia', 'mystified', 'acclaimed', 'calibre', 'confessed', 'unengaging', 'meandering', 'crying', 'empathise', 'demonstrating', 'intricate', 'soliloquy', 'yadda', 'marrow', 'poked', 'ribs', 'nanny', 'goat', 'raja', 'babu', 'servant', 'motorcycle', 'emulate', 'shakti', 'kapoor', 'govinda', 'hoon', 'khan', 'precedes', 'steaming', 'crud', 'vent', 'spleen', 'gathering', 'saura', 'iberia', 'milestone', 'honor', 'riches', 'tango', 'flamenco', 'potent', 'pales', 'interpretations', 'isaac', 'suite', 'composers', 'imaginative', 'synthesis', 'indy', 'traveled', 'regional', 'tamed', 'jewish', 'portugal', 'arrogance', 'panache', 'emphasized', 'pretense', 'screens', 'flats', 'collaborators', 'beginnings', 'marked', 'shuffling', 'bend', 'participant', 'indicate', 'pianist', 'contribution', 'raucous', 'stomping', 'bandits', 'miike', 'esquire', 'therein', 'ambiguous', 'metaphor', 'folly', 'imaginatively', 'yokai', 'lore', 'creatively', 'puppetry', 'multi', 'rad', 'sketch', 'inconsequential', 'sofia', 'coppola', 'enlightened', 'paz', 'vega', 'freed', 'specialty', 'comparatively', 'grocery', 'carson', 'bargain', 'staff', 'fascination', 'embittered', 'relegated', 'unsung', 'efficiency', 'construction', 'penelope', 'cruz', 'redeemable', 'vulnerability', 'service', 'silberling', 'craftsmanship', 'payne', 'sideways', 'cannavale', 'devito', 'perlman', 'jonah', 'knight', 'marathon', 'snippets', 'worldwide', 'crockett', 'craze', 'wcw', 'mgm', 'recap', 'officially', 'mcmahon', 'wwf', 'archive', 'headquarters', 'connecticut', 'hokey', 'knocks', 'crutch', 'bakshi', 'rotoscoping', 'frazetta', 'taught', 'animators', 'sorcery', 'insomniac', 'tess', 'budgets', 'pecker', 'emerged', 'lite', 'polyester', 'hairspray', 'exhibited', 'furlong', 'histrionic', 'cybill', 'shepherd', 'corinne', 'neal', 'nondescript', 'miranda', 'stuart', 'melts', 'dreamy', 'deja', 'vu', 'symbols', 'plainly', 'organization', 'nobility', 'individuals', 'macgregor', 'clan', 'nobleman', 'montrose', 'borrow', 'cronies', 'penniless', 'disgustingly', 'effeminate', 'resolve', 'attributes', 'deviant', 'amoral', 'hound', 'cigarettes', 'wanna', 'analyzing', 'respectable', 'constraints', 'goers', 'habit', 'doses', 'bastard', 'mumbai', 'diction', 'earn', 'caper', 'vijay', 'considerations', 'mile', 'loyal', 'gal', 'icon', 'levin', 'outline', 'reeve', 'occur', 'dyan', 'cannon', 'irene', 'irritate', 'sleepaway', 'aka', 'hostess', 'nbc', 'busty', 'musically', 'eclectic', 'selections', 'etcetera', 'sadness', 'intelligently', 'harmed', 'registered', 'monitor', 'leap', 'jesse', 'callous', 'hilariously', 'subway', 'breakers', 'forgive', 'forwarding', 'haver', 'faulty', 'gathered', 'illustrations', 'printed', 'updates', 'updated', 'chic', 'illustrated', 'updating', 'update', 'fleming', 'maintained', 'retaining', 'flavour', 'erm', 'prim', 'discarded', 'whisked', 'dahlia', 'straightforward', 'corky', 'activities', 'generate', 'rekindle', 'streaming', 'lizzie', 'maguire', 'sp', 'babysitting', 'indictment', 'talentless', 'debate', 'dodgy', 'devices', 'libbed', 'seinfeld', 'rang', 'gross', 'jackass', 'stupidity', 'grossed', 'approved', 'reeks', 'tasteless', 'preparation', 'chuckles', 'grasped', 'badass', 'cue', 'accomplish', 'sammy', 'lest', 'passenger', 'ingredient', 'yay', 'pesky', 'bites', 'increasingly', 'ft', 'shoots', 'swoop', 'prayed', 'ingenuity', 'bout', 'necrophilia', 'exclamation', 'bonding', 'posted', 'samuel', 'bags', 'slows', 'crawl', 'wordless', 'cub', 'installment', 'misadventures', 'offbeat', 'scratching', 'romy', 'schneider', 'buggy', 'austrian', 'balcony', 'greet', 'inn', 'kentucky', 'adrian', 'correction', 'deathtrap', 'orchestrated', 'bruhl', 'doorstep', 'detestable', 'insistent', 'snippet', 'kidnap', 'margret', 'understatement', 'blackmailed', 'scumbags', 'fling', 'mercy', 'sweating', 'peep', 'models', 'brooding', 'sociopath', 'realizing', 'creep', 'travolta', 'marrying', 'yum', 'finger', 'pizza', 'button', 'woodland', 'winters', 'leopold', 'carey', 'lucien', 'contribute', 'mightily', 'lolita', 'harrington', 'oddball', 'weaver', 'agnes', 'evangelist', 'welles', 'starr', 'greta', 'garbo', 'illustrious', 'ernst', 'lubitsch', 'ideally', 'austere', 'melvyn', 'karin', 'borg', 'smitten', 'inadvertently', 'twin', 'fidelity', 'camille', 'unflattering', 'carole', 'lombard', 'mischief', 'shenanigans', 'wartime', 'favored', 'bogus', 'teased', 'cliffs', 'bono', 'curio', 'reportedly', 'downloading', 'inexperience', 'detour', 'photographs', 'inbred', 'fend', 'captors', 'friendships', 'strife', 'katie', 'wed', 'addictive', 'imagery', 'relaxing', 'commentators', 'attend', 'lectures', 'medium', 'expertly', 'transcends', 'roots', 'rapport', 'silverstein', 'shrink', 'smuggling', 'conspiracy', 'psychiatric', 'separates', 'terence', 'damian', 'coda', 'denominator', 'mindlessly', 'hijack', 'boost', 'expertise', 'zulu', 'darryl', 'lightweight', 'colleen', 'deol', 'pakistan', 'brokedown', 'palace', 'jonathan', 'darlene', 'hawaii', 'bangkok', 'thailand', 'ticket', 'economy', 'sentenced', 'verses', 'sarah', 'marginal', 'launching', 'excel', 'predicting', 'challenging', 'dumbest', 'math', 'hats', 'reid', 'thewlis', 'michell', 'notting', 'macmurray', 'rubs', 'lamp', 'genie', 'fantasies', 'marching', 'june', 'spy', 'jammed', 'virtues', 'wine', 'rhine', 'yellow', 'goose', 'characterizations', 'columbus', 'isabella', 'queens', 'smoke', 'graduates', 'abbey', 'rivers', 'dalton', 'sacrifices', 'auditioning', 'respite', 'gandhi', 'audition', 'environments', 'imaginations', 'indifference', 'extends', 'pretended', 'twelve', 'smashing', 'adolescence', 'injury', 'pathos', 'transferring', 'prejudice', 'scales', 'bates', 'horus', 'meanings', 'requiem', 'walsh', 'hyper', 'boringly', 'saturated', 'decadent', 'tiresome', 'agents', 'romanticism', 'coincidences', 'jerker', 'distinguished', 'seldom', 'comprehensible', 'existential', 'habits', 'unimpressive', 'pioneering', 'marlene', 'dietrich', 'allah', 'synonymous', 'biopic', 'trickery', 'biopics', 'scorsese', 'bettie', 'gretchen', 'mol', 'chops', 'pin', 'tastefully', 'harron', 'abrupt', 'nominations', 'deserving', 'moaning', 'overwrought', 'promisingly', 'youngster', 'compassion', 'needy', 'downtrodden', 'locks', 'troubles', 'hilt', 'echoing', 'arc', 'marxist', 'soaked', 'stepped', 'embraced', 'mystical', 'toronto', 'zu', 'tsui', 'hark', 'productions', 'holland', 'returns', 'picky', 'puppies', 'ominous', 'transvestite', 'frighten', 'spotty', 'beware', 'wicker', 'thinly', 'agape', 'befuddled', 'hatred', 'complaining', 'groups', 'floors', 'glitter', 'werewolf', 'unsurpassed', 'scandalous', 'temporarily', 'enhance', 'popularity', 'anastasia', 'abandoning', 'francois', 'lighthearted', 'colours', 'absorbed', 'principles', 'convictions', 'persuaded', 'tat', 'knowingly', 'exploiting', 'delusions', 'legitimately', 'henri', 'ignores', 'moderate', 'expose', 'ne', 'jacques', 'marx', 'relaxed', 'stink', 'kubrick', 'enormously', 'layered', 'salem', 'tobe', 'hooper', 'stature', 'accomplishments', 'notwithstanding', 'scatman', 'crothers', 'halloran', 'lamest', 'narratives', 'internally', 'luzhin', 'charts', 'watson', 'wealth', 'pageant', 'natalia', 'learnt', 'encourages', 'enables', 'inspires', 'fulfillment', 'photogenic', 'emotive', 'collected', 'www', 'evelyn', 'aristocrats', 'amiable', 'waterman', 'moniker', 'snobs', 'probing', 'hebrew', 'persuasion', 'converted', 'scarlett', 'johansson', 'sondra', 'strombel', 'mcshane', 'lyman', 'aristocratic', 'jackman', 'tarot', 'cream', 'moreover', 'ambitious', 'morphed', 'protests', 'captivated', 'drown', 'jade', 'tricks', 'amuses', 'spewing', 'maintaining', 'desirable', 'artificial', 'tainted', 'homicidal', 'maniac', 'wolverine', 'aristocrat', 'slapdash', 'meal', 'deliciously', 'escapist', 'bombastic', 'preceded', 'verbally', 'decoy', 'trashing', 'phoenix', 'regards', 'overblown', 'foolish', 'backdrops', 'rotoscoped', 'rousing', 'darkwolf', 'bra', 'panties', 'savage', 'afore', 'transported', 'barbarian', 'owned', 'traced', 'blended', 'featurettes', 'ekin', 'cheng', 'grinning', 'idiotically', 'coin', 'lau', 'ransom', 'shopping', 'ya', 'belushi', 'pinnacle', 'identifiable', 'carrere', 'fraud', 'transsexual', 'savant', 'lassalle', 'mysteriously', 'diary', 'occupied', 'formulas', 'shadowy', 'valette', 'chou', 'headmaster', 'employ', 'nefarious', 'avenue', 'soccer', 'chu', 'ping', 'assistants', 'revolves', 'assuming', 'ching', 'siu', 'acquired', 'discovering', 'despicable', 'smack', 'arrogant', 'gibson', 'shrek', 'bug', 'iq', 'kells', 'exquisite', 'stylistically', 'panda', 'layout', 'richness', 'feast', 'senses', 'lavish', 'celtic', 'pencil', 'brush', 'nora', 'saloon', 'crews', 'recommending', 'spreading', 'accolades', 'annie', 'stahl', 'benson', 'buffy', 'someday', 'jungles', 'ceylon', 'plantation', 'foreman', 'finch', 'elephant', 'contention', 'elephants', 'reclaim', 'blocked', 'audiard', 'emmanuelle', 'devos', 'dowdy', 'manipulate', 'heist', 'steamy', 'uncut', 'camper', 'kit', 'disc', 'containing', 'smiley', 'egan', 'magnus', 'pym', 'devious', 'machinery', 'narrow', 'mi', 'faked', 'mcanally', 'bail', 'overdoes', 'spies', 'das', 'lads', 'cynic', 'sorrow', 'ducktales', 'dewey', 'louie', 'scrooge', 'repetitive', 'slapstick', 'scarecrow', 'maggots', 'intestines', 'wont', 'anytime', 'gallery', 'restores', 'goody', 'follower', 'philosopher', 'urges', 'claw', 'eliminated', 'seduction', 'trotta', 'riemann', 'impressing', 'cells', 'nitpick', 'embracing', 'timon', 'pumbaa', 'simba', 'margin', 'sore', 'ballad', 'ernie', 'kavner', 'safari', 'perspectives', 'yahoo', 'eagle', 'wimpy', 'shirt', 'armand', 'louque', 'jagger', 'researchers', 'fetching', 'clifford', 'grayson', 'furious', 'starters', 'halperin', 'hideously', 'cleveland', 'hearty', 'feeble', 'crummy', 'starkly', 'staring', 'numbing', 'chavez', 'lick', 'argentinian', 'repressed', 'teenagers', 'fringe', 'interludes', 'attachment', 'investigations', 'characteristic', 'hitokiri', 'hideo', 'gosha', 'shintaro', 'katsu', 'goyokin', 'rebellion', 'okada', 'izo', 'punishment', 'prime', 'bedtime', 'gwen', 'concentrate', 'haggard', 'ballroom', 'guttenberg', 'fountain', 'brimley', 'vernon', 'cancel', 'hotter', 'obscure', 'caller', 'noon', 'pete', 'versa', 'hoax', 'foundation', 'measly', 'experimental', 'criteria', 'cosby', 'spews', 'alleged', 'whodunit', 'circles', 'oblivion', 'eraserhead', 'leone', 'lara', 'boyle', 'beauties', 'prettier', 'medal', 'relied', 'fanatical', 'scrutiny', 'darling', 'http', 'nepotism', 'revolutionary', 'lan', 'consecutive', 'appreciative', 'dichotomy', 'upward', 'misogyny', 'starvation', 'exploited', 'refugees', 'riots', 'executions', 'adultery', 'incest', 'plagues', 'proportions', 'parting', 'soup', 'angrily', 'tyne', 'daly', 'kim', 'malone', 'cows', 'butchered', 'graphically', 'slaughterhouse', 'butcher', 'masochist', 'traumatic', 'nuns', 'empathize', 'automobile', 'mountains', 'encompassing', 'pitfalls', 'solitary', 'introverted', 'dric', 'warms', 'holidays', 'cheats', 'survives', 'implied', 'passions', 'counterpoint', 'temporal', 'reconstruction', 'capacity', 'limp', 'incredulous', 'communicating', 'presque', 'une', 'heels', 'rebels', 'marin', 'landau', 'masquerading', 'mayor', 'savalas', 'grieving', 'stella', 'invaded', 'executing', 'townsfolk', 'rey', 'regretted', 'dreaded', 'whomever', 'handy', 'villa', 'listed', 'blackmails', 'privileged', 'disposal', 'grapple', 'household', 'grounds', 'funds', 'injuries', 'irrational', 'hussey', 'plumbing', 'depths', 'saddest', 'amrita', 'leanings', 'nationalist', 'objective', 'casualty', 'hindu', 'psyche', 'kidnappers', 'fields', 'partition', 'owners', 'documented', 'pains', 'supports', 'shoestring', 'lowe', 'sincere', 'dan', 'columnist', 'hallmark', 'mannered', 'unfolded', 'rooms', 'spoilt', 'societies', 'paragraph', 'pickford', 'germans', 'patriot', 'fated', 'luxury', 'sinking', 'depravity', 'firing', 'jurassic', 'gullible', 'punish', 'ancestry', 'sided', 'advent', 'historians', 'hobgoblins', 'surpassed', 'teaser', 'yourselves', 'sanity', 'cheer', 'insistence', 'rodriguez', 'manos', 'politics', 'barred', 'satya', 'om', 'puri', 'inspector', 'rama', 'shetty', 'meaty', 'confronting', 'masculinity', 'categories', 'von', 'schell', 'minimalistic', 'copied', 'poke', 'untalented', 'niro', 'dallas', 'superstar', 'simone', 'warhol', 'sylvester', 'access', 'mobile', 'sprayed', 'thorn', 'legion', 'demolition', 'kerry', 'erich', 'champ', 'row', 'foreshadowing', 'singles', 'clinic', 'feud', 'dusty', 'rhodes', 'longest', 'repeat', 'dominated', 'wrestler', 'tito', 'santana', 'boris', 'tanaka', 'bushwhackers', 'lds', 'prophet', 'insignificant', 'owns', 'apologize', 'disdain', 'thankful', 'tier', 'culprit', 'thrills', 'crazier', 'sillier', 'levy', 'kansas', 'mcguire', 'fido', 'immersed', 'eisenhower', 'deco', 'furniture', 'vastly', 'natives', 'consistent', 'understated', 'framing', 'transparent', 'sliced', 'bread', 'fundamentalist', 'paltry', 'pump', 'advertising', 'audacity', 'suckered', 'mindset', 'simultaneously', 'vanish', 'insisting', 'boiling', 'clouds', 'angels', 'descending', 'realization', 'inhabit', 'decently', 'covert', 'remade', 'mainland', 'investigated', 'pagan', 'cleanse', 'landed', 'consequence', 'electronic', 'phenomena', 'occurrences', 'rushes', 'happenstance', 'sox', 'elicit', 'gasoline', 'mutt', 'howling', 'campbell', 'invent', 'vacant', 'courtney', 'thorne', 'frying', 'alternately', 'improves', 'flavor', 'doc', 'trace', 'implicit', 'adrenaline', 'repeating', 'gage', 'pins', 'package', 'benny', 'lorne', 'pov', 'typecast', 'broadcasting', 'pow', 'communists', 'suppress', 'distracts', 'drawer', 'boxes', 'berate', 'mercilessly', 'plethora', 'tits', 'displeasure', 'saps', 'hodder', 'destined', 'protector', 'pondering', 'tested', 'perceived', 'combining', 'scam', 'curve', 'sped', 'railway', 'columbia', 'programmes', 'zoo', 'owl', 'subconscious', 'monaghan', 'entertains', 'hickcock', 'cracking', 'gabby', 'hayes', 'scout', 'quinn', 'wipe', 'sneak', 'noticing', 'aimlessly', 'mock', 'commonplace', 'planned', 'cyborgs', 'cyborg', 'pleads', 'foray', 'threadbare', 'overstated', 'banter', 'swallowed', 'cliffhanger', 'kris', 'kristofferson', 'steely', 'mugging', 'sh', 'writes', 'refuge', 'grandfather', 'captivate', 'offender', 'transylvania', 'trevor', 'griffith', 'intolerance', 'anachronisms', 'turtle', 'wee', 'gee', 'wrist', 'helmet', 'tire', 'golf', 'clubs', 'carved', 'chuckling', 'shaving', 'equipment', 'gazes', 'plate', 'crab', 'litter', 'kino', 'deterioration', 'metro', 'flute', 'borrows', 'cavemen', 'geico', 'caveman', 'sperm', 'reproduction', 'antony', 'lanza', 'caruso', 'kirsten', 'franz', 'fictionalized', 'blanche', 'license', 'repertoire', 'sheet', 'laundry', 'recorded', 'earthquake', 'martha', 'valentino', 'indicated', 'othello', 'griffin', 'dunne', 'henner', 'piscopo', 'mobster', 'mouthed', 'organ', 'crooked', 'burr', 'dimitri', 'gems', 'dukes', 'roscoe', 'hogg', 'barney', 'slowing', 'dedlock', 'jarndyce', 'dickens', 'toole', 'susannah', 'overact', 'items', 'lukas', 'boxing', 'arena', 'contest', 'chatter', 'happenings', 'radios', 'mchugh', 'menu', 'bronte', 'possesses', 'masculine', 'poignantly', 'hinds', 'snarling', 'beast', 'zelah', 'clarke', 'unemotional', 'demure', 'temper', 'docile', 'endures', 'gypsy', 'teasing', 'eyre', 'feminists', 'independently', 'lately', 'hulce', 'dominick', 'liotta', 'expresses', 'openly', 'strangely', 'pittsburgh', 'thrust', 'dazzling', 'array', 'vampyres', 'ratio', 'isolated', 'inhabited', 'marianne', 'hosts', 'frenzied', 'cycle', 'initiated', 'rollin', 'carmilla', 'larraz', 'shocker', 'tolerate', 'pretext', 'bloodshed', 'languid', 'impulses', 'picturesque', 'autumn', 'whirlwind', 'impending', 'symptoms', 'pretensions', 'wafer', 'divide', 'outset', 'stud', 'item', 'canadians', 'boo', 'muttering', 'sheets', 'rites', 'codes', 'conduct', 'python', 'adrienne', 'marvelously', 'humanistic', 'sheedy', 'reg', 'rodgers', 'zadora', 'penis', 'sugary', 'revolving', 'sibling', 'protective', 'tackle', 'avoided', 'sensitively', 'remembers', 'cate', 'vinci', 'puerile', 'advert', 'descendants', 'templar', 'ripper', 'treasure', 'comeback', 'focusing', 'yours', 'randy', 'screwing', 'divert', 'arkin', 'achieves', 'herzog', 'rumored', 'eternity', 'unsentimental', 'bio', 'adept', 'flounder', 'alicia', 'silverstone', 'handles', 'shakespearean', 'aloud', 'dames', 'mortimer', 'witless', 'delinquent', 'avenger', 'troma', 'carlo', 'thou', 'il', 'summarized', 'snob', 'scorned', 'rebellious', 'noodle', 'nearing', 'completion', 'chimney', 'sweeps', 'roof', 'attic', 'extension', 'greenhouse', 'bricks', 'ash', 'shovel', 'replies', 'bashed', 'finishes', 'duckling', 'egg', 'proposes', 'ape', 'faults', 'frankie', 'annette', 'coaching', 'baseball', 'sweetin', 'israel', 'fluent', 'taboos', 'israeli', 'realms', 'climaxes', 'fessenden', 'categorize', 'ambiguity', 'dandy', 'liver', 'wendigo', 'shooter', 'unsatisfied', 'triads', 'rituals', 'johnnie', 'contrasts', 'arrondissement', 'margo', 'denver', 'loin', 'du', 'ana', 'catalina', 'moreno', 'quartier', 'latin', 'gena', 'rowlands', 'mimes', 'barcelona', 'sloppily', 'rumors', 'technological', 'foxx', 'epps', 'wednesday', 'nightmares', 'detailed', 'chore', 'diving', 'consummate', 'qi', 'chi', 'cheung', 'orphanage', 'coupled', 'shone', 'lin', 'unnatural', 'elementary', 'cooks', 'babes', 'bank', 'cloying', 'celebration', 'virulent', 'gangsta', 'default', 'strapped', 'discrimination', 'prop', 'lapd', 'liberals', 'pinkett', 'indulgence', 'shaft', 'races', 'carl', 'brashear', 'overtly', 'deniro', 'risen', 'gooding', 'offerings', 'witches', 'charmed', 'scariness', 'plotted', 'vivian', 'flaming', 'mick', 'haters', 'sleepwalkers', 'ck', 'mayhem', 'virginal', 'sights', 'charmer', 'krause', 'ripped', 'lures', 'virgins', 'hungry', 'mama', 'amick', 'clovis', 'retrieve', 'displaying', 'ulterior', 'welcomed', 'stabs', 'unconscious', 'tosses', 'impromptu', 'invisibility', 'clive', 'barker', 'forensics', 'dante', 'landis', 'photograph', 'experts', 'deranged', 'incestuous', 'demented', 'overdrive', 'cousins', 'preferring', 'rabbit', 'delightfully', 'crow', 'servo', 'firmly', 'confirmed', 'embroiled', 'vitality', 'pickpocket', 'wallet', 'peters', 'kiley', 'organisation', 'microfilm', 'theft', 'tail', 'stoolie', 'charges', 'flippant', 'denies', 'orders', 'address', 'questioned', 'payment', 'recover', 'attracted', 'evolves', 'attentions', 'resolving', 'dependent', 'cunning', 'exclusive', 'whereabouts', 'valued', 'swings', 'buyer', 'phallic', 'comatose', 'pia', 'argument', 'peers', 'fortunate', 'obligated', 'lipstick', 'showgirls', 'dearest', 'discussed', 'disgust', 'rangers', 'costumed', 'spandex', 'famously', 'tearjerker', 'institute', 'titled', 'inconvenient', 'org', 'ufo', 'gerald', 'jfk', 'jules', 'verne', 'tacked', 'overseas', 'contractual', 'rusty', 'mason', 'fellows', 'bryan', 'ferry', 'lynda', 'motel', 'jeep', 'canine', 'premises', 'unhappily', 'atlantis', 'dictator', 'janet', 'raid', 'clones', 'wanda', 'predictably', 'superficial', 'shambles', 'homer', 'squares', 'enhanced', 'climber', 'nerve', 'massively', 'income', 'corbett', 'beaver', 'session', 'trent', 'cameraman', 'makings', 'spotlight', 'avery', 'spook', 'vacuum', 'awakened', 'longoria', 'latina', 'juarez', 'festivals', 'snitch', 'nap', 'boxer', 'raoul', 'alexis', 'frawley', 'egotistical', 'sponsored', 'olympic', 'irishman', 'deposit', 'olive', 'innovation', 'fleet', 'avoids', 'opponents', 'assassins', 'geniuses', 'unnecessary', 'kittens', 'bombshell', 'tooth', 'wizard', 'melting', 'kiddies', 'conveniently', 'aura', 'alligator', 'sergio', 'martino', 'tracing', 'jaws', 'reptile', 'giggling', 'sour', 'patronizing', 'reliance', 'rapidly', 'stunned', 'dreyfuss', 'cabinet', 'researching', 'leadership', 'regrettable', 'enlighten', 'inform', 'namely', 'bumped', 'fencing', 'sofa', 'skits', 'skeptical', 'omega', 'hostile', 'darren', 'chiles', 'bauer', 'pixar', 'antiquated', 'toy', 'sewer', 'frog', 'ninety', 'demonic', 'exorcism', 'naschy', 'giallo', 'gloves', 'fills', 'ingmar', 'marilyn', 'boreanaz', 'heigl', 'pistols', 'ennio', 'morricone', 'mishmash', 'wtf', 'quentin', 'tarantino', 'villian', 'sob', 'aftermath', 'dane', 'surge', 'fuel', 'erik', 'knack', 'slob', 'redeems', 'chicken', 'motivation', 'resorts', 'purportedly', 'ren', 'heralded', 'deceive', 'oneself', 'aryan', 'chawla', 'singh', 'targeted', 'joanne', 'noonan', 'grenades', 'politicians', 'awfulness', 'newmar', 'brightness', 'nigh', 'mesmerized', 'styling', 'gundam', 'satiric', 'wrongs', 'mellow', 'continuing', 'belly', 'ache', 'counselor', 'seed', 'cobbled', 'lian', 'gwizdo', 'farting', 'services', 'zoe', 'hires', 'eater', 'tags', 'radar', 'contender', 'whitaker', 'aviation', 'mph', 'chopper', 'compound', 'airwolf', 'knightly', 'mccallum', 'maudlin', 'stupidly', 'pleasures', 'hasselhoff', 'rider', 'tobias', 'demographic', 'kingdom', 'discount', 'sfx', 'accuracy', 'sexier', 'psychic', 'serviceable', 'glaring', 'detract', 'wholly', 'captive', 'isabel', 'allende', 'lyrical', 'lumbering', 'scandinavian', 'resigned', 'permitted', 'products', 'circa', 'fried', 'dictatorship', 'miramax', 'torturing', 'hammered', 'dubious', 'marina', 'capably', 'lobby', 'coast', 'chinatown', 'framed', 'intro', 'groovy', 'jerk', 'ps', 'quoting', 'sinatra', 'puppets', 'doug', 'warrant', 'rendition', 'def', 'slams', 'snap', 'wire', 'undeniable', 'wilde', 'manners', 'wrecked', 'sanders', 'crain', 'reduce', 'hays', 'insisted', 'inflation', 'gear', 'pinjar', 'lingered', 'prejudices', 'whiskey', 'vinnie', 'ferrari', 'joking', 'premature', 'glossy', 'veneer', 'inherent', 'angelina', 'jolie', 'macy', 'hank', 'azaria', 'villians', 'tossing', 'dreamed', 'corporate', 'kinnear', 'casanova', 'warp', 'reflection', 'recruiting', 'bowler', 'janeane', 'mystic', 'bowling', 'reubens', 'underused', 'sphinx', 'spouting', 'pigeon', 'endlessly', 'decorated', 'reflective', 'superheroes', 'idiots', 'garofalo', 'eternally', 'mixes', 'justified', 'disguise', 'label', 'forlani', 'pivotal', 'inventor', 'nursing', 'toting', 'choppy', 'comics', 'tissues', 'blossoms', 'prank', 'warranted', 'rajni', 'patric', 'johny', 'depp', 'ninth', 'petite', 'quits', 'perky', 'bonanza', 'beleaguered', 'undermining', 'digger', 'lucile', 'gft', 'sheffer', 'athens', 'ga', 'longtime', 'muscular', 'collecting', 'sweeney', 'stifler', 'pledge', 'dudes', 'pies', 'revolt', 'loathe', 'dipping', 'twisty', 'scorpion', 'satanic', 'luigi', 'anita', 'strindberg', 'finely', 'investigator', 'smarter', 'grisly', 'inheritance', 'nifty', 'thanked', 'bled', 'debuted', 'elevate', 'avoiding', 'educate', 'scumbag', 'discernible', 'hammett', 'hellman', 'bolan', 'surrealistic', 'diminutive', 'chauffeur', 'ringo', 'paste', 'boogie', 'select', 'stanwyck', 'nietzsche', 'philosophies', 'explicitly', 'perfected', 'interlude', 'alternates', 'booze', 'ella', 'withdrawn', 'closure', 'behaved', 'interactions', 'informative', 'tent', 'sleeping', 'piles', 'rack', 'seventh', 'scattered', 'religions', 'imho', 'doe', 'horns', 'psychopath', 'comforts', 'righteous', 'mysticism', 'topical', 'seller', 'catching', 'writings', 'evans', 'patron', 'billionaire', 'docudrama', 'bernie', 'mitch', 'roz', 'zenia', 'charis', 'draft', 'dodger', 'heroin', 'ardent', 'scrapes', 'potion', 'morse', 'lola', 'underdeveloped', 'brash', 'tourneur', 'wayward', 'seated', 'spreads', 'wherein', 'tarzan', 'jungle', 'orca', 'trance', 'renny', 'harlin', 'commendable', 'versatile', 'introduces', 'intrigue', 'perilous', 'outlaws', 'capped', 'deceit', 'antagonist', 'shiver', 'trepidation', 'brazen', 'drifting', 'atlantic', 'conrad', 'veidt', 'spill', 'mortals', 'drifts', 'tobacco', 'reve', 'amsterdam', 'embarks', 'christine', 'soutendijk', 'thom', 'recognizes', 'seducing', 'drinks', 'phase', 'sensationalism', 'unfriendly', 'editors', 'ethics', 'reckon', 'counter', 'venus', 'evenly', 'crouse', 'ricky', 'bang', 'confederate', 'database', 'reincarnation', 'purists', 'enactment', 'acquit', 'taboo', 'deciding', 'cheapest', 'exploitative', 'crashing', 'commission', 'accuses', 'lurking', 'contradict', 'puzzled', 'crawls', 'liar', 'bloodbath', 'preach', 'doctrine', 'paradigm', 'reiser', 'blu', 'scarecrows', 'pendleton', 'flown', 'robber', 'phil', 'mo', 'explanations', 'kitamura', 'romps', 'gutted', 'diver', 'hurricane', 'substantial', 'nunsploitation', 'flavia', 'florinda', 'bolkan', 'convent', 'stallion', 'nun', 'whipping', 'poured', 'nipples', 'heretic', 'hostel', 'digest', 'monkey', 'puzzles', 'lucas', 'ishtar', 'betting', 'tigerland', 'colin', 'bozz', 'sumptuous', 'enchanted', 'cherish', 'misery', 'rediscovered', 'articles', 'vets', 'pointy', 'protection', 'squeaky', 'gunshot', 'gangs', 'bypass', 'foolishness', 'hmm', 'tease', 'beef', 'corporation', 'headache', 'wobbly', 'subliminal', 'noisy', 'cryptic', 'cypher', 'duran', 'improvised', 'babylon', 'broader', 'moodiness', 'po', 'disappointingly', 'grandpa', 'battlefield', 'shin', 'ae', 'milyang', 'jun', 'admirably', 'korea', 'goings', 'speakeasy', 'explosion', 'branches', 'gotham', 'possessive', 'trenholm', 'prestige', 'ensue', 'possession', 'explicit', 'metamorphosis', 'unpleasant', 'rick', 'uniformly', 'saxon', 'beowulf', 'grendel', 'faithfulness', 'delighted', 'joel', 'ethan', 'coen', 'nair', 'portman', 'kapur', 'yorkers', 'shia', 'labeouf', 'christina', 'ricci', 'cloris', 'leachman', 'shanghai', 'greece', 'yiddish', 'mpaa', 'manifest', 'engaged', 'languages', 'observations', 'chimps', 'facilities', 'crowded', 'concrete', 'cages', 'separated', 'crave', 'chimp', 'leaning', 'data', 'species', 'dome', 'edison', 'chen', 'bred', 'dumps', 'mantra', 'thai', 'knuckle', 'grit', 'defending', 'figuratively', 'awry', 'sins', 'shades', 'studies', 'pei', 'tenderness', 'transforming', 'dish', 'chaplin', 'orange', 'expressionistic', 'collar', 'dresses', 'garage', 'adapted', 'modeled', 'jumbled', 'hodge', 'podge', 'imitated', 'predecessors', 'forgetting', 'extravaganza', 'vistas', 'wildlife', 'fluke', 'norris', 'prot', 'judson', 'mills', 'assistance', 'que', 'eerily', 'resembled', 'interchangeable', 'amityville', 'parodies', 'hanson', 'cindy', 'timed', 'marlon', 'wayans', 'profits', 'struggled', 'haines', 'exhibit', 'illustrating', 'peggy', 'pepper', 'intervenes', 'autograph', 'vidor', 'meals', 'campus', 'dye', 'growling', 'unintelligible', 'sensational', 'glitches', 'repeats', 'vol', 'courtyard', 'impressionist', 'engages', 'labyrinth', 'sly', 'indicator', 'poses', 'photos', 'partially', 'faceless', 'greenaway', 'enthralled', 'gwyneth', 'segregation', 'bikes', 'biker', 'loc', 'bloated', 'meld', 'masala', 'militant', 'gopal', 'verma', 'pertinent', 'astaire', 'funhouse', 'busby', 'berkley', 'ginger', 'dynamics', 'snipers', 'millar', 'comer', 'qualified', 'communication', 'serbian', 'kusturica', 'stinkers', 'fiddle', 'ringu', 'filipino', 'plagiarism', 'truman', 'chillingly', 'elmer', 'gantry', 'tin', 'somerset', 'maugham', 'coal', 'miner', 'enlightenment', 'salvation', 'zanuck', 'groomed', 'climbing', 'baxter', 'snobbish', 'impeccably', 'webb', 'insufferably', 'elliot', 'twentieth', 'waited', 'tyrone', 'conscious', 'parlor', 'quartet', 'roast', 'convenience', 'epitome', 'nauseatingly', 'infinity', 'gregory', 'peck', 'hayward', 'reluctance', 'uriah', 'condemnation', 'journalistic', 'evoke', 'outburst', 'looting', 'secure', 'fascist', 'interviewed', 'cnn', 'lean', 'studied', 'bombed', 'episodic', 'overwhelm', 'insights', 'penetrating', 'specials', 'barbra', 'streisand', 'november', 'separately', 'fork', 'brilliantly', 'component', 'signed', 'cbs', 'extinct', 'notoriety', 'albums', 'wonderland', 'istanbul', 'goodman', 'elegantly', 'depression', 'basics', 'medley', 'melancholic', 'metropolis', 'sherry', 'skilled', 'luster', 'marines', 'schmid', 'guadalcanal', 'glorifying', 'enlist', 'garfield', 'temperament', 'equation', 'unattractive', 'blanks', 'specialist', 'anthologies', 'omnibus', 'dripped', 'phillip', 'henderson', 'carla', 'allusions', 'indirectly', 'decidedly', 'duchovny', 'companions', 'yuzna', 'fests', 'animator', 'surrealist', 'thrilling', 'feinstone', 'patients', 'squeamish', 'corbin', 'bernsen', 'foree', 'vigilante', 'locke', 'shes', 'dorky', 'communicated', 'belt', 'mishap', 'preceding', 'luscious', 'fondling', 'unexciting', 'pretend', 'actioner', 'sleepwalking', 'occupation', 'owe', 'failings', 'unite', 'await', 'wakes', 'irrelevant', 'whew', 'drumming', 'acclaim', 'drummer', 'tails', 'prints', 'unwittingly', 'crystal', 'stylishly', 'euro', 'franco', 'flashes', 'rambles', 'gently', 'boil', 'runaway', 'testing', 'banging', 'watergate', 'nixon', 'eras', 'chapter', 'venomous', 'bronze', 'pal', 'paperback', 'kaufman', 'adventurer', 'ely', 'sidekicks', 'chemist', 'archaeologist', 'kryptonite', 'gleason', 'geography', 'seas', 'nationality', 'monroe', 'moll', 'stakes', 'drawbacks', 'tribes', 'matin', 'marches', 'underlings', 'er', 'yacht', 'demonstrated', 'curtains', 'stamped', 'demonicus', 'illustration', 'sophomoric', 'orwellian', 'proven', 'downside', 'jox', 'billboard', 'tenth', 'hiv', 'dedication', 'analyze', 'criticized', 'ophelia', 'rubble', 'pokemon', 'nemo', 'milo', 'voiced', 'footsteps', 'sponsor', 'expedition', 'darkened', 'lulls', 'sources', 'pods', 'diggers', 'upbeat', 'dwarfs', 'gandalf', 'youtube', 'weed', 'griffiths', 'coping', 'tulip', 'creepshow', 'idol', 'slop', 'purple', 'butterfly', 'distinguish', 'poets', 'dramatically', 'impeccable', 'che', 'stance', 'murky', 'gambling', 'refusing', 'cowardly', 'cubans', 'plains', 'inaccuracies', 'deceived', 'hinges', 'fanfan', 'philippe', 'gina', 'lollobrigida', 'clair', 'fore', 'casualties', 'complains', 'historian', 'tempo', 'perez', 'lawless', 'kingpin', 'harley', 'gunplay', 'goodnight', 'gobs', 'advances', 'sloane', 'rescuing', 'sales', 'referring', 'madeline', 'kahn', 'houseman', 'bless', 'delectable', 'slack', 'redfield', 'peru', 'sniffing', 'flourish', 'shout', 'celestial', 'choir', 'motley', 'prochnow', 'pantheon', 'mastroianni', 'bain', 'hoot', 'daggers', 'usage', 'flirt', 'snore', 'stag', 'yelling', 'hacking', 'embedded', 'idyllic', 'diversion', 'prospects', 'heiress', 'rigged', 'gardiner', 'reggie', 'domineering', 'dignified', 'ditzy', 'damsel', 'solo', 'gracie', 'bubbly', 'conniving', 'gershwin', 'erin', 'morals', 'mags', 'customer', 'avengers', 'fitzgerald', 'retains', 'examine', 'esp', 'wage', 'handheld', 'cheerful', 'indistinguishable', 'hypnotic', 'charlotte', 'devils', 'advocate', 'mysteries', 'puzzle', 'solved', 'infused', 'dystopian', 'linklater', 'visionary', 'volckman', 'unquestionably', 'individuality', 'nihilism', 'aesthetic', 'credence', 'stoic', 'karas', 'mccormack', 'frantic', 'pryce', 'avalon', 'holm', 'qualms', 'reluctantly', 'cabaret', 'garnered', 'boob', 'suffice', 'collections', 'initiative', 'selecting', 'karloff', 'chapters', 'janos', 'rukh', 'drawings', 'benet', 'rays', 'invite', 'radium', 'gimmicks', 'statues', 'hillyer', 'funky', 'potts', 'hamill', 'classmates', 'ugliest', 'bonnie', 'clyde', 'culled', 'timely', 'venezuelan', 'capital', 'prevail', 'poorest', 'unity', 'savvy', 'invaluable', 'deception', 'tyranny', 'generals', 'venezuela', 'ably', 'bucket', 'tissue', 'forsythe', 'tylo', 'jeffrey', 'combs', 'kathryn', 'harrold', 'replacing', 'wound', 'forests', 'taiwanese', 'sensibility', 'missouri', 'visceral', 'tobey', 'seventeen', 'lifelong', 'skeet', 'ulrich', 'unwillingness', 'unarmed', 'holt', 'wright', 'introspection', 'intensely', 'candid', 'courageous', 'blooded', 'suave', 'growth', 'wider', 'regularly', 'shocks', 'detriment', 'needlessly', 'examines', 'rewarding', 'gypsies', 'cassie', 'territories', 'haze', 'tepid', 'afterlife', 'projected', 'aide', 'puns', 'electrocution', 'snoozer', 'tide', 'simulate', 'latham', 'graveyard', 'marvin', 'selected', 'koreans', 'nations', 'capt', 'gen', 'amos', 'courtroom', 'winkler', 'grifters', 'ding', 'jazzy', 'glen', 'flowed', 'jumble', 'compulsive', 'gambler', 'bouncing', 'stagy', 'foley', 'hackneyed', 'drones', 'arcs', 'unexplored', 'regrettably', 'kristin', 'anchors', 'aweigh', 'tchaikovsky', 'bowl', 'samberg', 'randomness', 'attending', 'olsen', 'cutest', 'sceneries', 'zach', 'ronnie', 'eliminating', 'pillow', 'concocted', 'explores', 'fragmented', 'unthinkable', 'gradual', 'hawke', 'alimony', 'jewelry', 'finney', 'nanette', 'agreement', 'filing', 'respective', 'bravura', 'timer', 'nodding', 'mute', 'improv', 'braun', 'implausibility', 'inadequate', 'goebbels', 'spun', 'validity', 'temperature', 'esteemed', 'ranch', 'smell', 'unwashed', 'ahem', 'bottoms', 'freshly', 'sprung', 'tidy', 'retribution', 'laying', 'syrup', 'bitches', 'cigars', 'rhetoric', 'assaults', 'terrorizing', 'kin', 'shortened', 'unspeakable', 'justifies', 'mmm', 'wesley', 'cranked', 'photographic', 'hermann', 'snicker', 'infidelity', 'thumb', 'damaging', 'balsam', 'fantastically', 'birdie', 'reputed', 'disregard', 'dyke', 'deliberately', 'obscured', 'schoolgirl', 'preserved', 'rendering', 'tch', 'reverend', 'flip', 'homework', 'ninjas', 'introducing', 'tilt', 'reservoir', 'haircut', 'strathairn', 'parked', 'newbie', 'tit', 'protected', 'blasting', 'abhay', 'soha', 'katey', 'davidson', 'guidance', 'patriarch', 'garner', 'suzanne', 'spade', 'sitcoms', 'mushrooms', 'im', 'lsd', 'superficially', 'proposed', 'sample', 'depends', 'effortlessly', 'prague', 'intrinsic', 'temptations', 'envy', 'insecurities', 'russians', 'desi', 'fa', 'commandos', 'trail', 'shekhar', 'akshay', 'tashan', 'loveable', 'felix', 'ungar', 'madison', 'roommates', 'sandwiches', 'refrigerator', 'sensitivity', 'unger', 'annoyance', 'roommate', 'withstand', 'monotone', 'enhances', 'embraces', 'naudet', 'hanlon', 'crashed', 'coarse', 'uncensored', 'nord', 'pr', 'edith', 'jour', 'pimp', 'cin', 'est', 'morocco', 'funding', 'scrap', 'fund', 'stimulate', 'neatly', 'delayed', 'artifice', 'foreground', 'videotape', 'trier', 'plight', 'amidst', 'unforgiving', 'zentropa', 'audacious', 'grail', 'yeti', 'matte', 'thematic', 'blandings', 'progressive', 'housing', 'slipping', 'necromancy', 'criticise', 'personified', 'variable', 'franklin', 'flora', 'ineptly', 'shuts', 'numbingly', 'rolled', 'guzman', 'unrelenting', 'disappointments', 'traumas', 'transformed', 'discipline', 'rundown', 'sexism', 'pauses', 'femininity', 'quebec', 'runtime', 'tread', 'unintended', 'cube', 'transform', 'object', 'methods', 'requirements', 'majors', 'theatres', 'headlines', 'photographers', 'mans', 'targeting', 'fortunes', 'curtiz', 'rapid', 'fantastical', 'swordplay', 'marvellous', 'swell', 'supply', 'copious', 'villagers', 'derived', 'buddhist', 'buddhism', 'calendar', 'gojoe', 'skillful', 'dismal', 'willow', 'occupy', 'razzie', 'forum', 'lighten', 'pierce', 'brosnan', 'harried', 'tolerant', 'foil', 'matador', 'leaf', 'stunk', 'sandy', 'earns', 'generating', 'serials', 'tacky', 'rescues', 'droning', 'stuntman', 'adjust', 'utility', 'oxygen', 'tube', 'lowery', 'duncan', 'businessmen', 'croft', 'motions', 'hoodlums', 'regulars', 'superfluous', 'discern', 'perils', 'saddled', 'manor', 'interiors', 'invest', 'shiny', 'slashed', 'forgiving', 'jaded', 'define', 'yanked', 'offends', 'gays', 'forsaken', 'presley', 'mangled', 'quoted', 'pyramid', 'rampant', 'badge', 'gap', 'rests', 'addict', 'watchers', 'adaption', 'entertainers', 'benjamin', 'globe', 'improvement', 'biggs', 'potato', 'county', 'yell', 'responds', 'duh', 'sloth', 'mammoth', 'morale', 'benefits', 'troublesome', 'clinging', 'townsend', 'mack', 'bert', 'assignment', 'beans', 'wards', 'phones', 'spineless', 'pbs', 'editions', 'ranger', 'cookie', 'mortgage', 'messed', 'crushes', 'heated', 'file', 'blier', 'fave', 'dewaere', 'miou', 'journeys', 'hypocrite', 'scarred', 'confirm', 'suspicions', 'obtain', 'rivals', 'miyazaki', 'ghibli', 'laputa', 'trench', 'beek', 'sheeta', 'paquin', 'engineering', 'invented', 'dazzle', 'blatantly', 'escaped', 'convicts', 'degradation', 'tremendously', 'pairing', 'cv', 'thirdly', 'fighters', 'abu', 'supremacy', 'diminished', 'unavoidable', 'excesses', 'adjective', 'rhythm', 'stack', 'policies', 'physics', 'leaping', 'outdoes', 'interfere', 'dishes', 'pauly', 'shore', 'goldfish', 'transplanted', 'becker', 'anselmo', 'franciosa', 'pappas', 'favors', 'farewell', 'preserve', 'helmets', 'admires', 'cherry', 'gist', 'nam', 'irresponsible', 'marsha', 'lawn', 'meanders', 'jefferson', 'inappropriate', 'offense', 'springsteen', 'ceasar', 'hopper', 'viggo', 'zen', 'messenger', 'ala', 'sheesh', 'borden', 'flirts', 'libido', 'dogma', 'gaining', 'insatiable', 'fetish', 'shoves', 'increases', 'scarcely', 'district', 'periodically', 'forceful', 'elimination', 'lift', 'cashing', 'pinned', 'shelton', 'gauntlet', 'fry', 'eroticism', 'avant', 'garde', 'apollo', 'patterns', 'undermine', 'spacecraft', 'discredit', 'missions', 'undermines', 'remaining', 'slant', 'ordinarily', 'swim', 'blinded', 'reign', 'rohm', 'ada', 'summon', 'keys', 'drawl', 'gladly', 'redline', 'nascar', 'challenger', 'transmission', 'kowalski', 'floored', 'helpless', 'clunky', 'bearing', 'prematurely', 'uncommon', 'conflicted', 'expectant', 'prohibition', 'interestingly', 'quivering', 'jelly', 'talkie', 'dun', 'extraordinarily', 'insanely', 'manuscript', 'trump', 'agatha', 'contempt', 'hilarity', 'bog', 'youths', 'elders', 'petrol', 'voorhees', 'comparative', 'slashers', 'tomato', 'incomparable', 'houston', 'gilley', 'chemical', 'troll', 'barking', 'auteurs', 'torrance', 'secluded', 'kicker', 'caretaker', 'tasty', 'highs', 'lows', 'egos', 'patty', 'unheard', 'dern', 'overcomes', 'therapy', 'fading', 'album', 'painters', 'pavement', 'georges', 'guetary', 'topped', 'bsg', 'caprica', 'lineup', 'battlestar', 'nevada', 'embark', 'useless', 'breathless', 'disturbingly', 'delusional', 'battling', 'equality', 'balding', 'hideout', 'reflections', 'devote', 'pockets', 'repulsive', 'ahh', 'tibetan', 'himalayas', 'guiding', 'progressing', 'goals', 'sympathise', 'asserts', 'vocals', 'microphone', 'stereotyping', 'soooo', 'bows', 'yash', 'sado', 'barbed', 'anil', 'kareena', 'dil', 'void', 'lb', 'divine', 'francine', 'embarrass', 'humiliate', 'devon', 'sawa', 'schwartzman', 'flaherty', 'jaime', 'freshman', 'generates', 'excuses', 'payed', 'soda', 'disgrace', 'chandler', 'deed', 'clooney', 'whipped', 'beatty', 'fixing', 'coz', 'novelty', 'arduous', 'benefited', 'semblance', 'infinitely', 'insomnia', 'connecting', 'stormare', 'deborah', 'fairytale', 'happier', 'savagery', 'indulging', 'supermarket', 'aisle', 'btw', 'leonardo', 'dicaprio', 'schooler', 'cheered', 'butterflies', 'ba', 'ants', 'insects', 'turd', 'varies', 'arse', 'flea', 'acid', 'catalyst', 'bonds', 'discoveries', 'depart', 'rounded', 'stylised', 'characterisation', 'brendan', 'gleeson', 'abbot', 'fawlty', 'expanded', 'horizons', 'reflecting', 'attire', 'restless', 'dazzled', 'ennui', 'pervasive', 'generational', 'daisies', 'upsetting', 'twisting', 'ju', 'takashi', 'jars', 'pipes', 'gum', 'compensate', 'salman', 'rani', 'preity', 'priya', 'miscarriage', 'chopra', 'prem', 'bribes', 'hai', 'mann', 'colourful', 'latinos', 'inexcusable', 'ealing', 'guinness', 'passport', 'pimlico', 'stratton', 'textile', 'greenwood', 'luminous', 'sorely', 'frail', 'thesiger', 'cripple', 'businesses', 'fearing', 'compensation', 'mackendrick', 'inimitable', 'industries', 'monetary', 'til', 'cain', 'booth', 'perceives', 'surrounds', 'onion', 'confined', 'observed', 'unsubtle', 'calculating', 'promoter', 'atypical', 'geddes', 'crises', 'interrogation', 'overhead', 'personable', 'moulin', 'rouge', 'poitier', 'softcore', 'manure', 'bores', 'simulated', 'bah', 'bamboo', 'abused', 'misogynistic', 'lifting', 'belgium', 'ethnicity', 'helmed', 'resistance', 'celie', 'evergreen', 'shakes', 'drugged', 'exhaustion', 'motive', 'dismissed', 'arnie', 'poorer', 'commando', 'scarce', 'rabid', 'killian', 'hunted', 'stalkers', 'labour', 'mendez', 'alonso', 'mode', 'wasteland', 'revolve', 'cursing', 'exec', 'cavanagh', 'disturbance', 'tribe', 'disturb', 'avalanche', 'collapsing', 'metropolitan', 'indoor', 'relating', 'fabricated', 'mar', 'invitation', 'crook', 'convention', 'sorted', 'coma', 'metaphysical', 'burroughs', 'hallucinating', 'poisoning', 'purgatory', 'crammed', 'stretching', 'shaped', 'headlights', 'elevators', 'dolly', 'loft', 'casablanca', 'runway', 'pink', 'sampson', 'carlson', 'krishna', 'acharya', 'saif', 'sanjay', 'manoj', 'sharma', 'detmers', 'prowl', 'unrestrained', 'patriarchal', 'slower', 'molasses', 'january', 'alaska', 'giggles', 'socially', 'patchy', 'chaotic', 'sheds', 'casino', 'masturbation', 'dilemmas', 'grizzled', 'dabney', 'coleman', 'fragility', 'blondes', 'drab', 'sleeps', 'duration', 'fleeing', 'cylon', 'spaceships', 'continuation', 'eglantine', 'correspondence', 'apprentice', 'browne', 'fraudulent', 'inanimate', 'lansbury', 'tomlinson', 'defunct', 'poppins', 'boast', 'karisma', 'nana', 'patekar', 'shahrukh', 'soo', 'claude', 'tng', 'riker', 'unease', 'wily', 'rounding', 'wills', 'elam', 'sparked', 'uncertainty', 'lords', 'harshly', 'removing', 'unrest', 'parole', 'looses', 'angered', 'homely', 'interwoven', 'unconnected', 'speeded', 'rowan', 'commenters', 'dreamer', 'donate', 'coop', 'anxiously', 'intertwine', 'carroll', 'maids', 'increasing', 'germs', 'alexandra', 'johnston', 'fired', 'comforting', 'erica', 'geared', 'hopalong', 'gigantic', 'intact', 'daryl', 'strode', 'madman', 'rightfully', 'whatnot', 'mechanic', 'fab', 'underestimated', 'comprehension', 'cheeky', 'lennon', 'prolific', 'repulsed', 'contributions', 'yoko', 'respects', 'revisiting', 'capitol', 'brigade', 'engines', 'sleeve', 'cl', 'haphazard', 'washing', 'boots', 'wikipedia', 'posting', 'priests', 'protestant', 'flag', 'viking', 'vikings', 'cleared', 'hardworking', 'oakland', 'quiroz', 'boils', 'characteristics', 'eskimo', 'elmo', 'dvr', 'billboards', 'zealous', 'irreverent', 'announcement', 'kidney', 'candidate', 'partial', 'candidates', 'auction', 'discussions', 'founded', 'amazement', 'roulette', 'snuff', 'searches', 'stigma', 'undressed', 'provoke', 'villainess', 'denmark', 'exits', 'tyrant', 'stereotyped', 'standpoint', 'establishment', 'alienated', 'weirdos', 'amelie', 'thatcher', 'satires', 'predominantly', 'charter', 'iv', 'burgundy', 'parliament', 'laws', 'rationing', 'authorities', 'renamed', 'bureaucracy', 'nazism', 'sticking', 'drought', 'holloway', 'batty', 'icons', 'modeling', 'pornography', 'flop', 'dialogues', 'bikinis', 'comfortably', 'poonam', 'transcend', 'alok', 'nath', 'paresh', 'rawal', 'rajpal', 'yadav', 'wenders', 'filmic', 'oddities', 'trauma', 'exceed', 'arabian', 'sabu', 'situational', 'roach', 'parking', 'neglects', 'lecter', 'wash', 'imitates', 'classroom', 'sting', 'miscasting', 'crust', 'spaniard', 'paxinou', 'imprisoned', 'detachment', 'instructions', 'excruciating', 'obsessive', 'oppose', 'stadium', 'encouraging', 'jafar', 'panahi', 'billions', 'monstrous', 'drain', 'cruelly', 'unedited', 'induce', 'ticking', 'bishop', 'butchering', 'marius', 'thrashing', 'monarchy', 'handing', 'tearing', 'minuscule', 'skipping', 'misinterpreted', 'barricade', 'messes', 'comeuppance', 'lars', 'foggy', 'hapless', 'spontaneous', 'bodily', 'heinous', 'cater', 'retreats', 'culminates', 'sexiest', 'mocked', 'craziness', 'slew', 'auntie', 'integral', 'swinton', 'satellite', 'financially', 'arquette', 'northwest', 'saxophone', 'geez', 'bloodless', 'ringwald', 'swashbuckling', 'maddox', 'stanton', 'communications', 'kralik', 'sullavan', 'mutiny', 'budapest', 'anonymous', 'admirers', 'departs', 'bressart', 'schildkraut', 'worm', 'stretches', 'prefers', 'assert', 'cautious', 'innocently', 'slips', 'silhouette', 'cheetah', 'sinful', 'guided', 'gentlemen', 'accompanies', 'besieged', 'rifles', 'blocking', 'rita', 'hayworth', 'adoption', 'socio', 'callahan', 'scuddamore', 'nerd', 'caroline', 'munro', 'humiliated', 'vigorous', 'workout', 'restroom', 'reacts', 'banquet', 'merry', 'jester', 'loony', 'excised', 'frailty', 'fenton', 'demons', 'venue', 'meager', 'speculate', 'lizards', 'enthusiastically', 'teeny', 'switching', 'ifc', 'grandparents', 'migration', 'cane', 'undeveloped', 'aunts', 'uncles', 'saddened', 'railroad', 'rosalind', 'brothel', 'fangs', 'keller', 'tarnished', 'orwell', 'winston', 'brainwashed', 'dis', 'literal', 'hailed', 'denying', 'predicted', 'sidelines', 'releasing', 'unstable', 'honorable', 'compensated', 'brute', 'antagonists', 'huns', 'looming', 'barrier', 'guarded', 'shapes', 'aidan', 'decorative', 'wondrous', 'archetypal', 'psychologically', 'probable', 'derives', 'estimation', 'andrei', 'tarkovsky', 'nacho', 'cherished', 'ebert', 'moronic', 'nutcase', 'mccarthy', 'asset', 'uneducated', 'kellerman', 'royalty', 'dictionary', 'lap', 'strays', 'ther', 'portuguese', 'siskel', 'snoop', 'finishing', 'backstage', 'rappers', 'peanuts', 'pointing', 'fates', 'likelihood', 'installed', 'simplified', 'demonstrate', 'diplomat', 'mcclure', 'duly', 'innocuous', 'waster', 'malice', 'indemnity', 'maltese', 'falcon', 'daylight', 'randell', 'speeding', 'vincente', 'sirk', 'interracial', 'unions', 'warmly', 'gaelic', 'weirdo', 'evaluate', 'wiser', 'hazy', 'societal', 'mutilation', 'bahrain', 'irani', 'detained', 'transporting', 'privilege', 'exaggerate', 'predicaments', 'artful', 'gracefully', 'developments', 'startled', 'nekromantik', 'buttgereit', 'todesking', 'brotherhood', 'approached', 'apathy', 'continuously', 'pans', 'circle', 'draining', 'decomposing', 'baffling', 'reich', 'matching', 'reaper', 'travelogue', 'duets', 'requests', 'bulgaria', 'croatia', 'turkish', 'guards', 'custom', 'mount', 'significance', 'defiance', 'hmmmm', 'digress', 'sanchez', 'marginally', 'separating', 'celine', 'shrewd', 'extending', 'smartly', 'feather', 'mins', 'damien', 'complimented', 'showcased', 'landmarks', 'liberation', 'transport', 'newsreel', 'permits', 'treaty', 'affectionate', 'steak', 'crenna', 'avail', 'artfully', 'diversity', 'underscores', 'examined', 'transformations', 'sunglasses', 'headphones', 'rags', 'midler', 'strains', 'ballads', 'centuries', 'moustache', 'fulfilled', 'cracker', 'overweight', 'fitz', 'manchester', 'coltrane', 'mcgovern', 'queue', 'judith', 'cheat', 'mistakenly', 'reminders', 'dang', 'choke', 'culturally', 'opaque', 'lili', 'excerpts', 'fledged', 'quantity', 'sobbing', 'rachael', 'levitt', 'mcconaughey', 'adrien', 'brody', 'dumbing', 'bothers', 'hypnotized', 'mediocrity', 'apartments', 'fullest', 'hustle', 'sporadic', 'recite', 'immorality', 'presume', 'proficient', 'dental', 'gorehounds', 'paxton', 'eldest', 'traces', 'lundgren', 'extensively', 'graders', 'adopt', 'disasters', 'enacted', 'artemisia', 'foch', 'accepts', 'bothersome', 'macready', 'awakens', 'townspeople', 'screamed', 'stressed', 'beckham', 'hush', 'bafta', 'recorder', 'upwards', 'programme', 'maysles', 'closet', 'designers', 'netflix', 'muddle', 'surrogate', 'kundry', 'hans', 'dual', 'pad', 'travelers', 'lasts', 'widely', 'sch', 'yvonne', 'minton', 'reiner', 'incomplete', 'flemming', 'earliest', 'formulated', 'resurrected', 'liberally', 'accounts', 'bathtub', 'analogy', 'eponymous', 'decoration', 'extensive', 'fuss', 'ineffective', 'gunfighter', 'atrociously', 'duds', 'grandeur', 'abridged', 'commercially', 'observant', 'weeping', 'illnesses', 'slugs', 'vermin', 'actively', 'glove', 'reacted', 'instinctively', 'spills', 'volatile', 'chemicals', 'hick', 'yells', 'declare', 'parade', 'pod', 'salad', 'unpleasantness', 'unwavering', 'hadley', 'voicing', 'grumpy', 'senile', 'puerto', 'rican', 'rico', 'dominican', 'bristol', 'devotion', 'heroism', 'orphans', 'trough', 'masturbating', 'rewards', 'skillfully', 'identification', 'pristine', 'leftist', 'ineptness', 'minorities', 'futile', 'wannabes', 'witted', 'sundance', 'enabling', 'staggers', 'ds', 'admiral', 'patti', 'absurdist', 'mice', 'lobotomy', 'marky', 'brim', 'sollett', 'irritatingly', 'epics', 'representations', 'vargas', 'broadly', 'undergone', 'gilbert', 'molester', 'antwone', 'enlisted', 'neglect', 'sanitized', 'brunette', 'corridors', 'entered', 'analyse', 'tasteful', 'decor', 'bouchet', 'sybil', 'danning', 'tomba', 'ecstatic', 'obscurity', 'palma', 'disorder', 'newbern', 'doppelganger', 'fulfills', 'interviewer', 'phyllis', 'announcer', 'hockey', 'kent', 'punched', 'greener', 'scraped', 'baddest', 'toughest', 'wrestlers', 'yearly', 'anton', 'altman', 'madrid', 'roads', 'adviser', 'searched', 'banderas', 'hansen', 'carlos', 'tudor', 'complicate', 'proceeding', 'kiki', 'patently', 'badness', 'harvard', 'clerks', 'sunk', 'maximum', 'morrissey', 'ranging', 'breathe', 'feats', 'gifts', 'electra', 'melt', 'slash', 'tires', 'uncomfortably', 'hijinks', 'dislikes', 'aggravating', 'travis', 'jacqueline', 'prude', 'collinwood', 'bogged', 'rockwell', 'northam', 'oftentimes', 'crane', 'renewed', 'homes', 'coulouris', 'geraldine', 'muller', 'foxes', 'reprising', 'franka', 'potente', 'glamour', 'jeanne', 'institutions', 'seberg', 'purity', 'illiterate', 'invading', 'warwick', 'scheming', 'sardonic', 'burnt', 'uninterrupted', 'effectiveness', 'mise', 'resonated', 'unwilling', 'province', 'lad', 'ruling', 'embodied', 'viva', 'bombshells', 'dench', 'sax', 'practicing', 'guitarist', 'judi', 'cleo', 'laine', 'stank', 'slowed', 'mourning', 'tattoo', 'transference', 'documents', 'resorting', 'adulthood', 'nighttime', 'slaughtering', 'sanitarium', 'blur', 'ant', 'scars', 'longs', 'perseverance', 'dessert', 'jeans', 'gideon', 'connors', 'penguins', 'yawning', 'sunken', 'negligible', 'dwellers', 'ranges', 'storage', 'closets', 'melvin', 'panama', 'muriel', 'architect', 'debonair', 'howe', 'dominance', 'betray', 'prevails', 'unjust', 'cringeworthy', 'urmila', 'lever', 'criticisms', 'judicious', 'grants', 'digs', 'mania', 'levity', 'refined', 'slot', 'produces', 'hijacked', 'compose', 'lifeboat', 'swims', 'apt', 'inconsistency', 'teleplay', 'miniatures', 'referencing', 'kylie', 'schnaas', 'guidelines', 'summation', 'bluntly', 'eeriness', 'uwe', 'boll', 'churn', 'slater', 'bloodrayne', 'competing', 'evolution', 'cr', 'disgraced', 'aids', 'mcdermott', 'spacey', 'timberlake', 'uncover', 'illicit', 'culminating', 'melinda', 'participation', 'patter', 'limelight', 'affords', 'distorted', 'declined', 'prolonged', 'millionaire', 'prelude', 'derive', 'architecture', 'reserved', 'exit', 'arrangement', 'requirement', 'freudian', 'tintin', 'unfairly', 'facility', 'subtitled', 'neighboring', 'mole', 'tailored', 'deteriorating', 'dangers', 'cornered', 'believers', 'luciano', 'strain', 'escalates', 'cemented', 'independence', 'ambulance', 'deceased', 'curb', 'arouse', 'thru', 'forming', 'constitutes', 'bombings', 'colm', 'hag', 'gino', 'costa', 'girotti', 'drifter', 'giovanna', 'calamai', 'luchino', 'visconti', 'postman', 'lana', 'pronounce', 'armor', 'differently', 'caretakers', 'wheeler', 'soaring', 'niche', 'confuse', 'gellar', 'greetings', 'anticipated', 'shepard', 'plum', 'deem', 'bean', 'suburb', 'sweden', 'sjoman', 'magnificence', 'demme', 'combo', 'bradley', 'bronx', 'brett', 'anniversary', 'braindead', 'verbal', 'binge', 'bullock', 'intrigues', 'differentiate', 'forwarded', 'antithesis', 'seduced', 'introspective', 'compressed', 'fella', 'trimmed', 'seizure', 'specifics', 'pacific', 'seamless', 'wuhl', 'strive', 'bickering', 'drilling', 'volcano', 'strangeness', 'digested', 'cassavetes', 'loach', 'flipped', 'heflin', 'yugoslavia', 'serbia', 'bosnia', 'strung', 'pretension', 'pained', 'miracles', 'vaughn', 'hash', 'expansion', 'neighbourhood', 'cynics', 'ming', 'dahl', 'sultry', 'wrinkled', 'radical', 'anthem', 'corey', 'mcdonalds', 'mayer', 'shrinking', 'grabbed', 'mortality', 'shunned', 'jinx', 'moh', 'imprint', 'ideology', 'homecoming', 'smashes', 'rubin', 'intending', 'thy', 'thorough', 'judged', 'underlines', 'devotee', 'cafeteria', 'bu', 'uel', 'andie', 'macdowell', 'uninspiring', 'lotr', 'hobbits', 'aragorn', 'mortensen', 'squire', 'bolts', 'oak', 'fraser', 'kerr', 'orcs', 'frodo', 'humanoid', 'immersion', 'gollum', 'tolkien', 'secretive', 'sentinel', 'gateway', 'stairway', 'garrison', 'hunts', 'basinger', 'anxiety', 'sullen', 'belgian', 'mining', 'perpetually', 'neighbour', 'lowly', 'nipple', 'bots', 'aboard', 'pumpkin', 'wires', 'criticised', 'rancid', 'aluminium', 'bells', 'sadie', 'frost', 'florence', 'swimmer', 'olympics', 'seduces', 'compromising', 'flailing', 'incriminating', 'puzzling', 'bewilderment', 'drawback', 'jaffar', 'incorporating', 'investigates', 'daft', 'shoulder', 'leopard', 'skinned', 'recreating', 'projector', 'denizens', 'undertones', 'rhode', 'bookstore', 'juliette', 'binoche', 'turmoil', 'brick', 'apropos', 'spying', 'employees', 'blondell', 'prologues', 'groin', 'rarer', 'suburbs', 'reginald', 'denny', 'crusty', 'carriers', 'mercedes', 'piper', 'coyote', 'backseat', 'pastor', 'degenerate', 'bleed', 'foursome', 'meloni', 'ailing', 'blocks', 'blasts', 'automatic', 'pistol', 'testament', 'renditions', 'soften', 'retrospect', 'trends', 'observer', 'lyle', 'assortment', 'graces', 'endurance', 'ceased', 'usher', 'lens', 'comically', 'hula', 'calhoun', 'bane', 'maude', 'jerusalem', 'wrench', 'settling', 'recalled', 'cellar', 'yup', 'tvm', 'toilets', 'dummy', 'thieves', 'port', 'revolver', 'wrecking', 'transferred', 'manga', 'blurred', 'intents', 'omitted', 'glacier', 'compliments', 'editorial', 'opposing', 'cautionary', 'log', 'newborn', 'jekyll', 'fruit', 'precinct', 'gremlins', 'betraying', 'favorably', 'mulligan', 'additional', 'alba', 'esteban', 'unjustly', 'singleton', 'hid', 'casted', 'gabrielle', 'bassinger', 'nagging', 'scholarship', 'judas', 'willingness', 'blithely', 'shifted', 'hercules', 'civilian', 'mcqueen', 'glorifies', 'cowboys', 'throwback', 'loveless', 'disguises', 'facade', 'befriend', 'sneering', 'glib', 'infested', 'lusts', 'tang', 'biographies', 'biographical', 'liquid', 'stomp', 'chelsea', 'injects', 'throughly', 'severed', 'nicer', 'provincial', 'prayer', 'meetings', 'brushes', 'persistent', 'jeon', 'yeon', 'stupendous', 'unimaginative', 'wolfman', 'waldemar', 'daninsky', 'venerable', 'antihero', 'tibet', 'ilona', 'hypnosis', 'chained', 'controls', 'lurches', 'baldwin', 'heather', 'gowns', 'colored', 'objection', 'cummings', 'blouse', 'grandma', 'hangs', 'beaches', 'outbreak', 'bandit', 'sigourney', 'warden', 'narrowly', 'basil', 'doyle', 'strands', 'heightens', 'milverton', 'bancroft', 'estelle', 'reclusive', 'checks', 'hicks', 'trampled', 'hamming', 'firemen', 'jerking', 'boasting', 'grisham', 'berenger', 'coloured', 'lifestyles', 'advantages', 'churned', 'collapsed', 'totalitarian', 'blames', 'earning', 'mcintyre', 'breakout', 'mic', 'runners', 'ventura', 'rips', 'blasphemy', 'sirens', 'obstacle', 'disposable', 'surgical', 'moreau', 'chronology', 'peet', 'genesis', 'cohen', 'retire', 'trophy', 'distortions', 'gallons', 'tolerated', 'forbid', 'spader', 'mockery', 'flamboyant', 'spouts', 'harassment', 'coups', 'blessing', 'chilean', 'idealistic', 'bankrupt', 'munchies', 'critters', 'korman', 'exemplifies', 'laser', 'enabled', 'acerbic', 'cuddly', 'links', 'oklahoma', 'lookalike', 'taciturn', 'wales', 'spotted', 'walkers', 'astray', 'declining', 'spectre', 'justly', 'pathological', 'maddin', 'snapping', 'harshness', 'caucasian', 'uber', 'donner', 'spiderman', 'banished', 'cleaning', 'campfire', 'flickering', 'spectators', 'deftly', 'underlying', 'distortion', 'haim', 'bouzaglo', 'impotent', 'wanders', 'incorporates', 'glimpses', 'rooftop', 'dimly', 'selves', 'entrepreneur', 'reported', 'employment', 'dot', 'lighted', 'counting', 'feedback', 'truer', 'tempted', 'mordrid', 'kabal', 'platinum', 'courtesy', 'differ', 'dinosaur', 'devour', 'grape', 'haircuts', 'professionally', 'attracting', 'roaming', 'lassie', 'connolly', 'misty', 'mundae', 'jigsaw', 'forgives', 'crusade', 'hitman', 'hoechlin', 'bogs', 'sustains', 'mendes', 'tucci', 'executes', 'collaborated', 'burnett', 'gameplay', 'bowser', 'attacker', 'scriptwriter', 'outlet', 'outraged', 'recruits', 'paradox', 'unsuitable', 'structurally', 'commenting', 'mcgraw', 'byron', 'stereotypically', 'critically', 'adored', 'determining', 'minion', 'rockers', 'whales', 'disconnected', 'fridge', 'unfamiliar', 'gallows', 'roses', 'oriental', 'marshal', 'gunfight', 'gus', 'sant', 'elijah', 'mime', 'schmaltz', 'tones', 'manifested', 'gamera', 'benign', 'oddity', 'rapper', 'oasis', 'recordings', 'biz', 'agreeing', 'financed', 'corners', 'prerequisite', 'vienna', 'famed', 'antonioni', 'gargantuan', 'jargon', 'weirder', 'orgy', 'pig', 'explode', 'letterman', 'frechette', 'participating', 'spirituality', 'stroheim', 'lusting', 'hairstyle', 'bee', 'maurice', 'caf', 'lumi', 'des', 'hordes', 'tackling', 'insurmountable', 'perkins', 'tiring', 'ling', 'unnerving', 'viennese', 'ills', 'fussy', 'striptease', 'characterised', 'classify', 'tracy', 'telescope', 'headmistress', 'headless', 'torso', 'dalmatians', 'vil', 'atomic', 'penthouse', 'rourke', 'depraved', 'trejo', 'reconsider', 'petition', 'html', 'outlook', 'stardust', 'lori', 'taller', 'annoys', 'dax', 'odious', 'chores', 'croc', 'heros', 'skimpy', 'geographic', 'crocodiles', 'placid', 'departure', 'tyson', 'enforcer', 'highlighted', 'defended', 'taka', 'dumpster', 'interfering', 'ref', 'borgnine', 'persecution', 'addictions', 'baltimore', 'publisher', 'rejection', 'threaten', 'thwart', 'moran', 'samhain', 'mutants', 'reinforced', 'greenlight', 'lump', 'breeding', 'bubbles', 'dine', 'exceeds', 'debating', 'junkie', 'jolt', 'marketed', 'sizable', 'footnote', 'soaps', 'anatomy', 'counterpart', 'baywatch', 'ewan', 'mcgregor', 'nasal', 'interviewing', 'entice', 'landon', 'mesmerizing', 'jockey', 'brainy', 'portal', 'bowels', 'unleashing', 'ours', 'paranormal', 'researcher', 'intrepid', 'curator', 'emoting', 'bender', 'dorff', 'cooler', 'expansive', 'downward', 'shrug', 'electrifying', 'tailor', 'assets', 'ricardo', 'cortez', 'powerhouse', 'carnosaur', 'winfrey', 'prehistoric', 'supplied', 'ami', 'dunaway', 'verisimilitude', 'pronounced', 'scariest', 'fps', 'yearn', 'emphasizes', 'rumor', 'miniature', 'beckett', 'dickinson', 'pino', 'spawn', 'cartoony', 'acrobatic', 'wings', 'bloodied', 'disheveled', 'induced', 'unreasonable', 'expands', 'frontiers', 'sabrina', 'mjh', 'unused', 'horde', 'dour', 'eburne', 'hypochondriac', 'loosing', 'fearful', 'whim', 'beams', 'newhart', 'morley', 'brinke', 'berryman', 'delia', 'olen', 'wandered', 'inflections', 'interpreted', 'denial', 'pert', 'catalog', 'conceptual', 'chang', 'apes', 'goring', 'robson', 'daniela', 'budgeted', 'aja', 'mal', 'fique', 'ramshackle', 'inmate', 'journal', 'specialized', 'occult', 'oceans', 'pics', 'privy', 'kidman', 'impossibility', 'perpetuate', 'immigration', 'multitude', 'alda', 'singularly', 'wizards', 'svenson', 'manfred', 'henson', 'doesnt', 'drake', 'andre', 'stripper', 'justine', 'overworked', 'embodiment', 'sandwich', 'plants', 'biological', 'posse', 'unsophisticated', 'zp', 'daria', 'imagines', 'structures', 'anticipates', 'kings', 'goodfellas', 'shouts', 'loos', 'devastation', 'binder', 'allude', 'proportion', 'discusses', 'tasks', 'measured', 'horizon', 'eaters', 'sayuri', 'asano', 'tadanobu', 'sakura', 'brainwashing', 'meteor', 'aborted', 'communities', 'exchanges', 'spider', 'dc', 'salary', 'taunting', 'ppl', 'snorting', 'deteriorated', 'blasted', 'formerly', 'thomson', 'oft', 'gardens', 'stifling', 'congregation', 'sordid', 'aniston', 'powerfully', 'cynicism', 'geezer', 'clay', 'boorman', 'cahill', 'approve', 'workings', 'whips', 'loot', 'joining', 'adoring', 'transfered', 'tormented', 'unimportant', 'slayer', 'tumble', 'alberto', 'rattling', 'fernandez', 'gonzalez', 'trim', 'mastery', 'infinite', 'panel', 'traveler', 'photographing', 'calmly', 'flops', 'listless', 'hams', 'textbook', 'filmy', 'barriers', 'potboiler', 'helga', 'everytime', 'chopping', 'monogram', 'faints', 'investigative', 'maniacs', 'pose', 'visage', 'costar', 'duet', 'hairdresser', 'ramp', 'vicky', 'skewed', 'burden', 'paramour', 'twit', 'awkwardly', 'hysteria', 'coldly', 'conceivable', 'burdened', 'nominal', 'boards', 'philadelphia', 'cent', 'organizations', 'elton', 'rafiki', 'cheech', 'hyenas', 'distasteful', 'psychos', 'colossal', 'clarify', 'liang', 'tsai', 'fellini', 'picasso', 'yi', 'judges', 'undeserved', 'jonny', 'sooner', 'wal', 'mart', 'merchandise', 'makeshift', 'charade', 'justifying', 'settled', 'krell', 'quantum', 'morbius', 'apologizing', 'arrows', 'ap', 'virginity', 'eyebrow', 'jenny', 'gr', 'dune', 'gawky', 'tina', 'hamburg', 'preferable', 'yada', 'eighth', 'dumbfounded', 'paraphrase', 'alumni', 'bard', 'weissmuller', 'physique', 'octopus', 'mara', 'nursery', 'misfit', 'medication', 'billie', 'pasted', 'hulking', 'endangered', 'malevolent', 'inexorably', 'talia', 'goodies', 'roar', 'assailants', 'gym', 'strips', 'safety', 'shifty', 'showy', 'waterston', 'ado', 'wallop', 'misused', 'harbor', 'ideologies', 'stalin', 'cola', 'funnily', 'whopping', 'fallon', 'yankees', 'endeavors', 'unlimited', 'needn', 'pier', 'slammed', 'speeds', 'establishing', 'judgmental', 'intimidating', 'teachings', 'smirk', 'trendy', 'lieu', 'opts', 'unsympathetic', 'consistency', 'zimmer', 'barbie', 'shallowness', 'grimm', 'raggedy', 'babette', 'whiny', 'burlesque', 'friggin', 'coherence', 'clap', 'spoofing', 'cosmic', 'wreak', 'vagina', 'equipped', 'nugget', 'reminiscing', 'muddy', 'bury', 'ceremony', 'garth', 'forewarned', 'troy', 'rewriting', 'consumer', 'agamemnon', 'awkwardness', 'neve', 'contaminated', 'relish', 'grossing', 'napoleon', 'bont', 'spirals', 'downwards', 'weirdly', 'supremely', 'flu', 'tornadoes', 'tornado', 'midwest', 'twister', 'pipe', 'sacrificed', 'delta', 'undone', 'insecure', 'dominique', 'burgeoning', 'vanished', 'discloses', 'anthropologist', 'cristina', 'raines', 'alison', 'evidenced', 'cavorting', 'toss', 'sarandon', 'brownstone', 'terrace', 'ava', 'gardner', 'sylvia', 'angelo', 'plagued', 'headaches', 'nightly', 'upstairs', 'riddled', 'nary', 'unknowingly', 'anarchy', 'aaron', 'wickedly', 'dexter', 'affable', 'diner', 'hillbilly', 'abundant', 'commenter', 'lethargic', 'riffs', 'mannequin', 'expressive', 'thirsty', 'brawl', 'si', 'plastered', 'hugging', 'therapist', 'bewitched', 'crashers', 'convert', 'ohio', 'differs', 'inclined', 'cato', 'coven', 'abounds', 'aghast', 'shoving', 'schumacher', 'unrecognizable', 'detractors', 'perdition', 'fashionable', 'curses', 'illinois', 'overtones', 'churches', 'gleaming', 'acknowledged', 'animations', 'manny', 'evolving', 'prepares', 'regina', 'gomez', 'tinted', 'separation', 'distribute', 'biology', 'bolivia', 'units', 'eod', 'bumping', 'compilation', 'stooge', 'mystique', 'colman', 'bulldog', 'goldwyn', 'carton', 'rudolf', 'signe', 'hasso', 'staircase', 'edmond', 'shakespearian', 'iago', 'strangler', 'cheers', 'convict', 'folklore', 'gough', 'fiber', 'stricken', 'suppressing', 'mythological', 'bemused', 'conjured', 'glimmer', 'areas', 'descriptive', 'jedi', 'insultingly', 'enraged', 'barf', 'cram', 'muppet', 'nauseating', 'perverse', 'inflicting', 'crank', 'putrid', 'scarf', 'cesspool', 'poland', 'skimmed', 'nichole', 'betrayed', 'guerrilla', 'tuesday', 'jenkins', 'deluise', 'dialect', 'interacted', 'accounted', 'lemon', 'pudding', 'delights', 'skates', 'aubrey', 'rewrite', 'sliding', 'fireworks', 'garish', 'shifts', 'insulted', 'bakula', 'heavies', 'katharine', 'franchot', 'prejudiced', 'reckless', 'imitate', 'lon', 'chaney', 'alluded', 'brakes', 'electrocuted', 'dungeon', 'impersonator', 'partying', 'creeping', 'patched', 'ambiance', 'agonizing', 'digitally', 'remastered', 'undoing', 'isabelle', 'adjani', 'shelly', 'acquaintances', 'gears', 'surly', 'feelgood', 'labels', 'defy', 'irritated', 'vertigo', 'motifs', 'influential', 'agonizingly', 'sheltered', 'intricately', 'damme', 'vd', 'luc', 'ahmad', 'collects', 'superimposed', 'instalment', 'soderbergh', 'drowned', 'unwelcome', 'toro', 'calvin', 'esque', 'wailing', 'sadism', 'tormentors', 'retitled', 'toolbox', 'aardman', 'lizard', 'frustrating', 'snack', 'looser', 'comprise', 'cement', 'highlighting', 'defining', 'condescending', 'poop', 'lear', 'detailing', 'turbulent', 'rolle', 'jj', 'tamil', 'transplant', 'siren', 'trait', 'positions', 'smut', 'propelled', 'alcatraz', 'impersonation', 'entity', 'lambs', 'zatoichi', 'swordsman', 'panned', 'hounds', 'sexploitation', 'angelopoulos', 'joyful', 'aspire', 'sadder', 'basing', 'ichi', 'gandolfini', 'applegate', 'lowbrow', 'cheerfully', 'noticeably', 'workaholic', 'girlfriends', 'refreshingly', 'compromise', 'anaconda', 'rewritten', 'simpler', 'barn', 'shelby', 'hudson', 'smallville', 'dp', 'likability', 'es', 'showings', 'autobiographical', 'dolores', 'pratfalls', 'whodunnit', 'gi', 'walt', 'livingston', 'stepmother', 'lucifer', 'moralizing', 'surfaces', 'drowns', 'unearthed', 'guinea', 'bava', 'fold', 'freaky', 'flags', 'siegel', 'noah', 'bras', 'spunk', 'puking', 'cumming', 'nic', 'increased', 'incorporated', 'lopez', 'flik', 'terrorized', 'sniff', 'sneaks', 'slavic', 'gonzo', 'artillery', 'closeup', 'cleavage', 'bullied', 'council', 'gawd', 'apologise', 'bouvier', 'beale', 'hampton', 'feces', 'portraits', 'erected', 'crackers', 'clocks', 'thwarted', 'feeds', 'declares', 'bunker', 'personnel', 'willy', 'intoxicated', 'bench', 'mortally', 'hauled', 'compiled', 'fanciful', 'pang', 'resort', 'crate', 'plush', 'crabs', 'brolin', 'schmaltzy', 'radiant', 'apples', 'forbes', 'expenses', 'waif', 'unacceptable', 'diagnosed', 'lenses', 'anamorphic', 'innumerable', 'dive', 'lucille', 'ensuring', 'projecting', 'monopoly', 'evoking', 'upgrade', 'archer', 'vessel', 'fisherman', 'culmination', 'doubting', 'grammar', 'restrictions', 'bawdy', 'gruesomely', 'neurosis', 'winchester', 'spur', 'saucy', 'duryea', 'mcintire', 'mcnally', 'fiercely', 'intertwining', 'negotiation', 'consciously', 'traditionally', 'conflicting', 'nineteenth', 'enlightening', 'civilisation', 'dominate', 'preconceptions', 'wink', 'spectacularly', 'shamefully', 'february', 'toe', 'chairs', 'cupid', 'groaning', 'cohesion', 'emergency', 'downer', 'honors', 'fondly', 'publish', 'natali', 'cronenberg', 'digicorp', 'thursby', 'drone', 'wiping', 'pawn', 'infiltrate', 'paces', 'negatively', 'galipeau', 'poles', 'gadget', 'wildest', 'hamiltons', 'horrorfest', 'sustained', 'cupboard', 'cardinal', 'muck', 'telephone', 'congress', 'theodore', 'scorcese', 'uncreative', 'kitten', 'alarm', 'waist', 'thighs', 'idealized', 'curves', 'housekeeper', 'televised', 'voluptuous', 'immerse', 'reconcile', 'vida', 'forefront', 'injecting', 'pasts', 'intrinsically', 'boyish', 'lesbianism', 'unnamed', 'zealand', 'chrissy', 'danielle', 'jen', 'te', 'tart', 'splashed', 'sparring', 'klara', 'thoughtfully', 'float', 'appetite', 'dissatisfied', 'barman', 'dirk', 'outtakes', 'worries', 'finlayson', 'rufus', 'restraint', 'gravitas', 'bump', 'firth', 'darcy', 'chronic', 'eels', 'afterward', 'theoretically', 'changeling', 'jermaine', 'tract', 'marco', 'safer', 'porch', 'ploy', 'scotty', 'morgue', 'chews', 'herschel', 'val', 'lewton', 'cheapness', 'exchanged', 'eduardo', 'unimaginable', 'telegraphed', 'undertone', 'shemp', 'groom', 'blink', 'su', 'thunderbirds', 'frakes', 'thunderbird', 'mattered', 'traps', 'gerry', 'programming', 'ripoff', 'pulitzer', 'abe', 'encompasses', 'pioneer', 'gambit', 'cromwell', 'pauline', 'marjorie', 'tombstone', 'prosecuting', 'tripping', 'newest', 'tagged', 'butter', 'refrain', 'gymnast', 'triumphant', 'ive', 'bitching', 'rutger', 'vacuous', 'outweigh', 'dinosaurs', 'droppingly', 'riley', 'toto', 'overcame', 'marley', 'sic', 'lorenz', 'dementia', 'vows', 'walters', 'foibles', 'exploring', 'alejandro', 'youssef', 'chahine', 'scarface', 'ferocious', 'cheesiness', 'excess', 'misled', 'corleone', 'screenings', 'exuberance', 'pursue', 'dahmer', 'upheaval', 'stash', 'lowered', 'declaration', 'crimson', 'boobies', 'constitute', 'pumped', 'kenny', 'launch', 'incongruous', 'melbourne', 'fueled', 'idiosyncrasies', 'naivet', 'berkowitz', 'earthy', 'vinny', 'richie', 'offset', 'responding', 'brotherly', 'faded', 'snapped', 'publication', 'edmund', 'spiritually', 'socialite', 'elsa', 'lanchester', 'ideological', 'kattan', 'sen', 'boman', 'focal', 'seized', 'kasdan', 'forums', 'delinquency', 'beaton', 'recurring', 'blaring', 'deft', 'files', 'rev', 'cohn', 'reefer', 'paperhouse', 'lamer', 'caligari', 'vatican', 'emil', 'outstandingly', 'willingly', 'aggressively', 'virile', 'collectively', 'contributing', 'necklace', 'bias', 'screened', 'onwards', 'umm', 'dork', 'ceases', 'vanishing', 'stewardess', 'pilots', 'purports', 'descends', 'tiff', 'perversely', 'fanny', 'gyllenhaal', 'junkies', 'postal', 'colorado', 'accented', 'je', 'aime', 'blinding', 'freebird', 'profoundly', 'sasha', 'stained', 'caged', 'documentation', 'ankush', 'motivates', 'amends', 'plump', 'occupies', 'opted', 'percentage', 'brodie', 'flippen', 'wyatt', 'earp', 'geer', 'closeups', 'waco', 'trading', 'hackenstein', 'sheila', 'bambi', 'melanie', 'stacey', 'ramsey', 'olin', 'scrubs', 'classmate', 'clique', 'athletes', 'mil', 'brightest', 'gloomy', 'gloom', 'pok', 'multiply', 'figuring', 'epilogue', 'heartbeat', 'fide', 'slipper', 'rodent', 'quaint', 'gratifying', 'erendira', 'papas', 'malcom', 'saget', 'animosity', 'admiring', 'wool', 'unsatisfying', 'glam', 'velvet', 'concerts', 'groupie', 'glorify', 'excursion', 'buckets', 'terrorize', 'brittany', 'slay', 'measures', 'quincy', 'fixation', 'kilmer', 'seminal', 'maddening', 'closeness', 'mounted', 'martian', 'consume', 'obliged', 'insufferable', 'defects', 'replays', 'bankable', 'deus', 'machina', 'panoramic', 'pereira', 'gabriele', 'irs', 'frustrations', 'harrelson', 'interrupt', 'prosaic', 'defiant', 'sentiments', 'savannah', 'mccabe', 'goodbye', 'suggestive', 'excite', 'painstakingly', 'swamp', 'upright', 'bailey', 'ecological', 'lightning', 'risking', 'hd', 'discs', 'carrell', 'grandiose', 'insignificance', 'pintilie', 'yelnats', 'unlucky', 'falsely', 'quicker', 'poisonous', 'dares', 'deployed', 'condemned', 'mod', 'mushy', 'acres', 'plotline', 'boarding', 'paige', 'indicates', 'capitalize', 'commend', 'frances', 'filter', 'halls', 'cultists', 'automobiles', 'rom', 'cyber', 'alias', 'healed', 'cartwright', 'hoss', 'cartwrights', 'ponderosa', 'pinch', 'bordered', 'sanctimonious', 'blocker', 'matheson', 'tenant', 'lila', 'overcoming', 'boxed', 'weaponry', 'dice', 'carlin', 'surpass', 'freakin', 'gates', 'attends', 'whoa', 'convertible', 'clutter', 'overload', 'preparations', 'grounded', 'appleby', 'pi', 'locking', 'unintelligent', 'chatting', 'wahlberg', 'inherited', 'oozes', 'grudge', 'hispanic', 'gaze', 'undress', 'amnesia', 'injection', 'webber', 'metaphorical', 'synchronized', 'banker', 'ca', 'quarterback', 'replaying', 'gadgets', 'pumping', 'puddle', 'moocow', 'ernesto', 'guevara', 'fidel', 'diaries', 'touring', 'tackled', 'parter', 'guerilla', 'benicio', 'argentine', 'peasants', 'intellectuals', 'inevitability', 'intruder', 'indigenous', 'bolivian', 'tolstoy', 'outweighs', 'reproduce', 'splashy', 'byrne', 'modesty', 'blaise', 'capabilities', 'staden', 'miklos', 'webster', 'saddle', 'tatum', 'calvet', 'gannon', 'skagway', 'miners', 'gunman', 'yukon', 'unpopular', 'udo', 'sammi', 'curr', 'decay', 'tramell', 'bi', 'mastermind', 'remaking', 'doolittle', 'nutty', 'standup', 'inhabits', 'oversexed', 'thirds', 'objections', 'storylines', 'madame', 'squid', 'miguel', 'oxford', 'dong', 'hopeful', 'babbling', 'yelled', 'philipps', 'pocket', 'agitated', 'posey', 'stylistic', 'referential', 'whistle', 'gestapo', 'tunnels', 'escapees', 'dishonest', 'carface', 'itchy', 'junkyard', 'preservation', 'symbolizes', 'cooked', 'gooey', 'riveted', 'stench', 'zorro', 'bigotry', 'rudimentary', 'deformed', 'hiring', 'machete', 'foes', 'andr', 'strut', 'maniacal', 'macha', 'loan', 'zack', 'elusive', 'unravels', 'humility', 'recognizing', 'punctuated', 'groans', 'suppressed', 'rainn', 'obscene', 'tediously', 'consent', 'gallagher', 'rally', 'marcello', 'pursued', 'fascists', 'mussolini', 'illustrate', 'stagecoach', 'paine', 'una', 'ebay', 'restrictive', 'systems', 'tmnt', 'turtles', 'snuck', 'desdemona', 'seductress', 'underage', 'hog', 'continent', 'edinburgh', 'articulate', 'sade', 'cinematically', 'glimpsed', 'swept', 'disingenuous', 'courting', 'falco', 'snipes', 'grate', 'payback', 'tt', 'flo', 'undistinguished', 'sculptor', 'beds', 'srk', 'vipul', 'shah', 'ajay', 'asin', 'reinforces', 'conceited', 'recreated', 'sim', 'effected', 'breeze', 'recreates', 'catholics', 'sway', 'han', 'pitiable', 'overstatement', 'reputations', 'muscles', 'loathed', 'phantasm', 'diminishes', 'swaying', 'bevy', 'hemingway', 'quips', 'dressler', 'docks', 'trappings', 'likeness', 'retro', 'bey', 'distress', 'rosa', 'grenade', 'cord', 'sealed', 'goldeneye', 'prudish', 'kennel', 'ancestors', 'marcel', 'slackers', 'narcissistic', 'gazing', 'relatable', 'weakly', 'grinch', 'kolchak', 'hecht', 'reporting', 'louisiana', 'inhabiting', 'keenan', 'wynn', 'founder', 'undiscovered', 'wherever', 'ellis', 'bureaucrat', 'trelkovsky', 'rents', 'unfaithful', 'lbs', 'bs', 'expanding', 'passive', 'conspiracies', 'moses', 'wistful', 'assertion', 'maslin', 'adelaide', 'lovell', 'belongings', 'vignettes', 'patrons', 'carnal', 'discomfort', 'pubescent', 'advertisement', 'rash', 'internationally', 'orientation', 'remembering', 'madhur', 'bhandarkar', 'selective', 'elder', 'overnight', 'hess', 'attendance', 'delves', 'assaulted', 'squalor', 'coated', 'outsiders', 'songwriter', 'dizzy', 'norma', 'shearer', 'raining', 'proclaims', 'reciting', 'visibly', 'rios', 'abusing', 'duplicitous', 'tricking', 'cortes', 'famine', 'components', 'ziering', 'awesomely', 'meeker', 'tnt', 'spraying', 'hubby', 'salma', 'viciously', 'effortless', 'novella', 'unparalleled', 'arbuckle', 'rotj', 'cited', 'stormtroopers', 'overpowering', 'ropes', 'conquest', 'chewbacca', 'armies', 'annakin', 'saber', 'michele', 'conform', 'certificate', 'philo', 'vance', 'astor', 'unsolved', 'forensic', 'corp', 'fateful', 'whereby', 'recluse', 'denied', 'tending', 'recovery', 'sinclair', 'plummer', 'saffron', 'burrows', 'sketchy', 'warhols', 'dysfunction', 'showcasing', 'vh', 'stripes', 'execs', 'polarisdib', 'lurks', 'trademarks', 'piled', 'kari', 'wuhrer', 'mckenna', 'whack', 'sizzling', 'shack', 'mia', 'bestiality', 'warring', 'sergei', 'crazies', 'criterion', 'obey', 'ribisi', 'poo', 'capitalist', 'exhibition', 'hardships', 'humorless', 'blessed', 'alfre', 'woodard', 'bassett', 'moonstruck', 'matron', 'malle', 'blaming', 'intervening', 'gosford', 'nominate', 'mulholland', 'redford', 'jab', 'improbably', 'genitalia', 'kindness', 'spiders', 'dinocroc', 'sizes', 'claws', 'burstyn', 'horne', 'directer', 'dramatics', 'countess', 'ancestor', 'samson', 'mesh', 'recomend', 'arrange', 'striving', 'esoteric', 'lukewarm', 'spaces', 'personas', 'stems', 'fey', 'poehler', 'embodies', 'gauge', 'frequency', 'departments', 'molesting', 'commie', 'slacker', 'breakup', 'chronological', 'disk', 'rationale', 'heaped', 'indicative', 'undying', 'chad', 'belgrade', 'approximately', 'backbone', 'ism', 'resting', 'gamers', 'bosom', 'debates', 'weston', 'tripod', 'goon', 'embezzler', 'competitor', 'schwimmer', 'kudrow', 'blanc', 'pact', 'impulse', 'emilio', 'mare', 'winningham', 'mathematical', 'asimov', 'parameters', 'hardware', 'solves', 'anguished', 'hartnett', 'ordering', 'uncovered', 'scriptwriting', 'frustratingly', 'ringing', 'conceit', 'checkout', 'peppered', 'sookie', 'modine', 'romantically', 'weddings', 'burman', 'sparkle', 'brained', 'workable', 'scraping', 'micro', 'catering', 'toots', 'bradshaw', 'minding', 'unwanted', 'unflinching', 'kureishi', 'pension', 'complication', 'doubly', 'feds', 'tutor', 'ji', 'elections', 'bolt', 'jeffery', 'bracelet', 'nickname', 'lesley', 'sailor', 'spaceballs', 'cobra', 'literate', 'lynchian', 'englund', 'springwood', 'elm', 'diminishing', 'mug', 'atheist', 'topper', 'leans', 'goldblum', 'dorfman', 'balances', 'behaviors', 'hirsch', 'pleading', 'cutouts', 'maclaine', 'afterwords', 'spans', 'apathetic', 'galactica', 'chickens', 'imply', 'gillian', 'talbot', 'allied', 'serpent', 'posed', 'milquetoast', 'shriek', 'harass', 'romano', 'barrett', 'jimmie', 'governor', 'extinction', 'tracey', 'threshold', 'waterfall', 'astronaut', 'radioactive', 'dissolves', 'saturn', 'contracted', 'hospitals', 'supervision', 'hunger', 'myron', 'prosthetic', 'corridor', 'competently', 'piling', 'comrades', 'devise', 'wade', 'underwritten', 'iris', 'acquaintance', 'condemn', 'owning', 'concoction', 'fathom', 'ers', 'sputnik', 'tribulations', 'motivating', 'disagreement', 'reincarnated', 'dullness', 'offenders', 'avenging', 'radiates', 'busting', 'prosthetics', 'flees', 'circling', 'soulful', 'debris', 'jar', 'doubles', 'compares', 'clutters', 'massacred', 'herb', 'noose', 'clinical', 'duplicated', 'mas', 'militia', 'fortress', 'ringer', 'aesthetics', 'baba', 'rajinikanth', 'wyoming', 'brokeback', 'seething', 'porsche', 'stared', 'paralyzed', 'closes', 'squirrel', 'critter', 'leguizamo', 'denis', 'leary', 'predatory', 'fatalistic', 'momentarily', 'forthcoming', 'mating', 'chant', 'gainsbourg', 'doubtful', 'lottery', 'completing', 'bloodsuckers', 'lil', 'slices', 'balloon', 'signified', 'hbk', 'tore', 'funk', 'ovation', 'tia', 'constipated', 'abject', 'runt', 'sorcerer', 'rug', 'mermaid', 'bastards', 'mache', 'mish', 'horner', 'liev', 'jerome', 'davenport', 'abandonment', 'facile', 'cheryl', 'bryant', 'counseling', 'broom', 'jocks', 'stoltz', 'taping', 'oprah', 'sematary', 'creed', 'jud', 'zelda', 'wilhelm', 'prescient', 'extermination', 'hanger', 'mohr', 'exteriors', 'psychedelic', 'glorified', 'roadkill', 'examining', 'shrine', 'perversion', 'circular', 'fearless', 'mahoney', 'caprice', 'patinkin', 'sweaty', 'noirs', 'sympathies', 'labyrinthine', 'honour', 'delicately', 'witchery', 'bona', 'overdue', 'commonly', 'besotted', 'passionately', 'dobson', 'carlyle', 'loathing', 'parodying', 'nosferatu', 'delpy', 'commentaries', 'retrospective', 'oldies', 'sickness', 'lexi', 'savor', 'manhood', 'sol', 'enslaved', 'bidding', 'milking', 'eisenberg', 'stubby', 'kaye', 'rockin', 'lament', 'kidd', 'surpassing', 'rae', 'maher', 'objectivity', 'cara', 'addressing', 'varma', 'babban', 'carving', 'gabbar', 'scar', 'mohanlal', 'ki', 'prc', 'strangle', 'middleton', 'wishful', 'builder', 'broadcasts', 'islamic', 'backward', 'lafitte', 'rhino', 'venom', 'inventions', 'overs', 'addled', 'pikachu', 'heres', 'illiteracy', 'chocolate', 'bro', 'sage', 'stirba', 'burgess', 'meredith', 'trippy', 'conroy', 'batwoman', 'dismay', 'tapped', 'raye', 'congo', 'cuz', 'notoriously', 'smiles', 'scalpel', 'unstoppable', 'meyer', 'dakota', 'fanning', 'dragonfly', 'ranking', 'bikers', 'toughness', 'girlfight', 'santiago', 'boxers', 'rants', 'deficiencies', 'acrobatics', 'villages', 'balkan', 'participated', 'baptist', 'hallways', 'translating', 'sesame', 'casa', 'requiring', 'discourse', 'presidency', 'sorbonne', 'wacko', 'succumbs', 'raging', 'cramer', 'cringing', 'scoff', 'righteousness', 'cancellation', 'fiery', 'rails', 'skater', 'reworking', 'raiders', 'resnais', 'reds', 'festering', 'showman', 'terrors', 'resonant', 'colonialism', 'commands', 'africans', 'leftover', 'taunts', 'oppressors', 'yves', 'montand', 'fangoria', 'rubbing', 'bereft', 'revived', 'slated', 'condemning', 'commentator', 'pazu', 'subs', 'tel', 'aviv', 'penetrate', 'epitomized', 'exiled', 'coonskin', 'pappy', 'expendable', 'hooligans', 'organised', 'contemplating', 'herd', 'adele', 'starlets', 'transfers', 'jeez', 'ek', 'uncontrollable', 'zucker', 'ayers', 'schizophrenia', 'skid', 'rehab', 'borrowing', 'gabe', 'rooker', 'coolest', 'budgetary', 'bedknobs', 'broomsticks', 'parenting', 'blitz', 'portobello', 'blackmailing', 'roddy', 'mcdowall', 'vicar', 'disapproving', 'frosty', 'insensitive', 'indestructible', 'napier', 'herrings', 'mani', 'spunky', 'marbles', 'sensationally', 'swill', 'knowles', 'dispatches', 'satisfactorily', 'hardwicke', 'westerner', 'alarming', 'legged', 'craving', 'sierra', 'deluded', 'tumbling', 'hefty', 'milton', 'issued', 'valiant', 'claustrophobia', 'marquee', 'milked', 'roars', 'hastily', 'juicy', 'condensed', 'sweep', 'ursula', 'fares', 'bulging', 'pong', 'cleopatra', 'julius', 'sexed', 'escalating', 'psychoanalyst', 'otis', 'drugstore', 'sculpture', 'weber', 'clarkson', 'suzy', 'jayne', 'buses', 'farther', 'copying', 'fudge', 'baptists', 'skies', 'flapping', 'petrified', 'slumber', 'proposition', 'farrelly', 'weave', 'tristan', 'gervais', 'gaiman', 'fertile', 'disclosed', 'hug', 'substituted', 'snide', 'diet', 'indies', 'licking', 'savini', 'lauded', 'verse', 'ladd', 'prizzi', 'mulder', 'scully', 'indescribably', 'coins', 'jam', 'limbo', 'tapestry', 'graced', 'identified', 'revisit', 'heaton', 'savings', 'storms', 'pasdar', 'contradiction', 'aileen', 'orgasm', 'dogville', 'unfocused', 'dregs', 'commissioned', 'sombre', 'reitman', 'gardener', 'giggle', 'missiles', 'plausibility', 'ullman', 'dots', 'sony', 'walrus', 'resent', 'freakish', 'schmidt', 'eleanor', 'bitterness', 'drip', 'prayers', 'operating', 'ridiculousness', 'conjure', 'rhonda', 'scratches', 'iota', 'gleefully', 'audible', 'gasping', 'flashed', 'smoky', 'theorists', 'notions', 'undeservedly', 'spiteful', 'snot', 'spoils', 'hawkins', 'urbane', 'parodied', 'egyptian', 'goa', 'uld', 'romans', 'presently', 'cheyenne', 'col', 'shanks', 'tapping', 'ori', 'maestro', 'reptilian', 'multiplex', 'accuse', 'prissy', 'soundtracks', 'excessively', 'princes', 'destroyer', 'referenced', 'universally', 'gabriella', 'schlocky', 'magnetism', 'kitt', 'rosalba', 'neri', 'yuma', 'spray', 'bald', 'neglecting', 'archetype', 'ouch', 'cusak', 'roam', 'ramble', 'newton', 'escapism', 'contemplative', 'selfishness', 'shabby', 'greasy', 'yuk', 'gladys', 'courtship', 'dourif', 'lew', 'summoned', 'tautou', 'timeline', 'strickland', 'twisters', 'hijacking', 'geronimo', 'palermo', 'malta', 'concluding', 'sabotage', 'spew', 'rgv', 'devgan', 'heero', 'borzage', 'patsy', 'cairo', 'hindered', 'uniqueness', 'lists', 'pressburger', 'bounds', 'descend', 'creeped', 'lampoon', 'beginners', 'glitzy', 'spoons', 'pap', 'capra', 'sturges', 'sweethearts', 'poignancy', 'godard', 'truffaut', 'anecdote', 'overt', 'torrent', 'infants', 'talkies', 'bowie', 'softly', 'humming', 'carousel', 'flourishes', 'cues', 'unwarranted', 'cillian', 'mcadams', 'rippner', 'succubus', 'alternating', 'forte', 'dogged', 'android', 'implore', 'mencia', 'rhymes', 'tivo', 'fleischer', 'alphabet', 'cashier', 'possessions', 'smokes', 'emphasizing', 'predicament', 'blethyn', 'pictured', 'kira', 'expressionism', 'impediment', 'fuels', 'abiding', 'idealism', 'ruben', 'jeepers', 'creepers', 'helm', 'hyperactive', 'asides', 'firefly', 'serenity', 'retirement', 'handicap', 'innuendos', 'submitted', 'snobby', 'sacrificing', 'olivia', 'suitor', 'raider', 'booty', 'tee', 'hee', 'dueling', 'ronny', 'robocop', 'distinguishes', 'wargames', 'computers', 'operated', 'pursuits', 'hacker', 'joshua', 'exudes', 'crudely', 'sica', 'hr', 'evangelion', 'playground', 'cursory', 'pantomime', 'ott', 'cassette', 'dwelling', 'reactionary', 'caste', 'feudal', 'nymphomaniac', 'miya', 'colbert', 'weirdest', 'swat', 'cellphone', 'elaine', 'dtv', 'vignette', 'incorporate', 'speaker', 'gere', 'capshaw', 'fruition', 'inxs', 'rafael', 'bohemian', 'rhapsody', 'ontario', 'exchanging', 'rendezvous', 'rosalie', 'tendencies', 'slain', 'cranky', 'crops', 'honey', 'shrouded', 'guild', 'onstage', 'strangled', 'suffocating', 'silvers', 'bilko', 'inescapable', 'clayton', 'gossip', 'stephens', 'inherits', 'geneva', 'pollack', 'terminology', 'archives', 'pork', 'pander', 'thumping', 'athlete', 'trainer', 'retelling', 'tar', 'capsule', 'plowright', 'mississippi', 'occupying', 'alabama', 'moi', 'floriane', 'phrases', 'summers', 'illusions', 'representative', 'shitty', 'burying', 'spanning', 'retail', 'jacknife', 'therefor', 'garb', 'mold', 'removes', 'starved', 'semen', 'scot', 'incubus', 'repercussions', 'americana', 'barrie', 'converse', 'sorta', 'silverman', 'bernstein', 'neighborhoods', 'alfonso', 'termed', 'ida', 'lupino', 'maltin', 'timmy', 'patronising', 'column', 'atul', 'kulkarni', 'airs', 'pestilence', 'chairman', 'wordy', 'afternoons', 'prizes', 'tawdry', 'maman', 'extract', 'swain', 'expelled', 'contents', 'rejects', 'throbbing', 'stunted', 'crackling', 'saccharine', 'ziyi', 'implanted', 'animate', 'swine', 'promos', 'dreamworks', 'rebirth', 'adverts', 'lancaster', 'boyd', 'twain', 'mythic', 'shove', 'horseback', 'trailing', 'permit', 'informed', 'scheduled', 'cds', 'ye', 'barbaric', 'jacob', 'emilia', 'bios', 'erection', 'gaudy', 'showbiz', 'rosetta', 'revue', 'serrault', 'defenders', 'symbolically', 'analyzed', 'memorably', 'fargo', 'newfound', 'grander', 'tragically', 'treads', 'pufnstuf', 'accomplishes', 'bewildering', 'seaman', 'perfunctory', 'jets', 'formation', 'variant', 'meters', 'loggia', 'moby', 'heidi', 'inventiveness', 'disneyland', 'weaves', 'permanently', 'koch', 'moretti', 'martinez', 'hogwash', 'imaginary', 'strauss', 'diplomatic', 'salaam', 'worships', 'marble', 'moan', 'condom', 'quickie', 'prashant', 'weismuller', 'awed', 'roster', 'shouted', 'watery', 'assailant', 'hagen', 'maradona', 'visiteurs', 'lv', 'busts', 'adversaries', 'postcard', 'onset', 'toddler', 'practices', 'vanities', 'oakie', 'accountant', 'solidly', 'perpetrated', 'levinson', 'starfleet', 'magnitude', 'unisols', 'unisol', 'jai', 'classed', 'jessie', 'matthews', 'overlooking', 'bitchy', 'diablo', 'lindy', 'titans', 'jacobi', 'fingernails', 'ness', 'cetera', 'gorgeously', 'inkling', 'tassi', 'perceptive', 'notebook', 'craves', 'courses', 'stead', 'essay', 'singapore', 'grinding', 'rodeo', 'cough', 'slums', 'joints', 'zodiac', 'arabs', 'har', 'abbas', 'distractions', 'begged', 'hungary', 'tournament', 'hurriedly', 'appealed', 'pope', 'stresses', 'milan', 'smacks', 'barr', 'aquarium', 'django', 'curl', 'ummm', 'loaf', 'midlife', 'succinctly', 'quiz', 'donnie', 'abysmally', 'infuriating', 'mahatma', 'cavalry', 'offensively', 'fletcher', 'stirs', 'campiness', 'potty', 'titillating', 'shaq', 'crossover', 'powder', 'greenwich', 'sur', 'magnetic', 'perceptions', 'hectic', 'thematically', 'dispatched', 'dismembered', 'completists', 'kibbutz', 'strikingly', 'cum', 'defends', 'screws', 'gloriously', 'cornball', 'affections', 'surrealism', 'bending', 'delving', 'objectionable', 'wouldnt', 'elf', 'batgirl', 'gripped', 'hurl', 'bankruptcy', 'agendas', 'makeover', 'strategy', 'organize', 'evaluation', 'whores', 'corin', 'nemec', 'jackets', 'affinity', 'gall', 'mabel', 'cheery', 'bombers', 'macarthur', 'taps', 'tactical', 'flanders', 'sheryl', 'fatalism', 'laziness', 'awaited', 'paulo', 'typing', 'pullman', 'prequels', 'kovacs', 'silents', 'autopsy', 'worms', 'rammed', 'benedict', 'heartedly', 'carolina', 'cozy', 'uninitiated', 'creations', 'clutches', 'chillers', 'winslet', 'transfixed', 'iceberg', 'naming', 'anticipate', 'dingo', 'exceeded', 'whos', 'zechs', 'liability', 'resonate', 'nuance', 'esai', 'morales', 'montgomery', 'chester', 'moto', 'spatula', 'antz', 'pretenses', 'fahey', 'tan', 'uncharacteristically', 'largest', 'twitch', 'cock', 'melted', 'descendant', 'omg', 'tanner', 'ark', 'barbecue', 'leroy', 'incompetence', 'terrestrial', 'enthusiast', 'cuss', 'troop', 'arctic', 'tilly', 'eligible', 'categorized', 'girlie', 'carlisle', 'brisson', 'leisen', 'fiance', 'subgenre', 'unsurprisingly', 'toenails', 'antichrist', 'overlapping', 'bees', 'evers', 'onscreen', 'dismemberment', 'pavarotti', 'objectively', 'giorgio', 'admits', 'nibelungen', 'siegfried', 'fritz', 'lang', 'swelling', 'kriemhild', 'naturalism', 'manipulates', 'trashed', 'tuning', 'maya', 'robe', 'spellbinding', 'lamberto', 'ogre', 'hellraiser', 'zenith', 'crafts', 'mower', 'mcdoakes', 'raft', 'foran', 'shipped', 'advises', 'downstairs', 'devine', 'admitting', 'particles', 'barrage', 'interrupting', 'blasphemous', 'chunky', 'jonestown', 'tens', 'lanisha', 'impoverished', 'mckay', 'interface', 'threats', 'recalling', 'shear', 'pyle', 'sphere', 'centred', 'clowns', 'para', 'trucks', 'brightly', 'explorers', 'julien', 'alarms', 'lined', 'melville', 'rewind', 'jawed', 'harbors', 'nosed', 'diagnosis', 'doodlebops', 'drool', 'puff', 'battalion', 'blindness', 'negatives', 'libby', 'btk', 'rasuk', 'implication', 'exercises', 'unending', 'deconstruction', 'mechanics', 'invasions', 'nat', 'mala', 'alleys', 'limb', 'whoville', 'contradictory', 'slutty', 'bolton', 'tack', 'amato', 'benton', 'sabertooth', 'anders', 'finances', 'backstabbing', 'recommendable', 'yakuza', 'gauri', 'thespian', 'thespians', 'harilal', 'akshaye', 'khanna', 'raspy', 'jarvis', 'urgent', 'pastoral', 'bello', 'syriana', 'pony', 'patented', 'evade', 'lamour', 'luxurious', 'cuckoo', 'schrader', 'scripture', 'imax', 'gamblers', 'havana', 'succession', 'stupider', 'unwisely', 'experimenting', 'johns', 'pol', 'vietnamese', 'stefan', 'orgies', 'stripping', 'millie', 'haley', 'tangled', 'clare', 'unworthy', 'conditioned', 'homemade', 'chomsky', 'unassuming', 'noam', 'outta', 'blades', 'dismayed', 'clavier', 'poir', 'vulgarity', 'labored', 'postwar', 'enigma', 'bosnian', 'palestine', 'jnr', 'capability', 'furst', 'cadet', 'myriad', 'brewing', 'substituting', 'cherie', 'shield', 'depended', 'vivah', 'shahid', 'rao', 'sooraj', 'barjatya', 'anupam', 'kher', 'pyar', 'hahk', 'saath', 'hain', 'congrats', 'juhi', 'dhoom', 'shipment', 'rowdy', 'merciless', 'joyless', 'brimming', 'creditable', 'pitcher', 'mist', 'genders', 'sims', 'jumbo', 'wtc', 'maze', 'assassinated', 'hesitant', 'consumerism', 'hayao', 'muska', 'dola', 'retread', 'rampling', 'harassed', 'slavoj', 'zizek', 'evangelical', 'voyeur', 'sermon', 'inserting', 'ramifications', 'diseases', 'detect', 'lillies', 'infomercial', 'ramtha', 'leonora', 'pastiche', 'boasted', 'optical', 'fanboy', 'luthor', 'bosworth', 'marsden', 'tropical', 'asshole', 'circulation', 'chap', 'tremaine', 'talkative', 'gibberish', 'mavens', 'gaunt', 'prophecies', 'shaping', 'enforced', 'swashbucklers', 'replicate', 'kali', 'regiment', 'inserts', 'privates', 'captains', 'nay', 'sociological', 'theresa', 'integrate', 'preconceived', 'grad', 'speculation', 'alters', 'notre', 'rerun', 'resisted', 'chalkboard', 'etched', 'boyhood', 'input', 'evan', 'unpredictability', 'venoms', 'camerawork', 'decipher', 'blacksnake', 'uncharted', 'vixen', 'dominatrix', 'kobayashi', 'gymnastics', 'footlight', 'versatility', 'kibbee', 'exiting', 'chevy', 'cavalier', 'towering', 'hairstyles', 'dissolution', 'guise', 'grasping', 'bla', 'sledgehammer', 'royston', 'vasey', 'populace', 'sneaky', 'vortex', 'kessler', 'survey', 'sydow', 'choked', 'lerner', 'operator', 'conjunction', 'hallam', 'swiftly', 'interrupts', 'weighed', 'amateurishly', 'nonchalantly', 'passages', 'solitude', 'prose', 'peaked', 'contacted', 'buford', 'pusser', 'collision', 'spins', 'reminisce', 'unprecedented', 'flare', 'priorities', 'idiosyncratic', 'flirtatious', 'joyous', 'consolation', 'tents', 'syndicated', 'owing', 'channing', 'nan', 'whoopie', 'confidant', 'daffy', 'raul', 'alamo', 'lulu', 'honourable', 'flattering', 'unrealistically', 'soundstage', 'utters', 'publicist', 'scoring', 'banning', 'harper', 'trey', 'kermit', 'underpinnings', 'shen', 'spiral', 'hatches', 'implements', 'moms', 'aykroyd', 'inoffensive', 'vegetables', 'collaborator', 'loomis', 'fuqua', 'depressingly', 'pawns', 'economical', 'kristy', 'swanson', 'busta', 'bums', 'antwerp', 'regurgitated', 'kat', 'bubba', 'guerrero', 'dashed', 'soar', 'jericho', 'rvd', 'brock', 'choking', 'scissors', 'climbed', 'bischoff', 'whacked', 'spilled', 'guillotine', 'bleep', 'concentrated', 'misfits', 'grotesquely', 'empowerment', 'ta', 'vivacious', 'redundancy', 'gundams', 'stroker', 'loni', 'typed', 'splashes', 'vans', 'hobbit', 'dimwitted', 'shawshank', 'gathers', 'awaits', 'ripley', 'unlock', 'healer', 'ministry', 'drying', 'healing', 'sympathetically', 'theatrically', 'unavailable', 'trusty', 'waterloo', 'heartland', 'margaux', 'inaccuracy', 'morrison', 'fetishes', 'kabuki', 'despise', 'cad', 'donnell', 'cleans', 'aneta', 'corsaut', 'skepticism', 'corrected', 'unborn', 'abortions', 'theoretical', 'extraneous', 'unbeknownst', 'craps', 'deconstruct', 'brag', 'stevie', 'abhorrent', 'gigs', 'flashdance', 'casper', 'truthfully', 'hostages', 'bulls', 'dolemite', 'remarked', 'merging', 'chronologically', 'preteen', 'serbs', 'presidents', 'washes', 'afar', 'choi', 'davy', 'rollicking', 'attest', 'ferguson', 'frantically', 'hickam', 'instructed', 'unleashes', 'gig', 'beery', 'restoring', 'introductory', 'claudia', 'dogme', 'violet', 'gingold', 'execute', 'comrade', 'coronation', 'capitalists', 'dross', 'whitney', 'brushed', 'pitying', 'blinking', 'charitable', 'constable', 'ridiculed', 'vault', 'shogunate', 'mumbo', 'gunning', 'chiba', 'respectful', 'tremors', 'lunacy', 'wisecracking', 'ditsy', 'uninformed', 'litany', 'claymation', 'boomers', 'amaze', 'cancels', 'smiled', 'reserve', 'alienate', 'mindy', 'lilies', 'sciamma', 'teases', 'obsessions', 'hare', 'ch', 'peruvian', 'golem', 'smarts', 'defeats', 'testify', 'proclaim', 'sparkling', 'spinster', 'fences', 'addison', 'tsing', 'bulgarian', 'ammunition', 'antonietta', 'properties', 'taffy', 'stepin', 'fetchit', 'paved', 'misunderstanding', 'revisited', 'piggy', 'stamp', 'storyteller', 'boisterous', 'hisaishi', 'mononoke', 'bearded', 'subtitle', 'restraining', 'sloan', 'lecherous', 'abetted', 'hawks', 'eisenstein', 'tamer', 'utilizes', 'sarno', 'quirkiness', 'verve', 'anecdotes', 'pablo', 'az', 'disposition', 'spontaneity', 'skips', 'gardenia', 'sensuality', 'pardon', 'whit', 'disregarded', 'mcnamara', 'starsky', 'jill', 'liverpool', 'dreyfus', 'barkin', 'barbarians', 'recycling', 'colorless', 'adrenalin', 'goons', 'duchess', 'rockies', 'ghoul', 'domergue', 'jolts', 'ri', 'seeds', 'setups', 'morph', 'mano', 'hiroshima', 'amour', 'chabrol', 'aud', 'treasures', 'sugiyama', 'durante', 'mazursky', 'parador', 'sonia', 'braga', 'frustrate', 'deadbeat', 'colleges', 'lecturer', 'plank', 'benkei', 'karma', 'aftertaste', 'stuttering', 'comprises', 'mein', 'responded', 'gleeful', 'outcasts', 'bront', 'willed', 'pleasance', 'hatton', 'distressing', 'entangled', 'bluth', 'faust', 'frat', 'feminism', 'appease', 'pandora', 'revolutions', 'bjork', 'whaling', 'fecal', 'shrunk', 'workmanlike', 'erstwhile', 'superlative', 'snooze', 'pluto', 'aloof', 'impenetrable', 'lassick', 'purchasing', 'hasty', 'americanized', 'gammera', 'pumba', 'sceptical', 'hakuna', 'matata', 'preface', 'shea', 'newcombe', 'bjm', 'perpetuates', 'nameless', 'paychecks', 'aficionados', 'mcadam', 'scholar', 'snobbery', 'captivity', 'teau', 'lumiere', 'russel', 'garam', 'priyadarshan', 'hera', 'pheri', 'hungama', 'airplanes', 'boeing', 'steep', 'emy', 'wallow', 'uninhibited', 'crater', 'heal', 'recommendations', 'characterisations', 'lapse', 'strummer', 'psychopaths', 'turkeys', 'yentl', 'mercenary', 'pacifist', 'dons', 'aplenty', 'utilize', 'stoners', 'illegitimate', 'fav', 'skeleton', 'onslaught', 'fischer', 'borlenghi', 'archaeological', 'awaken', 'madge', 'publicly', 'impostor', 'legitimacy', 'scroll', 'ascertain', 'nisha', 'kothari', 'welcomes', 'incessantly', 'stew', 'delon', 'childishly', 'olga', 'phenomenally', 'flood', 'mcbride', 'conducted', 'adolescents', 'hairs', 'merrill', 'cobb', 'pentagon', 'lava', 'countdown', 'yanks', 'swap', 'hail', 'taxes', 'polluted', 'crucified', 'humourless', 'librarians', 'neverending', 'pleas', 'roadie', 'softer', 'landlady', 'defenseless', 'fitted', 'offices', 'sacrificial', 'yankee', 'lawson', 'sarafina', 'pyrotechnics', 'probation', 'culminate', 'eventful', 'colagrande', 'tenuous', 'impose', 'dizzying', 'shefali', 'priyanka', 'gujarati', 'decadence', 'celebi', 'shutting', 'hattie', 'higgins', 'emerson', 'myrtle', 'sync', 'ishq', 'demunn', 'chikatilo', 'monotony', 'hoo', 'errand', 'clashes', 'spellbound', 'ulysses', 'klaus', 'sennett', 'intertitles', 'hilliard', 'ozzie', 'memento', 'engulfed', 'trifle', 'darko', 'biggie', 'ammo', 'laptop', 'tortuous', 'ks', 'cotten', 'matuschek', 'facet', 'nastassja', 'floundering', 'globalization', 'weisz', 'giamatti', 'azumi', 'jody', 'imperfect', 'buildup', 'caton', 'moot', 'machismo', 'bradbury', 'rhoda', 'winfield', 'binoculars', 'spotting', 'barefoot', 'pup', 'fiendish', 'mirren', 'dir', 'dillinger', 'dv', 'shaved', 'knots', 'voyeuristic', 'becky', 'unknowns', 'starewicz', 'misuse', 'mimicking', 'revolved', 'concentrating', 'lenny', 'poised', 'prospective', 'popeye', 'alcoholics', 'dakar', 'greenstreet', 'kazaam', 'dooley', 'gil', 'pabst', 'rift', 'writhing', 'borel', 'fumbling', 'kindergarten', 'libre', 'oddness', 'exaggerations', 'rife', 'implying', 'advancing', 'isaacs', 'mace', 'poirot', 'auditions', 'slicker', 'scalise', 'trot', 'tights', 'connell', 'dutton', 'reduces', 'willard', 'infatuated', 'sensuous', 'mogul', 'dino', 'overdose', 'suicides', 'pinup', 'jc', 'helluva', 'ugliness', 'benchmark', 'robby', 'ossessione', 'shirtless', 'roma', 'assignments', 'kinetic', 'frigid', 'centering', 'scrat', 'belts', 'moans', 'tongues', 'embody', 'hunchback', 'brevity', 'tribeca', 'archetypes', 'gould', 'justifiably', 'apollonia', 'hanzo', 'strutting', 'hinting', 'boldly', 'touchy', 'smeared', 'rears', 'limo', 'harmful', 'backup', 'tinker', 'wince', 'desmond', 'floyd', 'baseketball', 'gentileschi', 'burger', 'profane', 'addy', 'sctv', 'wellington', 'wham', 'keyes', 'michigan', 'marker', 'hanna', 'adama', 'enlists', 'clients', 'beck', 'filone', 'ronda', 'currie', 'bubblegum', 'dumbed', 'stagey', 'elinore', 'plasma', 'friel', 'womanizer', 'kirkland', 'viet', 'jos', 'urich', 'isnt', 'booby', 'jeopardy', 'geriatric', 'hammers', 'blurry', 'promotes', 'berman', 'bimbos', 'alt', 'reviving', 'syfy', 'sherman', 'dell', 'reverence', 'contrivance', 'alienator', 'rot', 'baroque', 'undertake', 'ussr', 'foreigners', 'solar', 'wackiness', 'garson', 'concur', 'quatermain', 'silva', 'drago', 'alastair', 'deserts', 'plead', 'gallico', 'fagin', 'semitic', 'emory', 'arsenal', 'iowa', 'arranges', 'mould', 'matriarch', 'hickock', 'whitman', 'yuen', 'consensus', 'donor', 'distressed', 'dawns', 'scanners', 'envisioned', 'moose', 'ahab', 'kleenex', 'dreamgirls', 'mayfield', 'mckee', 'undercut', 'downloaded', 'montford', 'hatchet', 'stupor', 'pancake', 'saucer', 'burtynsky', 'natures', 'contradictions', 'scratched', 'belafonte', 'levine', 'smokey', 'affectionately', 'robs', 'picker', 'prix', 'yank', 'leila', 'shortage', 'decorations', 'coats', 'additions', 'hahaha', 'attackers', 'imbecilic', 'snatchers', 'sparkles', 'monique', 'yorkshire', 'sawyer', 'icky', 'frothy', 'blackadder', 'hornblower', 'thornway', 'despises', 'lordi', 'oversight', 'catered', 'smoked', 'obtaining', 'abrasive', 'evenings', 'backing', 'savages', 'misstep', 'truncated', 'omission', 'sicko', 'breasted', 'fittingly', 'bachman', 'kip', 'eccleston', 'memphis', 'specified', 'sturdy', 'snotty', 'howl', 'kober', 'liner', 'oj', 'formal', 'intensive', 'hallway', 'wachowski', 'sledge', 'royce', 'woulda', 'molested', 'horrifically', 'transplants', 'quibbles', 'pursuer', 'deceptive', 'archaic', 'unobtrusive', 'invaders', 'gorris', 'nabokov', 'grams', 'oshii', 'tetsuo', 'ravenous', 'mediums', 'fastest', 'bergen', 'wincing', 'torturous', 'kabei', 'slaps', 'backside', 'tadashi', 'vibes', 'sato', 'umbrella', 'flights', 'mankiewicz', 'driveway', 'solaris', 'streams', 'sayonara', 'gimme', 'shimizu', 'controller', 'findings', 'oswald', 'schygulla', 'med', 'prominence', 'amenabar', 'boyz', 'insufficient', 'neville', 'engrossed', 'gunpowder', 'lupin', 'trancers', 'tirade', 'dining', 'yearns', 'stability', 'munster', 'appointment', 'scrape', 'misinformation', 'blush', 'bfg', 'lustig', 'suitors', 'erotica', 'obtrusive', 'interruptions', 'rozsa', 'mesmerising', 'requested', 'duprez', 'colony', 'grasshoppers', 'dyed', 'breathtakingly', 'carlton', 'prevailing', 'poltergeist', 'cuter', 'nyqvist', 'pollak', 'rung', 'zemeckis', 'lemercier', 'deathstalker', 'airwaves', 'riddler', 'crescendo', 'beethoven', 'roddenberry', 'hobson', 'hutton', 'nobodies', 'synth', 'coveted', 'narnia', 'contractor', 'quarry', 'rawhide', 'paolo', 'impressionable', 'wheels', 'offside', 'lydia', 'lucienne', 'farming', 'weighty', 'mai', 'superiority', 'itch', 'subpar', 'banking', 'inhumanity', 'meth', 'villainy', 'woodhouse', 'wages', 'huntley', 'oro', 'knotts', 'skye', 'hitchcockian', 'empathetic', 'pours', 'grisby', 'postmodern', 'diaper', 'nypd', 'aw', 'ivanna', 'prisons', 'freezing', 'tucked', 'interval', 'monument', 'ambassador', 'wench', 'storyboard', 'gamble', 'esposito', 'proclaiming', 'incorrectly', 'asses', 'chico', 'accompaniment', 'cults', 'fetus', 'compass', 'hilda', 'coulier', 'adamson', 'marcy', 'hammond', 'saul', 'hanka', 'nicolai', 'gialli', 'cheesiest', 'offence', 'confrontations', 'doodle', 'hayek', 'dev', 'anand', 'janice', 'singlehandedly', 'ishwar', 'aditya', 'walton', 'runyon', 'exhibiting', 'patches', 'maclean', 'skerritt', 'dentists', 'dearly', 'waqt', 'earthly', 'bleached', 'attila', 'stem', 'irving', 'windsor', 'entails', 'flemish', 'lifes', 'xica', 'commune', 'purvis', 'milius', 'biograph', 'unconditional', 'hazard', 'activists', 'gavin', 'ellie', 'deviates', 'ode', 'indoors', 'dragoon', 'conquered', 'predictions', 'polemic', 'edel', 'concise', 'carbon', 'cheney', 'kara', 'ragged', 'pharaoh', 'axis', 'hearst', 'bannister', 'skipper', 'loathsome', 'wegener', 'hurley', 'beep', 'flatter', 'merge', 'grasshopper', 'minstrel', 'korda', 'chiefly', 'flashman', 'orbach', 'lucrative', 'valco', 'molina', 'rag', 'nadia', 'fellowship', 'gulf', 'triggers', 'schneebaum', 'vivien', 'candice', 'duc', 'stockwell', 'susie', 'britton', 'completes', 'composure', 'censor', 'statham', 'spacecamp', 'lea', 'offing', 'consumers', 'orchid', 'sorority', 'gutsy', 'ascension', 'aames', 'astoundingly', 'sham', 'noni', 'methodical', 'contrivances', 'mayeda', 'shogun', 'probability', 'frederick', 'comebacks', 'conceive', 'seaver', 'hurried', 'duels', 'sank', 'exterminator', 'pandey', 'vez', 'chunks', 'unsuccessfully', 'almodovar', 'cheh', 'amorous', 'porky', 'petiot', 'creepier', 'styrofoam', 'dissertation', 'sponsors', 'complicating', 'huppert', 'nunez', 'mullet', 'rejoice', 'philips', 'ishii', 'coe', 'federation', 'defoe', 'eleniak', 'burakov', 'fetisov', 'grieve', 'hallmarks', 'zillion', 'guarantees', 'engineered', 'dwindling', 'helsing', 'manchurian', 'precursor', 'eloquently', 'promo', 'humanism', 'nausicaa', 'tyrannosaurus', 'excused', 'heh', 'flic', 'pasteur', 'adoration', 'sternberg', 'cutie', 'quigley', 'carne', 'coms', 'morpheus', 'netherlands', 'chuckled', 'mirage', 'baio', 'filtered', 'dusk', 'nandini', 'collora', 'hearn', 'bartram', 'underway', 'highlands', 'schoolers', 'ringmaster', 'thursday', 'opting', 'tamerlane', 'carre', 'healy', 'darkman', 'ditches', 'fatty', 'yvaine', 'everlasting', 'firefighter', 'pointlessness', 'vartan', 'royale', 'sophomore', 'miniscule', 'henstridge', 'caleb', 'tepper', 'emergence', 'moscow', 'kgb', 'anorexic', 'herge', 'amin', 'schaech', 'thinnes', 'cottage', 'scruffy', 'employers', 'substitutes', 'lensman', 'unbeatable', 'genocide', 'grandchildren', 'inflict', 'moviegoer', 'creasy', 'rudy', 'completist', 'axel', 'verbatim', 'vaccaro', 'unimpressed', 'timers', 'culp', 'heady', 'jasmine', 'gravedigger', 'reworked', 'mediterranean', 'cacoyannis', 'gymkata', 'inarritu', 'imamura', 'bake', 'bilge', 'brigadoon', 'gingerbread', 'siodmak', 'gershon', 'kendall', 'effie', 'freeing', 'balanchine', 'nutcracker', 'catastrophic', 'intercut', 'largo', 'memoir', 'seann', 'aspiration', 'gator', 'emile', 'searchers', 'huggins', 'hodgepodge', 'carelessly', 'cratchit', 'knoxville', 'speedman', 'abduction', 'footing', 'madam', 'satanists', 'gunner', 'parkins', 'char', 'hypnotizes', 'rut', 'batmobile', 'gorshin', 'breakdancing', 'kalifornia', 'bowery', 'tabloids', 'momsen', 'bulimia', 'landfill', 'shooters', 'thomerson', 'hauntingly', 'babs', 'osborne', 'blackmailer', 'truest', 'structural', 'janeway', 'ismael', 'demolished', 'ranma', 'sloppiness', 'atlantian', 'compels', 'raf', 'sickeningly', 'playhouse', 'overpopulation', 'regent', 'muffled', 'teammates', 'misunderstand', 'barres', 'miraglia', 'zabriskie', 'transmitted', 'mukhsin', 'yasmin', 'tongued', 'disturbs', 'uninvolving', 'determines', 'outwardly', 'segues', 'tykwer', 'ramu', 'straightheads', 'seine', 'forsyth', 'thickens', 'della', 'haas', 'escapade', 'untold', 'whiff', 'khouri', 'broinowski', 'maes', 'chasey', 'reside', 'matsumoto', 'tetsur', 'maetel', 'caressing', 'cylons', 'mallory', 'buds', 'balduin', 'authentically', 'doting', 'morty', 'robberies', 'heartbroken', 'dyer', 'nba', 'carriage', 'munchie', 'winch', 'angers', 'abuses', 'pussy', 'homeward', 'cabot', 'regency', 'copper', 'crossbow', 'neff', 'eggar', 'stewardesses', 'greendale', 'cannons', 'cady', 'panzram', 'impressionistic', 'arlington', 'cloudy', 'rabbits', 'creepily', 'hsiao', 'baloney', 'gigi', 'walston', 'owens', 'emraan', 'peeling', 'borowczyk', 'danelia', 'walthall', 'smartest', 'extracts', 'bombay', 'markham', 'rig', 'abo', 'resumed', 'eytan', 'ashraf', 'carver', 'klaw', 'babbage', 'pleases', 'gruner', 'marylee', 'undergo', 'silvio', 'cookies', 'grounding', 'umeki', 'arjun', 'manu', 'informing', 'curt', 'ozu', 'hou', 'roberta', 'verify', 'stamos', 'gypo', 'recipient', 'wreckage', 'tightened', 'adjusted', 'godawful', 'dix', 'gilmore', 'capano', 'container', 'wired', 'investigators', 'prima', 'ginty', 'au', 'utopia', 'shohei', 'potatoes', 'santos', 'discerning', 'populate', 'tsunami', 'clocking', 'pairings', 'doone', 'ravaged', 'dumbland', 'adv', 'mardi', 'gras', 'headline', 'motorbike', 'beyonce', 'pita', 'radha', 'aiden', 'cabal', 'wasp', 'smugness', 'bathsheba', 'riget', 'imperialist', 'reuniting', 'tollinger', 'rv', 'jindabyne', 'traci', 'scooter', 'israelis', 'missy', 'krista', 'orked', 'rumour', 'jeanie', 'outfield', 'obtained', 'cassavettes', 'resurgence', 'anachronism', 'figment', 'kharis', 'mummified', 'stigmata', 'tantrums', 'hsien', 'mcphillip', 'intrus', 'celestine', 'bynes', 'mikels', 'upstate', 'tatooine', 'egon', 'putain', 'querette', 'provo', 'aspires', 'hazing', 'kristel', 'zeffirelli', 'lok', 'lustful', 'munsters', 'reinhold', 'danni', 'patten', 'mercer', 'dennehy', 'baloo', 'venantini', 'nablus', 'bram', 'dhol', 'ko', 'sikes', 'foo', 'ni', 'essex', 'lise', 'hume', 'shapiro', 'zandalee', 'liliom', 'beetles', 'trnka', 'erroll', 'ab', 'eisner', 'hallen', 'pike', 'talos', 'perish', 'odysseus', 'remy', 'apex', 'texts', 'universities', 'whistler', 'chamberlains', 'flix', 'bilal', 'dassin', 'firode', 'tmtm', 'gram', 'jansen', 'pitting', 'albuquerque', 'chandu', 'picard', 'ilias', 'buries', 'slipstream', 'mariner', 'mcgrath', 'spanky', 'koyaanisqatsi', 'labute', 'stealer', 'jannings', 'jang', 'shep', 'dd', 'yonica', 'megs', 'schizophreniac', 'nostril', 'warburton', 'quieter', 'kyser', 'jong', 'templars', 'proto', 'iphigenia', 'driscoll', 'blithe', 'reef', 'tam', 'smother', 'hagar', 'feathers', 'roshan', 'boop', 'robotech', 'dw', 'bolo', 'tas', 'vadar', 'gracia', 'loyalist', 'barclay', 'holodeck', 'rf', 'tet', 'burgade', 'euripides', 'hemo', 'summersisle', 'floraine', 'ferdie', 'rosarios', 'gilberte', 'arzenta', 'fanshawe', 'prag', 'frewer'])"
      ]
     },
     "execution_count": 22,
     "metadata": {},
     "output_type": "execute_result"
    }
   ],
   "source": [
    "# Vocablury of the model\n",
    "model.wv.vocab.keys()"
   ]
  },
  {
   "cell_type": "markdown",
   "metadata": {
    "colab_type": "text",
    "id": "WgqQ11DDaiwL"
   },
   "source": [
    "### Get an embedding for a word"
   ]
  },
  {
   "cell_type": "code",
   "execution_count": 23,
   "metadata": {
    "colab": {
     "base_uri": "https://localhost:8080/",
     "height": 204
    },
    "colab_type": "code",
    "executionInfo": {
     "elapsed": 119658,
     "status": "ok",
     "timestamp": 1593785074197,
     "user": {
      "displayName": "Dinakar K.B.N",
      "photoUrl": "https://lh3.googleusercontent.com/a-/AOh14Ghm5Gw1nVMe9l0MEepP0Gr56OopX1xDm1cAMPOnFA=s64",
      "userId": "06643686747511876348"
     },
     "user_tz": -330
    },
    "id": "FKybdCKfaiwM",
    "outputId": "3b100137-7d2e-477f-b1b9-8d22025d5001"
   },
   "outputs": [
    {
     "data": {
      "text/plain": [
       "array([ 0.65521926, -0.33946794, -0.14350082, -0.634421  , -0.7914232 ,\n",
       "        0.12546858,  0.0080882 ,  0.33997425,  1.2782204 , -0.08007827,\n",
       "       -0.03152077,  0.05749049,  0.71559715,  0.05394096,  0.6768192 ,\n",
       "        0.06091197,  0.8467024 ,  0.01683363,  0.4251767 ,  0.17281948,\n",
       "        0.5447715 , -0.76489645,  0.01640845,  0.23544204,  0.00641322,\n",
       "       -0.09441009, -0.31972805, -0.08833376,  0.27935508,  0.12396055,\n",
       "       -0.07548261, -0.07366537, -0.32047287,  0.8005402 ,  0.1882368 ,\n",
       "       -0.0365868 ,  0.31988543, -0.7193889 , -0.95627147,  0.39304858,\n",
       "       -0.55290246,  0.3521277 , -0.35375986, -0.26700786, -0.24034119,\n",
       "       -0.4339068 , -0.40809497, -0.00515699, -0.04312487, -0.24714492],\n",
       "      dtype=float32)"
      ]
     },
     "execution_count": 23,
     "metadata": {},
     "output_type": "execute_result"
    }
   ],
   "source": [
    "model.wv['flower']"
   ]
  },
  {
   "cell_type": "markdown",
   "metadata": {
    "colab_type": "text",
    "id": "R1L6Z5epaiwP"
   },
   "source": [
    "### Finding Words which have similar meaning"
   ]
  },
  {
   "cell_type": "code",
   "execution_count": 24,
   "metadata": {
    "colab": {
     "base_uri": "https://localhost:8080/",
     "height": 156
    },
    "colab_type": "code",
    "executionInfo": {
     "elapsed": 119641,
     "status": "ok",
     "timestamp": 1593785074198,
     "user": {
      "displayName": "Dinakar K.B.N",
      "photoUrl": "https://lh3.googleusercontent.com/a-/AOh14Ghm5Gw1nVMe9l0MEepP0Gr56OopX1xDm1cAMPOnFA=s64",
      "userId": "06643686747511876348"
     },
     "user_tz": -330
    },
    "id": "0Y93z8W0aiwR",
    "outputId": "77360e13-2278-4e76-95e7-331e781b7718"
   },
   "outputs": [
    {
     "data": {
      "text/plain": [
       "[('wonderful', 0.8544347286224365),\n",
       " ('fantastic', 0.8495597839355469),\n",
       " ('fine', 0.8366948962211609),\n",
       " ('good', 0.8205729722976685),\n",
       " ('brilliant', 0.7831134796142578)]"
      ]
     },
     "execution_count": 24,
     "metadata": {},
     "output_type": "execute_result"
    }
   ],
   "source": [
    "model.wv.most_similar(['great'], topn=5)"
   ]
  },
  {
   "cell_type": "markdown",
   "metadata": {
    "colab_type": "text",
    "id": "dWKCuhkSaiwT"
   },
   "source": [
    "### Find the word which is not like others"
   ]
  },
  {
   "cell_type": "code",
   "execution_count": 39,
   "metadata": {
    "colab": {
     "base_uri": "https://localhost:8080/",
     "height": 157
    },
    "colab_type": "code",
    "executionInfo": {
     "elapsed": 119623,
     "status": "ok",
     "timestamp": 1593785074199,
     "user": {
      "displayName": "Dinakar K.B.N",
      "photoUrl": "https://lh3.googleusercontent.com/a-/AOh14Ghm5Gw1nVMe9l0MEepP0Gr56OopX1xDm1cAMPOnFA=s64",
      "userId": "06643686747511876348"
     },
     "user_tz": -330
    },
    "id": "sU1M0zLOaiwV",
    "outputId": "3dd9253b-9dc3-447b-d5d0-aae6cca7ce7f"
   },
   "outputs": [
    {
     "data": {
      "text/plain": [
       "'kitchen'"
      ]
     },
     "execution_count": 39,
     "metadata": {},
     "output_type": "execute_result"
    }
   ],
   "source": [
    "model.doesnt_match(\"man woman child kitchen\".split())"
   ]
  },
  {
   "cell_type": "markdown",
   "metadata": {
    "colab_type": "text",
    "id": "dMDqwhZraiwW"
   },
   "source": [
    "### Saving the model"
   ]
  },
  {
   "cell_type": "code",
   "execution_count": 26,
   "metadata": {
    "colab": {
     "base_uri": "https://localhost:8080/",
     "height": 71
    },
    "colab_type": "code",
    "executionInfo": {
     "elapsed": 119607,
     "status": "ok",
     "timestamp": 1593785074200,
     "user": {
      "displayName": "Dinakar K.B.N",
      "photoUrl": "https://lh3.googleusercontent.com/a-/AOh14Ghm5Gw1nVMe9l0MEepP0Gr56OopX1xDm1cAMPOnFA=s64",
      "userId": "06643686747511876348"
     },
     "user_tz": -330
    },
    "id": "ZMKmOZ0KaiwY",
    "outputId": "01788c5e-9f24-4a5e-de9a-551474a9c893"
   },
   "outputs": [],
   "source": [
    "model.save('word2vec-movie-50')"
   ]
  },
  {
   "cell_type": "code",
   "execution_count": 27,
   "metadata": {
    "colab": {
     "base_uri": "https://localhost:8080/",
     "height": 71
    },
    "colab_type": "code",
    "executionInfo": {
     "elapsed": 119591,
     "status": "ok",
     "timestamp": 1593785074202,
     "user": {
      "displayName": "Dinakar K.B.N",
      "photoUrl": "https://lh3.googleusercontent.com/a-/AOh14Ghm5Gw1nVMe9l0MEepP0Gr56OopX1xDm1cAMPOnFA=s64",
      "userId": "06643686747511876348"
     },
     "user_tz": -330
    },
    "id": "zCnMqOVDaiwb",
    "outputId": "d13b3d83-dde3-40f6-f4c3-7220310d62b1"
   },
   "outputs": [],
   "source": [
    "#Load model from memory\n",
    "model = gensim.models.Word2Vec.load('word2vec-movie-50')"
   ]
  },
  {
   "cell_type": "markdown",
   "metadata": {
    "colab_type": "text",
    "id": "P5698UDZaiwf"
   },
   "source": [
    "1. Equation king + woman = man + ?\n",
    "2. In this case there may not be enough data for this equation"
   ]
  },
  {
   "cell_type": "code",
   "execution_count": 35,
   "metadata": {
    "colab": {
     "base_uri": "https://localhost:8080/",
     "height": 190
    },
    "colab_type": "code",
    "executionInfo": {
     "elapsed": 119574,
     "status": "ok",
     "timestamp": 1593785074203,
     "user": {
      "displayName": "Dinakar K.B.N",
      "photoUrl": "https://lh3.googleusercontent.com/a-/AOh14Ghm5Gw1nVMe9l0MEepP0Gr56OopX1xDm1cAMPOnFA=s64",
      "userId": "06643686747511876348"
     },
     "user_tz": -330
    },
    "id": "20WIJxgNaiwi",
    "outputId": "16ccb02b-b8d8-4948-cc05-93a78c5a88eb"
   },
   "outputs": [
    {
     "data": {
      "text/plain": [
       "[('queen', 0.7698541283607483),\n",
       " ('monarch', 0.6843380928039551),\n",
       " ('throne', 0.6755737066268921),\n",
       " ('daughter', 0.6594556570053101),\n",
       " ('princess', 0.6520533561706543)]"
      ]
     },
     "execution_count": 35,
     "metadata": {},
     "output_type": "execute_result"
    }
   ],
   "source": [
    "model.most_similar(positive=['king','woman'], negative=['man'], topn=5)"
   ]
  },
  {
   "cell_type": "markdown",
   "metadata": {
    "colab_type": "text",
    "id": "Ydvvs2nV25fj"
   },
   "source": [
    "## Get word vectors from Stanford University GloVe library"
   ]
  },
  {
   "cell_type": "code",
   "execution_count": 29,
   "metadata": {
    "colab": {},
    "colab_type": "code",
    "executionInfo": {
     "elapsed": 119571,
     "status": "ok",
     "timestamp": 1593785074204,
     "user": {
      "displayName": "Dinakar K.B.N",
      "photoUrl": "https://lh3.googleusercontent.com/a-/AOh14Ghm5Gw1nVMe9l0MEepP0Gr56OopX1xDm1cAMPOnFA=s64",
      "userId": "06643686747511876348"
     },
     "user_tz": -330
    },
    "id": "ZV4OtlrfzpxS"
   },
   "outputs": [],
   "source": [
    "from gensim.models import KeyedVectors\n",
    "from gensim.scripts.glove2word2vec import glove2word2vec"
   ]
  },
  {
   "cell_type": "code",
   "execution_count": 30,
   "metadata": {
    "colab": {},
    "colab_type": "code",
    "executionInfo": {
     "elapsed": 7537,
     "status": "ok",
     "timestamp": 1593785762434,
     "user": {
      "displayName": "Dinakar K.B.N",
      "photoUrl": "https://lh3.googleusercontent.com/a-/AOh14Ghm5Gw1nVMe9l0MEepP0Gr56OopX1xDm1cAMPOnFA=s64",
      "userId": "06643686747511876348"
     },
     "user_tz": -330
    },
    "id": "GxkCF7ht3sTT"
   },
   "outputs": [],
   "source": [
    "from zipfile import ZipFile\n",
    "\n",
    "with ZipFile('glove6b100dtxt.zip', 'r') as z:\n",
    "  z.extractall()"
   ]
  },
  {
   "cell_type": "code",
   "execution_count": 31,
   "metadata": {
    "colab": {
     "base_uri": "https://localhost:8080/",
     "height": 88
    },
    "colab_type": "code",
    "executionInfo": {
     "elapsed": 2165,
     "status": "ok",
     "timestamp": 1593785778603,
     "user": {
      "displayName": "Dinakar K.B.N",
      "photoUrl": "https://lh3.googleusercontent.com/a-/AOh14Ghm5Gw1nVMe9l0MEepP0Gr56OopX1xDm1cAMPOnFA=s64",
      "userId": "06643686747511876348"
     },
     "user_tz": -330
    },
    "id": "pc2LTGor3Jt4",
    "outputId": "6d2f4965-a86d-436d-e1cf-247d3bdf36a5"
   },
   "outputs": [
    {
     "data": {
      "text/plain": [
       "(400000, 100)"
      ]
     },
     "execution_count": 31,
     "metadata": {},
     "output_type": "execute_result"
    }
   ],
   "source": [
    "# convert glove to word2vec format\n",
    "glove_input_file = 'glove.6B.100d.txt'\n",
    "word2vec_output_file = 'glove.6B.100d.txt.word2vec'\n",
    "glove2word2vec(glove_input_file, word2vec_output_file)"
   ]
  },
  {
   "cell_type": "code",
   "execution_count": 32,
   "metadata": {
    "colab": {
     "base_uri": "https://localhost:8080/",
     "height": 71
    },
    "colab_type": "code",
    "executionInfo": {
     "elapsed": 36483,
     "status": "ok",
     "timestamp": 1593785819834,
     "user": {
      "displayName": "Dinakar K.B.N",
      "photoUrl": "https://lh3.googleusercontent.com/a-/AOh14Ghm5Gw1nVMe9l0MEepP0Gr56OopX1xDm1cAMPOnFA=s64",
      "userId": "06643686747511876348"
     },
     "user_tz": -330
    },
    "id": "J_DpSP9a3JxB",
    "outputId": "61981c69-8971-45f1-df07-53bae4c86a8f"
   },
   "outputs": [],
   "source": [
    "# load the converted model\n",
    "filename = 'glove.6B.100d.txt.word2vec'\n",
    "model = KeyedVectors.load_word2vec_format(filename, binary=False)"
   ]
  },
  {
   "cell_type": "code",
   "execution_count": 33,
   "metadata": {
    "colab": {
     "base_uri": "https://localhost:8080/",
     "height": 88
    },
    "colab_type": "code",
    "executionInfo": {
     "elapsed": 1633,
     "status": "ok",
     "timestamp": 1593785825768,
     "user": {
      "displayName": "Dinakar K.B.N",
      "photoUrl": "https://lh3.googleusercontent.com/a-/AOh14Ghm5Gw1nVMe9l0MEepP0Gr56OopX1xDm1cAMPOnFA=s64",
      "userId": "06643686747511876348"
     },
     "user_tz": -330
    },
    "id": "ej2y4UYX3S73",
    "outputId": "4683109a-63b1-4ace-a973-4a80bd0d9140"
   },
   "outputs": [
    {
     "name": "stdout",
     "output_type": "stream",
     "text": [
      "[('queen', 0.7698541283607483)]\n"
     ]
    }
   ],
   "source": [
    "# calculate: (king - man) + woman = ?\n",
    "result = model.most_similar(positive=['woman', 'king'], negative=['man'], topn=1)\n",
    "print(result)"
   ]
  }
 ],
 "metadata": {
  "accelerator": "GPU",
  "colab": {
   "collapsed_sections": [],
   "name": "Lab0_Word2vec_gensim_movie_data.ipynb",
   "provenance": []
  },
  "kernelspec": {
   "display_name": "Python 3",
   "language": "python",
   "name": "python3"
  },
  "language_info": {
   "codemirror_mode": {
    "name": "ipython",
    "version": 3
   },
   "file_extension": ".py",
   "mimetype": "text/x-python",
   "name": "python",
   "nbconvert_exporter": "python",
   "pygments_lexer": "ipython3",
   "version": "3.7.3"
  }
 },
 "nbformat": 4,
 "nbformat_minor": 1
}
