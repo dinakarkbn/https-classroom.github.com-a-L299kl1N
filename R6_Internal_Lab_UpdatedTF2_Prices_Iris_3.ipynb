{
 "cells": [
  {
   "cell_type": "markdown",
   "metadata": {
    "colab_type": "text",
    "id": "84Q8JfvaeZZ6"
   },
   "source": [
    "## Linear Classifier in TensorFlow \n",
    "Using Low Level API in Eager Execution mode"
   ]
  },
  {
   "cell_type": "markdown",
   "metadata": {
    "colab_type": "text",
    "id": "sb7Epo0VOB58"
   },
   "source": [
    "### Load tensorflow"
   ]
  },
  {
   "cell_type": "code",
   "execution_count": 1,
   "metadata": {
    "colab": {
     "base_uri": "https://localhost:8080/",
     "height": 63
    },
    "colab_type": "code",
    "id": "Rj9ss-M8XL0d",
    "outputId": "1f4379d7-8c69-4ffc-db13-934d8d531ae2"
   },
   "outputs": [
    {
     "data": {
      "text/html": [
       "<p style=\"color: red;\">\n",
       "The default version of TensorFlow in Colab will soon switch to TensorFlow 2.x.<br>\n",
       "We recommend you <a href=\"https://www.tensorflow.org/guide/migrate\" target=\"_blank\">upgrade</a> now \n",
       "or ensure your notebook will continue to use TensorFlow 1.x via the <code>%tensorflow_version 1.x</code> magic:\n",
       "<a href=\"https://colab.research.google.com/notebooks/tensorflow_version.ipynb\" target=\"_blank\">more info</a>.</p>\n"
      ],
      "text/plain": [
       "<IPython.core.display.HTML object>"
      ]
     },
     "metadata": {
      "tags": []
     },
     "output_type": "display_data"
    }
   ],
   "source": [
    "import tensorflow as tf"
   ]
  },
  {
   "cell_type": "code",
   "execution_count": 0,
   "metadata": {
    "colab": {},
    "colab_type": "code",
    "id": "Mjtb-EMcm5K0"
   },
   "outputs": [],
   "source": [
    "#Enable Eager Execution if using tensflow version < 2.0\n",
    "#From tensorflow v2.0 onwards, Eager Execution will be enabled by default\n",
    "tf.enable_eager_execution()"
   ]
  },
  {
   "cell_type": "markdown",
   "metadata": {
    "colab_type": "text",
    "id": "DxJDmJqqOB6K"
   },
   "source": [
    "### Collect Data"
   ]
  },
  {
   "cell_type": "code",
   "execution_count": 3,
   "metadata": {
    "colab": {
     "base_uri": "https://localhost:8080/",
     "height": 34
    },
    "colab_type": "code",
    "id": "FhllFLyKOB6N",
    "outputId": "7dc3e012-487f-4594-e10d-edfb20599e15"
   },
   "outputs": [
    {
     "name": "stdout",
     "output_type": "stream",
     "text": [
      "Drive already mounted at /gdrive; to attempt to forcibly remount, call drive.mount(\"/gdrive\", force_remount=True).\n"
     ]
    }
   ],
   "source": [
    "from google.colab import drive\n",
    "drive.mount('/gdrive')"
   ]
  },
  {
   "cell_type": "code",
   "execution_count": 0,
   "metadata": {
    "colab": {},
    "colab_type": "code",
    "id": "KiObW4V4SIOz"
   },
   "outputs": [],
   "source": [
    "import pandas as pd\n",
    "import numpy as np"
   ]
  },
  {
   "cell_type": "code",
   "execution_count": 0,
   "metadata": {
    "colab": {},
    "colab_type": "code",
    "id": "B4yQKMiJOB6R"
   },
   "outputs": [],
   "source": [
    "data = pd.read_csv('/gdrive/My Drive/AIML/Lab_Internal_R6/prices.csv')"
   ]
  },
  {
   "cell_type": "markdown",
   "metadata": {
    "colab_type": "text",
    "id": "fgkX6SEqOB6W"
   },
   "source": [
    "### Check all columns in the dataset"
   ]
  },
  {
   "cell_type": "code",
   "execution_count": 6,
   "metadata": {
    "colab": {
     "base_uri": "https://localhost:8080/",
     "height": 34
    },
    "colab_type": "code",
    "id": "7K8pWsNQOB6X",
    "outputId": "dfe4ffe3-4bf3-4b0b-a2a8-f0a56a48a89a"
   },
   "outputs": [
    {
     "data": {
      "text/plain": [
       "Index([u'date', u'symbol', u'open', u'close', u'low', u'high', u'volume'], dtype='object')"
      ]
     },
     "execution_count": 6,
     "metadata": {
      "tags": []
     },
     "output_type": "execute_result"
    }
   ],
   "source": [
    "data.columns"
   ]
  },
  {
   "cell_type": "markdown",
   "metadata": {
    "colab_type": "text",
    "id": "7dU6X7MpOB6c"
   },
   "source": [
    "### Drop columns `date` and  `symbol`"
   ]
  },
  {
   "cell_type": "code",
   "execution_count": 0,
   "metadata": {
    "colab": {},
    "colab_type": "code",
    "id": "lh_6spSKOB6e"
   },
   "outputs": [],
   "source": [
    "data.drop(['date', 'symbol'], axis=1, inplace=True)"
   ]
  },
  {
   "cell_type": "code",
   "execution_count": 8,
   "metadata": {
    "colab": {
     "base_uri": "https://localhost:8080/",
     "height": 34
    },
    "colab_type": "code",
    "id": "3V65XwD0A58T",
    "outputId": "b7b4d42e-739c-4874-ac24-78ef6037d7fc"
   },
   "outputs": [
    {
     "data": {
      "text/plain": [
       "Index([u'open', u'close', u'low', u'high', u'volume'], dtype='object')"
      ]
     },
     "execution_count": 8,
     "metadata": {
      "tags": []
     },
     "output_type": "execute_result"
    }
   ],
   "source": [
    "data.columns"
   ]
  },
  {
   "cell_type": "code",
   "execution_count": 9,
   "metadata": {
    "colab": {
     "base_uri": "https://localhost:8080/",
     "height": 204
    },
    "colab_type": "code",
    "id": "xlwbUgTwOB6i",
    "outputId": "b7bc8cf4-aa4f-4bcf-a2e3-cdf87ea83752"
   },
   "outputs": [
    {
     "data": {
      "text/html": [
       "<div>\n",
       "<style scoped>\n",
       "    .dataframe tbody tr th:only-of-type {\n",
       "        vertical-align: middle;\n",
       "    }\n",
       "\n",
       "    .dataframe tbody tr th {\n",
       "        vertical-align: top;\n",
       "    }\n",
       "\n",
       "    .dataframe thead th {\n",
       "        text-align: right;\n",
       "    }\n",
       "</style>\n",
       "<table border=\"1\" class=\"dataframe\">\n",
       "  <thead>\n",
       "    <tr style=\"text-align: right;\">\n",
       "      <th></th>\n",
       "      <th>open</th>\n",
       "      <th>close</th>\n",
       "      <th>low</th>\n",
       "      <th>high</th>\n",
       "      <th>volume</th>\n",
       "    </tr>\n",
       "  </thead>\n",
       "  <tbody>\n",
       "    <tr>\n",
       "      <th>0</th>\n",
       "      <td>123.430000</td>\n",
       "      <td>125.839996</td>\n",
       "      <td>122.309998</td>\n",
       "      <td>126.250000</td>\n",
       "      <td>2163600.0</td>\n",
       "    </tr>\n",
       "    <tr>\n",
       "      <th>1</th>\n",
       "      <td>125.239998</td>\n",
       "      <td>119.980003</td>\n",
       "      <td>119.940002</td>\n",
       "      <td>125.540001</td>\n",
       "      <td>2386400.0</td>\n",
       "    </tr>\n",
       "    <tr>\n",
       "      <th>2</th>\n",
       "      <td>116.379997</td>\n",
       "      <td>114.949997</td>\n",
       "      <td>114.930000</td>\n",
       "      <td>119.739998</td>\n",
       "      <td>2489500.0</td>\n",
       "    </tr>\n",
       "    <tr>\n",
       "      <th>3</th>\n",
       "      <td>115.480003</td>\n",
       "      <td>116.620003</td>\n",
       "      <td>113.500000</td>\n",
       "      <td>117.440002</td>\n",
       "      <td>2006300.0</td>\n",
       "    </tr>\n",
       "    <tr>\n",
       "      <th>4</th>\n",
       "      <td>117.010002</td>\n",
       "      <td>114.970001</td>\n",
       "      <td>114.089996</td>\n",
       "      <td>117.330002</td>\n",
       "      <td>1408600.0</td>\n",
       "    </tr>\n",
       "  </tbody>\n",
       "</table>\n",
       "</div>"
      ],
      "text/plain": [
       "         open       close         low        high     volume\n",
       "0  123.430000  125.839996  122.309998  126.250000  2163600.0\n",
       "1  125.239998  119.980003  119.940002  125.540001  2386400.0\n",
       "2  116.379997  114.949997  114.930000  119.739998  2489500.0\n",
       "3  115.480003  116.620003  113.500000  117.440002  2006300.0\n",
       "4  117.010002  114.970001  114.089996  117.330002  1408600.0"
      ]
     },
     "execution_count": 9,
     "metadata": {
      "tags": []
     },
     "output_type": "execute_result"
    }
   ],
   "source": [
    "data.head()"
   ]
  },
  {
   "cell_type": "markdown",
   "metadata": {
    "colab_type": "text",
    "id": "3DBv3WWYOB6q"
   },
   "source": [
    "### Consider only first 1000 rows in the dataset for building feature set and target set\n",
    "Target 'Volume' has very high values. Divide 'Volume' by 1000,000"
   ]
  },
  {
   "cell_type": "code",
   "execution_count": 10,
   "metadata": {
    "colab": {
     "base_uri": "https://localhost:8080/",
     "height": 34
    },
    "colab_type": "code",
    "id": "Z_hG9rGBOB6s",
    "outputId": "949c2691-2f4c-475a-bcaf-73166d1b956f"
   },
   "outputs": [
    {
     "data": {
      "text/plain": [
       "1000"
      ]
     },
     "execution_count": 10,
     "metadata": {
      "tags": []
     },
     "output_type": "execute_result"
    }
   ],
   "source": [
    "X = data.loc[0:999,['open','close','low','high']]\n",
    "len(X)"
   ]
  },
  {
   "cell_type": "code",
   "execution_count": 0,
   "metadata": {
    "colab": {},
    "colab_type": "code",
    "id": "Sw69ME9VCNKi"
   },
   "outputs": [],
   "source": [
    "y = data.loc[0:999,'volume']\n"
   ]
  },
  {
   "cell_type": "code",
   "execution_count": 12,
   "metadata": {
    "colab": {
     "base_uri": "https://localhost:8080/",
     "height": 34
    },
    "colab_type": "code",
    "id": "9h8g-kE_ZIm0",
    "outputId": "1a4ae63c-2181-404c-b632-f6dd150c0495"
   },
   "outputs": [
    {
     "data": {
      "text/plain": [
       "1000"
      ]
     },
     "execution_count": 12,
     "metadata": {
      "tags": []
     },
     "output_type": "execute_result"
    }
   ],
   "source": [
    "#Divide volume by 1000000 as  the values are very high\n",
    "y = y/1000000\n",
    "len(y)"
   ]
  },
  {
   "cell_type": "markdown",
   "metadata": {
    "colab_type": "text",
    "id": "M3UaApqYOB6x"
   },
   "source": [
    "### Divide the data into train and test sets"
   ]
  },
  {
   "cell_type": "code",
   "execution_count": 0,
   "metadata": {
    "colab": {},
    "colab_type": "code",
    "id": "4LE4U8lTdQJq"
   },
   "outputs": [],
   "source": [
    "from sklearn.model_selection import train_test_split"
   ]
  },
  {
   "cell_type": "code",
   "execution_count": 0,
   "metadata": {
    "colab": {},
    "colab_type": "code",
    "id": "50sb5oTwDo18"
   },
   "outputs": [],
   "source": [
    "X_train, X_test, y_train, y_test = train_test_split(X,y,test_size=0.30,random_state=123)"
   ]
  },
  {
   "cell_type": "markdown",
   "metadata": {
    "colab_type": "text",
    "id": "oYK-aUuLbrz2"
   },
   "source": [
    "#### Convert Training and Test Data to numpy float32 arrays\n"
   ]
  },
  {
   "cell_type": "code",
   "execution_count": 0,
   "metadata": {
    "colab": {},
    "colab_type": "code",
    "id": "Ao-S0tQGcncz"
   },
   "outputs": [],
   "source": [
    "X_train = X_train.astype('float32')\n",
    "X_test = X_test.astype('float32')\n",
    "y_train = np.array(y_train.astype('float32'))\n",
    "y_test = np.array(y_test.astype('float32'))"
   ]
  },
  {
   "cell_type": "markdown",
   "metadata": {
    "colab_type": "text",
    "id": "im1ZegbDdKgv"
   },
   "source": [
    "### Normalize the data\n",
    "You can use Normalizer from sklearn.preprocessing"
   ]
  },
  {
   "cell_type": "code",
   "execution_count": 0,
   "metadata": {
    "colab": {},
    "colab_type": "code",
    "id": "Tkc6fiFrGVCI"
   },
   "outputs": [],
   "source": [
    "from sklearn.preprocessing import Normalizer"
   ]
  },
  {
   "cell_type": "code",
   "execution_count": 0,
   "metadata": {
    "colab": {},
    "colab_type": "code",
    "id": "2EkKAy7fOB6y"
   },
   "outputs": [],
   "source": [
    "transformer = Normalizer()\n",
    "X_train = transformer.fit_transform(X_train)\n",
    "#y_train = transformer.fit_transform(y_train)\n",
    "X_test = transformer.transform(X_test)\n",
    "#y_test = transformer.transform(y_test)"
   ]
  },
  {
   "cell_type": "code",
   "execution_count": 18,
   "metadata": {
    "colab": {
     "base_uri": "https://localhost:8080/",
     "height": 34
    },
    "colab_type": "code",
    "id": "9tDupxmaI9Zu",
    "outputId": "1ab048a7-4560-4d31-f6ae-781be6873ad9"
   },
   "outputs": [
    {
     "name": "stdout",
     "output_type": "stream",
     "text": [
      "((700, 4), (300, 4), (700,), (300,))\n"
     ]
    }
   ],
   "source": [
    "print(X_train.shape, X_test.shape, y_train.shape, y_test.shape)"
   ]
  },
  {
   "cell_type": "markdown",
   "metadata": {
    "colab_type": "text",
    "id": "v6vE4eYCOB62"
   },
   "source": [
    "## Building the Model in tensorflow"
   ]
  },
  {
   "cell_type": "markdown",
   "metadata": {
    "colab_type": "text",
    "id": "297_qja4OB7A"
   },
   "source": [
    "1.Define Weights and Bias, use tf.zeros to initialize weights and Bias"
   ]
  },
  {
   "cell_type": "code",
   "execution_count": 0,
   "metadata": {
    "colab": {},
    "colab_type": "code",
    "id": "L205qPeQOB7B"
   },
   "outputs": [],
   "source": [
    "#We are initializing weights and Bias with Zero\n",
    "w = tf.zeros(shape=(4,1))\n",
    "b = tf.zeros(shape=(1))"
   ]
  },
  {
   "cell_type": "markdown",
   "metadata": {
    "colab_type": "text",
    "id": "HgtWA-UIOB7F"
   },
   "source": [
    "2.Define a function to calculate prediction"
   ]
  },
  {
   "cell_type": "code",
   "execution_count": 0,
   "metadata": {
    "colab": {},
    "colab_type": "code",
    "id": "JveGlx25OB7H"
   },
   "outputs": [],
   "source": [
    "def prediction(x, w, b):\n",
    "    \n",
    "    xw_matmul = tf.matmul(x, w)\n",
    "    y = tf.add(xw_matmul, b)\n",
    "    \n",
    "    return y"
   ]
  },
  {
   "cell_type": "markdown",
   "metadata": {
    "colab_type": "text",
    "id": "TL1hIwf_OB7M"
   },
   "source": [
    "3.Loss (Cost) Function [Mean square error]"
   ]
  },
  {
   "cell_type": "code",
   "execution_count": 0,
   "metadata": {
    "colab": {},
    "colab_type": "code",
    "id": "8VSWPiGXOB7P"
   },
   "outputs": [],
   "source": [
    "def loss(y_actual, y_predicted):\n",
    "    \n",
    "    diff = y_actual - y_predicted\n",
    "    sqr = tf.square(diff)\n",
    "    avg = tf.reduce_mean(sqr)\n",
    "    \n",
    "    return avg"
   ]
  },
  {
   "cell_type": "markdown",
   "metadata": {
    "colab_type": "text",
    "id": "jzG85FUlOB7U"
   },
   "source": [
    "4.Function to train the Model\n",
    "\n",
    "1.   Record all the mathematical steps to calculate Loss\n",
    "2.   Calculate Gradients of Loss w.r.t weights and bias\n",
    "3.   Update Weights and Bias based on gradients and learning rate to minimize loss"
   ]
  },
  {
   "cell_type": "code",
   "execution_count": 0,
   "metadata": {
    "colab": {},
    "colab_type": "code",
    "id": "cj802w-3OB7X"
   },
   "outputs": [],
   "source": [
    "def train(x, y_actual, w, b, learning_rate=0.01):\n",
    "    \n",
    "    #Record mathematical operations on 'tape' to calculate loss\n",
    "    with tf.GradientTape() as t:\n",
    "        \n",
    "        t.watch([w,b])\n",
    "        \n",
    "        current_prediction = prediction(x, w, b)\n",
    "        current_loss = loss(y_actual, current_prediction)\n",
    "    \n",
    "    #Calculate Gradients for Loss with respect to Weights and Bias\n",
    "    dw, db = t.gradient(current_loss,[w, b])\n",
    "    \n",
    "    #Update Weights and Bias\n",
    "    w = w - learning_rate*dw\n",
    "    b = b - learning_rate*db\n",
    "    \n",
    "    return w, b"
   ]
  },
  {
   "cell_type": "markdown",
   "metadata": {
    "colab_type": "text",
    "id": "xSypb_u8OB7e"
   },
   "source": [
    "## Train the model for 100 epochs \n",
    "1. Observe the training loss at every iteration\n",
    "2. Observe Train loss at every 5th iteration"
   ]
  },
  {
   "cell_type": "code",
   "execution_count": 23,
   "metadata": {
    "colab": {
     "base_uri": "https://localhost:8080/",
     "height": 1000
    },
    "colab_type": "code",
    "id": "DVvgj7eQOB7f",
    "outputId": "8fb03b83-b585-4c85-d557-f1cdab578dc2"
   },
   "outputs": [
    {
     "name": "stdout",
     "output_type": "stream",
     "text": [
      "('Current Loss on iteration', 0, 175.58798)\n",
      "('Current Loss on iteration', 1, 173.73335)\n",
      "('Current Loss on iteration', 2, 172.02417)\n",
      "('Current Loss on iteration', 3, 170.4489)\n",
      "('Current Loss on iteration', 4, 168.99712)\n",
      "('Current Loss on iteration', 5, 167.65913)\n",
      "('Current Loss on iteration', 6, 166.42609)\n",
      "('Current Loss on iteration', 7, 165.2897)\n",
      "('Current Loss on iteration', 8, 164.24245)\n",
      "('Current Loss on iteration', 9, 163.27739)\n",
      "('Current Loss on iteration', 10, 162.38782)\n",
      "('Current Loss on iteration', 11, 161.56793)\n",
      "('Current Loss on iteration', 12, 160.8125)\n",
      "('Current Loss on iteration', 13, 160.11623)\n",
      "('Current Loss on iteration', 14, 159.47455)\n",
      "('Current Loss on iteration', 15, 158.8832)\n",
      "('Current Loss on iteration', 16, 158.33817)\n",
      "('Current Loss on iteration', 17, 157.83585)\n",
      "('Current Loss on iteration', 18, 157.37297)\n",
      "('Current Loss on iteration', 19, 156.94649)\n",
      "('Current Loss on iteration', 20, 156.55307)\n",
      "('Current Loss on iteration', 21, 156.19072)\n",
      "('Current Loss on iteration', 22, 155.85689)\n",
      "('Current Loss on iteration', 23, 155.54903)\n",
      "('Current Loss on iteration', 24, 155.26547)\n",
      "('Current Loss on iteration', 25, 155.00407)\n",
      "('Current Loss on iteration', 26, 154.76317)\n",
      "('Current Loss on iteration', 27, 154.54103)\n",
      "('Current Loss on iteration', 28, 154.33649)\n",
      "('Current Loss on iteration', 29, 154.14789)\n",
      "('Current Loss on iteration', 30, 153.97408)\n",
      "('Current Loss on iteration', 31, 153.81387)\n",
      "('Current Loss on iteration', 32, 153.66635)\n",
      "('Current Loss on iteration', 33, 153.53032)\n",
      "('Current Loss on iteration', 34, 153.405)\n",
      "('Current Loss on iteration', 35, 153.2894)\n",
      "('Current Loss on iteration', 36, 153.18292)\n",
      "('Current Loss on iteration', 37, 153.08482)\n",
      "('Current Loss on iteration', 38, 152.99437)\n",
      "('Current Loss on iteration', 39, 152.91098)\n",
      "('Current Loss on iteration', 40, 152.8342)\n",
      "('Current Loss on iteration', 41, 152.76343)\n",
      "('Current Loss on iteration', 42, 152.69815)\n",
      "('Current Loss on iteration', 43, 152.63805)\n",
      "('Current Loss on iteration', 44, 152.58266)\n",
      "('Current Loss on iteration', 45, 152.53151)\n",
      "('Current Loss on iteration', 46, 152.48442)\n",
      "('Current Loss on iteration', 47, 152.44121)\n",
      "('Current Loss on iteration', 48, 152.40117)\n",
      "('Current Loss on iteration', 49, 152.36429)\n",
      "('Current Loss on iteration', 50, 152.33032)\n",
      "('Current Loss on iteration', 51, 152.29906)\n",
      "('Current Loss on iteration', 52, 152.27016)\n",
      "('Current Loss on iteration', 53, 152.24362)\n",
      "('Current Loss on iteration', 54, 152.21918)\n",
      "('Current Loss on iteration', 55, 152.19653)\n",
      "('Current Loss on iteration', 56, 152.17575)\n",
      "('Current Loss on iteration', 57, 152.1566)\n",
      "('Current Loss on iteration', 58, 152.13893)\n",
      "('Current Loss on iteration', 59, 152.12262)\n",
      "('Current Loss on iteration', 60, 152.10767)\n",
      "('Current Loss on iteration', 61, 152.0938)\n",
      "('Current Loss on iteration', 62, 152.08102)\n",
      "('Current Loss on iteration', 63, 152.06924)\n",
      "('Current Loss on iteration', 64, 152.05849)\n",
      "('Current Loss on iteration', 65, 152.04845)\n",
      "('Current Loss on iteration', 66, 152.03937)\n",
      "('Current Loss on iteration', 67, 152.03082)\n",
      "('Current Loss on iteration', 68, 152.02295)\n",
      "('Current Loss on iteration', 69, 152.01581)\n",
      "('Current Loss on iteration', 70, 152.00916)\n",
      "('Current Loss on iteration', 71, 152.00304)\n",
      "('Current Loss on iteration', 72, 151.99742)\n",
      "('Current Loss on iteration', 73, 151.99216)\n",
      "('Current Loss on iteration', 74, 151.98741)\n",
      "('Current Loss on iteration', 75, 151.98299)\n",
      "('Current Loss on iteration', 76, 151.97893)\n",
      "('Current Loss on iteration', 77, 151.97522)\n",
      "('Current Loss on iteration', 78, 151.97168)\n",
      "('Current Loss on iteration', 79, 151.96855)\n",
      "('Current Loss on iteration', 80, 151.96565)\n",
      "('Current Loss on iteration', 81, 151.96298)\n",
      "('Current Loss on iteration', 82, 151.96056)\n",
      "('Current Loss on iteration', 83, 151.95818)\n",
      "('Current Loss on iteration', 84, 151.95609)\n",
      "('Current Loss on iteration', 85, 151.95406)\n",
      "('Current Loss on iteration', 86, 151.95226)\n",
      "('Current Loss on iteration', 87, 151.9507)\n",
      "('Current Loss on iteration', 88, 151.94911)\n",
      "('Current Loss on iteration', 89, 151.94766)\n",
      "('Current Loss on iteration', 90, 151.94638)\n",
      "('Current Loss on iteration', 91, 151.94527)\n",
      "('Current Loss on iteration', 92, 151.9442)\n",
      "('Current Loss on iteration', 93, 151.94307)\n",
      "('Current Loss on iteration', 94, 151.94217)\n",
      "('Current Loss on iteration', 95, 151.94133)\n",
      "('Current Loss on iteration', 96, 151.94049)\n",
      "('Current Loss on iteration', 97, 151.93988)\n",
      "('Current Loss on iteration', 98, 151.93904)\n",
      "('Current Loss on iteration', 99, 151.93848)\n"
     ]
    }
   ],
   "source": [
    "#Train for 100 Steps\n",
    "# Observe the training loss for every iteration\n",
    "for i in range(100):\n",
    "    \n",
    "    w, b = train(X_train, y_train, w, b, learning_rate=0.01)\n",
    "    print('Current Loss on iteration', i, \n",
    "          loss(y_train, prediction(X_train, w, b)).numpy())\n",
    "          #loss(y_train, prediction(X_train, w, b)))"
   ]
  },
  {
   "cell_type": "code",
   "execution_count": 24,
   "metadata": {
    "colab": {
     "base_uri": "https://localhost:8080/",
     "height": 357
    },
    "colab_type": "code",
    "id": "9pjajcHHRjPd",
    "outputId": "086ad3c8-c875-43ba-aa40-1a387a57e3d0"
   },
   "outputs": [
    {
     "name": "stdout",
     "output_type": "stream",
     "text": [
      "('Current Loss on iteration', 0, 151.93793)\n",
      "('Current Loss on iteration', 5, 151.9356)\n",
      "('Current Loss on iteration', 10, 151.93416)\n",
      "('Current Loss on iteration', 15, 151.93317)\n",
      "('Current Loss on iteration', 20, 151.93251)\n",
      "('Current Loss on iteration', 25, 151.93208)\n",
      "('Current Loss on iteration', 30, 151.93176)\n",
      "('Current Loss on iteration', 35, 151.93158)\n",
      "('Current Loss on iteration', 40, 151.9314)\n",
      "('Current Loss on iteration', 45, 151.93134)\n",
      "('Current Loss on iteration', 50, 151.93121)\n",
      "('Current Loss on iteration', 55, 151.93123)\n",
      "('Current Loss on iteration', 60, 151.93114)\n",
      "('Current Loss on iteration', 65, 151.93117)\n",
      "('Current Loss on iteration', 70, 151.93124)\n",
      "('Current Loss on iteration', 75, 151.93117)\n",
      "('Current Loss on iteration', 80, 151.93121)\n",
      "('Current Loss on iteration', 85, 151.93114)\n",
      "('Current Loss on iteration', 90, 151.9311)\n",
      "('Current Loss on iteration', 95, 151.93118)\n"
     ]
    }
   ],
   "source": [
    "#Train for 100 Steps\n",
    "#Observe Training loss at every 5th iteration\n",
    "for i in range(100):\n",
    "    \n",
    "    w, b = train(X_train, y_train, w, b, learning_rate=0.01)\n",
    "    if i%5==0 :\n",
    "      print('Current Loss on iteration', i, \n",
    "            loss(y_train, prediction(X_train, w, b)).numpy())\n",
    "            #loss(y_train, prediction(X_train, w, b)))"
   ]
  },
  {
   "cell_type": "markdown",
   "metadata": {
    "colab_type": "text",
    "id": "DOL2ncA1OB7q"
   },
   "source": [
    "### Get the shapes and values of W and b"
   ]
  },
  {
   "cell_type": "code",
   "execution_count": 25,
   "metadata": {
    "colab": {
     "base_uri": "https://localhost:8080/",
     "height": 51
    },
    "colab_type": "code",
    "id": "ZGvtyTeuOB7r",
    "outputId": "4b3367a5-04ac-4d03-da3b-59261f727429"
   },
   "outputs": [
    {
     "name": "stdout",
     "output_type": "stream",
     "text": [
      "(4, 1)\n",
      "(1,)\n"
     ]
    }
   ],
   "source": [
    "print(w.shape)\n",
    "print(b.shape)"
   ]
  },
  {
   "cell_type": "code",
   "execution_count": 26,
   "metadata": {
    "colab": {
     "base_uri": "https://localhost:8080/",
     "height": 119
    },
    "colab_type": "code",
    "id": "uleizSGoU_9H",
    "outputId": "8448f061-5b44-41d6-ed7a-db21556a7653"
   },
   "outputs": [
    {
     "name": "stdout",
     "output_type": "stream",
     "text": [
      "Value of w:\n",
      "\n",
      "[[1.2644618]\n",
      " [1.2690701]\n",
      " [1.251506 ]\n",
      " [1.2798462]]\n"
     ]
    }
   ],
   "source": [
    "print(\"Value of w:\\n\")\n",
    "print w.numpy()"
   ]
  },
  {
   "cell_type": "code",
   "execution_count": 27,
   "metadata": {
    "colab": {
     "base_uri": "https://localhost:8080/",
     "height": 68
    },
    "colab_type": "code",
    "id": "w9e2pDM0YPFd",
    "outputId": "b5ee46b2-396b-45b4-832f-5c92e53446ab"
   },
   "outputs": [
    {
     "name": "stdout",
     "output_type": "stream",
     "text": [
      "Value of b:\n",
      "\n",
      "[2.532586]\n"
     ]
    }
   ],
   "source": [
    "print(\"Value of b:\\n\")\n",
    "print b.numpy()"
   ]
  },
  {
   "cell_type": "markdown",
   "metadata": {
    "colab_type": "text",
    "id": "ERq9GOKKciho"
   },
   "source": [
    "### Model Prediction on 1st Examples in Test Dataset"
   ]
  },
  {
   "cell_type": "code",
   "execution_count": 28,
   "metadata": {
    "colab": {
     "base_uri": "https://localhost:8080/",
     "height": 68
    },
    "colab_type": "code",
    "id": "gKGvUWahcihp",
    "outputId": "427f3cdb-f691-4e46-88cc-ce471249032b"
   },
   "outputs": [
    {
     "name": "stdout",
     "output_type": "stream",
     "text": [
      "Predicted Values:\n",
      "\n",
      "[[5.0650673]]\n"
     ]
    }
   ],
   "source": [
    "y_predict = prediction(X_test[0:1],w,b)\n",
    "print(\"Predicted Values:\\n\")\n",
    "print(y_predict.numpy())"
   ]
  },
  {
   "cell_type": "markdown",
   "metadata": {
    "colab_type": "text",
    "id": "YJRBuqXhOB7_"
   },
   "source": [
    "## Classification using tf.Keras\n",
    "\n",
    "In this exercise, we will build a Deep Neural Network using tf.Keras. We will use Iris Dataset for this exercise."
   ]
  },
  {
   "cell_type": "markdown",
   "metadata": {
    "colab_type": "text",
    "id": "O0g6lorycihf"
   },
   "source": [
    "### Load the given Iris data using pandas (Iris.csv)"
   ]
  },
  {
   "cell_type": "code",
   "execution_count": 29,
   "metadata": {
    "colab": {
     "base_uri": "https://localhost:8080/",
     "height": 85
    },
    "colab_type": "code",
    "id": "TygqKgfJTaiC",
    "outputId": "d4e84fa6-e911-41e6-fe73-58a6bbddde98"
   },
   "outputs": [
    {
     "name": "stdout",
     "output_type": "stream",
     "text": [
      "total 50515\n",
      "-rw------- 1 root root     5107 Jan 12 09:02 11_Iris.csv\n",
      "-rw------- 1 root root 51667341 Jan 12 09:02 prices.csv\n",
      "-rw------- 1 root root    54696 Jan 12 12:13 R6_Internal_Lab_UpdatedTF2_Prices_Iris-3.ipynb\n"
     ]
    }
   ],
   "source": [
    "!ls -l '/gdrive/My Drive/AIML/Lab_Internal_R6'"
   ]
  },
  {
   "cell_type": "code",
   "execution_count": 0,
   "metadata": {
    "colab": {},
    "colab_type": "code",
    "id": "6xFvb5sRcihg"
   },
   "outputs": [],
   "source": [
    "iris = pd.read_csv('/gdrive/My Drive/AIML/Lab_Internal_R6/11_Iris.csv')"
   ]
  },
  {
   "cell_type": "code",
   "execution_count": 31,
   "metadata": {
    "colab": {
     "base_uri": "https://localhost:8080/",
     "height": 68
    },
    "colab_type": "code",
    "id": "GO_A4XU6UnG-",
    "outputId": "e7e8d189-9656-433b-8256-962dd29ae40a"
   },
   "outputs": [
    {
     "data": {
      "text/plain": [
       "Index([u'Id', u'SepalLengthCm', u'SepalWidthCm', u'PetalLengthCm',\n",
       "       u'PetalWidthCm', u'Species'],\n",
       "      dtype='object')"
      ]
     },
     "execution_count": 31,
     "metadata": {
      "tags": []
     },
     "output_type": "execute_result"
    }
   ],
   "source": [
    "iris.columns"
   ]
  },
  {
   "cell_type": "markdown",
   "metadata": {
    "colab_type": "text",
    "id": "SAB--Qdwcihm"
   },
   "source": [
    "### Target set has different categories. So, Label encode them. And convert into one-hot vectors using get_dummies in pandas."
   ]
  },
  {
   "cell_type": "code",
   "execution_count": 0,
   "metadata": {
    "colab": {},
    "colab_type": "code",
    "id": "IJr5dYnocihm"
   },
   "outputs": [],
   "source": [
    "iris = pd.get_dummies(iris, columns=['Species'])\n",
    "iris.drop('Id', axis=1, inplace=True)"
   ]
  },
  {
   "cell_type": "code",
   "execution_count": 33,
   "metadata": {
    "colab": {
     "base_uri": "https://localhost:8080/",
     "height": 85
    },
    "colab_type": "code",
    "id": "IdwElIaRcABN",
    "outputId": "f4600234-6f6f-40ac-89e2-749bc71ef3cd"
   },
   "outputs": [
    {
     "data": {
      "text/plain": [
       "Index([u'SepalLengthCm', u'SepalWidthCm', u'PetalLengthCm', u'PetalWidthCm',\n",
       "       u'Species_Iris-setosa', u'Species_Iris-versicolor',\n",
       "       u'Species_Iris-virginica'],\n",
       "      dtype='object')"
      ]
     },
     "execution_count": 33,
     "metadata": {
      "tags": []
     },
     "output_type": "execute_result"
    }
   ],
   "source": [
    "iris.columns"
   ]
  },
  {
   "cell_type": "markdown",
   "metadata": {
    "colab_type": "text",
    "id": "D95nY5ILcihj"
   },
   "source": [
    "### Splitting the data into feature set and target set"
   ]
  },
  {
   "cell_type": "code",
   "execution_count": 34,
   "metadata": {
    "colab": {
     "base_uri": "https://localhost:8080/",
     "height": 34
    },
    "colab_type": "code",
    "id": "RyMQoLMucihj",
    "outputId": "815ff283-8351-44b5-9656-bb812dac2432"
   },
   "outputs": [
    {
     "data": {
      "text/plain": [
       "Index([u'SepalLengthCm', u'SepalWidthCm', u'PetalLengthCm', u'PetalWidthCm'], dtype='object')"
      ]
     },
     "execution_count": 34,
     "metadata": {
      "tags": []
     },
     "output_type": "execute_result"
    }
   ],
   "source": [
    "X = iris[['SepalLengthCm','SepalWidthCm','PetalLengthCm', 'PetalWidthCm']]\n",
    "X.columns"
   ]
  },
  {
   "cell_type": "code",
   "execution_count": 35,
   "metadata": {
    "colab": {
     "base_uri": "https://localhost:8080/",
     "height": 68
    },
    "colab_type": "code",
    "id": "HCOVcoNdditM",
    "outputId": "4613c44a-0a70-433d-dee0-72e692c70dba"
   },
   "outputs": [
    {
     "data": {
      "text/plain": [
       "Index([u'Species_Iris-setosa', u'Species_Iris-versicolor',\n",
       "       u'Species_Iris-virginica'],\n",
       "      dtype='object')"
      ]
     },
     "execution_count": 35,
     "metadata": {
      "tags": []
     },
     "output_type": "execute_result"
    }
   ],
   "source": [
    "y = iris[['Species_Iris-setosa','Species_Iris-versicolor','Species_Iris-virginica']]\n",
    "y.columns"
   ]
  },
  {
   "cell_type": "code",
   "execution_count": 36,
   "metadata": {
    "colab": {
     "base_uri": "https://localhost:8080/",
     "height": 34
    },
    "colab_type": "code",
    "id": "8q6K2xvngS6l",
    "outputId": "c2acf831-f788-4eb9-973d-7ce76b654eec"
   },
   "outputs": [
    {
     "data": {
      "text/plain": [
       "((150, 4), (150, 3))"
      ]
     },
     "execution_count": 36,
     "metadata": {
      "tags": []
     },
     "output_type": "execute_result"
    }
   ],
   "source": [
    "X.shape, y.shape"
   ]
  },
  {
   "cell_type": "code",
   "execution_count": 0,
   "metadata": {
    "colab": {},
    "colab_type": "code",
    "id": "6SA3t3IVhN_8"
   },
   "outputs": [],
   "source": [
    "X_train, X_test, y_train, y_test = train_test_split(X,y,test_size=0.30,random_state=123)"
   ]
  },
  {
   "cell_type": "code",
   "execution_count": 0,
   "metadata": {
    "colab": {},
    "colab_type": "code",
    "id": "2L3PhH_KiEar"
   },
   "outputs": [],
   "source": [
    "X_train = X_train.astype('float32')\n",
    "y_train = y_train.astype('float32')\n",
    "X_test = X_test.astype('float32')\n",
    "y_test = y_test.astype('float32')"
   ]
  },
  {
   "cell_type": "code",
   "execution_count": 0,
   "metadata": {
    "colab": {},
    "colab_type": "code",
    "id": "RNCM9oYSqtAI"
   },
   "outputs": [],
   "source": [
    "X_train = np.array(X_train)\n",
    "y_train = np.array(y_train)\n",
    "X_test = np.array(X_test)\n",
    "y_test = np.array(y_test)"
   ]
  },
  {
   "cell_type": "markdown",
   "metadata": {
    "colab_type": "text",
    "id": "b22qpC5xcihr"
   },
   "source": [
    "###  Building Model in tf.keras\n",
    "\n",
    "Build a Linear Classifier model  <br>\n",
    "1.  Use Dense Layer  with input shape of 4 (according to the feature set) and number of outputs set to 3<br> \n",
    "2. Apply Softmax on Dense Layer outputs <br>\n",
    "3. Use SGD as Optimizer\n",
    "4. Use categorical_crossentropy as loss function "
   ]
  },
  {
   "cell_type": "code",
   "execution_count": 0,
   "metadata": {
    "colab": {},
    "colab_type": "code",
    "id": "Hov_UFnUciht"
   },
   "outputs": [],
   "source": [
    "#Initialize Sequential model\n",
    "model = tf.keras.models.Sequential()\n",
    "\n",
    "#Add Dense Layer which provides 10 Outputs after applying softmax\n",
    "model.add(tf.keras.layers.Dense(3,input_shape=(4,), activation='softmax'))\n",
    "\n",
    "#Comile the model\n",
    "model.compile(optimizer='sgd', loss='categorical_crossentropy', \n",
    "              metrics=['accuracy'])"
   ]
  },
  {
   "cell_type": "markdown",
   "metadata": {
    "colab_type": "text",
    "id": "T5FdzqIKcihw"
   },
   "source": [
    "### Model Training "
   ]
  },
  {
   "cell_type": "code",
   "execution_count": 41,
   "metadata": {
    "colab": {
     "base_uri": "https://localhost:8080/",
     "height": 1000
    },
    "colab_type": "code",
    "id": "4qLEdHPscihx",
    "outputId": "fd7ee55f-3a6f-49b7-ffbf-bc11d248df78"
   },
   "outputs": [
    {
     "name": "stdout",
     "output_type": "stream",
     "text": [
      "Train on 105 samples, validate on 45 samples\n",
      "Epoch 1/100\n"
     ]
    },
    {
     "name": "stderr",
     "output_type": "stream",
     "text": [
      "WARNING: Logging before flag parsing goes to stderr.\n",
      "W0112 12:13:57.636499 140718256146304 module_wrapper.py:139] From /usr/local/lib/python2.7/dist-packages/tensorflow_estimator/python/estimator/api/_v1/estimator/__init__.py:12: The name tf.estimator.inputs is deprecated. Please use tf.compat.v1.estimator.inputs instead.\n",
      "\n"
     ]
    },
    {
     "name": "stdout",
     "output_type": "stream",
     "text": [
      "105/105 [==============================] - 1s 9ms/sample - loss: 4.2426 - acc: 0.3810 - val_loss: 5.0298 - val_acc: 0.2222\n",
      "Epoch 2/100\n",
      "105/105 [==============================] - 0s 118us/sample - loss: 3.9256 - acc: 0.3810 - val_loss: 4.6551 - val_acc: 0.2222\n",
      "Epoch 3/100\n",
      "105/105 [==============================] - 0s 127us/sample - loss: 3.6303 - acc: 0.3810 - val_loss: 4.3169 - val_acc: 0.2222\n",
      "Epoch 4/100\n",
      "105/105 [==============================] - 0s 90us/sample - loss: 3.3676 - acc: 0.3810 - val_loss: 4.0274 - val_acc: 0.2222\n",
      "Epoch 5/100\n",
      "105/105 [==============================] - 0s 75us/sample - loss: 3.1483 - acc: 0.3810 - val_loss: 3.7932 - val_acc: 0.2222\n",
      "Epoch 6/100\n",
      "105/105 [==============================] - 0s 84us/sample - loss: 2.9771 - acc: 0.3810 - val_loss: 3.6102 - val_acc: 0.2222\n",
      "Epoch 7/100\n",
      "105/105 [==============================] - 0s 73us/sample - loss: 2.8491 - acc: 0.3714 - val_loss: 3.4670 - val_acc: 0.2667\n",
      "Epoch 8/100\n",
      "105/105 [==============================] - 0s 89us/sample - loss: 2.7526 - acc: 0.4000 - val_loss: 3.3505 - val_acc: 0.3333\n",
      "Epoch 9/100\n",
      "105/105 [==============================] - 0s 100us/sample - loss: 2.6754 - acc: 0.4762 - val_loss: 3.2506 - val_acc: 0.2889\n",
      "Epoch 10/100\n",
      "105/105 [==============================] - 0s 97us/sample - loss: 2.6090 - acc: 0.5048 - val_loss: 3.1609 - val_acc: 0.3556\n",
      "Epoch 11/100\n",
      "105/105 [==============================] - 0s 74us/sample - loss: 2.5481 - acc: 0.5048 - val_loss: 3.0774 - val_acc: 0.3556\n",
      "Epoch 12/100\n",
      "105/105 [==============================] - 0s 82us/sample - loss: 2.4902 - acc: 0.4286 - val_loss: 2.9977 - val_acc: 0.3333\n",
      "Epoch 13/100\n",
      "105/105 [==============================] - 0s 77us/sample - loss: 2.4337 - acc: 0.4095 - val_loss: 2.9206 - val_acc: 0.3778\n",
      "Epoch 14/100\n",
      "105/105 [==============================] - 0s 98us/sample - loss: 2.3781 - acc: 0.4095 - val_loss: 2.8453 - val_acc: 0.3778\n",
      "Epoch 15/100\n",
      "105/105 [==============================] - 0s 74us/sample - loss: 2.3230 - acc: 0.4190 - val_loss: 2.7711 - val_acc: 0.3778\n",
      "Epoch 16/100\n",
      "105/105 [==============================] - 0s 106us/sample - loss: 2.2682 - acc: 0.4095 - val_loss: 2.6980 - val_acc: 0.3778\n",
      "Epoch 17/100\n",
      "105/105 [==============================] - 0s 81us/sample - loss: 2.2137 - acc: 0.4000 - val_loss: 2.6256 - val_acc: 0.4000\n",
      "Epoch 18/100\n",
      "105/105 [==============================] - 0s 87us/sample - loss: 2.1596 - acc: 0.4095 - val_loss: 2.5539 - val_acc: 0.4000\n",
      "Epoch 19/100\n",
      "105/105 [==============================] - 0s 102us/sample - loss: 2.1058 - acc: 0.4000 - val_loss: 2.4830 - val_acc: 0.4000\n",
      "Epoch 20/100\n",
      "105/105 [==============================] - 0s 105us/sample - loss: 2.0525 - acc: 0.4000 - val_loss: 2.4128 - val_acc: 0.4000\n",
      "Epoch 21/100\n",
      "105/105 [==============================] - 0s 80us/sample - loss: 1.9998 - acc: 0.4000 - val_loss: 2.3435 - val_acc: 0.4000\n",
      "Epoch 22/100\n",
      "105/105 [==============================] - 0s 98us/sample - loss: 1.9476 - acc: 0.4000 - val_loss: 2.2751 - val_acc: 0.4000\n",
      "Epoch 23/100\n",
      "105/105 [==============================] - 0s 83us/sample - loss: 1.8963 - acc: 0.4000 - val_loss: 2.2079 - val_acc: 0.4000\n",
      "Epoch 24/100\n",
      "105/105 [==============================] - 0s 123us/sample - loss: 1.8459 - acc: 0.4000 - val_loss: 2.1419 - val_acc: 0.4000\n",
      "Epoch 25/100\n",
      "105/105 [==============================] - 0s 109us/sample - loss: 1.7966 - acc: 0.4000 - val_loss: 2.0775 - val_acc: 0.4000\n",
      "Epoch 26/100\n",
      "105/105 [==============================] - 0s 114us/sample - loss: 1.7486 - acc: 0.4000 - val_loss: 2.0149 - val_acc: 0.4000\n",
      "Epoch 27/100\n",
      "105/105 [==============================] - 0s 107us/sample - loss: 1.7022 - acc: 0.4000 - val_loss: 1.9543 - val_acc: 0.4000\n",
      "Epoch 28/100\n",
      "105/105 [==============================] - 0s 106us/sample - loss: 1.6576 - acc: 0.4000 - val_loss: 1.8962 - val_acc: 0.4000\n",
      "Epoch 29/100\n",
      "105/105 [==============================] - 0s 119us/sample - loss: 1.6150 - acc: 0.4000 - val_loss: 1.8407 - val_acc: 0.4000\n",
      "Epoch 30/100\n",
      "105/105 [==============================] - 0s 107us/sample - loss: 1.5748 - acc: 0.4000 - val_loss: 1.7881 - val_acc: 0.4000\n",
      "Epoch 31/100\n",
      "105/105 [==============================] - 0s 106us/sample - loss: 1.5371 - acc: 0.4000 - val_loss: 1.7388 - val_acc: 0.4000\n",
      "Epoch 32/100\n",
      "105/105 [==============================] - 0s 125us/sample - loss: 1.5022 - acc: 0.4000 - val_loss: 1.6929 - val_acc: 0.4000\n",
      "Epoch 33/100\n",
      "105/105 [==============================] - 0s 124us/sample - loss: 1.4701 - acc: 0.4000 - val_loss: 1.6506 - val_acc: 0.4000\n",
      "Epoch 34/100\n",
      "105/105 [==============================] - 0s 94us/sample - loss: 1.4410 - acc: 0.4000 - val_loss: 1.6119 - val_acc: 0.4000\n",
      "Epoch 35/100\n",
      "105/105 [==============================] - 0s 96us/sample - loss: 1.4149 - acc: 0.4000 - val_loss: 1.5767 - val_acc: 0.4000\n",
      "Epoch 36/100\n",
      "105/105 [==============================] - 0s 116us/sample - loss: 1.3916 - acc: 0.4000 - val_loss: 1.5449 - val_acc: 0.4000\n",
      "Epoch 37/100\n",
      "105/105 [==============================] - 0s 92us/sample - loss: 1.3710 - acc: 0.4000 - val_loss: 1.5163 - val_acc: 0.4000\n",
      "Epoch 38/100\n",
      "105/105 [==============================] - 0s 118us/sample - loss: 1.3528 - acc: 0.4000 - val_loss: 1.4907 - val_acc: 0.4000\n",
      "Epoch 39/100\n",
      "105/105 [==============================] - 0s 100us/sample - loss: 1.3368 - acc: 0.4000 - val_loss: 1.4676 - val_acc: 0.4000\n",
      "Epoch 40/100\n",
      "105/105 [==============================] - 0s 105us/sample - loss: 1.3225 - acc: 0.4000 - val_loss: 1.4468 - val_acc: 0.4000\n",
      "Epoch 41/100\n",
      "105/105 [==============================] - 0s 104us/sample - loss: 1.3099 - acc: 0.4000 - val_loss: 1.4279 - val_acc: 0.4000\n",
      "Epoch 42/100\n",
      "105/105 [==============================] - 0s 100us/sample - loss: 1.2985 - acc: 0.4000 - val_loss: 1.4108 - val_acc: 0.4000\n",
      "Epoch 43/100\n",
      "105/105 [==============================] - 0s 106us/sample - loss: 1.2881 - acc: 0.4000 - val_loss: 1.3950 - val_acc: 0.4000\n",
      "Epoch 44/100\n",
      "105/105 [==============================] - 0s 111us/sample - loss: 1.2785 - acc: 0.4000 - val_loss: 1.3804 - val_acc: 0.4000\n",
      "Epoch 45/100\n",
      "105/105 [==============================] - 0s 101us/sample - loss: 1.2695 - acc: 0.4000 - val_loss: 1.3669 - val_acc: 0.4000\n",
      "Epoch 46/100\n",
      "105/105 [==============================] - 0s 106us/sample - loss: 1.2610 - acc: 0.4000 - val_loss: 1.3541 - val_acc: 0.4000\n",
      "Epoch 47/100\n",
      "105/105 [==============================] - 0s 75us/sample - loss: 1.2529 - acc: 0.4000 - val_loss: 1.3421 - val_acc: 0.4000\n",
      "Epoch 48/100\n",
      "105/105 [==============================] - 0s 108us/sample - loss: 1.2451 - acc: 0.4000 - val_loss: 1.3306 - val_acc: 0.4000\n",
      "Epoch 49/100\n",
      "105/105 [==============================] - 0s 91us/sample - loss: 1.2376 - acc: 0.4000 - val_loss: 1.3196 - val_acc: 0.4000\n",
      "Epoch 50/100\n",
      "105/105 [==============================] - 0s 129us/sample - loss: 1.2302 - acc: 0.4000 - val_loss: 1.3090 - val_acc: 0.4000\n",
      "Epoch 51/100\n",
      "105/105 [==============================] - 0s 86us/sample - loss: 1.2230 - acc: 0.4000 - val_loss: 1.2988 - val_acc: 0.4000\n",
      "Epoch 52/100\n",
      "105/105 [==============================] - 0s 87us/sample - loss: 1.2159 - acc: 0.4000 - val_loss: 1.2889 - val_acc: 0.4000\n",
      "Epoch 53/100\n",
      "105/105 [==============================] - 0s 121us/sample - loss: 1.2088 - acc: 0.4000 - val_loss: 1.2793 - val_acc: 0.4000\n",
      "Epoch 54/100\n",
      "105/105 [==============================] - 0s 150us/sample - loss: 1.2019 - acc: 0.4000 - val_loss: 1.2699 - val_acc: 0.4000\n",
      "Epoch 55/100\n",
      "105/105 [==============================] - 0s 114us/sample - loss: 1.1951 - acc: 0.4000 - val_loss: 1.2607 - val_acc: 0.4000\n",
      "Epoch 56/100\n",
      "105/105 [==============================] - 0s 100us/sample - loss: 1.1883 - acc: 0.4000 - val_loss: 1.2517 - val_acc: 0.4000\n",
      "Epoch 57/100\n",
      "105/105 [==============================] - 0s 90us/sample - loss: 1.1817 - acc: 0.4000 - val_loss: 1.2428 - val_acc: 0.4000\n",
      "Epoch 58/100\n",
      "105/105 [==============================] - 0s 117us/sample - loss: 1.1750 - acc: 0.4000 - val_loss: 1.2341 - val_acc: 0.4000\n",
      "Epoch 59/100\n",
      "105/105 [==============================] - 0s 105us/sample - loss: 1.1685 - acc: 0.4000 - val_loss: 1.2256 - val_acc: 0.4000\n",
      "Epoch 60/100\n",
      "105/105 [==============================] - 0s 118us/sample - loss: 1.1620 - acc: 0.4000 - val_loss: 1.2171 - val_acc: 0.4000\n",
      "Epoch 61/100\n",
      "105/105 [==============================] - 0s 92us/sample - loss: 1.1555 - acc: 0.4000 - val_loss: 1.2088 - val_acc: 0.4000\n",
      "Epoch 62/100\n",
      "105/105 [==============================] - 0s 104us/sample - loss: 1.1492 - acc: 0.4000 - val_loss: 1.2006 - val_acc: 0.4000\n",
      "Epoch 63/100\n",
      "105/105 [==============================] - 0s 121us/sample - loss: 1.1429 - acc: 0.4000 - val_loss: 1.1926 - val_acc: 0.4000\n",
      "Epoch 64/100\n",
      "105/105 [==============================] - 0s 110us/sample - loss: 1.1366 - acc: 0.4000 - val_loss: 1.1846 - val_acc: 0.4000\n",
      "Epoch 65/100\n",
      "105/105 [==============================] - 0s 117us/sample - loss: 1.1304 - acc: 0.4000 - val_loss: 1.1767 - val_acc: 0.4000\n",
      "Epoch 66/100\n",
      "105/105 [==============================] - 0s 119us/sample - loss: 1.1243 - acc: 0.4000 - val_loss: 1.1689 - val_acc: 0.4000\n",
      "Epoch 67/100\n",
      "105/105 [==============================] - 0s 132us/sample - loss: 1.1182 - acc: 0.4000 - val_loss: 1.1613 - val_acc: 0.4000\n",
      "Epoch 68/100\n",
      "105/105 [==============================] - 0s 122us/sample - loss: 1.1122 - acc: 0.4000 - val_loss: 1.1537 - val_acc: 0.4000\n",
      "Epoch 69/100\n",
      "105/105 [==============================] - 0s 113us/sample - loss: 1.1062 - acc: 0.4000 - val_loss: 1.1462 - val_acc: 0.4000\n",
      "Epoch 70/100\n",
      "105/105 [==============================] - 0s 108us/sample - loss: 1.1003 - acc: 0.4000 - val_loss: 1.1388 - val_acc: 0.4000\n",
      "Epoch 71/100\n",
      "105/105 [==============================] - 0s 146us/sample - loss: 1.0944 - acc: 0.4095 - val_loss: 1.1314 - val_acc: 0.4000\n",
      "Epoch 72/100\n",
      "105/105 [==============================] - 0s 94us/sample - loss: 1.0887 - acc: 0.4095 - val_loss: 1.1242 - val_acc: 0.4000\n",
      "Epoch 73/100\n",
      "105/105 [==============================] - 0s 117us/sample - loss: 1.0829 - acc: 0.4095 - val_loss: 1.1170 - val_acc: 0.4000\n",
      "Epoch 74/100\n",
      "105/105 [==============================] - 0s 128us/sample - loss: 1.0772 - acc: 0.4095 - val_loss: 1.1100 - val_acc: 0.4000\n",
      "Epoch 75/100\n",
      "105/105 [==============================] - 0s 74us/sample - loss: 1.0716 - acc: 0.4095 - val_loss: 1.1030 - val_acc: 0.4000\n",
      "Epoch 76/100\n",
      "105/105 [==============================] - 0s 107us/sample - loss: 1.0661 - acc: 0.4095 - val_loss: 1.0961 - val_acc: 0.4000\n",
      "Epoch 77/100\n",
      "105/105 [==============================] - 0s 127us/sample - loss: 1.0606 - acc: 0.4095 - val_loss: 1.0892 - val_acc: 0.4000\n",
      "Epoch 78/100\n",
      "105/105 [==============================] - 0s 123us/sample - loss: 1.0551 - acc: 0.4095 - val_loss: 1.0825 - val_acc: 0.4000\n",
      "Epoch 79/100\n",
      "105/105 [==============================] - 0s 131us/sample - loss: 1.0497 - acc: 0.4095 - val_loss: 1.0758 - val_acc: 0.4000\n",
      "Epoch 80/100\n",
      "105/105 [==============================] - 0s 122us/sample - loss: 1.0444 - acc: 0.4095 - val_loss: 1.0692 - val_acc: 0.3778\n",
      "Epoch 81/100\n",
      "105/105 [==============================] - 0s 124us/sample - loss: 1.0391 - acc: 0.4095 - val_loss: 1.0627 - val_acc: 0.3778\n",
      "Epoch 82/100\n",
      "105/105 [==============================] - 0s 122us/sample - loss: 1.0339 - acc: 0.4095 - val_loss: 1.0563 - val_acc: 0.3778\n",
      "Epoch 83/100\n",
      "105/105 [==============================] - 0s 123us/sample - loss: 1.0287 - acc: 0.4095 - val_loss: 1.0499 - val_acc: 0.3778\n",
      "Epoch 84/100\n",
      "105/105 [==============================] - 0s 121us/sample - loss: 1.0236 - acc: 0.4095 - val_loss: 1.0436 - val_acc: 0.3778\n",
      "Epoch 85/100\n",
      "105/105 [==============================] - 0s 79us/sample - loss: 1.0185 - acc: 0.4095 - val_loss: 1.0374 - val_acc: 0.3778\n",
      "Epoch 86/100\n",
      "105/105 [==============================] - 0s 106us/sample - loss: 1.0135 - acc: 0.4095 - val_loss: 1.0312 - val_acc: 0.3778\n",
      "Epoch 87/100\n",
      "105/105 [==============================] - 0s 114us/sample - loss: 1.0085 - acc: 0.4095 - val_loss: 1.0252 - val_acc: 0.3778\n",
      "Epoch 88/100\n",
      "105/105 [==============================] - 0s 118us/sample - loss: 1.0036 - acc: 0.4190 - val_loss: 1.0192 - val_acc: 0.3778\n",
      "Epoch 89/100\n",
      "105/105 [==============================] - 0s 111us/sample - loss: 0.9988 - acc: 0.4190 - val_loss: 1.0133 - val_acc: 0.3778\n",
      "Epoch 90/100\n",
      "105/105 [==============================] - 0s 101us/sample - loss: 0.9940 - acc: 0.4190 - val_loss: 1.0074 - val_acc: 0.3778\n",
      "Epoch 91/100\n",
      "105/105 [==============================] - 0s 94us/sample - loss: 0.9893 - acc: 0.4190 - val_loss: 1.0016 - val_acc: 0.3778\n",
      "Epoch 92/100\n",
      "105/105 [==============================] - 0s 88us/sample - loss: 0.9846 - acc: 0.4190 - val_loss: 0.9959 - val_acc: 0.3778\n",
      "Epoch 93/100\n",
      "105/105 [==============================] - 0s 105us/sample - loss: 0.9799 - acc: 0.4190 - val_loss: 0.9903 - val_acc: 0.3778\n",
      "Epoch 94/100\n",
      "105/105 [==============================] - 0s 112us/sample - loss: 0.9753 - acc: 0.4190 - val_loss: 0.9847 - val_acc: 0.3778\n",
      "Epoch 95/100\n",
      "105/105 [==============================] - 0s 126us/sample - loss: 0.9708 - acc: 0.4190 - val_loss: 0.9792 - val_acc: 0.3778\n",
      "Epoch 96/100\n",
      "105/105 [==============================] - 0s 101us/sample - loss: 0.9663 - acc: 0.4190 - val_loss: 0.9738 - val_acc: 0.3778\n",
      "Epoch 97/100\n",
      "105/105 [==============================] - 0s 154us/sample - loss: 0.9619 - acc: 0.4286 - val_loss: 0.9684 - val_acc: 0.3778\n",
      "Epoch 98/100\n",
      "105/105 [==============================] - 0s 106us/sample - loss: 0.9575 - acc: 0.4286 - val_loss: 0.9631 - val_acc: 0.3778\n",
      "Epoch 99/100\n",
      "105/105 [==============================] - 0s 138us/sample - loss: 0.9531 - acc: 0.4286 - val_loss: 0.9578 - val_acc: 0.3778\n",
      "Epoch 100/100\n",
      "105/105 [==============================] - 0s 133us/sample - loss: 0.9488 - acc: 0.4286 - val_loss: 0.9527 - val_acc: 0.3778\n"
     ]
    },
    {
     "data": {
      "text/plain": [
       "<tensorflow.python.keras.callbacks.History at 0x7ffb1c6ec310>"
      ]
     },
     "execution_count": 41,
     "metadata": {
      "tags": []
     },
     "output_type": "execute_result"
    }
   ],
   "source": [
    "model.fit(X_train, y_train, \n",
    "          validation_data=(X_test, y_test), \n",
    "          epochs=100,\n",
    "          batch_size=X_train.shape[0])"
   ]
  },
  {
   "cell_type": "code",
   "execution_count": 42,
   "metadata": {
    "colab": {
     "base_uri": "https://localhost:8080/",
     "height": 187
    },
    "colab_type": "code",
    "id": "Dz8UgyBwmCGz",
    "outputId": "e7cf86fd-f48f-4e2c-a2e0-10655f6307c4"
   },
   "outputs": [
    {
     "name": "stdout",
     "output_type": "stream",
     "text": [
      "Model: \"sequential\"\n",
      "_________________________________________________________________\n",
      "Layer (type)                 Output Shape              Param #   \n",
      "=================================================================\n",
      "dense (Dense)                (None, 3)                 15        \n",
      "=================================================================\n",
      "Total params: 15\n",
      "Trainable params: 15\n",
      "Non-trainable params: 0\n",
      "_________________________________________________________________\n"
     ]
    }
   ],
   "source": [
    "model.summary()"
   ]
  },
  {
   "cell_type": "code",
   "execution_count": 43,
   "metadata": {
    "colab": {
     "base_uri": "https://localhost:8080/",
     "height": 102
    },
    "colab_type": "code",
    "id": "wV4TFirSmGrh",
    "outputId": "5957effd-cbb6-43d1-90c4-f8f92f52deee"
   },
   "outputs": [
    {
     "data": {
      "text/plain": [
       "[array([[-0.10925541, -0.59646183,  0.033714  ],\n",
       "        [-0.307147  ,  0.4449178 , -0.58272606],\n",
       "        [ 0.48906133,  0.7655457 ,  0.17696875],\n",
       "        [-0.99374664, -0.75979406,  0.44017068]], dtype=float32),\n",
       " array([ 0.15785375, -0.1002849 , -0.05756884], dtype=float32)]"
      ]
     },
     "execution_count": 43,
     "metadata": {
      "tags": []
     },
     "output_type": "execute_result"
    }
   ],
   "source": [
    "model.get_weights()"
   ]
  },
  {
   "cell_type": "markdown",
   "metadata": {
    "colab_type": "text",
    "id": "y-SgSSdRcih5"
   },
   "source": [
    "### Model Prediction"
   ]
  },
  {
   "cell_type": "code",
   "execution_count": 44,
   "metadata": {
    "colab": {
     "base_uri": "https://localhost:8080/",
     "height": 782
    },
    "colab_type": "code",
    "id": "GBgKZkhkcih6",
    "outputId": "80034a03-1839-420c-9f95-9e7c3b489797"
   },
   "outputs": [
    {
     "data": {
      "text/plain": [
       "array([[0.24096973, 0.31199792, 0.44703233],\n",
       "       [0.15598029, 0.31317002, 0.5308497 ],\n",
       "       [0.14268507, 0.31518814, 0.5421268 ],\n",
       "       [0.22533171, 0.4571437 , 0.31752458],\n",
       "       [0.37998042, 0.4301751 , 0.18984447],\n",
       "       [0.17440538, 0.3971997 , 0.4283949 ],\n",
       "       [0.27428806, 0.25392994, 0.47178197],\n",
       "       [0.32634866, 0.4922305 , 0.18142083],\n",
       "       [0.35427493, 0.4383786 , 0.20734636],\n",
       "       [0.25659835, 0.4293966 , 0.31400508],\n",
       "       [0.12495258, 0.24168463, 0.6333628 ],\n",
       "       [0.2938239 , 0.56552094, 0.14065519],\n",
       "       [0.2136101 , 0.40705094, 0.37933904],\n",
       "       [0.18915011, 0.40974444, 0.40110537],\n",
       "       [0.14539865, 0.23291922, 0.62168217],\n",
       "       [0.14262791, 0.36861703, 0.48875514],\n",
       "       [0.36970234, 0.40885943, 0.22143824],\n",
       "       [0.35798907, 0.4508337 , 0.19117725],\n",
       "       [0.23411657, 0.41726428, 0.34861907],\n",
       "       [0.3546556 , 0.39856717, 0.24677728],\n",
       "       [0.3581347 , 0.43711066, 0.20475468],\n",
       "       [0.2315193 , 0.39698747, 0.37149322],\n",
       "       [0.31596044, 0.53808624, 0.14595327],\n",
       "       [0.17714518, 0.39502716, 0.42782772],\n",
       "       [0.3026743 , 0.5537857 , 0.14353998],\n",
       "       [0.3651391 , 0.43924597, 0.19561493],\n",
       "       [0.33870837, 0.40399975, 0.25729185],\n",
       "       [0.14858712, 0.38112873, 0.4702842 ],\n",
       "       [0.14629214, 0.49322483, 0.36048305],\n",
       "       [0.3236629 , 0.5061503 , 0.17018673],\n",
       "       [0.20442851, 0.2969604 , 0.4986111 ],\n",
       "       [0.24387272, 0.2998141 , 0.4563132 ],\n",
       "       [0.3396384 , 0.48089343, 0.17946811],\n",
       "       [0.3413159 , 0.4715441 , 0.18713999],\n",
       "       [0.32492372, 0.2695209 , 0.40555537],\n",
       "       [0.28498343, 0.34184602, 0.37317052],\n",
       "       [0.1731127 , 0.46504077, 0.36184654],\n",
       "       [0.28919894, 0.5309771 , 0.17982398],\n",
       "       [0.29866108, 0.49093896, 0.21039993],\n",
       "       [0.26246572, 0.3563066 , 0.38122764],\n",
       "       [0.29869342, 0.30218053, 0.39912605],\n",
       "       [0.36762235, 0.40264878, 0.22972892],\n",
       "       [0.13300666, 0.3632942 , 0.5036991 ],\n",
       "       [0.12592667, 0.2560269 , 0.6180464 ],\n",
       "       [0.1679723 , 0.3742853 , 0.45774233]], dtype=float32)"
      ]
     },
     "execution_count": 44,
     "metadata": {
      "tags": []
     },
     "output_type": "execute_result"
    }
   ],
   "source": [
    "model.predict(X_test)"
   ]
  },
  {
   "cell_type": "markdown",
   "metadata": {
    "colab_type": "text",
    "id": "P32ASP1Vjt0a"
   },
   "source": [
    "### Save the Model"
   ]
  },
  {
   "cell_type": "code",
   "execution_count": 0,
   "metadata": {
    "colab": {},
    "colab_type": "code",
    "id": "n8rd0jjAjyTR"
   },
   "outputs": [],
   "source": [
    "model.save('iris.h5')"
   ]
  },
  {
   "cell_type": "markdown",
   "metadata": {
    "colab_type": "text",
    "id": "XiipRpe7rbVh"
   },
   "source": [
    "### Build and Train a Deep Neural network with 2 hidden layer  - Optional - For Practice\n",
    "\n",
    "Does it perform better than Linear Classifier? What could be the reason for difference in performance?"
   ]
  },
  {
   "cell_type": "code",
   "execution_count": 0,
   "metadata": {
    "colab": {},
    "colab_type": "code",
    "id": "v5Du3lubr4sA"
   },
   "outputs": [],
   "source": []
  }
 ],
 "metadata": {
  "colab": {
   "name": "R6_Internal_Lab_UpdatedTF2_Prices_Iris-3.ipynb",
   "provenance": []
  },
  "kernelspec": {
   "display_name": "Python 3",
   "language": "python",
   "name": "python3"
  },
  "language_info": {
   "codemirror_mode": {
    "name": "ipython",
    "version": 3
   },
   "file_extension": ".py",
   "mimetype": "text/x-python",
   "name": "python",
   "nbconvert_exporter": "python",
   "pygments_lexer": "ipython3",
   "version": "3.7.3"
  }
 },
 "nbformat": 4,
 "nbformat_minor": 1
}
