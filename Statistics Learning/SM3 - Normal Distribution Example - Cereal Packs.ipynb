{
 "cells": [
  {
   "cell_type": "markdown",
   "metadata": {},
   "source": [
    "## Problem Statement - Normal Distribution\n",
    "\n",
    "The mean weight of a morning breakfast cereal pack is 0.295 kg with a standard deviation of 0.025 kg. The random variable weight of the pack follows a normal distribution. \n",
    "\n",
    "  a)What is the probability that the pack weighs less than 0.280 kg?\n",
    "  \n",
    "  b)What is the probability that the pack weighs more than 0.350 kg? \n",
    "  \n",
    "  c)What is the probability that the pack weighs between 0.260 kg to 0.340 kg? "
   ]
  },
  {
   "cell_type": "code",
   "execution_count": 14,
   "metadata": {},
   "outputs": [],
   "source": [
    "import scipy.stats as stats"
   ]
  },
  {
   "cell_type": "code",
   "execution_count": 15,
   "metadata": {},
   "outputs": [],
   "source": [
    "# Z-Score for x=0.280 for mean of 0.295 and sdev of 0.025\n",
    "# z = (x-mean)/sdev\n",
    "\n",
    "z=(0.28-0.295)/0.025"
   ]
  },
  {
   "cell_type": "code",
   "execution_count": 16,
   "metadata": {},
   "outputs": [
    {
     "data": {
      "text/plain": [
       "-0.5999999999999983"
      ]
     },
     "execution_count": 16,
     "metadata": {},
     "output_type": "execute_result"
    }
   ],
   "source": [
    "z"
   ]
  },
  {
   "cell_type": "markdown",
   "metadata": {},
   "source": [
    "- we need to find the area of curve to the left of z value, for a z value of -0.6, which will be the probability that the pack weighs less than 0.280 kg"
   ]
  },
  {
   "cell_type": "code",
   "execution_count": 17,
   "metadata": {},
   "outputs": [
    {
     "data": {
      "text/plain": [
       "0.2742531177500736"
      ]
     },
     "execution_count": 17,
     "metadata": {},
     "output_type": "execute_result"
    }
   ],
   "source": [
    "#cdf is cumulative density function (continuous area) which gives the area under the curve for z value of -0.6\n",
    "\n",
    "stats.norm.cdf(-0.6)"
   ]
  },
  {
   "cell_type": "markdown",
   "metadata": {},
   "source": [
    "- A cdf value of 0.274 tells that there is a 27.4% chance of the cereal pack weighing less than 280 grams, when it is randomly choosen from the cereal packs"
   ]
  },
  {
   "cell_type": "code",
   "execution_count": 18,
   "metadata": {},
   "outputs": [],
   "source": [
    "# Z-Score for x=0.350 for mean of 0.295 and sdev of 0.025\n",
    "# z = (x-mean)/sdev\n",
    "\n",
    "z=(0.35-0.295)/0.025"
   ]
  },
  {
   "cell_type": "code",
   "execution_count": 19,
   "metadata": {},
   "outputs": [
    {
     "data": {
      "text/plain": [
       "2.1999999999999997"
      ]
     },
     "execution_count": 19,
     "metadata": {},
     "output_type": "execute_result"
    }
   ],
   "source": [
    "z"
   ]
  },
  {
   "cell_type": "markdown",
   "metadata": {},
   "source": [
    "- we need to find the area of curve to the right of z value, for a z value of 2.2, which will be the probability that the pack weighs more than 0.350 kg"
   ]
  },
  {
   "cell_type": "code",
   "execution_count": 20,
   "metadata": {},
   "outputs": [
    {
     "data": {
      "text/plain": [
       "0.01390344751349859"
      ]
     },
     "execution_count": 20,
     "metadata": {},
     "output_type": "execute_result"
    }
   ],
   "source": [
    "1 - stats.norm.cdf(2.2)"
   ]
  },
  {
   "cell_type": "markdown",
   "metadata": {},
   "source": [
    "- A cdf value of 0.013 tells that there is a 1.4% chance of the cereal pack weighing more than 350 grams , when it is randomly choosen from the cereal packs"
   ]
  },
  {
   "cell_type": "code",
   "execution_count": 21,
   "metadata": {},
   "outputs": [],
   "source": [
    "# Z-Score for x=0.260 for mean of 0.295 and sdev of 0.025\n",
    "# z = (x-mean)/sdev\n",
    "\n",
    "z1= (0.26-0.295)/ 0.025"
   ]
  },
  {
   "cell_type": "code",
   "execution_count": 22,
   "metadata": {},
   "outputs": [],
   "source": [
    "# Z-Score for x=0.340 for mean of 0.295 and sdev of 0.025\n",
    "# z = (x-mean)/sdev\n",
    "\n",
    "z2 = (0.34-0.295)/0.025"
   ]
  },
  {
   "cell_type": "code",
   "execution_count": 23,
   "metadata": {},
   "outputs": [
    {
     "data": {
      "text/plain": [
       "(-1.399999999999999, 1.8000000000000016)"
      ]
     },
     "execution_count": 23,
     "metadata": {},
     "output_type": "execute_result"
    }
   ],
   "source": [
    "z1, z2"
   ]
  },
  {
   "cell_type": "markdown",
   "metadata": {},
   "source": [
    "- we need to find the difference in the area of curve to the right of z1=1.8  and the area of curve to the left of z2=-1.4 value, which will be the probability that the weight of the pack selected at random is between 0.260 kg and 0.340 kg"
   ]
  },
  {
   "cell_type": "code",
   "execution_count": 24,
   "metadata": {},
   "outputs": [
    {
     "data": {
      "text/plain": [
       "0.8833130216533032"
      ]
     },
     "execution_count": 24,
     "metadata": {},
     "output_type": "execute_result"
    }
   ],
   "source": [
    "stats.norm.cdf(z2) - stats.norm.cdf(z1)"
   ]
  },
  {
   "cell_type": "markdown",
   "metadata": {},
   "source": [
    "- A cdf value of 0.88 tells that there is an 88% chance of the cereal pack weighing more than 260 grams and less than 340 grams, when it is randomly choosen from the cereal packs"
   ]
  },
  {
   "cell_type": "code",
   "execution_count": null,
   "metadata": {},
   "outputs": [],
   "source": []
  }
 ],
 "metadata": {
  "kernelspec": {
   "display_name": "Python 3",
   "language": "python",
   "name": "python3"
  },
  "language_info": {
   "codemirror_mode": {
    "name": "ipython",
    "version": 3
   },
   "file_extension": ".py",
   "mimetype": "text/x-python",
   "name": "python",
   "nbconvert_exporter": "python",
   "pygments_lexer": "ipython3",
   "version": "3.7.3"
  }
 },
 "nbformat": 4,
 "nbformat_minor": 2
}
