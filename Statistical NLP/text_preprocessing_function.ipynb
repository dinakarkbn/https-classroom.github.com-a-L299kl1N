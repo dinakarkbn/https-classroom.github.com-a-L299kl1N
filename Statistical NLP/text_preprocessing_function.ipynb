{
 "cells": [
  {
   "cell_type": "markdown",
   "metadata": {},
   "source": [
    "### Function for text preprocessing "
   ]
  },
  {
   "cell_type": "code",
   "execution_count": 1,
   "metadata": {},
   "outputs": [],
   "source": [
    "import nltk\n",
    "from nltk.tokenize import RegexpTokenizer\n",
    "from nltk.stem import WordNetLemmatizer,PorterStemmer\n",
    "from nltk.corpus import stopwords\n",
    "import re"
   ]
  },
  {
   "cell_type": "code",
   "execution_count": 2,
   "metadata": {},
   "outputs": [],
   "source": [
    "lemmatizer = WordNetLemmatizer()\n",
    "stemmer = PorterStemmer()"
   ]
  },
  {
   "cell_type": "code",
   "execution_count": 3,
   "metadata": {},
   "outputs": [],
   "source": [
    "def preprocess(text):\n",
    "    sentence = str(text)\n",
    "    \n",
    "    #convert to lower case\n",
    "    text = text.lower()\n",
    "    \n",
    "    #replace html tags with spaces\n",
    "    text=text.replace('{html}',\"\")\n",
    "    \n",
    "    #clean the text\n",
    "    cleanr = re.compile('<.*?>')\n",
    "    cleantext = re.sub(cleanr, '', text)\n",
    "    \n",
    "    #replace http... with cleantext\n",
    "    rem_url=re.sub(r'http\\S+', '',cleantext)\n",
    "    \n",
    "    #remove digits\n",
    "    rem_num = re.sub('[0-9]+', '', rem_url)\n",
    "    \n",
    "    #tokenize the text\n",
    "    tokenizer = RegexpTokenizer(r'\\w+')\n",
    "    tokens = tokenizer.tokenize(rem_num)\n",
    "    print('Tokens in text:\\n',tokens,'\\n')\n",
    "    \n",
    "    #filter stopwords\n",
    "    filtered_words = [w for w in tokens if len(w) > 2 if not w in stopwords.words('english')]\n",
    "    \n",
    "    #stemming\n",
    "    stem_words=[stemmer.stem(w) for w in filtered_words]\n",
    "    print('Stemmed text:\\n',stem_words,'\\n')\n",
    "    \n",
    "    #lemmatization\n",
    "    lemma_words=[lemmatizer.lemmatize(w) for w in filtered_words]\n",
    "    print('Lemmatized text:\\n',lemma_words,'\\n')\n",
    "    \n",
    "    return \" \".join(filtered_words)"
   ]
  },
  {
   "cell_type": "code",
   "execution_count": 4,
   "metadata": {},
   "outputs": [],
   "source": [
    "text = 'We are building a startup team to solve hard challenges in healthcare like diagnosing disesases and discovering novel therapeutics.'"
   ]
  },
  {
   "cell_type": "code",
   "execution_count": 5,
   "metadata": {},
   "outputs": [
    {
     "name": "stdout",
     "output_type": "stream",
     "text": [
      "Tokens in text:\n",
      " ['we', 'are', 'building', 'a', 'startup', 'team', 'to', 'solve', 'hard', 'challenges', 'in', 'healthcare', 'like', 'diagnosing', 'disesases', 'and', 'discovering', 'novel', 'therapeutics'] \n",
      "\n",
      "Stemmed text:\n",
      " ['build', 'startup', 'team', 'solv', 'hard', 'challeng', 'healthcar', 'like', 'diagnos', 'disesas', 'discov', 'novel', 'therapeut'] \n",
      "\n",
      "Lemmatized text:\n",
      " ['building', 'startup', 'team', 'solve', 'hard', 'challenge', 'healthcare', 'like', 'diagnosing', 'disesases', 'discovering', 'novel', 'therapeutic'] \n",
      "\n",
      "Filtered text:\n",
      " building startup team solve hard challenges healthcare like diagnosing disesases discovering novel therapeutics\n"
     ]
    }
   ],
   "source": [
    "print('Filtered text:\\n',preprocess(text))"
   ]
  },
  {
   "cell_type": "code",
   "execution_count": null,
   "metadata": {},
   "outputs": [],
   "source": []
  }
 ],
 "metadata": {
  "kernelspec": {
   "display_name": "Python 3",
   "language": "python",
   "name": "python3"
  },
  "language_info": {
   "codemirror_mode": {
    "name": "ipython",
    "version": 3
   },
   "file_extension": ".py",
   "mimetype": "text/x-python",
   "name": "python",
   "nbconvert_exporter": "python",
   "pygments_lexer": "ipython3",
   "version": "3.7.3"
  }
 },
 "nbformat": 4,
 "nbformat_minor": 2
}
