{
  "nbformat": 4,
  "nbformat_minor": 0,
  "metadata": {
    "accelerator": "GPU",
    "colab": {
      "name": "Solutions_Project 2 - Sequential Models in NLP - Sarcasm Detection.ipynb",
      "provenance": [],
      "collapsed_sections": [],
      "toc_visible": true
    },
    "kernelspec": {
      "display_name": "Python 3",
      "language": "python",
      "name": "python3"
    },
    "language_info": {
      "codemirror_mode": {
        "name": "ipython",
        "version": 3
      },
      "file_extension": ".py",
      "mimetype": "text/x-python",
      "name": "python",
      "nbconvert_exporter": "python",
      "pygments_lexer": "ipython3",
      "version": "3.7.3"
    }
  },
  "cells": [
    {
      "cell_type": "markdown",
      "metadata": {
        "id": "bI7SIeJ_oZMU",
        "colab_type": "text"
      },
      "source": [
        "![alt text](https://drive.google.com/uc?export=view&id=1UXScsVx_Wni_JuDdB8LeTnM6jsPfIwkW)\n",
        "\n",
        "Proprietary content. © Great Learning. All Rights Reserved. Unauthorized use or distribution prohibited."
      ]
    },
    {
      "cell_type": "markdown",
      "metadata": {
        "id": "Eukag7wEoPZu",
        "colab_type": "text"
      },
      "source": [
        "### Package Version:\n",
        "- tensorflow==2.2.0\n",
        "- pandas==1.0.5\n",
        "- numpy==1.18.5\n",
        "- google==2.0.3"
      ]
    },
    {
      "cell_type": "markdown",
      "metadata": {
        "colab_type": "text",
        "id": "pp68FAQf9aMN"
      },
      "source": [
        "# Sarcasm Detection"
      ]
    },
    {
      "cell_type": "markdown",
      "metadata": {
        "id": "bEahVPtWX5ve",
        "colab_type": "text"
      },
      "source": [
        "### Dataset\n",
        "\n",
        "#### Acknowledgement\n",
        "Misra, Rishabh, and Prahal Arora. \"Sarcasm Detection using Hybrid Neural Network.\" arXiv preprint arXiv:1908.07414 (2019).\n",
        "\n",
        "**Required Files given in below link.**\n",
        "\n",
        "https://drive.google.com/drive/folders/1xUnF35naPGU63xwRDVGc-DkZ3M8V5mMk"
      ]
    },
    {
      "cell_type": "markdown",
      "metadata": {
        "colab_type": "text",
        "id": "vAk6BRUh8CqL"
      },
      "source": [
        "### Load Data (3 Marks)"
      ]
    },
    {
      "cell_type": "code",
      "metadata": {
        "colab_type": "code",
        "id": "v8-PQsV0DrAZ",
        "colab": {}
      },
      "source": [
        "import pandas as pd\n",
        "import numpy as np\n",
        "import matplotlib.pyplot as plt\n",
        "%matplotlib inline\n",
        "import seaborn as sns\n",
        "from sklearn.metrics import classification_report, confusion_matrix"
      ],
      "execution_count": 80,
      "outputs": []
    },
    {
      "cell_type": "code",
      "metadata": {
        "id": "PPs5hjfjJcjU",
        "colab_type": "code",
        "colab": {
          "base_uri": "https://localhost:8080/",
          "height": 122
        },
        "outputId": "8d37f8a5-4453-44f9-f0b1-beaa75d80852"
      },
      "source": [
        "from google.colab import drive\n",
        "drive.mount('/gdrive', force_remount=True)"
      ],
      "execution_count": 2,
      "outputs": [
        {
          "output_type": "stream",
          "text": [
            "Go to this URL in a browser: https://accounts.google.com/o/oauth2/auth?client_id=947318989803-6bn6qk8qdgf4n4g3pfee6491hc0brc4i.apps.googleusercontent.com&redirect_uri=urn%3aietf%3awg%3aoauth%3a2.0%3aoob&response_type=code&scope=email%20https%3a%2f%2fwww.googleapis.com%2fauth%2fdocs.test%20https%3a%2f%2fwww.googleapis.com%2fauth%2fdrive%20https%3a%2f%2fwww.googleapis.com%2fauth%2fdrive.photos.readonly%20https%3a%2f%2fwww.googleapis.com%2fauth%2fpeopleapi.readonly\n",
            "\n",
            "Enter your authorization code:\n",
            "··········\n",
            "Mounted at /gdrive\n"
          ],
          "name": "stdout"
        }
      ]
    },
    {
      "cell_type": "code",
      "metadata": {
        "id": "NU7QCGk0UeEs",
        "colab_type": "code",
        "colab": {
          "base_uri": "https://localhost:8080/",
          "height": 119
        },
        "outputId": "fc6f4ffc-6627-4955-db2b-46b1c640ede7"
      },
      "source": [
        "ls -l '/gdrive/My Drive/AIML/Sequential_NLP_Project1/'"
      ],
      "execution_count": 3,
      "outputs": [
        {
          "output_type": "stream",
          "text": [
            "total 270651\n",
            "-rw------- 1 root root     62325 Jul 31 09:22 'Description - Project 2 - Sequential Models in NLP - Sarcasm Detection.pdf'\n",
            "-rw------- 1 root root 271396933 Aug  2 13:02  glove.6B.200d.zip\n",
            "-rw------- 1 root root      6507 Jul 31 09:27 'Questions - Project 2 - Sequential Models in NLP - Sarcasm Detection.ipynb'\n",
            "-rw------- 1 root root   5616830 Aug  1 13:48  Sarcasm_Headlines_Dataset.json\n",
            "-rw------- 1 root root     62817 Aug  3 11:12 'Solutions_Project 2 - Sequential Models in NLP - Sarcasm Detection.ipynb'\n"
          ],
          "name": "stdout"
        }
      ]
    },
    {
      "cell_type": "code",
      "metadata": {
        "id": "barTvIqbQdn-",
        "colab_type": "code",
        "colab": {}
      },
      "source": [
        "data = pd.read_json('/gdrive/My Drive/AIML/Sequential_NLP_Project1/Sarcasm_Headlines_Dataset.json', lines=True)"
      ],
      "execution_count": 4,
      "outputs": []
    },
    {
      "cell_type": "code",
      "metadata": {
        "id": "PGJaSOZwQ1uM",
        "colab_type": "code",
        "colab": {
          "base_uri": "https://localhost:8080/",
          "height": 204
        },
        "outputId": "8b6e3b3e-181a-4b0e-d97e-8aafc7018b32"
      },
      "source": [
        "data.head()"
      ],
      "execution_count": 5,
      "outputs": [
        {
          "output_type": "execute_result",
          "data": {
            "text/html": [
              "<div>\n",
              "<style scoped>\n",
              "    .dataframe tbody tr th:only-of-type {\n",
              "        vertical-align: middle;\n",
              "    }\n",
              "\n",
              "    .dataframe tbody tr th {\n",
              "        vertical-align: top;\n",
              "    }\n",
              "\n",
              "    .dataframe thead th {\n",
              "        text-align: right;\n",
              "    }\n",
              "</style>\n",
              "<table border=\"1\" class=\"dataframe\">\n",
              "  <thead>\n",
              "    <tr style=\"text-align: right;\">\n",
              "      <th></th>\n",
              "      <th>article_link</th>\n",
              "      <th>headline</th>\n",
              "      <th>is_sarcastic</th>\n",
              "    </tr>\n",
              "  </thead>\n",
              "  <tbody>\n",
              "    <tr>\n",
              "      <th>0</th>\n",
              "      <td>https://www.huffingtonpost.com/entry/versace-b...</td>\n",
              "      <td>former versace store clerk sues over secret 'b...</td>\n",
              "      <td>0</td>\n",
              "    </tr>\n",
              "    <tr>\n",
              "      <th>1</th>\n",
              "      <td>https://www.huffingtonpost.com/entry/roseanne-...</td>\n",
              "      <td>the 'roseanne' revival catches up to our thorn...</td>\n",
              "      <td>0</td>\n",
              "    </tr>\n",
              "    <tr>\n",
              "      <th>2</th>\n",
              "      <td>https://local.theonion.com/mom-starting-to-fea...</td>\n",
              "      <td>mom starting to fear son's web series closest ...</td>\n",
              "      <td>1</td>\n",
              "    </tr>\n",
              "    <tr>\n",
              "      <th>3</th>\n",
              "      <td>https://politics.theonion.com/boehner-just-wan...</td>\n",
              "      <td>boehner just wants wife to listen, not come up...</td>\n",
              "      <td>1</td>\n",
              "    </tr>\n",
              "    <tr>\n",
              "      <th>4</th>\n",
              "      <td>https://www.huffingtonpost.com/entry/jk-rowlin...</td>\n",
              "      <td>j.k. rowling wishes snape happy birthday in th...</td>\n",
              "      <td>0</td>\n",
              "    </tr>\n",
              "  </tbody>\n",
              "</table>\n",
              "</div>"
            ],
            "text/plain": [
              "                                        article_link  ... is_sarcastic\n",
              "0  https://www.huffingtonpost.com/entry/versace-b...  ...            0\n",
              "1  https://www.huffingtonpost.com/entry/roseanne-...  ...            0\n",
              "2  https://local.theonion.com/mom-starting-to-fea...  ...            1\n",
              "3  https://politics.theonion.com/boehner-just-wan...  ...            1\n",
              "4  https://www.huffingtonpost.com/entry/jk-rowlin...  ...            0\n",
              "\n",
              "[5 rows x 3 columns]"
            ]
          },
          "metadata": {
            "tags": []
          },
          "execution_count": 5
        }
      ]
    },
    {
      "cell_type": "code",
      "metadata": {
        "id": "hT_bZePHXOoa",
        "colab_type": "code",
        "colab": {
          "base_uri": "https://localhost:8080/",
          "height": 34
        },
        "outputId": "875a1a9e-4b46-4235-9edf-310833cbb6d7"
      },
      "source": [
        "print(data.shape)"
      ],
      "execution_count": 6,
      "outputs": [
        {
          "output_type": "stream",
          "text": [
            "(26709, 3)\n"
          ],
          "name": "stdout"
        }
      ]
    },
    {
      "cell_type": "code",
      "metadata": {
        "id": "OWPrJTPxXT8Q",
        "colab_type": "code",
        "colab": {
          "base_uri": "https://localhost:8080/",
          "height": 34
        },
        "outputId": "4c6a28a8-f959-43a8-d046-2d95aeed7a09"
      },
      "source": [
        "print(data.columns)"
      ],
      "execution_count": 7,
      "outputs": [
        {
          "output_type": "stream",
          "text": [
            "Index(['article_link', 'headline', 'is_sarcastic'], dtype='object')\n"
          ],
          "name": "stdout"
        }
      ]
    },
    {
      "cell_type": "code",
      "metadata": {
        "id": "VYaELj1ZZLVg",
        "colab_type": "code",
        "colab": {
          "base_uri": "https://localhost:8080/",
          "height": 297
        },
        "outputId": "e6e3aa80-1156-4561-cf7f-47bf75045e88"
      },
      "source": [
        "data.describe()"
      ],
      "execution_count": 8,
      "outputs": [
        {
          "output_type": "execute_result",
          "data": {
            "text/html": [
              "<div>\n",
              "<style scoped>\n",
              "    .dataframe tbody tr th:only-of-type {\n",
              "        vertical-align: middle;\n",
              "    }\n",
              "\n",
              "    .dataframe tbody tr th {\n",
              "        vertical-align: top;\n",
              "    }\n",
              "\n",
              "    .dataframe thead th {\n",
              "        text-align: right;\n",
              "    }\n",
              "</style>\n",
              "<table border=\"1\" class=\"dataframe\">\n",
              "  <thead>\n",
              "    <tr style=\"text-align: right;\">\n",
              "      <th></th>\n",
              "      <th>is_sarcastic</th>\n",
              "    </tr>\n",
              "  </thead>\n",
              "  <tbody>\n",
              "    <tr>\n",
              "      <th>count</th>\n",
              "      <td>26709.000000</td>\n",
              "    </tr>\n",
              "    <tr>\n",
              "      <th>mean</th>\n",
              "      <td>0.438953</td>\n",
              "    </tr>\n",
              "    <tr>\n",
              "      <th>std</th>\n",
              "      <td>0.496269</td>\n",
              "    </tr>\n",
              "    <tr>\n",
              "      <th>min</th>\n",
              "      <td>0.000000</td>\n",
              "    </tr>\n",
              "    <tr>\n",
              "      <th>25%</th>\n",
              "      <td>0.000000</td>\n",
              "    </tr>\n",
              "    <tr>\n",
              "      <th>50%</th>\n",
              "      <td>0.000000</td>\n",
              "    </tr>\n",
              "    <tr>\n",
              "      <th>75%</th>\n",
              "      <td>1.000000</td>\n",
              "    </tr>\n",
              "    <tr>\n",
              "      <th>max</th>\n",
              "      <td>1.000000</td>\n",
              "    </tr>\n",
              "  </tbody>\n",
              "</table>\n",
              "</div>"
            ],
            "text/plain": [
              "       is_sarcastic\n",
              "count  26709.000000\n",
              "mean       0.438953\n",
              "std        0.496269\n",
              "min        0.000000\n",
              "25%        0.000000\n",
              "50%        0.000000\n",
              "75%        1.000000\n",
              "max        1.000000"
            ]
          },
          "metadata": {
            "tags": []
          },
          "execution_count": 8
        }
      ]
    },
    {
      "cell_type": "code",
      "metadata": {
        "id": "xPeRuQasZgqy",
        "colab_type": "code",
        "colab": {
          "base_uri": "https://localhost:8080/",
          "height": 280
        },
        "outputId": "61f543fe-e870-4bb7-fe91-c3c11127bb77"
      },
      "source": [
        "# countplot showing value counts of Sarcastic and Non-Sarcastic headlines\n",
        "ax = sns.countplot('is_sarcastic', data=data)"
      ],
      "execution_count": 81,
      "outputs": [
        {
          "output_type": "display_data",
          "data": {
            "image/png": "[encoded data removed]",
            "text/plain": [
              "<Figure size 432x288 with 1 Axes>"
            ]
          },
          "metadata": {
            "tags": [],
            "needs_background": "light"
          }
        }
      ]
    },
    {
      "cell_type": "markdown",
      "metadata": {
        "id": "ZeVEc0PPbzJ9",
        "colab_type": "text"
      },
      "source": [
        " - The number of negative sentiments are slightly more than number of positive sentiments"
      ]
    },
    {
      "cell_type": "markdown",
      "metadata": {
        "colab_type": "text",
        "id": "z6pXf7A78E2H"
      },
      "source": [
        "### Drop `article_link` from dataset (3 Marks)"
      ]
    },
    {
      "cell_type": "code",
      "metadata": {
        "colab_type": "code",
        "id": "-WUNHq5zEV0n",
        "colab": {}
      },
      "source": [
        "data = data.drop('article_link', axis=1)"
      ],
      "execution_count": 10,
      "outputs": []
    },
    {
      "cell_type": "code",
      "metadata": {
        "id": "zdp4o7_0coJI",
        "colab_type": "code",
        "colab": {
          "base_uri": "https://localhost:8080/",
          "height": 204
        },
        "outputId": "0603db5d-acbf-4748-8199-36991a11877d"
      },
      "source": [
        "data.head()"
      ],
      "execution_count": 11,
      "outputs": [
        {
          "output_type": "execute_result",
          "data": {
            "text/html": [
              "<div>\n",
              "<style scoped>\n",
              "    .dataframe tbody tr th:only-of-type {\n",
              "        vertical-align: middle;\n",
              "    }\n",
              "\n",
              "    .dataframe tbody tr th {\n",
              "        vertical-align: top;\n",
              "    }\n",
              "\n",
              "    .dataframe thead th {\n",
              "        text-align: right;\n",
              "    }\n",
              "</style>\n",
              "<table border=\"1\" class=\"dataframe\">\n",
              "  <thead>\n",
              "    <tr style=\"text-align: right;\">\n",
              "      <th></th>\n",
              "      <th>headline</th>\n",
              "      <th>is_sarcastic</th>\n",
              "    </tr>\n",
              "  </thead>\n",
              "  <tbody>\n",
              "    <tr>\n",
              "      <th>0</th>\n",
              "      <td>former versace store clerk sues over secret 'b...</td>\n",
              "      <td>0</td>\n",
              "    </tr>\n",
              "    <tr>\n",
              "      <th>1</th>\n",
              "      <td>the 'roseanne' revival catches up to our thorn...</td>\n",
              "      <td>0</td>\n",
              "    </tr>\n",
              "    <tr>\n",
              "      <th>2</th>\n",
              "      <td>mom starting to fear son's web series closest ...</td>\n",
              "      <td>1</td>\n",
              "    </tr>\n",
              "    <tr>\n",
              "      <th>3</th>\n",
              "      <td>boehner just wants wife to listen, not come up...</td>\n",
              "      <td>1</td>\n",
              "    </tr>\n",
              "    <tr>\n",
              "      <th>4</th>\n",
              "      <td>j.k. rowling wishes snape happy birthday in th...</td>\n",
              "      <td>0</td>\n",
              "    </tr>\n",
              "  </tbody>\n",
              "</table>\n",
              "</div>"
            ],
            "text/plain": [
              "                                            headline  is_sarcastic\n",
              "0  former versace store clerk sues over secret 'b...             0\n",
              "1  the 'roseanne' revival catches up to our thorn...             0\n",
              "2  mom starting to fear son's web series closest ...             1\n",
              "3  boehner just wants wife to listen, not come up...             1\n",
              "4  j.k. rowling wishes snape happy birthday in th...             0"
            ]
          },
          "metadata": {
            "tags": []
          },
          "execution_count": 11
        }
      ]
    },
    {
      "cell_type": "markdown",
      "metadata": {
        "colab_type": "text",
        "id": "D0h6IOxU8OdH"
      },
      "source": [
        "### Get length of each headline and add a column for that (3 Marks)"
      ]
    },
    {
      "cell_type": "code",
      "metadata": {
        "colab_type": "code",
        "id": "MLpiBRDmEV2l",
        "colab": {}
      },
      "source": [
        "data['headline_length'] = data['headline'].apply(lambda x: len(x.split()))"
      ],
      "execution_count": 12,
      "outputs": []
    },
    {
      "cell_type": "code",
      "metadata": {
        "id": "QmyDkIcDPGCT",
        "colab_type": "code",
        "colab": {
          "base_uri": "https://localhost:8080/",
          "height": 51
        },
        "outputId": "d7c3f519-4a89-455f-e079-e0a96bd164af"
      },
      "source": [
        "# Minimum and Maximum headline length\n",
        "print('Minimum headline length =', data['headline_length'].min())\n",
        "print('Maximum headline length =', data['headline_length'].max())"
      ],
      "execution_count": 88,
      "outputs": [
        {
          "output_type": "stream",
          "text": [
            "Minimum headline length = 2\n",
            "Maximum headline length = 39\n"
          ],
          "name": "stdout"
        }
      ]
    },
    {
      "cell_type": "code",
      "metadata": {
        "id": "l1EPhviljlwF",
        "colab_type": "code",
        "colab": {
          "base_uri": "https://localhost:8080/",
          "height": 204
        },
        "outputId": "cfb1626a-41e6-42c2-d3d9-1b2a82a8be70"
      },
      "source": [
        "data.head()"
      ],
      "execution_count": 13,
      "outputs": [
        {
          "output_type": "execute_result",
          "data": {
            "text/html": [
              "<div>\n",
              "<style scoped>\n",
              "    .dataframe tbody tr th:only-of-type {\n",
              "        vertical-align: middle;\n",
              "    }\n",
              "\n",
              "    .dataframe tbody tr th {\n",
              "        vertical-align: top;\n",
              "    }\n",
              "\n",
              "    .dataframe thead th {\n",
              "        text-align: right;\n",
              "    }\n",
              "</style>\n",
              "<table border=\"1\" class=\"dataframe\">\n",
              "  <thead>\n",
              "    <tr style=\"text-align: right;\">\n",
              "      <th></th>\n",
              "      <th>headline</th>\n",
              "      <th>is_sarcastic</th>\n",
              "      <th>headline_length</th>\n",
              "    </tr>\n",
              "  </thead>\n",
              "  <tbody>\n",
              "    <tr>\n",
              "      <th>0</th>\n",
              "      <td>former versace store clerk sues over secret 'b...</td>\n",
              "      <td>0</td>\n",
              "      <td>12</td>\n",
              "    </tr>\n",
              "    <tr>\n",
              "      <th>1</th>\n",
              "      <td>the 'roseanne' revival catches up to our thorn...</td>\n",
              "      <td>0</td>\n",
              "      <td>14</td>\n",
              "    </tr>\n",
              "    <tr>\n",
              "      <th>2</th>\n",
              "      <td>mom starting to fear son's web series closest ...</td>\n",
              "      <td>1</td>\n",
              "      <td>14</td>\n",
              "    </tr>\n",
              "    <tr>\n",
              "      <th>3</th>\n",
              "      <td>boehner just wants wife to listen, not come up...</td>\n",
              "      <td>1</td>\n",
              "      <td>13</td>\n",
              "    </tr>\n",
              "    <tr>\n",
              "      <th>4</th>\n",
              "      <td>j.k. rowling wishes snape happy birthday in th...</td>\n",
              "      <td>0</td>\n",
              "      <td>11</td>\n",
              "    </tr>\n",
              "  </tbody>\n",
              "</table>\n",
              "</div>"
            ],
            "text/plain": [
              "                                            headline  ...  headline_length\n",
              "0  former versace store clerk sues over secret 'b...  ...               12\n",
              "1  the 'roseanne' revival catches up to our thorn...  ...               14\n",
              "2  mom starting to fear son's web series closest ...  ...               14\n",
              "3  boehner just wants wife to listen, not come up...  ...               13\n",
              "4  j.k. rowling wishes snape happy birthday in th...  ...               11\n",
              "\n",
              "[5 rows x 3 columns]"
            ]
          },
          "metadata": {
            "tags": []
          },
          "execution_count": 13
        }
      ]
    },
    {
      "cell_type": "code",
      "metadata": {
        "id": "vOxkHB8EOAlM",
        "colab_type": "code",
        "colab": {
          "base_uri": "https://localhost:8080/",
          "height": 280
        },
        "outputId": "9cbe515c-6087-4ef6-efc8-7eed1229ba4f"
      },
      "source": [
        "#distplot showing disribution of headline lengths\n",
        "ax = sns.distplot(data['headline_length'])"
      ],
      "execution_count": 89,
      "outputs": [
        {
          "output_type": "display_data",
          "data": {
            "image/png": "[encoded data removed]",
            "text/plain": [
              "<Figure size 432x288 with 1 Axes>"
            ]
          },
          "metadata": {
            "tags": [],
            "needs_background": "light"
          }
        }
      ]
    },
    {
      "cell_type": "markdown",
      "metadata": {
        "id": "7NaE9SfKOUmM",
        "colab_type": "text"
      },
      "source": [
        " - The headline length of all headlines in the dataset is normally distributed with long right tail indicating outliers, most of the headline lengths are between 2 and 20"
      ]
    },
    {
      "cell_type": "code",
      "metadata": {
        "id": "n6y5Ug0Xjyo8",
        "colab_type": "code",
        "colab": {}
      },
      "source": [
        "# Split data into train and test\n",
        "from sklearn.model_selection import train_test_split\n",
        "X_train, X_test, y_train, y_test = train_test_split(data['headline'],\n",
        "                                                    data['is_sarcastic'], test_size=0.3, random_state=1)"
      ],
      "execution_count": 14,
      "outputs": []
    },
    {
      "cell_type": "code",
      "metadata": {
        "id": "6NbskiIV5bzb",
        "colab_type": "code",
        "colab": {
          "base_uri": "https://localhost:8080/",
          "height": 51
        },
        "outputId": "254cfd87-73c8-4053-c30b-52a2fc4229bf"
      },
      "source": [
        "print(X_train.shape, y_train.shape)\n",
        "print(X_test.shape, y_test.shape)"
      ],
      "execution_count": 15,
      "outputs": [
        {
          "output_type": "stream",
          "text": [
            "(18696,) (18696,)\n",
            "(8013,) (8013,)\n"
          ],
          "name": "stdout"
        }
      ]
    },
    {
      "cell_type": "code",
      "metadata": {
        "id": "_2_wfOuo54aC",
        "colab_type": "code",
        "colab": {
          "base_uri": "https://localhost:8080/",
          "height": 85
        },
        "outputId": "e7c0eaa3-f478-46ad-bc49-3a07c69e2581"
      },
      "source": [
        "X_train.head(3)"
      ],
      "execution_count": 16,
      "outputs": [
        {
          "output_type": "execute_result",
          "data": {
            "text/plain": [
              "21906       don king enjoys grandilomentitudinous sandwich\n",
              "24781    vital info on iraqi chemical weapons provided ...\n",
              "22552    hacker releases new 'orange is the new black' ...\n",
              "Name: headline, dtype: object"
            ]
          },
          "metadata": {
            "tags": []
          },
          "execution_count": 16
        }
      ]
    },
    {
      "cell_type": "code",
      "metadata": {
        "id": "CyZ9slmI6AKX",
        "colab_type": "code",
        "colab": {
          "base_uri": "https://localhost:8080/",
          "height": 85
        },
        "outputId": "9cba1c46-52cc-4350-e58c-656b041d456f"
      },
      "source": [
        "y_train.head(3)"
      ],
      "execution_count": 17,
      "outputs": [
        {
          "output_type": "execute_result",
          "data": {
            "text/plain": [
              "21906    1\n",
              "24781    1\n",
              "22552    0\n",
              "Name: is_sarcastic, dtype: int64"
            ]
          },
          "metadata": {
            "tags": []
          },
          "execution_count": 17
        }
      ]
    },
    {
      "cell_type": "code",
      "metadata": {
        "id": "mt8f5wm86Ilm",
        "colab_type": "code",
        "colab": {
          "base_uri": "https://localhost:8080/",
          "height": 85
        },
        "outputId": "366834d7-ba1b-4a3d-979a-2b0e68884be2"
      },
      "source": [
        "X_test.head(3)"
      ],
      "execution_count": 18,
      "outputs": [
        {
          "output_type": "execute_result",
          "data": {
            "text/plain": [
              "21661    r.e.m.'s children still hoping parents will ge...\n",
              "6023                                     what wealth isn't\n",
              "15345    7+ reasons why bisexual, pansexual, fluid, and...\n",
              "Name: headline, dtype: object"
            ]
          },
          "metadata": {
            "tags": []
          },
          "execution_count": 18
        }
      ]
    },
    {
      "cell_type": "code",
      "metadata": {
        "id": "Mi04NSsM6NIY",
        "colab_type": "code",
        "colab": {
          "base_uri": "https://localhost:8080/",
          "height": 85
        },
        "outputId": "7923355d-6755-4714-9de4-e59511829eff"
      },
      "source": [
        "y_test.head(3)"
      ],
      "execution_count": 19,
      "outputs": [
        {
          "output_type": "execute_result",
          "data": {
            "text/plain": [
              "21661    1\n",
              "6023     0\n",
              "15345    0\n",
              "Name: is_sarcastic, dtype: int64"
            ]
          },
          "metadata": {
            "tags": []
          },
          "execution_count": 19
        }
      ]
    },
    {
      "cell_type": "markdown",
      "metadata": {
        "id": "SMF-wjJ2aMwm",
        "colab_type": "text"
      },
      "source": [
        "### Initialize parameter values\n",
        "- Set values for max_features, maxlen, & embedding_size\n",
        "- max_features: Number of words to take from tokenizer(most frequent words)\n",
        "- maxlen: Maximum length of each sentence to be limited to 25\n",
        "- embedding_size: size of embedding vector"
      ]
    },
    {
      "cell_type": "code",
      "metadata": {
        "colab_type": "code",
        "id": "jPw9gAN_EV6m",
        "colab": {}
      },
      "source": [
        "max_features = 10000\n",
        "maxlen = 25\n",
        "embedding_size = 200"
      ],
      "execution_count": 20,
      "outputs": []
    },
    {
      "cell_type": "markdown",
      "metadata": {
        "colab_type": "text",
        "id": "9abSe-bM8fn9"
      },
      "source": [
        "### Apply `tensorflow.keras` Tokenizer and get indices for words (3 Marks)\n",
        "- Initialize Tokenizer object with number of words as 10000\n",
        "- Fit the tokenizer object on headline column\n",
        "- Convert the text to sequence\n"
      ]
    },
    {
      "cell_type": "code",
      "metadata": {
        "colab_type": "code",
        "id": "y8g4l0KfF3eh",
        "colab": {}
      },
      "source": [
        "# Import tensorflow\n",
        "import tensorflow as tf"
      ],
      "execution_count": 21,
      "outputs": []
    },
    {
      "cell_type": "code",
      "metadata": {
        "id": "Utor0Sflkt38",
        "colab_type": "code",
        "colab": {}
      },
      "source": [
        "# using Tokenizer class create a Vocabulary with unique words of size max_features (max_features=10000)\n",
        "tokenizer = tf.keras.preprocessing.text.Tokenizer(num_words=max_features)"
      ],
      "execution_count": 22,
      "outputs": []
    },
    {
      "cell_type": "code",
      "metadata": {
        "id": "IhYKqmz81_9t",
        "colab_type": "code",
        "colab": {}
      },
      "source": [
        "# fit the tokenizer on X_train\n",
        "tokenizer.fit_on_texts(X_train.tolist())"
      ],
      "execution_count": 23,
      "outputs": []
    },
    {
      "cell_type": "code",
      "metadata": {
        "id": "sufzbKqNCRlx",
        "colab_type": "code",
        "colab": {}
      },
      "source": [
        "# get word_indices of all the unique words\n",
        "word_indices = tokenizer.word_index"
      ],
      "execution_count": 24,
      "outputs": []
    },
    {
      "cell_type": "code",
      "metadata": {
        "id": "K6zRzvumnYFL",
        "colab_type": "code",
        "colab": {
          "base_uri": "https://localhost:8080/",
          "height": 34
        },
        "outputId": "5930c0be-b0ae-432a-c7d8-76ec4ef836ef"
      },
      "source": [
        "print(len(word_indices))"
      ],
      "execution_count": 25,
      "outputs": [
        {
          "output_type": "stream",
          "text": [
            "24845\n"
          ],
          "name": "stdout"
        }
      ]
    },
    {
      "cell_type": "code",
      "metadata": {
        "id": "ANtmYgO973N8",
        "colab_type": "code",
        "colab": {}
      },
      "source": [
        "# using text_to_sequences method replace the words in X_train with their equivalent word indices \n",
        "X_train = tokenizer.texts_to_sequences(X_train.tolist())"
      ],
      "execution_count": 26,
      "outputs": []
    },
    {
      "cell_type": "code",
      "metadata": {
        "id": "00XU9rQh8vTj",
        "colab_type": "code",
        "colab": {
          "base_uri": "https://localhost:8080/",
          "height": 51
        },
        "outputId": "88ea3573-21e8-4b51-b034-10d2eab6fb3b"
      },
      "source": [
        "X_train[0:2]"
      ],
      "execution_count": 27,
      "outputs": [
        {
          "output_type": "execute_result",
          "data": {
            "text/plain": [
              "[[3579, 481, 1858, 1569],\n",
              " [6496, 4001, 7, 1985, 2660, 1570, 18, 49, 52, 324, 25, 201, 215]]"
            ]
          },
          "metadata": {
            "tags": []
          },
          "execution_count": 27
        }
      ]
    },
    {
      "cell_type": "code",
      "metadata": {
        "id": "FY-nfBNw-F4p",
        "colab_type": "code",
        "colab": {}
      },
      "source": [
        "# replace the words in X_test with their equivalent word indices \n",
        "X_test = tokenizer.texts_to_sequences(X_test.tolist())"
      ],
      "execution_count": 28,
      "outputs": []
    },
    {
      "cell_type": "code",
      "metadata": {
        "id": "jI2IaOsO-TXX",
        "colab_type": "code",
        "colab": {
          "base_uri": "https://localhost:8080/",
          "height": 34
        },
        "outputId": "3e66c5f0-cf37-4e0a-cf93-8d6ad6aa9685"
      },
      "source": [
        "X_test[0:2]"
      ],
      "execution_count": 29,
      "outputs": [
        {
          "output_type": "execute_result",
          "data": {
            "text/plain": [
              "[[1815, 952, 1285, 3133, 295, 72, 897, 157, 35, 64, 81, 567], [32, 4604, 654]]"
            ]
          },
          "metadata": {
            "tags": []
          },
          "execution_count": 29
        }
      ]
    },
    {
      "cell_type": "markdown",
      "metadata": {
        "id": "xeZpwPO4bOkZ",
        "colab_type": "text"
      },
      "source": [
        "### Pad sequences (3 Marks)\n",
        "- Pad each example with a maximum length\n",
        "- Convert target column into numpy array"
      ]
    },
    {
      "cell_type": "code",
      "metadata": {
        "id": "qV0K70E5c9Xl",
        "colab_type": "code",
        "colab": {}
      },
      "source": [
        "# Pad X_train and X_test with maximum headline length (maxlen = 25)\n",
        "\n",
        "X_train = tf.keras.preprocessing.sequence.pad_sequences(X_train, maxlen=maxlen, padding='pre')\n",
        "\n",
        "X_test = tf.keras.preprocessing.sequence.pad_sequences(X_test, maxlen=maxlen, padding='pre')"
      ],
      "execution_count": 31,
      "outputs": []
    },
    {
      "cell_type": "code",
      "metadata": {
        "id": "NtjtmX_uD3Tf",
        "colab_type": "code",
        "colab": {
          "base_uri": "https://localhost:8080/",
          "height": 34
        },
        "outputId": "bfea6e5e-e092-4388-ff68-f81e4cf2bb59"
      },
      "source": [
        "# check class type of X_train and X_test, both should be numpy array\n",
        "print(type(X_train), type(X_test))"
      ],
      "execution_count": 32,
      "outputs": [
        {
          "output_type": "stream",
          "text": [
            "<class 'numpy.ndarray'> <class 'numpy.ndarray'>\n"
          ],
          "name": "stdout"
        }
      ]
    },
    {
      "cell_type": "code",
      "metadata": {
        "id": "QMp0E_-KG6jT",
        "colab_type": "code",
        "colab": {
          "base_uri": "https://localhost:8080/",
          "height": 34
        },
        "outputId": "1b243a95-9c97-41f8-c720-12e8b547176a"
      },
      "source": [
        "# convert y_train and y_test to numpy array\n",
        "y_train = np.array(y_train)\n",
        "y_test =  np.array(y_test)\n",
        "print(type(y_train), type(y_test))"
      ],
      "execution_count": 33,
      "outputs": [
        {
          "output_type": "stream",
          "text": [
            "<class 'numpy.ndarray'> <class 'numpy.ndarray'>\n"
          ],
          "name": "stdout"
        }
      ]
    },
    {
      "cell_type": "markdown",
      "metadata": {
        "colab_type": "text",
        "id": "WJLyKg-98rH_"
      },
      "source": [
        "### Vocab mapping\n",
        "- There is no word for 0th index"
      ]
    },
    {
      "cell_type": "code",
      "metadata": {
        "id": "vCNgtnQqdbZn",
        "colab_type": "code",
        "colab": {
          "base_uri": "https://localhost:8080/",
          "height": 1000
        },
        "outputId": "7d2e82ae-cf00-4879-9c89-92cfb4428d61"
      },
      "source": [
        "tokenizer.word_index"
      ],
      "execution_count": 34,
      "outputs": [
        {
          "output_type": "execute_result",
          "data": {
            "text/plain": [
              "{'to': 1,\n",
              " 'of': 2,\n",
              " 'the': 3,\n",
              " 'in': 4,\n",
              " 'for': 5,\n",
              " 'a': 6,\n",
              " 'on': 7,\n",
              " 'and': 8,\n",
              " 'with': 9,\n",
              " 'is': 10,\n",
              " 'new': 11,\n",
              " 'trump': 12,\n",
              " 'man': 13,\n",
              " 'at': 14,\n",
              " 'from': 15,\n",
              " 'about': 16,\n",
              " 'you': 17,\n",
              " 'by': 18,\n",
              " 'this': 19,\n",
              " 'after': 20,\n",
              " 'out': 21,\n",
              " 'be': 22,\n",
              " 'up': 23,\n",
              " 'how': 24,\n",
              " 'that': 25,\n",
              " 'it': 26,\n",
              " 'as': 27,\n",
              " 'not': 28,\n",
              " 'are': 29,\n",
              " 'your': 30,\n",
              " 'his': 31,\n",
              " 'what': 32,\n",
              " 'all': 33,\n",
              " 'just': 34,\n",
              " 'will': 35,\n",
              " 'has': 36,\n",
              " 'he': 37,\n",
              " 'more': 38,\n",
              " 'who': 39,\n",
              " 'into': 40,\n",
              " 'why': 41,\n",
              " 'one': 42,\n",
              " 'report': 43,\n",
              " 'over': 44,\n",
              " 'year': 45,\n",
              " 'donald': 46,\n",
              " 'have': 47,\n",
              " 'area': 48,\n",
              " 'u': 49,\n",
              " 'can': 50,\n",
              " 'first': 51,\n",
              " 's': 52,\n",
              " 'says': 53,\n",
              " 'day': 54,\n",
              " 'woman': 55,\n",
              " 'time': 56,\n",
              " 'her': 57,\n",
              " 'like': 58,\n",
              " 'off': 59,\n",
              " 'obama': 60,\n",
              " 'old': 61,\n",
              " 'no': 62,\n",
              " \"trump's\": 63,\n",
              " 'get': 64,\n",
              " 'life': 65,\n",
              " 'people': 66,\n",
              " 'an': 67,\n",
              " 'make': 68,\n",
              " 'women': 69,\n",
              " 'now': 70,\n",
              " \"'\": 71,\n",
              " 'still': 72,\n",
              " 'house': 73,\n",
              " 'was': 74,\n",
              " 'than': 75,\n",
              " 'i': 76,\n",
              " '5': 77,\n",
              " 'white': 78,\n",
              " 'when': 79,\n",
              " 'my': 80,\n",
              " 'back': 81,\n",
              " 'world': 82,\n",
              " 'clinton': 83,\n",
              " 'down': 84,\n",
              " 'could': 85,\n",
              " 'if': 86,\n",
              " 'we': 87,\n",
              " 'before': 88,\n",
              " 'their': 89,\n",
              " 'americans': 90,\n",
              " 'most': 91,\n",
              " 'do': 92,\n",
              " 'study': 93,\n",
              " 'way': 94,\n",
              " 'family': 95,\n",
              " \"it's\": 96,\n",
              " 'they': 97,\n",
              " 'years': 98,\n",
              " 'would': 99,\n",
              " 'being': 100,\n",
              " 'bill': 101,\n",
              " 'school': 102,\n",
              " 'video': 103,\n",
              " 'really': 104,\n",
              " 'black': 105,\n",
              " '10': 106,\n",
              " '3': 107,\n",
              " 'so': 108,\n",
              " 'him': 109,\n",
              " 'last': 110,\n",
              " 'should': 111,\n",
              " 'know': 112,\n",
              " 'police': 113,\n",
              " 'state': 114,\n",
              " \"can't\": 115,\n",
              " 'gop': 116,\n",
              " 'best': 117,\n",
              " 'american': 118,\n",
              " 'president': 119,\n",
              " 'only': 120,\n",
              " 'health': 121,\n",
              " 'watch': 122,\n",
              " 'going': 123,\n",
              " 'finds': 124,\n",
              " 'or': 125,\n",
              " 'things': 126,\n",
              " 'she': 127,\n",
              " 'death': 128,\n",
              " 'home': 129,\n",
              " 'during': 130,\n",
              " 'but': 131,\n",
              " \"'the\": 132,\n",
              " 'nation': 133,\n",
              " 'say': 134,\n",
              " 'good': 135,\n",
              " 'need': 136,\n",
              " '2': 137,\n",
              " '000': 138,\n",
              " 'these': 139,\n",
              " 'against': 140,\n",
              " 'may': 141,\n",
              " 'campaign': 142,\n",
              " 'every': 143,\n",
              " 'hillary': 144,\n",
              " 'mom': 145,\n",
              " 'gets': 146,\n",
              " 'own': 147,\n",
              " 'party': 148,\n",
              " 'take': 149,\n",
              " 'show': 150,\n",
              " 'court': 151,\n",
              " 'love': 152,\n",
              " 'kids': 153,\n",
              " 'right': 154,\n",
              " 'change': 155,\n",
              " 'some': 156,\n",
              " 'parents': 157,\n",
              " 'big': 158,\n",
              " 'work': 159,\n",
              " 'calls': 160,\n",
              " 'self': 161,\n",
              " 'little': 162,\n",
              " 'getting': 163,\n",
              " '7': 164,\n",
              " 'high': 165,\n",
              " 'other': 166,\n",
              " 'want': 167,\n",
              " 'makes': 168,\n",
              " 'through': 169,\n",
              " 'look': 170,\n",
              " 'never': 171,\n",
              " 'john': 172,\n",
              " 'too': 173,\n",
              " 'stop': 174,\n",
              " \"here's\": 175,\n",
              " 'even': 176,\n",
              " 'gay': 177,\n",
              " 'news': 178,\n",
              " 'office': 179,\n",
              " 'dead': 180,\n",
              " 'america': 181,\n",
              " 'war': 182,\n",
              " \"nation's\": 183,\n",
              " 'our': 184,\n",
              " \"don't\": 185,\n",
              " 'while': 186,\n",
              " 'its': 187,\n",
              " 'real': 188,\n",
              " 'election': 189,\n",
              " 'see': 190,\n",
              " \"doesn't\": 191,\n",
              " 'again': 192,\n",
              " 'go': 193,\n",
              " 'takes': 194,\n",
              " '6': 195,\n",
              " 'plan': 196,\n",
              " 'million': 197,\n",
              " 'child': 198,\n",
              " 'next': 199,\n",
              " 'local': 200,\n",
              " 'made': 201,\n",
              " 'week': 202,\n",
              " 'college': 203,\n",
              " 'ever': 204,\n",
              " 'bush': 205,\n",
              " 'got': 206,\n",
              " 'two': 207,\n",
              " '1': 208,\n",
              " '4': 209,\n",
              " 'another': 210,\n",
              " 'thing': 211,\n",
              " 'where': 212,\n",
              " 'congress': 213,\n",
              " 'baby': 214,\n",
              " 'them': 215,\n",
              " 'help': 216,\n",
              " 'wants': 217,\n",
              " 'us': 218,\n",
              " 'around': 219,\n",
              " 'gun': 220,\n",
              " \"man's\": 221,\n",
              " 'guy': 222,\n",
              " 'debate': 223,\n",
              " 'care': 224,\n",
              " 'long': 225,\n",
              " 'dog': 226,\n",
              " 'actually': 227,\n",
              " 'sex': 228,\n",
              " 'job': 229,\n",
              " 'climate': 230,\n",
              " \"won't\": 231,\n",
              " '9': 232,\n",
              " \"he's\": 233,\n",
              " 'national': 234,\n",
              " 'dad': 235,\n",
              " 'god': 236,\n",
              " 'top': 237,\n",
              " 'fight': 238,\n",
              " 'making': 239,\n",
              " 'season': 240,\n",
              " 'announces': 241,\n",
              " 'finally': 242,\n",
              " 'had': 243,\n",
              " 'money': 244,\n",
              " '20': 245,\n",
              " 'shows': 246,\n",
              " 'north': 247,\n",
              " '8': 248,\n",
              " 'under': 249,\n",
              " 'anti': 250,\n",
              " 'game': 251,\n",
              " 'ways': 252,\n",
              " 'much': 253,\n",
              " 'supreme': 254,\n",
              " 'media': 255,\n",
              " 'been': 256,\n",
              " 'shooting': 257,\n",
              " 'star': 258,\n",
              " 'everyone': 259,\n",
              " 'body': 260,\n",
              " 'trying': 261,\n",
              " 'law': 262,\n",
              " 'me': 263,\n",
              " 'live': 264,\n",
              " 'give': 265,\n",
              " 'away': 266,\n",
              " 'couple': 267,\n",
              " 'night': 268,\n",
              " 'men': 269,\n",
              " 'sexual': 270,\n",
              " 'food': 271,\n",
              " 'attack': 272,\n",
              " 'any': 273,\n",
              " 'there': 274,\n",
              " 'story': 275,\n",
              " 'think': 276,\n",
              " 'better': 277,\n",
              " 'without': 278,\n",
              " 'senate': 279,\n",
              " 'movie': 280,\n",
              " 'friend': 281,\n",
              " 'history': 282,\n",
              " 'pope': 283,\n",
              " 'single': 284,\n",
              " 'paul': 285,\n",
              " 'film': 286,\n",
              " 'son': 287,\n",
              " 'reveals': 288,\n",
              " 'public': 289,\n",
              " 'government': 290,\n",
              " 'face': 291,\n",
              " '11': 292,\n",
              " 'teen': 293,\n",
              " 'great': 294,\n",
              " 'children': 295,\n",
              " 'business': 296,\n",
              " 'bad': 297,\n",
              " 'part': 298,\n",
              " 'students': 299,\n",
              " 'introduces': 300,\n",
              " 'tell': 301,\n",
              " 'enough': 302,\n",
              " 'find': 303,\n",
              " 'end': 304,\n",
              " 'morning': 305,\n",
              " 'run': 306,\n",
              " 'friends': 307,\n",
              " 'looking': 308,\n",
              " 'free': 309,\n",
              " 'entire': 310,\n",
              " 'book': 311,\n",
              " 'name': 312,\n",
              " 'already': 313,\n",
              " 'york': 314,\n",
              " 'does': 315,\n",
              " 'tv': 316,\n",
              " 'girl': 317,\n",
              " 'human': 318,\n",
              " 'democrats': 319,\n",
              " 'must': 320,\n",
              " 'facebook': 321,\n",
              " 'keep': 322,\n",
              " 'support': 323,\n",
              " 'company': 324,\n",
              " 'call': 325,\n",
              " 'deal': 326,\n",
              " \"didn't\": 327,\n",
              " 'middle': 328,\n",
              " 'tax': 329,\n",
              " 'republicans': 330,\n",
              " 'wedding': 331,\n",
              " 'behind': 332,\n",
              " 'republican': 333,\n",
              " 'line': 334,\n",
              " 'christmas': 335,\n",
              " 'security': 336,\n",
              " 'open': 337,\n",
              " 'used': 338,\n",
              " 'case': 339,\n",
              " 'violence': 340,\n",
              " 'rights': 341,\n",
              " 'come': 342,\n",
              " 'releases': 343,\n",
              " 'presidential': 344,\n",
              " 'second': 345,\n",
              " 'might': 346,\n",
              " 'meet': 347,\n",
              " 'twitter': 348,\n",
              " 'thinks': 349,\n",
              " 'fire': 350,\n",
              " 'city': 351,\n",
              " 'found': 352,\n",
              " 'same': 353,\n",
              " 'talk': 354,\n",
              " 'future': 355,\n",
              " 'email': 356,\n",
              " 'unveils': 357,\n",
              " 'use': 358,\n",
              " 'sanders': 359,\n",
              " 'photos': 360,\n",
              " 'marriage': 361,\n",
              " 'james': 362,\n",
              " 'speech': 363,\n",
              " \"world's\": 364,\n",
              " 'fans': 365,\n",
              " 'student': 366,\n",
              " 'pretty': 367,\n",
              " 'voters': 368,\n",
              " 'car': 369,\n",
              " 'department': 370,\n",
              " 'goes': 371,\n",
              " 'team': 372,\n",
              " 'former': 373,\n",
              " 'ad': 374,\n",
              " 'full': 375,\n",
              " 'photo': 376,\n",
              " 'everything': 377,\n",
              " '2016': 378,\n",
              " 'vote': 379,\n",
              " 'very': 380,\n",
              " 'political': 381,\n",
              " 'ban': 382,\n",
              " 'once': 383,\n",
              " 'killed': 384,\n",
              " 'bernie': 385,\n",
              " 'social': 386,\n",
              " 'states': 387,\n",
              " 'group': 388,\n",
              " 'plans': 389,\n",
              " 'three': 390,\n",
              " 'control': 391,\n",
              " 'save': 392,\n",
              " 'class': 393,\n",
              " 'poll': 394,\n",
              " 'doing': 395,\n",
              " 'coming': 396,\n",
              " 'days': 397,\n",
              " 'female': 398,\n",
              " 'obamacare': 399,\n",
              " 'until': 400,\n",
              " 'because': 401,\n",
              " 'month': 402,\n",
              " 'between': 403,\n",
              " 'power': 404,\n",
              " 'tells': 405,\n",
              " 'something': 406,\n",
              " 'secret': 407,\n",
              " 'father': 408,\n",
              " 'win': 409,\n",
              " 'perfect': 410,\n",
              " 'wife': 411,\n",
              " 'romney': 412,\n",
              " 'many': 413,\n",
              " 'head': 414,\n",
              " 'taking': 415,\n",
              " 'teacher': 416,\n",
              " 'inside': 417,\n",
              " 'art': 418,\n",
              " 'each': 419,\n",
              " 'judge': 420,\n",
              " 'talks': 421,\n",
              " 'music': 422,\n",
              " 'put': 423,\n",
              " 'idea': 424,\n",
              " 'cancer': 425,\n",
              " 'claims': 426,\n",
              " 'scientists': 427,\n",
              " 'post': 428,\n",
              " 'record': 429,\n",
              " 'minutes': 430,\n",
              " 'race': 431,\n",
              " 'room': 432,\n",
              " 'were': 433,\n",
              " 'did': 434,\n",
              " '12': 435,\n",
              " 'water': 436,\n",
              " 'country': 437,\n",
              " 'asks': 438,\n",
              " 'california': 439,\n",
              " 'having': 440,\n",
              " 'meeting': 441,\n",
              " 'kim': 442,\n",
              " 'texas': 443,\n",
              " 'education': 444,\n",
              " 'left': 445,\n",
              " 'super': 446,\n",
              " 'running': 447,\n",
              " 'boy': 448,\n",
              " 'age': 449,\n",
              " 'officials': 450,\n",
              " 'list': 451,\n",
              " 'comes': 452,\n",
              " 'pay': 453,\n",
              " 'hot': 454,\n",
              " 'times': 455,\n",
              " 'drug': 456,\n",
              " 'always': 457,\n",
              " 'lives': 458,\n",
              " '15': 459,\n",
              " \"'i\": 460,\n",
              " 'wall': 461,\n",
              " 'breaking': 462,\n",
              " 'set': 463,\n",
              " 'crisis': 464,\n",
              " 'candidate': 465,\n",
              " 'phone': 466,\n",
              " 'let': 467,\n",
              " '50': 468,\n",
              " 'missing': 469,\n",
              " 'george': 470,\n",
              " 'sure': 471,\n",
              " 'ceo': 472,\n",
              " 'reports': 473,\n",
              " 'ryan': 474,\n",
              " 'tips': 475,\n",
              " 'daughter': 476,\n",
              " 'dies': 477,\n",
              " 'chief': 478,\n",
              " 'forced': 479,\n",
              " 'person': 480,\n",
              " 'king': 481,\n",
              " 'past': 482,\n",
              " 'ask': 483,\n",
              " 'restaurant': 484,\n",
              " 'shot': 485,\n",
              " 'here': 486,\n",
              " '30': 487,\n",
              " \"i'm\": 488,\n",
              " 'fan': 489,\n",
              " 'cruz': 490,\n",
              " 'talking': 491,\n",
              " 'looks': 492,\n",
              " 'service': 493,\n",
              " 'heart': 494,\n",
              " 'probably': 495,\n",
              " 'mother': 496,\n",
              " 'employee': 497,\n",
              " 'ready': 498,\n",
              " 'working': 499,\n",
              " 'letter': 500,\n",
              " 'south': 501,\n",
              " 'red': 502,\n",
              " 'questions': 503,\n",
              " 'dream': 504,\n",
              " 'order': 505,\n",
              " 'eating': 506,\n",
              " 'summer': 507,\n",
              " 'justice': 508,\n",
              " 'thought': 509,\n",
              " 'ted': 510,\n",
              " 'air': 511,\n",
              " 'wrong': 512,\n",
              " 'living': 513,\n",
              " \"what's\": 514,\n",
              " 'travel': 515,\n",
              " 'biden': 516,\n",
              " 'mike': 517,\n",
              " 'tweets': 518,\n",
              " 'someone': 519,\n",
              " \"she's\": 520,\n",
              " 'town': 521,\n",
              " 'half': 522,\n",
              " 'buy': 523,\n",
              " 'secretary': 524,\n",
              " \"women's\": 525,\n",
              " 'hard': 526,\n",
              " 'street': 527,\n",
              " 'well': 528,\n",
              " 'lot': 529,\n",
              " 'warns': 530,\n",
              " 'majority': 531,\n",
              " 'iran': 532,\n",
              " 'korea': 533,\n",
              " 'third': 534,\n",
              " 'shit': 535,\n",
              " 'giving': 536,\n",
              " 'young': 537,\n",
              " 'needs': 538,\n",
              " 'isis': 539,\n",
              " 'less': 540,\n",
              " 'internet': 541,\n",
              " 'russia': 542,\n",
              " 'director': 543,\n",
              " 'military': 544,\n",
              " 'hours': 545,\n",
              " 'wins': 546,\n",
              " 'percent': 547,\n",
              " 'thousands': 548,\n",
              " 'sleep': 549,\n",
              " 'administration': 550,\n",
              " 'online': 551,\n",
              " 'minute': 552,\n",
              " 'thinking': 553,\n",
              " 'leave': 554,\n",
              " 'hour': 555,\n",
              " 'fucking': 556,\n",
              " 'box': 557,\n",
              " 'rock': 558,\n",
              " 'lost': 559,\n",
              " 'admits': 560,\n",
              " 'nothing': 561,\n",
              " 'feel': 562,\n",
              " 'believe': 563,\n",
              " 'leaders': 564,\n",
              " 'michael': 565,\n",
              " 'guide': 566,\n",
              " 'together': 567,\n",
              " 't': 568,\n",
              " 'cover': 569,\n",
              " 'word': 570,\n",
              " 'latest': 571,\n",
              " 'small': 572,\n",
              " 'ex': 573,\n",
              " 'nuclear': 574,\n",
              " 'cat': 575,\n",
              " 'yet': 576,\n",
              " 'girls': 577,\n",
              " 'gives': 578,\n",
              " \"you're\": 579,\n",
              " 'stephen': 580,\n",
              " \"obama's\": 581,\n",
              " 'kill': 582,\n",
              " 'series': 583,\n",
              " 'hollywood': 584,\n",
              " 'bar': 585,\n",
              " 'federal': 586,\n",
              " 'start': 587,\n",
              " 'fbi': 588,\n",
              " 'hair': 589,\n",
              " 'leaves': 590,\n",
              " 'congressman': 591,\n",
              " 'told': 592,\n",
              " 'march': 593,\n",
              " 'democratic': 594,\n",
              " 'holiday': 595,\n",
              " 'assault': 596,\n",
              " 'watching': 597,\n",
              " 'florida': 598,\n",
              " 'reason': 599,\n",
              " 'fashion': 600,\n",
              " 'visit': 601,\n",
              " 'offers': 602,\n",
              " 'different': 603,\n",
              " 'rules': 604,\n",
              " 'ice': 605,\n",
              " 'chinese': 606,\n",
              " '2015': 607,\n",
              " 'become': 608,\n",
              " 'girlfriend': 609,\n",
              " 'personal': 610,\n",
              " 'conversation': 611,\n",
              " 'words': 612,\n",
              " 'today': 613,\n",
              " 'francis': 614,\n",
              " 'months': 615,\n",
              " 'opens': 616,\n",
              " 'play': 617,\n",
              " 'himself': 618,\n",
              " 'washington': 619,\n",
              " 'non': 620,\n",
              " 'immigration': 621,\n",
              " 'birthday': 622,\n",
              " 'those': 623,\n",
              " 'issues': 624,\n",
              " 'hope': 625,\n",
              " 'weird': 626,\n",
              " 'using': 627,\n",
              " 'billion': 628,\n",
              " 'sports': 629,\n",
              " 'hit': 630,\n",
              " 'kid': 631,\n",
              " 'millions': 632,\n",
              " 'rise': 633,\n",
              " 'wearing': 634,\n",
              " 'final': 635,\n",
              " 'moment': 636,\n",
              " 'read': 637,\n",
              " 'lgbt': 638,\n",
              " 'near': 639,\n",
              " 'least': 640,\n",
              " 'move': 641,\n",
              " 'massive': 642,\n",
              " 'earth': 643,\n",
              " 'beautiful': 644,\n",
              " 'russian': 645,\n",
              " 'chris': 646,\n",
              " 'front': 647,\n",
              " 'happy': 648,\n",
              " 'oil': 649,\n",
              " 'special': 650,\n",
              " 'called': 651,\n",
              " 'almost': 652,\n",
              " 'excited': 653,\n",
              " \"isn't\": 654,\n",
              " 'david': 655,\n",
              " 'hate': 656,\n",
              " 'waiting': 657,\n",
              " 'response': 658,\n",
              " 'problem': 659,\n",
              " 'weekend': 660,\n",
              " 'few': 661,\n",
              " 'system': 662,\n",
              " 'birth': 663,\n",
              " 'lessons': 664,\n",
              " 'adorable': 665,\n",
              " 'kills': 666,\n",
              " '100': 667,\n",
              " 'following': 668,\n",
              " 'al': 669,\n",
              " 'muslim': 670,\n",
              " 'scott': 671,\n",
              " 'murder': 672,\n",
              " 'totally': 673,\n",
              " 'cops': 674,\n",
              " 'queer': 675,\n",
              " 'joe': 676,\n",
              " 'celebrates': 677,\n",
              " 'seen': 678,\n",
              " 'date': 679,\n",
              " 'returns': 680,\n",
              " 'united': 681,\n",
              " 'policy': 682,\n",
              " 'side': 683,\n",
              " 'knows': 684,\n",
              " 'true': 685,\n",
              " 'brings': 686,\n",
              " 'place': 687,\n",
              " 'china': 688,\n",
              " 'outside': 689,\n",
              " 'store': 690,\n",
              " 'investigation': 691,\n",
              " 'kind': 692,\n",
              " 'accused': 693,\n",
              " 'prison': 694,\n",
              " 'stars': 695,\n",
              " 'fox': 696,\n",
              " 'breaks': 697,\n",
              " 'attacks': 698,\n",
              " 'killing': 699,\n",
              " 'reasons': 700,\n",
              " 'syria': 701,\n",
              " 'point': 702,\n",
              " \"america's\": 703,\n",
              " 'spends': 704,\n",
              " '40': 705,\n",
              " 'trans': 706,\n",
              " 'leader': 707,\n",
              " 'fall': 708,\n",
              " 'iraq': 709,\n",
              " 'tom': 710,\n",
              " 'huge': 711,\n",
              " 'whole': 712,\n",
              " 'protest': 713,\n",
              " 'anything': 714,\n",
              " 'moving': 715,\n",
              " 'dating': 716,\n",
              " 'nfl': 717,\n",
              " 'low': 718,\n",
              " 'playing': 719,\n",
              " 'taylor': 720,\n",
              " 'lose': 721,\n",
              " 'owner': 722,\n",
              " 'pregnant': 723,\n",
              " 'die': 724,\n",
              " 'trip': 725,\n",
              " 'jr': 726,\n",
              " 'politics': 727,\n",
              " 'role': 728,\n",
              " 'given': 729,\n",
              " 'surprise': 730,\n",
              " 'union': 731,\n",
              " 'gift': 732,\n",
              " 'prince': 733,\n",
              " 'key': 734,\n",
              " 'mark': 735,\n",
              " 'break': 736,\n",
              " 'kardashian': 737,\n",
              " 'interview': 738,\n",
              " 'career': 739,\n",
              " 'cop': 740,\n",
              " 'un': 741,\n",
              " 'schools': 742,\n",
              " 'across': 743,\n",
              " 'force': 744,\n",
              " 'door': 745,\n",
              " 'drunk': 746,\n",
              " '2014': 747,\n",
              " 'protesters': 748,\n",
              " \"they're\": 749,\n",
              " 'culture': 750,\n",
              " 'biggest': 751,\n",
              " 'hand': 752,\n",
              " 'style': 753,\n",
              " 'program': 754,\n",
              " 'huffpost': 755,\n",
              " 'abortion': 756,\n",
              " 'turn': 757,\n",
              " 'awards': 758,\n",
              " 'learned': 759,\n",
              " 'vacation': 760,\n",
              " 'risk': 761,\n",
              " 'relationship': 762,\n",
              " 'puts': 763,\n",
              " 'message': 764,\n",
              " 'steve': 765,\n",
              " 'struggling': 766,\n",
              " 'vows': 767,\n",
              " 'transgender': 768,\n",
              " 'official': 769,\n",
              " 'powerful': 770,\n",
              " 'mind': 771,\n",
              " 'adds': 772,\n",
              " 'favorite': 773,\n",
              " 'reform': 774,\n",
              " 'nyc': 775,\n",
              " 'straight': 776,\n",
              " 'stand': 777,\n",
              " \"we're\": 778,\n",
              " 'kerry': 779,\n",
              " 'early': 780,\n",
              " 'keeps': 781,\n",
              " 'experience': 782,\n",
              " 'feels': 783,\n",
              " 'trailer': 784,\n",
              " 'far': 785,\n",
              " 'senator': 786,\n",
              " '2017': 787,\n",
              " 'candidates': 788,\n",
              " 'worst': 789,\n",
              " 'crash': 790,\n",
              " 'mass': 791,\n",
              " 'jimmy': 792,\n",
              " 'push': 793,\n",
              " 'discover': 794,\n",
              " 'test': 795,\n",
              " 'general': 796,\n",
              " 'doctor': 797,\n",
              " 'driving': 798,\n",
              " 'light': 799,\n",
              " 'leading': 800,\n",
              " 'return': 801,\n",
              " 'executive': 802,\n",
              " 'robert': 803,\n",
              " 'stage': 804,\n",
              " 'coworker': 805,\n",
              " 'male': 806,\n",
              " 'supporters': 807,\n",
              " 'hands': 808,\n",
              " 'hurricane': 809,\n",
              " 'dinner': 810,\n",
              " 'anniversary': 811,\n",
              " 'magazine': 812,\n",
              " 'k': 813,\n",
              " 'sign': 814,\n",
              " 'budget': 815,\n",
              " 'pro': 816,\n",
              " 'weight': 817,\n",
              " 'leads': 818,\n",
              " 'c': 819,\n",
              " 'worth': 820,\n",
              " 'completely': 821,\n",
              " 'results': 822,\n",
              " 'center': 823,\n",
              " 'names': 824,\n",
              " 'suicide': 825,\n",
              " 'reality': 826,\n",
              " 'community': 827,\n",
              " 'd': 828,\n",
              " 'sales': 829,\n",
              " 'hear': 830,\n",
              " 'ben': 831,\n",
              " 'suggests': 832,\n",
              " 'important': 833,\n",
              " 'members': 834,\n",
              " 'oscars': 835,\n",
              " 'apple': 836,\n",
              " 'google': 837,\n",
              " 'deadly': 838,\n",
              " 'since': 839,\n",
              " 'bring': 840,\n",
              " 'song': 841,\n",
              " 'turns': 842,\n",
              " 'workers': 843,\n",
              " \"there's\": 844,\n",
              " 'planned': 845,\n",
              " 'dance': 846,\n",
              " 'went': 847,\n",
              " 'late': 848,\n",
              " 'jenner': 849,\n",
              " 'bus': 850,\n",
              " 'fun': 851,\n",
              " 'chicago': 852,\n",
              " '13': 853,\n",
              " 'five': 854,\n",
              " 'apartment': 855,\n",
              " \"mother's\": 856,\n",
              " 'colbert': 857,\n",
              " 'fuck': 858,\n",
              " 'receives': 859,\n",
              " 'williams': 860,\n",
              " 'west': 861,\n",
              " 'peace': 862,\n",
              " 'co': 863,\n",
              " 'oscar': 864,\n",
              " 'chicken': 865,\n",
              " 'victims': 866,\n",
              " 'artist': 867,\n",
              " 'demands': 868,\n",
              " 'which': 869,\n",
              " 'documentary': 870,\n",
              " 'host': 871,\n",
              " 'dying': 872,\n",
              " 'learning': 873,\n",
              " 'university': 874,\n",
              " 'sick': 875,\n",
              " 'amazon': 876,\n",
              " 'syrian': 877,\n",
              " 'whether': 878,\n",
              " 'fighting': 879,\n",
              " 'eat': 880,\n",
              " 'arrested': 881,\n",
              " '14': 882,\n",
              " 'board': 883,\n",
              " 'worried': 884,\n",
              " 'lead': 885,\n",
              " 'ferguson': 886,\n",
              " 'energy': 887,\n",
              " 'planet': 888,\n",
              " 'problems': 889,\n",
              " 'marijuana': 890,\n",
              " 'apologizes': 891,\n",
              " 'press': 892,\n",
              " 'amazing': 893,\n",
              " 'paris': 894,\n",
              " 'audience': 895,\n",
              " 'longer': 896,\n",
              " 'hoping': 897,\n",
              " 'number': 898,\n",
              " 'card': 899,\n",
              " 'football': 900,\n",
              " 'ebola': 901,\n",
              " 'halloween': 902,\n",
              " 'question': 903,\n",
              " 'st': 904,\n",
              " \"aren't\": 905,\n",
              " 'road': 906,\n",
              " 'major': 907,\n",
              " 'asking': 908,\n",
              " 'act': 909,\n",
              " 'plane': 910,\n",
              " 'wish': 911,\n",
              " 'urges': 912,\n",
              " 'cool': 913,\n",
              " 'michelle': 914,\n",
              " 'global': 915,\n",
              " 'battle': 916,\n",
              " 'decision': 917,\n",
              " 'also': 918,\n",
              " 'suspect': 919,\n",
              " 'eye': 920,\n",
              " 'users': 921,\n",
              " 'attempt': 922,\n",
              " 'gave': 923,\n",
              " 'train': 924,\n",
              " 'pence': 925,\n",
              " 'cut': 926,\n",
              " 'loses': 927,\n",
              " 'check': 928,\n",
              " 'color': 929,\n",
              " 'repeal': 930,\n",
              " 'starting': 931,\n",
              " \"let's\": 932,\n",
              " 'older': 933,\n",
              " 'voice': 934,\n",
              " 'civil': 935,\n",
              " 'hospital': 936,\n",
              " 'amid': 937,\n",
              " 'epa': 938,\n",
              " 'employees': 939,\n",
              " 'actor': 940,\n",
              " 'possible': 941,\n",
              " 'governor': 942,\n",
              " 'apparently': 943,\n",
              " 'rest': 944,\n",
              " 'ideas': 945,\n",
              " 'happens': 946,\n",
              " 'telling': 947,\n",
              " 'steps': 948,\n",
              " 'sean': 949,\n",
              " 'album': 950,\n",
              " 'iowa': 951,\n",
              " 'e': 952,\n",
              " 'rubio': 953,\n",
              " 'eyes': 954,\n",
              " 'four': 955,\n",
              " 'advice': 956,\n",
              " 'families': 957,\n",
              " 'chance': 958,\n",
              " 'happened': 959,\n",
              " 'netflix': 960,\n",
              " 'explains': 961,\n",
              " 'walk': 962,\n",
              " 'data': 963,\n",
              " 'fear': 964,\n",
              " 'rape': 965,\n",
              " 'depression': 966,\n",
              " 'spring': 967,\n",
              " 'martin': 968,\n",
              " 'website': 969,\n",
              " 'building': 970,\n",
              " \"year's\": 971,\n",
              " 'abuse': 972,\n",
              " 'religious': 973,\n",
              " 'beauty': 974,\n",
              " 'band': 975,\n",
              " 'address': 976,\n",
              " 'swift': 977,\n",
              " 'action': 978,\n",
              " 'voting': 979,\n",
              " 'try': 980,\n",
              " 'signs': 981,\n",
              " 'wait': 982,\n",
              " 'reportedly': 983,\n",
              " 'worker': 984,\n",
              " 'begins': 985,\n",
              " 'easy': 986,\n",
              " 'hall': 987,\n",
              " 'labor': 988,\n",
              " 'east': 989,\n",
              " 'hits': 990,\n",
              " 'prevent': 991,\n",
              " 'mayor': 992,\n",
              " '25': 993,\n",
              " 'likely': 994,\n",
              " 'moms': 995,\n",
              " 'coffee': 996,\n",
              " 'loss': 997,\n",
              " 'pizza': 998,\n",
              " 'defense': 999,\n",
              " 'performance': 1000,\n",
              " ...}"
            ]
          },
          "metadata": {
            "tags": []
          },
          "execution_count": 34
        }
      ]
    },
    {
      "cell_type": "markdown",
      "metadata": {
        "id": "VRiNX58Rb3oJ",
        "colab_type": "text"
      },
      "source": [
        "### Set number of words\n",
        "- Since the above 0th index doesn't have a word, add 1 to the length of the vocabulary"
      ]
    },
    {
      "cell_type": "code",
      "metadata": {
        "colab_type": "code",
        "id": "Dfwq6ou8ck2f",
        "colab": {
          "base_uri": "https://localhost:8080/",
          "height": 34
        },
        "outputId": "8a698ebf-3ac1-4b26-a326-a3a138f5f4b8"
      },
      "source": [
        "num_words = len(tokenizer.word_index) + 1\n",
        "print(num_words)"
      ],
      "execution_count": 35,
      "outputs": [
        {
          "output_type": "stream",
          "text": [
            "24846\n"
          ],
          "name": "stdout"
        }
      ]
    },
    {
      "cell_type": "markdown",
      "metadata": {
        "colab_type": "text",
        "id": "bUF1TuQa8ux0"
      },
      "source": [
        "### Load Glove Word Embeddings (3 Marks)"
      ]
    },
    {
      "cell_type": "code",
      "metadata": {
        "colab_type": "code",
        "id": "vq5AIfRtMeZh",
        "colab": {
          "base_uri": "https://localhost:8080/",
          "height": 68
        },
        "outputId": "d2db458e-c460-40eb-ca93-5f80d87dfca6"
      },
      "source": [
        "# upload the required glove embedding file - glove.6B.200d.txt\n",
        "!cp '/gdrive/My Drive/AIML/Sequential_NLP_Project1/glove.6B.200d.zip' './'\n",
        "!ls -lrt  './'"
      ],
      "execution_count": 36,
      "outputs": [
        {
          "output_type": "stream",
          "text": [
            "total 265044\n",
            "drwxr-xr-x 1 root root      4096 Jul 30 16:30 sample_data\n",
            "-rw------- 1 root root 271396933 Aug  3 11:14 glove.6B.200d.zip\n"
          ],
          "name": "stdout"
        }
      ]
    },
    {
      "cell_type": "code",
      "metadata": {
        "id": "ZbGc26H4aRv3",
        "colab_type": "code",
        "colab": {
          "base_uri": "https://localhost:8080/",
          "height": 68
        },
        "outputId": "3772d0aa-f23a-40ab-a6be-f77b6dbba869"
      },
      "source": [
        "# use  zipfile module to extract file contents\n",
        "from zipfile import ZipFile\n",
        "\n",
        "# opening the zip file in READ mode \n",
        "with ZipFile('./glove.6B.200d.zip', 'r') as zip: \n",
        "    # printing all the contents of the zip file \n",
        "    zip.printdir() \n",
        "  \n",
        "    # extracting all the files \n",
        "    print('Extracting all the files now...') \n",
        "    zip.extractall()\n"
      ],
      "execution_count": 37,
      "outputs": [
        {
          "output_type": "stream",
          "text": [
            "File Name                                             Modified             Size\n",
            "glove.6B.200d.txt                              2020-08-02 18:00:36    693432828\n",
            "Extracting all the files now...\n"
          ],
          "name": "stdout"
        }
      ]
    },
    {
      "cell_type": "markdown",
      "metadata": {
        "id": "prHSzdQUcZhm",
        "colab_type": "text"
      },
      "source": [
        "### Create embedding matrix"
      ]
    },
    {
      "cell_type": "code",
      "metadata": {
        "colab_type": "code",
        "id": "elZ-T5aFGZmZ",
        "colab": {}
      },
      "source": [
        "EMBEDDING_FILE = './glove.6B.200d.txt'\n",
        "\n",
        "embeddings = {}\n",
        "count=0\n",
        "for o in open(EMBEDDING_FILE):\n",
        "  #print(o)\n",
        "\n",
        "  # word contains each word in the glove embedding file\n",
        "  word = o.split(\" \")[0]\n",
        "  #print(word)\n",
        "\n",
        "  # All the cooccurence values  or embedding values for each word is stored in embd list\n",
        "  embd = o.split(\" \")[1:]\n",
        "\n",
        "  # strip the newline character present in the last co-occurence value\n",
        "  embd[-1] = embd[-1].rstrip('\\n')\n",
        "\n",
        "  # convert the embd list to np array of type float32 to be used for model building\n",
        "  embd = np.asarray(embd, dtype='float32')\n",
        "  #print(embd)\n",
        "    \n",
        "  embeddings[word] = embd\n",
        "  #count+=1\n",
        "  #if count == 10: break\n",
        "\n",
        "# create a weight matrix for words in training docs\n",
        "embedding_matrix = np.zeros((num_words, 200))\n",
        "\n",
        "for word, i in tokenizer.word_index.items():\n",
        "  embedding_vector = embeddings.get(word)\n",
        "  if embedding_vector is not None:\n",
        "    embedding_matrix[i] = embedding_vector"
      ],
      "execution_count": 38,
      "outputs": []
    },
    {
      "cell_type": "markdown",
      "metadata": {
        "colab_type": "text",
        "id": "u7IbWuEX82Ra"
      },
      "source": [
        "### Define model (5 Marks)\n",
        "- Hint: Use Sequential model instance and then add Embedding layer, Bidirectional(LSTM) layer, then dense and dropout layers as required. \n",
        "In the end add a final dense layer with sigmoid activation for binary classification."
      ]
    },
    {
      "cell_type": "code",
      "metadata": {
        "id": "4tv168Gmc3PY",
        "colab_type": "code",
        "colab": {}
      },
      "source": [
        "# clear session to remove model from previous session\n",
        "tf.keras.backend.clear_session()\n",
        "\n",
        "# Initialize sequential model\n",
        "model = tf.keras.models.Sequential()"
      ],
      "execution_count": 116,
      "outputs": []
    },
    {
      "cell_type": "code",
      "metadata": {
        "id": "yDYW3SP5ho4L",
        "colab_type": "code",
        "colab": {}
      },
      "source": [
        "# Add Embedding Layer with - \n",
        "# input_dim as No of words in Vocabulary or size of word_index (num_words=24846),\n",
        "# input_length as max headline length (maxlen=25),\n",
        "# output_dim as embedding size (embedding_size=200)\n",
        "# weights as weights in embedding_matrix\n",
        "# Do not train the Embedding layer as we ar using already trained weights from glove model \n",
        "model.add(tf.keras.layers.Embedding(input_dim=num_words, \n",
        "                                    input_length=maxlen, \n",
        "                                    output_dim=embedding_size, \n",
        "                                    weights=[embedding_matrix], \n",
        "                                    trainable=False))"
      ],
      "execution_count": 117,
      "outputs": []
    },
    {
      "cell_type": "code",
      "metadata": {
        "id": "9PfzsuPIr3xD",
        "colab_type": "code",
        "colab": {
          "base_uri": "https://localhost:8080/",
          "height": 34
        },
        "outputId": "b609900c-c802-426f-b6ea-415a77bd059f"
      },
      "source": [
        "model.output_shape"
      ],
      "execution_count": 118,
      "outputs": [
        {
          "output_type": "execute_result",
          "data": {
            "text/plain": [
              "(None, 25, 200)"
            ]
          },
          "metadata": {
            "tags": []
          },
          "execution_count": 118
        }
      ]
    },
    {
      "cell_type": "code",
      "metadata": {
        "id": "gvNfWbaKqJg7",
        "colab_type": "code",
        "colab": {
          "base_uri": "https://localhost:8080/",
          "height": 88
        },
        "outputId": "80542632-a07d-429c-bf22-37c5de96cc4b"
      },
      "source": [
        "# Add Bidirectional LSTM layer with 50% dropout snd recuurrent_droupout\n",
        "model.add(tf.keras.layers.Bidirectional(\n",
        "    tf.keras.layers.LSTM(units=256, \n",
        "                         dropout=0.50, \n",
        "                         recurrent_dropout=0.50, \n",
        "                         return_sequences=True)))"
      ],
      "execution_count": 119,
      "outputs": [
        {
          "output_type": "stream",
          "text": [
            "WARNING:tensorflow:Layer lstm will not use cuDNN kernel since it doesn't meet the cuDNN kernel criteria. It will use generic GPU kernel as fallback when running on GPU\n",
            "WARNING:tensorflow:Layer lstm will not use cuDNN kernel since it doesn't meet the cuDNN kernel criteria. It will use generic GPU kernel as fallback when running on GPU\n",
            "WARNING:tensorflow:Layer lstm will not use cuDNN kernel since it doesn't meet the cuDNN kernel criteria. It will use generic GPU kernel as fallback when running on GPU\n"
          ],
          "name": "stdout"
        }
      ]
    },
    {
      "cell_type": "code",
      "metadata": {
        "id": "2k9uETcFr7uq",
        "colab_type": "code",
        "colab": {
          "base_uri": "https://localhost:8080/",
          "height": 34
        },
        "outputId": "700549af-726c-4921-e39a-ebdbe20411ba"
      },
      "source": [
        "model.output_shape"
      ],
      "execution_count": 120,
      "outputs": [
        {
          "output_type": "execute_result",
          "data": {
            "text/plain": [
              "(None, 25, 512)"
            ]
          },
          "metadata": {
            "tags": []
          },
          "execution_count": 120
        }
      ]
    },
    {
      "cell_type": "code",
      "metadata": {
        "id": "ZuD0p0WYa9Ce",
        "colab_type": "code",
        "colab": {}
      },
      "source": [
        "# Add Global MaxPool layer\n",
        "model.add(tf.keras.layers.GlobalMaxPool1D())"
      ],
      "execution_count": 121,
      "outputs": []
    },
    {
      "cell_type": "code",
      "metadata": {
        "id": "I5DHJkApbps5",
        "colab_type": "code",
        "colab": {
          "base_uri": "https://localhost:8080/",
          "height": 34
        },
        "outputId": "594058fa-6216-49ce-a350-e0c3213a23bf"
      },
      "source": [
        "model.output_shape"
      ],
      "execution_count": 122,
      "outputs": [
        {
          "output_type": "execute_result",
          "data": {
            "text/plain": [
              "(None, 512)"
            ]
          },
          "metadata": {
            "tags": []
          },
          "execution_count": 122
        }
      ]
    },
    {
      "cell_type": "code",
      "metadata": {
        "id": "oMiGTiperiHh",
        "colab_type": "code",
        "colab": {}
      },
      "source": [
        "# Add Dense layer with relu as activation\n",
        "model.add(tf.keras.layers.Dense(units= 128, activation='relu'))"
      ],
      "execution_count": 123,
      "outputs": []
    },
    {
      "cell_type": "code",
      "metadata": {
        "id": "ZDNl-NgVsMN4",
        "colab_type": "code",
        "colab": {
          "base_uri": "https://localhost:8080/",
          "height": 34
        },
        "outputId": "00a7ddf4-7768-4cfa-ae71-286511deef9c"
      },
      "source": [
        "model.output_shape"
      ],
      "execution_count": 124,
      "outputs": [
        {
          "output_type": "execute_result",
          "data": {
            "text/plain": [
              "(None, 128)"
            ]
          },
          "metadata": {
            "tags": []
          },
          "execution_count": 124
        }
      ]
    },
    {
      "cell_type": "code",
      "metadata": {
        "id": "0IWmFTfLsNME",
        "colab_type": "code",
        "colab": {}
      },
      "source": [
        "# Add Dropout layer with 50% dropout\n",
        "model.add(tf.keras.layers.Dropout(0.50))"
      ],
      "execution_count": 125,
      "outputs": []
    },
    {
      "cell_type": "code",
      "metadata": {
        "id": "3I_gP_x4sgUg",
        "colab_type": "code",
        "colab": {
          "base_uri": "https://localhost:8080/",
          "height": 34
        },
        "outputId": "e0b92e76-8c17-42b7-c5c4-b93db091cd7d"
      },
      "source": [
        "model.output_shape"
      ],
      "execution_count": 126,
      "outputs": [
        {
          "output_type": "execute_result",
          "data": {
            "text/plain": [
              "(None, 128)"
            ]
          },
          "metadata": {
            "tags": []
          },
          "execution_count": 126
        }
      ]
    },
    {
      "cell_type": "code",
      "metadata": {
        "id": "mCk7NTHSsiEQ",
        "colab_type": "code",
        "colab": {}
      },
      "source": [
        "# Add Output layer with sigmoid as activation\n",
        "model.add(tf.keras.layers.Dense(units= 1, activation='sigmoid'))"
      ],
      "execution_count": 127,
      "outputs": []
    },
    {
      "cell_type": "code",
      "metadata": {
        "id": "to9vJTSUs8f9",
        "colab_type": "code",
        "colab": {
          "base_uri": "https://localhost:8080/",
          "height": 34
        },
        "outputId": "a8d3d12b-21d7-42a1-e2c1-d684ca03d6ed"
      },
      "source": [
        "model.output_shape"
      ],
      "execution_count": 128,
      "outputs": [
        {
          "output_type": "execute_result",
          "data": {
            "text/plain": [
              "(None, 1)"
            ]
          },
          "metadata": {
            "tags": []
          },
          "execution_count": 128
        }
      ]
    },
    {
      "cell_type": "markdown",
      "metadata": {
        "id": "xoI7_8Y1cqTj",
        "colab_type": "text"
      },
      "source": [
        "### Compile the model (3 Marks)"
      ]
    },
    {
      "cell_type": "code",
      "metadata": {
        "id": "lr3zyOEJXYo7",
        "colab_type": "code",
        "colab": {}
      },
      "source": [
        "# callback code to reduce loss on Plateau\n",
        "rlrp = tf.keras.callbacks.ReduceLROnPlateau(monitor='val_loss', factor=0.1, patience=2)"
      ],
      "execution_count": 129,
      "outputs": []
    },
    {
      "cell_type": "code",
      "metadata": {
        "id": "-jJiPHeNoJ3U",
        "colab_type": "code",
        "colab": {}
      },
      "source": [
        "# compile the model\n",
        "model.compile(optimizer='adam', loss='binary_crossentropy', metrics=['acc'])"
      ],
      "execution_count": 130,
      "outputs": []
    },
    {
      "cell_type": "code",
      "metadata": {
        "id": "u5Zyf1kctLeD",
        "colab_type": "code",
        "colab": {
          "base_uri": "https://localhost:8080/",
          "height": 357
        },
        "outputId": "58d65095-b64c-4904-d2bd-8faa0c13f8e8"
      },
      "source": [
        "#Fit the model\n",
        "model.summary()"
      ],
      "execution_count": 131,
      "outputs": [
        {
          "output_type": "stream",
          "text": [
            "Model: \"sequential\"\n",
            "_________________________________________________________________\n",
            "Layer (type)                 Output Shape              Param #   \n",
            "=================================================================\n",
            "embedding (Embedding)        (None, 25, 200)           4969200   \n",
            "_________________________________________________________________\n",
            "bidirectional (Bidirectional (None, 25, 512)           935936    \n",
            "_________________________________________________________________\n",
            "global_max_pooling1d (Global (None, 512)               0         \n",
            "_________________________________________________________________\n",
            "dense (Dense)                (None, 128)               65664     \n",
            "_________________________________________________________________\n",
            "dropout (Dropout)            (None, 128)               0         \n",
            "_________________________________________________________________\n",
            "dense_1 (Dense)              (None, 1)                 129       \n",
            "=================================================================\n",
            "Total params: 5,970,929\n",
            "Trainable params: 1,001,729\n",
            "Non-trainable params: 4,969,200\n",
            "_________________________________________________________________\n"
          ],
          "name": "stdout"
        }
      ]
    },
    {
      "cell_type": "markdown",
      "metadata": {
        "id": "7s4nmqcecw3a",
        "colab_type": "text"
      },
      "source": [
        "### Fit the model (4 Marks)"
      ]
    },
    {
      "cell_type": "code",
      "metadata": {
        "colab_type": "code",
        "id": "NN789zNnJ5PL",
        "colab": {
          "base_uri": "https://localhost:8080/",
          "height": 377
        },
        "outputId": "80026214-1f21-43d8-e2c3-f32b699ef5ec"
      },
      "source": [
        "# Fit the model\n",
        "model_history = model.fit(X_train, y_train, \n",
        "                          batch_size = 128 , \n",
        "                          validation_data = (X_test,y_test) , \n",
        "                          epochs = 10, callbacks = [rlrp])"
      ],
      "execution_count": 132,
      "outputs": [
        {
          "output_type": "stream",
          "text": [
            "Epoch 1/10\n",
            "147/147 [==============================] - 43s 294ms/step - loss: 0.5693 - acc: 0.6989 - val_loss: 0.4797 - val_acc: 0.7609 - lr: 0.0010\n",
            "Epoch 2/10\n",
            "147/147 [==============================] - 42s 286ms/step - loss: 0.4510 - acc: 0.7892 - val_loss: 0.3908 - val_acc: 0.8267 - lr: 0.0010\n",
            "Epoch 3/10\n",
            "147/147 [==============================] - 42s 284ms/step - loss: 0.3893 - acc: 0.8257 - val_loss: 0.3787 - val_acc: 0.8326 - lr: 0.0010\n",
            "Epoch 4/10\n",
            "147/147 [==============================] - 41s 280ms/step - loss: 0.3552 - acc: 0.8417 - val_loss: 0.4026 - val_acc: 0.8263 - lr: 0.0010\n",
            "Epoch 5/10\n",
            "147/147 [==============================] - 41s 282ms/step - loss: 0.3240 - acc: 0.8584 - val_loss: 0.3344 - val_acc: 0.8566 - lr: 0.0010\n",
            "Epoch 6/10\n",
            "147/147 [==============================] - 41s 276ms/step - loss: 0.3032 - acc: 0.8656 - val_loss: 0.3250 - val_acc: 0.8580 - lr: 0.0010\n",
            "Epoch 7/10\n",
            "147/147 [==============================] - 40s 274ms/step - loss: 0.2820 - acc: 0.8811 - val_loss: 0.3176 - val_acc: 0.8633 - lr: 0.0010\n",
            "Epoch 8/10\n",
            "147/147 [==============================] - 40s 273ms/step - loss: 0.2691 - acc: 0.8856 - val_loss: 0.3232 - val_acc: 0.8609 - lr: 0.0010\n",
            "Epoch 9/10\n",
            "147/147 [==============================] - 42s 288ms/step - loss: 0.2554 - acc: 0.8884 - val_loss: 0.3230 - val_acc: 0.8643 - lr: 0.0010\n",
            "Epoch 10/10\n",
            "147/147 [==============================] - 42s 288ms/step - loss: 0.2209 - acc: 0.9071 - val_loss: 0.3126 - val_acc: 0.8711 - lr: 1.0000e-04\n"
          ],
          "name": "stdout"
        }
      ]
    },
    {
      "cell_type": "code",
      "metadata": {
        "id": "xc5Sjden6j9a",
        "colab_type": "code",
        "colab": {}
      },
      "source": [
        "# Function to plot Loss and Accuracy Metrics\n",
        "def plot_metrics(ax, fontsize, col1, col2, x_label, y_label, title):\n",
        "    ax.plot((model_history.history[col1]))\n",
        "    ax.plot((model_history.history[col2]))\n",
        "    #ax.locator_params(nbins=3)\n",
        "    ax.set_xlabel(x_label)\n",
        "    ax.set_ylabel(y_label)\n",
        "    ax.legend(['Training-data', 'Test-data'])\n",
        "    ax.set_title(title)"
      ],
      "execution_count": 133,
      "outputs": []
    },
    {
      "cell_type": "code",
      "metadata": {
        "id": "DHLUZ7304_B0",
        "colab_type": "code",
        "colab": {
          "base_uri": "https://localhost:8080/",
          "height": 369
        },
        "outputId": "08fa6efc-8330-48f5-9cd1-ad251d1d5da5"
      },
      "source": [
        "# Plot Training and Testing Loss and Accuracy\n",
        "plt.close('all')\n",
        "fig, ((ax1, ax2)) = plt.subplots(nrows=1, ncols=2, figsize=(10,5))\n",
        "plot_metrics(ax1, 30, 'loss', 'val_loss', 'no of epochs', 'Loss', 'Loss over no of epochs')\n",
        "plot_metrics(ax2, 30, 'acc', 'val_acc', 'no of epochs', 'Accuracy', 'Accuracy over no of epochs')\n",
        "plt.tight_layout()\n",
        "plt.show()"
      ],
      "execution_count": 134,
      "outputs": [
        {
          "output_type": "display_data",
          "data": {
            "image/png": "[encoded data removed]",
            "text/plain": [
              "<Figure size 720x360 with 2 Axes>"
            ]
          },
          "metadata": {
            "tags": [],
            "needs_background": "light"
          }
        }
      ]
    },
    {
      "cell_type": "code",
      "metadata": {
        "id": "Ue14SviF9LEt",
        "colab_type": "code",
        "colab": {
          "base_uri": "https://localhost:8080/",
          "height": 51
        },
        "outputId": "ac6ca4ed-a6d5-40a0-a8f4-2e8a685a18e0"
      },
      "source": [
        "# Accuracy of the model on Training data\n",
        "print(\"Accuracy of the model on Training Data is - \" , model.evaluate(X_train,y_train, batch_size=128)[1]*100)"
      ],
      "execution_count": 135,
      "outputs": [
        {
          "output_type": "stream",
          "text": [
            "147/147 [==============================] - 4s 30ms/step - loss: 0.1510 - acc: 0.9452\n",
            "Accuracy of the model on Training Data is -  94.52289342880249\n"
          ],
          "name": "stdout"
        }
      ]
    },
    {
      "cell_type": "code",
      "metadata": {
        "id": "pC1pwQtsMCCA",
        "colab_type": "code",
        "colab": {
          "base_uri": "https://localhost:8080/",
          "height": 51
        },
        "outputId": "ec95512e-a2b2-49f1-e3b6-6290ad4a69b6"
      },
      "source": [
        "# Accuracy of the model on Testing data\n",
        "print(\"Accuracy of the model on Testing Data is - \" , model.evaluate(X_test,y_test, batch_size=128)[1]*100)"
      ],
      "execution_count": 136,
      "outputs": [
        {
          "output_type": "stream",
          "text": [
            "63/63 [==============================] - 2s 31ms/step - loss: 0.3126 - acc: 0.8711\n",
            "Accuracy of the model on Testing Data is -  87.10845112800598\n"
          ],
          "name": "stdout"
        }
      ]
    },
    {
      "cell_type": "code",
      "metadata": {
        "id": "JYVv5IWaMZ8v",
        "colab_type": "code",
        "colab": {
          "base_uri": "https://localhost:8080/",
          "height": 102
        },
        "outputId": "54d6d71d-9a65-42df-cf34-aaf7d4457497"
      },
      "source": [
        "# Predictions\n",
        "pred = (model.predict(X_test) > 0.5).astype(\"int32\")\n",
        "print(pred[:5])"
      ],
      "execution_count": 137,
      "outputs": [
        {
          "output_type": "stream",
          "text": [
            "[[1]\n",
            " [0]\n",
            " [0]\n",
            " [0]\n",
            " [0]]\n"
          ],
          "name": "stdout"
        }
      ]
    },
    {
      "cell_type": "code",
      "metadata": {
        "id": "HnAfzEq0Mhvj",
        "colab_type": "code",
        "colab": {
          "base_uri": "https://localhost:8080/",
          "height": 170
        },
        "outputId": "21b51f2f-1f14-484c-9a42-5b0e72805c7d"
      },
      "source": [
        "# Classification Report\n",
        "print(classification_report(y_test, pred, target_names = ['Not Sarcastic','Sarcastic']))"
      ],
      "execution_count": 138,
      "outputs": [
        {
          "output_type": "stream",
          "text": [
            "               precision    recall  f1-score   support\n",
            "\n",
            "Not Sarcastic       0.87      0.90      0.89      4486\n",
            "    Sarcastic       0.87      0.83      0.85      3527\n",
            "\n",
            "     accuracy                           0.87      8013\n",
            "    macro avg       0.87      0.87      0.87      8013\n",
            " weighted avg       0.87      0.87      0.87      8013\n",
            "\n"
          ],
          "name": "stdout"
        }
      ]
    },
    {
      "cell_type": "code",
      "metadata": {
        "id": "vXxJy6JGSyfg",
        "colab_type": "code",
        "colab": {
          "base_uri": "https://localhost:8080/",
          "height": 51
        },
        "outputId": "8f4ad5f5-27df-4c2b-9835-6e363e08e581"
      },
      "source": [
        "# Confusion Matrix\n",
        "confusion_matrix(y_test,pred)"
      ],
      "execution_count": 139,
      "outputs": [
        {
          "output_type": "execute_result",
          "data": {
            "text/plain": [
              "array([[4046,  440],\n",
              "       [ 593, 2934]])"
            ]
          },
          "metadata": {
            "tags": []
          },
          "execution_count": 139
        }
      ]
    },
    {
      "cell_type": "markdown",
      "metadata": {
        "id": "wmXXLEx5hgFa",
        "colab_type": "text"
      },
      "source": [
        "### Conclusion\n",
        "- With Bidirection LSTM, we are able to get 87% Test Accuracy in 10 epochs.\n",
        "- The model is slightly overfitting , but we are getting good Precision for both Sarcastic and Non-Sarcastic classes"
      ]
    }
  ]
}