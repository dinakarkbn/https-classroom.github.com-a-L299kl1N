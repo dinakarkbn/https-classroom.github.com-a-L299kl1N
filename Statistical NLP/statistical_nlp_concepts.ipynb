{
 "cells": [
  {
   "cell_type": "markdown",
   "metadata": {},
   "source": [
    "### Concepts in Statistical NLP - Tokenizing, Punctuation handling, Stemming, Lemmitization, Information Extraction using Chunking"
   ]
  },
  {
   "cell_type": "code",
   "execution_count": 6,
   "metadata": {},
   "outputs": [],
   "source": [
    "import pandas as pd\n",
    "import numpy as np\n",
    "import scipy as sp\n",
    "from sklearn.model_selection import train_test_split\n",
    "from sklearn.feature_extraction.text import CountVectorizer, TfidfVectorizer\n",
    "from sklearn.ensemble import RandomForestClassifier\n",
    "from sklearn.linear_model import LogisticRegression\n",
    "from sklearn import metrics"
   ]
  },
  {
   "cell_type": "markdown",
   "metadata": {},
   "source": [
    "#### Punctuation handling while tokenization, removing stopwords etc"
   ]
  },
  {
   "cell_type": "code",
   "execution_count": 7,
   "metadata": {},
   "outputs": [],
   "source": [
    "text = [\"applicant should be proficient in Go\",\n",
    "        \"need experience in node.js\",\"expert in C & C#\"]"
   ]
  },
  {
   "cell_type": "code",
   "execution_count": 8,
   "metadata": {},
   "outputs": [],
   "source": [
    "vect = CountVectorizer(stop_words=\"english\")"
   ]
  },
  {
   "cell_type": "code",
   "execution_count": 9,
   "metadata": {},
   "outputs": [],
   "source": [
    "dtm = pd.DataFrame(vect.fit_transform(text).toarray())\n",
    "dtm.columns = vect.get_feature_names()"
   ]
  },
  {
   "cell_type": "code",
   "execution_count": 10,
   "metadata": {},
   "outputs": [
    {
     "data": {
      "text/html": [
       "<div>\n",
       "<style scoped>\n",
       "    .dataframe tbody tr th:only-of-type {\n",
       "        vertical-align: middle;\n",
       "    }\n",
       "\n",
       "    .dataframe tbody tr th {\n",
       "        vertical-align: top;\n",
       "    }\n",
       "\n",
       "    .dataframe thead th {\n",
       "        text-align: right;\n",
       "    }\n",
       "</style>\n",
       "<table border=\"1\" class=\"dataframe\">\n",
       "  <thead>\n",
       "    <tr style=\"text-align: right;\">\n",
       "      <th></th>\n",
       "      <th>applicant</th>\n",
       "      <th>experience</th>\n",
       "      <th>expert</th>\n",
       "      <th>js</th>\n",
       "      <th>need</th>\n",
       "      <th>node</th>\n",
       "      <th>proficient</th>\n",
       "    </tr>\n",
       "  </thead>\n",
       "  <tbody>\n",
       "    <tr>\n",
       "      <th>0</th>\n",
       "      <td>1</td>\n",
       "      <td>0</td>\n",
       "      <td>0</td>\n",
       "      <td>0</td>\n",
       "      <td>0</td>\n",
       "      <td>0</td>\n",
       "      <td>1</td>\n",
       "    </tr>\n",
       "    <tr>\n",
       "      <th>1</th>\n",
       "      <td>0</td>\n",
       "      <td>1</td>\n",
       "      <td>0</td>\n",
       "      <td>1</td>\n",
       "      <td>1</td>\n",
       "      <td>1</td>\n",
       "      <td>0</td>\n",
       "    </tr>\n",
       "    <tr>\n",
       "      <th>2</th>\n",
       "      <td>0</td>\n",
       "      <td>0</td>\n",
       "      <td>1</td>\n",
       "      <td>0</td>\n",
       "      <td>0</td>\n",
       "      <td>0</td>\n",
       "      <td>0</td>\n",
       "    </tr>\n",
       "  </tbody>\n",
       "</table>\n",
       "</div>"
      ],
      "text/plain": [
       "   applicant  experience  expert  js  need  node  proficient\n",
       "0          1           0       0   0     0     0           1\n",
       "1          0           1       0   1     1     1           0\n",
       "2          0           0       1   0     0     0           0"
      ]
     },
     "execution_count": 10,
     "metadata": {},
     "output_type": "execute_result"
    }
   ],
   "source": [
    "dtm"
   ]
  },
  {
   "cell_type": "code",
   "execution_count": 11,
   "metadata": {},
   "outputs": [
    {
     "name": "stdout",
     "output_type": "stream",
     "text": [
      "frozenset({'beside', 'hereby', 'anywhere', 'nine', 'seems', 'toward', 'within', 'last', 'what', 'after', 'hundred', 'then', 'something', 'four', 'none', 'its', 'eg', 'always', 'could', 'else', 'whenever', 'other', 'whoever', 'thereafter', 'amongst', 'are', 'whose', 'former', 'cant', 'third', 'formerly', 'into', 'herself', 'found', 'find', 'had', 'nobody', 'everyone', 'put', 'yourself', 'eight', 'has', 'than', 'onto', 'may', 'someone', 'many', 'one', 'mostly', 'against', 'often', 'becoming', 'her', 'keep', 'neither', 'anyhow', 'them', 'their', 'side', 'do', 'show', 'elsewhere', 'thin', 'your', 'who', 'interest', 'yet', 'above', 'couldnt', 'hers', 'itself', 'throughout', 'twelve', 'behind', 'been', 'through', 'three', 'sincere', 'thence', 'hereafter', 'how', 'describe', 'meanwhile', 'our', 'among', 'only', 'the', 'wherever', 'am', 'each', 'on', 'nothing', 'never', 'afterwards', 'so', 'is', 'another', 'noone', 'while', 'as', 'either', 'he', 'whither', 'they', 'twenty', 'should', 'beyond', 'in', 'whom', 'no', 'a', 'eleven', 'me', 'moreover', 'during', 'thus', 'once', 'well', 'fifty', 'whereafter', 'fifteen', 'back', 'us', 'both', 'seem', 'yourselves', 'latter', 'same', 'my', 'though', 'take', 'until', 'further', 'to', 'per', 'mill', 'made', 'everywhere', 're', 'there', 'we', 'etc', 'his', 'thereupon', 'ever', 'below', 'herein', 'or', 'were', 'can', 'more', 'get', 'such', 'empty', 'most', 'mine', 'enough', 'these', 'might', 'six', 'but', 'much', 'namely', 'himself', 'thereby', 'between', 'be', 'will', 'however', 'must', 'done', 'around', 'down', 'at', 'would', 'those', 'sixty', 'why', 'if', 'i', 'via', 'five', 'here', 'since', 'whole', 'not', 'ie', 'and', 'sometimes', 'anyway', 'seemed', 'con', 'sometime', 'few', 'bill', 'beforehand', 'you', 'anything', 'she', 'name', 'although', 'anyone', 'off', 'first', 'call', 'before', 'any', 'latterly', 'ltd', 'became', 'ours', 'therein', 'without', 'forty', 'when', 'this', 'an', 'out', 'every', 'yours', 'front', 'inc', 'it', 'very', 'thick', 'everything', 'that', 'across', 'hence', 'otherwise', 'least', 'him', 'from', 'by', 'still', 'cry', 'go', 'less', 'fire', 'bottom', 'nor', 'two', 'amount', 'too', 'perhaps', 'about', 'nevertheless', 'with', 'along', 'except', 'ourselves', 'whereby', 'almost', 'hereupon', 'full', 'therefore', 'myself', 'fill', 'again', 'of', 'wherein', 'co', 'becomes', 'whether', 'somewhere', 'give', 'already', 'besides', 'own', 'up', 'together', 'whereupon', 'also', 'towards', 'please', 'next', 'serious', 'amoungst', 'have', 'which', 'nowhere', 'part', 'thru', 'cannot', 'due', 'was', 'even', 'top', 'somehow', 'themselves', 'others', 'being', 'de', 'under', 'alone', 'hasnt', 'whence', 'some', 'upon', 'system', 'ten', 'several', 'all', 'see', 'un', 'rather', 'now', 'seeming', 'whatever', 'detail', 'because', 'indeed', 'move', 'whereas', 'for', 'become', 'over', 'where'})\n"
     ]
    },
    {
     "name": "stderr",
     "output_type": "stream",
     "text": [
      "C:\\ProgramData\\Anaconda3\\lib\\site-packages\\sklearn\\utils\\deprecation.py:144: FutureWarning: The sklearn.feature_extraction.stop_words module is  deprecated in version 0.22 and will be removed in version 0.24. The corresponding classes / functions should instead be imported from sklearn.feature_extraction.text. Anything that cannot be imported from sklearn.feature_extraction.text is now part of the private API.\n",
      "  warnings.warn(message, FutureWarning)\n"
     ]
    }
   ],
   "source": [
    "from sklearn.feature_extraction import stop_words\n",
    " \n",
    "print(stop_words.ENGLISH_STOP_WORDS)"
   ]
  },
  {
   "cell_type": "code",
   "execution_count": 12,
   "metadata": {},
   "outputs": [
    {
     "data": {
      "text/plain": [
       "'proficiency in CSharp'"
      ]
     },
     "execution_count": 12,
     "metadata": {},
     "output_type": "execute_result"
    }
   ],
   "source": [
    "import re\n",
    "re.sub(\"C#\",\"CSharp\",\"proficiency in c#\",flags=re.IGNORECASE)"
   ]
  },
  {
   "cell_type": "markdown",
   "metadata": {},
   "source": [
    "#### Creating the DTM again after replacing C# with CSharp and Go with GoLang"
   ]
  },
  {
   "cell_type": "code",
   "execution_count": 13,
   "metadata": {},
   "outputs": [],
   "source": [
    "text = [re.sub(\"C#\",\"CSharp\",x,flags=re.IGNORECASE) for x in text]"
   ]
  },
  {
   "cell_type": "code",
   "execution_count": 14,
   "metadata": {},
   "outputs": [],
   "source": [
    "text = [re.sub(\"go\",\"golang\",x,flags=re.IGNORECASE) for x in text]"
   ]
  },
  {
   "cell_type": "code",
   "execution_count": 15,
   "metadata": {},
   "outputs": [
    {
     "data": {
      "text/plain": [
       "['applicant should be proficient in golang',\n",
       " 'need experience in node.js',\n",
       " 'expert in C & CSharp']"
      ]
     },
     "execution_count": 15,
     "metadata": {},
     "output_type": "execute_result"
    }
   ],
   "source": [
    "text"
   ]
  },
  {
   "cell_type": "markdown",
   "metadata": {},
   "source": [
    "#### Reducing inflectional forms via Stemming & Lemmatization"
   ]
  },
  {
   "cell_type": "code",
   "execution_count": 16,
   "metadata": {},
   "outputs": [],
   "source": [
    "text = [\"loved the movie\",\"love the acting and the cast\",\"i am loving it\"]"
   ]
  },
  {
   "cell_type": "code",
   "execution_count": 17,
   "metadata": {},
   "outputs": [],
   "source": [
    "dtm = pd.DataFrame(vect.fit_transform(text).toarray())\n",
    "dtm.columns = vect.get_feature_names()"
   ]
  },
  {
   "cell_type": "code",
   "execution_count": 18,
   "metadata": {},
   "outputs": [
    {
     "data": {
      "text/html": [
       "<div>\n",
       "<style scoped>\n",
       "    .dataframe tbody tr th:only-of-type {\n",
       "        vertical-align: middle;\n",
       "    }\n",
       "\n",
       "    .dataframe tbody tr th {\n",
       "        vertical-align: top;\n",
       "    }\n",
       "\n",
       "    .dataframe thead th {\n",
       "        text-align: right;\n",
       "    }\n",
       "</style>\n",
       "<table border=\"1\" class=\"dataframe\">\n",
       "  <thead>\n",
       "    <tr style=\"text-align: right;\">\n",
       "      <th></th>\n",
       "      <th>acting</th>\n",
       "      <th>cast</th>\n",
       "      <th>love</th>\n",
       "      <th>loved</th>\n",
       "      <th>loving</th>\n",
       "      <th>movie</th>\n",
       "    </tr>\n",
       "  </thead>\n",
       "  <tbody>\n",
       "    <tr>\n",
       "      <th>0</th>\n",
       "      <td>0</td>\n",
       "      <td>0</td>\n",
       "      <td>0</td>\n",
       "      <td>1</td>\n",
       "      <td>0</td>\n",
       "      <td>1</td>\n",
       "    </tr>\n",
       "    <tr>\n",
       "      <th>1</th>\n",
       "      <td>1</td>\n",
       "      <td>1</td>\n",
       "      <td>1</td>\n",
       "      <td>0</td>\n",
       "      <td>0</td>\n",
       "      <td>0</td>\n",
       "    </tr>\n",
       "    <tr>\n",
       "      <th>2</th>\n",
       "      <td>0</td>\n",
       "      <td>0</td>\n",
       "      <td>0</td>\n",
       "      <td>0</td>\n",
       "      <td>1</td>\n",
       "      <td>0</td>\n",
       "    </tr>\n",
       "  </tbody>\n",
       "</table>\n",
       "</div>"
      ],
      "text/plain": [
       "   acting  cast  love  loved  loving  movie\n",
       "0       0     0     0      1       0      1\n",
       "1       1     1     1      0       0      0\n",
       "2       0     0     0      0       1      0"
      ]
     },
     "execution_count": 18,
     "metadata": {},
     "output_type": "execute_result"
    }
   ],
   "source": [
    "dtm"
   ]
  },
  {
   "cell_type": "code",
   "execution_count": 19,
   "metadata": {},
   "outputs": [],
   "source": [
    "import nltk\n",
    "#nltk.download()"
   ]
  },
  {
   "cell_type": "code",
   "execution_count": 20,
   "metadata": {},
   "outputs": [],
   "source": [
    "from nltk import word_tokenize          \n",
    "from nltk.stem import PorterStemmer \n",
    "from nltk.stem import WordNetLemmatizer"
   ]
  },
  {
   "cell_type": "markdown",
   "metadata": {},
   "source": [
    "#### Stemming"
   ]
  },
  {
   "cell_type": "code",
   "execution_count": 24,
   "metadata": {},
   "outputs": [
    {
     "data": {
      "text/plain": [
       "'love'"
      ]
     },
     "execution_count": 24,
     "metadata": {},
     "output_type": "execute_result"
    }
   ],
   "source": [
    "stem = PorterStemmer()\n",
    "stem.stem(\"loving\")"
   ]
  },
  {
   "cell_type": "code",
   "execution_count": 25,
   "metadata": {},
   "outputs": [],
   "source": [
    "text_stem = []\n",
    "for review in text:\n",
    "    text_stem.append(\" \".join([stem.stem(x) for x in word_tokenize(review)]))"
   ]
  },
  {
   "cell_type": "code",
   "execution_count": 23,
   "metadata": {},
   "outputs": [
    {
     "data": {
      "text/plain": [
       "['love the movi', 'love the act and the cast', 'i am love it']"
      ]
     },
     "execution_count": 23,
     "metadata": {},
     "output_type": "execute_result"
    }
   ],
   "source": [
    "text_stem"
   ]
  },
  {
   "cell_type": "markdown",
   "metadata": {},
   "source": [
    "#### Stemming a text"
   ]
  },
  {
   "cell_type": "code",
   "execution_count": 27,
   "metadata": {},
   "outputs": [],
   "source": [
    "text = \"Ricky Ponting is a former Australian cricketer\""
   ]
  },
  {
   "cell_type": "code",
   "execution_count": 28,
   "metadata": {},
   "outputs": [],
   "source": [
    "text_stem = []\n",
    "text_stem.append(\" \".join([stem.stem(x) for x in word_tokenize(text)]))"
   ]
  },
  {
   "cell_type": "code",
   "execution_count": 29,
   "metadata": {},
   "outputs": [
    {
     "data": {
      "text/plain": [
       "['ricki pont is a former australian cricket']"
      ]
     },
     "execution_count": 29,
     "metadata": {},
     "output_type": "execute_result"
    }
   ],
   "source": [
    "text_stem"
   ]
  },
  {
   "cell_type": "markdown",
   "metadata": {},
   "source": [
    "#### Lemmatization"
   ]
  },
  {
   "cell_type": "code",
   "execution_count": 31,
   "metadata": {},
   "outputs": [],
   "source": [
    "text = \"Ricky Ponting is a former Australian cricketer\""
   ]
  },
  {
   "cell_type": "code",
   "execution_count": 32,
   "metadata": {},
   "outputs": [
    {
     "data": {
      "text/plain": [
       "[('Ricky', 'JJ'),\n",
       " ('Ponting', 'NNP'),\n",
       " ('is', 'VBZ'),\n",
       " ('a', 'DT'),\n",
       " ('former', 'JJ'),\n",
       " ('Australian', 'JJ'),\n",
       " ('cricketer', 'NN')]"
      ]
     },
     "execution_count": 32,
     "metadata": {},
     "output_type": "execute_result"
    }
   ],
   "source": [
    "from nltk import pos_tag\n",
    "from nltk.corpus import wordnet\n",
    "pos_tag(word_tokenize(text))"
   ]
  },
  {
   "cell_type": "code",
   "execution_count": 33,
   "metadata": {},
   "outputs": [],
   "source": [
    "lemma = WordNetLemmatizer()"
   ]
  },
  {
   "cell_type": "code",
   "execution_count": 34,
   "metadata": {},
   "outputs": [
    {
     "data": {
      "text/plain": [
       "'banking'"
      ]
     },
     "execution_count": 34,
     "metadata": {},
     "output_type": "execute_result"
    }
   ],
   "source": [
    "# lemmatization output changes based on pos\n",
    "lemma.lemmatize(\"banking\",wordnet.NOUN)"
   ]
  },
  {
   "cell_type": "code",
   "execution_count": 35,
   "metadata": {},
   "outputs": [
    {
     "data": {
      "text/plain": [
       "'bank'"
      ]
     },
     "execution_count": 35,
     "metadata": {},
     "output_type": "execute_result"
    }
   ],
   "source": [
    "# lemmatization output changes based on pos\n",
    "lemma.lemmatize(\"banking\",wordnet.VERB)"
   ]
  },
  {
   "cell_type": "code",
   "execution_count": 36,
   "metadata": {},
   "outputs": [
    {
     "data": {
      "text/plain": [
       "'banking'"
      ]
     },
     "execution_count": 36,
     "metadata": {},
     "output_type": "execute_result"
    }
   ],
   "source": [
    "# lemmatization output changes based on pos\n",
    "lemma.lemmatize(\"banking\",wordnet.ADJ)"
   ]
  },
  {
   "cell_type": "code",
   "execution_count": 37,
   "metadata": {},
   "outputs": [
    {
     "data": {
      "text/plain": [
       "[('I', 'PRP'),\n",
       " ('am', 'VBP'),\n",
       " ('banking', 'VBG'),\n",
       " ('on', 'IN'),\n",
       " ('you', 'PRP'),\n",
       " ('for', 'IN'),\n",
       " ('this', 'DT')]"
      ]
     },
     "execution_count": 37,
     "metadata": {},
     "output_type": "execute_result"
    }
   ],
   "source": [
    "pos_tag(word_tokenize('I am banking on you for this'))"
   ]
  },
  {
   "cell_type": "code",
   "execution_count": 38,
   "metadata": {},
   "outputs": [
    {
     "data": {
      "text/plain": [
       "[('I', 'PRP'),\n",
       " ('am', 'VBP'),\n",
       " ('working', 'VBG'),\n",
       " ('in', 'IN'),\n",
       " ('the', 'DT'),\n",
       " ('banking', 'NN'),\n",
       " ('sector', 'NN'),\n",
       " ('and', 'CC'),\n",
       " ('my', 'PRP$'),\n",
       " ('friend', 'NN'),\n",
       " ('is', 'VBZ'),\n",
       " ('a', 'DT'),\n",
       " ('professor', 'NN'),\n",
       " ('.', '.')]"
      ]
     },
     "execution_count": 38,
     "metadata": {},
     "output_type": "execute_result"
    }
   ],
   "source": [
    "pos_tag(word_tokenize('I am working in the banking sector and my friend is a professor.'))"
   ]
  },
  {
   "cell_type": "code",
   "execution_count": 39,
   "metadata": {},
   "outputs": [],
   "source": [
    "\n",
    "def get_wordnet_pos_tag(tag):\n",
    "    if tag.startswith(\"J\"):\n",
    "        return wordnet.ADJ\n",
    "    if tag.startswith(\"V\"):\n",
    "        return wordnet.VERB\n",
    "    if tag.startswith(\"N\"):\n",
    "        return wordnet.NOUN\n",
    "    if tag.startswith(\"R\"):\n",
    "        return wordnet.ADV\n",
    "    else:\n",
    "        return wordnet.NOUN"
   ]
  },
  {
   "cell_type": "markdown",
   "metadata": {},
   "source": [
    "#### Using lemmatization normalize the preceding sentence"
   ]
  },
  {
   "cell_type": "code",
   "execution_count": 40,
   "metadata": {},
   "outputs": [],
   "source": [
    "text = \"Ricky Ponting is a former Australian cricketer\""
   ]
  },
  {
   "cell_type": "code",
   "execution_count": 41,
   "metadata": {},
   "outputs": [],
   "source": [
    "text_pos = pos_tag(word_tokenize(text))\n",
    "text_words = [x[0] for x in text_pos]\n",
    "text_pos = [x[1] for x in text_pos]"
   ]
  },
  {
   "cell_type": "code",
   "execution_count": 42,
   "metadata": {},
   "outputs": [
    {
     "data": {
      "text/plain": [
       "['Ricky', 'Ponting', 'be', 'a', 'former', 'Australian', 'cricketer']"
      ]
     },
     "execution_count": 42,
     "metadata": {},
     "output_type": "execute_result"
    }
   ],
   "source": [
    "[lemma.lemmatize(a, get_wordnet_pos_tag(b)) for a,b in zip(text_words, text_pos)]"
   ]
  },
  {
   "cell_type": "code",
   "execution_count": 43,
   "metadata": {},
   "outputs": [],
   "source": [
    "text = \"I work in banking\""
   ]
  },
  {
   "cell_type": "code",
   "execution_count": 44,
   "metadata": {},
   "outputs": [],
   "source": [
    "text_pos = pos_tag(word_tokenize(text))\n",
    "text_words = [x[0] for x in text_pos]\n",
    "text_pos = [x[1] for x in text_pos]"
   ]
  },
  {
   "cell_type": "code",
   "execution_count": 45,
   "metadata": {},
   "outputs": [
    {
     "data": {
      "text/plain": [
       "['I', 'work', 'in', 'banking']"
      ]
     },
     "execution_count": 45,
     "metadata": {},
     "output_type": "execute_result"
    }
   ],
   "source": [
    "[lemma.lemmatize(a, get_wordnet_pos_tag(b)) for a,b in zip(text_words, text_pos)]"
   ]
  },
  {
   "cell_type": "code",
   "execution_count": 46,
   "metadata": {},
   "outputs": [],
   "source": [
    "text = \"I am banking on you for this.\""
   ]
  },
  {
   "cell_type": "code",
   "execution_count": 47,
   "metadata": {},
   "outputs": [],
   "source": [
    "text_pos = pos_tag(word_tokenize(text))\n",
    "text_words = [x[0] for x in text_pos]\n",
    "text_pos = [x[1] for x in text_pos]"
   ]
  },
  {
   "cell_type": "code",
   "execution_count": 48,
   "metadata": {},
   "outputs": [
    {
     "data": {
      "text/plain": [
       "['I', 'be', 'bank', 'on', 'you', 'for', 'this', '.']"
      ]
     },
     "execution_count": 48,
     "metadata": {},
     "output_type": "execute_result"
    }
   ],
   "source": [
    "[lemma.lemmatize(a, get_wordnet_pos_tag(b)) for a,b in zip(text_words, text_pos)]"
   ]
  },
  {
   "cell_type": "markdown",
   "metadata": {},
   "source": [
    "#### Information extraction using chunking"
   ]
  },
  {
   "cell_type": "code",
   "execution_count": 107,
   "metadata": {},
   "outputs": [],
   "source": [
    "#!pip install Ghostscript"
   ]
  },
  {
   "cell_type": "code",
   "execution_count": 167,
   "metadata": {},
   "outputs": [],
   "source": [
    "#import ghostscript\n",
    "import os"
   ]
  },
  {
   "cell_type": "code",
   "execution_count": 169,
   "metadata": {},
   "outputs": [],
   "source": [
    "os.environ['PATH'] = os.environ['PATH'] + \";C:\\\\Program Files\\\\gs\\\\gs9.51\\\\bin\\\\\""
   ]
  },
  {
   "cell_type": "code",
   "execution_count": 170,
   "metadata": {},
   "outputs": [],
   "source": [
    "import nltk\n",
    "from nltk import pos_tag, word_tokenize"
   ]
  },
  {
   "cell_type": "code",
   "execution_count": 171,
   "metadata": {},
   "outputs": [],
   "source": [
    "sentence = \"He brought a very expensive laptop and fancy car and a beautiful house\"\n",
    "grammar = \"NP: {<JJ><NN>}\"\n",
    "chunker = nltk.RegexpParser(grammar) \n",
    "result = chunker.parse(pos_tag(word_tokenize(sentence))) "
   ]
  },
  {
   "cell_type": "code",
   "execution_count": 172,
   "metadata": {},
   "outputs": [
    {
     "name": "stdout",
     "output_type": "stream",
     "text": [
      "(S\n",
      "  He/PRP\n",
      "  brought/VBD\n",
      "  a/DT\n",
      "  very/RB\n",
      "  (NP expensive/JJ laptop/NN)\n",
      "  and/CC\n",
      "  (NP fancy/JJ car/NN)\n",
      "  and/CC\n",
      "  a/DT\n",
      "  (NP beautiful/JJ house/NN))\n"
     ]
    }
   ],
   "source": [
    "print(result)"
   ]
  },
  {
   "cell_type": "code",
   "execution_count": 173,
   "metadata": {},
   "outputs": [
    {
     "data": {
      "image/png": "[encoded data removed]",
      "text/plain": [
       "Tree('S', [('He', 'PRP'), ('brought', 'VBD'), ('a', 'DT'), ('very', 'RB'), Tree('NP', [('expensive', 'JJ'), ('laptop', 'NN')]), ('and', 'CC'), Tree('NP', [('fancy', 'JJ'), ('car', 'NN')]), ('and', 'CC'), ('a', 'DT'), Tree('NP', [('beautiful', 'JJ'), ('house', 'NN')])])"
      ]
     },
     "execution_count": 173,
     "metadata": {},
     "output_type": "execute_result"
    }
   ],
   "source": [
    "result"
   ]
  },
  {
   "cell_type": "code",
   "execution_count": 138,
   "metadata": {},
   "outputs": [
    {
     "name": "stdout",
     "output_type": "stream",
     "text": [
      "(NP expensive/JJ laptop/NN)\n",
      "[('expensive', 'JJ'), ('laptop', 'NN')]\n",
      "expensive laptop\n",
      "['expensive laptop']\n",
      "(NP fancy/JJ car/NN)\n",
      "[('fancy', 'JJ'), ('car', 'NN')]\n",
      "fancy car\n",
      "['expensive laptop', 'fancy car']\n",
      "(NP beautiful/JJ house/NN)\n",
      "[('beautiful', 'JJ'), ('house', 'NN')]\n",
      "beautiful house\n",
      "['expensive laptop', 'fancy car', 'beautiful house']\n"
     ]
    }
   ],
   "source": [
    "noun_phrases = []\n",
    "for n in result:\n",
    "    #print(n)\n",
    "    if isinstance(n, nltk.tree.Tree): \n",
    "        #print(n)\n",
    "        if n.label() == 'NP':\n",
    "            print(n)\n",
    "            temp_phrase = list(n)\n",
    "            print(temp_phrase)\n",
    "            temp_phrase = ' '.join([x[0] for x in temp_phrase])\n",
    "            print(temp_phrase)\n",
    "            noun_phrases.append(temp_phrase)\n",
    "            print(noun_phrases)\n"
   ]
  },
  {
   "cell_type": "code",
   "execution_count": 139,
   "metadata": {},
   "outputs": [
    {
     "data": {
      "text/plain": [
       "['expensive laptop', 'fancy car', 'beautiful house']"
      ]
     },
     "execution_count": 139,
     "metadata": {},
     "output_type": "execute_result"
    }
   ],
   "source": [
    "noun_phrases"
   ]
  },
  {
   "cell_type": "code",
   "execution_count": 140,
   "metadata": {},
   "outputs": [],
   "source": [
    "# define a function to return chunks for noun phrases\n",
    "\n",
    "def return_np_chunks(sentence):\n",
    "    grammar = \"NP: {<JJ><NN>}\"\n",
    "    chunker = nltk.RegexpParser(grammar) \n",
    "    result = chunker.parse(pos_tag(word_tokenize(sentence))) \n",
    "    \n",
    "    noun_phrases = []\n",
    "    for n in result:\n",
    "        if isinstance(n, nltk.tree.Tree):               \n",
    "            if n.label() == 'NP':\n",
    "                temp_phrase = list(n)\n",
    "                temp_phrase = ' '.join([x[0] for x in temp_phrase])\n",
    "                noun_phrases.append(temp_phrase)\n",
    "    return noun_phrases"
   ]
  },
  {
   "cell_type": "code",
   "execution_count": 141,
   "metadata": {},
   "outputs": [
    {
     "data": {
      "text/plain": [
       "['big house', 'fancy car']"
      ]
     },
     "execution_count": 141,
     "metadata": {},
     "output_type": "execute_result"
    }
   ],
   "source": [
    "return_np_chunks(\"he has a big house and a fancy car\")"
   ]
  },
  {
   "cell_type": "code",
   "execution_count": 142,
   "metadata": {},
   "outputs": [
    {
     "data": {
      "text/plain": [
       "['absolute pleasure', 'pretty sure', 'white truffle', 'vegetable skillet']"
      ]
     },
     "execution_count": 142,
     "metadata": {},
     "output_type": "execute_result"
    }
   ],
   "source": [
    "return_np_chunks(yelp[\"text\"].iloc[0])"
   ]
  },
  {
   "cell_type": "code",
   "execution_count": 153,
   "metadata": {},
   "outputs": [
    {
     "data": {
      "text/plain": [
       "['own fault', 'sweetish sauce']"
      ]
     },
     "execution_count": 153,
     "metadata": {},
     "output_type": "execute_result"
    }
   ],
   "source": [
    "return_np_chunks(yelp[\"text\"].iloc[1])"
   ]
  },
  {
   "cell_type": "code",
   "execution_count": null,
   "metadata": {},
   "outputs": [],
   "source": []
  }
 ],
 "metadata": {
  "kernelspec": {
   "display_name": "Python 3",
   "language": "python",
   "name": "python3"
  },
  "language_info": {
   "codemirror_mode": {
    "name": "ipython",
    "version": 3
   },
   "file_extension": ".py",
   "mimetype": "text/x-python",
   "name": "python",
   "nbconvert_exporter": "python",
   "pygments_lexer": "ipython3",
   "version": "3.7.3"
  }
 },
 "nbformat": 4,
 "nbformat_minor": 2
}
