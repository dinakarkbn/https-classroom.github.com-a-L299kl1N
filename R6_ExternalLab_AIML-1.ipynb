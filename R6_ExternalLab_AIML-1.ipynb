{
 "cells": [
  {
   "cell_type": "markdown",
   "metadata": {
    "colab_type": "text",
    "id": "YYk8NG3yOIT9"
   },
   "source": [
    "### A MNIST-like fashion product database\n",
    "\n",
    "In this, we classify the images into respective classes given in the dataset. We use a Neural Net and a Deep Neural Net in Keras to solve this and check the accuracy scores."
   ]
  },
  {
   "cell_type": "markdown",
   "metadata": {
    "colab_type": "text",
    "id": "tFO6PuxzOIT_"
   },
   "source": [
    "### Load tensorflow"
   ]
  },
  {
   "cell_type": "code",
   "execution_count": 0,
   "metadata": {
    "colab": {},
    "colab_type": "code",
    "id": "efNjNImfOIUC"
   },
   "outputs": [],
   "source": [
    "import tensorflow as tf\n",
    "import numpy as np\n",
    "tf.set_random_seed(42)"
   ]
  },
  {
   "cell_type": "code",
   "execution_count": 68,
   "metadata": {
    "colab": {
     "base_uri": "https://localhost:8080/",
     "height": 34
    },
    "colab_type": "code",
    "executionInfo": {
     "elapsed": 5450,
     "status": "ok",
     "timestamp": 1579423323252,
     "user": {
      "displayName": "Dinakar K.B.N",
      "photoUrl": "https://lh3.googleusercontent.com/a-/AAuE7mB6BhFIFQ26CUaEhDl16HhXxqj4NbZegPsO2xKMDQ=s64",
      "userId": "06643686747511876348"
     },
     "user_tz": -330
    },
    "id": "l9C4aAIGOIUH",
    "outputId": "bc90bbe9-a55b-4ee4-d2f9-fd75737384c6"
   },
   "outputs": [
    {
     "data": {
      "text/plain": [
       "'1.15.0'"
      ]
     },
     "execution_count": 68,
     "metadata": {
      "tags": []
     },
     "output_type": "execute_result"
    }
   ],
   "source": [
    "tf.__version__"
   ]
  },
  {
   "cell_type": "markdown",
   "metadata": {
    "colab_type": "text",
    "id": "HcoZBStrOIUQ"
   },
   "source": [
    "### Collect Data"
   ]
  },
  {
   "cell_type": "code",
   "execution_count": 0,
   "metadata": {
    "colab": {},
    "colab_type": "code",
    "id": "XA1WsFSeOIUS"
   },
   "outputs": [],
   "source": [
    "import keras"
   ]
  },
  {
   "cell_type": "code",
   "execution_count": 0,
   "metadata": {
    "colab": {},
    "colab_type": "code",
    "id": "qnbx7TyQOIUY"
   },
   "outputs": [],
   "source": [
    "(trainX, trainY), (testX, testY) = keras.datasets.fashion_mnist.load_data()"
   ]
  },
  {
   "cell_type": "code",
   "execution_count": 71,
   "metadata": {
    "colab": {
     "base_uri": "https://localhost:8080/",
     "height": 85
    },
    "colab_type": "code",
    "executionInfo": {
     "elapsed": 5410,
     "status": "ok",
     "timestamp": 1579423323260,
     "user": {
      "displayName": "Dinakar K.B.N",
      "photoUrl": "https://lh3.googleusercontent.com/a-/AAuE7mB6BhFIFQ26CUaEhDl16HhXxqj4NbZegPsO2xKMDQ=s64",
      "userId": "06643686747511876348"
     },
     "user_tz": -330
    },
    "id": "tmOnjVEYWhJi",
    "outputId": "90616943-aaa7-4fff-a353-31730b75539b"
   },
   "outputs": [
    {
     "name": "stdout",
     "output_type": "stream",
     "text": [
      "Shape of trainX : (60000, 28, 28)\n",
      "Shape of trainY: (60000,)\n",
      "Shape of testX : (10000, 28, 28)\n",
      "Shape of testY: (10000,)\n"
     ]
    }
   ],
   "source": [
    "print('Shape of trainX : {}\\nShape of trainY: {}'.format(trainX.shape, trainY.shape))\n",
    "print('Shape of testX : {}\\nShape of testY: {}'.format(testX.shape, testY.shape))"
   ]
  },
  {
   "cell_type": "code",
   "execution_count": 72,
   "metadata": {
    "colab": {
     "base_uri": "https://localhost:8080/",
     "height": 85
    },
    "colab_type": "code",
    "executionInfo": {
     "elapsed": 5387,
     "status": "ok",
     "timestamp": 1579423323261,
     "user": {
      "displayName": "Dinakar K.B.N",
      "photoUrl": "https://lh3.googleusercontent.com/a-/AAuE7mB6BhFIFQ26CUaEhDl16HhXxqj4NbZegPsO2xKMDQ=s64",
      "userId": "06643686747511876348"
     },
     "user_tz": -330
    },
    "id": "oYxVFm1sLUcB",
    "outputId": "e5e508aa-909e-4a2b-97a3-7f2754a23f1b"
   },
   "outputs": [
    {
     "name": "stdout",
     "output_type": "stream",
     "text": [
      "dtype of trainX : uint8\n",
      "dtype of trainY: uint8\n",
      "dtype of testX : uint8\n",
      "dtype of testY: uint8\n"
     ]
    }
   ],
   "source": [
    "print('dtype of trainX : {}\\ndtype of trainY: {}'.format(trainX.dtype, trainY.dtype))\n",
    "print('dtype of testX : {}\\ndtype of testY: {}'.format(testX.dtype, testY.dtype))"
   ]
  },
  {
   "cell_type": "code",
   "execution_count": 73,
   "metadata": {
    "colab": {
     "base_uri": "https://localhost:8080/",
     "height": 34
    },
    "colab_type": "code",
    "executionInfo": {
     "elapsed": 5360,
     "status": "ok",
     "timestamp": 1579423323262,
     "user": {
      "displayName": "Dinakar K.B.N",
      "photoUrl": "https://lh3.googleusercontent.com/a-/AAuE7mB6BhFIFQ26CUaEhDl16HhXxqj4NbZegPsO2xKMDQ=s64",
      "userId": "06643686747511876348"
     },
     "user_tz": -330
    },
    "id": "ZzdZKBbYW6uI",
    "outputId": "ebe1fba2-0cc9-4b30-a191-770b6ab99195"
   },
   "outputs": [
    {
     "name": "stdout",
     "output_type": "stream",
     "text": [
      "[9 0 0 3 0]\n"
     ]
    }
   ],
   "source": [
    "print(trainY[0:5])"
   ]
  },
  {
   "cell_type": "code",
   "execution_count": 74,
   "metadata": {
    "colab": {
     "base_uri": "https://localhost:8080/",
     "height": 34
    },
    "colab_type": "code",
    "executionInfo": {
     "elapsed": 5330,
     "status": "ok",
     "timestamp": 1579423323263,
     "user": {
      "displayName": "Dinakar K.B.N",
      "photoUrl": "https://lh3.googleusercontent.com/a-/AAuE7mB6BhFIFQ26CUaEhDl16HhXxqj4NbZegPsO2xKMDQ=s64",
      "userId": "06643686747511876348"
     },
     "user_tz": -330
    },
    "id": "UbiHj5YPOIUc",
    "outputId": "d82d0d69-e671-4098-8c7a-8aae4ad52080"
   },
   "outputs": [
    {
     "name": "stdout",
     "output_type": "stream",
     "text": [
      "[9 2 1 1 6]\n"
     ]
    }
   ],
   "source": [
    "print(testY[0:5])"
   ]
  },
  {
   "cell_type": "code",
   "execution_count": 75,
   "metadata": {
    "colab": {
     "base_uri": "https://localhost:8080/",
     "height": 34
    },
    "colab_type": "code",
    "executionInfo": {
     "elapsed": 5293,
     "status": "ok",
     "timestamp": 1579423323264,
     "user": {
      "displayName": "Dinakar K.B.N",
      "photoUrl": "https://lh3.googleusercontent.com/a-/AAuE7mB6BhFIFQ26CUaEhDl16HhXxqj4NbZegPsO2xKMDQ=s64",
      "userId": "06643686747511876348"
     },
     "user_tz": -330
    },
    "id": "eq6KYMbnOtDj",
    "outputId": "02624451-727b-4059-be02-cc4b3830a855"
   },
   "outputs": [
    {
     "name": "stdout",
     "output_type": "stream",
     "text": [
      "[0 1 2 3 4 5 6 7 8 9]\n"
     ]
    }
   ],
   "source": [
    "#unique classes in dataset\n",
    "print(np.unique(testY))"
   ]
  },
  {
   "cell_type": "markdown",
   "metadata": {
    "colab_type": "text",
    "id": "lDAYzkwyOIUj"
   },
   "source": [
    "### Convert both training and testing labels into one-hot vectors.\n",
    "\n",
    "**Hint:** check **tf.keras.utils.to_categorical()**"
   ]
  },
  {
   "cell_type": "code",
   "execution_count": 0,
   "metadata": {
    "colab": {},
    "colab_type": "code",
    "id": "fdKNg_okjuWe"
   },
   "outputs": [],
   "source": [
    "#Take a copy of trainY and testY as we are one-hot encoding the labels\n",
    "trainlabelsY = trainY\n",
    "testlabelsY = testY"
   ]
  },
  {
   "cell_type": "code",
   "execution_count": 0,
   "metadata": {
    "colab": {},
    "colab_type": "code",
    "id": "vBlfYlANOIUk"
   },
   "outputs": [],
   "source": [
    "#Convert trainY and testY into one-hot encoded vectors.The dtype also changes to float32\n",
    "trainY = tf.keras.utils.to_categorical(trainY, num_classes=10)\n",
    "testY = tf.keras.utils.to_categorical(testY, num_classes=10)"
   ]
  },
  {
   "cell_type": "code",
   "execution_count": 78,
   "metadata": {
    "colab": {
     "base_uri": "https://localhost:8080/",
     "height": 153
    },
    "colab_type": "code",
    "executionInfo": {
     "elapsed": 5236,
     "status": "ok",
     "timestamp": 1579423323271,
     "user": {
      "displayName": "Dinakar K.B.N",
      "photoUrl": "https://lh3.googleusercontent.com/a-/AAuE7mB6BhFIFQ26CUaEhDl16HhXxqj4NbZegPsO2xKMDQ=s64",
      "userId": "06643686747511876348"
     },
     "user_tz": -330
    },
    "id": "RHV3b9mzOIUq",
    "outputId": "92740652-0bb3-4000-9bc5-5dcea4af11e5",
    "scrolled": true
   },
   "outputs": [
    {
     "name": "stdout",
     "output_type": "stream",
     "text": [
      "Shape of trainY: (60000, 10)\n",
      "dtype of trainY: float32\n",
      "First 5 examples in trainY now are: \n",
      " [[0. 0. 0. 0. 0. 0. 0. 0. 0. 1.]\n",
      " [1. 0. 0. 0. 0. 0. 0. 0. 0. 0.]\n",
      " [1. 0. 0. 0. 0. 0. 0. 0. 0. 0.]\n",
      " [0. 0. 0. 1. 0. 0. 0. 0. 0. 0.]\n",
      " [1. 0. 0. 0. 0. 0. 0. 0. 0. 0.]]\n"
     ]
    }
   ],
   "source": [
    "#Check trainY shape, dtype is float32, values are 0 and 1\n",
    "print('Shape of trainY:', trainY.shape)\n",
    "print('dtype of trainY:', trainY.dtype)\n",
    "print('First 5 examples in trainY now are: \\n', trainY[0:5])"
   ]
  },
  {
   "cell_type": "code",
   "execution_count": 79,
   "metadata": {
    "colab": {
     "base_uri": "https://localhost:8080/",
     "height": 153
    },
    "colab_type": "code",
    "executionInfo": {
     "elapsed": 5219,
     "status": "ok",
     "timestamp": 1579423323272,
     "user": {
      "displayName": "Dinakar K.B.N",
      "photoUrl": "https://lh3.googleusercontent.com/a-/AAuE7mB6BhFIFQ26CUaEhDl16HhXxqj4NbZegPsO2xKMDQ=s64",
      "userId": "06643686747511876348"
     },
     "user_tz": -330
    },
    "id": "RNNXoui8aQ3w",
    "outputId": "7afcc0e6-32ec-44c2-dffe-26535a5b93b7"
   },
   "outputs": [
    {
     "name": "stdout",
     "output_type": "stream",
     "text": [
      "Shape of testY: (10000, 10)\n",
      "dtype of testY: float32\n",
      "First 5 examples in testY now are:\n",
      " [[0. 0. 0. 0. 0. 0. 0. 0. 0. 1.]\n",
      " [0. 0. 1. 0. 0. 0. 0. 0. 0. 0.]\n",
      " [0. 1. 0. 0. 0. 0. 0. 0. 0. 0.]\n",
      " [0. 1. 0. 0. 0. 0. 0. 0. 0. 0.]\n",
      " [0. 0. 0. 0. 0. 0. 1. 0. 0. 0.]]\n"
     ]
    }
   ],
   "source": [
    "#Check testY shape, dtype is float32, values are 0 and 1\n",
    "print('Shape of testY:', testY.shape)\n",
    "print('dtype of testY:', testY.dtype)\n",
    "print('First 5 examples in testY now are:\\n', testY[0:5])"
   ]
  },
  {
   "cell_type": "markdown",
   "metadata": {
    "colab_type": "text",
    "id": "FwhQ8e7VOIUw"
   },
   "source": [
    "### Visualize the data\n",
    "\n",
    "Plot first 10 images in the triaining set and their labels."
   ]
  },
  {
   "cell_type": "code",
   "execution_count": 0,
   "metadata": {
    "colab": {},
    "colab_type": "code",
    "id": "AvDML2OoOIUx"
   },
   "outputs": [],
   "source": [
    "import matplotlib.image as mpimg\n",
    "import matplotlib.pyplot as plt\n",
    "%matplotlib inline"
   ]
  },
  {
   "cell_type": "code",
   "execution_count": 81,
   "metadata": {
    "colab": {
     "base_uri": "https://localhost:8080/",
     "height": 106
    },
    "colab_type": "code",
    "executionInfo": {
     "elapsed": 5192,
     "status": "ok",
     "timestamp": 1579423323274,
     "user": {
      "displayName": "Dinakar K.B.N",
      "photoUrl": "https://lh3.googleusercontent.com/a-/AAuE7mB6BhFIFQ26CUaEhDl16HhXxqj4NbZegPsO2xKMDQ=s64",
      "userId": "06643686747511876348"
     },
     "user_tz": -330
    },
    "id": "3AsLFYvDpnjC",
    "outputId": "89d57151-493d-4d31-b707-207972b3ad93"
   },
   "outputs": [
    {
     "data": {
      "image/png": "[encoded data removed]",
      "text/plain": [
       "<Figure size 576x576 with 10 Axes>"
      ]
     },
     "metadata": {
      "tags": []
     },
     "output_type": "display_data"
    },
    {
     "name": "stdout",
     "output_type": "stream",
     "text": [
      "[9 0 0 3 0 2 7 2 5]\n"
     ]
    }
   ],
   "source": [
    "#using imshow method in matlpotlib.image print the first 10 images in trainingset - from trainX\n",
    "plt.figure(figsize=(8, 8))\n",
    "for i in range(10):    \n",
    "    plt.subplot(2, 10, i + 1)    \n",
    "    plt.imshow(trainX[i,:].reshape([28,28]), cmap='gray')\n",
    "plt.show()\n",
    "\n",
    "#Also print the labels for the first 10 images in trainingset - from trainY\n",
    "print(trainlabelsY[0:9])"
   ]
  },
  {
   "cell_type": "markdown",
   "metadata": {
    "colab_type": "text",
    "id": "l4TbJGeSOIU4"
   },
   "source": [
    "### Build a neural Network with a cross entropy loss function and sgd optimizer in Keras. The output layer with 10 neurons as we have 10 classes."
   ]
  },
  {
   "cell_type": "code",
   "execution_count": 0,
   "metadata": {
    "colab": {},
    "colab_type": "code",
    "id": "Ac06XZZTOIU6"
   },
   "outputs": [],
   "source": [
    "#Building a Neural Network without Batch Normalization\n",
    "\n",
    "#Initialize Sequential model\n",
    "model1 = tf.keras.models.Sequential()\n",
    "\n",
    "#Reshape input data from 2D to 1D -> 28x28 to 784\n",
    "model1.add(tf.keras.layers.Reshape((784,),input_shape=(28,28,)))\n",
    "\n",
    "#Add Dense Layer which provides 10 Outputs after applying softmax as we have 10 classes\n",
    "model1.add(tf.keras.layers.Dense(10, activation='softmax'))\n",
    "\n",
    "#Compile the model with a cross entropy loss function and sgd optimizer\n",
    "model1.compile(optimizer='sgd', loss='categorical_crossentropy', metrics=['accuracy'])\n"
   ]
  },
  {
   "cell_type": "markdown",
   "metadata": {
    "colab_type": "text",
    "id": "3hQpLv3aOIU_"
   },
   "source": [
    "### Execute the model using model.fit()"
   ]
  },
  {
   "cell_type": "code",
   "execution_count": 83,
   "metadata": {
    "colab": {
     "base_uri": "https://localhost:8080/",
     "height": 1000
    },
    "colab_type": "code",
    "executionInfo": {
     "elapsed": 90206,
     "status": "ok",
     "timestamp": 1579423408324,
     "user": {
      "displayName": "Dinakar K.B.N",
      "photoUrl": "https://lh3.googleusercontent.com/a-/AAuE7mB6BhFIFQ26CUaEhDl16HhXxqj4NbZegPsO2xKMDQ=s64",
      "userId": "06643686747511876348"
     },
     "user_tz": -330
    },
    "id": "O59C_-IgOIVB",
    "outputId": "349d5e2c-3aa5-447e-ae73-09603e5a6159"
   },
   "outputs": [
    {
     "name": "stdout",
     "output_type": "stream",
     "text": [
      "Train on 60000 samples, validate on 10000 samples\n",
      "Epoch 1/30\n",
      "60000/60000 [==============================] - 3s 50us/sample - loss: 2020.4083 - acc: 0.7412 - val_loss: 1385.7173 - val_acc: 0.7801\n",
      "Epoch 2/30\n",
      "60000/60000 [==============================] - 3s 46us/sample - loss: 1592.0470 - acc: 0.7786 - val_loss: 1246.4447 - val_acc: 0.7758\n",
      "Epoch 3/30\n",
      "60000/60000 [==============================] - 3s 46us/sample - loss: 1548.6161 - acc: 0.7843 - val_loss: 974.7880 - val_acc: 0.8177\n",
      "Epoch 4/30\n",
      "60000/60000 [==============================] - 3s 47us/sample - loss: 1552.1905 - acc: 0.7875 - val_loss: 1422.3983 - val_acc: 0.7882\n",
      "Epoch 5/30\n",
      "60000/60000 [==============================] - 3s 46us/sample - loss: 1473.1250 - acc: 0.7930 - val_loss: 1133.7114 - val_acc: 0.8104\n",
      "Epoch 6/30\n",
      "60000/60000 [==============================] - 3s 48us/sample - loss: 1479.7200 - acc: 0.7945 - val_loss: 1053.8536 - val_acc: 0.8051\n",
      "Epoch 7/30\n",
      "60000/60000 [==============================] - 3s 47us/sample - loss: 1453.2756 - acc: 0.7951 - val_loss: 1816.4008 - val_acc: 0.7496\n",
      "Epoch 8/30\n",
      "60000/60000 [==============================] - 3s 46us/sample - loss: 1478.4634 - acc: 0.7958 - val_loss: 993.5058 - val_acc: 0.8210\n",
      "Epoch 9/30\n",
      "60000/60000 [==============================] - 3s 47us/sample - loss: 1414.3297 - acc: 0.8008 - val_loss: 1464.8447 - val_acc: 0.8136\n",
      "Epoch 10/30\n",
      "60000/60000 [==============================] - 3s 48us/sample - loss: 1441.2830 - acc: 0.8004 - val_loss: 1570.0541 - val_acc: 0.7859\n",
      "Epoch 11/30\n",
      "60000/60000 [==============================] - 3s 46us/sample - loss: 1431.0233 - acc: 0.8011 - val_loss: 1169.6066 - val_acc: 0.8008\n",
      "Epoch 12/30\n",
      "60000/60000 [==============================] - 3s 47us/sample - loss: 1460.2911 - acc: 0.8019 - val_loss: 1134.1122 - val_acc: 0.7971\n",
      "Epoch 13/30\n",
      "60000/60000 [==============================] - 3s 47us/sample - loss: 1427.8317 - acc: 0.8019 - val_loss: 2971.5426 - val_acc: 0.7488\n",
      "Epoch 14/30\n",
      "60000/60000 [==============================] - 3s 47us/sample - loss: 1432.7113 - acc: 0.8026 - val_loss: 1221.3336 - val_acc: 0.7894\n",
      "Epoch 15/30\n",
      "60000/60000 [==============================] - 3s 47us/sample - loss: 1387.9020 - acc: 0.8033 - val_loss: 1761.3277 - val_acc: 0.7448\n",
      "Epoch 16/30\n",
      "60000/60000 [==============================] - 3s 46us/sample - loss: 1373.7109 - acc: 0.8045 - val_loss: 3431.3280 - val_acc: 0.7026\n",
      "Epoch 17/30\n",
      "60000/60000 [==============================] - 3s 47us/sample - loss: 1369.5544 - acc: 0.8037 - val_loss: 1142.0366 - val_acc: 0.7942\n",
      "Epoch 18/30\n",
      "60000/60000 [==============================] - 3s 46us/sample - loss: 1410.0741 - acc: 0.8037 - val_loss: 1171.6196 - val_acc: 0.8156\n",
      "Epoch 19/30\n",
      "60000/60000 [==============================] - 3s 47us/sample - loss: 1414.1383 - acc: 0.8050 - val_loss: 1260.8668 - val_acc: 0.7837\n",
      "Epoch 20/30\n",
      "60000/60000 [==============================] - 3s 47us/sample - loss: 1400.0715 - acc: 0.8044 - val_loss: 1236.4465 - val_acc: 0.7631\n",
      "Epoch 21/30\n",
      "60000/60000 [==============================] - 3s 47us/sample - loss: 1408.5306 - acc: 0.8063 - val_loss: 1988.1623 - val_acc: 0.7221\n",
      "Epoch 22/30\n",
      "60000/60000 [==============================] - 3s 48us/sample - loss: 1402.3830 - acc: 0.8054 - val_loss: 1193.8025 - val_acc: 0.8090\n",
      "Epoch 23/30\n",
      "60000/60000 [==============================] - 3s 46us/sample - loss: 1417.5058 - acc: 0.8065 - val_loss: 1531.7334 - val_acc: 0.7774\n",
      "Epoch 24/30\n",
      "60000/60000 [==============================] - 3s 47us/sample - loss: 1424.4670 - acc: 0.8073 - val_loss: 1835.9345 - val_acc: 0.7795\n",
      "Epoch 25/30\n",
      "60000/60000 [==============================] - 3s 48us/sample - loss: 1376.7370 - acc: 0.8056 - val_loss: 1436.7611 - val_acc: 0.8075\n",
      "Epoch 26/30\n",
      "60000/60000 [==============================] - 3s 48us/sample - loss: 1374.7675 - acc: 0.8067 - val_loss: 1766.5752 - val_acc: 0.7717\n",
      "Epoch 27/30\n",
      "60000/60000 [==============================] - 3s 47us/sample - loss: 1355.5283 - acc: 0.8066 - val_loss: 1613.0783 - val_acc: 0.7575\n",
      "Epoch 28/30\n",
      "60000/60000 [==============================] - 3s 48us/sample - loss: 1391.0668 - acc: 0.8057 - val_loss: 1863.6720 - val_acc: 0.7733\n",
      "Epoch 29/30\n",
      "60000/60000 [==============================] - 3s 47us/sample - loss: 1341.6689 - acc: 0.8112 - val_loss: 1816.0679 - val_acc: 0.7969\n",
      "Epoch 30/30\n",
      "60000/60000 [==============================] - 3s 48us/sample - loss: 1349.0083 - acc: 0.8075 - val_loss: 1892.1327 - val_acc: 0.7588\n"
     ]
    },
    {
     "data": {
      "text/plain": [
       "<tensorflow.python.keras.callbacks.History at 0x7fcdf3f3f2e8>"
      ]
     },
     "execution_count": 83,
     "metadata": {
      "tags": []
     },
     "output_type": "execute_result"
    }
   ],
   "source": [
    "#Fit the model on trainX,trainY and validate using testX,testY\n",
    "\n",
    "model1.fit(trainX, trainY, \n",
    "          validation_data=(testX, testY), \n",
    "          epochs=30,\n",
    "          batch_size=32)"
   ]
  },
  {
   "cell_type": "markdown",
   "metadata": {
    "colab_type": "text",
    "id": "dE2xqnqsvWnI"
   },
   "source": [
    "#### Observations:\n",
    "- Without using BatchNormalization layer the trainingset is not normalized, so the data is not scaled\n",
    "- We observe that the training and validation loss is not reducing much and after 30 epochs the loss for trainingset is 1349 and for validationset is  1892, which is very high\n",
    "- Also the validationset accuracy is only 75.8%\n",
    "- So we should normalize the data using BatchNormalization layer to minimize the loss and get better accuracy\n",
    "- In this model we have not added any hidden layers between the input and output layers, used sgd optmizer with default learning rate of 0.01, accuracy as the metrics and categorical_crossentropy as the loss function"
   ]
  },
  {
   "cell_type": "markdown",
   "metadata": {
    "colab_type": "text",
    "id": "JdzDtGwDOIVF"
   },
   "source": [
    "### In the above Neural Network model add Batch Normalization layer after the input layer and repeat the steps."
   ]
  },
  {
   "cell_type": "code",
   "execution_count": 0,
   "metadata": {
    "colab": {},
    "colab_type": "code",
    "id": "kndfpdidOIVI"
   },
   "outputs": [],
   "source": [
    "#Building a Neural Network with Batch Normalization layer\n",
    "\n",
    "#Initialize Sequential model\n",
    "model2 = tf.keras.models.Sequential()\n",
    "\n",
    "#Reshape input data from 2D to 1D -> 28x28 to 784\n",
    "model2.add(tf.keras.layers.Reshape((784,),input_shape=(28,28,)))\n",
    "\n",
    "#Normalize the data with BatchNormalization layer\n",
    "model2.add(tf.keras.layers.BatchNormalization())\n",
    "\n",
    "#Add Dense Layer which provides 10 Outputs after applying softmax as we have 10 classes\n",
    "model2.add(tf.keras.layers.Dense(10, activation='softmax'))\n",
    "\n",
    "#Compile the model with a cross entropy loss function and sgd optimizer\n",
    "model2.compile(optimizer='sgd', loss='categorical_crossentropy', metrics=['accuracy'])"
   ]
  },
  {
   "cell_type": "markdown",
   "metadata": {
    "colab_type": "text",
    "id": "mwk3T5LJOIVN"
   },
   "source": [
    "### Execute the model"
   ]
  },
  {
   "cell_type": "code",
   "execution_count": 85,
   "metadata": {
    "colab": {
     "base_uri": "https://localhost:8080/",
     "height": 1000
    },
    "colab_type": "code",
    "executionInfo": {
     "elapsed": 204356,
     "status": "ok",
     "timestamp": 1579423522506,
     "user": {
      "displayName": "Dinakar K.B.N",
      "photoUrl": "https://lh3.googleusercontent.com/a-/AAuE7mB6BhFIFQ26CUaEhDl16HhXxqj4NbZegPsO2xKMDQ=s64",
      "userId": "06643686747511876348"
     },
     "user_tz": -330
    },
    "id": "JNLR8tcBOIVP",
    "outputId": "70b18220-9223-44f7-d433-a218ba457db2"
   },
   "outputs": [
    {
     "name": "stdout",
     "output_type": "stream",
     "text": [
      "Train on 60000 samples, validate on 10000 samples\n",
      "Epoch 1/30\n",
      "60000/60000 [==============================] - 4s 67us/sample - loss: 0.5981 - acc: 0.7922 - val_loss: 0.5310 - val_acc: 0.8190\n",
      "Epoch 2/30\n",
      "60000/60000 [==============================] - 4s 63us/sample - loss: 0.4894 - acc: 0.8307 - val_loss: 0.4908 - val_acc: 0.8328\n",
      "Epoch 3/30\n",
      "60000/60000 [==============================] - 4s 65us/sample - loss: 0.4687 - acc: 0.8394 - val_loss: 0.4944 - val_acc: 0.8332\n",
      "Epoch 4/30\n",
      "60000/60000 [==============================] - 4s 62us/sample - loss: 0.4560 - acc: 0.8422 - val_loss: 0.4876 - val_acc: 0.8341\n",
      "Epoch 5/30\n",
      "60000/60000 [==============================] - 4s 62us/sample - loss: 0.4505 - acc: 0.8440 - val_loss: 0.4872 - val_acc: 0.8368\n",
      "Epoch 6/30\n",
      "60000/60000 [==============================] - 4s 66us/sample - loss: 0.4420 - acc: 0.8463 - val_loss: 0.4854 - val_acc: 0.8370\n",
      "Epoch 7/30\n",
      "60000/60000 [==============================] - 4s 65us/sample - loss: 0.4408 - acc: 0.8479 - val_loss: 0.4903 - val_acc: 0.8373\n",
      "Epoch 8/30\n",
      "60000/60000 [==============================] - 4s 67us/sample - loss: 0.4368 - acc: 0.8482 - val_loss: 0.4755 - val_acc: 0.8396\n",
      "Epoch 9/30\n",
      "60000/60000 [==============================] - 4s 62us/sample - loss: 0.4317 - acc: 0.8506 - val_loss: 0.4619 - val_acc: 0.8411\n",
      "Epoch 10/30\n",
      "60000/60000 [==============================] - 4s 62us/sample - loss: 0.4304 - acc: 0.8508 - val_loss: 0.4875 - val_acc: 0.8399\n",
      "Epoch 11/30\n",
      "60000/60000 [==============================] - 4s 61us/sample - loss: 0.4311 - acc: 0.8512 - val_loss: 0.4745 - val_acc: 0.8405\n",
      "Epoch 12/30\n",
      "60000/60000 [==============================] - 4s 64us/sample - loss: 0.4261 - acc: 0.8514 - val_loss: 0.4809 - val_acc: 0.8390\n",
      "Epoch 13/30\n",
      "60000/60000 [==============================] - 4s 62us/sample - loss: 0.4246 - acc: 0.8503 - val_loss: 0.4816 - val_acc: 0.8415\n",
      "Epoch 14/30\n",
      "60000/60000 [==============================] - 4s 63us/sample - loss: 0.4223 - acc: 0.8534 - val_loss: 0.4646 - val_acc: 0.8419\n",
      "Epoch 15/30\n",
      "60000/60000 [==============================] - 4s 62us/sample - loss: 0.4225 - acc: 0.8522 - val_loss: 0.4800 - val_acc: 0.8375\n",
      "Epoch 16/30\n",
      "60000/60000 [==============================] - 4s 63us/sample - loss: 0.4202 - acc: 0.8525 - val_loss: 0.4730 - val_acc: 0.8405\n",
      "Epoch 17/30\n",
      "60000/60000 [==============================] - 4s 62us/sample - loss: 0.4201 - acc: 0.8539 - val_loss: 0.4782 - val_acc: 0.8397\n",
      "Epoch 18/30\n",
      "60000/60000 [==============================] - 4s 62us/sample - loss: 0.4191 - acc: 0.8539 - val_loss: 0.4771 - val_acc: 0.8395\n",
      "Epoch 19/30\n",
      "60000/60000 [==============================] - 4s 62us/sample - loss: 0.4192 - acc: 0.8538 - val_loss: 0.4664 - val_acc: 0.8418\n",
      "Epoch 20/30\n",
      "60000/60000 [==============================] - 4s 64us/sample - loss: 0.4165 - acc: 0.8537 - val_loss: 0.4630 - val_acc: 0.8401\n",
      "Epoch 21/30\n",
      "60000/60000 [==============================] - 4s 62us/sample - loss: 0.4175 - acc: 0.8532 - val_loss: 0.4711 - val_acc: 0.8451\n",
      "Epoch 22/30\n",
      "60000/60000 [==============================] - 4s 62us/sample - loss: 0.4116 - acc: 0.8565 - val_loss: 0.4718 - val_acc: 0.8372\n",
      "Epoch 23/30\n",
      "60000/60000 [==============================] - 4s 61us/sample - loss: 0.4135 - acc: 0.8549 - val_loss: 0.4792 - val_acc: 0.8383\n",
      "Epoch 24/30\n",
      "60000/60000 [==============================] - 4s 63us/sample - loss: 0.4136 - acc: 0.8551 - val_loss: 0.4735 - val_acc: 0.8404\n",
      "Epoch 25/30\n",
      "60000/60000 [==============================] - 4s 63us/sample - loss: 0.4139 - acc: 0.8547 - val_loss: 0.4730 - val_acc: 0.8422\n",
      "Epoch 26/30\n",
      "60000/60000 [==============================] - 4s 61us/sample - loss: 0.4134 - acc: 0.8547 - val_loss: 0.4620 - val_acc: 0.8436\n",
      "Epoch 27/30\n",
      "60000/60000 [==============================] - 4s 61us/sample - loss: 0.4150 - acc: 0.8536 - val_loss: 0.4816 - val_acc: 0.8396\n",
      "Epoch 28/30\n",
      "60000/60000 [==============================] - 4s 64us/sample - loss: 0.4117 - acc: 0.8557 - val_loss: 0.4796 - val_acc: 0.8422\n",
      "Epoch 29/30\n",
      "60000/60000 [==============================] - 4s 62us/sample - loss: 0.4125 - acc: 0.8555 - val_loss: 0.4828 - val_acc: 0.8434\n",
      "Epoch 30/30\n",
      "60000/60000 [==============================] - 4s 63us/sample - loss: 0.4094 - acc: 0.8563 - val_loss: 0.4633 - val_acc: 0.8430\n"
     ]
    },
    {
     "data": {
      "text/plain": [
       "<tensorflow.python.keras.callbacks.History at 0x7fce001426d8>"
      ]
     },
     "execution_count": 85,
     "metadata": {
      "tags": []
     },
     "output_type": "execute_result"
    }
   ],
   "source": [
    "#Fit the model on trainX,trainY and validate using testX,testY\n",
    "\n",
    "model2.fit(trainX, trainY, \n",
    "          validation_data=(testX, testY), \n",
    "          epochs=30,\n",
    "          batch_size=32)"
   ]
  },
  {
   "cell_type": "markdown",
   "metadata": {
    "colab_type": "text",
    "id": "3R1SpnHlAHWr"
   },
   "source": [
    "#### Observations:\n",
    "- After using BatchNormalization layer the trainingset is normalized, so the data is now scaled\n",
    "- We observe that the training and validation loss is now reducing more and after 30 epochs the loss is minimized to a good extent and the accuracy also has increased a lot\n",
    "- Loss for trainingset is 0.41 and for validationset is 0.46, after 30 epochs, which is very less.So the loss has minimized\n",
    "- The validationset accuracy is 84.3% which is much more compared to 75.8% obtained from model1\n",
    "- This model shows that we always need to normalize the data using BatchNormalization layer before we build the model\n",
    "- In this model we have not added any hidden layers between the input and output layers, used sgd optmizer with default learning rate of 0.01, accuracy as the metrics and categorical_crossentropy as the loss function"
   ]
  },
  {
   "cell_type": "markdown",
   "metadata": {
    "colab_type": "text",
    "id": "Py-KwkmjOIVU"
   },
   "source": [
    "### Customize the learning rate to 0.001 in sgd optimizer and run the model"
   ]
  },
  {
   "cell_type": "code",
   "execution_count": 0,
   "metadata": {
    "colab": {},
    "colab_type": "code",
    "id": "yLXUE9jWOIVV"
   },
   "outputs": [],
   "source": [
    "#Build a Neural Network with learning rate set to 0.001 in sgd optimizer\n",
    "\n",
    "#Initialize Sequential model\n",
    "model3 = tf.keras.models.Sequential()\n",
    "\n",
    "#Reshape input data from 2D to 1D -> 28x28 to 784\n",
    "model3.add(tf.keras.layers.Reshape((784,), input_shape=(28,28,)))\n",
    "\n",
    "#Normalize the data with BatchNormalization layer\n",
    "model3.add(tf.keras.layers.BatchNormalization())\n",
    "\n",
    "#Add Dense Layer which provides 10 Outputs after applying softmax as we have 10 classes\n",
    "model3.add(tf.keras.layers.Dense(10, activation='softmax'))\n",
    "\n",
    "#Customize the learning rate to 0.001 in sgd optimizer\n",
    "sgd_optimizer = tf.keras.optimizers.SGD(learning_rate=0.001)\n",
    "\n",
    "#Compile the model with a cross entropy loss function and sgd_optimizer with lr=0.001\n",
    "model3.compile(optimizer=sgd_optimizer, loss='categorical_crossentropy', metrics=['accuracy'])"
   ]
  },
  {
   "cell_type": "markdown",
   "metadata": {
    "colab_type": "text",
    "id": "bv63ZySUwUdg"
   },
   "source": [
    "### Execute the model"
   ]
  },
  {
   "cell_type": "code",
   "execution_count": 87,
   "metadata": {
    "colab": {
     "base_uri": "https://localhost:8080/",
     "height": 1000
    },
    "colab_type": "code",
    "executionInfo": {
     "elapsed": 318017,
     "status": "ok",
     "timestamp": 1579423636199,
     "user": {
      "displayName": "Dinakar K.B.N",
      "photoUrl": "https://lh3.googleusercontent.com/a-/AAuE7mB6BhFIFQ26CUaEhDl16HhXxqj4NbZegPsO2xKMDQ=s64",
      "userId": "06643686747511876348"
     },
     "user_tz": -330
    },
    "id": "pJUqA5T4OIVc",
    "outputId": "edb17104-ee47-40bb-d624-2904607f839d"
   },
   "outputs": [
    {
     "name": "stdout",
     "output_type": "stream",
     "text": [
      "Train on 60000 samples, validate on 10000 samples\n",
      "Epoch 1/30\n",
      "60000/60000 [==============================] - 4s 66us/sample - loss: 0.9307 - acc: 0.6877 - val_loss: 0.6820 - val_acc: 0.7679\n",
      "Epoch 2/30\n",
      "60000/60000 [==============================] - 4s 64us/sample - loss: 0.6432 - acc: 0.7789 - val_loss: 0.6087 - val_acc: 0.7934\n",
      "Epoch 3/30\n",
      "60000/60000 [==============================] - 4s 62us/sample - loss: 0.5881 - acc: 0.7962 - val_loss: 0.5858 - val_acc: 0.8039\n",
      "Epoch 4/30\n",
      "60000/60000 [==============================] - 4s 62us/sample - loss: 0.5601 - acc: 0.8073 - val_loss: 0.5528 - val_acc: 0.8106\n",
      "Epoch 5/30\n",
      "60000/60000 [==============================] - 4s 63us/sample - loss: 0.5418 - acc: 0.8122 - val_loss: 0.5388 - val_acc: 0.8137\n",
      "Epoch 6/30\n",
      "60000/60000 [==============================] - 4s 64us/sample - loss: 0.5276 - acc: 0.8194 - val_loss: 0.5319 - val_acc: 0.8172\n",
      "Epoch 7/30\n",
      "60000/60000 [==============================] - 4s 61us/sample - loss: 0.5152 - acc: 0.8236 - val_loss: 0.5266 - val_acc: 0.8186\n",
      "Epoch 8/30\n",
      "60000/60000 [==============================] - 4s 63us/sample - loss: 0.5085 - acc: 0.8248 - val_loss: 0.5138 - val_acc: 0.8226\n",
      "Epoch 9/30\n",
      "60000/60000 [==============================] - 4s 63us/sample - loss: 0.5023 - acc: 0.8264 - val_loss: 0.5099 - val_acc: 0.8240\n",
      "Epoch 10/30\n",
      "60000/60000 [==============================] - 4s 63us/sample - loss: 0.4937 - acc: 0.8297 - val_loss: 0.5097 - val_acc: 0.8249\n",
      "Epoch 11/30\n",
      "60000/60000 [==============================] - 4s 63us/sample - loss: 0.4901 - acc: 0.8306 - val_loss: 0.5015 - val_acc: 0.8263\n",
      "Epoch 12/30\n",
      "60000/60000 [==============================] - 4s 61us/sample - loss: 0.4837 - acc: 0.8338 - val_loss: 0.5160 - val_acc: 0.8262\n",
      "Epoch 13/30\n",
      "60000/60000 [==============================] - 4s 62us/sample - loss: 0.4847 - acc: 0.8338 - val_loss: 0.4987 - val_acc: 0.8282\n",
      "Epoch 14/30\n",
      "60000/60000 [==============================] - 4s 64us/sample - loss: 0.4778 - acc: 0.8349 - val_loss: 0.4977 - val_acc: 0.8287\n",
      "Epoch 15/30\n",
      "60000/60000 [==============================] - 4s 63us/sample - loss: 0.4747 - acc: 0.8375 - val_loss: 0.4897 - val_acc: 0.8297\n",
      "Epoch 16/30\n",
      "60000/60000 [==============================] - 4s 63us/sample - loss: 0.4717 - acc: 0.8389 - val_loss: 0.4875 - val_acc: 0.8318\n",
      "Epoch 17/30\n",
      "60000/60000 [==============================] - 4s 62us/sample - loss: 0.4703 - acc: 0.8381 - val_loss: 0.4914 - val_acc: 0.8301\n",
      "Epoch 18/30\n",
      "60000/60000 [==============================] - 4s 64us/sample - loss: 0.4672 - acc: 0.8404 - val_loss: 0.4883 - val_acc: 0.8294\n",
      "Epoch 19/30\n",
      "60000/60000 [==============================] - 4s 62us/sample - loss: 0.4654 - acc: 0.8385 - val_loss: 0.4854 - val_acc: 0.8323\n",
      "Epoch 20/30\n",
      "60000/60000 [==============================] - 4s 62us/sample - loss: 0.4636 - acc: 0.8413 - val_loss: 0.4808 - val_acc: 0.8326\n",
      "Epoch 21/30\n",
      "60000/60000 [==============================] - 4s 62us/sample - loss: 0.4607 - acc: 0.8422 - val_loss: 0.4792 - val_acc: 0.8326\n",
      "Epoch 22/30\n",
      "60000/60000 [==============================] - 4s 63us/sample - loss: 0.4578 - acc: 0.8426 - val_loss: 0.4778 - val_acc: 0.8328\n",
      "Epoch 23/30\n",
      "60000/60000 [==============================] - 4s 61us/sample - loss: 0.4586 - acc: 0.8420 - val_loss: 0.4789 - val_acc: 0.8322\n",
      "Epoch 24/30\n",
      "60000/60000 [==============================] - 4s 63us/sample - loss: 0.4567 - acc: 0.8430 - val_loss: 0.4767 - val_acc: 0.8342\n",
      "Epoch 25/30\n",
      "60000/60000 [==============================] - 4s 62us/sample - loss: 0.4550 - acc: 0.8434 - val_loss: 0.4900 - val_acc: 0.8349\n",
      "Epoch 26/30\n",
      "60000/60000 [==============================] - 4s 62us/sample - loss: 0.4519 - acc: 0.8445 - val_loss: 0.4869 - val_acc: 0.8346\n",
      "Epoch 27/30\n",
      "60000/60000 [==============================] - 4s 63us/sample - loss: 0.4516 - acc: 0.8442 - val_loss: 0.4777 - val_acc: 0.8351\n",
      "Epoch 28/30\n",
      "60000/60000 [==============================] - 4s 62us/sample - loss: 0.4517 - acc: 0.8450 - val_loss: 0.4747 - val_acc: 0.8352\n",
      "Epoch 29/30\n",
      "60000/60000 [==============================] - 4s 62us/sample - loss: 0.4481 - acc: 0.8474 - val_loss: 0.4709 - val_acc: 0.8349\n",
      "Epoch 30/30\n",
      "60000/60000 [==============================] - 4s 64us/sample - loss: 0.4484 - acc: 0.8463 - val_loss: 0.4699 - val_acc: 0.8365\n"
     ]
    },
    {
     "data": {
      "text/plain": [
       "<tensorflow.python.keras.callbacks.History at 0x7fcdf3dcbda0>"
      ]
     },
     "execution_count": 87,
     "metadata": {
      "tags": []
     },
     "output_type": "execute_result"
    }
   ],
   "source": [
    "#Fit the model on trainX,trainY and validate using testX,testY\n",
    "\n",
    "model3.fit(trainX, trainY, \n",
    "           validation_data=(testX,testY),\n",
    "           epochs=30, \n",
    "           batch_size=32)"
   ]
  },
  {
   "cell_type": "markdown",
   "metadata": {
    "colab_type": "text",
    "id": "hvHa_UTAEYfq"
   },
   "source": [
    "#### Observations:\n",
    "- In this model we have not added any hidden layers between the input and output layers, used an sgd optmizer with learning rate of 0.001, accuracy as the metrics and categorical_crossentropy as the loss function\n",
    "- We observe that there is no much change in the training and validation loss and the accuracy is also slightly less.\n",
    "- This is because, we have lowered the learning rate by 10% from 0.01 to 0.001 and so the gradient descent optimizer will take more number of iterations(epochs) for converging the loss function to a minimum value.\n",
    "- Loss for trainingset is 0.45 and for validationset is 0.47, after 30 epochs,so the loss has minimized\n",
    "- The validationset accuracy is 83.6% which is slightly less compared to 84.3% obtained from model2\n",
    "- This model shows that if we reduce the learning rate the number of iterations required for the loss function to converge to a minimum value will be more and so we have to increase the number of epochs"
   ]
  },
  {
   "cell_type": "markdown",
   "metadata": {
    "colab_type": "text",
    "id": "j9CSqKvpOIVk"
   },
   "source": [
    "### Build the Neural Network model with 3 Dense layers with 100,100,10 neurons respectively in each layer. Use cross entropy loss function and sigmoid as activation in the hidden layers and softmax as activation function in the output layer. Use sgd optimizer with learning rate 0.03."
   ]
  },
  {
   "cell_type": "code",
   "execution_count": 0,
   "metadata": {
    "colab": {},
    "colab_type": "code",
    "id": "GGAad54JOIVm"
   },
   "outputs": [],
   "source": [
    "#Build a Neural Network model with 3 Dense layers with 100,100,10 neurons respectively in each layer\n",
    "#Use cross entropy loss function and sigmoid as activation in the hidden layers\n",
    "#Use softmax as activation function in the output layer\n",
    "#Use sgd optimizer with learning rate 0.03\n",
    "\n",
    "#Initialize Sequential model\n",
    "model4 = tf.keras.models.Sequential()\n",
    "\n",
    "#Reshape input data from 2D to 1D -> 28x28 to 784\n",
    "model4.add(tf.keras.layers.Reshape(target_shape=(784,), input_shape=(28,28)))\n",
    "\n",
    "#Normalize the data with BatchNormalization layer()\n",
    "model4.add(tf.keras.layers.BatchNormalization())\n",
    "\n",
    "#Add Dense Layer, Hidden Layer 1 with 100 neurons and activation function as sigmoid \n",
    "model4.add(tf.keras.layers.Dense(100, activation='sigmoid'))\n",
    "\n",
    "#Add Dense Layer, Hidden Layer 2 with 100 neurons and activation function as sigmoid\n",
    "model4.add(tf.keras.layers.Dense(100, activation='sigmoid'))\n",
    "\n",
    "#Add Dense Layer, Hidden Layer 3 with 10 neurons and activation function as sigmoid\n",
    "model4.add(tf.keras.layers.Dense(10, activation='sigmoid'))\n",
    "\n",
    "#Add Dense Layer which provides 10 Outputs as we have 10 classes after 3 Hidden layers by applying activation function as softmax \n",
    "model4.add(tf.keras.layers.Dense(10, activation='softmax'))\n"
   ]
  },
  {
   "cell_type": "markdown",
   "metadata": {
    "colab_type": "text",
    "id": "MQ7oIymROIVp"
   },
   "source": [
    "### Compile the model"
   ]
  },
  {
   "cell_type": "code",
   "execution_count": 0,
   "metadata": {
    "colab": {},
    "colab_type": "code",
    "id": "X-O-fFxnOIVt"
   },
   "outputs": [],
   "source": [
    "#Use cross entropy loss function\n",
    "#Use sgd optimizer with learning rate 0.03\n",
    "\n",
    "sgd_optimizer2 = tf.keras.optimizers.SGD(learning_rate=0.03)\n",
    "model4.compile(optimizer=sgd_optimizer2, loss='categorical_crossentropy', metrics=['accuracy'])"
   ]
  },
  {
   "cell_type": "markdown",
   "metadata": {
    "colab_type": "text",
    "id": "BS7L5Z2c7U-J"
   },
   "source": [
    "### Execute the model"
   ]
  },
  {
   "cell_type": "code",
   "execution_count": 90,
   "metadata": {
    "colab": {
     "base_uri": "https://localhost:8080/",
     "height": 1000
    },
    "colab_type": "code",
    "executionInfo": {
     "elapsed": 479522,
     "status": "ok",
     "timestamp": 1579423797767,
     "user": {
      "displayName": "Dinakar K.B.N",
      "photoUrl": "https://lh3.googleusercontent.com/a-/AAuE7mB6BhFIFQ26CUaEhDl16HhXxqj4NbZegPsO2xKMDQ=s64",
      "userId": "06643686747511876348"
     },
     "user_tz": -330
    },
    "id": "BiP7IL52OIVw",
    "outputId": "78052514-5600-4ced-8894-319f1ca7531f"
   },
   "outputs": [
    {
     "name": "stdout",
     "output_type": "stream",
     "text": [
      "Train on 60000 samples, validate on 10000 samples\n",
      "Epoch 1/30\n",
      "60000/60000 [==============================] - 6s 95us/sample - loss: 1.8136 - acc: 0.4078 - val_loss: 1.3095 - val_acc: 0.5440\n",
      "Epoch 2/30\n",
      "60000/60000 [==============================] - 5s 88us/sample - loss: 1.1423 - acc: 0.6119 - val_loss: 0.9652 - val_acc: 0.6788\n",
      "Epoch 3/30\n",
      "60000/60000 [==============================] - 5s 89us/sample - loss: 0.8679 - acc: 0.7128 - val_loss: 0.7662 - val_acc: 0.7464\n",
      "Epoch 4/30\n",
      "60000/60000 [==============================] - 5s 88us/sample - loss: 0.7173 - acc: 0.7583 - val_loss: 0.6529 - val_acc: 0.7740\n",
      "Epoch 5/30\n",
      "60000/60000 [==============================] - 5s 88us/sample - loss: 0.6260 - acc: 0.7815 - val_loss: 0.5836 - val_acc: 0.7922\n",
      "Epoch 6/30\n",
      "60000/60000 [==============================] - 5s 89us/sample - loss: 0.5684 - acc: 0.8004 - val_loss: 0.5459 - val_acc: 0.8028\n",
      "Epoch 7/30\n",
      "60000/60000 [==============================] - 5s 88us/sample - loss: 0.5271 - acc: 0.8209 - val_loss: 0.5121 - val_acc: 0.8248\n",
      "Epoch 8/30\n",
      "60000/60000 [==============================] - 5s 89us/sample - loss: 0.4960 - acc: 0.8324 - val_loss: 0.4838 - val_acc: 0.8329\n",
      "Epoch 9/30\n",
      "60000/60000 [==============================] - 5s 89us/sample - loss: 0.4666 - acc: 0.8418 - val_loss: 0.4669 - val_acc: 0.8382\n",
      "Epoch 10/30\n",
      "60000/60000 [==============================] - 5s 88us/sample - loss: 0.4431 - acc: 0.8497 - val_loss: 0.4479 - val_acc: 0.8456\n",
      "Epoch 11/30\n",
      "60000/60000 [==============================] - 6s 92us/sample - loss: 0.4241 - acc: 0.8548 - val_loss: 0.4338 - val_acc: 0.8492\n",
      "Epoch 12/30\n",
      "60000/60000 [==============================] - 5s 89us/sample - loss: 0.4095 - acc: 0.8588 - val_loss: 0.4216 - val_acc: 0.8541\n",
      "Epoch 13/30\n",
      "60000/60000 [==============================] - 5s 87us/sample - loss: 0.3954 - acc: 0.8637 - val_loss: 0.4161 - val_acc: 0.8550\n",
      "Epoch 14/30\n",
      "60000/60000 [==============================] - 5s 91us/sample - loss: 0.3838 - acc: 0.8676 - val_loss: 0.4069 - val_acc: 0.8581\n",
      "Epoch 15/30\n",
      "60000/60000 [==============================] - 5s 90us/sample - loss: 0.3722 - acc: 0.8708 - val_loss: 0.4014 - val_acc: 0.8612\n",
      "Epoch 16/30\n",
      "60000/60000 [==============================] - 5s 89us/sample - loss: 0.3609 - acc: 0.8743 - val_loss: 0.3936 - val_acc: 0.8646\n",
      "Epoch 17/30\n",
      "60000/60000 [==============================] - 5s 90us/sample - loss: 0.3526 - acc: 0.8771 - val_loss: 0.3890 - val_acc: 0.8639\n",
      "Epoch 18/30\n",
      "60000/60000 [==============================] - 5s 88us/sample - loss: 0.3416 - acc: 0.8819 - val_loss: 0.3845 - val_acc: 0.8673\n",
      "Epoch 19/30\n",
      "60000/60000 [==============================] - 5s 89us/sample - loss: 0.3360 - acc: 0.8826 - val_loss: 0.3784 - val_acc: 0.8683\n",
      "Epoch 20/30\n",
      "60000/60000 [==============================] - 6s 93us/sample - loss: 0.3296 - acc: 0.8838 - val_loss: 0.3741 - val_acc: 0.8703\n",
      "Epoch 21/30\n",
      "60000/60000 [==============================] - 6s 93us/sample - loss: 0.3205 - acc: 0.8880 - val_loss: 0.3863 - val_acc: 0.8646\n",
      "Epoch 22/30\n",
      "60000/60000 [==============================] - 5s 91us/sample - loss: 0.3126 - acc: 0.8912 - val_loss: 0.3684 - val_acc: 0.8699\n",
      "Epoch 23/30\n",
      "60000/60000 [==============================] - 5s 89us/sample - loss: 0.3084 - acc: 0.8920 - val_loss: 0.3615 - val_acc: 0.8738\n",
      "Epoch 24/30\n",
      "60000/60000 [==============================] - 5s 87us/sample - loss: 0.3006 - acc: 0.8949 - val_loss: 0.3727 - val_acc: 0.8691\n",
      "Epoch 25/30\n",
      "60000/60000 [==============================] - 5s 89us/sample - loss: 0.2953 - acc: 0.8964 - val_loss: 0.3657 - val_acc: 0.8722\n",
      "Epoch 26/30\n",
      "60000/60000 [==============================] - 5s 87us/sample - loss: 0.2872 - acc: 0.8991 - val_loss: 0.3557 - val_acc: 0.8752\n",
      "Epoch 27/30\n",
      "60000/60000 [==============================] - 5s 88us/sample - loss: 0.2853 - acc: 0.8999 - val_loss: 0.3629 - val_acc: 0.8725\n",
      "Epoch 28/30\n",
      "60000/60000 [==============================] - 5s 89us/sample - loss: 0.2823 - acc: 0.9007 - val_loss: 0.3551 - val_acc: 0.8746\n",
      "Epoch 29/30\n",
      "60000/60000 [==============================] - 5s 87us/sample - loss: 0.2767 - acc: 0.9024 - val_loss: 0.3528 - val_acc: 0.8765\n",
      "Epoch 30/30\n",
      "60000/60000 [==============================] - 5s 88us/sample - loss: 0.2729 - acc: 0.9051 - val_loss: 0.3493 - val_acc: 0.8763\n"
     ]
    },
    {
     "data": {
      "text/plain": [
       "<tensorflow.python.keras.callbacks.History at 0x7fcdf3c05e48>"
      ]
     },
     "execution_count": 90,
     "metadata": {
      "tags": []
     },
     "output_type": "execute_result"
    }
   ],
   "source": [
    "#Fit the model on trainX,trainY and validate using testX,testY\n",
    "\n",
    "model4.fit(trainX, trainY,\n",
    "           validation_data=(testX, testY),\n",
    "           epochs=30,\n",
    "           batch_size=32)"
   ]
  },
  {
   "cell_type": "markdown",
   "metadata": {
    "colab_type": "text",
    "id": "mfoVOvpiKZGz"
   },
   "source": [
    "#### Observations:\n",
    "- In this model we have added 3 hidden layers between the input and output layers, used an sgd optmizer with learning rate of 0.03, accuracy as the metrics and categorical_crossentropy as the loss function\n",
    "- We observe that when the learning rate is increased three times from 0.01 to 0.03, there is a huge change in the training and validation loss and the accuracy is also increased.\n",
    "- This change is because, we have increased the learning rate to 0.03 and so the gradient descent optimizer will take less number of iterations(epochs) for converging the loss function to a minimum value.\n",
    "- Also, we have used sigmoid as activation function for building the neural networks and softmax as activation function to get the output layer for the probabilities to get evenly distributed for all classes.This is ideal for multi-class classification.\n",
    "- Loss for trainingset is 0.25 and for validationset is 0.35, after 30 epochs,so the loss has minimized\n",
    "- The validationset accuracy is 87.6% which is slightly less compared to 83.6% obtained from model3\n",
    "- This model shows that if we add hidden layers loss will be very minimal and also we get a good accuracy.\n",
    "- So model4 is the best model of all the four models we have built."
   ]
  },
  {
   "cell_type": "markdown",
   "metadata": {
    "colab_type": "text",
    "id": "Nr2YsZV0OIV0"
   },
   "source": [
    "## Review model"
   ]
  },
  {
   "cell_type": "code",
   "execution_count": 102,
   "metadata": {
    "colab": {
     "base_uri": "https://localhost:8080/",
     "height": 357
    },
    "colab_type": "code",
    "executionInfo": {
     "elapsed": 1215,
     "status": "ok",
     "timestamp": 1579428945730,
     "user": {
      "displayName": "Dinakar K.B.N",
      "photoUrl": "https://lh3.googleusercontent.com/a-/AAuE7mB6BhFIFQ26CUaEhDl16HhXxqj4NbZegPsO2xKMDQ=s64",
      "userId": "06643686747511876348"
     },
     "user_tz": -330
    },
    "id": "h4ojW6-oOIV2",
    "outputId": "c23a219d-61b7-473c-aa75-00e75cf2a2fd"
   },
   "outputs": [
    {
     "name": "stdout",
     "output_type": "stream",
     "text": [
      "Model: \"sequential_11\"\n",
      "_________________________________________________________________\n",
      "Layer (type)                 Output Shape              Param #   \n",
      "=================================================================\n",
      "reshape_11 (Reshape)         (None, 784)               0         \n",
      "_________________________________________________________________\n",
      "batch_normalization_8 (Batch (None, 784)               3136      \n",
      "_________________________________________________________________\n",
      "dense_17 (Dense)             (None, 100)               78500     \n",
      "_________________________________________________________________\n",
      "dense_18 (Dense)             (None, 100)               10100     \n",
      "_________________________________________________________________\n",
      "dense_19 (Dense)             (None, 10)                1010      \n",
      "_________________________________________________________________\n",
      "dense_20 (Dense)             (None, 10)                110       \n",
      "=================================================================\n",
      "Total params: 92,856\n",
      "Trainable params: 91,288\n",
      "Non-trainable params: 1,568\n",
      "_________________________________________________________________\n"
     ]
    }
   ],
   "source": [
    "#get model summary of total weights and bias\n",
    "model4.summary()"
   ]
  },
  {
   "cell_type": "code",
   "execution_count": 0,
   "metadata": {
    "colab": {},
    "colab_type": "code",
    "id": "wjmDJbvomwGw"
   },
   "outputs": [],
   "source": [
    "#get all the weights obtained\n",
    "all_weights= model4.get_weights()"
   ]
  },
  {
   "cell_type": "markdown",
   "metadata": {
    "colab_type": "text",
    "id": "gfFGmbZLOIV5"
   },
   "source": [
    "### Run the model"
   ]
  },
  {
   "cell_type": "code",
   "execution_count": 107,
   "metadata": {
    "colab": {
     "base_uri": "https://localhost:8080/",
     "height": 34
    },
    "colab_type": "code",
    "executionInfo": {
     "elapsed": 1205,
     "status": "ok",
     "timestamp": 1579429249556,
     "user": {
      "displayName": "Dinakar K.B.N",
      "photoUrl": "https://lh3.googleusercontent.com/a-/AAuE7mB6BhFIFQ26CUaEhDl16HhXxqj4NbZegPsO2xKMDQ=s64",
      "userId": "06643686747511876348"
     },
     "user_tz": -330
    },
    "id": "bIkbMEN5OIV7",
    "outputId": "abde1e4a-5512-41ce-e817-19e987c221d2"
   },
   "outputs": [
    {
     "data": {
      "text/plain": [
       "(1, 28, 28)"
      ]
     },
     "execution_count": 107,
     "metadata": {
      "tags": []
     },
     "output_type": "execute_result"
    }
   ],
   "source": [
    "#Expand the dimensions of test data from 1D to 2D (784,1) to (28,28) \n",
    "input_data = np.expand_dims(testX[0], axis=0)\n",
    "input_data.shape"
   ]
  },
  {
   "cell_type": "code",
   "execution_count": 109,
   "metadata": {
    "colab": {
     "base_uri": "https://localhost:8080/",
     "height": 68
    },
    "colab_type": "code",
    "executionInfo": {
     "elapsed": 1209,
     "status": "ok",
     "timestamp": 1579429314462,
     "user": {
      "displayName": "Dinakar K.B.N",
      "photoUrl": "https://lh3.googleusercontent.com/a-/AAuE7mB6BhFIFQ26CUaEhDl16HhXxqj4NbZegPsO2xKMDQ=s64",
      "userId": "06643686747511876348"
     },
     "user_tz": -330
    },
    "id": "grWwAthTn5Fu",
    "outputId": "1dd1b4cd-cfb5-436b-80b0-557f48646a37"
   },
   "outputs": [
    {
     "data": {
      "text/plain": [
       "array([[2.7069038e-05, 7.8161725e-07, 2.5206429e-04, 2.3489063e-06,\n",
       "        2.0187224e-05, 2.9720282e-03, 9.2620132e-05, 3.9974996e-03,\n",
       "        2.8346665e-03, 9.8980075e-01]], dtype=float32)"
      ]
     },
     "execution_count": 109,
     "metadata": {
      "tags": []
     },
     "output_type": "execute_result"
    }
   ],
   "source": [
    "#Run the model on test data and get predicted probabilities\n",
    "pred = model4.predict(input_data)\n",
    "pred"
   ]
  },
  {
   "cell_type": "code",
   "execution_count": 115,
   "metadata": {
    "colab": {
     "base_uri": "https://localhost:8080/",
     "height": 34
    },
    "colab_type": "code",
    "executionInfo": {
     "elapsed": 1193,
     "status": "ok",
     "timestamp": 1579429762651,
     "user": {
      "displayName": "Dinakar K.B.N",
      "photoUrl": "https://lh3.googleusercontent.com/a-/AAuE7mB6BhFIFQ26CUaEhDl16HhXxqj4NbZegPsO2xKMDQ=s64",
      "userId": "06643686747511876348"
     },
     "user_tz": -330
    },
    "id": "JNSffndyVzms",
    "outputId": "1f73ca85-3576-4e01-9eb0-71ef7ef8dfc3"
   },
   "outputs": [
    {
     "data": {
      "text/plain": [
       "1.0"
      ]
     },
     "execution_count": 115,
     "metadata": {
      "tags": []
     },
     "output_type": "execute_result"
    }
   ],
   "source": [
    "#Sum of the predicted probabilities should be 1 as we have used softmax as activation function to get the output probabilities\n",
    "np.sum(pred)"
   ]
  },
  {
   "cell_type": "code",
   "execution_count": 95,
   "metadata": {
    "colab": {
     "base_uri": "https://localhost:8080/",
     "height": 34
    },
    "colab_type": "code",
    "executionInfo": {
     "elapsed": 479462,
     "status": "ok",
     "timestamp": 1579423797774,
     "user": {
      "displayName": "Dinakar K.B.N",
      "photoUrl": "https://lh3.googleusercontent.com/a-/AAuE7mB6BhFIFQ26CUaEhDl16HhXxqj4NbZegPsO2xKMDQ=s64",
      "userId": "06643686747511876348"
     },
     "user_tz": -330
    },
    "id": "MnZuATpOn8L0",
    "outputId": "d56731c2-5cec-4e2a-8ccc-f46a471cabf6"
   },
   "outputs": [
    {
     "data": {
      "text/plain": [
       "(1, 10)"
      ]
     },
     "execution_count": 95,
     "metadata": {
      "tags": []
     },
     "output_type": "execute_result"
    }
   ],
   "source": [
    "#shape of predicted probailities should be same as number of classes (1,10)\n",
    "pred.shape"
   ]
  },
  {
   "cell_type": "code",
   "execution_count": 116,
   "metadata": {
    "colab": {
     "base_uri": "https://localhost:8080/",
     "height": 68
    },
    "colab_type": "code",
    "executionInfo": {
     "elapsed": 1144,
     "status": "ok",
     "timestamp": 1579429811807,
     "user": {
      "displayName": "Dinakar K.B.N",
      "photoUrl": "https://lh3.googleusercontent.com/a-/AAuE7mB6BhFIFQ26CUaEhDl16HhXxqj4NbZegPsO2xKMDQ=s64",
      "userId": "06643686747511876348"
     },
     "user_tz": -330
    },
    "id": "qkWWqeOTo8cB",
    "outputId": "3c4900de-7fdf-4a17-fbbf-079234e1bdf9"
   },
   "outputs": [
    {
     "data": {
      "text/plain": [
       "array([2.7069038e-05, 7.8161725e-07, 2.5206429e-04, 2.3489063e-06,\n",
       "       2.0187224e-05, 2.9720282e-03, 9.2620132e-05, 3.9974996e-03,\n",
       "       2.8346665e-03, 9.8980075e-01], dtype=float32)"
      ]
     },
     "execution_count": 116,
     "metadata": {
      "tags": []
     },
     "output_type": "execute_result"
    }
   ],
   "source": [
    "#pred{0] is same as pred as there is only one row\n",
    "pred[0]"
   ]
  },
  {
   "cell_type": "code",
   "execution_count": 117,
   "metadata": {
    "colab": {
     "base_uri": "https://localhost:8080/",
     "height": 34
    },
    "colab_type": "code",
    "executionInfo": {
     "elapsed": 1098,
     "status": "ok",
     "timestamp": 1579430344254,
     "user": {
      "displayName": "Dinakar K.B.N",
      "photoUrl": "https://lh3.googleusercontent.com/a-/AAuE7mB6BhFIFQ26CUaEhDl16HhXxqj4NbZegPsO2xKMDQ=s64",
      "userId": "06643686747511876348"
     },
     "user_tz": -330
    },
    "id": "kwQsVa9apew6",
    "outputId": "0efd8a5e-8186-4811-c026-fa6993033595"
   },
   "outputs": [
    {
     "data": {
      "text/plain": [
       "9"
      ]
     },
     "execution_count": 117,
     "metadata": {
      "tags": []
     },
     "output_type": "execute_result"
    }
   ],
   "source": [
    "# The Index of Maximum Probability outcome is the predicted value\n",
    "np.argmax(pred[0])"
   ]
  },
  {
   "cell_type": "code",
   "execution_count": 118,
   "metadata": {
    "colab": {
     "base_uri": "https://localhost:8080/",
     "height": 159
    },
    "colab_type": "code",
    "executionInfo": {
     "elapsed": 1183,
     "status": "ok",
     "timestamp": 1579430359845,
     "user": {
      "displayName": "Dinakar K.B.N",
      "photoUrl": "https://lh3.googleusercontent.com/a-/AAuE7mB6BhFIFQ26CUaEhDl16HhXxqj4NbZegPsO2xKMDQ=s64",
      "userId": "06643686747511876348"
     },
     "user_tz": -330
    },
    "id": "oKt8uPMLpoHk",
    "outputId": "6c89d033-cfe0-44ed-f366-e06afd14a6f2"
   },
   "outputs": [
    {
     "data": {
      "image/png": "[encoded data removed]",
      "text/plain": [
       "<Figure size 144x144 with 1 Axes>"
      ]
     },
     "metadata": {
      "tags": []
     },
     "output_type": "display_data"
    }
   ],
   "source": [
    "#Plot the image of the predicted value\n",
    "plt.figure(figsize=(2,2))\n",
    "plt.imshow(testX[0],cmap='gray')\n",
    "plt.show()"
   ]
  },
  {
   "cell_type": "code",
   "execution_count": 119,
   "metadata": {
    "colab": {
     "base_uri": "https://localhost:8080/",
     "height": 34
    },
    "colab_type": "code",
    "executionInfo": {
     "elapsed": 1181,
     "status": "ok",
     "timestamp": 1579430430409,
     "user": {
      "displayName": "Dinakar K.B.N",
      "photoUrl": "https://lh3.googleusercontent.com/a-/AAuE7mB6BhFIFQ26CUaEhDl16HhXxqj4NbZegPsO2xKMDQ=s64",
      "userId": "06643686747511876348"
     },
     "user_tz": -330
    },
    "id": "PldEwsoxp2uA",
    "outputId": "92c449fe-4610-4aa9-b747-d402fc4525cd"
   },
   "outputs": [
    {
     "data": {
      "text/plain": [
       "9"
      ]
     },
     "execution_count": 119,
     "metadata": {
      "tags": []
     },
     "output_type": "execute_result"
    }
   ],
   "source": [
    "# Validate the predicted value to the actual value in testY\n",
    "np.argmax(testY[0])"
   ]
  },
  {
   "cell_type": "markdown",
   "metadata": {
    "colab_type": "text",
    "id": "6skW0a7-Y9wt"
   },
   "source": [
    "##### Using the model we are able to match predicted value with actual value. "
   ]
  },
  {
   "cell_type": "code",
   "execution_count": 0,
   "metadata": {
    "colab": {},
    "colab_type": "code",
    "id": "dBEQaDWHqEOg"
   },
   "outputs": [],
   "source": []
  }
 ],
 "metadata": {
  "colab": {
   "collapsed_sections": [],
   "name": "R6_ExternalLab_AIML-1.ipynb",
   "provenance": []
  },
  "kernelspec": {
   "display_name": "Python 3",
   "language": "python",
   "name": "python3"
  },
  "language_info": {
   "codemirror_mode": {
    "name": "ipython",
    "version": 3
   },
   "file_extension": ".py",
   "mimetype": "text/x-python",
   "name": "python",
   "nbconvert_exporter": "python",
   "pygments_lexer": "ipython3",
   "version": "3.7.3"
  }
 },
 "nbformat": 4,
 "nbformat_minor": 1
}
