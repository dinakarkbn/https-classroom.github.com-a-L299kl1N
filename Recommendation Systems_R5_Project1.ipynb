{
 "cells": [
  {
   "cell_type": "markdown",
   "metadata": {},
   "source": [
    "# Recommendation Systems_R5_Project1"
   ]
  },
  {
   "cell_type": "markdown",
   "metadata": {},
   "source": [
    "# Recommendation system for products on an e-commerce website like Amazon.com.\n"
   ]
  },
  {
   "cell_type": "markdown",
   "metadata": {},
   "source": [
    "### Import Python Libraries"
   ]
  },
  {
   "cell_type": "code",
   "execution_count": 1,
   "metadata": {},
   "outputs": [],
   "source": [
    "import pandas as pd\n",
    "import numpy as np\n",
    "import random\n",
    "import time\n",
    "\n",
    "import matplotlib.pyplot as plt \n",
    "plt.rc(\"font\", size=14)\n",
    "import pylab as pl\n",
    "\n",
    "import seaborn as sns\n",
    "sns.set(style=\"white\")\n",
    "sns.set(style=\"darkgrid\", color_codes=True)\n",
    "\n",
    "from sklearn.model_selection import train_test_split\n",
    "from sklearn.metrics import mean_squared_error, accuracy_score, precision_score, recall_score, f1_score\n",
    "from sklearn.metrics import roc_auc_score, roc_curve"
   ]
  },
  {
   "cell_type": "markdown",
   "metadata": {},
   "source": [
    "## Problem Statement :\n",
    "## Build and Evaluate Popularity Recommender model and Collaborative Filtering model for products on an e-commerce website like Amazon.com."
   ]
  },
  {
   "cell_type": "markdown",
   "metadata": {},
   "source": [
    "## About the Data:"
   ]
  },
  {
   "cell_type": "markdown",
   "metadata": {},
   "source": [
    "   __Recommendation system for products on an e-commerce website like Amazon.com__\n",
    "\n",
    "    Dataset - ​ Amazon Reviews data (http://jmcauley.ucsd.edu/data/amazon/) ratings_Electronics_Ver3.tar.xz\n",
    "    Dataset columns - first three columns are userId, productId, and ratings and the fourth column is timestamp. You can discard the timestamp column as in this case you may not need to use it.\n",
    "\n",
    "- The repository has several datasets. For this case study we are using the Electronics dataset.\n",
    "- The data set consists of:\n",
    "- 7,824,482 Ratings (1-5) for Electronics products."
   ]
  },
  {
   "cell_type": "markdown",
   "metadata": {},
   "source": [
    "### Load Data and read the data as a data frame"
   ]
  },
  {
   "cell_type": "code",
   "execution_count": 2,
   "metadata": {},
   "outputs": [],
   "source": [
    "data = pd.read_csv(\"ratings_Electronics.csv\", names=['userId', 'productId', 'ratings', 'timestamp'])"
   ]
  },
  {
   "cell_type": "markdown",
   "metadata": {},
   "source": [
    "### Shape of the data"
   ]
  },
  {
   "cell_type": "code",
   "execution_count": 3,
   "metadata": {},
   "outputs": [
    {
     "data": {
      "text/plain": [
       "(7824482, 4)"
      ]
     },
     "execution_count": 3,
     "metadata": {},
     "output_type": "execute_result"
    }
   ],
   "source": [
    "data.shape"
   ]
  },
  {
   "cell_type": "markdown",
   "metadata": {},
   "source": [
    "### Data type of each attribute"
   ]
  },
  {
   "cell_type": "code",
   "execution_count": 4,
   "metadata": {},
   "outputs": [
    {
     "data": {
      "text/plain": [
       "userId        object\n",
       "productId     object\n",
       "ratings      float64\n",
       "timestamp      int64\n",
       "dtype: object"
      ]
     },
     "execution_count": 4,
     "metadata": {},
     "output_type": "execute_result"
    }
   ],
   "source": [
    "data.dtypes"
   ]
  },
  {
   "cell_type": "markdown",
   "metadata": {},
   "source": [
    "### Check that data is read correctly using head, tail and sample"
   ]
  },
  {
   "cell_type": "code",
   "execution_count": 5,
   "metadata": {},
   "outputs": [
    {
     "data": {
      "text/html": [
       "<div>\n",
       "<style scoped>\n",
       "    .dataframe tbody tr th:only-of-type {\n",
       "        vertical-align: middle;\n",
       "    }\n",
       "\n",
       "    .dataframe tbody tr th {\n",
       "        vertical-align: top;\n",
       "    }\n",
       "\n",
       "    .dataframe thead th {\n",
       "        text-align: right;\n",
       "    }\n",
       "</style>\n",
       "<table border=\"1\" class=\"dataframe\">\n",
       "  <thead>\n",
       "    <tr style=\"text-align: right;\">\n",
       "      <th></th>\n",
       "      <th>userId</th>\n",
       "      <th>productId</th>\n",
       "      <th>ratings</th>\n",
       "      <th>timestamp</th>\n",
       "    </tr>\n",
       "  </thead>\n",
       "  <tbody>\n",
       "    <tr>\n",
       "      <th>0</th>\n",
       "      <td>AKM1MP6P0OYPR</td>\n",
       "      <td>0132793040</td>\n",
       "      <td>5.0</td>\n",
       "      <td>1365811200</td>\n",
       "    </tr>\n",
       "    <tr>\n",
       "      <th>1</th>\n",
       "      <td>A2CX7LUOHB2NDG</td>\n",
       "      <td>0321732944</td>\n",
       "      <td>5.0</td>\n",
       "      <td>1341100800</td>\n",
       "    </tr>\n",
       "    <tr>\n",
       "      <th>2</th>\n",
       "      <td>A2NWSAGRHCP8N5</td>\n",
       "      <td>0439886341</td>\n",
       "      <td>1.0</td>\n",
       "      <td>1367193600</td>\n",
       "    </tr>\n",
       "    <tr>\n",
       "      <th>3</th>\n",
       "      <td>A2WNBOD3WNDNKT</td>\n",
       "      <td>0439886341</td>\n",
       "      <td>3.0</td>\n",
       "      <td>1374451200</td>\n",
       "    </tr>\n",
       "    <tr>\n",
       "      <th>4</th>\n",
       "      <td>A1GI0U4ZRJA8WN</td>\n",
       "      <td>0439886341</td>\n",
       "      <td>1.0</td>\n",
       "      <td>1334707200</td>\n",
       "    </tr>\n",
       "  </tbody>\n",
       "</table>\n",
       "</div>"
      ],
      "text/plain": [
       "           userId   productId  ratings   timestamp\n",
       "0   AKM1MP6P0OYPR  0132793040      5.0  1365811200\n",
       "1  A2CX7LUOHB2NDG  0321732944      5.0  1341100800\n",
       "2  A2NWSAGRHCP8N5  0439886341      1.0  1367193600\n",
       "3  A2WNBOD3WNDNKT  0439886341      3.0  1374451200\n",
       "4  A1GI0U4ZRJA8WN  0439886341      1.0  1334707200"
      ]
     },
     "execution_count": 5,
     "metadata": {},
     "output_type": "execute_result"
    }
   ],
   "source": [
    "data.head(5)"
   ]
  },
  {
   "cell_type": "code",
   "execution_count": 6,
   "metadata": {},
   "outputs": [
    {
     "data": {
      "text/html": [
       "<div>\n",
       "<style scoped>\n",
       "    .dataframe tbody tr th:only-of-type {\n",
       "        vertical-align: middle;\n",
       "    }\n",
       "\n",
       "    .dataframe tbody tr th {\n",
       "        vertical-align: top;\n",
       "    }\n",
       "\n",
       "    .dataframe thead th {\n",
       "        text-align: right;\n",
       "    }\n",
       "</style>\n",
       "<table border=\"1\" class=\"dataframe\">\n",
       "  <thead>\n",
       "    <tr style=\"text-align: right;\">\n",
       "      <th></th>\n",
       "      <th>userId</th>\n",
       "      <th>productId</th>\n",
       "      <th>ratings</th>\n",
       "      <th>timestamp</th>\n",
       "    </tr>\n",
       "  </thead>\n",
       "  <tbody>\n",
       "    <tr>\n",
       "      <th>7824477</th>\n",
       "      <td>A2YZI3C9MOHC0L</td>\n",
       "      <td>BT008UKTMW</td>\n",
       "      <td>5.0</td>\n",
       "      <td>1396569600</td>\n",
       "    </tr>\n",
       "    <tr>\n",
       "      <th>7824478</th>\n",
       "      <td>A322MDK0M89RHN</td>\n",
       "      <td>BT008UKTMW</td>\n",
       "      <td>5.0</td>\n",
       "      <td>1313366400</td>\n",
       "    </tr>\n",
       "    <tr>\n",
       "      <th>7824479</th>\n",
       "      <td>A1MH90R0ADMIK0</td>\n",
       "      <td>BT008UKTMW</td>\n",
       "      <td>4.0</td>\n",
       "      <td>1404172800</td>\n",
       "    </tr>\n",
       "    <tr>\n",
       "      <th>7824480</th>\n",
       "      <td>A10M2KEFPEQDHN</td>\n",
       "      <td>BT008UKTMW</td>\n",
       "      <td>4.0</td>\n",
       "      <td>1297555200</td>\n",
       "    </tr>\n",
       "    <tr>\n",
       "      <th>7824481</th>\n",
       "      <td>A2G81TMIOIDEQQ</td>\n",
       "      <td>BT008V9J9U</td>\n",
       "      <td>5.0</td>\n",
       "      <td>1312675200</td>\n",
       "    </tr>\n",
       "  </tbody>\n",
       "</table>\n",
       "</div>"
      ],
      "text/plain": [
       "                 userId   productId  ratings   timestamp\n",
       "7824477  A2YZI3C9MOHC0L  BT008UKTMW      5.0  1396569600\n",
       "7824478  A322MDK0M89RHN  BT008UKTMW      5.0  1313366400\n",
       "7824479  A1MH90R0ADMIK0  BT008UKTMW      4.0  1404172800\n",
       "7824480  A10M2KEFPEQDHN  BT008UKTMW      4.0  1297555200\n",
       "7824481  A2G81TMIOIDEQQ  BT008V9J9U      5.0  1312675200"
      ]
     },
     "execution_count": 6,
     "metadata": {},
     "output_type": "execute_result"
    }
   ],
   "source": [
    "data.tail(5)"
   ]
  },
  {
   "cell_type": "code",
   "execution_count": 7,
   "metadata": {
    "scrolled": true
   },
   "outputs": [
    {
     "data": {
      "text/html": [
       "<div>\n",
       "<style scoped>\n",
       "    .dataframe tbody tr th:only-of-type {\n",
       "        vertical-align: middle;\n",
       "    }\n",
       "\n",
       "    .dataframe tbody tr th {\n",
       "        vertical-align: top;\n",
       "    }\n",
       "\n",
       "    .dataframe thead th {\n",
       "        text-align: right;\n",
       "    }\n",
       "</style>\n",
       "<table border=\"1\" class=\"dataframe\">\n",
       "  <thead>\n",
       "    <tr style=\"text-align: right;\">\n",
       "      <th></th>\n",
       "      <th>userId</th>\n",
       "      <th>productId</th>\n",
       "      <th>ratings</th>\n",
       "      <th>timestamp</th>\n",
       "    </tr>\n",
       "  </thead>\n",
       "  <tbody>\n",
       "    <tr>\n",
       "      <th>4337532</th>\n",
       "      <td>A25LIC6K9POVTS</td>\n",
       "      <td>B004PAPG32</td>\n",
       "      <td>5.0</td>\n",
       "      <td>1321488000</td>\n",
       "    </tr>\n",
       "    <tr>\n",
       "      <th>6790519</th>\n",
       "      <td>A1U3ATUR1FUJIU</td>\n",
       "      <td>B009ZIILLI</td>\n",
       "      <td>1.0</td>\n",
       "      <td>1381276800</td>\n",
       "    </tr>\n",
       "    <tr>\n",
       "      <th>3429940</th>\n",
       "      <td>A3DI0HG3PZ1CJ6</td>\n",
       "      <td>B003LR7ME6</td>\n",
       "      <td>4.0</td>\n",
       "      <td>1332460800</td>\n",
       "    </tr>\n",
       "    <tr>\n",
       "      <th>3807179</th>\n",
       "      <td>A1EL42564P1HYO</td>\n",
       "      <td>B00428N9OK</td>\n",
       "      <td>4.0</td>\n",
       "      <td>1349740800</td>\n",
       "    </tr>\n",
       "    <tr>\n",
       "      <th>3193653</th>\n",
       "      <td>A31I44ESG7UPR</td>\n",
       "      <td>B003B3P2BU</td>\n",
       "      <td>2.0</td>\n",
       "      <td>1280880000</td>\n",
       "    </tr>\n",
       "  </tbody>\n",
       "</table>\n",
       "</div>"
      ],
      "text/plain": [
       "                 userId   productId  ratings   timestamp\n",
       "4337532  A25LIC6K9POVTS  B004PAPG32      5.0  1321488000\n",
       "6790519  A1U3ATUR1FUJIU  B009ZIILLI      1.0  1381276800\n",
       "3429940  A3DI0HG3PZ1CJ6  B003LR7ME6      4.0  1332460800\n",
       "3807179  A1EL42564P1HYO  B00428N9OK      4.0  1349740800\n",
       "3193653   A31I44ESG7UPR  B003B3P2BU      2.0  1280880000"
      ]
     },
     "execution_count": 7,
     "metadata": {},
     "output_type": "execute_result"
    }
   ],
   "source": [
    "data.sample(5)"
   ]
  },
  {
   "cell_type": "markdown",
   "metadata": {},
   "source": [
    "### Info on column name, count of records, not-null/null, datatype, count of datatypes and memory usage of columns"
   ]
  },
  {
   "cell_type": "code",
   "execution_count": 8,
   "metadata": {},
   "outputs": [
    {
     "name": "stdout",
     "output_type": "stream",
     "text": [
      "<class 'pandas.core.frame.DataFrame'>\n",
      "RangeIndex: 7824482 entries, 0 to 7824481\n",
      "Data columns (total 4 columns):\n",
      "userId       object\n",
      "productId    object\n",
      "ratings      float64\n",
      "timestamp    int64\n",
      "dtypes: float64(1), int64(1), object(2)\n",
      "memory usage: 238.8+ MB\n"
     ]
    }
   ],
   "source": [
    "data.info()"
   ]
  },
  {
   "cell_type": "markdown",
   "metadata": {},
   "source": [
    "### Null Values"
   ]
  },
  {
   "cell_type": "code",
   "execution_count": 9,
   "metadata": {},
   "outputs": [
    {
     "data": {
      "text/plain": [
       "userId       0\n",
       "productId    0\n",
       "ratings      0\n",
       "timestamp    0\n",
       "dtype: int64"
      ]
     },
     "execution_count": 9,
     "metadata": {},
     "output_type": "execute_result"
    }
   ],
   "source": [
    "data.isna().sum()"
   ]
  },
  {
   "cell_type": "code",
   "execution_count": 10,
   "metadata": {
    "scrolled": true
   },
   "outputs": [
    {
     "name": "stdout",
     "output_type": "stream",
     "text": [
      "\n",
      "There are no Null/Missing values in the dataset\n",
      "\n"
     ]
    }
   ],
   "source": [
    "print(\"\\nThere are no Null/Missing values in the dataset\\n\")"
   ]
  },
  {
   "cell_type": "markdown",
   "metadata": {},
   "source": [
    "### Negative values"
   ]
  },
  {
   "cell_type": "code",
   "execution_count": 11,
   "metadata": {},
   "outputs": [
    {
     "data": {
      "text/plain": [
       "ratings      0\n",
       "timestamp    0\n",
       "dtype: int64"
      ]
     },
     "execution_count": 11,
     "metadata": {},
     "output_type": "execute_result"
    }
   ],
   "source": [
    "(data.drop(['userId', 'productId'], axis=1) < 0).sum()"
   ]
  },
  {
   "cell_type": "code",
   "execution_count": 12,
   "metadata": {},
   "outputs": [
    {
     "name": "stdout",
     "output_type": "stream",
     "text": [
      "\n",
      "There are no negative values in ratings and timestamp columns\n",
      "\n"
     ]
    }
   ],
   "source": [
    "print('\\nThere are no negative values in ratings and timestamp columns\\n')"
   ]
  },
  {
   "cell_type": "markdown",
   "metadata": {},
   "source": [
    "### Duplicated data"
   ]
  },
  {
   "cell_type": "code",
   "execution_count": 13,
   "metadata": {},
   "outputs": [
    {
     "data": {
      "text/plain": [
       "0"
      ]
     },
     "execution_count": 13,
     "metadata": {},
     "output_type": "execute_result"
    }
   ],
   "source": [
    "data.duplicated().sum()"
   ]
  },
  {
   "cell_type": "code",
   "execution_count": 14,
   "metadata": {},
   "outputs": [
    {
     "name": "stdout",
     "output_type": "stream",
     "text": [
      "\n",
      "There are no duplicate records in the dataset\n",
      "\n"
     ]
    }
   ],
   "source": [
    "print(\"\\nThere are no duplicate records in the dataset\\n\")"
   ]
  },
  {
   "cell_type": "markdown",
   "metadata": {},
   "source": [
    "### Dropping the timestamp column"
   ]
  },
  {
   "cell_type": "markdown",
   "metadata": {},
   "source": [
    "> We can discard the timestamp column as in this case we may not need to use it.\n",
    "> Drop the timestamp column"
   ]
  },
  {
   "cell_type": "code",
   "execution_count": 15,
   "metadata": {},
   "outputs": [],
   "source": [
    "data.drop('timestamp', axis=1, inplace=True)"
   ]
  },
  {
   "cell_type": "code",
   "execution_count": 16,
   "metadata": {},
   "outputs": [
    {
     "data": {
      "text/plain": [
       "Index(['userId', 'productId', 'ratings'], dtype='object')"
      ]
     },
     "execution_count": 16,
     "metadata": {},
     "output_type": "execute_result"
    }
   ],
   "source": [
    "#check to see that the timestamp column is dropped\n",
    "\n",
    "data.columns"
   ]
  },
  {
   "cell_type": "markdown",
   "metadata": {},
   "source": [
    "## Exploratory Data Analysis (EDA)"
   ]
  },
  {
   "cell_type": "markdown",
   "metadata": {},
   "source": [
    "### 5 point summary of numerical attributes"
   ]
  },
  {
   "cell_type": "code",
   "execution_count": 17,
   "metadata": {},
   "outputs": [
    {
     "data": {
      "text/html": [
       "<div>\n",
       "<style scoped>\n",
       "    .dataframe tbody tr th:only-of-type {\n",
       "        vertical-align: middle;\n",
       "    }\n",
       "\n",
       "    .dataframe tbody tr th {\n",
       "        vertical-align: top;\n",
       "    }\n",
       "\n",
       "    .dataframe thead th {\n",
       "        text-align: right;\n",
       "    }\n",
       "</style>\n",
       "<table border=\"1\" class=\"dataframe\">\n",
       "  <thead>\n",
       "    <tr style=\"text-align: right;\">\n",
       "      <th></th>\n",
       "      <th>count</th>\n",
       "      <th>mean</th>\n",
       "      <th>std</th>\n",
       "      <th>min</th>\n",
       "      <th>25%</th>\n",
       "      <th>50%</th>\n",
       "      <th>75%</th>\n",
       "      <th>max</th>\n",
       "    </tr>\n",
       "  </thead>\n",
       "  <tbody>\n",
       "    <tr>\n",
       "      <th>ratings</th>\n",
       "      <td>7824482.0</td>\n",
       "      <td>4.012337</td>\n",
       "      <td>1.38091</td>\n",
       "      <td>1.0</td>\n",
       "      <td>3.0</td>\n",
       "      <td>5.0</td>\n",
       "      <td>5.0</td>\n",
       "      <td>5.0</td>\n",
       "    </tr>\n",
       "  </tbody>\n",
       "</table>\n",
       "</div>"
      ],
      "text/plain": [
       "             count      mean      std  min  25%  50%  75%  max\n",
       "ratings  7824482.0  4.012337  1.38091  1.0  3.0  5.0  5.0  5.0"
      ]
     },
     "execution_count": 17,
     "metadata": {},
     "output_type": "execute_result"
    }
   ],
   "source": [
    "data.describe().T"
   ]
  },
  {
   "cell_type": "markdown",
   "metadata": {},
   "source": [
    "### Histogram of the complete dataset"
   ]
  },
  {
   "cell_type": "code",
   "execution_count": 18,
   "metadata": {},
   "outputs": [
    {
     "data": {
      "image/png": "[encoded data removed]",
      "text/plain": [
       "<Figure size 1080x648 with 4 Axes>"
      ]
     },
     "metadata": {
      "needs_background": "light"
     },
     "output_type": "display_data"
    }
   ],
   "source": [
    "data.hist(bins=10, figsize=(15,9), layout=(2,2),color = 'blue',alpha=0.6)\n",
    "plt.show()"
   ]
  },
  {
   "cell_type": "markdown",
   "metadata": {},
   "source": [
    "### Count number of unique users in the dataset"
   ]
  },
  {
   "cell_type": "code",
   "execution_count": 19,
   "metadata": {},
   "outputs": [
    {
     "data": {
      "text/plain": [
       "4201696"
      ]
     },
     "execution_count": 19,
     "metadata": {},
     "output_type": "execute_result"
    }
   ],
   "source": [
    "len(data['userId'].unique())"
   ]
  },
  {
   "cell_type": "markdown",
   "metadata": {},
   "source": [
    "### Count number of unique products in the dataset"
   ]
  },
  {
   "cell_type": "code",
   "execution_count": 20,
   "metadata": {
    "scrolled": true
   },
   "outputs": [
    {
     "data": {
      "text/plain": [
       "476002"
      ]
     },
     "execution_count": 20,
     "metadata": {},
     "output_type": "execute_result"
    }
   ],
   "source": [
    "len(data['productId'].unique())"
   ]
  },
  {
   "cell_type": "markdown",
   "metadata": {},
   "source": [
    "### Ratings given by users and number of unique ratings in the dataset"
   ]
  },
  {
   "cell_type": "code",
   "execution_count": 21,
   "metadata": {},
   "outputs": [
    {
     "name": "stdout",
     "output_type": "stream",
     "text": [
      "No. of unique ratings in the datset =  5\n",
      "Ratings given by users to products:  [5. 1. 3. 2. 4.]\n"
     ]
    }
   ],
   "source": [
    "print(\"No. of unique ratings in the datset = \",len(data['ratings'].unique()))\n",
    "print(\"Ratings given by users to products: \",data['ratings'].unique())"
   ]
  },
  {
   "cell_type": "markdown",
   "metadata": {},
   "source": [
    "### value counts of each rating given by users"
   ]
  },
  {
   "cell_type": "code",
   "execution_count": 22,
   "metadata": {},
   "outputs": [
    {
     "data": {
      "text/plain": [
       "5.0    4347541\n",
       "4.0    1485781\n",
       "1.0     901765\n",
       "3.0     633073\n",
       "2.0     456322\n",
       "Name: ratings, dtype: int64"
      ]
     },
     "execution_count": 22,
     "metadata": {},
     "output_type": "execute_result"
    }
   ],
   "source": [
    "data['ratings'].value_counts()"
   ]
  },
  {
   "cell_type": "markdown",
   "metadata": {},
   "source": [
    "### Countplot showing value counts of each rating"
   ]
  },
  {
   "cell_type": "code",
   "execution_count": 23,
   "metadata": {
    "scrolled": true
   },
   "outputs": [
    {
     "data": {
      "image/png": "[encoded data removed]",
      "text/plain": [
       "<Figure size 432x288 with 1 Axes>"
      ]
     },
     "metadata": {
      "needs_background": "light"
     },
     "output_type": "display_data"
    }
   ],
   "source": [
    "sns.countplot(x='ratings',data=data)\n",
    "plt.show()"
   ]
  },
  {
   "cell_type": "markdown",
   "metadata": {},
   "source": [
    "#### <font color=brown>Observations from value counts of ratings :</font>\n",
    "- <font color=brown>5.0 rating was given the maximum number of times, which is 55.5% in the whole dataset</font>\n",
    "- <font color=brown>4.0 rating was given the next highest number of times, which is 18.98%</font>\n",
    "- <font color=brown>The rating 1.0 was given 11.52% number of times and rating 3.0 was given 8.09% number of times</font>\n",
    "- <font color=brown>Rating 2.0 was given the least number of times which is 5.83%</font>"
   ]
  },
  {
   "cell_type": "markdown",
   "metadata": {},
   "source": [
    "### Distribution of mean ratings given by users and joint plot of mean ratings given by users and the no of ratings "
   ]
  },
  {
   "cell_type": "code",
   "execution_count": 24,
   "metadata": {},
   "outputs": [
    {
     "data": {
      "text/html": [
       "<div>\n",
       "<style scoped>\n",
       "    .dataframe tbody tr th:only-of-type {\n",
       "        vertical-align: middle;\n",
       "    }\n",
       "\n",
       "    .dataframe tbody tr th {\n",
       "        vertical-align: top;\n",
       "    }\n",
       "\n",
       "    .dataframe thead th {\n",
       "        text-align: right;\n",
       "    }\n",
       "</style>\n",
       "<table border=\"1\" class=\"dataframe\">\n",
       "  <thead>\n",
       "    <tr style=\"text-align: right;\">\n",
       "      <th></th>\n",
       "      <th>ratings</th>\n",
       "      <th>no_of_ratings</th>\n",
       "    </tr>\n",
       "    <tr>\n",
       "      <th>userId</th>\n",
       "      <th></th>\n",
       "      <th></th>\n",
       "    </tr>\n",
       "  </thead>\n",
       "  <tbody>\n",
       "    <tr>\n",
       "      <th>A00000262KYZUE4J55XGL</th>\n",
       "      <td>5.0</td>\n",
       "      <td>1</td>\n",
       "    </tr>\n",
       "    <tr>\n",
       "      <th>A000063614T1OE0BUSKUT</th>\n",
       "      <td>5.0</td>\n",
       "      <td>2</td>\n",
       "    </tr>\n",
       "    <tr>\n",
       "      <th>A00009182QVLSWIGHLS1B</th>\n",
       "      <td>5.0</td>\n",
       "      <td>1</td>\n",
       "    </tr>\n",
       "    <tr>\n",
       "      <th>A00009661LC9LQPGKJ24G</th>\n",
       "      <td>5.0</td>\n",
       "      <td>1</td>\n",
       "    </tr>\n",
       "    <tr>\n",
       "      <th>A00010809P09NUU6ZP6H</th>\n",
       "      <td>5.0</td>\n",
       "      <td>1</td>\n",
       "    </tr>\n",
       "  </tbody>\n",
       "</table>\n",
       "</div>"
      ],
      "text/plain": [
       "                       ratings  no_of_ratings\n",
       "userId                                       \n",
       "A00000262KYZUE4J55XGL      5.0              1\n",
       "A000063614T1OE0BUSKUT      5.0              2\n",
       "A00009182QVLSWIGHLS1B      5.0              1\n",
       "A00009661LC9LQPGKJ24G      5.0              1\n",
       "A00010809P09NUU6ZP6H       5.0              1"
      ]
     },
     "execution_count": 24,
     "metadata": {},
     "output_type": "execute_result"
    }
   ],
   "source": [
    "data_user_mean = pd.DataFrame(data.groupby(by='userId')['ratings'].mean())\n",
    "data_user_mean['no_of_ratings'] = data.groupby(by='userId')['ratings'].count()\n",
    "data_user_mean.head()"
   ]
  },
  {
   "cell_type": "code",
   "execution_count": 25,
   "metadata": {},
   "outputs": [
    {
     "data": {
      "image/png": "[encoded data removed]",
      "text/plain": [
       "<Figure size 432x288 with 1 Axes>"
      ]
     },
     "metadata": {
      "needs_background": "light"
     },
     "output_type": "display_data"
    }
   ],
   "source": [
    "data_user_mean['ratings'].hist(bins=10)\n",
    "plt.show()"
   ]
  },
  {
   "cell_type": "code",
   "execution_count": 26,
   "metadata": {
    "scrolled": true
   },
   "outputs": [
    {
     "data": {
      "image/png": "[encoded data removed]",
      "text/plain": [
       "<Figure size 432x432 with 3 Axes>"
      ]
     },
     "metadata": {
      "needs_background": "light"
     },
     "output_type": "display_data"
    }
   ],
   "source": [
    "sns.jointplot(x='ratings', y='no_of_ratings', data=data_user_mean)\n",
    "plt.show()"
   ]
  },
  {
   "cell_type": "markdown",
   "metadata": {},
   "source": [
    "#### <font color=brown>Observations from histogram and jointplot  :</font>\n",
    "- <font color=brown>Histogram of mean ratings shows that most of the ratings given by users are between 3.5 and 5.0</font>\n",
    "- <font color=brown>A jointplot of the mean ratings given by the users and number of ratings given shows that as the rating increases from 1.0 to 5.0 the number of ratings given also increses</font>\n",
    "- <font color=brown>One user has given maximum number of ratings above 500 and two users have given number of ratings very close to 500</font>\n",
    "- <font color=brown>Three users have given total ratings between 300 to 400</font>"
   ]
  },
  {
   "cell_type": "markdown",
   "metadata": {},
   "source": [
    "### Distribution of mean ratings given to products and jointplot of mean ratings given to products and no of ratings "
   ]
  },
  {
   "cell_type": "code",
   "execution_count": 27,
   "metadata": {},
   "outputs": [
    {
     "data": {
      "text/html": [
       "<div>\n",
       "<style scoped>\n",
       "    .dataframe tbody tr th:only-of-type {\n",
       "        vertical-align: middle;\n",
       "    }\n",
       "\n",
       "    .dataframe tbody tr th {\n",
       "        vertical-align: top;\n",
       "    }\n",
       "\n",
       "    .dataframe thead th {\n",
       "        text-align: right;\n",
       "    }\n",
       "</style>\n",
       "<table border=\"1\" class=\"dataframe\">\n",
       "  <thead>\n",
       "    <tr style=\"text-align: right;\">\n",
       "      <th></th>\n",
       "      <th>ratings</th>\n",
       "      <th>no_of_ratings</th>\n",
       "    </tr>\n",
       "    <tr>\n",
       "      <th>productId</th>\n",
       "      <th></th>\n",
       "      <th></th>\n",
       "    </tr>\n",
       "  </thead>\n",
       "  <tbody>\n",
       "    <tr>\n",
       "      <th>0132793040</th>\n",
       "      <td>5.000000</td>\n",
       "      <td>1</td>\n",
       "    </tr>\n",
       "    <tr>\n",
       "      <th>0321732944</th>\n",
       "      <td>5.000000</td>\n",
       "      <td>1</td>\n",
       "    </tr>\n",
       "    <tr>\n",
       "      <th>0439886341</th>\n",
       "      <td>1.666667</td>\n",
       "      <td>3</td>\n",
       "    </tr>\n",
       "    <tr>\n",
       "      <th>0511189877</th>\n",
       "      <td>4.500000</td>\n",
       "      <td>6</td>\n",
       "    </tr>\n",
       "    <tr>\n",
       "      <th>0528881469</th>\n",
       "      <td>2.851852</td>\n",
       "      <td>27</td>\n",
       "    </tr>\n",
       "  </tbody>\n",
       "</table>\n",
       "</div>"
      ],
      "text/plain": [
       "             ratings  no_of_ratings\n",
       "productId                          \n",
       "0132793040  5.000000              1\n",
       "0321732944  5.000000              1\n",
       "0439886341  1.666667              3\n",
       "0511189877  4.500000              6\n",
       "0528881469  2.851852             27"
      ]
     },
     "execution_count": 27,
     "metadata": {},
     "output_type": "execute_result"
    }
   ],
   "source": [
    "data_product_mean = pd.DataFrame(data.groupby(by='productId')['ratings'].mean())\n",
    "data_product_mean['no_of_ratings'] = data.groupby(by='productId')['ratings'].count()\n",
    "data_product_mean.head()"
   ]
  },
  {
   "cell_type": "code",
   "execution_count": 28,
   "metadata": {},
   "outputs": [
    {
     "data": {
      "image/png": "[encoded data removed]",
      "text/plain": [
       "<Figure size 432x288 with 1 Axes>"
      ]
     },
     "metadata": {
      "needs_background": "light"
     },
     "output_type": "display_data"
    }
   ],
   "source": [
    "data_product_mean['ratings'].hist(bins=10)\n",
    "plt.show()"
   ]
  },
  {
   "cell_type": "code",
   "execution_count": 29,
   "metadata": {},
   "outputs": [
    {
     "data": {
      "image/png": "[encoded data removed]",
      "text/plain": [
       "<Figure size 432x432 with 3 Axes>"
      ]
     },
     "metadata": {
      "needs_background": "light"
     },
     "output_type": "display_data"
    }
   ],
   "source": [
    "sns.jointplot(x='ratings', y='no_of_ratings', data=data_product_mean)\n",
    "plt.show()"
   ]
  },
  {
   "cell_type": "markdown",
   "metadata": {},
   "source": [
    "#### <font color=brown>Observations from histogram and jointplot :</font>\n",
    "- <font color=brown>Histogram of mean ratings shows that most of the ratings given to products are between 3.5 and 5.0</font>\n",
    "- <font color=brown>A jointplot of the mean ratings given to products and number of ratings given shows that as the rating increases from 1.0 to 5.0 the number of ratings given also increses</font>\n",
    "- <font color=brown>One product has been given maximum number of ratings above 17500, one product has been given number of ratings between 15000 and 17500</font>\n",
    "- <font color=brown>One product has been given number of ratings between 12500 to 15000</font>"
   ]
  },
  {
   "cell_type": "markdown",
   "metadata": {},
   "source": [
    "### Create a dataset with only the users who has given 50 or more number of ratings"
   ]
  },
  {
   "cell_type": "code",
   "execution_count": 30,
   "metadata": {},
   "outputs": [
    {
     "name": "stdout",
     "output_type": "stream",
     "text": [
      "Number of users who have given 50 or more ratings :\n"
     ]
    },
    {
     "data": {
      "text/plain": [
       "1540"
      ]
     },
     "execution_count": 30,
     "metadata": {},
     "output_type": "execute_result"
    }
   ],
   "source": [
    "#Count of users who has given 50 or more number of ratings\n",
    "\n",
    "print(\"Number of users who have given 50 or more ratings :\")\n",
    "(data.groupby(by='userId')['ratings'].count() >= 50).sum()"
   ]
  },
  {
   "cell_type": "code",
   "execution_count": 31,
   "metadata": {},
   "outputs": [],
   "source": [
    "user_ratings_count = pd.DataFrame(data.groupby(by='userId', as_index=False)['ratings'].count())"
   ]
  },
  {
   "cell_type": "code",
   "execution_count": 32,
   "metadata": {},
   "outputs": [
    {
     "data": {
      "text/plain": [
       "(4201696, 2)"
      ]
     },
     "execution_count": 32,
     "metadata": {},
     "output_type": "execute_result"
    }
   ],
   "source": [
    "user_ratings_count.shape"
   ]
  },
  {
   "cell_type": "markdown",
   "metadata": {},
   "source": [
    "### Showing the Top 10 users who have given the maximum ratings for the products "
   ]
  },
  {
   "cell_type": "code",
   "execution_count": 33,
   "metadata": {},
   "outputs": [
    {
     "data": {
      "text/html": [
       "<div>\n",
       "<style scoped>\n",
       "    .dataframe tbody tr th:only-of-type {\n",
       "        vertical-align: middle;\n",
       "    }\n",
       "\n",
       "    .dataframe tbody tr th {\n",
       "        vertical-align: top;\n",
       "    }\n",
       "\n",
       "    .dataframe thead th {\n",
       "        text-align: right;\n",
       "    }\n",
       "</style>\n",
       "<table border=\"1\" class=\"dataframe\">\n",
       "  <thead>\n",
       "    <tr style=\"text-align: right;\">\n",
       "      <th></th>\n",
       "      <th>userId</th>\n",
       "      <th>ratings</th>\n",
       "    </tr>\n",
       "  </thead>\n",
       "  <tbody>\n",
       "    <tr>\n",
       "      <th>3263531</th>\n",
       "      <td>A5JLAU2ARJ0BO</td>\n",
       "      <td>520</td>\n",
       "    </tr>\n",
       "    <tr>\n",
       "      <th>3512451</th>\n",
       "      <td>ADLVFFE4VBT8</td>\n",
       "      <td>501</td>\n",
       "    </tr>\n",
       "    <tr>\n",
       "      <th>2989526</th>\n",
       "      <td>A3OXHLG6DIBRW8</td>\n",
       "      <td>498</td>\n",
       "    </tr>\n",
       "    <tr>\n",
       "      <th>3291008</th>\n",
       "      <td>A6FIAB28IS79</td>\n",
       "      <td>431</td>\n",
       "    </tr>\n",
       "    <tr>\n",
       "      <th>3284634</th>\n",
       "      <td>A680RUE1FDO8B</td>\n",
       "      <td>406</td>\n",
       "    </tr>\n",
       "    <tr>\n",
       "      <th>755206</th>\n",
       "      <td>A1ODOGXEYECQQ8</td>\n",
       "      <td>380</td>\n",
       "    </tr>\n",
       "    <tr>\n",
       "      <th>2424036</th>\n",
       "      <td>A36K2N527TXXJN</td>\n",
       "      <td>314</td>\n",
       "    </tr>\n",
       "    <tr>\n",
       "      <th>1451394</th>\n",
       "      <td>A2AY4YUOX2N1BQ</td>\n",
       "      <td>311</td>\n",
       "    </tr>\n",
       "    <tr>\n",
       "      <th>4100926</th>\n",
       "      <td>AWPODHOB4GFWL</td>\n",
       "      <td>308</td>\n",
       "    </tr>\n",
       "    <tr>\n",
       "      <th>1277963</th>\n",
       "      <td>A25C2M3QF9G7OQ</td>\n",
       "      <td>296</td>\n",
       "    </tr>\n",
       "  </tbody>\n",
       "</table>\n",
       "</div>"
      ],
      "text/plain": [
       "                 userId  ratings\n",
       "3263531   A5JLAU2ARJ0BO      520\n",
       "3512451    ADLVFFE4VBT8      501\n",
       "2989526  A3OXHLG6DIBRW8      498\n",
       "3291008    A6FIAB28IS79      431\n",
       "3284634   A680RUE1FDO8B      406\n",
       "755206   A1ODOGXEYECQQ8      380\n",
       "2424036  A36K2N527TXXJN      314\n",
       "1451394  A2AY4YUOX2N1BQ      311\n",
       "4100926   AWPODHOB4GFWL      308\n",
       "1277963  A25C2M3QF9G7OQ      296"
      ]
     },
     "execution_count": 33,
     "metadata": {},
     "output_type": "execute_result"
    }
   ],
   "source": [
    "user_ratings_count.sort_values(by='ratings', ascending=False).head(10)"
   ]
  },
  {
   "cell_type": "markdown",
   "metadata": {},
   "source": [
    "#### <font color=brown>Observation on top 10 users:</font>\n",
    "- <font color=brown>The userid 'A5JLAU2ARJ0BO' has given a maximum of 520 ratings to the products an dthe user 'ADLVFFE4VBT8' has given 501 ratings to the products</font>"
   ]
  },
  {
   "cell_type": "markdown",
   "metadata": {},
   "source": [
    "### Create a dataset with only the products which have been rated 50 or more number of times"
   ]
  },
  {
   "cell_type": "code",
   "execution_count": 34,
   "metadata": {},
   "outputs": [
    {
     "name": "stdout",
     "output_type": "stream",
     "text": [
      "Number of products which have been rated 50 or more times :\n"
     ]
    },
    {
     "data": {
      "text/plain": [
       "26226"
      ]
     },
     "execution_count": 34,
     "metadata": {},
     "output_type": "execute_result"
    }
   ],
   "source": [
    "#Count of products which have been rated 50 or more number of times\n",
    "\n",
    "print(\"Number of products which have been rated 50 or more times :\")\n",
    "(data.groupby(by='productId')['ratings'].count() >= 50).sum()"
   ]
  },
  {
   "cell_type": "code",
   "execution_count": 35,
   "metadata": {},
   "outputs": [],
   "source": [
    "product_ratings_count = pd.DataFrame(data.groupby(by='productId', as_index=False)['ratings'].count())"
   ]
  },
  {
   "cell_type": "code",
   "execution_count": 36,
   "metadata": {},
   "outputs": [
    {
     "data": {
      "text/plain": [
       "(476002, 2)"
      ]
     },
     "execution_count": 36,
     "metadata": {},
     "output_type": "execute_result"
    }
   ],
   "source": [
    "product_ratings_count.shape"
   ]
  },
  {
   "cell_type": "markdown",
   "metadata": {},
   "source": [
    "### Showing the Top 10 products which have been rated the Maximum number of times "
   ]
  },
  {
   "cell_type": "code",
   "execution_count": 37,
   "metadata": {},
   "outputs": [
    {
     "data": {
      "text/html": [
       "<div>\n",
       "<style scoped>\n",
       "    .dataframe tbody tr th:only-of-type {\n",
       "        vertical-align: middle;\n",
       "    }\n",
       "\n",
       "    .dataframe tbody tr th {\n",
       "        vertical-align: top;\n",
       "    }\n",
       "\n",
       "    .dataframe thead th {\n",
       "        text-align: right;\n",
       "    }\n",
       "</style>\n",
       "<table border=\"1\" class=\"dataframe\">\n",
       "  <thead>\n",
       "    <tr style=\"text-align: right;\">\n",
       "      <th></th>\n",
       "      <th>productId</th>\n",
       "      <th>ratings</th>\n",
       "    </tr>\n",
       "  </thead>\n",
       "  <tbody>\n",
       "    <tr>\n",
       "      <th>308398</th>\n",
       "      <td>B0074BW614</td>\n",
       "      <td>18244</td>\n",
       "    </tr>\n",
       "    <tr>\n",
       "      <th>429572</th>\n",
       "      <td>B00DR0PDNE</td>\n",
       "      <td>16454</td>\n",
       "    </tr>\n",
       "    <tr>\n",
       "      <th>327308</th>\n",
       "      <td>B007WTAJTO</td>\n",
       "      <td>14172</td>\n",
       "    </tr>\n",
       "    <tr>\n",
       "      <th>102804</th>\n",
       "      <td>B0019EHU8G</td>\n",
       "      <td>12285</td>\n",
       "    </tr>\n",
       "    <tr>\n",
       "      <th>296625</th>\n",
       "      <td>B006GWO5WK</td>\n",
       "      <td>12226</td>\n",
       "    </tr>\n",
       "    <tr>\n",
       "      <th>178601</th>\n",
       "      <td>B003ELYQGG</td>\n",
       "      <td>11617</td>\n",
       "    </tr>\n",
       "    <tr>\n",
       "      <th>178813</th>\n",
       "      <td>B003ES5ZUU</td>\n",
       "      <td>10276</td>\n",
       "    </tr>\n",
       "    <tr>\n",
       "      <th>323013</th>\n",
       "      <td>B007R5YDYA</td>\n",
       "      <td>9907</td>\n",
       "    </tr>\n",
       "    <tr>\n",
       "      <th>289775</th>\n",
       "      <td>B00622AG6S</td>\n",
       "      <td>9823</td>\n",
       "    </tr>\n",
       "    <tr>\n",
       "      <th>30276</th>\n",
       "      <td>B0002L5R78</td>\n",
       "      <td>9487</td>\n",
       "    </tr>\n",
       "  </tbody>\n",
       "</table>\n",
       "</div>"
      ],
      "text/plain": [
       "         productId  ratings\n",
       "308398  B0074BW614    18244\n",
       "429572  B00DR0PDNE    16454\n",
       "327308  B007WTAJTO    14172\n",
       "102804  B0019EHU8G    12285\n",
       "296625  B006GWO5WK    12226\n",
       "178601  B003ELYQGG    11617\n",
       "178813  B003ES5ZUU    10276\n",
       "323013  B007R5YDYA     9907\n",
       "289775  B00622AG6S     9823\n",
       "30276   B0002L5R78     9487"
      ]
     },
     "execution_count": 37,
     "metadata": {},
     "output_type": "execute_result"
    }
   ],
   "source": [
    "product_ratings_count.sort_values(by='ratings', ascending=False).head(10)"
   ]
  },
  {
   "cell_type": "markdown",
   "metadata": {},
   "source": [
    "#### <font color=brown>Observation on top 10 products:</font>\n",
    "- <font color=brown>The product 'B0074BW614'was rated the maximum number of 18244 times by the users. The product 'B00DR0PDNE'was rated 16454 times by users</font>"
   ]
  },
  {
   "cell_type": "markdown",
   "metadata": {},
   "source": [
    "### Create a subset of the dataset to make it less sparse/more dense.Keep only the users who have given 50 or more ratings to the products and ignore the rest"
   ]
  },
  {
   "cell_type": "code",
   "execution_count": 38,
   "metadata": {},
   "outputs": [
    {
     "data": {
      "text/plain": [
       "(1540, 2)"
      ]
     },
     "execution_count": 38,
     "metadata": {},
     "output_type": "execute_result"
    }
   ],
   "source": [
    "#We have already created user_ratings_count dataset which has users with the counts of user ratings.\n",
    "\n",
    "user_ratings_count[(user_ratings_count['ratings']>=50)].shape"
   ]
  },
  {
   "cell_type": "code",
   "execution_count": 39,
   "metadata": {},
   "outputs": [],
   "source": [
    "#Create a DataFrame with users who have given 50 or more ratings\n",
    "\n",
    "data_df = data[data['userId'].isin(user_ratings_count.loc[(user_ratings_count['ratings']>=50), 'userId'])]"
   ]
  },
  {
   "cell_type": "code",
   "execution_count": 40,
   "metadata": {},
   "outputs": [],
   "source": [
    "#Reset the index of the new DataFrame\n",
    "\n",
    "data_df.reset_index(drop=True, inplace=True)"
   ]
  },
  {
   "cell_type": "code",
   "execution_count": 41,
   "metadata": {},
   "outputs": [
    {
     "data": {
      "text/plain": [
       "(125871, 3)"
      ]
     },
     "execution_count": 41,
     "metadata": {},
     "output_type": "execute_result"
    }
   ],
   "source": [
    "#The shape of the new DataFrame which has 125871 users\n",
    "\n",
    "data_df.shape"
   ]
  },
  {
   "cell_type": "code",
   "execution_count": 42,
   "metadata": {},
   "outputs": [
    {
     "data": {
      "text/html": [
       "<div>\n",
       "<style scoped>\n",
       "    .dataframe tbody tr th:only-of-type {\n",
       "        vertical-align: middle;\n",
       "    }\n",
       "\n",
       "    .dataframe tbody tr th {\n",
       "        vertical-align: top;\n",
       "    }\n",
       "\n",
       "    .dataframe thead th {\n",
       "        text-align: right;\n",
       "    }\n",
       "</style>\n",
       "<table border=\"1\" class=\"dataframe\">\n",
       "  <thead>\n",
       "    <tr style=\"text-align: right;\">\n",
       "      <th></th>\n",
       "      <th>userId</th>\n",
       "      <th>productId</th>\n",
       "      <th>ratings</th>\n",
       "    </tr>\n",
       "  </thead>\n",
       "  <tbody>\n",
       "    <tr>\n",
       "      <th>0</th>\n",
       "      <td>A3BY5KCNQZXV5U</td>\n",
       "      <td>0594451647</td>\n",
       "      <td>5.0</td>\n",
       "    </tr>\n",
       "    <tr>\n",
       "      <th>1</th>\n",
       "      <td>AT09WGFUM934H</td>\n",
       "      <td>0594481813</td>\n",
       "      <td>3.0</td>\n",
       "    </tr>\n",
       "    <tr>\n",
       "      <th>2</th>\n",
       "      <td>A32HSNCNPRUMTR</td>\n",
       "      <td>0970407998</td>\n",
       "      <td>1.0</td>\n",
       "    </tr>\n",
       "    <tr>\n",
       "      <th>3</th>\n",
       "      <td>A17HMM1M7T9PJ1</td>\n",
       "      <td>0970407998</td>\n",
       "      <td>4.0</td>\n",
       "    </tr>\n",
       "    <tr>\n",
       "      <th>4</th>\n",
       "      <td>A3CLWR1UUZT6TG</td>\n",
       "      <td>0972683275</td>\n",
       "      <td>5.0</td>\n",
       "    </tr>\n",
       "  </tbody>\n",
       "</table>\n",
       "</div>"
      ],
      "text/plain": [
       "           userId   productId  ratings\n",
       "0  A3BY5KCNQZXV5U  0594451647      5.0\n",
       "1   AT09WGFUM934H  0594481813      3.0\n",
       "2  A32HSNCNPRUMTR  0970407998      1.0\n",
       "3  A17HMM1M7T9PJ1  0970407998      4.0\n",
       "4  A3CLWR1UUZT6TG  0972683275      5.0"
      ]
     },
     "execution_count": 42,
     "metadata": {},
     "output_type": "execute_result"
    }
   ],
   "source": [
    "data_df.head()"
   ]
  },
  {
   "cell_type": "code",
   "execution_count": 43,
   "metadata": {},
   "outputs": [
    {
     "data": {
      "text/html": [
       "<div>\n",
       "<style scoped>\n",
       "    .dataframe tbody tr th:only-of-type {\n",
       "        vertical-align: middle;\n",
       "    }\n",
       "\n",
       "    .dataframe tbody tr th {\n",
       "        vertical-align: top;\n",
       "    }\n",
       "\n",
       "    .dataframe thead th {\n",
       "        text-align: right;\n",
       "    }\n",
       "</style>\n",
       "<table border=\"1\" class=\"dataframe\">\n",
       "  <thead>\n",
       "    <tr style=\"text-align: right;\">\n",
       "      <th></th>\n",
       "      <th>userId</th>\n",
       "      <th>productId</th>\n",
       "      <th>ratings</th>\n",
       "    </tr>\n",
       "  </thead>\n",
       "  <tbody>\n",
       "    <tr>\n",
       "      <th>125866</th>\n",
       "      <td>A1E1LEVQ9VQNK</td>\n",
       "      <td>B00LGQ6HL8</td>\n",
       "      <td>5.0</td>\n",
       "    </tr>\n",
       "    <tr>\n",
       "      <th>125867</th>\n",
       "      <td>A2NYK9KWFMJV4Y</td>\n",
       "      <td>B00LGQ6HL8</td>\n",
       "      <td>5.0</td>\n",
       "    </tr>\n",
       "    <tr>\n",
       "      <th>125868</th>\n",
       "      <td>A3AYSYSLHU26U9</td>\n",
       "      <td>B00LI4ZZO8</td>\n",
       "      <td>4.0</td>\n",
       "    </tr>\n",
       "    <tr>\n",
       "      <th>125869</th>\n",
       "      <td>A2NYK9KWFMJV4Y</td>\n",
       "      <td>B00LI4ZZO8</td>\n",
       "      <td>5.0</td>\n",
       "    </tr>\n",
       "    <tr>\n",
       "      <th>125870</th>\n",
       "      <td>A2BYV7S1QP2YIG</td>\n",
       "      <td>B00LKG1MC8</td>\n",
       "      <td>5.0</td>\n",
       "    </tr>\n",
       "  </tbody>\n",
       "</table>\n",
       "</div>"
      ],
      "text/plain": [
       "                userId   productId  ratings\n",
       "125866   A1E1LEVQ9VQNK  B00LGQ6HL8      5.0\n",
       "125867  A2NYK9KWFMJV4Y  B00LGQ6HL8      5.0\n",
       "125868  A3AYSYSLHU26U9  B00LI4ZZO8      4.0\n",
       "125869  A2NYK9KWFMJV4Y  B00LI4ZZO8      5.0\n",
       "125870  A2BYV7S1QP2YIG  B00LKG1MC8      5.0"
      ]
     },
     "execution_count": 43,
     "metadata": {},
     "output_type": "execute_result"
    }
   ],
   "source": [
    "data_df.tail()"
   ]
  },
  {
   "cell_type": "code",
   "execution_count": 44,
   "metadata": {},
   "outputs": [
    {
     "data": {
      "text/plain": [
       "5.0    71034\n",
       "4.0    32295\n",
       "3.0    12060\n",
       "2.0     5367\n",
       "1.0     5115\n",
       "Name: ratings, dtype: int64"
      ]
     },
     "execution_count": 44,
     "metadata": {},
     "output_type": "execute_result"
    }
   ],
   "source": [
    "data_df['ratings'].value_counts()"
   ]
  },
  {
   "cell_type": "code",
   "execution_count": 45,
   "metadata": {},
   "outputs": [
    {
     "data": {
      "image/png": "[encoded data removed]",
      "text/plain": [
       "<Figure size 432x288 with 1 Axes>"
      ]
     },
     "metadata": {
      "needs_background": "light"
     },
     "output_type": "display_data"
    }
   ],
   "source": [
    "sns.countplot(x='ratings',data=data_df)\n",
    "plt.show()"
   ]
  },
  {
   "cell_type": "markdown",
   "metadata": {},
   "source": [
    "## Building a Popularity based Recommender System"
   ]
  },
  {
   "cell_type": "markdown",
   "metadata": {},
   "source": [
    "### Create a class for Popularity based Recommender System model"
   ]
  },
  {
   "cell_type": "code",
   "execution_count": 46,
   "metadata": {},
   "outputs": [],
   "source": [
    "#Class for Popularity based Recommender System model\n",
    "\n",
    "class popularity_recommender_py():\n",
    "    def __init__(self):\n",
    "        self.train_data = None\n",
    "        self.userId = None\n",
    "        self.productId = None\n",
    "        self.n_recommendations = None\n",
    "        self.popularity_recommendations = None\n",
    "        \n",
    "    #Create the popularity based recommender system model\n",
    "    \n",
    "    def create(self, train_data, userId, productId, n_recommendations):\n",
    "        self.train_data = train_data\n",
    "        self.userId = userId\n",
    "        self.productId = productId\n",
    "        self.n_recommendations = n_recommendations\n",
    "\n",
    "        #Get a count of userIds for each unique product as recommendation score\n",
    "        train_data_grouped = train_data.groupby([self.productId]).agg({self.userId: 'count'}).reset_index()\n",
    "        train_data_grouped.rename(columns = {'userId': 'score'},inplace=True)\n",
    "    \n",
    "        #Sort the products based upon recommendation score\n",
    "        train_data_sort = train_data_grouped.sort_values(['score', self.productId], ascending = [0,1])\n",
    "    \n",
    "        #Generate a recommendation rank based upon score\n",
    "        train_data_sort['Rank'] = train_data_sort['score'].rank(ascending=0, method='first')\n",
    "        \n",
    "        #Get the top 10 recommendations\n",
    "        self.popularity_recommendations = train_data_sort.head(n_recommendations)\n",
    "\n",
    "    #Use the popularity based recommender system model to\n",
    "    #make recommendations\n",
    "    \n",
    "    def recommend(self, userId):    \n",
    "        user_recommendations = self.popularity_recommendations        \n",
    "        #print(user_recommendations)\n",
    "        \n",
    "        #Add userId column for which the recommendations are being generated\n",
    "        user_recommendations['userId'] = userId\n",
    "        #print(user_recommendations['userId'])\n",
    "        \n",
    "        #Bring userId column to the front\n",
    "        cols = user_recommendations.columns.tolist()\n",
    "        cols = cols[-1:] + cols[:-1]\n",
    "        #print(user_recommendations[cols])\n",
    "        \n",
    "        user_recommendations = user_recommendations[cols]\n",
    "        return user_recommendations\n",
    "    "
   ]
  },
  {
   "cell_type": "markdown",
   "metadata": {},
   "source": [
    "### Create an instance of popularity based recommender class"
   ]
  },
  {
   "cell_type": "code",
   "execution_count": 47,
   "metadata": {},
   "outputs": [],
   "source": [
    "#Top k Recommendations to be given where k=5\n",
    "n_recommendations=10\n",
    "\n",
    "#Create instance of Popularity based Recommender system \n",
    "popularity_model = popularity_recommender_py()"
   ]
  },
  {
   "cell_type": "markdown",
   "metadata": {},
   "source": [
    "### Create a Popularity based Product Recommender"
   ]
  },
  {
   "cell_type": "code",
   "execution_count": 48,
   "metadata": {},
   "outputs": [],
   "source": [
    "popularity_model.create(data_df, 'userId', 'productId', n_recommendations)"
   ]
  },
  {
   "cell_type": "code",
   "execution_count": 49,
   "metadata": {},
   "outputs": [
    {
     "data": {
      "text/html": [
       "<div>\n",
       "<style scoped>\n",
       "    .dataframe tbody tr th:only-of-type {\n",
       "        vertical-align: middle;\n",
       "    }\n",
       "\n",
       "    .dataframe tbody tr th {\n",
       "        vertical-align: top;\n",
       "    }\n",
       "\n",
       "    .dataframe thead th {\n",
       "        text-align: right;\n",
       "    }\n",
       "</style>\n",
       "<table border=\"1\" class=\"dataframe\">\n",
       "  <thead>\n",
       "    <tr style=\"text-align: right;\">\n",
       "      <th></th>\n",
       "      <th>userId</th>\n",
       "      <th>productId</th>\n",
       "      <th>score</th>\n",
       "      <th>Rank</th>\n",
       "    </tr>\n",
       "  </thead>\n",
       "  <tbody>\n",
       "    <tr>\n",
       "      <th>39003</th>\n",
       "      <td>A1S7BFT0HDF3HA</td>\n",
       "      <td>B0088CJT4U</td>\n",
       "      <td>206</td>\n",
       "      <td>1.0</td>\n",
       "    </tr>\n",
       "    <tr>\n",
       "      <th>24827</th>\n",
       "      <td>A1S7BFT0HDF3HA</td>\n",
       "      <td>B003ES5ZUU</td>\n",
       "      <td>184</td>\n",
       "      <td>2.0</td>\n",
       "    </tr>\n",
       "    <tr>\n",
       "      <th>11078</th>\n",
       "      <td>A1S7BFT0HDF3HA</td>\n",
       "      <td>B000N99BBC</td>\n",
       "      <td>167</td>\n",
       "      <td>3.0</td>\n",
       "    </tr>\n",
       "    <tr>\n",
       "      <th>38250</th>\n",
       "      <td>A1S7BFT0HDF3HA</td>\n",
       "      <td>B007WTAJTO</td>\n",
       "      <td>164</td>\n",
       "      <td>4.0</td>\n",
       "    </tr>\n",
       "    <tr>\n",
       "      <th>38615</th>\n",
       "      <td>A1S7BFT0HDF3HA</td>\n",
       "      <td>B00829TIEK</td>\n",
       "      <td>149</td>\n",
       "      <td>5.0</td>\n",
       "    </tr>\n",
       "    <tr>\n",
       "      <th>38611</th>\n",
       "      <td>A1S7BFT0HDF3HA</td>\n",
       "      <td>B00829THK0</td>\n",
       "      <td>137</td>\n",
       "      <td>6.0</td>\n",
       "    </tr>\n",
       "    <tr>\n",
       "      <th>39338</th>\n",
       "      <td>A1S7BFT0HDF3HA</td>\n",
       "      <td>B008DWCRQW</td>\n",
       "      <td>137</td>\n",
       "      <td>7.0</td>\n",
       "    </tr>\n",
       "    <tr>\n",
       "      <th>21982</th>\n",
       "      <td>A1S7BFT0HDF3HA</td>\n",
       "      <td>B002R5AM7C</td>\n",
       "      <td>128</td>\n",
       "      <td>8.0</td>\n",
       "    </tr>\n",
       "    <tr>\n",
       "      <th>28761</th>\n",
       "      <td>A1S7BFT0HDF3HA</td>\n",
       "      <td>B004CLYEDC</td>\n",
       "      <td>118</td>\n",
       "      <td>9.0</td>\n",
       "    </tr>\n",
       "    <tr>\n",
       "      <th>22210</th>\n",
       "      <td>A1S7BFT0HDF3HA</td>\n",
       "      <td>B002SZEOLG</td>\n",
       "      <td>113</td>\n",
       "      <td>10.0</td>\n",
       "    </tr>\n",
       "  </tbody>\n",
       "</table>\n",
       "</div>"
      ],
      "text/plain": [
       "               userId   productId  score  Rank\n",
       "39003  A1S7BFT0HDF3HA  B0088CJT4U    206   1.0\n",
       "24827  A1S7BFT0HDF3HA  B003ES5ZUU    184   2.0\n",
       "11078  A1S7BFT0HDF3HA  B000N99BBC    167   3.0\n",
       "38250  A1S7BFT0HDF3HA  B007WTAJTO    164   4.0\n",
       "38615  A1S7BFT0HDF3HA  B00829TIEK    149   5.0\n",
       "38611  A1S7BFT0HDF3HA  B00829THK0    137   6.0\n",
       "39338  A1S7BFT0HDF3HA  B008DWCRQW    137   7.0\n",
       "21982  A1S7BFT0HDF3HA  B002R5AM7C    128   8.0\n",
       "28761  A1S7BFT0HDF3HA  B004CLYEDC    118   9.0\n",
       "22210  A1S7BFT0HDF3HA  B002SZEOLG    113  10.0"
      ]
     },
     "execution_count": 49,
     "metadata": {},
     "output_type": "execute_result"
    }
   ],
   "source": [
    "user_id = data_df.loc[2450,'userId']\n",
    "popularity_model.recommend(user_id)"
   ]
  },
  {
   "cell_type": "code",
   "execution_count": 50,
   "metadata": {},
   "outputs": [
    {
     "data": {
      "text/html": [
       "<div>\n",
       "<style scoped>\n",
       "    .dataframe tbody tr th:only-of-type {\n",
       "        vertical-align: middle;\n",
       "    }\n",
       "\n",
       "    .dataframe tbody tr th {\n",
       "        vertical-align: top;\n",
       "    }\n",
       "\n",
       "    .dataframe thead th {\n",
       "        text-align: right;\n",
       "    }\n",
       "</style>\n",
       "<table border=\"1\" class=\"dataframe\">\n",
       "  <thead>\n",
       "    <tr style=\"text-align: right;\">\n",
       "      <th></th>\n",
       "      <th>userId</th>\n",
       "      <th>productId</th>\n",
       "      <th>score</th>\n",
       "      <th>Rank</th>\n",
       "    </tr>\n",
       "  </thead>\n",
       "  <tbody>\n",
       "    <tr>\n",
       "      <th>39003</th>\n",
       "      <td>A30X750M8V1XXW</td>\n",
       "      <td>B0088CJT4U</td>\n",
       "      <td>206</td>\n",
       "      <td>1.0</td>\n",
       "    </tr>\n",
       "    <tr>\n",
       "      <th>24827</th>\n",
       "      <td>A30X750M8V1XXW</td>\n",
       "      <td>B003ES5ZUU</td>\n",
       "      <td>184</td>\n",
       "      <td>2.0</td>\n",
       "    </tr>\n",
       "    <tr>\n",
       "      <th>11078</th>\n",
       "      <td>A30X750M8V1XXW</td>\n",
       "      <td>B000N99BBC</td>\n",
       "      <td>167</td>\n",
       "      <td>3.0</td>\n",
       "    </tr>\n",
       "    <tr>\n",
       "      <th>38250</th>\n",
       "      <td>A30X750M8V1XXW</td>\n",
       "      <td>B007WTAJTO</td>\n",
       "      <td>164</td>\n",
       "      <td>4.0</td>\n",
       "    </tr>\n",
       "    <tr>\n",
       "      <th>38615</th>\n",
       "      <td>A30X750M8V1XXW</td>\n",
       "      <td>B00829TIEK</td>\n",
       "      <td>149</td>\n",
       "      <td>5.0</td>\n",
       "    </tr>\n",
       "    <tr>\n",
       "      <th>38611</th>\n",
       "      <td>A30X750M8V1XXW</td>\n",
       "      <td>B00829THK0</td>\n",
       "      <td>137</td>\n",
       "      <td>6.0</td>\n",
       "    </tr>\n",
       "    <tr>\n",
       "      <th>39338</th>\n",
       "      <td>A30X750M8V1XXW</td>\n",
       "      <td>B008DWCRQW</td>\n",
       "      <td>137</td>\n",
       "      <td>7.0</td>\n",
       "    </tr>\n",
       "    <tr>\n",
       "      <th>21982</th>\n",
       "      <td>A30X750M8V1XXW</td>\n",
       "      <td>B002R5AM7C</td>\n",
       "      <td>128</td>\n",
       "      <td>8.0</td>\n",
       "    </tr>\n",
       "    <tr>\n",
       "      <th>28761</th>\n",
       "      <td>A30X750M8V1XXW</td>\n",
       "      <td>B004CLYEDC</td>\n",
       "      <td>118</td>\n",
       "      <td>9.0</td>\n",
       "    </tr>\n",
       "    <tr>\n",
       "      <th>22210</th>\n",
       "      <td>A30X750M8V1XXW</td>\n",
       "      <td>B002SZEOLG</td>\n",
       "      <td>113</td>\n",
       "      <td>10.0</td>\n",
       "    </tr>\n",
       "  </tbody>\n",
       "</table>\n",
       "</div>"
      ],
      "text/plain": [
       "               userId   productId  score  Rank\n",
       "39003  A30X750M8V1XXW  B0088CJT4U    206   1.0\n",
       "24827  A30X750M8V1XXW  B003ES5ZUU    184   2.0\n",
       "11078  A30X750M8V1XXW  B000N99BBC    167   3.0\n",
       "38250  A30X750M8V1XXW  B007WTAJTO    164   4.0\n",
       "38615  A30X750M8V1XXW  B00829TIEK    149   5.0\n",
       "38611  A30X750M8V1XXW  B00829THK0    137   6.0\n",
       "39338  A30X750M8V1XXW  B008DWCRQW    137   7.0\n",
       "21982  A30X750M8V1XXW  B002R5AM7C    128   8.0\n",
       "28761  A30X750M8V1XXW  B004CLYEDC    118   9.0\n",
       "22210  A30X750M8V1XXW  B002SZEOLG    113  10.0"
      ]
     },
     "execution_count": 50,
     "metadata": {},
     "output_type": "execute_result"
    }
   ],
   "source": [
    "user_id = data_df.loc[38,'userId']\n",
    "popularity_model.recommend(user_id)"
   ]
  },
  {
   "cell_type": "code",
   "execution_count": 51,
   "metadata": {},
   "outputs": [
    {
     "data": {
      "text/html": [
       "<div>\n",
       "<style scoped>\n",
       "    .dataframe tbody tr th:only-of-type {\n",
       "        vertical-align: middle;\n",
       "    }\n",
       "\n",
       "    .dataframe tbody tr th {\n",
       "        vertical-align: top;\n",
       "    }\n",
       "\n",
       "    .dataframe thead th {\n",
       "        text-align: right;\n",
       "    }\n",
       "</style>\n",
       "<table border=\"1\" class=\"dataframe\">\n",
       "  <thead>\n",
       "    <tr style=\"text-align: right;\">\n",
       "      <th></th>\n",
       "      <th>userId</th>\n",
       "      <th>productId</th>\n",
       "      <th>score</th>\n",
       "      <th>Rank</th>\n",
       "    </tr>\n",
       "  </thead>\n",
       "  <tbody>\n",
       "    <tr>\n",
       "      <th>39003</th>\n",
       "      <td>A2X3L31KCXBHCL</td>\n",
       "      <td>B0088CJT4U</td>\n",
       "      <td>206</td>\n",
       "      <td>1.0</td>\n",
       "    </tr>\n",
       "    <tr>\n",
       "      <th>24827</th>\n",
       "      <td>A2X3L31KCXBHCL</td>\n",
       "      <td>B003ES5ZUU</td>\n",
       "      <td>184</td>\n",
       "      <td>2.0</td>\n",
       "    </tr>\n",
       "    <tr>\n",
       "      <th>11078</th>\n",
       "      <td>A2X3L31KCXBHCL</td>\n",
       "      <td>B000N99BBC</td>\n",
       "      <td>167</td>\n",
       "      <td>3.0</td>\n",
       "    </tr>\n",
       "    <tr>\n",
       "      <th>38250</th>\n",
       "      <td>A2X3L31KCXBHCL</td>\n",
       "      <td>B007WTAJTO</td>\n",
       "      <td>164</td>\n",
       "      <td>4.0</td>\n",
       "    </tr>\n",
       "    <tr>\n",
       "      <th>38615</th>\n",
       "      <td>A2X3L31KCXBHCL</td>\n",
       "      <td>B00829TIEK</td>\n",
       "      <td>149</td>\n",
       "      <td>5.0</td>\n",
       "    </tr>\n",
       "    <tr>\n",
       "      <th>38611</th>\n",
       "      <td>A2X3L31KCXBHCL</td>\n",
       "      <td>B00829THK0</td>\n",
       "      <td>137</td>\n",
       "      <td>6.0</td>\n",
       "    </tr>\n",
       "    <tr>\n",
       "      <th>39338</th>\n",
       "      <td>A2X3L31KCXBHCL</td>\n",
       "      <td>B008DWCRQW</td>\n",
       "      <td>137</td>\n",
       "      <td>7.0</td>\n",
       "    </tr>\n",
       "    <tr>\n",
       "      <th>21982</th>\n",
       "      <td>A2X3L31KCXBHCL</td>\n",
       "      <td>B002R5AM7C</td>\n",
       "      <td>128</td>\n",
       "      <td>8.0</td>\n",
       "    </tr>\n",
       "    <tr>\n",
       "      <th>28761</th>\n",
       "      <td>A2X3L31KCXBHCL</td>\n",
       "      <td>B004CLYEDC</td>\n",
       "      <td>118</td>\n",
       "      <td>9.0</td>\n",
       "    </tr>\n",
       "    <tr>\n",
       "      <th>22210</th>\n",
       "      <td>A2X3L31KCXBHCL</td>\n",
       "      <td>B002SZEOLG</td>\n",
       "      <td>113</td>\n",
       "      <td>10.0</td>\n",
       "    </tr>\n",
       "  </tbody>\n",
       "</table>\n",
       "</div>"
      ],
      "text/plain": [
       "               userId   productId  score  Rank\n",
       "39003  A2X3L31KCXBHCL  B0088CJT4U    206   1.0\n",
       "24827  A2X3L31KCXBHCL  B003ES5ZUU    184   2.0\n",
       "11078  A2X3L31KCXBHCL  B000N99BBC    167   3.0\n",
       "38250  A2X3L31KCXBHCL  B007WTAJTO    164   4.0\n",
       "38615  A2X3L31KCXBHCL  B00829TIEK    149   5.0\n",
       "38611  A2X3L31KCXBHCL  B00829THK0    137   6.0\n",
       "39338  A2X3L31KCXBHCL  B008DWCRQW    137   7.0\n",
       "21982  A2X3L31KCXBHCL  B002R5AM7C    128   8.0\n",
       "28761  A2X3L31KCXBHCL  B004CLYEDC    118   9.0\n",
       "22210  A2X3L31KCXBHCL  B002SZEOLG    113  10.0"
      ]
     },
     "execution_count": 51,
     "metadata": {},
     "output_type": "execute_result"
    }
   ],
   "source": [
    "user_id = data_df.loc[15256,'userId']\n",
    "popularity_model.recommend(user_id)"
   ]
  },
  {
   "cell_type": "markdown",
   "metadata": {},
   "source": [
    "#### <font color=brown>Observations on Popularity Based Recommender System model:</font>\n",
    "-  <font color=brown>The Popularity recommender model has recommended the best products based on poularity of the product.</font>\n",
    "-  <font color=brown>The top 10 recommendations for different user_ids are shown above.</font>\n",
    "-  <font color=brown>We observe that - Popularity recommender system recommends the same top 10 products for any user irrespective of his personna like products brought and ratings given.</font>\n",
    "- <font color=brown>Popularity Recommender syatem is not based on user personalizations</font>"
   ]
  },
  {
   "cell_type": "markdown",
   "metadata": {},
   "source": [
    "### Split the data randomly into train and test dataset in the ratio 70:30 for building a Collaborative Filtering model not based on Surprise library."
   ]
  },
  {
   "cell_type": "code",
   "execution_count": 52,
   "metadata": {},
   "outputs": [
    {
     "name": "stdout",
     "output_type": "stream",
     "text": [
      "(88109, 3) (37762, 3)\n"
     ]
    }
   ],
   "source": [
    "train_data, test_data = train_test_split(data_df, test_size = 0.30, random_state=7)\n",
    "train_data.reset_index(drop=True, inplace=True)\n",
    "test_data.reset_index(drop=True, inplace=True)\n",
    "print(train_data.shape, test_data.shape)"
   ]
  },
  {
   "cell_type": "code",
   "execution_count": 53,
   "metadata": {},
   "outputs": [
    {
     "name": "stdout",
     "output_type": "stream",
     "text": [
      "           userId   productId  ratings\n",
      "0  A1RJKTYC03L0JY  B001940MFO      5.0\n",
      "1  A3EZEP0FX5BC1P  B0079TOI8K      4.0\n",
      "2   ASFP250F22MDZ  B000S5KMSW      5.0\n",
      "3  A1XXMNLOLKNO0I  B007F9XHBI      5.0\n",
      "4   AWNBZSEZ9P8BE  B007X3VEX4      4.0\n"
     ]
    }
   ],
   "source": [
    "print(train_data.head(5))"
   ]
  },
  {
   "cell_type": "code",
   "execution_count": 54,
   "metadata": {},
   "outputs": [
    {
     "name": "stdout",
     "output_type": "stream",
     "text": [
      "           userId   productId  ratings\n",
      "0   A1RPTVW5VEOSI  B000K5VD2E      1.0\n",
      "1  A213J54E63SYOP  B00EYVNFMG      4.0\n",
      "2  A17V9XL4CWTQ6G  B003W5QCTI      4.0\n",
      "3  A3V7D0LH8L7BG0  B002MAPS6W      4.0\n",
      "4   ATNOI7E8GTIVE  B0015A8Y3E      5.0\n"
     ]
    }
   ],
   "source": [
    "print(test_data.head(5))"
   ]
  },
  {
   "cell_type": "markdown",
   "metadata": {},
   "source": [
    "## Building a Collaborative Filtering based Recommendation System without using Surprise library of scikit\n",
    "## Creating an Item Similarity Based Collaborative Recommendation System"
   ]
  },
  {
   "cell_type": "markdown",
   "metadata": {},
   "source": [
    "### Class for an item similarity based personalized recommender system"
   ]
  },
  {
   "cell_type": "code",
   "execution_count": 55,
   "metadata": {},
   "outputs": [],
   "source": [
    "#Class for Item similarity based Recommender System model\n",
    "class item_similarity_recommender_py():\n",
    "    def __init__(self):\n",
    "        self.train_data = None\n",
    "        self.user_id = None\n",
    "        self.item_id = None\n",
    "        self.cooccurence_matrix = None\n",
    "        #self.songs_dict = None\n",
    "        #self.rev_songs_dict = None\n",
    "        self.item_similarity_recommendations = None\n",
    "    \n",
    "    #Get unique items (products) corresponding to a given user\n",
    "    def get_user_items(self, user):\n",
    "        user_data = self.train_data[self.train_data[self.user_id] == user]\n",
    "        user_items = list(user_data[self.item_id].unique())\n",
    "        return user_items\n",
    "    \n",
    "    #Get unique users for a given item (product)\n",
    "    def get_item_users(self, item):\n",
    "        item_data = self.train_data[self.train_data[self.item_id] == item]\n",
    "        item_users = set(item_data[self.user_id].unique())\n",
    "        return item_users\n",
    "    \n",
    "    #Get unique items (products) in the training data\n",
    "    def get_all_items_train_data(self):\n",
    "        all_items = list(self.train_data[self.item_id].unique())\n",
    "        return all_items\n",
    "    \n",
    "    #Construct cooccurence matrix\n",
    "    def construct_cooccurence_matrix(self, user_products, all_products):\n",
    "        \n",
    "        #Get users for all products in user_products.\n",
    "        user_products_users = []        \n",
    "        for i in range(0, len(user_products)):\n",
    "            user_products_users.append(self.get_item_users(user_products[i]))\n",
    "            \n",
    "        #Initialize the item cooccurence matrix of size \n",
    "        #len(user_products) X len(products)\n",
    "        \n",
    "        cooccurence_matrix = np.matrix(np.zeros(shape=(len(user_products), len(all_products))), float)\n",
    "\n",
    "        #Calculate similarity between user products and all unique products in the training data\n",
    "        for i in range(0,len(all_products)):\n",
    "            #Calculate unique users of a product (item) i\n",
    "            products_i_data = self.train_data[self.train_data[self.item_id] == all_products[i]]\n",
    "            users_i = set(products_i_data[self.user_id].unique())\n",
    "            \n",
    "            for j in range(0,len(user_products)):                           \n",
    "                #Get unique users of a product (item) j\n",
    "                users_j = user_products_users[j]  \n",
    "                \n",
    "                #Calculate intersection of users of products i and j\n",
    "                users_intersection = users_i.intersection(users_j)  \n",
    "                \n",
    "                #Calculate cooccurence_matrix[i,j] as Jaccard Index\n",
    "                if len(users_intersection) != 0:\n",
    "                    #Calculate union of users of products i and j\n",
    "                    users_union = users_i.union(users_j)                    \n",
    "                    cooccurence_matrix[j,i] = float(len(users_intersection))/float(len(users_union))\n",
    "                else:\n",
    "                    cooccurence_matrix[j,i] = 0       \n",
    "        return cooccurence_matrix\n",
    "    \n",
    "    #Use the cooccurence matrix to make top recommendations\n",
    "    def generate_top_recommendations(self, user, cooccurence_matrix, all_products, user_products):\n",
    "        print(\"Non zero values in cooccurence_matrix :%d\" % np.count_nonzero(cooccurence_matrix))\n",
    "        \n",
    "        #Calculate a weighted average of the scores in cooccurence matrix for all user products.\n",
    "        user_sim_scores = cooccurence_matrix.sum(axis=0)/float(cooccurence_matrix.shape[0])\n",
    "        user_sim_scores = np.array(user_sim_scores)[0].tolist()\n",
    " \n",
    "        #Sort the indices of user_sim_scores based upon their value\n",
    "        #Also maintain the corresponding score\n",
    "        sort_index = sorted(((e,i) for i,e in enumerate(list(user_sim_scores))), reverse=True)\n",
    "    \n",
    "        #Create a dataframe from the following\n",
    "        columns = ['userId', 'productId', 'score', 'rank']\n",
    "        #index = np.arange(1) # array of numbers for the number of samples\n",
    "        df = pd.DataFrame(columns=columns)\n",
    "         \n",
    "        #Fill the dataframe with top 10 item based recommendations\n",
    "        rank = 1 \n",
    "        for i in range(0,len(sort_index)):\n",
    "            if ~np.isnan(sort_index[i][0]) and all_products[sort_index[i][1]] not in user_products and rank <= 10:\n",
    "                df.loc[len(df)]=[user,all_products[sort_index[i][1]],sort_index[i][0],rank]\n",
    "                rank = rank+1\n",
    "        \n",
    "        #Handle the case where there are no recommendations\n",
    "        if df.shape[0] == 0:\n",
    "            print(\"The current user has no products for training the item similarity based recommendation model.\")\n",
    "            return -1\n",
    "        else:\n",
    "            return df\n",
    "    \n",
    "    #Create the item similarity based recommender system model\n",
    "    def create(self, train_data, user_id, item_id):\n",
    "        self.train_data = train_data\n",
    "        self.user_id = user_id\n",
    "        self.item_id = item_id\n",
    "        \n",
    "    #Use the item similarity based recommender system model to make recommendations\n",
    "    def recommend(self, user):\n",
    "        \n",
    "        #A. Get all unique products for this user\n",
    "        user_products = self.get_user_items(user)                \n",
    "        print(\"No. of unique products for the user: %d\" % len(user_products))\n",
    "        \n",
    "        #B. Get all unique items (products) in the training data\n",
    "        all_products = self.get_all_items_train_data()        \n",
    "        print(\"No. of unique products in the training set: %d\" % len(all_products))\n",
    "         \n",
    "        #C. Construct item cooccurence matrix of size \n",
    "        #len(user_products) X len(products)\n",
    "        \n",
    "        cooccurence_matrix = self.construct_cooccurence_matrix(user_products, all_products)\n",
    "        \n",
    "        #D. Use the cooccurence matrix to make recommendations\n",
    "        df_recommendations = self.generate_top_recommendations(user, cooccurence_matrix, all_products, user_products)                \n",
    "        return df_recommendations\n",
    "    \n",
    "    #Get similar items to given items\n",
    "    def get_similar_items(self, item_list):\n",
    "        \n",
    "        user_products = item_list\n",
    "\n",
    "        #A. Get all unique items (products) in the training data\n",
    "        all_products = self.get_all_items_train_data()  \n",
    "        print(\"No. of unique products in the training set: %d\" % len(all_products))\n",
    "         \n",
    "        #B. Construct item cooccurence matrix of size \n",
    "        #len(user_products) X len(products)\n",
    "        \n",
    "        cooccurence_matrix = self.construct_cooccurence_matrix(user_products, all_products)\n",
    "        \n",
    "        #C. Use the cooccurence matrix to make recommendations\n",
    "        user = \"\"\n",
    "        df_recommendations = self.generate_top_recommendations(user, cooccurence_matrix, all_products, user_products)         \n",
    "        return df_recommendations\n"
   ]
  },
  {
   "cell_type": "markdown",
   "metadata": {},
   "source": [
    "### Create an instance of item similarity based recommender class"
   ]
  },
  {
   "cell_type": "code",
   "execution_count": 56,
   "metadata": {},
   "outputs": [],
   "source": [
    "is_model = item_similarity_recommender_py()\n",
    "is_model.create(train_data, 'userId', 'productId')"
   ]
  },
  {
   "cell_type": "markdown",
   "metadata": {},
   "source": [
    "### Use the personalized Item Similarity model to make some product recommendations to users in training dataset"
   ]
  },
  {
   "cell_type": "code",
   "execution_count": 57,
   "metadata": {},
   "outputs": [
    {
     "name": "stdout",
     "output_type": "stream",
     "text": [
      "------------------------------------------------------------------------------------\n",
      "Training data products for the user with userid: A213J54E63SYOP:\n",
      "------------------------------------------------------------------------------------\n",
      "['B00B2AT8DW', 'B001JQJ8N4', 'B009049PUI', 'B000OCRLRY', 'B00GSAVAUU', 'B0088PUEPK', 'B000QYKVKO', 'B0042A2V88', 'B0035B4LJM', 'B003QUNYQI', 'B003Y5QKJI', 'B003L1AI8O', 'B0002J2P2A', 'B00B5HE3UU', 'B005JRGOCM', 'B001OQQ01W', 'B008ZGKWQI', 'B00DHC6BVK', 'B007JPOX8O', 'B008OV6PWY', 'B006Z7TA1W', 'B008GTAPSO', 'B00011KLSO', 'B00EZ4DWOS', 'B000OK22AW', 'B000HGMM9Y', 'B0013V58WK', 'B00AO9MPAK', 'B0068LACFI', 'B008MLILWI', 'B00D3MJ152', 'B007HJ5R32', 'B0049GEFU2', 'B002OJN250', 'B001VEAI74', 'B003OUWACO', 'B0067S8IZ8', 'B008CXTX7S', 'B005QWY3PU', 'B0058GN1AM', 'B003OUWACE', 'B003NR57BY', 'B0050H9A18', 'B000FBK3QK', 'B00EZJY15M', 'B001KU44HE', 'B002OEBTCS', 'B003SX0RMM', 'B00H305DCK', 'B004HRCUEQ', 'B00BJGF5OA', 'B000083KIH', 'B004NJD97A', 'B0033SH9WI', 'B000COZ43C', 'B005B4M1RU', 'B00BIFNTMC', 'B000IXP932', 'B003VAGXWK', 'B004AGXHE6', 'B001MSU1FS', 'B007BT9E78', 'B0052L77QW', 'B00B588HY2', 'B000IDCDZY', 'B002YKPWH0', 'B0045IIZKU', 'B005ARQV6U', 'B00CUKHN0S', 'B005URY9HI', 'B00ANY3MLC', 'B00FHOP9IM', 'B00BXBIXIQ', 'B004MUCOBW', 'B007WI2LUU', 'B004V93U26', 'B00456EC1I', 'B0040ZK0B0', 'B0053V5Z9W', 'B00D36MC0E', 'B00BJPRI1Y', 'B004S4R5CK', 'B002WGQJPA', 'B0094FF3FO', 'B000292DO0', 'B00880CYMQ', 'B002V88HFE', 'B00B0TMWTW', 'B00CMCAJ4Q', 'B00E5Z3R6A', 'B00E3W15P0', 'B004T9Y0MW', 'B0042FZ51I', 'B0056XI7QU', 'B00080G0BK']\n",
      "----------------------------------------------------------------------\n",
      "Recommendation process is going on:\n",
      "----------------------------------------------------------------------\n",
      "No. of unique products for the user: 95\n",
      "No. of unique products in the training set: 38235\n",
      "Non zero values in cooccurence_matrix :33849\n"
     ]
    },
    {
     "data": {
      "text/html": [
       "<div>\n",
       "<style scoped>\n",
       "    .dataframe tbody tr th:only-of-type {\n",
       "        vertical-align: middle;\n",
       "    }\n",
       "\n",
       "    .dataframe tbody tr th {\n",
       "        vertical-align: top;\n",
       "    }\n",
       "\n",
       "    .dataframe thead th {\n",
       "        text-align: right;\n",
       "    }\n",
       "</style>\n",
       "<table border=\"1\" class=\"dataframe\">\n",
       "  <thead>\n",
       "    <tr style=\"text-align: right;\">\n",
       "      <th></th>\n",
       "      <th>userId</th>\n",
       "      <th>productId</th>\n",
       "      <th>score</th>\n",
       "      <th>rank</th>\n",
       "    </tr>\n",
       "  </thead>\n",
       "  <tbody>\n",
       "    <tr>\n",
       "      <th>0</th>\n",
       "      <td>A213J54E63SYOP</td>\n",
       "      <td>B0018COZDC</td>\n",
       "      <td>0.008772</td>\n",
       "      <td>1</td>\n",
       "    </tr>\n",
       "    <tr>\n",
       "      <th>1</th>\n",
       "      <td>A213J54E63SYOP</td>\n",
       "      <td>B00E0SJCX4</td>\n",
       "      <td>0.008772</td>\n",
       "      <td>2</td>\n",
       "    </tr>\n",
       "    <tr>\n",
       "      <th>2</th>\n",
       "      <td>A213J54E63SYOP</td>\n",
       "      <td>B001FRXL0S</td>\n",
       "      <td>0.008772</td>\n",
       "      <td>3</td>\n",
       "    </tr>\n",
       "    <tr>\n",
       "      <th>3</th>\n",
       "      <td>A213J54E63SYOP</td>\n",
       "      <td>B00CY9Q8AQ</td>\n",
       "      <td>0.008772</td>\n",
       "      <td>4</td>\n",
       "    </tr>\n",
       "    <tr>\n",
       "      <th>4</th>\n",
       "      <td>A213J54E63SYOP</td>\n",
       "      <td>B006LWQU96</td>\n",
       "      <td>0.008772</td>\n",
       "      <td>5</td>\n",
       "    </tr>\n",
       "    <tr>\n",
       "      <th>5</th>\n",
       "      <td>A213J54E63SYOP</td>\n",
       "      <td>B004VU1KUY</td>\n",
       "      <td>0.008772</td>\n",
       "      <td>6</td>\n",
       "    </tr>\n",
       "    <tr>\n",
       "      <th>6</th>\n",
       "      <td>A213J54E63SYOP</td>\n",
       "      <td>B001GN5OLK</td>\n",
       "      <td>0.008772</td>\n",
       "      <td>7</td>\n",
       "    </tr>\n",
       "    <tr>\n",
       "      <th>7</th>\n",
       "      <td>A213J54E63SYOP</td>\n",
       "      <td>B004TJI98I</td>\n",
       "      <td>0.008772</td>\n",
       "      <td>8</td>\n",
       "    </tr>\n",
       "    <tr>\n",
       "      <th>8</th>\n",
       "      <td>A213J54E63SYOP</td>\n",
       "      <td>B009K6GQEY</td>\n",
       "      <td>0.008772</td>\n",
       "      <td>9</td>\n",
       "    </tr>\n",
       "    <tr>\n",
       "      <th>9</th>\n",
       "      <td>A213J54E63SYOP</td>\n",
       "      <td>B001J1PUOK</td>\n",
       "      <td>0.008772</td>\n",
       "      <td>10</td>\n",
       "    </tr>\n",
       "  </tbody>\n",
       "</table>\n",
       "</div>"
      ],
      "text/plain": [
       "           userId   productId     score rank\n",
       "0  A213J54E63SYOP  B0018COZDC  0.008772    1\n",
       "1  A213J54E63SYOP  B00E0SJCX4  0.008772    2\n",
       "2  A213J54E63SYOP  B001FRXL0S  0.008772    3\n",
       "3  A213J54E63SYOP  B00CY9Q8AQ  0.008772    4\n",
       "4  A213J54E63SYOP  B006LWQU96  0.008772    5\n",
       "5  A213J54E63SYOP  B004VU1KUY  0.008772    6\n",
       "6  A213J54E63SYOP  B001GN5OLK  0.008772    7\n",
       "7  A213J54E63SYOP  B004TJI98I  0.008772    8\n",
       "8  A213J54E63SYOP  B009K6GQEY  0.008772    9\n",
       "9  A213J54E63SYOP  B001J1PUOK  0.008772   10"
      ]
     },
     "execution_count": 57,
     "metadata": {},
     "output_type": "execute_result"
    }
   ],
   "source": [
    "#Print the products for the user in training data\n",
    "user_id = train_data.loc[5, 'userId']\n",
    "user_items = is_model.get_user_items(user_id)\n",
    "#\n",
    "print(\"------------------------------------------------------------------------------------\")\n",
    "print(\"Training data products for the user with userid: %s:\" % user_id)\n",
    "print(\"------------------------------------------------------------------------------------\")\n",
    "\n",
    "#for user_item in user_items:\n",
    "    #print(user_item)\n",
    "print(user_items)\n",
    "    \n",
    "print(\"----------------------------------------------------------------------\")\n",
    "print(\"Recommendation process is going on:\")\n",
    "print(\"----------------------------------------------------------------------\")\n",
    "\n",
    "#Recommend products for the user using personalized model\n",
    "is_model.recommend(user_id)"
   ]
  },
  {
   "cell_type": "markdown",
   "metadata": {},
   "source": [
    "### Use the personalized Item Similarity model to make some product recommendations to users in test dataset"
   ]
  },
  {
   "cell_type": "code",
   "execution_count": 59,
   "metadata": {},
   "outputs": [
    {
     "name": "stdout",
     "output_type": "stream",
     "text": [
      "------------------------------------------------------------------------------------\n",
      "Test data products for the user with userid: A3VL4RXCWNSR3H:\n",
      "------------------------------------------------------------------------------------\n",
      "['B0000ALPBA', 'B00006IJOR', 'B004EBUXHQ', 'B0001ILY92', 'B002VWJVD2', 'B0035APGP6', 'B0039WFVLY', 'B0001FV3C8', 'B00080YK9Y', 'B00A81SXHI', 'B00CE58ZYC', 'B000N1N1VG', 'B000646MZW', 'B000KB96QS', 'B00029XBKK', 'B006G5F2CY', 'B000E6NGBU', 'B0035B1BBI', 'B00009KIYM', 'B0072C8DE4', 'B0000AZW8L', 'B009FD4UDG', 'B003TDIEXU', 'B0050SPZMK', 'B002RWKFFE', 'B0001OYZTC', 'B002DYIYRW', 'B001KMXIKG', 'B0022BFIOS', 'B0000DCK7I', 'B000GZ09YQ', 'B00076SBT4', 'B000CE9TU6', 'B001CLMY50', 'B001KX8VES', 'B000092YOU', 'B000OV818I', 'B00009UI2Z', 'B001JYRZ54', 'B00007IFED', 'B000HZXX1G', 'B0015F5HIY', 'B000C0V5RA', 'B00006BB8G', 'B0009SIQDQ']\n",
      "----------------------------------------------------------------------\n",
      "Recommendation process is going on:\n",
      "----------------------------------------------------------------------\n",
      "No. of unique products for the user: 45\n",
      "No. of unique products in the training set: 38235\n",
      "Non zero values in cooccurence_matrix :5918\n"
     ]
    },
    {
     "data": {
      "text/html": [
       "<div>\n",
       "<style scoped>\n",
       "    .dataframe tbody tr th:only-of-type {\n",
       "        vertical-align: middle;\n",
       "    }\n",
       "\n",
       "    .dataframe tbody tr th {\n",
       "        vertical-align: top;\n",
       "    }\n",
       "\n",
       "    .dataframe thead th {\n",
       "        text-align: right;\n",
       "    }\n",
       "</style>\n",
       "<table border=\"1\" class=\"dataframe\">\n",
       "  <thead>\n",
       "    <tr style=\"text-align: right;\">\n",
       "      <th></th>\n",
       "      <th>userId</th>\n",
       "      <th>productId</th>\n",
       "      <th>score</th>\n",
       "      <th>rank</th>\n",
       "    </tr>\n",
       "  </thead>\n",
       "  <tbody>\n",
       "    <tr>\n",
       "      <th>0</th>\n",
       "      <td>A3VL4RXCWNSR3H</td>\n",
       "      <td>B00GUXZE6Q</td>\n",
       "      <td>0.011111</td>\n",
       "      <td>1</td>\n",
       "    </tr>\n",
       "    <tr>\n",
       "      <th>1</th>\n",
       "      <td>A3VL4RXCWNSR3H</td>\n",
       "      <td>B005PBJF6O</td>\n",
       "      <td>0.011111</td>\n",
       "      <td>2</td>\n",
       "    </tr>\n",
       "    <tr>\n",
       "      <th>2</th>\n",
       "      <td>A3VL4RXCWNSR3H</td>\n",
       "      <td>B0001MKTZS</td>\n",
       "      <td>0.011111</td>\n",
       "      <td>3</td>\n",
       "    </tr>\n",
       "    <tr>\n",
       "      <th>3</th>\n",
       "      <td>A3VL4RXCWNSR3H</td>\n",
       "      <td>B00H4DOFE8</td>\n",
       "      <td>0.011111</td>\n",
       "      <td>4</td>\n",
       "    </tr>\n",
       "    <tr>\n",
       "      <th>4</th>\n",
       "      <td>A3VL4RXCWNSR3H</td>\n",
       "      <td>B005L90Q0O</td>\n",
       "      <td>0.011111</td>\n",
       "      <td>5</td>\n",
       "    </tr>\n",
       "    <tr>\n",
       "      <th>5</th>\n",
       "      <td>A3VL4RXCWNSR3H</td>\n",
       "      <td>B005EMQFVM</td>\n",
       "      <td>0.011111</td>\n",
       "      <td>6</td>\n",
       "    </tr>\n",
       "    <tr>\n",
       "      <th>6</th>\n",
       "      <td>A3VL4RXCWNSR3H</td>\n",
       "      <td>B00HTWF9ZI</td>\n",
       "      <td>0.011111</td>\n",
       "      <td>7</td>\n",
       "    </tr>\n",
       "    <tr>\n",
       "      <th>7</th>\n",
       "      <td>A3VL4RXCWNSR3H</td>\n",
       "      <td>B004PKC9XM</td>\n",
       "      <td>0.011111</td>\n",
       "      <td>8</td>\n",
       "    </tr>\n",
       "    <tr>\n",
       "      <th>8</th>\n",
       "      <td>A3VL4RXCWNSR3H</td>\n",
       "      <td>B00322IMBC</td>\n",
       "      <td>0.011111</td>\n",
       "      <td>9</td>\n",
       "    </tr>\n",
       "    <tr>\n",
       "      <th>9</th>\n",
       "      <td>A3VL4RXCWNSR3H</td>\n",
       "      <td>B0080E1SIQ</td>\n",
       "      <td>0.011111</td>\n",
       "      <td>10</td>\n",
       "    </tr>\n",
       "  </tbody>\n",
       "</table>\n",
       "</div>"
      ],
      "text/plain": [
       "           userId   productId     score rank\n",
       "0  A3VL4RXCWNSR3H  B00GUXZE6Q  0.011111    1\n",
       "1  A3VL4RXCWNSR3H  B005PBJF6O  0.011111    2\n",
       "2  A3VL4RXCWNSR3H  B0001MKTZS  0.011111    3\n",
       "3  A3VL4RXCWNSR3H  B00H4DOFE8  0.011111    4\n",
       "4  A3VL4RXCWNSR3H  B005L90Q0O  0.011111    5\n",
       "5  A3VL4RXCWNSR3H  B005EMQFVM  0.011111    6\n",
       "6  A3VL4RXCWNSR3H  B00HTWF9ZI  0.011111    7\n",
       "7  A3VL4RXCWNSR3H  B004PKC9XM  0.011111    8\n",
       "8  A3VL4RXCWNSR3H  B00322IMBC  0.011111    9\n",
       "9  A3VL4RXCWNSR3H  B0080E1SIQ  0.011111   10"
      ]
     },
     "execution_count": 59,
     "metadata": {},
     "output_type": "execute_result"
    }
   ],
   "source": [
    "#Print the products for the user in test data\n",
    "user_id = test_data.loc[5, 'userId']\n",
    "user_items = is_model.get_user_items(user_id)\n",
    "#\n",
    "print(\"------------------------------------------------------------------------------------\")\n",
    "print(\"Test data products for the user with userid: %s:\" % user_id)\n",
    "print(\"------------------------------------------------------------------------------------\")\n",
    "\n",
    "#for user_item in user_items:\n",
    "    #print(user_item)\n",
    "print(user_items)\n",
    "    \n",
    "print(\"----------------------------------------------------------------------\")\n",
    "print(\"Recommendation process is going on:\")\n",
    "print(\"----------------------------------------------------------------------\")\n",
    "\n",
    "#Recommend products for the user using personalized model\n",
    "is_model.recommend(user_id)"
   ]
  },
  {
   "cell_type": "markdown",
   "metadata": {},
   "source": [
    "### Find the products which are similar to a product in Training set"
   ]
  },
  {
   "cell_type": "code",
   "execution_count": 60,
   "metadata": {},
   "outputs": [
    {
     "name": "stdout",
     "output_type": "stream",
     "text": [
      "The Products which are similar to B001F6YRNO are :\n",
      "No. of unique products in the training set: 38235\n",
      "Non zero values in cooccurence_matrix :235\n"
     ]
    },
    {
     "data": {
      "text/html": [
       "<div>\n",
       "<style scoped>\n",
       "    .dataframe tbody tr th:only-of-type {\n",
       "        vertical-align: middle;\n",
       "    }\n",
       "\n",
       "    .dataframe tbody tr th {\n",
       "        vertical-align: top;\n",
       "    }\n",
       "\n",
       "    .dataframe thead th {\n",
       "        text-align: right;\n",
       "    }\n",
       "</style>\n",
       "<table border=\"1\" class=\"dataframe\">\n",
       "  <thead>\n",
       "    <tr style=\"text-align: right;\">\n",
       "      <th></th>\n",
       "      <th>userId</th>\n",
       "      <th>productId</th>\n",
       "      <th>score</th>\n",
       "      <th>rank</th>\n",
       "    </tr>\n",
       "  </thead>\n",
       "  <tbody>\n",
       "    <tr>\n",
       "      <th>0</th>\n",
       "      <td></td>\n",
       "      <td>B009SPNMZS</td>\n",
       "      <td>0.333333</td>\n",
       "      <td>1</td>\n",
       "    </tr>\n",
       "    <tr>\n",
       "      <th>1</th>\n",
       "      <td></td>\n",
       "      <td>B002MXX2JO</td>\n",
       "      <td>0.333333</td>\n",
       "      <td>2</td>\n",
       "    </tr>\n",
       "    <tr>\n",
       "      <th>2</th>\n",
       "      <td></td>\n",
       "      <td>B00193TLPM</td>\n",
       "      <td>0.333333</td>\n",
       "      <td>3</td>\n",
       "    </tr>\n",
       "    <tr>\n",
       "      <th>3</th>\n",
       "      <td></td>\n",
       "      <td>B00009R6QA</td>\n",
       "      <td>0.333333</td>\n",
       "      <td>4</td>\n",
       "    </tr>\n",
       "    <tr>\n",
       "      <th>4</th>\n",
       "      <td></td>\n",
       "      <td>B0066WVFLO</td>\n",
       "      <td>0.333333</td>\n",
       "      <td>5</td>\n",
       "    </tr>\n",
       "    <tr>\n",
       "      <th>5</th>\n",
       "      <td></td>\n",
       "      <td>B0031RGETU</td>\n",
       "      <td>0.333333</td>\n",
       "      <td>6</td>\n",
       "    </tr>\n",
       "    <tr>\n",
       "      <th>6</th>\n",
       "      <td></td>\n",
       "      <td>B000V6R4CK</td>\n",
       "      <td>0.333333</td>\n",
       "      <td>7</td>\n",
       "    </tr>\n",
       "    <tr>\n",
       "      <th>7</th>\n",
       "      <td></td>\n",
       "      <td>B009WWKN1S</td>\n",
       "      <td>0.333333</td>\n",
       "      <td>8</td>\n",
       "    </tr>\n",
       "    <tr>\n",
       "      <th>8</th>\n",
       "      <td></td>\n",
       "      <td>B00884SJKS</td>\n",
       "      <td>0.333333</td>\n",
       "      <td>9</td>\n",
       "    </tr>\n",
       "    <tr>\n",
       "      <th>9</th>\n",
       "      <td></td>\n",
       "      <td>B00008RUL7</td>\n",
       "      <td>0.333333</td>\n",
       "      <td>10</td>\n",
       "    </tr>\n",
       "  </tbody>\n",
       "</table>\n",
       "</div>"
      ],
      "text/plain": [
       "  userId   productId     score rank\n",
       "0         B009SPNMZS  0.333333    1\n",
       "1         B002MXX2JO  0.333333    2\n",
       "2         B00193TLPM  0.333333    3\n",
       "3         B00009R6QA  0.333333    4\n",
       "4         B0066WVFLO  0.333333    5\n",
       "5         B0031RGETU  0.333333    6\n",
       "6         B000V6R4CK  0.333333    7\n",
       "7         B009WWKN1S  0.333333    8\n",
       "8         B00884SJKS  0.333333    9\n",
       "9         B00008RUL7  0.333333   10"
      ]
     },
     "execution_count": 60,
     "metadata": {},
     "output_type": "execute_result"
    }
   ],
   "source": [
    "product = train_data.loc[1020, 'productId']\n",
    "print(\"The Products which are similar to {} are :\".format(product))\n",
    "is_model.get_similar_items([product])"
   ]
  },
  {
   "cell_type": "markdown",
   "metadata": {},
   "source": [
    "### Find the products which are similar to a product in Test set"
   ]
  },
  {
   "cell_type": "code",
   "execution_count": 61,
   "metadata": {},
   "outputs": [
    {
     "name": "stdout",
     "output_type": "stream",
     "text": [
      "No. of unique products in the training set: 38235\n",
      "Non zero values in cooccurence_matrix :34\n"
     ]
    },
    {
     "data": {
      "text/html": [
       "<div>\n",
       "<style scoped>\n",
       "    .dataframe tbody tr th:only-of-type {\n",
       "        vertical-align: middle;\n",
       "    }\n",
       "\n",
       "    .dataframe tbody tr th {\n",
       "        vertical-align: top;\n",
       "    }\n",
       "\n",
       "    .dataframe thead th {\n",
       "        text-align: right;\n",
       "    }\n",
       "</style>\n",
       "<table border=\"1\" class=\"dataframe\">\n",
       "  <thead>\n",
       "    <tr style=\"text-align: right;\">\n",
       "      <th></th>\n",
       "      <th>userId</th>\n",
       "      <th>productId</th>\n",
       "      <th>score</th>\n",
       "      <th>rank</th>\n",
       "    </tr>\n",
       "  </thead>\n",
       "  <tbody>\n",
       "    <tr>\n",
       "      <th>0</th>\n",
       "      <td></td>\n",
       "      <td>B000V6IV5Y</td>\n",
       "      <td>1.000000</td>\n",
       "      <td>1</td>\n",
       "    </tr>\n",
       "    <tr>\n",
       "      <th>1</th>\n",
       "      <td></td>\n",
       "      <td>B00B5N7EKK</td>\n",
       "      <td>1.000000</td>\n",
       "      <td>2</td>\n",
       "    </tr>\n",
       "    <tr>\n",
       "      <th>2</th>\n",
       "      <td></td>\n",
       "      <td>B000HM6OKG</td>\n",
       "      <td>1.000000</td>\n",
       "      <td>3</td>\n",
       "    </tr>\n",
       "    <tr>\n",
       "      <th>3</th>\n",
       "      <td></td>\n",
       "      <td>B000F4EJOY</td>\n",
       "      <td>1.000000</td>\n",
       "      <td>4</td>\n",
       "    </tr>\n",
       "    <tr>\n",
       "      <th>4</th>\n",
       "      <td></td>\n",
       "      <td>B00004Z5KA</td>\n",
       "      <td>0.500000</td>\n",
       "      <td>5</td>\n",
       "    </tr>\n",
       "    <tr>\n",
       "      <th>5</th>\n",
       "      <td></td>\n",
       "      <td>B000E312X2</td>\n",
       "      <td>0.500000</td>\n",
       "      <td>6</td>\n",
       "    </tr>\n",
       "    <tr>\n",
       "      <th>6</th>\n",
       "      <td></td>\n",
       "      <td>B0044UHM6W</td>\n",
       "      <td>0.333333</td>\n",
       "      <td>7</td>\n",
       "    </tr>\n",
       "    <tr>\n",
       "      <th>7</th>\n",
       "      <td></td>\n",
       "      <td>B000WQ19HU</td>\n",
       "      <td>0.333333</td>\n",
       "      <td>8</td>\n",
       "    </tr>\n",
       "    <tr>\n",
       "      <th>8</th>\n",
       "      <td></td>\n",
       "      <td>B000II6YEA</td>\n",
       "      <td>0.333333</td>\n",
       "      <td>9</td>\n",
       "    </tr>\n",
       "    <tr>\n",
       "      <th>9</th>\n",
       "      <td></td>\n",
       "      <td>B007C1KNFW</td>\n",
       "      <td>0.333333</td>\n",
       "      <td>10</td>\n",
       "    </tr>\n",
       "  </tbody>\n",
       "</table>\n",
       "</div>"
      ],
      "text/plain": [
       "  userId   productId     score rank\n",
       "0         B000V6IV5Y  1.000000    1\n",
       "1         B00B5N7EKK  1.000000    2\n",
       "2         B000HM6OKG  1.000000    3\n",
       "3         B000F4EJOY  1.000000    4\n",
       "4         B00004Z5KA  0.500000    5\n",
       "5         B000E312X2  0.500000    6\n",
       "6         B0044UHM6W  0.333333    7\n",
       "7         B000WQ19HU  0.333333    8\n",
       "8         B000II6YEA  0.333333    9\n",
       "9         B007C1KNFW  0.333333   10"
      ]
     },
     "execution_count": 61,
     "metadata": {},
     "output_type": "execute_result"
    }
   ],
   "source": [
    "product = test_data.loc[38, 'productId']\n",
    "is_model.get_similar_items([product])"
   ]
  },
  {
   "cell_type": "markdown",
   "metadata": {},
   "source": [
    "## Model Evaluation above Popularity Based and Item Similarity based Collaborative models using Precision-Recall Curve"
   ]
  },
  {
   "cell_type": "markdown",
   "metadata": {},
   "source": [
    "### Class to calculate precision and recall"
   ]
  },
  {
   "cell_type": "code",
   "execution_count": 62,
   "metadata": {},
   "outputs": [],
   "source": [
    "class precision_recall_calculator():\n",
    "    \n",
    "    def __init__(self, test_data, train_data, pm, is_model):\n",
    "        self.test_data = test_data\n",
    "        self.train_data = train_data\n",
    "        self.user_test_sample = None\n",
    "        self.model1 = pm\n",
    "        self.model2 = is_model\n",
    "        \n",
    "        self.ism_training_dict = dict()\n",
    "        self.pm_training_dict = dict()\n",
    "        self.test_dict = dict()\n",
    "    \n",
    "    #Method to return random percentage of values from a list\n",
    "    def remove_percentage(self, list_a, percentage):\n",
    "        k = int(len(list_a) * percentage)\n",
    "        random.seed(0)\n",
    "        indicies = random.sample(range(len(list_a)), k)\n",
    "        new_list = [list_a[i] for i in indicies]\n",
    "    \n",
    "        return new_list\n",
    "    \n",
    "    #Create a test sample of users for use in calculating precision and recall\n",
    "    def create_user_test_sample(self, percentage):\n",
    "        \n",
    "        #Find users common between training and test set\n",
    "        users_test_and_training = list(set(self.test_data['userId'].unique()).\n",
    "                                       intersection(set(self.train_data['userId'].unique())))\n",
    "        print(\"Length of user_test_and_training:%d\" % len(users_test_and_training))\n",
    "\n",
    "        #Take only random user_sample of users for evaluations\n",
    "        self.users_test_sample = self.remove_percentage(users_test_and_training, percentage)\n",
    "\n",
    "        print(\"Length of user sample:%d\" % len(self.users_test_sample))\n",
    "        \n",
    "    #Method to generate recommendations for users in the user test sample\n",
    "    def get_test_sample_recommendations(self):\n",
    "        #For these test_sample users, get top 10 recommendations from training set\n",
    "        #self.ism_training_dict = {}\n",
    "        #self.pm_training_dict = {}\n",
    "        #self.test_dict = {}\n",
    "\n",
    "        for user_id in self.users_test_sample:\n",
    "            \n",
    "            #Get items for user_id from item similarity model\n",
    "            print(\"Getting recommendations for user:%s\" % user_id)\n",
    "            user_sim_items = self.model2.recommend(user_id)\n",
    "            self.ism_training_dict[user_id] = list(user_sim_items[\"productId\"])\n",
    "    \n",
    "            #Get items for user_id from popularity model\n",
    "            user_sim_items = self.model1.recommend(user_id)\n",
    "            self.pm_training_dict[user_id] = list(user_sim_items[\"productId\"])\n",
    "    \n",
    "            #Get items for user_id from test_data\n",
    "            test_data_user = self.test_data[self.test_data['userId'] == user_id]\n",
    "            self.test_dict[user_id] = set(test_data_user['productId'].unique() )\n",
    "    \n",
    "    #Method to calculate the precision and recall measures\n",
    "    def calculate_precision_recall(self):\n",
    "        #Create cutoff list for precision and recall calculation\n",
    "        cutoff_list = list(range(1,11))\n",
    "\n",
    "\n",
    "        #For each distinct cutoff:\n",
    "        #    1. For each distinct user, calculate precision and recall.\n",
    "        #    2. Calculate average precision and recall.\n",
    "\n",
    "        ism_avg_precision_list = []\n",
    "        ism_avg_recall_list = []\n",
    "        pm_avg_precision_list = []\n",
    "        pm_avg_recall_list = []\n",
    "\n",
    "\n",
    "        num_users_sample = len(self.users_test_sample)\n",
    "        for N in cutoff_list:\n",
    "            ism_sum_precision = 0\n",
    "            ism_sum_recall = 0\n",
    "            pm_sum_precision = 0\n",
    "            pm_sum_recall = 0\n",
    "            ism_avg_precision = 0\n",
    "            ism_avg_recall = 0\n",
    "            pm_avg_precision = 0\n",
    "            pm_avg_recall = 0\n",
    "\n",
    "            for user_id in self.users_test_sample:\n",
    "                ism_hitset = self.test_dict[user_id].intersection(set(self.ism_training_dict[user_id][0:N]))\n",
    "                pm_hitset = self.test_dict[user_id].intersection(set(self.pm_training_dict[user_id][0:N]))\n",
    "                testset = self.test_dict[user_id]\n",
    "        \n",
    "                pm_sum_precision += float(len(pm_hitset))/float(N)\n",
    "                pm_sum_recall += float(len(pm_hitset))/float(len(testset))\n",
    "\n",
    "                ism_sum_precision += float(len(ism_hitset))/float(len(testset))\n",
    "                ism_sum_recall += float(len(ism_hitset))/float(N)\n",
    "        \n",
    "            pm_avg_precision = pm_sum_precision/float(num_users_sample)\n",
    "            pm_avg_recall = pm_sum_recall/float(num_users_sample)\n",
    "    \n",
    "            ism_avg_precision = ism_sum_precision/float(num_users_sample)\n",
    "            ism_avg_recall = ism_sum_recall/float(num_users_sample)\n",
    "\n",
    "            ism_avg_precision_list.append(ism_avg_precision)\n",
    "            ism_avg_recall_list.append(ism_avg_recall)\n",
    "    \n",
    "            pm_avg_precision_list.append(pm_avg_precision)\n",
    "            pm_avg_recall_list.append(pm_avg_recall)\n",
    "            \n",
    "        return (pm_avg_precision_list, pm_avg_recall_list, ism_avg_precision_list, ism_avg_recall_list)\n",
    "     \n",
    "\n",
    "    #A wrapper method to calculate all the evaluation measures\n",
    "    def calculate_measures(self, percentage):\n",
    "        \n",
    "        #Create a test sample of users\n",
    "        self.create_user_test_sample(percentage)\n",
    "        \n",
    "        #Generate recommendations for the test sample users\n",
    "        self.get_test_sample_recommendations()\n",
    "        \n",
    "        #Calculate precision and recall at different cutoff values \n",
    "        #for popularity mode (pm) as well as item similarity model (ism)\n",
    "        \n",
    "        return self.calculate_precision_recall()\n",
    "        #return (pm_avg_precision_list, pm_avg_recall_list, ism_avg_precision_list, ism_avg_recall_list)    "
   ]
  },
  {
   "cell_type": "markdown",
   "metadata": {},
   "source": [
    "### Quantitative comparison between the models"
   ]
  },
  {
   "cell_type": "code",
   "execution_count": 63,
   "metadata": {},
   "outputs": [
    {
     "name": "stdout",
     "output_type": "stream",
     "text": [
      "Length of user_test_and_training:1540\n",
      "Length of user sample:7\n",
      "Getting recommendations for user:A3HPCRD9RX351S\n",
      "No. of unique products for the user: 71\n",
      "No. of unique products in the training set: 38235\n",
      "Non zero values in cooccurence_matrix :37673\n",
      "Getting recommendations for user:A194Y47BF3CUTJ\n",
      "No. of unique products for the user: 35\n",
      "No. of unique products in the training set: 38235\n",
      "Non zero values in cooccurence_matrix :14288\n",
      "Getting recommendations for user:A25QJBK33C4O0R\n",
      "No. of unique products for the user: 65\n",
      "No. of unique products in the training set: 38235\n",
      "Non zero values in cooccurence_matrix :55867\n",
      "Getting recommendations for user:A296QED1MV1V0J\n",
      "No. of unique products for the user: 50\n",
      "No. of unique products in the training set: 38235\n",
      "Non zero values in cooccurence_matrix :16577\n",
      "Getting recommendations for user:A2ED50E3KWKUKW\n",
      "No. of unique products for the user: 47\n",
      "No. of unique products in the training set: 38235\n",
      "Non zero values in cooccurence_matrix :16855\n",
      "Getting recommendations for user:A1EVV74UQYVKRY\n",
      "No. of unique products for the user: 153\n",
      "No. of unique products in the training set: 38235\n",
      "Non zero values in cooccurence_matrix :123483\n",
      "Getting recommendations for user:A2Q7OJTVPIO2XH\n",
      "No. of unique products for the user: 39\n",
      "No. of unique products in the training set: 38235\n",
      "Non zero values in cooccurence_matrix :10177\n",
      "2887.349660873413\n"
     ]
    }
   ],
   "source": [
    "start = time.time()\n",
    "\n",
    "#Define what percentage of users to use for precision recall calculation\n",
    "user_sample = 0.005\n",
    "\n",
    "#Instantiate the precision_recall_calculator class\n",
    "pr = precision_recall_calculator(test_data, train_data, popularity_model, is_model)\n",
    "\n",
    "#Call method to calculate precision and recall values\n",
    "(pm_avg_precision_list, pm_avg_recall_list, ism_avg_precision_list,\n",
    " ism_avg_recall_list) = pr.calculate_measures(user_sample)\n",
    "\n",
    "end = time.time()\n",
    "print(end - start)"
   ]
  },
  {
   "cell_type": "code",
   "execution_count": 64,
   "metadata": {},
   "outputs": [
    {
     "name": "stdout",
     "output_type": "stream",
     "text": [
      "Mean Precision for Popularity based Model:\n",
      "[0.0, 0.0, 0.0, 0.03571428571428571, 0.028571428571428574, 0.023809523809523808, 0.02040816326530612, 0.017857142857142856, 0.015873015873015872, 0.014285714285714287]\n",
      "Mean Recall for Popularity based Model:\n",
      "[0.0, 0.0, 0.0, 0.008403361344537815, 0.008403361344537815, 0.008403361344537815, 0.008403361344537815, 0.008403361344537815, 0.008403361344537815, 0.008403361344537815]\n",
      "Mean Precision for Item Similarity based Model:\n",
      "[0.0, 0.008549783549783549, 0.011147186147186147, 0.015755481078061722, 0.015755481078061722, 0.015755481078061722, 0.021707862030442674, 0.021707862030442674, 0.021707862030442674, 0.021707862030442674]\n",
      "Mean Recall for Item Similarity based Model:\n",
      "[0.0, 0.14285714285714285, 0.14285714285714285, 0.14285714285714285, 0.1142857142857143, 0.09523809523809523, 0.1020408163265306, 0.08928571428571429, 0.07936507936507937, 0.07142857142857142]\n"
     ]
    }
   ],
   "source": [
    "print(\"Mean Precision for Popularity based Model:\")\n",
    "print(pm_avg_precision_list)\n",
    "print(\"Mean Recall for Popularity based Model:\")\n",
    "print(pm_avg_recall_list)\n",
    "print(\"Mean Precision for Item Similarity based Model:\")\n",
    "print(ism_avg_precision_list)\n",
    "print(\"Mean Recall for Item Similarity based Model:\")\n",
    "print(ism_avg_recall_list)"
   ]
  },
  {
   "cell_type": "code",
   "execution_count": 65,
   "metadata": {},
   "outputs": [],
   "source": [
    "#Method to generate precision and recall curve\n",
    "def plot_precision_recall(m1_precision_list, m1_recall_list, m1_label, m2_precision_list, m2_recall_list, m2_label):\n",
    "    pl.clf()    \n",
    "    pl.plot(m1_recall_list, m1_precision_list, label=m1_label)\n",
    "    pl.plot(m2_recall_list, m2_precision_list, label=m2_label)\n",
    "    pl.xlabel('Recall')\n",
    "    pl.ylabel('Precision')\n",
    "    #pl.ylim([0.0, 0.2])\n",
    "    #pl.xlim([0.0, 0.2])\n",
    "    pl.title('Precision-Recall curve')\n",
    "    #pl.legend(loc=\"upper right\")\n",
    "    pl.legend(loc=9, bbox_to_anchor=(0.5, -0.2))\n",
    "    pl.show()"
   ]
  },
  {
   "cell_type": "code",
   "execution_count": 66,
   "metadata": {},
   "outputs": [
    {
     "name": "stdout",
     "output_type": "stream",
     "text": [
      "Plotting precision recall curves.\n"
     ]
    },
    {
     "data": {
      "image/png": "[encoded data removed]",
      "text/plain": [
       "<Figure size 432x288 with 1 Axes>"
      ]
     },
     "metadata": {
      "needs_background": "light"
     },
     "output_type": "display_data"
    }
   ],
   "source": [
    "print(\"Plotting precision recall curves.\")\n",
    "\n",
    "plot_precision_recall(pm_avg_precision_list, pm_avg_recall_list, \"popularity_model\",\n",
    "                      ism_avg_precision_list, ism_avg_recall_list, \"item_similarity_model\")"
   ]
  },
  {
   "cell_type": "markdown",
   "metadata": {},
   "source": [
    "#### <font color=brown>Observations on Model Evaluation using Precision_Recall Curve:\n",
    "- <font color=brown>In Poularity Based Model the Recall is approximately constant and not changing much, though the Precision is increasing for few recommendations and then decreasing for few recommendations.The Precision-Recall curve is not optimal though it is realistic as an optimal precision-recall tradeoff cannot be expected</font>\n",
    "- <font color=brown>In Item Based Similarity Model the Precision is increasing from 0 to 0.009 for all item recommendations and the Recall is increasing for the recommendations made.When the Precision is increasing from 0.009 to 0.015, the recall is constant.The Precision-Recall curve shows that this model is a better optimized than Popularity model and also the non uniform nature of the plot shows that this model is a realistic model</font>"
   ]
  },
  {
   "cell_type": "markdown",
   "metadata": {},
   "source": [
    "## Building and Evaluating Collaborative Filtering based Recommendation System using Surprise library of scikit"
   ]
  },
  {
   "cell_type": "code",
   "execution_count": 67,
   "metadata": {},
   "outputs": [
    {
     "name": "stdout",
     "output_type": "stream",
     "text": [
      "Shape of Mimnimized Dataset:\n",
      " (62936, 3)\n"
     ]
    }
   ],
   "source": [
    "#Take only 10% of the reduced datset data_df as we will encounter a memory error if we take the complete dataset\n",
    "\n",
    "min_size = round((data_df.shape[0])*50/100)\n",
    "data_df_min = data_df.iloc[0:min_size,:]\n",
    "print(\"Shape of Mimnimized Dataset:\\n\",data_df_min.shape)"
   ]
  },
  {
   "cell_type": "code",
   "execution_count": 68,
   "metadata": {},
   "outputs": [
    {
     "data": {
      "text/html": [
       "<div>\n",
       "<style scoped>\n",
       "    .dataframe tbody tr th:only-of-type {\n",
       "        vertical-align: middle;\n",
       "    }\n",
       "\n",
       "    .dataframe tbody tr th {\n",
       "        vertical-align: top;\n",
       "    }\n",
       "\n",
       "    .dataframe thead th {\n",
       "        text-align: right;\n",
       "    }\n",
       "</style>\n",
       "<table border=\"1\" class=\"dataframe\">\n",
       "  <thead>\n",
       "    <tr style=\"text-align: right;\">\n",
       "      <th></th>\n",
       "      <th>userId</th>\n",
       "      <th>productId</th>\n",
       "      <th>ratings</th>\n",
       "    </tr>\n",
       "  </thead>\n",
       "  <tbody>\n",
       "    <tr>\n",
       "      <th>0</th>\n",
       "      <td>A3BY5KCNQZXV5U</td>\n",
       "      <td>0594451647</td>\n",
       "      <td>5.0</td>\n",
       "    </tr>\n",
       "    <tr>\n",
       "      <th>1</th>\n",
       "      <td>AT09WGFUM934H</td>\n",
       "      <td>0594481813</td>\n",
       "      <td>3.0</td>\n",
       "    </tr>\n",
       "    <tr>\n",
       "      <th>2</th>\n",
       "      <td>A32HSNCNPRUMTR</td>\n",
       "      <td>0970407998</td>\n",
       "      <td>1.0</td>\n",
       "    </tr>\n",
       "    <tr>\n",
       "      <th>3</th>\n",
       "      <td>A17HMM1M7T9PJ1</td>\n",
       "      <td>0970407998</td>\n",
       "      <td>4.0</td>\n",
       "    </tr>\n",
       "    <tr>\n",
       "      <th>4</th>\n",
       "      <td>A3CLWR1UUZT6TG</td>\n",
       "      <td>0972683275</td>\n",
       "      <td>5.0</td>\n",
       "    </tr>\n",
       "  </tbody>\n",
       "</table>\n",
       "</div>"
      ],
      "text/plain": [
       "           userId   productId  ratings\n",
       "0  A3BY5KCNQZXV5U  0594451647      5.0\n",
       "1   AT09WGFUM934H  0594481813      3.0\n",
       "2  A32HSNCNPRUMTR  0970407998      1.0\n",
       "3  A17HMM1M7T9PJ1  0970407998      4.0\n",
       "4  A3CLWR1UUZT6TG  0972683275      5.0"
      ]
     },
     "execution_count": 68,
     "metadata": {},
     "output_type": "execute_result"
    }
   ],
   "source": [
    "data_df_min.head()"
   ]
  },
  {
   "cell_type": "code",
   "execution_count": 69,
   "metadata": {},
   "outputs": [],
   "source": [
    "#Import the require classes from surprise library\n",
    "\n",
    "from surprise import Dataset\n",
    "from surprise import Reader\n",
    "from surprise import KNNWithMeans\n",
    "from surprise import accuracy\n",
    "from surprise.model_selection import train_test_split"
   ]
  },
  {
   "cell_type": "code",
   "execution_count": 70,
   "metadata": {},
   "outputs": [],
   "source": [
    "#Load the dataset  userID::productId::ratings and transfor to surprise format\n",
    "\n",
    "reader = Reader(rating_scale=(1, 5))\n",
    "data_df_collab = Dataset.load_from_df(data_df_min, reader)"
   ]
  },
  {
   "cell_type": "code",
   "execution_count": 71,
   "metadata": {},
   "outputs": [
    {
     "data": {
      "text/plain": [
       "(62936, 3)"
      ]
     },
     "execution_count": 71,
     "metadata": {},
     "output_type": "execute_result"
    }
   ],
   "source": [
    "data_df_collab.df.shape"
   ]
  },
  {
   "cell_type": "code",
   "execution_count": 72,
   "metadata": {},
   "outputs": [
    {
     "data": {
      "text/html": [
       "<div>\n",
       "<style scoped>\n",
       "    .dataframe tbody tr th:only-of-type {\n",
       "        vertical-align: middle;\n",
       "    }\n",
       "\n",
       "    .dataframe tbody tr th {\n",
       "        vertical-align: top;\n",
       "    }\n",
       "\n",
       "    .dataframe thead th {\n",
       "        text-align: right;\n",
       "    }\n",
       "</style>\n",
       "<table border=\"1\" class=\"dataframe\">\n",
       "  <thead>\n",
       "    <tr style=\"text-align: right;\">\n",
       "      <th></th>\n",
       "      <th>userId</th>\n",
       "      <th>productId</th>\n",
       "      <th>ratings</th>\n",
       "    </tr>\n",
       "  </thead>\n",
       "  <tbody>\n",
       "    <tr>\n",
       "      <th>0</th>\n",
       "      <td>A3BY5KCNQZXV5U</td>\n",
       "      <td>0594451647</td>\n",
       "      <td>5.0</td>\n",
       "    </tr>\n",
       "    <tr>\n",
       "      <th>1</th>\n",
       "      <td>AT09WGFUM934H</td>\n",
       "      <td>0594481813</td>\n",
       "      <td>3.0</td>\n",
       "    </tr>\n",
       "    <tr>\n",
       "      <th>2</th>\n",
       "      <td>A32HSNCNPRUMTR</td>\n",
       "      <td>0970407998</td>\n",
       "      <td>1.0</td>\n",
       "    </tr>\n",
       "    <tr>\n",
       "      <th>3</th>\n",
       "      <td>A17HMM1M7T9PJ1</td>\n",
       "      <td>0970407998</td>\n",
       "      <td>4.0</td>\n",
       "    </tr>\n",
       "    <tr>\n",
       "      <th>4</th>\n",
       "      <td>A3CLWR1UUZT6TG</td>\n",
       "      <td>0972683275</td>\n",
       "      <td>5.0</td>\n",
       "    </tr>\n",
       "  </tbody>\n",
       "</table>\n",
       "</div>"
      ],
      "text/plain": [
       "           userId   productId  ratings\n",
       "0  A3BY5KCNQZXV5U  0594451647      5.0\n",
       "1   AT09WGFUM934H  0594481813      3.0\n",
       "2  A32HSNCNPRUMTR  0970407998      1.0\n",
       "3  A17HMM1M7T9PJ1  0970407998      4.0\n",
       "4  A3CLWR1UUZT6TG  0972683275      5.0"
      ]
     },
     "execution_count": 72,
     "metadata": {},
     "output_type": "execute_result"
    }
   ],
   "source": [
    "data_df_collab.df.head()"
   ]
  },
  {
   "cell_type": "code",
   "execution_count": 73,
   "metadata": {},
   "outputs": [
    {
     "data": {
      "text/html": [
       "<div>\n",
       "<style scoped>\n",
       "    .dataframe tbody tr th:only-of-type {\n",
       "        vertical-align: middle;\n",
       "    }\n",
       "\n",
       "    .dataframe tbody tr th {\n",
       "        vertical-align: top;\n",
       "    }\n",
       "\n",
       "    .dataframe thead th {\n",
       "        text-align: right;\n",
       "    }\n",
       "</style>\n",
       "<table border=\"1\" class=\"dataframe\">\n",
       "  <thead>\n",
       "    <tr style=\"text-align: right;\">\n",
       "      <th></th>\n",
       "      <th>userId</th>\n",
       "      <th>productId</th>\n",
       "      <th>ratings</th>\n",
       "    </tr>\n",
       "  </thead>\n",
       "  <tbody>\n",
       "    <tr>\n",
       "      <th>62931</th>\n",
       "      <td>A1QOK9LU90ACF7</td>\n",
       "      <td>B003YKG2UU</td>\n",
       "      <td>4.0</td>\n",
       "    </tr>\n",
       "    <tr>\n",
       "      <th>62932</th>\n",
       "      <td>A27QXQQOLAMRRR</td>\n",
       "      <td>B003YKG2W8</td>\n",
       "      <td>4.0</td>\n",
       "    </tr>\n",
       "    <tr>\n",
       "      <th>62933</th>\n",
       "      <td>AYNAH993VDECT</td>\n",
       "      <td>B003YKG2W8</td>\n",
       "      <td>5.0</td>\n",
       "    </tr>\n",
       "    <tr>\n",
       "      <th>62934</th>\n",
       "      <td>A35X2JJI49OBZP</td>\n",
       "      <td>B003YKG2W8</td>\n",
       "      <td>5.0</td>\n",
       "    </tr>\n",
       "    <tr>\n",
       "      <th>62935</th>\n",
       "      <td>A1OMXVXXP07F05</td>\n",
       "      <td>B003YKG2W8</td>\n",
       "      <td>5.0</td>\n",
       "    </tr>\n",
       "  </tbody>\n",
       "</table>\n",
       "</div>"
      ],
      "text/plain": [
       "               userId   productId  ratings\n",
       "62931  A1QOK9LU90ACF7  B003YKG2UU      4.0\n",
       "62932  A27QXQQOLAMRRR  B003YKG2W8      4.0\n",
       "62933   AYNAH993VDECT  B003YKG2W8      5.0\n",
       "62934  A35X2JJI49OBZP  B003YKG2W8      5.0\n",
       "62935  A1OMXVXXP07F05  B003YKG2W8      5.0"
      ]
     },
     "execution_count": 73,
     "metadata": {},
     "output_type": "execute_result"
    }
   ],
   "source": [
    "data_df_collab.df.tail()"
   ]
  },
  {
   "cell_type": "markdown",
   "metadata": {},
   "source": [
    "### Split the data randomly into train and test dataset in the ratio 70:30 for building a Collaborative Filtering model using Surprise library."
   ]
  },
  {
   "cell_type": "code",
   "execution_count": 74,
   "metadata": {},
   "outputs": [],
   "source": [
    "#Use train_test split method of surprise.model_selection\n",
    "\n",
    "trainset, testset = train_test_split(data_df_collab, test_size=0.30, random_state=7)"
   ]
  },
  {
   "cell_type": "code",
   "execution_count": 75,
   "metadata": {},
   "outputs": [
    {
     "name": "stdout",
     "output_type": "stream",
     "text": [
      "Size of trainset: 21308\n",
      "Size of testset: 18881\n"
     ]
    }
   ],
   "source": [
    "print('Size of trainset: {}\\nSize of testset: {}'.format(trainset.n_items, len(testset)))"
   ]
  },
  {
   "cell_type": "markdown",
   "metadata": {},
   "source": [
    "### Item Similarity Based Collaborative Recommendation System using KNNWithMeans in Surprise library\n",
    "- Item Similarity based collaborative filtering looks for items that are similar to the items that user has already rated and recommend the most similar items to the users based on item silimarity\n",
    "- Similarity is based upon co-occurence of purchases of the user"
   ]
  },
  {
   "cell_type": "code",
   "execution_count": 76,
   "metadata": {},
   "outputs": [],
   "source": [
    "#Creating an instance of Item Similarity based Collaborative Filtering model\n",
    "#Use user_based true/false to switch between user-based or item-based collaborative filtering\n",
    "\n",
    "item_sim_model = KNNWithMeans(k=50, min_k=1, sim_options={'name': 'pearson_baseline', 'user_based': False})"
   ]
  },
  {
   "cell_type": "code",
   "execution_count": 77,
   "metadata": {},
   "outputs": [
    {
     "name": "stdout",
     "output_type": "stream",
     "text": [
      "Estimating biases using als...\n",
      "Computing the pearson_baseline similarity matrix...\n",
      "Done computing similarity matrix.\n"
     ]
    },
    {
     "data": {
      "text/plain": [
       "<surprise.prediction_algorithms.knns.KNNWithMeans at 0x1bb8b62b470>"
      ]
     },
     "execution_count": 77,
     "metadata": {},
     "output_type": "execute_result"
    }
   ],
   "source": [
    "#Fit the model on trainset\n",
    "\n",
    "item_sim_model.fit(trainset)"
   ]
  },
  {
   "cell_type": "code",
   "execution_count": 78,
   "metadata": {},
   "outputs": [],
   "source": [
    "#Run the model on testset to get the predictions\n",
    "\n",
    "item_sim_test_pred = item_sim_model.test(testset)"
   ]
  },
  {
   "cell_type": "code",
   "execution_count": 79,
   "metadata": {},
   "outputs": [
    {
     "name": "stdout",
     "output_type": "stream",
     "text": [
      "Size of predictions: 18881\n"
     ]
    }
   ],
   "source": [
    "print('Size of predictions:',len(item_sim_test_pred))"
   ]
  },
  {
   "cell_type": "code",
   "execution_count": 80,
   "metadata": {},
   "outputs": [
    {
     "data": {
      "text/plain": [
       "[Prediction(uid='A2HMF8ZR67BNZS', iid='B003MVMTDA', r_ui=5.0, est=4.75, details={'actual_k': 0, 'was_impossible': False}),\n",
       " Prediction(uid='A21INUA35HX4XQ', iid='B00007KDX5', r_ui=5.0, est=3.5, details={'actual_k': 0, 'was_impossible': False}),\n",
       " Prediction(uid='A18S2VGUH9SCV5', iid='B003H3H4K6', r_ui=5.0, est=4.5, details={'actual_k': 0, 'was_impossible': False}),\n",
       " Prediction(uid='A3CKI6VEH0HBMJ', iid='B000NDA5E0', r_ui=5.0, est=4.0, details={'actual_k': 0, 'was_impossible': False}),\n",
       " Prediction(uid='A1P0JSFW184ZXJ', iid='B001PUQ7PG', r_ui=4.0, est=4.277972027972028, details={'actual_k': 1, 'was_impossible': False})]"
      ]
     },
     "execution_count": 80,
     "metadata": {},
     "output_type": "execute_result"
    }
   ],
   "source": [
    "item_sim_test_pred[0:5]"
   ]
  },
  {
   "cell_type": "code",
   "execution_count": 81,
   "metadata": {},
   "outputs": [],
   "source": [
    "item_sim_test_pred_df = pd.DataFrame(([[x.uid,x.iid,x.est] for x in item_sim_test_pred]),\n",
    "                                     columns=[\"userId\",\"productId\",\"est_rating\"])"
   ]
  },
  {
   "cell_type": "code",
   "execution_count": 82,
   "metadata": {},
   "outputs": [
    {
     "data": {
      "text/html": [
       "<div>\n",
       "<style scoped>\n",
       "    .dataframe tbody tr th:only-of-type {\n",
       "        vertical-align: middle;\n",
       "    }\n",
       "\n",
       "    .dataframe tbody tr th {\n",
       "        vertical-align: top;\n",
       "    }\n",
       "\n",
       "    .dataframe thead th {\n",
       "        text-align: right;\n",
       "    }\n",
       "</style>\n",
       "<table border=\"1\" class=\"dataframe\">\n",
       "  <thead>\n",
       "    <tr style=\"text-align: right;\">\n",
       "      <th></th>\n",
       "      <th>userId</th>\n",
       "      <th>productId</th>\n",
       "      <th>est_rating</th>\n",
       "    </tr>\n",
       "  </thead>\n",
       "  <tbody>\n",
       "    <tr>\n",
       "      <th>0</th>\n",
       "      <td>A2HMF8ZR67BNZS</td>\n",
       "      <td>B003MVMTDA</td>\n",
       "      <td>4.750000</td>\n",
       "    </tr>\n",
       "    <tr>\n",
       "      <th>1</th>\n",
       "      <td>A21INUA35HX4XQ</td>\n",
       "      <td>B00007KDX5</td>\n",
       "      <td>3.500000</td>\n",
       "    </tr>\n",
       "    <tr>\n",
       "      <th>2</th>\n",
       "      <td>A18S2VGUH9SCV5</td>\n",
       "      <td>B003H3H4K6</td>\n",
       "      <td>4.500000</td>\n",
       "    </tr>\n",
       "    <tr>\n",
       "      <th>3</th>\n",
       "      <td>A3CKI6VEH0HBMJ</td>\n",
       "      <td>B000NDA5E0</td>\n",
       "      <td>4.000000</td>\n",
       "    </tr>\n",
       "    <tr>\n",
       "      <th>4</th>\n",
       "      <td>A1P0JSFW184ZXJ</td>\n",
       "      <td>B001PUQ7PG</td>\n",
       "      <td>4.277972</td>\n",
       "    </tr>\n",
       "  </tbody>\n",
       "</table>\n",
       "</div>"
      ],
      "text/plain": [
       "           userId   productId  est_rating\n",
       "0  A2HMF8ZR67BNZS  B003MVMTDA    4.750000\n",
       "1  A21INUA35HX4XQ  B00007KDX5    3.500000\n",
       "2  A18S2VGUH9SCV5  B003H3H4K6    4.500000\n",
       "3  A3CKI6VEH0HBMJ  B000NDA5E0    4.000000\n",
       "4  A1P0JSFW184ZXJ  B001PUQ7PG    4.277972"
      ]
     },
     "execution_count": 82,
     "metadata": {},
     "output_type": "execute_result"
    }
   ],
   "source": [
    "item_sim_test_pred_df.head()"
   ]
  },
  {
   "cell_type": "markdown",
   "metadata": {},
   "source": [
    "### Finding top - K ( K = 5) recommendations using Item Similarity based Collaborative Filtering Model"
   ]
  },
  {
   "cell_type": "code",
   "execution_count": 83,
   "metadata": {
    "scrolled": true
   },
   "outputs": [
    {
     "data": {
      "text/html": [
       "<div>\n",
       "<style scoped>\n",
       "    .dataframe tbody tr th:only-of-type {\n",
       "        vertical-align: middle;\n",
       "    }\n",
       "\n",
       "    .dataframe tbody tr th {\n",
       "        vertical-align: top;\n",
       "    }\n",
       "\n",
       "    .dataframe thead th {\n",
       "        text-align: right;\n",
       "    }\n",
       "</style>\n",
       "<table border=\"1\" class=\"dataframe\">\n",
       "  <thead>\n",
       "    <tr style=\"text-align: right;\">\n",
       "      <th></th>\n",
       "      <th>userId</th>\n",
       "      <th>productId</th>\n",
       "      <th>est_rating</th>\n",
       "    </tr>\n",
       "  </thead>\n",
       "  <tbody>\n",
       "    <tr>\n",
       "      <th>0</th>\n",
       "      <td>A2HMF8ZR67BNZS</td>\n",
       "      <td>B003MVMTDA</td>\n",
       "      <td>4.750000</td>\n",
       "    </tr>\n",
       "    <tr>\n",
       "      <th>1</th>\n",
       "      <td>A21INUA35HX4XQ</td>\n",
       "      <td>B00007KDX5</td>\n",
       "      <td>3.500000</td>\n",
       "    </tr>\n",
       "    <tr>\n",
       "      <th>2</th>\n",
       "      <td>A18S2VGUH9SCV5</td>\n",
       "      <td>B003H3H4K6</td>\n",
       "      <td>4.500000</td>\n",
       "    </tr>\n",
       "    <tr>\n",
       "      <th>3</th>\n",
       "      <td>A3CKI6VEH0HBMJ</td>\n",
       "      <td>B000NDA5E0</td>\n",
       "      <td>4.000000</td>\n",
       "    </tr>\n",
       "    <tr>\n",
       "      <th>4</th>\n",
       "      <td>A1P0JSFW184ZXJ</td>\n",
       "      <td>B001PUQ7PG</td>\n",
       "      <td>4.277972</td>\n",
       "    </tr>\n",
       "    <tr>\n",
       "      <th>5</th>\n",
       "      <td>A20DZX38KRBIT8</td>\n",
       "      <td>B0016OJXGQ</td>\n",
       "      <td>4.000000</td>\n",
       "    </tr>\n",
       "    <tr>\n",
       "      <th>6</th>\n",
       "      <td>A3F3B1JPACN215</td>\n",
       "      <td>B003VVH8Y6</td>\n",
       "      <td>4.250000</td>\n",
       "    </tr>\n",
       "    <tr>\n",
       "      <th>7</th>\n",
       "      <td>A1RJKTYC03L0JY</td>\n",
       "      <td>B003URJP5Q</td>\n",
       "      <td>4.000000</td>\n",
       "    </tr>\n",
       "    <tr>\n",
       "      <th>8</th>\n",
       "      <td>A1JWSDDIH5Z7DV</td>\n",
       "      <td>B000O3N71W</td>\n",
       "      <td>4.253955</td>\n",
       "    </tr>\n",
       "    <tr>\n",
       "      <th>9</th>\n",
       "      <td>AKSQNMIKOU01H</td>\n",
       "      <td>B0016XFZNW</td>\n",
       "      <td>4.253955</td>\n",
       "    </tr>\n",
       "    <tr>\n",
       "      <th>10</th>\n",
       "      <td>A33YZNZIRA3H97</td>\n",
       "      <td>B001TKRLPC</td>\n",
       "      <td>4.000000</td>\n",
       "    </tr>\n",
       "    <tr>\n",
       "      <th>11</th>\n",
       "      <td>A3CFU12GS5CZCN</td>\n",
       "      <td>B0037FQVX0</td>\n",
       "      <td>5.000000</td>\n",
       "    </tr>\n",
       "    <tr>\n",
       "      <th>12</th>\n",
       "      <td>A2UTZ4O5E2W4DK</td>\n",
       "      <td>B00099C2M6</td>\n",
       "      <td>5.000000</td>\n",
       "    </tr>\n",
       "    <tr>\n",
       "      <th>13</th>\n",
       "      <td>A25HBO5V8S8SEA</td>\n",
       "      <td>B00004Z90O</td>\n",
       "      <td>4.253955</td>\n",
       "    </tr>\n",
       "    <tr>\n",
       "      <th>14</th>\n",
       "      <td>A38KK0SZYEH5UD</td>\n",
       "      <td>B002NX13LC</td>\n",
       "      <td>5.000000</td>\n",
       "    </tr>\n",
       "    <tr>\n",
       "      <th>15</th>\n",
       "      <td>A1VRANSQ0WF1YS</td>\n",
       "      <td>B002CNOYRS</td>\n",
       "      <td>4.000000</td>\n",
       "    </tr>\n",
       "    <tr>\n",
       "      <th>16</th>\n",
       "      <td>A3TRY87JJCA5Y8</td>\n",
       "      <td>B000FFYNS0</td>\n",
       "      <td>3.000000</td>\n",
       "    </tr>\n",
       "    <tr>\n",
       "      <th>17</th>\n",
       "      <td>AGOH8N902URMW</td>\n",
       "      <td>B003725D32</td>\n",
       "      <td>5.000000</td>\n",
       "    </tr>\n",
       "    <tr>\n",
       "      <th>18</th>\n",
       "      <td>AGXMC3ITWZASE</td>\n",
       "      <td>B00178TVPY</td>\n",
       "      <td>4.253955</td>\n",
       "    </tr>\n",
       "    <tr>\n",
       "      <th>19</th>\n",
       "      <td>ABH9D1TEOJ56E</td>\n",
       "      <td>B00008PVXB</td>\n",
       "      <td>4.253955</td>\n",
       "    </tr>\n",
       "    <tr>\n",
       "      <th>20</th>\n",
       "      <td>AD0J5KK4WQXNS</td>\n",
       "      <td>B000HAR8UI</td>\n",
       "      <td>4.333333</td>\n",
       "    </tr>\n",
       "    <tr>\n",
       "      <th>21</th>\n",
       "      <td>A1QLQCJVGCQPP0</td>\n",
       "      <td>B0001M2FZK</td>\n",
       "      <td>4.000000</td>\n",
       "    </tr>\n",
       "    <tr>\n",
       "      <th>22</th>\n",
       "      <td>A17O9AHKHK66AI</td>\n",
       "      <td>B001QTW2BE</td>\n",
       "      <td>4.000000</td>\n",
       "    </tr>\n",
       "    <tr>\n",
       "      <th>23</th>\n",
       "      <td>A2AY4YUOX2N1BQ</td>\n",
       "      <td>B0000A5A9H</td>\n",
       "      <td>4.253955</td>\n",
       "    </tr>\n",
       "    <tr>\n",
       "      <th>24</th>\n",
       "      <td>AN2IZT80ZUNJN</td>\n",
       "      <td>B0036NMQ7S</td>\n",
       "      <td>5.000000</td>\n",
       "    </tr>\n",
       "    <tr>\n",
       "      <th>25</th>\n",
       "      <td>A2HBOG4LVIY15L</td>\n",
       "      <td>B0010UKDEW</td>\n",
       "      <td>4.253955</td>\n",
       "    </tr>\n",
       "    <tr>\n",
       "      <th>26</th>\n",
       "      <td>A2VJ5ALN1BIV3B</td>\n",
       "      <td>B002BOYSPQ</td>\n",
       "      <td>5.000000</td>\n",
       "    </tr>\n",
       "    <tr>\n",
       "      <th>27</th>\n",
       "      <td>A1EVV74UQYVKRY</td>\n",
       "      <td>B000S5Q9CA</td>\n",
       "      <td>4.928040</td>\n",
       "    </tr>\n",
       "    <tr>\n",
       "      <th>28</th>\n",
       "      <td>A5JLAU2ARJ0BO</td>\n",
       "      <td>B000WKPHI8</td>\n",
       "      <td>4.253955</td>\n",
       "    </tr>\n",
       "    <tr>\n",
       "      <th>29</th>\n",
       "      <td>AK3GKIV8DEY8B</td>\n",
       "      <td>B000GLIIFW</td>\n",
       "      <td>4.333333</td>\n",
       "    </tr>\n",
       "    <tr>\n",
       "      <th>...</th>\n",
       "      <td>...</td>\n",
       "      <td>...</td>\n",
       "      <td>...</td>\n",
       "    </tr>\n",
       "    <tr>\n",
       "      <th>7303</th>\n",
       "      <td>A3LSEIG2PIJYBL</td>\n",
       "      <td>B000KL6SNW</td>\n",
       "      <td>4.253955</td>\n",
       "    </tr>\n",
       "    <tr>\n",
       "      <th>7304</th>\n",
       "      <td>A38V76R24EJSHA</td>\n",
       "      <td>B000VX6XL6</td>\n",
       "      <td>5.000000</td>\n",
       "    </tr>\n",
       "    <tr>\n",
       "      <th>7305</th>\n",
       "      <td>A1H55L0BLPCWYF</td>\n",
       "      <td>B003374OWW</td>\n",
       "      <td>5.000000</td>\n",
       "    </tr>\n",
       "    <tr>\n",
       "      <th>7306</th>\n",
       "      <td>A1YVO5V1SO18DZ</td>\n",
       "      <td>B00302RQPW</td>\n",
       "      <td>3.500000</td>\n",
       "    </tr>\n",
       "    <tr>\n",
       "      <th>7307</th>\n",
       "      <td>A1YVO5V1SO18DZ</td>\n",
       "      <td>B0009A1F82</td>\n",
       "      <td>4.253955</td>\n",
       "    </tr>\n",
       "    <tr>\n",
       "      <th>7308</th>\n",
       "      <td>A1XB7JGJ459ERP</td>\n",
       "      <td>B0015DYMVO</td>\n",
       "      <td>4.196078</td>\n",
       "    </tr>\n",
       "    <tr>\n",
       "      <th>7309</th>\n",
       "      <td>A3FOSLM5G1BO63</td>\n",
       "      <td>B001D9IWIY</td>\n",
       "      <td>3.900000</td>\n",
       "    </tr>\n",
       "    <tr>\n",
       "      <th>7310</th>\n",
       "      <td>A4S2WAQVQR6PI</td>\n",
       "      <td>B002RCNX8K</td>\n",
       "      <td>4.916667</td>\n",
       "    </tr>\n",
       "    <tr>\n",
       "      <th>7311</th>\n",
       "      <td>A3OZA8HNJM26DC</td>\n",
       "      <td>B001BSM954</td>\n",
       "      <td>5.000000</td>\n",
       "    </tr>\n",
       "    <tr>\n",
       "      <th>7312</th>\n",
       "      <td>ATOKT8QYK967L</td>\n",
       "      <td>B003BWHLMO</td>\n",
       "      <td>4.253955</td>\n",
       "    </tr>\n",
       "    <tr>\n",
       "      <th>7313</th>\n",
       "      <td>ABMNX856X89CS</td>\n",
       "      <td>B001VZ1W5U</td>\n",
       "      <td>5.000000</td>\n",
       "    </tr>\n",
       "    <tr>\n",
       "      <th>7314</th>\n",
       "      <td>A3V5F050GVZ56Q</td>\n",
       "      <td>B000QS5MM2</td>\n",
       "      <td>4.253955</td>\n",
       "    </tr>\n",
       "    <tr>\n",
       "      <th>7315</th>\n",
       "      <td>AN9WA4C5E7YY5</td>\n",
       "      <td>B003MWQ30E</td>\n",
       "      <td>4.253955</td>\n",
       "    </tr>\n",
       "    <tr>\n",
       "      <th>7316</th>\n",
       "      <td>AW6J9IILGOZY3</td>\n",
       "      <td>B0034CL2ZI</td>\n",
       "      <td>4.666667</td>\n",
       "    </tr>\n",
       "    <tr>\n",
       "      <th>7317</th>\n",
       "      <td>AR8LWDT6TUKNZ</td>\n",
       "      <td>B00368HR4U</td>\n",
       "      <td>4.253955</td>\n",
       "    </tr>\n",
       "    <tr>\n",
       "      <th>7318</th>\n",
       "      <td>A3LDLV1GWQJLEQ</td>\n",
       "      <td>B0006HU49Y</td>\n",
       "      <td>3.750000</td>\n",
       "    </tr>\n",
       "    <tr>\n",
       "      <th>7319</th>\n",
       "      <td>A3S5WYWYKSAI9C</td>\n",
       "      <td>B002OAVQJ8</td>\n",
       "      <td>4.200000</td>\n",
       "    </tr>\n",
       "    <tr>\n",
       "      <th>7320</th>\n",
       "      <td>A3LDFTSXU3UPBO</td>\n",
       "      <td>B00307F8PW</td>\n",
       "      <td>4.253955</td>\n",
       "    </tr>\n",
       "    <tr>\n",
       "      <th>7321</th>\n",
       "      <td>ALQ4USPEQ9L5N</td>\n",
       "      <td>B001762LIA</td>\n",
       "      <td>4.253955</td>\n",
       "    </tr>\n",
       "    <tr>\n",
       "      <th>7322</th>\n",
       "      <td>A3EK2KTYHJCPB9</td>\n",
       "      <td>B003M8HWDA</td>\n",
       "      <td>4.222222</td>\n",
       "    </tr>\n",
       "    <tr>\n",
       "      <th>7323</th>\n",
       "      <td>A3FOSLM5G1BO63</td>\n",
       "      <td>B00269YAAO</td>\n",
       "      <td>4.253955</td>\n",
       "    </tr>\n",
       "    <tr>\n",
       "      <th>7324</th>\n",
       "      <td>AWNBZSEZ9P8BE</td>\n",
       "      <td>B002MZZR04</td>\n",
       "      <td>5.000000</td>\n",
       "    </tr>\n",
       "    <tr>\n",
       "      <th>7325</th>\n",
       "      <td>A1PVX61PRPVX27</td>\n",
       "      <td>B000VRJQOI</td>\n",
       "      <td>4.253955</td>\n",
       "    </tr>\n",
       "    <tr>\n",
       "      <th>7326</th>\n",
       "      <td>AN2IZT80ZUNJN</td>\n",
       "      <td>B001AQ0YCW</td>\n",
       "      <td>4.253955</td>\n",
       "    </tr>\n",
       "    <tr>\n",
       "      <th>7327</th>\n",
       "      <td>A51OFQVC6O5YL</td>\n",
       "      <td>B003FE7GTG</td>\n",
       "      <td>4.253955</td>\n",
       "    </tr>\n",
       "    <tr>\n",
       "      <th>7328</th>\n",
       "      <td>AQM0K7MBBT4AY</td>\n",
       "      <td>B000B9RI14</td>\n",
       "      <td>4.250000</td>\n",
       "    </tr>\n",
       "    <tr>\n",
       "      <th>7329</th>\n",
       "      <td>A3BY5KCNQZXV5U</td>\n",
       "      <td>B000OMKR8E</td>\n",
       "      <td>4.000000</td>\n",
       "    </tr>\n",
       "    <tr>\n",
       "      <th>7330</th>\n",
       "      <td>A21KNRUAA5RK5E</td>\n",
       "      <td>B0036R9YA6</td>\n",
       "      <td>4.666667</td>\n",
       "    </tr>\n",
       "    <tr>\n",
       "      <th>7331</th>\n",
       "      <td>A2JMJVNTBL7K7E</td>\n",
       "      <td>B0002GDIII</td>\n",
       "      <td>4.600000</td>\n",
       "    </tr>\n",
       "    <tr>\n",
       "      <th>7332</th>\n",
       "      <td>AXR3CV6A4FMBG</td>\n",
       "      <td>B001MSF1FI</td>\n",
       "      <td>4.400000</td>\n",
       "    </tr>\n",
       "  </tbody>\n",
       "</table>\n",
       "<p>7333 rows × 3 columns</p>\n",
       "</div>"
      ],
      "text/plain": [
       "              userId   productId  est_rating\n",
       "0     A2HMF8ZR67BNZS  B003MVMTDA    4.750000\n",
       "1     A21INUA35HX4XQ  B00007KDX5    3.500000\n",
       "2     A18S2VGUH9SCV5  B003H3H4K6    4.500000\n",
       "3     A3CKI6VEH0HBMJ  B000NDA5E0    4.000000\n",
       "4     A1P0JSFW184ZXJ  B001PUQ7PG    4.277972\n",
       "5     A20DZX38KRBIT8  B0016OJXGQ    4.000000\n",
       "6     A3F3B1JPACN215  B003VVH8Y6    4.250000\n",
       "7     A1RJKTYC03L0JY  B003URJP5Q    4.000000\n",
       "8     A1JWSDDIH5Z7DV  B000O3N71W    4.253955\n",
       "9      AKSQNMIKOU01H  B0016XFZNW    4.253955\n",
       "10    A33YZNZIRA3H97  B001TKRLPC    4.000000\n",
       "11    A3CFU12GS5CZCN  B0037FQVX0    5.000000\n",
       "12    A2UTZ4O5E2W4DK  B00099C2M6    5.000000\n",
       "13    A25HBO5V8S8SEA  B00004Z90O    4.253955\n",
       "14    A38KK0SZYEH5UD  B002NX13LC    5.000000\n",
       "15    A1VRANSQ0WF1YS  B002CNOYRS    4.000000\n",
       "16    A3TRY87JJCA5Y8  B000FFYNS0    3.000000\n",
       "17     AGOH8N902URMW  B003725D32    5.000000\n",
       "18     AGXMC3ITWZASE  B00178TVPY    4.253955\n",
       "19     ABH9D1TEOJ56E  B00008PVXB    4.253955\n",
       "20     AD0J5KK4WQXNS  B000HAR8UI    4.333333\n",
       "21    A1QLQCJVGCQPP0  B0001M2FZK    4.000000\n",
       "22    A17O9AHKHK66AI  B001QTW2BE    4.000000\n",
       "23    A2AY4YUOX2N1BQ  B0000A5A9H    4.253955\n",
       "24     AN2IZT80ZUNJN  B0036NMQ7S    5.000000\n",
       "25    A2HBOG4LVIY15L  B0010UKDEW    4.253955\n",
       "26    A2VJ5ALN1BIV3B  B002BOYSPQ    5.000000\n",
       "27    A1EVV74UQYVKRY  B000S5Q9CA    4.928040\n",
       "28     A5JLAU2ARJ0BO  B000WKPHI8    4.253955\n",
       "29     AK3GKIV8DEY8B  B000GLIIFW    4.333333\n",
       "...              ...         ...         ...\n",
       "7303  A3LSEIG2PIJYBL  B000KL6SNW    4.253955\n",
       "7304  A38V76R24EJSHA  B000VX6XL6    5.000000\n",
       "7305  A1H55L0BLPCWYF  B003374OWW    5.000000\n",
       "7306  A1YVO5V1SO18DZ  B00302RQPW    3.500000\n",
       "7307  A1YVO5V1SO18DZ  B0009A1F82    4.253955\n",
       "7308  A1XB7JGJ459ERP  B0015DYMVO    4.196078\n",
       "7309  A3FOSLM5G1BO63  B001D9IWIY    3.900000\n",
       "7310   A4S2WAQVQR6PI  B002RCNX8K    4.916667\n",
       "7311  A3OZA8HNJM26DC  B001BSM954    5.000000\n",
       "7312   ATOKT8QYK967L  B003BWHLMO    4.253955\n",
       "7313   ABMNX856X89CS  B001VZ1W5U    5.000000\n",
       "7314  A3V5F050GVZ56Q  B000QS5MM2    4.253955\n",
       "7315   AN9WA4C5E7YY5  B003MWQ30E    4.253955\n",
       "7316   AW6J9IILGOZY3  B0034CL2ZI    4.666667\n",
       "7317   AR8LWDT6TUKNZ  B00368HR4U    4.253955\n",
       "7318  A3LDLV1GWQJLEQ  B0006HU49Y    3.750000\n",
       "7319  A3S5WYWYKSAI9C  B002OAVQJ8    4.200000\n",
       "7320  A3LDFTSXU3UPBO  B00307F8PW    4.253955\n",
       "7321   ALQ4USPEQ9L5N  B001762LIA    4.253955\n",
       "7322  A3EK2KTYHJCPB9  B003M8HWDA    4.222222\n",
       "7323  A3FOSLM5G1BO63  B00269YAAO    4.253955\n",
       "7324   AWNBZSEZ9P8BE  B002MZZR04    5.000000\n",
       "7325  A1PVX61PRPVX27  B000VRJQOI    4.253955\n",
       "7326   AN2IZT80ZUNJN  B001AQ0YCW    4.253955\n",
       "7327   A51OFQVC6O5YL  B003FE7GTG    4.253955\n",
       "7328   AQM0K7MBBT4AY  B000B9RI14    4.250000\n",
       "7329  A3BY5KCNQZXV5U  B000OMKR8E    4.000000\n",
       "7330  A21KNRUAA5RK5E  B0036R9YA6    4.666667\n",
       "7331  A2JMJVNTBL7K7E  B0002GDIII    4.600000\n",
       "7332   AXR3CV6A4FMBG  B001MSF1FI    4.400000\n",
       "\n",
       "[7333 rows x 3 columns]"
      ]
     },
     "execution_count": 83,
     "metadata": {},
     "output_type": "execute_result"
    }
   ],
   "source": [
    "n_recommendations = 5\n",
    "top_5_recos = item_sim_test_pred_df.groupby(\"userId\").head(5).reset_index(drop=True)\n",
    "top_5_recos"
   ]
  },
  {
   "cell_type": "markdown",
   "metadata": {},
   "source": [
    "### Evaluating Item Similarity based Collaborative Filtering Model using RMSE metric"
   ]
  },
  {
   "cell_type": "code",
   "execution_count": 84,
   "metadata": {},
   "outputs": [
    {
     "name": "stdout",
     "output_type": "stream",
     "text": [
      "\n",
      "RMSE for Item-Similarity based Model :\n",
      "RMSE: 1.1906\n"
     ]
    },
    {
     "data": {
      "text/plain": [
       "1.1906478558336513"
      ]
     },
     "execution_count": 84,
     "metadata": {},
     "output_type": "execute_result"
    }
   ],
   "source": [
    "# get RMSE value for the model\n",
    "\n",
    "print(\"\\nRMSE for Item-Similarity based Model :\")\n",
    "accuracy.rmse(item_sim_test_pred, verbose=True)"
   ]
  },
  {
   "cell_type": "markdown",
   "metadata": {},
   "source": [
    "### User Similarity Based Collaborative Recommendation System using KNNWithMeans in Surprise library\n",
    "- User Similarity based Collaborative Recommendation System looks for users who are similar and recommend the most similar items to the users based o user similarity\n",
    "- Similarity is based upon similarity in the purchasing behaviour of the users"
   ]
  },
  {
   "cell_type": "code",
   "execution_count": 85,
   "metadata": {},
   "outputs": [],
   "source": [
    "#Creating an instance of User Similarity based Collaborative Filtering model\n",
    "#Use user_based true/false to switch between user-based or item-based collaborative filtering\n",
    "\n",
    "user_sim_model = KNNWithMeans(k=50, min_k=1, sim_options={'name': 'pearson_baseline', 'user_based': True})"
   ]
  },
  {
   "cell_type": "code",
   "execution_count": 86,
   "metadata": {},
   "outputs": [
    {
     "name": "stdout",
     "output_type": "stream",
     "text": [
      "Estimating biases using als...\n",
      "Computing the pearson_baseline similarity matrix...\n",
      "Done computing similarity matrix.\n"
     ]
    },
    {
     "data": {
      "text/plain": [
       "<surprise.prediction_algorithms.knns.KNNWithMeans at 0x1bb8b5a4860>"
      ]
     },
     "execution_count": 86,
     "metadata": {},
     "output_type": "execute_result"
    }
   ],
   "source": [
    "#Fit the model on trainset\n",
    "\n",
    "user_sim_model.fit(trainset)"
   ]
  },
  {
   "cell_type": "code",
   "execution_count": 87,
   "metadata": {},
   "outputs": [],
   "source": [
    "#Run the model on testset to get the predictions\n",
    "\n",
    "user_sim_test_pred = user_sim_model.test(testset)"
   ]
  },
  {
   "cell_type": "code",
   "execution_count": 88,
   "metadata": {},
   "outputs": [
    {
     "name": "stdout",
     "output_type": "stream",
     "text": [
      "Size of predictions: 18881\n"
     ]
    }
   ],
   "source": [
    "print('Size of predictions:',len(user_sim_test_pred))"
   ]
  },
  {
   "cell_type": "code",
   "execution_count": 89,
   "metadata": {},
   "outputs": [
    {
     "data": {
      "text/plain": [
       "[Prediction(uid='A2HMF8ZR67BNZS', iid='B003MVMTDA', r_ui=5.0, est=4.155830753353974, details={'actual_k': 1, 'was_impossible': False}),\n",
       " Prediction(uid='A21INUA35HX4XQ', iid='B00007KDX5', r_ui=5.0, est=3.6666666666666665, details={'actual_k': 0, 'was_impossible': False}),\n",
       " Prediction(uid='A18S2VGUH9SCV5', iid='B003H3H4K6', r_ui=5.0, est=3.8771929824561404, details={'actual_k': 0, 'was_impossible': False}),\n",
       " Prediction(uid='A3CKI6VEH0HBMJ', iid='B000NDA5E0', r_ui=5.0, est=4.72, details={'actual_k': 0, 'was_impossible': False}),\n",
       " Prediction(uid='A1P0JSFW184ZXJ', iid='B001PUQ7PG', r_ui=4.0, est=4.150621118012422, details={'actual_k': 1, 'was_impossible': False})]"
      ]
     },
     "execution_count": 89,
     "metadata": {},
     "output_type": "execute_result"
    }
   ],
   "source": [
    "user_sim_test_pred[0:5]"
   ]
  },
  {
   "cell_type": "code",
   "execution_count": 90,
   "metadata": {},
   "outputs": [],
   "source": [
    "user_sim_test_pred_df = pd.DataFrame(([[x.uid,x.iid,x.est] for x in user_sim_test_pred]),\n",
    "                                     columns=[\"userId\",\"productId\",\"est_rating\"])"
   ]
  },
  {
   "cell_type": "code",
   "execution_count": 91,
   "metadata": {},
   "outputs": [
    {
     "data": {
      "text/html": [
       "<div>\n",
       "<style scoped>\n",
       "    .dataframe tbody tr th:only-of-type {\n",
       "        vertical-align: middle;\n",
       "    }\n",
       "\n",
       "    .dataframe tbody tr th {\n",
       "        vertical-align: top;\n",
       "    }\n",
       "\n",
       "    .dataframe thead th {\n",
       "        text-align: right;\n",
       "    }\n",
       "</style>\n",
       "<table border=\"1\" class=\"dataframe\">\n",
       "  <thead>\n",
       "    <tr style=\"text-align: right;\">\n",
       "      <th></th>\n",
       "      <th>userId</th>\n",
       "      <th>productId</th>\n",
       "      <th>est_rating</th>\n",
       "    </tr>\n",
       "  </thead>\n",
       "  <tbody>\n",
       "    <tr>\n",
       "      <th>0</th>\n",
       "      <td>A2HMF8ZR67BNZS</td>\n",
       "      <td>B003MVMTDA</td>\n",
       "      <td>4.155831</td>\n",
       "    </tr>\n",
       "    <tr>\n",
       "      <th>1</th>\n",
       "      <td>A21INUA35HX4XQ</td>\n",
       "      <td>B00007KDX5</td>\n",
       "      <td>3.666667</td>\n",
       "    </tr>\n",
       "    <tr>\n",
       "      <th>2</th>\n",
       "      <td>A18S2VGUH9SCV5</td>\n",
       "      <td>B003H3H4K6</td>\n",
       "      <td>3.877193</td>\n",
       "    </tr>\n",
       "    <tr>\n",
       "      <th>3</th>\n",
       "      <td>A3CKI6VEH0HBMJ</td>\n",
       "      <td>B000NDA5E0</td>\n",
       "      <td>4.720000</td>\n",
       "    </tr>\n",
       "    <tr>\n",
       "      <th>4</th>\n",
       "      <td>A1P0JSFW184ZXJ</td>\n",
       "      <td>B001PUQ7PG</td>\n",
       "      <td>4.150621</td>\n",
       "    </tr>\n",
       "  </tbody>\n",
       "</table>\n",
       "</div>"
      ],
      "text/plain": [
       "           userId   productId  est_rating\n",
       "0  A2HMF8ZR67BNZS  B003MVMTDA    4.155831\n",
       "1  A21INUA35HX4XQ  B00007KDX5    3.666667\n",
       "2  A18S2VGUH9SCV5  B003H3H4K6    3.877193\n",
       "3  A3CKI6VEH0HBMJ  B000NDA5E0    4.720000\n",
       "4  A1P0JSFW184ZXJ  B001PUQ7PG    4.150621"
      ]
     },
     "execution_count": 91,
     "metadata": {},
     "output_type": "execute_result"
    }
   ],
   "source": [
    "user_sim_test_pred_df.head()"
   ]
  },
  {
   "cell_type": "markdown",
   "metadata": {},
   "source": [
    "### Finding top - K ( K = 5) recommendations using User Similarity based Collaborative Filtering Model"
   ]
  },
  {
   "cell_type": "code",
   "execution_count": 92,
   "metadata": {
    "scrolled": true
   },
   "outputs": [
    {
     "data": {
      "text/html": [
       "<div>\n",
       "<style scoped>\n",
       "    .dataframe tbody tr th:only-of-type {\n",
       "        vertical-align: middle;\n",
       "    }\n",
       "\n",
       "    .dataframe tbody tr th {\n",
       "        vertical-align: top;\n",
       "    }\n",
       "\n",
       "    .dataframe thead th {\n",
       "        text-align: right;\n",
       "    }\n",
       "</style>\n",
       "<table border=\"1\" class=\"dataframe\">\n",
       "  <thead>\n",
       "    <tr style=\"text-align: right;\">\n",
       "      <th></th>\n",
       "      <th>userId</th>\n",
       "      <th>productId</th>\n",
       "      <th>est_rating</th>\n",
       "    </tr>\n",
       "  </thead>\n",
       "  <tbody>\n",
       "    <tr>\n",
       "      <th>0</th>\n",
       "      <td>A2HMF8ZR67BNZS</td>\n",
       "      <td>B003MVMTDA</td>\n",
       "      <td>4.155831</td>\n",
       "    </tr>\n",
       "    <tr>\n",
       "      <th>1</th>\n",
       "      <td>A21INUA35HX4XQ</td>\n",
       "      <td>B00007KDX5</td>\n",
       "      <td>3.666667</td>\n",
       "    </tr>\n",
       "    <tr>\n",
       "      <th>2</th>\n",
       "      <td>A18S2VGUH9SCV5</td>\n",
       "      <td>B003H3H4K6</td>\n",
       "      <td>3.877193</td>\n",
       "    </tr>\n",
       "    <tr>\n",
       "      <th>3</th>\n",
       "      <td>A3CKI6VEH0HBMJ</td>\n",
       "      <td>B000NDA5E0</td>\n",
       "      <td>4.720000</td>\n",
       "    </tr>\n",
       "    <tr>\n",
       "      <th>4</th>\n",
       "      <td>A1P0JSFW184ZXJ</td>\n",
       "      <td>B001PUQ7PG</td>\n",
       "      <td>4.150621</td>\n",
       "    </tr>\n",
       "    <tr>\n",
       "      <th>5</th>\n",
       "      <td>A20DZX38KRBIT8</td>\n",
       "      <td>B0016OJXGQ</td>\n",
       "      <td>2.629310</td>\n",
       "    </tr>\n",
       "    <tr>\n",
       "      <th>6</th>\n",
       "      <td>A3F3B1JPACN215</td>\n",
       "      <td>B003VVH8Y6</td>\n",
       "      <td>4.423077</td>\n",
       "    </tr>\n",
       "    <tr>\n",
       "      <th>7</th>\n",
       "      <td>A1RJKTYC03L0JY</td>\n",
       "      <td>B003URJP5Q</td>\n",
       "      <td>4.304348</td>\n",
       "    </tr>\n",
       "    <tr>\n",
       "      <th>8</th>\n",
       "      <td>A1JWSDDIH5Z7DV</td>\n",
       "      <td>B000O3N71W</td>\n",
       "      <td>4.253955</td>\n",
       "    </tr>\n",
       "    <tr>\n",
       "      <th>9</th>\n",
       "      <td>AKSQNMIKOU01H</td>\n",
       "      <td>B0016XFZNW</td>\n",
       "      <td>4.253955</td>\n",
       "    </tr>\n",
       "    <tr>\n",
       "      <th>10</th>\n",
       "      <td>A33YZNZIRA3H97</td>\n",
       "      <td>B001TKRLPC</td>\n",
       "      <td>3.975000</td>\n",
       "    </tr>\n",
       "    <tr>\n",
       "      <th>11</th>\n",
       "      <td>A3CFU12GS5CZCN</td>\n",
       "      <td>B0037FQVX0</td>\n",
       "      <td>3.933333</td>\n",
       "    </tr>\n",
       "    <tr>\n",
       "      <th>12</th>\n",
       "      <td>A2UTZ4O5E2W4DK</td>\n",
       "      <td>B00099C2M6</td>\n",
       "      <td>4.720000</td>\n",
       "    </tr>\n",
       "    <tr>\n",
       "      <th>13</th>\n",
       "      <td>A25HBO5V8S8SEA</td>\n",
       "      <td>B00004Z90O</td>\n",
       "      <td>4.253955</td>\n",
       "    </tr>\n",
       "    <tr>\n",
       "      <th>14</th>\n",
       "      <td>A38KK0SZYEH5UD</td>\n",
       "      <td>B002NX13LC</td>\n",
       "      <td>4.430556</td>\n",
       "    </tr>\n",
       "    <tr>\n",
       "      <th>15</th>\n",
       "      <td>A1VRANSQ0WF1YS</td>\n",
       "      <td>B002CNOYRS</td>\n",
       "      <td>4.242424</td>\n",
       "    </tr>\n",
       "    <tr>\n",
       "      <th>16</th>\n",
       "      <td>A3TRY87JJCA5Y8</td>\n",
       "      <td>B000FFYNS0</td>\n",
       "      <td>4.481481</td>\n",
       "    </tr>\n",
       "    <tr>\n",
       "      <th>17</th>\n",
       "      <td>AGOH8N902URMW</td>\n",
       "      <td>B003725D32</td>\n",
       "      <td>4.854902</td>\n",
       "    </tr>\n",
       "    <tr>\n",
       "      <th>18</th>\n",
       "      <td>AGXMC3ITWZASE</td>\n",
       "      <td>B00178TVPY</td>\n",
       "      <td>4.253955</td>\n",
       "    </tr>\n",
       "    <tr>\n",
       "      <th>19</th>\n",
       "      <td>ABH9D1TEOJ56E</td>\n",
       "      <td>B00008PVXB</td>\n",
       "      <td>4.253955</td>\n",
       "    </tr>\n",
       "    <tr>\n",
       "      <th>20</th>\n",
       "      <td>AD0J5KK4WQXNS</td>\n",
       "      <td>B000HAR8UI</td>\n",
       "      <td>4.777778</td>\n",
       "    </tr>\n",
       "    <tr>\n",
       "      <th>21</th>\n",
       "      <td>A1QLQCJVGCQPP0</td>\n",
       "      <td>B0001M2FZK</td>\n",
       "      <td>4.071429</td>\n",
       "    </tr>\n",
       "    <tr>\n",
       "      <th>22</th>\n",
       "      <td>A17O9AHKHK66AI</td>\n",
       "      <td>B001QTW2BE</td>\n",
       "      <td>3.517241</td>\n",
       "    </tr>\n",
       "    <tr>\n",
       "      <th>23</th>\n",
       "      <td>A2AY4YUOX2N1BQ</td>\n",
       "      <td>B0000A5A9H</td>\n",
       "      <td>4.253955</td>\n",
       "    </tr>\n",
       "    <tr>\n",
       "      <th>24</th>\n",
       "      <td>AN2IZT80ZUNJN</td>\n",
       "      <td>B0036NMQ7S</td>\n",
       "      <td>4.000000</td>\n",
       "    </tr>\n",
       "    <tr>\n",
       "      <th>25</th>\n",
       "      <td>A2HBOG4LVIY15L</td>\n",
       "      <td>B0010UKDEW</td>\n",
       "      <td>4.253955</td>\n",
       "    </tr>\n",
       "    <tr>\n",
       "      <th>26</th>\n",
       "      <td>A2VJ5ALN1BIV3B</td>\n",
       "      <td>B002BOYSPQ</td>\n",
       "      <td>4.500000</td>\n",
       "    </tr>\n",
       "    <tr>\n",
       "      <th>27</th>\n",
       "      <td>A1EVV74UQYVKRY</td>\n",
       "      <td>B000S5Q9CA</td>\n",
       "      <td>4.638889</td>\n",
       "    </tr>\n",
       "    <tr>\n",
       "      <th>28</th>\n",
       "      <td>A5JLAU2ARJ0BO</td>\n",
       "      <td>B000WKPHI8</td>\n",
       "      <td>4.253955</td>\n",
       "    </tr>\n",
       "    <tr>\n",
       "      <th>29</th>\n",
       "      <td>AK3GKIV8DEY8B</td>\n",
       "      <td>B000GLIIFW</td>\n",
       "      <td>4.661765</td>\n",
       "    </tr>\n",
       "    <tr>\n",
       "      <th>...</th>\n",
       "      <td>...</td>\n",
       "      <td>...</td>\n",
       "      <td>...</td>\n",
       "    </tr>\n",
       "    <tr>\n",
       "      <th>7303</th>\n",
       "      <td>A3LSEIG2PIJYBL</td>\n",
       "      <td>B000KL6SNW</td>\n",
       "      <td>4.253955</td>\n",
       "    </tr>\n",
       "    <tr>\n",
       "      <th>7304</th>\n",
       "      <td>A38V76R24EJSHA</td>\n",
       "      <td>B000VX6XL6</td>\n",
       "      <td>4.666667</td>\n",
       "    </tr>\n",
       "    <tr>\n",
       "      <th>7305</th>\n",
       "      <td>A1H55L0BLPCWYF</td>\n",
       "      <td>B003374OWW</td>\n",
       "      <td>4.684211</td>\n",
       "    </tr>\n",
       "    <tr>\n",
       "      <th>7306</th>\n",
       "      <td>A1YVO5V1SO18DZ</td>\n",
       "      <td>B00302RQPW</td>\n",
       "      <td>4.818182</td>\n",
       "    </tr>\n",
       "    <tr>\n",
       "      <th>7307</th>\n",
       "      <td>A1YVO5V1SO18DZ</td>\n",
       "      <td>B0009A1F82</td>\n",
       "      <td>4.253955</td>\n",
       "    </tr>\n",
       "    <tr>\n",
       "      <th>7308</th>\n",
       "      <td>A1XB7JGJ459ERP</td>\n",
       "      <td>B0015DYMVO</td>\n",
       "      <td>3.933333</td>\n",
       "    </tr>\n",
       "    <tr>\n",
       "      <th>7309</th>\n",
       "      <td>A3FOSLM5G1BO63</td>\n",
       "      <td>B001D9IWIY</td>\n",
       "      <td>2.555556</td>\n",
       "    </tr>\n",
       "    <tr>\n",
       "      <th>7310</th>\n",
       "      <td>A4S2WAQVQR6PI</td>\n",
       "      <td>B002RCNX8K</td>\n",
       "      <td>3.892857</td>\n",
       "    </tr>\n",
       "    <tr>\n",
       "      <th>7311</th>\n",
       "      <td>A3OZA8HNJM26DC</td>\n",
       "      <td>B001BSM954</td>\n",
       "      <td>2.600000</td>\n",
       "    </tr>\n",
       "    <tr>\n",
       "      <th>7312</th>\n",
       "      <td>ATOKT8QYK967L</td>\n",
       "      <td>B003BWHLMO</td>\n",
       "      <td>4.253955</td>\n",
       "    </tr>\n",
       "    <tr>\n",
       "      <th>7313</th>\n",
       "      <td>ABMNX856X89CS</td>\n",
       "      <td>B001VZ1W5U</td>\n",
       "      <td>4.500000</td>\n",
       "    </tr>\n",
       "    <tr>\n",
       "      <th>7314</th>\n",
       "      <td>A3V5F050GVZ56Q</td>\n",
       "      <td>B000QS5MM2</td>\n",
       "      <td>4.253955</td>\n",
       "    </tr>\n",
       "    <tr>\n",
       "      <th>7315</th>\n",
       "      <td>AN9WA4C5E7YY5</td>\n",
       "      <td>B003MWQ30E</td>\n",
       "      <td>4.253955</td>\n",
       "    </tr>\n",
       "    <tr>\n",
       "      <th>7316</th>\n",
       "      <td>AW6J9IILGOZY3</td>\n",
       "      <td>B0034CL2ZI</td>\n",
       "      <td>4.222222</td>\n",
       "    </tr>\n",
       "    <tr>\n",
       "      <th>7317</th>\n",
       "      <td>AR8LWDT6TUKNZ</td>\n",
       "      <td>B00368HR4U</td>\n",
       "      <td>4.253955</td>\n",
       "    </tr>\n",
       "    <tr>\n",
       "      <th>7318</th>\n",
       "      <td>A3LDLV1GWQJLEQ</td>\n",
       "      <td>B0006HU49Y</td>\n",
       "      <td>4.666667</td>\n",
       "    </tr>\n",
       "    <tr>\n",
       "      <th>7319</th>\n",
       "      <td>A3S5WYWYKSAI9C</td>\n",
       "      <td>B002OAVQJ8</td>\n",
       "      <td>3.700000</td>\n",
       "    </tr>\n",
       "    <tr>\n",
       "      <th>7320</th>\n",
       "      <td>A3LDFTSXU3UPBO</td>\n",
       "      <td>B00307F8PW</td>\n",
       "      <td>4.253955</td>\n",
       "    </tr>\n",
       "    <tr>\n",
       "      <th>7321</th>\n",
       "      <td>ALQ4USPEQ9L5N</td>\n",
       "      <td>B001762LIA</td>\n",
       "      <td>4.253955</td>\n",
       "    </tr>\n",
       "    <tr>\n",
       "      <th>7322</th>\n",
       "      <td>A3EK2KTYHJCPB9</td>\n",
       "      <td>B003M8HWDA</td>\n",
       "      <td>4.500000</td>\n",
       "    </tr>\n",
       "    <tr>\n",
       "      <th>7323</th>\n",
       "      <td>A3FOSLM5G1BO63</td>\n",
       "      <td>B00269YAAO</td>\n",
       "      <td>4.253955</td>\n",
       "    </tr>\n",
       "    <tr>\n",
       "      <th>7324</th>\n",
       "      <td>AWNBZSEZ9P8BE</td>\n",
       "      <td>B002MZZR04</td>\n",
       "      <td>4.125000</td>\n",
       "    </tr>\n",
       "    <tr>\n",
       "      <th>7325</th>\n",
       "      <td>A1PVX61PRPVX27</td>\n",
       "      <td>B000VRJQOI</td>\n",
       "      <td>4.253955</td>\n",
       "    </tr>\n",
       "    <tr>\n",
       "      <th>7326</th>\n",
       "      <td>AN2IZT80ZUNJN</td>\n",
       "      <td>B001AQ0YCW</td>\n",
       "      <td>4.253955</td>\n",
       "    </tr>\n",
       "    <tr>\n",
       "      <th>7327</th>\n",
       "      <td>A51OFQVC6O5YL</td>\n",
       "      <td>B003FE7GTG</td>\n",
       "      <td>4.253955</td>\n",
       "    </tr>\n",
       "    <tr>\n",
       "      <th>7328</th>\n",
       "      <td>AQM0K7MBBT4AY</td>\n",
       "      <td>B000B9RI14</td>\n",
       "      <td>4.384615</td>\n",
       "    </tr>\n",
       "    <tr>\n",
       "      <th>7329</th>\n",
       "      <td>A3BY5KCNQZXV5U</td>\n",
       "      <td>B000OMKR8E</td>\n",
       "      <td>4.210526</td>\n",
       "    </tr>\n",
       "    <tr>\n",
       "      <th>7330</th>\n",
       "      <td>A21KNRUAA5RK5E</td>\n",
       "      <td>B0036R9YA6</td>\n",
       "      <td>3.850000</td>\n",
       "    </tr>\n",
       "    <tr>\n",
       "      <th>7331</th>\n",
       "      <td>A2JMJVNTBL7K7E</td>\n",
       "      <td>B0002GDIII</td>\n",
       "      <td>3.800000</td>\n",
       "    </tr>\n",
       "    <tr>\n",
       "      <th>7332</th>\n",
       "      <td>AXR3CV6A4FMBG</td>\n",
       "      <td>B001MSF1FI</td>\n",
       "      <td>4.562500</td>\n",
       "    </tr>\n",
       "  </tbody>\n",
       "</table>\n",
       "<p>7333 rows × 3 columns</p>\n",
       "</div>"
      ],
      "text/plain": [
       "              userId   productId  est_rating\n",
       "0     A2HMF8ZR67BNZS  B003MVMTDA    4.155831\n",
       "1     A21INUA35HX4XQ  B00007KDX5    3.666667\n",
       "2     A18S2VGUH9SCV5  B003H3H4K6    3.877193\n",
       "3     A3CKI6VEH0HBMJ  B000NDA5E0    4.720000\n",
       "4     A1P0JSFW184ZXJ  B001PUQ7PG    4.150621\n",
       "5     A20DZX38KRBIT8  B0016OJXGQ    2.629310\n",
       "6     A3F3B1JPACN215  B003VVH8Y6    4.423077\n",
       "7     A1RJKTYC03L0JY  B003URJP5Q    4.304348\n",
       "8     A1JWSDDIH5Z7DV  B000O3N71W    4.253955\n",
       "9      AKSQNMIKOU01H  B0016XFZNW    4.253955\n",
       "10    A33YZNZIRA3H97  B001TKRLPC    3.975000\n",
       "11    A3CFU12GS5CZCN  B0037FQVX0    3.933333\n",
       "12    A2UTZ4O5E2W4DK  B00099C2M6    4.720000\n",
       "13    A25HBO5V8S8SEA  B00004Z90O    4.253955\n",
       "14    A38KK0SZYEH5UD  B002NX13LC    4.430556\n",
       "15    A1VRANSQ0WF1YS  B002CNOYRS    4.242424\n",
       "16    A3TRY87JJCA5Y8  B000FFYNS0    4.481481\n",
       "17     AGOH8N902URMW  B003725D32    4.854902\n",
       "18     AGXMC3ITWZASE  B00178TVPY    4.253955\n",
       "19     ABH9D1TEOJ56E  B00008PVXB    4.253955\n",
       "20     AD0J5KK4WQXNS  B000HAR8UI    4.777778\n",
       "21    A1QLQCJVGCQPP0  B0001M2FZK    4.071429\n",
       "22    A17O9AHKHK66AI  B001QTW2BE    3.517241\n",
       "23    A2AY4YUOX2N1BQ  B0000A5A9H    4.253955\n",
       "24     AN2IZT80ZUNJN  B0036NMQ7S    4.000000\n",
       "25    A2HBOG4LVIY15L  B0010UKDEW    4.253955\n",
       "26    A2VJ5ALN1BIV3B  B002BOYSPQ    4.500000\n",
       "27    A1EVV74UQYVKRY  B000S5Q9CA    4.638889\n",
       "28     A5JLAU2ARJ0BO  B000WKPHI8    4.253955\n",
       "29     AK3GKIV8DEY8B  B000GLIIFW    4.661765\n",
       "...              ...         ...         ...\n",
       "7303  A3LSEIG2PIJYBL  B000KL6SNW    4.253955\n",
       "7304  A38V76R24EJSHA  B000VX6XL6    4.666667\n",
       "7305  A1H55L0BLPCWYF  B003374OWW    4.684211\n",
       "7306  A1YVO5V1SO18DZ  B00302RQPW    4.818182\n",
       "7307  A1YVO5V1SO18DZ  B0009A1F82    4.253955\n",
       "7308  A1XB7JGJ459ERP  B0015DYMVO    3.933333\n",
       "7309  A3FOSLM5G1BO63  B001D9IWIY    2.555556\n",
       "7310   A4S2WAQVQR6PI  B002RCNX8K    3.892857\n",
       "7311  A3OZA8HNJM26DC  B001BSM954    2.600000\n",
       "7312   ATOKT8QYK967L  B003BWHLMO    4.253955\n",
       "7313   ABMNX856X89CS  B001VZ1W5U    4.500000\n",
       "7314  A3V5F050GVZ56Q  B000QS5MM2    4.253955\n",
       "7315   AN9WA4C5E7YY5  B003MWQ30E    4.253955\n",
       "7316   AW6J9IILGOZY3  B0034CL2ZI    4.222222\n",
       "7317   AR8LWDT6TUKNZ  B00368HR4U    4.253955\n",
       "7318  A3LDLV1GWQJLEQ  B0006HU49Y    4.666667\n",
       "7319  A3S5WYWYKSAI9C  B002OAVQJ8    3.700000\n",
       "7320  A3LDFTSXU3UPBO  B00307F8PW    4.253955\n",
       "7321   ALQ4USPEQ9L5N  B001762LIA    4.253955\n",
       "7322  A3EK2KTYHJCPB9  B003M8HWDA    4.500000\n",
       "7323  A3FOSLM5G1BO63  B00269YAAO    4.253955\n",
       "7324   AWNBZSEZ9P8BE  B002MZZR04    4.125000\n",
       "7325  A1PVX61PRPVX27  B000VRJQOI    4.253955\n",
       "7326   AN2IZT80ZUNJN  B001AQ0YCW    4.253955\n",
       "7327   A51OFQVC6O5YL  B003FE7GTG    4.253955\n",
       "7328   AQM0K7MBBT4AY  B000B9RI14    4.384615\n",
       "7329  A3BY5KCNQZXV5U  B000OMKR8E    4.210526\n",
       "7330  A21KNRUAA5RK5E  B0036R9YA6    3.850000\n",
       "7331  A2JMJVNTBL7K7E  B0002GDIII    3.800000\n",
       "7332   AXR3CV6A4FMBG  B001MSF1FI    4.562500\n",
       "\n",
       "[7333 rows x 3 columns]"
      ]
     },
     "execution_count": 92,
     "metadata": {},
     "output_type": "execute_result"
    }
   ],
   "source": [
    "n_recommendations = 5\n",
    "top_5_recos = user_sim_test_pred_df.groupby(\"userId\").head(5).reset_index(drop=True)\n",
    "top_5_recos"
   ]
  },
  {
   "cell_type": "markdown",
   "metadata": {},
   "source": [
    "### Evaluating User Similarity based Collaborative Filtering Model using RMSE metric"
   ]
  },
  {
   "cell_type": "code",
   "execution_count": 93,
   "metadata": {},
   "outputs": [
    {
     "name": "stdout",
     "output_type": "stream",
     "text": [
      "\n",
      "RMSE for User-Similarity based Model :\n",
      "RMSE: 1.0919\n"
     ]
    },
    {
     "data": {
      "text/plain": [
       "1.091917154255271"
      ]
     },
     "execution_count": 93,
     "metadata": {},
     "output_type": "execute_result"
    }
   ],
   "source": [
    "# get RMSE value for the model\n",
    "\n",
    "print(\"\\nRMSE for User-Similarity based Model :\")\n",
    "accuracy.rmse(user_sim_test_pred, verbose=True)"
   ]
  },
  {
   "cell_type": "markdown",
   "metadata": {},
   "source": [
    "#### <font color=brown>Observations on Collaborative Filtering Model and Evaluation using RMSE Metric:</font>\n",
    "- <font color=brown>Root mean square error computes the mean value of all the differences squared between\n",
    "the true and the predicted ratings and then proceeds to calculate the square root out of\n",
    "the result</font>\n",
    "- <font color=brown>RMSE metric is used when significantly large errors are unwanted</font>\n",
    "- <font color=brown>The RMSE of Item-based Similarity approach is __1.19__ for a neighborhhod size of 50 using the KNNWithMeans algorithm and Pearson-Correlation Similarity measure</font>\n",
    "- <font color=brown>The RMSE of User-based Similarity approach is __1.09__ for a neighborhhod size of 50 using the KNNWithMeans algorithm and Pearson-Correlation Similarity measure</font>\n",
    "- <font color=brown>RMSE of Item Similarity based approach is more compared to User Similarity based approach</font>\n",
    "- <font color=brown>Item based approach is usually preferred over user-based approach because, User-based approach is usually harder to scale because of the dynamic and sparse nature of users, whereas items usually don’t change much and are not sparse</font>\n",
    "- <font color=brown>Item-based approach can be computed offline at fewer intervals of time and served without constantly re-training, but User-base approach needs the computations to be made on a more regular basis</font>"
   ]
  },
  {
   "cell_type": "code",
   "execution_count": null,
   "metadata": {},
   "outputs": [],
   "source": []
  }
 ],
 "metadata": {
  "kernelspec": {
   "display_name": "Python 3",
   "language": "python",
   "name": "python3"
  },
  "language_info": {
   "codemirror_mode": {
    "name": "ipython",
    "version": 3
   },
   "file_extension": ".py",
   "mimetype": "text/x-python",
   "name": "python",
   "nbconvert_exporter": "python",
   "pygments_lexer": "ipython3",
   "version": "3.7.3"
  }
 },
 "nbformat": 4,
 "nbformat_minor": 2
}
