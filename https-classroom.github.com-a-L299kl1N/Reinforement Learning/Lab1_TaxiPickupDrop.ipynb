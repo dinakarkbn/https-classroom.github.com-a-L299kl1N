{
  "nbformat": 4,
  "nbformat_minor": 0,
  "metadata": {
    "kernelspec": {
      "display_name": "Python 3",
      "language": "python",
      "name": "python3"
    },
    "language_info": {
      "codemirror_mode": {
        "name": "ipython",
        "version": 3
      },
      "file_extension": ".py",
      "mimetype": "text/x-python",
      "name": "python",
      "nbconvert_exporter": "python",
      "pygments_lexer": "ipython3",
      "version": "3.7.4"
    },
    "colab": {
      "name": "Lab1_TaxiPickupDrop.ipynb",
      "provenance": [],
      "collapsed_sections": []
    }
  },
  "cells": [
    {
      "cell_type": "markdown",
      "metadata": {
        "id": "bUriCebguncl"
      },
      "source": [
        "# Teach a Taxi to pick up and drop off passengers at the right locations with Reinforcement Learning"
      ]
    },
    {
      "cell_type": "code",
      "metadata": {
        "id": "emAg1TIMuncl"
      },
      "source": [
        "import gym\n",
        "import numpy as np\n",
        "import pickle, os"
      ],
      "execution_count": 1,
      "outputs": []
    },
    {
      "cell_type": "code",
      "metadata": {
        "id": "2GP2Ufjfuncm"
      },
      "source": [
        "env = gym.make(\"Taxi-v3\")"
      ],
      "execution_count": 2,
      "outputs": []
    },
    {
      "cell_type": "code",
      "metadata": {
        "id": "6IC-4lhHuncm"
      },
      "source": [
        "state = env.reset()"
      ],
      "execution_count": 3,
      "outputs": []
    },
    {
      "cell_type": "code",
      "metadata": {
        "colab": {
          "base_uri": "https://localhost:8080/"
        },
        "id": "3OjURB2Kuncm",
        "outputId": "4342d729-08cd-476e-91a4-42a5ee5aaccb"
      },
      "source": [
        "state"
      ],
      "execution_count": 4,
      "outputs": [
        {
          "output_type": "execute_result",
          "data": {
            "text/plain": [
              "162"
            ]
          },
          "metadata": {
            "tags": []
          },
          "execution_count": 4
        }
      ]
    },
    {
      "cell_type": "code",
      "metadata": {
        "colab": {
          "base_uri": "https://localhost:8080/"
        },
        "id": "3aWBHQYsuncn",
        "outputId": "a4c51b05-7756-403c-eb55-3a7935d1937e"
      },
      "source": [
        "env.observation_space.n"
      ],
      "execution_count": 5,
      "outputs": [
        {
          "output_type": "execute_result",
          "data": {
            "text/plain": [
              "500"
            ]
          },
          "metadata": {
            "tags": []
          },
          "execution_count": 5
        }
      ]
    },
    {
      "cell_type": "code",
      "metadata": {
        "colab": {
          "base_uri": "https://localhost:8080/"
        },
        "id": "XkSZyToZuncn",
        "outputId": "18b08275-ac2c-4769-ee73-853f178b5bfe"
      },
      "source": [
        "env.render()"
      ],
      "execution_count": 6,
      "outputs": [
        {
          "output_type": "stream",
          "text": [
            "+---------+\n",
            "|\u001b[34;1mR\u001b[0m: | : :G|\n",
            "| : | :\u001b[43m \u001b[0m: |\n",
            "| : : : : |\n",
            "| | : | : |\n",
            "|\u001b[35mY\u001b[0m| : |B: |\n",
            "+---------+\n",
            "\n"
          ],
          "name": "stdout"
        }
      ]
    },
    {
      "cell_type": "code",
      "metadata": {
        "colab": {
          "base_uri": "https://localhost:8080/"
        },
        "id": "4vATTp3Ouncn",
        "outputId": "4aea1c2f-9115-43cc-a0e5-23ca08081cb0"
      },
      "source": [
        "state"
      ],
      "execution_count": 7,
      "outputs": [
        {
          "output_type": "execute_result",
          "data": {
            "text/plain": [
              "162"
            ]
          },
          "metadata": {
            "tags": []
          },
          "execution_count": 7
        }
      ]
    },
    {
      "cell_type": "code",
      "metadata": {
        "colab": {
          "base_uri": "https://localhost:8080/"
        },
        "id": "k0CeCVULuncn",
        "outputId": "726b0ef2-2ea1-4d1e-cd48-d2b4c6aa545c"
      },
      "source": [
        "env.render()"
      ],
      "execution_count": 8,
      "outputs": [
        {
          "output_type": "stream",
          "text": [
            "+---------+\n",
            "|\u001b[34;1mR\u001b[0m: | : :G|\n",
            "| : | :\u001b[43m \u001b[0m: |\n",
            "| : : : : |\n",
            "| | : | : |\n",
            "|\u001b[35mY\u001b[0m| : |B: |\n",
            "+---------+\n",
            "\n"
          ],
          "name": "stdout"
        }
      ]
    },
    {
      "cell_type": "markdown",
      "metadata": {
        "id": "lnKbnhWDunco"
      },
      "source": [
        "<h1>Possible Actions</h1>\n",
        "\n",
        "down (0), up (1), right (2), left (3), pick-up (4), and drop-off (5)"
      ]
    },
    {
      "cell_type": "code",
      "metadata": {
        "id": "zJNoWnlTunco"
      },
      "source": [
        "n_states = env.observation_space.n\n",
        "n_actions = env.action_space.n"
      ],
      "execution_count": 9,
      "outputs": []
    },
    {
      "cell_type": "code",
      "metadata": {
        "colab": {
          "base_uri": "https://localhost:8080/"
        },
        "id": "EzurY6cyunco",
        "outputId": "7eb69107-6855-4d38-b63e-6a091e3769fc"
      },
      "source": [
        "n_actions"
      ],
      "execution_count": 10,
      "outputs": [
        {
          "output_type": "execute_result",
          "data": {
            "text/plain": [
              "6"
            ]
          },
          "metadata": {
            "tags": []
          },
          "execution_count": 10
        }
      ]
    },
    {
      "cell_type": "code",
      "metadata": {
        "colab": {
          "base_uri": "https://localhost:8080/"
        },
        "id": "G1hLzCBGunco",
        "outputId": "4afcd0ad-a69b-4561-dddf-7155f6e0867b"
      },
      "source": [
        "n_states"
      ],
      "execution_count": 11,
      "outputs": [
        {
          "output_type": "execute_result",
          "data": {
            "text/plain": [
              "500"
            ]
          },
          "metadata": {
            "tags": []
          },
          "execution_count": 11
        }
      ]
    },
    {
      "cell_type": "code",
      "metadata": {
        "id": "X9aeSKqfunco"
      },
      "source": [
        "env.env.s = 150"
      ],
      "execution_count": 12,
      "outputs": []
    },
    {
      "cell_type": "code",
      "metadata": {
        "colab": {
          "base_uri": "https://localhost:8080/"
        },
        "id": "WVbFx2ZZunco",
        "outputId": "f54aa812-b6c1-4f52-e825-a53d049a16f9"
      },
      "source": [
        "env.render()"
      ],
      "execution_count": 13,
      "outputs": [
        {
          "output_type": "stream",
          "text": [
            "+---------+\n",
            "|R: | : :G|\n",
            "| : |\u001b[43m \u001b[0m: : |\n",
            "| : : : : |\n",
            "| | : | : |\n",
            "|\u001b[35m\u001b[34;1mY\u001b[0m\u001b[0m| : |B: |\n",
            "+---------+\n",
            "\n"
          ],
          "name": "stdout"
        }
      ]
    },
    {
      "cell_type": "code",
      "metadata": {
        "colab": {
          "base_uri": "https://localhost:8080/"
        },
        "id": "pEmGidkQunco",
        "outputId": "4eac665a-f76a-422a-a19c-6ec3693d58b7"
      },
      "source": [
        "env.step(1)"
      ],
      "execution_count": 14,
      "outputs": [
        {
          "output_type": "execute_result",
          "data": {
            "text/plain": [
              "(50, -1, False, {'prob': 1.0})"
            ]
          },
          "metadata": {
            "tags": []
          },
          "execution_count": 14
        }
      ]
    },
    {
      "cell_type": "markdown",
      "metadata": {
        "id": "o_gjxhagunco"
      },
      "source": [
        "<h1>How good does behaving completely random do?</h1>"
      ]
    },
    {
      "cell_type": "code",
      "metadata": {
        "id": "ytbUb8lZunco"
      },
      "source": [
        "state = env.reset()\n",
        "counter = 0\n",
        "g = 0\n",
        "reward = None"
      ],
      "execution_count": 19,
      "outputs": []
    },
    {
      "cell_type": "code",
      "metadata": {
        "id": "sqrKfBWSunco"
      },
      "source": [
        "while reward != 20:\n",
        "    state, reward, done, info = env.step(env.action_space.sample())\n",
        "    counter += 1\n",
        "    g += reward"
      ],
      "execution_count": 20,
      "outputs": []
    },
    {
      "cell_type": "code",
      "metadata": {
        "colab": {
          "base_uri": "https://localhost:8080/"
        },
        "id": "ugZ8gO2qunco",
        "outputId": "6332c1ca-4349-4572-c651-4d6bc740da51"
      },
      "source": [
        "print(\"Solved in {} Steps with a total reward of {}\".format(counter,g))"
      ],
      "execution_count": 21,
      "outputs": [
        {
          "output_type": "stream",
          "text": [
            "Solved in 1390 Steps with a total reward of -5230\n"
          ],
          "name": "stdout"
        }
      ]
    },
    {
      "cell_type": "markdown",
      "metadata": {
        "id": "QcV8mC4yunco"
      },
      "source": [
        "## Let's look at just one episode and see how the Q values change after each step using the formula below"
      ]
    },
    {
      "cell_type": "code",
      "metadata": {
        "id": "tnFfFYERunco"
      },
      "source": [
        "Q = np.zeros([n_states, n_actions])"
      ],
      "execution_count": 22,
      "outputs": []
    },
    {
      "cell_type": "code",
      "metadata": {
        "id": "2Vaa3TS3unco"
      },
      "source": [
        "episodes = 1\n",
        "G = 0\n",
        "alpha = 0.618"
      ],
      "execution_count": 23,
      "outputs": []
    },
    {
      "cell_type": "code",
      "metadata": {
        "colab": {
          "base_uri": "https://localhost:8080/"
        },
        "id": "E93J18Hnunco",
        "outputId": "47b19576-eaab-43e0-9553-a1355d40818f"
      },
      "source": [
        "for episode in range(1,episodes+1):\n",
        "    done = False\n",
        "    G, reward = 0,0\n",
        "    state = env.reset()\n",
        "    firstState = state\n",
        "    print(\"Initial State = {}\".format(state))\n",
        "    while reward != 20:\n",
        "        action = np.argmax(Q[state]) \n",
        "        state2, reward, done, info = env.step(action)\n",
        "        Q[state,action] += alpha * (reward + np.max(Q[state2]) - Q[state,action]) \n",
        "        G += reward\n",
        "        state = state2"
      ],
      "execution_count": 24,
      "outputs": [
        {
          "output_type": "stream",
          "text": [
            "Initial State = 488\n"
          ],
          "name": "stdout"
        }
      ]
    },
    {
      "cell_type": "code",
      "metadata": {
        "id": "c2NQ8pskunco"
      },
      "source": [
        "finalState = state"
      ],
      "execution_count": 25,
      "outputs": []
    },
    {
      "cell_type": "markdown",
      "metadata": {
        "id": "hpMuuinBunco"
      },
      "source": [
        "## Let's look at the first step:"
      ]
    },
    {
      "cell_type": "code",
      "metadata": {
        "colab": {
          "base_uri": "https://localhost:8080/"
        },
        "id": "wM6bcjgVunco",
        "outputId": "b8fead92-cee9-421e-fbbc-d2d225c1df32"
      },
      "source": [
        "firstState"
      ],
      "execution_count": 26,
      "outputs": [
        {
          "output_type": "execute_result",
          "data": {
            "text/plain": [
              "488"
            ]
          },
          "metadata": {
            "tags": []
          },
          "execution_count": 26
        }
      ]
    },
    {
      "cell_type": "markdown",
      "metadata": {
        "id": "Ap0Q_DU1unco"
      },
      "source": [
        "## Let's look at the final step:"
      ]
    },
    {
      "cell_type": "code",
      "metadata": {
        "colab": {
          "base_uri": "https://localhost:8080/"
        },
        "id": "yBaKMLROunco",
        "outputId": "3af3a65d-193f-43cd-e6c7-6b2cb0373ddf"
      },
      "source": [
        "finalState"
      ],
      "execution_count": 27,
      "outputs": [
        {
          "output_type": "execute_result",
          "data": {
            "text/plain": [
              "0"
            ]
          },
          "metadata": {
            "tags": []
          },
          "execution_count": 27
        }
      ]
    },
    {
      "cell_type": "code",
      "metadata": {
        "colab": {
          "base_uri": "https://localhost:8080/"
        },
        "id": "W655qlyvunco",
        "outputId": "9148f57e-46c4-4ea0-d589-068921d931e4"
      },
      "source": [
        "Q"
      ],
      "execution_count": 28,
      "outputs": [
        {
          "output_type": "execute_result",
          "data": {
            "text/plain": [
              "array([[0., 0., 0., 0., 0., 0.],\n",
              "       [0., 0., 0., 0., 0., 0.],\n",
              "       [0., 0., 0., 0., 0., 0.],\n",
              "       ...,\n",
              "       [0., 0., 0., 0., 0., 0.],\n",
              "       [0., 0., 0., 0., 0., 0.],\n",
              "       [0., 0., 0., 0., 0., 0.]])"
            ]
          },
          "metadata": {
            "tags": []
          },
          "execution_count": 28
        }
      ]
    },
    {
      "cell_type": "markdown",
      "metadata": {
        "id": "RbOpIELnuncp"
      },
      "source": [
        "## Let's run over multiple episodes so that we can converge on a optimal policy"
      ]
    },
    {
      "cell_type": "code",
      "metadata": {
        "id": "Cqi6TdXvuncp"
      },
      "source": [
        "episodes = 2000\n",
        "rewardTracker = []"
      ],
      "execution_count": 29,
      "outputs": []
    },
    {
      "cell_type": "code",
      "metadata": {
        "id": "2k-RLpmguncp"
      },
      "source": [
        "G = 0\n",
        "alpha = 0.618"
      ],
      "execution_count": 30,
      "outputs": []
    },
    {
      "cell_type": "code",
      "metadata": {
        "colab": {
          "base_uri": "https://localhost:8080/"
        },
        "id": "GMb5SVBeuncp",
        "outputId": "0ff816b9-710c-4c70-e67a-36d32b187f42"
      },
      "source": [
        "for episode in range(1,episodes+1):\n",
        "    done = False\n",
        "    G, reward = 0,0\n",
        "    state = env.reset()\n",
        "    while done != True:\n",
        "        action = np.argmax(Q[state]) \n",
        "        state2, reward, done, info = env.step(action) \n",
        "        Q[state,action] += alpha * ((reward + (np.max(Q[state2]))  - Q[state,action]))\n",
        "        G += reward\n",
        "        state = state2\n",
        "        \n",
        "    if episode % 100 == 0:\n",
        "        print('Episode {} Total Reward: {}'.format(episode,G))"
      ],
      "execution_count": 32,
      "outputs": [
        {
          "output_type": "stream",
          "text": [
            "Episode 100 Total Reward: 9\n",
            "Episode 200 Total Reward: 8\n",
            "Episode 300 Total Reward: 11\n",
            "Episode 400 Total Reward: 3\n",
            "Episode 500 Total Reward: 6\n",
            "Episode 600 Total Reward: 7\n",
            "Episode 700 Total Reward: 7\n",
            "Episode 800 Total Reward: 5\n",
            "Episode 900 Total Reward: 9\n",
            "Episode 1000 Total Reward: 10\n",
            "Episode 1100 Total Reward: 5\n",
            "Episode 1200 Total Reward: 9\n",
            "Episode 1300 Total Reward: 12\n",
            "Episode 1400 Total Reward: 7\n",
            "Episode 1500 Total Reward: 12\n",
            "Episode 1600 Total Reward: 6\n",
            "Episode 1700 Total Reward: 7\n",
            "Episode 1800 Total Reward: 9\n",
            "Episode 1900 Total Reward: 5\n",
            "Episode 2000 Total Reward: 7\n"
          ],
          "name": "stdout"
        }
      ]
    },
    {
      "cell_type": "code",
      "metadata": {
        "colab": {
          "base_uri": "https://localhost:8080/"
        },
        "id": "heI-wXFNx3-H",
        "outputId": "bdf09d14-4e9e-4672-be54-7ba2d5609817"
      },
      "source": [
        "Q"
      ],
      "execution_count": 36,
      "outputs": [
        {
          "output_type": "execute_result",
          "data": {
            "text/plain": [
              "array([[ 0.        ,  0.        ,  0.        ,  0.        ,  0.        ,\n",
              "         0.        ],\n",
              "       [-5.56719913, -5.562     , -5.99361984, -5.562     , 11.        ,\n",
              "        -6.18      ],\n",
              "       [-3.11128958, -3.09      , -3.20145952, -3.09      , 15.        ,\n",
              "        -6.18      ],\n",
              "       ...,\n",
              "       [-2.472     , -2.23597097, -2.472     , -2.81949279, -6.18      ,\n",
              "        -6.18      ],\n",
              "       [-4.326     , -4.55038924, -4.326     , -4.70573401, -6.18      ,\n",
              "        -6.18      ],\n",
              "       [-1.236     , -1.236     , -1.236     , -0.854076  , -6.18      ,\n",
              "        -6.18      ]])"
            ]
          },
          "metadata": {
            "tags": []
          },
          "execution_count": 36
        }
      ]
    },
    {
      "cell_type": "markdown",
      "metadata": {
        "id": "PrxwCXp6uncp"
      },
      "source": [
        "## Now that we have learned the optimal Q Values we have developed a optimal policy and have no need to train the agent anymore"
      ]
    },
    {
      "cell_type": "code",
      "metadata": {
        "id": "qJdMT_B3uncp"
      },
      "source": [
        "state = env.reset()\n",
        "done = None"
      ],
      "execution_count": 40,
      "outputs": []
    },
    {
      "cell_type": "code",
      "metadata": {
        "colab": {
          "base_uri": "https://localhost:8080/"
        },
        "id": "Jz7RODujuncp",
        "outputId": "4415dcbb-ae90-47fd-d9d3-521fe54687a0"
      },
      "source": [
        "while done != True:\n",
        "    # We simply take the action with the highest Q Value\n",
        "    action = np.argmax(Q[state])\n",
        "    state, reward, done, info = env.step(action)\n",
        "    env.render()"
      ],
      "execution_count": 41,
      "outputs": [
        {
          "output_type": "stream",
          "text": [
            "+---------+\n",
            "|R: | : :\u001b[34;1m\u001b[43mG\u001b[0m\u001b[0m|\n",
            "| : | : : |\n",
            "| : : : : |\n",
            "| | : | : |\n",
            "|\u001b[35mY\u001b[0m| : |B: |\n",
            "+---------+\n",
            "  (North)\n",
            "+---------+\n",
            "|R: | : :\u001b[42mG\u001b[0m|\n",
            "| : | : : |\n",
            "| : : : : |\n",
            "| | : | : |\n",
            "|\u001b[35mY\u001b[0m| : |B: |\n",
            "+---------+\n",
            "  (Pickup)\n",
            "+---------+\n",
            "|R: | : :G|\n",
            "| : | : :\u001b[42m_\u001b[0m|\n",
            "| : : : : |\n",
            "| | : | : |\n",
            "|\u001b[35mY\u001b[0m| : |B: |\n",
            "+---------+\n",
            "  (South)\n",
            "+---------+\n",
            "|R: | : :G|\n",
            "| : | : : |\n",
            "| : : : :\u001b[42m_\u001b[0m|\n",
            "| | : | : |\n",
            "|\u001b[35mY\u001b[0m| : |B: |\n",
            "+---------+\n",
            "  (South)\n",
            "+---------+\n",
            "|R: | : :G|\n",
            "| : | : : |\n",
            "| : : :\u001b[42m_\u001b[0m: |\n",
            "| | : | : |\n",
            "|\u001b[35mY\u001b[0m| : |B: |\n",
            "+---------+\n",
            "  (West)\n",
            "+---------+\n",
            "|R: | : :G|\n",
            "| : | : : |\n",
            "| : :\u001b[42m_\u001b[0m: : |\n",
            "| | : | : |\n",
            "|\u001b[35mY\u001b[0m| : |B: |\n",
            "+---------+\n",
            "  (West)\n",
            "+---------+\n",
            "|R: | : :G|\n",
            "| : | : : |\n",
            "| :\u001b[42m_\u001b[0m: : : |\n",
            "| | : | : |\n",
            "|\u001b[35mY\u001b[0m| : |B: |\n",
            "+---------+\n",
            "  (West)\n",
            "+---------+\n",
            "|R: | : :G|\n",
            "| : | : : |\n",
            "|\u001b[42m_\u001b[0m: : : : |\n",
            "| | : | : |\n",
            "|\u001b[35mY\u001b[0m| : |B: |\n",
            "+---------+\n",
            "  (West)\n",
            "+---------+\n",
            "|R: | : :G|\n",
            "| : | : : |\n",
            "| : : : : |\n",
            "|\u001b[42m_\u001b[0m| : | : |\n",
            "|\u001b[35mY\u001b[0m| : |B: |\n",
            "+---------+\n",
            "  (South)\n",
            "+---------+\n",
            "|R: | : :G|\n",
            "| : | : : |\n",
            "| : : : : |\n",
            "| | : | : |\n",
            "|\u001b[35m\u001b[42mY\u001b[0m\u001b[0m| : |B: |\n",
            "+---------+\n",
            "  (South)\n",
            "+---------+\n",
            "|R: | : :G|\n",
            "| : | : : |\n",
            "| : : : : |\n",
            "| | : | : |\n",
            "|\u001b[35m\u001b[34;1m\u001b[43mY\u001b[0m\u001b[0m\u001b[0m| : |B: |\n",
            "+---------+\n",
            "  (Dropoff)\n"
          ],
          "name": "stdout"
        }
      ]
    },
    {
      "cell_type": "code",
      "metadata": {
        "colab": {
          "base_uri": "https://localhost:8080/"
        },
        "id": "r8tlmoo8uncp",
        "outputId": "e01e4f8f-94b0-4128-b052-615e156c16cb"
      },
      "source": [
        "!ls -l"
      ],
      "execution_count": 42,
      "outputs": [
        {
          "output_type": "stream",
          "text": [
            "total 4\n",
            "drwxr-xr-x 1 root root 4096 Nov 13 17:33 sample_data\n"
          ],
          "name": "stdout"
        }
      ]
    },
    {
      "cell_type": "code",
      "metadata": {
        "id": "RWvD2-BTuncp"
      },
      "source": [
        "with open(\"smartTaxi_qTable.pkl\", 'wb') as f:\n",
        "    pickle.dump(Q, f)"
      ],
      "execution_count": 43,
      "outputs": []
    },
    {
      "cell_type": "code",
      "metadata": {
        "id": "iHeSImnuuncp"
      },
      "source": [
        "with open(\"smartTaxi_qTable.pkl\", 'rb') as f:\n",
        "    Qtest = pickle.load(f)"
      ],
      "execution_count": 44,
      "outputs": []
    },
    {
      "cell_type": "code",
      "metadata": {
        "id": "wXZ54TOWuncp"
      },
      "source": [
        ""
      ],
      "execution_count": null,
      "outputs": []
    }
  ]
}