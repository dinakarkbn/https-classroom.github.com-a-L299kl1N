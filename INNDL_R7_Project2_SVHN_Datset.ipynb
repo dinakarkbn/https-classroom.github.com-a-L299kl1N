{
 "cells": [
  {
   "cell_type": "markdown",
   "metadata": {
    "colab_type": "text",
    "id": "24CRfVepJxji"
   },
   "source": [
    "# Introduction to Neural Netwoks and Deep Learning : INNDL_R7_Project2"
   ]
  },
  {
   "cell_type": "markdown",
   "metadata": {
    "colab_type": "text",
    "id": "sicjDTBdJxjl"
   },
   "source": [
    "# The Street View House Numbers (SVHN) Dataset"
   ]
  },
  {
   "cell_type": "markdown",
   "metadata": {
    "colab_type": "text",
    "id": "MHCHJj1aJxjm"
   },
   "source": [
    "### Set up the Environment - Install and load tensorflow"
   ]
  },
  {
   "cell_type": "code",
   "execution_count": 0,
   "metadata": {
    "colab": {},
    "colab_type": "code",
    "id": "V0I8WkVaJxjn"
   },
   "outputs": [],
   "source": [
    "#Check if tensorFlow is already installed\n",
    "\n",
    "#!pip list"
   ]
  },
  {
   "cell_type": "code",
   "execution_count": 2,
   "metadata": {
    "colab": {
     "base_uri": "https://localhost:8080/",
     "height": 68
    },
    "colab_type": "code",
    "id": "UAdF5XRKJxjr",
    "outputId": "5572cfa2-a3fb-4db2-ea1f-d60e9578bca9"
   },
   "outputs": [
    {
     "name": "stdout",
     "output_type": "stream",
     "text": [
      "\u001b[K     |████████████████████████████████| 86.3MB 35kB/s \n",
      "\u001b[K     |████████████████████████████████| 450kB 65.0MB/s \n",
      "\u001b[K     |████████████████████████████████| 3.8MB 62.2MB/s \n",
      "\u001b[?25h"
     ]
    }
   ],
   "source": [
    "#Make sure we have the latest version tensorflow 2.x installed\n",
    "\n",
    "!pip install -U tensorflow==2.0 --quiet"
   ]
  },
  {
   "cell_type": "code",
   "execution_count": 3,
   "metadata": {
    "colab": {
     "base_uri": "https://localhost:8080/",
     "height": 34
    },
    "colab_type": "code",
    "id": "PX7m57T7Jxjv",
    "outputId": "dada8055-8c2a-40d7-98c8-b6e1cc25a315"
   },
   "outputs": [
    {
     "data": {
      "text/plain": [
       "'2.0.0'"
      ]
     },
     "execution_count": 3,
     "metadata": {
      "tags": []
     },
     "output_type": "execute_result"
    }
   ],
   "source": [
    "#Import tensorflow and check version\n",
    "\n",
    "import tensorflow as tf\n",
    "tf.__version__"
   ]
  },
  {
   "cell_type": "code",
   "execution_count": 4,
   "metadata": {
    "colab": {
     "base_uri": "https://localhost:8080/",
     "height": 34
    },
    "colab_type": "code",
    "id": "R-6CxI6oJxj0",
    "outputId": "371c40b7-d4a7-442c-e7aa-d6d5520bf5db"
   },
   "outputs": [
    {
     "data": {
      "text/plain": [
       "True"
      ]
     },
     "execution_count": 4,
     "metadata": {
      "tags": []
     },
     "output_type": "execute_result"
    }
   ],
   "source": [
    "#Using executing_eagerly() to execute and evaluate operations immediately, without building graphs\n",
    "\n",
    "tf.executing_eagerly()"
   ]
  },
  {
   "cell_type": "code",
   "execution_count": 5,
   "metadata": {
    "colab": {
     "base_uri": "https://localhost:8080/",
     "height": 122
    },
    "colab_type": "code",
    "id": "VdHNmXY_KS0b",
    "outputId": "325f03f2-dc21-4bcc-85a2-c58801ad0d30"
   },
   "outputs": [
    {
     "name": "stdout",
     "output_type": "stream",
     "text": [
      "Go to this URL in a browser: https://accounts.google.com/o/oauth2/auth?client_id=947318989803-6bn6qk8qdgf4n4g3pfee6491hc0brc4i.apps.googleusercontent.com&redirect_uri=urn%3aietf%3awg%3aoauth%3a2.0%3aoob&response_type=code&scope=email%20https%3a%2f%2fwww.googleapis.com%2fauth%2fdocs.test%20https%3a%2f%2fwww.googleapis.com%2fauth%2fdrive%20https%3a%2f%2fwww.googleapis.com%2fauth%2fdrive.photos.readonly%20https%3a%2f%2fwww.googleapis.com%2fauth%2fpeopleapi.readonly\n",
      "\n",
      "Enter your authorization code:\n",
      "··········\n",
      "Mounted at /gdrive\n"
     ]
    }
   ],
   "source": [
    "from google.colab import drive\n",
    "drive.mount('/gdrive')"
   ]
  },
  {
   "cell_type": "markdown",
   "metadata": {
    "colab_type": "text",
    "id": "Pk5W-1vjJxj3"
   },
   "source": [
    "### Import required Python and Skikitlearn libraries"
   ]
  },
  {
   "cell_type": "code",
   "execution_count": 0,
   "metadata": {
    "colab": {},
    "colab_type": "code",
    "id": "tdCunfnYJxj4"
   },
   "outputs": [],
   "source": [
    "import pandas as pd\n",
    "import numpy as np\n",
    "\n",
    "#Import The h5py package which is a Pythonic interface to the HDF5 binary data format\n",
    "#h5py files are used to store huge HDF5 binary data format amounts of numerical data, and easily manipulate that data from NumPy.\n",
    "import h5py\n",
    "\n",
    "import matplotlib.pyplot as plt\n",
    "%matplotlib inline\n",
    "\n",
    "import seaborn as sns\n",
    "\n",
    "from sklearn.metrics import accuracy_score,f1_score,precision_score,recall_score,confusion_matrix,classification_report\n",
    "\n",
    "#Set default figure size\n",
    "plt.rcParams['figure.figsize'] = (16.0, 4.0)"
   ]
  },
  {
   "cell_type": "markdown",
   "metadata": {
    "colab_type": "text",
    "id": "SCBjT74MJxj8"
   },
   "source": [
    "### Problem Statement :\n",
    "### Given the Street View House Numbers (SVHN) Dataset, implement a simple image classification pipeline based on a deep neural network."
   ]
  },
  {
   "cell_type": "markdown",
   "metadata": {
    "colab_type": "text",
    "id": "9hcDJjv9Jxj9"
   },
   "source": [
    "### About the Data:"
   ]
  },
  {
   "cell_type": "markdown",
   "metadata": {
    "colab_type": "text",
    "id": "IaLborL_Jxj-"
   },
   "source": [
    "- **Objective:**\n",
    "\n",
    "Given the Street View House Numbers (SVHN) Dataset, implement a simple image classification pipeline based on a deep neural network.\n",
    "\n",
    "- **The Real Problem**\n",
    "\n",
    "Recognizing multi-digit numbers in photographs captured at street level is an important component of modern day map making. A classic example of a corpus of such street-level photographs is Google’s Street View imagery comprised of hundreds of millions of geo-located 360 degree panoramic images. The ability to automatically transcribe an address number from a geo-located patch of pixels and associate the transcribed number with a known street address helps pinpoint, with a high degree of accuracy, the location of the building it represents.\n",
    "\n",
    "- **The Problem of Interest**\n",
    "\n",
    "Recognizing numbers in photographs is a problem of interest to the optical character recognition community. While OCR on constrained domains like document processing is well studied, arbitrary multi-character text recognition in photographs is still highly challenging. This difficulty arises due to the wide variability in the visual appearance of text in the wild on account of a large range of fonts, colors, styles,\n",
    "orientations, and character arrangements. The recognition problem is further complicated by environmental factors such as lighting, shadows, specularities, and occlusions as well as by image acquisition factors such as resolution, motion, and focus blurs.\n",
    "\n",
    "- **Data Description:**\n",
    "\n",
    "In this project, we will use a dataset with images centered around a single digit (many of the\n",
    "images do contain some distractors at the sides). Although we are taking a sample of\n",
    "the data which is simpler, it is more complex than MNIST because of the distractors.\n",
    "\n",
    "- **The Street View House Numbers (SVHN) Dataset)**\n",
    "\n",
    "SVHN is a real-world image dataset for developing machine learning and object recognition algorithms with the minimal requirement on data formatting but comes from a significantly harder, unsolved, real-world problem (recognizing digits and numbers in natural scene images). SVHN is obtained from house numbers in Google Street View images.\n",
    "\n",
    "- **Acknowledgment for the datasets.**\n",
    "\n",
    "Yuval Netzer, Tao Wang, Adam Coates, Alessandro Bissacco, Bo Wu, Andrew Y. Ng\n",
    "Reading Digits in Natural Images with Unsupervised Feature Learning NIPS Workshop\n",
    "on Deep Learning and Unsupervised Feature Learning 2011. PDF\n",
    "http://ufldl.stanford.edu/housenumbers as the URL for this site when necessary"
   ]
  },
  {
   "cell_type": "markdown",
   "metadata": {
    "colab_type": "text",
    "id": "gSDmryeQJxkB"
   },
   "source": [
    "##  Data fetching and understand the train/val/test splits"
   ]
  },
  {
   "cell_type": "code",
   "execution_count": 0,
   "metadata": {
    "colab": {},
    "colab_type": "code",
    "id": "SJQpEWmgJxkD"
   },
   "outputs": [],
   "source": [
    "#Open the h5py file which is stored in HDF5 binary data format using a file handler\n",
    "#Read the file in 'read' mode\n",
    "\n",
    "#f = h5py.File(\"SVHN_single_grey1-2.h5\", 'r')\n",
    "f = h5py.File('/gdrive/My Drive/AIML/INNDL-Project-2_R7/SVHN_single_grey1-2.h5', mode='r')"
   ]
  },
  {
   "cell_type": "code",
   "execution_count": 57,
   "metadata": {
    "colab": {
     "base_uri": "https://localhost:8080/",
     "height": 34
    },
    "colab_type": "code",
    "id": "4hUCy-doet7A",
    "outputId": "77c27848-343b-4b1e-9b87-63f3367421ee"
   },
   "outputs": [
    {
     "data": {
      "text/plain": [
       "'/gdrive/My Drive/AIML/INNDL-Project-2_R7/SVHN_single_grey1-2.h5'"
      ]
     },
     "execution_count": 57,
     "metadata": {
      "tags": []
     },
     "output_type": "execute_result"
    }
   ],
   "source": [
    "#Check the file name with the filehandler f\n",
    "\n",
    "f.filename"
   ]
  },
  {
   "cell_type": "code",
   "execution_count": 58,
   "metadata": {
    "colab": {
     "base_uri": "https://localhost:8080/",
     "height": 34
    },
    "colab_type": "code",
    "id": "5TNvLvqhet7D",
    "outputId": "ad468f90-439f-4e63-f2e9-c843deea1733"
   },
   "outputs": [
    {
     "data": {
      "text/plain": [
       "['X_test', 'X_train', 'X_val', 'y_test', 'y_train', 'y_val']"
      ]
     },
     "execution_count": 58,
     "metadata": {
      "tags": []
     },
     "output_type": "execute_result"
    }
   ],
   "source": [
    "#list all keys, which are the dataset names stored in the h5py file \n",
    "\n",
    "list(f.keys())"
   ]
  },
  {
   "cell_type": "code",
   "execution_count": 59,
   "metadata": {
    "colab": {
     "base_uri": "https://localhost:8080/",
     "height": 119
    },
    "colab_type": "code",
    "id": "GYFCAwzwet7L",
    "outputId": "23491002-01b3-4171-f5d4-a7e09fb4fd84"
   },
   "outputs": [
    {
     "data": {
      "text/plain": [
       "(h5py._hl.dataset.Dataset,\n",
       " h5py._hl.dataset.Dataset,\n",
       " h5py._hl.dataset.Dataset,\n",
       " h5py._hl.dataset.Dataset,\n",
       " h5py._hl.dataset.Dataset,\n",
       " h5py._hl.dataset.Dataset)"
      ]
     },
     "execution_count": 59,
     "metadata": {
      "tags": []
     },
     "output_type": "execute_result"
    }
   ],
   "source": [
    "#Check that all the components in the hyp5 file are Datasets\n",
    "\n",
    "type(f['X_train']), type(f['y_train']), type(f['X_test']), type(f['y_test']), type(f['X_val']), type(f['y_val'])"
   ]
  },
  {
   "cell_type": "code",
   "execution_count": 0,
   "metadata": {
    "colab": {},
    "colab_type": "code",
    "id": "wcL2rpbret7P"
   },
   "outputs": [],
   "source": [
    "#Convert all the datasets to numpy arrays\n",
    "\n",
    "X_train = np.array(f.get('X_train'))\n",
    "y_train = np.array(f.get('y_train'))\n",
    "X_test = np.array(f.get('X_test'))\n",
    "y_test = np.array(f.get('y_test'))\n",
    "X_val = np.array(f.get('X_val'))\n",
    "y_val = np.array(f.get('y_val'))"
   ]
  },
  {
   "cell_type": "code",
   "execution_count": 61,
   "metadata": {
    "colab": {
     "base_uri": "https://localhost:8080/",
     "height": 119
    },
    "colab_type": "code",
    "id": "kA__Pb6xet7R",
    "outputId": "39a517b6-67cc-441f-8229-594f32e37b20"
   },
   "outputs": [
    {
     "data": {
      "text/plain": [
       "((42000, 32, 32),\n",
       " (18000, 32, 32),\n",
       " (42000,),\n",
       " (18000,),\n",
       " (60000, 32, 32),\n",
       " (60000,))"
      ]
     },
     "execution_count": 61,
     "metadata": {
      "tags": []
     },
     "output_type": "execute_result"
    }
   ],
   "source": [
    "#Check the shape of the training, test and validation datasets\n",
    "\n",
    "X_train.shape, X_test.shape, y_train.shape, y_test.shape, X_val.shape, y_val.shape"
   ]
  },
  {
   "cell_type": "code",
   "execution_count": 62,
   "metadata": {
    "colab": {
     "base_uri": "https://localhost:8080/",
     "height": 119
    },
    "colab_type": "code",
    "id": "Q0lXUGBxet7W",
    "outputId": "7f63fabb-a9d6-44fd-ffe9-0de417e21631"
   },
   "outputs": [
    {
     "data": {
      "text/plain": [
       "(numpy.ndarray,\n",
       " numpy.ndarray,\n",
       " numpy.ndarray,\n",
       " numpy.ndarray,\n",
       " numpy.ndarray,\n",
       " numpy.ndarray)"
      ]
     },
     "execution_count": 62,
     "metadata": {
      "tags": []
     },
     "output_type": "execute_result"
    }
   ],
   "source": [
    "#Check the type of the training, test and validation datasets\n",
    "\n",
    "type(X_train), type(X_test), type(y_train), type(y_test), type(X_val), type(y_val)"
   ]
  },
  {
   "cell_type": "code",
   "execution_count": 63,
   "metadata": {
    "colab": {
     "base_uri": "https://localhost:8080/",
     "height": 119
    },
    "colab_type": "code",
    "id": "4o2qlUCtet7a",
    "outputId": "53043508-3bc8-4cce-848f-8e3971eb90f2"
   },
   "outputs": [
    {
     "data": {
      "text/plain": [
       "(dtype('<f4'),\n",
       " dtype('<f4'),\n",
       " dtype('uint8'),\n",
       " dtype('uint8'),\n",
       " dtype('<f4'),\n",
       " dtype('uint8'))"
      ]
     },
     "execution_count": 63,
     "metadata": {
      "tags": []
     },
     "output_type": "execute_result"
    }
   ],
   "source": [
    "#Check the datatype of the training, test and validation datasets\n",
    "\n",
    "X_train.dtype, X_test.dtype, y_train.dtype, y_test.dtype, X_val.dtype, y_val.dtype"
   ]
  },
  {
   "cell_type": "code",
   "execution_count": 64,
   "metadata": {
    "colab": {
     "base_uri": "https://localhost:8080/",
     "height": 102
    },
    "colab_type": "code",
    "id": "h7-j1EmHet7d",
    "outputId": "bac0b390-2038-4830-98fa-99c496ffeb62"
   },
   "outputs": [
    {
     "name": "stdout",
     "output_type": "stream",
     "text": [
      "Classes in Training-set:  [0 1 2 3 4 5 6 7 8 9]\n",
      "\n",
      "Classes in Test-set:  [0 1 2 3 4 5 6 7 8 9]\n",
      "\n",
      "Classes in Validation-set:  [0 1 2 3 4 5 6 7 8 9]\n"
     ]
    }
   ],
   "source": [
    "#Check unique classes in y_train, ytest and y_val datasets\n",
    "\n",
    "print('Classes in Training-set: ',np.unique(y_train))\n",
    "print('\\nClasses in Test-set: ',np.unique(y_test))\n",
    "print('\\nClasses in Validation-set: ',np.unique(y_val))"
   ]
  },
  {
   "cell_type": "code",
   "execution_count": 0,
   "metadata": {
    "colab": {},
    "colab_type": "code",
    "id": "my0Mwi8-ptlx"
   },
   "outputs": [],
   "source": [
    "#Close the filehandler which was opened to read the h5py file\n",
    "\n",
    "f.close()"
   ]
  },
  {
   "cell_type": "markdown",
   "metadata": {
    "colab_type": "text",
    "id": "LCecjOViet7h"
   },
   "source": [
    "### Visualize random images in Training and Test sets"
   ]
  },
  {
   "cell_type": "code",
   "execution_count": 0,
   "metadata": {
    "colab": {},
    "colab_type": "code",
    "id": "-Tl6vN1Qet7i"
   },
   "outputs": [],
   "source": [
    "def plot_image(img, labels, nrows, ncols):\n",
    "  fig, axes = plt.subplots( nrows, ncols)\n",
    "  for i, ax in enumerate(axes.flat):\n",
    "    if(img[i].shape == (32,32)):\n",
    "      #print(img[i].shape)\n",
    "      ax.imshow(img[i])\n",
    "    else:\n",
    "      #print(img[i,:,:,0].shape)\n",
    "      ax.imshow(img[i,:,:,0])\n",
    "    ax.set_xticks([]), ax.set_yticks([])\n",
    "    ax.set_title(labels[i])"
   ]
  },
  {
   "cell_type": "code",
   "execution_count": 18,
   "metadata": {
    "colab": {
     "base_uri": "https://localhost:8080/",
     "height": 264
    },
    "colab_type": "code",
    "id": "GhN1Q6GDet7l",
    "outputId": "fb777a7a-73ff-4d79-abb0-62f64779a5ec"
   },
   "outputs": [
    {
     "data": {
      "image/png": "[encoded data removed]",
      "text/plain": [
       "<Figure size 1152x288 with 16 Axes>"
      ]
     },
     "metadata": {
      "tags": []
     },
     "output_type": "display_data"
    }
   ],
   "source": [
    "#Plot some random training set images\n",
    "plot_image(X_train,y_train,2,8)"
   ]
  },
  {
   "cell_type": "code",
   "execution_count": 19,
   "metadata": {
    "colab": {
     "base_uri": "https://localhost:8080/",
     "height": 264
    },
    "colab_type": "code",
    "id": "XjWYpBmjet7n",
    "outputId": "5f2cf27d-c4c0-4139-b6d5-82958a778675"
   },
   "outputs": [
    {
     "data": {
      "image/png": "[encoded data removed]",
      "text/plain": [
       "<Figure size 1152x288 with 16 Axes>"
      ]
     },
     "metadata": {
      "tags": []
     },
     "output_type": "display_data"
    }
   ],
   "source": [
    "#Plot some random test set images\n",
    "plot_image(X_test,y_test,2,8)"
   ]
  },
  {
   "cell_type": "markdown",
   "metadata": {
    "colab_type": "text",
    "id": "fH8gVR4PJxmu"
   },
   "source": [
    "## Build a Deep Neural Networks Classification Model using Keras"
   ]
  },
  {
   "cell_type": "code",
   "execution_count": 20,
   "metadata": {
    "colab": {
     "base_uri": "https://localhost:8080/",
     "height": 68
    },
    "colab_type": "code",
    "id": "ZWrglIDpet7t",
    "outputId": "f8c66bfb-3490-4238-bdb3-abba3a29b79b"
   },
   "outputs": [
    {
     "name": "stdout",
     "output_type": "stream",
     "text": [
      "No of classes: 10\n",
      "batch_size: 128\n",
      "No of epochs: 20\n"
     ]
    }
   ],
   "source": [
    "#Initialize the no of classes, batch_size and no of epochs for the model\n",
    "\n",
    "num_classes = 10\n",
    "batch_size = 128\n",
    "epochs = 20\n",
    "print(\"No of classes: {}\\nbatch_size: {}\\nNo of epochs: {}\".format(num_classes, batch_size, epochs))"
   ]
  },
  {
   "cell_type": "code",
   "execution_count": 0,
   "metadata": {
    "colab": {},
    "colab_type": "code",
    "id": "RSKbUviwJxkH"
   },
   "outputs": [],
   "source": [
    "#Convert the datatype of the training, test and validation datasets to float32\n",
    "\n",
    "X_train = X_train.astype('float32')\n",
    "y_train = y_train.astype('float32')\n",
    "X_test = X_test.astype('float32')\n",
    "y_test = y_test.astype('float32')\n",
    "X_val = X_val.astype('float32')\n",
    "y_val = y_val.astype('float32')"
   ]
  },
  {
   "cell_type": "markdown",
   "metadata": {
    "colab_type": "text",
    "id": "CkV9lRt1JxnC"
   },
   "source": [
    "### One-hot encoding of labels to convert them into binary data of 0's and 1's"
   ]
  },
  {
   "cell_type": "code",
   "execution_count": 0,
   "metadata": {
    "colab": {},
    "colab_type": "code",
    "id": "qjyfMLEyJxnC"
   },
   "outputs": [],
   "source": [
    "#Convert to binary data by One-hot encoding using to_categorical\n",
    "\n",
    "y_train_enc = tf.keras.utils.to_categorical(y_train, num_classes=num_classes)\n",
    "y_test_enc = tf.keras.utils.to_categorical(y_test, num_classes=num_classes)\n",
    "y_val_enc = tf.keras.utils.to_categorical(y_val, num_classes=num_classes)"
   ]
  },
  {
   "cell_type": "markdown",
   "metadata": {
    "colab_type": "text",
    "id": "ocozI5udJxnH"
   },
   "source": [
    "## Build a Neural Network Classification Model using Keras API in TensorFlow"
   ]
  },
  {
   "cell_type": "markdown",
   "metadata": {
    "colab_type": "text",
    "id": "b56xjo6wet74"
   },
   "source": [
    "### Implement and apply a deep neural network classifier including (feedforward neural network, RELU, activations)\n",
    "### Implement batch normalization for training the neural network\n",
    "### Understand and be able to implement (vectorized) backpropagation (cost stochastic gradient descent, cross-entropy loss, cost functions)"
   ]
  },
  {
   "cell_type": "code",
   "execution_count": 0,
   "metadata": {
    "colab": {},
    "colab_type": "code",
    "id": "pmSWqmwmBJ2X"
   },
   "outputs": [],
   "source": [
    "#Initialize Sequential model\n",
    "model = tf.keras.models.Sequential()"
   ]
  },
  {
   "cell_type": "code",
   "execution_count": 0,
   "metadata": {
    "colab": {},
    "colab_type": "code",
    "id": "A4sPtT9sBMVy"
   },
   "outputs": [],
   "source": [
    "#Add input layer and Reshape data from 2D to 1D -> 32x32 to 1024\n",
    "model.add(tf.keras.layers.Reshape(target_shape=(1024,), input_shape=(32,32,)))\n",
    "\n",
    "#Inplementing BatchNormalization\n",
    "model.add(tf.keras.layers.BatchNormalization())"
   ]
  },
  {
   "cell_type": "code",
   "execution_count": 0,
   "metadata": {
    "colab": {},
    "colab_type": "code",
    "id": "oqYAiRivJxnI"
   },
   "outputs": [],
   "source": [
    "#Adding First Hidden layer with 300 neurons and activation function 'relu'\n",
    "model.add(tf.keras.layers.Dense(300, activation='relu'))\n",
    "\n",
    "#Adding Second Hidden Layer with 200 neurons and activation function 'relu'\n",
    "model.add(tf.keras.layers.Dense(200, activation='relu'))\n",
    "\n",
    "#Adding dropout layer with 20% dropout\n",
    "model.add(tf.keras.layers.Dropout(0.20))\n",
    "\n",
    "#Add Output layer with 10 classes as the output and apply softmax to predict probabilities\n",
    "model.add(tf.keras.layers.Dense(num_classes, activation='softmax'))"
   ]
  },
  {
   "cell_type": "code",
   "execution_count": 0,
   "metadata": {
    "colab": {},
    "colab_type": "code",
    "id": "b2MMIk3bBXDN"
   },
   "outputs": [],
   "source": [
    "#Compile the model with a cross entropy loss function and sgd optimizer and accuracy as metrics\n",
    "model.compile(optimizer='sgd', loss='categorical_crossentropy', metrics=['accuracy'])"
   ]
  },
  {
   "cell_type": "code",
   "execution_count": 27,
   "metadata": {
    "colab": {
     "base_uri": "https://localhost:8080/",
     "height": 357
    },
    "colab_type": "code",
    "id": "M4-Qx4vpJxnK",
    "outputId": "0d237f44-6bd9-4480-fd9e-a92f2cc784fd",
    "scrolled": false
   },
   "outputs": [
    {
     "name": "stdout",
     "output_type": "stream",
     "text": [
      "Model: \"sequential\"\n",
      "_________________________________________________________________\n",
      "Layer (type)                 Output Shape              Param #   \n",
      "=================================================================\n",
      "reshape (Reshape)            (None, 1024)              0         \n",
      "_________________________________________________________________\n",
      "batch_normalization (BatchNo (None, 1024)              4096      \n",
      "_________________________________________________________________\n",
      "dense (Dense)                (None, 300)               307500    \n",
      "_________________________________________________________________\n",
      "dense_1 (Dense)              (None, 200)               60200     \n",
      "_________________________________________________________________\n",
      "dropout (Dropout)            (None, 200)               0         \n",
      "_________________________________________________________________\n",
      "dense_2 (Dense)              (None, 10)                2010      \n",
      "=================================================================\n",
      "Total params: 373,806\n",
      "Trainable params: 371,758\n",
      "Non-trainable params: 2,048\n",
      "_________________________________________________________________\n"
     ]
    }
   ],
   "source": [
    "#Model summary\n",
    "model.summary()"
   ]
  },
  {
   "cell_type": "code",
   "execution_count": 28,
   "metadata": {
    "colab": {
     "base_uri": "https://localhost:8080/",
     "height": 714
    },
    "colab_type": "code",
    "id": "u4m9vrGsJxnL",
    "outputId": "85a07966-08d1-40b7-8a35-34c84e6105d5"
   },
   "outputs": [
    {
     "name": "stdout",
     "output_type": "stream",
     "text": [
      "Train on 42000 samples, validate on 18000 samples\n",
      "Epoch 1/20\n",
      "42000/42000 [==============================] - 4s 99us/sample - loss: 2.1352 - accuracy: 0.2540 - val_loss: 1.8017 - val_accuracy: 0.4406\n",
      "Epoch 2/20\n",
      "42000/42000 [==============================] - 4s 97us/sample - loss: 1.6469 - accuracy: 0.4733 - val_loss: 1.4296 - val_accuracy: 0.5804\n",
      "Epoch 3/20\n",
      "42000/42000 [==============================] - 4s 88us/sample - loss: 1.3541 - accuracy: 0.5817 - val_loss: 1.1927 - val_accuracy: 0.6541\n",
      "Epoch 4/20\n",
      "42000/42000 [==============================] - 3s 81us/sample - loss: 1.1902 - accuracy: 0.6341 - val_loss: 1.0809 - val_accuracy: 0.6838\n",
      "Epoch 5/20\n",
      "42000/42000 [==============================] - 4s 84us/sample - loss: 1.0907 - accuracy: 0.6666 - val_loss: 1.0265 - val_accuracy: 0.6944\n",
      "Epoch 6/20\n",
      "42000/42000 [==============================] - 3s 78us/sample - loss: 1.0101 - accuracy: 0.6948 - val_loss: 0.9803 - val_accuracy: 0.7069\n",
      "Epoch 7/20\n",
      "42000/42000 [==============================] - 3s 79us/sample - loss: 0.9555 - accuracy: 0.7113 - val_loss: 0.8991 - val_accuracy: 0.7353\n",
      "Epoch 8/20\n",
      "42000/42000 [==============================] - 3s 81us/sample - loss: 0.9105 - accuracy: 0.7255 - val_loss: 0.8904 - val_accuracy: 0.7346\n",
      "Epoch 9/20\n",
      "42000/42000 [==============================] - 3s 78us/sample - loss: 0.8695 - accuracy: 0.7390 - val_loss: 0.8441 - val_accuracy: 0.7499\n",
      "Epoch 10/20\n",
      "42000/42000 [==============================] - 3s 83us/sample - loss: 0.8308 - accuracy: 0.7489 - val_loss: 0.8445 - val_accuracy: 0.7486\n",
      "Epoch 11/20\n",
      "42000/42000 [==============================] - 3s 79us/sample - loss: 0.8004 - accuracy: 0.7590 - val_loss: 0.8057 - val_accuracy: 0.7606\n",
      "Epoch 12/20\n",
      "42000/42000 [==============================] - 3s 78us/sample - loss: 0.7696 - accuracy: 0.7668 - val_loss: 0.7918 - val_accuracy: 0.7662\n",
      "Epoch 13/20\n",
      "42000/42000 [==============================] - 3s 81us/sample - loss: 0.7455 - accuracy: 0.7759 - val_loss: 0.9055 - val_accuracy: 0.7263\n",
      "Epoch 14/20\n",
      "42000/42000 [==============================] - 4s 85us/sample - loss: 0.7232 - accuracy: 0.7798 - val_loss: 0.7297 - val_accuracy: 0.7889\n",
      "Epoch 15/20\n",
      "42000/42000 [==============================] - 3s 79us/sample - loss: 0.7006 - accuracy: 0.7892 - val_loss: 0.7220 - val_accuracy: 0.7874\n",
      "Epoch 16/20\n",
      "42000/42000 [==============================] - 3s 80us/sample - loss: 0.6815 - accuracy: 0.7936 - val_loss: 0.7292 - val_accuracy: 0.7846\n",
      "Epoch 17/20\n",
      "42000/42000 [==============================] - 3s 83us/sample - loss: 0.6640 - accuracy: 0.8005 - val_loss: 0.6718 - val_accuracy: 0.8070\n",
      "Epoch 18/20\n",
      "42000/42000 [==============================] - 3s 79us/sample - loss: 0.6469 - accuracy: 0.8055 - val_loss: 0.6871 - val_accuracy: 0.8022\n",
      "Epoch 19/20\n",
      "42000/42000 [==============================] - 3s 81us/sample - loss: 0.6309 - accuracy: 0.8101 - val_loss: 0.6786 - val_accuracy: 0.8034\n",
      "Epoch 20/20\n",
      "42000/42000 [==============================] - 3s 79us/sample - loss: 0.6144 - accuracy: 0.8152 - val_loss: 0.6415 - val_accuracy: 0.8175\n"
     ]
    }
   ],
   "source": [
    "#Fit the model on X_train,Y_train and validate using X_test,Y_test for 20 epochs for batch size of 128\n",
    "history_model = model.fit(X_train, y_train_enc, batch_size=batch_size,\n",
    "        validation_data=(X_test, y_test_enc),\n",
    "        epochs=epochs)"
   ]
  },
  {
   "cell_type": "markdown",
   "metadata": {
    "colab_type": "text",
    "id": "mLO4iBulJxnS"
   },
   "source": [
    "#### Inference:\n",
    "- By adding two hidden layers with 300 and 200 neurons in each and activation function as 'RELU' in the hidden layers,and output layer with softmax function for predicting the probabilities, optimizer as SGD with default learning rate of 0.01, the model is giving an accuracy of approximately 81% for both training and validation sets\n",
    "- The loss is minimized to 0.6 after training for 20 epochs\n",
    "- The model is performing well without any overfit"
   ]
  },
  {
   "cell_type": "code",
   "execution_count": 0,
   "metadata": {
    "colab": {},
    "colab_type": "code",
    "id": "_l9eWJoxJxnT"
   },
   "outputs": [],
   "source": [
    "#get the weights for model\n",
    "model_weights = model.get_weights()"
   ]
  },
  {
   "cell_type": "code",
   "execution_count": 55,
   "metadata": {
    "colab": {
     "base_uri": "https://localhost:8080/",
     "height": 119
    },
    "colab_type": "code",
    "id": "rGYonq3NsWmT",
    "outputId": "22ceab70-299b-44ed-c553-a1a811b63c67"
   },
   "outputs": [
    {
     "data": {
      "text/plain": [
       "[array([0.98743594, 0.99451894, 0.9884564 , ..., 1.0000688 , 0.9945291 ,\n",
       "        1.002925  ], dtype=float32),\n",
       " array([-0.00885268, -0.01047422,  0.01179394, ..., -0.00331628,\n",
       "         0.00607079, -0.00263288], dtype=float32),\n",
       " array([114.79867 , 114.899956, 115.03327 , ..., 114.26978 , 114.3194  ,\n",
       "        114.379234], dtype=float32)]"
      ]
     },
     "execution_count": 55,
     "metadata": {
      "tags": []
     },
     "output_type": "execute_result"
    }
   ],
   "source": [
    "model_weights[0:3]"
   ]
  },
  {
   "cell_type": "markdown",
   "metadata": {
    "colab_type": "text",
    "id": "zTy-Oc8Hsbbg"
   },
   "source": [
    "### Evaluate the model on Training and Test datasets"
   ]
  },
  {
   "cell_type": "code",
   "execution_count": 30,
   "metadata": {
    "colab": {
     "base_uri": "https://localhost:8080/",
     "height": 51
    },
    "colab_type": "code",
    "id": "6uPVs_oXJxnV",
    "outputId": "6a2184a6-ed8b-46b7-8d12-cc40514a32b5"
   },
   "outputs": [
    {
     "name": "stdout",
     "output_type": "stream",
     "text": [
      "The loss using train data is:  0.523\n",
      "The accuracy of train data is:  0.851\n"
     ]
    }
   ],
   "source": [
    "#Evaluate the model's loss and accuracy on Training-set\n",
    "\n",
    "score_train = model.evaluate(X_train, y_train_enc, verbose=0)\n",
    "print(\"The loss using train data is: \",round(score_train[0],3))\n",
    "print(\"The accuracy of train data is: \",round(score_train[1],3))"
   ]
  },
  {
   "cell_type": "code",
   "execution_count": 31,
   "metadata": {
    "colab": {
     "base_uri": "https://localhost:8080/",
     "height": 51
    },
    "colab_type": "code",
    "id": "Ak8DJqiuJxnW",
    "outputId": "91e69a4e-1b70-4e8e-fa82-9ca0016ce7fe"
   },
   "outputs": [
    {
     "name": "stdout",
     "output_type": "stream",
     "text": [
      "The loss using test data is:  0.642\n",
      "The accuracy of test data is:  0.818\n"
     ]
    }
   ],
   "source": [
    "#Evaluate the model's loss and accuracy on Test-set\n",
    "\n",
    "score_test = model.evaluate(X_test, y_test_enc, verbose=0)\n",
    "print(\"The loss using test data is: \",round(score_test[0],3))\n",
    "print(\"The accuracy of test data is: \",round(score_test[1],3))"
   ]
  },
  {
   "cell_type": "markdown",
   "metadata": {
    "colab_type": "text",
    "id": "5E2aIoCZJxof"
   },
   "source": [
    "### Model Performance : Plot loss and accuracy over no of epochs"
   ]
  },
  {
   "cell_type": "code",
   "execution_count": 0,
   "metadata": {
    "colab": {},
    "colab_type": "code",
    "id": "Zg_swK9-oMZ9"
   },
   "outputs": [],
   "source": [
    "def plot_metrics(ax, fontsize, col1, col2, x_label, y_label, title):\n",
    "    ax.plot((history_model.history[col1]))\n",
    "    ax.plot((history_model.history[col2]))\n",
    "    #ax.locator_params(nbins=3)\n",
    "    ax.set_xlabel(x_label)\n",
    "    ax.set_ylabel(y_label)\n",
    "    ax.legend(['Training-data', 'Test-data'])\n",
    "    ax.set_title(title)"
   ]
  },
  {
   "cell_type": "code",
   "execution_count": 33,
   "metadata": {
    "colab": {
     "base_uri": "https://localhost:8080/",
     "height": 369
    },
    "colab_type": "code",
    "id": "teo6oEqmod3O",
    "outputId": "a655cd20-c90c-4cdc-e9a3-efe37d4ce13b"
   },
   "outputs": [
    {
     "data": {
      "image/png": "[encoded data removed]",
      "text/plain": [
       "<Figure size 720x360 with 2 Axes>"
      ]
     },
     "metadata": {
      "tags": []
     },
     "output_type": "display_data"
    }
   ],
   "source": [
    "plt.close('all')\n",
    "fig, ((ax1, ax2)) = plt.subplots(nrows=1, ncols=2, figsize=(10,5))\n",
    "plot_metrics(ax1, 30, 'loss', 'val_loss', 'no of epochs', 'Loss', 'Loss over no of epochs')\n",
    "plot_metrics(ax2, 30, 'accuracy', 'val_accuracy', 'no of epochs', 'Accuracy', 'Accuracy over no of epochs')\n",
    "plt.tight_layout()\n",
    "plt.show()"
   ]
  },
  {
   "cell_type": "markdown",
   "metadata": {
    "colab_type": "text",
    "id": "rb8BRNxjJxoj"
   },
   "source": [
    "#### Observations:\n",
    "- loss over 20 epochs is reducing continuously at a constant pace for the training dataset.The smooth curve which shows constant decrease without any peaks or lows indicates this.\n",
    "- loss over the epochs for test dataset is reducing constantly till 7 epochs but has peaks and lows after that and nearing the loss obtained by training for 20 epochs\n",
    "- From the plot of loss, we can see that as the curves for training and test are very close to each other the model has comparable performance on both train and test datasets\n",
    "- From the plot of accuracy we observe that the model is not an overfit over the training dataset, and the model is showing comparable performance on both datasets.\n",
    "- The model could probably be trained a little more as the trend for accuracy on both datasets is still rising for the last few epochs."
   ]
  },
  {
   "cell_type": "markdown",
   "metadata": {
    "colab_type": "text",
    "id": "rpQDgXqpso12"
   },
   "source": [
    "### Predict the classes using above model on Test dataset"
   ]
  },
  {
   "cell_type": "code",
   "execution_count": 0,
   "metadata": {
    "colab": {},
    "colab_type": "code",
    "id": "gWcnCrp6et8N"
   },
   "outputs": [],
   "source": [
    "#Predict the Probabilities and Classes on Test-set\n",
    "y_predict_test = model.predict(X_test)\n",
    "y_predict_test_classes = model.predict_classes(X_test)"
   ]
  },
  {
   "cell_type": "code",
   "execution_count": 35,
   "metadata": {
    "colab": {
     "base_uri": "https://localhost:8080/",
     "height": 1000
    },
    "colab_type": "code",
    "id": "nyLBvTl9Byxm",
    "outputId": "459f4d95-2335-49da-e318-598bd874f7e9"
   },
   "outputs": [
    {
     "data": {
      "text/plain": [
       "array([[1.20330542e-01, 2.79707182e-02, 2.88406707e-04, 1.33717735e-03,\n",
       "        6.59782114e-03, 1.48353623e-02, 8.00564647e-01, 1.24241915e-02,\n",
       "        1.48592265e-02, 7.91898696e-04],\n",
       "       [2.67792065e-02, 1.21236509e-02, 2.09958889e-02, 3.86140019e-01,\n",
       "        1.21327471e-02, 1.10021979e-02, 3.25924233e-02, 4.84775871e-01,\n",
       "        1.21755153e-02, 1.28240255e-03],\n",
       "       [5.08701615e-02, 3.80090088e-01, 1.89256072e-02, 6.54808944e-03,\n",
       "        3.76974791e-01, 4.74530505e-03, 1.93437114e-02, 5.93992025e-02,\n",
       "        9.83123202e-03, 7.32718334e-02],\n",
       "       [1.38682559e-01, 3.89469229e-02, 2.66717464e-01, 2.27708444e-01,\n",
       "        3.68358791e-02, 9.12818406e-03, 4.73291837e-02, 6.16813302e-02,\n",
       "        1.10305354e-01, 6.26646653e-02],\n",
       "       [1.60760203e-04, 9.65157986e-01, 3.27464496e-03, 1.66478306e-02,\n",
       "        1.63484167e-03, 1.24320609e-03, 2.48147058e-04, 4.09903703e-03,\n",
       "        8.00427515e-04, 6.73316373e-03],\n",
       "       [1.05864078e-01, 7.52405971e-02, 7.69626275e-02, 8.32663402e-02,\n",
       "        1.54229179e-01, 9.25036371e-02, 1.36441708e-01, 1.72201060e-02,\n",
       "        7.89822116e-02, 1.79289535e-01],\n",
       "       [2.39753677e-03, 6.25421118e-04, 2.10512022e-04, 1.72931608e-02,\n",
       "        2.48248014e-03, 8.95989418e-01, 4.90274131e-02, 1.12719375e-04,\n",
       "        9.36583895e-03, 2.24954262e-02],\n",
       "       [2.33688916e-05, 9.68866341e-04, 1.94816821e-04, 9.71897662e-01,\n",
       "        8.23086448e-05, 1.07011562e-02, 4.38721372e-06, 1.48042291e-02,\n",
       "        1.25156506e-03, 7.16326831e-05],\n",
       "       [3.23083668e-07, 9.99720633e-01, 1.64593712e-06, 5.18370507e-06,\n",
       "        1.09031709e-04, 2.19109143e-06, 9.02972772e-08, 1.39477765e-04,\n",
       "        3.50718597e-06, 1.79440103e-05],\n",
       "       [7.10295420e-03, 2.31285169e-09, 2.81529200e-09, 1.47985235e-09,\n",
       "        1.04028186e-06, 5.52916958e-07, 9.92869318e-01, 1.30238076e-09,\n",
       "        2.59951194e-05, 4.49673259e-08],\n",
       "       [7.99180532e-04, 2.70323312e-06, 3.71192669e-04, 1.52879948e-05,\n",
       "        1.80585778e-06, 1.82517233e-05, 9.37208097e-05, 5.92489687e-06,\n",
       "        5.01844659e-03, 9.93673444e-01],\n",
       "       [3.43011767e-02, 4.83413180e-03, 3.08381091e-03, 2.07389295e-02,\n",
       "        3.59888040e-02, 1.10944705e-02, 2.37119421e-01, 3.04264278e-04,\n",
       "        6.26229942e-01, 2.63050627e-02],\n",
       "       [1.43057838e-01, 3.60733178e-03, 4.11271751e-02, 1.09616602e-02,\n",
       "        7.16597354e-03, 5.98372519e-03, 8.81183147e-03, 1.29902065e-02,\n",
       "        1.23041190e-01, 6.43253088e-01],\n",
       "       [3.39563913e-03, 2.59320834e-04, 3.81787577e-05, 7.72583735e-05,\n",
       "        1.08386754e-04, 8.16735846e-05, 2.01164512e-05, 1.01595915e-05,\n",
       "        2.71209260e-03, 9.93297160e-01],\n",
       "       [4.64647428e-07, 5.17961780e-05, 1.20559859e-03, 9.96946633e-01,\n",
       "        2.94343340e-06, 3.46959830e-04, 5.39851328e-07, 3.74727351e-05,\n",
       "        4.11152840e-04, 9.96602001e-04],\n",
       "       [2.01984876e-04, 9.36885357e-01, 7.29420921e-03, 2.31202319e-03,\n",
       "        1.68108661e-02, 3.79043224e-04, 2.22077011e-04, 3.36323008e-02,\n",
       "        9.49056062e-04, 1.31312106e-03],\n",
       "       [9.40081418e-01, 1.35820883e-03, 3.43133957e-04, 4.51270025e-04,\n",
       "        4.55340976e-03, 5.51707461e-04, 1.87443066e-02, 3.03616544e-04,\n",
       "        1.47017492e-02, 1.89110693e-02],\n",
       "       [7.03282058e-02, 2.83864476e-02, 3.32503691e-02, 3.10610741e-01,\n",
       "        5.19389473e-02, 2.70351321e-01, 7.83933029e-02, 1.54817002e-02,\n",
       "        1.25006795e-01, 1.62521936e-02],\n",
       "       [6.04515933e-02, 4.47021285e-03, 3.44275534e-02, 2.81019844e-02,\n",
       "        5.22374921e-03, 1.55936405e-02, 3.47786793e-03, 7.98489332e-01,\n",
       "        3.30695300e-03, 4.64571118e-02],\n",
       "       [1.19294296e-03, 6.53593394e-04, 2.60909833e-03, 3.49704593e-01,\n",
       "        8.25971249e-04, 5.75022101e-01, 2.09555384e-02, 1.72750801e-02,\n",
       "        1.41575392e-02, 1.76035333e-02],\n",
       "       [7.60391951e-01, 3.85956280e-02, 2.72509572e-03, 1.84158364e-03,\n",
       "        2.39575226e-02, 3.62775289e-03, 1.06118619e-01, 3.13005317e-03,\n",
       "        2.64028516e-02, 3.32089886e-02],\n",
       "       [3.32075865e-06, 8.99455976e-04, 1.11612107e-03, 3.78222406e-01,\n",
       "        2.88950878e-06, 5.88039577e-01, 3.04439338e-03, 6.82472237e-05,\n",
       "        2.57641692e-02, 2.83940975e-03],\n",
       "       [3.14064710e-05, 5.65837836e-03, 9.55789864e-01, 4.17184457e-03,\n",
       "        1.09728448e-04, 8.47087707e-04, 2.32692459e-04, 3.17779481e-02,\n",
       "        9.56106116e-04, 4.24971688e-04],\n",
       "       [6.76056184e-03, 5.93081594e-01, 1.12720877e-01, 6.38167188e-02,\n",
       "        8.14228803e-02, 2.08847839e-02, 7.37094274e-03, 7.53273442e-02,\n",
       "        2.20982619e-02, 1.65159628e-02],\n",
       "       [1.03043660e-03, 1.06707821e-02, 4.96936438e-04, 1.20083056e-02,\n",
       "        5.40915877e-04, 2.18666438e-02, 5.37796505e-03, 1.41259836e-04,\n",
       "        3.65662910e-02, 9.11300540e-01],\n",
       "       [3.38919051e-02, 2.55406708e-01, 9.55368206e-02, 9.14112478e-02,\n",
       "        2.25700885e-01, 2.12217309e-02, 1.95818599e-02, 1.57476589e-01,\n",
       "        6.05721176e-02, 3.92001346e-02],\n",
       "       [2.44822964e-04, 2.11390462e-02, 1.50509097e-03, 5.30079663e-01,\n",
       "        3.35705047e-03, 3.19378197e-01, 1.77779198e-02, 1.71449094e-04,\n",
       "        8.76058564e-02, 1.87408831e-02],\n",
       "       [1.05261730e-04, 2.89211202e-05, 1.80439329e-05, 8.91968142e-03,\n",
       "        2.77897721e-04, 9.70656633e-01, 1.81872919e-02, 7.29208768e-05,\n",
       "        8.83062778e-04, 8.50234821e-04],\n",
       "       [3.42612134e-06, 2.25002509e-06, 9.83117104e-01, 1.47930259e-04,\n",
       "        1.89358582e-06, 5.76208834e-07, 8.13762284e-08, 1.66383088e-02,\n",
       "        1.56967747e-06, 8.68914285e-05],\n",
       "       [8.04312076e-05, 9.89552937e-05, 1.69850300e-05, 6.92928079e-05,\n",
       "        9.44460571e-01, 1.47516164e-03, 5.34494705e-02, 1.18821561e-06,\n",
       "        3.11784213e-04, 3.62734536e-05],\n",
       "       [9.91402566e-01, 5.15871398e-05, 8.70136661e-04, 1.73489284e-03,\n",
       "        6.48906222e-04, 1.69572653e-04, 3.91913636e-04, 7.89125508e-04,\n",
       "        1.53924702e-04, 3.78726982e-03],\n",
       "       [9.71592009e-01, 1.77831636e-04, 1.78140224e-04, 1.86903126e-04,\n",
       "        2.32704100e-04, 2.21960989e-04, 9.14355367e-03, 8.22156144e-05,\n",
       "        4.71523171e-03, 1.34695377e-02],\n",
       "       [9.61078695e-06, 6.93746784e-04, 1.09602617e-04, 5.24018542e-04,\n",
       "        9.95935321e-01, 5.52827914e-05, 2.16665468e-03, 1.83640267e-07,\n",
       "        5.03137184e-04, 2.36476717e-06],\n",
       "       [1.03583548e-03, 9.34493005e-01, 4.09416668e-03, 1.78964566e-02,\n",
       "        1.75058413e-02, 2.20673927e-03, 8.20473724e-05, 1.79955568e-02,\n",
       "        7.63360353e-04, 3.92701849e-03],\n",
       "       [9.67343617e-03, 8.18487167e-01, 1.29577778e-02, 1.37107857e-02,\n",
       "        4.34602387e-02, 1.83954816e-02, 5.13072731e-03, 5.31840697e-02,\n",
       "        9.33438353e-03, 1.56659391e-02],\n",
       "       [6.97333462e-06, 1.32250830e-06, 5.98106226e-07, 8.68302226e-01,\n",
       "        3.40348493e-06, 1.29999191e-01, 1.97775953e-04, 3.14966974e-06,\n",
       "        1.32960873e-03, 1.55775648e-04],\n",
       "       [7.79407471e-02, 4.91777174e-02, 1.86971933e-01, 2.44251713e-02,\n",
       "        2.89070010e-02, 2.20216699e-02, 1.18609061e-02, 5.30549467e-01,\n",
       "        1.27348257e-02, 5.54105788e-02],\n",
       "       [1.97209064e-02, 3.64627838e-02, 2.67789308e-02, 4.83925581e-01,\n",
       "        6.39259890e-02, 1.70320660e-01, 1.03605807e-01, 4.56531718e-03,\n",
       "        6.17803931e-02, 2.89137717e-02],\n",
       "       [7.55512118e-02, 6.20393939e-02, 3.10812686e-02, 2.21056178e-01,\n",
       "        8.53469297e-02, 1.88456789e-01, 1.33409321e-01, 3.25178988e-02,\n",
       "        9.07865912e-02, 7.97544420e-02],\n",
       "       [1.03463242e-02, 9.28222871e-05, 6.99376315e-03, 8.55309889e-03,\n",
       "        9.28577036e-04, 2.40155449e-03, 8.53391923e-03, 1.30836188e-03,\n",
       "        7.02920230e-03, 9.53812361e-01],\n",
       "       [2.63100982e-01, 1.51682988e-01, 4.91692610e-02, 2.53124014e-02,\n",
       "        2.19947889e-01, 2.06261519e-02, 9.13795382e-02, 6.47045299e-02,\n",
       "        7.84991756e-02, 3.55770625e-02],\n",
       "       [6.91038149e-05, 1.35938972e-05, 4.74635657e-04, 2.01592548e-03,\n",
       "        7.19425079e-05, 3.02302913e-04, 4.72712889e-03, 9.24321012e-06,\n",
       "        9.91321385e-01, 9.94847738e-04],\n",
       "       [3.69791269e-05, 4.52866516e-04, 9.86157179e-01, 8.42810492e-04,\n",
       "        4.64755976e-05, 1.25304796e-05, 7.19606078e-06, 2.68260424e-04,\n",
       "        7.37235136e-03, 4.80333250e-03],\n",
       "       [1.10503085e-01, 1.26500819e-02, 4.73145163e-03, 8.59363656e-03,\n",
       "        3.67021598e-02, 1.60927381e-02, 3.87062430e-01, 2.22464255e-03,\n",
       "        4.15136486e-01, 6.30325638e-03],\n",
       "       [4.61602444e-03, 3.01897107e-03, 2.75556520e-02, 9.24967110e-01,\n",
       "        1.01733375e-02, 7.73186143e-03, 4.19334555e-03, 5.48964320e-03,\n",
       "        7.34850811e-03, 4.90560895e-03],\n",
       "       [3.30057889e-02, 1.75212827e-02, 1.36006717e-02, 8.17507878e-02,\n",
       "        1.09099355e-02, 7.96278194e-02, 2.15746593e-02, 1.70549378e-02,\n",
       "        8.28583017e-02, 6.42095804e-01],\n",
       "       [1.30070175e-05, 3.14191166e-05, 9.56726901e-04, 1.31906039e-04,\n",
       "        1.94764789e-06, 4.94835194e-06, 3.43401643e-06, 9.98855710e-01,\n",
       "        3.69449680e-07, 5.28388227e-07],\n",
       "       [3.24679480e-04, 3.05699795e-01, 4.03348869e-03, 7.96920806e-03,\n",
       "        6.69891715e-01, 1.58626039e-03, 1.63537415e-03, 3.02663725e-03,\n",
       "        3.91711248e-03, 1.91569678e-03],\n",
       "       [6.11134747e-05, 1.01491554e-04, 5.22297982e-04, 9.84312117e-01,\n",
       "        2.91916105e-04, 4.91437735e-03, 2.24138319e-04, 5.24485986e-05,\n",
       "        9.40710865e-03, 1.12911781e-04],\n",
       "       [5.09276874e-02, 2.22274959e-02, 9.56035219e-03, 5.80689544e-03,\n",
       "        7.84182549e-01, 1.40912971e-02, 7.19201565e-02, 1.28701737e-03,\n",
       "        2.87166592e-02, 1.12797907e-02]], dtype=float32)"
      ]
     },
     "execution_count": 35,
     "metadata": {
      "tags": []
     },
     "output_type": "execute_result"
    }
   ],
   "source": [
    "#Predicted Probabilities on Test-set\n",
    "#pick any few indices\n",
    "y_predict_test[870:920]"
   ]
  },
  {
   "cell_type": "code",
   "execution_count": 36,
   "metadata": {
    "colab": {
     "base_uri": "https://localhost:8080/",
     "height": 68
    },
    "colab_type": "code",
    "id": "oYxIyPGyC9Pv",
    "outputId": "115a8db9-d64f-4057-d8ca-91d6c5c11469"
   },
   "outputs": [
    {
     "data": {
      "text/plain": [
       "array([6, 7, 1, 2, 1, 9, 5, 3, 1, 6, 9, 8, 9, 9, 3, 1, 0, 3, 7, 5, 0, 5,\n",
       "       2, 1, 9, 1, 3, 5, 2, 4, 0, 0, 4, 1, 1, 3, 7, 3, 3, 9, 0, 8, 2, 8,\n",
       "       3, 9, 7, 4, 3, 4])"
      ]
     },
     "execution_count": 36,
     "metadata": {
      "tags": []
     },
     "output_type": "execute_result"
    }
   ],
   "source": [
    "#Predicted Classes for Test-set\n",
    "y_predict_test_classes[870:920]"
   ]
  },
  {
   "cell_type": "code",
   "execution_count": 37,
   "metadata": {
    "colab": {
     "base_uri": "https://localhost:8080/",
     "height": 68
    },
    "colab_type": "code",
    "id": "xHRS6B7YDJv2",
    "outputId": "32bd1615-07ee-4f97-9328-a1e672b6d1cf"
   },
   "outputs": [
    {
     "data": {
      "text/plain": [
       "array([6, 5, 6, 0, 1, 6, 5, 3, 1, 6, 9, 8, 9, 9, 3, 1, 0, 0, 7, 5, 0, 3,\n",
       "       2, 1, 9, 4, 9, 5, 2, 4, 0, 0, 4, 1, 1, 3, 7, 8, 3, 9, 0, 8, 2, 8,\n",
       "       3, 9, 7, 4, 3, 4])"
      ]
     },
     "execution_count": 37,
     "metadata": {
      "tags": []
     },
     "output_type": "execute_result"
    }
   ],
   "source": [
    "#Actual Classes for Test-set\n",
    "np.argmax(y_test_enc[870:920], axis=1)"
   ]
  },
  {
   "cell_type": "markdown",
   "metadata": {
    "colab_type": "text",
    "id": "Ao0I5ikWsB3q"
   },
   "source": [
    "### Print the classification accuracy metrics, \n",
    "### Confusion Matrix and Classification Report using the built model for Test dataset"
   ]
  },
  {
   "cell_type": "code",
   "execution_count": 38,
   "metadata": {
    "colab": {
     "base_uri": "https://localhost:8080/",
     "height": 34
    },
    "colab_type": "code",
    "id": "6rf-XGFlsJhE",
    "outputId": "8d90032c-6df2-439d-ccd0-c99f8001b7e6"
   },
   "outputs": [
    {
     "data": {
      "text/plain": [
       "0.8175"
      ]
     },
     "execution_count": 38,
     "metadata": {
      "tags": []
     },
     "output_type": "execute_result"
    }
   ],
   "source": [
    "#accuracy score on Test dataset\n",
    "accuracy_score(y_test, y_predict_test_classes)"
   ]
  },
  {
   "cell_type": "code",
   "execution_count": 39,
   "metadata": {
    "colab": {
     "base_uri": "https://localhost:8080/",
     "height": 34
    },
    "colab_type": "code",
    "id": "tyKW0eCXEjZY",
    "outputId": "80832cc1-3025-42b0-9257-e486d0b0f43a"
   },
   "outputs": [
    {
     "data": {
      "text/plain": [
       "0.8178182160732247"
      ]
     },
     "execution_count": 39,
     "metadata": {
      "tags": []
     },
     "output_type": "execute_result"
    }
   ],
   "source": [
    "#precision score on Test dataset\n",
    "precision_score(y_test, y_predict_test_classes, average='weighted')"
   ]
  },
  {
   "cell_type": "code",
   "execution_count": 40,
   "metadata": {
    "colab": {
     "base_uri": "https://localhost:8080/",
     "height": 34
    },
    "colab_type": "code",
    "id": "Jx_G8dP5EuZW",
    "outputId": "47b2a3f4-c115-47c5-b99a-a25e924e2431"
   },
   "outputs": [
    {
     "data": {
      "text/plain": [
       "0.8175"
      ]
     },
     "execution_count": 40,
     "metadata": {
      "tags": []
     },
     "output_type": "execute_result"
    }
   ],
   "source": [
    "#recall score on Test dataset\n",
    "recall_score(y_test, y_predict_test_classes, average='weighted')"
   ]
  },
  {
   "cell_type": "code",
   "execution_count": 41,
   "metadata": {
    "colab": {
     "base_uri": "https://localhost:8080/",
     "height": 34
    },
    "colab_type": "code",
    "id": "DwYAFQM3FG8P",
    "outputId": "fd801b13-f7ab-4d28-a154-5d9ee14e9dba"
   },
   "outputs": [
    {
     "data": {
      "text/plain": [
       "0.8173051686907583"
      ]
     },
     "execution_count": 41,
     "metadata": {
      "tags": []
     },
     "output_type": "execute_result"
    }
   ],
   "source": [
    "#f1 score on Test dataset\n",
    "f1_score(y_test, y_predict_test_classes, average='weighted')"
   ]
  },
  {
   "cell_type": "code",
   "execution_count": 42,
   "metadata": {
    "colab": {
     "base_uri": "https://localhost:8080/",
     "height": 187
    },
    "colab_type": "code",
    "id": "HIwqEWhFFRYD",
    "outputId": "7453fce7-db6b-499f-fb52-26c8a583e4b1"
   },
   "outputs": [
    {
     "data": {
      "text/plain": [
       "array([[1591,   21,   10,   23,   33,    8,   33,   24,   23,   48],\n",
       "       [  34, 1558,   25,   51,   55,   10,   21,   41,   17,   16],\n",
       "       [  18,   43, 1477,   54,   40,   14,    9,   68,   29,   51],\n",
       "       [  21,   42,   39, 1326,   35,  132,   22,   37,   41,   24],\n",
       "       [  25,   57,   28,   24, 1544,   15,   39,   14,   22,   44],\n",
       "       [  21,   21,   15,  112,   17, 1409,   73,   11,   53,   36],\n",
       "       [  51,   26,   16,   29,   54,   57, 1499,   12,   67,   21],\n",
       "       [  28,   77,   42,   33,   25,   12,   11, 1540,   13,   27],\n",
       "       [  32,   44,   31,   65,   35,   39,  113,   13, 1371,   69],\n",
       "       [  91,   46,   23,   47,   34,   47,   23,   37,   56, 1400]])"
      ]
     },
     "execution_count": 42,
     "metadata": {
      "tags": []
     },
     "output_type": "execute_result"
    }
   ],
   "source": [
    "#Confusion Matrix for Test dataset\n",
    "confusion_matrix(y_test, y_predict_test_classes)"
   ]
  },
  {
   "cell_type": "code",
   "execution_count": 43,
   "metadata": {
    "colab": {
     "base_uri": "https://localhost:8080/",
     "height": 306
    },
    "colab_type": "code",
    "id": "1hDw-alwFk61",
    "outputId": "1b5391a7-fe2e-4651-af40-ca07d436f71a"
   },
   "outputs": [
    {
     "name": "stdout",
     "output_type": "stream",
     "text": [
      "              precision    recall  f1-score   support\n",
      "\n",
      "         0.0       0.83      0.88      0.85      1814\n",
      "         1.0       0.81      0.85      0.83      1828\n",
      "         2.0       0.87      0.82      0.84      1803\n",
      "         3.0       0.75      0.77      0.76      1719\n",
      "         4.0       0.82      0.85      0.84      1812\n",
      "         5.0       0.81      0.80      0.80      1768\n",
      "         6.0       0.81      0.82      0.82      1832\n",
      "         7.0       0.86      0.85      0.85      1808\n",
      "         8.0       0.81      0.76      0.78      1812\n",
      "         9.0       0.81      0.78      0.79      1804\n",
      "\n",
      "    accuracy                           0.82     18000\n",
      "   macro avg       0.82      0.82      0.82     18000\n",
      "weighted avg       0.82      0.82      0.82     18000\n",
      "\n"
     ]
    }
   ],
   "source": [
    "#Classification Report for Test dataset\n",
    "print(classification_report(y_test, y_predict_test_classes))"
   ]
  },
  {
   "cell_type": "markdown",
   "metadata": {
    "colab_type": "text",
    "id": "gLdWiYsCJxoJ"
   },
   "source": [
    "### Predict the classes using above model on Validation datset"
   ]
  },
  {
   "cell_type": "code",
   "execution_count": 0,
   "metadata": {
    "colab": {},
    "colab_type": "code",
    "id": "7oGp7UhbJxoJ"
   },
   "outputs": [],
   "source": [
    "#Predict the probability percentages and the classes which were predicted using above model for Validation-set\n",
    "y_predict_val = model.predict(X_val)\n",
    "y_predict_val_classes = model.predict_classes(X_val)"
   ]
  },
  {
   "cell_type": "code",
   "execution_count": 45,
   "metadata": {
    "colab": {
     "base_uri": "https://localhost:8080/",
     "height": 1000
    },
    "colab_type": "code",
    "id": "7g-jCO7iJxoK",
    "outputId": "e1979ff1-cb45-45ad-8f21-efc5c2b39b67"
   },
   "outputs": [
    {
     "data": {
      "text/plain": [
       "array([[8.10591911e-04, 1.90022006e-03, 9.70863342e-01, 2.05725105e-03,\n",
       "        2.87721748e-04, 3.58465011e-04, 1.06552332e-04, 1.54143460e-02,\n",
       "        1.28326763e-03, 6.91807689e-03],\n",
       "       [1.49416912e-04, 4.99889662e-04, 9.85722601e-01, 3.96076497e-03,\n",
       "        2.36590640e-04, 2.67250325e-05, 1.73659646e-05, 8.79027508e-03,\n",
       "        4.04139661e-04, 1.92260093e-04],\n",
       "       [1.72453860e-04, 2.86761089e-03, 9.75425303e-01, 2.23909505e-03,\n",
       "        1.42986048e-03, 3.06351540e-05, 2.75441889e-05, 1.68445986e-02,\n",
       "        7.21507065e-04, 2.41344314e-04],\n",
       "       [6.45745837e-04, 3.76406983e-02, 8.48733604e-01, 4.00940515e-03,\n",
       "        4.64571756e-04, 8.33306331e-05, 4.60322299e-05, 1.05597138e-01,\n",
       "        1.91581517e-03, 8.63665540e-04],\n",
       "       [3.46582546e-03, 3.46983403e-01, 1.54679999e-01, 4.70621474e-02,\n",
       "        3.18783857e-02, 1.98481958e-02, 6.36449605e-02, 1.18440785e-01,\n",
       "        2.06658602e-01, 7.33765261e-03],\n",
       "       [5.72316684e-02, 1.22031115e-01, 1.50975108e-01, 4.14071903e-02,\n",
       "        1.04035214e-01, 1.37466388e-02, 7.47203305e-02, 3.35799754e-01,\n",
       "        6.38926849e-02, 3.61602604e-02],\n",
       "       [4.42705961e-09, 2.93785707e-09, 9.99987245e-01, 1.93008688e-07,\n",
       "        1.23972710e-09, 1.46798385e-09, 1.47131612e-10, 1.65684639e-07,\n",
       "        2.19116885e-07, 1.21313124e-05],\n",
       "       [1.07706661e-08, 7.10765391e-07, 9.99990344e-01, 6.51031257e-07,\n",
       "        2.47069298e-08, 2.58620769e-09, 6.66314559e-10, 8.16761076e-06,\n",
       "        6.54450290e-08, 8.00782107e-09],\n",
       "       [1.18932156e-02, 1.04397126e-01, 6.44863427e-01, 1.95431840e-02,\n",
       "        2.67574657e-02, 3.60049144e-03, 3.55454697e-03, 1.30286500e-01,\n",
       "        2.08218805e-02, 3.42821106e-02],\n",
       "       [1.00072146e-04, 1.68342830e-03, 9.58082378e-01, 1.00060981e-02,\n",
       "        2.63096392e-03, 4.50863782e-03, 2.27290016e-04, 1.14889210e-02,\n",
       "        1.78902375e-03, 9.48312879e-03],\n",
       "       [1.57726575e-02, 1.93388034e-02, 4.72265363e-01, 1.67324618e-01,\n",
       "        9.32137389e-03, 1.91290509e-02, 7.41032045e-03, 1.74515516e-01,\n",
       "        5.22356629e-02, 6.26866221e-02],\n",
       "       [5.72744502e-05, 3.83934348e-05, 9.96820211e-01, 2.13810999e-04,\n",
       "        7.86721648e-06, 2.58262185e-06, 2.85338751e-06, 1.97585742e-03,\n",
       "        3.60673293e-04, 5.20501344e-04],\n",
       "       [1.13856959e-10, 7.11189397e-12, 9.99999881e-01, 6.21015728e-09,\n",
       "        8.08204458e-12, 7.84087096e-13, 4.81440864e-15, 1.10816671e-07,\n",
       "        2.03378391e-11, 4.20673407e-09],\n",
       "       [3.39943290e-05, 8.93744727e-05, 9.93616819e-01, 2.59395526e-03,\n",
       "        2.62082904e-04, 1.59980409e-04, 6.81038409e-06, 3.25415836e-04,\n",
       "        4.61110612e-04, 2.45049153e-03],\n",
       "       [4.73786332e-03, 1.44937681e-02, 9.39383447e-01, 1.80581305e-02,\n",
       "        3.91531270e-03, 6.64269552e-03, 1.31345878e-03, 5.20847691e-03,\n",
       "        2.97489832e-03, 3.27195274e-03],\n",
       "       [1.44555827e-06, 9.63968432e-07, 9.99741375e-01, 8.44035003e-06,\n",
       "        4.34003232e-06, 3.79168296e-06, 5.99564714e-07, 3.59766163e-05,\n",
       "        5.48653452e-06, 1.97526184e-04],\n",
       "       [2.79235450e-04, 5.27089403e-04, 9.93395030e-01, 2.31232843e-03,\n",
       "        5.00595022e-04, 9.30749738e-05, 8.11588325e-05, 6.31359580e-04,\n",
       "        1.68332597e-03, 4.96816821e-04],\n",
       "       [1.95483840e-03, 5.61633206e-04, 9.63298798e-01, 9.74414870e-03,\n",
       "        1.89283863e-03, 6.28018461e-04, 4.30300774e-04, 1.79538168e-02,\n",
       "        2.00115610e-03, 1.53460517e-03],\n",
       "       [4.30776272e-03, 1.32719204e-01, 2.03696400e-01, 7.00949831e-03,\n",
       "        1.56067222e-01, 5.53810445e-04, 3.54063493e-04, 4.48884785e-01,\n",
       "        2.16426533e-02, 2.47646943e-02],\n",
       "       [1.63101277e-03, 1.91528182e-02, 7.40056992e-01, 5.87548465e-02,\n",
       "        6.24266174e-03, 1.48365123e-03, 9.61941085e-04, 1.62419751e-01,\n",
       "        6.60040323e-03, 2.69590924e-03],\n",
       "       [6.56278644e-07, 1.42843328e-06, 9.99970078e-01, 4.73541922e-06,\n",
       "        2.02779233e-06, 4.99095023e-08, 2.38627180e-08, 7.14937050e-06,\n",
       "        2.71978433e-06, 1.11357376e-05],\n",
       "       [3.63949425e-07, 4.36647751e-05, 9.74988639e-01, 2.80574241e-05,\n",
       "        1.72055479e-07, 8.66419936e-10, 9.64088986e-09, 2.47096494e-02,\n",
       "        2.25896569e-04, 3.48179856e-06],\n",
       "       [1.15556948e-04, 2.58767541e-04, 9.70866263e-01, 1.38018178e-02,\n",
       "        2.05022861e-05, 6.25780522e-05, 7.48804405e-06, 1.36766220e-02,\n",
       "        1.92882115e-04, 9.97426687e-04],\n",
       "       [1.88881604e-05, 8.71060183e-06, 9.99472558e-01, 7.73920619e-05,\n",
       "        1.04196144e-04, 3.87340748e-07, 1.02889207e-05, 8.92276075e-05,\n",
       "        2.03480551e-04, 1.49133357e-05],\n",
       "       [6.08636364e-02, 6.68559000e-02, 1.71953067e-01, 2.41318017e-01,\n",
       "        1.05012313e-01, 8.56752396e-02, 5.38316071e-02, 2.62935963e-02,\n",
       "        1.54117465e-01, 3.40792388e-02],\n",
       "       [7.20813265e-03, 1.88040512e-03, 7.81188130e-01, 3.51855643e-02,\n",
       "        4.36315686e-03, 1.68134887e-02, 9.24825296e-03, 1.29110605e-01,\n",
       "        1.25759682e-02, 2.42637563e-03],\n",
       "       [1.38866599e-03, 5.21061905e-02, 6.73905790e-01, 8.05635378e-02,\n",
       "        2.82925641e-04, 9.60168982e-05, 2.27336045e-06, 1.45221222e-02,\n",
       "        5.98348444e-04, 1.76534116e-01],\n",
       "       [1.43895292e-07, 1.45599745e-06, 9.99695778e-01, 2.81794986e-04,\n",
       "        1.58908563e-07, 8.50144843e-08, 1.18930270e-08, 1.77830898e-05,\n",
       "        2.39501173e-06, 3.04445365e-07],\n",
       "       [3.64891748e-04, 1.84768563e-04, 9.77299452e-01, 8.50384962e-03,\n",
       "        9.94656468e-04, 5.91010205e-04, 1.24808372e-04, 9.41257967e-05,\n",
       "        1.53438910e-03, 1.03080738e-02],\n",
       "       [8.23324770e-02, 2.13561617e-02, 1.26782984e-01, 3.16451304e-02,\n",
       "        9.77009535e-02, 2.96706092e-02, 4.93463367e-01, 3.37822288e-02,\n",
       "        6.32914230e-02, 1.99746583e-02],\n",
       "       [8.30568024e-06, 2.54516317e-06, 9.99859214e-01, 5.18451998e-05,\n",
       "        4.20360993e-06, 8.45977979e-07, 1.99935570e-07, 9.50095728e-06,\n",
       "        4.26196602e-05, 2.07045141e-05],\n",
       "       [3.98020697e-04, 2.65302286e-02, 8.52399647e-01, 8.68039355e-02,\n",
       "        3.33415199e-04, 2.84762820e-03, 3.39238526e-04, 1.78010706e-02,\n",
       "        2.76689418e-03, 9.77992825e-03],\n",
       "       [5.34953779e-06, 1.12778825e-05, 9.99818623e-01, 6.91368841e-05,\n",
       "        4.40449503e-06, 3.97151645e-08, 1.18887570e-07, 6.19199636e-05,\n",
       "        2.32113307e-05, 5.81250833e-06],\n",
       "       [1.91663915e-07, 1.87281348e-05, 9.99397635e-01, 2.27762011e-05,\n",
       "        7.51014184e-08, 2.23234125e-08, 4.84518381e-09, 5.50627999e-04,\n",
       "        3.49540596e-06, 6.49843923e-06],\n",
       "       [1.06156943e-02, 1.17795445e-01, 4.43498254e-01, 3.83145921e-02,\n",
       "        6.80077672e-02, 4.36539343e-03, 2.13049091e-02, 2.37483934e-01,\n",
       "        3.47919166e-02, 2.38221399e-02],\n",
       "       [1.11850490e-07, 1.99743340e-07, 9.99972105e-01, 1.81201867e-05,\n",
       "        9.71874556e-07, 9.89589850e-08, 9.66291402e-09, 1.37130928e-06,\n",
       "        6.10923507e-06, 8.95705909e-07],\n",
       "       [3.73129398e-02, 4.10310254e-02, 4.79350775e-01, 1.03066184e-01,\n",
       "        1.46440081e-02, 3.16096544e-02, 6.33600056e-02, 5.79503030e-02,\n",
       "        1.49808764e-01, 2.18663830e-02],\n",
       "       [1.51183940e-06, 2.33993214e-05, 9.90797758e-01, 3.13297758e-04,\n",
       "        9.51489983e-06, 8.88776958e-06, 2.06774462e-06, 5.41722466e-06,\n",
       "        3.85030056e-03, 4.98785311e-03],\n",
       "       [7.12444133e-04, 1.47320458e-03, 9.78941679e-01, 1.39471767e-02,\n",
       "        3.09265539e-04, 8.97901191e-04, 3.74623720e-04, 9.10759030e-04,\n",
       "        1.93968485e-03, 4.93258238e-04],\n",
       "       [2.78138090e-04, 2.84171989e-03, 9.66272771e-01, 8.54061730e-03,\n",
       "        2.02031014e-03, 2.59418157e-04, 3.61218350e-04, 2.82144523e-03,\n",
       "        5.40337013e-03, 1.12009291e-02],\n",
       "       [6.47011446e-04, 1.90378632e-03, 9.67597842e-01, 7.15759909e-03,\n",
       "        2.68950738e-04, 1.65848935e-04, 3.73725125e-05, 6.55370671e-03,\n",
       "        1.58331753e-03, 1.40845673e-02],\n",
       "       [2.32549280e-01, 7.23283142e-02, 1.01477848e-02, 2.80483156e-01,\n",
       "        1.77409556e-02, 3.22962217e-02, 1.38733953e-01, 1.83271363e-01,\n",
       "        1.85748171e-02, 1.38741210e-02],\n",
       "       [7.33504130e-04, 3.58504220e-03, 9.70932484e-01, 8.63452349e-03,\n",
       "        3.18998354e-04, 7.84641132e-04, 2.63244419e-05, 6.40298286e-03,\n",
       "        2.57401168e-03, 6.00763364e-03],\n",
       "       [1.83974896e-02, 6.29092827e-02, 2.00233489e-01, 4.40914661e-01,\n",
       "        2.36708997e-03, 3.37168872e-02, 1.90025149e-03, 1.69246078e-01,\n",
       "        1.90266334e-02, 5.12882173e-02],\n",
       "       [3.59876401e-04, 6.55530021e-03, 8.13114524e-01, 1.32688731e-01,\n",
       "        2.78461445e-03, 2.57416489e-03, 3.30139621e-04, 2.84603164e-02,\n",
       "        1.10594686e-02, 2.07276666e-03],\n",
       "       [4.17748342e-05, 9.28848931e-06, 9.95440602e-01, 1.50441623e-03,\n",
       "        4.09003551e-05, 2.31399936e-05, 5.71086857e-05, 2.64081359e-03,\n",
       "        2.36910142e-04, 5.05018488e-06],\n",
       "       [9.98158157e-06, 1.63722914e-04, 9.97848511e-01, 4.28347150e-04,\n",
       "        3.90278110e-05, 6.50000311e-06, 1.28314457e-06, 6.10807256e-05,\n",
       "        9.53048468e-04, 4.88580321e-04],\n",
       "       [2.04387736e-02, 3.48185822e-02, 4.30349529e-01, 4.87123840e-02,\n",
       "        4.52590585e-02, 4.22860049e-02, 4.21923399e-02, 4.42293249e-02,\n",
       "        1.69756025e-01, 1.21958017e-01],\n",
       "       [5.13054056e-06, 2.54819141e-04, 9.94237661e-01, 4.38485574e-03,\n",
       "        7.30194442e-05, 1.76819667e-05, 5.09801384e-06, 8.90892697e-04,\n",
       "        1.12160378e-04, 1.86777306e-05],\n",
       "       [4.76223882e-03, 2.06637941e-02, 8.84713531e-01, 2.33167317e-02,\n",
       "        1.37030631e-02, 1.88048594e-02, 1.48800178e-03, 3.94331058e-03,\n",
       "        1.42865330e-02, 1.43178301e-02]], dtype=float32)"
      ]
     },
     "execution_count": 45,
     "metadata": {
      "tags": []
     },
     "output_type": "execute_result"
    }
   ],
   "source": [
    "#Predicted Probabilities on Validation-set\n",
    "#pick any few indices\n",
    "y_predict_val[9720:9770]"
   ]
  },
  {
   "cell_type": "code",
   "execution_count": 46,
   "metadata": {
    "colab": {
     "base_uri": "https://localhost:8080/",
     "height": 68
    },
    "colab_type": "code",
    "id": "hv536N88JxoN",
    "outputId": "27c63e6c-709d-433a-e944-d58293966ac0"
   },
   "outputs": [
    {
     "data": {
      "text/plain": [
       "array([2, 2, 2, 2, 1, 7, 2, 2, 2, 2, 2, 2, 2, 2, 2, 2, 2, 2, 7, 2, 2, 2,\n",
       "       2, 2, 3, 2, 2, 2, 2, 6, 2, 2, 2, 2, 2, 2, 2, 2, 2, 2, 2, 3, 2, 3,\n",
       "       2, 2, 2, 2, 2, 2])"
      ]
     },
     "execution_count": 46,
     "metadata": {
      "tags": []
     },
     "output_type": "execute_result"
    }
   ],
   "source": [
    "#Predicted Classes on Validation-set\n",
    "\n",
    "y_predict_val_classes[9720:9770]"
   ]
  },
  {
   "cell_type": "code",
   "execution_count": 47,
   "metadata": {
    "colab": {
     "base_uri": "https://localhost:8080/",
     "height": 68
    },
    "colab_type": "code",
    "id": "AMhiw50JJxoO",
    "outputId": "3c66aebb-89b0-45ac-bfc9-a158687c56cc"
   },
   "outputs": [
    {
     "data": {
      "text/plain": [
       "array([2, 2, 2, 2, 2, 2, 2, 2, 2, 2, 2, 2, 2, 2, 2, 2, 2, 2, 2, 2, 2, 2,\n",
       "       2, 2, 2, 2, 2, 2, 2, 2, 2, 2, 2, 2, 2, 2, 2, 2, 2, 2, 2, 2, 2, 2,\n",
       "       2, 2, 2, 2, 2, 2])"
      ]
     },
     "execution_count": 47,
     "metadata": {
      "tags": []
     },
     "output_type": "execute_result"
    }
   ],
   "source": [
    "#Actual classes from y_val on Validation-set\n",
    "np.argmax(y_val_enc[9720:9770], axis=1)"
   ]
  },
  {
   "cell_type": "markdown",
   "metadata": {
    "colab_type": "text",
    "id": "iScdSPBAJxoT"
   },
   "source": [
    "### Print the classification accuracy metrics, Confusion Matrix and Classification Report using the built model for Validation dataset"
   ]
  },
  {
   "cell_type": "code",
   "execution_count": 48,
   "metadata": {
    "colab": {
     "base_uri": "https://localhost:8080/",
     "height": 34
    },
    "colab_type": "code",
    "id": "2mbOOrAwJxoW",
    "outputId": "917f3616-4667-42c6-9603-efa408aacb5c"
   },
   "outputs": [
    {
     "data": {
      "text/plain": [
       "0.8409833333333333"
      ]
     },
     "execution_count": 48,
     "metadata": {
      "tags": []
     },
     "output_type": "execute_result"
    }
   ],
   "source": [
    "#accuracy score on Validation dataset\n",
    "accuracy_score(y_val, y_predict_val_classes)"
   ]
  },
  {
   "cell_type": "code",
   "execution_count": 49,
   "metadata": {
    "colab": {
     "base_uri": "https://localhost:8080/",
     "height": 34
    },
    "colab_type": "code",
    "id": "XlM7MDuMJxoX",
    "outputId": "2cf48146-6f14-4789-b978-08174a7679a1"
   },
   "outputs": [
    {
     "data": {
      "text/plain": [
       "0.8412035589254007"
      ]
     },
     "execution_count": 49,
     "metadata": {
      "tags": []
     },
     "output_type": "execute_result"
    }
   ],
   "source": [
    "#precision-score on Validation dataset\n",
    "precision_score(y_val, y_predict_val_classes, average='weighted')"
   ]
  },
  {
   "cell_type": "code",
   "execution_count": 50,
   "metadata": {
    "colab": {
     "base_uri": "https://localhost:8080/",
     "height": 34
    },
    "colab_type": "code",
    "id": "FfP6k0joJxoZ",
    "outputId": "1fd1fe41-8627-4466-b3f5-33052d54960f"
   },
   "outputs": [
    {
     "data": {
      "text/plain": [
       "0.8409833333333333"
      ]
     },
     "execution_count": 50,
     "metadata": {
      "tags": []
     },
     "output_type": "execute_result"
    }
   ],
   "source": [
    "#recall-score on Validation dataset\n",
    "recall_score(y_val, y_predict_val_classes, average='weighted')"
   ]
  },
  {
   "cell_type": "code",
   "execution_count": 51,
   "metadata": {
    "colab": {
     "base_uri": "https://localhost:8080/",
     "height": 34
    },
    "colab_type": "code",
    "id": "pp9Z5G3DJxoa",
    "outputId": "13e96699-5f71-4e4c-d82a-70b2a5d2b254"
   },
   "outputs": [
    {
     "data": {
      "text/plain": [
       "0.8407938814479567"
      ]
     },
     "execution_count": 51,
     "metadata": {
      "tags": []
     },
     "output_type": "execute_result"
    }
   ],
   "source": [
    "#f1_score on Validation dataset\n",
    "f1_score(y_val, y_predict_val_classes, average='weighted')"
   ]
  },
  {
   "cell_type": "code",
   "execution_count": 52,
   "metadata": {
    "colab": {
     "base_uri": "https://localhost:8080/",
     "height": 187
    },
    "colab_type": "code",
    "id": "6r-uuJE-Jxob",
    "outputId": "8bde465e-566d-40de-c9ac-5bcc2e93ff6a"
   },
   "outputs": [
    {
     "data": {
      "text/plain": [
       "array([[5322,   89,   40,   46,   91,   29,  123,   56,   72,  132],\n",
       "       [  99, 5220,   62,  138,  135,   21,   50,  154,   65,   56],\n",
       "       [  43,  129, 5110,  135,  115,   35,   42,  200,   78,  113],\n",
       "       [  58,  155,  112, 4786,   96,  375,   59,  123,  133,  103],\n",
       "       [  97,  189,   78,   58, 5215,   48,   96,   29,   71,  119],\n",
       "       [  59,   71,   42,  332,   78, 4926,  239,   33,  128,   92],\n",
       "       [ 157,   80,   46,   79,  170,  169, 4993,   35,  205,   66],\n",
       "       [  60,  212,  126,   83,   64,   36,   31, 5292,   33,   63],\n",
       "       [ 115,  140,   76,  176,  132,  131,  324,   40, 4692,  174],\n",
       "       [ 245,  135,   88,  132,   96,  112,   63,   80,  146, 4903]])"
      ]
     },
     "execution_count": 52,
     "metadata": {
      "tags": []
     },
     "output_type": "execute_result"
    }
   ],
   "source": [
    "#Confusion Matrix for Validation dataset\n",
    "confusion_matrix(y_val, y_predict_val_classes)"
   ]
  },
  {
   "cell_type": "code",
   "execution_count": 53,
   "metadata": {
    "colab": {
     "base_uri": "https://localhost:8080/",
     "height": 306
    },
    "colab_type": "code",
    "id": "tzHfrKe7Jxod",
    "outputId": "be5abe85-3a85-43a4-f8c3-d3ad7ae17544"
   },
   "outputs": [
    {
     "name": "stdout",
     "output_type": "stream",
     "text": [
      "              precision    recall  f1-score   support\n",
      "\n",
      "         0.0       0.85      0.89      0.87      6000\n",
      "         1.0       0.81      0.87      0.84      6000\n",
      "         2.0       0.88      0.85      0.87      6000\n",
      "         3.0       0.80      0.80      0.80      6000\n",
      "         4.0       0.84      0.87      0.86      6000\n",
      "         5.0       0.84      0.82      0.83      6000\n",
      "         6.0       0.83      0.83      0.83      6000\n",
      "         7.0       0.88      0.88      0.88      6000\n",
      "         8.0       0.83      0.78      0.81      6000\n",
      "         9.0       0.84      0.82      0.83      6000\n",
      "\n",
      "    accuracy                           0.84     60000\n",
      "   macro avg       0.84      0.84      0.84     60000\n",
      "weighted avg       0.84      0.84      0.84     60000\n",
      "\n"
     ]
    }
   ],
   "source": [
    "#Classification Report for Validation dataset\n",
    "print(classification_report(y_val, y_predict_val_classes))"
   ]
  },
  {
   "cell_type": "markdown",
   "metadata": {
    "colab_type": "text",
    "id": "XlireQAjJxoe"
   },
   "source": [
    "### Inference:\n",
    "- The accuracy score on test dataset is 82% and the precision, recall and f1 scores are 82%\n",
    "- The accuracy score on Validation dataset  is 84% and the precision, recall and f1 scores are all 84%\n",
    "- The model is performing comapritively well on both test and validation datasets"
   ]
  }
 ],
 "metadata": {
  "accelerator": "GPU",
  "colab": {
   "collapsed_sections": [],
   "name": "INNDL_R7_Project2_SVHN_Datset.ipynb",
   "provenance": []
  },
  "kernelspec": {
   "display_name": "Python 3",
   "language": "python",
   "name": "python3"
  },
  "language_info": {
   "codemirror_mode": {
    "name": "ipython",
    "version": 3
   },
   "file_extension": ".py",
   "mimetype": "text/x-python",
   "name": "python",
   "nbconvert_exporter": "python",
   "pygments_lexer": "ipython3",
   "version": "3.7.3"
  }
 },
 "nbformat": 4,
 "nbformat_minor": 1
}
