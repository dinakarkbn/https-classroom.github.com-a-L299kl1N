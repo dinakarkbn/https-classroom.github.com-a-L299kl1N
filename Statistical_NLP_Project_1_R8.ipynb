{
 "cells": [
  {
   "cell_type": "markdown",
   "metadata": {
    "colab_type": "text",
    "id": "cZvIKfdp8zZ7"
   },
   "source": [
    "# Statistical NLP : Blog Authorship Corpus_Statistical NLP_R8_Project1"
   ]
  },
  {
   "cell_type": "markdown",
   "metadata": {
    "colab_type": "text",
    "id": "hRUuJgE68zZ8"
   },
   "source": [
    "## Blog Authorship Corpus"
   ]
  },
  {
   "cell_type": "markdown",
   "metadata": {
    "colab_type": "text",
    "id": "gN5650DX8zZ9"
   },
   "source": [
    "- **Project Name : Blog Authorship Corpus**\n",
    "\n",
    "##### **Project Description**\n",
    "- Classification is probably the most popular task that you would deal with in real life.\n",
    "Text in the form of blogs, posts, articles, etc. is written every second. It is a challenge to predict the\n",
    "information about the writer without knowing about him/her.\n",
    "- We are going to create a classifier that predicts multiple features of the author of a given text.\n",
    "- We have designed it as a Multilabel classification problem.\n",
    "\n",
    "##### **Dataset**\n",
    "- Over 600,000 posts from more than 19 thousand bloggers\n",
    "- The Blog Authorship Corpus consists of the collected posts of 19,320 bloggers gathered from\n",
    "blogger.com in August 2004. The corpus incorporates a total of __681,288 posts and over 140 million\n",
    "words - or approximately 35 posts and 7250 words per person.__\n",
    "- Each blog is presented as a separate file, the name of which indicates a blogger id# and the\n",
    "blogger’s self-provided gender, age, industry, and astrological sign. (All are labeled for gender and\n",
    "age but for many, industry and/or sign is marked as unknown.)\n",
    "- All bloggers included in the corpus fall into one of three age groups:\n",
    "    - 8240 \"10s\" blogs (ages 13-17)\n",
    "    - 8086 \"20s\" blogs(ages 23-27)\n",
    "    - 2994 \"30s\" blogs (ages 33-47)\n",
    "- For each age group, there is an equal number of male and female bloggers.\n",
    "Each blog in the corpus includes at least 200 occurrences of common English words. All formatting\n",
    "has been stripped with two exceptions. Individual posts within a single blogger are separated by the\n",
    "date of the following post and links within a post are denoted by the label urllink.\n",
    "- Link to Dataset  https://www.kaggle.com/rtatman/blog-authorship-corpus"
   ]
  },
  {
   "cell_type": "code",
   "execution_count": 0,
   "metadata": {
    "colab": {},
    "colab_type": "code",
    "id": "H3UHN8-j8zZ-"
   },
   "outputs": [],
   "source": [
    "import pandas as pd\n",
    "import numpy as np\n",
    "import re\n",
    "import gc\n",
    "import matplotlib.pyplot as plt\n",
    "import seaborn as sns\n",
    "pd.set_option('display.max_colwidth', 100)"
   ]
  },
  {
   "cell_type": "code",
   "execution_count": 142,
   "metadata": {
    "colab": {
     "base_uri": "https://localhost:8080/",
     "height": 119
    },
    "colab_type": "code",
    "id": "IyGuxjRj8zaB",
    "outputId": "57ca2326-c007-4e6f-aac9-158aeb2adb92"
   },
   "outputs": [
    {
     "name": "stdout",
     "output_type": "stream",
     "text": [
      "[nltk_data] Downloading package wordnet to /root/nltk_data...\n",
      "[nltk_data]   Package wordnet is already up-to-date!\n",
      "[nltk_data] Downloading package stopwords to /root/nltk_data...\n",
      "[nltk_data]   Package stopwords is already up-to-date!\n",
      "[nltk_data] Downloading package punkt to /root/nltk_data...\n",
      "[nltk_data]   Package punkt is already up-to-date!\n"
     ]
    }
   ],
   "source": [
    "import nltk\n",
    "from nltk import word_tokenize, pos_tag\n",
    "nltk.download('wordnet')\n",
    "from nltk.stem import PorterStemmer, WordNetLemmatizer\n",
    "nltk.download('stopwords')\n",
    "from nltk.corpus import stopwords\n",
    "nltk.download('punkt')\n",
    "from nltk import punkt\n",
    "from nltk.tokenize import RegexpTokenizer"
   ]
  },
  {
   "cell_type": "code",
   "execution_count": 0,
   "metadata": {
    "colab": {},
    "colab_type": "code",
    "id": "9g8CFBwM8zaE"
   },
   "outputs": [],
   "source": [
    "from sklearn.utils import shuffle\n",
    "from sklearn.feature_extraction.text import ENGLISH_STOP_WORDS\n",
    "from sklearn.model_selection import train_test_split\n",
    "from sklearn.feature_extraction.text import CountVectorizer, TfidfVectorizer\n",
    "from sklearn.preprocessing import MultiLabelBinarizer\n",
    "from sklearn.linear_model import LogisticRegression\n",
    "from sklearn.svm import SVC, LinearSVC\n",
    "from sklearn.naive_bayes import MultinomialNB\n",
    "from sklearn.multiclass import OneVsRestClassifier\n",
    "from sklearn.metrics import accuracy_score, recall_score, precision_score, f1_score\n",
    "from sklearn.metrics import average_precision_score, roc_auc_score, precision_recall_fscore_support\n",
    "from sklearn.metrics import multilabel_confusion_matrix,classification_report\n",
    "# for balancing the classes in the dataset\n",
    "from sklearn.utils import resample"
   ]
  },
  {
   "cell_type": "code",
   "execution_count": 144,
   "metadata": {
    "colab": {
     "base_uri": "https://localhost:8080/",
     "height": 34
    },
    "colab_type": "code",
    "id": "V1lLJvIQ9Bgs",
    "outputId": "3ee33c26-eeef-4e01-8f3d-84e0ec2e1bd8"
   },
   "outputs": [
    {
     "name": "stdout",
     "output_type": "stream",
     "text": [
      "Drive already mounted at /gdrive; to attempt to forcibly remount, call drive.mount(\"/gdrive\", force_remount=True).\n"
     ]
    }
   ],
   "source": [
    "from google.colab import drive\n",
    "drive.mount('/gdrive')"
   ]
  },
  {
   "cell_type": "code",
   "execution_count": 145,
   "metadata": {
    "colab": {
     "base_uri": "https://localhost:8080/",
     "height": 119
    },
    "colab_type": "code",
    "id": "Cwbzr6B09Cu4",
    "outputId": "ff8b1b93-f88f-4a1a-9688-3c1f5a2e8554"
   },
   "outputs": [
    {
     "name": "stdout",
     "output_type": "stream",
     "text": [
      " blogtext.csv\n",
      "'Statistical NLP-Project-1_R8.ipynb'\n",
      "'Statistical NLP-Project-1_R8_V0.ipynb'\n",
      "'Statistical NLP-Project-1_R8_V1.ipynb'\n",
      "'Statistical NLP-Project-1_R8_V2_12pc.ipynb'\n",
      "'Statistical NLP-Project-1_R8_V3.ipynb'\n"
     ]
    }
   ],
   "source": [
    "!ls '/gdrive/My Drive/AIML/Statistical_NLP_R8_Project 1'"
   ]
  },
  {
   "cell_type": "markdown",
   "metadata": {
    "colab_type": "text",
    "id": "Ur8woepd8zaH"
   },
   "source": [
    "### 1. Load the dataset (5 points)"
   ]
  },
  {
   "cell_type": "markdown",
   "metadata": {
    "colab_type": "text",
    "id": "jzk_AwM38zaI"
   },
   "source": [
    "#### a. Tip: As the dataset is large, use fewer rows. Check what is working well on your machine and decide accordingly."
   ]
  },
  {
   "cell_type": "code",
   "execution_count": 0,
   "metadata": {
    "colab": {},
    "colab_type": "code",
    "id": "fnSTq5298zaI"
   },
   "outputs": [],
   "source": [
    "#read the dataset and load it to pandas dataframe\n",
    "\n",
    "#data = pd.read_csv(\"blogtext.csv\")\n",
    "data = pd.read_csv(\"/gdrive/My Drive/AIML/Statistical_NLP_R8_Project 1/blogtext.csv\")"
   ]
  },
  {
   "cell_type": "code",
   "execution_count": 147,
   "metadata": {
    "colab": {
     "base_uri": "https://localhost:8080/",
     "height": 34
    },
    "colab_type": "code",
    "id": "P7jBIZ058zaL",
    "outputId": "68a42641-6b13-4859-dce7-98ad7f0f71e3"
   },
   "outputs": [
    {
     "data": {
      "text/plain": [
       "(681284, 7)"
      ]
     },
     "execution_count": 147,
     "metadata": {
      "tags": []
     },
     "output_type": "execute_result"
    }
   ],
   "source": [
    "#shape of dataset\n",
    "\n",
    "data.shape"
   ]
  },
  {
   "cell_type": "code",
   "execution_count": 148,
   "metadata": {
    "colab": {
     "base_uri": "https://localhost:8080/",
     "height": 153
    },
    "colab_type": "code",
    "id": "fdv4rcIJ9KSm",
    "outputId": "95c46d02-7c60-4bb1-c86f-75e2ef51081c"
   },
   "outputs": [
    {
     "data": {
      "text/plain": [
       "id         int64\n",
       "gender    object\n",
       "age        int64\n",
       "topic     object\n",
       "sign      object\n",
       "date      object\n",
       "text      object\n",
       "dtype: object"
      ]
     },
     "execution_count": 148,
     "metadata": {
      "tags": []
     },
     "output_type": "execute_result"
    }
   ],
   "source": [
    "#dtypes of dataset columns\n",
    "\n",
    "data.dtypes"
   ]
  },
  {
   "cell_type": "code",
   "execution_count": 149,
   "metadata": {
    "colab": {
     "base_uri": "https://localhost:8080/",
     "height": 34
    },
    "colab_type": "code",
    "id": "Gktzty7_8zaP",
    "outputId": "93214096-eb3b-4afb-81c3-feb9fa88cd02"
   },
   "outputs": [
    {
     "data": {
      "text/plain": [
       "Index(['id', 'gender', 'age', 'topic', 'sign', 'date', 'text'], dtype='object')"
      ]
     },
     "execution_count": 149,
     "metadata": {
      "tags": []
     },
     "output_type": "execute_result"
    }
   ],
   "source": [
    "#Columns in dataset\n",
    "\n",
    "data.columns"
   ]
  },
  {
   "cell_type": "code",
   "execution_count": 150,
   "metadata": {
    "colab": {
     "base_uri": "https://localhost:8080/",
     "height": 111
    },
    "colab_type": "code",
    "id": "kvcB7Wku8zaS",
    "outputId": "ccf769ae-97b2-412f-cfb1-8dc1af6568b1"
   },
   "outputs": [
    {
     "data": {
      "text/html": [
       "<div>\n",
       "<style scoped>\n",
       "    .dataframe tbody tr th:only-of-type {\n",
       "        vertical-align: middle;\n",
       "    }\n",
       "\n",
       "    .dataframe tbody tr th {\n",
       "        vertical-align: top;\n",
       "    }\n",
       "\n",
       "    .dataframe thead th {\n",
       "        text-align: right;\n",
       "    }\n",
       "</style>\n",
       "<table border=\"1\" class=\"dataframe\">\n",
       "  <thead>\n",
       "    <tr style=\"text-align: right;\">\n",
       "      <th></th>\n",
       "      <th>id</th>\n",
       "      <th>gender</th>\n",
       "      <th>age</th>\n",
       "      <th>topic</th>\n",
       "      <th>sign</th>\n",
       "      <th>date</th>\n",
       "      <th>text</th>\n",
       "    </tr>\n",
       "  </thead>\n",
       "  <tbody>\n",
       "    <tr>\n",
       "      <th>0</th>\n",
       "      <td>2059027</td>\n",
       "      <td>male</td>\n",
       "      <td>15</td>\n",
       "      <td>Student</td>\n",
       "      <td>Leo</td>\n",
       "      <td>14,May,2004</td>\n",
       "      <td>Info has been found (+/- 100 pages, and 4.5 MB of .pdf files) Now i have to wait unti...</td>\n",
       "    </tr>\n",
       "    <tr>\n",
       "      <th>1</th>\n",
       "      <td>2059027</td>\n",
       "      <td>male</td>\n",
       "      <td>15</td>\n",
       "      <td>Student</td>\n",
       "      <td>Leo</td>\n",
       "      <td>13,May,2004</td>\n",
       "      <td>These are the team members:   Drewes van der Laag           urlLink mail  Ruiyu Xie  ...</td>\n",
       "    </tr>\n",
       "  </tbody>\n",
       "</table>\n",
       "</div>"
      ],
      "text/plain": [
       "        id  ...                                                                                                 text\n",
       "0  2059027  ...             Info has been found (+/- 100 pages, and 4.5 MB of .pdf files) Now i have to wait unti...\n",
       "1  2059027  ...             These are the team members:   Drewes van der Laag           urlLink mail  Ruiyu Xie  ...\n",
       "\n",
       "[2 rows x 7 columns]"
      ]
     },
     "execution_count": 150,
     "metadata": {
      "tags": []
     },
     "output_type": "execute_result"
    }
   ],
   "source": [
    "#first two rows with head()\n",
    "\n",
    "data.head(2)"
   ]
  },
  {
   "cell_type": "code",
   "execution_count": 151,
   "metadata": {
    "colab": {
     "base_uri": "https://localhost:8080/",
     "height": 204
    },
    "colab_type": "code",
    "id": "u-vGY9538zaV",
    "outputId": "bbd2bf5e-53c3-4c27-d6d9-916589f637f9"
   },
   "outputs": [
    {
     "data": {
      "text/html": [
       "<div>\n",
       "<style scoped>\n",
       "    .dataframe tbody tr th:only-of-type {\n",
       "        vertical-align: middle;\n",
       "    }\n",
       "\n",
       "    .dataframe tbody tr th {\n",
       "        vertical-align: top;\n",
       "    }\n",
       "\n",
       "    .dataframe thead th {\n",
       "        text-align: right;\n",
       "    }\n",
       "</style>\n",
       "<table border=\"1\" class=\"dataframe\">\n",
       "  <thead>\n",
       "    <tr style=\"text-align: right;\">\n",
       "      <th></th>\n",
       "      <th>id</th>\n",
       "      <th>gender</th>\n",
       "      <th>age</th>\n",
       "      <th>topic</th>\n",
       "      <th>sign</th>\n",
       "      <th>date</th>\n",
       "      <th>text</th>\n",
       "    </tr>\n",
       "  </thead>\n",
       "  <tbody>\n",
       "    <tr>\n",
       "      <th>681279</th>\n",
       "      <td>1713845</td>\n",
       "      <td>male</td>\n",
       "      <td>23</td>\n",
       "      <td>Student</td>\n",
       "      <td>Taurus</td>\n",
       "      <td>01,July,2004</td>\n",
       "      <td>Dear Susan,  I could write some really bitter diatribe about you and your disease spreadi...</td>\n",
       "    </tr>\n",
       "    <tr>\n",
       "      <th>681280</th>\n",
       "      <td>1713845</td>\n",
       "      <td>male</td>\n",
       "      <td>23</td>\n",
       "      <td>Student</td>\n",
       "      <td>Taurus</td>\n",
       "      <td>01,July,2004</td>\n",
       "      <td>Dear Susan,  'I have the second yeast infection in past two months straight on the heels ...</td>\n",
       "    </tr>\n",
       "    <tr>\n",
       "      <th>681281</th>\n",
       "      <td>1713845</td>\n",
       "      <td>male</td>\n",
       "      <td>23</td>\n",
       "      <td>Student</td>\n",
       "      <td>Taurus</td>\n",
       "      <td>01,July,2004</td>\n",
       "      <td>Dear Susan,  Your 'boyfriend' is fucking BALD!  Good luck with that...</td>\n",
       "    </tr>\n",
       "    <tr>\n",
       "      <th>681282</th>\n",
       "      <td>1713845</td>\n",
       "      <td>male</td>\n",
       "      <td>23</td>\n",
       "      <td>Student</td>\n",
       "      <td>Taurus</td>\n",
       "      <td>01,July,2004</td>\n",
       "      <td>Dear Susan:    Just to clarify, I am asking you to leave my house, Why? because you shit ...</td>\n",
       "    </tr>\n",
       "    <tr>\n",
       "      <th>681283</th>\n",
       "      <td>1713845</td>\n",
       "      <td>male</td>\n",
       "      <td>23</td>\n",
       "      <td>Student</td>\n",
       "      <td>Taurus</td>\n",
       "      <td>01,July,2004</td>\n",
       "      <td>Hey everybody...and Susan,  You might already know me. My name's Weird Al Yankovic. I hav...</td>\n",
       "    </tr>\n",
       "  </tbody>\n",
       "</table>\n",
       "</div>"
      ],
      "text/plain": [
       "             id  ...                                                                                                 text\n",
       "681279  1713845  ...         Dear Susan,  I could write some really bitter diatribe about you and your disease spreadi...\n",
       "681280  1713845  ...         Dear Susan,  'I have the second yeast infection in past two months straight on the heels ...\n",
       "681281  1713845  ...                     Dear Susan,  Your 'boyfriend' is fucking BALD!  Good luck with that...          \n",
       "681282  1713845  ...         Dear Susan:    Just to clarify, I am asking you to leave my house, Why? because you shit ...\n",
       "681283  1713845  ...         Hey everybody...and Susan,  You might already know me. My name's Weird Al Yankovic. I hav...\n",
       "\n",
       "[5 rows x 7 columns]"
      ]
     },
     "execution_count": 151,
     "metadata": {
      "tags": []
     },
     "output_type": "execute_result"
    }
   ],
   "source": [
    "#last five rows with tail()\n",
    "\n",
    "data.tail()"
   ]
  },
  {
   "cell_type": "code",
   "execution_count": 152,
   "metadata": {
    "colab": {
     "base_uri": "https://localhost:8080/",
     "height": 153
    },
    "colab_type": "code",
    "id": "-pPrVu5j8zaX",
    "outputId": "5bc175eb-7e52-4624-ffb0-92ee46cb674c"
   },
   "outputs": [
    {
     "data": {
      "text/plain": [
       "id        0\n",
       "gender    0\n",
       "age       0\n",
       "topic     0\n",
       "sign      0\n",
       "date      0\n",
       "text      0\n",
       "dtype: int64"
      ]
     },
     "execution_count": 152,
     "metadata": {
      "tags": []
     },
     "output_type": "execute_result"
    }
   ],
   "source": [
    "#Check Null values\n",
    "\n",
    "data.isna().sum()"
   ]
  },
  {
   "cell_type": "code",
   "execution_count": 153,
   "metadata": {
    "colab": {
     "base_uri": "https://localhost:8080/",
     "height": 34
    },
    "colab_type": "code",
    "id": "MphiLRH98zaa",
    "outputId": "d3b95352-42f9-4fce-c4dc-728a6cba761e"
   },
   "outputs": [
    {
     "data": {
      "text/plain": [
       "69632"
      ]
     },
     "execution_count": 153,
     "metadata": {
      "tags": []
     },
     "output_type": "execute_result"
    }
   ],
   "source": [
    "#Check duplicates in Text column\n",
    "\n",
    "data['text'].duplicated().sum()"
   ]
  },
  {
   "cell_type": "code",
   "execution_count": 0,
   "metadata": {
    "colab": {},
    "colab_type": "code",
    "id": "00LZOCVb8zad"
   },
   "outputs": [],
   "source": [
    "#Drop duplicates in Text column\n",
    "\n",
    "data.drop_duplicates(subset='text', keep='first', inplace = True)"
   ]
  },
  {
   "cell_type": "code",
   "execution_count": 155,
   "metadata": {
    "colab": {
     "base_uri": "https://localhost:8080/",
     "height": 34
    },
    "colab_type": "code",
    "id": "1uk7g7Sa8zai",
    "outputId": "cf0a810b-6598-435f-b245-524588e71edc"
   },
   "outputs": [
    {
     "data": {
      "text/plain": [
       "(611652, 7)"
      ]
     },
     "execution_count": 155,
     "metadata": {
      "tags": []
     },
     "output_type": "execute_result"
    }
   ],
   "source": [
    "#shape of dataset after removing duplicates\n",
    "\n",
    "data.shape"
   ]
  },
  {
   "cell_type": "code",
   "execution_count": 156,
   "metadata": {
    "colab": {
     "base_uri": "https://localhost:8080/",
     "height": 119
    },
    "colab_type": "code",
    "id": "-iAQ5WI48zal",
    "outputId": "e51ba393-200b-443a-ee9e-635d57d12158"
   },
   "outputs": [
    {
     "data": {
      "text/plain": [
       "529872    790123\n",
       "302666    620448\n",
       "658665    411850\n",
       "31751     321278\n",
       "384759    295127\n",
       "Name: text, dtype: int64"
      ]
     },
     "execution_count": 156,
     "metadata": {
      "tags": []
     },
     "output_type": "execute_result"
    }
   ],
   "source": [
    "data['text'].str.len().sort_values(ascending=False).head()"
   ]
  },
  {
   "cell_type": "code",
   "execution_count": 157,
   "metadata": {
    "colab": {
     "base_uri": "https://localhost:8080/",
     "height": 170
    },
    "colab_type": "code",
    "id": "dIOjhfJD8zap",
    "outputId": "1adc99dd-b798-4341-e8a3-739e0ec162cc"
   },
   "outputs": [
    {
     "data": {
      "text/plain": [
       "count    611652.000000\n",
       "mean       1163.233872\n",
       "std        2419.298950\n",
       "min           4.000000\n",
       "25%         250.000000\n",
       "50%         676.000000\n",
       "75%        1459.000000\n",
       "max      790123.000000\n",
       "Name: text, dtype: float64"
      ]
     },
     "execution_count": 157,
     "metadata": {
      "tags": []
     },
     "output_type": "execute_result"
    }
   ],
   "source": [
    "#5-point summary of length of blogs in text column\n",
    "\n",
    "data['text'].str.len().describe()"
   ]
  },
  {
   "cell_type": "markdown",
   "metadata": {
    "colab_type": "text",
    "id": "sPJ-zFEN8zas"
   },
   "source": [
    "#### Observtions:\n",
    "- There are 611652 blogs in the dataset\n",
    "- smallest blog is of length 4 and largest blog is of length 790123\n",
    "- average length of blog is 163"
   ]
  },
  {
   "cell_type": "code",
   "execution_count": 158,
   "metadata": {
    "colab": {
     "base_uri": "https://localhost:8080/",
     "height": 279
    },
    "colab_type": "code",
    "id": "JfuK931H8zas",
    "outputId": "10230af2-0037-4d70-97c2-f3a0f6a3e49a"
   },
   "outputs": [
    {
     "data": {
      "image/png": "[encoded data removed]",
      "text/plain": [
       "<Figure size 432x288 with 1 Axes>"
      ]
     },
     "metadata": {
      "tags": []
     },
     "output_type": "display_data"
    }
   ],
   "source": [
    "# Boxplot of length of blogs in text column\n",
    "\n",
    "sns.boxplot(data['text'].str.len())\n",
    "plt.show()"
   ]
  },
  {
   "cell_type": "markdown",
   "metadata": {
    "colab_type": "text",
    "id": "u0X4tCER8zau"
   },
   "source": [
    "#### Observations:\n",
    "- Boxplot shows that there are some outliers in the blogs.blogs which are very long and away from the mean can be removed"
   ]
  },
  {
   "cell_type": "code",
   "execution_count": 159,
   "metadata": {
    "colab": {
     "base_uri": "https://localhost:8080/",
     "height": 265
    },
    "colab_type": "code",
    "id": "-Uzn3_kq8zav",
    "outputId": "b05d9a5e-bc3a-4b0c-8fe4-1994935506be"
   },
   "outputs": [
    {
     "data": {
      "image/png": "[encoded data removed]",
      "text/plain": [
       "<Figure size 432x288 with 1 Axes>"
      ]
     },
     "metadata": {
      "tags": []
     },
     "output_type": "display_data"
    }
   ],
   "source": [
    "#plot of blogs of all lengths\n",
    "plt.plot(data['text'].str.len())\n",
    "plt.show()"
   ]
  },
  {
   "cell_type": "code",
   "execution_count": 160,
   "metadata": {
    "colab": {
     "base_uri": "https://localhost:8080/",
     "height": 265
    },
    "colab_type": "code",
    "id": "MmHo0A_t8zay",
    "outputId": "e7c41a60-5e09-4553-a495-342d43216169"
   },
   "outputs": [
    {
     "data": {
      "image/png": "[encoded data removed]",
      "text/plain": [
       "<Figure size 432x288 with 1 Axes>"
      ]
     },
     "metadata": {
      "tags": []
     },
     "output_type": "display_data"
    }
   ],
   "source": [
    "#plot of blogs which have consistent length\n",
    "plt.plot(data.loc[(data['text'].str.len() <= 10000) & (data['text'].str.len() >= 100)]['text'].str.len())\n",
    "plt.show()"
   ]
  },
  {
   "cell_type": "code",
   "execution_count": 161,
   "metadata": {
    "colab": {
     "base_uri": "https://localhost:8080/",
     "height": 85
    },
    "colab_type": "code",
    "id": "PL3-vIIg8za0",
    "outputId": "bc2c1d31-7fa5-4055-b26c-31fed0100b6c"
   },
   "outputs": [
    {
     "name": "stdout",
     "output_type": "stream",
     "text": [
      "No of Blogs with length less than or equal to 10000 : 609183\n",
      "No of Blogs with length greater than 10000 : 2469\n",
      "No of Blogs with length greater than or equal to 100 : 549783\n",
      "No of Blogs with length less than 100 : 61869\n"
     ]
    }
   ],
   "source": [
    "print(\"No of Blogs with length less than or equal to 10000 :\",(data['text'].str.len() <= 10000).sum())\n",
    "print(\"No of Blogs with length greater than 10000 :\",(data['text'].str.len() >10000).sum())\n",
    "print(\"No of Blogs with length greater than or equal to 100 :\",(data['text'].str.len() >= 100).sum())\n",
    "print(\"No of Blogs with length less than 100 :\",(data['text'].str.len() <100).sum())"
   ]
  },
  {
   "cell_type": "code",
   "execution_count": 162,
   "metadata": {
    "colab": {
     "base_uri": "https://localhost:8080/",
     "height": 34
    },
    "colab_type": "code",
    "id": "3FrpL2MX8za3",
    "outputId": "6922bbac-4434-49cf-cd48-ff8cda781688"
   },
   "outputs": [
    {
     "data": {
      "text/plain": [
       "547314"
      ]
     },
     "execution_count": 162,
     "metadata": {
      "tags": []
     },
     "output_type": "execute_result"
    }
   ],
   "source": [
    "((data['text'].str.len() <= 10000) & (data['text'].str.len() >= 100)).sum()"
   ]
  },
  {
   "cell_type": "markdown",
   "metadata": {
    "colab_type": "text",
    "id": "7FYlCrSM8za7"
   },
   "source": [
    "#### Observations:\n",
    "- The plot of length of texts show that there are blogs which are very long.\n",
    "- To overcome memory errors we can consider only a small subset of the corpus.\n",
    "- Here we are taking 50000 blogs as our dataset"
   ]
  },
  {
   "cell_type": "markdown",
   "metadata": {
    "colab_type": "text",
    "id": "IZDHDoKF0Hsw"
   },
   "source": [
    "#### Resampling the dataset based on each topic\n",
    " - Find value_counts of each topic in the datset\n",
    " - Consider topics which have more than 2000 blogs. These are 30 in number\n",
    " - Resample from these 30 topics and take equal count of blogs from each to get a datset size of 50000"
   ]
  },
  {
   "cell_type": "code",
   "execution_count": 163,
   "metadata": {
    "colab": {
     "base_uri": "https://localhost:8080/",
     "height": 714
    },
    "colab_type": "code",
    "id": "Yr0Ks9tv4M5j",
    "outputId": "7bc94ccd-614d-41a0-80c1-30b48462d70e"
   },
   "outputs": [
    {
     "data": {
      "text/plain": [
       "indUnk                     230835\n",
       "Student                    136051\n",
       "Technology                  34430\n",
       "Education                   28477\n",
       "Arts                        26387\n",
       "Communications-Media        19037\n",
       "Internet                    15545\n",
       "Non-Profit                  13029\n",
       "Engineering                 10573\n",
       "Law                          8701\n",
       "Publishing                   7248\n",
       "Science                      6500\n",
       "Government                   6139\n",
       "Consulting                   5339\n",
       "Fashion                      4545\n",
       "Marketing                    4508\n",
       "Religion                     4503\n",
       "Advertising                  4446\n",
       "BusinessServices             4251\n",
       "Accounting                   3672\n",
       "Telecommunications           3670\n",
       "Military                     2995\n",
       "Banking                      2893\n",
       "Sports-Recreation            2747\n",
       "Chemicals                    2455\n",
       "HumanResources               2354\n",
       "RealEstate                   2327\n",
       "Transportation               2143\n",
       "Manufacturing                2008\n",
       "Museums-Libraries            1899\n",
       "Biotech                      1850\n",
       "LawEnforcement-Security      1805\n",
       "Tourism                      1734\n",
       "Architecture                 1288\n",
       "InvestmentBanking            1268\n",
       "Agriculture                  1226\n",
       "Automotive                   1218\n",
       "Construction                  976\n",
       "Environment                   345\n",
       "Maritime                      235\n",
       "Name: topic, dtype: int64"
      ]
     },
     "execution_count": 163,
     "metadata": {
      "tags": []
     },
     "output_type": "execute_result"
    }
   ],
   "source": [
    "#Count of blogs in each topic\n",
    "\n",
    "data['topic'].value_counts()"
   ]
  },
  {
   "cell_type": "code",
   "execution_count": 164,
   "metadata": {
    "colab": {
     "base_uri": "https://localhost:8080/",
     "height": 34
    },
    "colab_type": "code",
    "id": "Fd8UwkJ2ZOTX",
    "outputId": "81e05201-a5e0-421c-83ba-f0d563933002"
   },
   "outputs": [
    {
     "data": {
      "text/plain": [
       "40"
      ]
     },
     "execution_count": 164,
     "metadata": {
      "tags": []
     },
     "output_type": "execute_result"
    }
   ],
   "source": [
    "#Number of topics in the total dataset\n",
    "\n",
    "len(data['topic'].unique())"
   ]
  },
  {
   "cell_type": "code",
   "execution_count": 165,
   "metadata": {
    "colab": {
     "base_uri": "https://localhost:8080/",
     "height": 187
    },
    "colab_type": "code",
    "id": "nLk4tJlCc-yA",
    "outputId": "1afd2188-1c35-49a3-cf6a-34aa49c8376a"
   },
   "outputs": [
    {
     "data": {
      "text/plain": [
       "array(['Student', 'InvestmentBanking', 'indUnk', 'Non-Profit', 'Banking',\n",
       "       'Education', 'Engineering', 'Science', 'Communications-Media',\n",
       "       'BusinessServices', 'Sports-Recreation', 'Arts', 'Internet',\n",
       "       'Museums-Libraries', 'Accounting', 'Technology', 'Law',\n",
       "       'Consulting', 'Automotive', 'Religion', 'Fashion', 'Publishing',\n",
       "       'Marketing', 'LawEnforcement-Security', 'HumanResources',\n",
       "       'Telecommunications', 'Military', 'Government', 'Transportation',\n",
       "       'Architecture', 'Advertising', 'Agriculture', 'Biotech',\n",
       "       'RealEstate', 'Manufacturing', 'Construction', 'Chemicals',\n",
       "       'Maritime', 'Tourism', 'Environment'], dtype=object)"
      ]
     },
     "execution_count": 165,
     "metadata": {
      "tags": []
     },
     "output_type": "execute_result"
    }
   ],
   "source": [
    "#list of topics\n",
    "\n",
    "topics = data['topic'].unique()\n",
    "topics"
   ]
  },
  {
   "cell_type": "code",
   "execution_count": 166,
   "metadata": {
    "colab": {
     "base_uri": "https://localhost:8080/",
     "height": 34
    },
    "colab_type": "code",
    "id": "DHEBn3W_nbSU",
    "outputId": "0f64ecaf-02b0-43a7-893f-f638a4f42577"
   },
   "outputs": [
    {
     "data": {
      "text/plain": [
       "30"
      ]
     },
     "execution_count": 166,
     "metadata": {
      "tags": []
     },
     "output_type": "execute_result"
    }
   ],
   "source": [
    "#list of topics which have count of blogs greater than 2000\n",
    "\n",
    "topics = ['Student', 'indUnk', 'Non-Profit', 'Banking',\n",
    "       'Education', 'Engineering', 'Science', 'Communications-Media',\n",
    "       'BusinessServices', 'Sports-Recreation', 'Arts', 'Internet',\n",
    "       'Accounting', 'Technology', 'Law',\n",
    "       'Consulting', 'Religion', 'Fashion', 'Publishing',\n",
    "       'Marketing', 'HumanResources',\n",
    "       'Telecommunications', 'Military', 'Government', 'Transportation',\n",
    "       'Advertising', 'Museums-Libraries',\n",
    "       'RealEstate', 'Manufacturing', 'Chemicals']\n",
    "len(topics)"
   ]
  },
  {
   "cell_type": "code",
   "execution_count": 0,
   "metadata": {
    "colab": {},
    "colab_type": "code",
    "id": "4XhMvQkylgzU"
   },
   "outputs": [],
   "source": [
    "#Resample the data with replacement and sample size of each topic as 1670\n",
    "\n",
    "blog = pd.DataFrame()\n",
    "for topic in topics :\n",
    "  #print(topic)\n",
    "  df = pd.DataFrame()\n",
    "  df = data[data['topic'] == topic].astype(str)\n",
    "  df = resample(df, \n",
    "                replace=True,    # sample without replacement\n",
    "                n_samples=1670,  # to match number of values in each class\n",
    "                random_state=42) # reproducible results\n",
    "  blog = pd.concat([blog, df])\n",
    "  #break\n"
   ]
  },
  {
   "cell_type": "code",
   "execution_count": 168,
   "metadata": {
    "colab": {
     "base_uri": "https://localhost:8080/",
     "height": 34
    },
    "colab_type": "code",
    "id": "E2UYRL43fmQW",
    "outputId": "a6e8f77a-7261-421a-f7d8-e2be5ff07478"
   },
   "outputs": [
    {
     "data": {
      "text/plain": [
       "(50100, 7)"
      ]
     },
     "execution_count": 168,
     "metadata": {
      "tags": []
     },
     "output_type": "execute_result"
    }
   ],
   "source": [
    "blog.shape"
   ]
  },
  {
   "cell_type": "code",
   "execution_count": 169,
   "metadata": {
    "colab": {
     "base_uri": "https://localhost:8080/",
     "height": 34
    },
    "colab_type": "code",
    "id": "ojUFyKIUrNY5",
    "outputId": "c66b66d2-48d6-463e-8e4f-ed843f0cde00"
   },
   "outputs": [
    {
     "data": {
      "text/plain": [
       "Index(['id', 'gender', 'age', 'topic', 'sign', 'date', 'text'], dtype='object')"
      ]
     },
     "execution_count": 169,
     "metadata": {
      "tags": []
     },
     "output_type": "execute_result"
    }
   ],
   "source": [
    "blog.columns"
   ]
  },
  {
   "cell_type": "code",
   "execution_count": 170,
   "metadata": {
    "colab": {
     "base_uri": "https://localhost:8080/",
     "height": 544
    },
    "colab_type": "code",
    "id": "4K3QnDELild8",
    "outputId": "4cb8d14b-84a8-4ad5-ebc0-273fe7a4e3cf"
   },
   "outputs": [
    {
     "data": {
      "text/plain": [
       "Education               1670\n",
       "Sports-Recreation       1670\n",
       "Fashion                 1670\n",
       "Banking                 1670\n",
       "Government              1670\n",
       "Telecommunications      1670\n",
       "Technology              1670\n",
       "RealEstate              1670\n",
       "Accounting              1670\n",
       "Science                 1670\n",
       "Manufacturing           1670\n",
       "Military                1670\n",
       "Publishing              1670\n",
       "Transportation          1670\n",
       "Student                 1670\n",
       "HumanResources          1670\n",
       "Law                     1670\n",
       "Chemicals               1670\n",
       "Engineering             1670\n",
       "Religion                1670\n",
       "Internet                1670\n",
       "Non-Profit              1670\n",
       "indUnk                  1670\n",
       "Consulting              1670\n",
       "Communications-Media    1670\n",
       "Museums-Libraries       1670\n",
       "BusinessServices        1670\n",
       "Advertising             1670\n",
       "Arts                    1670\n",
       "Marketing               1670\n",
       "Name: topic, dtype: int64"
      ]
     },
     "execution_count": 170,
     "metadata": {
      "tags": []
     },
     "output_type": "execute_result"
    }
   ],
   "source": [
    "blog['topic'].value_counts()"
   ]
  },
  {
   "cell_type": "code",
   "execution_count": 0,
   "metadata": {
    "colab": {},
    "colab_type": "code",
    "id": "tkz1vfBX8za7"
   },
   "outputs": [],
   "source": [
    "#blog = data.iloc[0:50000]\n",
    "blog = blog.drop(['id', 'date'], axis=1)\n",
    "#blog = blog.dropna()"
   ]
  },
  {
   "cell_type": "code",
   "execution_count": 172,
   "metadata": {
    "colab": {
     "base_uri": "https://localhost:8080/",
     "height": 34
    },
    "colab_type": "code",
    "id": "aPvmuuUQ8za_",
    "outputId": "362bb576-d19b-4a85-94c0-6fccbd038e64"
   },
   "outputs": [
    {
     "data": {
      "text/plain": [
       "(50100, 5)"
      ]
     },
     "execution_count": 172,
     "metadata": {
      "tags": []
     },
     "output_type": "execute_result"
    }
   ],
   "source": [
    "blog.shape"
   ]
  },
  {
   "cell_type": "code",
   "execution_count": 173,
   "metadata": {
    "colab": {
     "base_uri": "https://localhost:8080/",
     "height": 34
    },
    "colab_type": "code",
    "id": "hnhxghcC8zbC",
    "outputId": "82044c2f-4a07-405b-ec86-084d753e1456"
   },
   "outputs": [
    {
     "data": {
      "text/plain": [
       "Index(['gender', 'age', 'topic', 'sign', 'text'], dtype='object')"
      ]
     },
     "execution_count": 173,
     "metadata": {
      "tags": []
     },
     "output_type": "execute_result"
    }
   ],
   "source": [
    "blog.columns"
   ]
  },
  {
   "cell_type": "markdown",
   "metadata": {
    "colab_type": "text",
    "id": "32mlhjcb8zbE"
   },
   "source": [
    "### 2. Preprocess rows of the “text” column (7.5 points)"
   ]
  },
  {
   "cell_type": "code",
   "execution_count": 174,
   "metadata": {
    "colab": {
     "base_uri": "https://localhost:8080/",
     "height": 136
    },
    "colab_type": "code",
    "id": "F2E5UJcf8zbF",
    "outputId": "88bfc0ef-522e-414f-aa51-16cf59aeeec9"
   },
   "outputs": [
    {
     "data": {
      "text/plain": [
       "614038            urlLink     Even when you're asleep, you're beautiful... I wish I could say the same abo...\n",
       "659571                  8/3/04 Untitled....   No title for today, I couldn't think of one, nor was my day ...\n",
       "524255              In a world of full of american idols and pop icons it becomes increasingly difficult t...\n",
       "595054           After some months of unfettered freedom from the real word, I started working again today...\n",
       "546560               So, my parents are watching the news and theres a baby in a locked car, dead. Now com...\n",
       "285066                                                               urlLink    Alaska. &nbsp; urlLink       \n",
       "Name: text, dtype: object"
      ]
     },
     "execution_count": 174,
     "metadata": {
      "tags": []
     },
     "output_type": "execute_result"
    }
   ],
   "source": [
    "blog['text'][0:6]"
   ]
  },
  {
   "cell_type": "markdown",
   "metadata": {
    "colab_type": "text",
    "id": "qGgj6XLE8zbF"
   },
   "source": [
    "#### a. Remove unwanted characters\n",
    "#### b. Convert text to lowercase\n",
    "#### c. Remove unwanted spaces\n",
    "#### d. Remove stopwords\n",
    "#### e. Stem the text\n",
    "#### f. Lemmatize the text"
   ]
  },
  {
   "cell_type": "code",
   "execution_count": 0,
   "metadata": {
    "colab": {},
    "colab_type": "code",
    "id": "-Z0BCFxsf6lc"
   },
   "outputs": [],
   "source": [
    "def preprocess_text(blog_text):\n",
    "    blog_text=str(blog_text)\n",
    "\n",
    "    #Convert text to lowercase\n",
    "    blog_text=blog_text.lower()\n",
    "\n",
    "    #Remove unwanted characters\n",
    "    clean=re.compile('<.*?>')\n",
    "    blog_text_clean=re.sub(clean,'',blog_text)\n",
    "\n",
    "    #Remove digits\n",
    "    rem_digits=re.sub('[0-9]+','',blog_text_clean)\n",
    "\n",
    "    #Remove unwanted spaces by tokenizing on alphabet characters.\n",
    "    #This step will tokenize the text based on word boundaries and will remove unwanted spaces also\n",
    "    tokenizer=RegexpTokenizer(r'\\w+')\n",
    "    tokens=tokenizer.tokenize(rem_digits)\n",
    "\n",
    "    #Remove stop words\n",
    "    filtered_words=[w for w in tokens if len(w)>2 if not w in stopwords.words('english')]\n",
    "\n",
    "    #Stem the text\n",
    "    stemmed_words=[stemmer.stem(w) for w in filtered_words]\n",
    "\n",
    "    #Lemmatize the text\n",
    "    lemmatized_words=[lemmatizer.lemmatize(w) for w in stemmed_words]\n",
    "\n",
    "    return \" \".join(lemmatized_words)"
   ]
  },
  {
   "cell_type": "code",
   "execution_count": 0,
   "metadata": {
    "colab": {},
    "colab_type": "code",
    "id": "cOjtsXg3f9Es"
   },
   "outputs": [],
   "source": [
    "stemmer = PorterStemmer()\n",
    "lemmatizer = WordNetLemmatizer()\n",
    "blog['text_clean']=blog['text'].map(lambda s:preprocess_text(s))"
   ]
  },
  {
   "cell_type": "code",
   "execution_count": 177,
   "metadata": {
    "colab": {
     "base_uri": "https://localhost:8080/",
     "height": 204
    },
    "colab_type": "code",
    "id": "hwCLWcUcgPOs",
    "outputId": "52547839-3732-4dde-9593-e3309efc2e0e"
   },
   "outputs": [
    {
     "data": {
      "text/plain": [
       "614038                                                              urllink even asleep beauti wish could say\n",
       "659571    untitl titl today think one day even excit enough think one anoth one thinkin day basic sit hous...\n",
       "524255    world full american idol pop icon becom increasingli difficult critic individu prais accept conf...\n",
       "595054    month unfett freedom real word start work today part time three day week work compani produc cus...\n",
       "546560    parent watch news there babi lock car dead come countless year hear leav child unattend car crap...\n",
       "285066                                                                            urllink alaska nbsp urllink\n",
       "449554    urllink defenselink news iraqi offici american press report good even iraqi recogn bia see bad a...\n",
       "562175    funni quoth mandi anyon interest contact somehow contact interest heh well still well partay ing...\n",
       "634240                                                                               run cover goe back shell\n",
       "74670                                                             urllink bud audio guid coliseo nbsp urllink\n",
       "Name: text_clean, dtype: object"
      ]
     },
     "execution_count": 177,
     "metadata": {
      "tags": []
     },
     "output_type": "execute_result"
    }
   ],
   "source": [
    "blog['text_clean'][0:10]"
   ]
  },
  {
   "cell_type": "markdown",
   "metadata": {
    "colab_type": "text",
    "id": "vttIoits8zbf"
   },
   "source": [
    "### 3. Merge all the label columns together, for a particular sentence (7.5 points)"
   ]
  },
  {
   "cell_type": "markdown",
   "metadata": {
    "colab_type": "text",
    "id": "lJRtcxwP8zbf"
   },
   "source": [
    "- As we want to make this into a multi-label classification problem, you are required to merge all the label columns together, so that we have all the labels together for a particular sentence"
   ]
  },
  {
   "cell_type": "code",
   "execution_count": 178,
   "metadata": {
    "colab": {
     "base_uri": "https://localhost:8080/",
     "height": 34
    },
    "colab_type": "code",
    "id": "VpOo72Nw8zbg",
    "outputId": "cf04f325-8192-49aa-cf07-714b7d15780b"
   },
   "outputs": [
    {
     "data": {
      "text/plain": [
       "Index(['gender', 'age', 'topic', 'sign', 'text', 'text_clean'], dtype='object')"
      ]
     },
     "execution_count": 178,
     "metadata": {
      "tags": []
     },
     "output_type": "execute_result"
    }
   ],
   "source": [
    "blog.columns"
   ]
  },
  {
   "cell_type": "code",
   "execution_count": 179,
   "metadata": {
    "colab": {
     "base_uri": "https://localhost:8080/",
     "height": 145
    },
    "colab_type": "code",
    "id": "VCN6jhLz8zbi",
    "outputId": "ca333e4b-bac6-4437-d262-51d1bfb52b00"
   },
   "outputs": [
    {
     "data": {
      "text/html": [
       "<div>\n",
       "<style scoped>\n",
       "    .dataframe tbody tr th:only-of-type {\n",
       "        vertical-align: middle;\n",
       "    }\n",
       "\n",
       "    .dataframe tbody tr th {\n",
       "        vertical-align: top;\n",
       "    }\n",
       "\n",
       "    .dataframe thead th {\n",
       "        text-align: right;\n",
       "    }\n",
       "</style>\n",
       "<table border=\"1\" class=\"dataframe\">\n",
       "  <thead>\n",
       "    <tr style=\"text-align: right;\">\n",
       "      <th></th>\n",
       "      <th>gender</th>\n",
       "      <th>age</th>\n",
       "      <th>topic</th>\n",
       "      <th>sign</th>\n",
       "      <th>text</th>\n",
       "      <th>text_clean</th>\n",
       "    </tr>\n",
       "  </thead>\n",
       "  <tbody>\n",
       "    <tr>\n",
       "      <th>614038</th>\n",
       "      <td>male</td>\n",
       "      <td>17</td>\n",
       "      <td>Student</td>\n",
       "      <td>Gemini</td>\n",
       "      <td>urlLink     Even when you're asleep, you're beautiful... I wish I could say the same abo...</td>\n",
       "      <td>urllink even asleep beauti wish could say</td>\n",
       "    </tr>\n",
       "    <tr>\n",
       "      <th>659571</th>\n",
       "      <td>male</td>\n",
       "      <td>15</td>\n",
       "      <td>Student</td>\n",
       "      <td>Libra</td>\n",
       "      <td>8/3/04 Untitled....   No title for today, I couldn't think of one, nor was my day ...</td>\n",
       "      <td>untitl titl today think one day even excit enough think one anoth one thinkin day basic sit hous...</td>\n",
       "    </tr>\n",
       "  </tbody>\n",
       "</table>\n",
       "</div>"
      ],
      "text/plain": [
       "       gender  ...                                                                                           text_clean\n",
       "614038   male  ...                                                            urllink even asleep beauti wish could say\n",
       "659571   male  ...  untitl titl today think one day even excit enough think one anoth one thinkin day basic sit hous...\n",
       "\n",
       "[2 rows x 6 columns]"
      ]
     },
     "execution_count": 179,
     "metadata": {
      "tags": []
     },
     "output_type": "execute_result"
    }
   ],
   "source": [
    "blog.head(2)"
   ]
  },
  {
   "cell_type": "markdown",
   "metadata": {
    "colab_type": "text",
    "id": "zCG-XOcd8zbl"
   },
   "source": [
    "#### a. Label columns to merge: “gender”, “age”, “topic”, “sign”"
   ]
  },
  {
   "cell_type": "code",
   "execution_count": 0,
   "metadata": {
    "colab": {},
    "colab_type": "code",
    "id": "q9r7u1MO8zbm"
   },
   "outputs": [],
   "source": [
    "#Merge all four labels into one label\n",
    "\n",
    "blog['labels'] = blog.apply(lambda x : [x['gender'], str(x['age']), x['topic'], x['sign']], axis=1)"
   ]
  },
  {
   "cell_type": "code",
   "execution_count": 181,
   "metadata": {
    "colab": {
     "base_uri": "https://localhost:8080/",
     "height": 111
    },
    "colab_type": "code",
    "id": "GAuCcdm58zbo",
    "outputId": "edd05275-7a80-4dd5-9034-3c32e74d9bbe"
   },
   "outputs": [
    {
     "data": {
      "text/html": [
       "<div>\n",
       "<style scoped>\n",
       "    .dataframe tbody tr th:only-of-type {\n",
       "        vertical-align: middle;\n",
       "    }\n",
       "\n",
       "    .dataframe tbody tr th {\n",
       "        vertical-align: top;\n",
       "    }\n",
       "\n",
       "    .dataframe thead th {\n",
       "        text-align: right;\n",
       "    }\n",
       "</style>\n",
       "<table border=\"1\" class=\"dataframe\">\n",
       "  <thead>\n",
       "    <tr style=\"text-align: right;\">\n",
       "      <th></th>\n",
       "      <th>text_clean</th>\n",
       "      <th>labels</th>\n",
       "    </tr>\n",
       "  </thead>\n",
       "  <tbody>\n",
       "    <tr>\n",
       "      <th>614038</th>\n",
       "      <td>urllink even asleep beauti wish could say</td>\n",
       "      <td>[male, 17, Student, Gemini]</td>\n",
       "    </tr>\n",
       "    <tr>\n",
       "      <th>659571</th>\n",
       "      <td>untitl titl today think one day even excit enough think one anoth one thinkin day basic sit hous...</td>\n",
       "      <td>[male, 15, Student, Libra]</td>\n",
       "    </tr>\n",
       "  </tbody>\n",
       "</table>\n",
       "</div>"
      ],
      "text/plain": [
       "                                                                                                 text_clean                       labels\n",
       "614038                                                            urllink even asleep beauti wish could say  [male, 17, Student, Gemini]\n",
       "659571  untitl titl today think one day even excit enough think one anoth one thinkin day basic sit hous...   [male, 15, Student, Libra]"
      ]
     },
     "execution_count": 181,
     "metadata": {
      "tags": []
     },
     "output_type": "execute_result"
    }
   ],
   "source": [
    "blog[['text_clean','labels']][0:2]"
   ]
  },
  {
   "cell_type": "markdown",
   "metadata": {
    "colab_type": "text",
    "id": "-sVNg0uc8zbq"
   },
   "source": [
    "#### b. After completing the previous step, there should be only two columns in your dataframe i.e. “text” and “labels”"
   ]
  },
  {
   "cell_type": "code",
   "execution_count": 0,
   "metadata": {
    "colab": {},
    "colab_type": "code",
    "id": "TWa0kwSg8zbq"
   },
   "outputs": [],
   "source": [
    "#Create a DataFrame with two columns text and length\n",
    "\n",
    "blog_df = pd.DataFrame()\n",
    "blog_df['text'] = blog['text_clean']\n",
    "blog_df['labels'] = blog['labels']"
   ]
  },
  {
   "cell_type": "code",
   "execution_count": 183,
   "metadata": {
    "colab": {
     "base_uri": "https://localhost:8080/",
     "height": 34
    },
    "colab_type": "code",
    "id": "-JEvn3SL8zbs",
    "outputId": "8cb69898-1589-4d56-c2c4-efafbedba20c"
   },
   "outputs": [
    {
     "data": {
      "text/plain": [
       "(50100, 2)"
      ]
     },
     "execution_count": 183,
     "metadata": {
      "tags": []
     },
     "output_type": "execute_result"
    }
   ],
   "source": [
    "blog_df.shape"
   ]
  },
  {
   "cell_type": "code",
   "execution_count": 184,
   "metadata": {
    "colab": {
     "base_uri": "https://localhost:8080/",
     "height": 34
    },
    "colab_type": "code",
    "id": "y5Ig8LU28zbu",
    "outputId": "796e499d-cb1e-4941-fa89-ae7e9c9623a3"
   },
   "outputs": [
    {
     "data": {
      "text/plain": [
       "Index(['text', 'labels'], dtype='object')"
      ]
     },
     "execution_count": 184,
     "metadata": {
      "tags": []
     },
     "output_type": "execute_result"
    }
   ],
   "source": [
    "blog_df.columns"
   ]
  },
  {
   "cell_type": "code",
   "execution_count": 185,
   "metadata": {
    "colab": {
     "base_uri": "https://localhost:8080/",
     "height": 204
    },
    "colab_type": "code",
    "id": "5SfxHARc8zbw",
    "outputId": "48f6ef25-30b8-44a1-ae31-df3d98af1386"
   },
   "outputs": [
    {
     "data": {
      "text/html": [
       "<div>\n",
       "<style scoped>\n",
       "    .dataframe tbody tr th:only-of-type {\n",
       "        vertical-align: middle;\n",
       "    }\n",
       "\n",
       "    .dataframe tbody tr th {\n",
       "        vertical-align: top;\n",
       "    }\n",
       "\n",
       "    .dataframe thead th {\n",
       "        text-align: right;\n",
       "    }\n",
       "</style>\n",
       "<table border=\"1\" class=\"dataframe\">\n",
       "  <thead>\n",
       "    <tr style=\"text-align: right;\">\n",
       "      <th></th>\n",
       "      <th>text</th>\n",
       "      <th>labels</th>\n",
       "    </tr>\n",
       "  </thead>\n",
       "  <tbody>\n",
       "    <tr>\n",
       "      <th>614038</th>\n",
       "      <td>urllink even asleep beauti wish could say</td>\n",
       "      <td>[male, 17, Student, Gemini]</td>\n",
       "    </tr>\n",
       "    <tr>\n",
       "      <th>659571</th>\n",
       "      <td>untitl titl today think one day even excit enough think one anoth one thinkin day basic sit hous...</td>\n",
       "      <td>[male, 15, Student, Libra]</td>\n",
       "    </tr>\n",
       "    <tr>\n",
       "      <th>524255</th>\n",
       "      <td>world full american idol pop icon becom increasingli difficult critic individu prais accept conf...</td>\n",
       "      <td>[female, 16, Student, Capricorn]</td>\n",
       "    </tr>\n",
       "    <tr>\n",
       "      <th>595054</th>\n",
       "      <td>month unfett freedom real word start work today part time three day week work compani produc cus...</td>\n",
       "      <td>[male, 27, Student, Virgo]</td>\n",
       "    </tr>\n",
       "    <tr>\n",
       "      <th>546560</th>\n",
       "      <td>parent watch news there babi lock car dead come countless year hear leav child unattend car crap...</td>\n",
       "      <td>[male, 16, Student, Gemini]</td>\n",
       "    </tr>\n",
       "  </tbody>\n",
       "</table>\n",
       "</div>"
      ],
      "text/plain": [
       "                                                                                                       text                            labels\n",
       "614038                                                            urllink even asleep beauti wish could say       [male, 17, Student, Gemini]\n",
       "659571  untitl titl today think one day even excit enough think one anoth one thinkin day basic sit hous...        [male, 15, Student, Libra]\n",
       "524255  world full american idol pop icon becom increasingli difficult critic individu prais accept conf...  [female, 16, Student, Capricorn]\n",
       "595054  month unfett freedom real word start work today part time three day week work compani produc cus...        [male, 27, Student, Virgo]\n",
       "546560  parent watch news there babi lock car dead come countless year hear leav child unattend car crap...       [male, 16, Student, Gemini]"
      ]
     },
     "execution_count": 185,
     "metadata": {
      "tags": []
     },
     "output_type": "execute_result"
    }
   ],
   "source": [
    "blog_df.head()"
   ]
  },
  {
   "cell_type": "markdown",
   "metadata": {
    "colab_type": "text",
    "id": "phR-n_Zb8zb0"
   },
   "source": [
    "### 4. Separate features and labels, and split the data into training and testing (5 points)"
   ]
  },
  {
   "cell_type": "code",
   "execution_count": 0,
   "metadata": {
    "colab": {},
    "colab_type": "code",
    "id": "18Lkmvah8zb0"
   },
   "outputs": [],
   "source": [
    "#Features\n",
    "X = blog_df['text']\n",
    "\n",
    "#labels\n",
    "y = blog_df['labels']"
   ]
  },
  {
   "cell_type": "code",
   "execution_count": 0,
   "metadata": {
    "colab": {},
    "colab_type": "code",
    "id": "TOJkDXsM8zb4"
   },
   "outputs": [],
   "source": [
    "#Split Features and labels into training set and test set\n",
    "\n",
    "X_train, X_test, y_train, y_test = train_test_split(X, y, test_size=0.30, random_state=42)"
   ]
  },
  {
   "cell_type": "code",
   "execution_count": 188,
   "metadata": {
    "colab": {
     "base_uri": "https://localhost:8080/",
     "height": 34
    },
    "colab_type": "code",
    "id": "I8qQvu_P8zb6",
    "outputId": "51c10251-758c-40ee-a380-607f7d56ce76"
   },
   "outputs": [
    {
     "data": {
      "text/plain": [
       "((35070,), (35070,))"
      ]
     },
     "execution_count": 188,
     "metadata": {
      "tags": []
     },
     "output_type": "execute_result"
    }
   ],
   "source": [
    "#Shape of X_train and y_train\n",
    "\n",
    "X_train.shape, y_train.shape"
   ]
  },
  {
   "cell_type": "code",
   "execution_count": 189,
   "metadata": {
    "colab": {
     "base_uri": "https://localhost:8080/",
     "height": 34
    },
    "colab_type": "code",
    "id": "AemnjFjM8zb9",
    "outputId": "f6116296-0a13-4cb2-cabc-7ef4c32b6393"
   },
   "outputs": [
    {
     "data": {
      "text/plain": [
       "((15030,), (15030,))"
      ]
     },
     "execution_count": 189,
     "metadata": {
      "tags": []
     },
     "output_type": "execute_result"
    }
   ],
   "source": [
    "#Shape of X_test and y_test\n",
    "\n",
    "X_test.shape, y_test.shape"
   ]
  },
  {
   "cell_type": "markdown",
   "metadata": {
    "colab_type": "text",
    "id": "ETnTPqof8zb_"
   },
   "source": [
    "### 5. Vectorize the features (5 points)"
   ]
  },
  {
   "cell_type": "markdown",
   "metadata": {
    "colab_type": "text",
    "id": "NT3mDALB8zcA"
   },
   "source": [
    "#### a. Create a Bag of Words using count vectorizer\n",
    "#### i. Use ngram_range=(1, 2)\n",
    "#### ii. Vectorize training and testing features"
   ]
  },
  {
   "cell_type": "markdown",
   "metadata": {
    "colab_type": "text",
    "id": "P5QViYAuPqMr"
   },
   "source": [
    "###### Bag of Words using Count Vectorizer method"
   ]
  },
  {
   "cell_type": "code",
   "execution_count": 0,
   "metadata": {
    "colab": {},
    "colab_type": "code",
    "id": "pg5WAZXl8zcA"
   },
   "outputs": [],
   "source": [
    "#Create an instance of CountVectorizer\n",
    "\n",
    "countvect = CountVectorizer(ngram_range=(1,2), max_features=8000)"
   ]
  },
  {
   "cell_type": "code",
   "execution_count": 191,
   "metadata": {
    "colab": {
     "base_uri": "https://localhost:8080/",
     "height": 119
    },
    "colab_type": "code",
    "id": "M34dSZ8m8zcC",
    "outputId": "5839b0a2-478f-430c-a6a0-15e5b24eaca6"
   },
   "outputs": [
    {
     "data": {
      "text/plain": [
       "CountVectorizer(analyzer='word', binary=False, decode_error='strict',\n",
       "                dtype=<class 'numpy.int64'>, encoding='utf-8', input='content',\n",
       "                lowercase=True, max_df=1.0, max_features=8000, min_df=1,\n",
       "                ngram_range=(1, 2), preprocessor=None, stop_words=None,\n",
       "                strip_accents=None, token_pattern='(?u)\\\\b\\\\w\\\\w+\\\\b',\n",
       "                tokenizer=None, vocabulary=None)"
      ]
     },
     "execution_count": 191,
     "metadata": {
      "tags": []
     },
     "output_type": "execute_result"
    }
   ],
   "source": [
    "#Fit the CountVectorizer on Feature set\n",
    "\n",
    "countvect.fit(X)"
   ]
  },
  {
   "cell_type": "code",
   "execution_count": 0,
   "metadata": {
    "colab": {},
    "colab_type": "code",
    "id": "cRAAF-Js8zcG"
   },
   "outputs": [],
   "source": [
    "#Transform training set and test set into count vectors (BoW)\n",
    "\n",
    "X_bow_train = countvect.transform(X_train)\n",
    "X_bow_test = countvect.transform(X_test)"
   ]
  },
  {
   "cell_type": "code",
   "execution_count": 193,
   "metadata": {
    "colab": {
     "base_uri": "https://localhost:8080/",
     "height": 34
    },
    "colab_type": "code",
    "id": "J40NPooE8zcJ",
    "outputId": "3a143189-f246-4b57-d5d4-21cc6ca6248b"
   },
   "outputs": [
    {
     "data": {
      "text/plain": [
       "((35070, 8000), (15030, 8000))"
      ]
     },
     "execution_count": 193,
     "metadata": {
      "tags": []
     },
     "output_type": "execute_result"
    }
   ],
   "source": [
    "#Shape of sparse csr matrices with count vectors of training set and test set\n",
    "\n",
    "X_bow_train.shape, X_bow_test.shape"
   ]
  },
  {
   "cell_type": "markdown",
   "metadata": {
    "colab_type": "text",
    "id": "OFNsNuuD8zcQ"
   },
   "source": [
    "#### b. Print the term-document matrix"
   ]
  },
  {
   "cell_type": "code",
   "execution_count": 0,
   "metadata": {
    "colab": {},
    "colab_type": "code",
    "id": "OpYnq4W78zcQ"
   },
   "outputs": [],
   "source": [
    "#Function to create term-document matrix by chunking the sparse csr matrix\n",
    "\n",
    "def get_dtm_using_chunks(sparce_csr_matrix, size, chunk_size):\n",
    "    #size=countvect.max_features\n",
    "    #chunk_size=100\n",
    "    dtm = pd.DataFrame()\n",
    "    if size < chunk_size:\n",
    "        dtm = pd.concat([dtm, pd.DataFrame(sparce_csr_matrix[:,0:size].toarray())], axis=1)\n",
    "        gc.collect()\n",
    "    chunks_nb = int(size/chunk_size)\n",
    "    print(\"Max. Number of Features : \", size)\n",
    "    print(\"Number of chunks used : \", chunks_nb)\n",
    "    iter_ints = range(0, chunks_nb)\n",
    "    print(\"Started creating DTM matrix by chunking....\")\n",
    "    for i in iter_ints:\n",
    "        j = i * chunk_size\n",
    "        if i+1 < chunks_nb:\n",
    "            k = j + chunk_size\n",
    "            #print(\"k loop\",i,j,k,\"\\t\")\n",
    "            dtm = pd.concat([dtm, pd.DataFrame(sparce_csr_matrix[:,j:k].toarray())], axis=1)\n",
    "            gc.collect()\n",
    "        else:\n",
    "            #print(\"j loop\",i,j,\"\\t\")\n",
    "            dtm = pd.concat([dtm, pd.DataFrame(sparce_csr_matrix[:,j:].toarray())], axis=1)\n",
    "            gc.collect()\n",
    "    print(\"...Done\")\n",
    "    return dtm"
   ]
  },
  {
   "cell_type": "code",
   "execution_count": 195,
   "metadata": {
    "colab": {
     "base_uri": "https://localhost:8080/",
     "height": 102
    },
    "colab_type": "code",
    "id": "l7KWEzoY8zcV",
    "outputId": "15951a3d-3c76-4364-89d8-8f590eb24aaf"
   },
   "outputs": [
    {
     "name": "stdout",
     "output_type": "stream",
     "text": [
      "Term-Document Matrix for Training-set count vector:\n",
      "Max. Number of Features :  8000\n",
      "Number of chunks used :  80\n",
      "Started creating DTM matrix by chunking....\n",
      "...Done\n"
     ]
    }
   ],
   "source": [
    "print(\"Term-Document Matrix for Training-set count vector:\")\n",
    "dtm_train = get_dtm_using_chunks(X_bow_train, countvect.max_features, 100)"
   ]
  },
  {
   "cell_type": "code",
   "execution_count": 196,
   "metadata": {
    "colab": {
     "base_uri": "https://localhost:8080/",
     "height": 102
    },
    "colab_type": "code",
    "id": "-mXQijZo8zcY",
    "outputId": "2dcc58de-7472-4c68-abf8-8be054c3c6d1"
   },
   "outputs": [
    {
     "name": "stdout",
     "output_type": "stream",
     "text": [
      "Term-Document Matrix for Test-set count vector:\n",
      "Max. Number of Features :  8000\n",
      "Number of chunks used :  80\n",
      "Started creating DTM matrix by chunking....\n",
      "...Done\n"
     ]
    }
   ],
   "source": [
    "print(\"Term-Document Matrix for Test-set count vector:\")\n",
    "dtm_test = get_dtm_using_chunks(X_bow_test, countvect.max_features, 100)"
   ]
  },
  {
   "cell_type": "markdown",
   "metadata": {
    "colab_type": "text",
    "id": "9qe1u1XAhNcS"
   },
   "source": [
    "##### Term-Document Matrix for training set"
   ]
  },
  {
   "cell_type": "code",
   "execution_count": 197,
   "metadata": {
    "colab": {
     "base_uri": "https://localhost:8080/",
     "height": 34
    },
    "colab_type": "code",
    "id": "ttKqFuEg8zcb",
    "outputId": "ecd2e546-a1d3-48de-d74e-35225f7e650a"
   },
   "outputs": [
    {
     "data": {
      "text/plain": [
       "(35070, 8000)"
      ]
     },
     "execution_count": 197,
     "metadata": {
      "tags": []
     },
     "output_type": "execute_result"
    }
   ],
   "source": [
    "dtm_train.columns = countvect.get_feature_names()\n",
    "dtm_train.shape"
   ]
  },
  {
   "cell_type": "code",
   "execution_count": 198,
   "metadata": {
    "colab": {
     "base_uri": "https://localhost:8080/",
     "height": 119
    },
    "colab_type": "code",
    "id": "AK8wfxSW8zcd",
    "outputId": "c438d47d-f597-4803-9653-d28ad114e28f"
   },
   "outputs": [
    {
     "data": {
      "text/plain": [
       "Index(['aaron', 'abandon', 'abbi', 'abbott', 'abc', 'abil', 'abit', 'abl',\n",
       "       'abl find', 'abl get',\n",
       "       ...\n",
       "       'yummi', 'yun', 'yung', 'yup', 'zealand', 'zero', 'zip', 'zombi',\n",
       "       'zone', 'zoo'],\n",
       "      dtype='object', length=8000)"
      ]
     },
     "execution_count": 198,
     "metadata": {
      "tags": []
     },
     "output_type": "execute_result"
    }
   ],
   "source": [
    "dtm_train.columns"
   ]
  },
  {
   "cell_type": "code",
   "execution_count": 199,
   "metadata": {
    "colab": {
     "base_uri": "https://localhost:8080/",
     "height": 270
    },
    "colab_type": "code",
    "id": "7cWnBigs8zch",
    "outputId": "fbf47e20-99d4-46ef-c484-3669f637de49"
   },
   "outputs": [
    {
     "data": {
      "text/html": [
       "<div>\n",
       "<style scoped>\n",
       "    .dataframe tbody tr th:only-of-type {\n",
       "        vertical-align: middle;\n",
       "    }\n",
       "\n",
       "    .dataframe tbody tr th {\n",
       "        vertical-align: top;\n",
       "    }\n",
       "\n",
       "    .dataframe thead th {\n",
       "        text-align: right;\n",
       "    }\n",
       "</style>\n",
       "<table border=\"1\" class=\"dataframe\">\n",
       "  <thead>\n",
       "    <tr style=\"text-align: right;\">\n",
       "      <th></th>\n",
       "      <th>aaron</th>\n",
       "      <th>abandon</th>\n",
       "      <th>abbi</th>\n",
       "      <th>abbott</th>\n",
       "      <th>abc</th>\n",
       "      <th>abil</th>\n",
       "      <th>abit</th>\n",
       "      <th>abl</th>\n",
       "      <th>abl find</th>\n",
       "      <th>abl get</th>\n",
       "      <th>abl make</th>\n",
       "      <th>abl see</th>\n",
       "      <th>abort</th>\n",
       "      <th>abroad</th>\n",
       "      <th>absenc</th>\n",
       "      <th>absent</th>\n",
       "      <th>absolut</th>\n",
       "      <th>absolut noth</th>\n",
       "      <th>absorb</th>\n",
       "      <th>abstract</th>\n",
       "      <th>absurd</th>\n",
       "      <th>abt</th>\n",
       "      <th>abu</th>\n",
       "      <th>abu ghraib</th>\n",
       "      <th>abund</th>\n",
       "      <th>abus</th>\n",
       "      <th>academ</th>\n",
       "      <th>academi</th>\n",
       "      <th>accent</th>\n",
       "      <th>accept</th>\n",
       "      <th>access</th>\n",
       "      <th>accessori</th>\n",
       "      <th>accid</th>\n",
       "      <th>accident</th>\n",
       "      <th>accompani</th>\n",
       "      <th>accomplish</th>\n",
       "      <th>accord</th>\n",
       "      <th>accord urllink</th>\n",
       "      <th>account</th>\n",
       "      <th>accumul</th>\n",
       "      <th>...</th>\n",
       "      <th>year still</th>\n",
       "      <th>year think</th>\n",
       "      <th>year year</th>\n",
       "      <th>yearn</th>\n",
       "      <th>yeh</th>\n",
       "      <th>yell</th>\n",
       "      <th>yellow</th>\n",
       "      <th>yep</th>\n",
       "      <th>yesterday</th>\n",
       "      <th>yesterday went</th>\n",
       "      <th>yet</th>\n",
       "      <th>yet anoth</th>\n",
       "      <th>yet still</th>\n",
       "      <th>yike</th>\n",
       "      <th>yoga</th>\n",
       "      <th>york</th>\n",
       "      <th>york citi</th>\n",
       "      <th>york time</th>\n",
       "      <th>young</th>\n",
       "      <th>young man</th>\n",
       "      <th>young peopl</th>\n",
       "      <th>young woman</th>\n",
       "      <th>younger</th>\n",
       "      <th>youngest</th>\n",
       "      <th>your</th>\n",
       "      <th>youth</th>\n",
       "      <th>youth group</th>\n",
       "      <th>yr</th>\n",
       "      <th>yuck</th>\n",
       "      <th>yum</th>\n",
       "      <th>yummi</th>\n",
       "      <th>yun</th>\n",
       "      <th>yung</th>\n",
       "      <th>yup</th>\n",
       "      <th>zealand</th>\n",
       "      <th>zero</th>\n",
       "      <th>zip</th>\n",
       "      <th>zombi</th>\n",
       "      <th>zone</th>\n",
       "      <th>zoo</th>\n",
       "    </tr>\n",
       "  </thead>\n",
       "  <tbody>\n",
       "    <tr>\n",
       "      <th>0</th>\n",
       "      <td>0</td>\n",
       "      <td>0</td>\n",
       "      <td>0</td>\n",
       "      <td>0</td>\n",
       "      <td>0</td>\n",
       "      <td>0</td>\n",
       "      <td>0</td>\n",
       "      <td>0</td>\n",
       "      <td>0</td>\n",
       "      <td>0</td>\n",
       "      <td>0</td>\n",
       "      <td>0</td>\n",
       "      <td>0</td>\n",
       "      <td>0</td>\n",
       "      <td>0</td>\n",
       "      <td>0</td>\n",
       "      <td>0</td>\n",
       "      <td>0</td>\n",
       "      <td>0</td>\n",
       "      <td>0</td>\n",
       "      <td>0</td>\n",
       "      <td>0</td>\n",
       "      <td>0</td>\n",
       "      <td>0</td>\n",
       "      <td>0</td>\n",
       "      <td>0</td>\n",
       "      <td>0</td>\n",
       "      <td>0</td>\n",
       "      <td>0</td>\n",
       "      <td>0</td>\n",
       "      <td>0</td>\n",
       "      <td>0</td>\n",
       "      <td>0</td>\n",
       "      <td>0</td>\n",
       "      <td>0</td>\n",
       "      <td>0</td>\n",
       "      <td>0</td>\n",
       "      <td>0</td>\n",
       "      <td>0</td>\n",
       "      <td>0</td>\n",
       "      <td>...</td>\n",
       "      <td>0</td>\n",
       "      <td>0</td>\n",
       "      <td>0</td>\n",
       "      <td>0</td>\n",
       "      <td>0</td>\n",
       "      <td>0</td>\n",
       "      <td>0</td>\n",
       "      <td>0</td>\n",
       "      <td>0</td>\n",
       "      <td>0</td>\n",
       "      <td>0</td>\n",
       "      <td>0</td>\n",
       "      <td>0</td>\n",
       "      <td>0</td>\n",
       "      <td>0</td>\n",
       "      <td>0</td>\n",
       "      <td>0</td>\n",
       "      <td>0</td>\n",
       "      <td>0</td>\n",
       "      <td>0</td>\n",
       "      <td>0</td>\n",
       "      <td>0</td>\n",
       "      <td>0</td>\n",
       "      <td>0</td>\n",
       "      <td>0</td>\n",
       "      <td>0</td>\n",
       "      <td>0</td>\n",
       "      <td>0</td>\n",
       "      <td>0</td>\n",
       "      <td>0</td>\n",
       "      <td>0</td>\n",
       "      <td>0</td>\n",
       "      <td>0</td>\n",
       "      <td>0</td>\n",
       "      <td>0</td>\n",
       "      <td>0</td>\n",
       "      <td>0</td>\n",
       "      <td>0</td>\n",
       "      <td>0</td>\n",
       "      <td>0</td>\n",
       "    </tr>\n",
       "    <tr>\n",
       "      <th>1</th>\n",
       "      <td>0</td>\n",
       "      <td>0</td>\n",
       "      <td>0</td>\n",
       "      <td>0</td>\n",
       "      <td>0</td>\n",
       "      <td>0</td>\n",
       "      <td>0</td>\n",
       "      <td>0</td>\n",
       "      <td>0</td>\n",
       "      <td>0</td>\n",
       "      <td>0</td>\n",
       "      <td>0</td>\n",
       "      <td>0</td>\n",
       "      <td>0</td>\n",
       "      <td>0</td>\n",
       "      <td>0</td>\n",
       "      <td>0</td>\n",
       "      <td>0</td>\n",
       "      <td>0</td>\n",
       "      <td>0</td>\n",
       "      <td>0</td>\n",
       "      <td>0</td>\n",
       "      <td>0</td>\n",
       "      <td>0</td>\n",
       "      <td>0</td>\n",
       "      <td>0</td>\n",
       "      <td>0</td>\n",
       "      <td>0</td>\n",
       "      <td>0</td>\n",
       "      <td>0</td>\n",
       "      <td>0</td>\n",
       "      <td>0</td>\n",
       "      <td>0</td>\n",
       "      <td>0</td>\n",
       "      <td>0</td>\n",
       "      <td>0</td>\n",
       "      <td>0</td>\n",
       "      <td>0</td>\n",
       "      <td>0</td>\n",
       "      <td>0</td>\n",
       "      <td>...</td>\n",
       "      <td>0</td>\n",
       "      <td>0</td>\n",
       "      <td>0</td>\n",
       "      <td>0</td>\n",
       "      <td>0</td>\n",
       "      <td>0</td>\n",
       "      <td>0</td>\n",
       "      <td>0</td>\n",
       "      <td>1</td>\n",
       "      <td>0</td>\n",
       "      <td>0</td>\n",
       "      <td>0</td>\n",
       "      <td>0</td>\n",
       "      <td>0</td>\n",
       "      <td>0</td>\n",
       "      <td>0</td>\n",
       "      <td>0</td>\n",
       "      <td>0</td>\n",
       "      <td>0</td>\n",
       "      <td>0</td>\n",
       "      <td>0</td>\n",
       "      <td>0</td>\n",
       "      <td>0</td>\n",
       "      <td>0</td>\n",
       "      <td>1</td>\n",
       "      <td>0</td>\n",
       "      <td>0</td>\n",
       "      <td>0</td>\n",
       "      <td>0</td>\n",
       "      <td>0</td>\n",
       "      <td>0</td>\n",
       "      <td>0</td>\n",
       "      <td>0</td>\n",
       "      <td>0</td>\n",
       "      <td>0</td>\n",
       "      <td>0</td>\n",
       "      <td>0</td>\n",
       "      <td>0</td>\n",
       "      <td>0</td>\n",
       "      <td>0</td>\n",
       "    </tr>\n",
       "    <tr>\n",
       "      <th>2</th>\n",
       "      <td>0</td>\n",
       "      <td>0</td>\n",
       "      <td>0</td>\n",
       "      <td>0</td>\n",
       "      <td>0</td>\n",
       "      <td>0</td>\n",
       "      <td>0</td>\n",
       "      <td>0</td>\n",
       "      <td>0</td>\n",
       "      <td>0</td>\n",
       "      <td>0</td>\n",
       "      <td>0</td>\n",
       "      <td>0</td>\n",
       "      <td>0</td>\n",
       "      <td>0</td>\n",
       "      <td>0</td>\n",
       "      <td>0</td>\n",
       "      <td>0</td>\n",
       "      <td>0</td>\n",
       "      <td>0</td>\n",
       "      <td>0</td>\n",
       "      <td>0</td>\n",
       "      <td>0</td>\n",
       "      <td>0</td>\n",
       "      <td>0</td>\n",
       "      <td>0</td>\n",
       "      <td>0</td>\n",
       "      <td>0</td>\n",
       "      <td>0</td>\n",
       "      <td>0</td>\n",
       "      <td>0</td>\n",
       "      <td>0</td>\n",
       "      <td>0</td>\n",
       "      <td>0</td>\n",
       "      <td>0</td>\n",
       "      <td>0</td>\n",
       "      <td>0</td>\n",
       "      <td>0</td>\n",
       "      <td>0</td>\n",
       "      <td>0</td>\n",
       "      <td>...</td>\n",
       "      <td>0</td>\n",
       "      <td>0</td>\n",
       "      <td>0</td>\n",
       "      <td>0</td>\n",
       "      <td>0</td>\n",
       "      <td>0</td>\n",
       "      <td>0</td>\n",
       "      <td>0</td>\n",
       "      <td>0</td>\n",
       "      <td>0</td>\n",
       "      <td>0</td>\n",
       "      <td>0</td>\n",
       "      <td>0</td>\n",
       "      <td>0</td>\n",
       "      <td>0</td>\n",
       "      <td>0</td>\n",
       "      <td>0</td>\n",
       "      <td>0</td>\n",
       "      <td>0</td>\n",
       "      <td>0</td>\n",
       "      <td>0</td>\n",
       "      <td>0</td>\n",
       "      <td>0</td>\n",
       "      <td>0</td>\n",
       "      <td>0</td>\n",
       "      <td>0</td>\n",
       "      <td>0</td>\n",
       "      <td>0</td>\n",
       "      <td>0</td>\n",
       "      <td>0</td>\n",
       "      <td>0</td>\n",
       "      <td>0</td>\n",
       "      <td>0</td>\n",
       "      <td>0</td>\n",
       "      <td>0</td>\n",
       "      <td>0</td>\n",
       "      <td>0</td>\n",
       "      <td>0</td>\n",
       "      <td>0</td>\n",
       "      <td>0</td>\n",
       "    </tr>\n",
       "    <tr>\n",
       "      <th>3</th>\n",
       "      <td>0</td>\n",
       "      <td>0</td>\n",
       "      <td>0</td>\n",
       "      <td>0</td>\n",
       "      <td>0</td>\n",
       "      <td>0</td>\n",
       "      <td>0</td>\n",
       "      <td>0</td>\n",
       "      <td>0</td>\n",
       "      <td>0</td>\n",
       "      <td>0</td>\n",
       "      <td>0</td>\n",
       "      <td>0</td>\n",
       "      <td>0</td>\n",
       "      <td>0</td>\n",
       "      <td>0</td>\n",
       "      <td>0</td>\n",
       "      <td>0</td>\n",
       "      <td>0</td>\n",
       "      <td>0</td>\n",
       "      <td>0</td>\n",
       "      <td>0</td>\n",
       "      <td>0</td>\n",
       "      <td>0</td>\n",
       "      <td>0</td>\n",
       "      <td>0</td>\n",
       "      <td>0</td>\n",
       "      <td>0</td>\n",
       "      <td>0</td>\n",
       "      <td>0</td>\n",
       "      <td>0</td>\n",
       "      <td>0</td>\n",
       "      <td>0</td>\n",
       "      <td>0</td>\n",
       "      <td>0</td>\n",
       "      <td>0</td>\n",
       "      <td>0</td>\n",
       "      <td>0</td>\n",
       "      <td>0</td>\n",
       "      <td>0</td>\n",
       "      <td>...</td>\n",
       "      <td>0</td>\n",
       "      <td>0</td>\n",
       "      <td>0</td>\n",
       "      <td>0</td>\n",
       "      <td>0</td>\n",
       "      <td>0</td>\n",
       "      <td>0</td>\n",
       "      <td>0</td>\n",
       "      <td>1</td>\n",
       "      <td>0</td>\n",
       "      <td>0</td>\n",
       "      <td>0</td>\n",
       "      <td>0</td>\n",
       "      <td>0</td>\n",
       "      <td>0</td>\n",
       "      <td>0</td>\n",
       "      <td>0</td>\n",
       "      <td>0</td>\n",
       "      <td>0</td>\n",
       "      <td>0</td>\n",
       "      <td>0</td>\n",
       "      <td>0</td>\n",
       "      <td>0</td>\n",
       "      <td>0</td>\n",
       "      <td>0</td>\n",
       "      <td>0</td>\n",
       "      <td>0</td>\n",
       "      <td>0</td>\n",
       "      <td>0</td>\n",
       "      <td>0</td>\n",
       "      <td>0</td>\n",
       "      <td>0</td>\n",
       "      <td>0</td>\n",
       "      <td>0</td>\n",
       "      <td>0</td>\n",
       "      <td>0</td>\n",
       "      <td>0</td>\n",
       "      <td>0</td>\n",
       "      <td>0</td>\n",
       "      <td>0</td>\n",
       "    </tr>\n",
       "    <tr>\n",
       "      <th>4</th>\n",
       "      <td>0</td>\n",
       "      <td>0</td>\n",
       "      <td>0</td>\n",
       "      <td>0</td>\n",
       "      <td>0</td>\n",
       "      <td>0</td>\n",
       "      <td>0</td>\n",
       "      <td>0</td>\n",
       "      <td>0</td>\n",
       "      <td>0</td>\n",
       "      <td>0</td>\n",
       "      <td>0</td>\n",
       "      <td>0</td>\n",
       "      <td>0</td>\n",
       "      <td>0</td>\n",
       "      <td>0</td>\n",
       "      <td>0</td>\n",
       "      <td>0</td>\n",
       "      <td>0</td>\n",
       "      <td>0</td>\n",
       "      <td>0</td>\n",
       "      <td>0</td>\n",
       "      <td>0</td>\n",
       "      <td>0</td>\n",
       "      <td>0</td>\n",
       "      <td>0</td>\n",
       "      <td>0</td>\n",
       "      <td>0</td>\n",
       "      <td>0</td>\n",
       "      <td>0</td>\n",
       "      <td>0</td>\n",
       "      <td>0</td>\n",
       "      <td>0</td>\n",
       "      <td>0</td>\n",
       "      <td>0</td>\n",
       "      <td>0</td>\n",
       "      <td>0</td>\n",
       "      <td>0</td>\n",
       "      <td>0</td>\n",
       "      <td>0</td>\n",
       "      <td>...</td>\n",
       "      <td>0</td>\n",
       "      <td>0</td>\n",
       "      <td>0</td>\n",
       "      <td>0</td>\n",
       "      <td>0</td>\n",
       "      <td>0</td>\n",
       "      <td>0</td>\n",
       "      <td>0</td>\n",
       "      <td>0</td>\n",
       "      <td>0</td>\n",
       "      <td>0</td>\n",
       "      <td>0</td>\n",
       "      <td>0</td>\n",
       "      <td>0</td>\n",
       "      <td>0</td>\n",
       "      <td>0</td>\n",
       "      <td>0</td>\n",
       "      <td>0</td>\n",
       "      <td>0</td>\n",
       "      <td>0</td>\n",
       "      <td>0</td>\n",
       "      <td>0</td>\n",
       "      <td>0</td>\n",
       "      <td>0</td>\n",
       "      <td>0</td>\n",
       "      <td>0</td>\n",
       "      <td>0</td>\n",
       "      <td>0</td>\n",
       "      <td>0</td>\n",
       "      <td>0</td>\n",
       "      <td>0</td>\n",
       "      <td>0</td>\n",
       "      <td>0</td>\n",
       "      <td>0</td>\n",
       "      <td>0</td>\n",
       "      <td>0</td>\n",
       "      <td>0</td>\n",
       "      <td>0</td>\n",
       "      <td>0</td>\n",
       "      <td>0</td>\n",
       "    </tr>\n",
       "  </tbody>\n",
       "</table>\n",
       "<p>5 rows × 8000 columns</p>\n",
       "</div>"
      ],
      "text/plain": [
       "   aaron  abandon  abbi  abbott  abc  ...  zero  zip  zombi  zone  zoo\n",
       "0      0        0     0       0    0  ...     0    0      0     0    0\n",
       "1      0        0     0       0    0  ...     0    0      0     0    0\n",
       "2      0        0     0       0    0  ...     0    0      0     0    0\n",
       "3      0        0     0       0    0  ...     0    0      0     0    0\n",
       "4      0        0     0       0    0  ...     0    0      0     0    0\n",
       "\n",
       "[5 rows x 8000 columns]"
      ]
     },
     "execution_count": 199,
     "metadata": {
      "tags": []
     },
     "output_type": "execute_result"
    }
   ],
   "source": [
    "dtm_train.head()"
   ]
  },
  {
   "cell_type": "markdown",
   "metadata": {
    "colab_type": "text",
    "id": "DdNNtgpuhUM0"
   },
   "source": [
    "##### Term-Document Matrix for test set"
   ]
  },
  {
   "cell_type": "code",
   "execution_count": 200,
   "metadata": {
    "colab": {
     "base_uri": "https://localhost:8080/",
     "height": 34
    },
    "colab_type": "code",
    "id": "ZCyyBk1d8zcm",
    "outputId": "e52a77cd-6be6-413e-a8b0-4488c483f962"
   },
   "outputs": [
    {
     "data": {
      "text/plain": [
       "(15030, 8000)"
      ]
     },
     "execution_count": 200,
     "metadata": {
      "tags": []
     },
     "output_type": "execute_result"
    }
   ],
   "source": [
    "dtm_test.columns = countvect.get_feature_names()\n",
    "dtm_test.shape"
   ]
  },
  {
   "cell_type": "code",
   "execution_count": 201,
   "metadata": {
    "colab": {
     "base_uri": "https://localhost:8080/",
     "height": 119
    },
    "colab_type": "code",
    "id": "RJ3EMCF88zco",
    "outputId": "c43c876a-7552-4672-d50d-48a418c1d2d1"
   },
   "outputs": [
    {
     "data": {
      "text/plain": [
       "Index(['aaron', 'abandon', 'abbi', 'abbott', 'abc', 'abil', 'abit', 'abl',\n",
       "       'abl find', 'abl get',\n",
       "       ...\n",
       "       'yummi', 'yun', 'yung', 'yup', 'zealand', 'zero', 'zip', 'zombi',\n",
       "       'zone', 'zoo'],\n",
       "      dtype='object', length=8000)"
      ]
     },
     "execution_count": 201,
     "metadata": {
      "tags": []
     },
     "output_type": "execute_result"
    }
   ],
   "source": [
    "dtm_test.columns"
   ]
  },
  {
   "cell_type": "code",
   "execution_count": 202,
   "metadata": {
    "colab": {
     "base_uri": "https://localhost:8080/",
     "height": 270
    },
    "colab_type": "code",
    "id": "-Poqxehg8zcq",
    "outputId": "ef63b57b-0daf-484c-9b82-38d88e34270f"
   },
   "outputs": [
    {
     "data": {
      "text/html": [
       "<div>\n",
       "<style scoped>\n",
       "    .dataframe tbody tr th:only-of-type {\n",
       "        vertical-align: middle;\n",
       "    }\n",
       "\n",
       "    .dataframe tbody tr th {\n",
       "        vertical-align: top;\n",
       "    }\n",
       "\n",
       "    .dataframe thead th {\n",
       "        text-align: right;\n",
       "    }\n",
       "</style>\n",
       "<table border=\"1\" class=\"dataframe\">\n",
       "  <thead>\n",
       "    <tr style=\"text-align: right;\">\n",
       "      <th></th>\n",
       "      <th>aaron</th>\n",
       "      <th>abandon</th>\n",
       "      <th>abbi</th>\n",
       "      <th>abbott</th>\n",
       "      <th>abc</th>\n",
       "      <th>abil</th>\n",
       "      <th>abit</th>\n",
       "      <th>abl</th>\n",
       "      <th>abl find</th>\n",
       "      <th>abl get</th>\n",
       "      <th>abl make</th>\n",
       "      <th>abl see</th>\n",
       "      <th>abort</th>\n",
       "      <th>abroad</th>\n",
       "      <th>absenc</th>\n",
       "      <th>absent</th>\n",
       "      <th>absolut</th>\n",
       "      <th>absolut noth</th>\n",
       "      <th>absorb</th>\n",
       "      <th>abstract</th>\n",
       "      <th>absurd</th>\n",
       "      <th>abt</th>\n",
       "      <th>abu</th>\n",
       "      <th>abu ghraib</th>\n",
       "      <th>abund</th>\n",
       "      <th>abus</th>\n",
       "      <th>academ</th>\n",
       "      <th>academi</th>\n",
       "      <th>accent</th>\n",
       "      <th>accept</th>\n",
       "      <th>access</th>\n",
       "      <th>accessori</th>\n",
       "      <th>accid</th>\n",
       "      <th>accident</th>\n",
       "      <th>accompani</th>\n",
       "      <th>accomplish</th>\n",
       "      <th>accord</th>\n",
       "      <th>accord urllink</th>\n",
       "      <th>account</th>\n",
       "      <th>accumul</th>\n",
       "      <th>...</th>\n",
       "      <th>year still</th>\n",
       "      <th>year think</th>\n",
       "      <th>year year</th>\n",
       "      <th>yearn</th>\n",
       "      <th>yeh</th>\n",
       "      <th>yell</th>\n",
       "      <th>yellow</th>\n",
       "      <th>yep</th>\n",
       "      <th>yesterday</th>\n",
       "      <th>yesterday went</th>\n",
       "      <th>yet</th>\n",
       "      <th>yet anoth</th>\n",
       "      <th>yet still</th>\n",
       "      <th>yike</th>\n",
       "      <th>yoga</th>\n",
       "      <th>york</th>\n",
       "      <th>york citi</th>\n",
       "      <th>york time</th>\n",
       "      <th>young</th>\n",
       "      <th>young man</th>\n",
       "      <th>young peopl</th>\n",
       "      <th>young woman</th>\n",
       "      <th>younger</th>\n",
       "      <th>youngest</th>\n",
       "      <th>your</th>\n",
       "      <th>youth</th>\n",
       "      <th>youth group</th>\n",
       "      <th>yr</th>\n",
       "      <th>yuck</th>\n",
       "      <th>yum</th>\n",
       "      <th>yummi</th>\n",
       "      <th>yun</th>\n",
       "      <th>yung</th>\n",
       "      <th>yup</th>\n",
       "      <th>zealand</th>\n",
       "      <th>zero</th>\n",
       "      <th>zip</th>\n",
       "      <th>zombi</th>\n",
       "      <th>zone</th>\n",
       "      <th>zoo</th>\n",
       "    </tr>\n",
       "  </thead>\n",
       "  <tbody>\n",
       "    <tr>\n",
       "      <th>0</th>\n",
       "      <td>0</td>\n",
       "      <td>0</td>\n",
       "      <td>0</td>\n",
       "      <td>0</td>\n",
       "      <td>0</td>\n",
       "      <td>0</td>\n",
       "      <td>0</td>\n",
       "      <td>0</td>\n",
       "      <td>0</td>\n",
       "      <td>0</td>\n",
       "      <td>0</td>\n",
       "      <td>0</td>\n",
       "      <td>0</td>\n",
       "      <td>0</td>\n",
       "      <td>0</td>\n",
       "      <td>0</td>\n",
       "      <td>0</td>\n",
       "      <td>0</td>\n",
       "      <td>0</td>\n",
       "      <td>0</td>\n",
       "      <td>0</td>\n",
       "      <td>0</td>\n",
       "      <td>0</td>\n",
       "      <td>0</td>\n",
       "      <td>0</td>\n",
       "      <td>0</td>\n",
       "      <td>0</td>\n",
       "      <td>0</td>\n",
       "      <td>0</td>\n",
       "      <td>0</td>\n",
       "      <td>0</td>\n",
       "      <td>0</td>\n",
       "      <td>0</td>\n",
       "      <td>0</td>\n",
       "      <td>0</td>\n",
       "      <td>0</td>\n",
       "      <td>0</td>\n",
       "      <td>0</td>\n",
       "      <td>0</td>\n",
       "      <td>0</td>\n",
       "      <td>...</td>\n",
       "      <td>0</td>\n",
       "      <td>0</td>\n",
       "      <td>0</td>\n",
       "      <td>0</td>\n",
       "      <td>0</td>\n",
       "      <td>0</td>\n",
       "      <td>0</td>\n",
       "      <td>0</td>\n",
       "      <td>0</td>\n",
       "      <td>0</td>\n",
       "      <td>0</td>\n",
       "      <td>0</td>\n",
       "      <td>0</td>\n",
       "      <td>0</td>\n",
       "      <td>0</td>\n",
       "      <td>0</td>\n",
       "      <td>0</td>\n",
       "      <td>0</td>\n",
       "      <td>0</td>\n",
       "      <td>0</td>\n",
       "      <td>0</td>\n",
       "      <td>0</td>\n",
       "      <td>0</td>\n",
       "      <td>0</td>\n",
       "      <td>0</td>\n",
       "      <td>0</td>\n",
       "      <td>0</td>\n",
       "      <td>0</td>\n",
       "      <td>0</td>\n",
       "      <td>0</td>\n",
       "      <td>0</td>\n",
       "      <td>0</td>\n",
       "      <td>0</td>\n",
       "      <td>0</td>\n",
       "      <td>0</td>\n",
       "      <td>0</td>\n",
       "      <td>0</td>\n",
       "      <td>0</td>\n",
       "      <td>0</td>\n",
       "      <td>0</td>\n",
       "    </tr>\n",
       "    <tr>\n",
       "      <th>1</th>\n",
       "      <td>0</td>\n",
       "      <td>0</td>\n",
       "      <td>0</td>\n",
       "      <td>0</td>\n",
       "      <td>0</td>\n",
       "      <td>0</td>\n",
       "      <td>0</td>\n",
       "      <td>0</td>\n",
       "      <td>0</td>\n",
       "      <td>0</td>\n",
       "      <td>0</td>\n",
       "      <td>0</td>\n",
       "      <td>0</td>\n",
       "      <td>0</td>\n",
       "      <td>0</td>\n",
       "      <td>0</td>\n",
       "      <td>0</td>\n",
       "      <td>0</td>\n",
       "      <td>0</td>\n",
       "      <td>0</td>\n",
       "      <td>0</td>\n",
       "      <td>0</td>\n",
       "      <td>0</td>\n",
       "      <td>0</td>\n",
       "      <td>0</td>\n",
       "      <td>0</td>\n",
       "      <td>0</td>\n",
       "      <td>0</td>\n",
       "      <td>0</td>\n",
       "      <td>0</td>\n",
       "      <td>0</td>\n",
       "      <td>0</td>\n",
       "      <td>0</td>\n",
       "      <td>0</td>\n",
       "      <td>0</td>\n",
       "      <td>0</td>\n",
       "      <td>0</td>\n",
       "      <td>0</td>\n",
       "      <td>0</td>\n",
       "      <td>0</td>\n",
       "      <td>...</td>\n",
       "      <td>0</td>\n",
       "      <td>0</td>\n",
       "      <td>0</td>\n",
       "      <td>0</td>\n",
       "      <td>0</td>\n",
       "      <td>0</td>\n",
       "      <td>0</td>\n",
       "      <td>0</td>\n",
       "      <td>0</td>\n",
       "      <td>0</td>\n",
       "      <td>0</td>\n",
       "      <td>0</td>\n",
       "      <td>0</td>\n",
       "      <td>0</td>\n",
       "      <td>0</td>\n",
       "      <td>0</td>\n",
       "      <td>0</td>\n",
       "      <td>0</td>\n",
       "      <td>0</td>\n",
       "      <td>0</td>\n",
       "      <td>0</td>\n",
       "      <td>0</td>\n",
       "      <td>0</td>\n",
       "      <td>0</td>\n",
       "      <td>0</td>\n",
       "      <td>0</td>\n",
       "      <td>0</td>\n",
       "      <td>0</td>\n",
       "      <td>0</td>\n",
       "      <td>0</td>\n",
       "      <td>0</td>\n",
       "      <td>0</td>\n",
       "      <td>0</td>\n",
       "      <td>0</td>\n",
       "      <td>0</td>\n",
       "      <td>0</td>\n",
       "      <td>0</td>\n",
       "      <td>0</td>\n",
       "      <td>0</td>\n",
       "      <td>0</td>\n",
       "    </tr>\n",
       "    <tr>\n",
       "      <th>2</th>\n",
       "      <td>0</td>\n",
       "      <td>0</td>\n",
       "      <td>0</td>\n",
       "      <td>0</td>\n",
       "      <td>0</td>\n",
       "      <td>0</td>\n",
       "      <td>0</td>\n",
       "      <td>0</td>\n",
       "      <td>0</td>\n",
       "      <td>0</td>\n",
       "      <td>0</td>\n",
       "      <td>0</td>\n",
       "      <td>0</td>\n",
       "      <td>0</td>\n",
       "      <td>0</td>\n",
       "      <td>0</td>\n",
       "      <td>0</td>\n",
       "      <td>0</td>\n",
       "      <td>0</td>\n",
       "      <td>0</td>\n",
       "      <td>0</td>\n",
       "      <td>0</td>\n",
       "      <td>0</td>\n",
       "      <td>0</td>\n",
       "      <td>0</td>\n",
       "      <td>0</td>\n",
       "      <td>0</td>\n",
       "      <td>0</td>\n",
       "      <td>0</td>\n",
       "      <td>0</td>\n",
       "      <td>0</td>\n",
       "      <td>0</td>\n",
       "      <td>0</td>\n",
       "      <td>0</td>\n",
       "      <td>0</td>\n",
       "      <td>0</td>\n",
       "      <td>0</td>\n",
       "      <td>0</td>\n",
       "      <td>0</td>\n",
       "      <td>0</td>\n",
       "      <td>...</td>\n",
       "      <td>0</td>\n",
       "      <td>0</td>\n",
       "      <td>0</td>\n",
       "      <td>0</td>\n",
       "      <td>0</td>\n",
       "      <td>0</td>\n",
       "      <td>0</td>\n",
       "      <td>0</td>\n",
       "      <td>0</td>\n",
       "      <td>0</td>\n",
       "      <td>0</td>\n",
       "      <td>0</td>\n",
       "      <td>0</td>\n",
       "      <td>0</td>\n",
       "      <td>0</td>\n",
       "      <td>1</td>\n",
       "      <td>1</td>\n",
       "      <td>0</td>\n",
       "      <td>0</td>\n",
       "      <td>0</td>\n",
       "      <td>0</td>\n",
       "      <td>0</td>\n",
       "      <td>0</td>\n",
       "      <td>0</td>\n",
       "      <td>0</td>\n",
       "      <td>0</td>\n",
       "      <td>0</td>\n",
       "      <td>0</td>\n",
       "      <td>0</td>\n",
       "      <td>0</td>\n",
       "      <td>0</td>\n",
       "      <td>0</td>\n",
       "      <td>0</td>\n",
       "      <td>0</td>\n",
       "      <td>0</td>\n",
       "      <td>0</td>\n",
       "      <td>0</td>\n",
       "      <td>0</td>\n",
       "      <td>0</td>\n",
       "      <td>0</td>\n",
       "    </tr>\n",
       "    <tr>\n",
       "      <th>3</th>\n",
       "      <td>0</td>\n",
       "      <td>0</td>\n",
       "      <td>0</td>\n",
       "      <td>0</td>\n",
       "      <td>0</td>\n",
       "      <td>0</td>\n",
       "      <td>0</td>\n",
       "      <td>0</td>\n",
       "      <td>0</td>\n",
       "      <td>0</td>\n",
       "      <td>0</td>\n",
       "      <td>0</td>\n",
       "      <td>0</td>\n",
       "      <td>0</td>\n",
       "      <td>0</td>\n",
       "      <td>0</td>\n",
       "      <td>0</td>\n",
       "      <td>0</td>\n",
       "      <td>0</td>\n",
       "      <td>0</td>\n",
       "      <td>0</td>\n",
       "      <td>0</td>\n",
       "      <td>0</td>\n",
       "      <td>0</td>\n",
       "      <td>0</td>\n",
       "      <td>0</td>\n",
       "      <td>0</td>\n",
       "      <td>0</td>\n",
       "      <td>0</td>\n",
       "      <td>0</td>\n",
       "      <td>0</td>\n",
       "      <td>0</td>\n",
       "      <td>0</td>\n",
       "      <td>0</td>\n",
       "      <td>0</td>\n",
       "      <td>0</td>\n",
       "      <td>0</td>\n",
       "      <td>0</td>\n",
       "      <td>0</td>\n",
       "      <td>0</td>\n",
       "      <td>...</td>\n",
       "      <td>0</td>\n",
       "      <td>0</td>\n",
       "      <td>0</td>\n",
       "      <td>0</td>\n",
       "      <td>0</td>\n",
       "      <td>0</td>\n",
       "      <td>0</td>\n",
       "      <td>0</td>\n",
       "      <td>0</td>\n",
       "      <td>0</td>\n",
       "      <td>0</td>\n",
       "      <td>0</td>\n",
       "      <td>0</td>\n",
       "      <td>0</td>\n",
       "      <td>0</td>\n",
       "      <td>0</td>\n",
       "      <td>0</td>\n",
       "      <td>0</td>\n",
       "      <td>0</td>\n",
       "      <td>0</td>\n",
       "      <td>0</td>\n",
       "      <td>0</td>\n",
       "      <td>0</td>\n",
       "      <td>0</td>\n",
       "      <td>0</td>\n",
       "      <td>0</td>\n",
       "      <td>0</td>\n",
       "      <td>0</td>\n",
       "      <td>0</td>\n",
       "      <td>0</td>\n",
       "      <td>0</td>\n",
       "      <td>0</td>\n",
       "      <td>0</td>\n",
       "      <td>0</td>\n",
       "      <td>0</td>\n",
       "      <td>0</td>\n",
       "      <td>0</td>\n",
       "      <td>0</td>\n",
       "      <td>0</td>\n",
       "      <td>0</td>\n",
       "    </tr>\n",
       "    <tr>\n",
       "      <th>4</th>\n",
       "      <td>0</td>\n",
       "      <td>0</td>\n",
       "      <td>0</td>\n",
       "      <td>0</td>\n",
       "      <td>0</td>\n",
       "      <td>0</td>\n",
       "      <td>0</td>\n",
       "      <td>0</td>\n",
       "      <td>0</td>\n",
       "      <td>0</td>\n",
       "      <td>0</td>\n",
       "      <td>0</td>\n",
       "      <td>0</td>\n",
       "      <td>0</td>\n",
       "      <td>0</td>\n",
       "      <td>0</td>\n",
       "      <td>0</td>\n",
       "      <td>0</td>\n",
       "      <td>0</td>\n",
       "      <td>0</td>\n",
       "      <td>0</td>\n",
       "      <td>0</td>\n",
       "      <td>0</td>\n",
       "      <td>0</td>\n",
       "      <td>0</td>\n",
       "      <td>0</td>\n",
       "      <td>0</td>\n",
       "      <td>0</td>\n",
       "      <td>0</td>\n",
       "      <td>2</td>\n",
       "      <td>0</td>\n",
       "      <td>0</td>\n",
       "      <td>0</td>\n",
       "      <td>0</td>\n",
       "      <td>0</td>\n",
       "      <td>0</td>\n",
       "      <td>0</td>\n",
       "      <td>0</td>\n",
       "      <td>0</td>\n",
       "      <td>0</td>\n",
       "      <td>...</td>\n",
       "      <td>0</td>\n",
       "      <td>0</td>\n",
       "      <td>0</td>\n",
       "      <td>0</td>\n",
       "      <td>0</td>\n",
       "      <td>0</td>\n",
       "      <td>0</td>\n",
       "      <td>0</td>\n",
       "      <td>0</td>\n",
       "      <td>0</td>\n",
       "      <td>0</td>\n",
       "      <td>0</td>\n",
       "      <td>0</td>\n",
       "      <td>0</td>\n",
       "      <td>0</td>\n",
       "      <td>0</td>\n",
       "      <td>0</td>\n",
       "      <td>0</td>\n",
       "      <td>0</td>\n",
       "      <td>0</td>\n",
       "      <td>0</td>\n",
       "      <td>0</td>\n",
       "      <td>0</td>\n",
       "      <td>0</td>\n",
       "      <td>0</td>\n",
       "      <td>0</td>\n",
       "      <td>0</td>\n",
       "      <td>0</td>\n",
       "      <td>0</td>\n",
       "      <td>0</td>\n",
       "      <td>0</td>\n",
       "      <td>0</td>\n",
       "      <td>0</td>\n",
       "      <td>0</td>\n",
       "      <td>0</td>\n",
       "      <td>0</td>\n",
       "      <td>0</td>\n",
       "      <td>0</td>\n",
       "      <td>0</td>\n",
       "      <td>0</td>\n",
       "    </tr>\n",
       "  </tbody>\n",
       "</table>\n",
       "<p>5 rows × 8000 columns</p>\n",
       "</div>"
      ],
      "text/plain": [
       "   aaron  abandon  abbi  abbott  abc  ...  zero  zip  zombi  zone  zoo\n",
       "0      0        0     0       0    0  ...     0    0      0     0    0\n",
       "1      0        0     0       0    0  ...     0    0      0     0    0\n",
       "2      0        0     0       0    0  ...     0    0      0     0    0\n",
       "3      0        0     0       0    0  ...     0    0      0     0    0\n",
       "4      0        0     0       0    0  ...     0    0      0     0    0\n",
       "\n",
       "[5 rows x 8000 columns]"
      ]
     },
     "execution_count": 202,
     "metadata": {
      "tags": []
     },
     "output_type": "execute_result"
    }
   ],
   "source": [
    "dtm_test.head()"
   ]
  },
  {
   "cell_type": "markdown",
   "metadata": {
    "colab_type": "text",
    "id": "Pe740HVX8zcs"
   },
   "source": [
    "### 6. Create a dictionary to get the count of every label i.e. the key will be label name and value will be the total count of the label. (5 points)\n"
   ]
  },
  {
   "cell_type": "code",
   "execution_count": 203,
   "metadata": {
    "colab": {
     "base_uri": "https://localhost:8080/",
     "height": 119
    },
    "colab_type": "code",
    "id": "H8EmkUWM8zcs",
    "outputId": "b2b27238-dcd1-4a14-9d09-9086b87eec19"
   },
   "outputs": [
    {
     "data": {
      "text/plain": [
       "287357                  [female, 14, indUnk, Leo]\n",
       "70618              [female, 17, indUnk, Aquarius]\n",
       "359824    [female, 38, BusinessServices, Scorpio]\n",
       "14508     [female, 25, Museums-Libraries, Gemini]\n",
       "97790            [female, 24, Government, Taurus]\n",
       "Name: labels, dtype: object"
      ]
     },
     "execution_count": 203,
     "metadata": {
      "tags": []
     },
     "output_type": "execute_result"
    }
   ],
   "source": [
    "y_train.head()"
   ]
  },
  {
   "cell_type": "code",
   "execution_count": 204,
   "metadata": {
    "colab": {
     "base_uri": "https://localhost:8080/",
     "height": 119
    },
    "colab_type": "code",
    "id": "dQ1e9kPJ8zct",
    "outputId": "48bab7f0-54b2-4a1b-f664-1d6d2600ea89"
   },
   "outputs": [
    {
     "data": {
      "text/plain": [
       "39394                     [male, 25, Arts, Cancer]\n",
       "526188              [male, 36, Non-Profit, Pisces]\n",
       "15077     [male, 23, Communications-Media, Cancer]\n",
       "527201              [male, 16, Chemicals, Scorpio]\n",
       "506149                    [male, 27, Arts, Taurus]\n",
       "Name: labels, dtype: object"
      ]
     },
     "execution_count": 204,
     "metadata": {
      "tags": []
     },
     "output_type": "execute_result"
    }
   ],
   "source": [
    "y_test.head()"
   ]
  },
  {
   "cell_type": "code",
   "execution_count": 205,
   "metadata": {
    "colab": {
     "base_uri": "https://localhost:8080/",
     "height": 34
    },
    "colab_type": "code",
    "id": "5vc1LOj58zcv",
    "outputId": "16c5b069-568c-4d86-cdc9-dac2fa72ccb5"
   },
   "outputs": [
    {
     "data": {
      "text/plain": [
       "(50100,)"
      ]
     },
     "execution_count": 205,
     "metadata": {
      "tags": []
     },
     "output_type": "execute_result"
    }
   ],
   "source": [
    "(y_train.append(y_test)).shape"
   ]
  },
  {
   "cell_type": "code",
   "execution_count": 0,
   "metadata": {
    "colab": {},
    "colab_type": "code",
    "id": "d0G4wlsR8zcw"
   },
   "outputs": [],
   "source": [
    "#Dictionary to find count of each label in the multiclass label \n",
    "\n",
    "from collections import defaultdict\n",
    "label_counts = defaultdict(int)\n",
    "for label in y_train.append(y_test):\n",
    "    for item in label:\n",
    "        label_counts[item]+= 1"
   ]
  },
  {
   "cell_type": "code",
   "execution_count": 207,
   "metadata": {
    "colab": {
     "base_uri": "https://localhost:8080/",
     "height": 1000
    },
    "colab_type": "code",
    "id": "jJ0zsp1m8zcy",
    "outputId": "8bef698d-d4ac-44b3-a790-059bf534e54f"
   },
   "outputs": [
    {
     "name": "stdout",
     "output_type": "stream",
     "text": [
      "female : 22996\n",
      "14 : 775\n",
      "indUnk : 1670\n",
      "Leo : 4062\n",
      "17 : 3342\n",
      "Aquarius : 4050\n",
      "38 : 364\n",
      "BusinessServices : 1670\n",
      "Scorpio : 4330\n",
      "25 : 6370\n",
      "Museums-Libraries : 1670\n",
      "Gemini : 4088\n",
      "24 : 6425\n",
      "Government : 1670\n",
      "Taurus : 4653\n",
      "23 : 6543\n",
      "Advertising : 1670\n",
      "Marketing : 1670\n",
      "Capricorn : 3405\n",
      "16 : 2139\n",
      "Religion : 1670\n",
      "Sagittarius : 4135\n",
      "male : 27104\n",
      "Non-Profit : 1670\n",
      "Engineering : 1670\n",
      "Virgo : 4495\n",
      "36 : 2364\n",
      "RealEstate : 1670\n",
      "47 : 464\n",
      "46 : 714\n",
      "Accounting : 1670\n",
      "34 : 1441\n",
      "Military : 1670\n",
      "Student : 1670\n",
      "Arts : 1670\n",
      "Chemicals : 1670\n",
      "Cancer : 4485\n",
      "27 : 4206\n",
      "Manufacturing : 1670\n",
      "Fashion : 1670\n",
      "Libra : 3587\n",
      "HumanResources : 1670\n",
      "Communications-Media : 1670\n",
      "26 : 5271\n",
      "Education : 1670\n",
      "33 : 1924\n",
      "Pisces : 4024\n",
      "Publishing : 1670\n",
      "Law : 1670\n",
      "43 : 428\n",
      "Internet : 1670\n",
      "Aries : 4786\n",
      "Technology : 1670\n",
      "39 : 629\n",
      "Science : 1670\n",
      "35 : 1700\n",
      "37 : 991\n",
      "Banking : 1670\n",
      "Sports-Recreation : 1670\n",
      "Telecommunications : 1670\n",
      "Transportation : 1670\n",
      "40 : 439\n",
      "13 : 412\n",
      "42 : 254\n",
      "Consulting : 1670\n",
      "15 : 1342\n",
      "45 : 422\n",
      "44 : 199\n",
      "41 : 430\n",
      "48 : 512\n"
     ]
    }
   ],
   "source": [
    "for key in label_counts:\n",
    "    print(\"{} : {}\".format(key, label_counts.get(key)))"
   ]
  },
  {
   "cell_type": "code",
   "execution_count": 208,
   "metadata": {
    "colab": {
     "base_uri": "https://localhost:8080/",
     "height": 54
    },
    "colab_type": "code",
    "id": "2uUy03Eh8zcz",
    "outputId": "76085569-9d01-4091-f399-1dc5202e9ede"
   },
   "outputs": [
    {
     "data": {
      "text/plain": [
       "dict_keys(['female', '14', 'indUnk', 'Leo', '17', 'Aquarius', '38', 'BusinessServices', 'Scorpio', '25', 'Museums-Libraries', 'Gemini', '24', 'Government', 'Taurus', '23', 'Advertising', 'Marketing', 'Capricorn', '16', 'Religion', 'Sagittarius', 'male', 'Non-Profit', 'Engineering', 'Virgo', '36', 'RealEstate', '47', '46', 'Accounting', '34', 'Military', 'Student', 'Arts', 'Chemicals', 'Cancer', '27', 'Manufacturing', 'Fashion', 'Libra', 'HumanResources', 'Communications-Media', '26', 'Education', '33', 'Pisces', 'Publishing', 'Law', '43', 'Internet', 'Aries', 'Technology', '39', 'Science', '35', '37', 'Banking', 'Sports-Recreation', 'Telecommunications', 'Transportation', '40', '13', '42', 'Consulting', '15', '45', '44', '41', '48'])"
      ]
     },
     "execution_count": 208,
     "metadata": {
      "tags": []
     },
     "output_type": "execute_result"
    }
   ],
   "source": [
    "label_counts.keys()"
   ]
  },
  {
   "cell_type": "markdown",
   "metadata": {
    "colab_type": "text",
    "id": "OKvaNVrr8zc4"
   },
   "source": [
    "### 7. Transform the labels - (7.5 points)"
   ]
  },
  {
   "cell_type": "markdown",
   "metadata": {
    "colab_type": "text",
    "id": "8cdqXn2O8zc4"
   },
   "source": [
    "- As we have noticed before, in this task each example can have multiple tags. To deal with\n",
    "such kind of prediction, we need to transform labels in a binary form and the prediction will be\n",
    "a mask of 0s and 1s. For this purpose, it is convenient to use MultiLabelBinarizer from sklearn"
   ]
  },
  {
   "cell_type": "markdown",
   "metadata": {
    "colab_type": "text",
    "id": "Mh0jl64I8zc4"
   },
   "source": [
    "#### a. Convert your train and test labels using MultiLabelBinarizer"
   ]
  },
  {
   "cell_type": "code",
   "execution_count": 0,
   "metadata": {
    "colab": {},
    "colab_type": "code",
    "id": "ZcKS_hh78zc5"
   },
   "outputs": [],
   "source": [
    "mlb = MultiLabelBinarizer(classes = sorted(label_counts.keys()))"
   ]
  },
  {
   "cell_type": "code",
   "execution_count": 0,
   "metadata": {
    "colab": {},
    "colab_type": "code",
    "id": "qv8aTvVf8zc7"
   },
   "outputs": [],
   "source": [
    "y_train_mlb = mlb.fit_transform(y_train)"
   ]
  },
  {
   "cell_type": "code",
   "execution_count": 0,
   "metadata": {
    "colab": {},
    "colab_type": "code",
    "id": "cpgOlUT28zc-"
   },
   "outputs": [],
   "source": [
    "y_test_mlb = mlb.fit_transform(y_test)"
   ]
  },
  {
   "cell_type": "code",
   "execution_count": 212,
   "metadata": {
    "colab": {
     "base_uri": "https://localhost:8080/",
     "height": 238
    },
    "colab_type": "code",
    "id": "uZa8mrik8zdA",
    "outputId": "52262fe6-7852-4e10-916f-0c1b094e4e3b"
   },
   "outputs": [
    {
     "data": {
      "text/plain": [
       "array(['13', '14', '15', '16', '17', '23', '24', '25', '26', '27', '33',\n",
       "       '34', '35', '36', '37', '38', '39', '40', '41', '42', '43', '44',\n",
       "       '45', '46', '47', '48', 'Accounting', 'Advertising', 'Aquarius',\n",
       "       'Aries', 'Arts', 'Banking', 'BusinessServices', 'Cancer',\n",
       "       'Capricorn', 'Chemicals', 'Communications-Media', 'Consulting',\n",
       "       'Education', 'Engineering', 'Fashion', 'Gemini', 'Government',\n",
       "       'HumanResources', 'Internet', 'Law', 'Leo', 'Libra',\n",
       "       'Manufacturing', 'Marketing', 'Military', 'Museums-Libraries',\n",
       "       'Non-Profit', 'Pisces', 'Publishing', 'RealEstate', 'Religion',\n",
       "       'Sagittarius', 'Science', 'Scorpio', 'Sports-Recreation',\n",
       "       'Student', 'Taurus', 'Technology', 'Telecommunications',\n",
       "       'Transportation', 'Virgo', 'female', 'indUnk', 'male'],\n",
       "      dtype=object)"
      ]
     },
     "execution_count": 212,
     "metadata": {
      "tags": []
     },
     "output_type": "execute_result"
    }
   ],
   "source": [
    "mlb.classes_"
   ]
  },
  {
   "cell_type": "code",
   "execution_count": 213,
   "metadata": {
    "colab": {
     "base_uri": "https://localhost:8080/",
     "height": 153
    },
    "colab_type": "code",
    "id": "lCgDOsYg8zdC",
    "outputId": "0908834d-ff06-481a-ddb0-69c1efbaabd0"
   },
   "outputs": [
    {
     "data": {
      "text/plain": [
       "array([[0, 1, 0, 0, 0, 0, 0, 0, 0, 0, 0, 0, 0, 0, 0, 0, 0, 0, 0, 0, 0, 0,\n",
       "        0, 0, 0, 0, 0, 0, 0, 0, 0, 0, 0, 0, 0, 0, 0, 0, 0, 0, 0, 0, 0, 0,\n",
       "        0, 0, 1, 0, 0, 0, 0, 0, 0, 0, 0, 0, 0, 0, 0, 0, 0, 0, 0, 0, 0, 0,\n",
       "        0, 1, 1, 0],\n",
       "       [0, 0, 0, 0, 1, 0, 0, 0, 0, 0, 0, 0, 0, 0, 0, 0, 0, 0, 0, 0, 0, 0,\n",
       "        0, 0, 0, 0, 0, 0, 1, 0, 0, 0, 0, 0, 0, 0, 0, 0, 0, 0, 0, 0, 0, 0,\n",
       "        0, 0, 0, 0, 0, 0, 0, 0, 0, 0, 0, 0, 0, 0, 0, 0, 0, 0, 0, 0, 0, 0,\n",
       "        0, 1, 1, 0]])"
      ]
     },
     "execution_count": 213,
     "metadata": {
      "tags": []
     },
     "output_type": "execute_result"
    }
   ],
   "source": [
    "y_train_mlb[0:2]"
   ]
  },
  {
   "cell_type": "code",
   "execution_count": 214,
   "metadata": {
    "colab": {
     "base_uri": "https://localhost:8080/",
     "height": 153
    },
    "colab_type": "code",
    "id": "bmcG1YY78zdE",
    "outputId": "3ae777d6-4fa2-4f24-8742-dc0b61a147c1"
   },
   "outputs": [
    {
     "data": {
      "text/plain": [
       "array([[0, 0, 0, 0, 0, 0, 0, 1, 0, 0, 0, 0, 0, 0, 0, 0, 0, 0, 0, 0, 0, 0,\n",
       "        0, 0, 0, 0, 0, 0, 0, 0, 1, 0, 0, 1, 0, 0, 0, 0, 0, 0, 0, 0, 0, 0,\n",
       "        0, 0, 0, 0, 0, 0, 0, 0, 0, 0, 0, 0, 0, 0, 0, 0, 0, 0, 0, 0, 0, 0,\n",
       "        0, 0, 0, 1],\n",
       "       [0, 0, 0, 0, 0, 0, 0, 0, 0, 0, 0, 0, 0, 1, 0, 0, 0, 0, 0, 0, 0, 0,\n",
       "        0, 0, 0, 0, 0, 0, 0, 0, 0, 0, 0, 0, 0, 0, 0, 0, 0, 0, 0, 0, 0, 0,\n",
       "        0, 0, 0, 0, 0, 0, 0, 0, 1, 1, 0, 0, 0, 0, 0, 0, 0, 0, 0, 0, 0, 0,\n",
       "        0, 0, 0, 1]])"
      ]
     },
     "execution_count": 214,
     "metadata": {
      "tags": []
     },
     "output_type": "execute_result"
    }
   ],
   "source": [
    "y_test_mlb[0:2]"
   ]
  },
  {
   "cell_type": "markdown",
   "metadata": {
    "colab_type": "text",
    "id": "ZaodohUT8zdG"
   },
   "source": [
    "### 8. Choose a classifier - (5 points)"
   ]
  },
  {
   "cell_type": "markdown",
   "metadata": {
    "colab_type": "text",
    "id": "sKhvS1Uw8zdG"
   },
   "source": [
    "- In this task, we suggest using the One-vs-Rest approach, which is implemented in\n",
    "OneVsRestClassifier class. In this approach k classifiers (= number of tags) are trained. As a\n",
    "basic classifier, use LogisticRegression . It is one of the simplest methods, but often it\n",
    "performs good enough in text classification tasks. It might take some time because the\n",
    "number of classifiers to train is large."
   ]
  },
  {
   "cell_type": "markdown",
   "metadata": {
    "colab_type": "text",
    "id": "x4BU9N1v8zdG"
   },
   "source": [
    "#### a. Use a linear classifier of your choice, wrap it up in OneVsRestClassifier to train it on every label"
   ]
  },
  {
   "cell_type": "code",
   "execution_count": 0,
   "metadata": {
    "colab": {},
    "colab_type": "code",
    "id": "zmH9tBf88zdG"
   },
   "outputs": [],
   "source": [
    "logreg_clf = LogisticRegression(solver='lbfgs', max_iter=1000, random_state=42)"
   ]
  },
  {
   "cell_type": "markdown",
   "metadata": {
    "colab_type": "text",
    "id": "h-Y0ah7r8zdI"
   },
   "source": [
    "#### b. One-vs-Rest approach "
   ]
  },
  {
   "cell_type": "code",
   "execution_count": 0,
   "metadata": {
    "colab": {},
    "colab_type": "code",
    "id": "Sowdv8YX8zdI"
   },
   "outputs": [],
   "source": [
    "OnevsRest_clf_bow = OneVsRestClassifier(estimator=logreg_clf)"
   ]
  },
  {
   "cell_type": "markdown",
   "metadata": {
    "colab_type": "text",
    "id": "_tuo4D9g8zdJ"
   },
   "source": [
    "### 9. Fit the classifier, make predictions and get the accuracy (5 points)"
   ]
  },
  {
   "cell_type": "code",
   "execution_count": 217,
   "metadata": {
    "colab": {
     "base_uri": "https://localhost:8080/",
     "height": 187
    },
    "colab_type": "code",
    "id": "yHHtpM5U8zdK",
    "outputId": "e2963aaa-4604-4c18-f6ab-cf7a6e546e24"
   },
   "outputs": [
    {
     "data": {
      "text/plain": [
       "OneVsRestClassifier(estimator=LogisticRegression(C=1.0, class_weight=None,\n",
       "                                                 dual=False, fit_intercept=True,\n",
       "                                                 intercept_scaling=1,\n",
       "                                                 l1_ratio=None, max_iter=1000,\n",
       "                                                 multi_class='auto',\n",
       "                                                 n_jobs=None, penalty='l2',\n",
       "                                                 random_state=42,\n",
       "                                                 solver='lbfgs', tol=0.0001,\n",
       "                                                 verbose=0, warm_start=False),\n",
       "                    n_jobs=None)"
      ]
     },
     "execution_count": 217,
     "metadata": {
      "tags": []
     },
     "output_type": "execute_result"
    }
   ],
   "source": [
    "#Fit the Classifier on on count vectors for Training dataset\n",
    "\n",
    "OnevsRest_clf_bow.fit(X_bow_train, y_train_mlb)"
   ]
  },
  {
   "cell_type": "code",
   "execution_count": 218,
   "metadata": {
    "colab": {
     "base_uri": "https://localhost:8080/",
     "height": 34
    },
    "colab_type": "code",
    "id": "r8FORz2R8zdM",
    "outputId": "5fd38590-bde8-424d-f58a-29141aae35aa"
   },
   "outputs": [
    {
     "data": {
      "text/plain": [
       "0.45072711719418307"
      ]
     },
     "execution_count": 218,
     "metadata": {
      "tags": []
     },
     "output_type": "execute_result"
    }
   ],
   "source": [
    "#classifier's score for training data\n",
    "\n",
    "OnevsRest_clf_bow.score(X_bow_train, y_train_mlb)"
   ]
  },
  {
   "cell_type": "code",
   "execution_count": 219,
   "metadata": {
    "colab": {
     "base_uri": "https://localhost:8080/",
     "height": 34
    },
    "colab_type": "code",
    "id": "A5wVnON88zdO",
    "outputId": "a5627eed-a03d-45a9-ce96-53e089e6b7f4"
   },
   "outputs": [
    {
     "data": {
      "text/plain": [
       "0.12568196939454424"
      ]
     },
     "execution_count": 219,
     "metadata": {
      "tags": []
     },
     "output_type": "execute_result"
    }
   ],
   "source": [
    "#classifier's score for test data\n",
    "\n",
    "OnevsRest_clf_bow.score(X_bow_test, y_test_mlb)"
   ]
  },
  {
   "cell_type": "code",
   "execution_count": 220,
   "metadata": {
    "colab": {
     "base_uri": "https://localhost:8080/",
     "height": 102
    },
    "colab_type": "code",
    "id": "mv13w5oC8zdQ",
    "outputId": "0afdb1e5-e707-4ada-a9be-bd985e3dab65"
   },
   "outputs": [
    {
     "name": "stdout",
     "output_type": "stream",
     "text": [
      "No of Classes in the dataset taken :  70\n",
      "Classes in  the dataset taken are:\n",
      " [ 0  1  2  3  4  5  6  7  8  9 10 11 12 13 14 15 16 17 18 19 20 21 22 23\n",
      " 24 25 26 27 28 29 30 31 32 33 34 35 36 37 38 39 40 41 42 43 44 45 46 47\n",
      " 48 49 50 51 52 53 54 55 56 57 58 59 60 61 62 63 64 65 66 67 68 69]\n"
     ]
    }
   ],
   "source": [
    "#classes present in the multiclass classification\n",
    "\n",
    "print(\"No of Classes in the dataset taken : \",OnevsRest_clf_bow.n_classes_)\n",
    "print(\"Classes in  the dataset taken are:\\n\", OnevsRest_clf_bow.classes_)"
   ]
  },
  {
   "cell_type": "code",
   "execution_count": 0,
   "metadata": {
    "colab": {},
    "colab_type": "code",
    "id": "H99aoRxW8zdS"
   },
   "outputs": [],
   "source": [
    "#Predicted values on count vectors for Test dataset\n",
    "\n",
    "y_pred_bow = OnevsRest_clf_bow.predict(X_bow_test)"
   ]
  },
  {
   "cell_type": "code",
   "execution_count": 222,
   "metadata": {
    "colab": {
     "base_uri": "https://localhost:8080/",
     "height": 136
    },
    "colab_type": "code",
    "id": "Lt4qooX48zdU",
    "outputId": "4e6da3d4-107f-4a4c-e3fa-6355759060c7"
   },
   "outputs": [
    {
     "data": {
      "text/plain": [
       "array([[0, 0, 0, ..., 0, 0, 1],\n",
       "       [0, 0, 0, ..., 1, 0, 0],\n",
       "       [0, 0, 0, ..., 1, 0, 0],\n",
       "       ...,\n",
       "       [0, 0, 0, ..., 1, 0, 0],\n",
       "       [0, 0, 0, ..., 1, 0, 0],\n",
       "       [0, 0, 0, ..., 0, 0, 1]])"
      ]
     },
     "execution_count": 222,
     "metadata": {
      "tags": []
     },
     "output_type": "execute_result"
    }
   ],
   "source": [
    "y_pred_bow"
   ]
  },
  {
   "cell_type": "markdown",
   "metadata": {
    "colab_type": "text",
    "id": "veVAAVkx8zdW"
   },
   "source": [
    "#### a. Print the following\n",
    "- i. Accuracy score\n",
    "- ii. F1 score\n",
    "- iii. Average precision score\n",
    "- iv. Average recall score\n",
    "-  v. Tip: Make sure you are familiar with all of them. How would you expect the\n",
    "things to work for the multi-label scenario? Read about micro/macro/weighted\n",
    "averaging\n",
    "\n",
    "- Three metrics are aavilable for evaluation in multiclass classification - macro, micro and weigted.Here, we are using weighted as the parameter\n",
    "\n",
    "\"macro\" simply calculates the mean of the binary metrics, giving equal weight to each class. In problems where infrequent classes are nonetheless important, macro-averaging may be a means of highlighting their performance. On the other hand, the assumption that all classes are equally important is often untrue, such that macro-averaging will over-emphasize the typically low performance on an infrequent class.\n",
    "\n",
    "\"weighted\" accounts for class imbalance by computing the average of binary metrics in which each class’s score is weighted by its presence in the true data sample.\n",
    "\n",
    "\"micro\" gives each sample-class pair an equal contribution to the overall metric (except as a result of sample-weight). Rather than summing the metric per class, this sums the dividends and divisors that make up the per-class metrics to calculate an overall quotient. Micro-averaging may be preferred in multilabel settings, including multiclass classification where a majority class is to be ignored."
   ]
  },
  {
   "cell_type": "code",
   "execution_count": 223,
   "metadata": {
    "colab": {
     "base_uri": "https://localhost:8080/",
     "height": 1000
    },
    "colab_type": "code",
    "id": "RwXSCfze8zdW",
    "outputId": "1fd4325f-5b32-4f33-85d1-af1203e68fdc",
    "scrolled": true
   },
   "outputs": [
    {
     "name": "stdout",
     "output_type": "stream",
     "text": [
      "[[[14893    21]\n",
      "  [  100    16]]\n",
      "\n",
      " [[14758    51]\n",
      "  [  159    62]]\n",
      "\n",
      " [[14523   126]\n",
      "  [  315    66]]\n",
      "\n",
      " [[14175   200]\n",
      "  [  492   163]]\n",
      "\n",
      " [[13684   304]\n",
      "  [  684   358]]\n",
      "\n",
      " [[12192   834]\n",
      "  [ 1507   497]]\n",
      "\n",
      " [[12421   776]\n",
      "  [ 1378   455]]\n",
      "\n",
      " [[12358   710]\n",
      "  [ 1493   469]]\n",
      "\n",
      " [[12839   647]\n",
      "  [ 1188   356]]\n",
      "\n",
      " [[13280   472]\n",
      "  [  997   281]]\n",
      "\n",
      " [[14306   157]\n",
      "  [  412   155]]\n",
      "\n",
      " [[14466   133]\n",
      "  [  341    90]]\n",
      "\n",
      " [[14351   139]\n",
      "  [  388   152]]\n",
      "\n",
      " [[14151   191]\n",
      "  [  414   274]]\n",
      "\n",
      " [[14643    81]\n",
      "  [  239    67]]\n",
      "\n",
      " [[14910    23]\n",
      "  [   79    18]]\n",
      "\n",
      " [[14791    45]\n",
      "  [  141    53]]\n",
      "\n",
      " [[14872    24]\n",
      "  [  111    23]]\n",
      "\n",
      " [[14880    27]\n",
      "  [  102    21]]\n",
      "\n",
      " [[14939    13]\n",
      "  [   62    16]]\n",
      "\n",
      " [[14870    35]\n",
      "  [   93    32]]\n",
      "\n",
      " [[14946    18]\n",
      "  [   44    22]]\n",
      "\n",
      " [[14864    28]\n",
      "  [  115    23]]\n",
      "\n",
      " [[14790    21]\n",
      "  [   96   123]]\n",
      "\n",
      " [[14862    40]\n",
      "  [   62    66]]\n",
      "\n",
      " [[14842    28]\n",
      "  [   84    76]]\n",
      "\n",
      " [[14395   128]\n",
      "  [  305   202]]\n",
      "\n",
      " [[14398   133]\n",
      "  [  378   121]]\n",
      "\n",
      " [[13320   514]\n",
      "  [  933   263]]\n",
      "\n",
      " [[13058   556]\n",
      "  [ 1027   389]]\n",
      "\n",
      " [[14352   185]\n",
      "  [  456    37]]\n",
      "\n",
      " [[14368   128]\n",
      "  [  348   186]]\n",
      "\n",
      " [[14395   120]\n",
      "  [  405   110]]\n",
      "\n",
      " [[13088   580]\n",
      "  [ 1079   283]]\n",
      "\n",
      " [[13614   398]\n",
      "  [  818   200]]\n",
      "\n",
      " [[14408   128]\n",
      "  [  310   184]]\n",
      "\n",
      " [[14356   186]\n",
      "  [  446    42]]\n",
      "\n",
      " [[14383   161]\n",
      "  [  388    98]]\n",
      "\n",
      " [[14331   192]\n",
      "  [  462    45]]\n",
      "\n",
      " [[14393   142]\n",
      "  [  424    71]]\n",
      "\n",
      " [[14411   101]\n",
      "  [  319   199]]\n",
      "\n",
      " [[13284   510]\n",
      "  [  959   277]]\n",
      "\n",
      " [[14422   133]\n",
      "  [  392    83]]\n",
      "\n",
      " [[14414   134]\n",
      "  [  327   155]]\n",
      "\n",
      " [[14362   175]\n",
      "  [  447    46]]\n",
      "\n",
      " [[14398   158]\n",
      "  [  376    98]]\n",
      "\n",
      " [[13363   476]\n",
      "  [  932   259]]\n",
      "\n",
      " [[13516   403]\n",
      "  [  926   185]]\n",
      "\n",
      " [[14433   129]\n",
      "  [  276   192]]\n",
      "\n",
      " [[14388   154]\n",
      "  [  402    86]]\n",
      "\n",
      " [[14396   151]\n",
      "  [  335   148]]\n",
      "\n",
      " [[14426    79]\n",
      "  [  273   252]]\n",
      "\n",
      " [[14330   199]\n",
      "  [  442    59]]\n",
      "\n",
      " [[13384   432]\n",
      "  [  881   333]]\n",
      "\n",
      " [[14309   157]\n",
      "  [  421   143]]\n",
      "\n",
      " [[14367   133]\n",
      "  [  302   228]]\n",
      "\n",
      " [[14367   134]\n",
      "  [  365   164]]\n",
      "\n",
      " [[13299   496]\n",
      "  [  898   337]]\n",
      "\n",
      " [[14381   163]\n",
      "  [  394    92]]\n",
      "\n",
      " [[13146   536]\n",
      "  [ 1027   321]]\n",
      "\n",
      " [[14406   126]\n",
      "  [  322   176]]\n",
      "\n",
      " [[14337   166]\n",
      "  [  492    35]]\n",
      "\n",
      " [[13148   524]\n",
      "  [ 1062   296]]\n",
      "\n",
      " [[14356   171]\n",
      "  [  470    33]]\n",
      "\n",
      " [[14404   135]\n",
      "  [  370   121]]\n",
      "\n",
      " [[14412   149]\n",
      "  [  265   204]]\n",
      "\n",
      " [[13144   541]\n",
      "  [ 1002   343]]\n",
      "\n",
      " [[ 6039  2046]\n",
      "  [ 2656  4289]]\n",
      "\n",
      " [[14335   187]\n",
      "  [  495    13]]\n",
      "\n",
      " [[ 4289  2656]\n",
      "  [ 2046  6039]]]\n"
     ]
    }
   ],
   "source": [
    "#Multilabel Confusion Matrix\n",
    "\n",
    "print(multilabel_confusion_matrix(y_test_mlb, y_pred_bow))"
   ]
  },
  {
   "cell_type": "code",
   "execution_count": 0,
   "metadata": {
    "colab": {},
    "colab_type": "code",
    "id": "v_jpc0kC8zda"
   },
   "outputs": [],
   "source": [
    "#Classification Report\n",
    "\n",
    "report = classification_report(y_test_mlb, y_pred_bow, output_dict=True, zero_division=1)"
   ]
  },
  {
   "cell_type": "code",
   "execution_count": 0,
   "metadata": {
    "colab": {},
    "colab_type": "code",
    "id": "1h9lOCiK8zdb"
   },
   "outputs": [],
   "source": [
    "#DataFrame to store Classification Report\n",
    "\n",
    "cr_df = pd.DataFrame(report).transpose()"
   ]
  },
  {
   "cell_type": "code",
   "execution_count": 226,
   "metadata": {
    "colab": {
     "base_uri": "https://localhost:8080/",
     "height": 359
    },
    "colab_type": "code",
    "id": "gafgmagA8zdc",
    "outputId": "3cee237b-cc82-4645-9998-11be763188d5"
   },
   "outputs": [
    {
     "data": {
      "text/html": [
       "<div>\n",
       "<style scoped>\n",
       "    .dataframe tbody tr th:only-of-type {\n",
       "        vertical-align: middle;\n",
       "    }\n",
       "\n",
       "    .dataframe tbody tr th {\n",
       "        vertical-align: top;\n",
       "    }\n",
       "\n",
       "    .dataframe thead th {\n",
       "        text-align: right;\n",
       "    }\n",
       "</style>\n",
       "<table border=\"1\" class=\"dataframe\">\n",
       "  <thead>\n",
       "    <tr style=\"text-align: right;\">\n",
       "      <th></th>\n",
       "      <th>precision</th>\n",
       "      <th>recall</th>\n",
       "      <th>f1-score</th>\n",
       "      <th>support</th>\n",
       "    </tr>\n",
       "  </thead>\n",
       "  <tbody>\n",
       "    <tr>\n",
       "      <th>0</th>\n",
       "      <td>0.432432</td>\n",
       "      <td>0.137931</td>\n",
       "      <td>0.209150</td>\n",
       "      <td>116.0</td>\n",
       "    </tr>\n",
       "    <tr>\n",
       "      <th>1</th>\n",
       "      <td>0.548673</td>\n",
       "      <td>0.280543</td>\n",
       "      <td>0.371257</td>\n",
       "      <td>221.0</td>\n",
       "    </tr>\n",
       "    <tr>\n",
       "      <th>2</th>\n",
       "      <td>0.343750</td>\n",
       "      <td>0.173228</td>\n",
       "      <td>0.230366</td>\n",
       "      <td>381.0</td>\n",
       "    </tr>\n",
       "    <tr>\n",
       "      <th>3</th>\n",
       "      <td>0.449036</td>\n",
       "      <td>0.248855</td>\n",
       "      <td>0.320236</td>\n",
       "      <td>655.0</td>\n",
       "    </tr>\n",
       "    <tr>\n",
       "      <th>4</th>\n",
       "      <td>0.540785</td>\n",
       "      <td>0.343570</td>\n",
       "      <td>0.420188</td>\n",
       "      <td>1042.0</td>\n",
       "    </tr>\n",
       "    <tr>\n",
       "      <th>5</th>\n",
       "      <td>0.373403</td>\n",
       "      <td>0.248004</td>\n",
       "      <td>0.298051</td>\n",
       "      <td>2004.0</td>\n",
       "    </tr>\n",
       "    <tr>\n",
       "      <th>6</th>\n",
       "      <td>0.369618</td>\n",
       "      <td>0.248227</td>\n",
       "      <td>0.296997</td>\n",
       "      <td>1833.0</td>\n",
       "    </tr>\n",
       "    <tr>\n",
       "      <th>7</th>\n",
       "      <td>0.397795</td>\n",
       "      <td>0.239042</td>\n",
       "      <td>0.298631</td>\n",
       "      <td>1962.0</td>\n",
       "    </tr>\n",
       "    <tr>\n",
       "      <th>8</th>\n",
       "      <td>0.354935</td>\n",
       "      <td>0.230570</td>\n",
       "      <td>0.279545</td>\n",
       "      <td>1544.0</td>\n",
       "    </tr>\n",
       "    <tr>\n",
       "      <th>9</th>\n",
       "      <td>0.373174</td>\n",
       "      <td>0.219875</td>\n",
       "      <td>0.276711</td>\n",
       "      <td>1278.0</td>\n",
       "    </tr>\n",
       "  </tbody>\n",
       "</table>\n",
       "</div>"
      ],
      "text/plain": [
       "   precision    recall  f1-score  support\n",
       "0   0.432432  0.137931  0.209150    116.0\n",
       "1   0.548673  0.280543  0.371257    221.0\n",
       "2   0.343750  0.173228  0.230366    381.0\n",
       "3   0.449036  0.248855  0.320236    655.0\n",
       "4   0.540785  0.343570  0.420188   1042.0\n",
       "5   0.373403  0.248004  0.298051   2004.0\n",
       "6   0.369618  0.248227  0.296997   1833.0\n",
       "7   0.397795  0.239042  0.298631   1962.0\n",
       "8   0.354935  0.230570  0.279545   1544.0\n",
       "9   0.373174  0.219875  0.276711   1278.0"
      ]
     },
     "execution_count": 226,
     "metadata": {
      "tags": []
     },
     "output_type": "execute_result"
    }
   ],
   "source": [
    "cr_df.head(10)"
   ]
  },
  {
   "cell_type": "code",
   "execution_count": 227,
   "metadata": {
    "colab": {
     "base_uri": "https://localhost:8080/",
     "height": 359
    },
    "colab_type": "code",
    "id": "9FoIvdfb8zde",
    "outputId": "2852ad72-ea3f-4b61-f070-408f7b317428"
   },
   "outputs": [
    {
     "data": {
      "text/html": [
       "<div>\n",
       "<style scoped>\n",
       "    .dataframe tbody tr th:only-of-type {\n",
       "        vertical-align: middle;\n",
       "    }\n",
       "\n",
       "    .dataframe tbody tr th {\n",
       "        vertical-align: top;\n",
       "    }\n",
       "\n",
       "    .dataframe thead th {\n",
       "        text-align: right;\n",
       "    }\n",
       "</style>\n",
       "<table border=\"1\" class=\"dataframe\">\n",
       "  <thead>\n",
       "    <tr style=\"text-align: right;\">\n",
       "      <th></th>\n",
       "      <th>precision</th>\n",
       "      <th>recall</th>\n",
       "      <th>f1-score</th>\n",
       "      <th>support</th>\n",
       "    </tr>\n",
       "  </thead>\n",
       "  <tbody>\n",
       "    <tr>\n",
       "      <th>64</th>\n",
       "      <td>0.472656</td>\n",
       "      <td>0.246436</td>\n",
       "      <td>0.323963</td>\n",
       "      <td>491.0</td>\n",
       "    </tr>\n",
       "    <tr>\n",
       "      <th>65</th>\n",
       "      <td>0.577904</td>\n",
       "      <td>0.434968</td>\n",
       "      <td>0.496350</td>\n",
       "      <td>469.0</td>\n",
       "    </tr>\n",
       "    <tr>\n",
       "      <th>66</th>\n",
       "      <td>0.388009</td>\n",
       "      <td>0.255019</td>\n",
       "      <td>0.307761</td>\n",
       "      <td>1345.0</td>\n",
       "    </tr>\n",
       "    <tr>\n",
       "      <th>67</th>\n",
       "      <td>0.677032</td>\n",
       "      <td>0.617567</td>\n",
       "      <td>0.645934</td>\n",
       "      <td>6945.0</td>\n",
       "    </tr>\n",
       "    <tr>\n",
       "      <th>68</th>\n",
       "      <td>0.065000</td>\n",
       "      <td>0.025591</td>\n",
       "      <td>0.036723</td>\n",
       "      <td>508.0</td>\n",
       "    </tr>\n",
       "    <tr>\n",
       "      <th>69</th>\n",
       "      <td>0.694537</td>\n",
       "      <td>0.746939</td>\n",
       "      <td>0.719785</td>\n",
       "      <td>8085.0</td>\n",
       "    </tr>\n",
       "    <tr>\n",
       "      <th>micro avg</th>\n",
       "      <td>0.513479</td>\n",
       "      <td>0.355472</td>\n",
       "      <td>0.420110</td>\n",
       "      <td>60120.0</td>\n",
       "    </tr>\n",
       "    <tr>\n",
       "      <th>macro avg</th>\n",
       "      <td>0.446151</td>\n",
       "      <td>0.263028</td>\n",
       "      <td>0.327159</td>\n",
       "      <td>60120.0</td>\n",
       "    </tr>\n",
       "    <tr>\n",
       "      <th>weighted avg</th>\n",
       "      <td>0.477907</td>\n",
       "      <td>0.355472</td>\n",
       "      <td>0.400140</td>\n",
       "      <td>60120.0</td>\n",
       "    </tr>\n",
       "    <tr>\n",
       "      <th>samples avg</th>\n",
       "      <td>0.550002</td>\n",
       "      <td>0.355472</td>\n",
       "      <td>0.397759</td>\n",
       "      <td>60120.0</td>\n",
       "    </tr>\n",
       "  </tbody>\n",
       "</table>\n",
       "</div>"
      ],
      "text/plain": [
       "              precision    recall  f1-score  support\n",
       "64             0.472656  0.246436  0.323963    491.0\n",
       "65             0.577904  0.434968  0.496350    469.0\n",
       "66             0.388009  0.255019  0.307761   1345.0\n",
       "67             0.677032  0.617567  0.645934   6945.0\n",
       "68             0.065000  0.025591  0.036723    508.0\n",
       "69             0.694537  0.746939  0.719785   8085.0\n",
       "micro avg      0.513479  0.355472  0.420110  60120.0\n",
       "macro avg      0.446151  0.263028  0.327159  60120.0\n",
       "weighted avg   0.477907  0.355472  0.400140  60120.0\n",
       "samples avg    0.550002  0.355472  0.397759  60120.0"
      ]
     },
     "execution_count": 227,
     "metadata": {
      "tags": []
     },
     "output_type": "execute_result"
    }
   ],
   "source": [
    "cr_df.tail(10)"
   ]
  },
  {
   "cell_type": "code",
   "execution_count": 228,
   "metadata": {
    "colab": {
     "base_uri": "https://localhost:8080/",
     "height": 34
    },
    "colab_type": "code",
    "id": "rJ0fWO3A8zdf",
    "outputId": "ff510cd1-183b-4692-c9d6-7315963648d4"
   },
   "outputs": [
    {
     "name": "stdout",
     "output_type": "stream",
     "text": [
      "0.12568196939454424\n"
     ]
    }
   ],
   "source": [
    "#Accuracy score\n",
    "\n",
    "print(accuracy_score(y_test_mlb, y_pred_bow))"
   ]
  },
  {
   "cell_type": "code",
   "execution_count": 229,
   "metadata": {
    "colab": {
     "base_uri": "https://localhost:8080/",
     "height": 34
    },
    "colab_type": "code",
    "id": "O3FG8Vys8zdh",
    "outputId": "298ad4e6-1241-46d0-8edf-00f3fe6a1565"
   },
   "outputs": [
    {
     "name": "stdout",
     "output_type": "stream",
     "text": [
      "0.4001403630936967\n"
     ]
    }
   ],
   "source": [
    "#F1 score\n",
    "\n",
    "print(f1_score(y_test_mlb, y_pred_bow, average='weighted'))"
   ]
  },
  {
   "cell_type": "code",
   "execution_count": 230,
   "metadata": {
    "colab": {
     "base_uri": "https://localhost:8080/",
     "height": 34
    },
    "colab_type": "code",
    "id": "-dxOfWkg8zdi",
    "outputId": "482309ec-548e-4adc-c75b-4fb49547e363"
   },
   "outputs": [
    {
     "name": "stdout",
     "output_type": "stream",
     "text": [
      "0.4779071044311637\n"
     ]
    }
   ],
   "source": [
    "#Precision score\n",
    "\n",
    "print(precision_score(y_test_mlb, y_pred_bow, average='weighted', zero_division=1))"
   ]
  },
  {
   "cell_type": "code",
   "execution_count": 231,
   "metadata": {
    "colab": {
     "base_uri": "https://localhost:8080/",
     "height": 34
    },
    "colab_type": "code",
    "id": "s_SY3riY8zdj",
    "outputId": "38e77bf2-ba2a-40aa-e1aa-df5aabc13aa2"
   },
   "outputs": [
    {
     "name": "stdout",
     "output_type": "stream",
     "text": [
      "0.3554723885562209\n"
     ]
    }
   ],
   "source": [
    "# Recall score\n",
    "\n",
    "print(recall_score(y_test_mlb, y_pred_bow, average='weighted'))"
   ]
  },
  {
   "cell_type": "code",
   "execution_count": 232,
   "metadata": {
    "colab": {
     "base_uri": "https://localhost:8080/",
     "height": 34
    },
    "colab_type": "code",
    "id": "fS-kO49b8zdk",
    "outputId": "a0b26815-9296-45d4-964a-e6b28e0384da"
   },
   "outputs": [
    {
     "name": "stdout",
     "output_type": "stream",
     "text": [
      "0.2772191923196408\n"
     ]
    }
   ],
   "source": [
    "#Average Precision score\n",
    "\n",
    "print(average_precision_score(y_test_mlb, y_pred_bow, average='weighted'))"
   ]
  },
  {
   "cell_type": "code",
   "execution_count": 233,
   "metadata": {
    "colab": {
     "base_uri": "https://localhost:8080/",
     "height": 34
    },
    "colab_type": "code",
    "id": "hLgoHmi-8zdl",
    "outputId": "fa58d7a3-a9dd-429b-c7cb-9585e3711bfb"
   },
   "outputs": [
    {
     "data": {
      "text/plain": [
       "0.33698344053365553"
      ]
     },
     "execution_count": 233,
     "metadata": {
      "tags": []
     },
     "output_type": "execute_result"
    }
   ],
   "source": [
    "#Average Recall score\n",
    "#support is the number of samples of the true positives that lie in that class.\n",
    "#avearge of the recall for each calss for the suport for the class weighted by total support for all classes\n",
    "\n",
    "sum((cr_df.iloc[0:80]['recall']) * (cr_df.iloc[0:80]['support']))/ sum(cr_df.iloc[0:80]['support'])"
   ]
  },
  {
   "cell_type": "code",
   "execution_count": 234,
   "metadata": {
    "colab": {
     "base_uri": "https://localhost:8080/",
     "height": 34
    },
    "colab_type": "code",
    "id": "z2ODg4cU8zdo",
    "outputId": "8e9ff46d-aafb-48cc-b9fe-f960062435ab"
   },
   "outputs": [
    {
     "name": "stdout",
     "output_type": "stream",
     "text": [
      "0.6272038754006756\n"
     ]
    }
   ],
   "source": [
    "#ROC-AUC score\n",
    "\n",
    "print(roc_auc_score(y_test_mlb, y_pred_bow, average='weighted'))"
   ]
  },
  {
   "cell_type": "markdown",
   "metadata": {
    "colab_type": "text",
    "id": "Z15Oj4EX8zdq"
   },
   "source": [
    "### 10. Print true label and predicted label for any five examples (7.5 points)"
   ]
  },
  {
   "cell_type": "markdown",
   "metadata": {
    "colab_type": "text",
    "id": "jegimhGUlkf8"
   },
   "source": [
    "##### True labels for five examples"
   ]
  },
  {
   "cell_type": "code",
   "execution_count": 235,
   "metadata": {
    "colab": {
     "base_uri": "https://localhost:8080/",
     "height": 136
    },
    "colab_type": "code",
    "id": "pQzl-0038zdq",
    "outputId": "b399679f-fc30-466b-85fb-e803f6a8b3c9"
   },
   "outputs": [
    {
     "data": {
      "text/plain": [
       "array([[0, 0, 0, ..., 0, 0, 1],\n",
       "       [0, 0, 0, ..., 0, 0, 1],\n",
       "       [0, 0, 0, ..., 0, 0, 1],\n",
       "       ...,\n",
       "       [0, 0, 0, ..., 1, 0, 0],\n",
       "       [0, 0, 0, ..., 1, 0, 0],\n",
       "       [0, 0, 0, ..., 1, 0, 0]])"
      ]
     },
     "execution_count": 235,
     "metadata": {
      "tags": []
     },
     "output_type": "execute_result"
    }
   ],
   "source": [
    "y_test_mlb"
   ]
  },
  {
   "cell_type": "code",
   "execution_count": 0,
   "metadata": {
    "colab": {},
    "colab_type": "code",
    "id": "r5rfe_bW8zdr"
   },
   "outputs": [],
   "source": [
    "#Inverse Transform multiclass masked labels to true labels\n",
    "\n",
    "y_test_labels = mlb.inverse_transform(y_test_mlb)"
   ]
  },
  {
   "cell_type": "code",
   "execution_count": 237,
   "metadata": {
    "colab": {
     "base_uri": "https://localhost:8080/",
     "height": 102
    },
    "colab_type": "code",
    "id": "XDmQbqzH8zdt",
    "outputId": "bd600071-09c4-4fbe-973f-0e1c2b24964c"
   },
   "outputs": [
    {
     "data": {
      "text/plain": [
       "[('25', 'Arts', 'Cancer', 'male'),\n",
       " ('36', 'Non-Profit', 'Pisces', 'male'),\n",
       " ('23', 'Cancer', 'Communications-Media', 'male'),\n",
       " ('16', 'Chemicals', 'Scorpio', 'male'),\n",
       " ('27', 'Arts', 'Taurus', 'male')]"
      ]
     },
     "execution_count": 237,
     "metadata": {
      "tags": []
     },
     "output_type": "execute_result"
    }
   ],
   "source": [
    "y_test_labels[0:5]"
   ]
  },
  {
   "cell_type": "code",
   "execution_count": 238,
   "metadata": {
    "colab": {
     "base_uri": "https://localhost:8080/",
     "height": 119
    },
    "colab_type": "code",
    "id": "aDbwM3Kb8zdu",
    "outputId": "51bcef2a-dc53-4e1b-c78b-88a400e96f76"
   },
   "outputs": [
    {
     "data": {
      "text/plain": [
       "39394                     [male, 25, Arts, Cancer]\n",
       "526188              [male, 36, Non-Profit, Pisces]\n",
       "15077     [male, 23, Communications-Media, Cancer]\n",
       "527201              [male, 16, Chemicals, Scorpio]\n",
       "506149                    [male, 27, Arts, Taurus]\n",
       "Name: labels, dtype: object"
      ]
     },
     "execution_count": 238,
     "metadata": {
      "tags": []
     },
     "output_type": "execute_result"
    }
   ],
   "source": [
    "y_test[0:5]"
   ]
  },
  {
   "cell_type": "markdown",
   "metadata": {
    "colab_type": "text",
    "id": "85r76nUomBdn"
   },
   "source": [
    "##### Predicted labels for five examples"
   ]
  },
  {
   "cell_type": "code",
   "execution_count": 239,
   "metadata": {
    "colab": {
     "base_uri": "https://localhost:8080/",
     "height": 136
    },
    "colab_type": "code",
    "id": "MqT_OnYR8zdw",
    "outputId": "8fd59870-f9e1-4cd8-925d-3e55dfab7500"
   },
   "outputs": [
    {
     "data": {
      "text/plain": [
       "array([[0, 0, 0, ..., 0, 0, 1],\n",
       "       [0, 0, 0, ..., 1, 0, 0],\n",
       "       [0, 0, 0, ..., 1, 0, 0],\n",
       "       ...,\n",
       "       [0, 0, 0, ..., 1, 0, 0],\n",
       "       [0, 0, 0, ..., 1, 0, 0],\n",
       "       [0, 0, 0, ..., 0, 0, 1]])"
      ]
     },
     "execution_count": 239,
     "metadata": {
      "tags": []
     },
     "output_type": "execute_result"
    }
   ],
   "source": [
    "y_pred_bow"
   ]
  },
  {
   "cell_type": "code",
   "execution_count": 0,
   "metadata": {
    "colab": {},
    "colab_type": "code",
    "id": "LAgugjq78zdx"
   },
   "outputs": [],
   "source": [
    "#Predicted Probabilities for test dataset\n",
    "\n",
    "proba = OnevsRest_clf_bow.predict_proba(X_bow_test)"
   ]
  },
  {
   "cell_type": "code",
   "execution_count": 241,
   "metadata": {
    "colab": {
     "base_uri": "https://localhost:8080/",
     "height": 323
    },
    "colab_type": "code",
    "id": "MUUMdf9o8zdy",
    "outputId": "000a9995-d5d7-40ee-f502-ec9b12659ba1"
   },
   "outputs": [
    {
     "data": {
      "text/plain": [
       "array([2.92136736e-15, 1.40976583e-16, 1.12716257e-07, 1.21589635e-07,\n",
       "       6.26235002e-08, 1.98224755e-04, 2.35055029e-04, 5.64195094e-06,\n",
       "       7.13047018e-02, 1.30417486e-04, 4.28358710e-05, 2.15947189e-12,\n",
       "       5.41622118e-12, 4.11209872e-03, 2.35463006e-10, 2.26828453e-10,\n",
       "       4.95744374e-11, 5.64602067e-12, 3.94668148e-07, 5.87658495e-15,\n",
       "       1.80522335e-08, 4.31001854e-15, 8.42015746e-16, 5.50729593e-10,\n",
       "       9.45539503e-10, 5.33154385e-11, 4.40084513e-08, 7.54410020e-01,\n",
       "       3.65495087e-07, 1.04790843e-02, 1.90799527e-03, 2.73219544e-09,\n",
       "       1.71646931e-07, 1.45055522e-06, 1.23014955e-07, 4.57315854e-09,\n",
       "       4.96197714e-10, 1.60901735e-05, 7.20784714e-05, 3.25250568e-12,\n",
       "       7.27792029e-06, 3.30436716e-02, 5.13106265e-07, 5.52034235e-13,\n",
       "       2.02055557e-11, 2.58305878e-10, 2.86751069e-01, 7.51970040e-01,\n",
       "       8.69307428e-12, 2.32536223e-08, 6.22887570e-06, 1.50150557e-07,\n",
       "       6.06062063e-07, 4.75292120e-06, 8.12520927e-07, 7.23571056e-09,\n",
       "       1.21739757e-04, 1.82469260e-07, 1.66844678e-06, 5.51692603e-05,\n",
       "       1.57975210e-10, 9.17664307e-07, 3.89003098e-04, 1.97752464e-02,\n",
       "       3.45745451e-07, 1.39125338e-10, 8.43396395e-05, 2.78384865e-01,\n",
       "       4.75690836e-09, 7.21615135e-01])"
      ]
     },
     "execution_count": 241,
     "metadata": {
      "tags": []
     },
     "output_type": "execute_result"
    }
   ],
   "source": [
    "proba[0]"
   ]
  },
  {
   "cell_type": "code",
   "execution_count": 0,
   "metadata": {
    "colab": {},
    "colab_type": "code",
    "id": "6xC1IZEY8zd0"
   },
   "outputs": [],
   "source": [
    "#Inverse Transform multiclass probabilities to predicted labels usingig the probabilities above 0.5 threshold\n",
    "\n",
    "bitarray = OnevsRest_clf_bow.label_binarizer_.inverse_transform(proba, threshold=0.5)\n",
    "classnames = mlb.inverse_transform(bitarray)"
   ]
  },
  {
   "cell_type": "code",
   "execution_count": 243,
   "metadata": {
    "colab": {
     "base_uri": "https://localhost:8080/",
     "height": 119
    },
    "colab_type": "code",
    "id": "neF50AQa8zd1",
    "outputId": "4605abc5-e910-4340-f40e-8e81e655a47d"
   },
   "outputs": [
    {
     "data": {
      "text/plain": [
       "[('Advertising', 'Libra', 'male'),\n",
       " ('24', 'Marketing', 'female'),\n",
       " ('female',),\n",
       " ('male',),\n",
       " ('27', 'Arts', 'Taurus', 'male'),\n",
       " ('male',)]"
      ]
     },
     "execution_count": 243,
     "metadata": {
      "tags": []
     },
     "output_type": "execute_result"
    }
   ],
   "source": [
    "classnames[0:6]"
   ]
  },
  {
   "cell_type": "code",
   "execution_count": 0,
   "metadata": {
    "colab": {},
    "colab_type": "code",
    "id": "ri_3g4Gs8zd2"
   },
   "outputs": [],
   "source": [
    "#Inverse Transform multiclass masked labels to predicted labels\n",
    "\n",
    "y_pred_labels = mlb.inverse_transform(y_pred_bow)"
   ]
  },
  {
   "cell_type": "code",
   "execution_count": 245,
   "metadata": {
    "colab": {
     "base_uri": "https://localhost:8080/",
     "height": 119
    },
    "colab_type": "code",
    "id": "MjK_qr7b8zd3",
    "outputId": "51eefd05-6178-437c-828e-50a187ae3bd7"
   },
   "outputs": [
    {
     "data": {
      "text/plain": [
       "[('Advertising', 'Libra', 'male'),\n",
       " ('24', 'Marketing', 'female'),\n",
       " ('female',),\n",
       " ('male',),\n",
       " ('27', 'Arts', 'Taurus', 'male'),\n",
       " ('male',)]"
      ]
     },
     "execution_count": 245,
     "metadata": {
      "tags": []
     },
     "output_type": "execute_result"
    }
   ],
   "source": [
    "y_pred_labels[0:6]"
   ]
  },
  {
   "cell_type": "markdown",
   "metadata": {
    "colab_type": "text",
    "id": "rlHTXev5rLpo"
   },
   "source": [
    "#### Observation:\n",
    " - __Train accuracy is 45% and Test accuracy is 12.5%__\n",
    " - We are not able to get good accuracy when we are applying Bag Of Words model using count vectorizer to extract features\n",
    " - When we are combining four different target columns having 70 classes, the classifier is not able to predict the classes accurately\n",
    " - One reason for the mis-classification could be, age being one of the multilabels which has discrete values and not categorical\n",
    " - If we consider only of the features like gender or topic as a target for classification, we could see good accuracy\n",
    " - Combining only gender and topic or sign and topic for multiclass classification could better the results.\n",
    " - If the number of classes are less the prediction will be good and we can get better results\n"
   ]
  }
 ],
 "metadata": {
  "accelerator": "GPU",
  "colab": {
   "collapsed_sections": [],
   "machine_shape": "hm",
   "name": "Statistical NLP-Project-1_R8_V3.ipynb",
   "provenance": []
  },
  "kernelspec": {
   "display_name": "Python 3",
   "language": "python",
   "name": "python3"
  },
  "language_info": {
   "codemirror_mode": {
    "name": "ipython",
    "version": 3
   },
   "file_extension": ".py",
   "mimetype": "text/x-python",
   "name": "python",
   "nbconvert_exporter": "python",
   "pygments_lexer": "ipython3",
   "version": "3.7.3"
  }
 },
 "nbformat": 4,
 "nbformat_minor": 1
}
