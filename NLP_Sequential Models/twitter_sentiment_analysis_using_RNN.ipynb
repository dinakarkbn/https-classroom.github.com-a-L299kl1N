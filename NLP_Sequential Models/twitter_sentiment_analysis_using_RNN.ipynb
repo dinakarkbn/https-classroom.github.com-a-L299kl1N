{
  "nbformat": 4,
  "nbformat_minor": 0,
  "metadata": {
    "colab": {
      "name": "twitter_sentiment_analysis_using_RNN.ipynb",
      "provenance": [],
      "collapsed_sections": []
    },
    "kernelspec": {
      "name": "python3",
      "display_name": "Python 3"
    },
    "accelerator": "GPU"
  },
  "cells": [
    {
      "cell_type": "markdown",
      "metadata": {
        "id": "_EdaPtvpaC2d",
        "colab_type": "text"
      },
      "source": [
        "# Predict the sentiment of various tweets using RNN\n",
        "- Use Recurrent Neural networks to predict the sentiment of various tweets. We would like to predict the tweets as positive or negative. There are around 1600000 tweets to train\n"
      ]
    },
    {
      "cell_type": "markdown",
      "metadata": {
        "id": "1u1cMYc24S7o",
        "colab_type": "text"
      },
      "source": [
        "### Setup Environment"
      ]
    },
    {
      "cell_type": "code",
      "metadata": {
        "id": "HV8rXQ8H4N09",
        "colab_type": "code",
        "colab": {
          "base_uri": "https://localhost:8080/",
          "height": 34
        },
        "outputId": "487916ac-af45-4c62-a543-8de4e7b3a291"
      },
      "source": [
        "from google.colab import drive\n",
        "drive.mount('/content/drive')"
      ],
      "execution_count": null,
      "outputs": [
        {
          "output_type": "stream",
          "text": [
            "Drive already mounted at /content/drive; to attempt to forcibly remount, call drive.mount(\"/content/drive\", force_remount=True).\n"
          ],
          "name": "stdout"
        }
      ]
    },
    {
      "cell_type": "code",
      "metadata": {
        "id": "VH_j1bUA4f2l",
        "colab_type": "code",
        "colab": {
          "base_uri": "https://localhost:8080/",
          "height": 34
        },
        "outputId": "784638d8-1470-4bc4-9268-deda92885cc9"
      },
      "source": [
        "# import all libraries\n",
        "import tensorflow as tf\n",
        "import keras\n",
        "from keras.models import Sequential\n",
        "from keras.layers import Dense, Activation, Dropout\n",
        "from keras.layers.convolutional import Conv1D\n",
        "from keras.preprocessing.text import Tokenizer\n",
        "from keras.preprocessing.sequence import pad_sequences\n",
        "\n",
        "from sklearn.model_selection import train_test_split\n",
        "\n",
        "import pandas as pd\n",
        "import numpy as np\n",
        "from zipfile import ZipFile\n",
        "\n",
        "import spacy\n",
        "nlp=spacy.load(\"en\")"
      ],
      "execution_count": null,
      "outputs": [
        {
          "output_type": "stream",
          "text": [
            "Using TensorFlow backend.\n"
          ],
          "name": "stderr"
        }
      ]
    },
    {
      "cell_type": "code",
      "metadata": {
        "id": "wOvIMatQP7JC",
        "colab_type": "code",
        "colab": {
          "base_uri": "https://localhost:8080/",
          "height": 34
        },
        "outputId": "5ea649d9-a887-41b9-907a-6e7508a5761f"
      },
      "source": [
        "print(\"Num GPUs Available: \", len(tf.config.experimental.list_physical_devices('GPU')))"
      ],
      "execution_count": null,
      "outputs": [
        {
          "output_type": "stream",
          "text": [
            "Num GPUs Available:  1\n"
          ],
          "name": "stdout"
        }
      ]
    },
    {
      "cell_type": "markdown",
      "metadata": {
        "colab_type": "text",
        "id": "s_dne177u_0T"
      },
      "source": [
        "### Load Data"
      ]
    },
    {
      "cell_type": "code",
      "metadata": {
        "id": "3zA58tbOF4qk",
        "colab_type": "code",
        "colab": {
          "base_uri": "https://localhost:8080/",
          "height": 306
        },
        "outputId": "af4c0c49-ee45-44be-e8fa-65fcf93cfa3f"
      },
      "source": [
        "!ls -l 'drive/My Drive/AIML/SequentialModels'"
      ],
      "execution_count": null,
      "outputs": [
        {
          "output_type": "stream",
          "text": [
            "total 744130\n",
            "-rw------- 1 root root      2182 Apr 12 03:41  airline-passengers.csv\n",
            "-rw------- 1 root root 743069095 Jun 26 12:31  glove.twitter.27B.200d.rar\n",
            "-rw------- 1 root root    183904 Apr 12 07:48 'google (1).csv'\n",
            "-rw------- 1 root root    280087 Jul  3 14:31  Lab0_Word2vec_gensim_movie_data.ipynb\n",
            "-rw------- 1 root root    215350 Jun  1 05:37 'Lab1_TimeSeries - Air Passengers Traffic.ipynb'\n",
            "-rw------- 1 root root    186016 Apr 12 03:41  Lab2_stockPriceDirectionPrediction_v2.ipynb\n",
            "-rw------- 1 root root  13585269 Dec 10  2019  labeledTrainData.tsv.zip\n",
            "-rw------- 1 root root      8544 Apr 12 03:41 'LSTM Sentiment Analysis Kaggle.ipynb'\n",
            "-rw------- 1 root root    459888 Jun  1 05:54  Predict_Air_Passengers_Traffic_TS.ipynb\n",
            "-rw------- 1 root root    469419 Jun  9 05:26  Predict_TractorSales_TS.ipynb\n",
            "-rw------- 1 root root    481330 Jun  3 17:25  Predict_WSBSales_TS.ipynb\n",
            "drwx------ 2 root root      4096 Jun  1 03:23  savedModels\n",
            "-rw------- 1 root root      1763 Apr 12 07:48  Tractor-Sales.csv\n",
            "-rw------- 1 root root   2989873 Jun 26 03:24  training.1600000.processed.noemoticon.csv\n",
            "-rw------- 1 root root     46887 Jul  4 12:27  twitter_sentiment_analysis_using_RNN.ipynb\n",
            "-rw------- 1 root root       915 Apr 12 07:48  wsbSalesData.csv\n"
          ],
          "name": "stdout"
        }
      ]
    },
    {
      "cell_type": "code",
      "metadata": {
        "id": "ETNQUo5J46ob",
        "colab_type": "code",
        "colab": {
          "base_uri": "https://localhost:8080/",
          "height": 34
        },
        "outputId": "30a46c32-8635-4109-ea86-1552ec9d0111"
      },
      "source": [
        "train = pd.read_csv('/content/drive/My Drive/AIML/SequentialModels/training.1600000.processed.noemoticon.csv',encoding= \"latin-1\")\n",
        "train.shape"
      ],
      "execution_count": null,
      "outputs": [
        {
          "output_type": "execute_result",
          "data": {
            "text/plain": [
              "(19999, 6)"
            ]
          },
          "metadata": {
            "tags": []
          },
          "execution_count": 6
        }
      ]
    },
    {
      "cell_type": "code",
      "metadata": {
        "id": "62oMNvLyaqog",
        "colab_type": "code",
        "colab": {
          "base_uri": "https://localhost:8080/",
          "height": 162
        },
        "outputId": "5d1b27fd-a023-4d7f-c2a3-4e57d2efcb61"
      },
      "source": [
        "train.head(2)"
      ],
      "execution_count": null,
      "outputs": [
        {
          "output_type": "execute_result",
          "data": {
            "text/html": [
              "<div>\n",
              "<style scoped>\n",
              "    .dataframe tbody tr th:only-of-type {\n",
              "        vertical-align: middle;\n",
              "    }\n",
              "\n",
              "    .dataframe tbody tr th {\n",
              "        vertical-align: top;\n",
              "    }\n",
              "\n",
              "    .dataframe thead th {\n",
              "        text-align: right;\n",
              "    }\n",
              "</style>\n",
              "<table border=\"1\" class=\"dataframe\">\n",
              "  <thead>\n",
              "    <tr style=\"text-align: right;\">\n",
              "      <th></th>\n",
              "      <th>0</th>\n",
              "      <th>1467810369</th>\n",
              "      <th>Mon Apr 06 22:19:45 PDT 2009</th>\n",
              "      <th>NO_QUERY</th>\n",
              "      <th>_TheSpecialOne_</th>\n",
              "      <th>@switchfoot http://twitpic.com/2y1zl - Awww, that's a bummer.  You shoulda got David Carr of Third Day to do it. ;D</th>\n",
              "    </tr>\n",
              "  </thead>\n",
              "  <tbody>\n",
              "    <tr>\n",
              "      <th>0</th>\n",
              "      <td>0</td>\n",
              "      <td>1467810672</td>\n",
              "      <td>Mon Apr 06 22:19:49 PDT 2009</td>\n",
              "      <td>NO_QUERY</td>\n",
              "      <td>scotthamilton</td>\n",
              "      <td>is upset that he can't update his Facebook by ...</td>\n",
              "    </tr>\n",
              "    <tr>\n",
              "      <th>1</th>\n",
              "      <td>0</td>\n",
              "      <td>1467810917</td>\n",
              "      <td>Mon Apr 06 22:19:53 PDT 2009</td>\n",
              "      <td>NO_QUERY</td>\n",
              "      <td>mattycus</td>\n",
              "      <td>@Kenichan I dived many times for the ball. Man...</td>\n",
              "    </tr>\n",
              "  </tbody>\n",
              "</table>\n",
              "</div>"
            ],
            "text/plain": [
              "   0  ...  @switchfoot http://twitpic.com/2y1zl - Awww, that's a bummer.  You shoulda got David Carr of Third Day to do it. ;D\n",
              "0  0  ...  is upset that he can't update his Facebook by ...                                                                  \n",
              "1  0  ...  @Kenichan I dived many times for the ball. Man...                                                                  \n",
              "\n",
              "[2 rows x 6 columns]"
            ]
          },
          "metadata": {
            "tags": []
          },
          "execution_count": 7
        }
      ]
    },
    {
      "cell_type": "markdown",
      "metadata": {
        "id": "TVCOoLA4D6b0",
        "colab_type": "text"
      },
      "source": [
        "### Data Preprocessing"
      ]
    },
    {
      "cell_type": "code",
      "metadata": {
        "id": "GtF9lDhNLeud",
        "colab_type": "code",
        "colab": {
          "base_uri": "https://localhost:8080/",
          "height": 297
        },
        "outputId": "caab089e-7cbf-45d2-fb76-b748002a06d2"
      },
      "source": [
        "train.describe()"
      ],
      "execution_count": null,
      "outputs": [
        {
          "output_type": "execute_result",
          "data": {
            "text/html": [
              "<div>\n",
              "<style scoped>\n",
              "    .dataframe tbody tr th:only-of-type {\n",
              "        vertical-align: middle;\n",
              "    }\n",
              "\n",
              "    .dataframe tbody tr th {\n",
              "        vertical-align: top;\n",
              "    }\n",
              "\n",
              "    .dataframe thead th {\n",
              "        text-align: right;\n",
              "    }\n",
              "</style>\n",
              "<table border=\"1\" class=\"dataframe\">\n",
              "  <thead>\n",
              "    <tr style=\"text-align: right;\">\n",
              "      <th></th>\n",
              "      <th>0</th>\n",
              "      <th>1467810369</th>\n",
              "    </tr>\n",
              "  </thead>\n",
              "  <tbody>\n",
              "    <tr>\n",
              "      <th>count</th>\n",
              "      <td>19999.00000</td>\n",
              "      <td>1.999900e+04</td>\n",
              "    </tr>\n",
              "    <tr>\n",
              "      <th>mean</th>\n",
              "      <td>2.00030</td>\n",
              "      <td>1.836369e+09</td>\n",
              "    </tr>\n",
              "    <tr>\n",
              "      <th>std</th>\n",
              "      <td>2.00005</td>\n",
              "      <td>3.565963e+08</td>\n",
              "    </tr>\n",
              "    <tr>\n",
              "      <th>min</th>\n",
              "      <td>0.00000</td>\n",
              "      <td>1.467811e+09</td>\n",
              "    </tr>\n",
              "    <tr>\n",
              "      <th>25%</th>\n",
              "      <td>0.00000</td>\n",
              "      <td>1.468964e+09</td>\n",
              "    </tr>\n",
              "    <tr>\n",
              "      <th>50%</th>\n",
              "      <td>4.00000</td>\n",
              "      <td>2.191325e+09</td>\n",
              "    </tr>\n",
              "    <tr>\n",
              "      <th>75%</th>\n",
              "      <td>4.00000</td>\n",
              "      <td>2.192272e+09</td>\n",
              "    </tr>\n",
              "    <tr>\n",
              "      <th>max</th>\n",
              "      <td>4.00000</td>\n",
              "      <td>2.193602e+09</td>\n",
              "    </tr>\n",
              "  </tbody>\n",
              "</table>\n",
              "</div>"
            ],
            "text/plain": [
              "                 0    1467810369\n",
              "count  19999.00000  1.999900e+04\n",
              "mean       2.00030  1.836369e+09\n",
              "std        2.00005  3.565963e+08\n",
              "min        0.00000  1.467811e+09\n",
              "25%        0.00000  1.468964e+09\n",
              "50%        4.00000  2.191325e+09\n",
              "75%        4.00000  2.192272e+09\n",
              "max        4.00000  2.193602e+09"
            ]
          },
          "metadata": {
            "tags": []
          },
          "execution_count": 8
        }
      ]
    },
    {
      "cell_type": "code",
      "metadata": {
        "id": "rnJozpc6n0xM",
        "colab_type": "code",
        "colab": {}
      },
      "source": [
        "# We need only the first and sixth column\n",
        "Y_train = train[train.columns[0]]\n",
        "X_train = train[train.columns[5]]"
      ],
      "execution_count": null,
      "outputs": []
    },
    {
      "cell_type": "code",
      "metadata": {
        "id": "DDHNfmi9uXFk",
        "colab_type": "code",
        "colab": {
          "base_uri": "https://localhost:8080/",
          "height": 68
        },
        "outputId": "db37fe29-ea89-40f4-b0b0-b2513cdd1cc3"
      },
      "source": [
        "X_train.head(2)"
      ],
      "execution_count": null,
      "outputs": [
        {
          "output_type": "execute_result",
          "data": {
            "text/plain": [
              "0    is upset that he can't update his Facebook by ...\n",
              "1    @Kenichan I dived many times for the ball. Man...\n",
              "Name: @switchfoot http://twitpic.com/2y1zl - Awww, that's a bummer.  You shoulda got David Carr of Third Day to do it. ;D, dtype: object"
            ]
          },
          "metadata": {
            "tags": []
          },
          "execution_count": 10
        }
      ]
    },
    {
      "cell_type": "code",
      "metadata": {
        "id": "vN33_p1uukFA",
        "colab_type": "code",
        "colab": {
          "base_uri": "https://localhost:8080/",
          "height": 68
        },
        "outputId": "f8fd9975-7804-4c21-a8d1-070f98ea9e15"
      },
      "source": [
        "Y_train.head(2)"
      ],
      "execution_count": null,
      "outputs": [
        {
          "output_type": "execute_result",
          "data": {
            "text/plain": [
              "0    0\n",
              "1    0\n",
              "Name: 0, dtype: int64"
            ]
          },
          "metadata": {
            "tags": []
          },
          "execution_count": 11
        }
      ]
    },
    {
      "cell_type": "code",
      "metadata": {
        "id": "J-WVOcVW8IAD",
        "colab_type": "code",
        "colab": {
          "base_uri": "https://localhost:8080/",
          "height": 34
        },
        "outputId": "8a2695be-f0e1-40d3-87a5-6978980ff7f3"
      },
      "source": [
        "# Check for null values\n",
        "X_train.isnull().sum(), Y_train.isnull().sum()"
      ],
      "execution_count": null,
      "outputs": [
        {
          "output_type": "execute_result",
          "data": {
            "text/plain": [
              "(0, 0)"
            ]
          },
          "metadata": {
            "tags": []
          },
          "execution_count": 12
        }
      ]
    },
    {
      "cell_type": "code",
      "metadata": {
        "id": "-gjIPy2D-860",
        "colab_type": "code",
        "colab": {
          "base_uri": "https://localhost:8080/",
          "height": 68
        },
        "outputId": "fe36c08d-555b-4824-bebb-0c8f3ede379a"
      },
      "source": [
        "# Check No of Positive and negative tweets and see if dataset is balanced\n",
        "\n",
        "print(Y_train.value_counts())"
      ],
      "execution_count": null,
      "outputs": [
        {
          "output_type": "stream",
          "text": [
            "4    10001\n",
            "0     9998\n",
            "Name: 0, dtype: int64\n"
          ],
          "name": "stdout"
        }
      ]
    },
    {
      "cell_type": "markdown",
      "metadata": {
        "id": "5pJoRDC5Nhr6",
        "colab_type": "text"
      },
      "source": [
        "- The dataset is a balanced dataset with almost equal no of classes.So, the classifier we build will be balanced"
      ]
    },
    {
      "cell_type": "code",
      "metadata": {
        "id": "7jgyppbuMBTS",
        "colab_type": "code",
        "colab": {
          "base_uri": "https://localhost:8080/",
          "height": 221
        },
        "outputId": "f1f94ca0-624f-40ca-b9a7-0c46effcf6ae"
      },
      "source": [
        "# Find similar occurences...look for Generic treats lik Ok, Great, NA etc which have very high occurences\n",
        "# This also helps in finding duplicate data or biased data\n",
        "\n",
        "X_train.value_counts()"
      ],
      "execution_count": null,
      "outputs": [
        {
          "output_type": "execute_result",
          "data": {
            "text/plain": [
              "At work                                                                                                                                    5\n",
              "boys! check out my url for more pics n vids n stuff about me! maybe we can go on a date one day                                            4\n",
              "Good morning!                                                                                                                              4\n",
              "Homework                                                                                                                                   3\n",
              "nothing                                                                                                                                    3\n",
              "                                                                                                                                          ..\n",
              "@forsoothed  if i had it my way id spell it wensday but unfortunatly im not a roman emperor/viking god..so i have no say in the matter     1\n",
              "@CandelaCandela yep, and it's worst because i got my husband sick, too.  we shouldnt have shared that frosty                               1\n",
              "@Axelsrose ( *hits you with a foam bat*  )                                                                                                 1\n",
              "Dreams are nothing but nightmares if you don't accomplish them                                                                             1\n",
              "I can has migraine?                                                                                                                        1\n",
              "Name: @switchfoot http://twitpic.com/2y1zl - Awww, that's a bummer.  You shoulda got David Carr of Third Day to do it. ;D, Length: 19952, dtype: int64"
            ]
          },
          "metadata": {
            "tags": []
          },
          "execution_count": 14
        }
      ]
    },
    {
      "cell_type": "markdown",
      "metadata": {
        "id": "UhaDeidIMiTp",
        "colab_type": "text"
      },
      "source": [
        "- There are no generic tweets with high occurence"
      ]
    },
    {
      "cell_type": "markdown",
      "metadata": {
        "id": "WGuVM7CaEQCH",
        "colab_type": "text"
      },
      "source": [
        "### Split Data"
      ]
    },
    {
      "cell_type": "code",
      "metadata": {
        "id": "qwxiqnh-_n5V",
        "colab_type": "code",
        "colab": {}
      },
      "source": [
        "# split the data into test and train\n",
        "# try to build the model by splitting in the ratio of 85:15 and 70:30\n",
        "\n",
        "trainset1x, trainset2x, trainset1y, trainset2y = train_test_split(X_train.values, Y_train.values, test_size=0.02,random_state=42)"
      ],
      "execution_count": null,
      "outputs": []
    },
    {
      "cell_type": "code",
      "metadata": {
        "id": "urgaACIaYXcj",
        "colab_type": "code",
        "colab": {
          "base_uri": "https://localhost:8080/",
          "height": 51
        },
        "outputId": "ba3935c0-a8e6-49f2-cdd4-8f03df0287e4"
      },
      "source": [
        "# print shapes of test column and target column of the train and test datasets\n",
        "\n",
        "print('trainset1x Size : {}\\t trainset1y Size: {}'.format(trainset1x.shape, trainset1y.shape))\n",
        "print('trainset2x Size : {}\\t trainset2y Size: {}'.format(trainset2x.shape, trainset2y.shape))"
      ],
      "execution_count": null,
      "outputs": [
        {
          "output_type": "stream",
          "text": [
            "trainset1x Size : (19599,)\t trainset1y Size: (19599,)\n",
            "trainset2x Size : (400,)\t trainset2y Size: (400,)\n"
          ],
          "name": "stdout"
        }
      ]
    },
    {
      "cell_type": "code",
      "metadata": {
        "id": "LZC6b1f1Dm0N",
        "colab_type": "code",
        "colab": {
          "base_uri": "https://localhost:8080/",
          "height": 68
        },
        "outputId": "43918413-3afa-433d-d6e9-e053dfe630a3"
      },
      "source": [
        "trainset2x[0:3]"
      ],
      "execution_count": null,
      "outputs": [
        {
          "output_type": "execute_result",
          "data": {
            "text/plain": [
              "array(['2 more Exams ', 'The first serial about my city so stupid... ',\n",
              "       \"@theroser You guys should do your acostic performance at 5! I have a championship meet tomorrow that won't end til then.  -Cami\"],\n",
              "      dtype=object)"
            ]
          },
          "metadata": {
            "tags": []
          },
          "execution_count": 17
        }
      ]
    },
    {
      "cell_type": "code",
      "metadata": {
        "id": "nw6BmiYaGh1u",
        "colab_type": "code",
        "colab": {}
      },
      "source": [
        "# One-Hot encoding of target column, trainset2y\n",
        "\n",
        "trainset2y = pd.get_dummies(trainset2y)"
      ],
      "execution_count": null,
      "outputs": []
    },
    {
      "cell_type": "code",
      "metadata": {
        "id": "oFgK9JMdJEgR",
        "colab_type": "code",
        "colab": {
          "base_uri": "https://localhost:8080/",
          "height": 111
        },
        "outputId": "0b8f41e9-26cd-4c80-fb98-0c5aa9989dd8"
      },
      "source": [
        "trainset2y.head(2)"
      ],
      "execution_count": null,
      "outputs": [
        {
          "output_type": "execute_result",
          "data": {
            "text/html": [
              "<div>\n",
              "<style scoped>\n",
              "    .dataframe tbody tr th:only-of-type {\n",
              "        vertical-align: middle;\n",
              "    }\n",
              "\n",
              "    .dataframe tbody tr th {\n",
              "        vertical-align: top;\n",
              "    }\n",
              "\n",
              "    .dataframe thead th {\n",
              "        text-align: right;\n",
              "    }\n",
              "</style>\n",
              "<table border=\"1\" class=\"dataframe\">\n",
              "  <thead>\n",
              "    <tr style=\"text-align: right;\">\n",
              "      <th></th>\n",
              "      <th>0</th>\n",
              "      <th>4</th>\n",
              "    </tr>\n",
              "  </thead>\n",
              "  <tbody>\n",
              "    <tr>\n",
              "      <th>0</th>\n",
              "      <td>0</td>\n",
              "      <td>1</td>\n",
              "    </tr>\n",
              "    <tr>\n",
              "      <th>1</th>\n",
              "      <td>1</td>\n",
              "      <td>0</td>\n",
              "    </tr>\n",
              "  </tbody>\n",
              "</table>\n",
              "</div>"
            ],
            "text/plain": [
              "   0  4\n",
              "0  0  1\n",
              "1  1  0"
            ]
          },
          "metadata": {
            "tags": []
          },
          "execution_count": 19
        }
      ]
    },
    {
      "cell_type": "markdown",
      "metadata": {
        "id": "u5FXkkgiEltJ",
        "colab_type": "text"
      },
      "source": [
        "### Build Input and Output data\n",
        "for both Training and Test based on the window or past history size"
      ]
    },
    {
      "cell_type": "code",
      "metadata": {
        "id": "7hBy3xWnAA_g",
        "colab_type": "code",
        "colab": {}
      },
      "source": [
        "# function to remove stopwords\n",
        "def stopwords(sentence):\n",
        "  new=[]\n",
        "  sentence=nlp(sentence)\n",
        "  for w in sentence:\n",
        "    if (w.is_stop == False) & (w.pos_ !=\"PUNCT\"):\n",
        "      new.append(w.string.strip())\n",
        "    c=\" \".join(str(x) for x in new)\n",
        "  return c"
      ],
      "execution_count": null,
      "outputs": []
    },
    {
      "cell_type": "code",
      "metadata": {
        "id": "79InAPerA08X",
        "colab_type": "code",
        "colab": {}
      },
      "source": [
        "# function to lemmatize the tweets\n",
        "def lemmatize(sentence):\n",
        "    sentence=nlp(sentence)\n",
        "    #str=\"\"\n",
        "    #for w in sentence:\n",
        "        #str+=\" \"+w.lemma_\n",
        "    \n",
        "    str = \" \".join([token.lemma_ for token in sentence])\n",
        "\n",
        "    return nlp(str)"
      ],
      "execution_count": null,
      "outputs": []
    },
    {
      "cell_type": "code",
      "metadata": {
        "id": "B-csu5cFMqNo",
        "colab_type": "code",
        "colab": {}
      },
      "source": [
        "# loading the glove model\n",
        "\n",
        "def loadGloveModel(gloveFile):\n",
        "    print(\"Loading Glove Model\")\n",
        "    f = open(gloveFile,'r')\n",
        "    model = {}\n",
        "    for line in f:\n",
        "        splitLine = line.split()\n",
        "        word = splitLine[0]\n",
        "        embedding = [float(val) for val in splitLine[1:]]\n",
        "        model[word] = embedding\n",
        "    print (\"Done.\", len(model), \" words loaded!\")\n",
        "    return model"
      ],
      "execution_count": null,
      "outputs": []
    },
    {
      "cell_type": "code",
      "metadata": {
        "id": "-3pakDcPa-pg",
        "colab_type": "code",
        "colab": {}
      },
      "source": [
        "# project path in google drive\n",
        "project_path = \"/content/sample_data/\"\n",
        "\n",
        "# copy rar file of glove model\n",
        "!cp '/content/drive/My Drive/AIML/SequentialModels/glove.twitter.27B.200d.rar' '/content/sample_data/'"
      ],
      "execution_count": null,
      "outputs": []
    },
    {
      "cell_type": "code",
      "metadata": {
        "id": "7Mo44kp-1MSZ",
        "colab_type": "code",
        "colab": {
          "base_uri": "https://localhost:8080/",
          "height": 595
        },
        "outputId": "35b62848-f201-44e9-ecae-a8e7465a2b69"
      },
      "source": [
        "# Extract glovemodel ... use unrar command in linux\n",
        "!ls -l '/content/sample_data'\n",
        "!unrar x '/content/sample_data/glove.twitter.27B.200d.rar' '/content/sample_data/'\n",
        "!ls -l '/content/sample_data'"
      ],
      "execution_count": null,
      "outputs": [
        {
          "output_type": "stream",
          "text": [
            "total 2790536\n",
            "-rwxr-xr-x 1 root root       1697 Jan  1  2000 anscombe.json\n",
            "-rw-r--r-- 1 root root     301141 Jun 26 16:26 california_housing_test.csv\n",
            "-rw-r--r-- 1 root root    1706430 Jun 26 16:26 california_housing_train.csv\n",
            "-rw------- 1 root root  743069095 Jul  4 12:28 glove.twitter.27B.200d.rar\n",
            "-rw-r--r-- 1 root root 2057590469 Oct  2  2019 glove.twitter.27B.200d.txt\n",
            "-rw-r--r-- 1 root root   18289443 Jun 26 16:26 mnist_test.csv\n",
            "-rw-r--r-- 1 root root   36523880 Jun 26 16:26 mnist_train_small.csv\n",
            "-rwxr-xr-x 1 root root        930 Jan  1  2000 README.md\n",
            "\n",
            "UNRAR 5.50 freeware      Copyright (c) 1993-2017 Alexander Roshal\n",
            "\n",
            "\n",
            "Extracting from /content/sample_data/glove.twitter.27B.200d.rar\n",
            "\n",
            "\n",
            "Would you like to replace the existing file /content/sample_data/glove.twitter.27B.200d.txt\n",
            "2057590469 bytes, modified on 2019-10-02 11:14\n",
            "with a new one\n",
            "2057590469 bytes, modified on 2019-10-02 11:14\n",
            "\n",
            "[Y]es, [N]o, [A]ll, n[E]ver, [R]ename, [Q]uit Y\n",
            "\n",
            "Extracting  /content/sample_data/glove.twitter.27B.200d.txt              \b\b\b\b  0%\b\b\b\b  1%\b\b\b\b  2%\b\b\b\b  3%\b\b\b\b  4%\b\b\b\b  5%\b\b\b\b  6%\b\b\b\b  7%\b\b\b\b  8%\b\b\b\b  9%\b\b\b\b 10%\b\b\b\b 11%\b\b\b\b 12%\b\b\b\b 13%\b\b\b\b 14%\b\b\b\b 15%\b\b\b\b 16%\b\b\b\b 17%\b\b\b\b 18%\b\b\b\b 19%\b\b\b\b 20%\b\b\b\b 21%\b\b\b\b 22%\b\b\b\b 23%\b\b\b\b 24%\b\b\b\b 25%\b\b\b\b 26%\b\b\b\b 27%\b\b\b\b 28%\b\b\b\b 29%\b\b\b\b 30%\b\b\b\b 31%\b\b\b\b 32%\b\b\b\b 33%\b\b\b\b 34%\b\b\b\b 35%\b\b\b\b 36%\b\b\b\b 37%\b\b\b\b 38%\b\b\b\b 39%\b\b\b\b 40%\b\b\b\b 41%\b\b\b\b 42%\b\b\b\b 43%\b\b\b\b 44%\b\b\b\b 45%\b\b\b\b 46%\b\b\b\b 47%\b\b\b\b 48%\b\b\b\b 49%\b\b\b\b 50%\b\b\b\b 51%\b\b\b\b 52%\b\b\b\b 53%\b\b\b\b 54%\b\b\b\b 55%\b\b\b\b 56%\b\b\b\b 57%\b\b\b\b 58%\b\b\b\b 59%\b\b\b\b 60%\b\b\b\b 61%\b\b\b\b 62%\b\b\b\b 63%\b\b\b\b 64%\b\b\b\b 65%\b\b\b\b 66%\b\b\b\b 67%\b\b\b\b 68%\b\b\b\b 69%\b\b\b\b 70%\b\b\b\b 71%\b\b\b\b 72%\b\b\b\b 73%\b\b\b\b 74%\b\b\b\b 75%\b\b\b\b 76%\b\b\b\b 77%\b\b\b\b 78%\b\b\b\b 79%\b\b\b\b 80%\b\b\b\b 81%\b\b\b\b 82%\b\b\b\b 83%\b\b\b\b 84%\b\b\b\b 85%\b\b\b\b 86%\b\b\b\b 87%\b\b\b\b 88%\b\b\b\b 89%\b\b\b\b 90%\b\b\b\b 91%\b\b\b\b 92%\b\b\b\b 93%\b\b\b\b 94%\b\b\b\b 95%\b\b\b\b 96%\b\b\b\b 97%\b\b\b\b 98%\b\b\b\b 99%\b\b\b\b\b  OK \n",
            "All OK\n",
            "total 2790536\n",
            "-rwxr-xr-x 1 root root       1697 Jan  1  2000 anscombe.json\n",
            "-rw-r--r-- 1 root root     301141 Jun 26 16:26 california_housing_test.csv\n",
            "-rw-r--r-- 1 root root    1706430 Jun 26 16:26 california_housing_train.csv\n",
            "-rw------- 1 root root  743069095 Jul  4 12:28 glove.twitter.27B.200d.rar\n",
            "-rw-r--r-- 1 root root 2057590469 Oct  2  2019 glove.twitter.27B.200d.txt\n",
            "-rw-r--r-- 1 root root   18289443 Jun 26 16:26 mnist_test.csv\n",
            "-rw-r--r-- 1 root root   36523880 Jun 26 16:26 mnist_train_small.csv\n",
            "-rwxr-xr-x 1 root root        930 Jan  1  2000 README.md\n"
          ],
          "name": "stdout"
        }
      ]
    },
    {
      "cell_type": "code",
      "metadata": {
        "id": "nMuBpLs4Xp9h",
        "colab_type": "code",
        "colab": {
          "base_uri": "https://localhost:8080/",
          "height": 51
        },
        "outputId": "ec25c374-e552-440e-bcae-fb3e3e7ef4ff"
      },
      "source": [
        "# save the glove model\n",
        "model=loadGloveModel(\"/content/sample_data/glove.twitter.27B.200d.txt\")"
      ],
      "execution_count": null,
      "outputs": [
        {
          "output_type": "stream",
          "text": [
            "Loading Glove Model\n",
            "Done. 1193514  words loaded!\n"
          ],
          "name": "stdout"
        }
      ]
    },
    {
      "cell_type": "code",
      "metadata": {
        "id": "HjEYrkbAWEcD",
        "colab_type": "code",
        "colab": {}
      },
      "source": [
        "model.keys()"
      ],
      "execution_count": null,
      "outputs": []
    },
    {
      "cell_type": "code",
      "metadata": {
        "id": "U9EbYpBKX4Yt",
        "colab_type": "code",
        "colab": {}
      },
      "source": [
        "# vectorising the sentences\n",
        "\n",
        "def sent_vectorizer(sent, model):\n",
        "  sent_vec = np.zeros(200)\n",
        "  numw = 0\n",
        "  for w in sent.split():\n",
        "    try:\n",
        "      sent_vec = np.add(sent_vec, model[str(w)])\n",
        "      numw+=1\n",
        "    except:\n",
        "      pass\n",
        "  print('sent_vector', len(sent_vec), numw)\n",
        "  #print(sent)\n",
        "  #print(sent_vec)\n",
        "  return sent_vec"
      ],
      "execution_count": null,
      "outputs": []
    },
    {
      "cell_type": "code",
      "metadata": {
        "id": "A90oDdGs8A-w",
        "colab_type": "code",
        "colab": {
          "base_uri": "https://localhost:8080/",
          "height": 34
        },
        "outputId": "66773aef-b448-48d3-aa1c-137d1b614bdc"
      },
      "source": [
        "trainset2x.shape[0], len(model[str('serial')])"
      ],
      "execution_count": null,
      "outputs": [
        {
          "output_type": "execute_result",
          "data": {
            "text/plain": [
              "(400, 200)"
            ]
          },
          "metadata": {
            "tags": []
          },
          "execution_count": 30
        }
      ]
    },
    {
      "cell_type": "code",
      "metadata": {
        "id": "B4Ad8MDXX4js",
        "colab_type": "code",
        "colab": {
          "base_uri": "https://localhost:8080/",
          "height": 1000
        },
        "outputId": "3576c784-ae81-402c-a718-e14de0dd99cd"
      },
      "source": [
        "# obtain a clean vector\n",
        "cleanvector=[]\n",
        "wordcount = 0\n",
        "for i in range(trainset2x.shape[0]):\n",
        "#for i in range(5):\n",
        "  document=trainset2x[i]\n",
        "  document=document.lower()\n",
        "  document=lemmatize(document)\n",
        "  document=str(document)\n",
        "  print('document:',len(document))\n",
        "  #sent_vec, numw = sent_vectorizer(document,model)\n",
        "  #wordcount += numw\n",
        "  #cleanvector.append(sent_vec)\n",
        "  cleanvector.append(sent_vectorizer(document,model))\n",
        "#print(wordcount)"
      ],
      "execution_count": null,
      "outputs": [
        {
          "output_type": "stream",
          "text": [
            "document: 11\n",
            "sent_vector 200 2\n",
            "document: 48\n",
            "sent_vector 200 7\n",
            "document: 137\n",
            "sent_vector 200 19\n",
            "document: 60\n",
            "sent_vector 200 14\n",
            "document: 11\n",
            "sent_vector 200 2\n",
            "document: 55\n",
            "sent_vector 200 7\n",
            "document: 41\n",
            "sent_vector 200 4\n",
            "document: 39\n",
            "sent_vector 200 5\n",
            "document: 154\n",
            "sent_vector 200 25\n",
            "document: 55\n",
            "sent_vector 200 10\n",
            "document: 109\n",
            "sent_vector 200 19\n",
            "document: 132\n",
            "sent_vector 200 29\n",
            "document: 164\n",
            "sent_vector 200 18\n",
            "document: 139\n",
            "sent_vector 200 18\n",
            "document: 119\n",
            "sent_vector 200 17\n",
            "document: 15\n",
            "sent_vector 200 3\n",
            "document: 67\n",
            "sent_vector 200 12\n",
            "document: 116\n",
            "sent_vector 200 17\n",
            "document: 146\n",
            "sent_vector 200 21\n",
            "document: 45\n",
            "sent_vector 200 7\n",
            "document: 32\n",
            "sent_vector 200 6\n",
            "document: 20\n",
            "sent_vector 200 3\n",
            "document: 45\n",
            "sent_vector 200 6\n",
            "document: 100\n",
            "sent_vector 200 14\n",
            "document: 54\n",
            "sent_vector 200 11\n",
            "document: 98\n",
            "sent_vector 200 14\n",
            "document: 58\n",
            "sent_vector 200 12\n",
            "document: 46\n",
            "sent_vector 200 3\n",
            "document: 50\n",
            "sent_vector 200 8\n",
            "document: 37\n",
            "sent_vector 200 7\n",
            "document: 128\n",
            "sent_vector 200 26\n",
            "document: 40\n",
            "sent_vector 200 4\n",
            "document: 124\n",
            "sent_vector 200 24\n",
            "document: 74\n",
            "sent_vector 200 13\n",
            "document: 142\n",
            "sent_vector 200 24\n",
            "document: 98\n",
            "sent_vector 200 22\n",
            "document: 46\n",
            "sent_vector 200 9\n",
            "document: 102\n",
            "sent_vector 200 14\n",
            "document: 107\n",
            "sent_vector 200 17\n",
            "document: 19\n",
            "sent_vector 200 2\n",
            "document: 142\n",
            "sent_vector 200 30\n",
            "document: 120\n",
            "sent_vector 200 18\n",
            "document: 108\n",
            "sent_vector 200 22\n",
            "document: 34\n",
            "sent_vector 200 6\n",
            "document: 103\n",
            "sent_vector 200 14\n",
            "document: 44\n",
            "sent_vector 200 4\n",
            "document: 123\n",
            "sent_vector 200 15\n",
            "document: 104\n",
            "sent_vector 200 21\n",
            "document: 141\n",
            "sent_vector 200 27\n",
            "document: 123\n",
            "sent_vector 200 23\n",
            "document: 95\n",
            "sent_vector 200 20\n",
            "document: 32\n",
            "sent_vector 200 4\n",
            "document: 61\n",
            "sent_vector 200 7\n",
            "document: 44\n",
            "sent_vector 200 5\n",
            "document: 28\n",
            "sent_vector 200 8\n",
            "document: 97\n",
            "sent_vector 200 22\n",
            "document: 54\n",
            "sent_vector 200 9\n",
            "document: 80\n",
            "sent_vector 200 17\n",
            "document: 21\n",
            "sent_vector 200 2\n",
            "document: 122\n",
            "sent_vector 200 26\n",
            "document: 41\n",
            "sent_vector 200 10\n",
            "document: 52\n",
            "sent_vector 200 13\n",
            "document: 142\n",
            "sent_vector 200 25\n",
            "document: 42\n",
            "sent_vector 200 9\n",
            "document: 49\n",
            "sent_vector 200 6\n",
            "document: 58\n",
            "sent_vector 200 10\n",
            "document: 126\n",
            "sent_vector 200 17\n",
            "document: 11\n",
            "sent_vector 200 3\n",
            "document: 22\n",
            "sent_vector 200 5\n",
            "document: 117\n",
            "sent_vector 200 23\n",
            "document: 48\n",
            "sent_vector 200 8\n",
            "document: 146\n",
            "sent_vector 200 31\n",
            "document: 12\n",
            "sent_vector 200 3\n",
            "document: 25\n",
            "sent_vector 200 5\n",
            "document: 96\n",
            "sent_vector 200 18\n",
            "document: 143\n",
            "sent_vector 200 25\n",
            "document: 58\n",
            "sent_vector 200 9\n",
            "document: 116\n",
            "sent_vector 200 14\n",
            "document: 77\n",
            "sent_vector 200 14\n",
            "document: 136\n",
            "sent_vector 200 23\n",
            "document: 77\n",
            "sent_vector 200 17\n",
            "document: 115\n",
            "sent_vector 200 23\n",
            "document: 144\n",
            "sent_vector 200 26\n",
            "document: 29\n",
            "sent_vector 200 6\n",
            "document: 73\n",
            "sent_vector 200 8\n",
            "document: 47\n",
            "sent_vector 200 8\n",
            "document: 53\n",
            "sent_vector 200 9\n",
            "document: 73\n",
            "sent_vector 200 13\n",
            "document: 69\n",
            "sent_vector 200 13\n",
            "document: 61\n",
            "sent_vector 200 12\n",
            "document: 55\n",
            "sent_vector 200 12\n",
            "document: 141\n",
            "sent_vector 200 22\n",
            "document: 43\n",
            "sent_vector 200 8\n",
            "document: 62\n",
            "sent_vector 200 14\n",
            "document: 21\n",
            "sent_vector 200 2\n",
            "document: 100\n",
            "sent_vector 200 15\n",
            "document: 109\n",
            "sent_vector 200 15\n",
            "document: 96\n",
            "sent_vector 200 20\n",
            "document: 66\n",
            "sent_vector 200 8\n",
            "document: 115\n",
            "sent_vector 200 18\n",
            "document: 37\n",
            "sent_vector 200 8\n",
            "document: 130\n",
            "sent_vector 200 15\n",
            "document: 69\n",
            "sent_vector 200 14\n",
            "document: 97\n",
            "sent_vector 200 10\n",
            "document: 131\n",
            "sent_vector 200 27\n",
            "document: 130\n",
            "sent_vector 200 21\n",
            "document: 83\n",
            "sent_vector 200 20\n",
            "document: 25\n",
            "sent_vector 200 5\n",
            "document: 44\n",
            "sent_vector 200 7\n",
            "document: 54\n",
            "sent_vector 200 9\n",
            "document: 86\n",
            "sent_vector 200 12\n",
            "document: 134\n",
            "sent_vector 200 29\n",
            "document: 46\n",
            "sent_vector 200 9\n",
            "document: 61\n",
            "sent_vector 200 10\n",
            "document: 59\n",
            "sent_vector 200 14\n",
            "document: 132\n",
            "sent_vector 200 19\n",
            "document: 59\n",
            "sent_vector 200 11\n",
            "document: 152\n",
            "sent_vector 200 25\n",
            "document: 111\n",
            "sent_vector 200 21\n",
            "document: 83\n",
            "sent_vector 200 16\n",
            "document: 101\n",
            "sent_vector 200 23\n",
            "document: 57\n",
            "sent_vector 200 9\n",
            "document: 116\n",
            "sent_vector 200 23\n",
            "document: 75\n",
            "sent_vector 200 11\n",
            "document: 118\n",
            "sent_vector 200 21\n",
            "document: 148\n",
            "sent_vector 200 61\n",
            "document: 65\n",
            "sent_vector 200 9\n",
            "document: 132\n",
            "sent_vector 200 13\n",
            "document: 22\n",
            "sent_vector 200 2\n",
            "document: 45\n",
            "sent_vector 200 6\n",
            "document: 152\n",
            "sent_vector 200 26\n",
            "document: 45\n",
            "sent_vector 200 3\n",
            "document: 20\n",
            "sent_vector 200 3\n",
            "document: 96\n",
            "sent_vector 200 15\n",
            "document: 62\n",
            "sent_vector 200 13\n",
            "document: 143\n",
            "sent_vector 200 21\n",
            "document: 30\n",
            "sent_vector 200 7\n",
            "document: 82\n",
            "sent_vector 200 16\n",
            "document: 42\n",
            "sent_vector 200 5\n",
            "document: 96\n",
            "sent_vector 200 19\n",
            "document: 43\n",
            "sent_vector 200 5\n",
            "document: 135\n",
            "sent_vector 200 23\n",
            "document: 142\n",
            "sent_vector 200 32\n",
            "document: 43\n",
            "sent_vector 200 7\n",
            "document: 73\n",
            "sent_vector 200 11\n",
            "document: 103\n",
            "sent_vector 200 23\n",
            "document: 33\n",
            "sent_vector 200 6\n",
            "document: 54\n",
            "sent_vector 200 9\n",
            "document: 87\n",
            "sent_vector 200 12\n",
            "document: 155\n",
            "sent_vector 200 29\n",
            "document: 135\n",
            "sent_vector 200 27\n",
            "document: 88\n",
            "sent_vector 200 18\n",
            "document: 126\n",
            "sent_vector 200 18\n",
            "document: 139\n",
            "sent_vector 200 27\n",
            "document: 101\n",
            "sent_vector 200 13\n",
            "document: 112\n",
            "sent_vector 200 17\n",
            "document: 84\n",
            "sent_vector 200 15\n",
            "document: 61\n",
            "sent_vector 200 8\n",
            "document: 65\n",
            "sent_vector 200 13\n",
            "document: 15\n",
            "sent_vector 200 0\n",
            "document: 64\n",
            "sent_vector 200 11\n",
            "document: 38\n",
            "sent_vector 200 8\n",
            "document: 38\n",
            "sent_vector 200 8\n",
            "document: 45\n",
            "sent_vector 200 5\n",
            "document: 31\n",
            "sent_vector 200 5\n",
            "document: 56\n",
            "sent_vector 200 9\n",
            "document: 78\n",
            "sent_vector 200 15\n",
            "document: 33\n",
            "sent_vector 200 7\n",
            "document: 27\n",
            "sent_vector 200 4\n",
            "document: 49\n",
            "sent_vector 200 12\n",
            "document: 86\n",
            "sent_vector 200 14\n",
            "document: 72\n",
            "sent_vector 200 12\n",
            "document: 71\n",
            "sent_vector 200 15\n",
            "document: 143\n",
            "sent_vector 200 25\n",
            "document: 31\n",
            "sent_vector 200 9\n",
            "document: 28\n",
            "sent_vector 200 5\n",
            "document: 50\n",
            "sent_vector 200 10\n",
            "document: 65\n",
            "sent_vector 200 10\n",
            "document: 89\n",
            "sent_vector 200 20\n",
            "document: 66\n",
            "sent_vector 200 14\n",
            "document: 93\n",
            "sent_vector 200 16\n",
            "document: 118\n",
            "sent_vector 200 22\n",
            "document: 94\n",
            "sent_vector 200 18\n",
            "document: 66\n",
            "sent_vector 200 13\n",
            "document: 25\n",
            "sent_vector 200 3\n",
            "document: 117\n",
            "sent_vector 200 23\n",
            "document: 86\n",
            "sent_vector 200 20\n",
            "document: 129\n",
            "sent_vector 200 22\n",
            "document: 93\n",
            "sent_vector 200 15\n",
            "document: 143\n",
            "sent_vector 200 33\n",
            "document: 129\n",
            "sent_vector 200 17\n",
            "document: 60\n",
            "sent_vector 200 6\n",
            "document: 140\n",
            "sent_vector 200 24\n",
            "document: 71\n",
            "sent_vector 200 10\n",
            "document: 95\n",
            "sent_vector 200 20\n",
            "document: 63\n",
            "sent_vector 200 10\n",
            "document: 44\n",
            "sent_vector 200 6\n",
            "document: 70\n",
            "sent_vector 200 10\n",
            "document: 20\n",
            "sent_vector 200 2\n",
            "document: 31\n",
            "sent_vector 200 6\n",
            "document: 122\n",
            "sent_vector 200 18\n",
            "document: 92\n",
            "sent_vector 200 16\n",
            "document: 60\n",
            "sent_vector 200 6\n",
            "document: 126\n",
            "sent_vector 200 27\n",
            "document: 38\n",
            "sent_vector 200 9\n",
            "document: 147\n",
            "sent_vector 200 24\n",
            "document: 118\n",
            "sent_vector 200 14\n",
            "document: 68\n",
            "sent_vector 200 12\n",
            "document: 113\n",
            "sent_vector 200 12\n",
            "document: 27\n",
            "sent_vector 200 3\n",
            "document: 87\n",
            "sent_vector 200 21\n",
            "document: 110\n",
            "sent_vector 200 14\n",
            "document: 107\n",
            "sent_vector 200 15\n",
            "document: 89\n",
            "sent_vector 200 15\n",
            "document: 46\n",
            "sent_vector 200 8\n",
            "document: 49\n",
            "sent_vector 200 9\n",
            "document: 26\n",
            "sent_vector 200 6\n",
            "document: 77\n",
            "sent_vector 200 11\n",
            "document: 32\n",
            "sent_vector 200 5\n",
            "document: 126\n",
            "sent_vector 200 28\n",
            "document: 24\n",
            "sent_vector 200 4\n",
            "document: 47\n",
            "sent_vector 200 7\n",
            "document: 72\n",
            "sent_vector 200 14\n",
            "document: 93\n",
            "sent_vector 200 19\n",
            "document: 97\n",
            "sent_vector 200 15\n",
            "document: 101\n",
            "sent_vector 200 15\n",
            "document: 58\n",
            "sent_vector 200 11\n",
            "document: 89\n",
            "sent_vector 200 14\n",
            "document: 11\n",
            "sent_vector 200 2\n",
            "document: 73\n",
            "sent_vector 200 14\n",
            "document: 30\n",
            "sent_vector 200 4\n",
            "document: 78\n",
            "sent_vector 200 18\n",
            "document: 94\n",
            "sent_vector 200 17\n",
            "document: 89\n",
            "sent_vector 200 17\n",
            "document: 35\n",
            "sent_vector 200 8\n",
            "document: 49\n",
            "sent_vector 200 4\n",
            "document: 49\n",
            "sent_vector 200 6\n",
            "document: 116\n",
            "sent_vector 200 18\n",
            "document: 60\n",
            "sent_vector 200 13\n",
            "document: 45\n",
            "sent_vector 200 8\n",
            "document: 142\n",
            "sent_vector 200 29\n",
            "document: 81\n",
            "sent_vector 200 13\n",
            "document: 55\n",
            "sent_vector 200 8\n",
            "document: 86\n",
            "sent_vector 200 17\n",
            "document: 82\n",
            "sent_vector 200 15\n",
            "document: 41\n",
            "sent_vector 200 4\n",
            "document: 154\n",
            "sent_vector 200 23\n",
            "document: 138\n",
            "sent_vector 200 28\n",
            "document: 104\n",
            "sent_vector 200 18\n",
            "document: 26\n",
            "sent_vector 200 5\n",
            "document: 49\n",
            "sent_vector 200 9\n",
            "document: 54\n",
            "sent_vector 200 9\n",
            "document: 77\n",
            "sent_vector 200 14\n",
            "document: 31\n",
            "sent_vector 200 6\n",
            "document: 72\n",
            "sent_vector 200 5\n",
            "document: 143\n",
            "sent_vector 200 24\n",
            "document: 96\n",
            "sent_vector 200 22\n",
            "document: 35\n",
            "sent_vector 200 7\n",
            "document: 59\n",
            "sent_vector 200 12\n",
            "document: 131\n",
            "sent_vector 200 22\n",
            "document: 117\n",
            "sent_vector 200 17\n",
            "document: 123\n",
            "sent_vector 200 19\n",
            "document: 24\n",
            "sent_vector 200 4\n",
            "document: 28\n",
            "sent_vector 200 4\n",
            "document: 47\n",
            "sent_vector 200 12\n",
            "document: 34\n",
            "sent_vector 200 3\n",
            "document: 117\n",
            "sent_vector 200 21\n",
            "document: 39\n",
            "sent_vector 200 7\n",
            "document: 79\n",
            "sent_vector 200 16\n",
            "document: 77\n",
            "sent_vector 200 12\n",
            "document: 115\n",
            "sent_vector 200 24\n",
            "document: 21\n",
            "sent_vector 200 3\n",
            "document: 76\n",
            "sent_vector 200 12\n",
            "document: 44\n",
            "sent_vector 200 6\n",
            "document: 114\n",
            "sent_vector 200 18\n",
            "document: 158\n",
            "sent_vector 200 28\n",
            "document: 92\n",
            "sent_vector 200 15\n",
            "document: 61\n",
            "sent_vector 200 8\n",
            "document: 40\n",
            "sent_vector 200 7\n",
            "document: 35\n",
            "sent_vector 200 3\n",
            "document: 37\n",
            "sent_vector 200 5\n",
            "document: 72\n",
            "sent_vector 200 12\n",
            "document: 145\n",
            "sent_vector 200 33\n",
            "document: 87\n",
            "sent_vector 200 17\n",
            "document: 47\n",
            "sent_vector 200 5\n",
            "document: 97\n",
            "sent_vector 200 19\n",
            "document: 30\n",
            "sent_vector 200 6\n",
            "document: 31\n",
            "sent_vector 200 6\n",
            "document: 54\n",
            "sent_vector 200 12\n",
            "document: 99\n",
            "sent_vector 200 16\n",
            "document: 15\n",
            "sent_vector 200 3\n",
            "document: 43\n",
            "sent_vector 200 7\n",
            "document: 66\n",
            "sent_vector 200 9\n",
            "document: 65\n",
            "sent_vector 200 10\n",
            "document: 48\n",
            "sent_vector 200 6\n",
            "document: 102\n",
            "sent_vector 200 20\n",
            "document: 145\n",
            "sent_vector 200 24\n",
            "document: 42\n",
            "sent_vector 200 8\n",
            "document: 111\n",
            "sent_vector 200 22\n",
            "document: 46\n",
            "sent_vector 200 10\n",
            "document: 22\n",
            "sent_vector 200 5\n",
            "document: 145\n",
            "sent_vector 200 24\n",
            "document: 100\n",
            "sent_vector 200 17\n",
            "document: 95\n",
            "sent_vector 200 18\n",
            "document: 14\n",
            "sent_vector 200 3\n",
            "document: 96\n",
            "sent_vector 200 18\n",
            "document: 74\n",
            "sent_vector 200 15\n",
            "document: 60\n",
            "sent_vector 200 16\n",
            "document: 29\n",
            "sent_vector 200 4\n",
            "document: 20\n",
            "sent_vector 200 1\n",
            "document: 82\n",
            "sent_vector 200 12\n",
            "document: 69\n",
            "sent_vector 200 14\n",
            "document: 19\n",
            "sent_vector 200 3\n",
            "document: 156\n",
            "sent_vector 200 28\n",
            "document: 123\n",
            "sent_vector 200 22\n",
            "document: 132\n",
            "sent_vector 200 26\n",
            "document: 49\n",
            "sent_vector 200 10\n",
            "document: 86\n",
            "sent_vector 200 11\n",
            "document: 116\n",
            "sent_vector 200 23\n",
            "document: 26\n",
            "sent_vector 200 4\n",
            "document: 34\n",
            "sent_vector 200 2\n",
            "document: 35\n",
            "sent_vector 200 5\n",
            "document: 115\n",
            "sent_vector 200 26\n",
            "document: 119\n",
            "sent_vector 200 18\n",
            "document: 62\n",
            "sent_vector 200 10\n",
            "document: 45\n",
            "sent_vector 200 9\n",
            "document: 34\n",
            "sent_vector 200 7\n",
            "document: 70\n",
            "sent_vector 200 15\n",
            "document: 127\n",
            "sent_vector 200 25\n",
            "document: 101\n",
            "sent_vector 200 18\n",
            "document: 37\n",
            "sent_vector 200 9\n",
            "document: 79\n",
            "sent_vector 200 12\n",
            "document: 45\n",
            "sent_vector 200 10\n",
            "document: 31\n",
            "sent_vector 200 4\n",
            "document: 143\n",
            "sent_vector 200 23\n",
            "document: 35\n",
            "sent_vector 200 3\n",
            "document: 54\n",
            "sent_vector 200 7\n",
            "document: 150\n",
            "sent_vector 200 23\n",
            "document: 102\n",
            "sent_vector 200 19\n",
            "document: 116\n",
            "sent_vector 200 21\n",
            "document: 150\n",
            "sent_vector 200 21\n",
            "document: 64\n",
            "sent_vector 200 6\n",
            "document: 32\n",
            "sent_vector 200 3\n",
            "document: 132\n",
            "sent_vector 200 29\n",
            "document: 68\n",
            "sent_vector 200 9\n",
            "document: 32\n",
            "sent_vector 200 4\n",
            "document: 57\n",
            "sent_vector 200 12\n",
            "document: 86\n",
            "sent_vector 200 17\n",
            "document: 141\n",
            "sent_vector 200 25\n",
            "document: 90\n",
            "sent_vector 200 14\n",
            "document: 34\n",
            "sent_vector 200 7\n",
            "document: 26\n",
            "sent_vector 200 4\n",
            "document: 58\n",
            "sent_vector 200 14\n",
            "document: 32\n",
            "sent_vector 200 3\n",
            "document: 17\n",
            "sent_vector 200 1\n",
            "document: 109\n",
            "sent_vector 200 17\n",
            "document: 148\n",
            "sent_vector 200 21\n",
            "document: 59\n",
            "sent_vector 200 6\n",
            "document: 91\n",
            "sent_vector 200 14\n",
            "document: 53\n",
            "sent_vector 200 12\n",
            "document: 91\n",
            "sent_vector 200 9\n",
            "document: 82\n",
            "sent_vector 200 15\n",
            "document: 134\n",
            "sent_vector 200 23\n",
            "document: 78\n",
            "sent_vector 200 13\n",
            "document: 17\n",
            "sent_vector 200 3\n",
            "document: 67\n",
            "sent_vector 200 7\n",
            "document: 68\n",
            "sent_vector 200 11\n",
            "document: 82\n",
            "sent_vector 200 14\n",
            "document: 44\n",
            "sent_vector 200 4\n",
            "document: 117\n",
            "sent_vector 200 20\n",
            "document: 36\n",
            "sent_vector 200 7\n",
            "document: 152\n",
            "sent_vector 200 23\n",
            "document: 43\n",
            "sent_vector 200 10\n",
            "document: 79\n",
            "sent_vector 200 12\n",
            "document: 61\n",
            "sent_vector 200 8\n",
            "document: 45\n",
            "sent_vector 200 5\n",
            "document: 30\n",
            "sent_vector 200 3\n",
            "document: 30\n",
            "sent_vector 200 4\n",
            "document: 63\n",
            "sent_vector 200 10\n",
            "document: 78\n",
            "sent_vector 200 16\n",
            "document: 17\n",
            "sent_vector 200 5\n",
            "document: 99\n",
            "sent_vector 200 17\n",
            "document: 134\n",
            "sent_vector 200 26\n",
            "document: 129\n",
            "sent_vector 200 26\n",
            "document: 119\n",
            "sent_vector 200 19\n",
            "document: 90\n",
            "sent_vector 200 17\n",
            "document: 118\n",
            "sent_vector 200 20\n",
            "document: 124\n",
            "sent_vector 200 17\n",
            "document: 58\n",
            "sent_vector 200 13\n",
            "document: 57\n",
            "sent_vector 200 13\n",
            "document: 78\n",
            "sent_vector 200 17\n",
            "document: 81\n",
            "sent_vector 200 13\n",
            "document: 143\n",
            "sent_vector 200 26\n",
            "document: 50\n",
            "sent_vector 200 6\n",
            "document: 108\n",
            "sent_vector 200 18\n",
            "document: 42\n",
            "sent_vector 200 3\n",
            "document: 89\n",
            "sent_vector 200 14\n",
            "document: 58\n",
            "sent_vector 200 5\n",
            "document: 45\n",
            "sent_vector 200 5\n",
            "document: 80\n",
            "sent_vector 200 17\n"
          ],
          "name": "stdout"
        }
      ]
    },
    {
      "cell_type": "code",
      "metadata": {
        "id": "h4rleNzf85ZP",
        "colab_type": "code",
        "colab": {
          "base_uri": "https://localhost:8080/",
          "height": 34
        },
        "outputId": "e8d597f7-1671-4d02-bda3-bf19ae976cc0"
      },
      "source": [
        "print(len(cleanvector[0]), len(cleanvector))"
      ],
      "execution_count": null,
      "outputs": [
        {
          "output_type": "stream",
          "text": [
            "200 400\n"
          ],
          "name": "stdout"
        }
      ]
    },
    {
      "cell_type": "code",
      "metadata": {
        "id": "V7s64DG4ChiK",
        "colab_type": "code",
        "colab": {
          "base_uri": "https://localhost:8080/",
          "height": 867
        },
        "outputId": "5d63b8c2-2c9f-42d5-d732-782746caf1be"
      },
      "source": [
        "cleanvector[0]"
      ],
      "execution_count": null,
      "outputs": [
        {
          "output_type": "execute_result",
          "data": {
            "text/plain": [
              "array([ 6.816300e-01, -2.447040e-01, -6.870000e-03,  4.331600e-01,\n",
              "       -5.716700e-01,  5.122970e-01,  1.088720e+00,  8.401300e-01,\n",
              "       -2.249460e-01,  2.337340e-01, -7.165000e-02, -1.013750e+00,\n",
              "       -9.980880e-01, -4.669200e-01,  2.497200e-01, -5.321300e-01,\n",
              "       -3.295340e-01, -5.199400e-02, -6.254940e-01,  2.776020e-01,\n",
              "        1.940420e-01,  5.663500e-01, -3.304300e-02, -4.104510e-01,\n",
              "       -6.340900e-01,  1.972100e+00,  8.124000e-02, -3.340700e-01,\n",
              "        3.536710e-01,  4.532300e-01, -8.080000e-02,  4.568500e-02,\n",
              "       -1.834900e-01,  2.230360e-01, -5.147600e-01, -4.783600e-02,\n",
              "       -4.131900e-01,  1.167380e+00,  5.694200e-01,  2.634100e-01,\n",
              "       -8.092300e-01, -6.390440e-01,  1.627730e-01, -8.994700e-01,\n",
              "        9.904910e-01,  1.032830e-01, -3.475490e-01, -3.658410e-01,\n",
              "        9.721000e-02,  1.864500e-01, -3.549790e-01,  5.843630e-01,\n",
              "        8.601800e-02,  1.277450e-01, -2.143700e-01, -2.402200e-01,\n",
              "       -1.996200e-02, -6.345300e-01, -3.206160e-01,  4.457300e-01,\n",
              "        9.759290e-02, -8.569900e-01, -3.366300e-01,  2.145770e-01,\n",
              "       -4.371000e-01,  3.341730e-01,  3.845900e-01, -1.205420e+00,\n",
              "        4.028210e-01, -4.849160e-01, -4.244080e-01,  4.314200e-01,\n",
              "        7.379500e-01,  2.523500e-01,  1.515869e+00, -1.862000e-02,\n",
              "        3.995200e-01,  2.192750e-01,  1.796350e-01, -8.990600e-01,\n",
              "       -4.055100e-01, -8.738000e-02,  5.991700e-01,  5.699140e-01,\n",
              "       -1.916200e-01, -6.411800e-01,  6.091300e-01, -6.723900e-01,\n",
              "        2.303000e-01, -3.751320e-01,  3.741450e-01,  7.429400e-01,\n",
              "        2.669900e-01,  5.877000e-01,  1.178740e+00, -4.136400e-01,\n",
              "        7.943800e-01,  3.674200e-01, -8.183390e-01, -9.171000e-02,\n",
              "       -6.626200e-01, -7.220300e-01, -4.069420e-01,  9.478709e-01,\n",
              "       -2.963050e-01, -2.284150e-01,  1.685406e-02, -3.731000e-02,\n",
              "        1.783600e-01, -4.168600e-01,  8.005000e-02, -6.540400e-01,\n",
              "       -6.306000e-01,  1.885700e-01,  1.665681e-01,  2.925600e-01,\n",
              "        2.266700e-01,  3.920900e-01,  4.414100e-01, -3.035000e-02,\n",
              "       -2.232300e-01, -3.659200e-01,  3.871030e-01, -3.159650e-01,\n",
              "       -2.729710e-01,  3.110000e-03, -3.301560e-01, -4.029100e-01,\n",
              "       -5.736800e-01, -1.011220e+00,  2.895900e-01,  3.519900e-01,\n",
              "        2.558500e-01,  7.114030e-01, -4.404700e-01, -1.120006e+00,\n",
              "       -2.911900e-01, -7.976840e-01,  1.510420e-01, -8.281850e-02,\n",
              "        7.587100e-01, -2.433130e-01, -4.211960e-01,  3.607000e-02,\n",
              "       -1.055395e-01, -1.915610e-01, -4.140000e-02, -3.024200e-01,\n",
              "        2.121660e-02, -6.661850e-01,  9.828052e-01, -5.961070e-01,\n",
              "       -9.477800e+00,  5.941400e-01, -2.380000e-03, -1.772000e-01,\n",
              "        5.064000e-02,  1.398380e-01,  3.321850e-01,  5.324200e-01,\n",
              "        4.466800e-01, -1.848490e-01, -1.248500e-01, -9.447900e-02,\n",
              "       -6.679000e-01,  4.063800e-01,  1.178200e-01, -4.937900e-01,\n",
              "        1.119650e+00,  9.393300e-01,  9.670100e-01,  9.503500e-01,\n",
              "        7.284100e-01, -8.044400e-01, -1.447320e-01, -6.930400e-01,\n",
              "       -1.254378e-01, -2.335110e-01, -5.528600e-01, -3.712030e-01,\n",
              "        7.366900e-01,  3.104453e-01,  5.272310e-01, -9.478260e-01,\n",
              "       -4.975300e-01, -3.554160e-01, -5.334000e-02, -3.227300e-01,\n",
              "       -6.169000e-02,  2.949200e-01, -6.558200e-01,  7.825900e-01,\n",
              "        8.866100e-01,  2.429000e-01, -4.298810e-01, -2.409400e-01,\n",
              "       -1.071840e+00, -1.545280e-01, -7.169900e-01,  9.015600e-01])"
            ]
          },
          "metadata": {
            "tags": []
          },
          "execution_count": 33
        }
      ]
    },
    {
      "cell_type": "code",
      "metadata": {
        "id": "oMiZoSOhX4__",
        "colab_type": "code",
        "colab": {
          "base_uri": "https://localhost:8080/",
          "height": 34
        },
        "outputId": "ecb8a453-fcdc-4b34-89fe-7d4b5c3fced6"
      },
      "source": [
        "# Getting the input and output in proper shape\n",
        "cleanvector=np.array(cleanvector)\n",
        "\n",
        "# Rehape the clean vector to the input-shape required for RNN\n",
        "# Shape of an RNN input is (No of documents or rows, length of each document vector, timestep that we want to take) = (400,200,1)\n",
        "# timestep = 1 means take the next word, timestep =2 means skip one word and go to next word\n",
        "\n",
        "cleanvector =cleanvector.reshape(len(cleanvector),200,1)\n",
        "cleanvector.shape"
      ],
      "execution_count": null,
      "outputs": [
        {
          "output_type": "execute_result",
          "data": {
            "text/plain": [
              "(400, 200, 1)"
            ]
          },
          "metadata": {
            "tags": []
          },
          "execution_count": 34
        }
      ]
    },
    {
      "cell_type": "code",
      "metadata": {
        "id": "rqrHyIWtjhBj",
        "colab_type": "code",
        "colab": {
          "base_uri": "https://localhost:8080/",
          "height": 51
        },
        "outputId": "aecd800f-f6e5-48e5-994a-f39e1f3f525a"
      },
      "source": [
        "# tokenizing the sequences\n",
        "tokenizer = Tokenizer(num_words=16000)\n",
        "tokenizer.fit_on_texts(trainset2x)\n",
        "sequences = tokenizer.texts_to_sequences(trainset2x)\n",
        "word_index = tokenizer.word_index\n",
        "print('Found %s unique tokens.' % len(word_index))\n",
        "data = pad_sequences(sequences, maxlen=15, padding=\"post\")\n",
        "print(data.shape)"
      ],
      "execution_count": null,
      "outputs": [
        {
          "output_type": "stream",
          "text": [
            "Found 1873 unique tokens.\n",
            "(400, 15)\n"
          ],
          "name": "stdout"
        }
      ]
    },
    {
      "cell_type": "code",
      "metadata": {
        "id": "o1eFM6rHeisg",
        "colab_type": "code",
        "colab": {
          "base_uri": "https://localhost:8080/",
          "height": 34
        },
        "outputId": "ac39a6bf-6568-4283-db54-7c610762bf6e"
      },
      "source": [
        "# reshape the data and preparing to train\n",
        "\n",
        "data=data.reshape(len(cleanvector),15,1)\n",
        "print(data.shape)"
      ],
      "execution_count": null,
      "outputs": [
        {
          "output_type": "stream",
          "text": [
            "(400, 15, 1)\n"
          ],
          "name": "stdout"
        }
      ]
    },
    {
      "cell_type": "code",
      "metadata": {
        "id": "tONoexm8pNSH",
        "colab_type": "code",
        "colab": {
          "base_uri": "https://localhost:8080/",
          "height": 51
        },
        "outputId": "973c8d18-17de-4277-8b00-8be64eeea841"
      },
      "source": [
        "# split the data in traina nd text and preparing to train\n",
        "\n",
        "trainx, validx, trainy, validy = train_test_split(data, trainset2y, test_size=0.3,random_state=42 )\n",
        "print(trainx.shape, trainy.shape)\n",
        "print(validx.shape, validy.shape)"
      ],
      "execution_count": null,
      "outputs": [
        {
          "output_type": "stream",
          "text": [
            "(280, 15, 1) (280, 2)\n",
            "(120, 15, 1) (120, 2)\n"
          ],
          "name": "stdout"
        }
      ]
    },
    {
      "cell_type": "code",
      "metadata": {
        "id": "nMP-VwrApNgn",
        "colab_type": "code",
        "colab": {
          "base_uri": "https://localhost:8080/",
          "height": 34
        },
        "outputId": "274a368a-864c-4673-feb9-1492da4f2c00"
      },
      "source": [
        "# calculate the number of words\n",
        "\n",
        "nb_words=len(tokenizer.word_index)+1\n",
        "print(nb_words)"
      ],
      "execution_count": null,
      "outputs": [
        {
          "output_type": "stream",
          "text": [
            "1874\n"
          ],
          "name": "stdout"
        }
      ]
    },
    {
      "cell_type": "code",
      "metadata": {
        "id": "k3WSerpMpNmP",
        "colab_type": "code",
        "colab": {
          "base_uri": "https://localhost:8080/",
          "height": 34
        },
        "outputId": "2852380d-ba73-49df-a6f1-f456c3eaa3c6"
      },
      "source": [
        "#obtain the embedding matrix\n",
        "\n",
        "embedding_matrix = np.zeros((nb_words, 200))\n",
        "\n",
        "for word, i in word_index.items():\n",
        "  embedding_vector = model.get(word)\n",
        "  if embedding_vector is not None:\n",
        "    embedding_matrix[i] = embedding_vector\n",
        "print('Null word embeddings: %d' % np.sum(np.sum(embedding_matrix, axis=1) == 0))"
      ],
      "execution_count": null,
      "outputs": [
        {
          "output_type": "stream",
          "text": [
            "Null word embeddings: 346\n"
          ],
          "name": "stdout"
        }
      ]
    },
    {
      "cell_type": "code",
      "metadata": {
        "id": "ztnd9nWnpsSr",
        "colab_type": "code",
        "colab": {}
      },
      "source": [
        "trainy=np.array(trainy)\n",
        "validy=np.array(validy)"
      ],
      "execution_count": null,
      "outputs": []
    },
    {
      "cell_type": "code",
      "metadata": {
        "id": "vSIfHflEpsZI",
        "colab_type": "code",
        "colab": {}
      },
      "source": [
        "#building a simple RNN model\n",
        "def modelbuild():\n",
        "  model = Sequential()\n",
        "\n",
        "  # add input layer\n",
        "  model.add(keras.layers.InputLayer(input_shape=(15,1)))\n",
        "\n",
        "  # add embedding layer\n",
        "  keras.layers.embeddings.Embedding(nb_words, 15, weights=[embedding_matrix], input_length=15, trainable=False)\n",
        " \n",
        " # RNN layer\n",
        "  model.add(keras.layers.recurrent.SimpleRNN(units = 100, activation='relu', use_bias=True))\n",
        "\n",
        "  #FCNN layer\n",
        "  model.add(keras.layers.Dense(units=1000, input_dim = 2000, activation='sigmoid'))\n",
        "  model.add(keras.layers.Dense(units=500, input_dim=1000, activation='relu'))\n",
        "  model.add(keras.layers.Dense(units=2, input_dim=500,activation='softmax'))\n",
        "\n",
        "  #compile the model\n",
        "  model.compile(loss='categorical_crossentropy', optimizer='adam', metrics=['accuracy'])\n",
        "  \n",
        "  return model"
      ],
      "execution_count": null,
      "outputs": []
    },
    {
      "cell_type": "code",
      "metadata": {
        "id": "niyP7MVmpsgY",
        "colab_type": "code",
        "colab": {
          "base_uri": "https://localhost:8080/",
          "height": 374
        },
        "outputId": "9d44ba5f-a684-432e-8c10-c18a17c2e3f4"
      },
      "source": [
        "#build, compile and fit the model\n",
        "\n",
        "finalmodel = modelbuild()\n",
        "history = finalmodel.fit(trainx, trainy, epochs=10, batch_size=120,validation_data=(validx,validy))"
      ],
      "execution_count": null,
      "outputs": [
        {
          "output_type": "stream",
          "text": [
            "Train on 280 samples, validate on 120 samples\n",
            "Epoch 1/10\n",
            "280/280 [==============================] - 2s 7ms/step - loss: 1.0821 - accuracy: 0.4786 - val_loss: 0.8427 - val_accuracy: 0.5167\n",
            "Epoch 2/10\n",
            "280/280 [==============================] - 0s 216us/step - loss: 1.0028 - accuracy: 0.5786 - val_loss: 0.8739 - val_accuracy: 0.4917\n",
            "Epoch 3/10\n",
            "280/280 [==============================] - 0s 210us/step - loss: 0.8692 - accuracy: 0.4643 - val_loss: 0.8028 - val_accuracy: 0.5250\n",
            "Epoch 4/10\n",
            "280/280 [==============================] - 0s 206us/step - loss: 0.7665 - accuracy: 0.5929 - val_loss: 0.7960 - val_accuracy: 0.5167\n",
            "Epoch 5/10\n",
            "280/280 [==============================] - 0s 255us/step - loss: 0.6660 - accuracy: 0.6071 - val_loss: 0.8331 - val_accuracy: 0.5167\n",
            "Epoch 6/10\n",
            "280/280 [==============================] - 0s 236us/step - loss: 0.7058 - accuracy: 0.5536 - val_loss: 0.7290 - val_accuracy: 0.5333\n",
            "Epoch 7/10\n",
            "280/280 [==============================] - 0s 252us/step - loss: 0.6045 - accuracy: 0.6429 - val_loss: 0.7106 - val_accuracy: 0.5500\n",
            "Epoch 8/10\n",
            "280/280 [==============================] - 0s 213us/step - loss: 0.5643 - accuracy: 0.7286 - val_loss: 0.7199 - val_accuracy: 0.5333\n",
            "Epoch 9/10\n",
            "280/280 [==============================] - 0s 204us/step - loss: 0.5623 - accuracy: 0.7143 - val_loss: 0.7140 - val_accuracy: 0.5667\n",
            "Epoch 10/10\n",
            "280/280 [==============================] - 0s 224us/step - loss: 0.5327 - accuracy: 0.7321 - val_loss: 0.7188 - val_accuracy: 0.5417\n"
          ],
          "name": "stdout"
        }
      ]
    },
    {
      "cell_type": "code",
      "metadata": {
        "id": "pqtXwB6V4kQ0",
        "colab_type": "code",
        "colab": {
          "base_uri": "https://localhost:8080/",
          "height": 34
        },
        "outputId": "fbf9bfd7-ee53-4158-cb6e-332f27fce9a0"
      },
      "source": [
        "# Test the model\n",
        "\n",
        "test = trainx[100:110]\n",
        "test.shape"
      ],
      "execution_count": null,
      "outputs": [
        {
          "output_type": "execute_result",
          "data": {
            "text/plain": [
              "(10, 15, 1)"
            ]
          },
          "metadata": {
            "tags": []
          },
          "execution_count": 43
        }
      ]
    },
    {
      "cell_type": "code",
      "metadata": {
        "id": "02yGlGF64xKM",
        "colab_type": "code",
        "colab": {
          "base_uri": "https://localhost:8080/",
          "height": 187
        },
        "outputId": "0e9a5f50-fc98-47e6-98db-839088996549"
      },
      "source": [
        "trainy[100:110]"
      ],
      "execution_count": null,
      "outputs": [
        {
          "output_type": "execute_result",
          "data": {
            "text/plain": [
              "array([[1, 0],\n",
              "       [1, 0],\n",
              "       [1, 0],\n",
              "       [1, 0],\n",
              "       [0, 1],\n",
              "       [0, 1],\n",
              "       [1, 0],\n",
              "       [1, 0],\n",
              "       [1, 0],\n",
              "       [0, 1]], dtype=uint8)"
            ]
          },
          "metadata": {
            "tags": []
          },
          "execution_count": 46
        }
      ]
    },
    {
      "cell_type": "code",
      "metadata": {
        "id": "Aliu1Fm55Ray",
        "colab_type": "code",
        "colab": {
          "base_uri": "https://localhost:8080/",
          "height": 187
        },
        "outputId": "a7eba81d-6bb0-4cc5-be60-2c0c6950acae"
      },
      "source": [
        "# Prediction using trained model\n",
        "\n",
        "pred = finalmodel.predict(test)\n",
        "pred"
      ],
      "execution_count": null,
      "outputs": [
        {
          "output_type": "execute_result",
          "data": {
            "text/plain": [
              "array([[0.73437774, 0.26562226],\n",
              "       [0.44621414, 0.55378586],\n",
              "       [0.55426884, 0.4457312 ],\n",
              "       [0.4776404 , 0.52235955],\n",
              "       [0.26188812, 0.7381119 ],\n",
              "       [0.5367165 , 0.46328348],\n",
              "       [0.8949959 , 0.10500411],\n",
              "       [0.51098126, 0.48901874],\n",
              "       [0.4639218 , 0.5360782 ],\n",
              "       [0.39014342, 0.6098566 ]], dtype=float32)"
            ]
          },
          "metadata": {
            "tags": []
          },
          "execution_count": 48
        }
      ]
    },
    {
      "cell_type": "code",
      "metadata": {
        "id": "H1s53HYz5xT9",
        "colab_type": "code",
        "colab": {
          "base_uri": "https://localhost:8080/",
          "height": 34
        },
        "outputId": "6044615f-fe1f-49b2-95f7-3d1049b26887"
      },
      "source": [
        "# Display the classes\n",
        "\n",
        "n = len(pred)\n",
        "a=[]\n",
        "for i in range(10):\n",
        "  a.append(10)\n",
        "for i in range(10):\n",
        "  a[i] = np.argmax(pred[i])\n",
        "a"
      ],
      "execution_count": null,
      "outputs": [
        {
          "output_type": "execute_result",
          "data": {
            "text/plain": [
              "[0, 1, 0, 1, 1, 0, 0, 0, 1, 1]"
            ]
          },
          "metadata": {
            "tags": []
          },
          "execution_count": 51
        }
      ]
    },
    {
      "cell_type": "code",
      "metadata": {
        "id": "MI7GB4_87cE_",
        "colab_type": "code",
        "colab": {
          "base_uri": "https://localhost:8080/",
          "height": 34
        },
        "outputId": "8a15aa85-a388-4c17-ed21-04c03c02195e"
      },
      "source": [
        "b=[]\n",
        "for i in range(0, len(pred)):\n",
        "  b.append(np.argmax(pred[i]))\n",
        "b"
      ],
      "execution_count": null,
      "outputs": [
        {
          "output_type": "execute_result",
          "data": {
            "text/plain": [
              "[0, 1, 0, 1, 1, 0, 0, 0, 1, 1]"
            ]
          },
          "metadata": {
            "tags": []
          },
          "execution_count": 53
        }
      ]
    },
    {
      "cell_type": "code",
      "metadata": {
        "id": "HOGBasRv8XvU",
        "colab_type": "code",
        "colab": {}
      },
      "source": [
        ""
      ],
      "execution_count": null,
      "outputs": []
    }
  ]
}