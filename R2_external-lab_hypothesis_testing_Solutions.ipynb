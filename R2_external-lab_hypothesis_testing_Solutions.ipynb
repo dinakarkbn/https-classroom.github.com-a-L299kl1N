{
 "cells": [
  {
   "cell_type": "markdown",
   "metadata": {
    "colab_type": "text",
    "id": "xx5CxeVubU3W"
   },
   "source": [
    "# Hypothesis Testing"
   ]
  },
  {
   "cell_type": "markdown",
   "metadata": {
    "colab_type": "text",
    "id": "6OR23eWKbU3X"
   },
   "source": [
    "The purpose of the test is to tell if there is any significant difference between two data sets.\n",
    "\n"
   ]
  },
  {
   "cell_type": "markdown",
   "metadata": {
    "colab_type": "text",
    "id": "604OoWnTbU3Z"
   },
   "source": [
    "## Overview"
   ]
  },
  {
   "cell_type": "markdown",
   "metadata": {
    "colab_type": "text",
    "id": "o-il1iBSbU3b"
   },
   "source": [
    "This module covers,\n",
    "\n",
    "1) One sample and Two sample t-tests\n",
    "\n",
    "2) ANOVA\n",
    "\n",
    "3) Type I and Type II errors\n",
    "\n",
    "4) Chi-Squared Tests"
   ]
  },
  {
   "cell_type": "markdown",
   "metadata": {
    "colab_type": "text",
    "id": "G2yYl5cvbU3c"
   },
   "source": [
    "## Question 1 \n",
    "\n",
    "*A student is trying to decide between two GPUs. He want to use the GPU for his research to run Deep learning algorithms, so the only thing he is concerned with is speed.*\n",
    "\n",
    "*He picks a Deep Learning algorithm on a large data set and runs it on both GPUs 15 times, timing each run in hours. Results are given in the below lists GPU1 and GPU2.*"
   ]
  },
  {
   "cell_type": "code",
   "execution_count": 1,
   "metadata": {
    "colab": {},
    "colab_type": "code",
    "id": "ohh5XJ4ZbU3d"
   },
   "outputs": [],
   "source": [
    "# Import numpy and stats from scipy\n",
    "\n",
    "from scipy import stats\n",
    "import numpy as np"
   ]
  },
  {
   "cell_type": "code",
   "execution_count": 2,
   "metadata": {
    "colab": {},
    "colab_type": "code",
    "id": "6yGkYI6EbU3i"
   },
   "outputs": [],
   "source": [
    "GPU1 = np.array([11,9,10,11,10,12,9,11,12,9,11,12,9,10,9])\n",
    "GPU2 = np.array([11,13,10,13,12,9,11,12,12,11,12,12,10,11,13])\n",
    "\n",
    "#Assumption: Both the datasets (GPU1 & GPU 2) are random, independent, parametric & normally distributed"
   ]
  },
  {
   "cell_type": "markdown",
   "metadata": {
    "colab_type": "text",
    "id": "L55jqmIXbU3m"
   },
   "source": [
    "Hint: You can import ttest function from scipy to perform t tests "
   ]
  },
  {
   "cell_type": "markdown",
   "metadata": {
    "colab_type": "text",
    "id": "v8fsIhPFbU3n"
   },
   "source": [
    "**First T test**\n",
    "\n",
    "*One sample t-test*\n",
    "\n",
    "Check if the mean of the GPU1 is equal to zero.\n",
    "- Null Hypothesis is that mean is equal to zero.\n",
    "- Alternate hypothesis is that it is not equal to zero."
   ]
  },
  {
   "cell_type": "code",
   "execution_count": 3,
   "metadata": {
    "colab": {},
    "colab_type": "code",
    "id": "wgMSWwApbU3o"
   },
   "outputs": [],
   "source": [
    "#Import the function ttest_1samp from scipy.stats,\n",
    "#To calculate the T-test for the mean of ONE group or sample of scores. \n",
    "\n",
    "from scipy.stats import ttest_1samp"
   ]
  },
  {
   "cell_type": "code",
   "execution_count": 4,
   "metadata": {},
   "outputs": [],
   "source": [
    "#One-Sample t-test on GPU1\n",
    "#Null Hypothesis : Mean of GPU1 is equal to zero\n",
    "#Alternate Hypothesis : Mean of GPU1 is not equal to zero\n",
    "\n",
    "t_statistic_one_samp, p_value_one_samp = ttest_1samp(GPU1, 0)\n"
   ]
  },
  {
   "cell_type": "code",
   "execution_count": 5,
   "metadata": {},
   "outputs": [
    {
     "name": "stdout",
     "output_type": "stream",
     "text": [
      "One-Sample t-test\n",
      "=================\n",
      "t_statistic =  34.056241516158195 \n",
      "p_value =  7.228892044970457e-15 \n",
      "\n"
     ]
    }
   ],
   "source": [
    "print ('One-Sample t-test')\n",
    "print ('=================')\n",
    "\n",
    "print(\"t_statistic = \", t_statistic_one_samp, \"\\np_value = \",p_value_one_samp, '\\n')"
   ]
  },
  {
   "cell_type": "code",
   "execution_count": 6,
   "metadata": {},
   "outputs": [
    {
     "name": "stdout",
     "output_type": "stream",
     "text": [
      "Since the p-value is very low, we reject the Null Hypothesis.\n",
      "So, Mean of GPU1 is not equal to zero.\n"
     ]
    }
   ],
   "source": [
    "print(\"Since the p-value is very low, we reject the Null Hypothesis.\\nSo, Mean of GPU1 is not equal to zero.\")"
   ]
  },
  {
   "cell_type": "markdown",
   "metadata": {
    "colab_type": "text",
    "id": "byu8iw46bU3v"
   },
   "source": [
    "## Question 2"
   ]
  },
  {
   "cell_type": "markdown",
   "metadata": {
    "colab_type": "text",
    "id": "E65pzWcJbU3w"
   },
   "source": [
    "Given,\n",
    "\n",
    "Null Hypothesis : There is no significant difference between data sets\n",
    "\n",
    "Alternate Hypothesis : There is a significant difference\n",
    "\n",
    "*Do two-sample testing and check whether to reject Null Hypothesis or not.*"
   ]
  },
  {
   "cell_type": "markdown",
   "metadata": {
    "colab_type": "text",
    "id": "N-zpWvyXbU32"
   },
   "source": [
    "https://docs.scipy.org/doc/scipy/reference/generated/scipy.stats.ttest_ind.html"
   ]
  },
  {
   "cell_type": "code",
   "execution_count": 7,
   "metadata": {
    "colab": {},
    "colab_type": "code",
    "id": "UDDkuOtObU3x"
   },
   "outputs": [],
   "source": [
    "#Import the function ttest_ind from scipy.stats,\n",
    "#To calculate the T-test for the means of two independent samples of scores.\n",
    "\n",
    "from scipy.stats import ttest_ind"
   ]
  },
  {
   "cell_type": "code",
   "execution_count": 8,
   "metadata": {},
   "outputs": [],
   "source": [
    "#Two-Sample t-test on GPU1 and GPU2\n",
    "#Null Hypothesis : There is no significant difference between GPU1 and GPU2\n",
    "#Alternate Hypothesis : There is a significant difference between GPU1 and GPU2\n",
    "\n",
    "t_statistic_two_samp, p_value_two_samp = ttest_ind(GPU1, GPU2)\n"
   ]
  },
  {
   "cell_type": "code",
   "execution_count": 9,
   "metadata": {},
   "outputs": [
    {
     "name": "stdout",
     "output_type": "stream",
     "text": [
      "Two-Sample t-test\n",
      "=================\n",
      "t_statistic =  -2.627629513471839 \n",
      "p_value =  0.013794282041452725 \n",
      "\n"
     ]
    }
   ],
   "source": [
    "print ('Two-Sample t-test')\n",
    "print ('=================')\n",
    "\n",
    "print(\"t_statistic = \",t_statistic_two_samp, \"\\np_value = \", p_value_two_samp, '\\n')"
   ]
  },
  {
   "cell_type": "code",
   "execution_count": 10,
   "metadata": {},
   "outputs": [
    {
     "name": "stdout",
     "output_type": "stream",
     "text": [
      "Since the p-value is less than 0.05, we reject the Null Hypothesis.\n",
      "So,there is a significant difference between the datasets GPU1 and GPU2\n"
     ]
    }
   ],
   "source": [
    "print(\"Since the p-value is less than 0.05, we reject the Null Hypothesis.\")\n",
    "print(\"So,there is a significant difference between the datasets GPU1 and GPU2\")"
   ]
  },
  {
   "cell_type": "markdown",
   "metadata": {
    "colab_type": "text",
    "id": "MbXv5aZvbU33"
   },
   "source": [
    "## Question 3\n",
    "\n",
    "He is trying a third GPU - GPU3."
   ]
  },
  {
   "cell_type": "code",
   "execution_count": 11,
   "metadata": {
    "colab": {},
    "colab_type": "code",
    "id": "kkh_sQl4bU34"
   },
   "outputs": [],
   "source": [
    "GPU3 = np.array([9,10,9,11,10,13,12,9,12,12,13,12,13,10,11])\n",
    "\n",
    "#Assumption: Both the datasets (GPU1 & GPU 3) are random, independent, parametric & normally distributed"
   ]
  },
  {
   "cell_type": "markdown",
   "metadata": {
    "colab_type": "text",
    "id": "WoYNz3g7bU37"
   },
   "source": [
    "*Do two-sample testing and check whether there is significant differene between speeds of two GPUs GPU1 and GPU3.*\n",
    "\n",
    "#### Answer:"
   ]
  },
  {
   "cell_type": "code",
   "execution_count": 12,
   "metadata": {},
   "outputs": [],
   "source": [
    "#Two-Sample t-test on GPU1 and GPU3\n",
    "#Null Hypothesis: There is significant differene between speeds of GPU1 and GPU3\n",
    "#Alternate Hypothesis: There is no significant differene between speeds of GPU1 and GPU3\n",
    "\n",
    "t_statistic_two_samp2, p_value_two_samp2 = ttest_ind(GPU1, GPU3)\n"
   ]
  },
  {
   "cell_type": "code",
   "execution_count": 13,
   "metadata": {},
   "outputs": [
    {
     "name": "stdout",
     "output_type": "stream",
     "text": [
      "Two-Sample t-test\n",
      "=================\n",
      "t_statistic =  -1.4988943759093303 \n",
      "p_value =  0.14509210993138993 \n",
      "\n"
     ]
    }
   ],
   "source": [
    "print ('Two-Sample t-test')\n",
    "print ('=================')\n",
    "\n",
    "print(\"t_statistic = \",t_statistic_two_samp2, \"\\np_value = \", p_value_two_samp2, '\\n')"
   ]
  },
  {
   "cell_type": "code",
   "execution_count": 14,
   "metadata": {},
   "outputs": [
    {
     "name": "stdout",
     "output_type": "stream",
     "text": [
      "Since the p-value is greater than 0.05, we do not reject the Null Hypothesis.\n",
      "So,there is a significant difference between the datasets GPU1 and GPU3\n"
     ]
    }
   ],
   "source": [
    "print(\"Since the p-value is greater than 0.05, we do not reject the Null Hypothesis.\")\n",
    "print(\"So,there is a significant difference between the datasets GPU1 and GPU3\")"
   ]
  },
  {
   "cell_type": "markdown",
   "metadata": {
    "colab_type": "text",
    "id": "oyDFS4WZbU4A"
   },
   "source": [
    "## ANOVA"
   ]
  },
  {
   "cell_type": "markdown",
   "metadata": {
    "colab_type": "text",
    "id": "wknPzstFbU4B"
   },
   "source": [
    "## Question 4 \n",
    "\n",
    "If you need to compare more than two data sets at a time, an ANOVA is your best bet. \n",
    "\n",
    "*The results from three experiments with overlapping 95% confidence intervals are given below, and we want to confirm that the results for all three experiments are not significantly different.*\n",
    "\n",
    "But before conducting ANOVA, test equality of variances (using Levene's test) is satisfied or not. If not, then mention that we cannot depend on the result of ANOVA"
   ]
  },
  {
   "cell_type": "code",
   "execution_count": 15,
   "metadata": {
    "colab": {},
    "colab_type": "code",
    "id": "kGb0GeK8bU4C"
   },
   "outputs": [],
   "source": [
    "import numpy as np\n",
    "\n",
    "e1 = np.array([1.595440,1.419730,0.000000,0.000000])\n",
    "e2 = np.array([1.433800,2.079700,0.892139,2.384740])\n",
    "e3 = np.array([0.036930,0.938018,0.995956,1.006970])\n",
    "\n",
    "#Assumption: All the 3 datasets (e1,e2 & e3) are random, independent, parametric & normally distributed"
   ]
  },
  {
   "cell_type": "markdown",
   "metadata": {
    "colab_type": "text",
    "id": "_xiYN6gVbU4G"
   },
   "source": [
    "Perform levene test on the data\n",
    "\n",
    "The Levene test tests the null hypothesis that all input samples are from populations with equal variances. Levene’s test is an alternative to Bartlett’s test bartlett in the case where there are significant deviations from normality.\n",
    "\n",
    "source: scipy.org"
   ]
  },
  {
   "cell_type": "markdown",
   "metadata": {
    "colab_type": "text",
    "id": "f2MlJTXgbU4H"
   },
   "source": [
    "#### Answer:"
   ]
  },
  {
   "cell_type": "code",
   "execution_count": 16,
   "metadata": {
    "colab": {},
    "colab_type": "code",
    "id": "VUJP_GGQbU4R"
   },
   "outputs": [],
   "source": [
    "#Import levene and shapiro functions from scipy.stats\n",
    "#Perform the Shapiro-Wilk test for normality, to test that the data was drawn from a normal distribution.\n",
    "#Perform Levene test for equal variances, to test that all input samples are from populations with equal variances\n",
    "\n",
    "from scipy.stats import levene, shapiro"
   ]
  },
  {
   "cell_type": "code",
   "execution_count": 17,
   "metadata": {},
   "outputs": [],
   "source": [
    "# Shapiro-Wilk Test to test if a random sample is drawn from a normal distribution or not.\n",
    "# Null Hypothesis: The input sample is from a population with normal distribution.\n",
    "# Alternate Hypothesis: The input sample is not from a population with normal distribution.\n",
    "\n",
    "t_statistic_sh_e1, p_value_sh_e1 = shapiro(e1)\n",
    "t_statistic_sh_e2, p_value_sh_e2 = shapiro(e2)\n",
    "t_statistic_sh_e3, p_value_sh_e3 = shapiro(e3)"
   ]
  },
  {
   "cell_type": "code",
   "execution_count": 18,
   "metadata": {},
   "outputs": [
    {
     "name": "stdout",
     "output_type": "stream",
     "text": [
      "Shapiro Test\n",
      "============\n",
      "t_statistic_e1 =  0.7761102914810181   p_value_e1 =  0.0658247321844101\n",
      "t_statistic_e2 =  0.9608921408653259   p_value_e2 =  0.784522294998169\n",
      "t_statistic_e3 =  0.6824523210525513   p_value_e3 =  0.007115834858268499 \n",
      "\n"
     ]
    }
   ],
   "source": [
    "print ('Shapiro Test')\n",
    "print ('============')\n",
    "print(\"t_statistic_e1 = \",t_statistic_sh_e1, \"  p_value_e1 = \", p_value_sh_e1)\n",
    "print(\"t_statistic_e2 = \",t_statistic_sh_e2, \"  p_value_e2 = \", p_value_sh_e2)\n",
    "print(\"t_statistic_e3 = \",t_statistic_sh_e3, \"  p_value_e3 = \", p_value_sh_e3, '\\n')"
   ]
  },
  {
   "cell_type": "code",
   "execution_count": 19,
   "metadata": {},
   "outputs": [
    {
     "name": "stdout",
     "output_type": "stream",
     "text": [
      "\n",
      "Since the p-value is greater than 0.05, we do not reject the Null Hypothesis.\n",
      "So, All input samples are from populations with normal distribution\n",
      "\n"
     ]
    }
   ],
   "source": [
    "print(\"\\nSince the p-value is greater than 0.05, we do not reject the Null Hypothesis.\")\n",
    "print(\"So, All input samples are from populations with normal distribution\\n\")"
   ]
  },
  {
   "cell_type": "code",
   "execution_count": 20,
   "metadata": {},
   "outputs": [],
   "source": [
    "# Levene's Test to test that all input samples are from populations with equal variances.\n",
    "# Null Hypothesis: All input samples are from populations with equal variances.\n",
    "# Alternate Hypothesis: Atleast one of samples is from a population with variance not equal to other two.\n",
    "\n",
    "levene_statistic, p_value_levene = levene(e1,e2,e3)"
   ]
  },
  {
   "cell_type": "code",
   "execution_count": 21,
   "metadata": {},
   "outputs": [
    {
     "name": "stdout",
     "output_type": "stream",
     "text": [
      "Levene Test\n",
      "===========\n",
      "Levene Result Statistic: 2.6741725711150446\n",
      "Levene Result P value: 0.12259792666001798 \n",
      "\n"
     ]
    }
   ],
   "source": [
    "print ('Levene Test')\n",
    "print ('===========')\n",
    "print ('Levene Result Statistic:', levene_statistic)\n",
    "print ('Levene Result P value:', p_value_levene, '\\n')"
   ]
  },
  {
   "cell_type": "code",
   "execution_count": 22,
   "metadata": {},
   "outputs": [
    {
     "name": "stdout",
     "output_type": "stream",
     "text": [
      "\n",
      "Since the p-value is greater than 0.05, we do not reject the Null Hypothesis.\n",
      "So, All input samples are from populations with equal variances.\n",
      "\n",
      "Equality of variances using Levene's test is satisfied.So,we can depend on the result of ANOVA.\n",
      "\n"
     ]
    }
   ],
   "source": [
    "print(\"\\nSince the p-value is greater than 0.05, we do not reject the Null Hypothesis.\")\n",
    "print(\"So, All input samples are from populations with equal variances.\\n\")\n",
    "print(\"Equality of variances using Levene's test is satisfied.So,we can depend on the result of ANOVA.\\n\")"
   ]
  },
  {
   "cell_type": "markdown",
   "metadata": {
    "colab_type": "text",
    "id": "FigxGCQtbU4Y"
   },
   "source": [
    "## Question 5\n",
    "\n",
    "The one-way ANOVA tests the null hypothesis that two or more groups have the same population mean. The test is applied to samples from two or more groups, possibly with differing sizes.\n",
    "\n",
    "use stats.f_oneway() module to perform one-way ANOVA test"
   ]
  },
  {
   "cell_type": "code",
   "execution_count": 23,
   "metadata": {
    "colab": {},
    "colab_type": "code",
    "id": "P3bPYPCbbU4Z"
   },
   "outputs": [],
   "source": [
    "#Import f_oneway function from scipy.stats\n",
    "#f_oneway function performs a 1-way ANOVA.\n",
    "#The One-Way ANOVA tests that two or more groups have the same population mean.\n",
    "#This test is applied to samples from two or more groups, possibly with differing sizes.\n",
    "\n",
    "from scipy.stats import f_oneway"
   ]
  },
  {
   "cell_type": "code",
   "execution_count": 24,
   "metadata": {},
   "outputs": [],
   "source": [
    "# One-Way ANOVA Test\n",
    "# Null Hypothesis: All input samples are from populations with equal variances.\n",
    "# Alternate Hypothesis: Atleast one of samples is from a population with variance not equal to other two.\n",
    "\n",
    "f, p = f_oneway(e1,e2,e3)"
   ]
  },
  {
   "cell_type": "code",
   "execution_count": 25,
   "metadata": {},
   "outputs": [
    {
     "name": "stdout",
     "output_type": "stream",
     "text": [
      "One-way ANOVA\n",
      "=============\n",
      "F value: 2.51357622845924\n",
      "P value: 0.13574644501798466 \n",
      "\n"
     ]
    }
   ],
   "source": [
    "print ('One-way ANOVA')\n",
    "print ('=============')\n",
    "print ('F value:', f)\n",
    "print ('P value:', p, '\\n')"
   ]
  },
  {
   "cell_type": "code",
   "execution_count": 26,
   "metadata": {},
   "outputs": [
    {
     "name": "stdout",
     "output_type": "stream",
     "text": [
      "\n",
      "Since the p-value is greater than 0.05, we do not reject the Null Hypothesis.\n",
      "So, All input samples are from populations with equal variances\n",
      "\n"
     ]
    }
   ],
   "source": [
    "print(\"\\nSince the p-value is greater than 0.05, we do not reject the Null Hypothesis.\")\n",
    "print(\"So, All input samples are from populations with equal variances\\n\")"
   ]
  },
  {
   "cell_type": "markdown",
   "metadata": {
    "colab_type": "text",
    "id": "yrMK1qb7bU4j"
   },
   "source": [
    "## Question 6\n",
    "\n",
    "*In one or two sentences explain about **TypeI** and **TypeII** errors.*\n",
    "\n",
    "#### Answer:"
   ]
  },
  {
   "cell_type": "raw",
   "metadata": {
    "colab_type": "text",
    "id": "H08OGwdIbU4k"
   },
   "source": [
    "TYPE I Error\n",
    "************\n",
    "A Type I error occurs if we reject the null hypothesis, H0, when it is true and should not be rejected.\n",
    "A Type I error is a \"false alarm.\"\n",
    "The probability of a Type I error occuring is alpha(α), where α is called the level of significance of statistical test.\n",
    "A Type I error can occur only if H0 is true.\n",
    "The confidence coefficient (1-α) is the probability of not rejecting H0 when it is true and should not be rejected.\n",
    "The confidence level of a hypothesis test is (1-α)*100%."
   ]
  },
  {
   "cell_type": "raw",
   "metadata": {},
   "source": [
    "TYPE II Error\n",
    "*************\n",
    "A Type II error occurs if we do not reject the null hypothesis, H0, when it is false and shoiuld be rejected.\n",
    "A Type II error represents a \"missed opportunity\" to take some corrective action.\n",
    "The probability of a Type II error occuring is beta(ß), where ß risk is the probability of committing a Type II error.\n",
    "A Type II error can occur only if H0 is false.\n",
    "If Type I error probability(α) increases, Type II error probability(ß) decreases.\n",
    "The power of a statistical test (1-β) is the probability of rejecting H0 when it is false and should not be rejected."
   ]
  },
  {
   "cell_type": "markdown",
   "metadata": {
    "colab_type": "text",
    "id": "hm7v3pcIbU4m"
   },
   "source": [
    "## Question 7 \n",
    "\n",
    "You are a manager of a chinese restaurant. You want to determine whether the waiting time to place an order has changed in the past month from its previous population mean value of 4.5 minutes. \n",
    "State the null and alternative hypothesis.\n",
    "\n",
    "#### Answer:\n"
   ]
  },
  {
   "cell_type": "raw",
   "metadata": {
    "colab_type": "text",
    "id": "pbbaU2I4bU4n"
   },
   "source": [
    "Null Hypothesis:The population mean has not changed from its previous value of 4.5 minutes.\n",
    "    H0 : µ = 4.5\n",
    "Alternate Hypothesis(Ha) : The population mean is not 4.5 minutes.\n",
    "    H1 : µ ≠ 4.5"
   ]
  },
  {
   "cell_type": "markdown",
   "metadata": {
    "colab_type": "text",
    "id": "1SGpq-dKbU4r"
   },
   "source": [
    "## Chi square test"
   ]
  },
  {
   "cell_type": "markdown",
   "metadata": {
    "colab_type": "text",
    "id": "WlxmIu_rdgpc"
   },
   "source": [
    "## Question 8"
   ]
  },
  {
   "cell_type": "markdown",
   "metadata": {
    "colab_type": "text",
    "id": "8J3V015PbU4s"
   },
   "source": [
    "Let's create a small dataset for dice rolls of four players"
   ]
  },
  {
   "cell_type": "code",
   "execution_count": 27,
   "metadata": {
    "colab": {},
    "colab_type": "code",
    "id": "xrO5BbIEbU4t"
   },
   "outputs": [],
   "source": [
    "import numpy as np\n",
    "\n",
    "d1 = [5, 8, 3, 8]\n",
    "d2 = [9, 6, 8, 5]\n",
    "d3 = [8, 12, 7, 2]\n",
    "d4 = [4, 16, 7, 3]\n",
    "d5 = [3, 9, 6, 5]\n",
    "d6 = [7, 2, 5, 7]\n",
    "\n",
    "dice = np.array([d1, d2, d3, d4, d5, d6])"
   ]
  },
  {
   "cell_type": "markdown",
   "metadata": {
    "colab_type": "text",
    "id": "uF7GRMChbU4x"
   },
   "source": [
    "run the test using SciPy Stats library\n",
    "\n",
    "Depending on the test, we are generally looking for a threshold at either 0.05 or 0.01. Our test is significant (i.e. we reject the null hypothesis) if we get a p-value below our threshold.\n",
    "\n",
    "For our purposes, we’ll use 0.01 as the threshold.\n",
    "\n",
    "use stats.chi2_contingency() module \n",
    "\n",
    "This function computes the chi-square statistic and p-value for the hypothesis test of independence of the observed frequencies in the contingency table\n",
    "\n",
    "Print the following:\n",
    "\n",
    "- chi2 stat\n",
    "- p-value\n",
    "- degree of freedom\n",
    "- contingency\n",
    "\n"
   ]
  },
  {
   "cell_type": "code",
   "execution_count": 28,
   "metadata": {
    "colab": {},
    "colab_type": "code",
    "id": "vqaTIKmgbU4y"
   },
   "outputs": [],
   "source": [
    "#Import chi2_contingency function from scipy.stats\n",
    "#chi2_contingency function performs Chi-square test of independence of variables in a contingency table.\n",
    "\n",
    "from scipy.stats import chi2_contingency"
   ]
  },
  {
   "cell_type": "code",
   "execution_count": 29,
   "metadata": {},
   "outputs": [],
   "source": [
    "#Chi-Square Test of Independence\n",
    "#Null Hypothesis : Each of the dice throw is independent.\n",
    "#Alternate Hypothesis : All dice throws are dependent.\n",
    "\n",
    "chi2_stat, p_value, degree_of_freedom, expected = chi2_contingency(dice)\n"
   ]
  },
  {
   "cell_type": "code",
   "execution_count": 30,
   "metadata": {},
   "outputs": [
    {
     "name": "stdout",
     "output_type": "stream",
     "text": [
      "Chi square Test\n",
      "===============\n",
      "\n",
      "===Chi2 Stat===\n",
      "23.315671914716496 \n",
      "\n",
      "===Degrees of Freedom===\n",
      "15 \n",
      "\n",
      "===P-Value===\n",
      "0.07766367301496693 \n",
      "\n",
      "===Contingency Table===\n",
      "[[ 5.57419355  8.20645161  5.57419355  4.64516129]\n",
      " [ 6.50322581  9.57419355  6.50322581  5.41935484]\n",
      " [ 6.73548387  9.91612903  6.73548387  5.61290323]\n",
      " [ 6.96774194 10.25806452  6.96774194  5.80645161]\n",
      " [ 5.34193548  7.86451613  5.34193548  4.4516129 ]\n",
      " [ 4.87741935  7.18064516  4.87741935  4.06451613]] \n",
      "\n"
     ]
    }
   ],
   "source": [
    "print ('Chi square Test')\n",
    "print ('===============\\n')\n",
    "\n",
    "print(\"===Chi2 Stat===\")\n",
    "print(chi2_stat,'\\n')\n",
    "\n",
    "print(\"===Degrees of Freedom===\")\n",
    "print(degree_of_freedom,'\\n')\n",
    "\n",
    "print(\"===P-Value===\")\n",
    "print(p_value,'\\n')\n",
    "\n",
    "print(\"===Contingency Table===\")\n",
    "print(expected,'\\n')"
   ]
  },
  {
   "cell_type": "code",
   "execution_count": 31,
   "metadata": {},
   "outputs": [
    {
     "name": "stdout",
     "output_type": "stream",
     "text": [
      "\n",
      "Since the p-value is greater than the threhold 0.01, we do not reject the Null Hypothesis.\n",
      "So, our test is not significant and each dice throw is independent.\n",
      "\n"
     ]
    }
   ],
   "source": [
    "print(\"\\nSince the p-value is greater than the threhold 0.01, we do not reject the Null Hypothesis.\")\n",
    "print(\"So, our test is not significant and each dice throw is independent.\\n\")"
   ]
  },
  {
   "cell_type": "markdown",
   "metadata": {
    "colab_type": "text",
    "id": "VzyfaNoabU42"
   },
   "source": [
    "## Question 9\n",
    "\n",
    "### Z-test\n",
    "\n",
    "Get zscore on the above dice data using stats.zscore module from scipy. Convert zscore values to p-value and take mean of the array."
   ]
  },
  {
   "cell_type": "code",
   "execution_count": 32,
   "metadata": {
    "colab": {},
    "colab_type": "code",
    "id": "Sd5xPCuRbU43"
   },
   "outputs": [],
   "source": [
    "#Import zscore function from scipy.stats\n",
    "#zscore function calculates the z score of each value in the sample, relative to the sample mean and standard deviation.\n",
    "\n",
    "from scipy.stats import zscore"
   ]
  },
  {
   "cell_type": "code",
   "execution_count": 33,
   "metadata": {},
   "outputs": [
    {
     "data": {
      "text/plain": [
       "array([[-0.46291005, -0.18884739, -1.83711731,  1.44115338],\n",
       "       [ 1.38873015, -0.64208114,  1.22474487,  0.        ],\n",
       "       [ 0.9258201 ,  0.7176201 ,  0.61237244, -1.44115338],\n",
       "       [-0.9258201 ,  1.62408759,  0.61237244, -0.96076892],\n",
       "       [-1.38873015,  0.03776948,  0.        ,  0.        ],\n",
       "       [ 0.46291005, -1.54854863, -0.61237244,  0.96076892]])"
      ]
     },
     "execution_count": 33,
     "metadata": {},
     "output_type": "execute_result"
    }
   ],
   "source": [
    "z_scores = zscore(dice)\n",
    "z_scores"
   ]
  },
  {
   "cell_type": "code",
   "execution_count": 34,
   "metadata": {},
   "outputs": [],
   "source": [
    "#Import ndtr function from scipy.special\n",
    "#ndtr is a Gaussian cumulative distribution function.\n",
    "#Returns the area under the standard Gaussian probability density function,integrated from minus infinity to x\n",
    "\n",
    "from scipy.special import ndtr"
   ]
  },
  {
   "cell_type": "code",
   "execution_count": 35,
   "metadata": {},
   "outputs": [
    {
     "data": {
      "text/plain": [
       "array([[0.67828558, 0.57489379, 0.96690371, 0.07477068],\n",
       "       [0.08245741, 0.73958975, 0.11033568, 0.5       ],\n",
       "       [0.17726974, 0.23649578, 0.27014569, 0.92522932],\n",
       "       [0.82273026, 0.05217856, 0.27014569, 0.83166582],\n",
       "       [0.91754259, 0.48493574, 0.5       , 0.5       ],\n",
       "       [0.32171442, 0.93925487, 0.72985431, 0.16833418]])"
      ]
     },
     "execution_count": 35,
     "metadata": {},
     "output_type": "execute_result"
    }
   ],
   "source": [
    "#Using scipy.special.ndtr() function to convert Z scores to p-values\n",
    "\n",
    "p_values_ndtr_func = 1- ndtr(z_scores)\n",
    "p_values_ndtr_func"
   ]
  },
  {
   "cell_type": "code",
   "execution_count": 36,
   "metadata": {},
   "outputs": [],
   "source": [
    "#Import norm from scipy.stats\n",
    "#Use the sf function in scipy.stats.norm to convert Z scores to p-values\n",
    "\n",
    "from scipy.stats import norm"
   ]
  },
  {
   "cell_type": "code",
   "execution_count": 37,
   "metadata": {},
   "outputs": [
    {
     "data": {
      "text/plain": [
       "array([[0.64342884, 0.85021243, 0.06619258, 0.14954135],\n",
       "       [0.16491482, 0.5208205 , 0.22067136, 1.        ],\n",
       "       [0.35453948, 0.47299156, 0.54029137, 0.14954135],\n",
       "       [0.35453948, 0.10435712, 0.54029137, 0.33666837],\n",
       "       [0.16491482, 0.96987148, 1.        , 1.        ],\n",
       "       [0.64342884, 0.12149026, 0.54029137, 0.33666837]])"
      ]
     },
     "execution_count": 37,
     "metadata": {},
     "output_type": "execute_result"
    }
   ],
   "source": [
    "#Using scipy.stats.norm.sf() function to convert Z scores to p-values\n",
    "#The norm.sf() is based on the assumption that the distribution is a normal one.\n",
    "#We are multiplying by 2 to consider both sides of the Z scores (Upper tail and lower tail) for p-values\n",
    "\n",
    "p_values_sf_func = norm.sf(abs(z_scores))*2\n",
    "p_values_sf_func"
   ]
  },
  {
   "cell_type": "code",
   "execution_count": 38,
   "metadata": {},
   "outputs": [
    {
     "data": {
      "text/plain": [
       "0.49478056512575197"
      ]
     },
     "execution_count": 38,
     "metadata": {},
     "output_type": "execute_result"
    }
   ],
   "source": [
    "#Mean of p-values obtained using ndtr() function\n",
    "\n",
    "p_values_ndtr_func.mean()"
   ]
  },
  {
   "cell_type": "code",
   "execution_count": 39,
   "metadata": {},
   "outputs": [
    {
     "data": {
      "text/plain": [
       "0.4685694646738299"
      ]
     },
     "execution_count": 39,
     "metadata": {},
     "output_type": "execute_result"
    }
   ],
   "source": [
    "#Mean of p-values obtained using sf() function\n",
    "#The Mean of p-values obtained using both the functions is approximately equal\n",
    "\n",
    "p_values_sf_func.mean()"
   ]
  },
  {
   "cell_type": "markdown",
   "metadata": {
    "colab_type": "text",
    "id": "OyoFUxf5bU47"
   },
   "source": [
    "## Question 10\n",
    "\n",
    "A Paired sample t-test compares means from the same group at different times.\n",
    "\n",
    "The basic two sample t-test is designed for testing differences between independent groups. \n",
    "In some cases, you might be interested in testing differences between samples of the same group at different points in time. \n",
    "We can conduct a paired t-test using the scipy function stats.ttest_rel(). "
   ]
  },
  {
   "cell_type": "code",
   "execution_count": 40,
   "metadata": {
    "colab": {},
    "colab_type": "code",
    "id": "SwVmQ1gRbU48"
   },
   "outputs": [],
   "source": [
    "before= stats.norm.rvs(scale=30, loc=100, size=500) ## Creates a normal distribution with a mean value of 100 and std of 30\n",
    "after = before + stats.norm.rvs(scale=5, loc=-1.25, size=500)"
   ]
  },
  {
   "cell_type": "markdown",
   "metadata": {
    "colab_type": "text",
    "id": "rB_os5FjbU4_"
   },
   "source": [
    "Test whether a weight-loss drug works by checking the weights of the same group patients before and after treatment using above data."
   ]
  },
  {
   "cell_type": "code",
   "execution_count": 41,
   "metadata": {
    "colab": {},
    "colab_type": "code",
    "id": "Fq2wyEqlbU5A"
   },
   "outputs": [],
   "source": [
    "#Import ttest_rel function from scipy.stats\n",
    "#Paired sample t-test performs the T-test on TWO RELATED samples of scores, a and b.\n",
    "#Paired sample t-test is a two-sided test to test that 2 related or repeated samples have identical expected values.\n",
    "\n",
    "from scipy.stats import ttest_rel"
   ]
  },
  {
   "cell_type": "code",
   "execution_count": 42,
   "metadata": {},
   "outputs": [
    {
     "data": {
      "text/plain": [
       "Ttest_relResult(statistic=5.07032369825051, pvalue=5.607034007947108e-07)"
      ]
     },
     "execution_count": 42,
     "metadata": {},
     "output_type": "execute_result"
    }
   ],
   "source": [
    "#Paired sample t-test to compare means from the same group at different times.\n",
    "#Null Hypothesis: The mean of weights is identical.\n",
    "#Alternate Hypothesis: The mean of weights is not identical.\n",
    "\n",
    "ttest_rel(before, after)"
   ]
  },
  {
   "cell_type": "code",
   "execution_count": 43,
   "metadata": {},
   "outputs": [
    {
     "name": "stdout",
     "output_type": "stream",
     "text": [
      "\n",
      "Since the p-value is very low,we reject the Null Hypothesis.\n",
      "So,the mean of weights is not identical and the weight-loss drug does not work.\n",
      "\n"
     ]
    }
   ],
   "source": [
    "print(\"\\nSince the p-value is very low,we reject the Null Hypothesis.\")\n",
    "print(\"So,the mean of weights is not identical and the weight-loss drug does not work.\\n\")"
   ]
  }
 ],
 "metadata": {
  "colab": {
   "collapsed_sections": [],
   "name": "R2_external-lab_hypothesis_testing_questions.ipynb",
   "provenance": [],
   "version": "0.3.2"
  },
  "kernelspec": {
   "display_name": "Python 3",
   "language": "python",
   "name": "python3"
  },
  "language_info": {
   "codemirror_mode": {
    "name": "ipython",
    "version": 3
   },
   "file_extension": ".py",
   "mimetype": "text/x-python",
   "name": "python",
   "nbconvert_exporter": "python",
   "pygments_lexer": "ipython3",
   "version": "3.7.3"
  }
 },
 "nbformat": 4,
 "nbformat_minor": 1
}
