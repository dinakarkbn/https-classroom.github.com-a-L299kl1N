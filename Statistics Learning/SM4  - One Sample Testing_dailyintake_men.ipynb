{
 "cells": [
  {
   "cell_type": "markdown",
   "metadata": {},
   "source": [
    "# Hypothesis Testing : One Sample t-test\n",
    "## daily intake of 11 men taken from a population of diabetic men"
   ]
  },
  {
   "cell_type": "code",
   "execution_count": 3,
   "metadata": {},
   "outputs": [],
   "source": [
    "import numpy as np\n",
    "from scipy.stats import ttest_1samp,wilcoxon\n",
    "from statsmodels.stats.power import ttest_power\n",
    "import matplotlib.pyplot as plt"
   ]
  },
  {
   "cell_type": "code",
   "execution_count": 7,
   "metadata": {},
   "outputs": [],
   "source": [
    "# daily intake of Sugar in milligrams for 11 diabetic men\n",
    "\n",
    "daily_intake = np.array([5560,5770,7640,5180,5690,6435,\n",
    "                         6803,7689,6876,8213,8765])"
   ]
  },
  {
   "cell_type": "markdown",
   "metadata": {},
   "source": [
    "- daily_intake is a single sample taken out of a population of daily_intake for men.\n",
    "- The Question we are going to ask of the sample is, is it consistent with a mean of 7600\n",
    "- Men corresponding to the 'Population' from which this sample was taken are expected to have a mean calorie intake of 7600\n",
    "- **Null Hypothesis : population mean is equal to 7600**\n",
    "- **Alternate Hypothesis : population mean is not equal to 7600 (unless specified otherwise)**"
   ]
  },
  {
   "cell_type": "code",
   "execution_count": 5,
   "metadata": {},
   "outputs": [
    {
     "name": "stdout",
     "output_type": "stream",
     "text": [
      "t-statistic =  -2.2925841964555027 \n",
      "p-value =  0.04481624562570511\n"
     ]
    }
   ],
   "source": [
    "# one sample t-test\n",
    "# null hypothesis: expected value = 7600\n",
    "# alternate hypothesis: expected value != 7600\n",
    "\n",
    "t_statistic, p_value = ttest_1samp(daily_intake,7600)\n",
    "print('t-statistic = ',t_statistic,'\\np-value = ',p_value)"
   ]
  },
  {
   "cell_type": "markdown",
   "metadata": {},
   "source": [
    "## Conclusion from one sample t-test:\n",
    "- level of confidence (alpha = 0.05)\n",
    "- p-value < 0.05, so we reject the Null Hypothesis\n",
    "- p_value < 0.05 => alternative hypothesis is true.\n",
    "- data deviate significantly from the hypothesis that the mean is 7600 at the 5% level of significance\n",
    "- So, we have 95% confidence to say that the alternate hypothesis is true (since p-value is 0.045, we are 95.5% confidence)\n",
    "- There is enough evidence to say that the population from which these 11 men come from does not have a mean of 7600"
   ]
  },
  {
   "cell_type": "code",
   "execution_count": 6,
   "metadata": {},
   "outputs": [
    {
     "name": "stdout",
     "output_type": "stream",
     "text": [
      "one-sample t-test p-value= 0.04481624562570511\n"
     ]
    }
   ],
   "source": [
    "print (\"one-sample t-test p-value=\", p_value)"
   ]
  },
  {
   "cell_type": "code",
   "execution_count": 8,
   "metadata": {},
   "outputs": [
    {
     "name": "stdout",
     "output_type": "stream",
     "text": [
      "z-statistic =  12.5 \n",
      "p-value =  0.06821657316330874\n"
     ]
    }
   ],
   "source": [
    "# one sample wilcoxon-test\n",
    "# null hypothesis: expected value = 7600\n",
    "# alternate hypothesis: expected value != 7600\n",
    "\n",
    "z_statistic, p_value = wilcoxon(daily_intake - 7600)\n",
    "print('z-statistic = ',z_statistic,'\\np-value = ',p_value)"
   ]
  },
  {
   "cell_type": "markdown",
   "metadata": {},
   "source": [
    "## Conclusion from one sample wolcoxon-test:\n",
    "- p-value >= 0.05 => p-value >= alpha  => Do not Reject the Null Hypothesis\n",
    "- wicoxin-test is the same test as t-test, but without the assumption of Normality\n",
    "- Input to wilcoxin test is sample minus the expected mean \n",
    "- This test effectively tests if the median of the sample is equal to zero.It is a test of the median\n",
    "- We use median with wilcoxon-test because, even if the distribution is not normal, median still represents the middle of the distribution and dataset"
   ]
  },
  {
   "cell_type": "code",
   "execution_count": 12,
   "metadata": {},
   "outputs": [
    {
     "name": "stdout",
     "output_type": "stream",
     "text": [
      "one-sample wilcoxon-test p-value 0.06821657316330874\n"
     ]
    }
   ],
   "source": [
    "print(\"one-sample wilcoxon-test p-value\", p_value)"
   ]
  },
  {
   "cell_type": "markdown",
   "metadata": {},
   "source": [
    "## one sample t-test and one sample wilcoxon-test are gving different results\n",
    "- In practice, we run the more powerful test assuming normality, which is the t-test\n",
    "- Then, we run the less powerful test assuming normality, which is the wilcoxon test\n",
    "- Then we check both the solutions.If the solutions are the same, we do not have any issues,since both give same answer\n",
    "- if both methods, reject or do not reject, there is no issue, but if one rejects and the other does not reject, then we see a problem and in most cases, \n",
    "- we consider the more powerful test ie, t-test"
   ]
  },
  {
   "cell_type": "code",
   "execution_count": 13,
   "metadata": {},
   "outputs": [
    {
     "data": {
      "text/plain": [
       "-0.7249787788506311"
      ]
     },
     "execution_count": 13,
     "metadata": {},
     "output_type": "execute_result"
    }
   ],
   "source": [
    "#t-statistic = (xbar - mu)/S\n",
    "(np.mean(daily_intake) - 7600) / np.std(daily_intake)"
   ]
  },
  {
   "cell_type": "code",
   "execution_count": 14,
   "metadata": {},
   "outputs": [
    {
     "name": "stdout",
     "output_type": "stream",
     "text": [
      "0.5835176733152669\n"
     ]
    }
   ],
   "source": [
    "#check power of t-test\n",
    "print(ttest_power(-0.725, nobs=11, alpha=0.05, alternative='two-sided'))"
   ]
  },
  {
   "cell_type": "code",
   "execution_count": 22,
   "metadata": {},
   "outputs": [
    {
     "data": {
      "image/png": "[encoded data removed]",
      "text/plain": [
       "<Figure size 432x288 with 1 Axes>"
      ]
     },
     "metadata": {
      "needs_background": "light"
     },
     "output_type": "display_data"
    }
   ],
   "source": [
    "#Histogram plot\n",
    "plt.hist(daily_intake, label=True, color ='orange', stacked=True)\n",
    "plt.title('Histogram plot of daily intake of men')\n",
    "plt.xlabel('daily intake in mg')\n",
    "plt.ylabel('Frequency')\n",
    "plt.show()"
   ]
  },
  {
   "cell_type": "code",
   "execution_count": 33,
   "metadata": {},
   "outputs": [
    {
     "data": {
      "image/png": "[encoded data removed]",
      "text/plain": [
       "<Figure size 432x288 with 1 Axes>"
      ]
     },
     "metadata": {
      "needs_background": "light"
     },
     "output_type": "display_data"
    }
   ],
   "source": [
    "plt.boxplot(daily_intake, vert=False, showmeans=True, meanline=True,showbox=True, whis=True)\n",
    "plt.title('Boxplot plot of daily intake of men')\n",
    "plt.xlabel('daily intake in mg')\n",
    "plt.show()"
   ]
  },
  {
   "cell_type": "markdown",
   "metadata": {
    "collapsed": true
   },
   "source": [
    "## Decision based on distribution and Hypothesis tests\n",
    "- Both the Histogram and Boxplot show that the distribution is approximately normal.\n",
    "- So, we make use of one sample t-test knowing that the distribution is normal.\n",
    "- p-value < 0.05 (p-value < aplha), so we reject our claim that mean daily intake of men is equal to 7600 an make the conclusion that the mean daily intake of men is not equal to 7600"
   ]
  },
  {
   "cell_type": "code",
   "execution_count": null,
   "metadata": {},
   "outputs": [],
   "source": []
  }
 ],
 "metadata": {
  "kernelspec": {
   "display_name": "Python 3",
   "language": "python",
   "name": "python3"
  },
  "language_info": {
   "codemirror_mode": {
    "name": "ipython",
    "version": 3
   },
   "file_extension": ".py",
   "mimetype": "text/x-python",
   "name": "python",
   "nbconvert_exporter": "python",
   "pygments_lexer": "ipython3",
   "version": "3.7.3"
  }
 },
 "nbformat": 4,
 "nbformat_minor": 2
}
