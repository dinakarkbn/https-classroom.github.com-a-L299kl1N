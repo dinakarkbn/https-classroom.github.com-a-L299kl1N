{
 "cells": [
  {
   "cell_type": "code",
   "execution_count": 1,
   "metadata": {
    "colab": {},
    "colab_type": "code",
    "id": "Y3vvEXP1_0og"
   },
   "outputs": [],
   "source": [
    "# Import important library\n",
    "import numpy as np\n",
    "import pandas as pd\n",
    "import matplotlib.pyplot as plt\n",
    "import seaborn as sns\n",
    "%matplotlib inline\n",
    "import warnings\n",
    "warnings.filterwarnings('ignore')"
   ]
  },
  {
   "cell_type": "markdown",
   "metadata": {
    "colab_type": "text",
    "id": "7O83uMqA_0ol"
   },
   "source": [
    "### Q1 Read the input file and check the data dimension"
   ]
  },
  {
   "cell_type": "code",
   "execution_count": 2,
   "metadata": {
    "colab": {},
    "colab_type": "code",
    "id": "1brbOfG_Enzy"
   },
   "outputs": [],
   "source": [
    "#Read input file and understand the data\n",
    "#\"default\" is my dependent variable"
   ]
  },
  {
   "cell_type": "code",
   "execution_count": 3,
   "metadata": {
    "colab": {},
    "colab_type": "code",
    "id": "_LGo1xnK_0ow"
   },
   "outputs": [],
   "source": [
    "#Read the input file and store it in a DataFrame\n",
    "\n",
    "gc_df = pd.read_csv('german_credit.csv')"
   ]
  },
  {
   "cell_type": "code",
   "execution_count": 4,
   "metadata": {},
   "outputs": [
    {
     "data": {
      "text/plain": [
       "(1000, 21)"
      ]
     },
     "execution_count": 4,
     "metadata": {},
     "output_type": "execute_result"
    }
   ],
   "source": [
    "#Shape of the Dataset\n",
    "\n",
    "gc_df.shape"
   ]
  },
  {
   "cell_type": "code",
   "execution_count": 5,
   "metadata": {},
   "outputs": [
    {
     "data": {
      "text/plain": [
       "Index(['default', 'account_check_status', 'duration_in_month',\n",
       "       'credit_history', 'purpose', 'credit_amount', 'savings',\n",
       "       'present_emp_since', 'installment_as_income_perc',\n",
       "       'personal_status_sex', 'other_debtors', 'present_res_since', 'property',\n",
       "       'age', 'other_installment_plans', 'housing', 'credits_this_bank', 'job',\n",
       "       'people_under_maintenance', 'telephone', 'foreign_worker'],\n",
       "      dtype='object')"
      ]
     },
     "execution_count": 5,
     "metadata": {},
     "output_type": "execute_result"
    }
   ],
   "source": [
    "#Features and target column in the datset\n",
    "\n",
    "gc_df.columns"
   ]
  },
  {
   "cell_type": "code",
   "execution_count": 6,
   "metadata": {},
   "outputs": [
    {
     "data": {
      "text/plain": [
       "default                        int64\n",
       "account_check_status          object\n",
       "duration_in_month              int64\n",
       "credit_history                object\n",
       "purpose                       object\n",
       "credit_amount                  int64\n",
       "savings                       object\n",
       "present_emp_since             object\n",
       "installment_as_income_perc     int64\n",
       "personal_status_sex           object\n",
       "other_debtors                 object\n",
       "present_res_since              int64\n",
       "property                      object\n",
       "age                            int64\n",
       "other_installment_plans       object\n",
       "housing                       object\n",
       "credits_this_bank              int64\n",
       "job                           object\n",
       "people_under_maintenance       int64\n",
       "telephone                     object\n",
       "foreign_worker                object\n",
       "dtype: object"
      ]
     },
     "execution_count": 6,
     "metadata": {},
     "output_type": "execute_result"
    }
   ],
   "source": [
    "#Check datatype of all columns\n",
    "\n",
    "gc_df.dtypes"
   ]
  },
  {
   "cell_type": "code",
   "execution_count": 7,
   "metadata": {},
   "outputs": [
    {
     "data": {
      "text/html": [
       "<div>\n",
       "<style scoped>\n",
       "    .dataframe tbody tr th:only-of-type {\n",
       "        vertical-align: middle;\n",
       "    }\n",
       "\n",
       "    .dataframe tbody tr th {\n",
       "        vertical-align: top;\n",
       "    }\n",
       "\n",
       "    .dataframe thead th {\n",
       "        text-align: right;\n",
       "    }\n",
       "</style>\n",
       "<table border=\"1\" class=\"dataframe\">\n",
       "  <thead>\n",
       "    <tr style=\"text-align: right;\">\n",
       "      <th></th>\n",
       "      <th>0</th>\n",
       "      <th>1</th>\n",
       "      <th>2</th>\n",
       "      <th>3</th>\n",
       "      <th>4</th>\n",
       "    </tr>\n",
       "  </thead>\n",
       "  <tbody>\n",
       "    <tr>\n",
       "      <th>default</th>\n",
       "      <td>0</td>\n",
       "      <td>1</td>\n",
       "      <td>0</td>\n",
       "      <td>0</td>\n",
       "      <td>1</td>\n",
       "    </tr>\n",
       "    <tr>\n",
       "      <th>account_check_status</th>\n",
       "      <td>&lt; 0 DM</td>\n",
       "      <td>0 &lt;= ... &lt; 200 DM</td>\n",
       "      <td>no checking account</td>\n",
       "      <td>&lt; 0 DM</td>\n",
       "      <td>&lt; 0 DM</td>\n",
       "    </tr>\n",
       "    <tr>\n",
       "      <th>duration_in_month</th>\n",
       "      <td>6</td>\n",
       "      <td>48</td>\n",
       "      <td>12</td>\n",
       "      <td>42</td>\n",
       "      <td>24</td>\n",
       "    </tr>\n",
       "    <tr>\n",
       "      <th>credit_history</th>\n",
       "      <td>critical account/ other credits existing (not ...</td>\n",
       "      <td>existing credits paid back duly till now</td>\n",
       "      <td>critical account/ other credits existing (not ...</td>\n",
       "      <td>existing credits paid back duly till now</td>\n",
       "      <td>delay in paying off in the past</td>\n",
       "    </tr>\n",
       "    <tr>\n",
       "      <th>purpose</th>\n",
       "      <td>domestic appliances</td>\n",
       "      <td>domestic appliances</td>\n",
       "      <td>(vacation - does not exist?)</td>\n",
       "      <td>radio/television</td>\n",
       "      <td>car (new)</td>\n",
       "    </tr>\n",
       "    <tr>\n",
       "      <th>credit_amount</th>\n",
       "      <td>1169</td>\n",
       "      <td>5951</td>\n",
       "      <td>2096</td>\n",
       "      <td>7882</td>\n",
       "      <td>4870</td>\n",
       "    </tr>\n",
       "    <tr>\n",
       "      <th>savings</th>\n",
       "      <td>unknown/ no savings account</td>\n",
       "      <td>... &lt; 100 DM</td>\n",
       "      <td>... &lt; 100 DM</td>\n",
       "      <td>... &lt; 100 DM</td>\n",
       "      <td>... &lt; 100 DM</td>\n",
       "    </tr>\n",
       "    <tr>\n",
       "      <th>present_emp_since</th>\n",
       "      <td>.. &gt;= 7 years</td>\n",
       "      <td>1 &lt;= ... &lt; 4 years</td>\n",
       "      <td>4 &lt;= ... &lt; 7 years</td>\n",
       "      <td>4 &lt;= ... &lt; 7 years</td>\n",
       "      <td>1 &lt;= ... &lt; 4 years</td>\n",
       "    </tr>\n",
       "    <tr>\n",
       "      <th>installment_as_income_perc</th>\n",
       "      <td>4</td>\n",
       "      <td>2</td>\n",
       "      <td>2</td>\n",
       "      <td>2</td>\n",
       "      <td>3</td>\n",
       "    </tr>\n",
       "    <tr>\n",
       "      <th>personal_status_sex</th>\n",
       "      <td>male : single</td>\n",
       "      <td>female : divorced/separated/married</td>\n",
       "      <td>male : single</td>\n",
       "      <td>male : single</td>\n",
       "      <td>male : single</td>\n",
       "    </tr>\n",
       "    <tr>\n",
       "      <th>other_debtors</th>\n",
       "      <td>none</td>\n",
       "      <td>none</td>\n",
       "      <td>none</td>\n",
       "      <td>guarantor</td>\n",
       "      <td>none</td>\n",
       "    </tr>\n",
       "    <tr>\n",
       "      <th>present_res_since</th>\n",
       "      <td>4</td>\n",
       "      <td>2</td>\n",
       "      <td>3</td>\n",
       "      <td>4</td>\n",
       "      <td>4</td>\n",
       "    </tr>\n",
       "    <tr>\n",
       "      <th>property</th>\n",
       "      <td>real estate</td>\n",
       "      <td>real estate</td>\n",
       "      <td>real estate</td>\n",
       "      <td>if not A121 : building society savings agreeme...</td>\n",
       "      <td>unknown / no property</td>\n",
       "    </tr>\n",
       "    <tr>\n",
       "      <th>age</th>\n",
       "      <td>67</td>\n",
       "      <td>22</td>\n",
       "      <td>49</td>\n",
       "      <td>45</td>\n",
       "      <td>53</td>\n",
       "    </tr>\n",
       "    <tr>\n",
       "      <th>other_installment_plans</th>\n",
       "      <td>none</td>\n",
       "      <td>none</td>\n",
       "      <td>none</td>\n",
       "      <td>none</td>\n",
       "      <td>none</td>\n",
       "    </tr>\n",
       "    <tr>\n",
       "      <th>housing</th>\n",
       "      <td>own</td>\n",
       "      <td>own</td>\n",
       "      <td>own</td>\n",
       "      <td>for free</td>\n",
       "      <td>for free</td>\n",
       "    </tr>\n",
       "    <tr>\n",
       "      <th>credits_this_bank</th>\n",
       "      <td>2</td>\n",
       "      <td>1</td>\n",
       "      <td>1</td>\n",
       "      <td>1</td>\n",
       "      <td>2</td>\n",
       "    </tr>\n",
       "    <tr>\n",
       "      <th>job</th>\n",
       "      <td>skilled employee / official</td>\n",
       "      <td>skilled employee / official</td>\n",
       "      <td>unskilled - resident</td>\n",
       "      <td>skilled employee / official</td>\n",
       "      <td>skilled employee / official</td>\n",
       "    </tr>\n",
       "    <tr>\n",
       "      <th>people_under_maintenance</th>\n",
       "      <td>1</td>\n",
       "      <td>1</td>\n",
       "      <td>2</td>\n",
       "      <td>2</td>\n",
       "      <td>2</td>\n",
       "    </tr>\n",
       "    <tr>\n",
       "      <th>telephone</th>\n",
       "      <td>yes, registered under the customers name</td>\n",
       "      <td>none</td>\n",
       "      <td>none</td>\n",
       "      <td>none</td>\n",
       "      <td>none</td>\n",
       "    </tr>\n",
       "    <tr>\n",
       "      <th>foreign_worker</th>\n",
       "      <td>yes</td>\n",
       "      <td>yes</td>\n",
       "      <td>yes</td>\n",
       "      <td>yes</td>\n",
       "      <td>yes</td>\n",
       "    </tr>\n",
       "  </tbody>\n",
       "</table>\n",
       "</div>"
      ],
      "text/plain": [
       "                                                                            0  \\\n",
       "default                                                                     0   \n",
       "account_check_status                                                   < 0 DM   \n",
       "duration_in_month                                                           6   \n",
       "credit_history              critical account/ other credits existing (not ...   \n",
       "purpose                                                   domestic appliances   \n",
       "credit_amount                                                            1169   \n",
       "savings                                           unknown/ no savings account   \n",
       "present_emp_since                                               .. >= 7 years   \n",
       "installment_as_income_perc                                                  4   \n",
       "personal_status_sex                                             male : single   \n",
       "other_debtors                                                            none   \n",
       "present_res_since                                                           4   \n",
       "property                                                          real estate   \n",
       "age                                                                        67   \n",
       "other_installment_plans                                                  none   \n",
       "housing                                                                   own   \n",
       "credits_this_bank                                                           2   \n",
       "job                                               skilled employee / official   \n",
       "people_under_maintenance                                                    1   \n",
       "telephone                           yes, registered under the customers name    \n",
       "foreign_worker                                                            yes   \n",
       "\n",
       "                                                                   1  \\\n",
       "default                                                            1   \n",
       "account_check_status                               0 <= ... < 200 DM   \n",
       "duration_in_month                                                 48   \n",
       "credit_history              existing credits paid back duly till now   \n",
       "purpose                                          domestic appliances   \n",
       "credit_amount                                                   5951   \n",
       "savings                                                 ... < 100 DM   \n",
       "present_emp_since                                 1 <= ... < 4 years   \n",
       "installment_as_income_perc                                         2   \n",
       "personal_status_sex              female : divorced/separated/married   \n",
       "other_debtors                                                   none   \n",
       "present_res_since                                                  2   \n",
       "property                                                 real estate   \n",
       "age                                                               22   \n",
       "other_installment_plans                                         none   \n",
       "housing                                                          own   \n",
       "credits_this_bank                                                  1   \n",
       "job                                      skilled employee / official   \n",
       "people_under_maintenance                                           1   \n",
       "telephone                                                       none   \n",
       "foreign_worker                                                   yes   \n",
       "\n",
       "                                                                            2  \\\n",
       "default                                                                     0   \n",
       "account_check_status                                      no checking account   \n",
       "duration_in_month                                                          12   \n",
       "credit_history              critical account/ other credits existing (not ...   \n",
       "purpose                                          (vacation - does not exist?)   \n",
       "credit_amount                                                            2096   \n",
       "savings                                                          ... < 100 DM   \n",
       "present_emp_since                                          4 <= ... < 7 years   \n",
       "installment_as_income_perc                                                  2   \n",
       "personal_status_sex                                             male : single   \n",
       "other_debtors                                                            none   \n",
       "present_res_since                                                           3   \n",
       "property                                                          real estate   \n",
       "age                                                                        49   \n",
       "other_installment_plans                                                  none   \n",
       "housing                                                                   own   \n",
       "credits_this_bank                                                           1   \n",
       "job                                                      unskilled - resident   \n",
       "people_under_maintenance                                                    2   \n",
       "telephone                                                                none   \n",
       "foreign_worker                                                            yes   \n",
       "\n",
       "                                                                            3  \\\n",
       "default                                                                     0   \n",
       "account_check_status                                                   < 0 DM   \n",
       "duration_in_month                                                          42   \n",
       "credit_history                       existing credits paid back duly till now   \n",
       "purpose                                                      radio/television   \n",
       "credit_amount                                                            7882   \n",
       "savings                                                          ... < 100 DM   \n",
       "present_emp_since                                          4 <= ... < 7 years   \n",
       "installment_as_income_perc                                                  2   \n",
       "personal_status_sex                                             male : single   \n",
       "other_debtors                                                       guarantor   \n",
       "present_res_since                                                           4   \n",
       "property                    if not A121 : building society savings agreeme...   \n",
       "age                                                                        45   \n",
       "other_installment_plans                                                  none   \n",
       "housing                                                              for free   \n",
       "credits_this_bank                                                           1   \n",
       "job                                               skilled employee / official   \n",
       "people_under_maintenance                                                    2   \n",
       "telephone                                                                none   \n",
       "foreign_worker                                                            yes   \n",
       "\n",
       "                                                          4  \n",
       "default                                                   1  \n",
       "account_check_status                                 < 0 DM  \n",
       "duration_in_month                                        24  \n",
       "credit_history              delay in paying off in the past  \n",
       "purpose                                           car (new)  \n",
       "credit_amount                                          4870  \n",
       "savings                                        ... < 100 DM  \n",
       "present_emp_since                        1 <= ... < 4 years  \n",
       "installment_as_income_perc                                3  \n",
       "personal_status_sex                           male : single  \n",
       "other_debtors                                          none  \n",
       "present_res_since                                         4  \n",
       "property                              unknown / no property  \n",
       "age                                                      53  \n",
       "other_installment_plans                                none  \n",
       "housing                                            for free  \n",
       "credits_this_bank                                         2  \n",
       "job                             skilled employee / official  \n",
       "people_under_maintenance                                  2  \n",
       "telephone                                              none  \n",
       "foreign_worker                                          yes  "
      ]
     },
     "execution_count": 7,
     "metadata": {},
     "output_type": "execute_result"
    }
   ],
   "source": [
    "#Validate first 5 rows in the dataframe\n",
    "\n",
    "gc_df.head(5).T"
   ]
  },
  {
   "cell_type": "code",
   "execution_count": 8,
   "metadata": {},
   "outputs": [
    {
     "data": {
      "text/html": [
       "<div>\n",
       "<style scoped>\n",
       "    .dataframe tbody tr th:only-of-type {\n",
       "        vertical-align: middle;\n",
       "    }\n",
       "\n",
       "    .dataframe tbody tr th {\n",
       "        vertical-align: top;\n",
       "    }\n",
       "\n",
       "    .dataframe thead th {\n",
       "        text-align: right;\n",
       "    }\n",
       "</style>\n",
       "<table border=\"1\" class=\"dataframe\">\n",
       "  <thead>\n",
       "    <tr style=\"text-align: right;\">\n",
       "      <th></th>\n",
       "      <th>995</th>\n",
       "      <th>996</th>\n",
       "      <th>997</th>\n",
       "      <th>998</th>\n",
       "      <th>999</th>\n",
       "    </tr>\n",
       "  </thead>\n",
       "  <tbody>\n",
       "    <tr>\n",
       "      <th>default</th>\n",
       "      <td>0</td>\n",
       "      <td>0</td>\n",
       "      <td>0</td>\n",
       "      <td>1</td>\n",
       "      <td>0</td>\n",
       "    </tr>\n",
       "    <tr>\n",
       "      <th>account_check_status</th>\n",
       "      <td>no checking account</td>\n",
       "      <td>&lt; 0 DM</td>\n",
       "      <td>no checking account</td>\n",
       "      <td>&lt; 0 DM</td>\n",
       "      <td>0 &lt;= ... &lt; 200 DM</td>\n",
       "    </tr>\n",
       "    <tr>\n",
       "      <th>duration_in_month</th>\n",
       "      <td>12</td>\n",
       "      <td>30</td>\n",
       "      <td>12</td>\n",
       "      <td>45</td>\n",
       "      <td>45</td>\n",
       "    </tr>\n",
       "    <tr>\n",
       "      <th>credit_history</th>\n",
       "      <td>existing credits paid back duly till now</td>\n",
       "      <td>existing credits paid back duly till now</td>\n",
       "      <td>existing credits paid back duly till now</td>\n",
       "      <td>existing credits paid back duly till now</td>\n",
       "      <td>critical account/ other credits existing (not ...</td>\n",
       "    </tr>\n",
       "    <tr>\n",
       "      <th>purpose</th>\n",
       "      <td>radio/television</td>\n",
       "      <td>car (used)</td>\n",
       "      <td>domestic appliances</td>\n",
       "      <td>domestic appliances</td>\n",
       "      <td>car (used)</td>\n",
       "    </tr>\n",
       "    <tr>\n",
       "      <th>credit_amount</th>\n",
       "      <td>1736</td>\n",
       "      <td>3857</td>\n",
       "      <td>804</td>\n",
       "      <td>1845</td>\n",
       "      <td>4576</td>\n",
       "    </tr>\n",
       "    <tr>\n",
       "      <th>savings</th>\n",
       "      <td>... &lt; 100 DM</td>\n",
       "      <td>... &lt; 100 DM</td>\n",
       "      <td>... &lt; 100 DM</td>\n",
       "      <td>... &lt; 100 DM</td>\n",
       "      <td>100 &lt;= ... &lt; 500 DM</td>\n",
       "    </tr>\n",
       "    <tr>\n",
       "      <th>present_emp_since</th>\n",
       "      <td>4 &lt;= ... &lt; 7 years</td>\n",
       "      <td>1 &lt;= ... &lt; 4 years</td>\n",
       "      <td>.. &gt;= 7 years</td>\n",
       "      <td>1 &lt;= ... &lt; 4 years</td>\n",
       "      <td>unemployed</td>\n",
       "    </tr>\n",
       "    <tr>\n",
       "      <th>installment_as_income_perc</th>\n",
       "      <td>3</td>\n",
       "      <td>4</td>\n",
       "      <td>4</td>\n",
       "      <td>4</td>\n",
       "      <td>3</td>\n",
       "    </tr>\n",
       "    <tr>\n",
       "      <th>personal_status_sex</th>\n",
       "      <td>female : divorced/separated/married</td>\n",
       "      <td>male : divorced/separated</td>\n",
       "      <td>male : single</td>\n",
       "      <td>male : single</td>\n",
       "      <td>male : single</td>\n",
       "    </tr>\n",
       "    <tr>\n",
       "      <th>other_debtors</th>\n",
       "      <td>none</td>\n",
       "      <td>none</td>\n",
       "      <td>none</td>\n",
       "      <td>none</td>\n",
       "      <td>none</td>\n",
       "    </tr>\n",
       "    <tr>\n",
       "      <th>present_res_since</th>\n",
       "      <td>4</td>\n",
       "      <td>4</td>\n",
       "      <td>4</td>\n",
       "      <td>4</td>\n",
       "      <td>4</td>\n",
       "    </tr>\n",
       "    <tr>\n",
       "      <th>property</th>\n",
       "      <td>real estate</td>\n",
       "      <td>if not A121 : building society savings agreeme...</td>\n",
       "      <td>if not A121/A122 : car or other, not in attrib...</td>\n",
       "      <td>unknown / no property</td>\n",
       "      <td>if not A121/A122 : car or other, not in attrib...</td>\n",
       "    </tr>\n",
       "    <tr>\n",
       "      <th>age</th>\n",
       "      <td>31</td>\n",
       "      <td>40</td>\n",
       "      <td>38</td>\n",
       "      <td>23</td>\n",
       "      <td>27</td>\n",
       "    </tr>\n",
       "    <tr>\n",
       "      <th>other_installment_plans</th>\n",
       "      <td>none</td>\n",
       "      <td>none</td>\n",
       "      <td>none</td>\n",
       "      <td>none</td>\n",
       "      <td>none</td>\n",
       "    </tr>\n",
       "    <tr>\n",
       "      <th>housing</th>\n",
       "      <td>own</td>\n",
       "      <td>own</td>\n",
       "      <td>own</td>\n",
       "      <td>for free</td>\n",
       "      <td>own</td>\n",
       "    </tr>\n",
       "    <tr>\n",
       "      <th>credits_this_bank</th>\n",
       "      <td>1</td>\n",
       "      <td>1</td>\n",
       "      <td>1</td>\n",
       "      <td>1</td>\n",
       "      <td>1</td>\n",
       "    </tr>\n",
       "    <tr>\n",
       "      <th>job</th>\n",
       "      <td>unskilled - resident</td>\n",
       "      <td>management/ self-employed/ highly qualified em...</td>\n",
       "      <td>skilled employee / official</td>\n",
       "      <td>skilled employee / official</td>\n",
       "      <td>skilled employee / official</td>\n",
       "    </tr>\n",
       "    <tr>\n",
       "      <th>people_under_maintenance</th>\n",
       "      <td>1</td>\n",
       "      <td>1</td>\n",
       "      <td>1</td>\n",
       "      <td>1</td>\n",
       "      <td>1</td>\n",
       "    </tr>\n",
       "    <tr>\n",
       "      <th>telephone</th>\n",
       "      <td>none</td>\n",
       "      <td>yes, registered under the customers name</td>\n",
       "      <td>none</td>\n",
       "      <td>yes, registered under the customers name</td>\n",
       "      <td>none</td>\n",
       "    </tr>\n",
       "    <tr>\n",
       "      <th>foreign_worker</th>\n",
       "      <td>yes</td>\n",
       "      <td>yes</td>\n",
       "      <td>yes</td>\n",
       "      <td>yes</td>\n",
       "      <td>yes</td>\n",
       "    </tr>\n",
       "  </tbody>\n",
       "</table>\n",
       "</div>"
      ],
      "text/plain": [
       "                                                                 995  \\\n",
       "default                                                            0   \n",
       "account_check_status                             no checking account   \n",
       "duration_in_month                                                 12   \n",
       "credit_history              existing credits paid back duly till now   \n",
       "purpose                                             radio/television   \n",
       "credit_amount                                                   1736   \n",
       "savings                                                 ... < 100 DM   \n",
       "present_emp_since                                 4 <= ... < 7 years   \n",
       "installment_as_income_perc                                         3   \n",
       "personal_status_sex              female : divorced/separated/married   \n",
       "other_debtors                                                   none   \n",
       "present_res_since                                                  4   \n",
       "property                                                 real estate   \n",
       "age                                                               31   \n",
       "other_installment_plans                                         none   \n",
       "housing                                                          own   \n",
       "credits_this_bank                                                  1   \n",
       "job                                             unskilled - resident   \n",
       "people_under_maintenance                                           1   \n",
       "telephone                                                       none   \n",
       "foreign_worker                                                   yes   \n",
       "\n",
       "                                                                          996  \\\n",
       "default                                                                     0   \n",
       "account_check_status                                                   < 0 DM   \n",
       "duration_in_month                                                          30   \n",
       "credit_history                       existing credits paid back duly till now   \n",
       "purpose                                                            car (used)   \n",
       "credit_amount                                                            3857   \n",
       "savings                                                          ... < 100 DM   \n",
       "present_emp_since                                          1 <= ... < 4 years   \n",
       "installment_as_income_perc                                                  4   \n",
       "personal_status_sex                                 male : divorced/separated   \n",
       "other_debtors                                                            none   \n",
       "present_res_since                                                           4   \n",
       "property                    if not A121 : building society savings agreeme...   \n",
       "age                                                                        40   \n",
       "other_installment_plans                                                  none   \n",
       "housing                                                                   own   \n",
       "credits_this_bank                                                           1   \n",
       "job                         management/ self-employed/ highly qualified em...   \n",
       "people_under_maintenance                                                    1   \n",
       "telephone                           yes, registered under the customers name    \n",
       "foreign_worker                                                            yes   \n",
       "\n",
       "                                                                          997  \\\n",
       "default                                                                     0   \n",
       "account_check_status                                      no checking account   \n",
       "duration_in_month                                                          12   \n",
       "credit_history                       existing credits paid back duly till now   \n",
       "purpose                                                   domestic appliances   \n",
       "credit_amount                                                             804   \n",
       "savings                                                          ... < 100 DM   \n",
       "present_emp_since                                               .. >= 7 years   \n",
       "installment_as_income_perc                                                  4   \n",
       "personal_status_sex                                             male : single   \n",
       "other_debtors                                                            none   \n",
       "present_res_since                                                           4   \n",
       "property                    if not A121/A122 : car or other, not in attrib...   \n",
       "age                                                                        38   \n",
       "other_installment_plans                                                  none   \n",
       "housing                                                                   own   \n",
       "credits_this_bank                                                           1   \n",
       "job                                               skilled employee / official   \n",
       "people_under_maintenance                                                    1   \n",
       "telephone                                                                none   \n",
       "foreign_worker                                                            yes   \n",
       "\n",
       "                                                                  998  \\\n",
       "default                                                             1   \n",
       "account_check_status                                           < 0 DM   \n",
       "duration_in_month                                                  45   \n",
       "credit_history               existing credits paid back duly till now   \n",
       "purpose                                           domestic appliances   \n",
       "credit_amount                                                    1845   \n",
       "savings                                                  ... < 100 DM   \n",
       "present_emp_since                                  1 <= ... < 4 years   \n",
       "installment_as_income_perc                                          4   \n",
       "personal_status_sex                                     male : single   \n",
       "other_debtors                                                    none   \n",
       "present_res_since                                                   4   \n",
       "property                                        unknown / no property   \n",
       "age                                                                23   \n",
       "other_installment_plans                                          none   \n",
       "housing                                                      for free   \n",
       "credits_this_bank                                                   1   \n",
       "job                                       skilled employee / official   \n",
       "people_under_maintenance                                            1   \n",
       "telephone                   yes, registered under the customers name    \n",
       "foreign_worker                                                    yes   \n",
       "\n",
       "                                                                          999  \n",
       "default                                                                     0  \n",
       "account_check_status                                        0 <= ... < 200 DM  \n",
       "duration_in_month                                                          45  \n",
       "credit_history              critical account/ other credits existing (not ...  \n",
       "purpose                                                            car (used)  \n",
       "credit_amount                                                            4576  \n",
       "savings                                                   100 <= ... < 500 DM  \n",
       "present_emp_since                                                  unemployed  \n",
       "installment_as_income_perc                                                  3  \n",
       "personal_status_sex                                             male : single  \n",
       "other_debtors                                                            none  \n",
       "present_res_since                                                           4  \n",
       "property                    if not A121/A122 : car or other, not in attrib...  \n",
       "age                                                                        27  \n",
       "other_installment_plans                                                  none  \n",
       "housing                                                                   own  \n",
       "credits_this_bank                                                           1  \n",
       "job                                               skilled employee / official  \n",
       "people_under_maintenance                                                    1  \n",
       "telephone                                                                none  \n",
       "foreign_worker                                                            yes  "
      ]
     },
     "execution_count": 8,
     "metadata": {},
     "output_type": "execute_result"
    }
   ],
   "source": [
    "#Validate last 5 rows in the dataframe\n",
    "\n",
    "gc_df.tail(5).T"
   ]
  },
  {
   "cell_type": "code",
   "execution_count": 9,
   "metadata": {},
   "outputs": [
    {
     "data": {
      "text/plain": [
       "default                       0\n",
       "account_check_status          0\n",
       "duration_in_month             0\n",
       "credit_history                0\n",
       "purpose                       0\n",
       "credit_amount                 0\n",
       "savings                       0\n",
       "present_emp_since             0\n",
       "installment_as_income_perc    0\n",
       "personal_status_sex           0\n",
       "other_debtors                 0\n",
       "present_res_since             0\n",
       "property                      0\n",
       "age                           0\n",
       "other_installment_plans       0\n",
       "housing                       0\n",
       "credits_this_bank             0\n",
       "job                           0\n",
       "people_under_maintenance      0\n",
       "telephone                     0\n",
       "foreign_worker                0\n",
       "dtype: int64"
      ]
     },
     "execution_count": 9,
     "metadata": {},
     "output_type": "execute_result"
    }
   ],
   "source": [
    "#Check for null values in dataset\n",
    "\n",
    "gc_df.isnull().sum()"
   ]
  },
  {
   "cell_type": "code",
   "execution_count": 10,
   "metadata": {},
   "outputs": [
    {
     "name": "stdout",
     "output_type": "stream",
     "text": [
      "\n",
      "There are no null values\n",
      "\n"
     ]
    }
   ],
   "source": [
    "print('\\nThere are no null values\\n')"
   ]
  },
  {
   "cell_type": "code",
   "execution_count": 11,
   "metadata": {},
   "outputs": [
    {
     "data": {
      "text/plain": [
       "array([0, 1], dtype=int64)"
      ]
     },
     "execution_count": 11,
     "metadata": {},
     "output_type": "execute_result"
    }
   ],
   "source": [
    "# Unique values in the target column\n",
    "\n",
    "gc_df['default'].unique()"
   ]
  },
  {
   "cell_type": "code",
   "execution_count": 12,
   "metadata": {},
   "outputs": [
    {
     "data": {
      "text/html": [
       "<div>\n",
       "<style scoped>\n",
       "    .dataframe tbody tr th:only-of-type {\n",
       "        vertical-align: middle;\n",
       "    }\n",
       "\n",
       "    .dataframe tbody tr th {\n",
       "        vertical-align: top;\n",
       "    }\n",
       "\n",
       "    .dataframe thead th {\n",
       "        text-align: right;\n",
       "    }\n",
       "</style>\n",
       "<table border=\"1\" class=\"dataframe\">\n",
       "  <thead>\n",
       "    <tr style=\"text-align: right;\">\n",
       "      <th></th>\n",
       "      <th>count</th>\n",
       "      <th>mean</th>\n",
       "      <th>std</th>\n",
       "      <th>min</th>\n",
       "      <th>25%</th>\n",
       "      <th>50%</th>\n",
       "      <th>75%</th>\n",
       "      <th>max</th>\n",
       "    </tr>\n",
       "  </thead>\n",
       "  <tbody>\n",
       "    <tr>\n",
       "      <th>duration_in_month</th>\n",
       "      <td>1000.0</td>\n",
       "      <td>20.903</td>\n",
       "      <td>12.058814</td>\n",
       "      <td>4.0</td>\n",
       "      <td>12.0</td>\n",
       "      <td>18.0</td>\n",
       "      <td>24.00</td>\n",
       "      <td>72.0</td>\n",
       "    </tr>\n",
       "    <tr>\n",
       "      <th>credit_amount</th>\n",
       "      <td>1000.0</td>\n",
       "      <td>3271.258</td>\n",
       "      <td>2822.736876</td>\n",
       "      <td>250.0</td>\n",
       "      <td>1365.5</td>\n",
       "      <td>2319.5</td>\n",
       "      <td>3972.25</td>\n",
       "      <td>18424.0</td>\n",
       "    </tr>\n",
       "    <tr>\n",
       "      <th>installment_as_income_perc</th>\n",
       "      <td>1000.0</td>\n",
       "      <td>2.973</td>\n",
       "      <td>1.118715</td>\n",
       "      <td>1.0</td>\n",
       "      <td>2.0</td>\n",
       "      <td>3.0</td>\n",
       "      <td>4.00</td>\n",
       "      <td>4.0</td>\n",
       "    </tr>\n",
       "    <tr>\n",
       "      <th>present_res_since</th>\n",
       "      <td>1000.0</td>\n",
       "      <td>2.845</td>\n",
       "      <td>1.103718</td>\n",
       "      <td>1.0</td>\n",
       "      <td>2.0</td>\n",
       "      <td>3.0</td>\n",
       "      <td>4.00</td>\n",
       "      <td>4.0</td>\n",
       "    </tr>\n",
       "    <tr>\n",
       "      <th>age</th>\n",
       "      <td>1000.0</td>\n",
       "      <td>35.546</td>\n",
       "      <td>11.375469</td>\n",
       "      <td>19.0</td>\n",
       "      <td>27.0</td>\n",
       "      <td>33.0</td>\n",
       "      <td>42.00</td>\n",
       "      <td>75.0</td>\n",
       "    </tr>\n",
       "    <tr>\n",
       "      <th>credits_this_bank</th>\n",
       "      <td>1000.0</td>\n",
       "      <td>1.407</td>\n",
       "      <td>0.577654</td>\n",
       "      <td>1.0</td>\n",
       "      <td>1.0</td>\n",
       "      <td>1.0</td>\n",
       "      <td>2.00</td>\n",
       "      <td>4.0</td>\n",
       "    </tr>\n",
       "    <tr>\n",
       "      <th>people_under_maintenance</th>\n",
       "      <td>1000.0</td>\n",
       "      <td>1.155</td>\n",
       "      <td>0.362086</td>\n",
       "      <td>1.0</td>\n",
       "      <td>1.0</td>\n",
       "      <td>1.0</td>\n",
       "      <td>1.00</td>\n",
       "      <td>2.0</td>\n",
       "    </tr>\n",
       "  </tbody>\n",
       "</table>\n",
       "</div>"
      ],
      "text/plain": [
       "                             count      mean          std    min     25%  \\\n",
       "duration_in_month           1000.0    20.903    12.058814    4.0    12.0   \n",
       "credit_amount               1000.0  3271.258  2822.736876  250.0  1365.5   \n",
       "installment_as_income_perc  1000.0     2.973     1.118715    1.0     2.0   \n",
       "present_res_since           1000.0     2.845     1.103718    1.0     2.0   \n",
       "age                         1000.0    35.546    11.375469   19.0    27.0   \n",
       "credits_this_bank           1000.0     1.407     0.577654    1.0     1.0   \n",
       "people_under_maintenance    1000.0     1.155     0.362086    1.0     1.0   \n",
       "\n",
       "                               50%      75%      max  \n",
       "duration_in_month             18.0    24.00     72.0  \n",
       "credit_amount               2319.5  3972.25  18424.0  \n",
       "installment_as_income_perc     3.0     4.00      4.0  \n",
       "present_res_since              3.0     4.00      4.0  \n",
       "age                           33.0    42.00     75.0  \n",
       "credits_this_bank              1.0     2.00      4.0  \n",
       "people_under_maintenance       1.0     1.00      2.0  "
      ]
     },
     "execution_count": 12,
     "metadata": {},
     "output_type": "execute_result"
    }
   ],
   "source": [
    "#5-point summary of numerical columns\n",
    "\n",
    "gc_df.drop('default', axis=1).describe().T"
   ]
  },
  {
   "cell_type": "code",
   "execution_count": 13,
   "metadata": {
    "colab": {},
    "colab_type": "code",
    "id": "gKaiZis__0o0"
   },
   "outputs": [],
   "source": [
    "# Lets build a Ensemble model but need to modify the dataset first"
   ]
  },
  {
   "cell_type": "code",
   "execution_count": 14,
   "metadata": {},
   "outputs": [],
   "source": [
    "#Create DataFrame of all numerical columns\n",
    "\n",
    "num_columns = gc_df.select_dtypes(exclude='object')"
   ]
  },
  {
   "cell_type": "code",
   "execution_count": 15,
   "metadata": {},
   "outputs": [
    {
     "data": {
      "text/plain": [
       "Index(['default', 'duration_in_month', 'credit_amount',\n",
       "       'installment_as_income_perc', 'present_res_since', 'age',\n",
       "       'credits_this_bank', 'people_under_maintenance'],\n",
       "      dtype='object')"
      ]
     },
     "execution_count": 15,
     "metadata": {},
     "output_type": "execute_result"
    }
   ],
   "source": [
    "num_columns.columns"
   ]
  },
  {
   "cell_type": "code",
   "execution_count": 16,
   "metadata": {},
   "outputs": [
    {
     "data": {
      "text/plain": [
       "default                       int64\n",
       "duration_in_month             int64\n",
       "credit_amount                 int64\n",
       "installment_as_income_perc    int64\n",
       "present_res_since             int64\n",
       "age                           int64\n",
       "credits_this_bank             int64\n",
       "people_under_maintenance      int64\n",
       "dtype: object"
      ]
     },
     "execution_count": 16,
     "metadata": {},
     "output_type": "execute_result"
    }
   ],
   "source": [
    "num_columns.dtypes"
   ]
  },
  {
   "cell_type": "code",
   "execution_count": 17,
   "metadata": {},
   "outputs": [],
   "source": [
    "#Create DataFrame of all Categorical columns\n",
    "\n",
    "cat_columns = gc_df.select_dtypes(include='object')"
   ]
  },
  {
   "cell_type": "code",
   "execution_count": 18,
   "metadata": {},
   "outputs": [
    {
     "data": {
      "text/plain": [
       "Index(['account_check_status', 'credit_history', 'purpose', 'savings',\n",
       "       'present_emp_since', 'personal_status_sex', 'other_debtors', 'property',\n",
       "       'other_installment_plans', 'housing', 'job', 'telephone',\n",
       "       'foreign_worker'],\n",
       "      dtype='object')"
      ]
     },
     "execution_count": 18,
     "metadata": {},
     "output_type": "execute_result"
    }
   ],
   "source": [
    "cat_columns.columns"
   ]
  },
  {
   "cell_type": "code",
   "execution_count": 19,
   "metadata": {},
   "outputs": [
    {
     "data": {
      "text/plain": [
       "account_check_status       object\n",
       "credit_history             object\n",
       "purpose                    object\n",
       "savings                    object\n",
       "present_emp_since          object\n",
       "personal_status_sex        object\n",
       "other_debtors              object\n",
       "property                   object\n",
       "other_installment_plans    object\n",
       "housing                    object\n",
       "job                        object\n",
       "telephone                  object\n",
       "foreign_worker             object\n",
       "dtype: object"
      ]
     },
     "execution_count": 19,
     "metadata": {},
     "output_type": "execute_result"
    }
   ],
   "source": [
    "cat_columns.dtypes"
   ]
  },
  {
   "cell_type": "markdown",
   "metadata": {
    "colab_type": "text",
    "id": "utYEGBER_0o4"
   },
   "source": [
    "### Q2.Prepare the model data by converting non-numeric to dummy ( 1 Marks)\n",
    "##### Hint: Use get_dummies"
   ]
  },
  {
   "cell_type": "code",
   "execution_count": 20,
   "metadata": {},
   "outputs": [],
   "source": [
    "#Apply pd.get_dummies() method on the dataframe to convert all non-numeric variables to numeric type.\n",
    "\n",
    "gc_df = pd.get_dummies(gc_df, drop_first=True)"
   ]
  },
  {
   "cell_type": "code",
   "execution_count": 21,
   "metadata": {},
   "outputs": [
    {
     "data": {
      "text/plain": [
       "default                                                                       int64\n",
       "duration_in_month                                                             int64\n",
       "credit_amount                                                                 int64\n",
       "installment_as_income_perc                                                    int64\n",
       "present_res_since                                                             int64\n",
       "age                                                                           int64\n",
       "credits_this_bank                                                             int64\n",
       "people_under_maintenance                                                      int64\n",
       "account_check_status_< 0 DM                                                   uint8\n",
       "account_check_status_>= 200 DM / salary assignments for at least 1 year       uint8\n",
       "account_check_status_no checking account                                      uint8\n",
       "credit_history_critical account/ other credits existing (not at this bank)    uint8\n",
       "credit_history_delay in paying off in the past                                uint8\n",
       "credit_history_existing credits paid back duly till now                       uint8\n",
       "credit_history_no credits taken/ all credits paid back duly                   uint8\n",
       "purpose_business                                                              uint8\n",
       "purpose_car (new)                                                             uint8\n",
       "purpose_car (used)                                                            uint8\n",
       "purpose_domestic appliances                                                   uint8\n",
       "purpose_education                                                             uint8\n",
       "purpose_furniture/equipment                                                   uint8\n",
       "purpose_radio/television                                                      uint8\n",
       "purpose_repairs                                                               uint8\n",
       "purpose_retraining                                                            uint8\n",
       "savings_... < 100 DM                                                          uint8\n",
       "savings_100 <= ... < 500 DM                                                   uint8\n",
       "savings_500 <= ... < 1000 DM                                                  uint8\n",
       "savings_unknown/ no savings account                                           uint8\n",
       "present_emp_since_... < 1 year                                                uint8\n",
       "present_emp_since_1 <= ... < 4 years                                          uint8\n",
       "present_emp_since_4 <= ... < 7 years                                          uint8\n",
       "present_emp_since_unemployed                                                  uint8\n",
       "personal_status_sex_male : divorced/separated                                 uint8\n",
       "personal_status_sex_male : married/widowed                                    uint8\n",
       "personal_status_sex_male : single                                             uint8\n",
       "other_debtors_guarantor                                                       uint8\n",
       "other_debtors_none                                                            uint8\n",
       "property_if not A121/A122 : car or other, not in attribute 6                  uint8\n",
       "property_real estate                                                          uint8\n",
       "property_unknown / no property                                                uint8\n",
       "other_installment_plans_none                                                  uint8\n",
       "other_installment_plans_stores                                                uint8\n",
       "housing_own                                                                   uint8\n",
       "housing_rent                                                                  uint8\n",
       "job_skilled employee / official                                               uint8\n",
       "job_unemployed/ unskilled - non-resident                                      uint8\n",
       "job_unskilled - resident                                                      uint8\n",
       "telephone_yes, registered under the customers name                            uint8\n",
       "foreign_worker_yes                                                            uint8\n",
       "dtype: object"
      ]
     },
     "execution_count": 21,
     "metadata": {},
     "output_type": "execute_result"
    }
   ],
   "source": [
    "#Check the datatypes of all columns after one-hot encoding using get_dummies() method.\n",
    "\n",
    "gc_df.dtypes"
   ]
  },
  {
   "cell_type": "code",
   "execution_count": 22,
   "metadata": {
    "colab": {},
    "colab_type": "code",
    "id": "wjyTJcA6_0o6",
    "outputId": "e6bf7e9d-5732-4836-c0bb-fe03ba34683e"
   },
   "outputs": [],
   "source": [
    "# Print Shape of model data"
   ]
  },
  {
   "cell_type": "code",
   "execution_count": 23,
   "metadata": {},
   "outputs": [
    {
     "data": {
      "text/plain": [
       "(1000, 49)"
      ]
     },
     "execution_count": 23,
     "metadata": {},
     "output_type": "execute_result"
    }
   ],
   "source": [
    "gc_df.shape"
   ]
  },
  {
   "cell_type": "markdown",
   "metadata": {
    "colab_type": "text",
    "id": "ytl4nlUW_0pA"
   },
   "source": [
    "### Check for highly correlated variables but don't required any treatment for this use case"
   ]
  },
  {
   "cell_type": "code",
   "execution_count": 24,
   "metadata": {
    "colab": {},
    "colab_type": "code",
    "id": "0W02DKRx_0pA"
   },
   "outputs": [
    {
     "data": {
      "text/html": [
       "<style  type=\"text/css\" >\n",
       "    #T_788694c0_0863_11ea_9f2e_c8d3ffe08fd8row0_col0 {\n",
       "            background-color:  #081d58;\n",
       "            color:  #f1f1f1;\n",
       "        }    #T_788694c0_0863_11ea_9f2e_c8d3ffe08fd8row0_col1 {\n",
       "            background-color:  #2070b0;\n",
       "            color:  #f1f1f1;\n",
       "        }    #T_788694c0_0863_11ea_9f2e_c8d3ffe08fd8row0_col2 {\n",
       "            background-color:  #bbe4b5;\n",
       "            color:  #000000;\n",
       "        }    #T_788694c0_0863_11ea_9f2e_c8d3ffe08fd8row0_col3 {\n",
       "            background-color:  #feffd8;\n",
       "            color:  #000000;\n",
       "        }    #T_788694c0_0863_11ea_9f2e_c8d3ffe08fd8row0_col4 {\n",
       "            background-color:  #ffffd9;\n",
       "            color:  #000000;\n",
       "        }    #T_788694c0_0863_11ea_9f2e_c8d3ffe08fd8row0_col5 {\n",
       "            background-color:  #ffffd9;\n",
       "            color:  #000000;\n",
       "        }    #T_788694c0_0863_11ea_9f2e_c8d3ffe08fd8row0_col6 {\n",
       "            background-color:  #f9fdcb;\n",
       "            color:  #000000;\n",
       "        }    #T_788694c0_0863_11ea_9f2e_c8d3ffe08fd8row1_col0 {\n",
       "            background-color:  #1e8bbd;\n",
       "            color:  #000000;\n",
       "        }    #T_788694c0_0863_11ea_9f2e_c8d3ffe08fd8row1_col1 {\n",
       "            background-color:  #081d58;\n",
       "            color:  #f1f1f1;\n",
       "        }    #T_788694c0_0863_11ea_9f2e_c8d3ffe08fd8row1_col2 {\n",
       "            background-color:  #ffffd9;\n",
       "            color:  #000000;\n",
       "        }    #T_788694c0_0863_11ea_9f2e_c8d3ffe08fd8row1_col3 {\n",
       "            background-color:  #ffffd9;\n",
       "            color:  #000000;\n",
       "        }    #T_788694c0_0863_11ea_9f2e_c8d3ffe08fd8row1_col4 {\n",
       "            background-color:  #f5fbc4;\n",
       "            color:  #000000;\n",
       "        }    #T_788694c0_0863_11ea_9f2e_c8d3ffe08fd8row1_col5 {\n",
       "            background-color:  #fafdcf;\n",
       "            color:  #000000;\n",
       "        }    #T_788694c0_0863_11ea_9f2e_c8d3ffe08fd8row1_col6 {\n",
       "            background-color:  #f3fabf;\n",
       "            color:  #000000;\n",
       "        }    #T_788694c0_0863_11ea_9f2e_c8d3ffe08fd8row2_col0 {\n",
       "            background-color:  #f0f9b7;\n",
       "            color:  #000000;\n",
       "        }    #T_788694c0_0863_11ea_9f2e_c8d3ffe08fd8row2_col1 {\n",
       "            background-color:  #ffffd9;\n",
       "            color:  #000000;\n",
       "        }    #T_788694c0_0863_11ea_9f2e_c8d3ffe08fd8row2_col2 {\n",
       "            background-color:  #081d58;\n",
       "            color:  #f1f1f1;\n",
       "        }    #T_788694c0_0863_11ea_9f2e_c8d3ffe08fd8row2_col3 {\n",
       "            background-color:  #fcfed3;\n",
       "            color:  #000000;\n",
       "        }    #T_788694c0_0863_11ea_9f2e_c8d3ffe08fd8row2_col4 {\n",
       "            background-color:  #f2fabc;\n",
       "            color:  #000000;\n",
       "        }    #T_788694c0_0863_11ea_9f2e_c8d3ffe08fd8row2_col5 {\n",
       "            background-color:  #fafdcf;\n",
       "            color:  #000000;\n",
       "        }    #T_788694c0_0863_11ea_9f2e_c8d3ffe08fd8row2_col6 {\n",
       "            background-color:  #ffffd9;\n",
       "            color:  #000000;\n",
       "        }    #T_788694c0_0863_11ea_9f2e_c8d3ffe08fd8row3_col0 {\n",
       "            background-color:  #f5fbc4;\n",
       "            color:  #000000;\n",
       "        }    #T_788694c0_0863_11ea_9f2e_c8d3ffe08fd8row3_col1 {\n",
       "            background-color:  #cbebb4;\n",
       "            color:  #000000;\n",
       "        }    #T_788694c0_0863_11ea_9f2e_c8d3ffe08fd8row3_col2 {\n",
       "            background-color:  #c6e9b4;\n",
       "            color:  #000000;\n",
       "        }    #T_788694c0_0863_11ea_9f2e_c8d3ffe08fd8row3_col3 {\n",
       "            background-color:  #081d58;\n",
       "            color:  #f1f1f1;\n",
       "        }    #T_788694c0_0863_11ea_9f2e_c8d3ffe08fd8row3_col4 {\n",
       "            background-color:  #b0e0b6;\n",
       "            color:  #000000;\n",
       "        }    #T_788694c0_0863_11ea_9f2e_c8d3ffe08fd8row3_col5 {\n",
       "            background-color:  #f1faba;\n",
       "            color:  #000000;\n",
       "        }    #T_788694c0_0863_11ea_9f2e_c8d3ffe08fd8row3_col6 {\n",
       "            background-color:  #f0f9b7;\n",
       "            color:  #000000;\n",
       "        }    #T_788694c0_0863_11ea_9f2e_c8d3ffe08fd8row4_col0 {\n",
       "            background-color:  #ffffd9;\n",
       "            color:  #000000;\n",
       "        }    #T_788694c0_0863_11ea_9f2e_c8d3ffe08fd8row4_col1 {\n",
       "            background-color:  #caeab4;\n",
       "            color:  #000000;\n",
       "        }    #T_788694c0_0863_11ea_9f2e_c8d3ffe08fd8row4_col2 {\n",
       "            background-color:  #c2e7b4;\n",
       "            color:  #000000;\n",
       "        }    #T_788694c0_0863_11ea_9f2e_c8d3ffe08fd8row4_col3 {\n",
       "            background-color:  #c9eab4;\n",
       "            color:  #000000;\n",
       "        }    #T_788694c0_0863_11ea_9f2e_c8d3ffe08fd8row4_col4 {\n",
       "            background-color:  #081d58;\n",
       "            color:  #f1f1f1;\n",
       "        }    #T_788694c0_0863_11ea_9f2e_c8d3ffe08fd8row4_col5 {\n",
       "            background-color:  #e3f4b2;\n",
       "            color:  #000000;\n",
       "        }    #T_788694c0_0863_11ea_9f2e_c8d3ffe08fd8row4_col6 {\n",
       "            background-color:  #ddf2b2;\n",
       "            color:  #000000;\n",
       "        }    #T_788694c0_0863_11ea_9f2e_c8d3ffe08fd8row5_col0 {\n",
       "            background-color:  #fcfed1;\n",
       "            color:  #000000;\n",
       "        }    #T_788694c0_0863_11ea_9f2e_c8d3ffe08fd8row5_col1 {\n",
       "            background-color:  #ceecb3;\n",
       "            color:  #000000;\n",
       "        }    #T_788694c0_0863_11ea_9f2e_c8d3ffe08fd8row5_col2 {\n",
       "            background-color:  #ceecb3;\n",
       "            color:  #000000;\n",
       "        }    #T_788694c0_0863_11ea_9f2e_c8d3ffe08fd8row5_col3 {\n",
       "            background-color:  #f6fbc5;\n",
       "            color:  #000000;\n",
       "        }    #T_788694c0_0863_11ea_9f2e_c8d3ffe08fd8row5_col4 {\n",
       "            background-color:  #ddf2b2;\n",
       "            color:  #000000;\n",
       "        }    #T_788694c0_0863_11ea_9f2e_c8d3ffe08fd8row5_col5 {\n",
       "            background-color:  #081d58;\n",
       "            color:  #f1f1f1;\n",
       "        }    #T_788694c0_0863_11ea_9f2e_c8d3ffe08fd8row5_col6 {\n",
       "            background-color:  #e0f3b2;\n",
       "            color:  #000000;\n",
       "        }    #T_788694c0_0863_11ea_9f2e_c8d3ffe08fd8row6_col0 {\n",
       "            background-color:  #fdfed5;\n",
       "            color:  #000000;\n",
       "        }    #T_788694c0_0863_11ea_9f2e_c8d3ffe08fd8row6_col1 {\n",
       "            background-color:  #ceecb3;\n",
       "            color:  #000000;\n",
       "        }    #T_788694c0_0863_11ea_9f2e_c8d3ffe08fd8row6_col2 {\n",
       "            background-color:  #e3f4b2;\n",
       "            color:  #000000;\n",
       "        }    #T_788694c0_0863_11ea_9f2e_c8d3ffe08fd8row6_col3 {\n",
       "            background-color:  #fdfed5;\n",
       "            color:  #000000;\n",
       "        }    #T_788694c0_0863_11ea_9f2e_c8d3ffe08fd8row6_col4 {\n",
       "            background-color:  #e6f5b2;\n",
       "            color:  #000000;\n",
       "        }    #T_788694c0_0863_11ea_9f2e_c8d3ffe08fd8row6_col5 {\n",
       "            background-color:  #eef8b3;\n",
       "            color:  #000000;\n",
       "        }    #T_788694c0_0863_11ea_9f2e_c8d3ffe08fd8row6_col6 {\n",
       "            background-color:  #081d58;\n",
       "            color:  #f1f1f1;\n",
       "        }</style><table id=\"T_788694c0_0863_11ea_9f2e_c8d3ffe08fd8\" ><thead>    <tr>        <th class=\"blank level0\" ></th>        <th class=\"col_heading level0 col0\" >duration_in_month</th>        <th class=\"col_heading level0 col1\" >credit_amount</th>        <th class=\"col_heading level0 col2\" >installment_as_income_perc</th>        <th class=\"col_heading level0 col3\" >present_res_since</th>        <th class=\"col_heading level0 col4\" >age</th>        <th class=\"col_heading level0 col5\" >credits_this_bank</th>        <th class=\"col_heading level0 col6\" >people_under_maintenance</th>    </tr></thead><tbody>\n",
       "                <tr>\n",
       "                        <th id=\"T_788694c0_0863_11ea_9f2e_c8d3ffe08fd8level0_row0\" class=\"row_heading level0 row0\" >duration_in_month</th>\n",
       "                        <td id=\"T_788694c0_0863_11ea_9f2e_c8d3ffe08fd8row0_col0\" class=\"data row0 col0\" >1</td>\n",
       "                        <td id=\"T_788694c0_0863_11ea_9f2e_c8d3ffe08fd8row0_col1\" class=\"data row0 col1\" >0.624984</td>\n",
       "                        <td id=\"T_788694c0_0863_11ea_9f2e_c8d3ffe08fd8row0_col2\" class=\"data row0 col2\" >0.0747488</td>\n",
       "                        <td id=\"T_788694c0_0863_11ea_9f2e_c8d3ffe08fd8row0_col3\" class=\"data row0 col3\" >0.0340672</td>\n",
       "                        <td id=\"T_788694c0_0863_11ea_9f2e_c8d3ffe08fd8row0_col4\" class=\"data row0 col4\" >-0.0361364</td>\n",
       "                        <td id=\"T_788694c0_0863_11ea_9f2e_c8d3ffe08fd8row0_col5\" class=\"data row0 col5\" >-0.0112836</td>\n",
       "                        <td id=\"T_788694c0_0863_11ea_9f2e_c8d3ffe08fd8row0_col6\" class=\"data row0 col6\" >-0.0238345</td>\n",
       "            </tr>\n",
       "            <tr>\n",
       "                        <th id=\"T_788694c0_0863_11ea_9f2e_c8d3ffe08fd8level0_row1\" class=\"row_heading level0 row1\" >credit_amount</th>\n",
       "                        <td id=\"T_788694c0_0863_11ea_9f2e_c8d3ffe08fd8row1_col0\" class=\"data row1 col0\" >0.624984</td>\n",
       "                        <td id=\"T_788694c0_0863_11ea_9f2e_c8d3ffe08fd8row1_col1\" class=\"data row1 col1\" >1</td>\n",
       "                        <td id=\"T_788694c0_0863_11ea_9f2e_c8d3ffe08fd8row1_col2\" class=\"data row1 col2\" >-0.271316</td>\n",
       "                        <td id=\"T_788694c0_0863_11ea_9f2e_c8d3ffe08fd8row1_col3\" class=\"data row1 col3\" >0.0289263</td>\n",
       "                        <td id=\"T_788694c0_0863_11ea_9f2e_c8d3ffe08fd8row1_col4\" class=\"data row1 col4\" >0.0327164</td>\n",
       "                        <td id=\"T_788694c0_0863_11ea_9f2e_c8d3ffe08fd8row1_col5\" class=\"data row1 col5\" >0.0207946</td>\n",
       "                        <td id=\"T_788694c0_0863_11ea_9f2e_c8d3ffe08fd8row1_col6\" class=\"data row1 col6\" >0.0171422</td>\n",
       "            </tr>\n",
       "            <tr>\n",
       "                        <th id=\"T_788694c0_0863_11ea_9f2e_c8d3ffe08fd8level0_row2\" class=\"row_heading level0 row2\" >installment_as_income_perc</th>\n",
       "                        <td id=\"T_788694c0_0863_11ea_9f2e_c8d3ffe08fd8row2_col0\" class=\"data row2 col0\" >0.0747488</td>\n",
       "                        <td id=\"T_788694c0_0863_11ea_9f2e_c8d3ffe08fd8row2_col1\" class=\"data row2 col1\" >-0.271316</td>\n",
       "                        <td id=\"T_788694c0_0863_11ea_9f2e_c8d3ffe08fd8row2_col2\" class=\"data row2 col2\" >1</td>\n",
       "                        <td id=\"T_788694c0_0863_11ea_9f2e_c8d3ffe08fd8row2_col3\" class=\"data row2 col3\" >0.0493024</td>\n",
       "                        <td id=\"T_788694c0_0863_11ea_9f2e_c8d3ffe08fd8row2_col4\" class=\"data row2 col4\" >0.0582657</td>\n",
       "                        <td id=\"T_788694c0_0863_11ea_9f2e_c8d3ffe08fd8row2_col5\" class=\"data row2 col5\" >0.0216687</td>\n",
       "                        <td id=\"T_788694c0_0863_11ea_9f2e_c8d3ffe08fd8row2_col6\" class=\"data row2 col6\" >-0.0712069</td>\n",
       "            </tr>\n",
       "            <tr>\n",
       "                        <th id=\"T_788694c0_0863_11ea_9f2e_c8d3ffe08fd8level0_row3\" class=\"row_heading level0 row3\" >present_res_since</th>\n",
       "                        <td id=\"T_788694c0_0863_11ea_9f2e_c8d3ffe08fd8row3_col0\" class=\"data row3 col0\" >0.0340672</td>\n",
       "                        <td id=\"T_788694c0_0863_11ea_9f2e_c8d3ffe08fd8row3_col1\" class=\"data row3 col1\" >0.0289263</td>\n",
       "                        <td id=\"T_788694c0_0863_11ea_9f2e_c8d3ffe08fd8row3_col2\" class=\"data row3 col2\" >0.0493024</td>\n",
       "                        <td id=\"T_788694c0_0863_11ea_9f2e_c8d3ffe08fd8row3_col3\" class=\"data row3 col3\" >1</td>\n",
       "                        <td id=\"T_788694c0_0863_11ea_9f2e_c8d3ffe08fd8row3_col4\" class=\"data row3 col4\" >0.266419</td>\n",
       "                        <td id=\"T_788694c0_0863_11ea_9f2e_c8d3ffe08fd8row3_col5\" class=\"data row3 col5\" >0.0896252</td>\n",
       "                        <td id=\"T_788694c0_0863_11ea_9f2e_c8d3ffe08fd8row3_col6\" class=\"data row3 col6\" >0.0426434</td>\n",
       "            </tr>\n",
       "            <tr>\n",
       "                        <th id=\"T_788694c0_0863_11ea_9f2e_c8d3ffe08fd8level0_row4\" class=\"row_heading level0 row4\" >age</th>\n",
       "                        <td id=\"T_788694c0_0863_11ea_9f2e_c8d3ffe08fd8row4_col0\" class=\"data row4 col0\" >-0.0361364</td>\n",
       "                        <td id=\"T_788694c0_0863_11ea_9f2e_c8d3ffe08fd8row4_col1\" class=\"data row4 col1\" >0.0327164</td>\n",
       "                        <td id=\"T_788694c0_0863_11ea_9f2e_c8d3ffe08fd8row4_col2\" class=\"data row4 col2\" >0.0582657</td>\n",
       "                        <td id=\"T_788694c0_0863_11ea_9f2e_c8d3ffe08fd8row4_col3\" class=\"data row4 col3\" >0.266419</td>\n",
       "                        <td id=\"T_788694c0_0863_11ea_9f2e_c8d3ffe08fd8row4_col4\" class=\"data row4 col4\" >1</td>\n",
       "                        <td id=\"T_788694c0_0863_11ea_9f2e_c8d3ffe08fd8row4_col5\" class=\"data row4 col5\" >0.149254</td>\n",
       "                        <td id=\"T_788694c0_0863_11ea_9f2e_c8d3ffe08fd8row4_col6\" class=\"data row4 col6\" >0.118201</td>\n",
       "            </tr>\n",
       "            <tr>\n",
       "                        <th id=\"T_788694c0_0863_11ea_9f2e_c8d3ffe08fd8level0_row5\" class=\"row_heading level0 row5\" >credits_this_bank</th>\n",
       "                        <td id=\"T_788694c0_0863_11ea_9f2e_c8d3ffe08fd8row5_col0\" class=\"data row5 col0\" >-0.0112836</td>\n",
       "                        <td id=\"T_788694c0_0863_11ea_9f2e_c8d3ffe08fd8row5_col1\" class=\"data row5 col1\" >0.0207946</td>\n",
       "                        <td id=\"T_788694c0_0863_11ea_9f2e_c8d3ffe08fd8row5_col2\" class=\"data row5 col2\" >0.0216687</td>\n",
       "                        <td id=\"T_788694c0_0863_11ea_9f2e_c8d3ffe08fd8row5_col3\" class=\"data row5 col3\" >0.0896252</td>\n",
       "                        <td id=\"T_788694c0_0863_11ea_9f2e_c8d3ffe08fd8row5_col4\" class=\"data row5 col4\" >0.149254</td>\n",
       "                        <td id=\"T_788694c0_0863_11ea_9f2e_c8d3ffe08fd8row5_col5\" class=\"data row5 col5\" >1</td>\n",
       "                        <td id=\"T_788694c0_0863_11ea_9f2e_c8d3ffe08fd8row5_col6\" class=\"data row5 col6\" >0.109667</td>\n",
       "            </tr>\n",
       "            <tr>\n",
       "                        <th id=\"T_788694c0_0863_11ea_9f2e_c8d3ffe08fd8level0_row6\" class=\"row_heading level0 row6\" >people_under_maintenance</th>\n",
       "                        <td id=\"T_788694c0_0863_11ea_9f2e_c8d3ffe08fd8row6_col0\" class=\"data row6 col0\" >-0.0238345</td>\n",
       "                        <td id=\"T_788694c0_0863_11ea_9f2e_c8d3ffe08fd8row6_col1\" class=\"data row6 col1\" >0.0171422</td>\n",
       "                        <td id=\"T_788694c0_0863_11ea_9f2e_c8d3ffe08fd8row6_col2\" class=\"data row6 col2\" >-0.0712069</td>\n",
       "                        <td id=\"T_788694c0_0863_11ea_9f2e_c8d3ffe08fd8row6_col3\" class=\"data row6 col3\" >0.0426434</td>\n",
       "                        <td id=\"T_788694c0_0863_11ea_9f2e_c8d3ffe08fd8row6_col4\" class=\"data row6 col4\" >0.118201</td>\n",
       "                        <td id=\"T_788694c0_0863_11ea_9f2e_c8d3ffe08fd8row6_col5\" class=\"data row6 col5\" >0.109667</td>\n",
       "                        <td id=\"T_788694c0_0863_11ea_9f2e_c8d3ffe08fd8row6_col6\" class=\"data row6 col6\" >1</td>\n",
       "            </tr>\n",
       "    </tbody></table>"
      ],
      "text/plain": [
       "<pandas.io.formats.style.Styler at 0x205b8085160>"
      ]
     },
     "execution_count": 24,
     "metadata": {},
     "output_type": "execute_result"
    }
   ],
   "source": [
    "#Check the correlation between all numerical columns.\n",
    "#Drop default columna s it is the target column and is categorical, even though the datatype is int\n",
    "\n",
    "corr = num_columns.drop('default', axis=1).corr()\n",
    "corr.style.background_gradient(cmap='YlGnBu')"
   ]
  },
  {
   "cell_type": "code",
   "execution_count": 25,
   "metadata": {},
   "outputs": [
    {
     "data": {
      "image/png": "[encoded data removed]",
      "text/plain": [
       "<Figure size 432x288 with 2 Axes>"
      ]
     },
     "metadata": {
      "needs_background": "light"
     },
     "output_type": "display_data"
    }
   ],
   "source": [
    "#heat map to visualize correlation between numerical columns\n",
    "\n",
    "ax = sns.heatmap(corr, annot=True)"
   ]
  },
  {
   "cell_type": "markdown",
   "metadata": {
    "colab_type": "text",
    "id": "XLtFcI1m_0pQ"
   },
   "source": [
    "### Q3 Split Train/Test data 70:30 ratio( 1 Marks)\n",
    "##### Hint:from sklearn.model_selection import train_test_split"
   ]
  },
  {
   "cell_type": "code",
   "execution_count": 26,
   "metadata": {},
   "outputs": [],
   "source": [
    "# Create Features datset and target dataset\n",
    "\n",
    "X = gc_df.drop('default', axis=1)\n",
    "y = gc_df['default']"
   ]
  },
  {
   "cell_type": "code",
   "execution_count": 27,
   "metadata": {
    "colab": {},
    "colab_type": "code",
    "id": "pHxXKL92_0pS"
   },
   "outputs": [],
   "source": [
    "#use test-train_split() in model_selection module to split the dataset\n",
    "\n",
    "from sklearn.model_selection import train_test_split"
   ]
  },
  {
   "cell_type": "code",
   "execution_count": 28,
   "metadata": {},
   "outputs": [],
   "source": [
    "#split the dataset in the ratio 70:30 with random seed of 7\n",
    "\n",
    "X_train, X_test, y_train, y_test = train_test_split(X, y, test_size=0.30, random_state=7)"
   ]
  },
  {
   "cell_type": "markdown",
   "metadata": {
    "colab_type": "text",
    "id": "wWTpd4Ng_0pW"
   },
   "source": [
    "### Q4 Build Random Forest Model( 2 Marks)\n",
    "#### Hint:from sklearn.ensemble import RandomForestClassifier using n_jobs=2,n_estimators=500,criterion=\"entropy\",random_state=9999"
   ]
  },
  {
   "cell_type": "code",
   "execution_count": 29,
   "metadata": {
    "colab": {},
    "colab_type": "code",
    "id": "AHX5tgQm_0pY"
   },
   "outputs": [],
   "source": [
    "#Import RandomForestClassifier from ensemble module\n",
    "\n",
    "from sklearn.ensemble import RandomForestClassifier"
   ]
  },
  {
   "cell_type": "code",
   "execution_count": 30,
   "metadata": {},
   "outputs": [],
   "source": [
    "#Instantiate the RandomForestClassifier class\n",
    "\n",
    "rf_clf = RandomForestClassifier(n_jobs=2,n_estimators=500,criterion=\"entropy\",random_state=9999)"
   ]
  },
  {
   "cell_type": "code",
   "execution_count": 31,
   "metadata": {},
   "outputs": [
    {
     "data": {
      "text/plain": [
       "RandomForestClassifier(bootstrap=True, class_weight=None, criterion='entropy',\n",
       "                       max_depth=None, max_features='auto', max_leaf_nodes=None,\n",
       "                       min_impurity_decrease=0.0, min_impurity_split=None,\n",
       "                       min_samples_leaf=1, min_samples_split=2,\n",
       "                       min_weight_fraction_leaf=0.0, n_estimators=500, n_jobs=2,\n",
       "                       oob_score=False, random_state=9999, verbose=0,\n",
       "                       warm_start=False)"
      ]
     },
     "execution_count": 31,
     "metadata": {},
     "output_type": "execute_result"
    }
   ],
   "source": [
    "#Fit the model on training set\n",
    "\n",
    "rf_clf.fit(X_train, y_train)"
   ]
  },
  {
   "cell_type": "code",
   "execution_count": 32,
   "metadata": {},
   "outputs": [],
   "source": [
    "#Predict the target classes using test set\n",
    "\n",
    "yhat_rf = rf_clf.predict(X_test)"
   ]
  },
  {
   "cell_type": "code",
   "execution_count": 33,
   "metadata": {},
   "outputs": [
    {
     "data": {
      "text/plain": [
       "1.0"
      ]
     },
     "execution_count": 33,
     "metadata": {},
     "output_type": "execute_result"
    }
   ],
   "source": [
    "#Model accuracy with score() method on training set\n",
    "\n",
    "rf_clf.score(X_train, y_train)"
   ]
  },
  {
   "cell_type": "code",
   "execution_count": 34,
   "metadata": {},
   "outputs": [
    {
     "data": {
      "text/plain": [
       "0.79"
      ]
     },
     "execution_count": 34,
     "metadata": {},
     "output_type": "execute_result"
    }
   ],
   "source": [
    "#Model accuracy with score() method on test set\n",
    "\n",
    "rf_clf.score(X_test, y_test)"
   ]
  },
  {
   "cell_type": "markdown",
   "metadata": {
    "colab_type": "text",
    "id": "LuQwgG7T_0pa"
   },
   "source": [
    "### Q5 Calculate Confusion Matrix and Accuracy score (1 Marks)\n",
    "##### Hint: Use confusion_matrix and accuracy_score"
   ]
  },
  {
   "cell_type": "code",
   "execution_count": 35,
   "metadata": {
    "colab": {},
    "colab_type": "code",
    "id": "YgczdMEB_0pc"
   },
   "outputs": [],
   "source": [
    "#Import require accuracy metrics from metrics module\n",
    "\n",
    "from sklearn.metrics import confusion_matrix, accuracy_score\n",
    "from sklearn.metrics import precision_score, recall_score, f1_score"
   ]
  },
  {
   "cell_type": "code",
   "execution_count": 36,
   "metadata": {},
   "outputs": [
    {
     "data": {
      "text/plain": [
       "array([[202,  15],\n",
       "       [ 48,  35]], dtype=int64)"
      ]
     },
     "execution_count": 36,
     "metadata": {},
     "output_type": "execute_result"
    }
   ],
   "source": [
    "#confusion matrix\n",
    "\n",
    "confusion_matrix(y_test, yhat_rf)"
   ]
  },
  {
   "cell_type": "code",
   "execution_count": 37,
   "metadata": {},
   "outputs": [
    {
     "data": {
      "text/plain": [
       "0.79"
      ]
     },
     "execution_count": 37,
     "metadata": {},
     "output_type": "execute_result"
    }
   ],
   "source": [
    "#Accuracy score\n",
    "\n",
    "accuracy_score(y_test, yhat_rf)"
   ]
  },
  {
   "cell_type": "code",
   "execution_count": 38,
   "metadata": {},
   "outputs": [
    {
     "data": {
      "text/plain": [
       "0.7"
      ]
     },
     "execution_count": 38,
     "metadata": {},
     "output_type": "execute_result"
    }
   ],
   "source": [
    "#Precision score\n",
    "\n",
    "precision_score(y_test, yhat_rf)"
   ]
  },
  {
   "cell_type": "code",
   "execution_count": 39,
   "metadata": {},
   "outputs": [
    {
     "data": {
      "text/plain": [
       "0.42168674698795183"
      ]
     },
     "execution_count": 39,
     "metadata": {},
     "output_type": "execute_result"
    }
   ],
   "source": [
    "#Recall score\n",
    "\n",
    "recall_score(y_test, yhat_rf)"
   ]
  },
  {
   "cell_type": "code",
   "execution_count": 40,
   "metadata": {},
   "outputs": [
    {
     "data": {
      "text/plain": [
       "0.5263157894736842"
      ]
     },
     "execution_count": 40,
     "metadata": {},
     "output_type": "execute_result"
    }
   ],
   "source": [
    "#f1_score\n",
    "\n",
    "f1_score(y_test, yhat_rf)"
   ]
  },
  {
   "cell_type": "markdown",
   "metadata": {
    "colab_type": "text",
    "id": "x2wDGYcC_0pf"
   },
   "source": [
    "### Q6 Show the list of the features importance( 1 Marks)"
   ]
  },
  {
   "cell_type": "code",
   "execution_count": 41,
   "metadata": {
    "colab": {},
    "colab_type": "code",
    "id": "bEWKBXX8_0ph"
   },
   "outputs": [
    {
     "data": {
      "text/plain": [
       "array([0.08627249, 0.11617085, 0.04119211, 0.03983469, 0.09195836,\n",
       "       0.02083163, 0.0162916 , 0.0347387 , 0.01011159, 0.05691999,\n",
       "       0.02033489, 0.01008872, 0.01620212, 0.00903495, 0.01179654,\n",
       "       0.01891546, 0.01190483, 0.01701337, 0.00444198, 0.00210819,\n",
       "       0.01502832, 0.00257366, 0.00082346, 0.02092896, 0.01042512,\n",
       "       0.00723522, 0.01489094, 0.01805913, 0.01768662, 0.01493253,\n",
       "       0.01031341, 0.00786391, 0.01047386, 0.02095204, 0.0082958 ,\n",
       "       0.01202967, 0.01770357, 0.0175085 , 0.01713487, 0.02185859,\n",
       "       0.00697285, 0.01652216, 0.01224233, 0.01963493, 0.00417616,\n",
       "       0.01379909, 0.01992028, 0.00385094])"
      ]
     },
     "execution_count": 41,
     "metadata": {},
     "output_type": "execute_result"
    }
   ],
   "source": [
    "#Finding the features which are of importance\n",
    "\n",
    "rf_clf.feature_importances_"
   ]
  },
  {
   "cell_type": "code",
   "execution_count": 42,
   "metadata": {},
   "outputs": [
    {
     "name": "stdout",
     "output_type": "stream",
     "text": [
      "                                                    Feature Importance\n",
      "Features                                                              \n",
      "duration_in_month                                             0.086272\n",
      "credit_amount                                                 0.116171\n",
      "installment_as_income_perc                                    0.041192\n",
      "present_res_since                                             0.039835\n",
      "age                                                           0.091958\n",
      "credits_this_bank                                             0.020832\n",
      "people_under_maintenance                                      0.016292\n",
      "account_check_status_< 0 DM                                   0.034739\n",
      "account_check_status_>= 200 DM / salary assignm...            0.010112\n",
      "account_check_status_no checking account                      0.056920\n",
      "credit_history_critical account/ other credits ...            0.020335\n",
      "credit_history_delay in paying off in the past                0.010089\n",
      "credit_history_existing credits paid back duly ...            0.016202\n",
      "credit_history_no credits taken/ all credits pa...            0.009035\n",
      "purpose_business                                              0.011797\n",
      "purpose_car (new)                                             0.018915\n",
      "purpose_car (used)                                            0.011905\n",
      "purpose_domestic appliances                                   0.017013\n",
      "purpose_education                                             0.004442\n",
      "purpose_furniture/equipment                                   0.002108\n",
      "purpose_radio/television                                      0.015028\n",
      "purpose_repairs                                               0.002574\n",
      "purpose_retraining                                            0.000823\n",
      "savings_... < 100 DM                                          0.020929\n",
      "savings_100 <= ... < 500 DM                                   0.010425\n",
      "savings_500 <= ... < 1000 DM                                  0.007235\n",
      "savings_unknown/ no savings account                           0.014891\n",
      "present_emp_since_... < 1 year                                0.018059\n",
      "present_emp_since_1 <= ... < 4 years                          0.017687\n",
      "present_emp_since_4 <= ... < 7 years                          0.014933\n",
      "present_emp_since_unemployed                                  0.010313\n",
      "personal_status_sex_male : divorced/separated                 0.007864\n",
      "personal_status_sex_male : married/widowed                    0.010474\n",
      "personal_status_sex_male : single                             0.020952\n",
      "other_debtors_guarantor                                       0.008296\n",
      "other_debtors_none                                            0.012030\n",
      "property_if not A121/A122 : car or other, not i...            0.017704\n",
      "property_real estate                                          0.017509\n",
      "property_unknown / no property                                0.017135\n",
      "other_installment_plans_none                                  0.021859\n",
      "other_installment_plans_stores                                0.006973\n",
      "housing_own                                                   0.016522\n",
      "housing_rent                                                  0.012242\n",
      "job_skilled employee / official                               0.019635\n",
      "job_unemployed/ unskilled - non-resident                      0.004176\n",
      "job_unskilled - resident                                      0.013799\n",
      "telephone_yes, registered under the customers n...            0.019920\n",
      "foreign_worker_yes                                            0.003851\n"
     ]
    }
   ],
   "source": [
    "# Print the Feature list and the feature importance using a DataFrame\n",
    "\n",
    "feature_imp = pd.DataFrame(rf_clf.feature_importances_, columns = [\"Feature Importance\"], index = X_train.columns)\n",
    "feature_imp.index.name = 'Features'\n",
    "print(feature_imp)"
   ]
  },
  {
   "cell_type": "markdown",
   "metadata": {
    "colab_type": "text",
    "id": "U7VnUE71_0pk"
   },
   "source": [
    "### Q7 K-fold cross-validation( 2 Marks)\n",
    "##### k-fold cross validation( without stratification)\n",
    "##### Usually k is set as 10-20 in practical settings, depends on data set size"
   ]
  },
  {
   "cell_type": "code",
   "execution_count": 43,
   "metadata": {
    "colab": {},
    "colab_type": "code",
    "id": "Pf6rIo-c_0pm"
   },
   "outputs": [],
   "source": [
    "#Import KFold and cross_val_score from model_selection\n",
    "\n",
    "from sklearn.model_selection import KFold\n",
    "from sklearn.model_selection import cross_val_score"
   ]
  },
  {
   "cell_type": "code",
   "execution_count": 44,
   "metadata": {
    "colab": {},
    "colab_type": "code",
    "id": "SLIiX3BP_0pp"
   },
   "outputs": [],
   "source": [
    "# Use below values\n",
    "num_folds = 10\n",
    "seed = 77"
   ]
  },
  {
   "cell_type": "code",
   "execution_count": 45,
   "metadata": {
    "colab": {},
    "colab_type": "code",
    "id": "lDyCh_OG_0pt"
   },
   "outputs": [],
   "source": [
    "#Validate the Random Forest model build above using k fold"
   ]
  },
  {
   "cell_type": "code",
   "execution_count": 46,
   "metadata": {
    "colab": {},
    "colab_type": "code",
    "id": "fvxAgXik_0p0"
   },
   "outputs": [],
   "source": [
    "#Perform the k-fold training using for loop with an instance of KFold class for k=10 folds and seed=77\n",
    "#Find the scores by fitting the model on train sets using KFold method\n",
    "\n",
    "scores_manual = []\n",
    "kfold_cv = KFold(n_splits=10, shuffle=False, random_state=77)\n",
    "for i in range(10):\n",
    "    result = next(kfold_cv.split(X), None)\n",
    "    X_tr = X.iloc[result[0]]\n",
    "    X_te = X.iloc[result[1]]\n",
    "    y_tr = y.iloc[result[0]]\n",
    "    y_te = y.iloc[result[1]]\n",
    "    rf_clf.fit(X_tr, y_tr)\n",
    "    scores_manual.append(rf_clf.score(X_te,y_te))"
   ]
  },
  {
   "cell_type": "code",
   "execution_count": 47,
   "metadata": {},
   "outputs": [
    {
     "name": "stdout",
     "output_type": "stream",
     "text": [
      "\n",
      "Performance Measures for k-fold training using instance of KFold class:\n",
      "\n",
      "Mean Score is 0.8699999999999999 and Standard Deviation Score is 1.1102230246251565e-16\n",
      "\n"
     ]
    }
   ],
   "source": [
    "#Print Performance measures by fitting the model on train sets got by splitting the datset using KFold \n",
    "\n",
    "\n",
    "print(\"\\nPerformance Measures for k-fold training using instance of KFold class:\\n\")\n",
    "print('Mean Score is {0} and Standard Deviation Score is {1}\\n'.format(np.mean(scores_manual), np.std(scores_manual)))"
   ]
  },
  {
   "cell_type": "code",
   "execution_count": 48,
   "metadata": {},
   "outputs": [],
   "source": [
    "#Find the scores by fitting the model on train sets using cross_val_score method\n",
    "\n",
    "scores = cross_val_score(rf_clf, X, y, cv=10)"
   ]
  },
  {
   "cell_type": "code",
   "execution_count": 49,
   "metadata": {
    "colab": {},
    "colab_type": "code",
    "id": "6r8p73dT_0p6"
   },
   "outputs": [],
   "source": [
    "#Calculate Mean score"
   ]
  },
  {
   "cell_type": "code",
   "execution_count": 50,
   "metadata": {},
   "outputs": [
    {
     "name": "stdout",
     "output_type": "stream",
     "text": [
      "\n",
      "Performance Measures using cross_val_score method:\n",
      "\n",
      "Mean Score is  0.759 \n",
      "\n"
     ]
    }
   ],
   "source": [
    "print(\"\\nPerformance Measures using cross_val_score method:\\n\")\n",
    "print(\"Mean Score is \", scores.mean(), \"\\n\")"
   ]
  },
  {
   "cell_type": "code",
   "execution_count": 51,
   "metadata": {
    "colab": {},
    "colab_type": "code",
    "id": "Rr132f7H_0qD"
   },
   "outputs": [],
   "source": [
    "# Calculate score standard deviation using std()"
   ]
  },
  {
   "cell_type": "code",
   "execution_count": 52,
   "metadata": {},
   "outputs": [
    {
     "name": "stdout",
     "output_type": "stream",
     "text": [
      "\n",
      "Performance Measures using cross_val_score method:\n",
      "\n",
      "Standard Deviation Score is  0.04085339643163101 \n",
      "\n"
     ]
    }
   ],
   "source": [
    "print(\"\\nPerformance Measures using cross_val_score method:\\n\")\n",
    "print(\"Standard Deviation Score is \", scores.std(), \"\\n\")"
   ]
  },
  {
   "cell_type": "markdown",
   "metadata": {
    "colab_type": "text",
    "id": "kB0x5yLs_0qM"
   },
   "source": [
    "### Q8 Build Ada boosting model, check the accuracy, and print confusion matrix ( 1 Marks)"
   ]
  },
  {
   "cell_type": "code",
   "execution_count": 53,
   "metadata": {
    "colab": {},
    "colab_type": "code",
    "id": "WiS5l8Cn_0qO"
   },
   "outputs": [
    {
     "name": "stdout",
     "output_type": "stream",
     "text": [
      "(1000, 48) (1000,)\n",
      "(700, 48) (700,)\n",
      "(300, 48) (300,)\n"
     ]
    }
   ],
   "source": [
    "#Check the shape of X, y,training set and test sets\n",
    "\n",
    "print(X.shape, y.shape)\n",
    "print(X_train.shape, y_train.shape)\n",
    "print(X_test.shape, y_test.shape)"
   ]
  },
  {
   "cell_type": "code",
   "execution_count": 54,
   "metadata": {},
   "outputs": [],
   "source": [
    "#Import AdaBoostClassifier from ensemble module\n",
    "#Import DecisionTreeClassifier from tree module\n",
    "\n",
    "from sklearn.ensemble import AdaBoostClassifier\n",
    "from sklearn.tree import DecisionTreeClassifier"
   ]
  },
  {
   "cell_type": "code",
   "execution_count": 55,
   "metadata": {},
   "outputs": [],
   "source": [
    "#Implementing AdaBoost Classifier using SAMME.R method which relies on class probabilities\n",
    "#Instantiate the AdaBoostClassifier class\n",
    "\n",
    "adb_clf = AdaBoostClassifier(base_estimator=DecisionTreeClassifier(max_depth=3,criterion='gini',random_state=7)\n",
    "                             ,n_estimators=100, learning_rate=1.0, algorithm='SAMME.R', random_state=7)"
   ]
  },
  {
   "cell_type": "code",
   "execution_count": 56,
   "metadata": {},
   "outputs": [
    {
     "data": {
      "text/plain": [
       "AdaBoostClassifier(algorithm='SAMME.R',\n",
       "                   base_estimator=DecisionTreeClassifier(class_weight=None,\n",
       "                                                         criterion='gini',\n",
       "                                                         max_depth=3,\n",
       "                                                         max_features=None,\n",
       "                                                         max_leaf_nodes=None,\n",
       "                                                         min_impurity_decrease=0.0,\n",
       "                                                         min_impurity_split=None,\n",
       "                                                         min_samples_leaf=1,\n",
       "                                                         min_samples_split=2,\n",
       "                                                         min_weight_fraction_leaf=0.0,\n",
       "                                                         presort=False,\n",
       "                                                         random_state=7,\n",
       "                                                         splitter='best'),\n",
       "                   learning_rate=1.0, n_estimators=100, random_state=7)"
      ]
     },
     "execution_count": 56,
     "metadata": {},
     "output_type": "execute_result"
    }
   ],
   "source": [
    "#Fit the model on training set\n",
    "\n",
    "adb_clf.fit(X_train, y_train)"
   ]
  },
  {
   "cell_type": "code",
   "execution_count": 57,
   "metadata": {},
   "outputs": [],
   "source": [
    "#Predict the target classes using test set\n",
    "\n",
    "yhat_adb = adb_clf.predict(X_test)"
   ]
  },
  {
   "cell_type": "code",
   "execution_count": 58,
   "metadata": {},
   "outputs": [
    {
     "data": {
      "text/plain": [
       "1.0"
      ]
     },
     "execution_count": 58,
     "metadata": {},
     "output_type": "execute_result"
    }
   ],
   "source": [
    "#Model accuracy with score() method on training set\n",
    "\n",
    "adb_clf.score(X_train, y_train)"
   ]
  },
  {
   "cell_type": "code",
   "execution_count": 59,
   "metadata": {},
   "outputs": [
    {
     "data": {
      "text/plain": [
       "0.71"
      ]
     },
     "execution_count": 59,
     "metadata": {},
     "output_type": "execute_result"
    }
   ],
   "source": [
    "#Model accuracy with score() method on test set\n",
    "\n",
    "adb_clf.score(X_test, y_test)"
   ]
  },
  {
   "cell_type": "code",
   "execution_count": 60,
   "metadata": {},
   "outputs": [
    {
     "data": {
      "text/plain": [
       "array([[171,  46],\n",
       "       [ 41,  42]], dtype=int64)"
      ]
     },
     "execution_count": 60,
     "metadata": {},
     "output_type": "execute_result"
    }
   ],
   "source": [
    "#confusion matrix\n",
    "\n",
    "confusion_matrix(y_test, yhat_adb)"
   ]
  },
  {
   "cell_type": "code",
   "execution_count": 61,
   "metadata": {},
   "outputs": [
    {
     "data": {
      "text/plain": [
       "0.71"
      ]
     },
     "execution_count": 61,
     "metadata": {},
     "output_type": "execute_result"
    }
   ],
   "source": [
    "#Accuracy score\n",
    "\n",
    "accuracy_score(y_test, yhat_adb)"
   ]
  },
  {
   "cell_type": "code",
   "execution_count": 62,
   "metadata": {},
   "outputs": [
    {
     "data": {
      "text/plain": [
       "0.4772727272727273"
      ]
     },
     "execution_count": 62,
     "metadata": {},
     "output_type": "execute_result"
    }
   ],
   "source": [
    "#Precision score\n",
    "\n",
    "precision_score(y_test, yhat_adb)"
   ]
  },
  {
   "cell_type": "code",
   "execution_count": 63,
   "metadata": {},
   "outputs": [
    {
     "data": {
      "text/plain": [
       "0.5060240963855421"
      ]
     },
     "execution_count": 63,
     "metadata": {},
     "output_type": "execute_result"
    }
   ],
   "source": [
    "#Recall score\n",
    "\n",
    "recall_score(y_test, yhat_adb)"
   ]
  },
  {
   "cell_type": "code",
   "execution_count": 64,
   "metadata": {},
   "outputs": [
    {
     "data": {
      "text/plain": [
       "0.49122807017543857"
      ]
     },
     "execution_count": 64,
     "metadata": {},
     "output_type": "execute_result"
    }
   ],
   "source": [
    "#f1_score\n",
    "\n",
    "f1_score(y_test, yhat_adb)"
   ]
  },
  {
   "cell_type": "markdown",
   "metadata": {
    "colab_type": "text",
    "id": "uMLxrkNg_0qR"
   },
   "source": [
    "### Q9. Build Gradient boosting model, check the accuracy, and print confusion matrix ( 1 Marks)\n",
    "percentage of correct predictions and Calculate sensitivity (or True Positive Rate or Recall) and Precision.\n",
    "( 1 Marks)"
   ]
  },
  {
   "cell_type": "code",
   "execution_count": 65,
   "metadata": {},
   "outputs": [],
   "source": [
    "#Import GradientBoostingClassifier from ensemble module\n",
    "#Import DecisionTreeClassifier from tree module\n",
    "\n",
    "from sklearn.ensemble import GradientBoostingClassifier\n",
    "from sklearn.tree import DecisionTreeClassifier"
   ]
  },
  {
   "cell_type": "code",
   "execution_count": 66,
   "metadata": {
    "colab": {},
    "colab_type": "code",
    "id": "QUG5Y_li_0qT"
   },
   "outputs": [],
   "source": [
    "#Instantiate the GradientBoostingClassifier class\n",
    "gdb_clf = GradientBoostingClassifier(loss='deviance', learning_rate=1.0, n_estimators=100, subsample=1.0,\n",
    "                                    criterion= 'friedman_mse', max_depth=3)"
   ]
  },
  {
   "cell_type": "code",
   "execution_count": 67,
   "metadata": {
    "colab": {},
    "colab_type": "code",
    "id": "IS9CZaZr_0qX"
   },
   "outputs": [
    {
     "data": {
      "text/plain": [
       "GradientBoostingClassifier(criterion='friedman_mse', init=None,\n",
       "                           learning_rate=1.0, loss='deviance', max_depth=3,\n",
       "                           max_features=None, max_leaf_nodes=None,\n",
       "                           min_impurity_decrease=0.0, min_impurity_split=None,\n",
       "                           min_samples_leaf=1, min_samples_split=2,\n",
       "                           min_weight_fraction_leaf=0.0, n_estimators=100,\n",
       "                           n_iter_no_change=None, presort='auto',\n",
       "                           random_state=None, subsample=1.0, tol=0.0001,\n",
       "                           validation_fraction=0.1, verbose=0,\n",
       "                           warm_start=False)"
      ]
     },
     "execution_count": 67,
     "metadata": {},
     "output_type": "execute_result"
    }
   ],
   "source": [
    "#Fit the model on training set\n",
    "\n",
    "gdb_clf.fit(X_train, y_train)"
   ]
  },
  {
   "cell_type": "code",
   "execution_count": 68,
   "metadata": {},
   "outputs": [],
   "source": [
    "#Predict the target classes using test set\n",
    "\n",
    "yhat_gdb = gdb_clf.predict(X_test)"
   ]
  },
  {
   "cell_type": "code",
   "execution_count": 69,
   "metadata": {},
   "outputs": [
    {
     "data": {
      "text/plain": [
       "1.0"
      ]
     },
     "execution_count": 69,
     "metadata": {},
     "output_type": "execute_result"
    }
   ],
   "source": [
    "#Model accuracy with score() method on training set\n",
    "\n",
    "gdb_clf.score(X_train, y_train)"
   ]
  },
  {
   "cell_type": "code",
   "execution_count": 70,
   "metadata": {},
   "outputs": [
    {
     "data": {
      "text/plain": [
       "0.7666666666666667"
      ]
     },
     "execution_count": 70,
     "metadata": {},
     "output_type": "execute_result"
    }
   ],
   "source": [
    "#Model accuracy with score() method on test set\n",
    "\n",
    "gdb_clf.score(X_test, y_test)"
   ]
  },
  {
   "cell_type": "code",
   "execution_count": 71,
   "metadata": {},
   "outputs": [
    {
     "data": {
      "text/plain": [
       "array([[180,  37],\n",
       "       [ 33,  50]], dtype=int64)"
      ]
     },
     "execution_count": 71,
     "metadata": {},
     "output_type": "execute_result"
    }
   ],
   "source": [
    "#confusion matrix\n",
    "\n",
    "confusion_matrix(y_test, yhat_gdb)"
   ]
  },
  {
   "cell_type": "code",
   "execution_count": 72,
   "metadata": {},
   "outputs": [
    {
     "data": {
      "text/plain": [
       "0.7666666666666667"
      ]
     },
     "execution_count": 72,
     "metadata": {},
     "output_type": "execute_result"
    }
   ],
   "source": [
    "#Accuracy score\n",
    "\n",
    "accuracy_score(y_test, yhat_gdb)"
   ]
  },
  {
   "cell_type": "code",
   "execution_count": 73,
   "metadata": {},
   "outputs": [
    {
     "data": {
      "text/plain": [
       "0.5747126436781609"
      ]
     },
     "execution_count": 73,
     "metadata": {},
     "output_type": "execute_result"
    }
   ],
   "source": [
    "#Precision score\n",
    "\n",
    "precision_score(y_test, yhat_gdb)"
   ]
  },
  {
   "cell_type": "code",
   "execution_count": 74,
   "metadata": {},
   "outputs": [
    {
     "data": {
      "text/plain": [
       "0.6024096385542169"
      ]
     },
     "execution_count": 74,
     "metadata": {},
     "output_type": "execute_result"
    }
   ],
   "source": [
    "#Recall score or Specificity or TruePositiveRate\n",
    "\n",
    "recall_score(y_test, yhat_gdb)"
   ]
  },
  {
   "cell_type": "code",
   "execution_count": 75,
   "metadata": {},
   "outputs": [
    {
     "data": {
      "text/plain": [
       "0.5882352941176471"
      ]
     },
     "execution_count": 75,
     "metadata": {},
     "output_type": "execute_result"
    }
   ],
   "source": [
    "#f1_score\n",
    "\n",
    "f1_score(y_test, yhat_gdb)"
   ]
  },
  {
   "cell_type": "markdown",
   "metadata": {
    "colab_type": "text",
    "id": "BZ43LYtQ_0q9"
   },
   "source": [
    "### Bootstrapping ( Bonus)\n",
    "##### Given a dataset of size n, a bootstrap sample is created by sampling n instances uniformly from the data (with/without replacement)\n",
    "##### Create a model with each bootstrap sample and validate it with the test set\n",
    "##### Final result is calculated by averaging the accuracy of models"
   ]
  },
  {
   "cell_type": "code",
   "execution_count": 76,
   "metadata": {
    "colab": {},
    "colab_type": "code",
    "id": "8KwXPTNE_0q9"
   },
   "outputs": [],
   "source": [
    "# Number of iterations for bootstrapping\n",
    "bootstrap_iteration = 10\n",
    "accuracy = []"
   ]
  },
  {
   "cell_type": "code",
   "execution_count": 77,
   "metadata": {
    "colab": {},
    "colab_type": "code",
    "id": "rVQTCij9_0rA"
   },
   "outputs": [],
   "source": [
    "#Fit Random Classifier model to each resampled training set and predict the classes in the test set.\n",
    "#Find the accuracy score of the model trained on each sample.\n",
    "\n",
    "from sklearn.utils import resample\n",
    "from sklearn.metrics import accuracy_score\n",
    "rf_clf = RandomForestClassifier(n_jobs=2,n_estimators=500,criterion=\"entropy\", bootstrap=True,random_state=9999)\n",
    "\n",
    "for i in range(bootstrap_iteration):\n",
    "    X_, y_ = resample(X_train, y_train)\n",
    "    rf_clf.fit(X_, y_)\n",
    "    y_pred = rf_clf.predict(X_test)\n",
    "    \n",
    "    acc = accuracy_score(y_pred, y_test)\n",
    "    accuracy.append(acc)"
   ]
  },
  {
   "cell_type": "code",
   "execution_count": 78,
   "metadata": {
    "colab": {},
    "colab_type": "code",
    "id": "lRtfc6p7_0rD",
    "outputId": "6b6e9b14-0652-4550-83e0-7bb2ca3f0481"
   },
   "outputs": [
    {
     "name": "stdout",
     "output_type": "stream",
     "text": [
      "Accuracy Score\n",
      "Avearge:  0.7723333333333333\n",
      "Standard deviation:  0.015779733838059504\n"
     ]
    }
   ],
   "source": [
    "#Compute the mean and standard deviation of the accuracies computed for each score.\n",
    "\n",
    "accuracy = np.array(accuracy)\n",
    "print('Accuracy Score')\n",
    "print('Avearge: ', accuracy.mean())\n",
    "print('Standard deviation: ', accuracy.std())"
   ]
  },
  {
   "cell_type": "code",
   "execution_count": null,
   "metadata": {
    "colab": {},
    "colab_type": "code",
    "id": "7ItbXIpd_0rH"
   },
   "outputs": [],
   "source": []
  }
 ],
 "metadata": {
  "colab": {
   "collapsed_sections": [
    "LuQwgG7T_0pa",
    "x2wDGYcC_0pf",
    "U7VnUE71_0pk"
   ],
   "name": "R4_External_Lab_Validation_Accuracy.ipynb",
   "provenance": []
  },
  "kernelspec": {
   "display_name": "Python 3",
   "language": "python",
   "name": "python3"
  },
  "language_info": {
   "codemirror_mode": {
    "name": "ipython",
    "version": 3
   },
   "file_extension": ".py",
   "mimetype": "text/x-python",
   "name": "python",
   "nbconvert_exporter": "python",
   "pygments_lexer": "ipython3",
   "version": "3.7.3"
  }
 },
 "nbformat": 4,
 "nbformat_minor": 1
}
