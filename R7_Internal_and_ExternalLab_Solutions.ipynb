{
 "cells": [
  {
   "cell_type": "markdown",
   "metadata": {
    "colab_type": "text",
    "id": "4WH1Pr4KQlCh"
   },
   "source": [
    "### Build a DNN using Keras with `RELU` and `ADAM`"
   ]
  },
  {
   "cell_type": "markdown",
   "metadata": {
    "colab_type": "text",
    "id": "TbvI8LqlQlCl"
   },
   "source": [
    "#### 1. Load tensorflow (1 Mark)"
   ]
  },
  {
   "cell_type": "code",
   "execution_count": 1,
   "metadata": {
    "colab": {
     "base_uri": "https://localhost:8080/",
     "height": 80
    },
    "colab_type": "code",
    "id": "LaA6Nya9bVJx",
    "outputId": "7fd7d8e7-da0e-4379-87b9-87428a835387"
   },
   "outputs": [
    {
     "data": {
      "text/html": [
       "<p style=\"color: red;\">\n",
       "The default version of TensorFlow in Colab will soon switch to TensorFlow 2.x.<br>\n",
       "We recommend you <a href=\"https://www.tensorflow.org/guide/migrate\" target=\"_blank\">upgrade</a> now \n",
       "or ensure your notebook will continue to use TensorFlow 1.x via the <code>%tensorflow_version 1.x</code> magic:\n",
       "<a href=\"https://colab.research.google.com/notebooks/tensorflow_version.ipynb\" target=\"_blank\">more info</a>.</p>\n"
      ],
      "text/plain": [
       "<IPython.core.display.HTML object>"
      ]
     },
     "metadata": {
      "tags": []
     },
     "output_type": "display_data"
    },
    {
     "data": {
      "text/plain": [
       "'1.15.0'"
      ]
     },
     "execution_count": 1,
     "metadata": {
      "tags": []
     },
     "output_type": "execute_result"
    }
   ],
   "source": [
    "import tensorflow as tf\n",
    "import numpy as np\n",
    "import pandas as pd\n",
    "tf.compat.v1.reset_default_graph()\n",
    "tf.__version__"
   ]
  },
  {
   "cell_type": "markdown",
   "metadata": {
    "colab_type": "text",
    "id": "74cQBsi5QlCw"
   },
   "source": [
    "#### 2. Collect Fashion mnist data from tf.keras.datasets (1 Mark)"
   ]
  },
  {
   "cell_type": "code",
   "execution_count": 0,
   "metadata": {
    "colab": {},
    "colab_type": "code",
    "id": "Av_yS8albVJ4"
   },
   "outputs": [],
   "source": [
    "(train_x, train_y), (test_x, test_y) = tf.keras.datasets.fashion_mnist.load_data()"
   ]
  },
  {
   "cell_type": "markdown",
   "metadata": {
    "colab_type": "text",
    "id": "EeQ1hU4RbVJ8"
   },
   "source": [
    "#### Please run this cell as class names are not included, need to create them to plot the images"
   ]
  },
  {
   "cell_type": "code",
   "execution_count": 3,
   "metadata": {
    "colab": {
     "base_uri": "https://localhost:8080/",
     "height": 34
    },
    "colab_type": "code",
    "id": "qDVaYGW9bVJ9",
    "outputId": "e943075d-7fd0-4f79-81ac-51a0d7aa5606"
   },
   "outputs": [
    {
     "name": "stdout",
     "output_type": "stream",
     "text": [
      "['T-shirt/top', 'Trouser', 'Pullover', 'Dress', 'Coat', 'Sandal', 'Shirt', 'Sneaker', 'Bag', 'Ankle boot']\n"
     ]
    }
   ],
   "source": [
    "class_names = ['T-shirt/top', 'Trouser', 'Pullover', 'Dress', 'Coat', 'Sandal', 'Shirt', 'Sneaker', 'Bag', 'Ankle boot']\n",
    "print(class_names)"
   ]
  },
  {
   "cell_type": "markdown",
   "metadata": {
    "colab_type": "text",
    "id": "l6XK3yIlbVKB"
   },
   "source": [
    "#### 3(a). Display Shapes of Train and Test sets (0.5 Mark)"
   ]
  },
  {
   "cell_type": "code",
   "execution_count": 4,
   "metadata": {
    "colab": {
     "base_uri": "https://localhost:8080/",
     "height": 85
    },
    "colab_type": "code",
    "id": "P3Rh8SnUbVKC",
    "outputId": "8ad5c072-4038-4f0a-e526-e454d83c55dd"
   },
   "outputs": [
    {
     "name": "stdout",
     "output_type": "stream",
     "text": [
      "Shape of trainX : (60000, 28, 28)\n",
      "Shape of trainY: (60000,)\n",
      "Shape of testX : (10000, 28, 28)\n",
      "Shape of testY: (10000,)\n"
     ]
    }
   ],
   "source": [
    "print('Shape of trainX : {}\\nShape of trainY: {}'.format(train_x.shape, train_y.shape))\n",
    "print('Shape of testX : {}\\nShape of testY: {}'.format(test_x.shape, test_y.shape))"
   ]
  },
  {
   "cell_type": "markdown",
   "metadata": {
    "colab_type": "text",
    "id": "QPTwKD9xbVKK"
   },
   "source": [
    "#### 3(b). Check how many classes (unique categories) we have in target column (0.5 Mark)\n",
    "\n",
    "#### Hint: np.unique"
   ]
  },
  {
   "cell_type": "code",
   "execution_count": 5,
   "metadata": {
    "colab": {
     "base_uri": "https://localhost:8080/",
     "height": 85
    },
    "colab_type": "code",
    "id": "krAkxXkXbVKL",
    "outputId": "c6bff8e4-f981-4a14-9900-9a955d15aee5"
   },
   "outputs": [
    {
     "name": "stdout",
     "output_type": "stream",
     "text": [
      "Number of classes in Train-set : 10\n",
      "Number of classes in Test-set : 10\n",
      "Classes in Train-set : [0 1 2 3 4 5 6 7 8 9]\n",
      "Classes in Test-set : [0 1 2 3 4 5 6 7 8 9]\n"
     ]
    }
   ],
   "source": [
    "print(\"Number of classes in Train-set : {}\\nNumber of classes in Test-set : {}\".format(len(np.unique(train_y)), len(np.unique(test_y))))\n",
    "print(\"Classes in Train-set : {}\\nClasses in Test-set : {}\".format(np.unique(train_y), np.unique(test_y)))"
   ]
  },
  {
   "cell_type": "markdown",
   "metadata": {
    "colab_type": "text",
    "id": "HnUpZUAZbVKP"
   },
   "source": [
    "#### 4. Plot/Visualize the first image from the training dataset using matplotlib's imshow and display the class name below the image (2 Marks)"
   ]
  },
  {
   "cell_type": "code",
   "execution_count": 6,
   "metadata": {
    "colab": {
     "base_uri": "https://localhost:8080/",
     "height": 106
    },
    "colab_type": "code",
    "id": "c0e2R4eggJxu",
    "outputId": "e1e145f1-90a9-41dd-c85e-6e92207b7479"
   },
   "outputs": [
    {
     "data": {
      "image/png": "[encoded data removed]",
      "text/plain": [
       "<Figure size 576x576 with 10 Axes>"
      ]
     },
     "metadata": {
      "tags": []
     },
     "output_type": "display_data"
    },
    {
     "name": "stdout",
     "output_type": "stream",
     "text": [
      "Train Labels :  [9 0 0 3 0 2 7 2 5 5]\n"
     ]
    }
   ],
   "source": [
    "import matplotlib.pyplot as plt\n",
    "%matplotlib inline\n",
    "plt.figure(figsize=(8, 8))\n",
    "for i in range(10): \n",
    "    plt.subplot(2, 10, i + 1)    \n",
    "    plt.imshow(train_x[i,:].reshape([28,28]), cmap='gray')\n",
    "plt.show()\n",
    "print(\"Train Labels : \",train_y[0:10])"
   ]
  },
  {
   "cell_type": "code",
   "execution_count": 7,
   "metadata": {
    "colab": {
     "base_uri": "https://localhost:8080/",
     "height": 106
    },
    "colab_type": "code",
    "id": "-uQ5t7qCgR8_",
    "outputId": "e1487be3-d4d2-489d-8b3e-829b761f3e65"
   },
   "outputs": [
    {
     "data": {
      "image/png": "[encoded data removed]",
      "text/plain": [
       "<Figure size 576x576 with 10 Axes>"
      ]
     },
     "metadata": {
      "tags": []
     },
     "output_type": "display_data"
    },
    {
     "name": "stdout",
     "output_type": "stream",
     "text": [
      "Test Labels :  [9 2 1 1 6 1 4 6 5 7]\n"
     ]
    }
   ],
   "source": [
    "plt.figure(figsize=(8, 8))\n",
    "for i in range(10):\n",
    "    plt.subplot(2, 10, i + 1)    \n",
    "    plt.imshow(test_x[i,:].reshape([28,28]), cmap='gray')\n",
    "plt.show()\n",
    "print(\"Test Labels : \",test_y[0:10])"
   ]
  },
  {
   "cell_type": "markdown",
   "metadata": {
    "colab_type": "text",
    "id": "no7aWYZyQlC1"
   },
   "source": [
    "#### 5. Change train and test labels into one-hot vectors (1 Mark)"
   ]
  },
  {
   "cell_type": "code",
   "execution_count": 0,
   "metadata": {
    "colab": {},
    "colab_type": "code",
    "id": "UX6otc4wQlC2"
   },
   "outputs": [],
   "source": [
    "#Convert labels to one hot encoding\n",
    "train_y = tf.keras.utils.to_categorical(train_y, num_classes=10)\n",
    "test_y = tf.keras.utils.to_categorical(test_y, num_classes=10)"
   ]
  },
  {
   "cell_type": "markdown",
   "metadata": {
    "colab_type": "text",
    "id": "QjNrRTdoQlC5"
   },
   "source": [
    "### Build the Graph"
   ]
  },
  {
   "cell_type": "markdown",
   "metadata": {
    "colab_type": "text",
    "id": "CDJ9DHVNQlC7"
   },
   "source": [
    "#### 6.Initialize model, reshape & batch normalize data (1 Mark)"
   ]
  },
  {
   "cell_type": "code",
   "execution_count": 0,
   "metadata": {
    "colab": {},
    "colab_type": "code",
    "id": "7T1q_AhnbVKY"
   },
   "outputs": [],
   "source": [
    "#from keras.layers import Dense, Dropout, Reshape, BatchNormalization"
   ]
  },
  {
   "cell_type": "code",
   "execution_count": 10,
   "metadata": {
    "colab": {
     "base_uri": "https://localhost:8080/",
     "height": 88
    },
    "colab_type": "code",
    "id": "pCDQs_g1QlC8",
    "outputId": "9d99eb33-6434-4a51-9f23-23ed5d37bd96"
   },
   "outputs": [
    {
     "name": "stdout",
     "output_type": "stream",
     "text": [
      "WARNING:tensorflow:From /usr/local/lib/python3.6/dist-packages/tensorflow_core/python/ops/resource_variable_ops.py:1630: calling BaseResourceVariable.__init__ (from tensorflow.python.ops.resource_variable_ops) with constraint is deprecated and will be removed in a future version.\n",
      "Instructions for updating:\n",
      "If using Keras pass *_constraint arguments to layers.\n"
     ]
    }
   ],
   "source": [
    "#Initialize Sequential model\n",
    "model = tf.keras.models.Sequential()\n",
    "\n",
    "#Reshape data from 2D to 1D -> 28x28 to 784\n",
    "model.add(tf.keras.layers.Reshape((784,),input_shape=(28,28,)))\n",
    "\n",
    "#Normalize the data\n",
    "model.add(tf.keras.layers.BatchNormalization())"
   ]
  },
  {
   "cell_type": "markdown",
   "metadata": {
    "colab_type": "text",
    "id": "kBGwTTilQlDD"
   },
   "source": [
    "#### 7(a). Add two fully connected layers with 200 and 100 neurons respectively with `relu` activations. (1 Mark)"
   ]
  },
  {
   "cell_type": "code",
   "execution_count": 0,
   "metadata": {
    "colab": {},
    "colab_type": "code",
    "id": "IXbfpfOzQlDF"
   },
   "outputs": [],
   "source": [
    "\n",
    "#Add 1st hidden layer\n",
    "model.add(tf.keras.layers.Dense(200, activation='relu', name='Layer_1'))\n",
    "#Normalize the data\n",
    "model.add(tf.keras.layers.BatchNormalization())\n",
    "\n",
    "#Add 2nd hidden layer\n",
    "model.add(tf.keras.layers.Dense(100, activation='relu', name='Layer_2'))\n",
    "#Normalize the data\n",
    "model.add(tf.keras.layers.BatchNormalization())"
   ]
  },
  {
   "cell_type": "markdown",
   "metadata": {
    "colab_type": "text",
    "id": "2e_Wr-V2bVKh"
   },
   "source": [
    "#### 7(b). Add a dropout layer with `p=0.25` (1 Mark)"
   ]
  },
  {
   "cell_type": "code",
   "execution_count": 0,
   "metadata": {
    "colab": {},
    "colab_type": "code",
    "id": "a7k6hdPFbVKp"
   },
   "outputs": [],
   "source": [
    "#Add a Dropout layer\n",
    "model.add(tf.keras.layers.Dropout(0.25))"
   ]
  },
  {
   "cell_type": "markdown",
   "metadata": {
    "colab_type": "text",
    "id": "q8EcZvaGbVKt"
   },
   "source": [
    "#### 8. Add the output layer with a fully connected layer with 10 neurons with `softmax` activation. (1 Mark)"
   ]
  },
  {
   "cell_type": "code",
   "execution_count": 0,
   "metadata": {
    "colab": {},
    "colab_type": "code",
    "id": "cT1qaGoybVKu"
   },
   "outputs": [],
   "source": [
    "#Add Output layer\n",
    "model.add(tf.keras.layers.Dense(10, activation='softmax', name='Output'))"
   ]
  },
  {
   "cell_type": "markdown",
   "metadata": {
    "colab_type": "text",
    "id": "5I8f5otcQlDJ"
   },
   "source": [
    "### Compile Model\n",
    "#### 9. Use `categorical_crossentropy` loss, `adam` optimizer, `accuracy` metric and compile the model. (1 Mark)"
   ]
  },
  {
   "cell_type": "code",
   "execution_count": 0,
   "metadata": {
    "colab": {},
    "colab_type": "code",
    "id": "E25kuP_NQlDM"
   },
   "outputs": [],
   "source": [
    "#Compile the model\n",
    "model.compile(optimizer='adam', loss='categorical_crossentropy', metrics=['accuracy'])"
   ]
  },
  {
   "cell_type": "markdown",
   "metadata": {
    "colab_type": "text",
    "id": "w-xSDB5fbVK0"
   },
   "source": [
    "### Model Training\n",
    "#### 10. Fit your model on train set, using validation_split=0.2, epochs=10 and batch_size=32 and assign it to a variable \"hist_model\" which can be used to plot loss and accuracy curves using saved history. (5 Marks)"
   ]
  },
  {
   "cell_type": "code",
   "execution_count": 15,
   "metadata": {
    "colab": {
     "base_uri": "https://localhost:8080/",
     "height": 374
    },
    "colab_type": "code",
    "id": "3YIjK6FgbVK1",
    "outputId": "2a0778e4-b584-420b-9591-9dead3c07fd1"
   },
   "outputs": [
    {
     "name": "stdout",
     "output_type": "stream",
     "text": [
      "Train on 48000 samples, validate on 12000 samples\n",
      "Epoch 1/10\n",
      "48000/48000 [==============================] - 10s 202us/sample - loss: 0.5337 - acc: 0.8124 - val_loss: 0.3730 - val_acc: 0.8627\n",
      "Epoch 2/10\n",
      "48000/48000 [==============================] - 9s 179us/sample - loss: 0.4088 - acc: 0.8504 - val_loss: 0.3434 - val_acc: 0.8736\n",
      "Epoch 3/10\n",
      "48000/48000 [==============================] - 9s 193us/sample - loss: 0.3717 - acc: 0.8640 - val_loss: 0.3240 - val_acc: 0.8822\n",
      "Epoch 4/10\n",
      "48000/48000 [==============================] - 9s 182us/sample - loss: 0.3432 - acc: 0.8740 - val_loss: 0.3204 - val_acc: 0.8809\n",
      "Epoch 5/10\n",
      "48000/48000 [==============================] - 9s 188us/sample - loss: 0.3262 - acc: 0.8779 - val_loss: 0.3160 - val_acc: 0.8866\n",
      "Epoch 6/10\n",
      "48000/48000 [==============================] - 9s 189us/sample - loss: 0.3099 - acc: 0.8871 - val_loss: 0.3132 - val_acc: 0.8870\n",
      "Epoch 7/10\n",
      "48000/48000 [==============================] - 9s 190us/sample - loss: 0.2940 - acc: 0.8915 - val_loss: 0.3104 - val_acc: 0.8867\n",
      "Epoch 8/10\n",
      "48000/48000 [==============================] - 9s 184us/sample - loss: 0.2825 - acc: 0.8955 - val_loss: 0.2964 - val_acc: 0.8934\n",
      "Epoch 9/10\n",
      "48000/48000 [==============================] - 9s 190us/sample - loss: 0.2710 - acc: 0.8991 - val_loss: 0.3044 - val_acc: 0.8907\n",
      "Epoch 10/10\n",
      "48000/48000 [==============================] - 9s 181us/sample - loss: 0.2606 - acc: 0.9021 - val_loss: 0.3077 - val_acc: 0.8928\n"
     ]
    }
   ],
   "source": [
    "hist_model = model.fit(train_x, train_y, validation_split=0.2, epochs=10, batch_size=32)"
   ]
  },
  {
   "cell_type": "markdown",
   "metadata": {
    "colab_type": "text",
    "id": "oeoJW-kmbVK3"
   },
   "source": [
    "### Model Evaluation"
   ]
  },
  {
   "cell_type": "markdown",
   "metadata": {
    "colab_type": "text",
    "id": "-WVDHt0rbVK5"
   },
   "source": [
    "#### 11. Visualize/Plot loss curves for training data, val data and provide your inference (2 Marks)"
   ]
  },
  {
   "cell_type": "code",
   "execution_count": 16,
   "metadata": {
    "colab": {
     "base_uri": "https://localhost:8080/",
     "height": 295
    },
    "colab_type": "code",
    "id": "UqU2e7DrbVK7",
    "outputId": "e23eb619-48ea-4dba-d7df-d406f38182ad"
   },
   "outputs": [
    {
     "data": {
      "image/png": "[encoded data removed]",
      "text/plain": [
       "<Figure size 432x288 with 1 Axes>"
      ]
     },
     "metadata": {
      "tags": []
     },
     "output_type": "display_data"
    }
   ],
   "source": [
    "import matplotlib.pyplot as plt\n",
    "%matplotlib inline\n",
    "plt.plot(hist_model.history['loss'])\n",
    "plt.plot(hist_model.history['val_loss'])\n",
    "plt.xlabel('no of epochs')\n",
    "plt.ylabel('Loss')\n",
    "plt.legend(['Training', 'Validation'])\n",
    "plt.title('Loss over epochs')\n",
    "plt.show()"
   ]
  },
  {
   "cell_type": "markdown",
   "metadata": {
    "colab_type": "text",
    "id": "jyyTWqMhbVK-"
   },
   "source": [
    "#### Observations:\n",
    "- The training loss is decreasing more over 10 epochs and has decreased from 0.5 to 0.2, but the decrease in validation loss is very less from 0.37 to 0.30\n",
    "- The model is performing well on the training data, because the decrese in lsss is huge, but it is not performing well on the test data, as the decrese in losss is very minimal"
   ]
  },
  {
   "cell_type": "markdown",
   "metadata": {
    "colab_type": "text",
    "id": "Ehi4BEQjbVK_"
   },
   "source": [
    "#### 12. Visualize/Plot accuracy curves for training data, val data and provide your inference (2 Marks)"
   ]
  },
  {
   "cell_type": "code",
   "execution_count": 20,
   "metadata": {
    "colab": {
     "base_uri": "https://localhost:8080/",
     "height": 295
    },
    "colab_type": "code",
    "id": "ydgwF_8BbVK_",
    "outputId": "3d835b05-3161-4263-abfd-2f5d75ccc64c"
   },
   "outputs": [
    {
     "data": {
      "image/png": "[encoded data removed]",
      "text/plain": [
       "<Figure size 432x288 with 1 Axes>"
      ]
     },
     "metadata": {
      "tags": []
     },
     "output_type": "display_data"
    }
   ],
   "source": [
    "plt.plot(hist_model.history['acc'])\n",
    "plt.plot(hist_model.history['val_acc'])\n",
    "plt.xlabel('no of epochs')\n",
    "plt.ylabel('Accuracy')\n",
    "plt.legend(['Training', 'Validation'])\n",
    "plt.title('Accuracy over epochs')\n",
    "plt.show()"
   ]
  },
  {
   "cell_type": "markdown",
   "metadata": {
    "colab_type": "text",
    "id": "cd-4aUQBbVLC"
   },
   "source": [
    "#### Observations:\n",
    "- The model accuracy is increasing from a very low to as high as 90% over 10 epochs for the training set, but the model accuracy is increasing from 86% to 89% on the test dataset.\n",
    "- We can say the model is learning very well on training set, but not so well on test set."
   ]
  },
  {
   "cell_type": "code",
   "execution_count": 0,
   "metadata": {
    "colab": {},
    "colab_type": "code",
    "id": "xcrTglsQud1W"
   },
   "outputs": [],
   "source": [
    "#### 13. Evaluate the above model on test set and report test loss & accuracy (1 Mark)\n",
    "#### Hint: model.evaluate()"
   ]
  },
  {
   "cell_type": "code",
   "execution_count": 22,
   "metadata": {
    "colab": {
     "base_uri": "https://localhost:8080/",
     "height": 34
    },
    "colab_type": "code",
    "id": "u5d4AGDvh1Mi",
    "outputId": "6e524b07-acf4-4088-fa0b-6fdfa67d02bb"
   },
   "outputs": [
    {
     "data": {
      "text/plain": [
       "[0.24409505496422448, 0.91866666]"
      ]
     },
     "execution_count": 22,
     "metadata": {
      "tags": []
     },
     "output_type": "execute_result"
    }
   ],
   "source": [
    "model.evaluate(train_x, train_y, verbose=0)"
   ]
  },
  {
   "cell_type": "code",
   "execution_count": 23,
   "metadata": {
    "colab": {
     "base_uri": "https://localhost:8080/",
     "height": 34
    },
    "colab_type": "code",
    "id": "j_kzjis-bVLF",
    "outputId": "7f79cb35-6f87-4091-d5b4-39de26200c8c"
   },
   "outputs": [
    {
     "data": {
      "text/plain": [
       "[0.37707328519821165, 0.8836]"
      ]
     },
     "execution_count": 23,
     "metadata": {
      "tags": []
     },
     "output_type": "execute_result"
    }
   ],
   "source": [
    "model.evaluate(test_x, test_y, verbose=0)"
   ]
  },
  {
   "cell_type": "markdown",
   "metadata": {
    "colab_type": "text",
    "id": "7efAHsyNbVLH"
   },
   "source": [
    "#### 14. Predict the labels for test set and store in a variable named \"predictions\" (1 Mark)\n",
    "\n",
    "#### Hint: model.predict()"
   ]
  },
  {
   "cell_type": "code",
   "execution_count": 0,
   "metadata": {
    "colab": {},
    "colab_type": "code",
    "id": "PUMtPCIlbVLI"
   },
   "outputs": [],
   "source": [
    "#Predit labels\n",
    "predictions = model.predict(x=test_x)"
   ]
  },
  {
   "cell_type": "code",
   "execution_count": 67,
   "metadata": {
    "colab": {
     "base_uri": "https://localhost:8080/",
     "height": 119
    },
    "colab_type": "code",
    "id": "dWuhzCNCbVLL",
    "outputId": "6188e1b6-dab8-476f-8f32-788784b0bc11"
   },
   "outputs": [
    {
     "data": {
      "text/plain": [
       "array([[3.9895642e-07, 1.7290908e-07, 1.0953053e-08, 5.6288968e-07,\n",
       "        7.6317175e-09, 6.7131140e-04, 6.6174880e-07, 1.1906420e-02,\n",
       "        2.2619668e-06, 9.8741829e-01],\n",
       "       [1.7271153e-06, 1.0615975e-09, 9.9908805e-01, 1.6217600e-08,\n",
       "        7.3037314e-04, 2.0742191e-06, 1.7768271e-04, 7.1142447e-10,\n",
       "        3.3782990e-11, 5.9675181e-10]], dtype=float32)"
      ]
     },
     "execution_count": 67,
     "metadata": {
      "tags": []
     },
     "output_type": "execute_result"
    }
   ],
   "source": [
    "#Sample Predictions\n",
    "predictions[0:2]"
   ]
  },
  {
   "cell_type": "code",
   "execution_count": 0,
   "metadata": {
    "colab": {},
    "colab_type": "code",
    "id": "ugsCoWN0iUto"
   },
   "outputs": [],
   "source": [
    "predicted_labels = model.predict_classes(test_x)"
   ]
  },
  {
   "cell_type": "code",
   "execution_count": 69,
   "metadata": {
    "colab": {
     "base_uri": "https://localhost:8080/",
     "height": 34
    },
    "colab_type": "code",
    "id": "iPFPa8AElF3T",
    "outputId": "0a882d2d-60cd-42f7-f78f-669f2209441e"
   },
   "outputs": [
    {
     "data": {
      "text/plain": [
       "array([9, 2])"
      ]
     },
     "execution_count": 69,
     "metadata": {
      "tags": []
     },
     "output_type": "execute_result"
    }
   ],
   "source": [
    "#Sample Predicted classes\n",
    "predicted_labels[0:2]"
   ]
  },
  {
   "cell_type": "markdown",
   "metadata": {
    "colab_type": "text",
    "id": "fGA91XPQbVLN"
   },
   "source": [
    "#### 15. Write a for loop to visualize, display actual label, predicted label along with class names for 0th, 100th and 200th images in test set.  \n",
    "#### (3 Marks)"
   ]
  },
  {
   "cell_type": "code",
   "execution_count": 64,
   "metadata": {
    "colab": {
     "base_uri": "https://localhost:8080/",
     "height": 698
    },
    "colab_type": "code",
    "id": "ygCq9mANbVLO",
    "outputId": "f231bd7f-18be-4e8b-80ac-f105ecfe4ea9"
   },
   "outputs": [
    {
     "name": "stdout",
     "output_type": "stream",
     "text": [
      "Image at index: 0\n"
     ]
    },
    {
     "data": {
      "image/png": "[encoded data removed]",
      "text/plain": [
       "<Figure size 144x144 with 1 Axes>"
      ]
     },
     "metadata": {
      "tags": []
     },
     "output_type": "display_data"
    },
    {
     "name": "stdout",
     "output_type": "stream",
     "text": [
      "Actual Label for 0th image : 9\n",
      "Predicted Label for 0th image : 9\n",
      "Class name for 0th image : Ankle boot\n",
      "\n",
      "Image at index: 100\n"
     ]
    },
    {
     "data": {
      "image/png": "[encoded data removed]",
      "text/plain": [
       "<Figure size 144x144 with 1 Axes>"
      ]
     },
     "metadata": {
      "tags": []
     },
     "output_type": "display_data"
    },
    {
     "name": "stdout",
     "output_type": "stream",
     "text": [
      "Actual Label for 100th image : 3\n",
      "Predicted Label for 100th image : 3\n",
      "Class name for 100th image : Dress\n",
      "\n",
      "Image at index: 200\n"
     ]
    },
    {
     "data": {
      "image/png": "[encoded data removed]",
      "text/plain": [
       "<Figure size 144x144 with 1 Axes>"
      ]
     },
     "metadata": {
      "tags": []
     },
     "output_type": "display_data"
    },
    {
     "name": "stdout",
     "output_type": "stream",
     "text": [
      "Actual Label for 200th image : 1\n",
      "Predicted Label for 200th image : 1\n",
      "Class name for 200th image : Trouser\n",
      "\n"
     ]
    }
   ],
   "source": [
    "for i in range(0,201,100):\n",
    "    print('Image at index:', i)\n",
    "    plt.figure(figsize=(2, 2))    \n",
    "    plt.imshow(test_x[i,:].reshape([28,28]), cmap='gray')\n",
    "    plt.show()\n",
    "    print('Actual Label for {}th image : {}'.format(i,np.argmax(test_y[i], axis=0)))\n",
    "    print('Predicted Label for {}th image : {}'.format(i,predicted_labels[i]))\n",
    "    print('Class name for {}th image : {}\\n'.format(i,class_names[np.argmax(test_y[i], axis=0)]))"
   ]
  }
 ],
 "metadata": {
  "accelerator": "GPU",
  "colab": {
   "collapsed_sections": [],
   "name": "R7_Internal_and_ExternalLab_Solutions.ipynb",
   "provenance": []
  },
  "kernelspec": {
   "display_name": "Python 3",
   "language": "python",
   "name": "python3"
  },
  "language_info": {
   "codemirror_mode": {
    "name": "ipython",
    "version": 3
   },
   "file_extension": ".py",
   "mimetype": "text/x-python",
   "name": "python",
   "nbconvert_exporter": "python",
   "pygments_lexer": "ipython3",
   "version": "3.7.3"
  }
 },
 "nbformat": 4,
 "nbformat_minor": 1
}
