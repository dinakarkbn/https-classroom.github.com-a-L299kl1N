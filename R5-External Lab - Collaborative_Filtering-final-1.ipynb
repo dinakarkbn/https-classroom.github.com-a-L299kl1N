{
 "cells": [
  {
   "cell_type": "markdown",
   "metadata": {
    "colab_type": "text",
    "id": "6fcxO2Xks67P"
   },
   "source": [
    "**About Book Crossing Dataset**<br>\n",
    "\n",
    "This dataset has been compiled by Cai-Nicolas Ziegler in 2004, and it comprises of three tables for users, books and ratings. Explicit ratings are expressed on a scale from 1-10 (higher values denoting higher appreciation) and implicit rating is expressed by 0."
   ]
  },
  {
   "cell_type": "markdown",
   "metadata": {
    "colab_type": "text",
    "id": "srLP2fb5s67W"
   },
   "source": [
    "Reference: http://www2.informatik.uni-freiburg.de/~cziegler/BX/ "
   ]
  },
  {
   "cell_type": "markdown",
   "metadata": {
    "colab_type": "text",
    "id": "XEXRubqgs67X"
   },
   "source": [
    "**Objective**\n",
    "\n",
    "This project entails building a Book Recommender System for users based on user-based and item-based collaborative filtering approaches."
   ]
  },
  {
   "cell_type": "markdown",
   "metadata": {
    "colab_type": "text",
    "id": "9hHjGwPTs67Z"
   },
   "source": [
    "#### Execute the below cell to load the datasets"
   ]
  },
  {
   "cell_type": "code",
   "execution_count": 1,
   "metadata": {
    "colab": {},
    "colab_type": "code",
    "id": "b8w3abeUtyFT"
   },
   "outputs": [],
   "source": [
    "import pandas as pd\n",
    "import numpy as np\n",
    "import matplotlib.pyplot as plt\n",
    "%matplotlib inline\n",
    "import seaborn as sns"
   ]
  },
  {
   "cell_type": "code",
   "execution_count": 2,
   "metadata": {
    "colab": {
     "base_uri": "https://localhost:8080/",
     "height": 442
    },
    "colab_type": "code",
    "id": "zpauuxODs67a",
    "outputId": "78ffdd5a-73f4-4c02-e56f-fc9ac79e8ad0",
    "scrolled": true
   },
   "outputs": [],
   "source": [
    "#Loading data\n",
    "#Read books.csv and load books dataset\n",
    "\n",
    "books = pd.read_csv(\"books.csv\", sep=\";\", error_bad_lines=False, warn_bad_lines=False, encoding=\"latin-1\",\n",
    "                    low_memory=False)\n",
    "books.columns = ['ISBN', 'bookTitle', 'bookAuthor', 'yearOfPublication', 'publisher', 'imageUrlS',\n",
    "                 'imageUrlM', 'imageUrlL']"
   ]
  },
  {
   "cell_type": "code",
   "execution_count": 3,
   "metadata": {},
   "outputs": [],
   "source": [
    "#Read users.csv and load users dataset\n",
    "\n",
    "users = pd.read_csv('users.csv', sep=';', error_bad_lines=False, encoding=\"latin-1\")\n",
    "users.columns = ['userID', 'Location', 'Age']"
   ]
  },
  {
   "cell_type": "code",
   "execution_count": 4,
   "metadata": {},
   "outputs": [],
   "source": [
    "#Read ratings.csv and load ratings dataset\n",
    "\n",
    "ratings = pd.read_csv('ratings.csv', sep=';', error_bad_lines=False, encoding=\"latin-1\")\n",
    "ratings.columns = ['userID', 'ISBN', 'bookRating']"
   ]
  },
  {
   "cell_type": "markdown",
   "metadata": {
    "colab_type": "text",
    "id": "4SxVjyV4s67i"
   },
   "source": [
    "### Check no.of records and features given in each dataset\n",
    "hint - check shape"
   ]
  },
  {
   "cell_type": "code",
   "execution_count": 5,
   "metadata": {},
   "outputs": [
    {
     "name": "stdout",
     "output_type": "stream",
     "text": [
      "Shape of books DataFrame: (271360, 8)\n"
     ]
    }
   ],
   "source": [
    "print(\"Shape of books DataFrame:\", books.shape)"
   ]
  },
  {
   "cell_type": "code",
   "execution_count": 6,
   "metadata": {
    "colab": {},
    "colab_type": "code",
    "id": "xvtPcNlQs67j"
   },
   "outputs": [
    {
     "name": "stdout",
     "output_type": "stream",
     "text": [
      "Shape of users DataFrame: (278858, 3)\n"
     ]
    }
   ],
   "source": [
    "print(\"Shape of users DataFrame:\", users.shape)"
   ]
  },
  {
   "cell_type": "code",
   "execution_count": 7,
   "metadata": {
    "colab": {},
    "colab_type": "code",
    "id": "y8G6Y8rzs67n"
   },
   "outputs": [
    {
     "name": "stdout",
     "output_type": "stream",
     "text": [
      "Shape of ratings DataFrame: (1149780, 3)\n"
     ]
    }
   ],
   "source": [
    "print(\"Shape of ratings DataFrame:\", ratings.shape)"
   ]
  },
  {
   "cell_type": "markdown",
   "metadata": {
    "colab_type": "text",
    "id": "ffv_Zye6s67u"
   },
   "source": [
    "## Exploring books dataset"
   ]
  },
  {
   "cell_type": "code",
   "execution_count": 8,
   "metadata": {
    "colab": {},
    "colab_type": "code",
    "id": "js-QTJvRs67v",
    "outputId": "d1346e46-bd9b-4013-dfe0-4c2acebdf948",
    "scrolled": false
   },
   "outputs": [
    {
     "data": {
      "text/html": [
       "<div>\n",
       "<style scoped>\n",
       "    .dataframe tbody tr th:only-of-type {\n",
       "        vertical-align: middle;\n",
       "    }\n",
       "\n",
       "    .dataframe tbody tr th {\n",
       "        vertical-align: top;\n",
       "    }\n",
       "\n",
       "    .dataframe thead th {\n",
       "        text-align: right;\n",
       "    }\n",
       "</style>\n",
       "<table border=\"1\" class=\"dataframe\">\n",
       "  <thead>\n",
       "    <tr style=\"text-align: right;\">\n",
       "      <th></th>\n",
       "      <th>ISBN</th>\n",
       "      <th>bookTitle</th>\n",
       "      <th>bookAuthor</th>\n",
       "      <th>yearOfPublication</th>\n",
       "      <th>publisher</th>\n",
       "      <th>imageUrlS</th>\n",
       "      <th>imageUrlM</th>\n",
       "      <th>imageUrlL</th>\n",
       "    </tr>\n",
       "  </thead>\n",
       "  <tbody>\n",
       "    <tr>\n",
       "      <th>0</th>\n",
       "      <td>0195153448</td>\n",
       "      <td>Classical Mythology</td>\n",
       "      <td>Mark P. O. Morford</td>\n",
       "      <td>2002</td>\n",
       "      <td>Oxford University Press</td>\n",
       "      <td>http://images.amazon.com/images/P/0195153448.0...</td>\n",
       "      <td>http://images.amazon.com/images/P/0195153448.0...</td>\n",
       "      <td>http://images.amazon.com/images/P/0195153448.0...</td>\n",
       "    </tr>\n",
       "    <tr>\n",
       "      <th>1</th>\n",
       "      <td>0002005018</td>\n",
       "      <td>Clara Callan</td>\n",
       "      <td>Richard Bruce Wright</td>\n",
       "      <td>2001</td>\n",
       "      <td>HarperFlamingo Canada</td>\n",
       "      <td>http://images.amazon.com/images/P/0002005018.0...</td>\n",
       "      <td>http://images.amazon.com/images/P/0002005018.0...</td>\n",
       "      <td>http://images.amazon.com/images/P/0002005018.0...</td>\n",
       "    </tr>\n",
       "    <tr>\n",
       "      <th>2</th>\n",
       "      <td>0060973129</td>\n",
       "      <td>Decision in Normandy</td>\n",
       "      <td>Carlo D'Este</td>\n",
       "      <td>1991</td>\n",
       "      <td>HarperPerennial</td>\n",
       "      <td>http://images.amazon.com/images/P/0060973129.0...</td>\n",
       "      <td>http://images.amazon.com/images/P/0060973129.0...</td>\n",
       "      <td>http://images.amazon.com/images/P/0060973129.0...</td>\n",
       "    </tr>\n",
       "    <tr>\n",
       "      <th>3</th>\n",
       "      <td>0374157065</td>\n",
       "      <td>Flu: The Story of the Great Influenza Pandemic...</td>\n",
       "      <td>Gina Bari Kolata</td>\n",
       "      <td>1999</td>\n",
       "      <td>Farrar Straus Giroux</td>\n",
       "      <td>http://images.amazon.com/images/P/0374157065.0...</td>\n",
       "      <td>http://images.amazon.com/images/P/0374157065.0...</td>\n",
       "      <td>http://images.amazon.com/images/P/0374157065.0...</td>\n",
       "    </tr>\n",
       "    <tr>\n",
       "      <th>4</th>\n",
       "      <td>0393045218</td>\n",
       "      <td>The Mummies of Urumchi</td>\n",
       "      <td>E. J. W. Barber</td>\n",
       "      <td>1999</td>\n",
       "      <td>W. W. Norton &amp;amp; Company</td>\n",
       "      <td>http://images.amazon.com/images/P/0393045218.0...</td>\n",
       "      <td>http://images.amazon.com/images/P/0393045218.0...</td>\n",
       "      <td>http://images.amazon.com/images/P/0393045218.0...</td>\n",
       "    </tr>\n",
       "  </tbody>\n",
       "</table>\n",
       "</div>"
      ],
      "text/plain": [
       "         ISBN                                          bookTitle  \\\n",
       "0  0195153448                                Classical Mythology   \n",
       "1  0002005018                                       Clara Callan   \n",
       "2  0060973129                               Decision in Normandy   \n",
       "3  0374157065  Flu: The Story of the Great Influenza Pandemic...   \n",
       "4  0393045218                             The Mummies of Urumchi   \n",
       "\n",
       "             bookAuthor yearOfPublication                   publisher  \\\n",
       "0    Mark P. O. Morford              2002     Oxford University Press   \n",
       "1  Richard Bruce Wright              2001       HarperFlamingo Canada   \n",
       "2          Carlo D'Este              1991             HarperPerennial   \n",
       "3      Gina Bari Kolata              1999        Farrar Straus Giroux   \n",
       "4       E. J. W. Barber              1999  W. W. Norton &amp; Company   \n",
       "\n",
       "                                           imageUrlS  \\\n",
       "0  http://images.amazon.com/images/P/0195153448.0...   \n",
       "1  http://images.amazon.com/images/P/0002005018.0...   \n",
       "2  http://images.amazon.com/images/P/0060973129.0...   \n",
       "3  http://images.amazon.com/images/P/0374157065.0...   \n",
       "4  http://images.amazon.com/images/P/0393045218.0...   \n",
       "\n",
       "                                           imageUrlM  \\\n",
       "0  http://images.amazon.com/images/P/0195153448.0...   \n",
       "1  http://images.amazon.com/images/P/0002005018.0...   \n",
       "2  http://images.amazon.com/images/P/0060973129.0...   \n",
       "3  http://images.amazon.com/images/P/0374157065.0...   \n",
       "4  http://images.amazon.com/images/P/0393045218.0...   \n",
       "\n",
       "                                           imageUrlL  \n",
       "0  http://images.amazon.com/images/P/0195153448.0...  \n",
       "1  http://images.amazon.com/images/P/0002005018.0...  \n",
       "2  http://images.amazon.com/images/P/0060973129.0...  \n",
       "3  http://images.amazon.com/images/P/0374157065.0...  \n",
       "4  http://images.amazon.com/images/P/0393045218.0...  "
      ]
     },
     "execution_count": 8,
     "metadata": {},
     "output_type": "execute_result"
    }
   ],
   "source": [
    "books.head(5)"
   ]
  },
  {
   "cell_type": "code",
   "execution_count": 9,
   "metadata": {},
   "outputs": [
    {
     "data": {
      "text/html": [
       "<div>\n",
       "<style scoped>\n",
       "    .dataframe tbody tr th:only-of-type {\n",
       "        vertical-align: middle;\n",
       "    }\n",
       "\n",
       "    .dataframe tbody tr th {\n",
       "        vertical-align: top;\n",
       "    }\n",
       "\n",
       "    .dataframe thead th {\n",
       "        text-align: right;\n",
       "    }\n",
       "</style>\n",
       "<table border=\"1\" class=\"dataframe\">\n",
       "  <thead>\n",
       "    <tr style=\"text-align: right;\">\n",
       "      <th></th>\n",
       "      <th>ISBN</th>\n",
       "      <th>bookTitle</th>\n",
       "      <th>bookAuthor</th>\n",
       "      <th>yearOfPublication</th>\n",
       "      <th>publisher</th>\n",
       "      <th>imageUrlS</th>\n",
       "      <th>imageUrlM</th>\n",
       "      <th>imageUrlL</th>\n",
       "    </tr>\n",
       "  </thead>\n",
       "  <tbody>\n",
       "    <tr>\n",
       "      <th>271355</th>\n",
       "      <td>0440400988</td>\n",
       "      <td>There's a Bat in Bunk Five</td>\n",
       "      <td>Paula Danziger</td>\n",
       "      <td>1988</td>\n",
       "      <td>Random House Childrens Pub (Mm)</td>\n",
       "      <td>http://images.amazon.com/images/P/0440400988.0...</td>\n",
       "      <td>http://images.amazon.com/images/P/0440400988.0...</td>\n",
       "      <td>http://images.amazon.com/images/P/0440400988.0...</td>\n",
       "    </tr>\n",
       "    <tr>\n",
       "      <th>271356</th>\n",
       "      <td>0525447644</td>\n",
       "      <td>From One to One Hundred</td>\n",
       "      <td>Teri Sloat</td>\n",
       "      <td>1991</td>\n",
       "      <td>Dutton Books</td>\n",
       "      <td>http://images.amazon.com/images/P/0525447644.0...</td>\n",
       "      <td>http://images.amazon.com/images/P/0525447644.0...</td>\n",
       "      <td>http://images.amazon.com/images/P/0525447644.0...</td>\n",
       "    </tr>\n",
       "    <tr>\n",
       "      <th>271357</th>\n",
       "      <td>006008667X</td>\n",
       "      <td>Lily Dale : The True Story of the Town that Ta...</td>\n",
       "      <td>Christine Wicker</td>\n",
       "      <td>2004</td>\n",
       "      <td>HarperSanFrancisco</td>\n",
       "      <td>http://images.amazon.com/images/P/006008667X.0...</td>\n",
       "      <td>http://images.amazon.com/images/P/006008667X.0...</td>\n",
       "      <td>http://images.amazon.com/images/P/006008667X.0...</td>\n",
       "    </tr>\n",
       "    <tr>\n",
       "      <th>271358</th>\n",
       "      <td>0192126040</td>\n",
       "      <td>Republic (World's Classics)</td>\n",
       "      <td>Plato</td>\n",
       "      <td>1996</td>\n",
       "      <td>Oxford University Press</td>\n",
       "      <td>http://images.amazon.com/images/P/0192126040.0...</td>\n",
       "      <td>http://images.amazon.com/images/P/0192126040.0...</td>\n",
       "      <td>http://images.amazon.com/images/P/0192126040.0...</td>\n",
       "    </tr>\n",
       "    <tr>\n",
       "      <th>271359</th>\n",
       "      <td>0767409752</td>\n",
       "      <td>A Guided Tour of Rene Descartes' Meditations o...</td>\n",
       "      <td>Christopher  Biffle</td>\n",
       "      <td>2000</td>\n",
       "      <td>McGraw-Hill Humanities/Social Sciences/Languages</td>\n",
       "      <td>http://images.amazon.com/images/P/0767409752.0...</td>\n",
       "      <td>http://images.amazon.com/images/P/0767409752.0...</td>\n",
       "      <td>http://images.amazon.com/images/P/0767409752.0...</td>\n",
       "    </tr>\n",
       "  </tbody>\n",
       "</table>\n",
       "</div>"
      ],
      "text/plain": [
       "              ISBN                                          bookTitle  \\\n",
       "271355  0440400988                         There's a Bat in Bunk Five   \n",
       "271356  0525447644                            From One to One Hundred   \n",
       "271357  006008667X  Lily Dale : The True Story of the Town that Ta...   \n",
       "271358  0192126040                        Republic (World's Classics)   \n",
       "271359  0767409752  A Guided Tour of Rene Descartes' Meditations o...   \n",
       "\n",
       "                 bookAuthor yearOfPublication  \\\n",
       "271355       Paula Danziger              1988   \n",
       "271356           Teri Sloat              1991   \n",
       "271357     Christine Wicker              2004   \n",
       "271358                Plato              1996   \n",
       "271359  Christopher  Biffle              2000   \n",
       "\n",
       "                                               publisher  \\\n",
       "271355                   Random House Childrens Pub (Mm)   \n",
       "271356                                      Dutton Books   \n",
       "271357                                HarperSanFrancisco   \n",
       "271358                           Oxford University Press   \n",
       "271359  McGraw-Hill Humanities/Social Sciences/Languages   \n",
       "\n",
       "                                                imageUrlS  \\\n",
       "271355  http://images.amazon.com/images/P/0440400988.0...   \n",
       "271356  http://images.amazon.com/images/P/0525447644.0...   \n",
       "271357  http://images.amazon.com/images/P/006008667X.0...   \n",
       "271358  http://images.amazon.com/images/P/0192126040.0...   \n",
       "271359  http://images.amazon.com/images/P/0767409752.0...   \n",
       "\n",
       "                                                imageUrlM  \\\n",
       "271355  http://images.amazon.com/images/P/0440400988.0...   \n",
       "271356  http://images.amazon.com/images/P/0525447644.0...   \n",
       "271357  http://images.amazon.com/images/P/006008667X.0...   \n",
       "271358  http://images.amazon.com/images/P/0192126040.0...   \n",
       "271359  http://images.amazon.com/images/P/0767409752.0...   \n",
       "\n",
       "                                                imageUrlL  \n",
       "271355  http://images.amazon.com/images/P/0440400988.0...  \n",
       "271356  http://images.amazon.com/images/P/0525447644.0...  \n",
       "271357  http://images.amazon.com/images/P/006008667X.0...  \n",
       "271358  http://images.amazon.com/images/P/0192126040.0...  \n",
       "271359  http://images.amazon.com/images/P/0767409752.0...  "
      ]
     },
     "execution_count": 9,
     "metadata": {},
     "output_type": "execute_result"
    }
   ],
   "source": [
    "books.tail(5)"
   ]
  },
  {
   "cell_type": "code",
   "execution_count": 10,
   "metadata": {},
   "outputs": [
    {
     "data": {
      "text/plain": [
       "ISBN                 object\n",
       "bookTitle            object\n",
       "bookAuthor           object\n",
       "yearOfPublication    object\n",
       "publisher            object\n",
       "imageUrlS            object\n",
       "imageUrlM            object\n",
       "imageUrlL            object\n",
       "dtype: object"
      ]
     },
     "execution_count": 10,
     "metadata": {},
     "output_type": "execute_result"
    }
   ],
   "source": [
    "books.dtypes"
   ]
  },
  {
   "cell_type": "code",
   "execution_count": 11,
   "metadata": {},
   "outputs": [
    {
     "name": "stdout",
     "output_type": "stream",
     "text": [
      "<class 'pandas.core.frame.DataFrame'>\n",
      "RangeIndex: 271360 entries, 0 to 271359\n",
      "Data columns (total 8 columns):\n",
      "ISBN                 271360 non-null object\n",
      "bookTitle            271360 non-null object\n",
      "bookAuthor           271359 non-null object\n",
      "yearOfPublication    271360 non-null object\n",
      "publisher            271358 non-null object\n",
      "imageUrlS            271360 non-null object\n",
      "imageUrlM            271360 non-null object\n",
      "imageUrlL            271357 non-null object\n",
      "dtypes: object(8)\n",
      "memory usage: 16.6+ MB\n"
     ]
    }
   ],
   "source": [
    "books.info()"
   ]
  },
  {
   "cell_type": "markdown",
   "metadata": {
    "colab_type": "text",
    "id": "4axcsIias671"
   },
   "source": [
    "### Drop last three columns containing image URLs which will not be required for analysis"
   ]
  },
  {
   "cell_type": "code",
   "execution_count": 12,
   "metadata": {
    "colab": {},
    "colab_type": "code",
    "id": "PA33GNJZs674"
   },
   "outputs": [],
   "source": [
    "books.drop(['imageUrlS','imageUrlM', 'imageUrlL'], axis=1, inplace=True)"
   ]
  },
  {
   "cell_type": "code",
   "execution_count": 13,
   "metadata": {},
   "outputs": [
    {
     "data": {
      "text/html": [
       "<div>\n",
       "<style scoped>\n",
       "    .dataframe tbody tr th:only-of-type {\n",
       "        vertical-align: middle;\n",
       "    }\n",
       "\n",
       "    .dataframe tbody tr th {\n",
       "        vertical-align: top;\n",
       "    }\n",
       "\n",
       "    .dataframe thead th {\n",
       "        text-align: right;\n",
       "    }\n",
       "</style>\n",
       "<table border=\"1\" class=\"dataframe\">\n",
       "  <thead>\n",
       "    <tr style=\"text-align: right;\">\n",
       "      <th></th>\n",
       "      <th>ISBN</th>\n",
       "      <th>bookTitle</th>\n",
       "      <th>bookAuthor</th>\n",
       "      <th>yearOfPublication</th>\n",
       "      <th>publisher</th>\n",
       "    </tr>\n",
       "  </thead>\n",
       "  <tbody>\n",
       "    <tr>\n",
       "      <th>0</th>\n",
       "      <td>0195153448</td>\n",
       "      <td>Classical Mythology</td>\n",
       "      <td>Mark P. O. Morford</td>\n",
       "      <td>2002</td>\n",
       "      <td>Oxford University Press</td>\n",
       "    </tr>\n",
       "    <tr>\n",
       "      <th>1</th>\n",
       "      <td>0002005018</td>\n",
       "      <td>Clara Callan</td>\n",
       "      <td>Richard Bruce Wright</td>\n",
       "      <td>2001</td>\n",
       "      <td>HarperFlamingo Canada</td>\n",
       "    </tr>\n",
       "  </tbody>\n",
       "</table>\n",
       "</div>"
      ],
      "text/plain": [
       "         ISBN            bookTitle            bookAuthor yearOfPublication  \\\n",
       "0  0195153448  Classical Mythology    Mark P. O. Morford              2002   \n",
       "1  0002005018         Clara Callan  Richard Bruce Wright              2001   \n",
       "\n",
       "                 publisher  \n",
       "0  Oxford University Press  \n",
       "1    HarperFlamingo Canada  "
      ]
     },
     "execution_count": 13,
     "metadata": {},
     "output_type": "execute_result"
    }
   ],
   "source": [
    "books.head(2)"
   ]
  },
  {
   "cell_type": "code",
   "execution_count": 14,
   "metadata": {
    "colab": {},
    "colab_type": "code",
    "id": "KfrpLBCds677",
    "outputId": "a6ce4f8f-0765-4c91-95fb-7c16620d6ebb",
    "scrolled": true
   },
   "outputs": [
    {
     "name": "stdout",
     "output_type": "stream",
     "text": [
      "(271360, 5) Index(['ISBN', 'bookTitle', 'bookAuthor', 'yearOfPublication', 'publisher'], dtype='object')\n"
     ]
    }
   ],
   "source": [
    "print(books.shape, books.columns)"
   ]
  },
  {
   "cell_type": "markdown",
   "metadata": {
    "colab_type": "text",
    "id": "WYZLtYxts67_"
   },
   "source": [
    "**yearOfPublication**"
   ]
  },
  {
   "cell_type": "markdown",
   "metadata": {
    "colab_type": "text",
    "id": "oJoCH8Ifs68B"
   },
   "source": [
    "### Check unique values of yearOfPublication\n"
   ]
  },
  {
   "cell_type": "code",
   "execution_count": 15,
   "metadata": {},
   "outputs": [
    {
     "data": {
      "text/plain": [
       "array(['2002', '2001', '1991', '1999', '2000', '1993', '1996', '1988',\n",
       "       '2004', '1998', '1994', '2003', '1997', '1983', '1979', '1995',\n",
       "       '1982', '1985', '1992', '1986', '1978', '1980', '1952', '1987',\n",
       "       '1990', '1981', '1989', '1984', '0', '1968', '1961', '1958',\n",
       "       '1974', '1976', '1971', '1977', '1975', '1965', '1941', '1970',\n",
       "       '1962', '1973', '1972', '1960', '1966', '1920', '1956', '1959',\n",
       "       '1953', '1951', '1942', '1963', '1964', '1969', '1954', '1950',\n",
       "       '1967', '2005', '1957', '1940', '1937', '1955', '1946', '1936',\n",
       "       '1930', '2011', '1925', '1948', '1943', '1947', '1945', '1923',\n",
       "       '2020', '1939', '1926', '1938', '2030', '1911', '1904', '1949',\n",
       "       '1932', '1928', '1929', '1927', '1931', '1914', '2050', '1934',\n",
       "       '1910', '1933', '1902', '1924', '1921', '1900', '2038', '2026',\n",
       "       '1944', '1917', '1901', '2010', '1908', '1906', '1935', '1806',\n",
       "       '2021', '2012', '2006', 'DK Publishing Inc', 'Gallimard', '1909',\n",
       "       '2008', '1378', '1919', '1922', '1897', '2024', '1376', '2037'],\n",
       "      dtype=object)"
      ]
     },
     "execution_count": 15,
     "metadata": {},
     "output_type": "execute_result"
    }
   ],
   "source": [
    "books['yearOfPublication'].unique()"
   ]
  },
  {
   "cell_type": "markdown",
   "metadata": {
    "colab_type": "text",
    "id": "FCMdw-Ojs68J"
   },
   "source": [
    "As it can be seen from above that there are some incorrect entries in this field. It looks like Publisher names 'DK Publishing Inc' and 'Gallimard' have been incorrectly loaded as yearOfPublication in dataset due to some errors in csv file.\n",
    "\n",
    "\n",
    "Also some of the entries are strings and same years have been entered as numbers in some places. We will try to fix these things in the coming questions."
   ]
  },
  {
   "cell_type": "markdown",
   "metadata": {
    "colab_type": "text",
    "id": "JqzIY4F2s68L"
   },
   "source": [
    "### Check the rows having 'DK Publishing Inc' as yearOfPublication"
   ]
  },
  {
   "cell_type": "code",
   "execution_count": 16,
   "metadata": {},
   "outputs": [
    {
     "data": {
      "text/html": [
       "<div>\n",
       "<style scoped>\n",
       "    .dataframe tbody tr th:only-of-type {\n",
       "        vertical-align: middle;\n",
       "    }\n",
       "\n",
       "    .dataframe tbody tr th {\n",
       "        vertical-align: top;\n",
       "    }\n",
       "\n",
       "    .dataframe thead th {\n",
       "        text-align: right;\n",
       "    }\n",
       "</style>\n",
       "<table border=\"1\" class=\"dataframe\">\n",
       "  <thead>\n",
       "    <tr style=\"text-align: right;\">\n",
       "      <th></th>\n",
       "      <th>ISBN</th>\n",
       "      <th>bookTitle</th>\n",
       "      <th>bookAuthor</th>\n",
       "      <th>yearOfPublication</th>\n",
       "      <th>publisher</th>\n",
       "    </tr>\n",
       "  </thead>\n",
       "  <tbody>\n",
       "    <tr>\n",
       "      <th>209538</th>\n",
       "      <td>078946697X</td>\n",
       "      <td>DK Readers: Creating the X-Men, How It All Beg...</td>\n",
       "      <td>2000</td>\n",
       "      <td>DK Publishing Inc</td>\n",
       "      <td>http://images.amazon.com/images/P/078946697X.0...</td>\n",
       "    </tr>\n",
       "    <tr>\n",
       "      <th>221678</th>\n",
       "      <td>0789466953</td>\n",
       "      <td>DK Readers: Creating the X-Men, How Comic Book...</td>\n",
       "      <td>2000</td>\n",
       "      <td>DK Publishing Inc</td>\n",
       "      <td>http://images.amazon.com/images/P/0789466953.0...</td>\n",
       "    </tr>\n",
       "  </tbody>\n",
       "</table>\n",
       "</div>"
      ],
      "text/plain": [
       "              ISBN                                          bookTitle  \\\n",
       "209538  078946697X  DK Readers: Creating the X-Men, How It All Beg...   \n",
       "221678  0789466953  DK Readers: Creating the X-Men, How Comic Book...   \n",
       "\n",
       "       bookAuthor  yearOfPublication  \\\n",
       "209538       2000  DK Publishing Inc   \n",
       "221678       2000  DK Publishing Inc   \n",
       "\n",
       "                                                publisher  \n",
       "209538  http://images.amazon.com/images/P/078946697X.0...  \n",
       "221678  http://images.amazon.com/images/P/0789466953.0...  "
      ]
     },
     "execution_count": 16,
     "metadata": {},
     "output_type": "execute_result"
    }
   ],
   "source": [
    "#Rows having 'DK Publishing Inc' as yearOfPublication\n",
    "\n",
    "books[books['yearOfPublication'] == 'DK Publishing Inc']"
   ]
  },
  {
   "cell_type": "code",
   "execution_count": 17,
   "metadata": {},
   "outputs": [
    {
     "data": {
      "text/html": [
       "<div>\n",
       "<style scoped>\n",
       "    .dataframe tbody tr th:only-of-type {\n",
       "        vertical-align: middle;\n",
       "    }\n",
       "\n",
       "    .dataframe tbody tr th {\n",
       "        vertical-align: top;\n",
       "    }\n",
       "\n",
       "    .dataframe thead th {\n",
       "        text-align: right;\n",
       "    }\n",
       "</style>\n",
       "<table border=\"1\" class=\"dataframe\">\n",
       "  <thead>\n",
       "    <tr style=\"text-align: right;\">\n",
       "      <th></th>\n",
       "      <th>ISBN</th>\n",
       "      <th>bookTitle</th>\n",
       "      <th>bookAuthor</th>\n",
       "      <th>yearOfPublication</th>\n",
       "      <th>publisher</th>\n",
       "    </tr>\n",
       "  </thead>\n",
       "  <tbody>\n",
       "    <tr>\n",
       "      <th>220731</th>\n",
       "      <td>2070426769</td>\n",
       "      <td>Peuple du ciel, suivi de 'Les Bergers\\\";Jean-M...</td>\n",
       "      <td>2003</td>\n",
       "      <td>Gallimard</td>\n",
       "      <td>http://images.amazon.com/images/P/2070426769.0...</td>\n",
       "    </tr>\n",
       "  </tbody>\n",
       "</table>\n",
       "</div>"
      ],
      "text/plain": [
       "              ISBN                                          bookTitle  \\\n",
       "220731  2070426769  Peuple du ciel, suivi de 'Les Bergers\\\";Jean-M...   \n",
       "\n",
       "       bookAuthor yearOfPublication  \\\n",
       "220731       2003         Gallimard   \n",
       "\n",
       "                                                publisher  \n",
       "220731  http://images.amazon.com/images/P/2070426769.0...  "
      ]
     },
     "execution_count": 17,
     "metadata": {},
     "output_type": "execute_result"
    }
   ],
   "source": [
    "#Rows having 'Gallimard' as yearOfPublication\n",
    "\n",
    "books[books['yearOfPublication'] == 'Gallimard']"
   ]
  },
  {
   "cell_type": "markdown",
   "metadata": {
    "colab_type": "text",
    "id": "2_tlfuJ0s68X"
   },
   "source": [
    "### Drop the rows having `'DK Publishing Inc'` and `'Gallimard'` as `yearOfPublication`"
   ]
  },
  {
   "cell_type": "code",
   "execution_count": 18,
   "metadata": {},
   "outputs": [],
   "source": [
    "#Drop the rows having 'DK Publishing Inc' as yearOfPublication\n",
    "\n",
    "books = books.drop(books[books['yearOfPublication'] == 'DK Publishing Inc'].index, axis=0)"
   ]
  },
  {
   "cell_type": "code",
   "execution_count": 19,
   "metadata": {},
   "outputs": [
    {
     "data": {
      "text/html": [
       "<div>\n",
       "<style scoped>\n",
       "    .dataframe tbody tr th:only-of-type {\n",
       "        vertical-align: middle;\n",
       "    }\n",
       "\n",
       "    .dataframe tbody tr th {\n",
       "        vertical-align: top;\n",
       "    }\n",
       "\n",
       "    .dataframe thead th {\n",
       "        text-align: right;\n",
       "    }\n",
       "</style>\n",
       "<table border=\"1\" class=\"dataframe\">\n",
       "  <thead>\n",
       "    <tr style=\"text-align: right;\">\n",
       "      <th></th>\n",
       "      <th>ISBN</th>\n",
       "      <th>bookTitle</th>\n",
       "      <th>bookAuthor</th>\n",
       "      <th>yearOfPublication</th>\n",
       "      <th>publisher</th>\n",
       "    </tr>\n",
       "  </thead>\n",
       "  <tbody>\n",
       "  </tbody>\n",
       "</table>\n",
       "</div>"
      ],
      "text/plain": [
       "Empty DataFrame\n",
       "Columns: [ISBN, bookTitle, bookAuthor, yearOfPublication, publisher]\n",
       "Index: []"
      ]
     },
     "execution_count": 19,
     "metadata": {},
     "output_type": "execute_result"
    }
   ],
   "source": [
    "#Check that the rows are dropped.\n",
    "\n",
    "books[books['yearOfPublication'] == 'DK Publishing Inc']"
   ]
  },
  {
   "cell_type": "code",
   "execution_count": 20,
   "metadata": {},
   "outputs": [],
   "source": [
    "#Drop the rows having 'Gallimard'as yearOfPublication\n",
    "\n",
    "books = books.drop(books[books['yearOfPublication'] == 'Gallimard'].index, axis=0)"
   ]
  },
  {
   "cell_type": "code",
   "execution_count": 21,
   "metadata": {},
   "outputs": [
    {
     "data": {
      "text/html": [
       "<div>\n",
       "<style scoped>\n",
       "    .dataframe tbody tr th:only-of-type {\n",
       "        vertical-align: middle;\n",
       "    }\n",
       "\n",
       "    .dataframe tbody tr th {\n",
       "        vertical-align: top;\n",
       "    }\n",
       "\n",
       "    .dataframe thead th {\n",
       "        text-align: right;\n",
       "    }\n",
       "</style>\n",
       "<table border=\"1\" class=\"dataframe\">\n",
       "  <thead>\n",
       "    <tr style=\"text-align: right;\">\n",
       "      <th></th>\n",
       "      <th>ISBN</th>\n",
       "      <th>bookTitle</th>\n",
       "      <th>bookAuthor</th>\n",
       "      <th>yearOfPublication</th>\n",
       "      <th>publisher</th>\n",
       "    </tr>\n",
       "  </thead>\n",
       "  <tbody>\n",
       "  </tbody>\n",
       "</table>\n",
       "</div>"
      ],
      "text/plain": [
       "Empty DataFrame\n",
       "Columns: [ISBN, bookTitle, bookAuthor, yearOfPublication, publisher]\n",
       "Index: []"
      ]
     },
     "execution_count": 21,
     "metadata": {},
     "output_type": "execute_result"
    }
   ],
   "source": [
    "#Check that the rows are dropped.\n",
    "\n",
    "books[books['yearOfPublication'] == 'Gallimard']"
   ]
  },
  {
   "cell_type": "markdown",
   "metadata": {
    "colab_type": "text",
    "id": "Cch8cy4Is69c"
   },
   "source": [
    "### Change the datatype of yearOfPublication to 'int'"
   ]
  },
  {
   "cell_type": "code",
   "execution_count": 22,
   "metadata": {},
   "outputs": [],
   "source": [
    "books['yearOfPublication'] = books['yearOfPublication'].astype('int64')"
   ]
  },
  {
   "cell_type": "code",
   "execution_count": 23,
   "metadata": {},
   "outputs": [
    {
     "data": {
      "text/plain": [
       "ISBN                 object\n",
       "bookTitle            object\n",
       "bookAuthor           object\n",
       "yearOfPublication     int64\n",
       "publisher            object\n",
       "dtype: object"
      ]
     },
     "execution_count": 23,
     "metadata": {},
     "output_type": "execute_result"
    }
   ],
   "source": [
    "books.dtypes"
   ]
  },
  {
   "cell_type": "code",
   "execution_count": 24,
   "metadata": {},
   "outputs": [
    {
     "name": "stdout",
     "output_type": "stream",
     "text": [
      "[0, 1376, 1378, 1806, 1897, 1900, 1901, 1902, 1904, 1906, 1908, 1909, 1910, 1911, 1914, 1917, 1919, 1920, 1921, 1922, 1923, 1924, 1925, 1926, 1927, 1928, 1929, 1930, 1931, 1932, 1933, 1934, 1935, 1936, 1937, 1938, 1939, 1940, 1941, 1942, 1943, 1944, 1945, 1946, 1947, 1948, 1949, 1950, 1951, 1952, 1953, 1954, 1955, 1956, 1957, 1958, 1959, 1960, 1961, 1962, 1963, 1964, 1965, 1966, 1967, 1968, 1969, 1970, 1971, 1972, 1973, 1974, 1975, 1976, 1977, 1978, 1979, 1980, 1981, 1982, 1983, 1984, 1985, 1986, 1987, 1988, 1989, 1990, 1991, 1992, 1993, 1994, 1995, 1996, 1997, 1998, 1999, 2000, 2001, 2002, 2003, 2004, 2005, 2006, 2008, 2010, 2011, 2012, 2020, 2021, 2024, 2026, 2030, 2037, 2038, 2050]\n"
     ]
    }
   ],
   "source": [
    "print(sorted(books['yearOfPublication'].unique()))"
   ]
  },
  {
   "cell_type": "markdown",
   "metadata": {},
   "source": [
    "### All the years from 2020 to 2050 are invalid as they are future years. For all thes invalid entries (including 0),convert these to NaNs, and then replace them with median of the year of Publication"
   ]
  },
  {
   "cell_type": "code",
   "execution_count": 25,
   "metadata": {},
   "outputs": [
    {
     "name": "stdout",
     "output_type": "stream",
     "text": [
      "1959.7608169312014 1995.0 0    2002\n",
      "dtype: int64\n"
     ]
    }
   ],
   "source": [
    "print(books['yearOfPublication'].mean(), books['yearOfPublication'].median(), books['yearOfPublication'].mode())"
   ]
  },
  {
   "cell_type": "code",
   "execution_count": 26,
   "metadata": {},
   "outputs": [],
   "source": [
    "books.loc[(books['yearOfPublication'] > 2012) | (books['yearOfPublication'] == 0), 'yearOfPublication'] = np.nan"
   ]
  },
  {
   "cell_type": "code",
   "execution_count": 27,
   "metadata": {},
   "outputs": [],
   "source": [
    "books['yearOfPublication'].fillna(round(books['yearOfPublication'].median()), inplace=True)"
   ]
  },
  {
   "cell_type": "code",
   "execution_count": 28,
   "metadata": {},
   "outputs": [],
   "source": [
    "books['yearOfPublication'] = books['yearOfPublication'].astype('int64')"
   ]
  },
  {
   "cell_type": "code",
   "execution_count": 29,
   "metadata": {},
   "outputs": [
    {
     "name": "stdout",
     "output_type": "stream",
     "text": [
      "[1376, 1378, 1806, 1897, 1900, 1901, 1902, 1904, 1906, 1908, 1909, 1910, 1911, 1914, 1917, 1919, 1920, 1921, 1922, 1923, 1924, 1925, 1926, 1927, 1928, 1929, 1930, 1931, 1932, 1933, 1934, 1935, 1936, 1937, 1938, 1939, 1940, 1941, 1942, 1943, 1944, 1945, 1946, 1947, 1948, 1949, 1950, 1951, 1952, 1953, 1954, 1955, 1956, 1957, 1958, 1959, 1960, 1961, 1962, 1963, 1964, 1965, 1966, 1967, 1968, 1969, 1970, 1971, 1972, 1973, 1974, 1975, 1976, 1977, 1978, 1979, 1980, 1981, 1982, 1983, 1984, 1985, 1986, 1987, 1988, 1989, 1990, 1991, 1992, 1993, 1994, 1995, 1996, 1997, 1998, 1999, 2000, 2001, 2002, 2003, 2004, 2005, 2006, 2008, 2010, 2011, 2012]\n"
     ]
    }
   ],
   "source": [
    "print(sorted(books['yearOfPublication'].unique()))"
   ]
  },
  {
   "cell_type": "markdown",
   "metadata": {
    "colab_type": "text",
    "id": "SUtxTglMs7AJ"
   },
   "source": [
    "### Drop NaNs in `'publisher'` column\n"
   ]
  },
  {
   "cell_type": "code",
   "execution_count": 30,
   "metadata": {},
   "outputs": [
    {
     "data": {
      "text/plain": [
       "ISBN                 0\n",
       "bookTitle            0\n",
       "bookAuthor           1\n",
       "yearOfPublication    0\n",
       "publisher            2\n",
       "dtype: int64"
      ]
     },
     "execution_count": 30,
     "metadata": {},
     "output_type": "execute_result"
    }
   ],
   "source": [
    "books.isna().sum()"
   ]
  },
  {
   "cell_type": "code",
   "execution_count": 31,
   "metadata": {},
   "outputs": [],
   "source": [
    "#Drop the rows which have null values.\n",
    "#As there are only 2 rows with null values for publisher and 1 row for with null values for bookAuthor dropping these\n",
    "\n",
    "books.dropna(inplace=True)"
   ]
  },
  {
   "cell_type": "code",
   "execution_count": 32,
   "metadata": {},
   "outputs": [
    {
     "data": {
      "text/plain": [
       "ISBN                 0\n",
       "bookTitle            0\n",
       "bookAuthor           0\n",
       "yearOfPublication    0\n",
       "publisher            0\n",
       "dtype: int64"
      ]
     },
     "execution_count": 32,
     "metadata": {},
     "output_type": "execute_result"
    }
   ],
   "source": [
    "books.isna().sum()"
   ]
  },
  {
   "cell_type": "code",
   "execution_count": 33,
   "metadata": {},
   "outputs": [
    {
     "name": "stdout",
     "output_type": "stream",
     "text": [
      "\n",
      "Null records in the dataset have been removed.\n",
      "\n"
     ]
    }
   ],
   "source": [
    "print(\"\\nNull records in the dataset have been removed.\\n\")"
   ]
  },
  {
   "cell_type": "code",
   "execution_count": 34,
   "metadata": {},
   "outputs": [
    {
     "data": {
      "text/plain": [
       "0"
      ]
     },
     "execution_count": 34,
     "metadata": {},
     "output_type": "execute_result"
    }
   ],
   "source": [
    "books.duplicated().sum()"
   ]
  },
  {
   "cell_type": "code",
   "execution_count": 35,
   "metadata": {},
   "outputs": [
    {
     "name": "stdout",
     "output_type": "stream",
     "text": [
      "\n",
      "There are no duplicate rows in the dataset\n",
      "\n"
     ]
    }
   ],
   "source": [
    "print(\"\\nThere are no duplicate rows in the dataset\\n\")"
   ]
  },
  {
   "cell_type": "markdown",
   "metadata": {
    "colab_type": "text",
    "id": "O_ZT_MdQs7AR"
   },
   "source": [
    "## Exploring Users dataset"
   ]
  },
  {
   "cell_type": "code",
   "execution_count": 36,
   "metadata": {
    "colab": {},
    "colab_type": "code",
    "id": "Qrl6ZpFks7AS",
    "outputId": "6a4caa6a-c01c-4d9f-d0ee-082cf1ff93d0",
    "scrolled": true
   },
   "outputs": [
    {
     "name": "stdout",
     "output_type": "stream",
     "text": [
      "(278858, 3) Index(['userID', 'Location', 'Age'], dtype='object')\n"
     ]
    }
   ],
   "source": [
    "print(users.shape,users.columns)"
   ]
  },
  {
   "cell_type": "code",
   "execution_count": 37,
   "metadata": {},
   "outputs": [
    {
     "data": {
      "text/html": [
       "<div>\n",
       "<style scoped>\n",
       "    .dataframe tbody tr th:only-of-type {\n",
       "        vertical-align: middle;\n",
       "    }\n",
       "\n",
       "    .dataframe tbody tr th {\n",
       "        vertical-align: top;\n",
       "    }\n",
       "\n",
       "    .dataframe thead th {\n",
       "        text-align: right;\n",
       "    }\n",
       "</style>\n",
       "<table border=\"1\" class=\"dataframe\">\n",
       "  <thead>\n",
       "    <tr style=\"text-align: right;\">\n",
       "      <th></th>\n",
       "      <th>userID</th>\n",
       "      <th>Location</th>\n",
       "      <th>Age</th>\n",
       "    </tr>\n",
       "  </thead>\n",
       "  <tbody>\n",
       "    <tr>\n",
       "      <th>0</th>\n",
       "      <td>1</td>\n",
       "      <td>nyc, new york, usa</td>\n",
       "      <td>NaN</td>\n",
       "    </tr>\n",
       "    <tr>\n",
       "      <th>1</th>\n",
       "      <td>2</td>\n",
       "      <td>stockton, california, usa</td>\n",
       "      <td>18.0</td>\n",
       "    </tr>\n",
       "    <tr>\n",
       "      <th>2</th>\n",
       "      <td>3</td>\n",
       "      <td>moscow, yukon territory, russia</td>\n",
       "      <td>NaN</td>\n",
       "    </tr>\n",
       "    <tr>\n",
       "      <th>3</th>\n",
       "      <td>4</td>\n",
       "      <td>porto, v.n.gaia, portugal</td>\n",
       "      <td>17.0</td>\n",
       "    </tr>\n",
       "    <tr>\n",
       "      <th>4</th>\n",
       "      <td>5</td>\n",
       "      <td>farnborough, hants, united kingdom</td>\n",
       "      <td>NaN</td>\n",
       "    </tr>\n",
       "  </tbody>\n",
       "</table>\n",
       "</div>"
      ],
      "text/plain": [
       "   userID                            Location   Age\n",
       "0       1                  nyc, new york, usa   NaN\n",
       "1       2           stockton, california, usa  18.0\n",
       "2       3     moscow, yukon territory, russia   NaN\n",
       "3       4           porto, v.n.gaia, portugal  17.0\n",
       "4       5  farnborough, hants, united kingdom   NaN"
      ]
     },
     "execution_count": 37,
     "metadata": {},
     "output_type": "execute_result"
    }
   ],
   "source": [
    "users.head(5)"
   ]
  },
  {
   "cell_type": "code",
   "execution_count": 38,
   "metadata": {},
   "outputs": [
    {
     "data": {
      "text/html": [
       "<div>\n",
       "<style scoped>\n",
       "    .dataframe tbody tr th:only-of-type {\n",
       "        vertical-align: middle;\n",
       "    }\n",
       "\n",
       "    .dataframe tbody tr th {\n",
       "        vertical-align: top;\n",
       "    }\n",
       "\n",
       "    .dataframe thead th {\n",
       "        text-align: right;\n",
       "    }\n",
       "</style>\n",
       "<table border=\"1\" class=\"dataframe\">\n",
       "  <thead>\n",
       "    <tr style=\"text-align: right;\">\n",
       "      <th></th>\n",
       "      <th>userID</th>\n",
       "      <th>Location</th>\n",
       "      <th>Age</th>\n",
       "    </tr>\n",
       "  </thead>\n",
       "  <tbody>\n",
       "    <tr>\n",
       "      <th>278853</th>\n",
       "      <td>278854</td>\n",
       "      <td>portland, oregon, usa</td>\n",
       "      <td>NaN</td>\n",
       "    </tr>\n",
       "    <tr>\n",
       "      <th>278854</th>\n",
       "      <td>278855</td>\n",
       "      <td>tacoma, washington, united kingdom</td>\n",
       "      <td>50.0</td>\n",
       "    </tr>\n",
       "    <tr>\n",
       "      <th>278855</th>\n",
       "      <td>278856</td>\n",
       "      <td>brampton, ontario, canada</td>\n",
       "      <td>NaN</td>\n",
       "    </tr>\n",
       "    <tr>\n",
       "      <th>278856</th>\n",
       "      <td>278857</td>\n",
       "      <td>knoxville, tennessee, usa</td>\n",
       "      <td>NaN</td>\n",
       "    </tr>\n",
       "    <tr>\n",
       "      <th>278857</th>\n",
       "      <td>278858</td>\n",
       "      <td>dublin, n/a, ireland</td>\n",
       "      <td>NaN</td>\n",
       "    </tr>\n",
       "  </tbody>\n",
       "</table>\n",
       "</div>"
      ],
      "text/plain": [
       "        userID                            Location   Age\n",
       "278853  278854               portland, oregon, usa   NaN\n",
       "278854  278855  tacoma, washington, united kingdom  50.0\n",
       "278855  278856           brampton, ontario, canada   NaN\n",
       "278856  278857           knoxville, tennessee, usa   NaN\n",
       "278857  278858                dublin, n/a, ireland   NaN"
      ]
     },
     "execution_count": 38,
     "metadata": {},
     "output_type": "execute_result"
    }
   ],
   "source": [
    "users.tail(5)"
   ]
  },
  {
   "cell_type": "code",
   "execution_count": 39,
   "metadata": {},
   "outputs": [
    {
     "data": {
      "text/plain": [
       "userID        int64\n",
       "Location     object\n",
       "Age         float64\n",
       "dtype: object"
      ]
     },
     "execution_count": 39,
     "metadata": {},
     "output_type": "execute_result"
    }
   ],
   "source": [
    "users.dtypes"
   ]
  },
  {
   "cell_type": "code",
   "execution_count": 40,
   "metadata": {},
   "outputs": [
    {
     "name": "stdout",
     "output_type": "stream",
     "text": [
      "<class 'pandas.core.frame.DataFrame'>\n",
      "RangeIndex: 278858 entries, 0 to 278857\n",
      "Data columns (total 3 columns):\n",
      "userID      278858 non-null int64\n",
      "Location    278858 non-null object\n",
      "Age         168096 non-null float64\n",
      "dtypes: float64(1), int64(1), object(1)\n",
      "memory usage: 6.4+ MB\n"
     ]
    }
   ],
   "source": [
    "users.info()"
   ]
  },
  {
   "cell_type": "markdown",
   "metadata": {
    "colab_type": "text",
    "id": "BReY2Ttxs7Aa"
   },
   "source": [
    "### Get all unique values in ascending order for column `Age`"
   ]
  },
  {
   "cell_type": "code",
   "execution_count": 41,
   "metadata": {
    "colab": {},
    "colab_type": "code",
    "id": "uCTGMeCvs7Ae"
   },
   "outputs": [
    {
     "name": "stdout",
     "output_type": "stream",
     "text": [
      "[nan, 0.0, 1.0, 2.0, 3.0, 4.0, 5.0, 6.0, 7.0, 8.0, 9.0, 10.0, 11.0, 12.0, 13.0, 14.0, 15.0, 16.0, 17.0, 18.0, 19.0, 20.0, 21.0, 22.0, 23.0, 24.0, 25.0, 26.0, 27.0, 28.0, 29.0, 30.0, 31.0, 32.0, 33.0, 34.0, 35.0, 36.0, 37.0, 38.0, 39.0, 40.0, 41.0, 42.0, 43.0, 44.0, 45.0, 46.0, 47.0, 48.0, 49.0, 50.0, 51.0, 52.0, 53.0, 54.0, 55.0, 56.0, 57.0, 58.0, 59.0, 60.0, 61.0, 62.0, 63.0, 64.0, 65.0, 66.0, 67.0, 68.0, 69.0, 70.0, 71.0, 72.0, 73.0, 74.0, 75.0, 76.0, 77.0, 78.0, 79.0, 80.0, 81.0, 82.0, 83.0, 84.0, 85.0, 86.0, 87.0, 88.0, 89.0, 90.0, 91.0, 92.0, 93.0, 94.0, 95.0, 96.0, 97.0, 98.0, 99.0, 100.0, 101.0, 102.0, 103.0, 104.0, 105.0, 106.0, 107.0, 108.0, 109.0, 110.0, 111.0, 113.0, 114.0, 115.0, 116.0, 118.0, 119.0, 123.0, 124.0, 127.0, 128.0, 132.0, 133.0, 136.0, 137.0, 138.0, 140.0, 141.0, 143.0, 146.0, 147.0, 148.0, 151.0, 152.0, 156.0, 157.0, 159.0, 162.0, 168.0, 172.0, 175.0, 183.0, 186.0, 189.0, 199.0, 200.0, 201.0, 204.0, 207.0, 208.0, 209.0, 210.0, 212.0, 219.0, 220.0, 223.0, 226.0, 228.0, 229.0, 230.0, 231.0, 237.0, 239.0, 244.0]\n"
     ]
    }
   ],
   "source": [
    "print(sorted(users['Age'].unique()))"
   ]
  },
  {
   "cell_type": "markdown",
   "metadata": {
    "colab_type": "text",
    "id": "0dWWlmXMs7Ak"
   },
   "source": [
    "Age column has some invalid entries like nan, 0 and very high values like 100 and above"
   ]
  },
  {
   "cell_type": "markdown",
   "metadata": {
    "colab_type": "text",
    "id": "nHBzo2tIs7Al"
   },
   "source": [
    "### Values below 5 and above 90 do not make much sense for our book rating case...hence replace these by NaNs"
   ]
  },
  {
   "cell_type": "code",
   "execution_count": 42,
   "metadata": {},
   "outputs": [],
   "source": [
    "users.loc[(users['Age'] < 5)|(users['Age'] > 90),'Age'] = np.nan"
   ]
  },
  {
   "cell_type": "code",
   "execution_count": 43,
   "metadata": {},
   "outputs": [
    {
     "name": "stdout",
     "output_type": "stream",
     "text": [
      "[nan, 5.0, 6.0, 7.0, 8.0, 9.0, 10.0, 11.0, 12.0, 13.0, 14.0, 15.0, 16.0, 17.0, 18.0, 19.0, 20.0, 21.0, 22.0, 23.0, 24.0, 25.0, 26.0, 27.0, 28.0, 29.0, 30.0, 31.0, 32.0, 33.0, 34.0, 35.0, 36.0, 37.0, 38.0, 39.0, 40.0, 41.0, 42.0, 43.0, 44.0, 45.0, 46.0, 47.0, 48.0, 49.0, 50.0, 51.0, 52.0, 53.0, 54.0, 55.0, 56.0, 57.0, 58.0, 59.0, 60.0, 61.0, 62.0, 63.0, 64.0, 65.0, 66.0, 67.0, 68.0, 69.0, 70.0, 71.0, 72.0, 73.0, 74.0, 75.0, 76.0, 77.0, 78.0, 79.0, 80.0, 81.0, 82.0, 83.0, 84.0, 85.0, 86.0, 87.0, 88.0, 89.0, 90.0]\n"
     ]
    }
   ],
   "source": [
    "print(sorted(users['Age'].unique()))"
   ]
  },
  {
   "cell_type": "markdown",
   "metadata": {
    "colab_type": "text",
    "id": "qBxukZOQs7Ax"
   },
   "source": [
    "### Replace null values in column `Age` with mean"
   ]
  },
  {
   "cell_type": "code",
   "execution_count": 44,
   "metadata": {
    "colab": {},
    "colab_type": "code",
    "id": "wvSMVO2-s7A3"
   },
   "outputs": [],
   "source": [
    "users['Age'].fillna(round(users['Age'].mean()), inplace=True)"
   ]
  },
  {
   "cell_type": "markdown",
   "metadata": {
    "colab_type": "text",
    "id": "zne349_Ss7A9"
   },
   "source": [
    "### Change the datatype of `Age` to `int`"
   ]
  },
  {
   "cell_type": "code",
   "execution_count": 45,
   "metadata": {
    "colab": {},
    "colab_type": "code",
    "id": "A3Gbfi6qs7A-"
   },
   "outputs": [],
   "source": [
    "users['Age'] = users['Age'].astype('int64')"
   ]
  },
  {
   "cell_type": "code",
   "execution_count": 46,
   "metadata": {
    "colab": {},
    "colab_type": "code",
    "id": "nBgB1uizs7BD",
    "outputId": "88b7e233-a6ca-43c9-969c-0bde49629474",
    "scrolled": true
   },
   "outputs": [
    {
     "name": "stdout",
     "output_type": "stream",
     "text": [
      "[5, 6, 7, 8, 9, 10, 11, 12, 13, 14, 15, 16, 17, 18, 19, 20, 21, 22, 23, 24, 25, 26, 27, 28, 29, 30, 31, 32, 33, 34, 35, 36, 37, 38, 39, 40, 41, 42, 43, 44, 45, 46, 47, 48, 49, 50, 51, 52, 53, 54, 55, 56, 57, 58, 59, 60, 61, 62, 63, 64, 65, 66, 67, 68, 69, 70, 71, 72, 73, 74, 75, 76, 77, 78, 79, 80, 81, 82, 83, 84, 85, 86, 87, 88, 89, 90]\n"
     ]
    }
   ],
   "source": [
    "print(sorted(users.Age.unique()))"
   ]
  },
  {
   "cell_type": "markdown",
   "metadata": {
    "colab_type": "text",
    "id": "e4q8iaGRs7Bu"
   },
   "source": [
    "## Exploring the Ratings Dataset"
   ]
  },
  {
   "cell_type": "markdown",
   "metadata": {
    "colab_type": "text",
    "id": "CXW8MMyws7B1"
   },
   "source": [
    "### check the shape"
   ]
  },
  {
   "cell_type": "code",
   "execution_count": 47,
   "metadata": {},
   "outputs": [
    {
     "name": "stdout",
     "output_type": "stream",
     "text": [
      "(1149780, 3) Index(['userID', 'ISBN', 'bookRating'], dtype='object')\n"
     ]
    }
   ],
   "source": [
    "print(ratings.shape, ratings.columns)"
   ]
  },
  {
   "cell_type": "code",
   "execution_count": 48,
   "metadata": {},
   "outputs": [
    {
     "data": {
      "text/html": [
       "<div>\n",
       "<style scoped>\n",
       "    .dataframe tbody tr th:only-of-type {\n",
       "        vertical-align: middle;\n",
       "    }\n",
       "\n",
       "    .dataframe tbody tr th {\n",
       "        vertical-align: top;\n",
       "    }\n",
       "\n",
       "    .dataframe thead th {\n",
       "        text-align: right;\n",
       "    }\n",
       "</style>\n",
       "<table border=\"1\" class=\"dataframe\">\n",
       "  <thead>\n",
       "    <tr style=\"text-align: right;\">\n",
       "      <th></th>\n",
       "      <th>userID</th>\n",
       "      <th>ISBN</th>\n",
       "      <th>bookRating</th>\n",
       "    </tr>\n",
       "  </thead>\n",
       "  <tbody>\n",
       "    <tr>\n",
       "      <th>0</th>\n",
       "      <td>276725</td>\n",
       "      <td>034545104X</td>\n",
       "      <td>0</td>\n",
       "    </tr>\n",
       "    <tr>\n",
       "      <th>1</th>\n",
       "      <td>276726</td>\n",
       "      <td>0155061224</td>\n",
       "      <td>5</td>\n",
       "    </tr>\n",
       "    <tr>\n",
       "      <th>2</th>\n",
       "      <td>276727</td>\n",
       "      <td>0446520802</td>\n",
       "      <td>0</td>\n",
       "    </tr>\n",
       "    <tr>\n",
       "      <th>3</th>\n",
       "      <td>276729</td>\n",
       "      <td>052165615X</td>\n",
       "      <td>3</td>\n",
       "    </tr>\n",
       "    <tr>\n",
       "      <th>4</th>\n",
       "      <td>276729</td>\n",
       "      <td>0521795028</td>\n",
       "      <td>6</td>\n",
       "    </tr>\n",
       "  </tbody>\n",
       "</table>\n",
       "</div>"
      ],
      "text/plain": [
       "   userID        ISBN  bookRating\n",
       "0  276725  034545104X           0\n",
       "1  276726  0155061224           5\n",
       "2  276727  0446520802           0\n",
       "3  276729  052165615X           3\n",
       "4  276729  0521795028           6"
      ]
     },
     "execution_count": 48,
     "metadata": {},
     "output_type": "execute_result"
    }
   ],
   "source": [
    "ratings.head(5)"
   ]
  },
  {
   "cell_type": "code",
   "execution_count": 49,
   "metadata": {},
   "outputs": [
    {
     "data": {
      "text/html": [
       "<div>\n",
       "<style scoped>\n",
       "    .dataframe tbody tr th:only-of-type {\n",
       "        vertical-align: middle;\n",
       "    }\n",
       "\n",
       "    .dataframe tbody tr th {\n",
       "        vertical-align: top;\n",
       "    }\n",
       "\n",
       "    .dataframe thead th {\n",
       "        text-align: right;\n",
       "    }\n",
       "</style>\n",
       "<table border=\"1\" class=\"dataframe\">\n",
       "  <thead>\n",
       "    <tr style=\"text-align: right;\">\n",
       "      <th></th>\n",
       "      <th>userID</th>\n",
       "      <th>ISBN</th>\n",
       "      <th>bookRating</th>\n",
       "    </tr>\n",
       "  </thead>\n",
       "  <tbody>\n",
       "    <tr>\n",
       "      <th>1149775</th>\n",
       "      <td>276704</td>\n",
       "      <td>1563526298</td>\n",
       "      <td>9</td>\n",
       "    </tr>\n",
       "    <tr>\n",
       "      <th>1149776</th>\n",
       "      <td>276706</td>\n",
       "      <td>0679447156</td>\n",
       "      <td>0</td>\n",
       "    </tr>\n",
       "    <tr>\n",
       "      <th>1149777</th>\n",
       "      <td>276709</td>\n",
       "      <td>0515107662</td>\n",
       "      <td>10</td>\n",
       "    </tr>\n",
       "    <tr>\n",
       "      <th>1149778</th>\n",
       "      <td>276721</td>\n",
       "      <td>0590442449</td>\n",
       "      <td>10</td>\n",
       "    </tr>\n",
       "    <tr>\n",
       "      <th>1149779</th>\n",
       "      <td>276723</td>\n",
       "      <td>05162443314</td>\n",
       "      <td>8</td>\n",
       "    </tr>\n",
       "  </tbody>\n",
       "</table>\n",
       "</div>"
      ],
      "text/plain": [
       "         userID         ISBN  bookRating\n",
       "1149775  276704   1563526298           9\n",
       "1149776  276706   0679447156           0\n",
       "1149777  276709   0515107662          10\n",
       "1149778  276721   0590442449          10\n",
       "1149779  276723  05162443314           8"
      ]
     },
     "execution_count": 49,
     "metadata": {},
     "output_type": "execute_result"
    }
   ],
   "source": [
    "ratings.tail(5)"
   ]
  },
  {
   "cell_type": "code",
   "execution_count": 50,
   "metadata": {},
   "outputs": [
    {
     "data": {
      "text/plain": [
       "userID         int64\n",
       "ISBN          object\n",
       "bookRating     int64\n",
       "dtype: object"
      ]
     },
     "execution_count": 50,
     "metadata": {},
     "output_type": "execute_result"
    }
   ],
   "source": [
    "ratings.dtypes"
   ]
  },
  {
   "cell_type": "code",
   "execution_count": 51,
   "metadata": {},
   "outputs": [
    {
     "name": "stdout",
     "output_type": "stream",
     "text": [
      "<class 'pandas.core.frame.DataFrame'>\n",
      "RangeIndex: 1149780 entries, 0 to 1149779\n",
      "Data columns (total 3 columns):\n",
      "userID        1149780 non-null int64\n",
      "ISBN          1149780 non-null object\n",
      "bookRating    1149780 non-null int64\n",
      "dtypes: int64(2), object(1)\n",
      "memory usage: 26.3+ MB\n"
     ]
    }
   ],
   "source": [
    "ratings.info()"
   ]
  },
  {
   "cell_type": "markdown",
   "metadata": {
    "colab_type": "text",
    "id": "U_iCY300s7CK"
   },
   "source": [
    "### Ratings dataset should have books only which exist in our books dataset. Drop the remaining rows"
   ]
  },
  {
   "cell_type": "code",
   "execution_count": 52,
   "metadata": {},
   "outputs": [],
   "source": [
    "#ratings_new dataframe has ISBN which exists in both ratings and books dataframes\n",
    "\n",
    "ratings_new = ratings[ratings['ISBN'].isin(books['ISBN'])]"
   ]
  },
  {
   "cell_type": "code",
   "execution_count": 53,
   "metadata": {},
   "outputs": [
    {
     "data": {
      "text/html": [
       "<div>\n",
       "<style scoped>\n",
       "    .dataframe tbody tr th:only-of-type {\n",
       "        vertical-align: middle;\n",
       "    }\n",
       "\n",
       "    .dataframe tbody tr th {\n",
       "        vertical-align: top;\n",
       "    }\n",
       "\n",
       "    .dataframe thead th {\n",
       "        text-align: right;\n",
       "    }\n",
       "</style>\n",
       "<table border=\"1\" class=\"dataframe\">\n",
       "  <thead>\n",
       "    <tr style=\"text-align: right;\">\n",
       "      <th></th>\n",
       "      <th>userID</th>\n",
       "      <th>ISBN</th>\n",
       "      <th>bookRating</th>\n",
       "    </tr>\n",
       "  </thead>\n",
       "  <tbody>\n",
       "    <tr>\n",
       "      <th>0</th>\n",
       "      <td>276725</td>\n",
       "      <td>034545104X</td>\n",
       "      <td>0</td>\n",
       "    </tr>\n",
       "    <tr>\n",
       "      <th>1</th>\n",
       "      <td>276726</td>\n",
       "      <td>0155061224</td>\n",
       "      <td>5</td>\n",
       "    </tr>\n",
       "    <tr>\n",
       "      <th>2</th>\n",
       "      <td>276727</td>\n",
       "      <td>0446520802</td>\n",
       "      <td>0</td>\n",
       "    </tr>\n",
       "  </tbody>\n",
       "</table>\n",
       "</div>"
      ],
      "text/plain": [
       "   userID        ISBN  bookRating\n",
       "0  276725  034545104X           0\n",
       "1  276726  0155061224           5\n",
       "2  276727  0446520802           0"
      ]
     },
     "execution_count": 53,
     "metadata": {},
     "output_type": "execute_result"
    }
   ],
   "source": [
    "ratings_new.head(3)"
   ]
  },
  {
   "cell_type": "code",
   "execution_count": 54,
   "metadata": {},
   "outputs": [
    {
     "data": {
      "text/plain": [
       "(1031129, 3)"
      ]
     },
     "execution_count": 54,
     "metadata": {},
     "output_type": "execute_result"
    }
   ],
   "source": [
    "ratings_new.shape"
   ]
  },
  {
   "cell_type": "markdown",
   "metadata": {
    "colab_type": "text",
    "id": "3u05BWG5s7CO"
   },
   "source": [
    "### Ratings dataset should have ratings from users which exist in users dataset. Drop the remaining rows"
   ]
  },
  {
   "cell_type": "code",
   "execution_count": 55,
   "metadata": {
    "colab": {},
    "colab_type": "code",
    "id": "wRqd-5jus7CP"
   },
   "outputs": [],
   "source": [
    "#ratings_new dataframe has userID which exists in both ratings and users dataframe\n",
    "\n",
    "ratings_new = ratings_new[ratings_new['userID'].isin(users['userID'])]"
   ]
  },
  {
   "cell_type": "code",
   "execution_count": 56,
   "metadata": {},
   "outputs": [
    {
     "data": {
      "text/plain": [
       "(1031129, 3)"
      ]
     },
     "execution_count": 56,
     "metadata": {},
     "output_type": "execute_result"
    }
   ],
   "source": [
    "ratings_new.shape"
   ]
  },
  {
   "cell_type": "code",
   "execution_count": 57,
   "metadata": {},
   "outputs": [
    {
     "name": "stdout",
     "output_type": "stream",
     "text": [
      "(1149780, 3)\n",
      "(1031129, 3)\n"
     ]
    }
   ],
   "source": [
    "#compare shapes of ratings and ratings_new dataframes\n",
    "\n",
    "print(ratings.shape)\n",
    "print(ratings_new.shape)"
   ]
  },
  {
   "cell_type": "markdown",
   "metadata": {
    "colab_type": "text",
    "id": "RlRWGEzDs7CT"
   },
   "source": [
    "### Consider only ratings from 1-10 and leave 0s in column `bookRating`"
   ]
  },
  {
   "cell_type": "code",
   "execution_count": 58,
   "metadata": {},
   "outputs": [
    {
     "name": "stdout",
     "output_type": "stream",
     "text": [
      "[0, 1, 2, 3, 4, 5, 6, 7, 8, 9, 10]\n"
     ]
    }
   ],
   "source": [
    "print(sorted(ratings_new['bookRating'].unique()))"
   ]
  },
  {
   "cell_type": "code",
   "execution_count": 59,
   "metadata": {},
   "outputs": [],
   "source": [
    "#explicit ratings are represented by values 1–10 and implicit ratings represented by 0\n",
    "#considering only explicit ratings (1-10) and ignoring implicit ratings (0)\n",
    "ratings_explicit = ratings_new[ratings_new['bookRating'] != 0]\n",
    "ratings_implicit = ratings_new[ratings_new['bookRating'] == 0]"
   ]
  },
  {
   "cell_type": "code",
   "execution_count": 60,
   "metadata": {},
   "outputs": [
    {
     "name": "stdout",
     "output_type": "stream",
     "text": [
      "[1, 2, 3, 4, 5, 6, 7, 8, 9, 10]\n"
     ]
    }
   ],
   "source": [
    "print(sorted(ratings_explicit['bookRating'].unique()))"
   ]
  },
  {
   "cell_type": "code",
   "execution_count": 61,
   "metadata": {},
   "outputs": [
    {
     "data": {
      "text/html": [
       "<div>\n",
       "<style scoped>\n",
       "    .dataframe tbody tr th:only-of-type {\n",
       "        vertical-align: middle;\n",
       "    }\n",
       "\n",
       "    .dataframe tbody tr th {\n",
       "        vertical-align: top;\n",
       "    }\n",
       "\n",
       "    .dataframe thead th {\n",
       "        text-align: right;\n",
       "    }\n",
       "</style>\n",
       "<table border=\"1\" class=\"dataframe\">\n",
       "  <thead>\n",
       "    <tr style=\"text-align: right;\">\n",
       "      <th></th>\n",
       "      <th>userID</th>\n",
       "      <th>ISBN</th>\n",
       "      <th>bookRating</th>\n",
       "    </tr>\n",
       "  </thead>\n",
       "  <tbody>\n",
       "    <tr>\n",
       "      <th>1</th>\n",
       "      <td>276726</td>\n",
       "      <td>0155061224</td>\n",
       "      <td>5</td>\n",
       "    </tr>\n",
       "    <tr>\n",
       "      <th>3</th>\n",
       "      <td>276729</td>\n",
       "      <td>052165615X</td>\n",
       "      <td>3</td>\n",
       "    </tr>\n",
       "    <tr>\n",
       "      <th>4</th>\n",
       "      <td>276729</td>\n",
       "      <td>0521795028</td>\n",
       "      <td>6</td>\n",
       "    </tr>\n",
       "  </tbody>\n",
       "</table>\n",
       "</div>"
      ],
      "text/plain": [
       "   userID        ISBN  bookRating\n",
       "1  276726  0155061224           5\n",
       "3  276729  052165615X           3\n",
       "4  276729  0521795028           6"
      ]
     },
     "execution_count": 61,
     "metadata": {},
     "output_type": "execute_result"
    }
   ],
   "source": [
    "ratings_explicit.head(3)"
   ]
  },
  {
   "cell_type": "code",
   "execution_count": 62,
   "metadata": {},
   "outputs": [
    {
     "name": "stdout",
     "output_type": "stream",
     "text": [
      "(383838, 3)\n"
     ]
    }
   ],
   "source": [
    "print(ratings_explicit.shape)"
   ]
  },
  {
   "cell_type": "markdown",
   "metadata": {
    "colab_type": "text",
    "id": "Ys_Upl4ms7Cq"
   },
   "source": [
    "### Find out which rating has been given highest number of times"
   ]
  },
  {
   "cell_type": "code",
   "execution_count": 63,
   "metadata": {},
   "outputs": [
    {
     "name": "stdout",
     "output_type": "stream",
     "text": [
      "Rating which has been given highest number of times is  8\n",
      "Number of times the highest rating is given is  91803\n"
     ]
    }
   ],
   "source": [
    "print('Rating which has been given highest number of times is ', ratings_explicit['bookRating'].value_counts().idxmax())\n",
    "print('Number of times the highest rating is given is ',ratings_explicit['bookRating'].value_counts().max())"
   ]
  },
  {
   "cell_type": "code",
   "execution_count": 64,
   "metadata": {},
   "outputs": [
    {
     "data": {
      "image/png": "[encoded data removed]",
      "text/plain": [
       "<Figure size 432x288 with 1 Axes>"
      ]
     },
     "metadata": {
      "needs_background": "light"
     },
     "output_type": "display_data"
    }
   ],
   "source": [
    "ratings_explicit.groupby('bookRating', as_index=False).count().plot(x='bookRating',y='userID', kind = 'bar')\n",
    "plt.show()"
   ]
  },
  {
   "cell_type": "code",
   "execution_count": 65,
   "metadata": {},
   "outputs": [
    {
     "name": "stdout",
     "output_type": "stream",
     "text": [
      "\n",
      "The bar plot shows that maximum number of users have given rating of 8 and least no of users have given rating of 1\n",
      "\n"
     ]
    }
   ],
   "source": [
    "print('\\nThe bar plot shows that maximum number of users have given rating of 8 and \\\n",
    "least no of users have given rating of 1\\n')"
   ]
  },
  {
   "cell_type": "markdown",
   "metadata": {
    "colab_type": "text",
    "id": "Osh4VMj1s7Cy"
   },
   "source": [
    "### **Collaborative Filtering Based Recommendation Systems**"
   ]
  },
  {
   "cell_type": "markdown",
   "metadata": {
    "colab_type": "text",
    "id": "TaS5-42Js7Cz"
   },
   "source": [
    "### For more accurate results only consider users who have rated atleast 100 books"
   ]
  },
  {
   "cell_type": "code",
   "execution_count": 66,
   "metadata": {},
   "outputs": [
    {
     "data": {
      "text/plain": [
       "11676     6943\n",
       "98391     5689\n",
       "189835    1899\n",
       "Name: userID, dtype: int64"
      ]
     },
     "execution_count": 66,
     "metadata": {},
     "output_type": "execute_result"
    }
   ],
   "source": [
    "counts = (ratings_explicit['userID'].value_counts())\n",
    "counts.head(3)"
   ]
  },
  {
   "cell_type": "code",
   "execution_count": 67,
   "metadata": {},
   "outputs": [],
   "source": [
    "ratings_explicit = ratings_explicit[ratings_explicit['userID'].isin(counts[counts >= 100].index)]"
   ]
  },
  {
   "cell_type": "code",
   "execution_count": 68,
   "metadata": {},
   "outputs": [
    {
     "data": {
      "text/plain": [
       "100"
      ]
     },
     "execution_count": 68,
     "metadata": {},
     "output_type": "execute_result"
    }
   ],
   "source": [
    "ratings_explicit['userID'].value_counts().min()"
   ]
  },
  {
   "cell_type": "code",
   "execution_count": 69,
   "metadata": {},
   "outputs": [
    {
     "data": {
      "text/html": [
       "<div>\n",
       "<style scoped>\n",
       "    .dataframe tbody tr th:only-of-type {\n",
       "        vertical-align: middle;\n",
       "    }\n",
       "\n",
       "    .dataframe tbody tr th {\n",
       "        vertical-align: top;\n",
       "    }\n",
       "\n",
       "    .dataframe thead th {\n",
       "        text-align: right;\n",
       "    }\n",
       "</style>\n",
       "<table border=\"1\" class=\"dataframe\">\n",
       "  <thead>\n",
       "    <tr style=\"text-align: right;\">\n",
       "      <th></th>\n",
       "      <th>userID</th>\n",
       "      <th>ISBN</th>\n",
       "      <th>bookRating</th>\n",
       "    </tr>\n",
       "  </thead>\n",
       "  <tbody>\n",
       "    <tr>\n",
       "      <th>1456</th>\n",
       "      <td>277427</td>\n",
       "      <td>002542730X</td>\n",
       "      <td>10</td>\n",
       "    </tr>\n",
       "    <tr>\n",
       "      <th>1458</th>\n",
       "      <td>277427</td>\n",
       "      <td>003008685X</td>\n",
       "      <td>8</td>\n",
       "    </tr>\n",
       "    <tr>\n",
       "      <th>1461</th>\n",
       "      <td>277427</td>\n",
       "      <td>0060006641</td>\n",
       "      <td>10</td>\n",
       "    </tr>\n",
       "  </tbody>\n",
       "</table>\n",
       "</div>"
      ],
      "text/plain": [
       "      userID        ISBN  bookRating\n",
       "1456  277427  002542730X          10\n",
       "1458  277427  003008685X           8\n",
       "1461  277427  0060006641          10"
      ]
     },
     "execution_count": 69,
     "metadata": {},
     "output_type": "execute_result"
    }
   ],
   "source": [
    "ratings_explicit.head(3)"
   ]
  },
  {
   "cell_type": "code",
   "execution_count": 70,
   "metadata": {},
   "outputs": [
    {
     "data": {
      "text/plain": [
       "(103269, 3)"
      ]
     },
     "execution_count": 70,
     "metadata": {},
     "output_type": "execute_result"
    }
   ],
   "source": [
    "ratings_explicit.shape"
   ]
  },
  {
   "cell_type": "code",
   "execution_count": 71,
   "metadata": {},
   "outputs": [
    {
     "name": "stdout",
     "output_type": "stream",
     "text": [
      "\n",
      " 103269 users have rated atleast 100 books\n",
      "\n"
     ]
    }
   ],
   "source": [
    "print('\\n',ratings_explicit.shape[0],'users have rated atleast 100 books\\n')"
   ]
  },
  {
   "cell_type": "markdown",
   "metadata": {},
   "source": [
    "### Transform data to surprise format"
   ]
  },
  {
   "cell_type": "code",
   "execution_count": 72,
   "metadata": {},
   "outputs": [],
   "source": [
    "from surprise import Dataset,Reader\n",
    "from surprise.model_selection import cross_validate, train_test_split\n",
    "from surprise import NormalPredictor\n",
    "\n",
    "#Read the explicit rating scale and load the Dataset\n",
    "reader = Reader(rating_scale=(1, 10))\n",
    "data = Dataset.load_from_df(ratings_explicit, reader)"
   ]
  },
  {
   "cell_type": "code",
   "execution_count": 73,
   "metadata": {},
   "outputs": [
    {
     "name": "stdout",
     "output_type": "stream",
     "text": [
      "Evaluating RMSE, MAE of algorithm NormalPredictor on 5 split(s).\n",
      "\n",
      "                  Fold 1  Fold 2  Fold 3  Fold 4  Fold 5  Mean    Std     \n",
      "RMSE (testset)    2.4515  2.4462  2.4525  2.4392  2.4599  2.4499  0.0069  \n",
      "MAE (testset)     1.9510  1.9505  1.9600  1.9426  1.9638  1.9536  0.0075  \n",
      "Fit time          0.12    0.14    0.14    0.16    0.17    0.14    0.02    \n",
      "Test time         0.14    0.14    0.15    0.19    0.13    0.15    0.02    \n"
     ]
    },
    {
     "data": {
      "text/plain": [
       "{'test_rmse': array([2.4514936 , 2.44624642, 2.45249933, 2.43916483, 2.45988773]),\n",
       " 'test_mae': array([1.95095652, 1.95052556, 1.96002607, 1.94255121, 1.9638047 ]),\n",
       " 'fit_time': (0.12167477607727051,\n",
       "  0.13962650299072266,\n",
       "  0.13965845108032227,\n",
       "  0.15658140182495117,\n",
       "  0.16555571556091309),\n",
       " 'test_time': (0.14062237739562988,\n",
       "  0.13862967491149902,\n",
       "  0.1495676040649414,\n",
       "  0.18749785423278809,\n",
       "  0.13367509841918945)}"
      ]
     },
     "execution_count": 73,
     "metadata": {},
     "output_type": "execute_result"
    }
   ],
   "source": [
    "#Evaluating RMSE, MAE of Normal Predictor algorithm on 5 split(s)\n",
    "\n",
    "cross_validate(NormalPredictor(), data, measures=['RMSE', 'MAE'], cv=5, verbose=True)"
   ]
  },
  {
   "cell_type": "markdown",
   "metadata": {},
   "source": [
    "### Points to Note:\n",
    "1) Trainset is no longer a pandas dataframe. Rather, it's a specific datatypes defined by the Surprise library\n",
    "\n",
    "\n",
    "2) UserID and ISBN in the pandas dataframe can contain any value (either string/integer etc). However, Trainset convert these raw ids into numeric indexes called as \"inner id\"\n",
    "\n",
    "\n",
    "3) Methods are provided to convert rw id to inner id and vice verca"
   ]
  },
  {
   "cell_type": "markdown",
   "metadata": {},
   "source": [
    "### SVD Based Recommendation System"
   ]
  },
  {
   "cell_type": "markdown",
   "metadata": {},
   "source": [
    "### Split the above data into trainset and testset"
   ]
  },
  {
   "cell_type": "code",
   "execution_count": 74,
   "metadata": {},
   "outputs": [],
   "source": [
    "trainset, testset = train_test_split(data, test_size=0.30)"
   ]
  },
  {
   "cell_type": "markdown",
   "metadata": {},
   "source": [
    "### Explore trainset and testset"
   ]
  },
  {
   "cell_type": "code",
   "execution_count": 75,
   "metadata": {},
   "outputs": [
    {
     "name": "stdout",
     "output_type": "stream",
     "text": [
      "50288 449 72288\n"
     ]
    }
   ],
   "source": [
    "print(trainset.n_items, trainset.n_users, trainset.n_ratings)"
   ]
  },
  {
   "cell_type": "code",
   "execution_count": 76,
   "metadata": {},
   "outputs": [
    {
     "name": "stdout",
     "output_type": "stream",
     "text": [
      "(1, 10) 7.833070495794599\n"
     ]
    }
   ],
   "source": [
    "print(trainset.rating_scale, trainset.global_mean)"
   ]
  },
  {
   "cell_type": "code",
   "execution_count": 77,
   "metadata": {},
   "outputs": [
    {
     "name": "stdout",
     "output_type": "stream",
     "text": [
      "30981\n"
     ]
    }
   ],
   "source": [
    "print(len(testset))"
   ]
  },
  {
   "cell_type": "code",
   "execution_count": 78,
   "metadata": {},
   "outputs": [
    {
     "data": {
      "text/plain": [
       "[(94347, '0064409422', 9.0),\n",
       " (56399, '0671201581', 10.0),\n",
       " (177458, '0671009249', 3.0),\n",
       " (16795, '0671708635', 7.0),\n",
       " (114368, '0671728598', 5.0)]"
      ]
     },
     "execution_count": 78,
     "metadata": {},
     "output_type": "execute_result"
    }
   ],
   "source": [
    "testset[0:5]"
   ]
  },
  {
   "cell_type": "markdown",
   "metadata": {},
   "source": [
    "### Import SVD from Surprise and fit on trainset"
   ]
  },
  {
   "cell_type": "code",
   "execution_count": 79,
   "metadata": {},
   "outputs": [],
   "source": [
    "from surprise import SVD\n",
    "from surprise import accuracy"
   ]
  },
  {
   "cell_type": "code",
   "execution_count": 80,
   "metadata": {},
   "outputs": [
    {
     "data": {
      "text/plain": [
       "<surprise.prediction_algorithms.matrix_factorization.SVD at 0x2750319fe80>"
      ]
     },
     "execution_count": 80,
     "metadata": {},
     "output_type": "execute_result"
    }
   ],
   "source": [
    "svd_clf = SVD()\n",
    "svd_clf.fit(trainset)"
   ]
  },
  {
   "cell_type": "markdown",
   "metadata": {},
   "source": [
    "### Predict ratings for testset and check RMSE"
   ]
  },
  {
   "cell_type": "code",
   "execution_count": 81,
   "metadata": {},
   "outputs": [],
   "source": [
    "predictions = svd_clf.test(testset)"
   ]
  },
  {
   "cell_type": "code",
   "execution_count": 82,
   "metadata": {},
   "outputs": [
    {
     "data": {
      "text/plain": [
       "[Prediction(uid=94347, iid='0064409422', r_ui=9.0, est=7.0456421192260335, details={'was_impossible': False}),\n",
       " Prediction(uid=56399, iid='0671201581', r_ui=10.0, est=9.549672290741016, details={'was_impossible': False}),\n",
       " Prediction(uid=177458, iid='0671009249', r_ui=3.0, est=7.286684079718641, details={'was_impossible': False}),\n",
       " Prediction(uid=16795, iid='0671708635', r_ui=7.0, est=6.358196448483794, details={'was_impossible': False}),\n",
       " Prediction(uid=114368, iid='0671728598', r_ui=5.0, est=6.17569249081573, details={'was_impossible': False})]"
      ]
     },
     "execution_count": 82,
     "metadata": {},
     "output_type": "execute_result"
    }
   ],
   "source": [
    "predictions[0:5]"
   ]
  },
  {
   "cell_type": "code",
   "execution_count": 83,
   "metadata": {},
   "outputs": [
    {
     "name": "stdout",
     "output_type": "stream",
     "text": [
      "RMSE: 1.5047\n"
     ]
    },
    {
     "data": {
      "text/plain": [
       "1.5047467698768564"
      ]
     },
     "execution_count": 83,
     "metadata": {},
     "output_type": "execute_result"
    }
   ],
   "source": [
    "accuracy.rmse(predictions)"
   ]
  },
  {
   "cell_type": "markdown",
   "metadata": {},
   "source": [
    "### Generating top n recommendations for a user"
   ]
  },
  {
   "cell_type": "code",
   "execution_count": 84,
   "metadata": {},
   "outputs": [],
   "source": [
    "from collections import defaultdict\n",
    "\n",
    "def get_top_n(predictions, n=10):\n",
    "    '''Return the top-N recommendation for each user from a set of predictions.\n",
    "\n",
    "    Args:\n",
    "        predictions(list of Prediction objects): The list of predictions, as\n",
    "            returned by the test method of an algorithm.\n",
    "        n(int): The number of recommendation to output for each user. Default\n",
    "            is 10.\n",
    "\n",
    "    Returns:\n",
    "    A dict where keys are user (raw) ids and values are lists of tuples:\n",
    "        [(raw item id, rating estimation), ...] of size n.\n",
    "    '''\n",
    "\n",
    "    # First map the predictions to each user.\n",
    "    top_n = defaultdict(list)\n",
    "    for uid, iid, true_r, est, _ in predictions:\n",
    "        top_n[uid].append((iid, est))\n",
    "\n",
    "    # Then sort the predictions for each user and retrieve the k highest ones.\n",
    "    for uid, user_ratings in top_n.items():\n",
    "        user_ratings.sort(key=lambda x: x[1], reverse=True)\n",
    "        top_n[uid] = user_ratings[:n]\n",
    "\n",
    "    return top_n\n"
   ]
  },
  {
   "cell_type": "code",
   "execution_count": 85,
   "metadata": {},
   "outputs": [],
   "source": [
    "#call top_n function for 10 recommendations for the users.\n",
    "\n",
    "top_n = get_top_n(predictions, n=10)"
   ]
  },
  {
   "cell_type": "code",
   "execution_count": 86,
   "metadata": {},
   "outputs": [
    {
     "name": "stdout",
     "output_type": "stream",
     "text": [
      "94347 ['0060392452', '0140186484', '0671727796', '0380729407', '067976657X', '0671636782', '0802130208', '0671496786', '0811212777', '0140049479']\n",
      "56399 ['044050306X', '087923573X', '0399501487', '0451200829', '014044615X', '0451204530', '0575400048', '0853602115', '0553258478', '187143890X']\n",
      "177458 ['0312971346', '0064400557', '0875421857', '0836218353', '0380708213', '0345307674', '0836218787', '1555837336', '0451180232', '0671774832']\n",
      "16795 ['0440222656', '0151008116', '0345339703', '0802131786', '0553574086', '0811831620', '0525947299', '0553250426', '0060192704', '0515102636']\n",
      "114368 ['0373484003', '0440404193', '0373835922', '0373835760', '0312979681', '0425183181', '0515114006', '0373835396', '0385505833', '0553576003']\n",
      "235105 ['043935806X', '0440998050', '0892967714', '0440180295', '0515133876', '0449212602', '0345453433', '059043389X', '0345452534', '0399148639']\n",
      "262998 ['0345404475', '0060925752', '0930289595', '0451191145', '0600571025', '0140274162', '0882669133', '0192833626', '0887308813', '0006547834']\n",
      "11676 ['0836220730', '0446356611', '0451132378', '067102535X', '0786863900', '0849932017', '0452278902', '0373076819', '0375726403', '0307010368']\n",
      "217740 ['9505156022', '0312979479', '0385315090', '0425173755', '0671004573', '0671662414', '0671729411', '0451163966', '8401010918', '0060557257']\n",
      "105028 ['059035342X', '0439064872', '0836251822', '0061054895', '0451180232', '0671004107', '0061057649', '0451172817', '0836221311', '0671690590']\n",
      "98391 ['0385504209', '0743216490', '0821769359', '1551667444', '0345463927', '0373711484', '0312288476', '0312282702', '0451458508', '0452284775']\n",
      "79441 ['0060392452', '0836218256', '0553580302', '0836220498', '0441359175', '0030149010', '0684836491', '0871131706', '0425064352', '0553565079']\n",
      "102359 ['067974388X', '0805000607', '0394800028', '0670451932', '0671695142', '0671695126', '0394831292', '0385188188', '0312950853', '0963176625']\n",
      "23902 ['0670879371', '044021145X', '0684803356', '014027927X', '0345424719', '0312950586', '0312924585', '044023722X', '0156001314', '0679723161']\n",
      "183995 ['1558532765', '0967231434', '0345334930', '0679754911', '0399145702', '0385484518', '0425098478', '0553483102', '0345335457', '0679737774']\n",
      "165319 ['0812550706', '0345318854', '0440998050', '1563898586', '0060938455', '0156027321', '0836220730', '0380789019', '0671726889', '0345303067']\n",
      "55490 ['0836213122', '0452278120', '0679446486', '0425105466', '0553801376', '0836218051', '0451162072', '0316690619', '0886774012', '0451163524']\n",
      "2033 ['043935806X', '0590353403', '0765342987', '0142000663', '0060256737', '0060256664', '0671524313', '0886774012', '0812523040', '0882710583']\n",
      "129716 ['0679735666', '0060254920', '0061020680', '067084487X', '0440204399', '0393310752', '0062502182', '0451525663', '0452266564', '037582233X']\n",
      "73681 ['0439064864', '0439139600', '068483068X', '0380718332', '0671880187', '0151004145', '0156027321', '0060924985', '0060936231', '0486406482']\n",
      "60707 ['0590353403', '0553291955', '0020427859', '0553287532', '0671683993', '0826308791', '0440407028', '0312991460', '0060159383', '0553582097']\n",
      "171118 ['1558531025', '0394537793', '0553801945', '0060807792', '0836218256', '0345423429', '0446310786', '0553573993', '0886776988', '0836204255']\n",
      "70594 ['0525947299', '0805073205', '0380816547', '0525947914', '0892967676', '0312874537', '0893753564', '0380765462', '0312969252', '1550376411']\n",
      "185233 ['0452279178', '0312924585', '0836218353', '0307119416', '0307010856', '0394871804', '0670272663', '0448190788', '0385182449', '0451169530']\n",
      "114868 ['0060915544', '0385336179', '0448095041', '0448095106', '0452269652', '0448095300', '0192842188', '044809519X', '1840460741', '0465028489']\n",
      "135265 ['0373244711', '0373765037', '055357213X', '0380767643', '0373613636', '0440241065', '0345384466', '0440241049', '0515132764', '0373196636']\n",
      "112001 ['0440211727', '0451167538', '0553263226', '0515133973', '0446611085', '0451169530', '0553290789', '0553289519', '0679429220', '0688170528']\n",
      "153662 ['0515136530', '0439136369', '0425171078', '0671041789', '0553569910', '0553290789', '0515133973', '0671010085', '0380769530', '037540421X']\n",
      "146348 ['0671244221', '0671687425', '0553279912', '0380973545', '0898798736', '0375502025', '1580080219', '0064441873', '0935701249', '037540807X']\n",
      "136139 ['0425081818', '0140086838', '0375727132', '0553349481', '0553801198', '0060198125', '0380731851', '0060192801', '0553107755', '0312277032']\n",
      "249894 ['0345368932', '0812550706', '0887307876', '0671720147', '0836221362', '0312995229', '0451458877', '0380813815', '0920668372', '0740718576']\n",
      "30810 ['3257229364', '344244327X', '3630871402', '067972463X', '3442728975', '3442720095', '3379001252', '3442724619', '3453196155', '3492036376']\n",
      "132492 ['0152050167', '3404123689', '3762604819', '378911989X', '3596130743', '3522119401', '3492234747', '3257231180', '3770115902', '3405164915']\n",
      "97874 ['0875420281', '0060938455', '0671868691', '0525947655', '0060194332', '0743439740', '0809122774', '1582432252', '159052201X', '0609800140']\n",
      "136382 ['1573227374', '0451203925', '0452266564', '074343627X', '0671024108', '0060930535', '0671522922', '0525943013', '0886774500', '0671034057']\n",
      "223501 ['0618002227', '0786868619', '0316666343', '0060514957', '0553583468', '0385510438', '0553099604', '0316155306', '039914496X', '0385508719']\n",
      "51883 ['0060175656', '0696000121', '0451127927', '0517150514', '0425077047', '0451072804', '0373711360', '0786014059', '0812568710', '0451164938']\n",
      "30735 ['0439064872', '043935806X', '0064405478', '0064408582', '0679426159', '006440546X', '0140390464', '0883657635', '0445043016', '0070212570']\n",
      "189835 ['0345339738', '0312195516', '0590353403', '0380002930', '0060959037', '0440498058', '0399134204', '0684853515', '0553268880', '0451163524']\n",
      "127359 ['0449005615', '0440235596', '030700645X', '0142001430', '0553250426', '0425137562', '0060085452', '0441003257', '0064400581', '0140277439']\n",
      "258534 ['0312971346', '0440439884', '0451188454', '0425147622', '0449221504', '0671001795', '0312924585', '0380718332', '0553271636', '0451190556']\n",
      "201290 ['958704049X', '0425125467', '0345417623', '0060951311', '0140390839', '0684813130', '2264011092', '0789483505', '0679642846', '0151685509']\n",
      "162639 ['1573229725', '0312983867', '0064440508', '0785243038', '0440114764', '0312010583', '0553211285', '0375703764', '0440211727', '0425180638']\n",
      "277427 ['0385504209', '0811802981', '0446608890', '0375751513', '0060542128', '0767903382', '0440236738', '0812531353', '0425104338', '0446600415']\n",
      "219546 ['0399501487', '0590453866', '0671722751', '0671690582', '0307117235', '0842329218', '014028009X', '0307118479', '0671874535', '059040847X']\n",
      "173415 ['0156528207', '059035342X', '0440498058', '0688155308', '0312966970', '0312282990', '0679766588', '042518000X', '0394726413', '0679416803']\n",
      "56447 ['0679721037', '0671496107', '0553573985', '0764227173', '0842329242', '0060958022', '0670887315', '0689817851', '0345339495', '1896860982']\n",
      "30711 ['0440498058', '0553212478', '0310247276', '0448060191', '0740718371', '0064409422', '0345391802', '015600710X', '034528349X', '0765341174']\n",
      "76223 ['0345339681', '0441172717', '0345350499', '0812550285', '0670880728', '0812513711', '0451167805', '0786913797', '0786914246', '0786913657']\n",
      "227447 ['034543448X', '0836218515', '0843949945', '0020199600', '0671736868', '0671745107', '1558748008', '0380782340', '0446608092', '0786014873']\n",
      "49144 ['8433920383', '8433912712', '8474861306', '842720163X', '8433920588', '843392057X', '8433923129', '8440676980', '847486108X', '8433920065']\n",
      "258185 ['0553575023', '0312983301', '0451404327', '0380776162', '074341795X', '0425183750', '0553563327', '055356451X', '0553582224', '084395048X']\n",
      "234828 ['0451160525', '038079487X', '0441172717', '0553288733', '044021145X', '0380710218', '0425150143', '0425131769', '156076340X', '0425137562']\n",
      "184299 ['0446310786', '0670868361', '0451166582', '0966067657', '0743417682', '0380708213', '067103264X', '0671042858', '0441003257', '0060193395']\n",
      "143253 ['0060256656', '0316666343', '0895656825', '0671736841', '0671454048', '0451175433', '0590403605', '0385317093', '030711659X', '0307917576']\n",
      "23872 ['0684853523', '0877799156', '0439139597', '1563893339', '0764500481', '0380732661', '0743235150', '0345391802', '068484477X', '0451190572']\n",
      "88693 ['038548951X', '0812550757', '067976402X', '1400031354', '0425168131', '037541309X', '0060391626', '0140431357', '0679457143', '0394800206']\n",
      "133747 ['014100018X', '0684717603', '0804108749', '0805063889', '0141001771', '1573226521', '0140179836', '0871136791', '0375706410', '0671496107']\n",
      "247429 ['0345339681', '0553213164', '0679440585', '0140430725', '0764502611', '0684859300', '0824910486', '0671459341', '0871236583', '0440152305']\n",
      "145449 ['043935806X', '0316284955', '0517577550', '0316107352', '0385474016', '0312265867', '0765304368', '1563522284', '0446603422', '0140150749']\n",
      "95359 ['0440219078', '0812510488', '014011369X', '0385729340', '043935806X', '006440546X', '0441010512', '0060934417', '0671726714', '0140440046']\n",
      "52917 ['0449212602', '0671867873', '0836218817', '0140258795', '034543448X', '0836218620', '0449003787', '0345418824', '0449219461', '0743219600']\n",
      "87141 ['0836218221', '0842329242', '0385421982', '0399148450', '0449911012', '0312924585', '0452267587', '0446516570', '0836218817', '0842329129']\n",
      "123883 ['0515102636', '0380400480', '0380776839', '0380799375', '0440439884', '0446608955', '0671722859', '0380820854', '0553575023', '0380470845']\n",
      "52584 ['0345444884', '0451161343', '0375756981', '0316782475', '0898159954', '0345440137', '0140259112', '0743418174', '002542730X', '0345370805']\n",
      "135149 ['0439136369', '0446364622', '0446611859', '0380703882', '0375760911', '014023828X', '0425124819', '1573221112', '0425116417', '0684867621']\n",
      "225087 ['0060915544', '0515131229', '0446351709', '044651862X', '0671743813', '0307231291', '0670851086', '0449225151', '0399149155', '0515136379']\n",
      "33145 ['2290047414', '2226135022', '2253008486', '2266084372', '2857046790', '2070382753', '222613459X', '2277229938', '2253014931', '2841111210']\n",
      "181176 ['059035342X', '068416325X', '0849956242', '0380978415', '0740713906', '0671244221', '0553213105', '0140374248', '067102731X', '0812542835']\n",
      "222204 ['0553573926', '0316153990', '0812520157', '0671836897', '0812532880', '0345284984', '0517006456', '0812553292', '044169912X', '0441569412']\n",
      "94242 ['0380789019', '2070364232', '0060245603', '0385315236', '0439404371', '0786865199', '0316126446', '9806053443', '9505111096', '9561308924']\n",
      "149907 ['055321263X', '0449904652', '0877733759', '0393307069', '0393313166', '038072975X', '0553347756', '0394700090', '1573920630', '1879941201']\n",
      "76499 ['0802138004', '0140441204', '0385260458', '014034294X', '068486861X', '0140266771', '9500700891', '0679601546', '034536676X', '0440414806']\n",
      "69697 ['0439139597', '0671027581', '0425173631', '0373483899', '0671521500', '0553574108', '0425183971', '0425150984', '155166948X', '0373258526']\n",
      "254899 ['0553254251', '0553234463', '0061020648', '0425103536', '1572700378', '0451453573', '0380521679', '0441004873', '042506784X', '0679785892']\n",
      "46398 ['0316666343', '0345370775', '043936213X', '0441003257', '0399135782', '0440111498', '0393300234', '0451191153', '0451191145', '156619024X']\n",
      "180651 ['0812550706', '0684841185', '0446610038', '0375703861', '0671028383', '068484267X', '0425175405', '0393315703', '0330352253', '0380715430']\n",
      "88733 ['0439136369', '0064400557', '0517693119', '059035342X', '0064400565', '0156528207', '044021145X', '0020442009', '156402976X', '0618002243']\n",
      "190925 ['0425107469', '0312195516', '0743418204', '0553576798', '0446610038', '0515131091', '0345453425', '0609607375', '155166545X', '0440235480']\n",
      "2276 ['0671729446', '0812517725', '0380002930', '0345315642', '0446349461', '0451456734', '0553574582', '0812575962', '0061030643', '0515130125']\n",
      "69389 ['0452278902', '0440403278', '0399145079', '0553213148', '0517588684', '0060192704', '0312966091', '0679880909', '0553213164', '0517595753']\n",
      "240403 ['0877017883', '0064407667', '0452284775', '0064408647', '0064408639', '0786806540', '0446525731', '0670031046', '0064400859', '0811811409']\n",
      "134434 ['0312282990', '0140042598', '0312924585', '0393321983', '0156027321', '8420633135', '0385720920', '0802130305', '2070419878', '044023722X']\n",
      "193458 ['0064471101', '0316569321', '0553582755', '031209261X', '0425172996', '0316781010', '0446611808', '0385474016', '0929387503', '0064471055']\n",
      "217318 ['0446606189', '0446607657', '0671868713', '0671028367', '0553258478', '0446606324', '0553578022', '0671024094', '0446602620', '034532532X']\n",
      "63956 ['0345339681', '0836218981', '0679741151', '0345384563', '089879854X', '0140067477', '0743225406', '0451523415', '0385418493', '0849913357']\n",
      "83671 ['0553293362', '0441001971', '0440215625', '0345404475', '0553573403', '0345422406', '0440217563', '006447108X', '0312981600', '0441104029']\n",
      "25601 ['0446602612', '0671242954', '0679726489', '0679419462', '1588340023', '0965248127', '0832903507', '0395670292', '0452269687', '1557830983']\n",
      "102967 ['0671758896', '059003426X', '044021145X', '055327094X', '0385484518', '0440201330', '0451139739', '0445046619', '0440418321', '0451133129']\n",
      "115003 ['0394414055', '0312185863', '0449207757', '0060977264', '0156439611', '038548951X', '038082101X', '0446675059', '0060175966', '0156027321']\n",
      "43246 ['0312966970', '0671001795', '0312980140', '0446608890', '0316096199', '0316603570', '0375412824', '0451151259', '0060959037', '0064405052']\n",
      "15408 ['0451526341', '0743427084', '0316777722', '0440216540', '0312113420', '0394747232', '0684846004', '0670873926', '0316779490', '0062500589']\n",
      "60244 ['0553274295', '0671001795', '0394820371', '0440998050', '0142002267', '0345391802', '0156012197', '0451524934', '0312966091', '0385335210']\n",
      "136348 ['0446602612', '0451203070', '0345416260', '037582233X', '1400031346', '1575667215', '0399151478', '0553801406', '0553571656', '0380809362']\n",
      "168245 ['055329315X', '0671034022', '0380756293', '0671705091', '0380752948', '0385335989', '0553289322', '0743467426', '0440222656', '0553802712']\n",
      "210485 ['0316666343', '1592400876', '0345438329', '0345313097', '0812522397', '0385509456', '0671527215', '0375706771', '0252006860', '0380975068']\n",
      "172742 ['0312983867', '0679728899', '044022392X', '0060911271', '0679740244', '0345345053', '0393307050', '0140179836', '0898156122', '0440472431']\n",
      "172030 ['0380709562', '0451167317', '1551664372', '0821768379', '0425144569', '1558174354', '0843941502', '0812513207', '0373241887', '0505525151']\n",
      "91113 ['0440221471', '0812515501', '0060090383', '1931561648', '0441009239', '0440215625', '0446675059', '0441304834', '0312984820', '0316096199']\n",
      "160295 ['0553351397', '0060981180', '0895940515', '0380789035', '1570624097', '0743219414', '0743243153', '0064461831', '0882405330', '1556433468']\n",
      "6543 ['0312980140', '0380813815', '0553575279', '0312306326', '0312966679', '0066212901', '0446610038', '0553801945', '038548951X', '0385721420']\n",
      "16634 ['0515102636', '1578591201', '0140481389', '0140071083', '0671882368', '0312980167', '0020442203', '0425140040', '0679410325', '0449205193']\n",
      "25409 ['0142002267', '0060084405', '0767913000', '0452283027', '0385720920', '157322930X', '1400031346', '1575667274', '078688861X', '0440236738']\n",
      "96448 ['055321313X', '0307020738', '0440945151', '006447268X', '0515087947', '0440407028', '0590010891', '0020442203', '0689817215', '0590263013']\n",
      "8681 ['0142001740', '0385491026', '0060248025', '0517693119', '1573220825', '0198117477', '0395869463', '0451456521', '0425177424', '0399151850']\n",
      "274301 ['068484267X', '0425163407', '0553271636', '0618126988', '0380718332', '0140258612', '0425169863', '0855616539', '0451190556', '0449221490']\n",
      "208671 ['1558746099', '0684815451', '1558747060', '0836220730', '0842329293', '0449221490', '0060256664', '1558744592', '1558745157', '0553284789']\n",
      "101851 ['0786915528', '0590353403', '0553374117', '069600805X', '038529929X', '0394758285', '1560761555', '0836218426', '0836218051', '0517703351']\n",
      "248718 ['0380973464', '0553282778', '0671877445', '0553562797', '0425109720', '0886775299', '0140275363', '0553562614', '038079828X', '0553566040']\n",
      "56271 ['0099274531', '0903505460', '0590112899', '0552136816', '0747531544', '0140350179', '0752816306', '1853262412', '0349109699', '0552142131']\n",
      "88677 ['037327081X', '0505524279', '0373291582', '0380756234', '0373710216', '1551666960', '155166674X', '0380752948', '0373087411', '0553576003']\n",
      "177432 ['0345342968', '0316769487', '0446357421', '0345347536', '0345313860', '0449223833', '0156027607', '0451190564', '0425109720', '0385288581']\n",
      "250405 ['1592400876', '0517577291', '0312925581', '0783549377', '0876057628', '1841721824', '0020303750', '0399140824', '1899712194', '1586636111']\n",
      "8245 ['0439064872', '039592720X', '051511779X', '0515131229', '0761119396', '0440122090', '0887307876', '0064404773', '0671708635', '0449006344']\n",
      "122793 ['0312195516', '0515120898', '068484477X', '1551666839', '015600710X', '0061040347', '0520204956', '0446601241', '0425129942', '0786011998']\n",
      "83637 ['0345366239', '0060950781', '0451206835', '0679770151', '0425179184', '034541215X', '0380799502', '0553801279', '0553577352', '014015843X']\n",
      "189334 ['0316569321', '0688063470', '0345298985', '0671228684', '044651506X', '0394534433', '0836221834', '0446691879', '0679447156', '0887306942']\n",
      "239594 ['0446310786', '0449212602', '0679768203', '0425163407', '0452260116', '0553280147', '0553287346', '0440180295', '0743219554', '0440236703']\n",
      "156269 ['0140143505', '0439064872', '0449221504', '0060175818', '0553280368', '0440208459', '0451201558', '0688141846', '0061000043', '051737997X']\n",
      "129074 ['0439136369', '0446310786', '0439064872', '0679731725', '0440139244', '0449212246', '0345367693', '0553238221', '0553239317', '0515087947']\n",
      "85526 ['0807282316', '0330352695', '0395071224', '0898796717', '0140272011', '0140039589', '019282760X', '0066238501', '076790396X', '0451527097']\n",
      "164096 ['0894808249', '0140449124', '0711919518', '002542730X', '0330332775', '089434126X', '0192839306', '9727081479', '0717100790', '8420618519']\n",
      "100906 ['0440431808', '0439064864', '055321313X', '0679723420', '0553213164', '0439139600', '0380973464', '0375713344', '0451523369', '080411109X']\n",
      "264525 ['0375757392', '043935806X', '0439313899', '080410526X', '0375411550', '0446529788', '0060191988', '0440228875', '1562477668', '0804108803']\n",
      "251844 ['0446676098', '0440212561', '0451166892', '0440235596', '0452282152', '0451171357', '0316777722', '0064405842', '0898157803', '0765342510']\n",
      "148744 ['0316666343', '0449217493', '0553574639', '014025448X', '0836220854', '0679419608', '0440400104', '1558746226', '0399146008', '1558747028']\n",
      "224764 ['1931561648', '0451190572', '1551669633', '0393050939', '0451093380', '0440236169', '0786016418', '0778320138', '0345452577', '0553208845']\n",
      "72352 ['0451406974', '0446364703', '0843948264', '0373122403', '037305937X', '0451403061', '0843948051', '0312968833', '0373501692', '0843947233']\n",
      "78973 ['0345413903', '0743418204', '0553273914', '0380718340', '0439139600', '0552998486', '0340767960', '0836221362', '0061007226', '034544227X']\n",
      "158295 ['0312990456', '0425107469', '0312971346', '0385187866', '0452279178', '0688156126', '0449215024', '0449003795', '0786000899', '0553564528']\n",
      "180378 ['0553089285', '0553258559', '0345307674', '0345368991', '0767903595', '0553258540', '013942590X', '0806958197', '0671458574', '0345315324']\n",
      "102647 ['055327094X', '0425107469', '0765342405', '0671793489', '0671042858', '055357230X', '0515109509', '0515087122', '0440211727', '0061090808']\n",
      "225763 ['0399501487', '0312966970', '0061099368', '0380005239', '0062502174', '0156007479', '0375726403', '0446377651', '0395977894', '014028009X']\n",
      "196502 ['0345348036', '0312291639', '0060830956', '0679761837', '0786869216', '0452283507', '0553565265', '0671527126', '0394724828', '0440402832']\n",
      "30276 ['0440212561', '0449207145', '0380814714', '0515122734', '0316601950', '0843948272', '067173590X', '0451410777', '1551665956', '0385504209']\n",
      "140000 ['038572179X', '0345413369', '0684859734', '0140442413', '1400031346', '0807083054', '0812507738', '0446603716', '0312990456', '0375753834']\n",
      "147847 ['0446610038', '0312955006', '0843944021', '0373195206', '0060975849', '0380779617', '0812562860', '0446310786', '0671759329', '0307988082']\n",
      "156150 ['0449909522', '0441172717', '0385302304', '0399143947', '0385311400', '0064472272', '0312862334', '0385319959', '0553575260', '0142500275']\n",
      "211919 ['0064471047', '0877017883', '0811802981', '0515120898', '0671027344', '0399144463', '0590433466', '0020633505', '068483376X', '0517565188']\n",
      "7346 ['0446365386', '0451188454', '0684872153', '0064472272', '0553213180', '0316096199', '0345348036', '044048474X', '0451526341', '0440221471']\n",
      "105517 ['043935806X', '0553213148', '0679723161', '1558745718', '0671867113', '0394587863', '0439064872', '0060263857', '0451172272', '0836218833']\n",
      "205735 ['0060256656', '0439064872', '1558746099', '1558746226', '0394800133', '0060725362', '0373255241', '0373825013', '0871352036', '0801670659']\n",
      "104636 ['0671741187', '059035342X', '0064400034', '0064400557', '034532532X', '0671028014', '0553568760', '014028009X', '0671003755', '0380718340']\n",
      "204864 ['0385722206', '039304632X', '0689829833', '0451169514', '0449005909', '0446602612', '0380813815', '0156627698', '0345450914', '038549744X']\n",
      "157247 ['042517736X', '0821768417', '0451181468', '0671025333', '0451198514', '0061013145', '0821767089', '0446607207', '0671023497', '0312954212']\n",
      "219683 ['0345338588', '0380752859', '0671042858', '0061091618', '0312924585', '0670813028', '0679720227', '0345375580', '0743424425', '0451166604']\n",
      "109955 ['0060525010', '0553291955', '0060090375', '0385335881', '0515120863', '0380793261', '0425179451', '0553099558', '0380815613', '0425180298']\n",
      "83287 ['0894803204', '0380713845', '0446364193', '0515118249', '1855385074', '0803283598', '0449212661', '0609806564', '0446610100', '0061092606']\n",
      "172888 ['2246286816', '2264002190', '207074955X', '2868698204', '2253096326', '2020226510', '225305786X', '2253002933', '2226062548', '2070365832']\n",
      "107784 ['0553110616', '0515102636', '0671042858', '0671743058', '0446325503', '0446602213', '084233226X', '0061093653', '0385479565', '0553234811']\n",
      "120565 ['0842373624', '0553343874', '074321711X', '0800875524', '0500974829', '0140069909', '0670819190', '0486206548', '0330304372', '0743206371']\n",
      "56959 ['0836218981', '0439136350', '0140244379', '0440415632', '0060275103', '0553381350', '1400031362', '0671732498', '037542217X', '0345416260']\n",
      "225232 ['0140430148', '0860074382', '0553240633', '0140390448', '0330305735', '0330246674', '0140174664', '0140430016', '0140112936', '0732269199']\n",
      "70415 ['0449221482', '1558747109', '0380710722', '0385177690', '0875961517', '0385306059', '0449219372', '0380708353', '0385729332', '0671793489']\n",
      "95010 ['0345353749', '0812510992', '0671473204', '0553295101', '0140707131', '0671880160', '0385140843', '0819170119', '0451166515', '0140390030']\n",
      "255489 ['0345361792', '067976402X', '044021145X', '015600710X', '0441004520', '0684857820', '0743444043', '0553571656', '0743224574', '0553272535']\n",
      "162052 ['0440219078', '0060191821', '006101351X', '006440501X', '0425130711', '1551669552', '0767915062', '0805036504', '0345311485', '0553284789']\n",
      "159506 ['043935806X', '0345342968', '0425080021', '0142000663', '0451167716', '0439139600', '0553568027', '0441569595', '0553564927', '0553568019']\n",
      "163761 ['050552158X', '0373075774', '0380756277', '0263827410', '0843933054', '0373762208', '0373051956', '0373075979', '0373225571', '0373292066']\n",
      "129851 ['006101351X', '0345337662', '0316779237', '096291620X', '0571198147', '0805048235', '0446603899', '0316845442', '0140165223', '0374512388']\n",
      "162738 ['0380975068', '0440211727', '1853260150', '0345339703', '0385425074', '0061031550', '0451200152', '0156027321', '0553279556', '0843950757']\n",
      "182085 ['0684814994', '084394854X', '0440235510', '0743442660', '0811812308', '0380977788', '0505524767', '0373226306', '0373711166', '0373258178']\n",
      "193560 ['0345360400', '0743435338', '0312877579', '0553562967', '0441775594', '0590555847', '0333186435', '0575063254', '0747252165', '0340173068']\n",
      "52199 ['0380779854', '0373288697', '0843949945', '0898793912', '0812545397', '0804102988', '0553264125', '067942573X', '0898797608', '034538024X']\n",
      "158226 ['1563897156', '0671038443', '0375751513', '1563898586', '067972575X', '0945774109', '0380789019', '0380789035', '0553802488', '0141182539']\n",
      "163973 ['0671027573', '0425111830', '0515120618', '0553278029', '0440202515', '0425126064', '0786889284', '0451404300', '0671744585', '0804119716']\n",
      "226965 ['0618002243', '0439139597', '1565122968', '0380703475', '0312965788', '0312966202', '0064440508', '0394800168', '038000741X', '0061000299']\n",
      "211426 ['0590353403', '0439064864', '0192838792', '0375506276', '0670813028', '0385199570', '0452262143', '0451167783', '0451160916', '0679439331']\n",
      "143175 ['0312154542', '0385503822', '0316602051', '0684810395', '0316789089', '0440115922', '0425133540', '1561008931', '0312960344', '0671726234']\n",
      "26583 ['0671789422', '086531599X', '0671880314', '014015020X', '0399208615', '0500270759', '0452255058', '0690012888', '0870995332', '0399207880']\n",
      "170513 ['0385492081', '039548930X', '0064402053', '0805015124', '0226469409', '0345339681', '0345444884', '0517703939', '0394712587', '0380818809']\n",
      "101209 ['043935806X', '0812509641', '0786831901', '1558747109', '0821755951', '0380787180', '0373292090', '0451208293', '0451406974', '0515107662']\n",
      "38273 ['188891419X', '0590400258', '078686303X', '0836218663', '0920668372', '0836221362', '0807550345', '0553270664', '0446604844', '0743423682']\n",
      "189973 ['0140298479', '0553295608', '1562826468', '0553284363', '0671739743', '0072126620', '0316777722', '0440222427', '0515119814', '0671454048']\n",
      "40943 ['043936213X', '0064472795', '0064407055', '055321313X', '0061020710', '0618002219', '0064400964', '0671870114', '0671003755', '0553574094']\n",
      "178522 ['0553576798', '0060391626', '0679457526', '0399146504', '039914613X', '0688084893', '0451203054', '0688143687', '0671867164', '0380705192']\n",
      "132836 ['0671034898', '039480029X', '0684195976', '0515132268', '0894808249', '0946819327', '0946819882', '0399103422', '0894715518', '0941263711']\n",
      "40889 ['0385484518', '0553579754', '0385721420', '155874262X', '1558745157', '051512317X', '0553574574', '0515121843', '044048474X', '0670865796']\n",
      "13552 ['0515126772', '0380718340', '0425169863', '0380871556', '0836220986', '0767907817', '0425153975', '0373218192', '0515116750', '0743439740']\n",
      "43910 ['1573229725', '0743418174', '0316776963', '1573225789', '0425162443', '0688177743', '006067055X', '1555834310', '1565124057', '0316778508']\n",
      "78553 ['0553296981', '0439136350', '0440472091', '0380757478', '0380753022', '0380756293', '0399135707', '0451402340', '0515107662', '0440473519']\n",
      "126736 ['1559029838', '0743444051', '0446601241', '0804111359', '0440222877', '1551665344', '0684856093', '0553295772', '0345370805', '0425166619']\n",
      "165758 ['0425080021', '0553213008', '0452262143', '0804102988', '0425170349', '0785813497', '0451169514', '0441003257', '0064407691', '0553274503']\n",
      "216012 ['0743454529', '1551667088', '0451206665', '0778320510', '0373218974', '0821776436', '0778320480', '0373484836', '0804120072', '0373218486']\n",
      "231210 ['0399501487', '0060964049', '0440226198', '0743418174', '0449212602', '0446310786', '0671797492', '0553233890', '006091565X', '0060987561']\n",
      "269566 ['0385492081', '0064400557', '0671617028', '067976402X', '0684868733', '0671042572', '0553280945', '0451525817', '0843111976', '0590412957']\n",
      "21014 ['0671041789', '0064400018', '0312971346', '006440188X', '0375726403', '0671526723', '0060174900', '0671042556', '0316789089', '0060915544']\n",
      "31556 ['0446310786', '0590629794', '059035342X', '0307006441', '0380816547', '0515087947', '0826308791', '0689808526', '0060194448', '0316769487']\n",
      "76626 ['0440498058', '0156027321', '0446310786', '006440188X', '0440351626', '0316358452', '0064407675', '0316358401', '0140430105', '0714840009']\n",
      "69078 ['0374199698', '0451524934', '0385509510', '0571081789', '0316666343', '0060248025', '0394810112', '0375701427', '0060929790', '0060188731']\n",
      "224349 ['0142002267', '0451524934', '0449212602', '0446602612', '0385474016', '0440211727', '0671027344', '0060809833', '0446530220', '0316168688']\n",
      "257204 ['0886775981', '043936213X', '0812548051', '0886774233', '0345313097', '0812555104', '0345329341', '0886774632', '034529873X', '0880381744']\n",
      "206534 ['0761110909', '0060192119', '0385509510', '0452281318', '0916515842', '0684872153', '0553580515', '0060934700', '0440504708', '0963960733']\n",
      "39281 ['0140270590', '0451205081', '0679426159', '0140133488', '0425133540', '0425175111', '0345452364', '0740704818', '0449911004', '0380793261']\n",
      "148258 ['0156012197', '0375504907', '0895297272', '0399142789', '0140245480', '0786713518', '0877796289', '3822818232', '1891620835', '0618247270']\n",
      "117384 ['0385484518', '0842329218', '0671723650', '1578561264', '0915658178', '0717283364', '0684868911', '0764227343', '080075042X', '0842313389']\n",
      "95902 ['8483106221', '8429743669', '8483106914', '8439701098', '8483100436', '8478093303', '8472238407', '8472234045', '8432053821', '8433920057']\n",
      "67840 ['0385504209', '037572737X', '0671034022', '0836218051', '0380789019', '0812548418', '0688154484', '0375502947', '006109594X', '0451208080']\n",
      "184532 ['0671039725', '0375504397', '0451166582', '0373270917', '0671469428', '0967231434', '0671027581', '0553252437', '0451167317', '0425140318']\n",
      "254465 ['006440188X', '0373708173', '0312983867', '0440193613', '0373790481', '0843952326', '0671027514', '0446601241', '0671003593', '0380018179']\n",
      "116599 ['0515114693', '0373191499', '0064430170', '0373122985', '0373764928', '0373122977', '1551669137', '0307231046', '0515135062', '0307988759']\n",
      "107951 ['0439136369', '0060928336', '0441070159', '0312421818', '0451458222', '0451526279', '014003613X', '0935696229', '0140620265', '3453126866']\n",
      "63714 ['156098659X', '0552133256', '0852635966', '0749614668', '0721408966', '1558171908', '1570362793', '0118800884', '0945695020', '0747275793']\n",
      "35859 ['0312171838', '0345419642', '1564581950', '042519213X', '0394800389', '1558745017', '0312971346', '0803714831', '0886463335', '0399147195']\n",
      "225595 ['0385504209', '0525947647', '0684853523', '0887306942', '0452283914', '0380973464', '0451180410', '0553296345', '1551664313', '0395875145']\n",
      "31826 ['0743230051', '0877792208', '0684814994', '0028604032', '0671793489', '0451167317', '0451170385', '0449215296', '0060177888', '0553580191']\n",
      "68555 ['0451407636', '014025448X', '0446606324', '0440237025', '0871236168', '0446529788', '0060928336', '0345386132', '034532532X', '0380470845']\n",
      "174304 ['0316678104', '0671039954', '0553280414', '0064401510', '0842332278', '0671020323', '1558743316', '0385479565', '006440188X', '0312278586']\n",
      "216683 ['0140449124', '0440945151', '042511984X', '0440205573', '0553212478', '0373760582', '0425115801', '0449002071', '0553382241', '0515120871']\n",
      "52350 ['043935806X', '0380778556', '0345339711', '059044168X', '0590353403', '0156007754', '0316358436', '0140443223', '0486282112', '0316358398']\n",
      "114988 ['0312265867', '0892967714', '067101675X', '0689711816', '0060175966', '0425184730', '0515128821', '0440236053', '0060507772', '080505622X']\n",
      "265115 ['0312983271', '037325041X', '014029628X', '0312980140', '1551668483', '0449007294', '0140254544', '0446360589', '0451192931', '0345428307']\n",
      "197659 ['0836218787', '0804105820', '189205101X', '0440178002', '0064400557', '0345444884', '0446359750', '0836221362', '0836213122', '0385334222']\n",
      "232131 ['0312983867', '059035342X', '0345447867', '0446672211', '0449223345', '0439136350', '0553571885', '0312983271', '0399149155', '067972768X']\n",
      "93047 ['080410526X', '0439136369', '0439139597', '0393050939', '0440998050', '185326119X', '0380978415', '156402976X', '0385486804', '1592400876']\n",
      "110934 ['0345361792', '0064407683', '0446365386', '0312282990', '0312990456', '0345339681', '1400031362', '0060987561', '0156029065', '0789404257']\n",
      "16966 ['006093090X', '038079439X', '0312974256', '0671554271', '0886777844', '0425157989', '0671876260', '0553569910', '0886773555', '0773754261']\n",
      "78834 ['043935806X', '0671727796', '0743224574', '031242227X', '0446532231', '0786867647', '042513699X', '0380730774', '0375760911', '0698115554']\n",
      "165308 ['0440414806', '0064472272', '0394823370', '0373250266', '0385505833', '051513287X', '0060959037', '0449005569', '0060987103', '0380709163']\n",
      "136010 ['0836218787', '0836218833', '0836218051', '0836218663', '0451190564', '0446515922', '0060508167', '1565040295', '074345152X', '0446607657']\n",
      "75591 ['0060392452', '0380977788', '0451158717', '0385730586', '059035342X', '0452269571', '0316107352', '0316193658', '0385199570', '0375701214']\n",
      "37712 ['0446310786', '0060959037', '0811801802', '0440222656', '0060934417', '0070212570', '044022425X', '0684872153', '0345367898', '0679736379']\n",
      "123608 ['0920668372', '0140501738', '0786813180', '0671038184', '059063271X', '0486296024', '0883965275', '0880299002', '1558533389', '0824985397']\n",
      "4017 ['0446310786', '0312150601', '0316666343', '006093090X', '0380005239', '1573225789', '0449002985', '0679723692', '0156007754', '0671510053']\n",
      "207782 ['0743454529', '0380002930', '0441094074', '0886774802', '0316690619', '0446605484', '0886776066', '034537472X', '1551669374', '0345367693']\n",
      "6251 ['0517093650', '0394820371', '0446532231', '0064402053', '067150987X', '0425103285', '0671625837', '0140067477', '0446343455', '0880291230']\n",
      "93629 ['0380018179', '038000321X', '0345348036', '0385504209', '0449212602', '0451119932', '0553148923', '0394712587', '0061099368', '0425149625']\n",
      "88283 ['0380814021', '0385335482', '0312291639', '0385335881', '0064472809', '0064472795', '0064410129', '0385338090', '3518188216', '0061096962']\n",
      "230522 ['0553274295', '0671617028', '0380432811', '0394473450', '0440404193', '0679430946', '0717283194', '0590409182', '0399226907', '0590433466']\n",
      "104399 ['0394871804', '0394800796', '0553274295', '0394800184', '0395389496', '0671759345', '0394839129', '0345337662', '0394800028', '0394800168']\n",
      "39467 ['0156027321', '0312422156', '0345404475', '0140158073', '0553293362', '950491036X', '8401474663', '0140115854', '0141182342', '0140184937']\n",
      "274061 ['0441010512', '0451173317', '0451169514', '0671741039', '0451458044', '0380775840', '0345362861', '0345339495', '0670855030', '0765301571']\n",
      "227520 ['0812548051', '0441004520', '0515116750', '0515121843', '0345434692', '0312851405', '0312867875', '0515130389', '0399151540', '051512317X']\n",
      "182086 ['0373790147', '0446364266', '0373441096', '0060002050', '0671676385', '051511992X', '0373289820', '0373709765', '0671744593', '0373168772']\n",
      "6575 ['1400034779', '080410526X', '0553279912', '0312150601', '0375760911', '0894808249', '0312243022', '0836217012', '1400031354', '0312265867']\n",
      "234359 ['0802116698', '0156027321', '0345453433', '0060555882', '1551666731', '0142000205', '0312423772', '0425197115', '0060557818', '0385722435']\n",
      "185384 ['0807553913', '0140328696', '0807545465', '0836231295', '0425178102', '0802430848', '0152167366', '0307115534', '0375814973', '0373871864']\n",
      "28634 ['0446608955', '0452282764', '0446525502', '0671729462', '067102535X', '038000321X', '0671868691', '068484267X', '0316666343', '0553584375']\n",
      "258152 ['0441172717', '0553573403', '0060938455', '0156010860', '0553580302', '0553286587', '0553580337', '0812580354', '0316116726', '0553295098']\n",
      "223087 ['0679763309', '1558744029', '0380802279', '0609608924', '0375760911', '0380763990', '0061099686', '0345443128', '0064441865', '0439284899']\n",
      "106007 ['055357695X', '0374525641', '0553282476', '0345417623', '0440435749', '0345325818', '0028610105', '0553247409', '0756401011', '0553107054']\n",
      "246311 ['0140143505', '0142002267', '0553268929', '0140131558', '0375703764', '0316096199', '038549744X', '0393046974', '0811205827', '0618173870']\n",
      "163759 ['0671025007', '0373075898', '0373225342', '0373244002', '037327193X', '037324200X', '0373225857', '0263827267', '0671568310', '0373806817']\n",
      "199416 ['0060391626', '0553099604', '0525934189', '0060176660', '0316693235', '0446523321', '0316154075', '0892967188', '0316969443', '0393040135']\n",
      "13850 ['0385484518', '0345342968', '0394507630', '0894805770', '039480001X', '0380726297', '006016848X', '0553278223', '0316812471', '1558530711']\n",
      "242409 ['0140186522', '1853262218', '0671035827', '0099473216', '0140620869', '0679762701', '0735202559', '0671023888', '2707306959', '0671019104']\n",
      "8067 ['0312980140', '0312265859', '037322608X', '0671039938', '0804114609', '0451204301', '0821773402', '0553575066', '0312306326', '0553574663']\n",
      "173291 ['044651862X', '0671872702', '044094774X', '0671690582', '038089968X', '0452281431', '0385505833', '0553373803', '0517053195', '0385170513']\n",
      "179978 ['043935806X', '0439136350', '0140067477', '0590463152', '0439064864', '0448095254', '0684814994', '0440995779', '0394800184', '0920668372']\n",
      "240543 ['0891345957', '0231103840', '0965402754', '0871065487', '0671242741', '0231072600', '1567997708', '0915678063', '0806983167', '0834801752']\n",
      "12538 ['0312195516', '0064400581', '0812555120', '0380004801', '0345383850', '0141301074', '0316096199', '030711936X', '0890876789', '0786808551']\n",
      "149908 ['1573229725', '0425124347', '0887308589', '0380727501', '060960595X', '0375709150', '0751501999', '1887317023', '1843570998', '0593044797']\n",
      "78783 ['0385318782', '0684853515', '0345423291', '0345445848', '0449221490', '0449907481', '0671042467', '0836220870', '0553574116', '0821757628']\n",
      "87555 ['0060392452', '0618002243', '0553274325', '0060809833', '0345350685', '0553208845', '0451524934', '0451181662', '0671871390', '0375701214']\n",
      "110912 ['0345361792', '0385484518', '0517693119', '0767903854', '0439139597', '0316601950', '0449212602', '0399146431', '0553802496', '0374157065']\n",
      "6242 ['0312195516', '039592720X', '067976402X', '068484267X', '0330392611', '0312150601', '0375706410', '0060958022', '0679777547', '0679731156']\n",
      "169682 ['0618129022', '043935806X', '059035342X', '0375708111', '0553580272', '0553208845', '0671722905', '061808357X', '0805210539', '0140430032']\n",
      "224646 ['0345313860', '0553293354', '1861976127', '0385491026', '0671704184', '0439010772', '0140147551', '0399143947', '0415165652', '0352332530']\n",
      "123094 ['0894808249', '0440174643', '0836217691', '0316107018', '0316107417', '0671758721', '0385472951', '0887307876', '0786866756', '0821221817']\n",
      "156300 ['0842329250', '080410526X', '0842329242', '0842329218', '0446353256', '0380720191', '3895080292', '0856487287', '0871352427', '0448417057']\n",
      "250709 ['0061097357', '0061098019', '0425155722', '0441117732', '0061053147', '0425147584', '067173458X', '0451167120', '0761814175', '0446524077']\n",
      "266056 ['0385492081', '0446610038', '0380732688', '014029628X', '1551668084', '0821772341', '0670894494', '0553256688', '0929634063', '0553261665']\n",
      "236340 ['0446606189', '0380732661', '0553280341', '0553291009', '0553573926', '0446364193', '0425175405', '0140271562', '0671011367', '0425169863']\n",
      "275970 ['038572179X', '0380977788', '0446391301', '0877017883', '0064400557', '044651652X', '0870447246', '067973855X', '0679732764', '0821223542']\n",
      "89602 ['0345361792', '0060175966', '0060192119', '0441304834', '0066209773', '0142001805', '0252006860', '0449003795', '0380978415', '0451523024']\n",
      "229011 ['0553273914', '0425171078', '0061032093', '0553583441', '0449005852', '0449002551', '0553585118', '0671880594', '0440211484', '0451403673']\n",
      "59172 ['0446310786', '0425153975', '0671729438', '067179356X', '0451173317', '0895773783', '0553582895', '0451203267', '0440209412', '0446601543']\n",
      "268110 ['0671027646', '0425184943', '0449912558', '0380753022', '0312147015', '0394890485', '0767900383', '1587493705', '0312278284', '0786884622']\n",
      "125774 ['0618002219', '0345339711', '068484267X', '0061020648', '0440418569', '039548930X', '0836218620', '044022392X', '0440222028', '0064407055']\n",
      "125519 ['0446610038', '0446609404', '044021145X', '0671793489', '0028604202', '0515126489', '0316693006', '0671867091', '0671568175', '1565117794']\n",
      "102702 ['0515135305', '0505524686', '0373790694', '0373257988', '0515131733', '037379066X', '050552113X', '0373258704', '0505523892', '0843950498']\n",
      "170634 ['0060256672', '0590353403', '0439136350', '0446677507', '0590634275', '0060264454', '0312069146', '0060245603', '074321367X', '0553373854']\n",
      "225199 ['0451522664', '0553284118', '0679722327', '0671510053', '0385418868', '0446359203', '0553262580', '0140444572', '0486264645', '0451524381']\n",
      "86947 ['0959774661', '0553053140', '0679447156', '0823045056', '0823025527', '0806118172', '0498076520', '0823013677', '0130038482', '0684814579']\n",
      "35433 ['3453162935', '344243193X', '3453157931', '3518390473', '345312507X', '3785707657', '3442092639', '3453210697', '3453147596', '3453099168']\n",
      "4385 ['0446356859', '0446364312', '1565970519', '0380818078', '0821718053', '0373898347', '0373165544', '0373168527', '0373076223', '0373291183']\n",
      "242006 ['0373153260', '0380750872', '0553209647', '0671027573', '0380753022', '0671010085', '0380752999', '0373031475', '0380762587', '0671670050']\n",
      "240144 ['043935806X', '0142002267', '0449911012', '0394551907', '0440235596', '0451180763', '0439139597', '1551665972', '067940676X', '0553575260']\n",
      "224525 ['0842329129', '0875420036', '1862047626', '157859135X', '1577311523', '0618056750', '0451195442', '1558532781', '973981638X', '1568844549']\n",
      "254206 ['0684853507', '0451163524', '0395177111', '0425105334', '0425170349', '0670868361', '0425093328', '0451117298', '0449224392', '0399132414']\n",
      "29259 ['0842329269', '0486289990', '0449223345', '0689300727', '0380009471', '0440183057', '0380718332', '0345313860', '0894806319', '0449224392']\n",
      "242083 ['0671041789', '0439064872', '0439136369', '0684853523', '0345313860', '080410526X', '1550548913', '0380789019', '0451166361', '044022165X']\n",
      "265889 ['043935806X', '0380820854', '0440225078', '0505524090', '075820230X', '0446527041', '0385503857', '0451210751', '0804119805', '0312977689']\n",
      "264082 ['051511779X', '0380018179', '0425163407', '0425180050', '0312970234', '0440225701', '0425118703', '0440221471', '0373706235', '0553574671']\n",
      "36299 ['0441000916', '1565925157', '0441007813', '038079005X', '0312873301', '0886775302', '0505525526', '0812535898', '0451208366', '0836214439']\n",
      "166123 ['0618002235', '0441001971', '0761513698', '0446602825', '0786869445', '0441005241', '0345347226', '0060187476', '0880389095', '0312265840']\n",
      "235282 ['0380725576', '0316666343', '0894803204', '0515120898', '006093090X', '0060987561', '0452279488', '0380723085', '0449215946', '0451176464']\n",
      "38023 ['156402976X', '055321313X', '0679722769', '0785273603', '0394809378', '0380778556', '0316150460', '0671721380', '0345377591', '0020442408']\n",
      "140358 ['0451160525', '0345339681', '0671727796', '0440211727', '0451173317', '0842329242', '0399147128', '0451163524', '0142000205', '0425183971']\n",
      "128835 ['0345392825', '0345348036', '0679751521', '0394800184', '0399134204', '0449213730', '0061092614', '0060921056', '0064440044', '0449204324']\n",
      "212965 ['0440225078', '0515129933', '0380753006', '0394740181', '0373169191', '0515128554', '0425176940', '082175291X', '0373092253', '0373114516']\n",
      "164533 ['0451524934', '0849302056', '0312422636', '0375812075', '0028616367', '1580170900', '8480197072', '3883756644', '0517122502', '0374523754']\n",
      "273113 ['0515114693', '0373484003', '0380820854', '0553285785', '0380779617', '0380799375', '0373484232', '0380470845', '0373218036', '0373218486']\n",
      "252695 ['0373834284', '0771099916', '0399149422', '0440234719', '0671023209', '0373762372', '055357695X', '0373286864', '0553578359', '0553478257']\n",
      "227250 ['0373790058', '0373790767', '0373790716', '0373764634', '037379052X', '0373118139', '0440216885', '0843936398', '0843944145', '0821759744']\n",
      "264031 ['0515130389', '0425182169', '0525945210', '0743436830', '0449215482', '0345444884', '051512608X', '0515132187', '0767915054', '0688170528']\n",
      "208406 ['0345339703', '0553277472', '0880381752', '0553263226', '0345370775', '0553296124', '0671496174', '0451151259', '0553272462', '0812542835']\n",
      "115002 ['050552113X', '0380753006', '038082079X', '0671676385', '050552208X', '0445406518', '0380016990', '0515135968', '0804119910', '0380815680']\n",
      "142524 ['0345361792', '055321313X', '0679723951', '0684862921', '0679454489', '0066209773', '042514898X', '0553568167', '0064407675', '0399238786']\n",
      "148199 ['0385509510', '0060928174', '0890090572', '0345314980', '0444409300', '042516098X', '0425179613', '0679735909', '1564584844', '0140366903']\n",
      "75819 ['0439139597', '0553573926', '0590353403', '0316666343', '0451191145', '0671517635', '1400060036', '038550120X', '0385495641', '0786866020']\n",
      "241666 ['0425141233', '067155302X', '0380711524', '0446601640', '0671553046', '0425145301', '0380710218', '0425119114', '0449128733', '0425172996']\n",
      "239584 ['0375705171', '0375503315', '0679736379', '0684857820', '0767903382', '0385509456', '0805063889', '0375703675', '0553071289', '0064406970']\n",
      "245827 ['0866254099', '0448095017', '0671758896', '0451190548', '0380754843', '0394742117', '0671020951', '0345915682', '0590453661', '0345404793']\n",
      "218552 ['0525947647', '0688163165', '051512317X', '0312171838', '156402976X', '006019491X', '0316693294', '0374527229', '0446518581', '1570717974']\n",
      "95932 ['0449005615', '0449212602', '0440498058', '0618129022', '0312953615', '006101351X', '0140196013', '031213407X', '0345382846', '0446364754']\n",
      "19085 ['0886772346', '0425154882', '0345441036', '0446364193', '0425190641', '0446328103', '1401301231', '0812540069', '0553350021', '0061010588']\n",
      "23768 ['0394800796', '0060934417', '039480967X', '0684857820', '0553109588', '0670032379', '1570820872', '0394800184', '0743418174', '0671872001']\n",
      "36606 ['0449212602', '0446527165', '0452281903', '0590353403', '0345344464', '0064430227', '0446527793', '0590445774', '0684841185', '0786862564']\n",
      "189139 ['0886772540', '0812516001', '0553227750', '0886779103', '0061056898', '0345315715', '0345282159', '0445204524', '0879979453', '042508440X']\n",
      "179718 ['0451160525', '0743418204', '0446606189', '0515107867', '055356451X', '0345313860', '0440181275', '0425152898', '0684873877', '0671568175']\n",
      "70666 ['0451160525', '067102423X', '0446605239', '0440211727', '080410526X', '006101351X', '0786861347', '0060192704', '0449213447', '0609600672']\n",
      "236058 ['0316666343', '0446310786', '0440219078', '0670032379', '0380789019', '0345423615', '0805063897', '0805054944', '0679745653', '0679722017']\n",
      "52614 ['0312979975', '0553802747', '0312992416', '0373765401', '0312978952', '0525946284', '074322454X', '0373293046', '0821767445', '0373226845']\n",
      "36907 ['0618002235', '0140298479', '0804114986', '0060392452', '034536676X', '0439136350', '080411109X', '0375414819', '0446532231', '015100692X']\n",
      "146113 ['0312195516', '0312099045', '0061092533', '0345450728', '0553574639', '0821770195', '0515129933', '0440234727', '0812534867', '0380703254']\n",
      "25981 ['0842329269', '0446363669', '0152013059', '0842329250', '0399149821', '0385299095', '0440223806', '0312952716', '0345339703', '0821735926']\n",
      "166596 ['0440212561', '0449907481', '0809117541', '0395259398', '0345382323', '0451192311', '0307030717', '0671024108', '0385143966', '0809467585']\n",
      "36609 ['0380813815', '0743227441', '0385336810', '0316096199', '0451410742', '0316735027', '0679463135', '0385335830', '0743530292', '0452284295']\n",
      "123981 ['0312924585', '0446609404', '0553210114', '0515122734', '0553582917', '0345413865', '0375760911', '0440215285', '0061097632', '0425151867']\n",
      "264321 ['0441172717', '0440218500', '0345315723', '0312924585', '0425169863', '0345440048', '0345296710', '080410526X', '0886776988', '0373834799']\n",
      "164905 ['0373259565', '0373122675', '0373118597', '0373099967', '0373223927', '0373451784', '0373122616', '037303010X', '0373118236', '037322639X']\n",
      "168047 ['0553278355', '0439139597', '0375504613', '0439064864', '0440237688', '0671789422', '0873523792', '0142001740', '0452284449', '0451192001']\n",
      "12982 ['0064401871', '0380400480', '0312924801', '055329315X', '0060951311', '0380762560', '0380790904', '0684801221', '0380750864', '0553574116']\n",
      "187145 ['0446310786', '0440174643', '068484267X', '0679723161', '068484477X', '0345465083', '0312924585', '0385502532', '067091021X', '0385318782']\n",
      "100459 ['0060392452', '0440211727', '0399146164', '0671021001', '0375411550', '0394587863', '0142000205', '0385312202', '073700049X', '0763623296']\n",
      "97754 ['067169507X', '0446518581', '038072362X', '0553280341', '0345410602', '0380728273', '0345394259', '0671897020', '0425188442', '1580630340']\n",
      "148966 ['0373123736', '0373218095', '0373185073', '0373292872', '0373037953', '0373123752', '0373217412', '0373123906', '0373246064', '0373227736']\n",
      "236757 ['0345379144', '0671568833', '0440212561', '0449213730', '0449219410', '0679721746', '0060934417', '0380724596', '0385311400', '0060915544']\n",
      "232945 ['0553250426', '0140386335', '0440221471', '0446601241', '0446610038', '0440234743', '0553578022', '0312971397', '0440222826', '0345370775']\n",
      "177072 ['0440211727', '0151003076', '0894803204', '0553574566', '0821772155', '0316601950', '0842332251', '0743407083', '0553273442', '0449006581']\n",
      "113519 ['0446676098', '0804106304', '0375406182', '0060084456', '0789404257', '0671042572', '068487217X', '044652087X', '0440164842', '0679455612']\n",
      "270713 ['0312195516', '0553296981', '0812575717', '0440174643', '0312950586', '0671896768', '0836221311', '0316776963', '037576092X', '0836220676']\n",
      "203240 ['0440998050', '0553273914', '0440498058', '0394820371', '0375703055', '0375726403', '0140386645', '0689855443', '0373802021', '0515125628']\n",
      "229741 ['0446310786', '043935806X', '0439136350', '0439064864', '0064471047', '0811802981', '0380018179', '0440220424', '0316769487', '034543014X']\n",
      "244627 ['0515130117', '0671742558', '1559029838', '0671739743', '0743411250', '0060507365', '0804119732', '0380811073', '0553569902', '0671737635']\n",
      "265313 ['0064400557', '059035342X', '0142002267', '0451160525', '0452262143', '0440901588', '0060938455', '0553292455', '0671024337', '0316107107']\n",
      "271448 ['1558745718', '1592400876', '0689806590', '0316569321', '038079487X', '037541309X', '0439139600', '0345389417', '0064472272', '0689817215']\n",
      "200226 ['0312971346', '0312265867', '0811833615', '0446310786', '0743418204', '0553574574', '0515114693', '0553294903', '0312983867', '0752843397']\n",
      "17950 ['0671822209', '0446355453', '0670855030', '080411109X', '0747545774', '0671003682', '0684853507', '0670865796', '0688084893', '0140089179']\n",
      "28591 ['0440180570', '0316769487', '0451410971', '0767913000', '1551669412', '0373250193', '0373258151', '0670880728', '0786006072', '0451172116']\n",
      "36554 ['067974388X', '0060915544', '0140043519', '0060927569', '0679747044', '051753505X', '0525482334', '0140045368', '0938410911', '0872860884']\n",
      "92810 ['059035342X', '0385504209', '0743255453', '0380731851', '0345428307', '0553561669', '0671024108', '0394726251', '0525942076', '0786863706']\n",
      "55492 ['0439136350', '0380018179', '0439139597', '0894808249', '0316602906', '0446532231', '1559029838', '0873529758', '0679805273', '0898156122']\n",
      "31315 ['0553572202', '0515134449', '0385336810', '0399143629', '0684855631', '0452262143', '0679429883', '0060167688', '0515134473', '0671683063']\n",
      "35857 ['0743418174', '089480829X', '0316601950', '014200023X', '0452281032', '0515119784', '0312926294', '0375706771', '0380797631', '0316143464']\n",
      "110483 ['0671697994', '0441304834', '0345368940', '0441000916', '0553574582', '0441002935', '0671876465', '0441004520', '0440422310', '0441001971']\n",
      "233911 ['0345333551', '0312983271', '0345339681', '0875420907', '1400031362', '0894802046', '0553477676', '0789722666', '0895776219', '1580170900']\n",
      "26544 ['0446672211', '0373226306', '038000917X', '0515122734', '0671653741', '037570485X', '0373483902', '0671568841', '0933472218', '1556703872']\n",
      "12824 ['0440211727', '0064404994', '0064405028', '0064405052', '0312288840', '1588991962', '1892213761', '1569318697', '1931514178', '159182107X']\n",
      "236283 ['0805019359', '0671041789', '0060392991', '0920668364', '0446359408', '0684867621', '0316788228', '0307010368', '0385484518', '0670835382']\n",
      "251843 ['0312990456', '0440225701', '0440235596', '1558744150', '038000917X', '055356451X', '0743219317', '0671027360', '0553586122', '0394510496']\n",
      "240568 ['0451166604', '0316734837', '0553283944', '038079487X', '0671769200', '0786256974', '0679434046', '0425098087', '042512245X', '0882702769']\n",
      "105979 ['0345361792', '0060248025', '0316666343', '0786868619', '0385722206', '0446672211', '0140328696', '034543739X', '0375500510', '0061097314']\n",
      "245410 ['0312971346', '0553278223', '0345313860', '0345322231', '0515134511', '0312966970', '067168289X', '0515134481', '080410753X', '0679734775']\n",
      "261829 ['0312195516', '080410526X', '0316666343', '0425171078', '0441304834', '0451205073', '0553567756', '0060093463', '0553213105', '0156027321']\n",
      "94853 ['0452270642', '0425154092', '0864424213', '0340818182', '1869504917', '0340396474', '0891913726', '0140311823', '0812523350', '1853267317']\n",
      "60337 ['0142001740', '0316096199', '0802139256', '0452269571', '0425047962', '0060808551', '0679757821', '0060916494', '0345350685', '0060165529']\n",
      "76151 ['0399148248', '0345447859', '155166951X', '0743437128', '0316666343', '037541178X', '0312252617', '0312980140', '0671737821', '0671737791']\n",
      "182993 ['0743454529', '0385510438', '0395866502', '0060254920', '0767907809', '0688174930', '0395401461', '0671034065', '0399151273', '0060928336']\n",
      "8890 ['2290318329', '225306386X', '2228128007', '2020088959', '2707303208', '2070362426', '2070388638', '2868698921', '2210422701', '2020385856']\n",
      "37950 ['0618002235', '067172262X', '0440220602', '042516828X', '0836220730', '1551668246', '0439064872', '0743424425', '0312966970', '0679893105']\n",
      "109574 ['0440174643', '0395353009', '0451142934', '0425097722', '0380721457', '0140071083', '1401301061', '0060171928', '0517618141', '0809129590']\n",
      "56554 ['0142001740', '0743418204', '0399150439', '0451169530', '0373250436', '0373250630', '0373250533', '044920099X', '0061052477', '0373250614']\n",
      "126492 ['0671021001', '074343627X', '0064408647', '0385503822', '0440211727', '0684833395', '0345313860', '1880418568', '0670844527', '0670813028']\n",
      "214786 ['0312924585', '0425121631', '0425141551', '0440234743', '034543479X', '0140185216', '0425162788', '0441516645', '0061059064', '0671413570']\n",
      "10560 ['059035342X', '0439064872', '0375411992', '0515134465', '0375760911', '0679454489', '0452281458', '0670030651', '0312309635', '0515134457']\n",
      "235935 ['0142001740', '1400034779', '0345434498', '0440228433', '0804114609', '0385315090', '0375421815', '0385722206', '0373031777', '0451196856']\n",
      "196077 ['0449219364', '0312983867', '0375706771', '0449238946', '1567187072', '0307131726', '0316284955', '0765108674', '030711838X', '0060090367']\n",
      "30511 ['0375725849', '0449911810', '0553268880', '0679736379', '0156505150', '0452282152', '0375724389', '044921978X', '0330345605', '0156027321']\n",
      "241198 ['3453071174', '3522128001', '3596254043', '3421055858', '342105634X', '3505100188', '3746611687', '3518278746', '3492229786', '3421056412']\n",
      "183958 ['0006546684', '0930044177', '0860688690', '0868065153', '0297783815', '0930436059', '0702232106', '0852072481', '0091837367', '0195084160']\n",
      "26535 ['0451198352', '0671042467', '0373085923', '0380001098', '0449003183', '0446605298', '0380786419', '0312983115', '0843948655', '0758200846']\n",
      "229329 ['0140430148', '0380012057', '2070404587', '0810909014', '0517556839', '2879390311', '0485120437', '0356179427', '0345294815', '0140051287']\n",
      "65258 ['038079487X', '0142000205', '006098824X', '0898867304', '0373834357', '1568821042', '0529053241', '1555472478', '0380720876', '0812557077']\n",
      "66942 ['0446310786', '0439139597', '0836204255', '0385265700', '0671041789', '0060987561', '0316301868', '0142000671', '0374148600', '014302812X']\n",
      "86189 ['0375703764', '044021145X', '0440223202', '0393301311', '0393303217', '0679873937', '0140168842', '0156007479', '0670853097', '0688171877']\n",
      "218608 ['0345361792', '080410526X', '0671534645', '0380002930', '0394800133', '044651652X', '0671001795', '0060168013', '0446607657', '0446350397']\n",
      "158433 ['0385492081', '0440221471', '0451173317', '0380002930', '0553579754', '0140440585', '0380759489', '0451180232', '0425153975', '0451171322']\n",
      "205943 ['0553067966', '0060935448', '1570670269', '0913990426', '0679729585', '0877284237', '073870301X', '1564147169', '1893224082', '1580910793']\n",
      "35836 ['0812550706', '0671869094', '0451180410', '0425097609', '0671520458', '0515131229', '0671746081', '0061007226', '038073186X', '0671881175']\n",
      "85656 ['1551667592', '0451202066', '0061010251', '0451203585', '0345437055', '0380720248', '0425092178', '0821768816', '0451195345', '0373078064']\n",
      "268932 ['0448095017', '0060213264', '0452283442', '0446531332', '0440440629', '039480001X', '0452284015', '0440941407', '0156013355', '0887434118']\n",
      "130571 ['0060987103', '0671882368', '0060175400', '0446672211', '0679452354', '0312168144', '0385315023', '0743212002', '0380817691', '0380726254']\n",
      "130554 ['0064407675', '0380709538', '0679889310', '0439049989', '0439064864', '0590629808', '0064405079', '0807508527', '0807554502', '0440407923']\n",
      "209516 ['0375500510', '0552091057', '044022392X', '014018869X', '1573225517', '0140431357', '0060920084', '0140048332', '0060958111', '0226743446']\n",
      "110973 ['0451160525', '0525947647', '0345350499', '0553573403', '0451458222', '0842329250', '0871136791', '0451457811', '0451092163', '0670032573']\n",
      "278418 ['0394800168', '0399134883', '0380710870', '0671019961', '0440184622', '0451136683', '0373117868', '0553271571', '0440800129', '0192816071']\n",
      "247447 ['0446310786', '043935806X', '0312971346', '059035342X', '0553296981', '0380725703', '0446608955', '0312980140', '067187098X', '0380899531']\n",
      "157273 ['1573225789', '0385504209', '0441003257', '1573241075', '0062512021', '0878770771', '0449220184', '0425157229', '0684844826', '0312265859']\n",
      "156467 ['0821753452', '0515132187', '0446611921', '0380718340', '0671709704', '0425183971', '0425191583', '044021145X', '051512902X', '0449901009']\n",
      "164323 ['0451526341', '0316666343', '0312291639', '0385336179', '0060517794', '0451203771', '0440223202', '0449219364', '0440235596', '0380016362']\n",
      "81560 ['0380789019', '0886775035', '0812575407', '0812551478', '0590660543', '0380818191', '0618346279', '0670031909', '0345362276', '0786916060']\n",
      "150979 ['0375760911', '0316096199', '0440219078', '0380710897', '0679741666', '0064407667', '0141802812', '089480829X', '0028604199', '0743500547']\n",
      "48494 ['0064400557', '0553201743', '015668568X', '0515107662', '1400034779', '044021145X', '0312117442', '0515116246', '0373218486', '0553121456']\n",
      "38281 ['038000321X', '0671002783', '0142002534', '0812502124', '0812533313', '8433969978', '0812532635', '0765308401', '8401465583', '8445071394']\n",
      "222296 ['081297106X', '0449910237', '0156027321', '0679725229', '0679735909', '0553572997', '0786862017', '0786864672', '094032217X', '0446920258']\n",
      "36836 ['0061099813', '0140441166', '0373250258', '0070022720', '031230174X', '0060688556', '0807281859', '0195215206', '0670734411', '0316955116']\n",
      "190708 ['0440416795', '0553268880', '0425181103', '0451139755', '0811819353', '0671443283', '067164257X', '0385327862', '0553146114', '0440223032']\n",
      "261105 ['3257231199', '3257230230', '015644450X', '0385471483', '0887307876', '3442541751', '3257232551', '3257233418', '345683375X', '3499222507']\n",
      "227705 ['067976402X', '0425183971', '0452281903', '0425132048', '0425100057', '0425121631', '038549081X', '0446329258', '0451134265', '0425128458']\n",
      "81492 ['0345342968', '0439064872', '0743418174', '0380816830', '0849911796', '0671870998', '0743417216', '0679731180', '0440237556', '0505525356']\n",
      "14422 ['0446365386', '068484267X', '0380725703', '015100692X', '0061031410', '0425080021', '031242258X', '155874262X', '0688176852', '0515110973']\n",
      "196160 ['0312990456', '0345339681', '0836210263', '0452279178', '059035342X', '0836228995', '0345368991', '1929090307', '0886775116', '0440498058']\n",
      "32773 ['0345342968', '0399501487', '0440212561', '0451457811', '0385419287', '0451525264', '0553269151', '0812523016', '055327824X', '0553211668']\n",
      "252820 ['044651862X', '088730866X', '0425105334', '0804111898', '0434009261', '0451142934', '0345337662', '0452257743', '0553270931', '067081458X']\n",
      "37644 ['006092988X', '0671722816', '020530902X', '0679879250', '0380718340', '0812558626', '0064405176', '0618219064', '0679738908', '0737305061']\n",
      "138578 ['0060175400', '0684857820', '0345440137', '0316693251', '0060192704', '0671774670', '0060961325', '0312288735', '0966069803', '0312983093']\n",
      "98758 ['0425107469', '0743474325', '067169071X', '067180720X', '0449908100', '0440223601', '0312952716', '0425129942', '0836267478', '0671736841']\n",
      "266226 ['0375751513', '0553296981', '039575514X', '0345339681', '0312924585', '0486275434', '0553275569', '1402201400', '1898323887', '0670879371']\n",
      "15418 ['0312980140', '0671041789', '0312983867', '0553293362', '067978120X', '0451171357', '038072541X', '0345391802', '0312983069', '0316358339']\n",
      "174892 ['0451186648', '014025448X', '0684859734', '0385313667', '0440224713', '0380755408', '1551669153', '0449003701', '0451197038', '0345375769']\n",
      "113270 ['0446531332', '0743211227', '0316780812', '0140270590', '0679455884', '0449907538', '0156767503', '0060611820', '0679035028', '0060509392']\n",
      "7286 ['0440229499', '0590414488', '089480829X', '1856975770', '0819830992', '0805068422', '1569870381', '1562313010', '1851825924', '0671882538']\n",
      "244685 ['0553571834', '0553581554', '0671553046', '0505524503', '1551668998', '0821769359', '0446603961', '0373288956', '0812515609', '0440221900']\n",
      "187517 ['0316601950', '0399145869', '0671894455', '0425126064', '0671884484', '0449006344', '0316069027', '0373226314', '0373169191', '037376491X']\n",
      "101606 ['0553564404', '0425185710', '0449219410', '0671004107', '0310214165', '0812534085', '0486264653', '0345366638', '0446674249', '0767905768']\n",
      "5582 ['0451191145', '0918949165', '0140277749', '0525934960', '087542791X', '015696158X', '0425181464', '0425183971', '0345334531', '0312976275']\n",
      "47316 ['0842329269', '0590409182', '0671028375', '0671004530', '038000321X', '0446611212', '0440967694', '0590428330', '0140384235', '0312983131']\n",
      "127200 ['0061000175', '0345346971', '0345386574', '0553573136', '067173976X', '0061097861', '0671655507', '0515129941', '0451203542', '0345360362']\n",
      "163804 ['0399141146', '0451190556', '0451190572', '0440236703', '0451190548', '0312195265', '0553583468', '0312050631', '0061097934', '0671776134']\n",
      "143415 ['0345342968', '0140430725', '0743227441', '0312282990', '0380570009', '014200023X', '0804106304', '044990928X', '0553268880', '0385498802']\n",
      "11993 ['0064400034', '0064400042', '0871236575', '0064471063', '0064400050', '0064471098', '0871234017', '0871233452', '0871239906', '0842307303']\n",
      "268300 ['0671729454', '0671729411', '0671729462', '1563895730', '0515133876', '0812525051', '0451195663', '0440215439', '0764150987', '1582970076']\n",
      "92652 ['0304345350', '006101351X', '0786863404', '0553102435', '0440503108', '078686351X', '0851777236', '0385487266', '0684867583', '0688096956']\n",
      "2110 ['0671532642', '015216250X', '037364292X', '067166865X', '0898863538', '042516540X', '0373619499', '0590448285', '0743486625', '0786807555']\n",
      "94951 ['0553573861', '0345272609', '006001315X', '0671876821', '0451157044', '0671578146', '0812533550', '0441235840', '0880386533', '0671497669']\n",
      "242465 ['0809246287', '0812885066', '0875421369', '0914918273', '0785211578', '0878338624', '0553234706', '0440503396', '0139841709', '0850305292']\n",
      "271705 ['059035342X', '0312195516', '0439136350', '0451524934', '0385721234', '1585670227', '0451458338', '0061056219', '0316096199', '0140324623']\n",
      "217106 ['0140067477', '1558611584', '0805061762', '0312912951', '0824600606', '1562054481', '0809228661', '0964451808', '059600026X', '0871133768']\n",
      "53220 ['0553279556', '0671016768', '0446364193', '0553576798', '0440236673', '0553280368', '0440236061', '0316602051', '0061030597', '0449002985']\n",
      "229551 ['0345469674', '0060987561', '0140067779', '0802116698', '0385504209', '0374199698', '0525945725', '0761122745', '0345450922', '0373790406']\n",
      "236948 ['1558747060', '0553213059', '0895770520', '1572304510', '0812925300', '0393956458', '0395290317', '0226511731', '0140316426', '0787308153']\n",
      "241980 ['0380813815', '0786006528', '0671729446', '0312976275', '0451172817', '0743211383', '0553578693', '0671759345', '0553802526', '0312966970']\n",
      "138844 ['0425162443', '0375706771', '0060192704', '0440226104', '1562920332', '0064407667', '0156005042', '0670865796', '0891343377', '0029059801']\n",
      "122429 ['0385335482', '0440998050', '0020442203', '0380700972', '0590414291', '0140366784', '0394800168', '0375703438', '0836217691', '0395259398']\n",
      "55187 ['0446672211', '0671001795', '006251279X', '0060175400', '044651862X', '069109750X', '0960638881', '0441005993', '0553280848', '0786869143']\n",
      "240567 ['0446310786', '0312195516', '0446672211', '0804106304', '0399501487', '0451172310', '0446515485', '1400077826', '0451210816', '0440224624']\n",
      "187256 ['0312195516', '0142001430', '0805063897', '0849932017', '0316666343', '0804114986', '0553583441', '0060928336', '0385720920', '0679444815']\n",
      "251394 ['1583224939', '039592720X', '0440495962', '0399146911', '0380709546', '0312096704', '0763603074', '0831739711', '0912856238', '0553205714']\n",
      "164828 ['0425114511', '0373196318', '0446355453', '0671737554', '1551660202', '0373790945', '0553583905', '0821758438', '1551668041', '0373056311']\n",
      "109901 ['0671024183', '0446364193', '0553580221', '0140186417', '0061015725', '0451177096', '0451166582', '0345441036', '0671039725', '014017737X']\n",
      "49889 ['1888054557', '0316037451', '0425167801', '0449212661', '0152164561', '1590382129', '0425136221', '1564584682', '0440107040', '006441034X']\n",
      "48025 ['0451188454', '0786011343', '0786889608', '080411935X', '0451202244', '0553297260', '0451200101', '0553284118', '0451204123', '0425047075']\n",
      "216444 ['0449125092', '0394718534', '0874776945', '0876120796', '0836279255', '0449911802', '067153226X', '0445031522', '0352315202', '0752853694']\n",
      "194600 ['0140374248', '0385336810', '1400061598', '0399145079', '0064472272', '0316969443', '0670894184', '0061091618', '0553272837', '0312926863']\n",
      "193898 ['0671525743', '0425152898', '0553089218', '0345413881', '0671047515', '0446605573', '0812532147', '0394485823', '0553572199', '0385316585']\n",
      "141902 ['074322535X', '0451208315', '0684854848', '0425169863', '0553562916', '0060527048', '1593280009', '006098712X', '0310281512', '0312313829']\n",
      "93363 ['0764226312', '0310228638', '0020442300', '038070613X', '0842382895', '1576734528', '1586606972', '0802461840', '1565075331', '0688109764']\n"
     ]
    }
   ],
   "source": [
    "# Print the top 10 recommended items for each user\n",
    "for uid, user_ratings in top_n.items():\n",
    "    print(uid, [iid for (iid, _) in user_ratings])"
   ]
  },
  {
   "cell_type": "code",
   "execution_count": null,
   "metadata": {},
   "outputs": [],
   "source": []
  }
 ],
 "metadata": {
  "colab": {
   "name": "Updated - Collaborative Filtering based Recommendation System_Questios.ipynb",
   "provenance": []
  },
  "kernelspec": {
   "display_name": "Python 3",
   "language": "python",
   "name": "python3"
  },
  "language_info": {
   "codemirror_mode": {
    "name": "ipython",
    "version": 3
   },
   "file_extension": ".py",
   "mimetype": "text/x-python",
   "name": "python",
   "nbconvert_exporter": "python",
   "pygments_lexer": "ipython3",
   "version": "3.7.3"
  }
 },
 "nbformat": 4,
 "nbformat_minor": 1
}
