{
 "cells": [
  {
   "cell_type": "code",
   "execution_count": 2,
   "metadata": {},
   "outputs": [],
   "source": [
    "import pandas as pd\n",
    "from sklearn.tree import DecisionTreeClassifier\n",
    "\n",
    "#importing seaborn for statistical plots\n",
    "import seaborn as sns\n",
    "\n",
    "#Let us break the X and y dataframes into training set and test set. For this we will use\n",
    "#Sklearn package's data splitting function which is based on random function\n",
    "\n",
    "from sklearn.model_selection import train_test_split\n",
    "\n",
    "import numpy as np\n",
    "\n",
    "from sklearn.model_selection import StratifiedKFold\n",
    "kfold = StratifiedKFold(n_splits=10)\n",
    "from sklearn.ensemble import RandomForestClassifier, AdaBoostClassifier, GradientBoostingClassifier, ExtraTreesClassifier, VotingClassifier\n",
    "from sklearn.discriminant_analysis import LinearDiscriminantAnalysis\n",
    "from sklearn.linear_model import LogisticRegression\n",
    "from sklearn.neighbors import KNeighborsClassifier\n",
    "from sklearn.tree import DecisionTreeClassifier\n",
    "from sklearn.neural_network import MLPClassifier\n",
    "from sklearn.svm import SVC\n",
    "from sklearn.model_selection import GridSearchCV, cross_val_score, StratifiedKFold, learning_curve\n",
    "\n"
   ]
  },
  {
   "cell_type": "code",
   "execution_count": 3,
   "metadata": {},
   "outputs": [
    {
     "name": "stdout",
     "output_type": "stream",
     "text": [
      "<class 'pandas.core.frame.DataFrame'>\n",
      "RangeIndex: 149087 entries, 0 to 149086\n",
      "Data columns (total 21 columns):\n",
      "Sno                        149087 non-null int64\n",
      "Year Type                  149087 non-null object\n",
      "Year                       149087 non-null int64\n",
      "Organization Group Code    149087 non-null int64\n",
      "Organization Group         149087 non-null object\n",
      "Department Code            149087 non-null object\n",
      "Department                 149087 non-null object\n",
      "Union Code                 149087 non-null int64\n",
      "Union                      149087 non-null object\n",
      "Job Family Code            149087 non-null object\n",
      "Job Family                 149087 non-null object\n",
      "Job Code                   149087 non-null object\n",
      "Job                        149087 non-null object\n",
      "Employee Identifier        149087 non-null int64\n",
      "Overtime                   149087 non-null float64\n",
      "Other Salaries             149087 non-null float64\n",
      "Retirement                 149087 non-null float64\n",
      "Health/Dental              149087 non-null float64\n",
      "Other Benefits             149087 non-null float64\n",
      "Total Benefits             149087 non-null float64\n",
      "Class                      149087 non-null int64\n",
      "dtypes: float64(6), int64(6), object(9)\n",
      "memory usage: 23.9+ MB\n"
     ]
    },
    {
     "data": {
      "text/html": [
       "<div>\n",
       "<style scoped>\n",
       "    .dataframe tbody tr th:only-of-type {\n",
       "        vertical-align: middle;\n",
       "    }\n",
       "\n",
       "    .dataframe tbody tr th {\n",
       "        vertical-align: top;\n",
       "    }\n",
       "\n",
       "    .dataframe thead th {\n",
       "        text-align: right;\n",
       "    }\n",
       "</style>\n",
       "<table border=\"1\" class=\"dataframe\">\n",
       "  <thead>\n",
       "    <tr style=\"text-align: right;\">\n",
       "      <th></th>\n",
       "      <th>Overtime</th>\n",
       "      <th>Other Salaries</th>\n",
       "      <th>Retirement</th>\n",
       "      <th>Health/Dental</th>\n",
       "      <th>Other Benefits</th>\n",
       "      <th>Total Benefits</th>\n",
       "      <th>Class</th>\n",
       "    </tr>\n",
       "  </thead>\n",
       "  <tbody>\n",
       "    <tr>\n",
       "      <th>Overtime</th>\n",
       "      <td>1.000000</td>\n",
       "      <td>0.368041</td>\n",
       "      <td>0.313931</td>\n",
       "      <td>0.308069</td>\n",
       "      <td>0.060498</td>\n",
       "      <td>0.285220</td>\n",
       "      <td>0.288237</td>\n",
       "    </tr>\n",
       "    <tr>\n",
       "      <th>Other Salaries</th>\n",
       "      <td>0.368041</td>\n",
       "      <td>1.000000</td>\n",
       "      <td>0.357653</td>\n",
       "      <td>0.223485</td>\n",
       "      <td>0.056922</td>\n",
       "      <td>0.284282</td>\n",
       "      <td>0.324970</td>\n",
       "    </tr>\n",
       "    <tr>\n",
       "      <th>Retirement</th>\n",
       "      <td>0.313931</td>\n",
       "      <td>0.357653</td>\n",
       "      <td>1.000000</td>\n",
       "      <td>0.786713</td>\n",
       "      <td>0.670874</td>\n",
       "      <td>0.962223</td>\n",
       "      <td>0.872534</td>\n",
       "    </tr>\n",
       "    <tr>\n",
       "      <th>Health/Dental</th>\n",
       "      <td>0.308069</td>\n",
       "      <td>0.223485</td>\n",
       "      <td>0.786713</td>\n",
       "      <td>1.000000</td>\n",
       "      <td>0.604511</td>\n",
       "      <td>0.888058</td>\n",
       "      <td>0.797306</td>\n",
       "    </tr>\n",
       "    <tr>\n",
       "      <th>Other Benefits</th>\n",
       "      <td>0.060498</td>\n",
       "      <td>0.056922</td>\n",
       "      <td>0.670874</td>\n",
       "      <td>0.604511</td>\n",
       "      <td>1.000000</td>\n",
       "      <td>0.796525</td>\n",
       "      <td>0.656445</td>\n",
       "    </tr>\n",
       "    <tr>\n",
       "      <th>Total Benefits</th>\n",
       "      <td>0.285220</td>\n",
       "      <td>0.284282</td>\n",
       "      <td>0.962223</td>\n",
       "      <td>0.888058</td>\n",
       "      <td>0.796525</td>\n",
       "      <td>1.000000</td>\n",
       "      <td>0.889072</td>\n",
       "    </tr>\n",
       "    <tr>\n",
       "      <th>Class</th>\n",
       "      <td>0.288237</td>\n",
       "      <td>0.324970</td>\n",
       "      <td>0.872534</td>\n",
       "      <td>0.797306</td>\n",
       "      <td>0.656445</td>\n",
       "      <td>0.889072</td>\n",
       "      <td>1.000000</td>\n",
       "    </tr>\n",
       "  </tbody>\n",
       "</table>\n",
       "</div>"
      ],
      "text/plain": [
       "                Overtime  Other Salaries  Retirement  Health/Dental  \\\n",
       "Overtime        1.000000        0.368041    0.313931       0.308069   \n",
       "Other Salaries  0.368041        1.000000    0.357653       0.223485   \n",
       "Retirement      0.313931        0.357653    1.000000       0.786713   \n",
       "Health/Dental   0.308069        0.223485    0.786713       1.000000   \n",
       "Other Benefits  0.060498        0.056922    0.670874       0.604511   \n",
       "Total Benefits  0.285220        0.284282    0.962223       0.888058   \n",
       "Class           0.288237        0.324970    0.872534       0.797306   \n",
       "\n",
       "                Other Benefits  Total Benefits     Class  \n",
       "Overtime              0.060498        0.285220  0.288237  \n",
       "Other Salaries        0.056922        0.284282  0.324970  \n",
       "Retirement            0.670874        0.962223  0.872534  \n",
       "Health/Dental         0.604511        0.888058  0.797306  \n",
       "Other Benefits        1.000000        0.796525  0.656445  \n",
       "Total Benefits        0.796525        1.000000  0.889072  \n",
       "Class                 0.656445        0.889072  1.000000  "
      ]
     },
     "execution_count": 3,
     "metadata": {},
     "output_type": "execute_result"
    }
   ],
   "source": [
    "df_train = pd.read_csv('train.csv')\n",
    "df_test = pd.read_csv('test.csv')\n",
    "\n",
    "df_train.columns\n",
    "df_train.info()\n",
    "df_train.isnull().sum()\n",
    "df_train.drop('Year Type',axis = 1,inplace=True)\n",
    "df_train.drop('Sno',axis =1,inplace=True)\n",
    "df_train.drop(df_train.columns[[0,4,6,8,10]], axis=1,inplace=True)\n",
    "df_test.drop('Year Type',axis = 1,inplace=True)\n",
    "df_test.drop('Sno',axis =1,inplace=True)\n",
    "df_test.columns\n",
    "df_test.drop(df_test.columns[[0,1,2,3,4,5,6,7,8,9,10,11]], axis=1,inplace=True)\n",
    "df_test.columns\n",
    "(df_train == 0).sum(axis=0)\n",
    "df_train.corr()\n",
    "df_train.columns\n",
    "ls = ['Overtime','Other Salaries','Retirement','Health/Dental','Other Benefits','Total Benefits']\n",
    "for j in ls:\n",
    "    df_train[j].where(df_train[j] >=0,other=np.nan, inplace=True)\n",
    "        \n",
    "(df_train.loc[:,('Overtime','Other Salaries','Retirement','Health/Dental','Other Benefits','Total Benefits')]<0).sum(axis=0)\n",
    "df_train.dropna(inplace=True)\n",
    "df_train.isnull().sum()\n",
    "df_train.drop(df_train.columns[[0,1,2,3,4,5,6]], axis=1,inplace=True)\n",
    "df_train.columns\n",
    "df_test.columns\n",
    "df_train.corr()\n"
   ]
  },
  {
   "cell_type": "code",
   "execution_count": 8,
   "metadata": {},
   "outputs": [],
   "source": [
    "from sklearn.model_selection import train_test_split\n",
    "X = df_train.drop('Class',axis=1)\n",
    "y = df_train['Class']\n",
    "\n",
    "x_train, x_test, y_train, y_test = train_test_split(X, y, test_size=0.2)"
   ]
  },
  {
   "cell_type": "code",
   "execution_count": 34,
   "metadata": {},
   "outputs": [
    {
     "data": {
      "text/plain": [
       "DecisionTreeClassifier(class_weight=None, criterion='gini', max_depth=5,\n",
       "                       max_features=None, max_leaf_nodes=None,\n",
       "                       min_impurity_decrease=0.0, min_impurity_split=None,\n",
       "                       min_samples_leaf=1, min_samples_split=2,\n",
       "                       min_weight_fraction_leaf=0.0, presort=False,\n",
       "                       random_state=100, splitter='best')"
      ]
     },
     "execution_count": 34,
     "metadata": {},
     "output_type": "execute_result"
    }
   ],
   "source": [
    "# invoking the decision tree classifier function. Using 'entropy' method of finding the split columns. Other option \n",
    "# could be gini index.  Restricting the depth of the tree to 5 (no particular reason for selecting this)\n",
    "\n",
    "dt_model = GradientBoostingClassifier(criterion = 'gini' , max_depth = 5, random_state = 100)\n",
    "                                  \n",
    "#dt_model = DecisionTreeClassifier(criterion = 'entropy' )\n",
    "dt_model.fit(x_train, y_train)"
   ]
  },
  {
   "cell_type": "code",
   "execution_count": 35,
   "metadata": {},
   "outputs": [
    {
     "data": {
      "text/plain": [
       "0.935086360728595"
      ]
     },
     "execution_count": 35,
     "metadata": {},
     "output_type": "execute_result"
    }
   ],
   "source": [
    "dt_model.score(x_test , y_test)"
   ]
  },
  {
   "cell_type": "code",
   "execution_count": 36,
   "metadata": {},
   "outputs": [],
   "source": [
    "y_predict = dt_model.predict(df_test)"
   ]
  },
  {
   "cell_type": "code",
   "execution_count": 37,
   "metadata": {},
   "outputs": [
    {
     "data": {
      "text/plain": [
       "63895"
      ]
     },
     "execution_count": 37,
     "metadata": {},
     "output_type": "execute_result"
    }
   ],
   "source": [
    "len(y_predict)"
   ]
  },
  {
   "cell_type": "code",
   "execution_count": 38,
   "metadata": {},
   "outputs": [],
   "source": [
    "dtest = pd.read_csv('test.csv')\n",
    "dfinal =dtest['Sno']"
   ]
  },
  {
   "cell_type": "code",
   "execution_count": 39,
   "metadata": {},
   "outputs": [],
   "source": [
    "results = pd.DataFrame()\n",
    "results['Sno']=dtest['Sno']\n",
    "results['Class']=y_predict\n",
    "results.to_csv(\"C:\\\\Users\\\\sande\\\\desktop\\\\results.csv\",index=False)"
   ]
  },
  {
   "cell_type": "code",
   "execution_count": null,
   "metadata": {},
   "outputs": [],
   "source": []
  }
 ],
 "metadata": {
  "kernelspec": {
   "display_name": "Python 3",
   "language": "python",
   "name": "python3"
  },
  "language_info": {
   "codemirror_mode": {
    "name": "ipython",
    "version": 3
   },
   "file_extension": ".py",
   "mimetype": "text/x-python",
   "name": "python",
   "nbconvert_exporter": "python",
   "pygments_lexer": "ipython3",
   "version": "3.7.3"
  }
 },
 "nbformat": 4,
 "nbformat_minor": 2
}
