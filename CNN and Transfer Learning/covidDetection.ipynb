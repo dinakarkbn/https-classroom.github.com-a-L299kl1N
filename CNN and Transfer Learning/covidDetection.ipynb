{
  "nbformat": 4,
  "nbformat_minor": 0,
  "metadata": {
    "colab": {
      "name": "covidDetection.ipynb",
      "provenance": [],
      "collapsed_sections": []
    },
    "kernelspec": {
      "display_name": "Python 3",
      "language": "python",
      "name": "python3"
    },
    "language_info": {
      "codemirror_mode": {
        "name": "ipython",
        "version": 3
      },
      "file_extension": ".py",
      "mimetype": "text/x-python",
      "name": "python",
      "nbconvert_exporter": "python",
      "pygments_lexer": "ipython3",
      "version": "3.7.3"
    }
  },
  "cells": [
    {
      "cell_type": "code",
      "metadata": {
        "colab_type": "code",
        "id": "h5OQ9yl_um_T",
        "colab": {}
      },
      "source": [
        "import tensorflow as tf\n",
        "import numpy as np\n",
        "from tensorflow.keras.layers import Dense, Flatten, Input\n",
        "from tensorflow.keras.preprocessing.image import ImageDataGenerator\n",
        "from sklearn.metrics import confusion_matrix\n",
        "from tensorflow.keras import layers\n",
        "from os import listdir"
      ],
      "execution_count": 4,
      "outputs": []
    },
    {
      "cell_type": "code",
      "metadata": {
        "colab_type": "code",
        "id": "JHj4ZiHPvWlF",
        "colab": {
          "base_uri": "https://localhost:8080/",
          "height": 122
        },
        "outputId": "3c4e1453-8c59-4fbf-b630-2cb07535618d"
      },
      "source": [
        "from google.colab import drive\n",
        "drive.mount('/content/drive')"
      ],
      "execution_count": 2,
      "outputs": [
        {
          "output_type": "stream",
          "text": [
            "Go to this URL in a browser: https://accounts.google.com/o/oauth2/auth?client_id=947318989803-6bn6qk8qdgf4n4g3pfee6491hc0brc4i.apps.googleusercontent.com&redirect_uri=urn%3aietf%3awg%3aoauth%3a2.0%3aoob&response_type=code&scope=email%20https%3a%2f%2fwww.googleapis.com%2fauth%2fdocs.test%20https%3a%2f%2fwww.googleapis.com%2fauth%2fdrive%20https%3a%2f%2fwww.googleapis.com%2fauth%2fdrive.photos.readonly%20https%3a%2f%2fwww.googleapis.com%2fauth%2fpeopleapi.readonly\n",
            "\n",
            "Enter your authorization code:\n",
            "··········\n",
            "Mounted at /content/drive\n"
          ],
          "name": "stdout"
        }
      ]
    },
    {
      "cell_type": "code",
      "metadata": {
        "id": "ODoKaFU4Hlrx",
        "colab_type": "code",
        "colab": {
          "base_uri": "https://localhost:8080/",
          "height": 102
        },
        "outputId": "bd6f76d1-c319-496d-efbd-19e71562eb1d"
      },
      "source": [
        "os.listdir('/content/drive/My Drive/AIML/Chest_X-Ray_Images_Pneumonia_Detection/covidDetection/')"
      ],
      "execution_count": 8,
      "outputs": [
        {
          "output_type": "execute_result",
          "data": {
            "text/plain": [
              "['covidDetection.ipynb',\n",
              " 'covidDetection.py',\n",
              " 'test',\n",
              " '.ipynb_checkpoints',\n",
              " 'train']"
            ]
          },
          "metadata": {
            "tags": []
          },
          "execution_count": 8
        }
      ]
    },
    {
      "cell_type": "code",
      "metadata": {
        "colab_type": "code",
        "id": "M1nJf43MwQKl",
        "colab": {
          "base_uri": "https://localhost:8080/",
          "height": 34
        },
        "outputId": "23b89cb2-5a4a-4721-f100-fffc41028dca"
      },
      "source": [
        "data_list_model2c = listdir('/content/drive/My Drive/AIML/Chest_X-Ray_Images_Pneumonia_Detection/covidDetection/train')\n",
        "data_list_model2c"
      ],
      "execution_count": 10,
      "outputs": [
        {
          "output_type": "execute_result",
          "data": {
            "text/plain": [
              "['bacterial_viral', 'COVID']"
            ]
          },
          "metadata": {
            "tags": []
          },
          "execution_count": 10
        }
      ]
    },
    {
      "cell_type": "code",
      "metadata": {
        "colab_type": "code",
        "id": "sV3BEFSLvWnI",
        "colab": {}
      },
      "source": [
        "DATASET_PATH_model2c  = '/content/drive/My Drive/AIML/Chest_X-Ray_Images_Pneumonia_Detection/covidDetection/'\n",
        "train_dir_model2c =  '/content/drive/My Drive/AIML/Chest_X-Ray_Images_Pneumonia_Detection/covidDetection/train'\n",
        "test_dir_model2c =  '/content/drive/My Drive/AIML/Chest_X-Ray_Images_Pneumonia_Detection/covidDetection/test'"
      ],
      "execution_count": 25,
      "outputs": []
    },
    {
      "cell_type": "code",
      "metadata": {
        "id": "20KaTQetPmnI",
        "colab_type": "code",
        "colab": {
          "base_uri": "https://localhost:8080/",
          "height": 34
        },
        "outputId": "fd2f6cd1-6a37-42e9-b6c4-87ef945bd1f9"
      },
      "source": [
        "os.listdir(train_dir_model2c)"
      ],
      "execution_count": 29,
      "outputs": [
        {
          "output_type": "execute_result",
          "data": {
            "text/plain": [
              "['bacterial_viral', 'COVID']"
            ]
          },
          "metadata": {
            "tags": []
          },
          "execution_count": 29
        }
      ]
    },
    {
      "cell_type": "code",
      "metadata": {
        "colab_type": "code",
        "id": "cY0ue_aBvWri",
        "colab": {}
      },
      "source": [
        "IMAGE_SIZE    = (150, 150)\n",
        "NUM_CLASSES   = len(data_list_model2c)\n",
        "BATCH_SIZE    = 10  # try reducing batch size or freeze more layers if your GPU runs out of memory\n",
        "NUM_EPOCHS    = 100\n",
        "LEARNING_RATE = 0.0001"
      ],
      "execution_count": 64,
      "outputs": []
    },
    {
      "cell_type": "code",
      "metadata": {
        "colab_type": "code",
        "id": "xd8puxfgvWtf",
        "colab": {}
      },
      "source": [
        "#Train datagen is used for Image preprocessor\n",
        "train_datagen = ImageDataGenerator(rescale=1./255,\n",
        "                                   rotation_range=50,\n",
        "                                   #featurewise_center = True,\n",
        "                                   width_shift_range=0.2,\n",
        "                                   height_shift_range=0.2,\n",
        "                                   shear_range=0.25,\n",
        "                                   zoom_range=0.1,\n",
        "                                   #zca_whitening = True,\n",
        "                                   channel_shift_range = 20,\n",
        "                                   horizontal_flip = True ,\n",
        "                                   #vertical_flip = True ,\n",
        "                                   fill_mode='constant' )\n",
        "\n",
        "validation_datagen = ImageDataGenerator(rescale=1./255)"
      ],
      "execution_count": 65,
      "outputs": []
    },
    {
      "cell_type": "code",
      "metadata": {
        "colab_type": "code",
        "id": "6mefzko8vW2T",
        "colab": {
          "base_uri": "https://localhost:8080/",
          "height": 34
        },
        "outputId": "6e3e27b3-1b5b-47e3-e3d6-80cfffec9f80"
      },
      "source": [
        "train_batches = train_datagen.flow_from_directory(train_dir_model2c,\n",
        "                                                  target_size=IMAGE_SIZE,\n",
        "                                                  shuffle=True,\n",
        "                                                  batch_size=BATCH_SIZE,\n",
        "                                                  subset = \"training\",\n",
        "                                                  seed=42,\n",
        "                                                  class_mode=\"categorical\",)"
      ],
      "execution_count": 66,
      "outputs": [
        {
          "output_type": "stream",
          "text": [
            "Found 175 images belonging to 2 classes.\n"
          ],
          "name": "stdout"
        }
      ]
    },
    {
      "cell_type": "code",
      "metadata": {
        "colab_type": "code",
        "id": "bfZI37B0xiHV",
        "colab": {
          "base_uri": "https://localhost:8080/",
          "height": 34
        },
        "outputId": "cb8f4352-971b-48f0-c4ae-bc579489bd0c"
      },
      "source": [
        "valid_batches = validation_datagen.flow_from_directory(test_dir_model2c,\n",
        "                                                  target_size=IMAGE_SIZE,\n",
        "                                                  shuffle=True,\n",
        "                                                  batch_size=BATCH_SIZE,\n",
        "                                                  subset = \"validation\",\n",
        "                                                  seed=42,\n",
        "                                                  class_mode=\"categorical\",)"
      ],
      "execution_count": 70,
      "outputs": [
        {
          "output_type": "stream",
          "text": [
            "Found 0 images belonging to 2 classes.\n"
          ],
          "name": "stdout"
        }
      ]
    },
    {
      "cell_type": "code",
      "metadata": {
        "id": "ndCG2ZcRUTqq",
        "colab_type": "code",
        "colab": {
          "base_uri": "https://localhost:8080/",
          "height": 51
        },
        "outputId": "b67df9ba-4cf1-49a5-f9c3-af4340bbdd68"
      },
      "source": [
        "valid_batches.next()"
      ],
      "execution_count": 71,
      "outputs": [
        {
          "output_type": "execute_result",
          "data": {
            "text/plain": [
              "(array([], shape=(0, 150, 150, 3), dtype=float32),\n",
              " array([], shape=(0, 2), dtype=float32))"
            ]
          },
          "metadata": {
            "tags": []
          },
          "execution_count": 71
        }
      ]
    },
    {
      "cell_type": "code",
      "metadata": {
        "colab_type": "code",
        "id": "X_QRSCrJxmMd",
        "colab": {
          "base_uri": "https://localhost:8080/",
          "height": 51
        },
        "outputId": "ee01996f-8a5d-4d48-f708-077b11a35d42"
      },
      "source": [
        "vgg16_model = tf.keras.applications.vgg16.VGG16(weights='imagenet', include_top=False, input_tensor=Input(shape=(150,150,3)))"
      ],
      "execution_count": 72,
      "outputs": [
        {
          "output_type": "stream",
          "text": [
            "Downloading data from https://storage.googleapis.com/tensorflow/keras-applications/vgg16/vgg16_weights_tf_dim_ordering_tf_kernels_notop.h5\n",
            "58892288/58889256 [==============================] - 2s 0us/step\n"
          ],
          "name": "stdout"
        }
      ]
    },
    {
      "cell_type": "code",
      "metadata": {
        "colab_type": "code",
        "id": "gygTn7brxmRg",
        "colab": {}
      },
      "source": [
        "for layer in vgg16_model.layers[:-4]:\n",
        "    layer.trainable = False\n",
        "model2c = tf.keras.Sequential()\n",
        "model2c.add(vgg16_model)\n",
        "model2c.add(Flatten())\n",
        "model2c.add(Dense(64, activation='relu'))\n",
        "model2c.add(layers.Dense(2, activation='softmax'))"
      ],
      "execution_count": 73,
      "outputs": []
    },
    {
      "cell_type": "code",
      "metadata": {
        "colab_type": "code",
        "id": "tlawRR9KxmTd",
        "colab": {}
      },
      "source": [
        "model2c.compile(loss='categorical_crossentropy', optimizer=tf.keras.optimizers.Adam(lr=LEARNING_RATE), metrics=['accuracy'])"
      ],
      "execution_count": 74,
      "outputs": []
    },
    {
      "cell_type": "code",
      "metadata": {
        "colab_type": "code",
        "id": "0eN26bkexmYC",
        "colab": {}
      },
      "source": [
        "STEP_SIZE_TRAIN=train_batches.n//train_batches.batch_size\n",
        "STEP_SIZE_VALID=valid_batches.n//valid_batches.batch_size"
      ],
      "execution_count": 75,
      "outputs": []
    },
    {
      "cell_type": "code",
      "metadata": {
        "colab_type": "code",
        "id": "T-PV5Z_txmZx",
        "colab": {
          "base_uri": "https://localhost:8080/",
          "height": 275
        },
        "outputId": "9ff86ef2-dc61-475e-a6ed-bc5054cc6ccc"
      },
      "source": [
        "model2c.fit_generator(train_batches, steps_per_epoch =STEP_SIZE_TRAIN, epochs= 5, verbose=True)"
      ],
      "execution_count": 76,
      "outputs": [
        {
          "output_type": "stream",
          "text": [
            "WARNING:tensorflow:From <ipython-input-76-1eb32e3b8043>:1: Model.fit_generator (from tensorflow.python.keras.engine.training) is deprecated and will be removed in a future version.\n",
            "Instructions for updating:\n",
            "Please use Model.fit, which supports generators.\n",
            "Epoch 1/5\n",
            "17/17 [==============================] - 85s 5s/step - loss: 0.5124 - accuracy: 0.7333\n",
            "Epoch 2/5\n",
            "17/17 [==============================] - 43s 3s/step - loss: 0.2716 - accuracy: 0.8848\n",
            "Epoch 3/5\n",
            "17/17 [==============================] - 43s 3s/step - loss: 0.2795 - accuracy: 0.9030\n",
            "Epoch 4/5\n",
            "17/17 [==============================] - 44s 3s/step - loss: 0.0982 - accuracy: 0.9636\n",
            "Epoch 5/5\n",
            "17/17 [==============================] - 43s 3s/step - loss: 0.0643 - accuracy: 0.9879\n"
          ],
          "name": "stdout"
        },
        {
          "output_type": "execute_result",
          "data": {
            "text/plain": [
              "<tensorflow.python.keras.callbacks.History at 0x7f3a9c0a2da0>"
            ]
          },
          "metadata": {
            "tags": []
          },
          "execution_count": 76
        }
      ]
    },
    {
      "cell_type": "code",
      "metadata": {
        "colab_type": "code",
        "id": "L69MN9D-xmet",
        "colab": {
          "base_uri": "https://localhost:8080/",
          "height": 224
        },
        "outputId": "bfd1f40c-a520-4705-d5c8-fdefe90d65b4"
      },
      "source": [
        "Train_DataGeneration = ImageDataGenerator(rescale=1. / 255)\n",
        "TrainBatch = Train_DataGeneration.flow_from_directory(train_dir_model2c, target_size=IMAGE_SIZE, batch_size=1, shuffle=False, seed=42, class_mode=\"categorical\")\n",
        "\n",
        "TrainBatch.reset()\n",
        "trainResult = model2c.evaluate_generator(TrainBatch, steps = len(TrainBatch), use_multiprocessing = False, verbose = 1, workers=1)\n",
        "print('Train loss:' , trainResult[0], 'Train accuracy: ', trainResult[1])\n",
        "\n",
        "prediction = model2c.predict_generator(TrainBatch, steps = len(TrainBatch))\n",
        "Predicted_class = np.argmax(prediction, axis=1)\n",
        "\n",
        "print(confusion_matrix(TrainBatch.classes, Predicted_class))"
      ],
      "execution_count": 77,
      "outputs": [
        {
          "output_type": "stream",
          "text": [
            "Found 175 images belonging to 2 classes.\n",
            "WARNING:tensorflow:From <ipython-input-77-c371eaeeff77>:5: Model.evaluate_generator (from tensorflow.python.keras.engine.training) is deprecated and will be removed in a future version.\n",
            "Instructions for updating:\n",
            "Please use Model.evaluate, which supports generators.\n",
            "175/175 [==============================] - 43s 247ms/step - loss: 0.1741 - accuracy: 0.9314\n",
            "Train loss: 0.17405760288238525 Train accuracy:  0.9314285516738892\n",
            "WARNING:tensorflow:From <ipython-input-77-c371eaeeff77>:8: Model.predict_generator (from tensorflow.python.keras.engine.training) is deprecated and will be removed in a future version.\n",
            "Instructions for updating:\n",
            "Please use Model.predict, which supports generators.\n",
            "[[ 63  12]\n",
            " [  0 100]]\n"
          ],
          "name": "stdout"
        }
      ]
    },
    {
      "cell_type": "code",
      "metadata": {
        "colab_type": "code",
        "id": "W2nU9iAzxmLM",
        "colab": {
          "base_uri": "https://localhost:8080/",
          "height": 102
        },
        "outputId": "8eff7d6b-eeab-4c42-8ee4-4ba6bc3756d6"
      },
      "source": [
        "## Test accuracy\n",
        "Test_DataGeneration = ImageDataGenerator(rescale=1. / 255)\n",
        "TestingBatch = Test_DataGeneration.flow_from_directory(test_dir_model2c, target_size=IMAGE_SIZE, batch_size=1, shuffle=False, seed=42, class_mode=\"categorical\")\n",
        "\n",
        "TestingBatch.reset()\n",
        "testResult = model2c.evaluate_generator(TestingBatch, steps = len(TestingBatch), use_multiprocessing = False, verbose = 1, workers=1)\n",
        "print('Test loss:' , testResult[0], 'Test accuracy: ', testResult[1])\n",
        "\n",
        "prediction = model2c.predict_generator(TestingBatch, steps = len(TestingBatch))\n",
        "Predicted_class = np.argmax(prediction, axis=1)\n",
        "\n",
        "print(confusion_matrix(TestingBatch.classes, Predicted_class))"
      ],
      "execution_count": 78,
      "outputs": [
        {
          "output_type": "stream",
          "text": [
            "Found 50 images belonging to 2 classes.\n",
            "50/50 [==============================] - 31s 620ms/step - loss: 0.5001 - accuracy: 0.8400\n",
            "Test loss: 0.5001272559165955 Test accuracy:  0.8399999737739563\n",
            "[[17  8]\n",
            " [ 0 25]]\n"
          ],
          "name": "stdout"
        }
      ]
    },
    {
      "cell_type": "code",
      "metadata": {
        "id": "eIK5E-aZcRjg",
        "colab_type": "code",
        "colab": {}
      },
      "source": [
        ""
      ],
      "execution_count": null,
      "outputs": []
    }
  ]
}