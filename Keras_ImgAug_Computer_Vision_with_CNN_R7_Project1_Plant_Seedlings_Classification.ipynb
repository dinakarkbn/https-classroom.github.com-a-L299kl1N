{
 "cells": [
  {
   "cell_type": "markdown",
   "metadata": {
    "colab_type": "text",
    "id": "24CRfVepJxji"
   },
   "source": [
    "# Computer Vision with Convolutional Neural Networks : CNN_R7_Project 1"
   ]
  },
  {
   "cell_type": "markdown",
   "metadata": {
    "colab_type": "text",
    "id": "sicjDTBdJxjl"
   },
   "source": [
    "# Plant Seedlings Classification"
   ]
  },
  {
   "cell_type": "markdown",
   "metadata": {
    "colab_type": "text",
    "id": "SCBjT74MJxj8"
   },
   "source": [
    "### Problem Statement :\n",
    "### Create a classifier capable of determining a plant's species from a photo using Convolutional Neural Networks"
   ]
  },
  {
   "cell_type": "markdown",
   "metadata": {
    "colab_type": "text",
    "id": "9hcDJjv9Jxj9"
   },
   "source": [
    "### About the Data:"
   ]
  },
  {
   "cell_type": "markdown",
   "metadata": {
    "colab_type": "text",
    "id": "IaLborL_Jxj-"
   },
   "source": [
    "- **Objective:**\n",
    "\n",
    "Can you differentiate a weed from a crop seedling? Given an image\n",
    "differentiate between different plant types.\n",
    "\n",
    "This dataset gives you an opportunity to experiment with different image\n",
    "recognition techniques, as well to provide a place to cross-pollenate ideas.\n",
    "\n",
    "- **Context:**\n",
    "\n",
    "Can you differentiate a weed from a crop seedling?\n",
    "\n",
    "The ability to do so effectively can mean better crop yields and better stewardship of the environment.\n",
    "\n",
    "The Aarhus University Signal Processing group, in collaboration with University of Southern Denmark, has recently released a dataset containing images of approximately 960 unique plants belonging to 12 species at several growth stages.\n",
    "\n",
    "- **Data Description:**\n",
    "\n",
    "You are provided with a training set and a test set of images of plant\n",
    "seedlings at various stages of grown. Each image has a filename that is its\n",
    "unique id. The dataset comprises 12 plant species. The goal of the\n",
    "competition is to create a classifier capable of determining a plant's\n",
    "species from a photo. The list of species is as follows:\n",
    "\n",
    " Black-grass\n",
    " Charlock\n",
    " Cleavers\n",
    " Common Chickweed\n",
    " Common wheat\n",
    " Fat Hen\n",
    " Loose Silky-bent\n",
    " Maize\n",
    " Scentless Mayweed\n",
    " Shepherds Purse\n",
    " Small-flowered Cranesbill\n",
    " Sugar beet"
   ]
  },
  {
   "cell_type": "markdown",
   "metadata": {
    "colab_type": "text",
    "id": "MHCHJj1aJxjm"
   },
   "source": [
    "### Set up the Environment - Install and load tensorflow and keras"
   ]
  },
  {
   "cell_type": "code",
   "execution_count": 0,
   "metadata": {
    "colab": {},
    "colab_type": "code",
    "id": "V0I8WkVaJxjn"
   },
   "outputs": [],
   "source": [
    "#Check if tensorFlow is already installed\n",
    "\n",
    "#!pip list"
   ]
  },
  {
   "cell_type": "code",
   "execution_count": 3,
   "metadata": {
    "colab": {
     "base_uri": "https://localhost:8080/",
     "height": 819
    },
    "colab_type": "code",
    "id": "UAdF5XRKJxjr",
    "outputId": "82ebbb84-ac86-439b-f032-cf4e2641105a"
   },
   "outputs": [
    {
     "name": "stdout",
     "output_type": "stream",
     "text": [
      "Collecting tf-nightly-gpu\n",
      "\u001b[?25l  Downloading https://files.pythonhosted.org/packages/ae/ea/c72188538a7fd65d58873f30918c66fe3aa33bcc1461ed88292f1374e1ea/tf_nightly_gpu-2.2.0.dev20200412-cp36-cp36m-manylinux2010_x86_64.whl (517.5MB)\n",
      "\u001b[K     |███████████████████████▎        | 377.1MB 1.3MB/s eta 0:01:48\u001b[31mERROR: Exception:\n",
      "Traceback (most recent call last):\n",
      "  File \"/usr/local/lib/python3.6/dist-packages/pip/_internal/cli/base_command.py\", line 153, in _main\n",
      "    status = self.run(options, args)\n",
      "  File \"/usr/local/lib/python3.6/dist-packages/pip/_internal/commands/install.py\", line 382, in run\n",
      "    resolver.resolve(requirement_set)\n",
      "  File \"/usr/local/lib/python3.6/dist-packages/pip/_internal/legacy_resolve.py\", line 201, in resolve\n",
      "    self._resolve_one(requirement_set, req)\n",
      "  File \"/usr/local/lib/python3.6/dist-packages/pip/_internal/legacy_resolve.py\", line 365, in _resolve_one\n",
      "    abstract_dist = self._get_abstract_dist_for(req_to_install)\n",
      "  File \"/usr/local/lib/python3.6/dist-packages/pip/_internal/legacy_resolve.py\", line 313, in _get_abstract_dist_for\n",
      "    req, self.session, self.finder, self.require_hashes\n",
      "  File \"/usr/local/lib/python3.6/dist-packages/pip/_internal/operations/prepare.py\", line 194, in prepare_linked_requirement\n",
      "    progress_bar=self.progress_bar\n",
      "  File \"/usr/local/lib/python3.6/dist-packages/pip/_internal/download.py\", line 465, in unpack_url\n",
      "    progress_bar=progress_bar\n",
      "  File \"/usr/local/lib/python3.6/dist-packages/pip/_internal/download.py\", line 316, in unpack_http_url\n",
      "    progress_bar)\n",
      "  File \"/usr/local/lib/python3.6/dist-packages/pip/_internal/download.py\", line 551, in _download_http_url\n",
      "    _download_url(resp, link, content_file, hashes, progress_bar)\n",
      "  File \"/usr/local/lib/python3.6/dist-packages/pip/_internal/download.py\", line 253, in _download_url\n",
      "    hashes.check_against_chunks(downloaded_chunks)\n",
      "  File \"/usr/local/lib/python3.6/dist-packages/pip/_internal/utils/hashes.py\", line 80, in check_against_chunks\n",
      "    for chunk in chunks:\n",
      "  File \"/usr/local/lib/python3.6/dist-packages/pip/_internal/download.py\", line 223, in written_chunks\n",
      "    for chunk in chunks:\n",
      "  File \"/usr/local/lib/python3.6/dist-packages/pip/_internal/utils/ui.py\", line 162, in iter\n",
      "    self.next(n)\n",
      "  File \"/usr/local/lib/python3.6/dist-packages/pip/_vendor/progress/__init__.py\", line 120, in next\n",
      "    self.update()\n",
      "  File \"/usr/local/lib/python3.6/dist-packages/pip/_vendor/progress/bar.py\", line 83, in update\n",
      "    self.writeln(line)\n",
      "  File \"/usr/local/lib/python3.6/dist-packages/pip/_vendor/progress/__init__.py\", line 101, in writeln\n",
      "    self.clearln()\n",
      "  File \"/usr/local/lib/python3.6/dist-packages/pip/_vendor/progress/__init__.py\", line 90, in clearln\n",
      "    print('\\r\\x1b[K', end='', file=self.file)\n",
      "  File \"/usr/local/lib/python3.6/dist-packages/pip/_internal/utils/ui.py\", line 118, in handle_sigint\n",
      "    self.finish()\n",
      "  File \"/usr/local/lib/python3.6/dist-packages/pip/_internal/utils/ui.py\", line 108, in finish\n",
      "    super(InterruptibleMixin, self).finish()\n",
      "  File \"/usr/local/lib/python3.6/dist-packages/pip/_vendor/progress/__init__.py\", line 107, in finish\n",
      "    print(file=self.file)\n",
      "RuntimeError: reentrant call inside <_io.BufferedWriter name='<stdout>'>\u001b[0m\n",
      "\u001b[K2.2.0-rc2\n"
     ]
    }
   ],
   "source": [
    "#Make sure we have the latest version tensorflow 2.x installed\n",
    "\n",
    "#!pip install -U tensorflow==2.0 --quiet\n",
    "!pip install tf-nightly-gpu\n",
    "try:\n",
    "  import tensorflow.compat.v2 as tf\n",
    "except Exception:\n",
    "  pass\n",
    "tf.enable_v2_behavior()\n",
    "print(tf.__version__)"
   ]
  },
  {
   "cell_type": "code",
   "execution_count": 4,
   "metadata": {
    "colab": {
     "base_uri": "https://localhost:8080/",
     "height": 68
    },
    "colab_type": "code",
    "id": "PX7m57T7Jxjv",
    "outputId": "057c117d-e5bd-47a2-9af2-308888abf7fa"
   },
   "outputs": [
    {
     "name": "stdout",
     "output_type": "stream",
     "text": [
      "Tensor Flow version :  2.2.0-rc2\n",
      "Keras version :  2.3.1\n"
     ]
    },
    {
     "name": "stderr",
     "output_type": "stream",
     "text": [
      "Using TensorFlow backend.\n"
     ]
    }
   ],
   "source": [
    "#Import tensorflow and check version\n",
    "\n",
    "import tensorflow as tf\n",
    "import keras\n",
    "print('Tensor Flow version : ', tf.__version__)\n",
    "print('Keras version : ', keras.__version__)"
   ]
  },
  {
   "cell_type": "code",
   "execution_count": 5,
   "metadata": {
    "colab": {
     "base_uri": "https://localhost:8080/",
     "height": 34
    },
    "colab_type": "code",
    "id": "R-6CxI6oJxj0",
    "outputId": "52ddd305-b607-47e7-edff-6772d6d1bacb"
   },
   "outputs": [
    {
     "data": {
      "text/plain": [
       "True"
      ]
     },
     "execution_count": 5,
     "metadata": {
      "tags": []
     },
     "output_type": "execute_result"
    }
   ],
   "source": [
    "#Using executing_eagerly() to execute and evaluate operations immediately, without building graphs\n",
    "\n",
    "tf.executing_eagerly()"
   ]
  },
  {
   "cell_type": "code",
   "execution_count": 6,
   "metadata": {
    "colab": {
     "base_uri": "https://localhost:8080/",
     "height": 122
    },
    "colab_type": "code",
    "id": "VdHNmXY_KS0b",
    "outputId": "eaf8a794-af7b-4a29-9551-2b3f36f5b98a"
   },
   "outputs": [
    {
     "name": "stdout",
     "output_type": "stream",
     "text": [
      "Go to this URL in a browser: https://accounts.google.com/o/oauth2/auth?client_id=947318989803-6bn6qk8qdgf4n4g3pfee6491hc0brc4i.apps.googleusercontent.com&redirect_uri=urn%3aietf%3awg%3aoauth%3a2.0%3aoob&response_type=code&scope=email%20https%3a%2f%2fwww.googleapis.com%2fauth%2fdocs.test%20https%3a%2f%2fwww.googleapis.com%2fauth%2fdrive%20https%3a%2f%2fwww.googleapis.com%2fauth%2fdrive.photos.readonly%20https%3a%2f%2fwww.googleapis.com%2fauth%2fpeopleapi.readonly\n",
      "\n",
      "Enter your authorization code:\n",
      "··········\n",
      "Mounted at /gdrive\n"
     ]
    }
   ],
   "source": [
    "from google.colab import drive\n",
    "drive.mount('/gdrive')"
   ]
  },
  {
   "cell_type": "markdown",
   "metadata": {
    "colab_type": "text",
    "id": "Pk5W-1vjJxj3"
   },
   "source": [
    "### Import required Python and Skikitlearn libraries"
   ]
  },
  {
   "cell_type": "code",
   "execution_count": 7,
   "metadata": {
    "colab": {
     "base_uri": "https://localhost:8080/",
     "height": 71
    },
    "colab_type": "code",
    "id": "tdCunfnYJxj4",
    "outputId": "76628df1-d8d1-431b-c5eb-d3d71ba3a41d"
   },
   "outputs": [
    {
     "name": "stderr",
     "output_type": "stream",
     "text": [
      "/usr/local/lib/python3.6/dist-packages/statsmodels/tools/_testing.py:19: FutureWarning: pandas.util.testing is deprecated. Use the functions in the public API at pandas.testing instead.\n",
      "  import pandas.util.testing as tm\n"
     ]
    }
   ],
   "source": [
    "import pandas as pd\n",
    "import numpy as np\n",
    "import os\n",
    "from zipfile import ZipFile\n",
    "import glob\n",
    "\n",
    "#import matplotlib and seaborn to plot images\n",
    "import matplotlib.pyplot as plt\n",
    "%matplotlib inline\n",
    "import seaborn as sns\n",
    "#Set default figure size\n",
    "#plt.rcParams['figure.figsize'] = (16.0, 4.0)\n",
    "\n",
    "from keras import Sequential, layers, activations, optimizers\n",
    "\n",
    "from sklearn.metrics import accuracy_score,f1_score,precision_score,recall_score,confusion_matrix,classification_report"
   ]
  },
  {
   "cell_type": "code",
   "execution_count": 8,
   "metadata": {
    "colab": {
     "base_uri": "https://localhost:8080/",
     "height": 34
    },
    "colab_type": "code",
    "id": "v3c-kEEOO95-",
    "outputId": "0f5dbd36-1a4f-4c29-90ec-286a1c62ffd5"
   },
   "outputs": [
    {
     "name": "stdout",
     "output_type": "stream",
     "text": [
      "Found GPU at: /device:GPU:0\n"
     ]
    }
   ],
   "source": [
    "%tensorflow_version 2.x\n",
    "import tensorflow as tf\n",
    "device_name = tf.test.gpu_device_name()\n",
    "if device_name != '/device:GPU:0':\n",
    "  raise SystemError('GPU device not found')\n",
    "print('Found GPU at: {}'.format(device_name))"
   ]
  },
  {
   "cell_type": "markdown",
   "metadata": {
    "colab_type": "text",
    "id": "gSDmryeQJxkB"
   },
   "source": [
    "##  Data fetching and understand the train/val/test splits"
   ]
  },
  {
   "cell_type": "code",
   "execution_count": 9,
   "metadata": {
    "colab": {
     "base_uri": "https://localhost:8080/",
     "height": 51
    },
    "colab_type": "code",
    "id": "Lz5g0kq_Bsam",
    "outputId": "8aff865d-2d1d-4b3c-f5eb-3b26b317e76e"
   },
   "outputs": [
    {
     "name": "stdout",
     "output_type": "stream",
     "text": [
      "total 4\n",
      "drwx------ 4 root root 4096 Apr 13 04:46 'My Drive'\n"
     ]
    }
   ],
   "source": [
    "#!ls -l '/gdrive/My Drive/AIML/Computer Vision with CNN-Project-1_R7'\n",
    "!ls -l '/gdrive/'"
   ]
  },
  {
   "cell_type": "code",
   "execution_count": 0,
   "metadata": {
    "colab": {},
    "colab_type": "code",
    "id": "-63usvArCEM5"
   },
   "outputs": [],
   "source": [
    "#!rm -rf '/gdrive/My Drive/AIML/Computer Vision with CNN-Project-1_R7/test'"
   ]
  },
  {
   "cell_type": "code",
   "execution_count": 0,
   "metadata": {
    "colab": {},
    "colab_type": "code",
    "id": "MuvZXGUDfYpE"
   },
   "outputs": [],
   "source": [
    "#BASE_PATH = '/gdrive/My Drive/AIML/Computer Vision with CNN-Project-1_R7'"
   ]
  },
  {
   "cell_type": "code",
   "execution_count": 12,
   "metadata": {
    "colab": {
     "base_uri": "https://localhost:8080/",
     "height": 34
    },
    "colab_type": "code",
    "id": "VGYS7-U1Z9-C",
    "outputId": "e834f3d4-1a1a-47f1-b5d3-6bb84e070a50"
   },
   "outputs": [
    {
     "data": {
      "text/plain": [
       "['.config', 'sample_data']"
      ]
     },
     "execution_count": 12,
     "metadata": {
      "tags": []
     },
     "output_type": "execute_result"
    }
   ],
   "source": [
    "#os.listdir(path=BASE_PATH)\n",
    "os.listdir()"
   ]
  },
  {
   "cell_type": "code",
   "execution_count": 13,
   "metadata": {
    "colab": {
     "base_uri": "https://localhost:8080/",
     "height": 34
    },
    "colab_type": "code",
    "id": "86tQY9UgS7um",
    "outputId": "1cc7f4cc-28f4-4351-aa95-5eec26cef3d3"
   },
   "outputs": [
    {
     "data": {
      "text/plain": [
       "False"
      ]
     },
     "execution_count": 13,
     "metadata": {
      "tags": []
     },
     "output_type": "execute_result"
    }
   ],
   "source": [
    "os.path.isdir('plant_seedlings/test')"
   ]
  },
  {
   "cell_type": "code",
   "execution_count": 14,
   "metadata": {
    "colab": {
     "base_uri": "https://localhost:8080/",
     "height": 51
    },
    "colab_type": "code",
    "id": "ERhClzi9DH6H",
    "outputId": "8073657b-98b7-46db-d01f-b987ebbcab5c"
   },
   "outputs": [
    {
     "name": "stdout",
     "output_type": "stream",
     "text": [
      "Extracting all the files now...\n",
      "Done!\n"
     ]
    }
   ],
   "source": [
    "#if (os.path.isdir(os.path.join(BASE_PATH, 'plant_seedlings/train')) and os.path.isdir(os.path.join(BASE_PATH, 'plant_seedlings/test')) ):\n",
    "if (os.path.isdir('plant_seedlings/train') and os.path.isdir('plant_seedlings/test')):\n",
    "  print(\"Files have been extracted into train and test folders\")\n",
    "else:\n",
    "  with ZipFile('/gdrive/My Drive/AIML/Computer Vision with CNN-Project-1_R7/plant-seedlings-classification.zip', 'r') as zip:\n",
    "    print('Extracting all the files now...') \n",
    "    #zip.extractall('/gdrive/My Drive/AIML/Computer Vision with CNN-Project-1_R7/plant_seedlings') \n",
    "    zip.extractall('plant_seedlings')\n",
    "    print('Done!') "
   ]
  },
  {
   "cell_type": "code",
   "execution_count": 15,
   "metadata": {
    "colab": {
     "base_uri": "https://localhost:8080/",
     "height": 221
    },
    "colab_type": "code",
    "id": "D2-GqFPbVyQv",
    "outputId": "1d002f88-658d-44f9-d1b0-ca3f2b3fc714"
   },
   "outputs": [
    {
     "data": {
      "text/plain": [
       "['Black-grass',\n",
       " 'Charlock',\n",
       " 'Sugar beet',\n",
       " 'Cleavers',\n",
       " 'Small-flowered Cranesbill',\n",
       " 'Maize',\n",
       " 'Common wheat',\n",
       " 'Fat Hen',\n",
       " 'Common Chickweed',\n",
       " 'Scentless Mayweed',\n",
       " 'Shepherds Purse',\n",
       " 'Loose Silky-bent']"
      ]
     },
     "execution_count": 15,
     "metadata": {
      "tags": []
     },
     "output_type": "execute_result"
    }
   ],
   "source": [
    "os.listdir('plant_seedlings/train')"
   ]
  },
  {
   "cell_type": "code",
   "execution_count": 105,
   "metadata": {
    "colab": {
     "base_uri": "https://localhost:8080/",
     "height": 187
    },
    "colab_type": "code",
    "id": "T1ar1pxYE0Ad",
    "outputId": "e72a9b1c-2359-4fec-c48b-0d0abdbdc959"
   },
   "outputs": [
    {
     "data": {
      "text/plain": [
       "['69d1669f8.png',\n",
       " 'cf3a8b2fd.png',\n",
       " '429211ee6.png',\n",
       " '7e9cf1c46.png',\n",
       " 'd689256be.png',\n",
       " '0ad9e7dfb.png',\n",
       " '7d4cd07ad.png',\n",
       " '1d56351b2.png',\n",
       " '97844bfd5.png',\n",
       " 'fd253a74e.png']"
      ]
     },
     "execution_count": 105,
     "metadata": {
      "tags": []
     },
     "output_type": "execute_result"
    }
   ],
   "source": [
    "os.listdir('plant_seedlings/test')[0:10]\n",
    "#len(os.listdir('plant_seedlings/test'))"
   ]
  },
  {
   "cell_type": "code",
   "execution_count": 17,
   "metadata": {
    "colab": {
     "base_uri": "https://localhost:8080/",
     "height": 238
    },
    "colab_type": "code",
    "id": "zOhpMIPmge4F",
    "outputId": "0719ce33-37ab-469d-b9ae-92ff116ccc38"
   },
   "outputs": [
    {
     "name": "stdout",
     "output_type": "stream",
     "text": [
      "Classes in the training dataset are :\n"
     ]
    },
    {
     "data": {
      "text/plain": [
       "['Black-grass',\n",
       " 'Charlock',\n",
       " 'Sugar beet',\n",
       " 'Cleavers',\n",
       " 'Small-flowered Cranesbill',\n",
       " 'Maize',\n",
       " 'Common wheat',\n",
       " 'Fat Hen',\n",
       " 'Common Chickweed',\n",
       " 'Scentless Mayweed',\n",
       " 'Shepherds Purse',\n",
       " 'Loose Silky-bent']"
      ]
     },
     "execution_count": 17,
     "metadata": {
      "tags": []
     },
     "output_type": "execute_result"
    }
   ],
   "source": [
    "#class_names = os.listdir(os.path.join(BASE_PATH, 'plant_seedlings/train'))\n",
    "class_names = os.listdir('plant_seedlings/train')\n",
    "print('Classes in the training dataset are :')\n",
    "class_names"
   ]
  },
  {
   "cell_type": "code",
   "execution_count": 18,
   "metadata": {
    "colab": {
     "base_uri": "https://localhost:8080/",
     "height": 167
    },
    "colab_type": "code",
    "id": "Dna3UNt5PEHP",
    "outputId": "c6ec2c8f-6141-452d-ed3c-bf0034d89d77"
   },
   "outputs": [
    {
     "data": {
      "image/png": "[encoded data removed]",
      "text/plain": [
       "<PIL.Image.Image image mode=RGB size=150x150 at 0x7F6712895A20>"
      ]
     },
     "execution_count": 18,
     "metadata": {
      "tags": []
     },
     "output_type": "execute_result"
    }
   ],
   "source": [
    "#Load an image using Keras image class\n",
    "#image_file = os.path.join(BASE_PATH, 'plant_seedlings/train/Black-grass/a0405de4d.png')\n",
    "image_file = os.path.join('', 'plant_seedlings/train/Black-grass/a0405de4d.png')\n",
    "plant_seed_image = tf.keras.preprocessing.image.load_img(image_file, target_size=(150,150))\n",
    "plant_seed_image"
   ]
  },
  {
   "cell_type": "markdown",
   "metadata": {
    "colab_type": "text",
    "id": "vfasUtnLOYj7"
   },
   "source": [
    "#Parameters"
   ]
  },
  {
   "cell_type": "code",
   "execution_count": 0,
   "metadata": {
    "colab": {},
    "colab_type": "code",
    "id": "Is4aRdTuOcPJ"
   },
   "outputs": [],
   "source": [
    "#Define some parameters\n",
    "img_size = 70\n",
    "img_depth = 3\n",
    "batch_size = 64"
   ]
  },
  {
   "cell_type": "markdown",
   "metadata": {
    "colab_type": "text",
    "id": "j1A3ZHxzOqyT"
   },
   "source": [
    "#Create an ImageDataGenerator object, it can also split data between train and test."
   ]
  },
  {
   "cell_type": "code",
   "execution_count": 0,
   "metadata": {
    "colab": {},
    "colab_type": "code",
    "id": "O8ze2zqV9be4"
   },
   "outputs": [],
   "source": [
    "#ImageDataGenerator declaration with 20% data as test (80% for training)\n",
    "img_generator= tf.keras.preprocessing.image.ImageDataGenerator(rotation_range=20, \n",
    "                                                               width_shift_range=0.2, \n",
    "                                                               height_shift_range=0.2, \n",
    "                                                               horizontal_flip=True, \n",
    "                                                               vertical_flip=False, \n",
    "                                                               validation_split=0.2)"
   ]
  },
  {
   "cell_type": "code",
   "execution_count": 48,
   "metadata": {
    "colab": {
     "base_uri": "https://localhost:8080/",
     "height": 34
    },
    "colab_type": "code",
    "id": "Jwck7jFM_pYp",
    "outputId": "e27f2717-e399-4249-ff16-910869bd5acf"
   },
   "outputs": [
    {
     "name": "stdout",
     "output_type": "stream",
     "text": [
      "Found 3803 images belonging to 12 classes.\n"
     ]
    }
   ],
   "source": [
    "#Build training generator. \n",
    "train_generator = img_generator.flow_from_directory('plant_seedlings/train', #os.path.join(BASE_PATH,'plant_seedlings/train')\n",
    "                                                    target_size=(img_size, img_size),\n",
    "                                                    subset='training',\n",
    "                                                    batch_size=batch_size)"
   ]
  },
  {
   "cell_type": "code",
   "execution_count": 49,
   "metadata": {
    "colab": {
     "base_uri": "https://localhost:8080/",
     "height": 34
    },
    "colab_type": "code",
    "id": "X-cUmbkdQ06H",
    "outputId": "cb0fb47c-9f70-40b7-a4e1-f5eb19be6168"
   },
   "outputs": [
    {
     "name": "stdout",
     "output_type": "stream",
     "text": [
      "Found 947 images belonging to 12 classes.\n"
     ]
    }
   ],
   "source": [
    "#Build test generator. \n",
    "test_generator = img_generator.flow_from_directory('plant_seedlings/train', #os.path.join(BASE_PATH,'plant_seedlings/train')\n",
    "                                                    target_size=(img_size, img_size),\n",
    "                                                    subset='validation',\n",
    "                                                    batch_size=batch_size)"
   ]
  },
  {
   "cell_type": "markdown",
   "metadata": {
    "colab_type": "text",
    "id": "3Io8OaOBSvNz"
   },
   "source": [
    "#ImageDataGenerator returns 64 images and their labels"
   ]
  },
  {
   "cell_type": "code",
   "execution_count": 50,
   "metadata": {
    "colab": {
     "base_uri": "https://localhost:8080/",
     "height": 51
    },
    "colab_type": "code",
    "id": "prbUdOS3Sp_2",
    "outputId": "0bbc4076-cb4b-4521-dca3-d697932ac511"
   },
   "outputs": [
    {
     "name": "stdout",
     "output_type": "stream",
     "text": [
      "Input features shape (64, 70, 70, 3)\n",
      "Actual labels shape (64, 12)\n"
     ]
    }
   ],
   "source": [
    "#Check the features (images) and Labels (flower class) returned by ImageDataGenerator\n",
    "X, y = next(train_generator)\n",
    "\n",
    "print('Input features shape', X.shape)\n",
    "print('Actual labels shape', y.shape)"
   ]
  },
  {
   "cell_type": "code",
   "execution_count": 75,
   "metadata": {
    "colab": {
     "base_uri": "https://localhost:8080/",
     "height": 867
    },
    "colab_type": "code",
    "id": "guzw2G1L791y",
    "outputId": "03f42b4c-f750-4ecf-8795-2f28be396f47"
   },
   "outputs": [
    {
     "data": {
      "text/plain": [
       "(array([[[218.64972 , 217.65608 , 218.65608 ],\n",
       "         [206.00055 , 209.33379 , 211.00027 ],\n",
       "         [206.31718 , 208.98882 , 212.653   ],\n",
       "         ...,\n",
       "         [191.      , 192.      , 198.      ],\n",
       "         [191.      , 192.      , 198.      ],\n",
       "         [191.      , 192.      , 198.      ]],\n",
       " \n",
       "        [[217.88242 , 217.17651 , 218.17651 ],\n",
       "         [205.71281 , 209.09401 , 210.8564  ],\n",
       "         [206.94061 , 209.42043 , 213.18053 ],\n",
       "         ...,\n",
       "         [191.      , 192.      , 198.      ],\n",
       "         [191.      , 192.      , 198.      ],\n",
       "         [191.      , 192.      , 198.      ]],\n",
       " \n",
       "        [[217.11511 , 216.69695 , 217.69695 ],\n",
       "         [205.42506 , 208.85423 , 210.71254 ],\n",
       "         [207.56406 , 209.85204 , 213.70805 ],\n",
       "         ...,\n",
       "         [191.      , 192.      , 198.      ],\n",
       "         [191.      , 192.      , 198.      ],\n",
       "         [191.      , 192.      , 198.      ]],\n",
       " \n",
       "        ...,\n",
       " \n",
       "        [[ 96.70429 ,  75.46233 ,  54.248802],\n",
       "         [ 90.495766,  68.893105,  46.639828],\n",
       "         [102.902245,  83.68727 ,  64.31874 ],\n",
       "         ...,\n",
       "         [ 77.69534 ,  59.304653,  47.304653],\n",
       "         [ 77.599434,  59.400566,  47.400566],\n",
       "         [ 77.50352 ,  59.49648 ,  47.49648 ]],\n",
       " \n",
       "        [[114.288605,  96.39444 ,  77.894806],\n",
       "         [106.017075,  86.41805 ,  65.24839 ],\n",
       "         [100.355286,  82.09965 ,  59.62217 ],\n",
       "         ...,\n",
       "         [ 82.23261 ,  64.92566 ,  49.539566],\n",
       "         [ 81.99283 ,  64.58996 ,  49.3957  ],\n",
       "         [ 81.753044,  64.254265,  49.251827]],\n",
       " \n",
       "        [[ 99.94909 ,  80.10085 ,  65.72117 ],\n",
       "         [102.38003 ,  82.370964,  62.506985],\n",
       "         [101.58251 ,  85.97414 ,  63.333046],\n",
       "         ...,\n",
       "         [ 87.22686 ,  73.608345,  62.680576],\n",
       "         [ 86.987076,  73.176735,  61.961227],\n",
       "         [ 86.74729 ,  72.745125,  61.24188 ]]], dtype=float32),\n",
       " array([0., 0., 0., 0., 0., 0., 1., 0., 0., 0., 0., 0.], dtype=float32))"
      ]
     },
     "execution_count": 75,
     "metadata": {
      "tags": []
     },
     "output_type": "execute_result"
    }
   ],
   "source": [
    "X[0], y[0]"
   ]
  },
  {
   "cell_type": "code",
   "execution_count": 0,
   "metadata": {
    "colab": {},
    "colab_type": "code",
    "id": "sRByhUTvvV8X"
   },
   "outputs": [],
   "source": [
    "X_test, y_test = next(test_generator)"
   ]
  },
  {
   "cell_type": "code",
   "execution_count": 53,
   "metadata": {
    "colab": {
     "base_uri": "https://localhost:8080/",
     "height": 34
    },
    "colab_type": "code",
    "id": "9tSVZGHfveSh",
    "outputId": "5bfcdc4f-71b7-4276-a9f6-bf885beae7a7"
   },
   "outputs": [
    {
     "data": {
      "text/plain": [
       "((64, 70, 70, 3), (64, 12))"
      ]
     },
     "execution_count": 53,
     "metadata": {
      "tags": []
     },
     "output_type": "execute_result"
    }
   ],
   "source": [
    "X_test.shape, y_test.shape"
   ]
  },
  {
   "cell_type": "markdown",
   "metadata": {
    "colab_type": "text",
    "id": "LCecjOViet7h"
   },
   "source": [
    "### Visualize random images in Training and Test sets"
   ]
  },
  {
   "cell_type": "code",
   "execution_count": 199,
   "metadata": {
    "colab": {
     "base_uri": "https://localhost:8080/",
     "height": 1000
    },
    "colab_type": "code",
    "id": "2CcWgHbrQZdS",
    "outputId": "f454dfee-cb3b-4750-d28c-80dc8744fc72"
   },
   "outputs": [
    {
     "data": {
      "image/png": "[encoded data removed]",
      "text/plain": [
       "<Figure size 432x288 with 1 Axes>"
      ]
     },
     "metadata": {
      "tags": []
     },
     "output_type": "display_data"
    },
    {
     "data": {
      "image/png": "[encoded data removed]",
      "text/plain": [
       "<Figure size 432x288 with 1 Axes>"
      ]
     },
     "metadata": {
      "tags": []
     },
     "output_type": "display_data"
    },
    {
     "data": {
      "image/png": "[encoded data removed]",
      "text/plain": [
       "<Figure size 432x288 with 1 Axes>"
      ]
     },
     "metadata": {
      "tags": []
     },
     "output_type": "display_data"
    },
    {
     "data": {
      "image/png": "[encoded data removed]",
      "text/plain": [
       "<Figure size 432x288 with 1 Axes>"
      ]
     },
     "metadata": {
      "tags": []
     },
     "output_type": "display_data"
    },
    {
     "data": {
      "image/png": "[encoded data removed]",
      "text/plain": [
       "<Figure size 432x288 with 1 Axes>"
      ]
     },
     "metadata": {
      "tags": []
     },
     "output_type": "display_data"
    },
    {
     "data": {
      "image/png": "[encoded data removed]",
      "text/plain": [
       "<Figure size 432x288 with 1 Axes>"
      ]
     },
     "metadata": {
      "tags": []
     },
     "output_type": "display_data"
    },
    {
     "data": {
      "image/png": "[encoded data removed]",
      "text/plain": [
       "<Figure size 432x288 with 1 Axes>"
      ]
     },
     "metadata": {
      "tags": []
     },
     "output_type": "display_data"
    },
    {
     "data": {
      "image/png": "[encoded data removed]",
      "text/plain": [
       "<Figure size 432x288 with 1 Axes>"
      ]
     },
     "metadata": {
      "tags": []
     },
     "output_type": "display_data"
    },
    {
     "data": {
      "image/png": "[encoded data removed]",
      "text/plain": [
       "<Figure size 432x288 with 1 Axes>"
      ]
     },
     "metadata": {
      "tags": []
     },
     "output_type": "display_data"
    },
    {
     "data": {
      "image/png": "[encoded data removed]",
      "text/plain": [
       "<Figure size 432x288 with 1 Axes>"
      ]
     },
     "metadata": {
      "tags": []
     },
     "output_type": "display_data"
    }
   ],
   "source": [
    "for i in range(10):\n",
    "  plt.xticks([])\n",
    "  plt.yticks([])\n",
    "  plt.grid(False)\n",
    "  plt.imshow(tf.keras.preprocessing.image.array_to_img(X[i]))\n",
    "  plt.show()"
   ]
  },
  {
   "cell_type": "markdown",
   "metadata": {
    "colab_type": "text",
    "id": "GRyYvqLQR1U5"
   },
   "source": [
    "#Build CNN Model"
   ]
  },
  {
   "cell_type": "code",
   "execution_count": 0,
   "metadata": {
    "colab": {},
    "colab_type": "code",
    "id": "OLdmwjTyaX6n"
   },
   "outputs": [],
   "source": [
    "#Clear any previous model from memory\n",
    "tf.keras.backend.clear_session()\n",
    "\n",
    "#Initialize model\n",
    "model = tf.keras.models.Sequential()\n",
    "\n",
    "#normalize data\n",
    "model.add(tf.keras.layers.BatchNormalization(input_shape=(img_size,img_size,3,)))\n",
    "\n",
    "#Add Conv Layer\n",
    "model.add(tf.keras.layers.Conv2D(64, kernel_size=(3,3), activation='relu'))\n",
    "\n",
    "#normalize data\n",
    "model.add(tf.keras.layers.BatchNormalization(input_shape=(img_size,img_size,3,)))\n",
    "\n",
    "#Add Conv Layer\n",
    "model.add(tf.keras.layers.Conv2D(64, kernel_size=(3,3), activation='relu'))\n",
    "\n",
    "#normalize data\n",
    "model.add(tf.keras.layers.BatchNormalization(input_shape=(img_size,img_size,3,)))\n",
    "\n",
    "#Add Max Pool layer\n",
    "model.add(tf.keras.layers.MaxPool2D(pool_size=(2,2)))\n",
    "\n",
    "#Add Dense Layers after flattening the data\n",
    "model.add(tf.keras.layers.Flatten())\n",
    "model.add(tf.keras.layers.Dense(128, activation='relu'))\n",
    "\n",
    "#Add Dropout\n",
    "model.add(tf.keras.layers.Dropout(0.25))\n",
    "\n",
    "#Add Output Layer\n",
    "model.add(tf.keras.layers.Dense(12, activation='softmax'))"
   ]
  },
  {
   "cell_type": "code",
   "execution_count": 0,
   "metadata": {
    "colab": {},
    "colab_type": "code",
    "id": "qp_k2H0bSnEi"
   },
   "outputs": [],
   "source": [
    "#Specify Loss and Optimizer\n",
    "model.compile(optimizer='adam', loss='categorical_crossentropy', metrics=['accuracy'])"
   ]
  },
  {
   "cell_type": "code",
   "execution_count": 57,
   "metadata": {
    "colab": {
     "base_uri": "https://localhost:8080/",
     "height": 493
    },
    "colab_type": "code",
    "id": "yN8VESgdSuJJ",
    "outputId": "27a3b97d-7cc1-4d70-ded0-69b95cb644e2"
   },
   "outputs": [
    {
     "name": "stdout",
     "output_type": "stream",
     "text": [
      "Model: \"sequential\"\n",
      "_________________________________________________________________\n",
      "Layer (type)                 Output Shape              Param #   \n",
      "=================================================================\n",
      "batch_normalization (BatchNo (None, 70, 70, 3)         12        \n",
      "_________________________________________________________________\n",
      "conv2d (Conv2D)              (None, 68, 68, 64)        1792      \n",
      "_________________________________________________________________\n",
      "batch_normalization_1 (Batch (None, 68, 68, 64)        256       \n",
      "_________________________________________________________________\n",
      "conv2d_1 (Conv2D)            (None, 66, 66, 64)        36928     \n",
      "_________________________________________________________________\n",
      "batch_normalization_2 (Batch (None, 66, 66, 64)        256       \n",
      "_________________________________________________________________\n",
      "max_pooling2d (MaxPooling2D) (None, 33, 33, 64)        0         \n",
      "_________________________________________________________________\n",
      "flatten (Flatten)            (None, 69696)             0         \n",
      "_________________________________________________________________\n",
      "dense (Dense)                (None, 128)               8921216   \n",
      "_________________________________________________________________\n",
      "dropout (Dropout)            (None, 128)               0         \n",
      "_________________________________________________________________\n",
      "dense_1 (Dense)              (None, 12)                1548      \n",
      "=================================================================\n",
      "Total params: 8,962,008\n",
      "Trainable params: 8,961,746\n",
      "Non-trainable params: 262\n",
      "_________________________________________________________________\n"
     ]
    }
   ],
   "source": [
    "model.summary()"
   ]
  },
  {
   "cell_type": "markdown",
   "metadata": {
    "colab_type": "text",
    "id": "mz_fCe-0TDM8"
   },
   "source": [
    "# Training the Model"
   ]
  },
  {
   "cell_type": "code",
   "execution_count": 0,
   "metadata": {
    "colab": {},
    "colab_type": "code",
    "id": "XtZTG2YGoxp5"
   },
   "outputs": [],
   "source": [
    "#Saving the best model using model checkpoint callback\n",
    "model_checkpoint=tf.keras.callbacks.ModelCheckpoint('plant_seedings.h5', #os.path.join(BASE_PATH, 'plant_seedings.h5')\n",
    "                                                    save_best_only=True, \n",
    "                                                    monitor='val_accuracy', \n",
    "                                                    mode='max', \n",
    "                                                    verbose=1)"
   ]
  },
  {
   "cell_type": "code",
   "execution_count": 59,
   "metadata": {
    "colab": {
     "base_uri": "https://localhost:8080/",
     "height": 1000
    },
    "colab_type": "code",
    "id": "WwLTP4ucTG5-",
    "outputId": "78371352-e8a1-4036-d067-f6e3e67789c5"
   },
   "outputs": [
    {
     "name": "stdout",
     "output_type": "stream",
     "text": [
      "WARNING:tensorflow:From <ipython-input-59-842e521bfd6c>:6: Model.fit_generator (from tensorflow.python.keras.engine.training) is deprecated and will be removed in a future version.\n",
      "Instructions for updating:\n",
      "Please use Model.fit, which supports generators.\n",
      "Epoch 1/100\n",
      "59/59 [==============================] - ETA: 0s - loss: 4.3104 - accuracy: 0.1819\n",
      "Epoch 00001: val_accuracy improved from -inf to 0.11438, saving model to plant_seedings.h5\n",
      "59/59 [==============================] - 54s 908ms/step - loss: 4.3104 - accuracy: 0.1819 - val_loss: 2.8525 - val_accuracy: 0.1144\n",
      "Epoch 2/100\n",
      "59/59 [==============================] - ETA: 0s - loss: 2.3356 - accuracy: 0.2100\n",
      "Epoch 00002: val_accuracy did not improve from 0.11438\n",
      "59/59 [==============================] - 52s 883ms/step - loss: 2.3356 - accuracy: 0.2100 - val_loss: 40.2141 - val_accuracy: 0.0668\n",
      "Epoch 3/100\n",
      "59/59 [==============================] - ETA: 0s - loss: 2.2201 - accuracy: 0.2551\n",
      "Epoch 00003: val_accuracy did not improve from 0.11438\n",
      "59/59 [==============================] - 53s 898ms/step - loss: 2.2201 - accuracy: 0.2551 - val_loss: 65.2228 - val_accuracy: 0.0713\n",
      "Epoch 4/100\n",
      "59/59 [==============================] - ETA: 0s - loss: 2.1397 - accuracy: 0.2832\n",
      "Epoch 00004: val_accuracy did not improve from 0.11438\n",
      "59/59 [==============================] - 52s 888ms/step - loss: 2.1397 - accuracy: 0.2832 - val_loss: 55.6200 - val_accuracy: 0.0883\n",
      "Epoch 5/100\n",
      "59/59 [==============================] - ETA: 0s - loss: 1.9970 - accuracy: 0.3137\n",
      "Epoch 00005: val_accuracy improved from 0.11438 to 0.16421, saving model to plant_seedings.h5\n",
      "59/59 [==============================] - 53s 899ms/step - loss: 1.9970 - accuracy: 0.3137 - val_loss: 38.8032 - val_accuracy: 0.1642\n",
      "Epoch 6/100\n",
      "59/59 [==============================] - ETA: 0s - loss: 1.9511 - accuracy: 0.3284\n",
      "Epoch 00006: val_accuracy improved from 0.16421 to 0.24915, saving model to plant_seedings.h5\n",
      "59/59 [==============================] - 53s 906ms/step - loss: 1.9511 - accuracy: 0.3284 - val_loss: 14.9180 - val_accuracy: 0.2492\n",
      "Epoch 7/100\n",
      "59/59 [==============================] - ETA: 0s - loss: 1.9393 - accuracy: 0.3381\n",
      "Epoch 00007: val_accuracy improved from 0.24915 to 0.30011, saving model to plant_seedings.h5\n",
      "59/59 [==============================] - 54s 907ms/step - loss: 1.9393 - accuracy: 0.3381 - val_loss: 4.6315 - val_accuracy: 0.3001\n",
      "Epoch 8/100\n",
      "59/59 [==============================] - ETA: 0s - loss: 1.8672 - accuracy: 0.3439\n",
      "Epoch 00008: val_accuracy improved from 0.30011 to 0.37486, saving model to plant_seedings.h5\n",
      "59/59 [==============================] - 52s 885ms/step - loss: 1.8672 - accuracy: 0.3439 - val_loss: 2.8625 - val_accuracy: 0.3749\n",
      "Epoch 9/100\n",
      "59/59 [==============================] - ETA: 0s - loss: 1.7848 - accuracy: 0.3739\n",
      "Epoch 00009: val_accuracy improved from 0.37486 to 0.40997, saving model to plant_seedings.h5\n",
      "59/59 [==============================] - 54s 915ms/step - loss: 1.7848 - accuracy: 0.3739 - val_loss: 2.1163 - val_accuracy: 0.4100\n",
      "Epoch 10/100\n",
      "59/59 [==============================] - ETA: 0s - loss: 1.7525 - accuracy: 0.3771\n",
      "Epoch 00010: val_accuracy did not improve from 0.40997\n",
      "59/59 [==============================] - 51s 872ms/step - loss: 1.7525 - accuracy: 0.3771 - val_loss: 1.7401 - val_accuracy: 0.4077\n",
      "Epoch 11/100\n",
      "59/59 [==============================] - ETA: 0s - loss: 1.7643 - accuracy: 0.3685\n",
      "Epoch 00011: val_accuracy improved from 0.40997 to 0.43148, saving model to plant_seedings.h5\n",
      "59/59 [==============================] - 54s 908ms/step - loss: 1.7643 - accuracy: 0.3685 - val_loss: 1.6557 - val_accuracy: 0.4315\n",
      "Epoch 12/100\n",
      "59/59 [==============================] - ETA: 0s - loss: 1.7220 - accuracy: 0.3870\n",
      "Epoch 00012: val_accuracy did not improve from 0.43148\n",
      "59/59 [==============================] - 50s 852ms/step - loss: 1.7220 - accuracy: 0.3870 - val_loss: 1.6675 - val_accuracy: 0.3941\n",
      "Epoch 13/100\n",
      "59/59 [==============================] - ETA: 0s - loss: 1.7581 - accuracy: 0.3792\n",
      "Epoch 00013: val_accuracy did not improve from 0.43148\n",
      "59/59 [==============================] - 52s 887ms/step - loss: 1.7581 - accuracy: 0.3792 - val_loss: 1.7224 - val_accuracy: 0.4088\n",
      "Epoch 14/100\n",
      "59/59 [==============================] - ETA: 0s - loss: 1.6678 - accuracy: 0.4095\n",
      "Epoch 00014: val_accuracy improved from 0.43148 to 0.47112, saving model to plant_seedings.h5\n",
      "59/59 [==============================] - 52s 884ms/step - loss: 1.6678 - accuracy: 0.4095 - val_loss: 1.4941 - val_accuracy: 0.4711\n",
      "Epoch 15/100\n",
      "59/59 [==============================] - ETA: 0s - loss: 1.6684 - accuracy: 0.4127\n",
      "Epoch 00015: val_accuracy improved from 0.47112 to 0.49604, saving model to plant_seedings.h5\n",
      "59/59 [==============================] - 51s 867ms/step - loss: 1.6684 - accuracy: 0.4127 - val_loss: 1.5172 - val_accuracy: 0.4960\n",
      "Epoch 16/100\n",
      "59/59 [==============================] - ETA: 0s - loss: 1.6303 - accuracy: 0.4228\n",
      "Epoch 00016: val_accuracy improved from 0.49604 to 0.49943, saving model to plant_seedings.h5\n",
      "59/59 [==============================] - 52s 874ms/step - loss: 1.6303 - accuracy: 0.4228 - val_loss: 1.5087 - val_accuracy: 0.4994\n",
      "Epoch 17/100\n",
      "59/59 [==============================] - ETA: 0s - loss: 1.6079 - accuracy: 0.4370\n",
      "Epoch 00017: val_accuracy did not improve from 0.49943\n",
      "59/59 [==============================] - 52s 878ms/step - loss: 1.6079 - accuracy: 0.4370 - val_loss: 1.6836 - val_accuracy: 0.4847\n",
      "Epoch 18/100\n",
      "59/59 [==============================] - ETA: 0s - loss: 1.6041 - accuracy: 0.4119\n",
      "Epoch 00018: val_accuracy improved from 0.49943 to 0.53567, saving model to plant_seedings.h5\n",
      "59/59 [==============================] - 51s 865ms/step - loss: 1.6041 - accuracy: 0.4119 - val_loss: 1.4604 - val_accuracy: 0.5357\n",
      "Epoch 19/100\n",
      "59/59 [==============================] - ETA: 0s - loss: 1.5884 - accuracy: 0.4359\n",
      "Epoch 00019: val_accuracy did not improve from 0.53567\n",
      "59/59 [==============================] - 50s 851ms/step - loss: 1.5884 - accuracy: 0.4359 - val_loss: 1.4397 - val_accuracy: 0.5232\n",
      "Epoch 20/100\n",
      "59/59 [==============================] - ETA: 0s - loss: 1.5777 - accuracy: 0.4285\n",
      "Epoch 00020: val_accuracy did not improve from 0.53567\n",
      "59/59 [==============================] - 51s 864ms/step - loss: 1.5777 - accuracy: 0.4285 - val_loss: 1.4259 - val_accuracy: 0.5277\n",
      "Epoch 21/100\n",
      "59/59 [==============================] - ETA: 0s - loss: 1.5068 - accuracy: 0.4587\n",
      "Epoch 00021: val_accuracy improved from 0.53567 to 0.54247, saving model to plant_seedings.h5\n",
      "59/59 [==============================] - 51s 863ms/step - loss: 1.5068 - accuracy: 0.4587 - val_loss: 1.3123 - val_accuracy: 0.5425\n",
      "Epoch 22/100\n",
      "59/59 [==============================] - ETA: 0s - loss: 1.5143 - accuracy: 0.4785\n",
      "Epoch 00022: val_accuracy did not improve from 0.54247\n",
      "59/59 [==============================] - 51s 864ms/step - loss: 1.5143 - accuracy: 0.4785 - val_loss: 1.4125 - val_accuracy: 0.5142\n",
      "Epoch 23/100\n",
      "59/59 [==============================] - ETA: 0s - loss: 1.4842 - accuracy: 0.4734\n",
      "Epoch 00023: val_accuracy did not improve from 0.54247\n",
      "59/59 [==============================] - 52s 878ms/step - loss: 1.4842 - accuracy: 0.4734 - val_loss: 1.5454 - val_accuracy: 0.5255\n",
      "Epoch 24/100\n",
      "59/59 [==============================] - ETA: 0s - loss: 1.5132 - accuracy: 0.4745\n",
      "Epoch 00024: val_accuracy improved from 0.54247 to 0.56738, saving model to plant_seedings.h5\n",
      "59/59 [==============================] - 51s 868ms/step - loss: 1.5132 - accuracy: 0.4745 - val_loss: 1.2689 - val_accuracy: 0.5674\n",
      "Epoch 25/100\n",
      "59/59 [==============================] - ETA: 0s - loss: 1.4552 - accuracy: 0.4937\n",
      "Epoch 00025: val_accuracy did not improve from 0.56738\n",
      "59/59 [==============================] - 51s 872ms/step - loss: 1.4552 - accuracy: 0.4937 - val_loss: 1.4895 - val_accuracy: 0.5334\n",
      "Epoch 26/100\n",
      "59/59 [==============================] - ETA: 0s - loss: 1.4165 - accuracy: 0.4948\n",
      "Epoch 00026: val_accuracy improved from 0.56738 to 0.62627, saving model to plant_seedings.h5\n",
      "59/59 [==============================] - 51s 871ms/step - loss: 1.4165 - accuracy: 0.4948 - val_loss: 1.1591 - val_accuracy: 0.6263\n",
      "Epoch 27/100\n",
      "59/59 [==============================] - ETA: 0s - loss: 1.3759 - accuracy: 0.5154\n",
      "Epoch 00027: val_accuracy improved from 0.62627 to 0.63647, saving model to plant_seedings.h5\n",
      "59/59 [==============================] - 51s 861ms/step - loss: 1.3759 - accuracy: 0.5154 - val_loss: 1.2482 - val_accuracy: 0.6365\n",
      "Epoch 28/100\n",
      "59/59 [==============================] - ETA: 0s - loss: 1.3867 - accuracy: 0.5191\n",
      "Epoch 00028: val_accuracy did not improve from 0.63647\n",
      "59/59 [==============================] - 51s 861ms/step - loss: 1.3867 - accuracy: 0.5191 - val_loss: 1.3810 - val_accuracy: 0.5980\n",
      "Epoch 29/100\n",
      "59/59 [==============================] - ETA: 0s - loss: 1.3733 - accuracy: 0.5314\n",
      "Epoch 00029: val_accuracy did not improve from 0.63647\n",
      "59/59 [==============================] - 51s 870ms/step - loss: 1.3733 - accuracy: 0.5314 - val_loss: 1.2439 - val_accuracy: 0.6149\n",
      "Epoch 30/100\n",
      "59/59 [==============================] - ETA: 0s - loss: 1.3068 - accuracy: 0.5408\n",
      "Epoch 00030: val_accuracy improved from 0.63647 to 0.64100, saving model to plant_seedings.h5\n",
      "59/59 [==============================] - 52s 883ms/step - loss: 1.3068 - accuracy: 0.5408 - val_loss: 1.2012 - val_accuracy: 0.6410\n",
      "Epoch 31/100\n",
      "59/59 [==============================] - ETA: 0s - loss: 1.2921 - accuracy: 0.5544\n",
      "Epoch 00031: val_accuracy improved from 0.64100 to 0.64553, saving model to plant_seedings.h5\n",
      "59/59 [==============================] - 52s 881ms/step - loss: 1.2921 - accuracy: 0.5544 - val_loss: 1.1152 - val_accuracy: 0.6455\n",
      "Epoch 32/100\n",
      "59/59 [==============================] - ETA: 0s - loss: 1.2837 - accuracy: 0.5574\n",
      "Epoch 00032: val_accuracy improved from 0.64553 to 0.66704, saving model to plant_seedings.h5\n",
      "59/59 [==============================] - 52s 879ms/step - loss: 1.2837 - accuracy: 0.5574 - val_loss: 1.1071 - val_accuracy: 0.6670\n",
      "Epoch 33/100\n",
      "59/59 [==============================] - ETA: 0s - loss: 1.2414 - accuracy: 0.5796\n",
      "Epoch 00033: val_accuracy improved from 0.66704 to 0.69422, saving model to plant_seedings.h5\n",
      "59/59 [==============================] - 52s 880ms/step - loss: 1.2414 - accuracy: 0.5796 - val_loss: 1.1037 - val_accuracy: 0.6942\n",
      "Epoch 34/100\n",
      "59/59 [==============================] - ETA: 0s - loss: 1.2282 - accuracy: 0.5820\n",
      "Epoch 00034: val_accuracy did not improve from 0.69422\n",
      "59/59 [==============================] - 51s 867ms/step - loss: 1.2282 - accuracy: 0.5820 - val_loss: 1.1533 - val_accuracy: 0.6557\n",
      "Epoch 35/100\n",
      "59/59 [==============================] - ETA: 0s - loss: 1.1912 - accuracy: 0.5849\n",
      "Epoch 00035: val_accuracy did not improve from 0.69422\n",
      "59/59 [==============================] - 50s 846ms/step - loss: 1.1912 - accuracy: 0.5849 - val_loss: 1.2316 - val_accuracy: 0.6602\n",
      "Epoch 36/100\n",
      "59/59 [==============================] - ETA: 0s - loss: 1.1892 - accuracy: 0.5895\n",
      "Epoch 00036: val_accuracy did not improve from 0.69422\n",
      "59/59 [==============================] - 52s 877ms/step - loss: 1.1892 - accuracy: 0.5895 - val_loss: 1.0526 - val_accuracy: 0.6750\n",
      "Epoch 37/100\n",
      "59/59 [==============================] - ETA: 0s - loss: 1.1954 - accuracy: 0.5929\n",
      "Epoch 00037: val_accuracy did not improve from 0.69422\n",
      "59/59 [==============================] - 50s 855ms/step - loss: 1.1954 - accuracy: 0.5929 - val_loss: 1.3517 - val_accuracy: 0.5810\n",
      "Epoch 38/100\n",
      "59/59 [==============================] - ETA: 0s - loss: 1.1482 - accuracy: 0.6026\n",
      "Epoch 00038: val_accuracy did not improve from 0.69422\n",
      "59/59 [==============================] - 52s 886ms/step - loss: 1.1482 - accuracy: 0.6026 - val_loss: 1.0642 - val_accuracy: 0.6874\n",
      "Epoch 39/100\n",
      "59/59 [==============================] - ETA: 0s - loss: 1.1039 - accuracy: 0.6143\n",
      "Epoch 00039: val_accuracy did not improve from 0.69422\n",
      "59/59 [==============================] - 51s 873ms/step - loss: 1.1039 - accuracy: 0.6143 - val_loss: 1.1481 - val_accuracy: 0.6489\n",
      "Epoch 40/100\n",
      "59/59 [==============================] - ETA: 0s - loss: 1.0541 - accuracy: 0.6422\n",
      "Epoch 00040: val_accuracy improved from 0.69422 to 0.74292, saving model to plant_seedings.h5\n",
      "59/59 [==============================] - 51s 858ms/step - loss: 1.0541 - accuracy: 0.6422 - val_loss: 0.9161 - val_accuracy: 0.7429\n",
      "Epoch 41/100\n",
      "59/59 [==============================] - ETA: 0s - loss: 1.0383 - accuracy: 0.6438\n",
      "Epoch 00041: val_accuracy did not improve from 0.74292\n",
      "59/59 [==============================] - 52s 877ms/step - loss: 1.0383 - accuracy: 0.6438 - val_loss: 0.9732 - val_accuracy: 0.7373\n",
      "Epoch 42/100\n",
      "59/59 [==============================] - ETA: 0s - loss: 1.0123 - accuracy: 0.6456\n",
      "Epoch 00042: val_accuracy did not improve from 0.74292\n",
      "59/59 [==============================] - 52s 873ms/step - loss: 1.0123 - accuracy: 0.6456 - val_loss: 1.0430 - val_accuracy: 0.7123\n",
      "Epoch 43/100\n",
      "59/59 [==============================] - ETA: 0s - loss: 1.0174 - accuracy: 0.6504\n",
      "Epoch 00043: val_accuracy did not improve from 0.74292\n",
      "59/59 [==============================] - 52s 873ms/step - loss: 1.0174 - accuracy: 0.6504 - val_loss: 0.8316 - val_accuracy: 0.7384\n",
      "Epoch 44/100\n",
      "59/59 [==============================] - ETA: 0s - loss: 0.9709 - accuracy: 0.6601\n",
      "Epoch 00044: val_accuracy improved from 0.74292 to 0.74858, saving model to plant_seedings.h5\n",
      "59/59 [==============================] - 49s 839ms/step - loss: 0.9709 - accuracy: 0.6601 - val_loss: 0.8868 - val_accuracy: 0.7486\n",
      "Epoch 45/100\n",
      "59/59 [==============================] - ETA: 0s - loss: 0.9274 - accuracy: 0.6841\n",
      "Epoch 00045: val_accuracy improved from 0.74858 to 0.75425, saving model to plant_seedings.h5\n",
      "59/59 [==============================] - 52s 882ms/step - loss: 0.9274 - accuracy: 0.6841 - val_loss: 0.9186 - val_accuracy: 0.7542\n",
      "Epoch 46/100\n",
      "59/59 [==============================] - ETA: 0s - loss: 0.9142 - accuracy: 0.6924\n",
      "Epoch 00046: val_accuracy did not improve from 0.75425\n",
      "59/59 [==============================] - 50s 850ms/step - loss: 0.9142 - accuracy: 0.6924 - val_loss: 0.9543 - val_accuracy: 0.7373\n",
      "Epoch 47/100\n",
      "59/59 [==============================] - ETA: 0s - loss: 0.8776 - accuracy: 0.7034\n",
      "Epoch 00047: val_accuracy did not improve from 0.75425\n",
      "59/59 [==============================] - 53s 892ms/step - loss: 0.8776 - accuracy: 0.7034 - val_loss: 0.8579 - val_accuracy: 0.7441\n",
      "Epoch 48/100\n",
      "59/59 [==============================] - ETA: 0s - loss: 0.8657 - accuracy: 0.6986\n",
      "Epoch 00048: val_accuracy improved from 0.75425 to 0.77690, saving model to plant_seedings.h5\n",
      "59/59 [==============================] - 51s 863ms/step - loss: 0.8657 - accuracy: 0.6986 - val_loss: 0.7388 - val_accuracy: 0.7769\n",
      "Epoch 49/100\n",
      "59/59 [==============================] - ETA: 0s - loss: 0.8848 - accuracy: 0.6940\n",
      "Epoch 00049: val_accuracy did not improve from 0.77690\n",
      "59/59 [==============================] - 52s 881ms/step - loss: 0.8848 - accuracy: 0.6940 - val_loss: 0.9525 - val_accuracy: 0.7418\n",
      "Epoch 50/100\n",
      "59/59 [==============================] - ETA: 0s - loss: 0.8376 - accuracy: 0.7232\n",
      "Epoch 00050: val_accuracy did not improve from 0.77690\n",
      "59/59 [==============================] - 50s 850ms/step - loss: 0.8376 - accuracy: 0.7232 - val_loss: 0.8934 - val_accuracy: 0.7769\n",
      "Epoch 51/100\n",
      "59/59 [==============================] - ETA: 0s - loss: 0.8920 - accuracy: 0.7055\n",
      "Epoch 00051: val_accuracy improved from 0.77690 to 0.78822, saving model to plant_seedings.h5\n",
      "59/59 [==============================] - 52s 879ms/step - loss: 0.8920 - accuracy: 0.7055 - val_loss: 0.8962 - val_accuracy: 0.7882\n",
      "Epoch 52/100\n",
      "59/59 [==============================] - ETA: 0s - loss: 0.8315 - accuracy: 0.7243\n",
      "Epoch 00052: val_accuracy did not improve from 0.78822\n",
      "59/59 [==============================] - 51s 862ms/step - loss: 0.8315 - accuracy: 0.7243 - val_loss: 0.8704 - val_accuracy: 0.7542\n",
      "Epoch 53/100\n",
      "59/59 [==============================] - ETA: 0s - loss: 0.8332 - accuracy: 0.7093\n",
      "Epoch 00053: val_accuracy did not improve from 0.78822\n",
      "59/59 [==============================] - 52s 874ms/step - loss: 0.8332 - accuracy: 0.7093 - val_loss: 1.2009 - val_accuracy: 0.7271\n",
      "Epoch 54/100\n",
      "59/59 [==============================] - ETA: 0s - loss: 0.8796 - accuracy: 0.7029\n",
      "Epoch 00054: val_accuracy did not improve from 0.78822\n",
      "59/59 [==============================] - 51s 859ms/step - loss: 0.8796 - accuracy: 0.7029 - val_loss: 0.8592 - val_accuracy: 0.7735\n",
      "Epoch 55/100\n",
      "59/59 [==============================] - ETA: 0s - loss: 0.8519 - accuracy: 0.7125\n",
      "Epoch 00055: val_accuracy did not improve from 0.78822\n",
      "59/59 [==============================] - 51s 869ms/step - loss: 0.8519 - accuracy: 0.7125 - val_loss: 1.2657 - val_accuracy: 0.6489\n",
      "Epoch 56/100\n",
      "59/59 [==============================] - ETA: 0s - loss: 0.8127 - accuracy: 0.7237\n",
      "Epoch 00056: val_accuracy did not improve from 0.78822\n",
      "59/59 [==============================] - 51s 870ms/step - loss: 0.8127 - accuracy: 0.7237 - val_loss: 0.8665 - val_accuracy: 0.7441\n",
      "Epoch 57/100\n",
      "59/59 [==============================] - ETA: 0s - loss: 0.7883 - accuracy: 0.7323\n",
      "Epoch 00057: val_accuracy did not improve from 0.78822\n",
      "59/59 [==============================] - 51s 870ms/step - loss: 0.7883 - accuracy: 0.7323 - val_loss: 0.8744 - val_accuracy: 0.7475\n",
      "Epoch 58/100\n",
      "59/59 [==============================] - ETA: 0s - loss: 0.7638 - accuracy: 0.7400\n",
      "Epoch 00058: val_accuracy improved from 0.78822 to 0.79615, saving model to plant_seedings.h5\n",
      "59/59 [==============================] - 52s 876ms/step - loss: 0.7638 - accuracy: 0.7400 - val_loss: 0.7412 - val_accuracy: 0.7961\n",
      "Epoch 59/100\n",
      "59/59 [==============================] - ETA: 0s - loss: 0.7361 - accuracy: 0.7395\n",
      "Epoch 00059: val_accuracy did not improve from 0.79615\n",
      "59/59 [==============================] - 51s 871ms/step - loss: 0.7361 - accuracy: 0.7395 - val_loss: 0.9294 - val_accuracy: 0.7780\n",
      "Epoch 60/100\n",
      "59/59 [==============================] - ETA: 0s - loss: 0.7758 - accuracy: 0.7427\n",
      "Epoch 00060: val_accuracy did not improve from 0.79615\n",
      "59/59 [==============================] - 51s 859ms/step - loss: 0.7758 - accuracy: 0.7427 - val_loss: 0.7492 - val_accuracy: 0.7871\n",
      "Epoch 61/100\n",
      "59/59 [==============================] - ETA: 0s - loss: 0.7232 - accuracy: 0.7483\n",
      "Epoch 00061: val_accuracy improved from 0.79615 to 0.80181, saving model to plant_seedings.h5\n",
      "59/59 [==============================] - 52s 876ms/step - loss: 0.7232 - accuracy: 0.7483 - val_loss: 0.7175 - val_accuracy: 0.8018\n",
      "Epoch 62/100\n",
      "59/59 [==============================] - ETA: 0s - loss: 0.7480 - accuracy: 0.7447\n",
      "Epoch 00062: val_accuracy improved from 0.80181 to 0.80408, saving model to plant_seedings.h5\n",
      "59/59 [==============================] - 52s 874ms/step - loss: 0.7480 - accuracy: 0.7447 - val_loss: 0.7496 - val_accuracy: 0.8041\n",
      "Epoch 63/100\n",
      "59/59 [==============================] - ETA: 0s - loss: 0.6801 - accuracy: 0.7633\n",
      "Epoch 00063: val_accuracy improved from 0.80408 to 0.81880, saving model to plant_seedings.h5\n",
      "59/59 [==============================] - 51s 872ms/step - loss: 0.6801 - accuracy: 0.7633 - val_loss: 0.7094 - val_accuracy: 0.8188\n",
      "Epoch 64/100\n",
      "59/59 [==============================] - ETA: 0s - loss: 0.6918 - accuracy: 0.7569\n",
      "Epoch 00064: val_accuracy did not improve from 0.81880\n",
      "59/59 [==============================] - 51s 859ms/step - loss: 0.6918 - accuracy: 0.7569 - val_loss: 0.8203 - val_accuracy: 0.8007\n",
      "Epoch 65/100\n",
      "59/59 [==============================] - ETA: 0s - loss: 0.6563 - accuracy: 0.7646\n",
      "Epoch 00065: val_accuracy did not improve from 0.81880\n",
      "59/59 [==============================] - 51s 862ms/step - loss: 0.6563 - accuracy: 0.7646 - val_loss: 0.7984 - val_accuracy: 0.8120\n",
      "Epoch 66/100\n",
      "59/59 [==============================] - ETA: 0s - loss: 0.6888 - accuracy: 0.7641\n",
      "Epoch 00066: val_accuracy did not improve from 0.81880\n",
      "59/59 [==============================] - 51s 862ms/step - loss: 0.6888 - accuracy: 0.7641 - val_loss: 0.8086 - val_accuracy: 0.8086\n",
      "Epoch 67/100\n",
      "59/59 [==============================] - ETA: 0s - loss: 0.7283 - accuracy: 0.7564\n",
      "Epoch 00067: val_accuracy improved from 0.81880 to 0.81993, saving model to plant_seedings.h5\n",
      "59/59 [==============================] - 52s 877ms/step - loss: 0.7283 - accuracy: 0.7564 - val_loss: 0.7959 - val_accuracy: 0.8199\n",
      "Epoch 68/100\n",
      "59/59 [==============================] - ETA: 0s - loss: 0.6919 - accuracy: 0.7692\n",
      "Epoch 00068: val_accuracy improved from 0.81993 to 0.83012, saving model to plant_seedings.h5\n",
      "59/59 [==============================] - 51s 857ms/step - loss: 0.6919 - accuracy: 0.7692 - val_loss: 0.6986 - val_accuracy: 0.8301\n",
      "Epoch 69/100\n",
      "59/59 [==============================] - ETA: 0s - loss: 0.6678 - accuracy: 0.7753\n",
      "Epoch 00069: val_accuracy did not improve from 0.83012\n",
      "59/59 [==============================] - 53s 900ms/step - loss: 0.6678 - accuracy: 0.7753 - val_loss: 0.8128 - val_accuracy: 0.8075\n",
      "Epoch 70/100\n",
      "59/59 [==============================] - ETA: 0s - loss: 0.6801 - accuracy: 0.7668\n",
      "Epoch 00070: val_accuracy did not improve from 0.83012\n",
      "59/59 [==============================] - 52s 873ms/step - loss: 0.6801 - accuracy: 0.7668 - val_loss: 0.7506 - val_accuracy: 0.8245\n",
      "Epoch 71/100\n",
      "59/59 [==============================] - ETA: 0s - loss: 0.6601 - accuracy: 0.7697\n",
      "Epoch 00071: val_accuracy did not improve from 0.83012\n",
      "59/59 [==============================] - 52s 876ms/step - loss: 0.6601 - accuracy: 0.7697 - val_loss: 0.7305 - val_accuracy: 0.8165\n",
      "Epoch 72/100\n",
      "59/59 [==============================] - ETA: 0s - loss: 0.6503 - accuracy: 0.7737\n",
      "Epoch 00072: val_accuracy did not improve from 0.83012\n",
      "59/59 [==============================] - 50s 847ms/step - loss: 0.6503 - accuracy: 0.7737 - val_loss: 0.7061 - val_accuracy: 0.8222\n",
      "Epoch 73/100\n",
      "59/59 [==============================] - ETA: 0s - loss: 0.6665 - accuracy: 0.7684\n",
      "Epoch 00073: val_accuracy improved from 0.83012 to 0.83352, saving model to plant_seedings.h5\n",
      "59/59 [==============================] - 51s 856ms/step - loss: 0.6665 - accuracy: 0.7684 - val_loss: 0.7879 - val_accuracy: 0.8335\n",
      "Epoch 74/100\n",
      "59/59 [==============================] - ETA: 0s - loss: 0.6267 - accuracy: 0.7802\n",
      "Epoch 00074: val_accuracy improved from 0.83352 to 0.85164, saving model to plant_seedings.h5\n",
      "59/59 [==============================] - 52s 874ms/step - loss: 0.6267 - accuracy: 0.7802 - val_loss: 0.6530 - val_accuracy: 0.8516\n",
      "Epoch 75/100\n",
      "59/59 [==============================] - ETA: 0s - loss: 0.5952 - accuracy: 0.7882\n",
      "Epoch 00075: val_accuracy did not improve from 0.85164\n",
      "59/59 [==============================] - 52s 874ms/step - loss: 0.5952 - accuracy: 0.7882 - val_loss: 0.7078 - val_accuracy: 0.8505\n",
      "Epoch 76/100\n",
      "59/59 [==============================] - ETA: 0s - loss: 0.6227 - accuracy: 0.7839\n",
      "Epoch 00076: val_accuracy did not improve from 0.85164\n",
      "59/59 [==============================] - 50s 843ms/step - loss: 0.6227 - accuracy: 0.7839 - val_loss: 0.7743 - val_accuracy: 0.8143\n",
      "Epoch 77/100\n",
      "59/59 [==============================] - ETA: 0s - loss: 0.6155 - accuracy: 0.7802\n",
      "Epoch 00077: val_accuracy did not improve from 0.85164\n",
      "59/59 [==============================] - 52s 880ms/step - loss: 0.6155 - accuracy: 0.7802 - val_loss: 0.8077 - val_accuracy: 0.8007\n",
      "Epoch 78/100\n",
      "59/59 [==============================] - ETA: 0s - loss: 0.6135 - accuracy: 0.7847\n",
      "Epoch 00078: val_accuracy did not improve from 0.85164\n",
      "59/59 [==============================] - 51s 870ms/step - loss: 0.6135 - accuracy: 0.7847 - val_loss: 0.5399 - val_accuracy: 0.8448\n",
      "Epoch 79/100\n",
      "59/59 [==============================] - ETA: 0s - loss: 0.5726 - accuracy: 0.7983\n",
      "Epoch 00079: val_accuracy did not improve from 0.85164\n",
      "59/59 [==============================] - 51s 861ms/step - loss: 0.5726 - accuracy: 0.7983 - val_loss: 0.6428 - val_accuracy: 0.8494\n",
      "Epoch 80/100\n",
      "59/59 [==============================] - ETA: 0s - loss: 0.6186 - accuracy: 0.7887\n",
      "Epoch 00080: val_accuracy improved from 0.85164 to 0.85504, saving model to plant_seedings.h5\n",
      "59/59 [==============================] - 51s 865ms/step - loss: 0.6186 - accuracy: 0.7887 - val_loss: 0.5761 - val_accuracy: 0.8550\n",
      "Epoch 81/100\n",
      "59/59 [==============================] - ETA: 0s - loss: 0.5822 - accuracy: 0.7935\n",
      "Epoch 00081: val_accuracy did not improve from 0.85504\n",
      "59/59 [==============================] - 52s 875ms/step - loss: 0.5822 - accuracy: 0.7935 - val_loss: 0.7645 - val_accuracy: 0.8392\n",
      "Epoch 82/100\n",
      "59/59 [==============================] - ETA: 0s - loss: 0.5948 - accuracy: 0.7989\n",
      "Epoch 00082: val_accuracy did not improve from 0.85504\n",
      "59/59 [==============================] - 50s 843ms/step - loss: 0.5948 - accuracy: 0.7989 - val_loss: 0.7965 - val_accuracy: 0.8482\n",
      "Epoch 83/100\n",
      "59/59 [==============================] - ETA: 0s - loss: 0.5637 - accuracy: 0.7981\n",
      "Epoch 00083: val_accuracy did not improve from 0.85504\n",
      "59/59 [==============================] - 52s 883ms/step - loss: 0.5637 - accuracy: 0.7981 - val_loss: 0.7525 - val_accuracy: 0.8335\n",
      "Epoch 84/100\n",
      "59/59 [==============================] - ETA: 0s - loss: 0.5778 - accuracy: 0.7949\n",
      "Epoch 00084: val_accuracy did not improve from 0.85504\n",
      "59/59 [==============================] - 51s 869ms/step - loss: 0.5778 - accuracy: 0.7949 - val_loss: 0.6822 - val_accuracy: 0.8324\n",
      "Epoch 85/100\n",
      "59/59 [==============================] - ETA: 0s - loss: 0.5593 - accuracy: 0.8013\n",
      "Epoch 00085: val_accuracy did not improve from 0.85504\n",
      "59/59 [==============================] - 51s 870ms/step - loss: 0.5593 - accuracy: 0.8013 - val_loss: 0.7368 - val_accuracy: 0.8063\n",
      "Epoch 86/100\n",
      "59/59 [==============================] - ETA: 0s - loss: 0.5623 - accuracy: 0.7989\n",
      "Epoch 00086: val_accuracy did not improve from 0.85504\n",
      "59/59 [==============================] - 51s 867ms/step - loss: 0.5623 - accuracy: 0.7989 - val_loss: 0.8911 - val_accuracy: 0.8199\n",
      "Epoch 87/100\n",
      "59/59 [==============================] - ETA: 0s - loss: 0.5511 - accuracy: 0.8010\n",
      "Epoch 00087: val_accuracy improved from 0.85504 to 0.86523, saving model to plant_seedings.h5\n",
      "59/59 [==============================] - 51s 862ms/step - loss: 0.5511 - accuracy: 0.8010 - val_loss: 0.7658 - val_accuracy: 0.8652\n",
      "Epoch 88/100\n",
      "59/59 [==============================] - ETA: 0s - loss: 0.5501 - accuracy: 0.8050\n",
      "Epoch 00088: val_accuracy did not improve from 0.86523\n",
      "59/59 [==============================] - 52s 879ms/step - loss: 0.5501 - accuracy: 0.8050 - val_loss: 0.6702 - val_accuracy: 0.8550\n",
      "Epoch 89/100\n",
      "59/59 [==============================] - ETA: 0s - loss: 0.5493 - accuracy: 0.8093\n",
      "Epoch 00089: val_accuracy did not improve from 0.86523\n",
      "59/59 [==============================] - 50s 851ms/step - loss: 0.5493 - accuracy: 0.8093 - val_loss: 0.7476 - val_accuracy: 0.8516\n",
      "Epoch 90/100\n",
      "59/59 [==============================] - ETA: 0s - loss: 0.5884 - accuracy: 0.7946\n",
      "Epoch 00090: val_accuracy did not improve from 0.86523\n",
      "59/59 [==============================] - 52s 887ms/step - loss: 0.5884 - accuracy: 0.7946 - val_loss: 0.6354 - val_accuracy: 0.8482\n",
      "Epoch 91/100\n",
      "59/59 [==============================] - ETA: 0s - loss: 0.5530 - accuracy: 0.8082\n",
      "Epoch 00091: val_accuracy did not improve from 0.86523\n",
      "59/59 [==============================] - 50s 844ms/step - loss: 0.5530 - accuracy: 0.8082 - val_loss: 0.6942 - val_accuracy: 0.8414\n",
      "Epoch 92/100\n",
      "59/59 [==============================] - ETA: 0s - loss: 0.5443 - accuracy: 0.8080\n",
      "Epoch 00092: val_accuracy did not improve from 0.86523\n",
      "59/59 [==============================] - 52s 887ms/step - loss: 0.5443 - accuracy: 0.8080 - val_loss: 0.6443 - val_accuracy: 0.8573\n",
      "Epoch 93/100\n",
      "59/59 [==============================] - ETA: 0s - loss: 0.5209 - accuracy: 0.8216\n",
      "Epoch 00093: val_accuracy did not improve from 0.86523\n",
      "59/59 [==============================] - 51s 867ms/step - loss: 0.5209 - accuracy: 0.8216 - val_loss: 0.6631 - val_accuracy: 0.8607\n",
      "Epoch 94/100\n",
      "59/59 [==============================] - ETA: 0s - loss: 0.5362 - accuracy: 0.8160\n",
      "Epoch 00094: val_accuracy did not improve from 0.86523\n",
      "59/59 [==============================] - 51s 860ms/step - loss: 0.5362 - accuracy: 0.8160 - val_loss: 0.8517 - val_accuracy: 0.8528\n",
      "Epoch 95/100\n",
      "59/59 [==============================] - ETA: 0s - loss: 0.5479 - accuracy: 0.8144\n",
      "Epoch 00095: val_accuracy did not improve from 0.86523\n",
      "59/59 [==============================] - 51s 872ms/step - loss: 0.5479 - accuracy: 0.8144 - val_loss: 0.6364 - val_accuracy: 0.8528\n",
      "Epoch 96/100\n",
      "59/59 [==============================] - ETA: 0s - loss: 0.5264 - accuracy: 0.8173\n",
      "Epoch 00096: val_accuracy did not improve from 0.86523\n",
      "59/59 [==============================] - 52s 873ms/step - loss: 0.5264 - accuracy: 0.8173 - val_loss: 0.5968 - val_accuracy: 0.8596\n",
      "Epoch 97/100\n",
      "59/59 [==============================] - ETA: 0s - loss: 0.5118 - accuracy: 0.8168\n",
      "Epoch 00097: val_accuracy did not improve from 0.86523\n",
      "59/59 [==============================] - 52s 886ms/step - loss: 0.5118 - accuracy: 0.8168 - val_loss: 0.7925 - val_accuracy: 0.8347\n",
      "Epoch 98/100\n",
      "59/59 [==============================] - ETA: 0s - loss: 0.4900 - accuracy: 0.8157\n",
      "Epoch 00098: val_accuracy did not improve from 0.86523\n",
      "59/59 [==============================] - 50s 851ms/step - loss: 0.4900 - accuracy: 0.8157 - val_loss: 0.5921 - val_accuracy: 0.8539\n",
      "Epoch 99/100\n",
      "59/59 [==============================] - ETA: 0s - loss: 0.5681 - accuracy: 0.8013\n",
      "Epoch 00099: val_accuracy did not improve from 0.86523\n",
      "59/59 [==============================] - 52s 886ms/step - loss: 0.5681 - accuracy: 0.8013 - val_loss: 0.6513 - val_accuracy: 0.8414\n",
      "Epoch 100/100\n",
      "59/59 [==============================] - ETA: 0s - loss: 0.5008 - accuracy: 0.8256\n",
      "Epoch 00100: val_accuracy did not improve from 0.86523\n",
      "59/59 [==============================] - 52s 881ms/step - loss: 0.5008 - accuracy: 0.8256 - val_loss: 0.6673 - val_accuracy: 0.8494\n"
     ]
    }
   ],
   "source": [
    "history_model= model.fit_generator(train_generator, \n",
    "                          epochs=100,\n",
    "                          steps_per_epoch= 3803//batch_size,  #Number of training images//batch_size\n",
    "                          validation_data=test_generator,\n",
    "                          validation_steps = 947//batch_size, #Number of test images//batch_size\n",
    "                          callbacks = [model_checkpoint]) "
   ]
  },
  {
   "cell_type": "code",
   "execution_count": 60,
   "metadata": {
    "colab": {
     "base_uri": "https://localhost:8080/",
     "height": 1000
    },
    "colab_type": "code",
    "id": "ALEh9UAUSwOg",
    "outputId": "c01520c9-962b-4d56-fb7d-cbe88018f90b"
   },
   "outputs": [
    {
     "name": "stdout",
     "output_type": "stream",
     "text": [
      "Epoch 101/150\n",
      "59/59 [==============================] - ETA: 0s - loss: 0.5211 - accuracy: 0.8171\n",
      "Epoch 00101: val_accuracy did not improve from 0.86523\n",
      "59/59 [==============================] - 50s 852ms/step - loss: 0.5211 - accuracy: 0.8171 - val_loss: 0.8207 - val_accuracy: 0.8256\n",
      "Epoch 102/150\n",
      "59/59 [==============================] - ETA: 0s - loss: 0.4859 - accuracy: 0.8371\n",
      "Epoch 00102: val_accuracy did not improve from 0.86523\n",
      "59/59 [==============================] - 51s 863ms/step - loss: 0.4859 - accuracy: 0.8371 - val_loss: 0.5940 - val_accuracy: 0.8607\n",
      "Epoch 103/150\n",
      "59/59 [==============================] - ETA: 0s - loss: 0.4851 - accuracy: 0.8224\n",
      "Epoch 00103: val_accuracy improved from 0.86523 to 0.86863, saving model to plant_seedings.h5\n",
      "59/59 [==============================] - 51s 864ms/step - loss: 0.4851 - accuracy: 0.8224 - val_loss: 0.5656 - val_accuracy: 0.8686\n",
      "Epoch 104/150\n",
      "59/59 [==============================] - ETA: 0s - loss: 0.4990 - accuracy: 0.8254\n",
      "Epoch 00104: val_accuracy did not improve from 0.86863\n",
      "59/59 [==============================] - 51s 857ms/step - loss: 0.4990 - accuracy: 0.8254 - val_loss: 0.7159 - val_accuracy: 0.8584\n",
      "Epoch 105/150\n",
      "59/59 [==============================] - ETA: 0s - loss: 0.5017 - accuracy: 0.8237\n",
      "Epoch 00105: val_accuracy did not improve from 0.86863\n",
      "59/59 [==============================] - 52s 889ms/step - loss: 0.5017 - accuracy: 0.8237 - val_loss: 0.6446 - val_accuracy: 0.8675\n",
      "Epoch 106/150\n",
      "59/59 [==============================] - ETA: 0s - loss: 0.4892 - accuracy: 0.8280\n",
      "Epoch 00106: val_accuracy improved from 0.86863 to 0.87769, saving model to plant_seedings.h5\n",
      "59/59 [==============================] - 53s 894ms/step - loss: 0.4892 - accuracy: 0.8280 - val_loss: 0.6495 - val_accuracy: 0.8777\n",
      "Epoch 107/150\n",
      "59/59 [==============================] - ETA: 0s - loss: 0.4950 - accuracy: 0.8294\n",
      "Epoch 00107: val_accuracy did not improve from 0.87769\n",
      "59/59 [==============================] - 49s 838ms/step - loss: 0.4950 - accuracy: 0.8294 - val_loss: 0.6879 - val_accuracy: 0.8381\n",
      "Epoch 108/150\n",
      "59/59 [==============================] - ETA: 0s - loss: 0.5114 - accuracy: 0.8157\n",
      "Epoch 00108: val_accuracy did not improve from 0.87769\n",
      "59/59 [==============================] - 52s 876ms/step - loss: 0.5114 - accuracy: 0.8157 - val_loss: 0.5971 - val_accuracy: 0.8596\n",
      "Epoch 109/150\n",
      "59/59 [==============================] - ETA: 0s - loss: 0.4646 - accuracy: 0.8296\n",
      "Epoch 00109: val_accuracy did not improve from 0.87769\n",
      "59/59 [==============================] - 51s 861ms/step - loss: 0.4646 - accuracy: 0.8296 - val_loss: 0.6114 - val_accuracy: 0.8686\n",
      "Epoch 110/150\n",
      "59/59 [==============================] - ETA: 0s - loss: 0.4825 - accuracy: 0.8240\n",
      "Epoch 00110: val_accuracy did not improve from 0.87769\n",
      "59/59 [==============================] - 51s 861ms/step - loss: 0.4825 - accuracy: 0.8240 - val_loss: 0.6223 - val_accuracy: 0.8505\n",
      "Epoch 111/150\n",
      "59/59 [==============================] - ETA: 0s - loss: 0.4647 - accuracy: 0.8291\n",
      "Epoch 00111: val_accuracy did not improve from 0.87769\n",
      "59/59 [==============================] - 52s 876ms/step - loss: 0.4647 - accuracy: 0.8291 - val_loss: 0.6235 - val_accuracy: 0.8414\n",
      "Epoch 112/150\n",
      "59/59 [==============================] - ETA: 0s - loss: 0.4556 - accuracy: 0.8361\n",
      "Epoch 00112: val_accuracy did not improve from 0.87769\n",
      "59/59 [==============================] - 50s 848ms/step - loss: 0.4556 - accuracy: 0.8361 - val_loss: 0.5913 - val_accuracy: 0.8698\n",
      "Epoch 113/150\n",
      "59/59 [==============================] - ETA: 0s - loss: 0.4829 - accuracy: 0.8342\n",
      "Epoch 00113: val_accuracy improved from 0.87769 to 0.88222, saving model to plant_seedings.h5\n",
      "59/59 [==============================] - 52s 877ms/step - loss: 0.4829 - accuracy: 0.8342 - val_loss: 0.5874 - val_accuracy: 0.8822\n",
      "Epoch 114/150\n",
      "59/59 [==============================] - ETA: 0s - loss: 0.4617 - accuracy: 0.8403\n",
      "Epoch 00114: val_accuracy did not improve from 0.88222\n",
      "59/59 [==============================] - 52s 879ms/step - loss: 0.4617 - accuracy: 0.8403 - val_loss: 0.6733 - val_accuracy: 0.8460\n",
      "Epoch 115/150\n",
      "59/59 [==============================] - ETA: 0s - loss: 0.4453 - accuracy: 0.8395\n",
      "Epoch 00115: val_accuracy did not improve from 0.88222\n",
      "59/59 [==============================] - 51s 864ms/step - loss: 0.4453 - accuracy: 0.8395 - val_loss: 0.5257 - val_accuracy: 0.8675\n",
      "Epoch 116/150\n",
      "59/59 [==============================] - ETA: 0s - loss: 0.4431 - accuracy: 0.8441\n",
      "Epoch 00116: val_accuracy did not improve from 0.88222\n",
      "59/59 [==============================] - 51s 869ms/step - loss: 0.4431 - accuracy: 0.8441 - val_loss: 0.6036 - val_accuracy: 0.8618\n",
      "Epoch 117/150\n",
      "59/59 [==============================] - ETA: 0s - loss: 0.4261 - accuracy: 0.8534\n",
      "Epoch 00117: val_accuracy did not improve from 0.88222\n",
      "59/59 [==============================] - 50s 849ms/step - loss: 0.4261 - accuracy: 0.8534 - val_loss: 0.6102 - val_accuracy: 0.8516\n",
      "Epoch 118/150\n",
      "59/59 [==============================] - ETA: 0s - loss: 0.4821 - accuracy: 0.8315\n",
      "Epoch 00118: val_accuracy did not improve from 0.88222\n",
      "59/59 [==============================] - 52s 885ms/step - loss: 0.4821 - accuracy: 0.8315 - val_loss: 0.7118 - val_accuracy: 0.8335\n",
      "Epoch 119/150\n",
      "59/59 [==============================] - ETA: 0s - loss: 0.4541 - accuracy: 0.8369\n",
      "Epoch 00119: val_accuracy did not improve from 0.88222\n",
      "59/59 [==============================] - 51s 871ms/step - loss: 0.4541 - accuracy: 0.8369 - val_loss: 0.5936 - val_accuracy: 0.8675\n",
      "Epoch 120/150\n",
      "59/59 [==============================] - ETA: 0s - loss: 0.4374 - accuracy: 0.8411\n",
      "Epoch 00120: val_accuracy did not improve from 0.88222\n",
      "59/59 [==============================] - 52s 875ms/step - loss: 0.4374 - accuracy: 0.8411 - val_loss: 0.6978 - val_accuracy: 0.8618\n",
      "Epoch 121/150\n",
      "59/59 [==============================] - ETA: 0s - loss: 0.4295 - accuracy: 0.8465\n",
      "Epoch 00121: val_accuracy did not improve from 0.88222\n",
      "59/59 [==============================] - 52s 883ms/step - loss: 0.4295 - accuracy: 0.8465 - val_loss: 0.5644 - val_accuracy: 0.8766\n",
      "Epoch 122/150\n",
      "59/59 [==============================] - ETA: 0s - loss: 0.4397 - accuracy: 0.8476\n",
      "Epoch 00122: val_accuracy did not improve from 0.88222\n",
      "59/59 [==============================] - 53s 891ms/step - loss: 0.4397 - accuracy: 0.8476 - val_loss: 0.6125 - val_accuracy: 0.8732\n",
      "Epoch 123/150\n",
      "59/59 [==============================] - ETA: 0s - loss: 0.4410 - accuracy: 0.8424\n",
      "Epoch 00123: val_accuracy did not improve from 0.88222\n",
      "59/59 [==============================] - 52s 883ms/step - loss: 0.4410 - accuracy: 0.8424 - val_loss: 0.6119 - val_accuracy: 0.8460\n",
      "Epoch 124/150\n",
      "59/59 [==============================] - ETA: 0s - loss: 0.4569 - accuracy: 0.8401\n",
      "Epoch 00124: val_accuracy did not improve from 0.88222\n",
      "59/59 [==============================] - 53s 894ms/step - loss: 0.4569 - accuracy: 0.8401 - val_loss: 0.5737 - val_accuracy: 0.8618\n",
      "Epoch 125/150\n",
      "59/59 [==============================] - ETA: 0s - loss: 0.4261 - accuracy: 0.8492\n",
      "Epoch 00125: val_accuracy improved from 0.88222 to 0.88675, saving model to plant_seedings.h5\n",
      "59/59 [==============================] - 52s 887ms/step - loss: 0.4261 - accuracy: 0.8492 - val_loss: 0.4406 - val_accuracy: 0.8867\n",
      "Epoch 126/150\n",
      "59/59 [==============================] - ETA: 0s - loss: 0.4253 - accuracy: 0.8390\n",
      "Epoch 00126: val_accuracy did not improve from 0.88675\n",
      "59/59 [==============================] - 52s 884ms/step - loss: 0.4253 - accuracy: 0.8390 - val_loss: 0.6714 - val_accuracy: 0.8516\n",
      "Epoch 127/150\n",
      "59/59 [==============================] - ETA: 0s - loss: 0.4664 - accuracy: 0.8393\n",
      "Epoch 00127: val_accuracy did not improve from 0.88675\n",
      "59/59 [==============================] - 53s 899ms/step - loss: 0.4664 - accuracy: 0.8393 - val_loss: 0.5054 - val_accuracy: 0.8754\n",
      "Epoch 128/150\n",
      "59/59 [==============================] - ETA: 0s - loss: 0.4168 - accuracy: 0.8492\n",
      "Epoch 00128: val_accuracy did not improve from 0.88675\n",
      "59/59 [==============================] - 53s 900ms/step - loss: 0.4168 - accuracy: 0.8492 - val_loss: 0.6533 - val_accuracy: 0.8494\n",
      "Epoch 129/150\n",
      "59/59 [==============================] - ETA: 0s - loss: 0.4094 - accuracy: 0.8510\n",
      "Epoch 00129: val_accuracy did not improve from 0.88675\n",
      "59/59 [==============================] - 53s 893ms/step - loss: 0.4094 - accuracy: 0.8510 - val_loss: 0.5528 - val_accuracy: 0.8675\n",
      "Epoch 130/150\n",
      "59/59 [==============================] - ETA: 0s - loss: 0.4078 - accuracy: 0.8545\n",
      "Epoch 00130: val_accuracy did not improve from 0.88675\n",
      "59/59 [==============================] - 52s 887ms/step - loss: 0.4078 - accuracy: 0.8545 - val_loss: 0.6448 - val_accuracy: 0.8743\n",
      "Epoch 131/150\n",
      "59/59 [==============================] - ETA: 0s - loss: 0.4194 - accuracy: 0.8500\n",
      "Epoch 00131: val_accuracy did not improve from 0.88675\n",
      "59/59 [==============================] - 53s 899ms/step - loss: 0.4194 - accuracy: 0.8500 - val_loss: 0.8014 - val_accuracy: 0.8245\n",
      "Epoch 132/150\n",
      "59/59 [==============================] - ETA: 0s - loss: 0.4142 - accuracy: 0.8465\n",
      "Epoch 00132: val_accuracy did not improve from 0.88675\n",
      "59/59 [==============================] - 52s 888ms/step - loss: 0.4142 - accuracy: 0.8465 - val_loss: 0.6125 - val_accuracy: 0.8698\n",
      "Epoch 133/150\n",
      "59/59 [==============================] - ETA: 0s - loss: 0.4188 - accuracy: 0.8500\n",
      "Epoch 00133: val_accuracy did not improve from 0.88675\n",
      "59/59 [==============================] - 52s 875ms/step - loss: 0.4188 - accuracy: 0.8500 - val_loss: 0.7616 - val_accuracy: 0.8460\n",
      "Epoch 134/150\n",
      "59/59 [==============================] - ETA: 0s - loss: 0.4278 - accuracy: 0.8545\n",
      "Epoch 00134: val_accuracy did not improve from 0.88675\n",
      "59/59 [==============================] - 52s 888ms/step - loss: 0.4278 - accuracy: 0.8545 - val_loss: 0.5930 - val_accuracy: 0.8754\n",
      "Epoch 135/150\n",
      "59/59 [==============================] - ETA: 0s - loss: 0.3983 - accuracy: 0.8623\n",
      "Epoch 00135: val_accuracy did not improve from 0.88675\n",
      "59/59 [==============================] - 52s 886ms/step - loss: 0.3983 - accuracy: 0.8623 - val_loss: 0.5586 - val_accuracy: 0.8834\n",
      "Epoch 136/150\n",
      "59/59 [==============================] - ETA: 0s - loss: 0.4094 - accuracy: 0.8529\n",
      "Epoch 00136: val_accuracy improved from 0.88675 to 0.90034, saving model to plant_seedings.h5\n",
      "59/59 [==============================] - 52s 885ms/step - loss: 0.4094 - accuracy: 0.8529 - val_loss: 0.4327 - val_accuracy: 0.9003\n",
      "Epoch 137/150\n",
      "59/59 [==============================] - ETA: 0s - loss: 0.4209 - accuracy: 0.8529\n",
      "Epoch 00137: val_accuracy did not improve from 0.90034\n",
      "59/59 [==============================] - 52s 883ms/step - loss: 0.4209 - accuracy: 0.8529 - val_loss: 0.6387 - val_accuracy: 0.8732\n",
      "Epoch 138/150\n",
      "59/59 [==============================] - ETA: 0s - loss: 0.3929 - accuracy: 0.8617\n",
      "Epoch 00138: val_accuracy did not improve from 0.90034\n",
      "59/59 [==============================] - 52s 877ms/step - loss: 0.3929 - accuracy: 0.8617 - val_loss: 0.5064 - val_accuracy: 0.8754\n",
      "Epoch 139/150\n",
      "59/59 [==============================] - ETA: 0s - loss: 0.3989 - accuracy: 0.8542\n",
      "Epoch 00139: val_accuracy did not improve from 0.90034\n",
      "59/59 [==============================] - 52s 881ms/step - loss: 0.3989 - accuracy: 0.8542 - val_loss: 0.5522 - val_accuracy: 0.8901\n",
      "Epoch 140/150\n",
      "59/59 [==============================] - ETA: 0s - loss: 0.4381 - accuracy: 0.8548\n",
      "Epoch 00140: val_accuracy did not improve from 0.90034\n",
      "59/59 [==============================] - 53s 904ms/step - loss: 0.4381 - accuracy: 0.8548 - val_loss: 0.5497 - val_accuracy: 0.8879\n",
      "Epoch 141/150\n",
      "59/59 [==============================] - ETA: 0s - loss: 0.4341 - accuracy: 0.8459\n",
      "Epoch 00141: val_accuracy did not improve from 0.90034\n",
      "59/59 [==============================] - 53s 896ms/step - loss: 0.4341 - accuracy: 0.8459 - val_loss: 0.6021 - val_accuracy: 0.8981\n",
      "Epoch 142/150\n",
      "59/59 [==============================] - ETA: 0s - loss: 0.4116 - accuracy: 0.8553\n",
      "Epoch 00142: val_accuracy did not improve from 0.90034\n",
      "59/59 [==============================] - 50s 848ms/step - loss: 0.4116 - accuracy: 0.8553 - val_loss: 0.7251 - val_accuracy: 0.8845\n",
      "Epoch 143/150\n",
      "59/59 [==============================] - ETA: 0s - loss: 0.4147 - accuracy: 0.8588\n",
      "Epoch 00143: val_accuracy did not improve from 0.90034\n",
      "59/59 [==============================] - 51s 870ms/step - loss: 0.4147 - accuracy: 0.8588 - val_loss: 0.5873 - val_accuracy: 0.8800\n",
      "Epoch 144/150\n",
      "59/59 [==============================] - ETA: 0s - loss: 0.3695 - accuracy: 0.8625\n",
      "Epoch 00144: val_accuracy did not improve from 0.90034\n",
      "59/59 [==============================] - 53s 895ms/step - loss: 0.3695 - accuracy: 0.8625 - val_loss: 0.7778 - val_accuracy: 0.8596\n",
      "Epoch 145/150\n",
      "59/59 [==============================] - ETA: 0s - loss: 0.4156 - accuracy: 0.8615\n",
      "Epoch 00145: val_accuracy did not improve from 0.90034\n",
      "59/59 [==============================] - 52s 884ms/step - loss: 0.4156 - accuracy: 0.8615 - val_loss: 0.5890 - val_accuracy: 0.8834\n",
      "Epoch 146/150\n",
      "59/59 [==============================] - ETA: 0s - loss: 0.3756 - accuracy: 0.8609\n",
      "Epoch 00146: val_accuracy improved from 0.90034 to 0.90487, saving model to plant_seedings.h5\n",
      "59/59 [==============================] - 53s 894ms/step - loss: 0.3756 - accuracy: 0.8609 - val_loss: 0.3876 - val_accuracy: 0.9049\n",
      "Epoch 147/150\n",
      "59/59 [==============================] - ETA: 0s - loss: 0.3769 - accuracy: 0.8580\n",
      "Epoch 00147: val_accuracy did not improve from 0.90487\n",
      "59/59 [==============================] - 52s 885ms/step - loss: 0.3769 - accuracy: 0.8580 - val_loss: 0.5254 - val_accuracy: 0.9049\n",
      "Epoch 148/150\n",
      "59/59 [==============================] - ETA: 0s - loss: 0.3604 - accuracy: 0.8703\n",
      "Epoch 00148: val_accuracy did not improve from 0.90487\n",
      "59/59 [==============================] - 51s 858ms/step - loss: 0.3604 - accuracy: 0.8703 - val_loss: 0.6521 - val_accuracy: 0.8516\n",
      "Epoch 149/150\n",
      "59/59 [==============================] - ETA: 0s - loss: 0.3809 - accuracy: 0.8633\n",
      "Epoch 00149: val_accuracy did not improve from 0.90487\n",
      "59/59 [==============================] - 53s 890ms/step - loss: 0.3809 - accuracy: 0.8633 - val_loss: 0.6642 - val_accuracy: 0.8607\n",
      "Epoch 150/150\n",
      "59/59 [==============================] - ETA: 0s - loss: 0.3864 - accuracy: 0.8588\n",
      "Epoch 00150: val_accuracy did not improve from 0.90487\n",
      "59/59 [==============================] - 54s 924ms/step - loss: 0.3864 - accuracy: 0.8588 - val_loss: 0.5449 - val_accuracy: 0.8800\n"
     ]
    }
   ],
   "source": [
    "history_model= model.fit_generator(train_generator, \n",
    "                        epochs=150,\n",
    "                        initial_epoch=100, \n",
    "                          steps_per_epoch= 3803//batch_size,  #Number of training images//batch_size\n",
    "                          validation_data=test_generator,\n",
    "                          validation_steps = 947//batch_size, #Number of test images//batch_size\n",
    "                          callbacks = [model_checkpoint])"
   ]
  },
  {
   "cell_type": "markdown",
   "metadata": {
    "colab_type": "text",
    "id": "y404WmSzitBs"
   },
   "source": [
    "#### Save the model"
   ]
  },
  {
   "cell_type": "code",
   "execution_count": 0,
   "metadata": {
    "colab": {},
    "colab_type": "code",
    "id": "JYIVyiIwJjQ-"
   },
   "outputs": [],
   "source": [
    "#Save the model\n",
    "model.save_weights('plant_classification_model_wieghts.h5')\n",
    "model.save('plant_classification_model_keras.h5')"
   ]
  },
  {
   "cell_type": "markdown",
   "metadata": {
    "colab_type": "text",
    "id": "zTy-Oc8Hsbbg"
   },
   "source": [
    "### Evaluate the model on Training and Test datasets"
   ]
  },
  {
   "cell_type": "code",
   "execution_count": 61,
   "metadata": {
    "colab": {
     "base_uri": "https://localhost:8080/",
     "height": 51
    },
    "colab_type": "code",
    "id": "6uPVs_oXJxnV",
    "outputId": "699ea521-4bd6-429d-def2-0ddc8996d1ea"
   },
   "outputs": [
    {
     "name": "stdout",
     "output_type": "stream",
     "text": [
      "The loss using train data is:  0.341\n",
      "The accuracy of train data is:  0.891\n"
     ]
    }
   ],
   "source": [
    "#Evaluate the model's loss and accuracy on Training-set\n",
    "\n",
    "score_train = model.evaluate(X, y, verbose=0)\n",
    "print(\"The loss using train data is: \",round(score_train[0],3))\n",
    "print(\"The accuracy of train data is: \",round(score_train[1],3))"
   ]
  },
  {
   "cell_type": "code",
   "execution_count": 62,
   "metadata": {
    "colab": {
     "base_uri": "https://localhost:8080/",
     "height": 51
    },
    "colab_type": "code",
    "id": "Ak8DJqiuJxnW",
    "outputId": "1b81ff5d-0675-4ceb-90b9-fd9a725153f2"
   },
   "outputs": [
    {
     "name": "stdout",
     "output_type": "stream",
     "text": [
      "The loss using test data is:  0.443\n",
      "The accuracy of test data is:  0.906\n"
     ]
    }
   ],
   "source": [
    "#Evaluate the model's loss and accuracy on Test-set\n",
    "\n",
    "score_test = model.evaluate(X_test, y_test, verbose=0)\n",
    "print(\"The loss using test data is: \",round(score_test[0],3))\n",
    "print(\"The accuracy of test data is: \",round(score_test[1],3))"
   ]
  },
  {
   "cell_type": "markdown",
   "metadata": {
    "colab_type": "text",
    "id": "5E2aIoCZJxof"
   },
   "source": [
    "### Model Performance : Plot loss and accuracy over no of epochs"
   ]
  },
  {
   "cell_type": "code",
   "execution_count": 0,
   "metadata": {
    "colab": {},
    "colab_type": "code",
    "id": "Zg_swK9-oMZ9"
   },
   "outputs": [],
   "source": [
    "def plot_metrics(ax, fontsize, col1, col2, x_label, y_label, title):\n",
    "    ax.plot((history_model.history[col1]))\n",
    "    ax.plot((history_model.history[col2]))\n",
    "    #ax.locator_params(nbins=3)\n",
    "    ax.set_xlabel(x_label)\n",
    "    ax.set_ylabel(y_label)\n",
    "    ax.legend(['Training-data', 'Test-data'])\n",
    "    ax.set_title(title)"
   ]
  },
  {
   "cell_type": "code",
   "execution_count": 64,
   "metadata": {
    "colab": {
     "base_uri": "https://localhost:8080/",
     "height": 369
    },
    "colab_type": "code",
    "id": "teo6oEqmod3O",
    "outputId": "026ada8a-934b-4149-a5e4-c6ea778e2e3d"
   },
   "outputs": [
    {
     "data": {
      "image/png": "[encoded data removed]",
      "text/plain": [
       "<Figure size 720x360 with 2 Axes>"
      ]
     },
     "metadata": {
      "needs_background": "light",
      "tags": []
     },
     "output_type": "display_data"
    }
   ],
   "source": [
    "plt.close('all')\n",
    "fig, ((ax1, ax2)) = plt.subplots(nrows=1, ncols=2, figsize=(10,5))\n",
    "plot_metrics(ax1, 30, 'loss', 'val_loss', 'no of epochs', 'Loss', 'Loss over no of epochs')\n",
    "plot_metrics(ax2, 30, 'accuracy', 'val_accuracy', 'no of epochs', 'Accuracy', 'Accuracy over no of epochs')\n",
    "plt.tight_layout()\n",
    "plt.show()"
   ]
  },
  {
   "cell_type": "markdown",
   "metadata": {
    "colab_type": "text",
    "id": "WwzDoZZqPavL"
   },
   "source": [
    "#### Observations:\n",
    "- For the last 50 epochs, the training loss is decreasing with less variance, but the test loss is varying with much variance over batches."
   ]
  },
  {
   "cell_type": "markdown",
   "metadata": {
    "colab_type": "text",
    "id": "rpQDgXqpso12"
   },
   "source": [
    "### Predict the classes using above model on Test dataset"
   ]
  },
  {
   "cell_type": "code",
   "execution_count": 0,
   "metadata": {
    "colab": {},
    "colab_type": "code",
    "id": "gWcnCrp6et8N"
   },
   "outputs": [],
   "source": [
    "#Predict the Probabilities and Classes on Test-set\n",
    "y_predict_test = model.predict(X_test)\n",
    "y_predict_test_classes = model.predict_classes(X_test)"
   ]
  },
  {
   "cell_type": "code",
   "execution_count": 70,
   "metadata": {
    "colab": {
     "base_uri": "https://localhost:8080/",
     "height": 85
    },
    "colab_type": "code",
    "id": "nyLBvTl9Byxm",
    "outputId": "d5a6b832-08cd-4d4b-a828-78da560fa6b2"
   },
   "outputs": [
    {
     "data": {
      "text/plain": [
       "array([1.1257671e-11, 4.5336104e-09, 2.4258007e-10, 5.0664233e-09,\n",
       "       2.5576503e-13, 4.5791106e-07, 2.7974900e-10, 1.9093743e-07,\n",
       "       8.0351781e-11, 1.2527059e-07, 9.9999917e-01, 3.7181009e-14],\n",
       "      dtype=float32)"
      ]
     },
     "execution_count": 70,
     "metadata": {
      "tags": []
     },
     "output_type": "execute_result"
    }
   ],
   "source": [
    "#Predicted Probabilities on Test-set\n",
    "#pick any few indices\n",
    "y_predict_test[0]"
   ]
  },
  {
   "cell_type": "code",
   "execution_count": 77,
   "metadata": {
    "colab": {
     "base_uri": "https://localhost:8080/",
     "height": 34
    },
    "colab_type": "code",
    "id": "AWlACcvifAP4",
    "outputId": "d4701afd-b2c9-46ca-f60a-edb812afbf6b"
   },
   "outputs": [
    {
     "data": {
      "text/plain": [
       "array([10,  4,  6,  1,  3, 10])"
      ]
     },
     "execution_count": 77,
     "metadata": {
      "tags": []
     },
     "output_type": "execute_result"
    }
   ],
   "source": [
    "np.argmax(model.predict(X_test), axis=-1)[0:6]"
   ]
  },
  {
   "cell_type": "code",
   "execution_count": 73,
   "metadata": {
    "colab": {
     "base_uri": "https://localhost:8080/",
     "height": 34
    },
    "colab_type": "code",
    "id": "oYxIyPGyC9Pv",
    "outputId": "792ee36d-f4fa-4eff-9fc9-fb0d7f8816fc"
   },
   "outputs": [
    {
     "data": {
      "text/plain": [
       "array([10,  4,  6,  1,  3, 10])"
      ]
     },
     "execution_count": 73,
     "metadata": {
      "tags": []
     },
     "output_type": "execute_result"
    }
   ],
   "source": [
    "#Predicted Classes for Test-set\n",
    "y_predict_test_classes[0:6]"
   ]
  },
  {
   "cell_type": "code",
   "execution_count": 78,
   "metadata": {
    "colab": {
     "base_uri": "https://localhost:8080/",
     "height": 34
    },
    "colab_type": "code",
    "id": "xHRS6B7YDJv2",
    "outputId": "dac2fa24-561a-4101-dbb0-38d32b82d66a"
   },
   "outputs": [
    {
     "data": {
      "text/plain": [
       "array([10,  2,  6,  1,  3, 10])"
      ]
     },
     "execution_count": 78,
     "metadata": {
      "tags": []
     },
     "output_type": "execute_result"
    }
   ],
   "source": [
    "#Actual Classes for Test-set\n",
    "np.argmax(y_test[0:6], axis=1)"
   ]
  },
  {
   "cell_type": "markdown",
   "metadata": {
    "colab_type": "text",
    "id": "Ao0I5ikWsB3q"
   },
   "source": [
    "### Print the classification accuracy metrics, \n",
    "### Confusion Matrix and Classification Report using the built model for Test dataset"
   ]
  },
  {
   "cell_type": "code",
   "execution_count": 80,
   "metadata": {
    "colab": {
     "base_uri": "https://localhost:8080/",
     "height": 34
    },
    "colab_type": "code",
    "id": "6rf-XGFlsJhE",
    "outputId": "b1ab5c18-d612-4d3e-8489-5b8f7efd0d63"
   },
   "outputs": [
    {
     "data": {
      "text/plain": [
       "0.90625"
      ]
     },
     "execution_count": 80,
     "metadata": {
      "tags": []
     },
     "output_type": "execute_result"
    }
   ],
   "source": [
    "#accuracy score on Test dataset\n",
    "accuracy_score(np.argmax(y_test, axis=1), y_predict_test_classes)"
   ]
  },
  {
   "cell_type": "code",
   "execution_count": 82,
   "metadata": {
    "colab": {
     "base_uri": "https://localhost:8080/",
     "height": 34
    },
    "colab_type": "code",
    "id": "tyKW0eCXEjZY",
    "outputId": "e7d66b62-fe6f-4ee8-c03c-b69af6bb2fe3"
   },
   "outputs": [
    {
     "data": {
      "text/plain": [
       "0.9216213474025974"
      ]
     },
     "execution_count": 82,
     "metadata": {
      "tags": []
     },
     "output_type": "execute_result"
    }
   ],
   "source": [
    "#precision score on Test dataset\n",
    "precision_score(np.argmax(y_test, axis=1), y_predict_test_classes, average='weighted', zero_division=1)"
   ]
  },
  {
   "cell_type": "code",
   "execution_count": 84,
   "metadata": {
    "colab": {
     "base_uri": "https://localhost:8080/",
     "height": 34
    },
    "colab_type": "code",
    "id": "Jx_G8dP5EuZW",
    "outputId": "4c915ca0-7538-4db4-8871-e617942f0a17"
   },
   "outputs": [
    {
     "data": {
      "text/plain": [
       "0.90625"
      ]
     },
     "execution_count": 84,
     "metadata": {
      "tags": []
     },
     "output_type": "execute_result"
    }
   ],
   "source": [
    "#recall score on Test dataset\n",
    "recall_score(np.argmax(y_test, axis=1), y_predict_test_classes, average='weighted')"
   ]
  },
  {
   "cell_type": "code",
   "execution_count": 85,
   "metadata": {
    "colab": {
     "base_uri": "https://localhost:8080/",
     "height": 34
    },
    "colab_type": "code",
    "id": "DwYAFQM3FG8P",
    "outputId": "6114733c-29ad-4068-96b0-26c7f83ec821"
   },
   "outputs": [
    {
     "data": {
      "text/plain": [
       "0.8928628663003663"
      ]
     },
     "execution_count": 85,
     "metadata": {
      "tags": []
     },
     "output_type": "execute_result"
    }
   ],
   "source": [
    "#f1 score on Test dataset\n",
    "f1_score(np.argmax(y_test, axis=1), y_predict_test_classes, average='weighted')"
   ]
  },
  {
   "cell_type": "code",
   "execution_count": 86,
   "metadata": {
    "colab": {
     "base_uri": "https://localhost:8080/",
     "height": 221
    },
    "colab_type": "code",
    "id": "HIwqEWhFFRYD",
    "outputId": "50ab309a-ec27-4d2e-fbce-78ac93e0c789"
   },
   "outputs": [
    {
     "data": {
      "text/plain": [
       "array([[ 1,  0,  0,  0,  0,  0,  2,  0,  0,  0,  0,  0],\n",
       "       [ 0,  6,  0,  0,  0,  0,  0,  0,  0,  0,  0,  0],\n",
       "       [ 0,  0,  0,  0,  1,  0,  0,  0,  0,  0,  0,  0],\n",
       "       [ 0,  0,  0,  7,  0,  0,  0,  0,  0,  0,  1,  0],\n",
       "       [ 0,  0,  0,  0,  3,  0,  0,  0,  0,  0,  0,  0],\n",
       "       [ 0,  0,  0,  0,  0,  7,  0,  0,  0,  0,  0,  0],\n",
       "       [ 0,  0,  0,  0,  0,  0,  6,  0,  0,  0,  0,  0],\n",
       "       [ 0,  0,  0,  0,  0,  0,  0,  2,  0,  1,  0,  0],\n",
       "       [ 0,  0,  0,  0,  0,  0,  0,  0,  8,  0,  0,  0],\n",
       "       [ 0,  1,  0,  0,  0,  0,  0,  0,  0,  1,  0,  0],\n",
       "       [ 0,  0,  0,  0,  0,  0,  0,  0,  0,  0, 10,  0],\n",
       "       [ 0,  0,  0,  0,  0,  0,  0,  0,  0,  0,  0,  7]])"
      ]
     },
     "execution_count": 86,
     "metadata": {
      "tags": []
     },
     "output_type": "execute_result"
    }
   ],
   "source": [
    "#Confusion Matrix for Test dataset\n",
    "confusion_matrix(np.argmax(y_test, axis=1), y_predict_test_classes)"
   ]
  },
  {
   "cell_type": "code",
   "execution_count": 88,
   "metadata": {
    "colab": {
     "base_uri": "https://localhost:8080/",
     "height": 340
    },
    "colab_type": "code",
    "id": "1hDw-alwFk61",
    "outputId": "d08bf45e-67a7-42ce-fc38-28aa8906b653"
   },
   "outputs": [
    {
     "name": "stdout",
     "output_type": "stream",
     "text": [
      "              precision    recall  f1-score   support\n",
      "\n",
      "           0       1.00      0.33      0.50         3\n",
      "           1       0.86      1.00      0.92         6\n",
      "           2       1.00      0.00      0.00         1\n",
      "           3       1.00      0.88      0.93         8\n",
      "           4       0.75      1.00      0.86         3\n",
      "           5       1.00      1.00      1.00         7\n",
      "           6       0.75      1.00      0.86         6\n",
      "           7       1.00      0.67      0.80         3\n",
      "           8       1.00      1.00      1.00         8\n",
      "           9       0.50      0.50      0.50         2\n",
      "          10       0.91      1.00      0.95        10\n",
      "          11       1.00      1.00      1.00         7\n",
      "\n",
      "    accuracy                           0.91        64\n",
      "   macro avg       0.90      0.78      0.78        64\n",
      "weighted avg       0.92      0.91      0.89        64\n",
      "\n"
     ]
    }
   ],
   "source": [
    "#Classification Report for Test dataset\n",
    "print(classification_report(np.argmax(y_test, axis=1), y_predict_test_classes, zero_division=1))"
   ]
  },
  {
   "cell_type": "markdown",
   "metadata": {
    "colab_type": "text",
    "id": "gLdWiYsCJxoJ"
   },
   "source": [
    "### Predict the classes using above model on Validation datset"
   ]
  },
  {
   "cell_type": "code",
   "execution_count": 101,
   "metadata": {
    "colab": {
     "base_uri": "https://localhost:8080/",
     "height": 119
    },
    "colab_type": "code",
    "id": "LGThjq1bmEGW",
    "outputId": "9cf95a11-31fa-4d90-d38f-f78c737278d0"
   },
   "outputs": [
    {
     "name": "stdout",
     "output_type": "stream",
     "text": [
      "total 245232\n",
      "-rw-r--r-- 1 root root 107612200 Apr 13 07:58 plant_classification_model_keras.h5\n",
      "-rw-r--r-- 1 root root  35878888 Apr 13 07:58 plant_classification_model_wieghts.h5\n",
      "-rw-r--r-- 1 root root 107612200 Apr 13 07:27 plant_seedings.h5\n",
      "drwxr-xr-x 4 root root      4096 Apr 13 04:46 plant_seedlings\n",
      "drwxr-xr-x 1 root root      4096 Apr  3 16:24 sample_data\n"
     ]
    }
   ],
   "source": [
    "!ls -l"
   ]
  },
  {
   "cell_type": "code",
   "execution_count": 0,
   "metadata": {
    "colab": {},
    "colab_type": "code",
    "id": "OPQHnZdtlDaH"
   },
   "outputs": [],
   "source": [
    "path = 'plant_seedlings/test/*.png'\n",
    "files = glob.glob(path)\n",
    "\n",
    "testImg = []\n",
    "testId = []\n",
    "j = 1\n",
    "num = len(files)\n",
    "transform_fn = tf.keras.preprocessing.image.ImageDataGenerator(rotation_range=20, \n",
    "                                                               width_shift_range=0.2, \n",
    "                                                               height_shift_range=0.2, \n",
    "                                                               horizontal_flip=True, \n",
    "                                                               vertical_flip=False, \n",
    "                                                               validation_split=0.2)\n",
    "\n",
    "# Obtain images and resizing, obtain labels\n",
    "for img in files:\n",
    "    #print(\"Obtain images: \" + str(j) + \"/\" + str(num))#, end='\\r')\n",
    "    testId.append(img.split('/')[-1])  # Images id's\n",
    "    transformed_img = tf.keras.preprocessing.image.img_to_array(tf.keras.preprocessing.image.load_img(img, target_size=(img_size, img_size)))\n",
    "    testImg.append(transform_fn.random_transform(transformed_img))\n",
    "    j+=1"
   ]
  },
  {
   "cell_type": "code",
   "execution_count": 147,
   "metadata": {
    "colab": {
     "base_uri": "https://localhost:8080/",
     "height": 34
    },
    "colab_type": "code",
    "id": "4MGnVMuoqrLU",
    "outputId": "788bfe76-218d-46f3-f99b-3f4acf301079"
   },
   "outputs": [
    {
     "name": "stdout",
     "output_type": "stream",
     "text": [
      "794 794\n"
     ]
    }
   ],
   "source": [
    "print(len(testId),len(testImg))"
   ]
  },
  {
   "cell_type": "code",
   "execution_count": 148,
   "metadata": {
    "colab": {
     "base_uri": "https://localhost:8080/",
     "height": 34
    },
    "colab_type": "code",
    "id": "1LEnTHsktv2g",
    "outputId": "047edd61-ed54-4805-bba8-44b88a3f5461"
   },
   "outputs": [
    {
     "data": {
      "text/plain": [
       "(794, 70, 70, 3)"
      ]
     },
     "execution_count": 148,
     "metadata": {
      "tags": []
     },
     "output_type": "execute_result"
    }
   ],
   "source": [
    "testImg = np.asarray(testImg)\n",
    "testImg.shape\n",
    "#type(testImg)"
   ]
  },
  {
   "cell_type": "code",
   "execution_count": 0,
   "metadata": {
    "colab": {},
    "colab_type": "code",
    "id": "mu3KTJ-9vfIz"
   },
   "outputs": [],
   "source": [
    "#print(testImg[0], testId[0])\n",
    "#testImg.ravel().shape"
   ]
  },
  {
   "cell_type": "code",
   "execution_count": 0,
   "metadata": {
    "colab": {},
    "colab_type": "code",
    "id": "7oGp7UhbJxoJ"
   },
   "outputs": [],
   "source": [
    "#Predict the probability percentages and the classes which were predicted using above model for Validation-set\n",
    "y_predict_val = model.predict(testImg)"
   ]
  },
  {
   "cell_type": "code",
   "execution_count": 184,
   "metadata": {
    "colab": {
     "base_uri": "https://localhost:8080/",
     "height": 816
    },
    "colab_type": "code",
    "id": "_G0uHlq3-eu-",
    "outputId": "eba35d6e-98b9-4c6d-93f2-1558b80d2be5"
   },
   "outputs": [
    {
     "data": {
      "text/plain": [
       "array([ 1,  6,  5,  3,  2,  1,  6,  3,  1,  2,  0,  6, 11,  3,  6, 11,  6,\n",
       "        1,  8,  3, 11,  0,  5,  8,  9, 10,  3,  3, 11,  1,  1, 10,  6,  1,\n",
       "       10, 11,  5,  6,  3,  6,  6,  6,  5,  6,  2,  5,  2,  3,  3,  2,  6,\n",
       "        1, 11,  6,  6, 11,  8,  9,  5,  4,  4,  1,  2,  4,  3,  9,  8,  6,\n",
       "       10,  5,  6,  2,  4, 10,  8,  8,  9,  1,  2,  7,  4,  1,  0,  8,  4,\n",
       "        1, 11, 10,  6,  0,  0,  5,  8,  9,  5,  6,  2,  3,  6, 11,  2,  5,\n",
       "       10,  1,  6,  2,  2,  9,  2,  1,  5,  3,  5,  6,  2,  1,  0,  6,  6,\n",
       "        8, 10,  1,  3,  2,  6,  1,  3,  3,  3,  3,  3,  3,  8,  1,  1,  6,\n",
       "        3,  0,  8,  6, 10,  1,  0, 10,  6,  0,  9,  8,  3,  7,  1, 10,  0,\n",
       "        9,  1, 11, 10,  3,  3,  3,  7, 10,  9,  0,  8,  6, 10,  7, 10,  9,\n",
       "       11,  7,  6,  0,  7, 10,  6,  3, 10,  8,  3,  7,  6,  6,  0,  6,  3,\n",
       "        3,  6,  1,  6, 11, 10,  6,  5,  4,  3,  0,  9,  6, 11, 10,  3,  3,\n",
       "        6, 10,  2,  8,  8,  8,  3,  1,  2,  3,  3,  6,  0,  1,  6,  2,  8,\n",
       "        9,  0,  6,  8,  6,  6,  4, 10,  6,  1,  3,  6,  6, 10,  6, 10,  1,\n",
       "        1,  5,  1,  5, 10, 10,  9,  4,  6,  3,  2,  2,  6, 10,  6,  1,  4,\n",
       "       11,  3,  3,  9, 11,  8,  3,  4,  5,  7,  3, 10,  3,  3,  3,  6,  8,\n",
       "        9,  8,  5,  0,  5, 10,  9,  3,  7,  5,  0,  3,  1,  5, 11, 10,  9,\n",
       "        1,  5,  1,  4,  6,  7,  4,  7,  0,  1,  0,  1, 11,  1,  3,  5,  6,\n",
       "        1,  5, 10,  3, 10,  6,  8,  6,  8,  3,  6,  7,  3,  6,  6,  5,  5,\n",
       "        6, 10,  0,  2,  9, 11, 11,  6,  0,  7, 10,  3,  2,  5,  6,  2,  6,\n",
       "        5,  4,  6, 11, 11,  9,  6,  0,  4,  8, 10, 10,  3,  3, 10,  6,  2,\n",
       "        3,  9,  5,  2,  8,  3, 10, 10,  9,  6,  8, 10,  8,  4,  8,  6, 11,\n",
       "       11,  2,  3,  3, 11,  3,  2,  8,  4,  0,  7,  5,  6,  8,  5, 10,  8,\n",
       "        1,  1, 10,  2,  5,  6,  2, 10,  8,  3,  2,  1, 11,  6, 10,  6,  1,\n",
       "        3,  3,  8, 10,  8,  2, 11, 10, 10,  5,  3,  6,  8, 11,  4,  7,  3,\n",
       "       10,  6, 10,  0,  7,  2,  6, 10,  3,  9, 11,  8, 11,  8,  7,  3, 11,\n",
       "        1,  9,  1,  6,  8,  3, 11,  4,  3, 11,  1,  8,  1,  8,  3,  8,  6,\n",
       "        0,  4,  1,  1,  6, 11,  6,  1,  3,  3,  8,  3,  2,  4,  3,  2,  3,\n",
       "        6,  2,  8,  3,  3,  6, 11,  1,  6,  9, 11,  3,  1,  5,  7,  9,  8,\n",
       "       10,  5,  6, 10,  1,  5,  1,  6,  5, 11, 10, 10, 11,  4, 11,  6, 10,\n",
       "       10,  5,  3,  1, 10,  8,  6,  6,  0,  6,  8,  8, 11, 10,  1,  6, 10,\n",
       "        8,  6,  5,  3,  1, 11,  1,  8,  3,  6,  0,  6,  2,  7,  3,  5, 11,\n",
       "        6,  8, 11,  7,  4, 11,  8, 11, 11,  1,  1, 11,  2,  3, 11,  8,  1,\n",
       "        6, 11,  9,  9,  4,  2,  3,  6,  5,  1,  7,  8,  0,  8, 11,  8,  2,\n",
       "        4,  1,  6, 10,  1, 10,  8,  5,  5,  6,  8,  2,  3,  5, 10,  8,  3,\n",
       "        6,  6,  9,  3,  1,  3, 11,  1, 11,  2,  9,  8,  3,  2,  3,  6,  8,\n",
       "        6,  4,  1,  9,  1,  2,  1,  4,  6, 10,  9,  0, 11,  6,  3,  2,  8,\n",
       "       11,  8, 10,  1,  5,  6,  6, 11,  8,  6,  1,  3, 10, 11,  7, 11,  2,\n",
       "        0,  8, 11,  6,  5, 11,  6,  4, 11,  3,  2,  1,  6,  0, 10,  0,  5,\n",
       "        9, 10,  1,  6,  6,  9, 10,  3,  6,  3,  9,  6,  8,  9,  1,  5,  0,\n",
       "        1,  3,  8, 10,  5,  6,  8,  8, 10, 10,  6,  0, 11,  1,  6,  6,  8,\n",
       "        6,  6,  1, 10,  1,  3,  0,  0,  0,  6,  6, 10,  8,  8, 10,  8,  9,\n",
       "        6,  5,  5,  9, 10,  5,  9,  5, 10,  3,  0,  6, 10,  3,  8,  8,  5,\n",
       "        5,  1,  1,  6,  6,  3,  7, 11,  6, 10,  6,  5, 10,  1,  6,  3,  7,\n",
       "        8,  6,  0,  6,  6,  8,  1,  7,  7,  3, 11, 11,  6,  1,  8,  4,  1,\n",
       "        6,  6,  6,  0,  3,  1,  4,  8,  6, 10, 11,  8,  1,  4,  3,  0,  5,\n",
       "       11, 11,  6, 11, 11,  6,  3,  5,  1, 11,  3,  5])"
      ]
     },
     "execution_count": 184,
     "metadata": {
      "tags": []
     },
     "output_type": "execute_result"
    }
   ],
   "source": [
    "predicted_classes = np.argmax(y_predict_val, axis=1)\n",
    "predicted_classes"
   ]
  },
  {
   "cell_type": "code",
   "execution_count": 0,
   "metadata": {
    "colab": {},
    "colab_type": "code",
    "id": "AK34czUR3vvH"
   },
   "outputs": [],
   "source": [
    "species = []\n",
    "for i in predicted_classes:\n",
    "  if i in (list(train_generator.class_indices.values())):\n",
    "    #print(list(train_generator.class_indices.items())[i][1], list(train_generator.class_indices.items())[i][0])\n",
    "    species.append(list(train_generator.class_indices.items())[i][0])\n",
    "  else:\n",
    "    print('Not present..!!!')"
   ]
  },
  {
   "cell_type": "code",
   "execution_count": 0,
   "metadata": {
    "colab": {},
    "colab_type": "code",
    "id": "b4C8uM3gHGe-"
   },
   "outputs": [],
   "source": [
    "submission = pd.DataFrame(data={'file': testId, 'species': species})"
   ]
  },
  {
   "cell_type": "code",
   "execution_count": 196,
   "metadata": {
    "colab": {
     "base_uri": "https://localhost:8080/",
     "height": 34
    },
    "colab_type": "code",
    "id": "tVpXC9bRHycg",
    "outputId": "c3cb4ff5-7bb2-4786-87dc-a5d940dae3be"
   },
   "outputs": [
    {
     "data": {
      "text/plain": [
       "(794, 2)"
      ]
     },
     "execution_count": 196,
     "metadata": {
      "tags": []
     },
     "output_type": "execute_result"
    }
   ],
   "source": [
    "submission.shape"
   ]
  },
  {
   "cell_type": "code",
   "execution_count": 197,
   "metadata": {
    "colab": {
     "base_uri": "https://localhost:8080/",
     "height": 204
    },
    "colab_type": "code",
    "id": "mVhirGVeIfpm",
    "outputId": "fc7bfaa6-b3a2-4455-f2ee-50e56453e20e"
   },
   "outputs": [
    {
     "data": {
      "text/html": [
       "<div>\n",
       "<style scoped>\n",
       "    .dataframe tbody tr th:only-of-type {\n",
       "        vertical-align: middle;\n",
       "    }\n",
       "\n",
       "    .dataframe tbody tr th {\n",
       "        vertical-align: top;\n",
       "    }\n",
       "\n",
       "    .dataframe thead th {\n",
       "        text-align: right;\n",
       "    }\n",
       "</style>\n",
       "<table border=\"1\" class=\"dataframe\">\n",
       "  <thead>\n",
       "    <tr style=\"text-align: right;\">\n",
       "      <th></th>\n",
       "      <th>file</th>\n",
       "      <th>species</th>\n",
       "    </tr>\n",
       "  </thead>\n",
       "  <tbody>\n",
       "    <tr>\n",
       "      <th>0</th>\n",
       "      <td>69d1669f8.png</td>\n",
       "      <td>Charlock</td>\n",
       "    </tr>\n",
       "    <tr>\n",
       "      <th>1</th>\n",
       "      <td>cf3a8b2fd.png</td>\n",
       "      <td>Loose Silky-bent</td>\n",
       "    </tr>\n",
       "    <tr>\n",
       "      <th>2</th>\n",
       "      <td>429211ee6.png</td>\n",
       "      <td>Fat Hen</td>\n",
       "    </tr>\n",
       "    <tr>\n",
       "      <th>3</th>\n",
       "      <td>7e9cf1c46.png</td>\n",
       "      <td>Common Chickweed</td>\n",
       "    </tr>\n",
       "    <tr>\n",
       "      <th>4</th>\n",
       "      <td>d689256be.png</td>\n",
       "      <td>Cleavers</td>\n",
       "    </tr>\n",
       "  </tbody>\n",
       "</table>\n",
       "</div>"
      ],
      "text/plain": [
       "            file           species\n",
       "0  69d1669f8.png          Charlock\n",
       "1  cf3a8b2fd.png  Loose Silky-bent\n",
       "2  429211ee6.png           Fat Hen\n",
       "3  7e9cf1c46.png  Common Chickweed\n",
       "4  d689256be.png          Cleavers"
      ]
     },
     "execution_count": 197,
     "metadata": {
      "tags": []
     },
     "output_type": "execute_result"
    }
   ],
   "source": [
    "submission.head()"
   ]
  },
  {
   "cell_type": "code",
   "execution_count": 0,
   "metadata": {
    "colab": {},
    "colab_type": "code",
    "id": "NRaPMf7PIlcm"
   },
   "outputs": [],
   "source": [
    "submission.to_csv('plant_seedlings.csv', index=False)"
   ]
  },
  {
   "cell_type": "markdown",
   "metadata": {
    "colab_type": "text",
    "id": "QgjWb8UHMuja"
   },
   "source": [
    "# Kaggle Score : 0.86901\n",
    "### Competition is complete. The rank would be 615"
   ]
  },
  {
   "cell_type": "markdown",
   "metadata": {
    "colab_type": "text",
    "id": "XlireQAjJxoe"
   },
   "source": [
    "### Inference:\n",
    "- The accuracy score on train dataset is 89.1% \n",
    "- The accuracy score on test dataset  is 90.6%\n",
    "- The mean Precision score on validation dataset which was submitted to kaggle is 89.601 %\n",
    "- The model is performing well on both test and validation datasets without any overfiit or under fit"
   ]
  }
 ],
 "metadata": {
  "accelerator": "GPU",
  "colab": {
   "collapsed_sections": [],
   "name": "Keras-ImgAg_Computer Vision with_CNN_R7_Project1_Plant Seedlings Classification.ipynb",
   "provenance": []
  },
  "kernelspec": {
   "display_name": "Python 3",
   "language": "python",
   "name": "python3"
  },
  "language_info": {
   "codemirror_mode": {
    "name": "ipython",
    "version": 3
   },
   "file_extension": ".py",
   "mimetype": "text/x-python",
   "name": "python",
   "nbconvert_exporter": "python",
   "pygments_lexer": "ipython3",
   "version": "3.7.3"
  }
 },
 "nbformat": 4,
 "nbformat_minor": 1
}
