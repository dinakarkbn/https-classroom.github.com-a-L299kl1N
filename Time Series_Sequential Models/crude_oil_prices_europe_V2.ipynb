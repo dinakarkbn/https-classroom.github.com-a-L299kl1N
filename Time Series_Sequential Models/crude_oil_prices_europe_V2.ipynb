{
 "cells": [
  {
   "cell_type": "markdown",
   "metadata": {},
   "source": [
    "### Load required packages"
   ]
  },
  {
   "cell_type": "code",
   "execution_count": 288,
   "metadata": {},
   "outputs": [],
   "source": [
    "import pandas as pd\n",
    "import numpy as np\n",
    "\n",
    "# Import Visualization Packages\n",
    "import matplotlib.pyplot as plt\n",
    "%matplotlib inline\n",
    "import seaborn as sns\n",
    "\n",
    "# set the plot size and plot background\n",
    "sns.set(rc={'figure.figsize':(12,5)})\n",
    "\n",
    "# Import feature scaling methods\n",
    "from sklearn.preprocessing import MinMaxScaler\n",
    "\n",
    "# Import tensorflow\n",
    "import tensorflow as tf\n",
    "\n",
    "# Import keras libraries and Packages\n",
    "from keras import Sequential\n",
    "from keras.layers import Input, LSTM, Dense\n",
    "from keras.models import Model, load_model\n",
    "\n",
    "#Import h5py to save the model\n",
    "import h5py\n",
    "\n",
    "# import performance metrics\n",
    "from sklearn.metrics import mean_absolute_error, mean_squared_error, r2_score"
   ]
  },
  {
   "cell_type": "markdown",
   "metadata": {},
   "source": [
    "### Data Source\n",
    "\n",
    "**U.S. Energy Information Administration, Crude Oil Prices: Brent - Europe [DCOILBRENTEU], retrieved from FRED, Federal Reserve Bank of St. Louis; https://fred.stlouisfed.org/series/DCOILBRENTEU, July 13, 2020.**Units:  Dollars per Barrel, Not Seasonally Adjusted\n",
    "\n",
    "Frequency:  Daily\n",
    "- Units:  Dollars per Barrel, Not Seasonally Adjusted"
   ]
  },
  {
   "cell_type": "markdown",
   "metadata": {},
   "source": [
    "### Load Data"
   ]
  },
  {
   "cell_type": "code",
   "execution_count": 289,
   "metadata": {},
   "outputs": [],
   "source": [
    "# log into dataplatform.ibm.com\n",
    "# source is https://fred.stlouisfed.org/searchresults?st=Crude+Oil+Prices%3A+Brent+-+Europe\n",
    "# Load data\n",
    "\n",
    "data = pd.read_csv('DCOILBRENTEU.csv')"
   ]
  },
  {
   "cell_type": "code",
   "execution_count": 290,
   "metadata": {},
   "outputs": [
    {
     "data": {
      "text/plain": [
       "(8644, 2)"
      ]
     },
     "execution_count": 290,
     "metadata": {},
     "output_type": "execute_result"
    }
   ],
   "source": [
    "data.shape"
   ]
  },
  {
   "cell_type": "code",
   "execution_count": 291,
   "metadata": {},
   "outputs": [
    {
     "data": {
      "text/plain": [
       "Index(['DATE', 'DCOILBRENTEU'], dtype='object')"
      ]
     },
     "execution_count": 291,
     "metadata": {},
     "output_type": "execute_result"
    }
   ],
   "source": [
    "data.columns"
   ]
  },
  {
   "cell_type": "code",
   "execution_count": 292,
   "metadata": {},
   "outputs": [
    {
     "data": {
      "text/html": [
       "<div>\n",
       "<style scoped>\n",
       "    .dataframe tbody tr th:only-of-type {\n",
       "        vertical-align: middle;\n",
       "    }\n",
       "\n",
       "    .dataframe tbody tr th {\n",
       "        vertical-align: top;\n",
       "    }\n",
       "\n",
       "    .dataframe thead th {\n",
       "        text-align: right;\n",
       "    }\n",
       "</style>\n",
       "<table border=\"1\" class=\"dataframe\">\n",
       "  <thead>\n",
       "    <tr style=\"text-align: right;\">\n",
       "      <th></th>\n",
       "      <th>DATE</th>\n",
       "      <th>DCOILBRENTEU</th>\n",
       "    </tr>\n",
       "  </thead>\n",
       "  <tbody>\n",
       "    <tr>\n",
       "      <th>0</th>\n",
       "      <td>1987-05-20</td>\n",
       "      <td>18.63</td>\n",
       "    </tr>\n",
       "    <tr>\n",
       "      <th>1</th>\n",
       "      <td>1987-05-21</td>\n",
       "      <td>18.45</td>\n",
       "    </tr>\n",
       "    <tr>\n",
       "      <th>2</th>\n",
       "      <td>1987-05-22</td>\n",
       "      <td>18.55</td>\n",
       "    </tr>\n",
       "    <tr>\n",
       "      <th>3</th>\n",
       "      <td>1987-05-25</td>\n",
       "      <td>18.60</td>\n",
       "    </tr>\n",
       "    <tr>\n",
       "      <th>4</th>\n",
       "      <td>1987-05-26</td>\n",
       "      <td>18.63</td>\n",
       "    </tr>\n",
       "  </tbody>\n",
       "</table>\n",
       "</div>"
      ],
      "text/plain": [
       "         DATE DCOILBRENTEU\n",
       "0  1987-05-20        18.63\n",
       "1  1987-05-21        18.45\n",
       "2  1987-05-22        18.55\n",
       "3  1987-05-25        18.60\n",
       "4  1987-05-26        18.63"
      ]
     },
     "execution_count": 292,
     "metadata": {},
     "output_type": "execute_result"
    }
   ],
   "source": [
    "data.head()"
   ]
  },
  {
   "cell_type": "markdown",
   "metadata": {},
   "source": [
    "### Data Preprocessing"
   ]
  },
  {
   "cell_type": "code",
   "execution_count": 293,
   "metadata": {},
   "outputs": [
    {
     "data": {
      "text/plain": [
       "234"
      ]
     },
     "execution_count": 293,
     "metadata": {},
     "output_type": "execute_result"
    }
   ],
   "source": [
    "(data['DCOILBRENTEU'] == '.').sum()"
   ]
  },
  {
   "cell_type": "markdown",
   "metadata": {},
   "source": [
    "- There are 234 rows containing '.' values and we will remove them"
   ]
  },
  {
   "cell_type": "code",
   "execution_count": 294,
   "metadata": {},
   "outputs": [
    {
     "data": {
      "text/plain": [
       "(8410, 2)"
      ]
     },
     "execution_count": 294,
     "metadata": {},
     "output_type": "execute_result"
    }
   ],
   "source": [
    "df = data[data['DCOILBRENTEU'] != '.']\n",
    "df.shape"
   ]
  },
  {
   "cell_type": "code",
   "execution_count": 295,
   "metadata": {},
   "outputs": [
    {
     "data": {
      "text/html": [
       "<div>\n",
       "<style scoped>\n",
       "    .dataframe tbody tr th:only-of-type {\n",
       "        vertical-align: middle;\n",
       "    }\n",
       "\n",
       "    .dataframe tbody tr th {\n",
       "        vertical-align: top;\n",
       "    }\n",
       "\n",
       "    .dataframe thead th {\n",
       "        text-align: right;\n",
       "    }\n",
       "</style>\n",
       "<table border=\"1\" class=\"dataframe\">\n",
       "  <thead>\n",
       "    <tr style=\"text-align: right;\">\n",
       "      <th></th>\n",
       "      <th>DATE</th>\n",
       "      <th>DCOILBRENTEU</th>\n",
       "    </tr>\n",
       "  </thead>\n",
       "  <tbody>\n",
       "    <tr>\n",
       "      <th>0</th>\n",
       "      <td>1987-05-20</td>\n",
       "      <td>18.63</td>\n",
       "    </tr>\n",
       "    <tr>\n",
       "      <th>1</th>\n",
       "      <td>1987-05-21</td>\n",
       "      <td>18.45</td>\n",
       "    </tr>\n",
       "    <tr>\n",
       "      <th>2</th>\n",
       "      <td>1987-05-22</td>\n",
       "      <td>18.55</td>\n",
       "    </tr>\n",
       "    <tr>\n",
       "      <th>3</th>\n",
       "      <td>1987-05-25</td>\n",
       "      <td>18.60</td>\n",
       "    </tr>\n",
       "    <tr>\n",
       "      <th>4</th>\n",
       "      <td>1987-05-26</td>\n",
       "      <td>18.63</td>\n",
       "    </tr>\n",
       "  </tbody>\n",
       "</table>\n",
       "</div>"
      ],
      "text/plain": [
       "         DATE DCOILBRENTEU\n",
       "0  1987-05-20        18.63\n",
       "1  1987-05-21        18.45\n",
       "2  1987-05-22        18.55\n",
       "3  1987-05-25        18.60\n",
       "4  1987-05-26        18.63"
      ]
     },
     "execution_count": 295,
     "metadata": {},
     "output_type": "execute_result"
    }
   ],
   "source": [
    "df.head()"
   ]
  },
  {
   "cell_type": "code",
   "execution_count": 296,
   "metadata": {},
   "outputs": [
    {
     "data": {
      "text/plain": [
       "DATE            object\n",
       "DCOILBRENTEU    object\n",
       "dtype: object"
      ]
     },
     "execution_count": 296,
     "metadata": {},
     "output_type": "execute_result"
    }
   ],
   "source": [
    "df.dtypes"
   ]
  },
  {
   "cell_type": "code",
   "execution_count": 297,
   "metadata": {},
   "outputs": [
    {
     "name": "stderr",
     "output_type": "stream",
     "text": [
      "C:\\ProgramData\\Anaconda3\\lib\\site-packages\\pandas\\core\\indexing.py:635: SettingWithCopyWarning: \n",
      "A value is trying to be set on a copy of a slice from a DataFrame.\n",
      "Try using .loc[row_indexer,col_indexer] = value instead\n",
      "\n",
      "See the caveats in the documentation: http://pandas.pydata.org/pandas-docs/stable/indexing.html#indexing-view-versus-copy\n",
      "  self.obj[item_labels[indexer[info_axis]]] = value\n"
     ]
    }
   ],
   "source": [
    "df.loc[:,'DCOILBRENTEU'] = df.loc[:,'DCOILBRENTEU'].astype(np.float32)"
   ]
  },
  {
   "cell_type": "code",
   "execution_count": 298,
   "metadata": {},
   "outputs": [
    {
     "data": {
      "text/plain": [
       "DATE             object\n",
       "DCOILBRENTEU    float32\n",
       "dtype: object"
      ]
     },
     "execution_count": 298,
     "metadata": {},
     "output_type": "execute_result"
    }
   ],
   "source": [
    "df.dtypes"
   ]
  },
  {
   "cell_type": "markdown",
   "metadata": {},
   "source": [
    "### Data Visualization"
   ]
  },
  {
   "cell_type": "code",
   "execution_count": 299,
   "metadata": {},
   "outputs": [
    {
     "data": {
      "image/png": "[encoded data removed]",
      "text/plain": [
       "<Figure size 864x360 with 1 Axes>"
      ]
     },
     "metadata": {},
     "output_type": "display_data"
    }
   ],
   "source": [
    "# Visualize the data\n",
    "#plt.figure(figsize=(12,5))\n",
    "plt.plot(df.DCOILBRENTEU, color='red', label= 'Crude Oil Prices')\n",
    "plt.title('Crude Oil Prices - Historical Data')\n",
    "plt.xlabel('Time (Days)')\n",
    "plt.ylabel('Crude Oil Prices')\n",
    "plt.legend()\n",
    "plt.show()"
   ]
  },
  {
   "cell_type": "markdown",
   "metadata": {},
   "source": [
    "### Batch size and Training set size\n",
    "- With **stateful LSTM's**, the training set size must be divisible by th batch size(modulo=0)\n",
    "\n",
    "### Time steps used for Predictions\n",
    "- the no of timesteps decides no of timesteps in past used to predict the no of timesteps in future to predict the future values\n",
    "\n",
    "### Train Set and Validation Set\n",
    "- The validation or testing set size is decided (usually 10% of data) and the remaining data is considered as Training set."
   ]
  },
  {
   "cell_type": "code",
   "execution_count": 300,
   "metadata": {},
   "outputs": [],
   "source": [
    "# initialize batch size and no of epochs\n",
    "batch_size=64\n",
    "epochs=200\n",
    "timesteps=30\n",
    "test_percent = 0.1"
   ]
  },
  {
   "cell_type": "code",
   "execution_count": 301,
   "metadata": {},
   "outputs": [
    {
     "name": "stdout",
     "output_type": "stream",
     "text": [
      "Length of Dataset =  8410\n",
      "Train Dataset length =  7569.0\n",
      "Validation Dataset length =  841.0\n"
     ]
    }
   ],
   "source": [
    "# Length of Complete Dataset\n",
    "length_df = len(df)\n",
    "print(\"Length of Dataset = \",length_df)\n",
    "\n",
    "# Take Validation set size as 10% of Data and Train set size as 90% of Data\n",
    "train_length = length_df*(1 - 0.1)\n",
    "validation_length = length_df*0.1\n",
    "print(\"Train Dataset length = \",train_length)\n",
    "print(\"Validation Dataset length = \",validation_length)"
   ]
  },
  {
   "cell_type": "markdown",
   "metadata": {},
   "source": [
    "### Construct training set to be used for training"
   ]
  },
  {
   "cell_type": "code",
   "execution_count": 302,
   "metadata": {},
   "outputs": [],
   "source": [
    "# function to get training set length to be used.\n",
    "# training set length must be divisible by batch_size, so that equal number of records are trained for each batch\n",
    "\n",
    "def get_train_length(dataset, batch_size, test_percent):\n",
    "    length_df = len(dataset)\n",
    "    train_length = length_df*(1-test_percent)\n",
    "    train_length_values = []\n",
    "    for x in range(int(train_length)-100, int(train_length)):\n",
    "        modulo = x%batch_size\n",
    "        if(modulo == 0):\n",
    "            train_length_values.append(x)\n",
    "            print(\"training set length divisible by batch size = \", x)\n",
    "    return max(train_length_values)"
   ]
  },
  {
   "cell_type": "code",
   "execution_count": 303,
   "metadata": {},
   "outputs": [
    {
     "name": "stdout",
     "output_type": "stream",
     "text": [
      "training set length divisible by batch size =  7488\n",
      "training set length divisible by batch size =  7552\n",
      "\n",
      "trainingset_length to be used, which is the max length divisible by batch size:\n",
      "training set Length to be used =  7552\n"
     ]
    }
   ],
   "source": [
    "# Get train set length\n",
    "\n",
    "trainingset_length = get_train_length(df, batch_size, test_percent)\n",
    "print(\"\\ntrainingset_length to be used, which is the max length divisible by batch size:\")\n",
    "print(\"training set Length to be used = \", trainingset_length)"
   ]
  },
  {
   "cell_type": "markdown",
   "metadata": {},
   "source": [
    "### Construct Input Data X_train and Output Data y_train"
   ]
  },
  {
   "cell_type": "code",
   "execution_count": 304,
   "metadata": {},
   "outputs": [
    {
     "name": "stdout",
     "output_type": "stream",
     "text": [
      "Upper train length obtainined by adding 2*timesteps to training set length:\n",
      "upper_train =  7612\n",
      "shape of df_train with upper_train limit:  (7612, 2)\n"
     ]
    },
    {
     "data": {
      "text/html": [
       "<div>\n",
       "<style scoped>\n",
       "    .dataframe tbody tr th:only-of-type {\n",
       "        vertical-align: middle;\n",
       "    }\n",
       "\n",
       "    .dataframe tbody tr th {\n",
       "        vertical-align: top;\n",
       "    }\n",
       "\n",
       "    .dataframe thead th {\n",
       "        text-align: right;\n",
       "    }\n",
       "</style>\n",
       "<table border=\"1\" class=\"dataframe\">\n",
       "  <thead>\n",
       "    <tr style=\"text-align: right;\">\n",
       "      <th></th>\n",
       "      <th>DATE</th>\n",
       "      <th>DCOILBRENTEU</th>\n",
       "    </tr>\n",
       "  </thead>\n",
       "  <tbody>\n",
       "    <tr>\n",
       "      <th>0</th>\n",
       "      <td>1987-05-20</td>\n",
       "      <td>18.629999</td>\n",
       "    </tr>\n",
       "    <tr>\n",
       "      <th>1</th>\n",
       "      <td>1987-05-21</td>\n",
       "      <td>18.450001</td>\n",
       "    </tr>\n",
       "    <tr>\n",
       "      <th>2</th>\n",
       "      <td>1987-05-22</td>\n",
       "      <td>18.549999</td>\n",
       "    </tr>\n",
       "  </tbody>\n",
       "</table>\n",
       "</div>"
      ],
      "text/plain": [
       "         DATE  DCOILBRENTEU\n",
       "0  1987-05-20     18.629999\n",
       "1  1987-05-21     18.450001\n",
       "2  1987-05-22     18.549999"
      ]
     },
     "execution_count": 304,
     "metadata": {},
     "output_type": "execute_result"
    }
   ],
   "source": [
    "# upper train is obtained by Adding timesteps*2 to trainingset_length and \n",
    "# constructing train dataset to split into X_train and y_train based on no of timesteps\n",
    "# upper_train = trainingset_length + 2*ts\n",
    "\n",
    "upper_train = trainingset_length + timesteps*2\n",
    "print(\"Upper train length obtainined by adding 2*timesteps to training set length:\\nupper_train = \", upper_train)\n",
    "\n",
    "# Create df_train --- df with upper_train as length of df\n",
    "df_train = df.iloc[0:upper_train]\n",
    "print(\"shape of df_train with upper_train limit: \",df_train.shape)\n",
    "df_train.head(3)"
   ]
  },
  {
   "cell_type": "code",
   "execution_count": 305,
   "metadata": {},
   "outputs": [
    {
     "name": "stdout",
     "output_type": "stream",
     "text": [
      "shape of training_set  created with only 1 column:  (7612, 1)\n"
     ]
    },
    {
     "data": {
      "text/plain": [
       "array([[18.63],\n",
       "       [18.45],\n",
       "       [18.55]], dtype=float32)"
      ]
     },
     "execution_count": 305,
     "metadata": {},
     "output_type": "execute_result"
    }
   ],
   "source": [
    "# take only the DCOILBRENTEU column and create training set, as we do not require DATE column for Model building\n",
    "\n",
    "training_set = df_train.iloc[:,1:2].values\n",
    "print(\"shape of training_set  created with only 1 column: \",training_set.shape)\n",
    "training_set[0:3]"
   ]
  },
  {
   "cell_type": "code",
   "execution_count": 306,
   "metadata": {},
   "outputs": [
    {
     "name": "stdout",
     "output_type": "stream",
     "text": [
      "scaled training_set shape:  (7612, 1)\n"
     ]
    }
   ],
   "source": [
    "# Feature Scaling\n",
    "# scale training_set before splitting into X_train and y_train\n",
    "\n",
    "minmax_scaler = MinMaxScaler(feature_range=(0,1))\n",
    "training_set_scaled = minmax_scaler.fit_transform(training_set)\n",
    "print(\"scaled training_set shape: \",training_set_scaled.shape)"
   ]
  },
  {
   "cell_type": "code",
   "execution_count": 307,
   "metadata": {},
   "outputs": [
    {
     "name": "stdout",
     "output_type": "stream",
     "text": [
      "trainingset_length = 7552\n",
      "no of timesteps= 30\n",
      "trainingset_length+timesteps=7582\n",
      "\n",
      "length of X_train =  7552\n",
      "length of y_train =  7552\n"
     ]
    }
   ],
   "source": [
    "# Split training_set into X_train and y_train datasets, ie, feature-set and target\n",
    "# X_train ---- i-timesteps:i\n",
    "# y_train ---- i:i+timesteps\n",
    "\n",
    "X_train, y_train = [],[]\n",
    "print(\"trainingset_length = {}\\nno of timesteps= {}\\ntrainingset_length+timesteps={}\".format(trainingset_length, \n",
    "                                                                                             timesteps, \n",
    "                                                                                             trainingset_length+timesteps))\n",
    "\n",
    "for i in range(timesteps,(trainingset_length+timesteps)):\n",
    "    #print(i-timesteps,i, i+timesteps)\n",
    "    X_train.append(training_set_scaled[i-timesteps:i,0])\n",
    "    y_train.append(training_set_scaled[i:i+timesteps,0])\n",
    "\n",
    "print(\"\\nlength of X_train = \",len(X_train))\n",
    "print(\"length of y_train = \",len(y_train))\n"
   ]
  },
  {
   "cell_type": "code",
   "execution_count": 308,
   "metadata": {},
   "outputs": [
    {
     "name": "stdout",
     "output_type": "stream",
     "text": [
      "shape of X_train = (7552, 30)\n",
      "shape of y_train = (7552, 30)\n"
     ]
    }
   ],
   "source": [
    "# Convert X_train, y_train to np array\n",
    "\n",
    "#print(type(X_train), type(y_train))\n",
    "X_train, y_train = np.array(X_train), np.array(y_train)\n",
    "print(\"shape of X_train = {}\\nshape of y_train = {}\".format(X_train.shape, y_train.shape))\n",
    "#print(type(X_train), type(y_train))"
   ]
  },
  {
   "cell_type": "code",
   "execution_count": 309,
   "metadata": {},
   "outputs": [
    {
     "data": {
      "text/plain": [
       "array([[0.07067111, 0.06933631, 0.07007787, 0.07044865, 0.07067111,\n",
       "        0.07044865, 0.07044865, 0.07030034, 0.07081942, 0.0710419 ,\n",
       "        0.07156099, 0.07178347, 0.07081942, 0.07156099, 0.07178347,\n",
       "        0.07178347, 0.0710419 , 0.07178347, 0.07267334, 0.07363738,\n",
       "        0.07378568, 0.07378568, 0.07415648, 0.07267334, 0.07156099,\n",
       "        0.07119022, 0.07400815, 0.07452725, 0.07400815, 0.0732666 ],\n",
       "       [0.06933631, 0.07007787, 0.07044865, 0.07067111, 0.07044865,\n",
       "        0.07044865, 0.07030034, 0.07081942, 0.0710419 , 0.07156099,\n",
       "        0.07178347, 0.07081942, 0.07156099, 0.07178347, 0.07178347,\n",
       "        0.0710419 , 0.07178347, 0.07267334, 0.07363738, 0.07378568,\n",
       "        0.07378568, 0.07415648, 0.07267334, 0.07156099, 0.07119022,\n",
       "        0.07400815, 0.07452725, 0.07400815, 0.0732666 , 0.07526882]],\n",
       "      dtype=float32)"
      ]
     },
     "execution_count": 309,
     "metadata": {},
     "output_type": "execute_result"
    }
   ],
   "source": [
    "X_train[0:2]"
   ]
  },
  {
   "cell_type": "code",
   "execution_count": 310,
   "metadata": {},
   "outputs": [
    {
     "data": {
      "text/plain": [
       "array([[0.07526882, 0.07586206, 0.07697442, 0.07712273, 0.07697442,\n",
       "        0.07845755, 0.07882832, 0.07956989, 0.07994068, 0.08290695,\n",
       "        0.08379681, 0.0855024 , 0.08490916, 0.08342603, 0.08327772,\n",
       "        0.0819429 , 0.07771598, 0.07563959, 0.07919912, 0.08068223,\n",
       "        0.08231369, 0.08105303, 0.08787543, 0.08565073, 0.07934742,\n",
       "        0.07897665, 0.07823507, 0.07660364, 0.07675196, 0.07712273],\n",
       "       [0.07586206, 0.07697442, 0.07712273, 0.07697442, 0.07845755,\n",
       "        0.07882832, 0.07956989, 0.07994068, 0.08290695, 0.08379681,\n",
       "        0.0855024 , 0.08490916, 0.08342603, 0.08327772, 0.0819429 ,\n",
       "        0.07771598, 0.07563959, 0.07919912, 0.08068223, 0.08231369,\n",
       "        0.08105303, 0.08787543, 0.08565073, 0.07934742, 0.07897665,\n",
       "        0.07823507, 0.07660364, 0.07675196, 0.07712273, 0.07638116]],\n",
       "      dtype=float32)"
      ]
     },
     "execution_count": 310,
     "metadata": {},
     "output_type": "execute_result"
    }
   ],
   "source": [
    "y_train[0:2]"
   ]
  },
  {
   "cell_type": "code",
   "execution_count": 311,
   "metadata": {},
   "outputs": [
    {
     "name": "stdout",
     "output_type": "stream",
     "text": [
      "shape of X_train after reshaping = (7552, 30, 1)\n",
      "shape of y_train after reshaping = (7552, 30, 1)\n"
     ]
    }
   ],
   "source": [
    "#Reshape X_train and y_train into 3-Dim data - (no of observations, no of timesteps, no of features)\n",
    "\n",
    "X_train = np.reshape(X_train,(X_train.shape[0], X_train.shape[1],1))\n",
    "y_train = np.reshape(y_train, (y_train.shape[0], y_train.shape[1],1))\n",
    "print(\"shape of X_train after reshaping = {}\\nshape of y_train after reshaping = {}\".format(X_train.shape,\n",
    "                                                                                            y_train.shape))"
   ]
  },
  {
   "cell_type": "markdown",
   "metadata": {},
   "source": [
    "### Build an LSTM Model using MAE as the metric for loss function"
   ]
  },
  {
   "cell_type": "markdown",
   "metadata": {},
   "source": [
    "### Stateful and Stateless LSTM\n",
    "- **Stateless:**  LSTM updates parameters on **batch1** and then initiates hidden states and cell states (Dynamic Memory) for **batch2** usually with zeros\n",
    "- **Stateful:** LSTM uses the last output hidden states and cell states of batch1 to initiate the states for batch2\n",
    "- When sequences in batches are **related to each other**, the it is better to use **stateful mode** (eg: prices of one commodity)\n",
    "- When sequences in batches represent **complete sentences/text**, and are not related to each other we should use **stateless mode**"
   ]
  },
  {
   "cell_type": "markdown",
   "metadata": {},
   "source": [
    "### Anatomy of LSTM Cell\n",
    "- LSTM cell has 3 Gates\n",
    "    - Input Gate (What information to let in from Cell state)\n",
    "    - Forget Gate (What information to forget from Cell state)\n",
    "    - Output Gate (What information to write to Output)\n",
    "- LSTM Candidate Cell Sate is the local memory\n",
    "- LSTM Hidden state is is equivalent to Cell Output\n",
    "    - lstm_hidden_state_size (number ofneurons = memory cells) = lstm_output_size\n",
    "    \n",
    "### Number of Parameters and Model Summary\n",
    "- Parameters\n",
    "    - weights for the inputs (lstm_inputs_size)\n",
    "    - weights for the outputs (lstm_outputs_size = lstm_hidden_state_size)\n",
    "    - bias variable\n",
    "- Result/Total no of Parameters for all 3 gates and candidate cell state = 4\n",
    "\n",
    "**NO OF PARAMETERS = 4 x LSTM outputs x (weights_lstm_inputs_size + weights_lstm_output_size + 1 bias_variable)**"
   ]
  },
  {
   "cell_type": "markdown",
   "metadata": {},
   "source": [
    "### Designing the LSTM Network in Keras\n",
    "- Two approaches for designing an LSTM API : Sequential model and Functional API\n",
    "- A Keras Sequential API is appropriate for a plain stack of layers where each layer has exactly one input tensor and one output tensor.\n",
    "- The Keras functional API is a way to create models that is more flexible than the tf.keras.Sequential API. The functional API can handle models with non-linear topology, models with shared layers, and models with multiple inputs or outputs."
   ]
  },
  {
   "cell_type": "code",
   "execution_count": 312,
   "metadata": {},
   "outputs": [
    {
     "name": "stdout",
     "output_type": "stream",
     "text": [
      "Model: \"model_4\"\n",
      "_________________________________________________________________\n",
      "Layer (type)                 Output Shape              Param #   \n",
      "=================================================================\n",
      "input_4 (InputLayer)         (64, 30, 1)               0         \n",
      "_________________________________________________________________\n",
      "lstm_8 (LSTM)                (64, 30, 128)             66560     \n",
      "_________________________________________________________________\n",
      "lstm_9 (LSTM)                (64, 30, 64)              49408     \n",
      "_________________________________________________________________\n",
      "dense_4 (Dense)              (64, 30, 1)               65        \n",
      "=================================================================\n",
      "Total params: 116,033\n",
      "Trainable params: 116,033\n",
      "Non-trainable params: 0\n",
      "_________________________________________________________________\n"
     ]
    }
   ],
   "source": [
    "# Initialize LSTM model with MAE loss function using Functional API\n",
    "\n",
    "# Input layer\n",
    "inputs_1_mae = Input(batch_shape=(batch_size, timesteps, 1))\n",
    "\n",
    "#lstm layers\n",
    "lstm_1_mae = LSTM(units=128, stateful=True, return_sequences=True)(inputs_1_mae)\n",
    "lstm_2_mae = LSTM(units=64, stateful=True, return_sequences=True)(lstm_1_mae)\n",
    "\n",
    "#output layer\n",
    "output_1_mae = Dense(units=1)(lstm_2_mae)\n",
    "\n",
    "# Define the LSTM model using Model class, which takes input layer and output layer as parameters\n",
    "regressor_mae = Model(inputs=inputs_1_mae, outputs=output_1_mae)\n",
    "\n",
    "# Compile the model\n",
    "regressor_mae.compile(optimizer='adam', loss='mae')\n",
    "\n",
    "# Model summary\n",
    "regressor_mae.summary()"
   ]
  },
  {
   "cell_type": "code",
   "execution_count": 313,
   "metadata": {},
   "outputs": [
    {
     "name": "stdout",
     "output_type": "stream",
     "text": [
      "No of Parameters in LSTM 1 layer 4352\n",
      "No of Parameters in LSTM 2 layer 3136\n",
      "No of Parameters in Dense layer 17\n"
     ]
    }
   ],
   "source": [
    "#NO OF PARAMETERS = 4 x LSTM outputs x (weights_lstm_inputs_size + weights_lstm_output_size + 1 bias_variable)\n",
    "# Calculate No of Parameters for 1st LSTM layer\n",
    "lstm_1_params = 4 * 32 *(1 + 32 + 1)\n",
    "print(\"No of Parameters in LSTM 1 layer\", lstm_1_params)\n",
    "\n",
    "# Calculate No of Parameters for 2nd LSTM layer\n",
    "lstm_2_params = 4 * 16 *(32 + 16 + 1)\n",
    "print(\"No of Parameters in LSTM 2 layer\", lstm_2_params)\n",
    "\n",
    "# Calculate No of Parameters for Dense layer\n",
    "dense_params = 16+1\n",
    "print(\"No of Parameters in Dense layer\", dense_params)"
   ]
  },
  {
   "cell_type": "markdown",
   "metadata": {},
   "source": [
    "### Training the model"
   ]
  },
  {
   "cell_type": "code",
   "execution_count": 314,
   "metadata": {
    "scrolled": false
   },
   "outputs": [
    {
     "name": "stdout",
     "output_type": "stream",
     "text": [
      "Epoch: 1\n",
      "Epoch 1/1\n",
      "7552/7552 [==============================] - 8s 1ms/step - loss: 0.0480\n",
      "Epoch: 2\n",
      "Epoch 1/1\n",
      "7552/7552 [==============================] - 7s 989us/step - loss: 0.0539\n",
      "Epoch: 3\n",
      "Epoch 1/1\n",
      "7552/7552 [==============================] - 8s 995us/step - loss: 0.0693\n",
      "Epoch: 4\n",
      "Epoch 1/1\n",
      "7552/7552 [==============================] - 7s 990us/step - loss: 0.1002\n",
      "Epoch: 5\n",
      "Epoch 1/1\n",
      "7552/7552 [==============================] - 7s 992us/step - loss: 0.0843\n",
      "Epoch: 6\n",
      "Epoch 1/1\n",
      "7552/7552 [==============================] - 7s 993us/step - loss: 0.0883\n",
      "Epoch: 7\n",
      "Epoch 1/1\n",
      "7552/7552 [==============================] - 8s 1ms/step - loss: 0.1081\n",
      "Epoch: 8\n",
      "Epoch 1/1\n",
      "7552/7552 [==============================] - 8s 1ms/step - loss: 0.1091\n",
      "Epoch: 9\n",
      "Epoch 1/1\n",
      "7552/7552 [==============================] - 8s 1ms/step - loss: 0.1043\n",
      "Epoch: 10\n",
      "Epoch 1/1\n",
      "7552/7552 [==============================] - 8s 1ms/step - loss: 0.0924\n",
      "Epoch: 11\n",
      "Epoch 1/1\n",
      "7552/7552 [==============================] - 8s 1ms/step - loss: 0.0903\n",
      "Epoch: 12\n",
      "Epoch 1/1\n",
      "7552/7552 [==============================] - 8s 1ms/step - loss: 0.0814\n",
      "Epoch: 13\n",
      "Epoch 1/1\n",
      "7552/7552 [==============================] - 8s 1ms/step - loss: 0.0733\n",
      "Epoch: 14\n",
      "Epoch 1/1\n",
      "7552/7552 [==============================] - 8s 1ms/step - loss: 0.0636\n",
      "Epoch: 15\n",
      "Epoch 1/1\n",
      "7552/7552 [==============================] - 8s 1ms/step - loss: 0.0524\n",
      "Epoch: 16\n",
      "Epoch 1/1\n",
      "7552/7552 [==============================] - 8s 1ms/step - loss: 0.0499\n",
      "Epoch: 17\n",
      "Epoch 1/1\n",
      "7552/7552 [==============================] - 8s 1ms/step - loss: 0.0497\n",
      "Epoch: 18\n",
      "Epoch 1/1\n",
      "7552/7552 [==============================] - 8s 1ms/step - loss: 0.0492\n",
      "Epoch: 19\n",
      "Epoch 1/1\n",
      "7552/7552 [==============================] - 8s 1ms/step - loss: 0.0494\n",
      "Epoch: 20\n",
      "Epoch 1/1\n",
      "7552/7552 [==============================] - 8s 1ms/step - loss: 0.0500\n",
      "Epoch: 21\n",
      "Epoch 1/1\n",
      "7552/7552 [==============================] - 8s 1ms/step - loss: 0.0489\n",
      "Epoch: 22\n",
      "Epoch 1/1\n",
      "7552/7552 [==============================] - 8s 1ms/step - loss: 0.0491\n",
      "Epoch: 23\n",
      "Epoch 1/1\n",
      "7552/7552 [==============================] - 8s 1ms/step - loss: 0.0477\n",
      "Epoch: 24\n",
      "Epoch 1/1\n",
      "7552/7552 [==============================] - 8s 1ms/step - loss: 0.0469\n",
      "Epoch: 25\n",
      "Epoch 1/1\n",
      "7552/7552 [==============================] - 8s 1ms/step - loss: 0.0467\n",
      "Epoch: 26\n",
      "Epoch 1/1\n",
      "7552/7552 [==============================] - 8s 1ms/step - loss: 0.0467\n",
      "Epoch: 27\n",
      "Epoch 1/1\n",
      "7552/7552 [==============================] - 8s 1ms/step - loss: 0.0456\n",
      "Epoch: 28\n",
      "Epoch 1/1\n",
      "7552/7552 [==============================] - 8s 1ms/step - loss: 0.0458\n",
      "Epoch: 29\n",
      "Epoch 1/1\n",
      "7552/7552 [==============================] - 8s 1ms/step - loss: 0.0456\n",
      "Epoch: 30\n",
      "Epoch 1/1\n",
      "7552/7552 [==============================] - 8s 1ms/step - loss: 0.0442\n",
      "Epoch: 31\n",
      "Epoch 1/1\n",
      "7552/7552 [==============================] - 8s 1ms/step - loss: 0.0447\n",
      "Epoch: 32\n",
      "Epoch 1/1\n",
      "7552/7552 [==============================] - 8s 1ms/step - loss: 0.0449\n",
      "Epoch: 33\n",
      "Epoch 1/1\n",
      "7552/7552 [==============================] - 8s 1ms/step - loss: 0.0432\n",
      "Epoch: 34\n",
      "Epoch 1/1\n",
      "7552/7552 [==============================] - 8s 1ms/step - loss: 0.0431\n",
      "Epoch: 35\n",
      "Epoch 1/1\n",
      "7552/7552 [==============================] - 8s 1ms/step - loss: 0.0429\n",
      "Epoch: 36\n",
      "Epoch 1/1\n",
      "7552/7552 [==============================] - 8s 1ms/step - loss: 0.0423\n",
      "Epoch: 37\n",
      "Epoch 1/1\n",
      "7552/7552 [==============================] - 8s 1ms/step - loss: 0.0421\n",
      "Epoch: 38\n",
      "Epoch 1/1\n",
      "7552/7552 [==============================] - 8s 1ms/step - loss: 0.0430\n",
      "Epoch: 39\n",
      "Epoch 1/1\n",
      "7552/7552 [==============================] - 8s 1ms/step - loss: 0.0421\n",
      "Epoch: 40\n",
      "Epoch 1/1\n",
      "7552/7552 [==============================] - 8s 1ms/step - loss: 0.0414\n",
      "Epoch: 41\n",
      "Epoch 1/1\n",
      "7552/7552 [==============================] - 8s 1ms/step - loss: 0.0410\n",
      "Epoch: 42\n",
      "Epoch 1/1\n",
      "7552/7552 [==============================] - 8s 1ms/step - loss: 0.0413\n",
      "Epoch: 43\n",
      "Epoch 1/1\n",
      "7552/7552 [==============================] - 8s 1ms/step - loss: 0.0404\n",
      "Epoch: 44\n",
      "Epoch 1/1\n",
      "7552/7552 [==============================] - 8s 1ms/step - loss: 0.0410\n",
      "Epoch: 45\n",
      "Epoch 1/1\n",
      "7552/7552 [==============================] - 8s 1ms/step - loss: 0.0407\n",
      "Epoch: 46\n",
      "Epoch 1/1\n",
      "7552/7552 [==============================] - 8s 1ms/step - loss: 0.0396\n",
      "Epoch: 47\n",
      "Epoch 1/1\n",
      "7552/7552 [==============================] - 8s 1ms/step - loss: 0.0405\n",
      "Epoch: 48\n",
      "Epoch 1/1\n",
      "7552/7552 [==============================] - 8s 1ms/step - loss: 0.0404\n",
      "Epoch: 49\n",
      "Epoch 1/1\n",
      "7552/7552 [==============================] - 8s 1ms/step - loss: 0.0399\n",
      "Epoch: 50\n",
      "Epoch 1/1\n",
      "7552/7552 [==============================] - 8s 1ms/step - loss: 0.0402\n",
      "Epoch: 51\n",
      "Epoch 1/1\n",
      "7552/7552 [==============================] - 8s 1ms/step - loss: 0.0396\n",
      "Epoch: 52\n",
      "Epoch 1/1\n",
      "7552/7552 [==============================] - 8s 1ms/step - loss: 0.0391\n",
      "Epoch: 53\n",
      "Epoch 1/1\n",
      "7552/7552 [==============================] - 8s 1ms/step - loss: 0.0388\n",
      "Epoch: 54\n",
      "Epoch 1/1\n",
      "7552/7552 [==============================] - 8s 1ms/step - loss: 0.0386\n",
      "Epoch: 55\n",
      "Epoch 1/1\n",
      "7552/7552 [==============================] - 8s 1ms/step - loss: 0.0381\n",
      "Epoch: 56\n",
      "Epoch 1/1\n",
      "7552/7552 [==============================] - 8s 1ms/step - loss: 0.0384\n",
      "Epoch: 57\n",
      "Epoch 1/1\n",
      "7552/7552 [==============================] - 8s 1ms/step - loss: 0.0384\n",
      "Epoch: 58\n",
      "Epoch 1/1\n",
      "7552/7552 [==============================] - 8s 1ms/step - loss: 0.0389\n",
      "Epoch: 59\n",
      "Epoch 1/1\n",
      "7552/7552 [==============================] - 8s 1ms/step - loss: 0.0384\n",
      "Epoch: 60\n",
      "Epoch 1/1\n",
      "7552/7552 [==============================] - 8s 1ms/step - loss: 0.0384\n",
      "Epoch: 61\n",
      "Epoch 1/1\n",
      "7552/7552 [==============================] - 8s 1ms/step - loss: 0.0379\n",
      "Epoch: 62\n",
      "Epoch 1/1\n",
      "7552/7552 [==============================] - 8s 1ms/step - loss: 0.0379\n",
      "Epoch: 63\n",
      "Epoch 1/1\n",
      "7552/7552 [==============================] - 8s 1ms/step - loss: 0.0378\n",
      "Epoch: 64\n",
      "Epoch 1/1\n",
      "7552/7552 [==============================] - 8s 1ms/step - loss: 0.0378\n",
      "Epoch: 65\n",
      "Epoch 1/1\n",
      "7552/7552 [==============================] - 8s 1ms/step - loss: 0.0376\n",
      "Epoch: 66\n",
      "Epoch 1/1\n",
      "7552/7552 [==============================] - 8s 1ms/step - loss: 0.0378\n",
      "Epoch: 67\n",
      "Epoch 1/1\n",
      "7552/7552 [==============================] - 8s 1ms/step - loss: 0.0370\n",
      "Epoch: 68\n",
      "Epoch 1/1\n",
      "7552/7552 [==============================] - 8s 1ms/step - loss: 0.0368\n",
      "Epoch: 69\n",
      "Epoch 1/1\n",
      "7552/7552 [==============================] - 8s 1ms/step - loss: 0.0368\n",
      "Epoch: 70\n",
      "Epoch 1/1\n",
      "7552/7552 [==============================] - 8s 1ms/step - loss: 0.0366\n",
      "Epoch: 71\n",
      "Epoch 1/1\n",
      "7552/7552 [==============================] - 8s 1ms/step - loss: 0.0366\n",
      "Epoch: 72\n",
      "Epoch 1/1\n",
      "7552/7552 [==============================] - 8s 1ms/step - loss: 0.0368\n",
      "Epoch: 73\n",
      "Epoch 1/1\n",
      "7552/7552 [==============================] - 8s 1ms/step - loss: 0.0367\n",
      "Epoch: 74\n",
      "Epoch 1/1\n",
      "7552/7552 [==============================] - 8s 1ms/step - loss: 0.0365\n",
      "Epoch: 75\n",
      "Epoch 1/1\n",
      "7552/7552 [==============================] - 8s 1ms/step - loss: 0.0369\n",
      "Epoch: 76\n",
      "Epoch 1/1\n",
      "7552/7552 [==============================] - 8s 1ms/step - loss: 0.0367\n",
      "Epoch: 77\n",
      "Epoch 1/1\n",
      "7552/7552 [==============================] - 8s 1ms/step - loss: 0.0368\n",
      "Epoch: 78\n",
      "Epoch 1/1\n",
      "7552/7552 [==============================] - 8s 1ms/step - loss: 0.0368\n",
      "Epoch: 79\n",
      "Epoch 1/1\n",
      "7552/7552 [==============================] - 8s 1ms/step - loss: 0.0365\n",
      "Epoch: 80\n",
      "Epoch 1/1\n",
      "7552/7552 [==============================] - 8s 1ms/step - loss: 0.0361\n",
      "Epoch: 81\n",
      "Epoch 1/1\n",
      "7552/7552 [==============================] - 8s 1ms/step - loss: 0.0362\n",
      "Epoch: 82\n",
      "Epoch 1/1\n",
      "7552/7552 [==============================] - 8s 1ms/step - loss: 0.0362\n",
      "Epoch: 83\n",
      "Epoch 1/1\n",
      "7552/7552 [==============================] - 8s 1ms/step - loss: 0.0361\n",
      "Epoch: 84\n",
      "Epoch 1/1\n",
      "7552/7552 [==============================] - 8s 1ms/step - loss: 0.0363\n",
      "Epoch: 85\n",
      "Epoch 1/1\n",
      "7552/7552 [==============================] - 8s 1ms/step - loss: 0.0362\n",
      "Epoch: 86\n",
      "Epoch 1/1\n",
      "7552/7552 [==============================] - 8s 1ms/step - loss: 0.0360\n",
      "Epoch: 87\n",
      "Epoch 1/1\n",
      "7552/7552 [==============================] - 8s 1ms/step - loss: 0.0361\n",
      "Epoch: 88\n",
      "Epoch 1/1\n",
      "7552/7552 [==============================] - 8s 1ms/step - loss: 0.0362\n",
      "Epoch: 89\n",
      "Epoch 1/1\n",
      "7552/7552 [==============================] - 8s 1ms/step - loss: 0.0360\n",
      "Epoch: 90\n",
      "Epoch 1/1\n"
     ]
    },
    {
     "name": "stdout",
     "output_type": "stream",
     "text": [
      "7552/7552 [==============================] - 8s 1ms/step - loss: 0.0359\n",
      "Epoch: 91\n",
      "Epoch 1/1\n",
      "7552/7552 [==============================] - 8s 1ms/step - loss: 0.0360\n",
      "Epoch: 92\n",
      "Epoch 1/1\n",
      "7552/7552 [==============================] - 8s 1ms/step - loss: 0.0359\n",
      "Epoch: 93\n",
      "Epoch 1/1\n",
      "7552/7552 [==============================] - 8s 1ms/step - loss: 0.0362\n",
      "Epoch: 94\n",
      "Epoch 1/1\n",
      "7552/7552 [==============================] - 8s 1ms/step - loss: 0.0358\n",
      "Epoch: 95\n",
      "Epoch 1/1\n",
      "7552/7552 [==============================] - 8s 1ms/step - loss: 0.0354\n",
      "Epoch: 96\n",
      "Epoch 1/1\n",
      "7552/7552 [==============================] - 8s 1ms/step - loss: 0.0355\n",
      "Epoch: 97\n",
      "Epoch 1/1\n",
      "7552/7552 [==============================] - 8s 1ms/step - loss: 0.0355\n",
      "Epoch: 98\n",
      "Epoch 1/1\n",
      "7552/7552 [==============================] - 8s 1ms/step - loss: 0.0357\n",
      "Epoch: 99\n",
      "Epoch 1/1\n",
      "7552/7552 [==============================] - 8s 1ms/step - loss: 0.0356\n",
      "Epoch: 100\n",
      "Epoch 1/1\n",
      "7552/7552 [==============================] - 8s 1ms/step - loss: 0.0357\n",
      "Epoch: 101\n",
      "Epoch 1/1\n",
      "7552/7552 [==============================] - 8s 1ms/step - loss: 0.0357\n",
      "Epoch: 102\n",
      "Epoch 1/1\n",
      "7552/7552 [==============================] - 8s 1ms/step - loss: 0.0356\n",
      "Epoch: 103\n",
      "Epoch 1/1\n",
      "7552/7552 [==============================] - 8s 1ms/step - loss: 0.0356\n",
      "Epoch: 104\n",
      "Epoch 1/1\n",
      "7552/7552 [==============================] - 8s 1ms/step - loss: 0.0356\n",
      "Epoch: 105\n",
      "Epoch 1/1\n",
      "7552/7552 [==============================] - 8s 1ms/step - loss: 0.0355\n",
      "Epoch: 106\n",
      "Epoch 1/1\n",
      "7552/7552 [==============================] - 8s 1ms/step - loss: 0.0355\n",
      "Epoch: 107\n",
      "Epoch 1/1\n",
      "7552/7552 [==============================] - 8s 1ms/step - loss: 0.0355\n",
      "Epoch: 108\n",
      "Epoch 1/1\n",
      "7552/7552 [==============================] - 8s 1ms/step - loss: 0.0354\n",
      "Epoch: 109\n",
      "Epoch 1/1\n",
      "7552/7552 [==============================] - 8s 1ms/step - loss: 0.0357\n",
      "Epoch: 110\n",
      "Epoch 1/1\n",
      "7552/7552 [==============================] - 8s 1ms/step - loss: 0.0355\n",
      "Epoch: 111\n",
      "Epoch 1/1\n",
      "7552/7552 [==============================] - 8s 1ms/step - loss: 0.0356\n",
      "Epoch: 112\n",
      "Epoch 1/1\n",
      "7552/7552 [==============================] - 8s 1ms/step - loss: 0.0356\n",
      "Epoch: 113\n",
      "Epoch 1/1\n",
      "7552/7552 [==============================] - 8s 1ms/step - loss: 0.0357\n",
      "Epoch: 114\n",
      "Epoch 1/1\n",
      "7552/7552 [==============================] - 8s 1ms/step - loss: 0.0356\n",
      "Epoch: 115\n",
      "Epoch 1/1\n",
      "7552/7552 [==============================] - 8s 1ms/step - loss: 0.0356\n",
      "Epoch: 116\n",
      "Epoch 1/1\n",
      "7552/7552 [==============================] - 8s 1ms/step - loss: 0.0356\n",
      "Epoch: 117\n",
      "Epoch 1/1\n",
      "7552/7552 [==============================] - 8s 1ms/step - loss: 0.0354\n",
      "Epoch: 118\n",
      "Epoch 1/1\n",
      "7552/7552 [==============================] - 8s 1ms/step - loss: 0.0356\n",
      "Epoch: 119\n",
      "Epoch 1/1\n",
      "7552/7552 [==============================] - 8s 1ms/step - loss: 0.0353\n",
      "Epoch: 120\n",
      "Epoch 1/1\n",
      "7552/7552 [==============================] - 8s 1ms/step - loss: 0.0358\n",
      "Epoch: 121\n",
      "Epoch 1/1\n",
      "7552/7552 [==============================] - 8s 1ms/step - loss: 0.0359\n",
      "Epoch: 122\n",
      "Epoch 1/1\n",
      "7552/7552 [==============================] - 8s 1ms/step - loss: 0.0356\n",
      "Epoch: 123\n",
      "Epoch 1/1\n",
      "7552/7552 [==============================] - 8s 1ms/step - loss: 0.0356\n",
      "Epoch: 124\n",
      "Epoch 1/1\n",
      "7552/7552 [==============================] - 8s 1ms/step - loss: 0.0354\n",
      "Epoch: 125\n",
      "Epoch 1/1\n",
      "7552/7552 [==============================] - 8s 1ms/step - loss: 0.0354\n",
      "Epoch: 126\n",
      "Epoch 1/1\n",
      "7552/7552 [==============================] - 8s 1ms/step - loss: 0.0353\n",
      "Epoch: 127\n",
      "Epoch 1/1\n",
      "7552/7552 [==============================] - 8s 1ms/step - loss: 0.0355\n",
      "Epoch: 128\n",
      "Epoch 1/1\n",
      "7552/7552 [==============================] - 8s 1ms/step - loss: 0.0354\n",
      "Epoch: 129\n",
      "Epoch 1/1\n",
      "7552/7552 [==============================] - 8s 1ms/step - loss: 0.0352\n",
      "Epoch: 130\n",
      "Epoch 1/1\n",
      "7552/7552 [==============================] - 8s 1ms/step - loss: 0.0353\n",
      "Epoch: 131\n",
      "Epoch 1/1\n",
      "7552/7552 [==============================] - 8s 1ms/step - loss: 0.0352\n",
      "Epoch: 132\n",
      "Epoch 1/1\n",
      "7552/7552 [==============================] - 8s 1ms/step - loss: 0.0353\n",
      "Epoch: 133\n",
      "Epoch 1/1\n",
      "7552/7552 [==============================] - 8s 1ms/step - loss: 0.0353\n",
      "Epoch: 134\n",
      "Epoch 1/1\n",
      "7552/7552 [==============================] - 8s 1ms/step - loss: 0.0353\n",
      "Epoch: 135\n",
      "Epoch 1/1\n",
      "7552/7552 [==============================] - 8s 1ms/step - loss: 0.0353\n",
      "Epoch: 136\n",
      "Epoch 1/1\n",
      "7552/7552 [==============================] - 8s 1ms/step - loss: 0.0352\n",
      "Epoch: 137\n",
      "Epoch 1/1\n",
      "7552/7552 [==============================] - 8s 1ms/step - loss: 0.0351\n",
      "Epoch: 138\n",
      "Epoch 1/1\n",
      "7552/7552 [==============================] - 8s 1ms/step - loss: 0.0352\n",
      "Epoch: 139\n",
      "Epoch 1/1\n",
      "7552/7552 [==============================] - 8s 1ms/step - loss: 0.0352\n",
      "Epoch: 140\n",
      "Epoch 1/1\n",
      "7552/7552 [==============================] - 8s 1ms/step - loss: 0.0352\n",
      "Epoch: 141\n",
      "Epoch 1/1\n",
      "7552/7552 [==============================] - 8s 1ms/step - loss: 0.0352\n",
      "Epoch: 142\n",
      "Epoch 1/1\n",
      "7552/7552 [==============================] - 8s 1ms/step - loss: 0.0351\n",
      "Epoch: 143\n",
      "Epoch 1/1\n",
      "7552/7552 [==============================] - 8s 1ms/step - loss: 0.0350\n",
      "Epoch: 144\n",
      "Epoch 1/1\n",
      "7552/7552 [==============================] - 8s 1ms/step - loss: 0.0349\n",
      "Epoch: 145\n",
      "Epoch 1/1\n",
      "7552/7552 [==============================] - 8s 1ms/step - loss: 0.0350\n",
      "Epoch: 146\n",
      "Epoch 1/1\n",
      "7552/7552 [==============================] - 8s 1ms/step - loss: 0.0348\n",
      "Epoch: 147\n",
      "Epoch 1/1\n",
      "7552/7552 [==============================] - 8s 1ms/step - loss: 0.0351\n",
      "Epoch: 148\n",
      "Epoch 1/1\n",
      "7552/7552 [==============================] - 8s 1ms/step - loss: 0.0351\n",
      "Epoch: 149\n",
      "Epoch 1/1\n",
      "7552/7552 [==============================] - 8s 1ms/step - loss: 0.0350\n",
      "Epoch: 150\n",
      "Epoch 1/1\n",
      "7552/7552 [==============================] - 8s 1ms/step - loss: 0.0351\n",
      "Epoch: 151\n",
      "Epoch 1/1\n",
      "7552/7552 [==============================] - 8s 1ms/step - loss: 0.0349\n",
      "Epoch: 152\n",
      "Epoch 1/1\n",
      "7552/7552 [==============================] - 8s 1ms/step - loss: 0.0349\n",
      "Epoch: 153\n",
      "Epoch 1/1\n",
      "7552/7552 [==============================] - 8s 1ms/step - loss: 0.0348\n",
      "Epoch: 154\n",
      "Epoch 1/1\n",
      "7552/7552 [==============================] - 8s 1ms/step - loss: 0.0347\n",
      "Epoch: 155\n",
      "Epoch 1/1\n",
      "7552/7552 [==============================] - 8s 1ms/step - loss: 0.0348\n",
      "Epoch: 156\n",
      "Epoch 1/1\n",
      "7552/7552 [==============================] - 8s 1ms/step - loss: 0.0347\n",
      "Epoch: 157\n",
      "Epoch 1/1\n",
      "7552/7552 [==============================] - 8s 1ms/step - loss: 0.0348\n",
      "Epoch: 158\n",
      "Epoch 1/1\n",
      "7552/7552 [==============================] - 8s 1ms/step - loss: 0.0347\n",
      "Epoch: 159\n",
      "Epoch 1/1\n",
      "7552/7552 [==============================] - 8s 1ms/step - loss: 0.0348\n",
      "Epoch: 160\n",
      "Epoch 1/1\n",
      "7552/7552 [==============================] - 8s 1ms/step - loss: 0.0346\n",
      "Epoch: 161\n",
      "Epoch 1/1\n",
      "7552/7552 [==============================] - 8s 1ms/step - loss: 0.0348\n",
      "Epoch: 162\n",
      "Epoch 1/1\n",
      "7552/7552 [==============================] - 8s 1ms/step - loss: 0.0346\n",
      "Epoch: 163\n",
      "Epoch 1/1\n",
      "7552/7552 [==============================] - 8s 1ms/step - loss: 0.0347\n",
      "Epoch: 164\n",
      "Epoch 1/1\n",
      "7552/7552 [==============================] - 8s 1ms/step - loss: 0.0345\n",
      "Epoch: 165\n",
      "Epoch 1/1\n",
      "7552/7552 [==============================] - 8s 1ms/step - loss: 0.0347\n",
      "Epoch: 166\n",
      "Epoch 1/1\n",
      "7552/7552 [==============================] - 8s 1ms/step - loss: 0.0345\n",
      "Epoch: 167\n",
      "Epoch 1/1\n",
      "7552/7552 [==============================] - 8s 1ms/step - loss: 0.0346\n",
      "Epoch: 168\n",
      "Epoch 1/1\n",
      "7552/7552 [==============================] - 8s 1ms/step - loss: 0.0345\n",
      "Epoch: 169\n",
      "Epoch 1/1\n",
      "7552/7552 [==============================] - 8s 1ms/step - loss: 0.0346\n",
      "Epoch: 170\n",
      "Epoch 1/1\n",
      "7552/7552 [==============================] - 8s 1ms/step - loss: 0.0344\n",
      "Epoch: 171\n",
      "Epoch 1/1\n",
      "7552/7552 [==============================] - 8s 1ms/step - loss: 0.0345\n",
      "Epoch: 172\n",
      "Epoch 1/1\n",
      "7552/7552 [==============================] - 8s 1ms/step - loss: 0.0343\n",
      "Epoch: 173\n",
      "Epoch 1/1\n",
      "7552/7552 [==============================] - 8s 1ms/step - loss: 0.0344\n",
      "Epoch: 174\n",
      "Epoch 1/1\n",
      "7552/7552 [==============================] - 8s 1ms/step - loss: 0.0342\n",
      "Epoch: 175\n",
      "Epoch 1/1\n",
      "7552/7552 [==============================] - 8s 1ms/step - loss: 0.0344\n",
      "Epoch: 176\n",
      "Epoch 1/1\n",
      "7552/7552 [==============================] - 8s 1ms/step - loss: 0.0342\n",
      "Epoch: 177\n",
      "Epoch 1/1\n",
      "7552/7552 [==============================] - 8s 1ms/step - loss: 0.0344\n",
      "Epoch: 178\n",
      "Epoch 1/1\n"
     ]
    },
    {
     "name": "stdout",
     "output_type": "stream",
     "text": [
      "7552/7552 [==============================] - 8s 1ms/step - loss: 0.0342\n",
      "Epoch: 179\n",
      "Epoch 1/1\n",
      "7552/7552 [==============================] - 8s 1ms/step - loss: 0.0344\n",
      "Epoch: 180\n",
      "Epoch 1/1\n",
      "7552/7552 [==============================] - 8s 1ms/step - loss: 0.0342\n",
      "Epoch: 181\n",
      "Epoch 1/1\n",
      "7552/7552 [==============================] - 8s 1ms/step - loss: 0.0344\n",
      "Epoch: 182\n",
      "Epoch 1/1\n",
      "7552/7552 [==============================] - 8s 1ms/step - loss: 0.0341\n",
      "Epoch: 183\n",
      "Epoch 1/1\n",
      "7552/7552 [==============================] - 8s 1ms/step - loss: 0.0344\n",
      "Epoch: 184\n",
      "Epoch 1/1\n",
      "7552/7552 [==============================] - 8s 1ms/step - loss: 0.0341\n",
      "Epoch: 185\n",
      "Epoch 1/1\n",
      "7552/7552 [==============================] - 8s 1ms/step - loss: 0.0343\n",
      "Epoch: 186\n",
      "Epoch 1/1\n",
      "7552/7552 [==============================] - 8s 1ms/step - loss: 0.0341\n",
      "Epoch: 187\n",
      "Epoch 1/1\n",
      "7552/7552 [==============================] - 8s 1ms/step - loss: 0.0343\n",
      "Epoch: 188\n",
      "Epoch 1/1\n",
      "7552/7552 [==============================] - 8s 1ms/step - loss: 0.0340\n",
      "Epoch: 189\n",
      "Epoch 1/1\n",
      "7552/7552 [==============================] - 8s 1ms/step - loss: 0.0342\n",
      "Epoch: 190\n",
      "Epoch 1/1\n",
      "7552/7552 [==============================] - 8s 1ms/step - loss: 0.0339\n",
      "Epoch: 191\n",
      "Epoch 1/1\n",
      "7552/7552 [==============================] - 8s 1ms/step - loss: 0.0342\n",
      "Epoch: 192\n",
      "Epoch 1/1\n",
      "7552/7552 [==============================] - 8s 1ms/step - loss: 0.0339\n",
      "Epoch: 193\n",
      "Epoch 1/1\n",
      "7552/7552 [==============================] - 8s 1ms/step - loss: 0.0345\n",
      "Epoch: 194\n",
      "Epoch 1/1\n",
      "7552/7552 [==============================] - 8s 1ms/step - loss: 0.0415\n",
      "Epoch: 195\n",
      "Epoch 1/1\n",
      "7552/7552 [==============================] - 8s 1ms/step - loss: 0.0346\n",
      "Epoch: 196\n",
      "Epoch 1/1\n",
      "7552/7552 [==============================] - 8s 1ms/step - loss: 0.0321\n",
      "Epoch: 197\n",
      "Epoch 1/1\n",
      "7552/7552 [==============================] - 8s 1ms/step - loss: 0.0344\n",
      "Epoch: 198\n",
      "Epoch 1/1\n",
      "7552/7552 [==============================] - 8s 1ms/step - loss: 0.0340\n",
      "Epoch: 199\n",
      "Epoch 1/1\n",
      "7552/7552 [==============================] - 8s 1ms/step - loss: 0.0334\n",
      "Epoch: 200\n",
      "Epoch 1/1\n",
      "7552/7552 [==============================] - 8s 1ms/step - loss: 0.0335\n"
     ]
    }
   ],
   "source": [
    "for i in range(epochs):\n",
    "    print('Epoch: '+ str(i+1))\n",
    "    regressor_mae.fit(X_train, y_train, shuffle=False, epochs=1, batch_size=batch_size )\n",
    "    regressor_mae.reset_states()"
   ]
  },
  {
   "cell_type": "markdown",
   "metadata": {},
   "source": [
    "### Saving a model and Loading a saved model"
   ]
  },
  {
   "cell_type": "code",
   "execution_count": 315,
   "metadata": {},
   "outputs": [],
   "source": [
    "# Save the model\n",
    "regressor_mae.save('regressor_mae.h5')"
   ]
  },
  {
   "cell_type": "code",
   "execution_count": 316,
   "metadata": {},
   "outputs": [],
   "source": [
    "# Load the model\n",
    "regressor_mae = load_model('regressor_mae.h5')"
   ]
  },
  {
   "cell_type": "markdown",
   "metadata": {},
   "source": [
    "### Test Set"
   ]
  },
  {
   "cell_type": "code",
   "execution_count": 317,
   "metadata": {},
   "outputs": [
    {
     "name": "stdout",
     "output_type": "stream",
     "text": [
      "Length of Dataset =  8410\n",
      "no of timesteps =  30\n",
      "length_df - 200 =  8210\n",
      "length_df - 600 =  7810\n",
      "len(df) - timesteps*2 =  8350\n",
      "Upper train length obtainined by adding 2*timesteps to training set length:\n",
      "upper_train =  7612\n"
     ]
    }
   ],
   "source": [
    "# Length of Complete Dataset\n",
    "length_df = len(df)\n",
    "print(\"Length of Dataset = \", length_df)\n",
    "print(\"no of timesteps = \", timesteps)\n",
    "print(\"length_df - 200 = \", len(df) - 200)\n",
    "print(\"length_df - 600 = \", len(df) - 600)\n",
    "print(\"len(df) - timesteps*2 = \", len(df) - timesteps*2)\n",
    "print(\"Upper train length obtainined by adding 2*timesteps to training set length:\\nupper_train = \", upper_train)"
   ]
  },
  {
   "cell_type": "markdown",
   "metadata": {},
   "source": [
    "### Construct test set to be used for prediction and model performance"
   ]
  },
  {
   "cell_type": "code",
   "execution_count": 346,
   "metadata": {},
   "outputs": [],
   "source": [
    "# function to get test set length to be used for prediction\n",
    "# test set length must be divisible by batch_size, so that equal number are predicted per batch of trained records\n",
    "\n",
    "def get_test_length(dataset, batch_size):\n",
    "    \n",
    "    test_length_values = []\n",
    "    for x in range(len(dataset) - 600, len(dataset) - timesteps*2): \n",
    "        modulo=(x-upper_train)%batch_size\n",
    "        if (modulo == 0):\n",
    "            test_length_values.append(x)\n",
    "            print(\"test set length divisible by batch size = \",x)\n",
    "    return (max(test_length_values))"
   ]
  },
  {
   "cell_type": "code",
   "execution_count": 347,
   "metadata": {},
   "outputs": [
    {
     "name": "stdout",
     "output_type": "stream",
     "text": [
      "test set length divisible by batch size =  7868\n",
      "test set length divisible by batch size =  7932\n",
      "test set length divisible by batch size =  7996\n",
      "test set length divisible by batch size =  8060\n",
      "test set length divisible by batch size =  8124\n",
      "test set length divisible by batch size =  8188\n",
      "test set length divisible by batch size =  8252\n",
      "test set length divisible by batch size =  8316\n",
      "\n",
      "test_length to be used, which is the max length divisible by batch size:\n",
      "test Length to be used =  8316\n"
     ]
    }
   ],
   "source": [
    "# Get test set length\n",
    "\n",
    "test_length = get_test_length(df, batch_size)\n",
    "print(\"\\ntest_length to be used, which is the max length divisible by batch size:\")\n",
    "print(\"test Length to be used = \",test_length)"
   ]
  },
  {
   "cell_type": "markdown",
   "metadata": {},
   "source": [
    "### Construct Input Test Data X_test"
   ]
  },
  {
   "cell_type": "code",
   "execution_count": 320,
   "metadata": {},
   "outputs": [
    {
     "name": "stdout",
     "output_type": "stream",
     "text": [
      "Upper test length obtainined by adding 2*timesteps to test set length:\n",
      "upper_test =  8376\n",
      "The testset_length obtained by subtracting upper_train length to used for prediction:\n",
      "testset_length for prediction =  704\n"
     ]
    }
   ],
   "source": [
    "# upper test is obtained by Adding timesteps*2 to test_length and \n",
    "# constructing test dataset to split into X_test and y_test based on no of timesteps\n",
    "# upper_test = test_length + 2*ts\n",
    "\n",
    "upper_test = test_length + timesteps*2\n",
    "print(\"Upper test length obtainined by adding 2*timesteps to test set length:\\nupper_test = \", upper_test)\n",
    "\n",
    "# Test set length to be used for predction is obtained by removing upper_train length from test_length\n",
    "# The data to be taken from prediction should start from the next datapoint after upper_train\n",
    "\n",
    "testset_length = test_length - upper_train\n",
    "print(\"The testset_length obtained by subtracting upper_train length to used for prediction:\")\n",
    "print(\"testset_length for prediction = \",testset_length)"
   ]
  },
  {
   "cell_type": "code",
   "execution_count": 321,
   "metadata": {},
   "outputs": [
    {
     "name": "stdout",
     "output_type": "stream",
     "text": [
      "upper_train, upper_test, length of df =  7612 8376 8410\n"
     ]
    }
   ],
   "source": [
    "print(\"upper_train, upper_test, length of df = \",upper_train, upper_test, len(df))"
   ]
  },
  {
   "cell_type": "code",
   "execution_count": 322,
   "metadata": {},
   "outputs": [
    {
     "name": "stdout",
     "output_type": "stream",
     "text": [
      "shape of df_test with start_index as upper_train and end_index as upper_test:  (764, 2)\n"
     ]
    },
    {
     "data": {
      "text/html": [
       "<div>\n",
       "<style scoped>\n",
       "    .dataframe tbody tr th:only-of-type {\n",
       "        vertical-align: middle;\n",
       "    }\n",
       "\n",
       "    .dataframe tbody tr th {\n",
       "        vertical-align: top;\n",
       "    }\n",
       "\n",
       "    .dataframe thead th {\n",
       "        text-align: right;\n",
       "    }\n",
       "</style>\n",
       "<table border=\"1\" class=\"dataframe\">\n",
       "  <thead>\n",
       "    <tr style=\"text-align: right;\">\n",
       "      <th></th>\n",
       "      <th>DATE</th>\n",
       "      <th>DCOILBRENTEU</th>\n",
       "    </tr>\n",
       "  </thead>\n",
       "  <tbody>\n",
       "    <tr>\n",
       "      <th>7826</th>\n",
       "      <td>2017-05-18</td>\n",
       "      <td>51.709999</td>\n",
       "    </tr>\n",
       "    <tr>\n",
       "      <th>7827</th>\n",
       "      <td>2017-05-19</td>\n",
       "      <td>52.779999</td>\n",
       "    </tr>\n",
       "    <tr>\n",
       "      <th>7828</th>\n",
       "      <td>2017-05-22</td>\n",
       "      <td>53.349998</td>\n",
       "    </tr>\n",
       "  </tbody>\n",
       "</table>\n",
       "</div>"
      ],
      "text/plain": [
       "            DATE  DCOILBRENTEU\n",
       "7826  2017-05-18     51.709999\n",
       "7827  2017-05-19     52.779999\n",
       "7828  2017-05-22     53.349998"
      ]
     },
     "execution_count": 322,
     "metadata": {},
     "output_type": "execute_result"
    }
   ],
   "source": [
    "# construct test set\n",
    "# Create df_test --- df with lower limit as upper_train and upper limit as upper_test\n",
    "# subsetting based on upper_train and upper_test\n",
    "\n",
    "df_test = df[upper_train:upper_test] \n",
    "print(\"shape of df_test with start_index as upper_train and end_index as upper_test: \",df_test.shape)\n",
    "df_test.head(3)"
   ]
  },
  {
   "cell_type": "code",
   "execution_count": 323,
   "metadata": {},
   "outputs": [
    {
     "name": "stdout",
     "output_type": "stream",
     "text": [
      "shape of test_set  created with only 1 column:  (764, 1)\n"
     ]
    },
    {
     "data": {
      "text/plain": [
       "array([[51.71],\n",
       "       [52.78],\n",
       "       [53.35]], dtype=float32)"
      ]
     },
     "execution_count": 323,
     "metadata": {},
     "output_type": "execute_result"
    }
   ],
   "source": [
    "# take only the DCOILBRENTEU column and create test set, as we do not require DATE column for prediction\n",
    "test_set = df_test.iloc[:,1:2].values\n",
    "print(\"shape of test_set  created with only 1 column: \",test_set.shape)\n",
    "test_set[0:3]"
   ]
  },
  {
   "cell_type": "code",
   "execution_count": 324,
   "metadata": {},
   "outputs": [
    {
     "name": "stdout",
     "output_type": "stream",
     "text": [
      "scaled test_set shape:  (764, 1)\n"
     ]
    }
   ],
   "source": [
    "# Feature Scaling\n",
    "# scale test_set before splitting into X_test and y_test\n",
    "\n",
    "test_set_scaled = minmax_scaler.fit_transform(np.float64(test_set))\n",
    "print(\"scaled test_set shape: \",test_set_scaled.shape)"
   ]
  },
  {
   "cell_type": "code",
   "execution_count": 325,
   "metadata": {},
   "outputs": [
    {
     "name": "stdout",
     "output_type": "stream",
     "text": [
      "testset_length = 704\n",
      "no of timesteps= 30\n",
      "testset_length+timesteps=734\n",
      "\n",
      "length of X_test =  704\n"
     ]
    }
   ],
   "source": [
    "# creating input data X_test\n",
    "# Split test_set into X_test dataset ie, feature-set\n",
    "# X_test ---- i-timesteps:i\n",
    "\n",
    "X_test = []\n",
    "print(\"testset_length = {}\\nno of timesteps= {}\\ntestset_length+timesteps={}\".format(testset_length, \n",
    "                                                                                             timesteps, \n",
    "                                                                                             testset_length+timesteps))\n",
    "for i in range(timesteps, testset_length + timesteps):\n",
    "    X_test.append(test_set_scaled[i-timesteps:i, 0])\n",
    "\n",
    "print(\"\\nlength of X_test = \",len(X_test))"
   ]
  },
  {
   "cell_type": "code",
   "execution_count": 326,
   "metadata": {},
   "outputs": [
    {
     "name": "stdout",
     "output_type": "stream",
     "text": [
      "shape of X_test = (704, 30)\n"
     ]
    }
   ],
   "source": [
    "# Convert X_test to np array\n",
    "\n",
    "#print(type(X_test))\n",
    "      \n",
    "X_test = np.array(X_test)\n",
    "      \n",
    "print(\"shape of X_test = {}\".format(X_test.shape))\n",
    "#print(type(X_test))"
   ]
  },
  {
   "cell_type": "code",
   "execution_count": 327,
   "metadata": {},
   "outputs": [
    {
     "data": {
      "text/plain": [
       "array([[0.55347627, 0.5673814 , 0.57478881, 0.57270954, 0.57400911,\n",
       "        0.56049383, 0.54217025, 0.56049383, 0.53970113, 0.52345681,\n",
       "        0.5365822 , 0.51124106, 0.50851202, 0.50669267, 0.49330737,\n",
       "        0.48317088, 0.48758934, 0.49460689, 0.49161795, 0.47238468,\n",
       "        0.47420404, 0.47537363, 0.47836258, 0.45302144, 0.46133852,\n",
       "        0.45925925, 0.45510071, 0.45445095, 0.48148146, 0.48512022],\n",
       "       [0.5673814 , 0.57478881, 0.57270954, 0.57400911, 0.56049383,\n",
       "        0.54217025, 0.56049383, 0.53970113, 0.52345681, 0.5365822 ,\n",
       "        0.51124106, 0.50851202, 0.50669267, 0.49330737, 0.48317088,\n",
       "        0.48758934, 0.49460689, 0.49161795, 0.47238468, 0.47420404,\n",
       "        0.47537363, 0.47836258, 0.45302144, 0.46133852, 0.45925925,\n",
       "        0.45510071, 0.45445095, 0.48148146, 0.48512022, 0.49252762]])"
      ]
     },
     "execution_count": 327,
     "metadata": {},
     "output_type": "execute_result"
    }
   ],
   "source": [
    "X_test[0:2]"
   ]
  },
  {
   "cell_type": "code",
   "execution_count": 328,
   "metadata": {},
   "outputs": [
    {
     "name": "stdout",
     "output_type": "stream",
     "text": [
      "shape of X_train after reshaping = (704, 30, 1)\n"
     ]
    }
   ],
   "source": [
    "#Reshape X_test into 3-Dim data - (no of observations, no of timesteps, no of features)\n",
    "\n",
    "X_test = np.reshape(X_test, (X_test.shape[0], X_test.shape[1], 1))\n",
    "print(\"shape of X_train after reshaping = {}\".format(X_test.shape))"
   ]
  },
  {
   "cell_type": "markdown",
   "metadata": {},
   "source": [
    "### Forecasting using the LSTM model built with MAE as loss function"
   ]
  },
  {
   "cell_type": "code",
   "execution_count": 329,
   "metadata": {},
   "outputs": [
    {
     "name": "stdout",
     "output_type": "stream",
     "text": [
      "shape of y_predict_mae_train:  (7552, 30, 1)\n"
     ]
    },
    {
     "data": {
      "text/plain": [
       "array([[[0.09624366],\n",
       "        [0.07919857],\n",
       "        [0.09781688],\n",
       "        [0.09315851],\n",
       "        [0.09190245],\n",
       "        [0.09378186],\n",
       "        [0.09639479],\n",
       "        [0.10069495],\n",
       "        [0.10563162],\n",
       "        [0.10960406],\n",
       "        [0.11315306],\n",
       "        [0.11559297],\n",
       "        [0.11612236],\n",
       "        [0.11789086],\n",
       "        [0.11851618],\n",
       "        [0.11856131],\n",
       "        [0.11767788],\n",
       "        [0.11821094],\n",
       "        [0.11872   ],\n",
       "        [0.11925611],\n",
       "        [0.11900713],\n",
       "        [0.11872306],\n",
       "        [0.11891657],\n",
       "        [0.11723363],\n",
       "        [0.11613508],\n",
       "        [0.11581171],\n",
       "        [0.11864932],\n",
       "        [0.11887579],\n",
       "        [0.11824323],\n",
       "        [0.11758012]],\n",
       "\n",
       "       [[0.09475544],\n",
       "        [0.08025643],\n",
       "        [0.09805988],\n",
       "        [0.0932643 ],\n",
       "        [0.09171596],\n",
       "        [0.09379527],\n",
       "        [0.09628423],\n",
       "        [0.10124612],\n",
       "        [0.10583365],\n",
       "        [0.1100954 ],\n",
       "        [0.11334632],\n",
       "        [0.11459902],\n",
       "        [0.11696789],\n",
       "        [0.11807442],\n",
       "        [0.1184642 ],\n",
       "        [0.11781298],\n",
       "        [0.11847988],\n",
       "        [0.11905026],\n",
       "        [0.11959352],\n",
       "        [0.11931702],\n",
       "        [0.11898525],\n",
       "        [0.11912251],\n",
       "        [0.11738263],\n",
       "        [0.11623272],\n",
       "        [0.11586593],\n",
       "        [0.11867045],\n",
       "        [0.11887228],\n",
       "        [0.11822413],\n",
       "        [0.11755224],\n",
       "        [0.1197004 ]]], dtype=float32)"
      ]
     },
     "execution_count": 329,
     "metadata": {},
     "output_type": "execute_result"
    }
   ],
   "source": [
    "#prediction on train_set\n",
    "y_predict_mae_train = regressor_mae.predict(X_train, batch_size=batch_size)\n",
    "print(\"shape of y_predict_mae_train: \",y_predict_mae_train.shape)\n",
    "y_predict_mae_train[0:2]"
   ]
  },
  {
   "cell_type": "code",
   "execution_count": 330,
   "metadata": {},
   "outputs": [
    {
     "name": "stdout",
     "output_type": "stream",
     "text": [
      "shape of y_predict_mae:  (704, 30, 1)\n"
     ]
    },
    {
     "data": {
      "text/plain": [
       "array([[[0.5467159 ],\n",
       "        [0.56473637],\n",
       "        [0.58802617],\n",
       "        [0.58156395],\n",
       "        [0.6036104 ],\n",
       "        [0.59447026],\n",
       "        [0.585604  ],\n",
       "        [0.5966289 ],\n",
       "        [0.5808437 ],\n",
       "        [0.56410825],\n",
       "        [0.5691715 ],\n",
       "        [0.54474807],\n",
       "        [0.53760016],\n",
       "        [0.52901363],\n",
       "        [0.51535094],\n",
       "        [0.5005208 ],\n",
       "        [0.5019761 ],\n",
       "        [0.5072342 ],\n",
       "        [0.5051267 ],\n",
       "        [0.4872554 ],\n",
       "        [0.48892754],\n",
       "        [0.4912281 ],\n",
       "        [0.49645433],\n",
       "        [0.47305784],\n",
       "        [0.48071563],\n",
       "        [0.47857234],\n",
       "        [0.47736466],\n",
       "        [0.474643  ],\n",
       "        [0.50060093],\n",
       "        [0.505353  ]],\n",
       "\n",
       "       [[0.556429  ],\n",
       "        [0.5709982 ],\n",
       "        [0.5866142 ],\n",
       "        [0.582495  ],\n",
       "        [0.59398675],\n",
       "        [0.58008367],\n",
       "        [0.5986223 ],\n",
       "        [0.57951784],\n",
       "        [0.56658167],\n",
       "        [0.57050574],\n",
       "        [0.54778945],\n",
       "        [0.5399419 ],\n",
       "        [0.5317557 ],\n",
       "        [0.51746774],\n",
       "        [0.50247097],\n",
       "        [0.50328696],\n",
       "        [0.50816524],\n",
       "        [0.50556946],\n",
       "        [0.4873466 ],\n",
       "        [0.488719  ],\n",
       "        [0.4908457 ],\n",
       "        [0.4959763 ],\n",
       "        [0.47252622],\n",
       "        [0.48020586],\n",
       "        [0.47812477],\n",
       "        [0.47699273],\n",
       "        [0.47435683],\n",
       "        [0.50039387],\n",
       "        [0.5052243 ],\n",
       "        [0.51481473]]], dtype=float32)"
      ]
     },
     "execution_count": 330,
     "metadata": {},
     "output_type": "execute_result"
    }
   ],
   "source": [
    "#prediction on test_set\n",
    "y_predict_mae = regressor_mae.predict(X_test, batch_size=batch_size)\n",
    "print(\"shape of y_predict_mae: \",y_predict_mae.shape)\n",
    "\n",
    "regressor_mae.reset_states()\n",
    "y_predict_mae[0:2]"
   ]
  },
  {
   "cell_type": "code",
   "execution_count": 331,
   "metadata": {},
   "outputs": [
    {
     "name": "stdout",
     "output_type": "stream",
     "text": [
      "shape of y_predict_mae after reshaping:  (7552, 30)\n"
     ]
    },
    {
     "data": {
      "text/plain": [
       "array([[0.09624366, 0.07919857, 0.09781688, 0.09315851, 0.09190245,\n",
       "        0.09378186, 0.09639479, 0.10069495, 0.10563162, 0.10960406,\n",
       "        0.11315306, 0.11559297, 0.11612236, 0.11789086, 0.11851618,\n",
       "        0.11856131, 0.11767788, 0.11821094, 0.11872   , 0.11925611,\n",
       "        0.11900713, 0.11872306, 0.11891657, 0.11723363, 0.11613508,\n",
       "        0.11581171, 0.11864932, 0.11887579, 0.11824323, 0.11758012],\n",
       "       [0.09475544, 0.08025643, 0.09805988, 0.0932643 , 0.09171596,\n",
       "        0.09379527, 0.09628423, 0.10124612, 0.10583365, 0.1100954 ,\n",
       "        0.11334632, 0.11459902, 0.11696789, 0.11807442, 0.1184642 ,\n",
       "        0.11781298, 0.11847988, 0.11905026, 0.11959352, 0.11931702,\n",
       "        0.11898525, 0.11912251, 0.11738263, 0.11623272, 0.11586593,\n",
       "        0.11867045, 0.11887228, 0.11822413, 0.11755224, 0.1197004 ]],\n",
       "      dtype=float32)"
      ]
     },
     "execution_count": 331,
     "metadata": {},
     "output_type": "execute_result"
    }
   ],
   "source": [
    "#Reshape y_predicted_mae_train into 2-Dim data - (no of observations, no of timesteps)\n",
    "y_predict_mae_train = np.reshape(y_predict_mae_train, (y_predict_mae_train.shape[0], y_predict_mae_train.shape[1]))\n",
    "\n",
    "print(\"shape of y_predict_mae after reshaping: \",y_predict_mae_train.shape)\n",
    "y_predict_mae_train[0:2]"
   ]
  },
  {
   "cell_type": "code",
   "execution_count": 332,
   "metadata": {},
   "outputs": [
    {
     "name": "stdout",
     "output_type": "stream",
     "text": [
      "shape of y_predict_mae after reshaping:  (704, 30)\n"
     ]
    },
    {
     "data": {
      "text/plain": [
       "array([[0.5467159 , 0.56473637, 0.58802617, 0.58156395, 0.6036104 ,\n",
       "        0.59447026, 0.585604  , 0.5966289 , 0.5808437 , 0.56410825,\n",
       "        0.5691715 , 0.54474807, 0.53760016, 0.52901363, 0.51535094,\n",
       "        0.5005208 , 0.5019761 , 0.5072342 , 0.5051267 , 0.4872554 ,\n",
       "        0.48892754, 0.4912281 , 0.49645433, 0.47305784, 0.48071563,\n",
       "        0.47857234, 0.47736466, 0.474643  , 0.50060093, 0.505353  ],\n",
       "       [0.556429  , 0.5709982 , 0.5866142 , 0.582495  , 0.59398675,\n",
       "        0.58008367, 0.5986223 , 0.57951784, 0.56658167, 0.57050574,\n",
       "        0.54778945, 0.5399419 , 0.5317557 , 0.51746774, 0.50247097,\n",
       "        0.50328696, 0.50816524, 0.50556946, 0.4873466 , 0.488719  ,\n",
       "        0.4908457 , 0.4959763 , 0.47252622, 0.48020586, 0.47812477,\n",
       "        0.47699273, 0.47435683, 0.50039387, 0.5052243 , 0.51481473]],\n",
       "      dtype=float32)"
      ]
     },
     "execution_count": 332,
     "metadata": {},
     "output_type": "execute_result"
    }
   ],
   "source": [
    "#Reshape y_predicted_mae into 2-Dim data - (no of observations, no of timesteps)\n",
    "y_predict_mae = np.reshape(y_predict_mae, (y_predict_mae.shape[0], y_predict_mae.shape[1]))\n",
    "\n",
    "print(\"shape of y_predict_mae after reshaping: \",y_predict_mae.shape)\n",
    "y_predict_mae[0:2]"
   ]
  },
  {
   "cell_type": "code",
   "execution_count": 333,
   "metadata": {},
   "outputs": [
    {
     "name": "stdout",
     "output_type": "stream",
     "text": [
      "shape of y_predict_mae after reshaping:  (7552, 30)\n"
     ]
    },
    {
     "data": {
      "text/plain": [
       "array([[16.52595  , 15.21433  , 16.647009 , 16.288548 , 16.191893 ,\n",
       "        16.336514 , 16.537579 , 16.868477 , 17.248352 , 17.554031 ,\n",
       "        17.827127 , 18.01488  , 18.055616 , 18.191702 , 18.23982  ,\n",
       "        18.243292 , 18.175312 , 18.216331 , 18.255503 , 18.296757 ,\n",
       "        18.277597 , 18.25574  , 18.27063  , 18.141129 , 18.056593 ,\n",
       "        18.03171  , 18.250065 , 18.267492 , 18.218817 , 18.16779  ],\n",
       "       [16.41143  , 15.2957325, 16.665707 , 16.296688 , 16.177544 ,\n",
       "        16.337545 , 16.529072 , 16.910889 , 17.263899 , 17.59184  ,\n",
       "        17.842    , 17.938395 , 18.120678 , 18.205826 , 18.23582  ,\n",
       "        18.185709 , 18.237026 , 18.280918 , 18.322721 , 18.301445 ,\n",
       "        18.275915 , 18.286476 , 18.152594 , 18.064108 , 18.035883 ,\n",
       "        18.25169  , 18.267221 , 18.217346 , 18.165644 , 18.330946 ]],\n",
       "      dtype=float32)"
      ]
     },
     "execution_count": 333,
     "metadata": {},
     "output_type": "execute_result"
    }
   ],
   "source": [
    "#inverse transform y_predict_mae_train\n",
    "y_predict_mae_train = minmax_scaler.inverse_transform(y_predict_mae_train)\n",
    "print(\"shape of y_predict_mae after reshaping: \",y_predict_mae_train.shape)\n",
    "y_predict_mae_train[0:2]"
   ]
  },
  {
   "cell_type": "code",
   "execution_count": 334,
   "metadata": {},
   "outputs": [
    {
     "name": "stdout",
     "output_type": "stream",
     "text": [
      "shape of y_predict_mae after reshaping:  (704, 30)\n"
     ]
    },
    {
     "data": {
      "text/plain": [
       "array([[51.18979 , 52.576466, 54.368614, 53.871346, 55.56782 , 54.864487,\n",
       "        54.182228, 55.030594, 53.81592 , 52.52813 , 52.917747, 51.038364,\n",
       "        50.488335, 49.8276  , 48.776257, 47.63508 , 47.74706 , 48.151672,\n",
       "        47.989502, 46.614304, 46.742977, 46.920002, 47.32216 , 45.521797,\n",
       "        46.11107 , 45.94614 , 45.85321 , 45.64378 , 47.641243, 48.006912],\n",
       "       [51.937214, 53.05831 , 54.259964, 53.94299 , 54.827282, 53.75744 ,\n",
       "        55.183987, 53.713898, 52.71846 , 53.020416, 51.2724  , 50.66853 ,\n",
       "        50.0386  , 48.939144, 47.78514 , 47.84793 , 48.223316, 48.02357 ,\n",
       "        46.621323, 46.72693 , 46.890575, 47.285374, 45.480892, 46.07184 ,\n",
       "        45.9117  , 45.824593, 45.621758, 47.62531 , 47.99701 , 48.734993]],\n",
       "      dtype=float32)"
      ]
     },
     "execution_count": 334,
     "metadata": {},
     "output_type": "execute_result"
    }
   ],
   "source": [
    "#inverse transform y_predict_mae\n",
    "y_predict_mae = minmax_scaler.inverse_transform(y_predict_mae)\n",
    "print(\"shape of y_predict_mae after reshaping: \",y_predict_mae.shape)\n",
    "y_predict_mae[0:2]"
   ]
  },
  {
   "cell_type": "markdown",
   "metadata": {},
   "source": [
    "### Construct Output Test Data y_test"
   ]
  },
  {
   "cell_type": "code",
   "execution_count": 335,
   "metadata": {},
   "outputs": [
    {
     "name": "stdout",
     "output_type": "stream",
     "text": [
      "7552\n",
      "trainingset_length - timesteps =  7522\n",
      "shape of y_train_2:  (7522,)\n"
     ]
    }
   ],
   "source": [
    "#creating y_train_2 data\n",
    "print(trainingset_length)\n",
    "print(\"trainingset_length - timesteps = \", trainingset_length - timesteps)\n",
    "\n",
    "y_train_2 = []\n",
    "for j in range(0, trainingset_length - timesteps):\n",
    "    y_train_2 = np.append(y_train_2, y_predict_mae_train[j, timesteps-1])\n",
    "print(\"shape of y_train_2: \", y_train_2.shape)"
   ]
  },
  {
   "cell_type": "code",
   "execution_count": 336,
   "metadata": {},
   "outputs": [
    {
     "name": "stdout",
     "output_type": "stream",
     "text": [
      "testset_length - timesteps =  674\n",
      "shape of y_test:  (674,)\n"
     ]
    }
   ],
   "source": [
    "#creating y_test data\n",
    "print(\"testset_length - timesteps = \", testset_length - timesteps)\n",
    "y_test = []\n",
    "for j in range(0, testset_length - timesteps):\n",
    "    y_test = np.append(y_test, y_predict_mae[j, timesteps-1])\n",
    "print(\"shape of y_test: \", y_test.shape)"
   ]
  },
  {
   "cell_type": "code",
   "execution_count": 337,
   "metadata": {},
   "outputs": [
    {
     "name": "stdout",
     "output_type": "stream",
     "text": [
      "shape of y_train_2 after reshaping into 2-Dim:  (7522, 1)\n"
     ]
    }
   ],
   "source": [
    "#Reshape y_train_2 into 2-Dim data - (no of observations, no of timesteps, no of features)\n",
    "y_train_2 = np.reshape(y_train_2, (y_train_2.shape[0], 1))\n",
    "\n",
    "print(\"shape of y_train_2 after reshaping into 2-Dim: \",y_train_2.shape)"
   ]
  },
  {
   "cell_type": "code",
   "execution_count": 338,
   "metadata": {},
   "outputs": [
    {
     "name": "stdout",
     "output_type": "stream",
     "text": [
      "shape of y_test after reshaping into 2-Dim:  (674, 1)\n"
     ]
    }
   ],
   "source": [
    "#Reshape y_test into 2-Dim data - (no of observations, no of timesteps, no of features)\n",
    "y_test = np.reshape(y_test, (y_test.shape[0], 1))\n",
    "\n",
    "print(\"shape of y_test after reshaping into 2-Dim: \",y_test.shape)"
   ]
  },
  {
   "cell_type": "code",
   "execution_count": 339,
   "metadata": {},
   "outputs": [
    {
     "data": {
      "image/png": "[encoded data removed]",
      "text/plain": [
       "<Figure size 864x360 with 1 Axes>"
      ]
     },
     "metadata": {},
     "output_type": "display_data"
    }
   ],
   "source": [
    "# Visualising the results for training set\n",
    "plt.plot(training_set[timesteps:len(y_train_2)], color = 'red', label = 'Real Crude Oil Prices in train set')\n",
    "plt.plot(y_train_2[0:len(y_train_2) - timesteps], color = 'blue', label = 'Predicted Crude Oil Prices on train set')\n",
    "plt.title('Crude Oil Prices Prediction - MAE')\n",
    "plt.xlabel('Time')\n",
    "plt.ylabel('Crude Oil Prices')\n",
    "plt.legend()\n",
    "plt.show()"
   ]
  },
  {
   "cell_type": "code",
   "execution_count": 340,
   "metadata": {},
   "outputs": [
    {
     "data": {
      "image/png": "[encoded data removed]",
      "text/plain": [
       "<Figure size 864x360 with 1 Axes>"
      ]
     },
     "metadata": {},
     "output_type": "display_data"
    }
   ],
   "source": [
    "# Visualising the results for test set\n",
    "plt.plot(test_set[timesteps:len(y_test)], color = 'red', label = 'Real Crude Oil Prices')\n",
    "plt.plot(y_test[0:len(y_test) - timesteps], color = 'blue', label = 'Predicted Crude Oil Prices')\n",
    "plt.title('Crude Oil Prices Prediction - MAE')\n",
    "plt.xlabel('Time')\n",
    "plt.ylabel('Crude Oil Prices')\n",
    "plt.legend()\n",
    "plt.show()"
   ]
  },
  {
   "cell_type": "markdown",
   "metadata": {},
   "source": [
    "### Performance metrics - MAE, MSE, RMSE, R2_score"
   ]
  },
  {
   "cell_type": "code",
   "execution_count": 341,
   "metadata": {},
   "outputs": [
    {
     "name": "stdout",
     "output_type": "stream",
     "text": [
      "Train set Mean Squared Error =  449.28548716861496\n",
      "Train set Root Mean Squared Error =  21.196355516187563\n",
      "Train Mean Absolute Error:  13.72859359029392\n",
      "Train R2 Score:  0.6034053531677095\n"
     ]
    }
   ],
   "source": [
    "# training-set metrics\n",
    "train_mse = mean_squared_error(training_set[timesteps:len(y_train_2)], y_train_2[0:len(y_train_2) - timesteps])\n",
    "train_rmse = np.sqrt(train_mse)\n",
    "train_mae = mean_absolute_error(training_set[timesteps:len(y_train_2)], y_train_2[0:len(y_train_2) - timesteps])\n",
    "train_r2_score = r2_score(training_set[timesteps:len(y_train_2)], y_train_2[0:len(y_train_2) - timesteps])\n",
    "\n",
    "print(\"Train set Mean Squared Error = \", train_mse)\n",
    "print(\"Train set Root Mean Squared Error = \", train_rmse)\n",
    "print(\"Train Mean Absolute Error: \", train_mae)\n",
    "print(\"Train R2 Score: \",train_r2_score)"
   ]
  },
  {
   "cell_type": "code",
   "execution_count": 342,
   "metadata": {},
   "outputs": [
    {
     "name": "stdout",
     "output_type": "stream",
     "text": [
      "Mean Squared Error =  20.181568608895397\n",
      "Root Mean Squared Error =  4.4923900775528605\n"
     ]
    }
   ],
   "source": [
    "# Mean Squared Error, Root Mean Squared Error\n",
    "mse = mean_squared_error(test_set[timesteps:len(y_test)], y_test[0:len(y_test) - timesteps])\n",
    "rmse = np.sqrt(mean_squared_error(test_set[timesteps:len(y_test)], y_test[0:len(y_test) - timesteps]))\n",
    "print(\"Mean Squared Error = \", mse)\n",
    "print(\"Root Mean Squared Error = \", rmse)"
   ]
  },
  {
   "cell_type": "code",
   "execution_count": 343,
   "metadata": {},
   "outputs": [
    {
     "name": "stdout",
     "output_type": "stream",
     "text": [
      "Mean Absolute Error:  3.241388214300878\n"
     ]
    }
   ],
   "source": [
    "# Mean Absolute Error\n",
    "mae = mean_absolute_error(test_set[timesteps:len(y_test)], y_test[0:len(y_test) - timesteps])\n",
    "print(\"Mean Absolute Error: \", mae)"
   ]
  },
  {
   "cell_type": "code",
   "execution_count": 344,
   "metadata": {},
   "outputs": [
    {
     "name": "stdout",
     "output_type": "stream",
     "text": [
      "R2 Score:  0.6806537180894733\n"
     ]
    }
   ],
   "source": [
    "# R2 Score\n",
    "r2_score = r2_score(test_set[timesteps:len(y_test)], y_test[0:len(y_test) - timesteps])\n",
    "print(\"R2 Score: \",r2_score)"
   ]
  },
  {
   "cell_type": "code",
   "execution_count": 345,
   "metadata": {},
   "outputs": [],
   "source": [
    "# Save the model\n",
    "regressor_mae.save(filepath=\"my_model_with_mae_30_ts.h5\")"
   ]
  },
  {
   "cell_type": "code",
   "execution_count": null,
   "metadata": {},
   "outputs": [],
   "source": []
  }
 ],
 "metadata": {
  "kernelspec": {
   "display_name": "Python 3",
   "language": "python",
   "name": "python3"
  },
  "language_info": {
   "codemirror_mode": {
    "name": "ipython",
    "version": 3
   },
   "file_extension": ".py",
   "mimetype": "text/x-python",
   "name": "python",
   "nbconvert_exporter": "python",
   "pygments_lexer": "ipython3",
   "version": "3.7.3"
  }
 },
 "nbformat": 4,
 "nbformat_minor": 2
}
