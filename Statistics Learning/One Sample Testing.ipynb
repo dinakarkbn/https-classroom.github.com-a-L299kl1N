{
 "cells": [
  {
   "cell_type": "markdown",
   "metadata": {},
   "source": [
    "# Hypothesis Testing : One Sample t-test\n",
    "## daily intake of 11 women taken from a population of diabetic women"
   ]
  },
  {
   "cell_type": "markdown",
   "metadata": {},
   "source": [
    "- ttest_1samp : One Sample t-test, when the population distibution is assumed to be Normal\n",
    "- scipy.stats.ttest_1samp(a, popmean, axis=0, nan_policy='propagate')\n",
    "- Calculate the T-test for the mean of ONE group of scores.\n",
    "- This is a two-sided test for the null hypothesis that the expected value (mean) of a sample of independent observations a is equal to the given population mean, popmean."
   ]
  },
  {
   "cell_type": "markdown",
   "metadata": {},
   "source": [
    "- wilcoxon : # one sample wilcoxon-test, when the population distibution is not Normal\n",
    "- one sample wilcoxon-test is the same test as t-test but without the assumption of Normality\n",
    "- scipy.stats.wilcoxon(x, y=None, zero_method='wilcox', correction=False, alternative='two-sided')\n",
    "- Calculate the Wilcoxon signed-rank test.\n",
    "- The Wilcoxon signed-rank test tests the null hypothesis that two related paired samples come from the same distribution. In particular, it tests whether the distribution of the differences x - y is symmetric about zero. It is a non-parametric version of the paired T-test."
   ]
  },
  {
   "cell_type": "markdown",
   "metadata": {},
   "source": [
    "- ttest_power : Calculate the power of test\n",
    "- TTestPower.power(effect_size, nobs, alpha, df=None, alternative='two-sided')\n",
    "- Calculate the power of a t-test for one sample or paired samples."
   ]
  },
  {
   "cell_type": "code",
   "execution_count": 1,
   "metadata": {},
   "outputs": [],
   "source": [
    "import numpy as np\n",
    "import math\n",
    "import scipy.stats as stats\n",
    "from scipy.stats import ttest_1samp, wilcoxon\n",
    "from statsmodels.stats.power import ttest_power"
   ]
  },
  {
   "cell_type": "code",
   "execution_count": 2,
   "metadata": {},
   "outputs": [],
   "source": [
    "# daily intake of energy in kJ for 11 women\n",
    "\n",
    "daily_intake = np.array([5260,5470,5640,6180,6390,6515,\n",
    "                         6805,7515,7515,8230,8770])"
   ]
  },
  {
   "cell_type": "markdown",
   "metadata": {},
   "source": [
    "- daily_intake is a single sample taken out of a population of daily_intake for women.\n",
    "- The Question we are going to ask of the sample is, is it consistent with a mean of 7725\n",
    "- Women corresponding to the 'Population' from which this sample was taken are expected to have a mean calorie intake of 7725\n",
    "- **Null Hypothesis : population mean is equal to 7725**\n",
    "- **Alternate Hypothesis : population mean is not equal to 7725 (unless specified otherwise)**"
   ]
  },
  {
   "cell_type": "code",
   "execution_count": 21,
   "metadata": {},
   "outputs": [
    {
     "name": "stdout",
     "output_type": "stream",
     "text": [
      "sample mean =  6753.636363636364 \n",
      "sample stddev =  1142.1232221373727 \n",
      "std error s/sqrt(n) =  344.3631083801271\n",
      "t-statistic =  -2.8207540608310198 \n",
      "p-value =  0.018137235176105812\n"
     ]
    }
   ],
   "source": [
    "# one sample t-test\n",
    "# Zstat = (xbar - mu)/(sigma/sqrt(n))\n",
    "# tstat = (xbar - mu)/(S/sqrt(n))\n",
    "\n",
    "#sample mean (xbar)\n",
    "x1=daily_intake.mean()\n",
    "\n",
    "#sample std (S)\n",
    "#We have to use ddof=1, ie (n-1) in calculating std dev, if we want to use t-test\n",
    "#This is because, t-test formula is defined for sample stdev, wich is calculated for ddof=1\n",
    "x2=daily_intake.std(ddof=1)\n",
    "\n",
    "#std err = S/sqrt(n)\n",
    "x3=x2/math.sqrt(11)\n",
    "\n",
    "#t-statistic = (xbar - mu)/(S/sqrt(n))\n",
    "x4=(x1-7725)/x3\n",
    "\n",
    "#p-value using stats.t.cdf function.p-value =0.18\n",
    "#multiply bt 2 because we want probability in both upper tail and lower tail\n",
    "#for  normal or t-distribution, the probabilty is the area under the curve given by cdf\n",
    "#cdf = cumulative distribution function\n",
    "#for normal distribution, we use stats.norm.cdf, for t distribution we use stats.t.cdf\n",
    "#x4 is the t-statistic = -2.82\n",
    "#df =10 is the no of degrees of freedom which is n-1 where n=11\n",
    "#The formula gives the probability of the expected mean(7725)being less than -2.82 or greater than 2.82\n",
    "\n",
    "#p-value\n",
    "x5=2*stats.t.cdf(x4,df=10)\n",
    "\n",
    "print('sample mean = ',x1,'\\nsample stddev = ',x2,'\\nstd error s/sqrt(n) = ',x3)\n",
    "print('t-statistic = ',x4,'\\np-value = ',x5)"
   ]
  },
  {
   "cell_type": "code",
   "execution_count": 22,
   "metadata": {},
   "outputs": [
    {
     "name": "stdout",
     "output_type": "stream",
     "text": [
      "t-statistic =  -2.8207540608310198\n"
     ]
    }
   ],
   "source": [
    "# t-statistic that the t-test computes = -2.82 means that, \n",
    "# The mean of the sample considered, is about 2.82 standard deviations below the null hypothesis \n",
    "# or the target value of 7725\n",
    "\n",
    "print('t-statistic = ', x4)"
   ]
  },
  {
   "cell_type": "code",
   "execution_count": 4,
   "metadata": {},
   "outputs": [
    {
     "name": "stdout",
     "output_type": "stream",
     "text": [
      "0.8407405760451265 0.8413447460685429\n"
     ]
    }
   ],
   "source": [
    "print(stats.t.cdf(1,df=200),stats.norm.cdf(1))"
   ]
  },
  {
   "cell_type": "code",
   "execution_count": 23,
   "metadata": {},
   "outputs": [
    {
     "name": "stdout",
     "output_type": "stream",
     "text": [
      "t-statistic =  -2.8207540608310198 \n",
      "p-value =  0.018137235176105812\n"
     ]
    }
   ],
   "source": [
    "# one sample t-test\n",
    "# null hypothesis: expected value = 7725\n",
    "# alternate hypothesis: expected value != 7725\n",
    "\n",
    "t_statistic, p_value = ttest_1samp(daily_intake, 7725)\n",
    "print('t-statistic = ',t_statistic,'\\np-value = ',p_value)"
   ]
  },
  {
   "cell_type": "code",
   "execution_count": 24,
   "metadata": {},
   "outputs": [
    {
     "name": "stdout",
     "output_type": "stream",
     "text": [
      "one-sample t-test p-value= 0.018137235176105812\n"
     ]
    }
   ],
   "source": [
    "# level of confidence (alpha = 0.05)\n",
    "# p-value < 0.05, so we reject the Null Hypothesis\n",
    "# p_value < 0.05 => alternative hypothesis is true.\n",
    "# data deviate significantly from the hypothesis that the mean is 7725 at the 5% level of significance\n",
    "# So, we have 95% confidence to say that the alternate hypothesis is true\n",
    "#(since p-value is 0.018, we are 98.2% confidence)\n",
    "# There is enough evidence to say that the population from which these 11 women come from does not have a mean of 7725\n",
    "\n",
    "print (\"one-sample t-test p-value=\", p_value)"
   ]
  },
  {
   "cell_type": "code",
   "execution_count": 7,
   "metadata": {},
   "outputs": [
    {
     "name": "stdout",
     "output_type": "stream",
     "text": [
      "one-sample wilcoxon-test p-value 0.026157182329284684\n"
     ]
    }
   ],
   "source": [
    "# one sample wilcoxon-test\n",
    "z_statistic, p_value = wilcoxon(daily_intake - 7725)\n",
    "print (\"one-sample wilcoxon-test p-value\", p_value)\n",
    "\n",
    "#p-value < 0.05 => p-value < aplha  => Reject the Null Hypothesis\n",
    "#This the same test as t-test, but without the assumption of Normality\n",
    "#Input to wilcoxin test is sample minus the expected mean \n",
    "#This test effectively tests if the median of the sample is equal to zero.It is a test of the median\n",
    "#We use median with wilcoxon-test because, even if the distribution is not normal,\n",
    "#median still represents the middle of the distribution and dataset\n",
    "#So, In practice, we run the more powerful test assuming normality, which is the t-test,\n",
    "#then, we run the less powerful test assuming normality, which is the wilcoxon test,\n",
    "#then we check both the solutions.If the solutions are the same, we do not have any issues,since bot give same answer\n",
    "#if both methods, reject or do not reject, there is no issue, \n",
    "#but if one rejects and the other does not reject, then we see a problem and in most cases, \n",
    "#we consider the more powerful test ie, t-test"
   ]
  },
  {
   "cell_type": "code",
   "execution_count": 1,
   "metadata": {},
   "outputs": [],
   "source": [
    "#One-tail tests\n",
    "\n",
    "# Suppose the Hypothesis changes to most of the women are under nourished ,ie\n",
    "# H0 is mu >= 7725\n",
    "# H1 is mu < 7725\n",
    "# We want to prove, women are reciving intake less than 7725\n",
    "# This is a One-tail Test,(lower tail test) \n",
    "# and in this case we divide the p-value by 2, ie, p-value is p-value/2, because we want only the lower tail\n",
    "# So, in this case, the p-value < 0.05, so we reject the H0.\n",
    "# We, may argue, that if it rejects the two-tail version, it also rejects the one-tail version, which is true\n",
    "\n",
    "# Suppose the Hypothesis changes to most of the women are over nourished ,ie\n",
    "# H0 is mu < 7725\n",
    "# H1 is mu >= 7725\n",
    "# We want to prove, women are reciving intake more than 7725\n",
    "# This is a One-tail Test,(upper tail test) \n",
    "# and in this case we divide the p-value is 1 - p-value/2, because we want only the upper tail\n",
    "# The upper tail in a pdf, is obtained by subtracting 1 from the lower tail part\n",
    "# In this case p-value is >0.05, so we do not reject the H0\n",
    "# So, we do not have enough evidence to say that, mostbof the women are over nourished"
   ]
  },
  {
   "cell_type": "code",
   "execution_count": 36,
   "metadata": {},
   "outputs": [
    {
     "data": {
      "text/plain": [
       "-2.2281388519649385"
      ]
     },
     "execution_count": 36,
     "metadata": {},
     "output_type": "execute_result"
    }
   ],
   "source": [
    "#USING CRITICAL T VALUE. n-1 = 10\n",
    "#critical values for t-distribution which are calculated using book can be calculated using ppf function\n",
    "#Finding the critical value using ppf or percentile function\n",
    "#stats.t.ppf(q,df), df =10 degrees of freedom and q=cmulative probability of 0.025\n",
    "\n",
    "stats.t.ppf(0.025,10)"
   ]
  },
  {
   "cell_type": "code",
   "execution_count": 8,
   "metadata": {},
   "outputs": [
    {
     "data": {
      "text/plain": [
       "-0.8920007551395173"
      ]
     },
     "execution_count": 8,
     "metadata": {},
     "output_type": "execute_result"
    }
   ],
   "source": [
    "# Calculating Power of Test\n",
    "# Compute the difference in Means between Population and Sample and divide it by Standard Deviation\n",
    "# Set the number of Observations\n",
    "# Set the alpha value and alternative values 'two-sided' , 'larger' , 'smaller'\n",
    "\n",
    "(np.mean(daily_intake) - 7725) / np.std(daily_intake)"
   ]
  },
  {
   "cell_type": "code",
   "execution_count": 9,
   "metadata": {},
   "outputs": [
    {
     "name": "stdout",
     "output_type": "stream",
     "text": [
      "0.7600146595982609\n"
     ]
    }
   ],
   "source": [
    "print(ttest_power(-0.892, nobs=11, alpha=0.05, alternative='two-sided'))"
   ]
  },
  {
   "cell_type": "code",
   "execution_count": 30,
   "metadata": {},
   "outputs": [],
   "source": [
    "# Null Hypothesis : The mean years of experience in the class is 10\n",
    "# Alternate Hypothesis : mean not equal to 10\n",
    "# No of years of exp. population mean is 10. n=7\n",
    "years =  np.array([18,7,8,2,11,0,6])"
   ]
  },
  {
   "cell_type": "code",
   "execution_count": 31,
   "metadata": {},
   "outputs": [
    {
     "name": "stdout",
     "output_type": "stream",
     "text": [
      "t-statistic =  -1.1453125733563998\n",
      "p-value =  0.2956993893811176\n"
     ]
    }
   ],
   "source": [
    "t, p = ttest_1samp(years,10)\n",
    "print('t-statistic = ', t)\n",
    "print('p-value = ', p)"
   ]
  },
  {
   "cell_type": "code",
   "execution_count": 13,
   "metadata": {},
   "outputs": [],
   "source": [
    "# pvalue = 0.295\n",
    "# p > 0.05 , So, Do not reject H0"
   ]
  },
  {
   "cell_type": "code",
   "execution_count": 32,
   "metadata": {},
   "outputs": [
    {
     "data": {
      "text/plain": [
       "(7.428571428571429, 5.499536158548617)"
      ]
     },
     "execution_count": 32,
     "metadata": {},
     "output_type": "execute_result"
    }
   ],
   "source": [
    "years.mean(), years.std()"
   ]
  },
  {
   "cell_type": "code",
   "execution_count": 33,
   "metadata": {},
   "outputs": [],
   "source": [
    "#There is a huge amount of variability in the dataset.\n",
    "#The stddev is very high.\n",
    "#So, wen we divide (xbar-mu) by stddev, we end up with a low number.\n",
    "#The mean 7.42 is not that many std deviations from 10(The expected mean). It is not very far from expected mean\n",
    "#It is very close to expected mean, it is about 1.14 std deviations away from 10\n",
    "#Not because the difference is large, but because there is a lot of variability in the data.\n",
    "#We are unable to prove that the mean experience is not 10, because the experience in the dataset is varied a lot\n",
    "#We should get more data is reduce the variability and average that out.\n",
    "#More the variability, the more sample size is required to wash that variability out.\n",
    "\n",
    "#In the case of manufacturing the variability was very less.each cap looked vey similar, \n",
    "#so little bit of variation was only seen.But in the years of exp. case, we need more data to see more years of exp \n",
    "#as the varibility is more in the dataset.\n",
    "\n"
   ]
  },
  {
   "cell_type": "code",
   "execution_count": null,
   "metadata": {},
   "outputs": [],
   "source": []
  }
 ],
 "metadata": {
  "kernelspec": {
   "display_name": "Python 3",
   "language": "python",
   "name": "python3"
  },
  "language_info": {
   "codemirror_mode": {
    "name": "ipython",
    "version": 3
   },
   "file_extension": ".py",
   "mimetype": "text/x-python",
   "name": "python",
   "nbconvert_exporter": "python",
   "pygments_lexer": "ipython3",
   "version": "3.7.3"
  }
 },
 "nbformat": 4,
 "nbformat_minor": 2
}
